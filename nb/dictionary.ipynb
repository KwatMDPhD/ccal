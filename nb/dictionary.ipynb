{
 "cells": [
  {
   "cell_type": "code",
   "execution_count": null,
   "metadata": {
    "execution": {
     "iopub.execute_input": "2021-08-25T07:02:43.805424Z",
     "iopub.status.busy": "2021-08-25T07:02:43.804715Z",
     "iopub.status.idle": "2021-08-25T07:02:43.818934Z",
     "shell.execute_reply": "2021-08-25T07:02:43.819426Z"
    },
    "tags": []
   },
   "outputs": [],
   "source": [
    "%load_ext autoreload\n",
    "%autoreload 2"
   ]
  },
  {
   "cell_type": "code",
   "execution_count": null,
   "metadata": {
    "ExecuteTime": {
     "end_time": "2018-05-15T09:28:55.668422Z",
     "start_time": "2018-05-15T09:28:55.428950Z"
    },
    "execution": {
     "iopub.execute_input": "2021-08-25T07:02:43.823139Z",
     "iopub.status.busy": "2021-08-25T07:02:43.822543Z",
     "iopub.status.idle": "2021-08-25T07:02:44.443350Z",
     "shell.execute_reply": "2021-08-25T07:02:44.444094Z"
    }
   },
   "outputs": [],
   "source": [
    "import kwat"
   ]
  },
  {
   "cell_type": "markdown",
   "metadata": {},
   "source": [
    "## summarize"
   ]
  },
  {
   "cell_type": "code",
   "execution_count": null,
   "metadata": {
    "execution": {
     "iopub.execute_input": "2021-08-25T07:02:44.448096Z",
     "iopub.status.busy": "2021-08-25T07:02:44.447512Z",
     "iopub.status.idle": "2021-08-25T07:02:44.469288Z",
     "shell.execute_reply": "2021-08-25T07:02:44.469704Z"
    }
   },
   "outputs": [],
   "source": [
    "kwat.dictionary.summarize({\"a\": 1, \"b\": 1, \"c\": 2, \"d\": 2})"
   ]
  },
  {
   "cell_type": "markdown",
   "metadata": {},
   "source": [
    "## merge"
   ]
  },
  {
   "cell_type": "code",
   "execution_count": null,
   "metadata": {
    "execution": {
     "iopub.execute_input": "2021-08-25T07:02:44.473572Z",
     "iopub.status.busy": "2021-08-25T07:02:44.472988Z",
     "iopub.status.idle": "2021-08-25T07:02:44.492746Z",
     "shell.execute_reply": "2021-08-25T07:02:44.493232Z"
    }
   },
   "outputs": [],
   "source": [
    "di1 = {\"a\": 1, \"b\": 2}\n",
    "\n",
    "di2 = {\"b\": 3, \"c\": 4}\n",
    "\n",
    "print(kwat.dictionary.merge(di1, di2))\n",
    "\n",
    "print(kwat.dictionary.merge(di1, di2, fu=\"function({}, {})\".format))"
   ]
  }
 ],
 "metadata": {
  "kernelspec": {
   "display_name": "Python 3 (ipykernel)",
   "language": "python",
   "name": "python3"
  },
  "language_info": {
   "codemirror_mode": {
    "name": "ipython",
    "version": 3
   },
   "file_extension": ".py",
   "mimetype": "text/x-python",
   "name": "python",
   "nbconvert_exporter": "python",
   "pygments_lexer": "ipython3",
   "version": "3.9.6"
  }
 },
 "nbformat": 4,
 "nbformat_minor": 4
}
