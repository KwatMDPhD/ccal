{
 "cells": [
  {
   "cell_type": "code",
   "execution_count": null,
   "metadata": {
    "execution": {
     "iopub.execute_input": "2021-08-26T01:52:13.287337Z",
     "iopub.status.busy": "2021-08-26T01:52:13.286686Z",
     "iopub.status.idle": "2021-08-26T01:52:13.301233Z",
     "shell.execute_reply": "2021-08-26T01:52:13.301625Z"
    },
    "tags": []
   },
   "outputs": [],
   "source": [
    "%load_ext autoreload\n",
    "%autoreload 2"
   ]
  },
  {
   "cell_type": "code",
   "execution_count": null,
   "metadata": {
    "ExecuteTime": {
     "end_time": "2018-05-15T09:28:55.668422Z",
     "start_time": "2018-05-15T09:28:55.428950Z"
    },
    "execution": {
     "iopub.execute_input": "2021-08-26T01:52:13.305324Z",
     "iopub.status.busy": "2021-08-26T01:52:13.304735Z",
     "iopub.status.idle": "2021-08-26T01:52:13.966311Z",
     "shell.execute_reply": "2021-08-26T01:52:13.966676Z"
    }
   },
   "outputs": [],
   "source": [
    "import kwat"
   ]
  },
  {
   "cell_type": "markdown",
   "metadata": {},
   "source": [
    "## summarize"
   ]
  },
  {
   "cell_type": "code",
   "execution_count": null,
   "metadata": {
    "execution": {
     "iopub.execute_input": "2021-08-26T01:52:13.971982Z",
     "iopub.status.busy": "2021-08-26T01:52:13.971307Z",
     "iopub.status.idle": "2021-08-26T01:52:13.991489Z",
     "shell.execute_reply": "2021-08-26T01:52:13.991902Z"
    }
   },
   "outputs": [],
   "source": [
    "kwat.dictionary.summarize({\"a\": 1, \"b\": 1, \"c\": 2, \"d\": 2})"
   ]
  },
  {
   "cell_type": "markdown",
   "metadata": {},
   "source": [
    "## merge"
   ]
  },
  {
   "cell_type": "code",
   "execution_count": null,
   "metadata": {
    "execution": {
     "iopub.execute_input": "2021-08-26T01:52:13.995674Z",
     "iopub.status.busy": "2021-08-26T01:52:13.995175Z",
     "iopub.status.idle": "2021-08-26T01:52:14.015955Z",
     "shell.execute_reply": "2021-08-26T01:52:14.016381Z"
    }
   },
   "outputs": [],
   "source": [
    "di1 = {\"a\": 1, \"b\": 2}\n",
    "\n",
    "di2 = {\"b\": 3, \"c\": 4}\n",
    "\n",
    "print(kwat.dictionary.merge(di1, di2))\n",
    "\n",
    "print(kwat.dictionary.merge(di1, di2, fu=\"function({}, {})\".format))"
   ]
  }
 ],
 "metadata": {
  "kernelspec": {
   "display_name": "Python 3 (ipykernel)",
   "language": "python",
   "name": "python3"
  },
  "language_info": {
   "codemirror_mode": {
    "name": "ipython",
    "version": 3
   },
   "file_extension": ".py",
   "mimetype": "text/x-python",
   "name": "python",
   "nbconvert_exporter": "python",
   "pygments_lexer": "ipython3",
   "version": "3.9.6"
  }
 },
 "nbformat": 4,
 "nbformat_minor": 4
}
