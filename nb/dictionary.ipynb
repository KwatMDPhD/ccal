{
 "cells": [
  {
   "cell_type": "code",
   "execution_count": null,
   "metadata": {
    "execution": {
     "iopub.execute_input": "2021-08-23T05:58:08.260597Z",
     "iopub.status.busy": "2021-08-23T05:58:08.259969Z",
     "iopub.status.idle": "2021-08-23T05:58:08.272834Z",
     "shell.execute_reply": "2021-08-23T05:58:08.273244Z"
    },
    "tags": []
   },
   "outputs": [],
   "source": [
    "%load_ext autoreload\n",
    "%autoreload 2"
   ]
  },
  {
   "cell_type": "code",
   "execution_count": null,
   "metadata": {
    "ExecuteTime": {
     "end_time": "2018-05-15T09:28:55.668422Z",
     "start_time": "2018-05-15T09:28:55.428950Z"
    },
    "execution": {
     "iopub.execute_input": "2021-08-23T05:58:08.276846Z",
     "iopub.status.busy": "2021-08-23T05:58:08.276271Z",
     "iopub.status.idle": "2021-08-23T05:58:08.927554Z",
     "shell.execute_reply": "2021-08-23T05:58:08.927919Z"
    }
   },
   "outputs": [],
   "source": [
    "import kwat"
   ]
  },
  {
   "cell_type": "markdown",
   "metadata": {},
   "source": [
    "## summarize"
   ]
  },
  {
   "cell_type": "code",
   "execution_count": null,
   "metadata": {
    "execution": {
     "iopub.execute_input": "2021-08-23T05:58:08.931767Z",
     "iopub.status.busy": "2021-08-23T05:58:08.931228Z",
     "iopub.status.idle": "2021-08-23T05:58:08.951719Z",
     "shell.execute_reply": "2021-08-23T05:58:08.952130Z"
    }
   },
   "outputs": [],
   "source": [
    "kwat.dictionary.summarize({\"a\": 1, \"b\": 1, \"c\": 2, \"d\": 2})"
   ]
  },
  {
   "cell_type": "markdown",
   "metadata": {},
   "source": [
    "## merge"
   ]
  },
  {
   "cell_type": "code",
   "execution_count": null,
   "metadata": {
    "execution": {
     "iopub.execute_input": "2021-08-23T05:58:08.955721Z",
     "iopub.status.busy": "2021-08-23T05:58:08.955150Z",
     "iopub.status.idle": "2021-08-23T05:58:08.975507Z",
     "shell.execute_reply": "2021-08-23T05:58:08.975964Z"
    }
   },
   "outputs": [],
   "source": [
    "di1 = {\"a\": 1, \"b\": 2}\n",
    "\n",
    "di2 = {\"b\": 3, \"c\": 4}\n",
    "\n",
    "print(kwat.dictionary.merge(di1, di2))\n",
    "\n",
    "print(kwat.dictionary.merge(di1, di2, fu=\"function({}, {})\".format))"
   ]
  }
 ],
 "metadata": {
  "kernelspec": {
   "display_name": "Python 3 (ipykernel)",
   "language": "python",
   "name": "python3"
  },
  "language_info": {
   "codemirror_mode": {
    "name": "ipython",
    "version": 3
   },
   "file_extension": ".py",
   "mimetype": "text/x-python",
   "name": "python",
   "nbconvert_exporter": "python",
   "pygments_lexer": "ipython3",
   "version": "3.9.6"
  }
 },
 "nbformat": 4,
 "nbformat_minor": 4
}
