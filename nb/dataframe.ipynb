{
 "cells": [
  {
   "cell_type": "code",
   "execution_count": 1,
   "id": "00d594ef-630f-4e79-87a0-8f1adf96399a",
   "metadata": {
    "tags": []
   },
   "outputs": [],
   "source": [
    "%load_ext autoreload\n",
    "%autoreload 2"
   ]
  },
  {
   "cell_type": "code",
   "execution_count": 2,
   "id": "42c98d35-aefa-47f3-bc10-0f165a476ab6",
   "metadata": {
    "tags": []
   },
   "outputs": [
    {
     "ename": "ModuleNotFoundError",
     "evalue": "No module named 'kwat.dataframe.CONSTANT'",
     "output_type": "error",
     "traceback": [
      "\u001b[0;31m---------------------------------------------------------------------------\u001b[0m",
      "\u001b[0;31mModuleNotFoundError\u001b[0m                       Traceback (most recent call last)",
      "\u001b[0;32m/var/folders/8m/l8lb7bqd1bd0c6njv30t2zdc0000gn/T/ipykernel_55297/3667996140.py\u001b[0m in \u001b[0;36m<module>\u001b[0;34m\u001b[0m\n\u001b[0;32m----> 1\u001b[0;31m \u001b[0;32mimport\u001b[0m \u001b[0mkwat\u001b[0m\u001b[0;34m\u001b[0m\u001b[0;34m\u001b[0m\u001b[0m\n\u001b[0m",
      "\u001b[0;32m~/code/tool/kwat.py/kwat/__init__.py\u001b[0m in \u001b[0;36m<module>\u001b[0;34m\u001b[0m\n\u001b[0;32m----> 1\u001b[0;31m from . import (\n\u001b[0m\u001b[1;32m      2\u001b[0m     \u001b[0mdataframe\u001b[0m\u001b[0;34m,\u001b[0m\u001b[0;34m\u001b[0m\u001b[0;34m\u001b[0m\u001b[0m\n\u001b[1;32m      3\u001b[0m     \u001b[0marray\u001b[0m\u001b[0;34m,\u001b[0m\u001b[0;34m\u001b[0m\u001b[0;34m\u001b[0m\u001b[0m\n\u001b[1;32m      4\u001b[0m     \u001b[0marray_array\u001b[0m\u001b[0;34m,\u001b[0m\u001b[0;34m\u001b[0m\u001b[0;34m\u001b[0m\u001b[0m\n\u001b[1;32m      5\u001b[0m     \u001b[0mcell_line\u001b[0m\u001b[0;34m,\u001b[0m\u001b[0;34m\u001b[0m\u001b[0;34m\u001b[0m\u001b[0m\n",
      "\u001b[0;32m~/code/tool/kwat.py/kwat/dataframe/__init__.py\u001b[0m in \u001b[0;36m<module>\u001b[0;34m\u001b[0m\n\u001b[1;32m      3\u001b[0m \u001b[0;32mfrom\u001b[0m \u001b[0mpandas\u001b[0m \u001b[0;32mimport\u001b[0m \u001b[0mDataFrame\u001b[0m\u001b[0;34m,\u001b[0m \u001b[0mIndex\u001b[0m\u001b[0;34m,\u001b[0m \u001b[0mnotna\u001b[0m\u001b[0;34m\u001b[0m\u001b[0;34m\u001b[0m\u001b[0m\n\u001b[1;32m      4\u001b[0m \u001b[0;34m\u001b[0m\u001b[0m\n\u001b[0;32m----> 5\u001b[0;31m \u001b[0;32mfrom\u001b[0m \u001b[0;34m.\u001b[0m\u001b[0mCONSTANT\u001b[0m \u001b[0;32mimport\u001b[0m \u001b[0mRANDOM_SEED\u001b[0m\u001b[0;34m\u001b[0m\u001b[0;34m\u001b[0m\u001b[0m\n\u001b[0m\u001b[1;32m      6\u001b[0m \u001b[0;32mfrom\u001b[0m \u001b[0;34m.\u001b[0m\u001b[0miterable\u001b[0m \u001b[0;32mimport\u001b[0m \u001b[0mmap_integer\u001b[0m\u001b[0;34m\u001b[0m\u001b[0;34m\u001b[0m\u001b[0m\n\u001b[1;32m      7\u001b[0m \u001b[0;34m\u001b[0m\u001b[0m\n",
      "\u001b[0;31mModuleNotFoundError\u001b[0m: No module named 'kwat.dataframe.CONSTANT'"
     ]
    }
   ],
   "source": [
    "import kwat"
   ]
  },
  {
   "cell_type": "code",
   "execution_count": null,
   "id": "e02aa32f-3225-471e-9844-f33cc9c08b29",
   "metadata": {
    "tags": []
   },
   "outputs": [],
   "source": [
    "import numpy as np\n",
    "import pandas as pd"
   ]
  },
  {
   "cell_type": "markdown",
   "id": "854e75b0-10b5-4c1e-9feb-6c622019a654",
   "metadata": {},
   "source": [
    "## error"
   ]
  },
  {
   "cell_type": "code",
   "execution_count": null,
   "id": "4f5d3703-345e-4474-9ac2-ea4c04ba9592",
   "metadata": {
    "execution": {
     "iopub.execute_input": "2021-07-23T23:07:03.075353Z",
     "iopub.status.busy": "2021-07-23T23:07:03.074701Z",
     "iopub.status.idle": "2021-07-23T23:07:03.105610Z",
     "shell.execute_reply": "2021-07-23T23:07:03.105017Z"
    },
    "tags": []
   },
   "outputs": [],
   "source": [
    "for an_ in [\n",
    "    [1, 2],\n",
    "    [1, None],\n",
    "    [1, np.nan],\n",
    "    [\"a\", \"b\"],\n",
    "    [\"a\", None],\n",
    "    [\"a\", np.nan],\n",
    "    [\"a\", \"b\", \"b\"],\n",
    "    [\"a\", \"\", \"\"],\n",
    "]:\n",
    "\n",
    "    print()\n",
    "\n",
    "    print(an_)\n",
    "\n",
    "    la_ = pd.Index(an_, name=\"Name\")\n",
    "\n",
    "    for ta in [pd.DataFrame(None, la_), pd.DataFrame(None, None, la_)]:\n",
    "\n",
    "        try:\n",
    "\n",
    "            kwat.dataframe.error(ta)\n",
    "\n",
    "        except AssertionError as er:\n",
    "\n",
    "            print(er)"
   ]
  },
  {
   "cell_type": "markdown",
   "id": "231a0f1f-f0c5-4430-b55e-e5eb5063a246",
   "metadata": {},
   "source": [
    "## count"
   ]
  },
  {
   "cell_type": "code",
   "execution_count": null,
   "id": "99d1eb22-f8e9-433a-8502-fb0ed6e02722",
   "metadata": {
    "execution": {
     "iopub.execute_input": "2021-07-23T23:07:03.109232Z",
     "iopub.status.busy": "2021-07-23T23:07:03.108590Z",
     "iopub.status.idle": "2021-07-23T23:07:03.133622Z",
     "shell.execute_reply": "2021-07-23T23:07:03.134073Z"
    },
    "tags": []
   },
   "outputs": [],
   "source": [
    "ta = pd.DataFrame(np.random.choice(list(\"ABC\"), [8, 2]))\n",
    "\n",
    "print(ta)\n",
    "\n",
    "kwat.dataframe.count(ta)"
   ]
  },
  {
   "cell_type": "markdown",
   "id": "29dee8a1-af32-46b0-a87f-dd87fc175df3",
   "metadata": {},
   "source": [
    "## sync"
   ]
  },
  {
   "cell_type": "code",
   "execution_count": null,
   "id": "82f8466d-4684-43e1-8e90-d195ecf2c7b1",
   "metadata": {
    "execution": {
     "iopub.execute_input": "2021-07-23T23:07:03.138753Z",
     "iopub.status.busy": "2021-07-23T23:07:03.138168Z",
     "iopub.status.idle": "2021-07-23T23:07:03.167185Z",
     "shell.execute_reply": "2021-07-23T23:07:03.167652Z"
    },
    "tags": []
   },
   "outputs": [],
   "source": [
    "da1 = pd.DataFrame(1, index=[8, -1, 0, 1], columns=[\"A\", \"B\", \"K\"])\n",
    "\n",
    "da2 = pd.DataFrame(2, index=[1, 8, 2, 3], columns=[\"B\", \"K\", \"C\"])\n",
    "\n",
    "da3 = pd.DataFrame(3, index=[3, 4, 8, 5], columns=[\"K\", \"C\", \"D\"])\n",
    "\n",
    "for ax in [0, 1]:\n",
    "\n",
    "    print()\n",
    "\n",
    "    for da in kwat.dataframe.sync([da1, da2, da3], ax):\n",
    "\n",
    "        print()\n",
    "\n",
    "        print(da)"
   ]
  },
  {
   "cell_type": "markdown",
   "id": "b17e097f-9252-44d1-b63a-9a82fb5035ce",
   "metadata": {},
   "source": [
    "## drop*"
   ]
  },
  {
   "cell_type": "code",
   "execution_count": null,
   "id": "4dc3c0d1-8758-40ad-8339-0c74b58d737c",
   "metadata": {
    "execution": {
     "iopub.execute_input": "2021-07-23T23:07:03.171501Z",
     "iopub.status.busy": "2021-07-23T23:07:03.170855Z",
     "iopub.status.idle": "2021-07-23T23:07:03.204646Z",
     "shell.execute_reply": "2021-07-23T23:07:03.205123Z"
    },
    "tags": []
   },
   "outputs": [],
   "source": [
    "da = pd.DataFrame(np.random.randint(0, 4, [10, 10]), dtype=str)\n",
    "\n",
    "for ie in range(da.shape[0]):\n",
    "\n",
    "    da.iloc[ie, :ie] = None\n",
    "\n",
    "da"
   ]
  },
  {
   "cell_type": "markdown",
   "id": "ae8d3de4-210b-4f0a-9d66-b0681472c2ea",
   "metadata": {},
   "source": [
    "## drop"
   ]
  },
  {
   "cell_type": "code",
   "execution_count": null,
   "id": "2de937d7-0e8e-4f8b-89b8-cded94af321e",
   "metadata": {
    "execution": {
     "iopub.execute_input": "2021-07-23T23:07:03.209343Z",
     "iopub.status.busy": "2021-07-23T23:07:03.208766Z",
     "iopub.status.idle": "2021-07-23T23:07:03.262937Z",
     "shell.execute_reply": "2021-07-23T23:07:03.263400Z"
    },
    "tags": []
   },
   "outputs": [],
   "source": [
    "for ax in [0, 1]:\n",
    "\n",
    "    for n_no in [None, 5, 6]:\n",
    "\n",
    "        for n_un in [None, 4]:\n",
    "\n",
    "            if n_no == n_un:\n",
    "\n",
    "                continue\n",
    "\n",
    "            print()\n",
    "\n",
    "            print(ax, n_no, n_un)\n",
    "\n",
    "            print(\n",
    "                kwat.dataframe.drop(\n",
    "                    da,\n",
    "                    ax,\n",
    "                    n_no=n_no,\n",
    "                    n_un=n_un,\n",
    "                )\n",
    "            )"
   ]
  },
  {
   "cell_type": "markdown",
   "id": "deaf6ede-ddaa-42b7-9961-90d09fef878d",
   "metadata": {},
   "source": [
    "## drop_until "
   ]
  },
  {
   "cell_type": "code",
   "execution_count": null,
   "id": "bf190fda-2d48-459b-83d8-ad047547d2ab",
   "metadata": {
    "execution": {
     "iopub.execute_input": "2021-07-23T23:07:03.267711Z",
     "iopub.status.busy": "2021-07-23T23:07:03.267101Z",
     "iopub.status.idle": "2021-07-23T23:07:03.345387Z",
     "shell.execute_reply": "2021-07-23T23:07:03.345987Z"
    },
    "tags": []
   },
   "outputs": [],
   "source": [
    "for n_no in [None, 3, 4]:\n",
    "\n",
    "    for n_un in [None, 2]:\n",
    "\n",
    "        if n_no == n_un:\n",
    "\n",
    "            continue\n",
    "\n",
    "        for ax in [0, 1]:\n",
    "\n",
    "            print()\n",
    "\n",
    "            print(ax, n_no, n_un)\n",
    "\n",
    "            print(\n",
    "                kwat.dataframe.drop_until(\n",
    "                    da,\n",
    "                    ax=ax,\n",
    "                    n_no=n_no,\n",
    "                    n_un=n_un,\n",
    "                )\n",
    "            )"
   ]
  },
  {
   "cell_type": "markdown",
   "id": "e85dfdd5-66b8-40a5-b086-16e73d8846d8",
   "metadata": {},
   "source": [
    "## sample"
   ]
  },
  {
   "cell_type": "code",
   "execution_count": null,
   "id": "87782811-ac13-4876-9d25-e26725a0f259",
   "metadata": {
    "execution": {
     "iopub.execute_input": "2021-07-23T23:07:03.350578Z",
     "iopub.status.busy": "2021-07-23T23:07:03.349902Z",
     "iopub.status.idle": "2021-07-23T23:07:03.383368Z",
     "shell.execute_reply": "2021-07-23T23:07:03.383795Z"
    },
    "tags": []
   },
   "outputs": [],
   "source": [
    "da = pd.DataFrame(np.full([10, 8], \"\"))\n",
    "\n",
    "for sh in [\n",
    "    [1, None],\n",
    "    [None, 1],\n",
    "    [1, 1],\n",
    "    [2, 2],\n",
    "    [0.5, 0.5],\n",
    "]:\n",
    "\n",
    "    print()\n",
    "\n",
    "    print(sh)\n",
    "\n",
    "    print(kwat.dataframe.sample(da, sh))"
   ]
  },
  {
   "cell_type": "markdown",
   "id": "d0d3379f-a7b8-4cec-b85c-3f00e3a7a0ea",
   "metadata": {},
   "source": [
    "## map_to"
   ]
  },
  {
   "cell_type": "code",
   "execution_count": null,
   "id": "33094b4b-4dc8-4622-a45c-8f104f4b8199",
   "metadata": {
    "execution": {
     "iopub.execute_input": "2021-07-23T23:07:03.387862Z",
     "iopub.status.busy": "2021-07-23T23:07:03.387283Z",
     "iopub.status.idle": "2021-07-23T23:07:03.410650Z",
     "shell.execute_reply": "2021-07-23T23:07:03.411109Z"
    },
    "tags": []
   },
   "outputs": [],
   "source": [
    "n_ro = 4\n",
    "\n",
    "ta = pd.DataFrame(\n",
    "    {\n",
    "        \"Dad\": [\"Kw{}\".format(ie) for ie in range(n_ro)],\n",
    "        \"Mo\": [\"Ka{}\".format(ie) for ie in range(n_ro)],\n",
    "        \"Ch1\": [\"Ay{}\".format(ie) for ie in range(n_ro)],\n",
    "    }\n",
    ")\n",
    "\n",
    "kwat.dataframe.map_to(ta, \"Mo\")"
   ]
  },
  {
   "cell_type": "markdown",
   "id": "f1c5700f-60dc-4747-852a-77f8f9e05329",
   "metadata": {},
   "source": [
    "## pivot"
   ]
  },
  {
   "cell_type": "code",
   "execution_count": null,
   "id": "28874f63-615a-4440-9bfc-6ed9b5d0fdee",
   "metadata": {
    "execution": {
     "iopub.execute_input": "2021-07-23T23:07:03.416172Z",
     "iopub.status.busy": "2021-07-23T23:07:03.415600Z",
     "iopub.status.idle": "2021-07-23T23:07:03.441986Z",
     "shell.execute_reply": "2021-07-23T23:07:03.442396Z"
    },
    "tags": []
   },
   "outputs": [],
   "source": [
    "ta = np.array(\n",
    "    [\n",
    "        [\"A1\", \"B1\", 0],\n",
    "        [\"A1\", \"B1\", -1],\n",
    "        [\"A1\", \"B2\", 1],\n",
    "        [\"A1\", \"B3\", 3],\n",
    "        [\"A1\", \"B3\", None],\n",
    "        [\"A2\", \"B1\", 4],\n",
    "        [\"A2\", \"B2\", 5],\n",
    "        [\"A2\", \"B3\", 7],\n",
    "        [\"A2\", \"B3\", np.nan],\n",
    "    ]\n",
    ")\n",
    "\n",
    "\n",
    "def get_max(nu1, nu2):\n",
    "\n",
    "    return np.max([nu1, nu2])\n",
    "\n",
    "\n",
    "for fu in [None, max, get_max]:\n",
    "\n",
    "    print()\n",
    "\n",
    "    print(fu)\n",
    "\n",
    "    print(\n",
    "        kwat.dataframe.pivot(\n",
    "            ta[:, 0], ta[:, 1], ta[:, 2].astype(float), na1=\"A\", na2=\"B\", fu=fu\n",
    "        )\n",
    "    )"
   ]
  }
 ],
 "metadata": {
  "kernelspec": {
   "display_name": "Python 3 (ipykernel)",
   "language": "python",
   "name": "python3"
  },
  "language_info": {
   "codemirror_mode": {
    "name": "ipython",
    "version": 3
   },
   "file_extension": ".py",
   "mimetype": "text/x-python",
   "name": "python",
   "nbconvert_exporter": "python",
   "pygments_lexer": "ipython3",
   "version": "3.9.6"
  }
 },
 "nbformat": 4,
 "nbformat_minor": 5
}
