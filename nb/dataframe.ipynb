{
 "cells": [
  {
   "outputs": [],
   "cell_type": "code",
   "source": [
    "%load_ext autoreload\n",
    "%autoreload 2"
   ],
   "id": "00d594ef-630f-4e79-87a0-8f1adf96399a",
   "metadata": {},
   "execution_count": null
  },
  {
   "outputs": [],
   "cell_type": "code",
   "source": [
    "import kwat"
   ],
   "id": "42c98d35-aefa-47f3-bc10-0f165a476ab6",
   "metadata": {},
   "execution_count": null
  },
  {
   "outputs": [],
   "cell_type": "code",
   "source": [
    "import numpy as np\n",
    "import pandas as pd"
   ],
   "id": "e02aa32f-3225-471e-9844-f33cc9c08b29",
   "metadata": {},
   "execution_count": null
  },
  {
   "cell_type": "markdown",
   "source": [
    "## count"
   ],
   "id": "d0b89cff-da34-43bc-9b45-48bd4baf62c0",
   "metadata": {}
  },
  {
   "outputs": [],
   "cell_type": "code",
   "source": [
    "ta = pd.DataFrame(np.random.choice(list(\"ABC\"), [8, 2]))\n",
    "\n",
    "print(ta)\n",
    "\n",
    "kwat.dataframe.count(ta)"
   ],
   "id": "75e91b5e-10f3-4763-a5f7-d6d33cd8374c",
   "metadata": {},
   "execution_count": null
  },
  {
   "cell_type": "markdown",
   "source": [
    "## drop*"
   ],
   "id": "fb08dbd0-2f70-4d2a-a383-549011cd551c",
   "metadata": {}
  },
  {
   "outputs": [],
   "cell_type": "code",
   "source": [
    "da = pd.DataFrame(np.random.randint(0, 4, [10, 10]), dtype=str)\n",
    "\n",
    "for ie in range(da.shape[0]):\n",
    "    da.iloc[ie, :ie] = None\n",
    "\n",
    "da"
   ],
   "id": "a9c1d4fd-c9ef-4bef-a410-5d84e3c531e7",
   "metadata": {},
   "execution_count": null
  },
  {
   "cell_type": "markdown",
   "source": [
    "## drop"
   ],
   "id": "ae054e5b-0a6f-4f91-9ee3-0032bfabff29",
   "metadata": {}
  },
  {
   "outputs": [],
   "cell_type": "code",
   "source": [
    "for ax in [0, 1]:\n",
    "    for n_no in [None, 5, 6]:\n",
    "        for n_un in [None, 4]:\n",
    "            if n_no == n_un:\n",
    "                continue\n",
    "\n",
    "            print()\n",
    "\n",
    "            print(ax, n_no, n_un)\n",
    "\n",
    "            print(kwat.dataframe.drop(da, ax, n_no=n_no, n_un=n_un))"
   ],
   "id": "0dffd424-34e6-48ec-ad2c-bd991b103c51",
   "metadata": {},
   "execution_count": null
  },
  {
   "cell_type": "markdown",
   "source": [
    "## drop_while "
   ],
   "id": "19e289f3-725a-4c92-9bfb-dbf299de07c0",
   "metadata": {}
  },
  {
   "outputs": [],
   "cell_type": "code",
   "source": [
    "for n_no in [None, 3, 4]:\n",
    "    for n_un in [None, 2]:\n",
    "        if n_no == n_un:\n",
    "            continue\n",
    "\n",
    "        for ax in [0, 1]:\n",
    "            print()\n",
    "\n",
    "            print(ax, n_no, n_un)\n",
    "\n",
    "            print(kwat.dataframe.drop_while(da, ax=ax, n_no=n_no, n_un=n_un))"
   ],
   "id": "f1aa347b-c531-410a-8fa6-3f445a328b95",
   "metadata": {},
   "execution_count": null
  },
  {
   "cell_type": "markdown",
   "source": [
    "## error"
   ],
   "id": "854e75b0-10b5-4c1e-9feb-6c622019a654",
   "metadata": {}
  },
  {
   "outputs": [],
   "cell_type": "code",
   "source": [
    "for an_ in [\n",
    "    [1, 2],\n",
    "    [1, None],\n",
    "    [1, np.nan],\n",
    "    [\"a\", \"b\"],\n",
    "    [\"a\", None],\n",
    "    [\"a\", np.nan],\n",
    "    [\"a\", \"b\", \"b\"],\n",
    "    [\"a\", \"\", \"\"],\n",
    "]:\n",
    "    print()\n",
    "\n",
    "    print(an_)\n",
    "\n",
    "    la_ = pd.Index(an_, name=\"Name\")\n",
    "\n",
    "    for ta in [pd.DataFrame(None, la_), pd.DataFrame(None, None, la_)]:\n",
    "        try:\n",
    "            kwat.dataframe.error(ta)\n",
    "\n",
    "        except AssertionError as er:\n",
    "            print(er)"
   ],
   "id": "4f5d3703-345e-4474-9ac2-ea4c04ba9592",
   "metadata": {},
   "execution_count": null
  },
  {
   "cell_type": "markdown",
   "source": [
    "## map_to"
   ],
   "id": "d4dd4552-22a0-4cf9-bf0e-11a6ecfbd596",
   "metadata": {}
  },
  {
   "outputs": [],
   "cell_type": "code",
   "source": [
    "n_ro = 4\n",
    "\n",
    "ta = pd.DataFrame(\n",
    "    {\n",
    "        \"Dad\": [\"Kw{}\".format(ie) for ie in range(n_ro)],\n",
    "        \"Mo\": [\"Ka{}\".format(ie) for ie in range(n_ro)],\n",
    "        \"Ch1\": [\"Ay{}\".format(ie) for ie in range(n_ro)],\n",
    "    }\n",
    ")\n",
    "\n",
    "kwat.dataframe.map_to(ta, \"Mo\")"
   ],
   "id": "1e7c29f2-ebe1-4ed2-b6ab-5e6c6b040b70",
   "metadata": {},
   "execution_count": null
  },
  {
   "cell_type": "markdown",
   "source": [
    "## pivot"
   ],
   "id": "f6b4f6d5-1f96-4d44-9f90-f797dd00a743",
   "metadata": {}
  },
  {
   "outputs": [],
   "cell_type": "code",
   "source": [
    "ta = np.array(\n",
    "    [\n",
    "        [\"A1\", \"B1\", 0],\n",
    "        [\"A1\", \"B1\", -1],\n",
    "        [\"A1\", \"B2\", 1],\n",
    "        [\"A1\", \"B3\", 3],\n",
    "        [\"A1\", \"B3\", None],\n",
    "        [\"A2\", \"B1\", 4],\n",
    "        [\"A2\", \"B2\", 5],\n",
    "        [\"A2\", \"B3\", 7],\n",
    "        [\"A2\", \"B3\", np.nan],\n",
    "    ]\n",
    ")\n",
    "\n",
    "\n",
    "def get_max(nu1, nu2):\n",
    "    return np.max([nu1, nu2])\n",
    "\n",
    "\n",
    "for fu in [None, max, get_max]:\n",
    "    print()\n",
    "\n",
    "    print(fu)\n",
    "\n",
    "    print(\n",
    "        kwat.dataframe.pivot(\n",
    "            ta[:, 0], ta[:, 1], ta[:, 2].astype(float), na1=\"A\", na2=\"B\", fu=fu\n",
    "        )\n",
    "    )"
   ],
   "id": "3110b5c7-494b-489f-9656-4b4d75eb1929",
   "metadata": {},
   "execution_count": null
  },
  {
   "cell_type": "markdown",
   "source": [
    "## sample"
   ],
   "id": "e85dfdd5-66b8-40a5-b086-16e73d8846d8",
   "metadata": {}
  },
  {
   "outputs": [],
   "cell_type": "code",
   "source": [
    "da = pd.DataFrame(np.full([10, 8], \"\"))\n",
    "\n",
    "for sh in [[1, None], [None, 1], [1, 1], [2, 2], [0.5, 0.5]]:\n",
    "    print()\n",
    "\n",
    "    print(sh)\n",
    "\n",
    "    print(kwat.dataframe.sample(da, sh))"
   ],
   "id": "87782811-ac13-4876-9d25-e26725a0f259",
   "metadata": {},
   "execution_count": null
  },
  {
   "cell_type": "markdown",
   "source": [
    "## sync"
   ],
   "id": "65e130e7-9ddb-4802-b7e9-ba5c219b16f1",
   "metadata": {}
  },
  {
   "outputs": [],
   "cell_type": "code",
   "source": [
    "da1 = pd.DataFrame(1, index=[8, -1, 0, 1], columns=[\"A\", \"B\", \"K\"])\n",
    "\n",
    "da2 = pd.DataFrame(2, index=[1, 8, 2, 3], columns=[\"B\", \"K\", \"C\"])\n",
    "\n",
    "da3 = pd.DataFrame(3, index=[3, 4, 8, 5], columns=[\"K\", \"C\", \"D\"])\n",
    "\n",
    "for ax in [0, 1]:\n",
    "    print()\n",
    "\n",
    "    for da in kwat.dataframe.sync([da1, da2, da3], ax):\n",
    "        print()\n",
    "\n",
    "        print(da)"
   ],
   "id": "a0f31c12-b41b-461b-beea-5f2e75dac2f3",
   "metadata": {},
   "execution_count": null
  }
 ],
 "nbformat_minor": 5,
 "metadata": {
  "language_info": {
   "file_extension": ".py",
   "mimetype": "text/x-python",
   "name": "python",
   "nbconvert_exporter": "python",
   "pygments_lexer": "ipython3",
   "codemirror_mode": {
    "name": "ipython",
    "version": 3
   },
   "version": "3.9.6"
  },
  "kernelspec": {
   "name": "python3",
   "display_name": "Python 3 (ipykernel)",
   "language": "python"
  }
 },
 "nbformat": 4
}
