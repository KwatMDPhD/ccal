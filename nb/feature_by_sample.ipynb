{
 "cells": [
  {
   "outputs": [],
   "cell_type": "code",
   "source": [
    "%load_ext autoreload\n",
    "%autoreload 2"
   ],
   "id": "00d594ef-630f-4e79-87a0-8f1adf96399a",
   "metadata": {},
   "execution_count": null
  },
  {
   "outputs": [],
   "cell_type": "code",
   "source": [
    "import kwat\n",
    "import numpy as np\n",
    "import pandas as pd"
   ],
   "id": "4bfe5e3e-f1c1-4981-b280-8cbd2cb9ef21",
   "metadata": {},
   "execution_count": null
  },
  {
   "cell_type": "markdown",
   "source": [
    "## collapse"
   ],
   "id": "e35e7d28-c3ab-4e15-80f0-76ad239aaea3",
   "metadata": {}
  },
  {
   "outputs": [],
   "cell_type": "code",
   "source": [
    "nu_fe_sa = pd.DataFrame(\n",
    "    [[1] * 3, [2] * 3, [3] * 3, [4] * 3, [5, np.nan, None], [6] * 3],\n",
    "    [\"A\", \"A\", \"A\", \"B\", \"B\", \"C\"],\n",
    ")\n",
    "\n",
    "kwat.feature_by_sample.collapse(nu_fe_sa)"
   ],
   "id": "2a75edda-3468-4ed9-9874-3c7b72b17aac",
   "metadata": {},
   "execution_count": null
  },
  {
   "cell_type": "markdown",
   "source": [
    "## summarize"
   ],
   "id": "0ae3ee4c-fd8b-4c41-98ef-42e72e99fe2e",
   "metadata": {}
  },
  {
   "outputs": [],
   "cell_type": "code",
   "source": [
    "for si in [[3, 4], [1000, 1000]]:\n",
    "    nu_fe_sa = pd.DataFrame(\n",
    "        np.random.normal(size=si),\n",
    "        (\"Ka{}\".format(ie) for ie in range(si[0])),\n",
    "        (\"Kw{}\".format(ie) for ie in range(si[1])),\n",
    "    )\n",
    "\n",
    "    nu_fe_sa.index.name = \"Dimension 1\"\n",
    "\n",
    "    nu_fe_sa.columns.name = \"Dimension 2\"\n",
    "\n",
    "    nu_fe_sa.iloc[::2, ::3] = np.nan\n",
    "\n",
    "    kwat.feature_by_sample.summarize(nu_fe_sa)"
   ],
   "id": "24708a2e-6599-4b06-af5b-88e324763806",
   "metadata": {},
   "execution_count": null
  },
  {
   "cell_type": "markdown",
   "source": [
    "## process"
   ],
   "id": "6be4dd86-b312-43bb-83e3-886f8230b840",
   "metadata": {}
  },
  {
   "outputs": [],
   "cell_type": "code",
   "source": [
    "kwat.feature_by_sample.process"
   ],
   "id": "40fb1fa1-333b-4fa0-a114-a2d6ab0c5f5e",
   "metadata": {},
   "execution_count": null
  },
  {
   "cell_type": "markdown",
   "source": [
    "## separate"
   ],
   "id": "40782965-6971-4c9b-ae02-dc9c3dc674b2",
   "metadata": {}
  },
  {
   "outputs": [],
   "cell_type": "code",
   "source": [
    "si1 = 2\n",
    "\n",
    "si2 = 4\n",
    "\n",
    "co = pd.DataFrame(\n",
    "    np.random.normal(size=[si1, si2]), (\"Co{}\".format(ie) for ie in range(si1))\n",
    ")\n",
    "\n",
    "co.iloc[0, 0] = np.nan\n",
    "\n",
    "ca = pd.DataFrame(\n",
    "    np.random.randint(3, size=[si1, si2]), (\"Ca{}\".format(ie) for ie in range(si1))\n",
    ")\n",
    "\n",
    "ca.iloc[0, 1] = np.nan\n",
    "\n",
    "bi = pd.DataFrame(\n",
    "    np.random.randint(2, size=[si1, si2]), (\"Bi{}\".format(ie) for ie in range(si1))\n",
    ")\n",
    "\n",
    "bi.iloc[0, 2] = np.nan\n",
    "\n",
    "nu_fe_sa = pd.concat([co, ca, bi])\n",
    "\n",
    "nu_fe_sa.loc[\"Constant\"] = [8] * si2\n",
    "\n",
    "nu_fe_sa.columns = (\"Sa{}\".format(ie) for ie in range(si2))\n",
    "\n",
    "nu_fe_sa.index.name = \"Feature\"\n",
    "\n",
    "nu_fe_sa.columns.name = \"Sample\"\n",
    "\n",
    "nu_fe_sa"
   ],
   "id": "000f1117-fad7-46af-aedd-43705cccd6c7",
   "metadata": {},
   "execution_count": null
  },
  {
   "outputs": [],
   "cell_type": "code",
   "source": [
    "co_fe_sa, bi_fe_sa = kwat.feature_by_sample.separate(nu_fe_sa)"
   ],
   "id": "8f515263-a1c0-4ff8-8a1d-1e7be10ccd2a",
   "metadata": {},
   "execution_count": null
  },
  {
   "outputs": [],
   "cell_type": "code",
   "source": [
    "co_fe_sa"
   ],
   "id": "f831a6d4-796c-47a7-82b2-77e20fe990d4",
   "metadata": {},
   "execution_count": null
  },
  {
   "outputs": [],
   "cell_type": "code",
   "source": [
    "bi_fe_sa"
   ],
   "id": "cc02b6e0-0222-454f-ad75-ad9b76391510",
   "metadata": {},
   "execution_count": null
  }
 ],
 "nbformat_minor": 5,
 "metadata": {
  "language_info": {
   "file_extension": ".py",
   "mimetype": "text/x-python",
   "name": "python",
   "nbconvert_exporter": "python",
   "pygments_lexer": "ipython3",
   "codemirror_mode": {
    "name": "ipython",
    "version": 3
   },
   "version": "3.9.6"
  },
  "kernelspec": {
   "name": "python3",
   "display_name": "Python 3 (ipykernel)",
   "language": "python"
  }
 },
 "nbformat": 4
}
