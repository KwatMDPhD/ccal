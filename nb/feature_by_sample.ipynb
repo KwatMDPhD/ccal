{
 "cells": [
  {
   "cell_type": "code",
   "execution_count": null,
   "id": "00d594ef-630f-4e79-87a0-8f1adf96399a",
   "metadata": {
    "execution": {
     "iopub.execute_input": "2021-08-23T05:58:10.916406Z",
     "iopub.status.busy": "2021-08-23T05:58:10.915630Z",
     "iopub.status.idle": "2021-08-23T05:58:10.929502Z",
     "shell.execute_reply": "2021-08-23T05:58:10.929886Z"
    },
    "tags": []
   },
   "outputs": [],
   "source": [
    "%load_ext autoreload\n",
    "%autoreload 2"
   ]
  },
  {
   "cell_type": "code",
   "execution_count": null,
   "id": "42c98d35-aefa-47f3-bc10-0f165a476ab6",
   "metadata": {
    "execution": {
     "iopub.execute_input": "2021-08-23T05:58:10.934035Z",
     "iopub.status.busy": "2021-08-23T05:58:10.933257Z",
     "iopub.status.idle": "2021-08-23T05:58:11.594069Z",
     "shell.execute_reply": "2021-08-23T05:58:11.594445Z"
    },
    "tags": []
   },
   "outputs": [],
   "source": [
    "import kwat"
   ]
  },
  {
   "cell_type": "code",
   "execution_count": null,
   "id": "231b6268-abc7-4d1a-95db-6fa5edce059a",
   "metadata": {
    "execution": {
     "iopub.execute_input": "2021-08-23T05:58:11.597732Z",
     "iopub.status.busy": "2021-08-23T05:58:11.597209Z",
     "iopub.status.idle": "2021-08-23T05:58:11.616093Z",
     "shell.execute_reply": "2021-08-23T05:58:11.616545Z"
    },
    "tags": []
   },
   "outputs": [],
   "source": [
    "import numpy as np\n",
    "import pandas as pd"
   ]
  },
  {
   "cell_type": "markdown",
   "id": "e35e7d28-c3ab-4e15-80f0-76ad239aaea3",
   "metadata": {},
   "source": [
    "## collapse"
   ]
  },
  {
   "cell_type": "code",
   "execution_count": null,
   "id": "2a75edda-3468-4ed9-9874-3c7b72b17aac",
   "metadata": {
    "execution": {
     "iopub.execute_input": "2021-08-23T05:58:11.620604Z",
     "iopub.status.busy": "2021-08-23T05:58:11.620042Z",
     "iopub.status.idle": "2021-08-23T05:58:11.651062Z",
     "shell.execute_reply": "2021-08-23T05:58:11.651609Z"
    },
    "tags": []
   },
   "outputs": [],
   "source": [
    "nu_fe_sa = pd.DataFrame(\n",
    "    [\n",
    "        [1] * 3,\n",
    "        [2] * 3,\n",
    "        [3] * 3,\n",
    "        [4] * 3,\n",
    "        [5, np.nan, None],\n",
    "        [6] * 3,\n",
    "    ],\n",
    "    [\"A\", \"A\", \"A\", \"B\", \"B\", \"C\"],\n",
    ")\n",
    "\n",
    "kwat.feature_by_sample.collapse(nu_fe_sa)"
   ]
  },
  {
   "cell_type": "markdown",
   "id": "0ae3ee4c-fd8b-4c41-98ef-42e72e99fe2e",
   "metadata": {},
   "source": [
    "## summarize"
   ]
  },
  {
   "cell_type": "code",
   "execution_count": null,
   "id": "24708a2e-6599-4b06-af5b-88e324763806",
   "metadata": {
    "execution": {
     "iopub.execute_input": "2021-08-23T05:58:11.656013Z",
     "iopub.status.busy": "2021-08-23T05:58:11.655469Z",
     "iopub.status.idle": "2021-08-23T05:58:18.847548Z",
     "shell.execute_reply": "2021-08-23T05:58:18.847923Z"
    },
    "tags": []
   },
   "outputs": [],
   "source": [
    "for si in [[3, 3], [1000, 1000]]:\n",
    "\n",
    "    nu_fe_sa = pd.DataFrame(\n",
    "        np.random.normal(size=si),\n",
    "        (\"Ka{}\".format(ie) for ie in range(si[0])),\n",
    "        (\"Kw{}\".format(ie) for ie in range(si[1])),\n",
    "    )\n",
    "\n",
    "    nu_fe_sa.index.name = \"Dimension 1\"\n",
    "\n",
    "    nu_fe_sa.columns.name = \"Dimension 2\"\n",
    "\n",
    "    nu_fe_sa.iloc[::2, ::4] = np.nan\n",
    "\n",
    "    kwat.feature_by_sample.summarize(nu_fe_sa)"
   ]
  },
  {
   "cell_type": "markdown",
   "id": "6be4dd86-b312-43bb-83e3-886f8230b840",
   "metadata": {},
   "source": [
    "## process"
   ]
  },
  {
   "cell_type": "markdown",
   "id": "40782965-6971-4c9b-ae02-dc9c3dc674b2",
   "metadata": {},
   "source": [
    "## separate_type"
   ]
  },
  {
   "cell_type": "code",
   "execution_count": null,
   "id": "000f1117-fad7-46af-aedd-43705cccd6c7",
   "metadata": {
    "execution": {
     "iopub.execute_input": "2021-08-23T05:58:18.854081Z",
     "iopub.status.busy": "2021-08-23T05:58:18.853551Z",
     "iopub.status.idle": "2021-08-23T05:58:18.887867Z",
     "shell.execute_reply": "2021-08-23T05:58:18.887489Z"
    },
    "tags": []
   },
   "outputs": [],
   "source": [
    "si1 = 2\n",
    "\n",
    "si2 = 4\n",
    "\n",
    "co = pd.DataFrame(\n",
    "    np.random.normal(size=[si1, si2]),\n",
    "    (\"Co{}\".format(ie) for ie in range(si1)),\n",
    ")\n",
    "\n",
    "co.iloc[0, 0] = np.nan\n",
    "\n",
    "ca = pd.DataFrame(\n",
    "    np.random.randint(3, size=[si1, si2]),\n",
    "    (\"Ca{}\".format(ie) for ie in range(si1)),\n",
    ")\n",
    "\n",
    "ca.iloc[0, 1] = np.nan\n",
    "\n",
    "bi = pd.DataFrame(\n",
    "    np.random.randint(2, size=[si1, si2]),\n",
    "    (\"Bi{}\".format(ie) for ie in range(si1)),\n",
    ")\n",
    "\n",
    "bi.iloc[0, 2] = np.nan\n",
    "\n",
    "nu_fe_sa = pd.concat([co, ca, bi])\n",
    "\n",
    "nu_fe_sa.loc[\"Constant\"] = [8] * si2\n",
    "\n",
    "nu_fe_sa.columns = (\"Sa{}\".format(ie) for ie in range(si2))\n",
    "\n",
    "nu_fe_sa.index.name = \"Feature\"\n",
    "\n",
    "nu_fe_sa.columns.name = \"Sample\"\n",
    "\n",
    "nu_fe_sa"
   ]
  },
  {
   "cell_type": "code",
   "execution_count": null,
   "id": "8f515263-a1c0-4ff8-8a1d-1e7be10ccd2a",
   "metadata": {
    "execution": {
     "iopub.execute_input": "2021-08-23T05:58:18.890910Z",
     "iopub.status.busy": "2021-08-23T05:58:18.890276Z",
     "iopub.status.idle": "2021-08-23T05:58:18.917696Z",
     "shell.execute_reply": "2021-08-23T05:58:18.918073Z"
    },
    "tags": []
   },
   "outputs": [],
   "source": [
    "co_fe_sa, bi_fe_sa = kwat.feature_by_sample.separate_type(nu_fe_sa)"
   ]
  },
  {
   "cell_type": "code",
   "execution_count": null,
   "id": "f831a6d4-796c-47a7-82b2-77e20fe990d4",
   "metadata": {
    "execution": {
     "iopub.execute_input": "2021-08-23T05:58:18.921329Z",
     "iopub.status.busy": "2021-08-23T05:58:18.920834Z",
     "iopub.status.idle": "2021-08-23T05:58:18.950228Z",
     "shell.execute_reply": "2021-08-23T05:58:18.950690Z"
    },
    "tags": []
   },
   "outputs": [],
   "source": [
    "co_fe_sa"
   ]
  },
  {
   "cell_type": "code",
   "execution_count": null,
   "id": "cc02b6e0-0222-454f-ad75-ad9b76391510",
   "metadata": {
    "execution": {
     "iopub.execute_input": "2021-08-23T05:58:18.954125Z",
     "iopub.status.busy": "2021-08-23T05:58:18.953477Z",
     "iopub.status.idle": "2021-08-23T05:58:18.985243Z",
     "shell.execute_reply": "2021-08-23T05:58:18.985662Z"
    },
    "tags": []
   },
   "outputs": [],
   "source": [
    "bi_fe_sa"
   ]
  }
 ],
 "metadata": {
  "kernelspec": {
   "display_name": "Python 3 (ipykernel)",
   "language": "python",
   "name": "python3"
  },
  "language_info": {
   "codemirror_mode": {
    "name": "ipython",
    "version": 3
   },
   "file_extension": ".py",
   "mimetype": "text/x-python",
   "name": "python",
   "nbconvert_exporter": "python",
   "pygments_lexer": "ipython3",
   "version": "3.9.6"
  }
 },
 "nbformat": 4,
 "nbformat_minor": 5
}
