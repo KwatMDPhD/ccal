{
 "cells": [
  {
   "outputs": [],
   "cell_type": "code",
   "source": [
    "%load_ext autoreload\n",
    "%autoreload 2"
   ],
   "metadata": {},
   "execution_count": null
  },
  {
   "outputs": [],
   "cell_type": "code",
   "source": [
    "import os\n",
    "import re"
   ],
   "metadata": {},
   "execution_count": null
  },
  {
   "outputs": [],
   "cell_type": "code",
   "source": [
    "pa1 = os.path.join(\"..\", \"kwat\", \"\")\n",
    "\n",
    "li1_ = []"
   ],
   "metadata": {},
   "execution_count": null
  },
  {
   "outputs": [],
   "cell_type": "code",
   "source": [
    "for na1 in sorted(os.listdir(path=pa1)):\n",
    "    if re.search(r\"^[^._](?!.+.py)\", na1) and na1 != \"data\":\n",
    "        print(na1)\n",
    "\n",
    "        li1_.append(\"from . import {}\\n\".format(na1))\n",
    "\n",
    "        pa2 = os.path.join(pa1, na1, \"\")\n",
    "\n",
    "        li2_ = []\n",
    "\n",
    "        for na2 in sorted(os.listdir(path=pa2)):\n",
    "            if re.search(r\"^[^_].+.py$\", na2):\n",
    "                print(na2)\n",
    "\n",
    "                li2_.append(\"from .{0} import {0}\\n\".format(os.path.splitext(na2)[0]))\n",
    "\n",
    "        print()\n",
    "\n",
    "        with open(os.path.join(pa2, \"__init__.py\"), mode=\"w\") as io:\n",
    "            io.writelines(li2_)"
   ],
   "metadata": {},
   "execution_count": null
  },
  {
   "outputs": [],
   "cell_type": "code",
   "source": [
    "with open(os.path.join(pa1, \"__init__.py\"), mode=\"w\") as io:\n",
    "    io.writelines(li1_)"
   ],
   "metadata": {},
   "execution_count": null
  },
  {
   "outputs": [],
   "cell_type": "code",
   "source": [
    "import kwat\n",
    "\n",
    "dir(kwat)"
   ],
   "metadata": {},
   "execution_count": null
  }
 ],
 "nbformat_minor": 4,
 "metadata": {
  "language_info": {
   "file_extension": ".py",
   "mimetype": "text/x-python",
   "name": "python",
   "nbconvert_exporter": "python",
   "pygments_lexer": "ipython3",
   "codemirror_mode": {
    "name": "ipython",
    "version": 3
   },
   "version": "3.10.0"
  },
  "@webio": {
   "lastKernelId": null,
   "lastCommId": null
  },
  "kernelspec": {
   "name": "python3",
   "display_name": "Python 3 (ipykernel)",
   "language": "python"
  }
 },
 "nbformat": 4
}
