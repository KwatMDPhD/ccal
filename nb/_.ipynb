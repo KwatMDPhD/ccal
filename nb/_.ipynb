{
 "cells": [
  {
   "cell_type": "code",
   "execution_count": 1,
   "metadata": {},
   "outputs": [],
   "source": [
    "import os\n",
    "import re\n",
    "\n",
    "import kwat"
   ]
  },
  {
   "cell_type": "code",
   "execution_count": 2,
   "metadata": {},
   "outputs": [
    {
     "name": "stdout",
     "output_type": "stream",
     "text": [
      "jupyter nbconvert --execute --ExecutePreprocessor.timeout=-1 --inplace array.ipynb\n",
      "jupyter nbconvert --execute --ExecutePreprocessor.timeout=-1 --inplace array_array.ipynb\n",
      "jupyter nbconvert --execute --ExecutePreprocessor.timeout=-1 --inplace cell_line.ipynb\n",
      "jupyter nbconvert --execute --ExecutePreprocessor.timeout=-1 --inplace cluster.ipynb\n",
      "jupyter nbconvert --execute --ExecutePreprocessor.timeout=-1 --inplace constant.ipynb\n",
      "jupyter nbconvert --execute --ExecutePreprocessor.timeout=-1 --inplace dataframe.ipynb\n",
      "jupyter nbconvert --execute --ExecutePreprocessor.timeout=-1 --inplace density.ipynb\n",
      "jupyter nbconvert --execute --ExecutePreprocessor.timeout=-1 --inplace dictionary.ipynb\n",
      "jupyter nbconvert --execute --ExecutePreprocessor.timeout=-1 --inplace feature_by_sample.ipynb\n",
      "jupyter nbconvert --execute --ExecutePreprocessor.timeout=-1 --inplace function.ipynb\n",
      "jupyter nbconvert --execute --ExecutePreprocessor.timeout=-1 --inplace gct.ipynb\n",
      "jupyter nbconvert --execute --ExecutePreprocessor.timeout=-1 --inplace gene.ipynb\n",
      "jupyter nbconvert --execute --ExecutePreprocessor.timeout=-1 --inplace gmt.ipynb\n",
      "jupyter nbconvert --execute --ExecutePreprocessor.timeout=-1 --inplace grid.ipynb\n",
      "jupyter nbconvert --execute --ExecutePreprocessor.timeout=-1 --inplace information.ipynb\n",
      "jupyter nbconvert --execute --ExecutePreprocessor.timeout=-1 --inplace internet.ipynb\n",
      "jupyter nbconvert --execute --ExecutePreprocessor.timeout=-1 --inplace iterable.ipynb\n",
      "jupyter nbconvert --execute --ExecutePreprocessor.timeout=-1 --inplace json.ipynb\n",
      "jupyter nbconvert --execute --ExecutePreprocessor.timeout=-1 --inplace path.ipynb\n",
      "jupyter nbconvert --execute --ExecutePreprocessor.timeout=-1 --inplace plot.ipynb\n",
      "jupyter nbconvert --execute --ExecutePreprocessor.timeout=-1 --inplace probability.ipynb\n",
      "jupyter nbconvert --execute --ExecutePreprocessor.timeout=-1 --inplace python.ipynb\n",
      "jupyter nbconvert --execute --ExecutePreprocessor.timeout=-1 --inplace row.ipynb\n",
      "jupyter nbconvert --execute --ExecutePreprocessor.timeout=-1 --inplace series.ipynb\n",
      "jupyter nbconvert --execute --ExecutePreprocessor.timeout=-1 --inplace shell.ipynb\n",
      "jupyter nbconvert --execute --ExecutePreprocessor.timeout=-1 --inplace significance.ipynb\n",
      "jupyter nbconvert --execute --ExecutePreprocessor.timeout=-1 --inplace string.ipynb\n",
      "jupyter nbconvert --execute --ExecutePreprocessor.timeout=-1 --inplace titanic.ipynb\n",
      "jupyter nbconvert --execute --ExecutePreprocessor.timeout=-1 --inplace vector.ipynb\n"
     ]
    }
   ],
   "source": [
    "for na in sorted(os.listdir(\".\")):\n",
    "\n",
    "    if re.search(r\"^[^._].+\\.ipynb$\", na):\n",
    "\n",
    "        kwat.shell.run(\n",
    "            \"jupyter nbconvert --execute --ExecutePreprocessor.timeout=-1 --inplace {}\".format(\n",
    "                na\n",
    "            )\n",
    "        )"
   ]
  }
 ],
 "metadata": {
  "@webio": {
   "lastCommId": null,
   "lastKernelId": null
  },
  "kernelspec": {
   "display_name": "Python 3 (ipykernel)",
   "language": "python",
   "name": "python3"
  },
  "language_info": {
   "codemirror_mode": {
    "name": "ipython",
    "version": 3
   },
   "file_extension": ".py",
   "mimetype": "text/x-python",
   "name": "python",
   "nbconvert_exporter": "python",
   "pygments_lexer": "ipython3",
   "version": "3.9.6"
  }
 },
 "nbformat": 4,
 "nbformat_minor": 4
}
