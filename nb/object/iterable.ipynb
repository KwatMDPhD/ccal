{
 "cells": [
  {
   "cell_type": "code",
   "execution_count": null,
   "id": "25e3de9e-a73e-41da-8552-66347f96fcd5",
   "metadata": {
    "execution": {
     "iopub.execute_input": "2021-06-02T09:06:40.135113Z",
     "iopub.status.busy": "2021-06-02T09:06:40.134452Z",
     "iopub.status.idle": "2021-06-02T09:06:40.146620Z",
     "shell.execute_reply": "2021-06-02T09:06:40.147097Z"
    },
    "tags": []
   },
   "outputs": [],
   "source": [
    "%load_ext autoreload\n",
    "%autoreload 2"
   ]
  },
  {
   "cell_type": "code",
   "execution_count": null,
   "id": "a03dd6c6-3d6f-42c3-8a29-94dd6b57920f",
   "metadata": {
    "execution": {
     "iopub.execute_input": "2021-06-02T09:06:40.150717Z",
     "iopub.status.busy": "2021-06-02T09:06:40.150082Z",
     "iopub.status.idle": "2021-06-02T09:06:40.757528Z",
     "shell.execute_reply": "2021-06-02T09:06:40.757875Z"
    },
    "tags": []
   },
   "outputs": [],
   "source": [
    "import kraft"
   ]
  },
  {
   "cell_type": "markdown",
   "id": "bf7e2496-6ddc-4dda-af61-4aa3dfa1996e",
   "metadata": {},
   "source": [
    "## check_is_iterable"
   ]
  },
  {
   "cell_type": "code",
   "execution_count": null,
   "id": "7ab6c29c-b266-4fc2-8cc5-5b6c06bfe272",
   "metadata": {
    "execution": {
     "iopub.execute_input": "2021-06-02T09:06:40.762567Z",
     "iopub.status.busy": "2021-06-02T09:06:40.761662Z",
     "iopub.status.idle": "2021-06-02T09:06:40.781171Z",
     "shell.execute_reply": "2021-06-02T09:06:40.781630Z"
    },
    "tags": []
   },
   "outputs": [],
   "source": [
    "for an_ in [[], (), \"\", {}, 1, True, None]:\n",
    "\n",
    "    print(kraft.iterable.check_is_iterable(an_))"
   ]
  },
  {
   "cell_type": "markdown",
   "id": "e8d9db8d-3e5e-4d50-b14f-93270947deb4",
   "metadata": {},
   "source": [
    "## flatten"
   ]
  },
  {
   "cell_type": "code",
   "execution_count": null,
   "id": "ae18020a-7a33-4129-9fb3-c0cb81158ad7",
   "metadata": {
    "execution": {
     "iopub.execute_input": "2021-06-02T09:06:40.785645Z",
     "iopub.status.busy": "2021-06-02T09:06:40.785019Z",
     "iopub.status.idle": "2021-06-02T09:06:40.809796Z",
     "shell.execute_reply": "2021-06-02T09:06:40.810229Z"
    },
    "tags": []
   },
   "outputs": [],
   "source": [
    "kraft.iterable.flatten(\n",
    "    [\n",
    "        (),\n",
    "        [],\n",
    "        set(),\n",
    "        (1, [2, {3, 4}]),\n",
    "        [\"ab\", {\"cd\", (\"ef\", None, True)}],\n",
    "        {},\n",
    "        \"hello\",\n",
    "        \"world\",\n",
    "    ]\n",
    ")"
   ]
  },
  {
   "cell_type": "markdown",
   "id": "d50593e0-85ae-482e-a3a1-b6fe687861bb",
   "metadata": {},
   "source": [
    "## map_integer"
   ]
  },
  {
   "cell_type": "code",
   "execution_count": null,
   "id": "22477bc8-36f6-4fc0-8eb2-5ea7d1ebca60",
   "metadata": {
    "execution": {
     "iopub.execute_input": "2021-06-02T09:06:40.813859Z",
     "iopub.status.busy": "2021-06-02T09:06:40.813246Z",
     "iopub.status.idle": "2021-06-02T09:06:40.832456Z",
     "shell.execute_reply": "2021-06-02T09:06:40.832915Z"
    },
    "tags": []
   },
   "outputs": [],
   "source": [
    "import numpy as np"
   ]
  },
  {
   "cell_type": "code",
   "execution_count": null,
   "id": "bf7e99a6-0cd1-4adf-92e1-1f51c548818c",
   "metadata": {
    "execution": {
     "iopub.execute_input": "2021-06-02T09:06:40.836715Z",
     "iopub.status.busy": "2021-06-02T09:06:40.836051Z",
     "iopub.status.idle": "2021-06-02T09:06:40.855076Z",
     "shell.execute_reply": "2021-06-02T09:06:40.855522Z"
    },
    "tags": []
   },
   "outputs": [],
   "source": [
    "an_ = [\"a\", \"b\", \"b\", \"c\", None, None, np.nan, np.nan]"
   ]
  },
  {
   "cell_type": "code",
   "execution_count": null,
   "id": "ed09c1e1-a592-40a9-b3f7-a6a03d00981f",
   "metadata": {
    "execution": {
     "iopub.execute_input": "2021-06-02T09:06:40.858930Z",
     "iopub.status.busy": "2021-06-02T09:06:40.858246Z",
     "iopub.status.idle": "2021-06-02T09:06:40.878604Z",
     "shell.execute_reply": "2021-06-02T09:06:40.879093Z"
    },
    "tags": []
   },
   "outputs": [],
   "source": [
    "kraft.iterable.map_integer(an_)"
   ]
  },
  {
   "cell_type": "code",
   "execution_count": null,
   "id": "2f8c63e4-b8e9-4078-b3d1-b3bfac752842",
   "metadata": {
    "execution": {
     "iopub.execute_input": "2021-06-02T09:06:40.882617Z",
     "iopub.status.busy": "2021-06-02T09:06:40.881891Z",
     "iopub.status.idle": "2021-06-02T09:06:40.902753Z",
     "shell.execute_reply": "2021-06-02T09:06:40.903194Z"
    },
    "tags": []
   },
   "outputs": [],
   "source": [
    "kraft.iterable.map_integer(an_[::-1])"
   ]
  },
  {
   "cell_type": "markdown",
   "id": "22bb6bdd-8c00-4829-ae0d-cb60177c98d7",
   "metadata": {},
   "source": [
    "## check_is_in"
   ]
  },
  {
   "cell_type": "code",
   "execution_count": null,
   "id": "1b278a26-f5d9-421a-85cb-0ba8505027f6",
   "metadata": {
    "execution": {
     "iopub.execute_input": "2021-06-02T09:06:40.908110Z",
     "iopub.status.busy": "2021-06-02T09:06:40.907444Z",
     "iopub.status.idle": "2021-06-02T09:06:40.926769Z",
     "shell.execute_reply": "2021-06-02T09:06:40.927202Z"
    },
    "tags": []
   },
   "outputs": [],
   "source": [
    "for (an1_, an2_) in [\n",
    "    [[1, 10], range(10)],\n",
    "    [range(10), [1, 10]],\n",
    "    [\"az\", \"abc\"],\n",
    "    [[\"a\", \"z\"], \"abc\"],\n",
    "    [[], []],\n",
    "]:\n",
    "\n",
    "    print(kraft.iterable.check_is_in(an1_, an2_))"
   ]
  }
 ],
 "metadata": {
  "kernelspec": {
   "display_name": "Python 3",
   "language": "python",
   "name": "python3"
  },
  "language_info": {
   "codemirror_mode": {
    "name": "ipython",
    "version": 3
   },
   "file_extension": ".py",
   "mimetype": "text/x-python",
   "name": "python",
   "nbconvert_exporter": "python",
   "pygments_lexer": "ipython3",
   "version": "3.8.9"
  }
 },
 "nbformat": 4,
 "nbformat_minor": 5
}
