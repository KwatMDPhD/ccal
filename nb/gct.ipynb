{
 "cells": [
  {
   "cell_type": "code",
   "execution_count": null,
   "id": "cd758eba-c8b6-49eb-958b-4f8415eb2bbb",
   "metadata": {
    "execution": {
     "iopub.execute_input": "2021-08-25T07:03:00.062822Z",
     "iopub.status.busy": "2021-08-25T07:03:00.062104Z",
     "iopub.status.idle": "2021-08-25T07:03:00.076487Z",
     "shell.execute_reply": "2021-08-25T07:03:00.076984Z"
    },
    "tags": []
   },
   "outputs": [],
   "source": [
    "%load_ext autoreload\n",
    "%autoreload 2"
   ]
  },
  {
   "cell_type": "code",
   "execution_count": null,
   "id": "2690ab49-eabd-4718-81b8-ee69863f5c11",
   "metadata": {
    "execution": {
     "iopub.execute_input": "2021-08-25T07:03:00.080589Z",
     "iopub.status.busy": "2021-08-25T07:03:00.080008Z",
     "iopub.status.idle": "2021-08-25T07:03:00.701373Z",
     "shell.execute_reply": "2021-08-25T07:03:00.701764Z"
    },
    "tags": []
   },
   "outputs": [],
   "source": [
    "import kwat"
   ]
  },
  {
   "cell_type": "markdown",
   "id": "82cc10e7-7608-4bf7-a6bc-3d52eeb01f48",
   "metadata": {},
   "source": [
    "## read"
   ]
  },
  {
   "cell_type": "code",
   "execution_count": null,
   "id": "9b6e586e-c076-48c6-b2df-f4723ae825b3",
   "metadata": {
    "execution": {
     "iopub.execute_input": "2021-08-25T07:03:00.705242Z",
     "iopub.status.busy": "2021-08-25T07:03:00.704722Z",
     "iopub.status.idle": "2021-08-25T07:03:01.047659Z",
     "shell.execute_reply": "2021-08-25T07:03:01.048068Z"
    },
    "tags": []
   },
   "outputs": [],
   "source": [
    "kwat.gct.read(\"data/a.gct\")"
   ]
  }
 ],
 "metadata": {
  "kernelspec": {
   "display_name": "Python 3 (ipykernel)",
   "language": "python",
   "name": "python3"
  },
  "language_info": {
   "codemirror_mode": {
    "name": "ipython",
    "version": 3
   },
   "file_extension": ".py",
   "mimetype": "text/x-python",
   "name": "python",
   "nbconvert_exporter": "python",
   "pygments_lexer": "ipython3",
   "version": "3.9.6"
  }
 },
 "nbformat": 4,
 "nbformat_minor": 5
}
