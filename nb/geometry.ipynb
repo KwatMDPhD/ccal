{
 "cells": [
  {
   "cell_type": "code",
   "execution_count": null,
   "metadata": {},
   "outputs": [],
   "source": [
    "%load_ext autoreload\n",
    "%autoreload 2"
   ]
  },
  {
   "cell_type": "code",
   "execution_count": null,
   "metadata": {},
   "outputs": [],
   "source": [
    "import kwat\n",
    "import numpy as np"
   ]
  },
  {
   "cell_type": "code",
   "execution_count": null,
   "metadata": {},
   "outputs": [],
   "source": [
    "nu_po_di = np.array(\n",
    "    [\n",
    "        [0, 0],\n",
    "        [1, 0],\n",
    "        [2, 0],\n",
    "        [0, 1],\n",
    "        [1, 1],\n",
    "        [2, 1],\n",
    "        [0, 2],\n",
    "        [1, 2],\n",
    "        [2, 2],\n",
    "        [0.5, 1.75],\n",
    "        [2, 3],\n",
    "    ]\n",
    ")\n",
    "\n",
    "co0_, co1_ = nu_po_di.T"
   ]
  },
  {
   "cell_type": "code",
   "execution_count": null,
   "metadata": {},
   "outputs": [],
   "source": [
    "def plot_line(po0_, po1_, li0_, li1_):\n",
    "\n",
    "    layout_size = 640\n",
    "\n",
    "    kwat.plot.plot_plotly(\n",
    "        {\n",
    "            \"layout\": {\"height\": layout_size, \"width\": layout_size},\n",
    "            \"data\": [\n",
    "                {\n",
    "                    \"name\": \"Point\",\n",
    "                    \"y\": po0_,\n",
    "                    \"x\": po1_,\n",
    "                    \"mode\": \"markers\",\n",
    "                    \"marker\": {\"size\": 16, \"opacity\": 0.8},\n",
    "                },\n",
    "                {\n",
    "                    \"name\": \"Line\",\n",
    "                    \"y\": li0_,\n",
    "                    \"x\": li1_,\n",
    "                    \"mode\": \"lines\",\n",
    "                    \"line\": {\"dash\": \"dashdot\"},\n",
    "                },\n",
    "            ],\n",
    "        }\n",
    "    )"
   ]
  },
  {
   "cell_type": "markdown",
   "metadata": {},
   "source": [
    "## make_delaunay_triangulation"
   ]
  },
  {
   "cell_type": "code",
   "execution_count": null,
   "metadata": {},
   "outputs": [],
   "source": [
    "tr0_, tr1_ = kwat.geometry.make_delaunay_triangulation(nu_po_di)\n",
    "\n",
    "plot_line(co0_, co1_, tr0_, tr1_)"
   ]
  },
  {
   "cell_type": "markdown",
   "metadata": {},
   "source": [
    "## make_convex_hull"
   ]
  },
  {
   "cell_type": "code",
   "execution_count": null,
   "metadata": {},
   "outputs": [],
   "source": [
    "hu0_, hu1_ = kwat.geometry.make_convex_hull(nu_po_di)\n",
    "\n",
    "plot_line(co0_, co1_, hu0_, hu1_)"
   ]
  },
  {
   "cell_type": "code",
   "execution_count": null,
   "metadata": {},
   "outputs": [],
   "source": [
    "plot_line(co0_, co1_, tr0_ + hu0_, tr1_ + hu1_)"
   ]
  }
 ],
 "metadata": {
  "kernelspec": {
   "display_name": "Python 3 (ipykernel)",
   "language": "python",
   "name": "python3"
  },
  "language_info": {
   "codemirror_mode": {
    "name": "ipython",
    "version": 3
   },
   "file_extension": ".py",
   "mimetype": "text/x-python",
   "name": "python",
   "nbconvert_exporter": "python",
   "pygments_lexer": "ipython3",
   "version": "3.9.6"
  }
 },
 "nbformat": 4,
 "nbformat_minor": 4
}
