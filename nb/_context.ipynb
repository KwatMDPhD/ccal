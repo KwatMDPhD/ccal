{
 "cells": [
  {
   "cell_type": "code",
   "execution_count": null,
   "metadata": {},
   "outputs": [],
   "source": [
    "%load_ext autoreload\n",
    "%autoreload 2"
   ]
  },
  {
   "cell_type": "code",
   "execution_count": null,
   "metadata": {},
   "outputs": [],
   "source": [
    "import kraft\n",
    "import pandas as pd"
   ]
  },
  {
   "cell_type": "code",
   "execution_count": null,
   "metadata": {},
   "outputs": [],
   "source": [
    "feature_x_sample = pd.read_csv(\"feature_x_sample.tsv\", \"\t\", index_col=0).iloc[:10]\n",
    "\n",
    "feature_x_sample"
   ]
  },
  {
   "cell_type": "code",
   "execution_count": null,
   "metadata": {},
   "outputs": [],
   "source": [
    "(\n",
    "    global_n,\n",
    "    global_location,\n",
    "    global_scale,\n",
    "    global_degree_of_freedom,\n",
    "    global_shape,\n",
    ") = kraft.fit_vector_to_skew_t_pdf(feature_x_sample.unstack().values)\n",
    "\n",
    "template = \"N={}\tLocation={:.2e}\tScale={:.2e}\tDegree of Freeedom={:.2e}\tShape={:.2e}\"\n",
    "\n",
    "print(\n",
    "    template.format(\n",
    "        global_n, global_location, global_scale, global_degree_of_freedom, global_shape\n",
    "    )\n",
    ")\n",
    "\n",
    "vector = feature_x_sample.iloc[0]\n",
    "\n",
    "(n, location, scale, degree_of_freedom, shape) = kraft.fit_vector_to_skew_t_pdf(\n",
    "    vector.values\n",
    ")\n",
    "\n",
    "print(template.format(n, location, scale, degree_of_freedom, shape))"
   ]
  },
  {
   "cell_type": "code",
   "execution_count": null,
   "metadata": {},
   "outputs": [],
   "source": [
    "context_dict = kraft.compute_vector_context(feature_x_sample.iloc[0].values)\n",
    "\n",
    "context_dict.keys()"
   ]
  },
  {
   "cell_type": "code",
   "execution_count": null,
   "metadata": {},
   "outputs": [],
   "source": [
    "context_dict[\"fit\"]"
   ]
  },
  {
   "cell_type": "code",
   "execution_count": null,
   "metadata": {},
   "outputs": [],
   "source": [
    "context_dict[\"grid\"]"
   ]
  },
  {
   "cell_type": "code",
   "execution_count": null,
   "metadata": {},
   "outputs": [],
   "source": [
    "context_dict[\"pdf\"]"
   ]
  },
  {
   "cell_type": "code",
   "execution_count": null,
   "metadata": {},
   "outputs": [],
   "source": [
    "context_dict[\"shape_pdf_reference\"]"
   ]
  },
  {
   "cell_type": "code",
   "execution_count": null,
   "metadata": {},
   "outputs": [],
   "source": [
    "context_dict[\"shape_context\"]"
   ]
  },
  {
   "cell_type": "code",
   "execution_count": null,
   "metadata": {},
   "outputs": [],
   "source": [
    "context_dict[\"location_pdf_reference\"]"
   ]
  },
  {
   "cell_type": "code",
   "execution_count": null,
   "metadata": {},
   "outputs": [],
   "source": [
    "context_dict[\"location_context\"]"
   ]
  },
  {
   "cell_type": "code",
   "execution_count": null,
   "metadata": {},
   "outputs": [],
   "source": [
    "context_dict[\"context\"]"
   ]
  },
  {
   "cell_type": "code",
   "execution_count": null,
   "metadata": {},
   "outputs": [],
   "source": [
    "context_dict[\"context_like_array\"]"
   ]
  },
  {
   "cell_type": "code",
   "execution_count": null,
   "metadata": {},
   "outputs": [],
   "source": [
    "for (feature, vector) in feature_x_sample.iloc[:8].iterrows():\n",
    "\n",
    "    kraft.plot_context(vector)\n",
    "\n",
    "    kraft.plot_context(vector, y_max_is_pdf_max=True)\n",
    "\n",
    "    kraft.plot_context(\n",
    "        vector,\n",
    "        global_location=global_location,\n",
    "        global_scale=global_scale,\n",
    "        global_degree_of_freedom=global_degree_of_freedom,\n",
    "        global_shape=global_shape,\n",
    "    )"
   ]
  },
  {
   "cell_type": "code",
   "execution_count": null,
   "metadata": {},
   "outputs": [],
   "source": [
    "feature_skew_t_pdf_fit_parameter = kraft.fit_each_dataframe_row_to_skew_t_pdf(\n",
    "    feature_x_sample\n",
    ")\n",
    "\n",
    "feature_skew_t_pdf_fit_parameter"
   ]
  },
  {
   "cell_type": "code",
   "execution_count": null,
   "metadata": {},
   "outputs": [],
   "source": [
    "kraft.make_context_matrix(\n",
    "    feature_x_sample, skew_t_pdf_fit_parameter=feature_skew_t_pdf_fit_parameter\n",
    ")"
   ]
  }
 ],
 "metadata": {
  "kernelspec": {
   "display_name": "Python 3",
   "language": "python",
   "name": "python3"
  },
  "language_info": {
   "codemirror_mode": {
    "name": "ipython",
    "version": 3
   },
   "file_extension": ".py",
   "mimetype": "text/x-python",
   "name": "python",
   "nbconvert_exporter": "python",
   "pygments_lexer": "ipython3",
   "version": "3.7.6"
  }
 },
 "nbformat": 4,
 "nbformat_minor": 4
}
