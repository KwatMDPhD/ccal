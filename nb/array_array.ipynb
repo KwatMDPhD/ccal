{
 "cells": [
  {
   "outputs": [],
   "cell_type": "code",
   "source": [
    "%load_ext autoreload\n",
    "%autoreload 2"
   ],
   "metadata": {},
   "execution_count": null
  },
  {
   "outputs": [],
   "cell_type": "code",
   "source": [
    "import kwat\n",
    "import numpy as np"
   ],
   "metadata": {},
   "execution_count": null
  },
  {
   "outputs": [],
   "cell_type": "code",
   "source": [
    "ve0 = np.array([1, 2, 3])\n",
    "\n",
    "ve1 = np.array([10, 20, 30])"
   ],
   "metadata": {},
   "execution_count": null
  },
  {
   "cell_type": "markdown",
   "source": [
    "## get_cosine_distance"
   ],
   "metadata": {}
  },
  {
   "cell_type": "markdown",
   "source": [
    "## get_mean_difference"
   ],
   "metadata": {}
  },
  {
   "cell_type": "markdown",
   "source": [
    "## get_mean_ratio"
   ],
   "metadata": {}
  },
  {
   "cell_type": "markdown",
   "source": [
    "## get_median_difference"
   ],
   "metadata": {}
  },
  {
   "cell_type": "markdown",
   "source": [
    "## get_median_ratio"
   ],
   "metadata": {}
  },
  {
   "cell_type": "markdown",
   "source": [
    "## get_pearson_correlation"
   ],
   "metadata": {}
  },
  {
   "cell_type": "markdown",
   "source": [
    "## get_signal_to_noise"
   ],
   "metadata": {}
  },
  {
   "outputs": [],
   "cell_type": "code",
   "source": [
    "for fu in (\n",
    "    kwat.vector_vector.get_cosine_distance,\n",
    "    kwat.vector_vector.get_mean_difference,\n",
    "    kwat.vector_vector.get_mean_ratio,\n",
    "    kwat.vector_vector.get_median_difference,\n",
    "    kwat.vector_vector.get_median_ratio,\n",
    "    kwat.vector_vector.get_pearson_correlation,\n",
    "    kwat.vector_vector.get_signal_to_noise,\n",
    "):\n",
    "    print(fu(ve0, ve1))"
   ],
   "metadata": {},
   "execution_count": null
  }
 ],
 "nbformat_minor": 4,
 "metadata": {
  "language_info": {
   "file_extension": ".py",
   "mimetype": "text/x-python",
   "name": "python",
   "nbconvert_exporter": "python",
   "pygments_lexer": "ipython3",
   "codemirror_mode": {
    "name": "ipython",
    "version": 3
   },
   "version": "3.9.7"
  },
  "kernelspec": {
   "name": "python3",
   "display_name": "Python 3 (ipykernel)",
   "language": "python"
  }
 },
 "nbformat": 4
}
