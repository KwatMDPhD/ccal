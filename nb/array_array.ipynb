{
 "cells": [
  {
   "cell_type": "code",
   "execution_count": null,
   "metadata": {
    "execution": {
     "iopub.execute_input": "2021-08-25T07:02:18.997799Z",
     "iopub.status.busy": "2021-08-25T07:02:18.992227Z",
     "iopub.status.idle": "2021-08-25T07:02:19.014125Z",
     "shell.execute_reply": "2021-08-25T07:02:19.014581Z"
    },
    "tags": []
   },
   "outputs": [],
   "source": [
    "%load_ext autoreload\n",
    "%autoreload 2"
   ]
  },
  {
   "cell_type": "code",
   "execution_count": null,
   "metadata": {
    "execution": {
     "iopub.execute_input": "2021-08-25T07:02:19.017703Z",
     "iopub.status.busy": "2021-08-25T07:02:19.017100Z",
     "iopub.status.idle": "2021-08-25T07:02:19.640416Z",
     "shell.execute_reply": "2021-08-25T07:02:19.640782Z"
    },
    "tags": []
   },
   "outputs": [],
   "source": [
    "import numpy as np\n",
    "\n",
    "import kwat"
   ]
  },
  {
   "cell_type": "code",
   "execution_count": null,
   "metadata": {
    "execution": {
     "iopub.execute_input": "2021-08-25T07:02:19.644346Z",
     "iopub.status.busy": "2021-08-25T07:02:19.643843Z",
     "iopub.status.idle": "2021-08-25T07:02:19.663029Z",
     "shell.execute_reply": "2021-08-25T07:02:19.663415Z"
    },
    "tags": []
   },
   "outputs": [],
   "source": [
    "ve0 = np.array([1, 2, 3])\n",
    "\n",
    "ve1 = np.array([10, 20, 30])"
   ]
  },
  {
   "cell_type": "markdown",
   "metadata": {},
   "source": [
    "## get_cosine_distance"
   ]
  },
  {
   "cell_type": "markdown",
   "metadata": {},
   "source": [
    "## get_mean_difference"
   ]
  },
  {
   "cell_type": "markdown",
   "metadata": {},
   "source": [
    "## get_mean_ratio"
   ]
  },
  {
   "cell_type": "markdown",
   "metadata": {},
   "source": [
    "## get_median_difference"
   ]
  },
  {
   "cell_type": "markdown",
   "metadata": {},
   "source": [
    "## get_median_ratio"
   ]
  },
  {
   "cell_type": "markdown",
   "metadata": {},
   "source": [
    "## get_pearson_correlation"
   ]
  },
  {
   "cell_type": "markdown",
   "metadata": {},
   "source": [
    "## get_signal_to_noise"
   ]
  },
  {
   "cell_type": "code",
   "execution_count": null,
   "metadata": {
    "execution": {
     "iopub.execute_input": "2021-08-25T07:02:19.667711Z",
     "iopub.status.busy": "2021-08-25T07:02:19.667134Z",
     "iopub.status.idle": "2021-08-25T07:02:19.688194Z",
     "shell.execute_reply": "2021-08-25T07:02:19.688710Z"
    }
   },
   "outputs": [],
   "source": [
    "for fu in (\n",
    "    kwat.array_array.get_cosine_distance,\n",
    "    kwat.array_array.get_mean_difference,\n",
    "    kwat.array_array.get_mean_ratio,\n",
    "    kwat.array_array.get_median_difference,\n",
    "    kwat.array_array.get_median_ratio,\n",
    "    kwat.array_array.get_pearson_correlation,\n",
    "    kwat.array_array.get_signal_to_noise,\n",
    "):\n",
    "\n",
    "    print(fu(ve0, ve1))"
   ]
  }
 ],
 "metadata": {
  "kernelspec": {
   "display_name": "Python 3 (ipykernel)",
   "language": "python",
   "name": "python3"
  },
  "language_info": {
   "codemirror_mode": {
    "name": "ipython",
    "version": 3
   },
   "file_extension": ".py",
   "mimetype": "text/x-python",
   "name": "python",
   "nbconvert_exporter": "python",
   "pygments_lexer": "ipython3",
   "version": "3.9.6"
  }
 },
 "nbformat": 4,
 "nbformat_minor": 4
}
