{
 "cells": [
  {
   "cell_type": "code",
   "execution_count": null,
   "metadata": {
    "execution": {
     "iopub.execute_input": "2021-08-23T05:57:42.925024Z",
     "iopub.status.busy": "2021-08-23T05:57:42.924262Z",
     "iopub.status.idle": "2021-08-23T05:57:42.936916Z",
     "shell.execute_reply": "2021-08-23T05:57:42.937847Z"
    },
    "tags": []
   },
   "outputs": [],
   "source": [
    "%load_ext autoreload\n",
    "%autoreload 2"
   ]
  },
  {
   "cell_type": "code",
   "execution_count": null,
   "metadata": {
    "execution": {
     "iopub.execute_input": "2021-08-23T05:57:42.941664Z",
     "iopub.status.busy": "2021-08-23T05:57:42.941115Z",
     "iopub.status.idle": "2021-08-23T05:57:43.621839Z",
     "shell.execute_reply": "2021-08-23T05:57:43.622199Z"
    },
    "tags": []
   },
   "outputs": [],
   "source": [
    "import numpy as np\n",
    "\n",
    "import kwat"
   ]
  },
  {
   "cell_type": "code",
   "execution_count": null,
   "metadata": {
    "execution": {
     "iopub.execute_input": "2021-08-23T05:57:43.626129Z",
     "iopub.status.busy": "2021-08-23T05:57:43.625632Z",
     "iopub.status.idle": "2021-08-23T05:57:43.645825Z",
     "shell.execute_reply": "2021-08-23T05:57:43.646200Z"
    },
    "tags": []
   },
   "outputs": [],
   "source": [
    "ve0 = np.array([1, 2, 3])\n",
    "\n",
    "ve1 = np.array([10, 20, 30])"
   ]
  },
  {
   "cell_type": "markdown",
   "metadata": {},
   "source": [
    "## get_cosine_distance"
   ]
  },
  {
   "cell_type": "markdown",
   "metadata": {},
   "source": [
    "## get_mean_difference"
   ]
  },
  {
   "cell_type": "markdown",
   "metadata": {},
   "source": [
    "## get_mean_ratio"
   ]
  },
  {
   "cell_type": "markdown",
   "metadata": {},
   "source": [
    "## get_median_difference"
   ]
  },
  {
   "cell_type": "markdown",
   "metadata": {},
   "source": [
    "## get_median_ratio"
   ]
  },
  {
   "cell_type": "markdown",
   "metadata": {},
   "source": [
    "## get_pearson_correlation"
   ]
  },
  {
   "cell_type": "markdown",
   "metadata": {},
   "source": [
    "## get_signal_to_noise"
   ]
  },
  {
   "cell_type": "code",
   "execution_count": null,
   "metadata": {
    "execution": {
     "iopub.execute_input": "2021-08-23T05:57:43.650640Z",
     "iopub.status.busy": "2021-08-23T05:57:43.650128Z",
     "iopub.status.idle": "2021-08-23T05:57:43.670513Z",
     "shell.execute_reply": "2021-08-23T05:57:43.671158Z"
    }
   },
   "outputs": [],
   "source": [
    "for fu in (\n",
    "    kwat.array_array.get_cosine_distance,\n",
    "    kwat.array_array.get_mean_difference,\n",
    "    kwat.array_array.get_mean_ratio,\n",
    "    kwat.array_array.get_median_difference,\n",
    "    kwat.array_array.get_median_ratio,\n",
    "    kwat.array_array.get_pearson_correlation,\n",
    "    kwat.array_array.get_signal_to_noise,\n",
    "):\n",
    "\n",
    "    print(fu(ve0, ve1))"
   ]
  }
 ],
 "metadata": {
  "kernelspec": {
   "display_name": "Python 3 (ipykernel)",
   "language": "python",
   "name": "python3"
  },
  "language_info": {
   "codemirror_mode": {
    "name": "ipython",
    "version": 3
   },
   "file_extension": ".py",
   "mimetype": "text/x-python",
   "name": "python",
   "nbconvert_exporter": "python",
   "pygments_lexer": "ipython3",
   "version": "3.9.6"
  }
 },
 "nbformat": 4,
 "nbformat_minor": 4
}
