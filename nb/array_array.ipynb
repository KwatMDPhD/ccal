{
 "cells": [
  {
   "cell_type": "code",
   "execution_count": null,
   "metadata": {
    "execution": {
     "iopub.execute_input": "2021-08-26T01:51:47.617123Z",
     "iopub.status.busy": "2021-08-26T01:51:47.616339Z",
     "iopub.status.idle": "2021-08-26T01:51:47.630735Z",
     "shell.execute_reply": "2021-08-26T01:51:47.631163Z"
    },
    "tags": []
   },
   "outputs": [],
   "source": [
    "%load_ext autoreload\n",
    "%autoreload 2"
   ]
  },
  {
   "cell_type": "code",
   "execution_count": null,
   "metadata": {
    "execution": {
     "iopub.execute_input": "2021-08-26T01:51:47.634312Z",
     "iopub.status.busy": "2021-08-26T01:51:47.633725Z",
     "iopub.status.idle": "2021-08-26T01:51:48.288669Z",
     "shell.execute_reply": "2021-08-26T01:51:48.289011Z"
    },
    "tags": []
   },
   "outputs": [],
   "source": [
    "import numpy as np\n",
    "\n",
    "import kwat"
   ]
  },
  {
   "cell_type": "code",
   "execution_count": null,
   "metadata": {
    "execution": {
     "iopub.execute_input": "2021-08-26T01:51:48.292721Z",
     "iopub.status.busy": "2021-08-26T01:51:48.292113Z",
     "iopub.status.idle": "2021-08-26T01:51:48.312045Z",
     "shell.execute_reply": "2021-08-26T01:51:48.312467Z"
    },
    "tags": []
   },
   "outputs": [],
   "source": [
    "ve0 = np.array([1, 2, 3])\n",
    "\n",
    "ve1 = np.array([10, 20, 30])"
   ]
  },
  {
   "cell_type": "markdown",
   "metadata": {},
   "source": [
    "## get_cosine_distance"
   ]
  },
  {
   "cell_type": "markdown",
   "metadata": {},
   "source": [
    "## get_mean_difference"
   ]
  },
  {
   "cell_type": "markdown",
   "metadata": {},
   "source": [
    "## get_mean_ratio"
   ]
  },
  {
   "cell_type": "markdown",
   "metadata": {},
   "source": [
    "## get_median_difference"
   ]
  },
  {
   "cell_type": "markdown",
   "metadata": {},
   "source": [
    "## get_median_ratio"
   ]
  },
  {
   "cell_type": "markdown",
   "metadata": {},
   "source": [
    "## get_pearson_correlation"
   ]
  },
  {
   "cell_type": "markdown",
   "metadata": {},
   "source": [
    "## get_signal_to_noise"
   ]
  },
  {
   "cell_type": "code",
   "execution_count": null,
   "metadata": {
    "execution": {
     "iopub.execute_input": "2021-08-26T01:51:48.317273Z",
     "iopub.status.busy": "2021-08-26T01:51:48.316730Z",
     "iopub.status.idle": "2021-08-26T01:51:48.341367Z",
     "shell.execute_reply": "2021-08-26T01:51:48.341837Z"
    }
   },
   "outputs": [],
   "source": [
    "for fu in (\n",
    "    kwat.array_array.get_cosine_distance,\n",
    "    kwat.array_array.get_mean_difference,\n",
    "    kwat.array_array.get_mean_ratio,\n",
    "    kwat.array_array.get_median_difference,\n",
    "    kwat.array_array.get_median_ratio,\n",
    "    kwat.array_array.get_pearson_correlation,\n",
    "    kwat.array_array.get_signal_to_noise,\n",
    "):\n",
    "\n",
    "    print(fu(ve0, ve1))"
   ]
  }
 ],
 "metadata": {
  "kernelspec": {
   "display_name": "Python 3 (ipykernel)",
   "language": "python",
   "name": "python3"
  },
  "language_info": {
   "codemirror_mode": {
    "name": "ipython",
    "version": 3
   },
   "file_extension": ".py",
   "mimetype": "text/x-python",
   "name": "python",
   "nbconvert_exporter": "python",
   "pygments_lexer": "ipython3",
   "version": "3.9.6"
  }
 },
 "nbformat": 4,
 "nbformat_minor": 4
}
