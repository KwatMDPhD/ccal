{
 "cells": [
  {
   "cell_type": "code",
   "execution_count": null,
   "metadata": {
    "execution": {
     "iopub.execute_input": "2021-08-25T07:04:59.966171Z",
     "iopub.status.busy": "2021-08-25T07:04:59.965560Z",
     "iopub.status.idle": "2021-08-25T07:04:59.977821Z",
     "shell.execute_reply": "2021-08-25T07:04:59.978192Z"
    },
    "tags": []
   },
   "outputs": [],
   "source": [
    "%load_ext autoreload\n",
    "%autoreload 2"
   ]
  },
  {
   "cell_type": "code",
   "execution_count": null,
   "metadata": {
    "execution": {
     "iopub.execute_input": "2021-08-25T07:04:59.982836Z",
     "iopub.status.busy": "2021-08-25T07:04:59.981930Z",
     "iopub.status.idle": "2021-08-25T07:05:00.635599Z",
     "shell.execute_reply": "2021-08-25T07:05:00.635958Z"
    }
   },
   "outputs": [],
   "source": [
    "import kwat"
   ]
  },
  {
   "cell_type": "markdown",
   "metadata": {},
   "source": [
    "## check_version"
   ]
  },
  {
   "cell_type": "code",
   "execution_count": null,
   "metadata": {
    "execution": {
     "iopub.execute_input": "2021-08-25T07:05:00.639824Z",
     "iopub.status.busy": "2021-08-25T07:05:00.639287Z",
     "iopub.status.idle": "2021-08-25T07:05:00.662046Z",
     "shell.execute_reply": "2021-08-25T07:05:00.661643Z"
    }
   },
   "outputs": [],
   "source": [
    "for st in [\n",
    "    \"1\",\n",
    "    \"1.\",\n",
    "    \"1.2\",\n",
    "    \"1.2.\",\n",
    "    \"1.2.3\",\n",
    "    \"1.2.3.\",\n",
    "    \"01.2.3\",\n",
    "    \"1.02.3\",\n",
    "    \"1.2.03\",\n",
    "    \"1x2x3\",\n",
    "    \"11.22.33\",\n",
    "]:\n",
    "\n",
    "    print(kwat.string.check_version(st))"
   ]
  },
  {
   "cell_type": "markdown",
   "metadata": {},
   "source": [
    "## make_unique"
   ]
  },
  {
   "cell_type": "code",
   "execution_count": null,
   "metadata": {
    "execution": {
     "iopub.execute_input": "2021-08-25T07:05:00.665734Z",
     "iopub.status.busy": "2021-08-25T07:05:00.665217Z",
     "iopub.status.idle": "2021-08-25T07:05:00.691141Z",
     "shell.execute_reply": "2021-08-25T07:05:00.691723Z"
    },
    "tags": []
   },
   "outputs": [],
   "source": [
    "kwat.string.make_unique([\"a\", \"a\", \"a\", \"b\", \"b\", \"b\", \"a\", \"b\", \"\", \"\"])"
   ]
  },
  {
   "cell_type": "markdown",
   "metadata": {},
   "source": [
    "## split"
   ]
  },
  {
   "cell_type": "code",
   "execution_count": null,
   "metadata": {
    "execution": {
     "iopub.execute_input": "2021-08-25T07:05:00.695031Z",
     "iopub.status.busy": "2021-08-25T07:05:00.694530Z",
     "iopub.status.idle": "2021-08-25T07:05:00.714040Z",
     "shell.execute_reply": "2021-08-25T07:05:00.714563Z"
    },
    "tags": []
   },
   "outputs": [],
   "source": [
    "for st in ['It said \"Hello World\"', \"It said 'Hello World'\", \"I'm he's she's we're\"]:\n",
    "\n",
    "    print(kwat.string.split(st))"
   ]
  },
  {
   "cell_type": "markdown",
   "metadata": {},
   "source": [
    "## title"
   ]
  },
  {
   "cell_type": "code",
   "execution_count": null,
   "metadata": {
    "execution": {
     "iopub.execute_input": "2021-08-25T07:05:00.718263Z",
     "iopub.status.busy": "2021-08-25T07:05:00.717758Z",
     "iopub.status.idle": "2021-08-25T07:05:00.737758Z",
     "shell.execute_reply": "2021-08-25T07:05:00.738112Z"
    }
   },
   "outputs": [],
   "source": [
    "for st in [\n",
    "    \"DNA\",\n",
    "    \"to RNA\",\n",
    "    \"DNA to RNA to protein\",\n",
    "    \"Gain-of-function mutation\",\n",
    "    \"I'm he's she's we're\",\n",
    "]:\n",
    "\n",
    "    print(kwat.string.title(st))"
   ]
  },
  {
   "cell_type": "markdown",
   "metadata": {},
   "source": [
    "## trim"
   ]
  },
  {
   "cell_type": "code",
   "execution_count": null,
   "metadata": {
    "execution": {
     "iopub.execute_input": "2021-08-25T07:05:00.741574Z",
     "iopub.status.busy": "2021-08-25T07:05:00.741077Z",
     "iopub.status.idle": "2021-08-25T07:05:00.761718Z",
     "shell.execute_reply": "2021-08-25T07:05:00.762350Z"
    }
   },
   "outputs": [],
   "source": [
    "kwat.string.trim(\"abcdefghijklmnopqrstuvwxyz\")"
   ]
  },
  {
   "cell_type": "markdown",
   "metadata": {},
   "source": [
    "## untitle"
   ]
  },
  {
   "cell_type": "code",
   "execution_count": null,
   "metadata": {
    "execution": {
     "iopub.execute_input": "2021-08-25T07:05:00.766881Z",
     "iopub.status.busy": "2021-08-25T07:05:00.766344Z",
     "iopub.status.idle": "2021-08-25T07:05:00.786401Z",
     "shell.execute_reply": "2021-08-25T07:05:00.787007Z"
    },
    "tags": []
   },
   "outputs": [],
   "source": [
    "for st in [\n",
    "    \"DNA\",\n",
    "    \"to RNA\",\n",
    "    \"DNA to RNA to protein\",\n",
    "    \"Gain-of-function mutation\",\n",
    "    \"I'm he's she's we're\",\n",
    "]:\n",
    "\n",
    "    print(kwat.string.untitle(st))"
   ]
  }
 ],
 "metadata": {
  "kernelspec": {
   "display_name": "Python 3 (ipykernel)",
   "language": "python",
   "name": "python3"
  },
  "language_info": {
   "codemirror_mode": {
    "name": "ipython",
    "version": 3
   },
   "file_extension": ".py",
   "mimetype": "text/x-python",
   "name": "python",
   "nbconvert_exporter": "python",
   "pygments_lexer": "ipython3",
   "version": "3.9.6"
  }
 },
 "nbformat": 4,
 "nbformat_minor": 4
}
