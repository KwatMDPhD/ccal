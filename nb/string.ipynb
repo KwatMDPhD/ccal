{
 "cells": [
  {
   "cell_type": "code",
   "execution_count": null,
   "metadata": {
    "tags": []
   },
   "outputs": [],
   "source": [
    "%load_ext autoreload\n",
    "%autoreload 2"
   ]
  },
  {
   "cell_type": "code",
   "execution_count": null,
   "metadata": {
    "tags": []
   },
   "outputs": [],
   "source": [
    "import kwat"
   ]
  },
  {
   "cell_type": "markdown",
   "metadata": {},
   "source": [
    "## title"
   ]
  },
  {
   "cell_type": "code",
   "execution_count": null,
   "metadata": {
    "execution": {
     "iopub.execute_input": "2021-06-02T09:06:50.707840Z",
     "iopub.status.busy": "2021-06-02T09:06:50.707327Z",
     "iopub.status.idle": "2021-06-02T09:06:50.725876Z",
     "shell.execute_reply": "2021-06-02T09:06:50.726335Z"
    },
    "tags": []
   },
   "outputs": [],
   "source": [
    "for st in [\n",
    "    \"DNA\",\n",
    "    \"to RNA\",\n",
    "    \"DNA to RNA to protein\",\n",
    "    \"Gain-of-function mutation\",\n",
    "    \"I'm he's she's we're\",\n",
    "]:\n",
    "\n",
    "    print(kwat.string.title(st))"
   ]
  },
  {
   "cell_type": "markdown",
   "metadata": {},
   "source": [
    "## untitle"
   ]
  },
  {
   "cell_type": "code",
   "execution_count": null,
   "metadata": {
    "execution": {
     "iopub.execute_input": "2021-06-02T09:06:50.729450Z",
     "iopub.status.busy": "2021-06-02T09:06:50.728937Z",
     "iopub.status.idle": "2021-06-02T09:06:50.746239Z",
     "shell.execute_reply": "2021-06-02T09:06:50.746665Z"
    },
    "tags": []
   },
   "outputs": [],
   "source": [
    "for st in [\n",
    "    \"DNA\",\n",
    "    \"to RNA\",\n",
    "    \"DNA to RNA to protein\",\n",
    "    \"Gain-of-function mutation\",\n",
    "    \"I'm he's she's we're\",\n",
    "]:\n",
    "\n",
    "    print(kwat.string.untitle(st))"
   ]
  },
  {
   "cell_type": "markdown",
   "metadata": {},
   "source": [
    "## check_is_version"
   ]
  },
  {
   "cell_type": "code",
   "execution_count": null,
   "metadata": {
    "execution": {
     "iopub.execute_input": "2021-06-02T09:06:50.749975Z",
     "iopub.status.busy": "2021-06-02T09:06:50.749440Z",
     "iopub.status.idle": "2021-06-02T09:06:50.768922Z",
     "shell.execute_reply": "2021-06-02T09:06:50.769434Z"
    },
    "tags": []
   },
   "outputs": [],
   "source": [
    "for st in [\n",
    "    \"1\",\n",
    "    \"1.\",\n",
    "    \"1.2\",\n",
    "    \"1.2.\",\n",
    "    \"1.2.3\",\n",
    "    \"1.2.3.\",\n",
    "    \"01.2.3\",\n",
    "    \"1.02.3\",\n",
    "    \"1.2.03\",\n",
    "    \"1x2x3\",\n",
    "    \"11.22.33\",\n",
    "]:\n",
    "\n",
    "    print(kwat.string.check_is_version(st))"
   ]
  },
  {
   "cell_type": "markdown",
   "metadata": {},
   "source": [
    "## split"
   ]
  },
  {
   "cell_type": "code",
   "execution_count": null,
   "metadata": {
    "execution": {
     "iopub.execute_input": "2021-06-02T09:06:50.772905Z",
     "iopub.status.busy": "2021-06-02T09:06:50.772353Z",
     "iopub.status.idle": "2021-06-02T09:06:50.791915Z",
     "shell.execute_reply": "2021-06-02T09:06:50.792377Z"
    },
    "tags": []
   },
   "outputs": [],
   "source": [
    "for st in ['It said \"Hello World\"', \"It said 'Hello World'\", \"I'm he's she's we're\"]:\n",
    "\n",
    "    print(kwat.string.split(st))"
   ]
  },
  {
   "cell_type": "markdown",
   "metadata": {},
   "source": [
    "## make_unique"
   ]
  },
  {
   "cell_type": "code",
   "execution_count": null,
   "metadata": {
    "execution": {
     "iopub.execute_input": "2021-06-02T09:06:50.795842Z",
     "iopub.status.busy": "2021-06-02T09:06:50.795019Z",
     "iopub.status.idle": "2021-06-02T09:06:50.821200Z",
     "shell.execute_reply": "2021-06-02T09:06:50.821638Z"
    },
    "tags": []
   },
   "outputs": [],
   "source": [
    "kwat.string.make_unique([\"a\", \"a\", \"a\", \"b\", \"b\", \"b\", \"a\", \"b\", \"\", \"\"])"
   ]
  },
  {
   "cell_type": "markdown",
   "metadata": {},
   "source": [
    "## trim"
   ]
  },
  {
   "cell_type": "code",
   "execution_count": null,
   "metadata": {},
   "outputs": [],
   "source": [
    "kwat.string.trim(\"abcdefghijklmnopqrstuvwxyz\")"
   ]
  }
 ],
 "metadata": {
  "kernelspec": {
   "display_name": "Python 3 (ipykernel)",
   "language": "python",
   "name": "python3"
  },
  "language_info": {
   "codemirror_mode": {
    "name": "ipython",
    "version": 3
   },
   "file_extension": ".py",
   "mimetype": "text/x-python",
   "name": "python",
   "nbconvert_exporter": "python",
   "pygments_lexer": "ipython3",
   "version": "3.9.6"
  }
 },
 "nbformat": 4,
 "nbformat_minor": 4
}
