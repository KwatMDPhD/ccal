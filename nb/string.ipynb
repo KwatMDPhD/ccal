{
 "cells": [
  {
   "cell_type": "code",
   "execution_count": null,
   "metadata": {
    "execution": {
     "iopub.execute_input": "2021-08-23T06:01:46.610640Z",
     "iopub.status.busy": "2021-08-23T06:01:46.609903Z",
     "iopub.status.idle": "2021-08-23T06:01:46.623916Z",
     "shell.execute_reply": "2021-08-23T06:01:46.624309Z"
    },
    "tags": []
   },
   "outputs": [],
   "source": [
    "%load_ext autoreload\n",
    "%autoreload 2"
   ]
  },
  {
   "cell_type": "code",
   "execution_count": null,
   "metadata": {
    "execution": {
     "iopub.execute_input": "2021-08-23T06:01:46.627844Z",
     "iopub.status.busy": "2021-08-23T06:01:46.627252Z",
     "iopub.status.idle": "2021-08-23T06:01:47.289459Z",
     "shell.execute_reply": "2021-08-23T06:01:47.288957Z"
    }
   },
   "outputs": [],
   "source": [
    "import kwat"
   ]
  },
  {
   "cell_type": "markdown",
   "metadata": {},
   "source": [
    "## check_is_version"
   ]
  },
  {
   "cell_type": "code",
   "execution_count": null,
   "metadata": {
    "execution": {
     "iopub.execute_input": "2021-08-23T06:01:47.294187Z",
     "iopub.status.busy": "2021-08-23T06:01:47.293522Z",
     "iopub.status.idle": "2021-08-23T06:01:47.317668Z",
     "shell.execute_reply": "2021-08-23T06:01:47.318175Z"
    }
   },
   "outputs": [],
   "source": [
    "for st in [\n",
    "    \"1\",\n",
    "    \"1.\",\n",
    "    \"1.2\",\n",
    "    \"1.2.\",\n",
    "    \"1.2.3\",\n",
    "    \"1.2.3.\",\n",
    "    \"01.2.3\",\n",
    "    \"1.02.3\",\n",
    "    \"1.2.03\",\n",
    "    \"1x2x3\",\n",
    "    \"11.22.33\",\n",
    "]:\n",
    "\n",
    "    print(kwat.string.check_is_version(st))"
   ]
  },
  {
   "cell_type": "markdown",
   "metadata": {},
   "source": [
    "## make_unique"
   ]
  },
  {
   "cell_type": "code",
   "execution_count": null,
   "metadata": {
    "execution": {
     "iopub.execute_input": "2021-08-23T06:01:47.321973Z",
     "iopub.status.busy": "2021-08-23T06:01:47.321393Z",
     "iopub.status.idle": "2021-08-23T06:01:47.350134Z",
     "shell.execute_reply": "2021-08-23T06:01:47.350509Z"
    },
    "tags": []
   },
   "outputs": [],
   "source": [
    "kwat.string.make_unique([\"a\", \"a\", \"a\", \"b\", \"b\", \"b\", \"a\", \"b\", \"\", \"\"])"
   ]
  },
  {
   "cell_type": "markdown",
   "metadata": {},
   "source": [
    "## split"
   ]
  },
  {
   "cell_type": "code",
   "execution_count": null,
   "metadata": {
    "execution": {
     "iopub.execute_input": "2021-08-23T06:01:47.354442Z",
     "iopub.status.busy": "2021-08-23T06:01:47.353923Z",
     "iopub.status.idle": "2021-08-23T06:01:47.377032Z",
     "shell.execute_reply": "2021-08-23T06:01:47.377450Z"
    },
    "tags": []
   },
   "outputs": [],
   "source": [
    "for st in ['It said \"Hello World\"', \"It said 'Hello World'\", \"I'm he's she's we're\"]:\n",
    "\n",
    "    print(kwat.string.split(st))"
   ]
  },
  {
   "cell_type": "markdown",
   "metadata": {},
   "source": [
    "## title"
   ]
  },
  {
   "cell_type": "code",
   "execution_count": null,
   "metadata": {
    "execution": {
     "iopub.execute_input": "2021-08-23T06:01:47.381122Z",
     "iopub.status.busy": "2021-08-23T06:01:47.380441Z",
     "iopub.status.idle": "2021-08-23T06:01:47.404268Z",
     "shell.execute_reply": "2021-08-23T06:01:47.404692Z"
    }
   },
   "outputs": [],
   "source": [
    "for st in [\n",
    "    \"DNA\",\n",
    "    \"to RNA\",\n",
    "    \"DNA to RNA to protein\",\n",
    "    \"Gain-of-function mutation\",\n",
    "    \"I'm he's she's we're\",\n",
    "]:\n",
    "\n",
    "    print(kwat.string.title(st))"
   ]
  },
  {
   "cell_type": "markdown",
   "metadata": {},
   "source": [
    "## trim"
   ]
  },
  {
   "cell_type": "code",
   "execution_count": null,
   "metadata": {
    "execution": {
     "iopub.execute_input": "2021-08-23T06:01:47.408324Z",
     "iopub.status.busy": "2021-08-23T06:01:47.407530Z",
     "iopub.status.idle": "2021-08-23T06:01:47.430968Z",
     "shell.execute_reply": "2021-08-23T06:01:47.431449Z"
    }
   },
   "outputs": [],
   "source": [
    "kwat.string.trim(\"abcdefghijklmnopqrstuvwxyz\")"
   ]
  },
  {
   "cell_type": "markdown",
   "metadata": {},
   "source": [
    "## untitle"
   ]
  },
  {
   "cell_type": "code",
   "execution_count": null,
   "metadata": {
    "execution": {
     "iopub.execute_input": "2021-08-23T06:01:47.435044Z",
     "iopub.status.busy": "2021-08-23T06:01:47.434485Z",
     "iopub.status.idle": "2021-08-23T06:01:47.456138Z",
     "shell.execute_reply": "2021-08-23T06:01:47.456554Z"
    },
    "tags": []
   },
   "outputs": [],
   "source": [
    "for st in [\n",
    "    \"DNA\",\n",
    "    \"to RNA\",\n",
    "    \"DNA to RNA to protein\",\n",
    "    \"Gain-of-function mutation\",\n",
    "    \"I'm he's she's we're\",\n",
    "]:\n",
    "\n",
    "    print(kwat.string.untitle(st))"
   ]
  }
 ],
 "metadata": {
  "kernelspec": {
   "display_name": "Python 3 (ipykernel)",
   "language": "python",
   "name": "python3"
  },
  "language_info": {
   "codemirror_mode": {
    "name": "ipython",
    "version": 3
   },
   "file_extension": ".py",
   "mimetype": "text/x-python",
   "name": "python",
   "nbconvert_exporter": "python",
   "pygments_lexer": "ipython3",
   "version": "3.9.6"
  }
 },
 "nbformat": 4,
 "nbformat_minor": 4
}
