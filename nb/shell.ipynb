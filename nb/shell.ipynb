{
 "cells": [
  {
   "cell_type": "code",
   "execution_count": null,
   "metadata": {
    "execution": {
     "iopub.execute_input": "2021-06-02T09:06:11.175291Z",
     "iopub.status.busy": "2021-06-02T09:06:11.174543Z",
     "iopub.status.idle": "2021-06-02T09:06:11.188403Z",
     "shell.execute_reply": "2021-06-02T09:06:11.188870Z"
    },
    "tags": []
   },
   "outputs": [],
   "source": [
    "%load_ext autoreload\n",
    "%autoreload 2"
   ]
  },
  {
   "cell_type": "code",
   "execution_count": null,
   "metadata": {
    "ExecuteTime": {
     "end_time": "2018-05-15T09:28:55.668422Z",
     "start_time": "2018-05-15T09:28:55.428950Z"
    },
    "execution": {
     "iopub.execute_input": "2021-06-02T09:06:11.192419Z",
     "iopub.status.busy": "2021-06-02T09:06:11.191693Z",
     "iopub.status.idle": "2021-06-02T09:06:11.777390Z",
     "shell.execute_reply": "2021-06-02T09:06:11.777799Z"
    },
    "tags": []
   },
   "outputs": [],
   "source": [
    "import kwat"
   ]
  },
  {
   "cell_type": "markdown",
   "metadata": {},
   "source": [
    "## run"
   ]
  },
  {
   "cell_type": "code",
   "execution_count": null,
   "metadata": {
    "execution": {
     "iopub.execute_input": "2021-06-02T09:06:11.781688Z",
     "iopub.status.busy": "2021-06-02T09:06:11.780885Z",
     "iopub.status.idle": "2021-06-02T09:06:11.800130Z",
     "shell.execute_reply": "2021-06-02T09:06:11.800540Z"
    }
   },
   "outputs": [],
   "source": [
    "import subprocess"
   ]
  },
  {
   "cell_type": "code",
   "execution_count": null,
   "metadata": {
    "execution": {
     "iopub.execute_input": "2021-06-02T09:06:11.803950Z",
     "iopub.status.busy": "2021-06-02T09:06:11.803323Z",
     "iopub.status.idle": "2021-06-02T09:06:11.843686Z",
     "shell.execute_reply": "2021-06-02T09:06:11.844142Z"
    },
    "tags": []
   },
   "outputs": [],
   "source": [
    "kwat.shell.run(\"ls\")"
   ]
  }
 ],
 "metadata": {
  "kernelspec": {
   "display_name": "Python 3 (ipykernel)",
   "language": "python",
   "name": "python3"
  },
  "language_info": {
   "codemirror_mode": {
    "name": "ipython",
    "version": 3
   },
   "file_extension": ".py",
   "mimetype": "text/x-python",
   "name": "python",
   "nbconvert_exporter": "python",
   "pygments_lexer": "ipython3",
   "version": "3.9.6"
  }
 },
 "nbformat": 4,
 "nbformat_minor": 4
}
