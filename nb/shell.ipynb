{
 "cells": [
  {
   "cell_type": "code",
   "execution_count": null,
   "metadata": {
    "execution": {
     "iopub.execute_input": "2021-08-25T07:04:54.275315Z",
     "iopub.status.busy": "2021-08-25T07:04:54.274579Z",
     "iopub.status.idle": "2021-08-25T07:04:54.287985Z",
     "shell.execute_reply": "2021-08-25T07:04:54.288352Z"
    },
    "tags": []
   },
   "outputs": [],
   "source": [
    "%load_ext autoreload\n",
    "%autoreload 2"
   ]
  },
  {
   "cell_type": "code",
   "execution_count": null,
   "metadata": {
    "ExecuteTime": {
     "end_time": "2018-05-15T09:28:55.668422Z",
     "start_time": "2018-05-15T09:28:55.428950Z"
    },
    "execution": {
     "iopub.execute_input": "2021-08-25T07:04:54.291718Z",
     "iopub.status.busy": "2021-08-25T07:04:54.291188Z",
     "iopub.status.idle": "2021-08-25T07:04:54.952035Z",
     "shell.execute_reply": "2021-08-25T07:04:54.952394Z"
    },
    "tags": []
   },
   "outputs": [],
   "source": [
    "import kwat"
   ]
  },
  {
   "cell_type": "markdown",
   "metadata": {},
   "source": [
    "## run"
   ]
  },
  {
   "cell_type": "code",
   "execution_count": null,
   "metadata": {
    "execution": {
     "iopub.execute_input": "2021-08-25T07:04:54.955378Z",
     "iopub.status.busy": "2021-08-25T07:04:54.954855Z",
     "iopub.status.idle": "2021-08-25T07:04:54.975447Z",
     "shell.execute_reply": "2021-08-25T07:04:54.975001Z"
    },
    "tags": []
   },
   "outputs": [],
   "source": [
    "import subprocess"
   ]
  },
  {
   "cell_type": "code",
   "execution_count": null,
   "metadata": {
    "execution": {
     "iopub.execute_input": "2021-08-25T07:04:54.978875Z",
     "iopub.status.busy": "2021-08-25T07:04:54.978299Z",
     "iopub.status.idle": "2021-08-25T07:04:55.021878Z",
     "shell.execute_reply": "2021-08-25T07:04:55.022293Z"
    },
    "tags": []
   },
   "outputs": [],
   "source": [
    "kwat.shell.run(\"ls\")"
   ]
  }
 ],
 "metadata": {
  "kernelspec": {
   "display_name": "Python 3 (ipykernel)",
   "language": "python",
   "name": "python3"
  },
  "language_info": {
   "codemirror_mode": {
    "name": "ipython",
    "version": 3
   },
   "file_extension": ".py",
   "mimetype": "text/x-python",
   "name": "python",
   "nbconvert_exporter": "python",
   "pygments_lexer": "ipython3",
   "version": "3.9.6"
  }
 },
 "nbformat": 4,
 "nbformat_minor": 4
}
