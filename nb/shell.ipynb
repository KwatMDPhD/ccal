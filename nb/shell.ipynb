{
 "cells": [
  {
   "cell_type": "code",
   "execution_count": null,
   "metadata": {
    "execution": {
     "iopub.execute_input": "2021-08-23T06:01:40.561920Z",
     "iopub.status.busy": "2021-08-23T06:01:40.561207Z",
     "iopub.status.idle": "2021-08-23T06:01:40.574570Z",
     "shell.execute_reply": "2021-08-23T06:01:40.574993Z"
    },
    "tags": []
   },
   "outputs": [],
   "source": [
    "%load_ext autoreload\n",
    "%autoreload 2"
   ]
  },
  {
   "cell_type": "code",
   "execution_count": null,
   "metadata": {
    "ExecuteTime": {
     "end_time": "2018-05-15T09:28:55.668422Z",
     "start_time": "2018-05-15T09:28:55.428950Z"
    },
    "execution": {
     "iopub.execute_input": "2021-08-23T06:01:40.578465Z",
     "iopub.status.busy": "2021-08-23T06:01:40.577876Z",
     "iopub.status.idle": "2021-08-23T06:01:41.228172Z",
     "shell.execute_reply": "2021-08-23T06:01:41.228545Z"
    },
    "tags": []
   },
   "outputs": [],
   "source": [
    "import kwat"
   ]
  },
  {
   "cell_type": "markdown",
   "metadata": {},
   "source": [
    "## run"
   ]
  },
  {
   "cell_type": "code",
   "execution_count": null,
   "metadata": {
    "execution": {
     "iopub.execute_input": "2021-08-23T06:01:41.232887Z",
     "iopub.status.busy": "2021-08-23T06:01:41.232172Z",
     "iopub.status.idle": "2021-08-23T06:01:41.253397Z",
     "shell.execute_reply": "2021-08-23T06:01:41.253783Z"
    },
    "tags": []
   },
   "outputs": [],
   "source": [
    "import subprocess"
   ]
  },
  {
   "cell_type": "code",
   "execution_count": null,
   "metadata": {
    "execution": {
     "iopub.execute_input": "2021-08-23T06:01:41.257281Z",
     "iopub.status.busy": "2021-08-23T06:01:41.256687Z",
     "iopub.status.idle": "2021-08-23T06:01:41.300750Z",
     "shell.execute_reply": "2021-08-23T06:01:41.301225Z"
    },
    "tags": []
   },
   "outputs": [],
   "source": [
    "kwat.shell.run(\"ls\")"
   ]
  }
 ],
 "metadata": {
  "kernelspec": {
   "display_name": "Python 3 (ipykernel)",
   "language": "python",
   "name": "python3"
  },
  "language_info": {
   "codemirror_mode": {
    "name": "ipython",
    "version": 3
   },
   "file_extension": ".py",
   "mimetype": "text/x-python",
   "name": "python",
   "nbconvert_exporter": "python",
   "pygments_lexer": "ipython3",
   "version": "3.9.6"
  }
 },
 "nbformat": 4,
 "nbformat_minor": 4
}
