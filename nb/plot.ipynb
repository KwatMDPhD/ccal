{
 "cells": [
  {
   "cell_type": "code",
   "execution_count": null,
   "metadata": {
    "tags": []
   },
   "outputs": [],
   "source": [
    "%load_ext autoreload\n",
    "%autoreload 2"
   ]
  },
  {
   "cell_type": "code",
   "execution_count": null,
   "metadata": {
    "ExecuteTime": {
     "end_time": "2018-05-15T09:28:55.668422Z",
     "start_time": "2018-05-15T09:28:55.428950Z"
    },
    "tags": []
   },
   "outputs": [],
   "source": [
    "import numpy as np\n",
    "import pandas as pd\n",
    "\n",
    "import kwat"
   ]
  },
  {
   "cell_type": "code",
   "execution_count": null,
   "metadata": {
    "tags": []
   },
   "outputs": [],
   "source": [
    "pa = kwat.path.get_absolute(\"~/Downloads/\")"
   ]
  },
  {
   "cell_type": "markdown",
   "metadata": {},
   "source": [
    "## plot_plotly"
   ]
  },
  {
   "cell_type": "code",
   "execution_count": null,
   "metadata": {
    "tags": []
   },
   "outputs": [],
   "source": [
    "figure = {\"layout\": {\"title\": \"Title\"}}\n",
    "\n",
    "kwat.plot.plot_plotly(figure, pa=\"{}plot.html\".format(pa))"
   ]
  },
  {
   "cell_type": "markdown",
   "metadata": {},
   "source": [
    "## CONTINUOUS_COLORSCALE"
   ]
  },
  {
   "cell_type": "markdown",
   "metadata": {},
   "source": [
    "## CATEGORICAL_COLORSCALE"
   ]
  },
  {
   "cell_type": "markdown",
   "metadata": {},
   "source": [
    "## BINARY_COLORSCALE"
   ]
  },
  {
   "cell_type": "code",
   "execution_count": null,
   "metadata": {
    "tags": []
   },
   "outputs": [],
   "source": [
    "for colorscale in [\n",
    "    kwat.plot.CONTINUOUS_COLORSCALE,\n",
    "    kwat.plot.CATEGORICAL_COLORSCALE,\n",
    "    kwat.plot.BINARY_COLORSCALE,\n",
    "]:\n",
    "\n",
    "    for nu_ in [np.arange(11), np.arange(0, 1.1, 0.1)]:\n",
    "\n",
    "        kwat.plot.plot_plotly(\n",
    "            {\n",
    "                \"data\": [\n",
    "                    {\n",
    "                        \"type\": \"heatmap\",\n",
    "                        \"z\": nu_,\n",
    "                        \"y\": [0] * len(nu_),\n",
    "                        \"x\": nu_,\n",
    "                        \"colorscale\": colorscale,\n",
    "                        \"showscale\": False,\n",
    "                    }\n",
    "                ],\n",
    "                \"layout\": {\"height\": 240, \"yaxis\": {\"showticklabels\": False}},\n",
    "            }\n",
    "        )"
   ]
  },
  {
   "cell_type": "markdown",
   "metadata": {},
   "source": [
    "## get_color"
   ]
  },
  {
   "cell_type": "code",
   "execution_count": null,
   "metadata": {
    "tags": []
   },
   "outputs": [],
   "source": [
    "for fr in np.linspace(0, 1, num=5):\n",
    "\n",
    "    print(\n",
    "        fr, kwat.plot.get_color([[0, \"#ff0000\"], [0.5, \"#00ff00\"], [1, \"#0000ff\"]], fr)\n",
    "    )"
   ]
  },
  {
   "cell_type": "code",
   "execution_count": null,
   "metadata": {
    "tags": []
   },
   "outputs": [],
   "source": [
    "colorscale = kwat.plot.CATEGORICAL_COLORSCALE\n",
    "\n",
    "for nu_, ex_ in [\n",
    "    [np.linspace(0, 1, num=10), []],\n",
    "    [range(10), [0, 9]],\n",
    "    [range(1, 11), [1, 10]],\n",
    "    [[0.5], []],\n",
    "    [[1], [0, 2]],\n",
    "    [[2], [1, 3]],\n",
    "    [[-1], []],\n",
    "    [[0], []],\n",
    "    [[1], []],\n",
    "    [[2], []],\n",
    "    [[-1, 0, 1, 2], []],\n",
    "    [[-1, 0, 1, 2], [-1, 2]],\n",
    "]:\n",
    "\n",
    "    nu_ = np.array(nu_)\n",
    "\n",
    "    data = [\n",
    "        {\n",
    "            \"y\": [0] * nu_.size,\n",
    "            \"x\": nu_,\n",
    "            \"marker\": {\"size\": 24, \"color\": nu_, \"colorscale\": colorscale},\n",
    "            \"showlegend\": False,\n",
    "        }\n",
    "    ]\n",
    "\n",
    "    for nu in nu_:\n",
    "\n",
    "        co = kwat.plot.get_color(colorscale, nu, ex_=ex_)\n",
    "\n",
    "        data.append(\n",
    "            {\n",
    "                \"y\": [1],\n",
    "                \"x\": [nu],\n",
    "                \"text\": [str(co)],\n",
    "                \"marker\": {\"size\": 24, \"color\": co},\n",
    "                \"showlegend\": False,\n",
    "            }\n",
    "        )\n",
    "\n",
    "    kwat.plot.plot_plotly(\n",
    "        {\n",
    "            \"data\": data,\n",
    "            \"layout\": {\n",
    "                \"height\": 240,\n",
    "                \"title\": {\"text\": str(ex_)},\n",
    "                \"yaxis\": {\n",
    "                    \"tickmode\": \"array\",\n",
    "                    \"tickvals\": [0, 1],\n",
    "                    \"ticktext\": [\"Colorscale\", \"Color\"],\n",
    "                },\n",
    "            },\n",
    "        }\n",
    "    )"
   ]
  },
  {
   "cell_type": "markdown",
   "metadata": {},
   "source": [
    "## plot_point"
   ]
  },
  {
   "cell_type": "code",
   "execution_count": null,
   "metadata": {
    "tags": []
   },
   "outputs": [],
   "source": [
    "an_po_pa = pd.DataFrame(\n",
    "    [[-1, -2], [0, 0], [1, 2], [2, 4], [4, 8]],\n",
    "    index=[\"A\", \"B\", \"C\", \"D\", \"E\"],\n",
    "    columns=[\"Dimension 1\", \"Dimension 2\"],\n",
    ")\n",
    "\n",
    "n_po = an_po_pa.shape[0]\n",
    "\n",
    "an_po_pa[\"Size\"] = np.arange(10, 10 + n_po) ** 1.6\n",
    "\n",
    "an_po_pa[\"Color\"] = \"#20d9ba\"\n",
    "\n",
    "an_po_pa[\"Opacity\"] = np.linspace(0.2, 1, n_po)\n",
    "\n",
    "bo_ = np.random.randint(0, 2, n_po, dtype=bool)\n",
    "\n",
    "an_po_pa[\"Annotate\"] = bo_\n",
    "\n",
    "an_po_pa.loc[bo_, [\"Size\", \"Color\", \"Opacity\"]] = [48, \"#9017e6\", 0.8]\n",
    "\n",
    "kwat.plot.plot_point(an_po_pa)\n",
    "\n",
    "an_po_pa"
   ]
  },
  {
   "cell_type": "markdown",
   "metadata": {},
   "source": [
    "## plot_heat_map"
   ]
  },
  {
   "cell_type": "code",
   "execution_count": null,
   "metadata": {
    "tags": []
   },
   "outputs": [],
   "source": [
    "si1 = 4\n",
    "\n",
    "si2 = 8\n",
    "\n",
    "da = pd.DataFrame(\n",
    "    data=np.arange(si1 * si2).reshape([si1, si2]).astype(float),\n",
    "    index=pd.Index([\"Y{}\".format(ie) for ie in range(si1)], name=\"Dimension 1\"),\n",
    "    columns=pd.Index([\"X{}\".format(ie) for ie in range(si2)], name=\"Dimension 2\"),\n",
    ")\n",
    "\n",
    "da.iloc[:2, :2] = np.nan\n",
    "\n",
    "gr1_la = {gr: \"Organ 1 {}\".format(gr) for gr in range(10)}\n",
    "\n",
    "gr2_la = {gr: \"Physiology 2 {}\".format(gr) for gr in range(10)}\n",
    "\n",
    "kwat.plot.plot_heat_map(\n",
    "    da,\n",
    "    gr1_=np.random.randint(0, high=2, size=si1),\n",
    "    colorscale1=\"teal\",\n",
    "    gr1_la=gr1_la,\n",
    "    gr2_=np.random.randint(0, high=4, size=si2),\n",
    "    colorscale2=\"purp\",\n",
    "    gr2_la=gr2_la,\n",
    ")\n",
    "\n",
    "da"
   ]
  },
  {
   "cell_type": "markdown",
   "metadata": {},
   "source": [
    "## plot_bubble_map"
   ]
  },
  {
   "cell_type": "code",
   "execution_count": null,
   "metadata": {
    "tags": []
   },
   "outputs": [],
   "source": [
    "si1 = 4\n",
    "\n",
    "si2 = 8\n",
    "\n",
    "si_an_an = pd.DataFrame(\n",
    "    (np.arange(si1 * si2).reshape([si1, si2]).astype(float)),\n",
    "    pd.Index([\"Y{}\".format(ie) for ie in range(si1)], name=\"Dimension 1\"),\n",
    "    columns=pd.Index([\"X{}\".format(ie) for ie in range(si2)], name=\"Dimension 2\"),\n",
    ")\n",
    "\n",
    "si_an_an.iloc[:2, :2] = np.nan\n",
    "\n",
    "kwat.plot.plot_bubble_map(\n",
    "    si_an_an, mac=-si_an_an.values, layout={\"title\": {\"text\": \"Bubble Map\"}}\n",
    ")\n",
    "\n",
    "si_an_an"
   ]
  },
  {
   "cell_type": "markdown",
   "metadata": {},
   "source": [
    "## plot_histogram"
   ]
  },
  {
   "cell_type": "code",
   "execution_count": null,
   "metadata": {
    "tags": []
   },
   "outputs": [],
   "source": [
    "n_po = 32\n",
    "\n",
    "kwat.plot.plot_histogram(\n",
    "    [\n",
    "        pd.Series(\n",
    "            np.random.random_sample(n_po),\n",
    "            (\"A{}\".format(ie) for ie in range(n_po)),\n",
    "            name=\"Uniform\",\n",
    "        ),\n",
    "        pd.Series(\n",
    "            np.random.normal(size=n_po),\n",
    "            (\"B{}\".format(ie) for ie in range(n_po)),\n",
    "            name=\"Normal\",\n",
    "        ),\n",
    "        pd.Series(\n",
    "            np.random.randint(0, 8, n_po),\n",
    "            (\"C{}\".format(ie) for ie in range(n_po)),\n",
    "            name=\"8 Category\",\n",
    "        ),\n",
    "        pd.Series(\n",
    "            np.random.randint(0, 16, n_po),\n",
    "            (\"D{}\".format(ie) for ie in range(n_po)),\n",
    "            name=\"16 Category\",\n",
    "        ),\n",
    "    ],\n",
    "    layout={\"title\": {\"text\": \"Histogram\"}, \"xaxis\": {\"title\": {\"text\": \"Number\"}}},\n",
    ")"
   ]
  }
 ],
 "metadata": {
  "kernelspec": {
   "display_name": "Python 3 (ipykernel)",
   "language": "python",
   "name": "python3"
  },
  "language_info": {
   "codemirror_mode": {
    "name": "ipython",
    "version": 3
   },
   "file_extension": ".py",
   "mimetype": "text/x-python",
   "name": "python",
   "nbconvert_exporter": "python",
   "pygments_lexer": "ipython3",
   "version": "3.9.6"
  }
 },
 "nbformat": 4,
 "nbformat_minor": 4
}
