{
 "cells": [
  {
   "cell_type": "code",
   "execution_count": null,
   "metadata": {
    "execution": {
     "iopub.execute_input": "2021-08-25T07:04:36.748303Z",
     "iopub.status.busy": "2021-08-25T07:04:36.747666Z",
     "iopub.status.idle": "2021-08-25T07:04:36.762098Z",
     "shell.execute_reply": "2021-08-25T07:04:36.762539Z"
    },
    "tags": []
   },
   "outputs": [],
   "source": [
    "%load_ext autoreload\n",
    "%autoreload 2"
   ]
  },
  {
   "cell_type": "code",
   "execution_count": null,
   "metadata": {
    "ExecuteTime": {
     "end_time": "2018-05-15T09:28:55.668422Z",
     "start_time": "2018-05-15T09:28:55.428950Z"
    },
    "execution": {
     "iopub.execute_input": "2021-08-25T07:04:36.766360Z",
     "iopub.status.busy": "2021-08-25T07:04:36.765727Z",
     "iopub.status.idle": "2021-08-25T07:04:37.464648Z",
     "shell.execute_reply": "2021-08-25T07:04:37.465022Z"
    },
    "tags": []
   },
   "outputs": [],
   "source": [
    "import kwat"
   ]
  },
  {
   "cell_type": "code",
   "execution_count": null,
   "metadata": {
    "execution": {
     "iopub.execute_input": "2021-08-25T07:04:37.468429Z",
     "iopub.status.busy": "2021-08-25T07:04:37.467897Z",
     "iopub.status.idle": "2021-08-25T07:04:37.490669Z",
     "shell.execute_reply": "2021-08-25T07:04:37.491041Z"
    },
    "tags": []
   },
   "outputs": [],
   "source": [
    "pa = kwat.path.get_absolute(\"~/Downloads/\")"
   ]
  },
  {
   "cell_type": "markdown",
   "metadata": {},
   "source": [
    "## plot_plotly"
   ]
  },
  {
   "cell_type": "code",
   "execution_count": null,
   "metadata": {
    "execution": {
     "iopub.execute_input": "2021-08-25T07:04:37.494777Z",
     "iopub.status.busy": "2021-08-25T07:04:37.493931Z",
     "iopub.status.idle": "2021-08-25T07:04:37.782217Z",
     "shell.execute_reply": "2021-08-25T07:04:37.781821Z"
    },
    "tags": []
   },
   "outputs": [],
   "source": [
    "figure = {\n",
    "    \"layout\": {\n",
    "        \"title\": \"Title\",\n",
    "    },\n",
    "}\n",
    "\n",
    "kwat.plot.plot_plotly(figure, pa=\"{}plot.html\".format(pa))"
   ]
  },
  {
   "cell_type": "markdown",
   "metadata": {},
   "source": [
    "## CONTINUOUS_COLORSCALE"
   ]
  },
  {
   "cell_type": "markdown",
   "metadata": {},
   "source": [
    "## CATEGORICAL_COLORSCALE"
   ]
  },
  {
   "cell_type": "markdown",
   "metadata": {},
   "source": [
    "## BINARY_COLORSCALE"
   ]
  },
  {
   "cell_type": "code",
   "execution_count": null,
   "metadata": {
    "execution": {
     "iopub.execute_input": "2021-08-25T07:04:37.786055Z",
     "iopub.status.busy": "2021-08-25T07:04:37.785556Z",
     "iopub.status.idle": "2021-08-25T07:04:37.810066Z",
     "shell.execute_reply": "2021-08-25T07:04:37.810419Z"
    },
    "tags": []
   },
   "outputs": [],
   "source": [
    "import numpy as np"
   ]
  },
  {
   "cell_type": "code",
   "execution_count": null,
   "metadata": {
    "execution": {
     "iopub.execute_input": "2021-08-25T07:04:37.815066Z",
     "iopub.status.busy": "2021-08-25T07:04:37.814444Z",
     "iopub.status.idle": "2021-08-25T07:04:37.945984Z",
     "shell.execute_reply": "2021-08-25T07:04:37.946411Z"
    },
    "tags": []
   },
   "outputs": [],
   "source": [
    "for colorscale in (\n",
    "    kwat.plot.CONTINUOUS_COLORSCALE,\n",
    "    kwat.plot.CATEGORICAL_COLORSCALE,\n",
    "    kwat.plot.BINARY_COLORSCALE,\n",
    "):\n",
    "\n",
    "    for nu_ in [np.arange(11), np.arange(0, 1.1, 0.1)]:\n",
    "\n",
    "        kwat.plot.plot_plotly(\n",
    "            {\n",
    "                \"data\": [\n",
    "                    {\n",
    "                        \"type\": \"heatmap\",\n",
    "                        \"z\": nu_,\n",
    "                        \"y\": [0] * len(nu_),\n",
    "                        \"x\": nu_,\n",
    "                        \"colorscale\": colorscale,\n",
    "                        \"showscale\": False,\n",
    "                    }\n",
    "                ],\n",
    "                \"layout\": {\n",
    "                    \"height\": 240,\n",
    "                },\n",
    "            }\n",
    "        )"
   ]
  },
  {
   "cell_type": "markdown",
   "metadata": {},
   "source": [
    "## get_color"
   ]
  },
  {
   "cell_type": "code",
   "execution_count": null,
   "metadata": {
    "execution": {
     "iopub.execute_input": "2021-08-25T07:04:37.950239Z",
     "iopub.status.busy": "2021-08-25T07:04:37.949637Z",
     "iopub.status.idle": "2021-08-25T07:04:37.979201Z",
     "shell.execute_reply": "2021-08-25T07:04:37.979625Z"
    },
    "tags": []
   },
   "outputs": [],
   "source": [
    "for fr in np.linspace(0, 1, 5):\n",
    "\n",
    "    print(kwat.plot.get_color([[0, \"#ff0000\"], [0.5, \"#00ff00\"], [1, \"#0000ff\"]], fr))"
   ]
  },
  {
   "cell_type": "code",
   "execution_count": null,
   "metadata": {
    "execution": {
     "iopub.execute_input": "2021-08-25T07:04:37.986974Z",
     "iopub.status.busy": "2021-08-25T07:04:37.986353Z",
     "iopub.status.idle": "2021-08-25T07:04:38.131928Z",
     "shell.execute_reply": "2021-08-25T07:04:38.132314Z"
    },
    "tags": []
   },
   "outputs": [],
   "source": [
    "colorscale = kwat.plot.CATEGORICAL_COLORSCALE\n",
    "\n",
    "for (nu_, n_co) in [\n",
    "    [np.linspace(0, 1, 10), None],\n",
    "    [np.arange(10), 10],\n",
    "    [[0.5], None],\n",
    "    [[1], None],\n",
    "    [[0], None],\n",
    "    [[1], 3],\n",
    "]:\n",
    "\n",
    "    print(nu_)\n",
    "\n",
    "    print(n_co)\n",
    "\n",
    "    if n_co is not None:\n",
    "\n",
    "        nu_ = [nu / (n_co - 1) for nu in nu_]\n",
    "\n",
    "    nu_ = np.array(nu_)\n",
    "\n",
    "    data = [\n",
    "        {\n",
    "            \"y\": [0] * nu_.size,\n",
    "            \"x\": nu_,\n",
    "            \"mode\": \"markers\",\n",
    "            \"marker\": {\n",
    "                \"size\": 32,\n",
    "                \"color\": nu_,\n",
    "                \"colorscale\": colorscale,\n",
    "            },\n",
    "            \"showlegend\": False,\n",
    "        }\n",
    "    ]\n",
    "\n",
    "    for nu in nu_:\n",
    "\n",
    "        data.append(\n",
    "            {\n",
    "                \"y\": [1],\n",
    "                \"x\": [nu],\n",
    "                \"marker\": {\n",
    "                    \"size\": 32,\n",
    "                    \"color\": kwat.plot.get_color(colorscale, nu),\n",
    "                },\n",
    "                \"showlegend\": False,\n",
    "            }\n",
    "        )\n",
    "\n",
    "    kwat.plot.plot_plotly(\n",
    "        {\n",
    "            \"data\": data,\n",
    "            \"layout\": {\n",
    "                \"yaxis\": {\n",
    "                    \"tickmode\": \"array\",\n",
    "                    \"tickvals\": [0, 1],\n",
    "                    \"ticktext\": [\"Colorscale\", \"Color\"],\n",
    "                },\n",
    "            },\n",
    "        }\n",
    "    )"
   ]
  },
  {
   "cell_type": "markdown",
   "metadata": {},
   "source": [
    "## plot_point"
   ]
  },
  {
   "cell_type": "code",
   "execution_count": null,
   "metadata": {
    "execution": {
     "iopub.execute_input": "2021-08-25T07:04:38.136150Z",
     "iopub.status.busy": "2021-08-25T07:04:38.135616Z",
     "iopub.status.idle": "2021-08-25T07:04:38.162248Z",
     "shell.execute_reply": "2021-08-25T07:04:38.162618Z"
    },
    "tags": []
   },
   "outputs": [],
   "source": [
    "import pandas as pd"
   ]
  },
  {
   "cell_type": "code",
   "execution_count": null,
   "metadata": {
    "execution": {
     "iopub.execute_input": "2021-08-25T07:04:38.167771Z",
     "iopub.status.busy": "2021-08-25T07:04:38.167243Z",
     "iopub.status.idle": "2021-08-25T07:04:38.234905Z",
     "shell.execute_reply": "2021-08-25T07:04:38.235472Z"
    },
    "tags": []
   },
   "outputs": [],
   "source": [
    "an_po_pa = pd.DataFrame(\n",
    "    [[-1, -2], [0, 0], [1, 2], [2, 4], [4, 8]],\n",
    "    index=[\"A\", \"B\", \"C\", \"D\", \"E\"],\n",
    "    columns=[\"Dimension 1\", \"Dimension 2\"],\n",
    ")\n",
    "\n",
    "n_po = an_po_pa.shape[0]\n",
    "\n",
    "an_po_pa[\"Size\"] = np.arange(10, 10 + n_po) ** 1.6\n",
    "\n",
    "an_po_pa[\"Color\"] = \"#20d9ba\"\n",
    "\n",
    "an_po_pa[\"Opacity\"] = np.linspace(0.2, 1, n_po)\n",
    "\n",
    "bo_ = np.random.randint(0, 2, n_po, dtype=bool)\n",
    "\n",
    "an_po_pa[\"Annotate\"] = bo_\n",
    "\n",
    "an_po_pa.loc[bo_, [\"Size\", \"Color\", \"Opacity\"]] = [48, \"#9017e6\", 0.8]\n",
    "\n",
    "kwat.plot.plot_point(an_po_pa)\n",
    "\n",
    "an_po_pa"
   ]
  },
  {
   "cell_type": "markdown",
   "metadata": {},
   "source": [
    "## plot_heat_map"
   ]
  },
  {
   "cell_type": "code",
   "execution_count": null,
   "metadata": {
    "execution": {
     "iopub.execute_input": "2021-08-25T07:04:38.240473Z",
     "iopub.status.busy": "2021-08-25T07:04:38.239961Z",
     "iopub.status.idle": "2021-08-25T07:04:38.299799Z",
     "shell.execute_reply": "2021-08-25T07:04:38.300155Z"
    },
    "tags": []
   },
   "outputs": [],
   "source": [
    "si1 = 4\n",
    "\n",
    "si2 = 8\n",
    "\n",
    "nu_an_an = pd.DataFrame(\n",
    "    (np.arange(si1 * si2).reshape([si1, si2]).astype(float)),\n",
    "    pd.Index([\"Y{}\".format(ie) for ie in range(si1)], name=\"Dimension 1\"),\n",
    "    columns=pd.Index([\"X{}\".format(ie) for ie in range(si2)], name=\"Dimension 2\"),\n",
    ")\n",
    "\n",
    "nu_an_an.iloc[:2, :2] = np.nan\n",
    "\n",
    "gr1_la = {gr: \"Organ 1 {}\".format(gr) for gr in range(10)}\n",
    "\n",
    "gr2_la = {gr: \"Physiology 2 {}\".format(gr) for gr in range(10)}\n",
    "\n",
    "kwat.plot.plot_heat_map(\n",
    "    nu_an_an,\n",
    "    #     gr1_=np.random.randint(0, 2, si1),\n",
    "    #     colorscale1=\"teal\",\n",
    "    #     gr1_la=gr1_la,\n",
    "    #     gr2_=np.random.randint(0, 4, si2),\n",
    "    #     colorscale2=\"purp\",\n",
    "    #     gr2_la=gr2_la,\n",
    "    layout={\n",
    "        \"title\": {\n",
    "            \"text\": \"Heat Map\",\n",
    "        },\n",
    "    },\n",
    ")\n",
    "\n",
    "nu_an_an"
   ]
  },
  {
   "cell_type": "markdown",
   "metadata": {},
   "source": [
    "## plot_bubble_map"
   ]
  },
  {
   "cell_type": "code",
   "execution_count": null,
   "metadata": {
    "execution": {
     "iopub.execute_input": "2021-08-25T07:04:38.304976Z",
     "iopub.status.busy": "2021-08-25T07:04:38.304441Z",
     "iopub.status.idle": "2021-08-25T07:04:38.366267Z",
     "shell.execute_reply": "2021-08-25T07:04:38.365877Z"
    },
    "tags": []
   },
   "outputs": [],
   "source": [
    "si1 = 4\n",
    "\n",
    "si2 = 8\n",
    "\n",
    "si_an_an = pd.DataFrame(\n",
    "    (np.arange(si1 * si2).reshape([si1, si2]).astype(float)),\n",
    "    pd.Index([\"Y{}\".format(ie) for ie in range(si1)], name=\"Dimension 1\"),\n",
    "    columns=pd.Index([\"X{}\".format(ie) for ie in range(si2)], name=\"Dimension 2\"),\n",
    ")\n",
    "\n",
    "si_an_an.iloc[:2, :2] = np.nan\n",
    "\n",
    "kwat.plot.plot_bubble_map(\n",
    "    si_an_an,\n",
    "    co_an_an=-si_an_an.values,\n",
    "    layout={\n",
    "        \"title\": {\n",
    "            \"text\": \"Bubble Map\",\n",
    "        },\n",
    "    },\n",
    ")\n",
    "\n",
    "si_an_an"
   ]
  },
  {
   "cell_type": "markdown",
   "metadata": {},
   "source": [
    "## plot_histogram"
   ]
  },
  {
   "cell_type": "code",
   "execution_count": null,
   "metadata": {
    "execution": {
     "iopub.execute_input": "2021-08-25T07:04:38.371677Z",
     "iopub.status.busy": "2021-08-25T07:04:38.371113Z",
     "iopub.status.idle": "2021-08-25T07:04:38.421439Z",
     "shell.execute_reply": "2021-08-25T07:04:38.421795Z"
    },
    "tags": []
   },
   "outputs": [],
   "source": [
    "n_po = 32\n",
    "\n",
    "kwat.plot.plot_histogram(\n",
    "    [\n",
    "        pd.Series(\n",
    "            np.random.random_sample(n_po),\n",
    "            (\"A{}\".format(ie) for ie in range(n_po)),\n",
    "            name=\"Uniform\",\n",
    "        ),\n",
    "        pd.Series(\n",
    "            np.random.normal(size=n_po),\n",
    "            (\"B{}\".format(ie) for ie in range(n_po)),\n",
    "            name=\"Normal\",\n",
    "        ),\n",
    "        pd.Series(\n",
    "            np.random.randint(0, 8, n_po),\n",
    "            (\"C{}\".format(ie) for ie in range(n_po)),\n",
    "            name=\"8 Category\",\n",
    "        ),\n",
    "        pd.Series(\n",
    "            np.random.randint(0, 16, n_po),\n",
    "            (\"D{}\".format(ie) for ie in range(n_po)),\n",
    "            name=\"16 Category\",\n",
    "        ),\n",
    "    ],\n",
    "    layout={\n",
    "        \"title\": {\n",
    "            \"text\": \"Histogram\",\n",
    "        },\n",
    "        \"xaxis\": {\n",
    "            \"title\": {\n",
    "                \"text\": \"Number\",\n",
    "            },\n",
    "        },\n",
    "    },\n",
    ")"
   ]
  }
 ],
 "metadata": {
  "kernelspec": {
   "display_name": "Python 3 (ipykernel)",
   "language": "python",
   "name": "python3"
  },
  "language_info": {
   "codemirror_mode": {
    "name": "ipython",
    "version": 3
   },
   "file_extension": ".py",
   "mimetype": "text/x-python",
   "name": "python",
   "nbconvert_exporter": "python",
   "pygments_lexer": "ipython3",
   "version": "3.9.6"
  }
 },
 "nbformat": 4,
 "nbformat_minor": 4
}
