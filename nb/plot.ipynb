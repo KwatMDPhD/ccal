{
 "cells": [
  {
   "outputs": [],
   "cell_type": "code",
   "source": [
    "%load_ext autoreload\n",
    "%autoreload 2"
   ],
   "metadata": {},
   "execution_count": null
  },
  {
   "outputs": [],
   "cell_type": "code",
   "source": [
    "import kwat\n",
    "import numpy as np\n",
    "import pandas as pd"
   ],
   "metadata": {},
   "execution_count": null
  },
  {
   "outputs": [],
   "cell_type": "code",
   "source": [
    "pa = kwat.path.get_absolute(\"~/Downloads/\")"
   ],
   "metadata": {},
   "execution_count": null
  },
  {
   "cell_type": "markdown",
   "source": [
    "## plot_plotly"
   ],
   "metadata": {}
  },
  {
   "outputs": [],
   "cell_type": "code",
   "source": [
    "figure = {\"layout\": {\"title\": \"Title\"}}\n",
    "\n",
    "kwat.plot.plot_plotly(figure, pa=\"{}plot.html\".format(pa))"
   ],
   "metadata": {},
   "execution_count": null
  },
  {
   "cell_type": "markdown",
   "source": [
    "## CONTINUOUS_COLORSCALE"
   ],
   "metadata": {}
  },
  {
   "cell_type": "markdown",
   "source": [
    "## CATEGORICAL_COLORSCALE"
   ],
   "metadata": {}
  },
  {
   "cell_type": "markdown",
   "source": [
    "## BINARY_COLORSCALE"
   ],
   "metadata": {}
  },
  {
   "outputs": [],
   "cell_type": "code",
   "source": [
    "for colorscale in [\n",
    "    kwat.plot.CONTINUOUS_COLORSCALE,\n",
    "    kwat.plot.CATEGORICAL_COLORSCALE,\n",
    "    kwat.plot.BINARY_COLORSCALE,\n",
    "]:\n",
    "    for nu_ in [np.arange(11), np.arange(0, 1.1, 0.1)]:\n",
    "        kwat.plot.plot_plotly(\n",
    "            {\n",
    "                \"data\": [\n",
    "                    {\n",
    "                        \"type\": \"heatmap\",\n",
    "                        \"z\": nu_,\n",
    "                        \"y\": [0] * len(nu_),\n",
    "                        \"x\": nu_,\n",
    "                        \"colorscale\": colorscale,\n",
    "                        \"showscale\": False,\n",
    "                    }\n",
    "                ],\n",
    "                \"layout\": {\"height\": 240, \"yaxis\": {\"showticklabels\": False}},\n",
    "            }\n",
    "        )"
   ],
   "metadata": {},
   "execution_count": null
  },
  {
   "cell_type": "markdown",
   "source": [
    "## get_color"
   ],
   "metadata": {}
  },
  {
   "outputs": [],
   "cell_type": "code",
   "source": [
    "for nu in np.linspace(0, 1, num=5):\n",
    "    print(\n",
    "        nu, kwat.plot.get_color([[0, \"#ff0000\"], [0.5, \"#00ff00\"], [1, \"#0000ff\"]], nu)\n",
    "    )"
   ],
   "metadata": {},
   "execution_count": null
  },
  {
   "outputs": [],
   "cell_type": "code",
   "source": [
    "colorscale = kwat.plot.CATEGORICAL_COLORSCALE\n",
    "\n",
    "for nu_, ex_ in [\n",
    "    [np.linspace(0, 1, num=10), []],\n",
    "    [range(10), [0, 9]],\n",
    "    [range(1, 11), [1, 10]],\n",
    "    [[0.5], []],\n",
    "    [[1], [0, 2]],\n",
    "    [[2], [1, 3]],\n",
    "    [[-1], []],\n",
    "    [[0], []],\n",
    "    [[1], []],\n",
    "    [[2], []],\n",
    "    [[-1, 0, 1, 2], []],\n",
    "    [[-1, 0, 1, 2], [-1, 2]],\n",
    "    [[0, 1], [0, 1]],\n",
    "    [[0], [0, 0]],\n",
    "    [[1], [1, 1]],\n",
    "    [[2], [2, 2]],\n",
    "]:\n",
    "    nu_ = np.array(nu_)\n",
    "\n",
    "    data = [\n",
    "        {\n",
    "            \"y\": [0] * nu_.size,\n",
    "            \"x\": nu_,\n",
    "            \"marker\": {\"size\": 24, \"color\": nu_, \"colorscale\": colorscale},\n",
    "            \"showlegend\": False,\n",
    "        }\n",
    "    ]\n",
    "\n",
    "    for nu in nu_:\n",
    "        co = kwat.plot.get_color(colorscale, nu, ex_=ex_)\n",
    "\n",
    "        data.append(\n",
    "            {\n",
    "                \"y\": [1],\n",
    "                \"x\": [nu],\n",
    "                \"text\": [str(co)],\n",
    "                \"marker\": {\"size\": 24, \"color\": co},\n",
    "                \"showlegend\": False,\n",
    "            }\n",
    "        )\n",
    "\n",
    "    kwat.plot.plot_plotly(\n",
    "        {\n",
    "            \"data\": data,\n",
    "            \"layout\": {\n",
    "                \"height\": 240,\n",
    "                \"title\": {\"text\": str(ex_)},\n",
    "                \"yaxis\": {\n",
    "                    \"tickmode\": \"array\",\n",
    "                    \"tickvals\": [0, 1],\n",
    "                    \"ticktext\": [\"Colorscale\", \"Color\"],\n",
    "                },\n",
    "            },\n",
    "        }\n",
    "    )"
   ],
   "metadata": {},
   "execution_count": null
  },
  {
   "cell_type": "markdown",
   "source": [
    "## plot_point"
   ],
   "metadata": {}
  },
  {
   "outputs": [],
   "cell_type": "code",
   "source": [
    "an_po_pa = pd.DataFrame(\n",
    "    [[-1, -2], [0, 0], [1, 2], [2, 4], [4, 8]],\n",
    "    index=[\"A\", \"B\", \"C\", \"D\", \"E\"],\n",
    "    columns=[\"Dimension 1\", \"Dimension 2\"],\n",
    ")\n",
    "\n",
    "n_po = an_po_pa.shape[0]\n",
    "\n",
    "an_po_pa[\"Size\"] = np.arange(10, 10 + n_po) ** 1.6\n",
    "\n",
    "an_po_pa[\"Color\"] = \"#20d9ba\"\n",
    "\n",
    "an_po_pa[\"Opacity\"] = np.linspace(0.2, 1, n_po)\n",
    "\n",
    "bo_ = np.random.randint(0, 2, n_po, dtype=bool)\n",
    "\n",
    "an_po_pa[\"Annotate\"] = bo_\n",
    "\n",
    "an_po_pa.loc[bo_, [\"Size\", \"Color\", \"Opacity\"]] = [48, \"#9017e6\", 0.8]\n",
    "\n",
    "kwat.plot.plot_point(an_po_pa)\n",
    "\n",
    "an_po_pa"
   ],
   "metadata": {},
   "execution_count": null
  },
  {
   "cell_type": "markdown",
   "source": [
    "## plot_heat_map"
   ],
   "metadata": {}
  },
  {
   "outputs": [],
   "cell_type": "code",
   "source": [
    "si1 = 4\n",
    "\n",
    "si2 = 8\n",
    "\n",
    "da = pd.DataFrame(\n",
    "    data=np.arange(si1 * si2).reshape([si1, si2]).astype(float),\n",
    "    index=pd.Index([\"Y{}\".format(ie) for ie in range(si1)], name=\"Dimension 1\"),\n",
    "    columns=pd.Index([\"X{}\".format(ie) for ie in range(si2)], name=\"Dimension 2\"),\n",
    ")\n",
    "\n",
    "da.iloc[:2, :2] = np.nan\n",
    "\n",
    "gr1_la = {gr: \"Organ 1 {}\".format(gr) for gr in range(10)}\n",
    "\n",
    "gr2_la = {gr: \"Physiology 2 {}\".format(gr) for gr in range(10)}\n",
    "\n",
    "kwat.plot.plot_heat_map(\n",
    "    da,\n",
    "    gr1_=np.random.randint(0, high=2, size=si1),\n",
    "    colorscale1=\"teal\",\n",
    "    gr1_la=gr1_la,\n",
    "    gr2_=np.random.randint(0, high=4, size=si2),\n",
    "    colorscale2=\"purp\",\n",
    "    gr2_la=gr2_la,\n",
    ")\n",
    "\n",
    "da"
   ],
   "metadata": {},
   "execution_count": null
  },
  {
   "cell_type": "markdown",
   "source": [
    "## plot_bubble_map"
   ],
   "metadata": {}
  },
  {
   "outputs": [],
   "cell_type": "code",
   "source": [
    "si1 = 4\n",
    "\n",
    "si2 = 8\n",
    "\n",
    "si_an_an = pd.DataFrame(\n",
    "    (np.arange(si1 * si2).reshape([si1, si2]).astype(float)),\n",
    "    pd.Index([\"Y{}\".format(ie) for ie in range(si1)], name=\"Dimension 1\"),\n",
    "    columns=pd.Index([\"X{}\".format(ie) for ie in range(si2)], name=\"Dimension 2\"),\n",
    ")\n",
    "\n",
    "si_an_an.iloc[:2, :2] = np.nan\n",
    "\n",
    "kwat.plot.plot_bubble_map(\n",
    "    si_an_an, mac=-si_an_an.values, layout={\"title\": {\"text\": \"Bubble Map\"}}\n",
    ")\n",
    "\n",
    "si_an_an"
   ],
   "metadata": {},
   "execution_count": null
  },
  {
   "cell_type": "markdown",
   "source": [
    "## plot_histogram"
   ],
   "metadata": {}
  },
  {
   "outputs": [],
   "cell_type": "code",
   "source": [
    "n_po = 32\n",
    "\n",
    "kwat.plot.plot_histogram(\n",
    "    [\n",
    "        pd.Series(\n",
    "            np.random.random_sample(n_po),\n",
    "            (\"A{}\".format(ie) for ie in range(n_po)),\n",
    "            name=\"Uniform\",\n",
    "        ),\n",
    "        pd.Series(\n",
    "            np.random.normal(size=n_po),\n",
    "            (\"B{}\".format(ie) for ie in range(n_po)),\n",
    "            name=\"Normal\",\n",
    "        ),\n",
    "        pd.Series(\n",
    "            np.random.randint(0, 8, n_po),\n",
    "            (\"C{}\".format(ie) for ie in range(n_po)),\n",
    "            name=\"8 Category\",\n",
    "        ),\n",
    "        pd.Series(\n",
    "            np.random.randint(0, 16, n_po),\n",
    "            (\"D{}\".format(ie) for ie in range(n_po)),\n",
    "            name=\"16 Category\",\n",
    "        ),\n",
    "    ],\n",
    "    layout={\"title\": {\"text\": \"Histogram\"}, \"xaxis\": {\"title\": {\"text\": \"Number\"}}},\n",
    ")"
   ],
   "metadata": {},
   "execution_count": null
  }
 ],
 "nbformat_minor": 4,
 "metadata": {
  "language_info": {
   "file_extension": ".py",
   "mimetype": "text/x-python",
   "name": "python",
   "nbconvert_exporter": "python",
   "pygments_lexer": "ipython3",
   "codemirror_mode": {
    "name": "ipython",
    "version": 3
   },
   "version": "3.9.6"
  },
  "kernelspec": {
   "name": "python3",
   "display_name": "Python 3 (ipykernel)",
   "language": "python"
  }
 },
 "nbformat": 4
}
