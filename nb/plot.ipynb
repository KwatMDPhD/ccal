{
 "cells": [
  {
   "cell_type": "code",
   "execution_count": null,
   "metadata": {
    "execution": {
     "iopub.execute_input": "2021-08-23T06:01:23.139718Z",
     "iopub.status.busy": "2021-08-23T06:01:23.138914Z",
     "iopub.status.idle": "2021-08-23T06:01:23.153780Z",
     "shell.execute_reply": "2021-08-23T06:01:23.154216Z"
    },
    "tags": []
   },
   "outputs": [],
   "source": [
    "%load_ext autoreload\n",
    "%autoreload 2"
   ]
  },
  {
   "cell_type": "code",
   "execution_count": null,
   "metadata": {
    "ExecuteTime": {
     "end_time": "2018-05-15T09:28:55.668422Z",
     "start_time": "2018-05-15T09:28:55.428950Z"
    },
    "execution": {
     "iopub.execute_input": "2021-08-23T06:01:23.157842Z",
     "iopub.status.busy": "2021-08-23T06:01:23.157249Z",
     "iopub.status.idle": "2021-08-23T06:01:23.822201Z",
     "shell.execute_reply": "2021-08-23T06:01:23.822542Z"
    },
    "tags": []
   },
   "outputs": [],
   "source": [
    "import kwat"
   ]
  },
  {
   "cell_type": "code",
   "execution_count": null,
   "metadata": {
    "execution": {
     "iopub.execute_input": "2021-08-23T06:01:23.827091Z",
     "iopub.status.busy": "2021-08-23T06:01:23.826208Z",
     "iopub.status.idle": "2021-08-23T06:01:23.847964Z",
     "shell.execute_reply": "2021-08-23T06:01:23.848307Z"
    },
    "tags": []
   },
   "outputs": [],
   "source": [
    "pa = kwat.path.get_absolute(\"~/Downloads/\")"
   ]
  },
  {
   "cell_type": "markdown",
   "metadata": {},
   "source": [
    "## plot_plotly"
   ]
  },
  {
   "cell_type": "code",
   "execution_count": null,
   "metadata": {
    "execution": {
     "iopub.execute_input": "2021-08-23T06:01:23.851864Z",
     "iopub.status.busy": "2021-08-23T06:01:23.851261Z",
     "iopub.status.idle": "2021-08-23T06:01:24.211901Z",
     "shell.execute_reply": "2021-08-23T06:01:24.212732Z"
    },
    "tags": []
   },
   "outputs": [],
   "source": [
    "figure = {\n",
    "    \"layout\": {\n",
    "        \"title\": \"Title\",\n",
    "    },\n",
    "}\n",
    "\n",
    "kwat.plot.plot_plotly(figure, pa=\"{}plot.html\".format(pa))"
   ]
  },
  {
   "cell_type": "markdown",
   "metadata": {},
   "source": [
    "## CONTINUOUS_COLORSCALE"
   ]
  },
  {
   "cell_type": "markdown",
   "metadata": {},
   "source": [
    "## CATEGORICAL_COLORSCALE"
   ]
  },
  {
   "cell_type": "markdown",
   "metadata": {},
   "source": [
    "## BINARY_COLORSCALE"
   ]
  },
  {
   "cell_type": "code",
   "execution_count": null,
   "metadata": {
    "execution": {
     "iopub.execute_input": "2021-08-23T06:01:24.222149Z",
     "iopub.status.busy": "2021-08-23T06:01:24.220610Z",
     "iopub.status.idle": "2021-08-23T06:01:24.273557Z",
     "shell.execute_reply": "2021-08-23T06:01:24.272559Z"
    },
    "tags": []
   },
   "outputs": [],
   "source": [
    "import numpy as np"
   ]
  },
  {
   "cell_type": "code",
   "execution_count": null,
   "metadata": {
    "execution": {
     "iopub.execute_input": "2021-08-23T06:01:24.282808Z",
     "iopub.status.busy": "2021-08-23T06:01:24.281657Z",
     "iopub.status.idle": "2021-08-23T06:01:24.504356Z",
     "shell.execute_reply": "2021-08-23T06:01:24.505070Z"
    },
    "tags": []
   },
   "outputs": [],
   "source": [
    "for colorscale in (\n",
    "    kwat.plot.CONTINUOUS_COLORSCALE,\n",
    "    kwat.plot.CATEGORICAL_COLORSCALE,\n",
    "    kwat.plot.BINARY_COLORSCALE,\n",
    "):\n",
    "\n",
    "    for nu_ in [np.arange(11), np.arange(0, 1.1, 0.1)]:\n",
    "\n",
    "        kwat.plot.plot_plotly(\n",
    "            {\n",
    "                \"data\": [\n",
    "                    {\n",
    "                        \"type\": \"heatmap\",\n",
    "                        \"z\": nu_,\n",
    "                        \"y\": [0] * len(nu_),\n",
    "                        \"x\": nu_,\n",
    "                        \"colorscale\": colorscale,\n",
    "                        \"showscale\": False,\n",
    "                    }\n",
    "                ],\n",
    "                \"layout\": {\n",
    "                    \"height\": 240,\n",
    "                },\n",
    "            }\n",
    "        )"
   ]
  },
  {
   "cell_type": "markdown",
   "metadata": {},
   "source": [
    "## get_color"
   ]
  },
  {
   "cell_type": "code",
   "execution_count": null,
   "metadata": {
    "execution": {
     "iopub.execute_input": "2021-08-23T06:01:24.513904Z",
     "iopub.status.busy": "2021-08-23T06:01:24.512725Z",
     "iopub.status.idle": "2021-08-23T06:01:24.563645Z",
     "shell.execute_reply": "2021-08-23T06:01:24.564402Z"
    },
    "tags": []
   },
   "outputs": [],
   "source": [
    "for fr in np.linspace(0, 1, 5):\n",
    "\n",
    "    print(kwat.plot.get_color([[0, \"#ff0000\"], [0.5, \"#00ff00\"], [1, \"#0000ff\"]], fr))"
   ]
  },
  {
   "cell_type": "code",
   "execution_count": null,
   "metadata": {
    "execution": {
     "iopub.execute_input": "2021-08-23T06:01:24.574600Z",
     "iopub.status.busy": "2021-08-23T06:01:24.573439Z",
     "iopub.status.idle": "2021-08-23T06:01:24.721929Z",
     "shell.execute_reply": "2021-08-23T06:01:24.722617Z"
    },
    "tags": []
   },
   "outputs": [],
   "source": [
    "colorscale = kwat.plot.CATEGORICAL_COLORSCALE\n",
    "\n",
    "for (nu_, n_co) in [\n",
    "    [np.linspace(0, 1, 10), None],\n",
    "    [np.arange(10), 10],\n",
    "    [[0.5], None],\n",
    "    [[1], None],\n",
    "    [[0], None],\n",
    "    [[1], 3],\n",
    "]:\n",
    "\n",
    "    print(nu_)\n",
    "\n",
    "    print(n_co)\n",
    "\n",
    "    if n_co is not None:\n",
    "\n",
    "        nu_ = [nu / (n_co - 1) for nu in nu_]\n",
    "\n",
    "    nu_ = np.array(nu_)\n",
    "\n",
    "    data = [\n",
    "        {\n",
    "            \"y\": [0] * nu_.size,\n",
    "            \"x\": nu_,\n",
    "            \"mode\": \"markers\",\n",
    "            \"marker\": {\n",
    "                \"size\": 32,\n",
    "                \"color\": nu_,\n",
    "                \"colorscale\": colorscale,\n",
    "            },\n",
    "            \"showlegend\": False,\n",
    "        }\n",
    "    ]\n",
    "\n",
    "    for nu in nu_:\n",
    "\n",
    "        data.append(\n",
    "            {\n",
    "                \"y\": [1],\n",
    "                \"x\": [nu],\n",
    "                \"marker\": {\n",
    "                    \"size\": 32,\n",
    "                    \"color\": kwat.plot.get_color(colorscale, nu),\n",
    "                },\n",
    "                \"showlegend\": False,\n",
    "            }\n",
    "        )\n",
    "\n",
    "    kwat.plot.plot_plotly(\n",
    "        {\n",
    "            \"data\": data,\n",
    "            \"layout\": {\n",
    "                \"yaxis\": {\n",
    "                    \"tickmode\": \"array\",\n",
    "                    \"tickvals\": [0, 1],\n",
    "                    \"ticktext\": [\"Colorscale\", \"Color\"],\n",
    "                },\n",
    "            },\n",
    "        }\n",
    "    )"
   ]
  },
  {
   "cell_type": "markdown",
   "metadata": {},
   "source": [
    "## plot_point"
   ]
  },
  {
   "cell_type": "code",
   "execution_count": null,
   "metadata": {
    "execution": {
     "iopub.execute_input": "2021-08-23T06:01:24.725956Z",
     "iopub.status.busy": "2021-08-23T06:01:24.725351Z",
     "iopub.status.idle": "2021-08-23T06:01:24.751493Z",
     "shell.execute_reply": "2021-08-23T06:01:24.751967Z"
    },
    "tags": []
   },
   "outputs": [],
   "source": [
    "import pandas as pd"
   ]
  },
  {
   "cell_type": "code",
   "execution_count": null,
   "metadata": {
    "execution": {
     "iopub.execute_input": "2021-08-23T06:01:24.757175Z",
     "iopub.status.busy": "2021-08-23T06:01:24.756573Z",
     "iopub.status.idle": "2021-08-23T06:01:24.822088Z",
     "shell.execute_reply": "2021-08-23T06:01:24.822451Z"
    },
    "tags": []
   },
   "outputs": [],
   "source": [
    "an_po_pa = pd.DataFrame(\n",
    "    [[-1, -2], [0, 0], [1, 2], [2, 4], [4, 8]],\n",
    "    index=[\"A\", \"B\", \"C\", \"D\", \"E\"],\n",
    "    columns=[\"Dimension 1\", \"Dimension 2\"],\n",
    ")\n",
    "\n",
    "n_po = an_po_pa.shape[0]\n",
    "\n",
    "an_po_pa[\"Size\"] = np.arange(10, 10 + n_po) ** 1.6\n",
    "\n",
    "an_po_pa[\"Color\"] = \"#20d9ba\"\n",
    "\n",
    "an_po_pa[\"Opacity\"] = np.linspace(0.2, 1, n_po)\n",
    "\n",
    "bo_ = np.random.randint(0, 2, n_po, dtype=bool)\n",
    "\n",
    "an_po_pa[\"Annotate\"] = bo_\n",
    "\n",
    "an_po_pa.loc[bo_, [\"Size\", \"Color\", \"Opacity\"]] = [48, \"#9017e6\", 0.8]\n",
    "\n",
    "kwat.plot.plot_point(an_po_pa)\n",
    "\n",
    "an_po_pa"
   ]
  },
  {
   "cell_type": "markdown",
   "metadata": {},
   "source": [
    "## plot_heat_map"
   ]
  },
  {
   "cell_type": "code",
   "execution_count": null,
   "metadata": {
    "execution": {
     "iopub.execute_input": "2021-08-23T06:01:24.827112Z",
     "iopub.status.busy": "2021-08-23T06:01:24.826597Z",
     "iopub.status.idle": "2021-08-23T06:01:24.881274Z",
     "shell.execute_reply": "2021-08-23T06:01:24.881693Z"
    },
    "tags": []
   },
   "outputs": [],
   "source": [
    "si1 = 4\n",
    "\n",
    "si2 = 8\n",
    "\n",
    "nu_an_an = pd.DataFrame(\n",
    "    (np.arange(si1 * si2).reshape([si1, si2]).astype(float)),\n",
    "    pd.Index([\"Y{}\".format(ie) for ie in range(si1)], name=\"Dimension 1\"),\n",
    "    columns=pd.Index([\"X{}\".format(ie) for ie in range(si2)], name=\"Dimension 2\"),\n",
    ")\n",
    "\n",
    "nu_an_an.iloc[:2, :2] = np.nan\n",
    "\n",
    "gr1_la = {gr: \"Organ 1 {}\".format(gr) for gr in range(10)}\n",
    "\n",
    "gr2_la = {gr: \"Physiology 2 {}\".format(gr) for gr in range(10)}\n",
    "\n",
    "kwat.plot.plot_heat_map(\n",
    "    nu_an_an,\n",
    "    #     gr1_=np.random.randint(0, 2, si1),\n",
    "    #     colorscale1=\"teal\",\n",
    "    #     gr1_la=gr1_la,\n",
    "    #     gr2_=np.random.randint(0, 4, si2),\n",
    "    #     colorscale2=\"purp\",\n",
    "    #     gr2_la=gr2_la,\n",
    "    layout={\n",
    "        \"title\": {\n",
    "            \"text\": \"Heat Map\",\n",
    "        },\n",
    "    },\n",
    ")\n",
    "\n",
    "nu_an_an"
   ]
  },
  {
   "cell_type": "markdown",
   "metadata": {},
   "source": [
    "## plot_bubble_map"
   ]
  },
  {
   "cell_type": "code",
   "execution_count": null,
   "metadata": {
    "execution": {
     "iopub.execute_input": "2021-08-23T06:01:24.886283Z",
     "iopub.status.busy": "2021-08-23T06:01:24.885774Z",
     "iopub.status.idle": "2021-08-23T06:01:24.945538Z",
     "shell.execute_reply": "2021-08-23T06:01:24.945187Z"
    },
    "tags": []
   },
   "outputs": [],
   "source": [
    "si1 = 4\n",
    "\n",
    "si2 = 8\n",
    "\n",
    "si_an_an = pd.DataFrame(\n",
    "    (np.arange(si1 * si2).reshape([si1, si2]).astype(float)),\n",
    "    pd.Index([\"Y{}\".format(ie) for ie in range(si1)], name=\"Dimension 1\"),\n",
    "    columns=pd.Index([\"X{}\".format(ie) for ie in range(si2)], name=\"Dimension 2\"),\n",
    ")\n",
    "\n",
    "si_an_an.iloc[:2, :2] = np.nan\n",
    "\n",
    "kwat.plot.plot_bubble_map(\n",
    "    si_an_an,\n",
    "    co_an_an=-si_an_an.values,\n",
    "    layout={\n",
    "        \"title\": {\n",
    "            \"text\": \"Bubble Map\",\n",
    "        },\n",
    "    },\n",
    ")\n",
    "\n",
    "si_an_an"
   ]
  },
  {
   "cell_type": "markdown",
   "metadata": {},
   "source": [
    "## plot_histogram"
   ]
  },
  {
   "cell_type": "code",
   "execution_count": null,
   "metadata": {
    "execution": {
     "iopub.execute_input": "2021-08-23T06:01:24.950561Z",
     "iopub.status.busy": "2021-08-23T06:01:24.950047Z",
     "iopub.status.idle": "2021-08-23T06:01:25.001329Z",
     "shell.execute_reply": "2021-08-23T06:01:25.001858Z"
    },
    "tags": []
   },
   "outputs": [],
   "source": [
    "n_po = 32\n",
    "\n",
    "kwat.plot.plot_histogram(\n",
    "    [\n",
    "        pd.Series(\n",
    "            np.random.random_sample(n_po),\n",
    "            (\"A{}\".format(ie) for ie in range(n_po)),\n",
    "            name=\"Uniform\",\n",
    "        ),\n",
    "        pd.Series(\n",
    "            np.random.normal(size=n_po),\n",
    "            (\"B{}\".format(ie) for ie in range(n_po)),\n",
    "            name=\"Normal\",\n",
    "        ),\n",
    "        pd.Series(\n",
    "            np.random.randint(0, 8, n_po),\n",
    "            (\"C{}\".format(ie) for ie in range(n_po)),\n",
    "            name=\"8 Category\",\n",
    "        ),\n",
    "        pd.Series(\n",
    "            np.random.randint(0, 16, n_po),\n",
    "            (\"D{}\".format(ie) for ie in range(n_po)),\n",
    "            name=\"16 Category\",\n",
    "        ),\n",
    "    ],\n",
    "    layout={\n",
    "        \"title\": {\n",
    "            \"text\": \"Histogram\",\n",
    "        },\n",
    "        \"xaxis\": {\n",
    "            \"title\": {\n",
    "                \"text\": \"Number\",\n",
    "            },\n",
    "        },\n",
    "    },\n",
    ")"
   ]
  }
 ],
 "metadata": {
  "kernelspec": {
   "display_name": "Python 3 (ipykernel)",
   "language": "python",
   "name": "python3"
  },
  "language_info": {
   "codemirror_mode": {
    "name": "ipython",
    "version": 3
   },
   "file_extension": ".py",
   "mimetype": "text/x-python",
   "name": "python",
   "nbconvert_exporter": "python",
   "pygments_lexer": "ipython3",
   "version": "3.9.6"
  }
 },
 "nbformat": 4,
 "nbformat_minor": 4
}
