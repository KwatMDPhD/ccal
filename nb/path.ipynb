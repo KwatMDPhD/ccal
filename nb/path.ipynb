{
 "cells": [
  {
   "cell_type": "code",
   "execution_count": null,
   "metadata": {
    "execution": {
     "iopub.execute_input": "2021-08-25T07:04:33.836474Z",
     "iopub.status.busy": "2021-08-25T07:04:33.835816Z",
     "iopub.status.idle": "2021-08-25T07:04:33.850553Z",
     "shell.execute_reply": "2021-08-25T07:04:33.851030Z"
    },
    "tags": []
   },
   "outputs": [],
   "source": [
    "%load_ext autoreload\n",
    "%autoreload 2"
   ]
  },
  {
   "cell_type": "code",
   "execution_count": null,
   "metadata": {
    "execution": {
     "iopub.execute_input": "2021-08-25T07:04:33.854699Z",
     "iopub.status.busy": "2021-08-25T07:04:33.854113Z",
     "iopub.status.idle": "2021-08-25T07:04:34.553311Z",
     "shell.execute_reply": "2021-08-25T07:04:34.553653Z"
    },
    "tags": []
   },
   "outputs": [],
   "source": [
    "import kwat"
   ]
  },
  {
   "cell_type": "markdown",
   "metadata": {},
   "source": [
    "## clean"
   ]
  },
  {
   "cell_type": "code",
   "execution_count": null,
   "metadata": {
    "execution": {
     "iopub.execute_input": "2021-08-25T07:04:34.557310Z",
     "iopub.status.busy": "2021-08-25T07:04:34.556790Z",
     "iopub.status.idle": "2021-08-25T07:04:34.577664Z",
     "shell.execute_reply": "2021-08-25T07:04:34.578038Z"
    },
    "tags": []
   },
   "outputs": [],
   "source": [
    "for na in [\"a\", \"A\", \"a bc\", \"a Bc\", \"a/b\", \"a$b\", \"a'b\"]:\n",
    "\n",
    "    kwat.path.clean(na)"
   ]
  },
  {
   "cell_type": "markdown",
   "metadata": {},
   "source": [
    "## get_absolute"
   ]
  },
  {
   "cell_type": "code",
   "execution_count": null,
   "metadata": {
    "execution": {
     "iopub.execute_input": "2021-08-25T07:04:34.581182Z",
     "iopub.status.busy": "2021-08-25T07:04:34.580665Z",
     "iopub.status.idle": "2021-08-25T07:04:34.606289Z",
     "shell.execute_reply": "2021-08-25T07:04:34.606654Z"
    },
    "tags": []
   },
   "outputs": [],
   "source": [
    "pa = \"~/Downloads/\"\n",
    "\n",
    "pa = kwat.path.get_absolute(pa)\n",
    "\n",
    "pa"
   ]
  },
  {
   "cell_type": "markdown",
   "metadata": {},
   "source": [
    "## get_child"
   ]
  },
  {
   "cell_type": "code",
   "execution_count": null,
   "metadata": {
    "execution": {
     "iopub.execute_input": "2021-08-25T07:04:34.609811Z",
     "iopub.status.busy": "2021-08-25T07:04:34.609318Z",
     "iopub.status.idle": "2021-08-25T07:04:34.630069Z",
     "shell.execute_reply": "2021-08-25T07:04:34.629701Z"
    },
    "tags": []
   },
   "outputs": [],
   "source": [
    "kwat.path.get_child(\"{}/path\".format(pa))"
   ]
  },
  {
   "cell_type": "markdown",
   "metadata": {},
   "source": [
    "## list"
   ]
  },
  {
   "cell_type": "code",
   "execution_count": null,
   "metadata": {
    "execution": {
     "iopub.execute_input": "2021-08-25T07:04:34.633279Z",
     "iopub.status.busy": "2021-08-25T07:04:34.632782Z",
     "iopub.status.idle": "2021-08-25T07:04:34.653641Z",
     "shell.execute_reply": "2021-08-25T07:04:34.654134Z"
    },
    "tags": []
   },
   "outputs": [],
   "source": [
    "kwat.path.list(pa)"
   ]
  },
  {
   "cell_type": "markdown",
   "metadata": {},
   "source": [
    "## make"
   ]
  },
  {
   "cell_type": "code",
   "execution_count": null,
   "metadata": {
    "execution": {
     "iopub.execute_input": "2021-08-25T07:04:34.657518Z",
     "iopub.status.busy": "2021-08-25T07:04:34.656992Z",
     "iopub.status.idle": "2021-08-25T07:04:34.677868Z",
     "shell.execute_reply": "2021-08-25T07:04:34.678222Z"
    },
    "tags": []
   },
   "outputs": [],
   "source": [
    "kwat.path.make(\"{}/path/a/c/d\".format(pa))"
   ]
  }
 ],
 "metadata": {
  "kernelspec": {
   "display_name": "Python 3 (ipykernel)",
   "language": "python",
   "name": "python3"
  },
  "language_info": {
   "codemirror_mode": {
    "name": "ipython",
    "version": 3
   },
   "file_extension": ".py",
   "mimetype": "text/x-python",
   "name": "python",
   "nbconvert_exporter": "python",
   "pygments_lexer": "ipython3",
   "version": "3.9.6"
  }
 },
 "nbformat": 4,
 "nbformat_minor": 4
}
