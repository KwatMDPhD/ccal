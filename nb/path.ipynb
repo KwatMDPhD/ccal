{
 "cells": [
  {
   "cell_type": "code",
   "execution_count": null,
   "metadata": {
    "execution": {
     "iopub.execute_input": "2021-08-23T06:01:20.424197Z",
     "iopub.status.busy": "2021-08-23T06:01:20.423417Z",
     "iopub.status.idle": "2021-08-23T06:01:20.439212Z",
     "shell.execute_reply": "2021-08-23T06:01:20.439663Z"
    },
    "tags": []
   },
   "outputs": [],
   "source": [
    "%load_ext autoreload\n",
    "%autoreload 2"
   ]
  },
  {
   "cell_type": "code",
   "execution_count": null,
   "metadata": {
    "execution": {
     "iopub.execute_input": "2021-08-23T06:01:20.443452Z",
     "iopub.status.busy": "2021-08-23T06:01:20.442842Z",
     "iopub.status.idle": "2021-08-23T06:01:21.093343Z",
     "shell.execute_reply": "2021-08-23T06:01:21.093723Z"
    },
    "tags": []
   },
   "outputs": [],
   "source": [
    "import kwat"
   ]
  },
  {
   "cell_type": "markdown",
   "metadata": {},
   "source": [
    "## clean"
   ]
  },
  {
   "cell_type": "code",
   "execution_count": null,
   "metadata": {
    "execution": {
     "iopub.execute_input": "2021-08-23T06:01:21.097926Z",
     "iopub.status.busy": "2021-08-23T06:01:21.097424Z",
     "iopub.status.idle": "2021-08-23T06:01:21.117878Z",
     "shell.execute_reply": "2021-08-23T06:01:21.118232Z"
    },
    "tags": []
   },
   "outputs": [],
   "source": [
    "for na in [\"a\", \"A\", \"a bc\", \"a Bc\", \"a/b\", \"a$b\", \"a'b\"]:\n",
    "\n",
    "    kwat.path.clean(na)"
   ]
  },
  {
   "cell_type": "markdown",
   "metadata": {},
   "source": [
    "## get_absolute"
   ]
  },
  {
   "cell_type": "code",
   "execution_count": null,
   "metadata": {
    "execution": {
     "iopub.execute_input": "2021-08-23T06:01:21.121193Z",
     "iopub.status.busy": "2021-08-23T06:01:21.120675Z",
     "iopub.status.idle": "2021-08-23T06:01:21.145784Z",
     "shell.execute_reply": "2021-08-23T06:01:21.146146Z"
    },
    "tags": []
   },
   "outputs": [],
   "source": [
    "pa = \"~/Downloads/\"\n",
    "\n",
    "pa = kwat.path.get_absolute(pa)\n",
    "\n",
    "pa"
   ]
  },
  {
   "cell_type": "markdown",
   "metadata": {},
   "source": [
    "## get_child"
   ]
  },
  {
   "cell_type": "code",
   "execution_count": null,
   "metadata": {
    "execution": {
     "iopub.execute_input": "2021-08-23T06:01:21.149707Z",
     "iopub.status.busy": "2021-08-23T06:01:21.149203Z",
     "iopub.status.idle": "2021-08-23T06:01:21.169885Z",
     "shell.execute_reply": "2021-08-23T06:01:21.169512Z"
    },
    "tags": []
   },
   "outputs": [],
   "source": [
    "kwat.path.get_child(\"{}/path\".format(pa))"
   ]
  },
  {
   "cell_type": "markdown",
   "metadata": {},
   "source": [
    "## list"
   ]
  },
  {
   "cell_type": "code",
   "execution_count": null,
   "metadata": {
    "execution": {
     "iopub.execute_input": "2021-08-23T06:01:21.173312Z",
     "iopub.status.busy": "2021-08-23T06:01:21.172712Z",
     "iopub.status.idle": "2021-08-23T06:01:21.192462Z",
     "shell.execute_reply": "2021-08-23T06:01:21.192827Z"
    },
    "tags": []
   },
   "outputs": [],
   "source": [
    "kwat.path.list(pa)"
   ]
  },
  {
   "cell_type": "markdown",
   "metadata": {},
   "source": [
    "## make"
   ]
  },
  {
   "cell_type": "code",
   "execution_count": null,
   "metadata": {
    "execution": {
     "iopub.execute_input": "2021-08-23T06:01:21.195938Z",
     "iopub.status.busy": "2021-08-23T06:01:21.195420Z",
     "iopub.status.idle": "2021-08-23T06:01:21.215178Z",
     "shell.execute_reply": "2021-08-23T06:01:21.215549Z"
    },
    "tags": []
   },
   "outputs": [],
   "source": [
    "kwat.path.make(\"{}/path/a/c/d\".format(pa))"
   ]
  }
 ],
 "metadata": {
  "kernelspec": {
   "display_name": "Python 3 (ipykernel)",
   "language": "python",
   "name": "python3"
  },
  "language_info": {
   "codemirror_mode": {
    "name": "ipython",
    "version": 3
   },
   "file_extension": ".py",
   "mimetype": "text/x-python",
   "name": "python",
   "nbconvert_exporter": "python",
   "pygments_lexer": "ipython3",
   "version": "3.9.6"
  }
 },
 "nbformat": 4,
 "nbformat_minor": 4
}
