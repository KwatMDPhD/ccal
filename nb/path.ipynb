{
 "cells": [
  {
   "cell_type": "code",
   "execution_count": null,
   "metadata": {
    "execution": {
     "iopub.execute_input": "2021-06-02T09:05:56.402733Z",
     "iopub.status.busy": "2021-06-02T09:05:56.401942Z",
     "iopub.status.idle": "2021-06-02T09:05:56.417185Z",
     "shell.execute_reply": "2021-06-02T09:05:56.417712Z"
    },
    "tags": []
   },
   "outputs": [],
   "source": [
    "%load_ext autoreload\n",
    "%autoreload 2"
   ]
  },
  {
   "cell_type": "code",
   "execution_count": null,
   "metadata": {
    "execution": {
     "iopub.execute_input": "2021-06-02T09:05:56.421971Z",
     "iopub.status.busy": "2021-06-02T09:05:56.421189Z",
     "iopub.status.idle": "2021-06-02T09:05:56.986678Z",
     "shell.execute_reply": "2021-06-02T09:05:56.987058Z"
    },
    "tags": []
   },
   "outputs": [],
   "source": [
    "import kwat"
   ]
  },
  {
   "cell_type": "markdown",
   "metadata": {},
   "source": [
    "## clean"
   ]
  },
  {
   "cell_type": "code",
   "execution_count": null,
   "metadata": {
    "execution": {
     "iopub.execute_input": "2021-06-02T09:05:56.990366Z",
     "iopub.status.busy": "2021-06-02T09:05:56.989829Z",
     "iopub.status.idle": "2021-06-02T09:05:57.007031Z",
     "shell.execute_reply": "2021-06-02T09:05:57.007469Z"
    },
    "tags": []
   },
   "outputs": [],
   "source": [
    "for na in [\"a\", \"A\", \"a bc\", \"a Bc\", \"a/b\", \"a$b\", \"a'b\"]:\n",
    "\n",
    "    kwat.path.clean(na)"
   ]
  },
  {
   "cell_type": "markdown",
   "metadata": {},
   "source": [
    "## get_absolute"
   ]
  },
  {
   "cell_type": "code",
   "execution_count": null,
   "metadata": {
    "execution": {
     "iopub.execute_input": "2021-06-02T09:05:57.010437Z",
     "iopub.status.busy": "2021-06-02T09:05:57.009908Z",
     "iopub.status.idle": "2021-06-02T09:05:57.032637Z",
     "shell.execute_reply": "2021-06-02T09:05:57.033073Z"
    },
    "tags": []
   },
   "outputs": [],
   "source": [
    "pa = \"~/Downloads/\"\n",
    "\n",
    "pa = kwat.path.get_absolute(pa)\n",
    "\n",
    "pa"
   ]
  },
  {
   "cell_type": "markdown",
   "metadata": {},
   "source": [
    "## list"
   ]
  },
  {
   "cell_type": "code",
   "execution_count": null,
   "metadata": {
    "execution": {
     "iopub.execute_input": "2021-06-02T09:05:57.035971Z",
     "iopub.status.busy": "2021-06-02T09:05:57.035452Z",
     "iopub.status.idle": "2021-06-02T09:05:57.076335Z",
     "shell.execute_reply": "2021-06-02T09:05:57.076798Z"
    },
    "tags": []
   },
   "outputs": [],
   "source": [
    "kwat.path.list(pa)"
   ]
  },
  {
   "cell_type": "markdown",
   "metadata": {},
   "source": [
    "## make"
   ]
  },
  {
   "cell_type": "code",
   "execution_count": null,
   "metadata": {
    "execution": {
     "iopub.execute_input": "2021-06-02T09:05:57.079800Z",
     "iopub.status.busy": "2021-06-02T09:05:57.079110Z",
     "iopub.status.idle": "2021-06-02T09:05:57.098172Z",
     "shell.execute_reply": "2021-06-02T09:05:57.097669Z"
    },
    "tags": []
   },
   "outputs": [],
   "source": [
    "kwat.path.make(\"{}/path/a/c/d\".format(pa))"
   ]
  },
  {
   "cell_type": "markdown",
   "metadata": {},
   "source": [
    "## get_child"
   ]
  },
  {
   "cell_type": "code",
   "execution_count": null,
   "metadata": {
    "execution": {
     "iopub.execute_input": "2021-06-02T09:05:57.101589Z",
     "iopub.status.busy": "2021-06-02T09:05:57.100625Z",
     "iopub.status.idle": "2021-06-02T09:05:57.120197Z",
     "shell.execute_reply": "2021-06-02T09:05:57.120612Z"
    },
    "tags": []
   },
   "outputs": [],
   "source": [
    "kwat.path.get_child(\"{}/path\".format(pa))"
   ]
  }
 ],
 "metadata": {
  "kernelspec": {
   "display_name": "Python 3 (ipykernel)",
   "language": "python",
   "name": "python3"
  },
  "language_info": {
   "codemirror_mode": {
    "name": "ipython",
    "version": 3
   },
   "file_extension": ".py",
   "mimetype": "text/x-python",
   "name": "python",
   "nbconvert_exporter": "python",
   "pygments_lexer": "ipython3",
   "version": "3.9.6"
  }
 },
 "nbformat": 4,
 "nbformat_minor": 4
}
