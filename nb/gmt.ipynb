{
 "cells": [
  {
   "cell_type": "code",
   "execution_count": null,
   "id": "cd758eba-c8b6-49eb-958b-4f8415eb2bbb",
   "metadata": {
    "execution": {
     "iopub.execute_input": "2021-08-23T06:01:04.624576Z",
     "iopub.status.busy": "2021-08-23T06:01:04.623752Z",
     "iopub.status.idle": "2021-08-23T06:01:04.639921Z",
     "shell.execute_reply": "2021-08-23T06:01:04.640323Z"
    },
    "tags": []
   },
   "outputs": [],
   "source": [
    "%load_ext autoreload\n",
    "%autoreload 2"
   ]
  },
  {
   "cell_type": "code",
   "execution_count": null,
   "id": "2690ab49-eabd-4718-81b8-ee69863f5c11",
   "metadata": {
    "execution": {
     "iopub.execute_input": "2021-08-23T06:01:04.644010Z",
     "iopub.status.busy": "2021-08-23T06:01:04.643407Z",
     "iopub.status.idle": "2021-08-23T06:01:05.269999Z",
     "shell.execute_reply": "2021-08-23T06:01:05.269140Z"
    },
    "tags": []
   },
   "outputs": [],
   "source": [
    "import kwat"
   ]
  },
  {
   "cell_type": "markdown",
   "id": "82cc10e7-7608-4bf7-a6bc-3d52eeb01f48",
   "metadata": {},
   "source": [
    "## read"
   ]
  },
  {
   "cell_type": "code",
   "execution_count": null,
   "id": "9b6e586e-c076-48c6-b2df-f4723ae825b3",
   "metadata": {
    "execution": {
     "iopub.execute_input": "2021-08-23T06:01:05.274545Z",
     "iopub.status.busy": "2021-08-23T06:01:05.273932Z",
     "iopub.status.idle": "2021-08-23T06:01:06.007918Z",
     "shell.execute_reply": "2021-08-23T06:01:06.008266Z"
    },
    "tags": []
   },
   "outputs": [],
   "source": [
    "kwat.gmt.read([\"data/h.all.v7.1.symbols.gmt\", \"data/c2.all.v7.1.symbols.gmt\"])"
   ]
  }
 ],
 "metadata": {
  "kernelspec": {
   "display_name": "Python 3 (ipykernel)",
   "language": "python",
   "name": "python3"
  },
  "language_info": {
   "codemirror_mode": {
    "name": "ipython",
    "version": 3
   },
   "file_extension": ".py",
   "mimetype": "text/x-python",
   "name": "python",
   "nbconvert_exporter": "python",
   "pygments_lexer": "ipython3",
   "version": "3.9.6"
  }
 },
 "nbformat": 4,
 "nbformat_minor": 5
}
