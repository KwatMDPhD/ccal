{
 "cells": [
  {
   "cell_type": "code",
   "execution_count": null,
   "id": "cd758eba-c8b6-49eb-958b-4f8415eb2bbb",
   "metadata": {
    "execution": {
     "iopub.execute_input": "2021-08-25T07:04:03.689706Z",
     "iopub.status.busy": "2021-08-25T07:04:03.689160Z",
     "iopub.status.idle": "2021-08-25T07:04:03.700884Z",
     "shell.execute_reply": "2021-08-25T07:04:03.701238Z"
    },
    "tags": []
   },
   "outputs": [],
   "source": [
    "%load_ext autoreload\n",
    "%autoreload 2"
   ]
  },
  {
   "cell_type": "code",
   "execution_count": null,
   "id": "2690ab49-eabd-4718-81b8-ee69863f5c11",
   "metadata": {
    "execution": {
     "iopub.execute_input": "2021-08-25T07:04:03.704453Z",
     "iopub.status.busy": "2021-08-25T07:04:03.703953Z",
     "iopub.status.idle": "2021-08-25T07:04:04.465736Z",
     "shell.execute_reply": "2021-08-25T07:04:04.466109Z"
    },
    "tags": []
   },
   "outputs": [],
   "source": [
    "import kwat"
   ]
  },
  {
   "cell_type": "markdown",
   "id": "82cc10e7-7608-4bf7-a6bc-3d52eeb01f48",
   "metadata": {},
   "source": [
    "## read"
   ]
  },
  {
   "cell_type": "code",
   "execution_count": null,
   "id": "9b6e586e-c076-48c6-b2df-f4723ae825b3",
   "metadata": {
    "execution": {
     "iopub.execute_input": "2021-08-25T07:04:04.469328Z",
     "iopub.status.busy": "2021-08-25T07:04:04.468809Z",
     "iopub.status.idle": "2021-08-25T07:04:05.254738Z",
     "shell.execute_reply": "2021-08-25T07:04:05.255093Z"
    },
    "tags": []
   },
   "outputs": [],
   "source": [
    "kwat.gmt.read([\"data/h.all.v7.1.symbols.gmt\", \"data/c2.all.v7.1.symbols.gmt\"])"
   ]
  }
 ],
 "metadata": {
  "kernelspec": {
   "display_name": "Python 3 (ipykernel)",
   "language": "python",
   "name": "python3"
  },
  "language_info": {
   "codemirror_mode": {
    "name": "ipython",
    "version": 3
   },
   "file_extension": ".py",
   "mimetype": "text/x-python",
   "name": "python",
   "nbconvert_exporter": "python",
   "pygments_lexer": "ipython3",
   "version": "3.9.6"
  }
 },
 "nbformat": 4,
 "nbformat_minor": 5
}
