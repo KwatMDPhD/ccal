{
 "cells": [
  {
   "outputs": [],
   "cell_type": "code",
   "source": [
    "%load_ext autoreload\n",
    "%autoreload 2"
   ],
   "id": "a5c9c44f-1b4b-43ac-ae10-695eda1f668a",
   "metadata": {},
   "execution_count": null
  },
  {
   "outputs": [],
   "cell_type": "code",
   "source": [
    "import kwat"
   ],
   "id": "83a2d944-4159-4588-a66c-baea3f555a68",
   "metadata": {},
   "execution_count": null
  },
  {
   "cell_type": "markdown",
   "source": [
    "## check_sorted"
   ],
   "id": "9ab815e2-f4c2-4f7d-8ee0-34cd76eeb373",
   "metadata": {}
  },
  {
   "outputs": [],
   "cell_type": "code",
   "source": [
    "for nu_ in [\n",
    "    [1, 2, 3],\n",
    "    [3, 2, 1],\n",
    "    [-1, 0, 1],\n",
    "    [0, 1, -1],\n",
    "    [0, 0],\n",
    "    [True, False],\n",
    "    [False, True],\n",
    "    [True, False, True],\n",
    "]:\n",
    "    print(kwat.vector.check_sorted(nu_))"
   ],
   "id": "fc1afb9f-ceb2-4542-bc7c-f708078cd64a",
   "metadata": {},
   "execution_count": null
  }
 ],
 "nbformat_minor": 5,
 "metadata": {
  "language_info": {
   "file_extension": ".py",
   "mimetype": "text/x-python",
   "name": "python",
   "nbconvert_exporter": "python",
   "pygments_lexer": "ipython3",
   "codemirror_mode": {
    "name": "ipython",
    "version": 3
   },
   "version": "3.9.6"
  },
  "kernelspec": {
   "name": "python3",
   "display_name": "Python 3 (ipykernel)",
   "language": "python"
  }
 },
 "nbformat": 4
}
