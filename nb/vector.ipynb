{
 "cells": [
  {
   "cell_type": "code",
   "execution_count": null,
   "id": "a5c9c44f-1b4b-43ac-ae10-695eda1f668a",
   "metadata": {
    "execution": {
     "iopub.execute_input": "2021-08-23T06:01:53.823196Z",
     "iopub.status.busy": "2021-08-23T06:01:53.822487Z",
     "iopub.status.idle": "2021-08-23T06:01:53.836471Z",
     "shell.execute_reply": "2021-08-23T06:01:53.836897Z"
    },
    "tags": []
   },
   "outputs": [],
   "source": [
    "%load_ext autoreload\n",
    "%autoreload 2"
   ]
  },
  {
   "cell_type": "code",
   "execution_count": null,
   "id": "83a2d944-4159-4588-a66c-baea3f555a68",
   "metadata": {
    "execution": {
     "iopub.execute_input": "2021-08-23T06:01:53.840491Z",
     "iopub.status.busy": "2021-08-23T06:01:53.839884Z",
     "iopub.status.idle": "2021-08-23T06:01:54.548257Z",
     "shell.execute_reply": "2021-08-23T06:01:54.548688Z"
    },
    "tags": []
   },
   "outputs": [],
   "source": [
    "import kwat"
   ]
  },
  {
   "cell_type": "markdown",
   "id": "9ab815e2-f4c2-4f7d-8ee0-34cd76eeb373",
   "metadata": {},
   "source": [
    "## check_is_sorted"
   ]
  },
  {
   "cell_type": "code",
   "execution_count": null,
   "id": "fc1afb9f-ceb2-4542-bc7c-f708078cd64a",
   "metadata": {
    "execution": {
     "iopub.execute_input": "2021-08-23T06:01:54.554024Z",
     "iopub.status.busy": "2021-08-23T06:01:54.553437Z",
     "iopub.status.idle": "2021-08-23T06:01:54.577231Z",
     "shell.execute_reply": "2021-08-23T06:01:54.577672Z"
    },
    "tags": []
   },
   "outputs": [],
   "source": [
    "for nu_ in [\n",
    "    [1, 2, 3],\n",
    "    [3, 2, 1],\n",
    "    [-1, 0, 1],\n",
    "    [0, 1, -1],\n",
    "    [0, 0],\n",
    "    [True, False],\n",
    "    [False, True],\n",
    "    [True, False, True],\n",
    "]:\n",
    "\n",
    "    print(kwat.vector.check_is_sorted(nu_))"
   ]
  }
 ],
 "metadata": {
  "kernelspec": {
   "display_name": "Python 3 (ipykernel)",
   "language": "python",
   "name": "python3"
  },
  "language_info": {
   "codemirror_mode": {
    "name": "ipython",
    "version": 3
   },
   "file_extension": ".py",
   "mimetype": "text/x-python",
   "name": "python",
   "nbconvert_exporter": "python",
   "pygments_lexer": "ipython3",
   "version": "3.9.6"
  }
 },
 "nbformat": 4,
 "nbformat_minor": 5
}
