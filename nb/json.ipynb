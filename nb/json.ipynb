{
 "cells": [
  {
   "cell_type": "code",
   "execution_count": null,
   "metadata": {
    "execution": {
     "iopub.execute_input": "2021-06-02T09:06:43.226529Z",
     "iopub.status.busy": "2021-06-02T09:06:43.225812Z",
     "iopub.status.idle": "2021-06-02T09:06:43.239142Z",
     "shell.execute_reply": "2021-06-02T09:06:43.239973Z"
    },
    "tags": []
   },
   "outputs": [],
   "source": [
    "%load_ext autoreload\n",
    "%autoreload 2"
   ]
  },
  {
   "cell_type": "code",
   "execution_count": null,
   "metadata": {
    "execution": {
     "iopub.execute_input": "2021-06-02T09:06:43.243842Z",
     "iopub.status.busy": "2021-06-02T09:06:43.243174Z",
     "iopub.status.idle": "2021-06-02T09:06:43.820443Z",
     "shell.execute_reply": "2021-06-02T09:06:43.821011Z"
    },
    "tags": []
   },
   "outputs": [],
   "source": [
    "import kwat"
   ]
  },
  {
   "cell_type": "code",
   "execution_count": null,
   "metadata": {
    "execution": {
     "iopub.execute_input": "2021-06-02T09:06:43.824484Z",
     "iopub.status.busy": "2021-06-02T09:06:43.823868Z",
     "iopub.status.idle": "2021-06-02T09:06:43.843108Z",
     "shell.execute_reply": "2021-06-02T09:06:43.843513Z"
    },
    "tags": []
   },
   "outputs": [],
   "source": [
    "pa = kwat.path.get_absolute(\"~/Downloads/test.json\")"
   ]
  },
  {
   "cell_type": "code",
   "execution_count": null,
   "metadata": {
    "execution": {
     "iopub.execute_input": "2021-06-02T09:06:43.846992Z",
     "iopub.status.busy": "2021-06-02T09:06:43.846297Z",
     "iopub.status.idle": "2021-06-02T09:06:43.864379Z",
     "shell.execute_reply": "2021-06-02T09:06:43.864833Z"
    },
    "tags": []
   },
   "outputs": [],
   "source": [
    "import numpy as np"
   ]
  },
  {
   "cell_type": "code",
   "execution_count": null,
   "metadata": {
    "execution": {
     "iopub.execute_input": "2021-06-02T09:06:43.868634Z",
     "iopub.status.busy": "2021-06-02T09:06:43.868052Z",
     "iopub.status.idle": "2021-06-02T09:06:43.894914Z",
     "shell.execute_reply": "2021-06-02T09:06:43.895356Z"
    },
    "tags": []
   },
   "outputs": [],
   "source": [
    "an_an = {\n",
    "    \"key_0\": \"value_0\",\n",
    "    1: (1,),\n",
    "    \"2\": [2, \"3\"],\n",
    "    (3): None,\n",
    "    4: \"null\",\n",
    "    5: np.nan,\n",
    "    None: 0,\n",
    "    \"null\": 0,\n",
    "    np.nan: 0,\n",
    "}\n",
    "\n",
    "an_an"
   ]
  },
  {
   "cell_type": "markdown",
   "metadata": {},
   "source": [
    "## write"
   ]
  },
  {
   "cell_type": "code",
   "execution_count": null,
   "metadata": {
    "execution": {
     "iopub.execute_input": "2021-06-02T09:06:43.899561Z",
     "iopub.status.busy": "2021-06-02T09:06:43.898917Z",
     "iopub.status.idle": "2021-06-02T09:06:43.919831Z",
     "shell.execute_reply": "2021-06-02T09:06:43.920667Z"
    },
    "tags": []
   },
   "outputs": [],
   "source": [
    "kwat.json.write(pa, an_an)"
   ]
  },
  {
   "cell_type": "code",
   "execution_count": null,
   "metadata": {
    "execution": {
     "iopub.execute_input": "2021-06-02T09:06:43.924546Z",
     "iopub.status.busy": "2021-06-02T09:06:43.923929Z",
     "iopub.status.idle": "2021-06-02T09:06:44.067012Z",
     "shell.execute_reply": "2021-06-02T09:06:44.067448Z"
    },
    "tags": []
   },
   "outputs": [],
   "source": [
    "%cat ~/Downloads/test.json"
   ]
  },
  {
   "cell_type": "markdown",
   "metadata": {},
   "source": [
    "## read"
   ]
  },
  {
   "cell_type": "code",
   "execution_count": null,
   "metadata": {
    "execution": {
     "iopub.execute_input": "2021-06-02T09:06:44.071222Z",
     "iopub.status.busy": "2021-06-02T09:06:44.070659Z",
     "iopub.status.idle": "2021-06-02T09:06:44.094494Z",
     "shell.execute_reply": "2021-06-02T09:06:44.094931Z"
    },
    "tags": []
   },
   "outputs": [],
   "source": [
    "kwat.json.read(pa)"
   ]
  }
 ],
 "metadata": {
  "kernelspec": {
   "display_name": "Python 3 (ipykernel)",
   "language": "python",
   "name": "python3"
  },
  "language_info": {
   "codemirror_mode": {
    "name": "ipython",
    "version": 3
   },
   "file_extension": ".py",
   "mimetype": "text/x-python",
   "name": "python",
   "nbconvert_exporter": "python",
   "pygments_lexer": "ipython3",
   "version": "3.9.6"
  }
 },
 "nbformat": 4,
 "nbformat_minor": 4
}
