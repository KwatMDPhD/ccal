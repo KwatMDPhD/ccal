{
 "cells": [
  {
   "cell_type": "code",
   "execution_count": null,
   "metadata": {
    "execution": {
     "iopub.execute_input": "2021-08-23T06:01:17.524472Z",
     "iopub.status.busy": "2021-08-23T06:01:17.523619Z",
     "iopub.status.idle": "2021-08-23T06:01:17.538700Z",
     "shell.execute_reply": "2021-08-23T06:01:17.539194Z"
    },
    "tags": []
   },
   "outputs": [],
   "source": [
    "%load_ext autoreload\n",
    "%autoreload 2"
   ]
  },
  {
   "cell_type": "code",
   "execution_count": null,
   "metadata": {
    "execution": {
     "iopub.execute_input": "2021-08-23T06:01:17.542844Z",
     "iopub.status.busy": "2021-08-23T06:01:17.542194Z",
     "iopub.status.idle": "2021-08-23T06:01:18.201537Z",
     "shell.execute_reply": "2021-08-23T06:01:18.201912Z"
    },
    "tags": []
   },
   "outputs": [],
   "source": [
    "import kwat"
   ]
  },
  {
   "cell_type": "code",
   "execution_count": null,
   "metadata": {
    "execution": {
     "iopub.execute_input": "2021-08-23T06:01:18.206279Z",
     "iopub.status.busy": "2021-08-23T06:01:18.205614Z",
     "iopub.status.idle": "2021-08-23T06:01:18.225391Z",
     "shell.execute_reply": "2021-08-23T06:01:18.225777Z"
    },
    "tags": []
   },
   "outputs": [],
   "source": [
    "pa = kwat.path.get_absolute(\"~/Downloads/test.json\")"
   ]
  },
  {
   "cell_type": "code",
   "execution_count": null,
   "metadata": {
    "execution": {
     "iopub.execute_input": "2021-08-23T06:01:18.228907Z",
     "iopub.status.busy": "2021-08-23T06:01:18.228377Z",
     "iopub.status.idle": "2021-08-23T06:01:18.247810Z",
     "shell.execute_reply": "2021-08-23T06:01:18.248233Z"
    },
    "tags": []
   },
   "outputs": [],
   "source": [
    "import numpy as np"
   ]
  },
  {
   "cell_type": "code",
   "execution_count": null,
   "metadata": {
    "execution": {
     "iopub.execute_input": "2021-08-23T06:01:18.252216Z",
     "iopub.status.busy": "2021-08-23T06:01:18.251647Z",
     "iopub.status.idle": "2021-08-23T06:01:18.278990Z",
     "shell.execute_reply": "2021-08-23T06:01:18.279345Z"
    },
    "tags": []
   },
   "outputs": [],
   "source": [
    "an_an = {\n",
    "    \"key_0\": \"value_0\",\n",
    "    1: (1,),\n",
    "    \"2\": [2, \"3\"],\n",
    "    (3): None,\n",
    "    4: \"null\",\n",
    "    5: np.nan,\n",
    "    None: 0,\n",
    "    \"null\": 0,\n",
    "    np.nan: 0,\n",
    "}\n",
    "\n",
    "an_an"
   ]
  },
  {
   "cell_type": "markdown",
   "metadata": {},
   "source": [
    "## write"
   ]
  },
  {
   "cell_type": "code",
   "execution_count": null,
   "metadata": {
    "execution": {
     "iopub.execute_input": "2021-08-23T06:01:18.282330Z",
     "iopub.status.busy": "2021-08-23T06:01:18.281843Z",
     "iopub.status.idle": "2021-08-23T06:01:18.301091Z",
     "shell.execute_reply": "2021-08-23T06:01:18.301563Z"
    },
    "tags": []
   },
   "outputs": [],
   "source": [
    "kwat.json.write(pa, an_an)"
   ]
  },
  {
   "cell_type": "code",
   "execution_count": null,
   "metadata": {
    "execution": {
     "iopub.execute_input": "2021-08-23T06:01:18.305206Z",
     "iopub.status.busy": "2021-08-23T06:01:18.304709Z",
     "iopub.status.idle": "2021-08-23T06:01:18.448227Z",
     "shell.execute_reply": "2021-08-23T06:01:18.448898Z"
    },
    "tags": []
   },
   "outputs": [],
   "source": [
    "%cat ~/Downloads/test.json"
   ]
  },
  {
   "cell_type": "markdown",
   "metadata": {},
   "source": [
    "## read"
   ]
  },
  {
   "cell_type": "code",
   "execution_count": null,
   "metadata": {
    "execution": {
     "iopub.execute_input": "2021-08-23T06:01:18.454162Z",
     "iopub.status.busy": "2021-08-23T06:01:18.453440Z",
     "iopub.status.idle": "2021-08-23T06:01:18.483369Z",
     "shell.execute_reply": "2021-08-23T06:01:18.483791Z"
    },
    "tags": []
   },
   "outputs": [],
   "source": [
    "kwat.json.read(pa)"
   ]
  }
 ],
 "metadata": {
  "kernelspec": {
   "display_name": "Python 3 (ipykernel)",
   "language": "python",
   "name": "python3"
  },
  "language_info": {
   "codemirror_mode": {
    "name": "ipython",
    "version": 3
   },
   "file_extension": ".py",
   "mimetype": "text/x-python",
   "name": "python",
   "nbconvert_exporter": "python",
   "pygments_lexer": "ipython3",
   "version": "3.9.6"
  }
 },
 "nbformat": 4,
 "nbformat_minor": 4
}
