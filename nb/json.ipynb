{
 "cells": [
  {
   "cell_type": "code",
   "execution_count": null,
   "metadata": {
    "execution": {
     "iopub.execute_input": "2021-08-25T07:04:30.916814Z",
     "iopub.status.busy": "2021-08-25T07:04:30.916217Z",
     "iopub.status.idle": "2021-08-25T07:04:30.928106Z",
     "shell.execute_reply": "2021-08-25T07:04:30.928477Z"
    },
    "tags": []
   },
   "outputs": [],
   "source": [
    "%load_ext autoreload\n",
    "%autoreload 2"
   ]
  },
  {
   "cell_type": "code",
   "execution_count": null,
   "metadata": {
    "execution": {
     "iopub.execute_input": "2021-08-25T07:04:30.931608Z",
     "iopub.status.busy": "2021-08-25T07:04:30.931109Z",
     "iopub.status.idle": "2021-08-25T07:04:31.570349Z",
     "shell.execute_reply": "2021-08-25T07:04:31.570718Z"
    },
    "tags": []
   },
   "outputs": [],
   "source": [
    "import kwat"
   ]
  },
  {
   "cell_type": "code",
   "execution_count": null,
   "metadata": {
    "execution": {
     "iopub.execute_input": "2021-08-25T07:04:31.574095Z",
     "iopub.status.busy": "2021-08-25T07:04:31.573593Z",
     "iopub.status.idle": "2021-08-25T07:04:31.594955Z",
     "shell.execute_reply": "2021-08-25T07:04:31.594403Z"
    },
    "tags": []
   },
   "outputs": [],
   "source": [
    "pa = kwat.path.get_absolute(\"~/Downloads/test.json\")"
   ]
  },
  {
   "cell_type": "code",
   "execution_count": null,
   "metadata": {
    "execution": {
     "iopub.execute_input": "2021-08-25T07:04:31.598323Z",
     "iopub.status.busy": "2021-08-25T07:04:31.597536Z",
     "iopub.status.idle": "2021-08-25T07:04:31.618155Z",
     "shell.execute_reply": "2021-08-25T07:04:31.618515Z"
    },
    "tags": []
   },
   "outputs": [],
   "source": [
    "import numpy as np"
   ]
  },
  {
   "cell_type": "code",
   "execution_count": null,
   "metadata": {
    "execution": {
     "iopub.execute_input": "2021-08-25T07:04:31.622233Z",
     "iopub.status.busy": "2021-08-25T07:04:31.621734Z",
     "iopub.status.idle": "2021-08-25T07:04:31.646559Z",
     "shell.execute_reply": "2021-08-25T07:04:31.646917Z"
    },
    "tags": []
   },
   "outputs": [],
   "source": [
    "an_an = {\n",
    "    \"key_0\": \"value_0\",\n",
    "    1: (1,),\n",
    "    \"2\": [2, \"3\"],\n",
    "    (3): None,\n",
    "    4: \"null\",\n",
    "    5: np.nan,\n",
    "    None: 0,\n",
    "    \"null\": 0,\n",
    "    np.nan: 0,\n",
    "}\n",
    "\n",
    "an_an"
   ]
  },
  {
   "cell_type": "markdown",
   "metadata": {},
   "source": [
    "## write"
   ]
  },
  {
   "cell_type": "code",
   "execution_count": null,
   "metadata": {
    "execution": {
     "iopub.execute_input": "2021-08-25T07:04:31.650154Z",
     "iopub.status.busy": "2021-08-25T07:04:31.649629Z",
     "iopub.status.idle": "2021-08-25T07:04:31.669216Z",
     "shell.execute_reply": "2021-08-25T07:04:31.669574Z"
    },
    "tags": []
   },
   "outputs": [],
   "source": [
    "kwat.json.write(pa, an_an)"
   ]
  },
  {
   "cell_type": "code",
   "execution_count": null,
   "metadata": {
    "execution": {
     "iopub.execute_input": "2021-08-25T07:04:31.672824Z",
     "iopub.status.busy": "2021-08-25T07:04:31.672321Z",
     "iopub.status.idle": "2021-08-25T07:04:31.809536Z",
     "shell.execute_reply": "2021-08-25T07:04:31.809901Z"
    },
    "tags": []
   },
   "outputs": [],
   "source": [
    "%cat ~/Downloads/test.json"
   ]
  },
  {
   "cell_type": "markdown",
   "metadata": {},
   "source": [
    "## read"
   ]
  },
  {
   "cell_type": "code",
   "execution_count": null,
   "metadata": {
    "execution": {
     "iopub.execute_input": "2021-08-25T07:04:31.813280Z",
     "iopub.status.busy": "2021-08-25T07:04:31.812701Z",
     "iopub.status.idle": "2021-08-25T07:04:31.835853Z",
     "shell.execute_reply": "2021-08-25T07:04:31.836210Z"
    },
    "tags": []
   },
   "outputs": [],
   "source": [
    "kwat.json.read(pa)"
   ]
  }
 ],
 "metadata": {
  "kernelspec": {
   "display_name": "Python 3 (ipykernel)",
   "language": "python",
   "name": "python3"
  },
  "language_info": {
   "codemirror_mode": {
    "name": "ipython",
    "version": 3
   },
   "file_extension": ".py",
   "mimetype": "text/x-python",
   "name": "python",
   "nbconvert_exporter": "python",
   "pygments_lexer": "ipython3",
   "version": "3.9.6"
  }
 },
 "nbformat": 4,
 "nbformat_minor": 4
}
