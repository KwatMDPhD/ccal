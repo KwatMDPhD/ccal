{
 "cells": [
  {
   "cell_type": "code",
   "execution_count": null,
   "metadata": {
    "execution": {
     "iopub.execute_input": "2021-06-02T09:02:59.722547Z",
     "iopub.status.busy": "2021-06-02T09:02:59.721568Z",
     "iopub.status.idle": "2021-06-02T09:02:59.736222Z",
     "shell.execute_reply": "2021-06-02T09:02:59.736764Z"
    }
   },
   "outputs": [],
   "source": [
    "%load_ext autoreload\n",
    "%autoreload 2"
   ]
  },
  {
   "cell_type": "code",
   "execution_count": null,
   "metadata": {
    "ExecuteTime": {
     "end_time": "2018-05-15T09:28:55.668422Z",
     "start_time": "2018-05-15T09:28:55.428950Z"
    },
    "execution": {
     "iopub.execute_input": "2021-06-02T09:02:59.740442Z",
     "iopub.status.busy": "2021-06-02T09:02:59.739834Z",
     "iopub.status.idle": "2021-06-02T09:03:00.266460Z",
     "shell.execute_reply": "2021-06-02T09:03:00.266091Z"
    }
   },
   "outputs": [],
   "source": [
    "import kwat"
   ]
  },
  {
   "cell_type": "markdown",
   "metadata": {},
   "source": [
    "## _map_broad"
   ]
  },
  {
   "cell_type": "code",
   "execution_count": null,
   "metadata": {
    "execution": {
     "iopub.execute_input": "2021-06-02T09:03:00.270086Z",
     "iopub.status.busy": "2021-06-02T09:03:00.269534Z",
     "iopub.status.idle": "2021-06-02T09:03:00.303851Z",
     "shell.execute_reply": "2021-06-02T09:03:00.304256Z"
    }
   },
   "outputs": [],
   "source": [
    "na_ce = kwat.cell_line._map_broad()\n",
    "\n",
    "kwat.dictionary.summarize(na_ce)"
   ]
  },
  {
   "cell_type": "markdown",
   "metadata": {},
   "source": [
    "## rename"
   ]
  },
  {
   "cell_type": "code",
   "execution_count": null,
   "metadata": {
    "execution": {
     "iopub.execute_input": "2021-06-02T09:03:00.307401Z",
     "iopub.status.busy": "2021-06-02T09:03:00.306907Z",
     "iopub.status.idle": "2021-06-02T09:03:00.339485Z",
     "shell.execute_reply": "2021-06-02T09:03:00.339846Z"
    }
   },
   "outputs": [],
   "source": [
    "kwat.cell_line.rename([\"Unknown\", \"HELA\", \"Hela\", \"Unknown\", \"\", \"\"])"
   ]
  }
 ],
 "metadata": {
  "kernelspec": {
   "display_name": "Python 3 (ipykernel)",
   "language": "python",
   "name": "python3"
  },
  "language_info": {
   "codemirror_mode": {
    "name": "ipython",
    "version": 3
   },
   "file_extension": ".py",
   "mimetype": "text/x-python",
   "name": "python",
   "nbconvert_exporter": "python",
   "pygments_lexer": "ipython3",
   "version": "3.9.6"
  }
 },
 "nbformat": 4,
 "nbformat_minor": 4
}
