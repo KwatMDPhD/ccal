{
 "cells": [
  {
   "cell_type": "code",
   "execution_count": null,
   "metadata": {
    "execution": {
     "iopub.execute_input": "2021-08-25T06:55:00.236659Z",
     "iopub.status.busy": "2021-08-25T06:55:00.236045Z",
     "iopub.status.idle": "2021-08-25T06:55:00.249997Z",
     "shell.execute_reply": "2021-08-25T06:55:00.250492Z"
    },
    "tags": []
   },
   "outputs": [],
   "source": [
    "%load_ext autoreload\n",
    "%autoreload 2"
   ]
  },
  {
   "cell_type": "code",
   "execution_count": null,
   "metadata": {
    "ExecuteTime": {
     "end_time": "2018-05-15T09:28:55.668422Z",
     "start_time": "2018-05-15T09:28:55.428950Z"
    },
    "execution": {
     "iopub.execute_input": "2021-08-25T06:55:00.254350Z",
     "iopub.status.busy": "2021-08-25T06:55:00.253640Z",
     "iopub.status.idle": "2021-08-25T06:55:00.995531Z",
     "shell.execute_reply": "2021-08-25T06:55:00.995955Z"
    },
    "tags": []
   },
   "outputs": [],
   "source": [
    "import kwat"
   ]
  },
  {
   "cell_type": "markdown",
   "metadata": {},
   "source": [
    "## _map_broad"
   ]
  },
  {
   "cell_type": "code",
   "execution_count": null,
   "metadata": {
    "execution": {
     "iopub.execute_input": "2021-08-25T06:55:00.999603Z",
     "iopub.status.busy": "2021-08-25T06:55:00.998987Z",
     "iopub.status.idle": "2021-08-25T06:55:01.043444Z",
     "shell.execute_reply": "2021-08-25T06:55:01.043879Z"
    },
    "tags": []
   },
   "outputs": [],
   "source": [
    "na_ce = kwat.cell_line._map_broad()"
   ]
  },
  {
   "cell_type": "markdown",
   "metadata": {},
   "source": [
    "## rename"
   ]
  },
  {
   "cell_type": "code",
   "execution_count": null,
   "metadata": {
    "execution": {
     "iopub.execute_input": "2021-08-25T06:55:01.047514Z",
     "iopub.status.busy": "2021-08-25T06:55:01.046816Z",
     "iopub.status.idle": "2021-08-25T06:55:01.098311Z",
     "shell.execute_reply": "2021-08-25T06:55:01.098815Z"
    },
    "tags": []
   },
   "outputs": [],
   "source": [
    "kwat.cell_line.rename([\"Unknown\", \"HELA\", \"Hela\", \"Unknown\", \"\", \"\"])"
   ]
  }
 ],
 "metadata": {
  "kernelspec": {
   "display_name": "Python 3 (ipykernel)",
   "language": "python",
   "name": "python3"
  },
  "language_info": {
   "codemirror_mode": {
    "name": "ipython",
    "version": 3
   },
   "file_extension": ".py",
   "mimetype": "text/x-python",
   "name": "python",
   "nbconvert_exporter": "python",
   "pygments_lexer": "ipython3",
   "version": "3.9.6"
  }
 },
 "nbformat": 4,
 "nbformat_minor": 4
}
