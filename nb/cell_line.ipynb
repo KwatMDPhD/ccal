{
 "cells": [
  {
   "cell_type": "code",
   "execution_count": null,
   "metadata": {
    "execution": {
     "iopub.execute_input": "2021-08-23T05:57:45.886388Z",
     "iopub.status.busy": "2021-08-23T05:57:45.885804Z",
     "iopub.status.idle": "2021-08-23T05:57:45.898531Z",
     "shell.execute_reply": "2021-08-23T05:57:45.898916Z"
    },
    "tags": []
   },
   "outputs": [],
   "source": [
    "%load_ext autoreload\n",
    "%autoreload 2"
   ]
  },
  {
   "cell_type": "code",
   "execution_count": null,
   "metadata": {
    "ExecuteTime": {
     "end_time": "2018-05-15T09:28:55.668422Z",
     "start_time": "2018-05-15T09:28:55.428950Z"
    },
    "execution": {
     "iopub.execute_input": "2021-08-23T05:57:45.902565Z",
     "iopub.status.busy": "2021-08-23T05:57:45.902068Z",
     "iopub.status.idle": "2021-08-23T05:57:46.584235Z",
     "shell.execute_reply": "2021-08-23T05:57:46.584663Z"
    },
    "tags": []
   },
   "outputs": [],
   "source": [
    "import kwat"
   ]
  },
  {
   "cell_type": "markdown",
   "metadata": {},
   "source": [
    "## _map_broad"
   ]
  },
  {
   "cell_type": "code",
   "execution_count": null,
   "metadata": {
    "execution": {
     "iopub.execute_input": "2021-08-23T05:57:46.588213Z",
     "iopub.status.busy": "2021-08-23T05:57:46.587555Z",
     "iopub.status.idle": "2021-08-23T05:57:46.630776Z",
     "shell.execute_reply": "2021-08-23T05:57:46.631179Z"
    },
    "tags": []
   },
   "outputs": [],
   "source": [
    "na_ce = kwat.cell_line._map_broad()"
   ]
  },
  {
   "cell_type": "markdown",
   "metadata": {},
   "source": [
    "## rename"
   ]
  },
  {
   "cell_type": "code",
   "execution_count": null,
   "metadata": {
    "execution": {
     "iopub.execute_input": "2021-08-23T05:57:46.634813Z",
     "iopub.status.busy": "2021-08-23T05:57:46.634194Z",
     "iopub.status.idle": "2021-08-23T05:57:46.683829Z",
     "shell.execute_reply": "2021-08-23T05:57:46.684264Z"
    },
    "tags": []
   },
   "outputs": [],
   "source": [
    "kwat.cell_line.rename([\"Unknown\", \"HELA\", \"Hela\", \"Unknown\", \"\", \"\"])"
   ]
  }
 ],
 "metadata": {
  "kernelspec": {
   "display_name": "Python 3 (ipykernel)",
   "language": "python",
   "name": "python3"
  },
  "language_info": {
   "codemirror_mode": {
    "name": "ipython",
    "version": 3
   },
   "file_extension": ".py",
   "mimetype": "text/x-python",
   "name": "python",
   "nbconvert_exporter": "python",
   "pygments_lexer": "ipython3",
   "version": "3.9.6"
  }
 },
 "nbformat": 4,
 "nbformat_minor": 4
}
