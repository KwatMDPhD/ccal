{
 "cells": [
  {
   "cell_type": "code",
   "execution_count": null,
   "metadata": {
    "execution": {
     "iopub.execute_input": "2021-07-23T23:06:47.224431Z",
     "iopub.status.busy": "2021-07-23T23:06:47.223654Z",
     "iopub.status.idle": "2021-07-23T23:06:47.236632Z",
     "shell.execute_reply": "2021-07-23T23:06:47.237043Z"
    }
   },
   "outputs": [],
   "source": [
    "%load_ext autoreload\n",
    "%autoreload 2"
   ]
  },
  {
   "cell_type": "code",
   "execution_count": null,
   "metadata": {
    "ExecuteTime": {
     "end_time": "2018-05-15T09:28:55.668422Z",
     "start_time": "2018-05-15T09:28:55.428950Z"
    },
    "execution": {
     "iopub.execute_input": "2021-07-23T23:06:47.240242Z",
     "iopub.status.busy": "2021-07-23T23:06:47.239667Z",
     "iopub.status.idle": "2021-07-23T23:06:47.903298Z",
     "shell.execute_reply": "2021-07-23T23:06:47.903797Z"
    }
   },
   "outputs": [],
   "source": [
    "import kwat"
   ]
  },
  {
   "cell_type": "markdown",
   "metadata": {},
   "source": [
    "## _map_broad"
   ]
  },
  {
   "cell_type": "code",
   "execution_count": null,
   "metadata": {
    "execution": {
     "iopub.execute_input": "2021-07-23T23:06:47.908014Z",
     "iopub.status.busy": "2021-07-23T23:06:47.907438Z",
     "iopub.status.idle": "2021-07-23T23:06:48.158574Z",
     "shell.execute_reply": "2021-07-23T23:06:48.158982Z"
    }
   },
   "outputs": [],
   "source": [
    "na_ce = kwat.cell_line._map_broad()\n",
    "\n",
    "kwat.dictionary.summarize(na_ce)"
   ]
  },
  {
   "cell_type": "markdown",
   "metadata": {},
   "source": [
    "## rename"
   ]
  },
  {
   "cell_type": "code",
   "execution_count": null,
   "metadata": {
    "execution": {
     "iopub.execute_input": "2021-07-23T23:06:48.162538Z",
     "iopub.status.busy": "2021-07-23T23:06:48.161953Z",
     "iopub.status.idle": "2021-07-23T23:06:48.413011Z",
     "shell.execute_reply": "2021-07-23T23:06:48.413428Z"
    }
   },
   "outputs": [],
   "source": [
    "kwat.cell_line.rename([\"Unknown\", \"HELA\", \"Hela\", \"Unknown\", \"\", \"\"])"
   ]
  }
 ],
 "metadata": {
  "kernelspec": {
   "display_name": "Python 3 (ipykernel)",
   "language": "python",
   "name": "python3"
  },
  "language_info": {
   "codemirror_mode": {
    "name": "ipython",
    "version": 3
   },
   "file_extension": ".py",
   "mimetype": "text/x-python",
   "name": "python",
   "nbconvert_exporter": "python",
   "pygments_lexer": "ipython3",
   "version": "3.9.6"
  }
 },
 "nbformat": 4,
 "nbformat_minor": 4
}
