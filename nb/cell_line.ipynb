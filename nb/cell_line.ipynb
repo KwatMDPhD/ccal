{
 "cells": [
  {
   "cell_type": "code",
   "execution_count": null,
   "metadata": {
    "execution": {
     "iopub.execute_input": "2021-08-25T07:02:21.818764Z",
     "iopub.status.busy": "2021-08-25T07:02:21.817830Z",
     "iopub.status.idle": "2021-08-25T07:02:21.834458Z",
     "shell.execute_reply": "2021-08-25T07:02:21.834963Z"
    },
    "tags": []
   },
   "outputs": [],
   "source": [
    "%load_ext autoreload\n",
    "%autoreload 2"
   ]
  },
  {
   "cell_type": "code",
   "execution_count": null,
   "metadata": {
    "ExecuteTime": {
     "end_time": "2018-05-15T09:28:55.668422Z",
     "start_time": "2018-05-15T09:28:55.428950Z"
    },
    "execution": {
     "iopub.execute_input": "2021-08-25T07:02:21.838707Z",
     "iopub.status.busy": "2021-08-25T07:02:21.838111Z",
     "iopub.status.idle": "2021-08-25T07:02:22.449529Z",
     "shell.execute_reply": "2021-08-25T07:02:22.449901Z"
    },
    "tags": []
   },
   "outputs": [],
   "source": [
    "import kwat"
   ]
  },
  {
   "cell_type": "markdown",
   "metadata": {},
   "source": [
    "## _map_broad"
   ]
  },
  {
   "cell_type": "code",
   "execution_count": null,
   "metadata": {
    "execution": {
     "iopub.execute_input": "2021-08-25T07:02:22.453212Z",
     "iopub.status.busy": "2021-08-25T07:02:22.452680Z",
     "iopub.status.idle": "2021-08-25T07:02:22.494048Z",
     "shell.execute_reply": "2021-08-25T07:02:22.494475Z"
    },
    "tags": []
   },
   "outputs": [],
   "source": [
    "na_ce = kwat.cell_line._map_broad()"
   ]
  },
  {
   "cell_type": "markdown",
   "metadata": {},
   "source": [
    "## rename"
   ]
  },
  {
   "cell_type": "code",
   "execution_count": null,
   "metadata": {
    "execution": {
     "iopub.execute_input": "2021-08-25T07:02:22.498308Z",
     "iopub.status.busy": "2021-08-25T07:02:22.497709Z",
     "iopub.status.idle": "2021-08-25T07:02:22.545395Z",
     "shell.execute_reply": "2021-08-25T07:02:22.545750Z"
    },
    "tags": []
   },
   "outputs": [],
   "source": [
    "kwat.cell_line.rename([\"Unknown\", \"HELA\", \"Hela\", \"Unknown\", \"\", \"\"])"
   ]
  }
 ],
 "metadata": {
  "kernelspec": {
   "display_name": "Python 3 (ipykernel)",
   "language": "python",
   "name": "python3"
  },
  "language_info": {
   "codemirror_mode": {
    "name": "ipython",
    "version": 3
   },
   "file_extension": ".py",
   "mimetype": "text/x-python",
   "name": "python",
   "nbconvert_exporter": "python",
   "pygments_lexer": "ipython3",
   "version": "3.9.6"
  }
 },
 "nbformat": 4,
 "nbformat_minor": 4
}
