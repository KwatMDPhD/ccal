{
 "cells": [
  {
   "cell_type": "code",
   "execution_count": null,
   "metadata": {},
   "outputs": [],
   "source": [
    "%load_ext autoreload\n",
    "%autoreload 2"
   ]
  },
  {
   "cell_type": "code",
   "execution_count": null,
   "metadata": {
    "ExecuteTime": {
     "end_time": "2018-05-07T09:08:44.839057Z",
     "start_time": "2018-05-07T09:08:44.223504Z"
    }
   },
   "outputs": [],
   "source": [
    "import kwat\n",
    "import numpy as np\n",
    "from scipy.spatial.distance import pdist, squareform"
   ]
  },
  {
   "cell_type": "code",
   "execution_count": null,
   "metadata": {},
   "outputs": [],
   "source": [
    "def plot_point(no0_, no1_, po0_, po1_):\n",
    "\n",
    "    layout_size = 640\n",
    "\n",
    "    kwat.plot.plot_plotly(\n",
    "        {\n",
    "            \"layout\": {\n",
    "                \"height\": layout_size,\n",
    "                \"width\": layout_size,\n",
    "            },\n",
    "            \"data\": [\n",
    "                {\n",
    "                    \"name\": \"Node\",\n",
    "                    \"y\": no0_,\n",
    "                    \"x\": no1_,\n",
    "                    \"mode\": \"markers\",\n",
    "                    \"marker\": {\n",
    "                        \"size\": 24,\n",
    "                        \"opacity\": 0.8,\n",
    "                    },\n",
    "                }\n",
    "            ]\n",
    "            + [\n",
    "                {\n",
    "                    \"showlegend\": False,\n",
    "                    \"y\": [po0],\n",
    "                    \"x\": [po1],\n",
    "                    \"mode\": \"markers+text\",\n",
    "                    \"marker\": {\n",
    "                        \"size\": 16,\n",
    "                        \"opacity\": 0.8,\n",
    "                    },\n",
    "                    \"text\": ie,\n",
    "                    \"textfont\": {\n",
    "                        \"size\": 16,\n",
    "                    },\n",
    "                }\n",
    "                for ie, (po0, po1) in enumerate(zip(po0_, po1_))\n",
    "            ],\n",
    "        }\n",
    "    )"
   ]
  },
  {
   "cell_type": "markdown",
   "metadata": {},
   "source": [
    "## pull_point"
   ]
  },
  {
   "cell_type": "code",
   "execution_count": null,
   "metadata": {},
   "outputs": [],
   "source": [
    "nu_no_di = np.array([[0, 0], [1, 0], [0, 1], [1, 1]])\n",
    "\n",
    "nu_po_no = np.array([[1, 0, 0, 0], [1, 1, 0, 0], [1, 1, 1, 0], [1, 1, 1, 1]])\n",
    "\n",
    "nu_po_di = kwat.point.pull_point(nu_no_di, nu_po_no)\n",
    "\n",
    "plot_point(*nu_no_di.T, *nu_po_di.T)"
   ]
  },
  {
   "cell_type": "markdown",
   "metadata": {},
   "source": [
    "## map_point"
   ]
  },
  {
   "cell_type": "code",
   "execution_count": null,
   "metadata": {},
   "outputs": [],
   "source": [
    "di_po_po = np.array(\n",
    "    [\n",
    "        [0.0, 0.5, 1.0, 2.0],\n",
    "        [0.5, 0.0, 0.5, 0.0],\n",
    "        [1.0, 0.5, 0.0, 0.5],\n",
    "        [2.0, 0.0, 0.5, 0.0],\n",
    "    ]\n",
    ")\n",
    "\n",
    "nu_po_di = kwat.point.map_point(di_po_po, 2)\n",
    "\n",
    "plot_point(None, None, *nu_po_di.T)"
   ]
  },
  {
   "cell_type": "code",
   "execution_count": null,
   "metadata": {},
   "outputs": [],
   "source": [
    "nu_po_di = np.array(\n",
    "    [\n",
    "        [-8, -8, -8],\n",
    "        [0, 0, 0],\n",
    "        [2, 2, 2],\n",
    "        [4, 4, 4],\n",
    "        [8, 8, 8],\n",
    "    ]\n",
    ")\n",
    "\n",
    "print(nu_po_di)"
   ]
  },
  {
   "cell_type": "code",
   "execution_count": null,
   "metadata": {},
   "outputs": [],
   "source": [
    "di_po_po = squareform(pdist(nu_po_di))\n",
    "\n",
    "for n_di in [1, 2]:\n",
    "\n",
    "    nu_po_di = kwat.point.map_point(di_po_po, n_di)\n",
    "\n",
    "    if n_di == 1:\n",
    "\n",
    "        plot_point(None, None, nu_po_di.ravel(), [0] * nu_po_di.shape[0])\n",
    "\n",
    "    elif n_di == 2:\n",
    "\n",
    "        plot_point(None, None, *nu_po_di.T)"
   ]
  }
 ],
 "metadata": {
  "kernelspec": {
   "display_name": "Python 3 (ipykernel)",
   "language": "python",
   "name": "python3"
  },
  "language_info": {
   "codemirror_mode": {
    "name": "ipython",
    "version": 3
   },
   "file_extension": ".py",
   "mimetype": "text/x-python",
   "name": "python",
   "nbconvert_exporter": "python",
   "pygments_lexer": "ipython3",
   "version": "3.9.6"
  }
 },
 "nbformat": 4,
 "nbformat_minor": 4
}
