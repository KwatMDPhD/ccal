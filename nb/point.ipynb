{
 "cells": [
  {
   "outputs": [],
   "cell_type": "code",
   "source": [
    "%load_ext autoreload\n",
    "%autoreload 2"
   ],
   "metadata": {},
   "execution_count": null
  },
  {
   "outputs": [],
   "cell_type": "code",
   "source": [
    "import kwat\n",
    "import numpy as np\n",
    "from scipy.spatial.distance import pdist, squareform"
   ],
   "metadata": {},
   "execution_count": null
  },
  {
   "outputs": [],
   "cell_type": "code",
   "source": [
    "def plot_point(no0_, no1_, po0_, po1_):\n",
    "    layout_size = 640\n",
    "\n",
    "    kwat.plot.plot_plotly(\n",
    "        {\n",
    "            \"layout\": {\"height\": layout_size, \"width\": layout_size},\n",
    "            \"data\": [\n",
    "                {\n",
    "                    \"name\": \"Node\",\n",
    "                    \"y\": no0_,\n",
    "                    \"x\": no1_,\n",
    "                    \"mode\": \"markers\",\n",
    "                    \"marker\": {\"size\": 24, \"opacity\": 0.8},\n",
    "                }\n",
    "            ]\n",
    "            + [\n",
    "                {\n",
    "                    \"showlegend\": False,\n",
    "                    \"y\": [po0],\n",
    "                    \"x\": [po1],\n",
    "                    \"mode\": \"markers+text\",\n",
    "                    \"marker\": {\"size\": 16, \"opacity\": 0.8},\n",
    "                    \"text\": ie,\n",
    "                    \"textfont\": {\"size\": 16},\n",
    "                }\n",
    "                for ie, (po0, po1) in enumerate(zip(po0_, po1_))\n",
    "            ],\n",
    "        }\n",
    "    )"
   ],
   "metadata": {},
   "execution_count": null
  },
  {
   "cell_type": "markdown",
   "source": [
    "## pull"
   ],
   "metadata": {}
  },
  {
   "outputs": [],
   "cell_type": "code",
   "source": [
    "nu_no_di = np.array([[0, 0], [1, 0], [0, 1], [1, 1]])\n",
    "\n",
    "nu_po_no = np.array([[1, 0, 0, 0], [1, 1, 0, 0], [1, 1, 1, 0], [1, 1, 1, 1]])\n",
    "\n",
    "nu_po_di = kwat.point.pull(nu_no_di, nu_po_no)\n",
    "\n",
    "plot_point(*nu_no_di.T, *nu_po_di.T)"
   ],
   "metadata": {},
   "execution_count": null
  },
  {
   "cell_type": "markdown",
   "source": [
    "## scale"
   ],
   "metadata": {}
  },
  {
   "outputs": [],
   "cell_type": "code",
   "source": [
    "di_po_po = np.array(\n",
    "    [\n",
    "        [0.0, 0.5, 1.0, 2.0],\n",
    "        [0.5, 0.0, 0.5, 0.0],\n",
    "        [1.0, 0.5, 0.0, 0.5],\n",
    "        [2.0, 0.0, 0.5, 0.0],\n",
    "    ]\n",
    ")\n",
    "\n",
    "nu_po_di = kwat.point.scale(di_po_po, 2)\n",
    "\n",
    "plot_point(None, None, *nu_po_di.T)"
   ],
   "metadata": {},
   "execution_count": null
  },
  {
   "outputs": [],
   "cell_type": "code",
   "source": [
    "nu_po_di = np.array([[-8, -8, -8], [0, 0, 0], [2, 2, 2], [4, 4, 4], [8, 8, 8]])\n",
    "\n",
    "print(nu_po_di)"
   ],
   "metadata": {},
   "execution_count": null
  },
  {
   "outputs": [],
   "cell_type": "code",
   "source": [
    "di_po_po = squareform(pdist(nu_po_di))\n",
    "\n",
    "for n_di in [1, 2]:\n",
    "    nu_po_di = kwat.point.scale(di_po_po, n_di)\n",
    "\n",
    "    if n_di == 1:\n",
    "        plot_point(None, None, nu_po_di.ravel(), [0] * nu_po_di.shape[0])\n",
    "\n",
    "    elif n_di == 2:\n",
    "        plot_point(None, None, *nu_po_di.T)"
   ],
   "metadata": {},
   "execution_count": null
  }
 ],
 "nbformat_minor": 4,
 "metadata": {
  "language_info": {
   "file_extension": ".py",
   "mimetype": "text/x-python",
   "name": "python",
   "nbconvert_exporter": "python",
   "pygments_lexer": "ipython3",
   "codemirror_mode": {
    "name": "ipython",
    "version": 3
   },
   "version": "3.9.6"
  },
  "kernelspec": {
   "name": "python3",
   "display_name": "Python 3 (ipykernel)",
   "language": "python"
  }
 },
 "nbformat": 4
}
