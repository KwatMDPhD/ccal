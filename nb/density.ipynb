{
 "cells": [
  {
   "outputs": [],
   "cell_type": "code",
   "source": [
    "%load_ext autoreload\n",
    "%autoreload 2"
   ],
   "metadata": {},
   "execution_count": null
  },
  {
   "outputs": [],
   "cell_type": "code",
   "source": [
    "import kwat\n",
    "import numpy as np"
   ],
   "metadata": {},
   "execution_count": null
  },
  {
   "outputs": [],
   "cell_type": "code",
   "source": [
    "te_ = [\n",
    "    [[-1], [0], [2]],\n",
    "    [[-1, -1], [0, 0], [2, 2]],\n",
    "    [[-1, -1, -1], [0, 0, 0], [2, 2, 2]],\n",
    "    [[9, 0], [5, 0], [0, 9], [3, 2], [9, 9]],\n",
    "]\n",
    "\n",
    "te_ = [np.array(te) for te in te_]"
   ],
   "metadata": {},
   "execution_count": null
  },
  {
   "cell_type": "markdown",
   "source": [
    "## get_bandwidth"
   ],
   "metadata": {}
  },
  {
   "outputs": [],
   "cell_type": "code",
   "source": [
    "from KDEpy.bw_selection import improved_sheather_jones, scotts_rule, silvermans_rule"
   ],
   "metadata": {},
   "execution_count": null
  },
  {
   "outputs": [],
   "cell_type": "code",
   "source": [
    "n_po = 10000\n",
    "nu_po_di = np.arange(n_po).reshape([-1, 1])"
   ],
   "metadata": {},
   "execution_count": null
  },
  {
   "outputs": [],
   "cell_type": "code",
   "source": [
    "%timeit improved_sheather_jones(nu_po_di)"
   ],
   "metadata": {},
   "execution_count": null
  },
  {
   "outputs": [],
   "cell_type": "code",
   "source": [
    "%timeit scotts_rule(nu_po_di)"
   ],
   "metadata": {},
   "execution_count": null
  },
  {
   "outputs": [],
   "cell_type": "code",
   "source": [
    "%timeit silvermans_rule(nu_po_di)"
   ],
   "metadata": {},
   "execution_count": null
  },
  {
   "outputs": [],
   "cell_type": "code",
   "source": [
    "for nu_po_di in te_:\n",
    "    for me in [\"silverman\", \"scott\", \"ISJ\"]:\n",
    "        print(me)\n",
    "\n",
    "        try:\n",
    "            print(kwat.density.get_bandwidth(nu_po_di, me=me))\n",
    "\n",
    "        except ValueError as er:\n",
    "            print(er)\n",
    "\n",
    "    print()"
   ],
   "metadata": {},
   "execution_count": null
  },
  {
   "cell_type": "markdown",
   "source": [
    "## get_density"
   ],
   "metadata": {}
  },
  {
   "outputs": [],
   "cell_type": "code",
   "source": [
    "for nu_po_di in te_:\n",
    "    for me in [\"naive\", \"tree\", \"fft\"]:\n",
    "        print(me)\n",
    "\n",
    "        kwat.density.get_density(nu_po_di, me=me)\n",
    "\n",
    "    print()"
   ],
   "metadata": {},
   "execution_count": null
  }
 ],
 "nbformat_minor": 4,
 "metadata": {
  "language_info": {
   "file_extension": ".py",
   "mimetype": "text/x-python",
   "name": "python",
   "nbconvert_exporter": "python",
   "pygments_lexer": "ipython3",
   "codemirror_mode": {
    "name": "ipython",
    "version": 3
   },
   "version": "3.9.6"
  },
  "kernelspec": {
   "name": "python3",
   "display_name": "Python 3 (ipykernel)",
   "language": "python"
  }
 },
 "nbformat": 4
}
