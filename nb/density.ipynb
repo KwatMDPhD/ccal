{
 "cells": [
  {
   "cell_type": "code",
   "execution_count": null,
   "metadata": {
    "execution": {
     "iopub.execute_input": "2021-08-26T01:52:09.111572Z",
     "iopub.status.busy": "2021-08-26T01:52:09.110864Z",
     "iopub.status.idle": "2021-08-26T01:52:09.126182Z",
     "shell.execute_reply": "2021-08-26T01:52:09.126584Z"
    },
    "tags": []
   },
   "outputs": [],
   "source": [
    "%load_ext autoreload\n",
    "%autoreload 2"
   ]
  },
  {
   "cell_type": "code",
   "execution_count": null,
   "metadata": {
    "execution": {
     "iopub.execute_input": "2021-08-26T01:52:09.130191Z",
     "iopub.status.busy": "2021-08-26T01:52:09.129602Z",
     "iopub.status.idle": "2021-08-26T01:52:09.808782Z",
     "shell.execute_reply": "2021-08-26T01:52:09.808422Z"
    },
    "tags": []
   },
   "outputs": [],
   "source": [
    "import numpy as np\n",
    "\n",
    "import kwat"
   ]
  },
  {
   "cell_type": "code",
   "execution_count": null,
   "metadata": {
    "execution": {
     "iopub.execute_input": "2021-08-26T01:52:09.813983Z",
     "iopub.status.busy": "2021-08-26T01:52:09.813401Z",
     "iopub.status.idle": "2021-08-26T01:52:09.835701Z",
     "shell.execute_reply": "2021-08-26T01:52:09.836123Z"
    }
   },
   "outputs": [],
   "source": [
    "te_ = [\n",
    "    [[-1], [0], [2]],\n",
    "    [[-1, -1], [0, 0], [2, 2]],\n",
    "    [[-1, -1, -1], [0, 0, 0], [2, 2, 2]],\n",
    "    [[9, 0], [5, 0], [0, 9], [3, 2], [9, 9]],\n",
    "]\n",
    "\n",
    "te_ = [np.array(te) for te in te_]"
   ]
  },
  {
   "cell_type": "markdown",
   "metadata": {},
   "source": [
    "## get_bandwidth"
   ]
  },
  {
   "cell_type": "code",
   "execution_count": null,
   "metadata": {
    "execution": {
     "iopub.execute_input": "2021-08-26T01:52:09.839509Z",
     "iopub.status.busy": "2021-08-26T01:52:09.838929Z",
     "iopub.status.idle": "2021-08-26T01:52:10.302753Z",
     "shell.execute_reply": "2021-08-26T01:52:10.303133Z"
    },
    "tags": []
   },
   "outputs": [],
   "source": [
    "for nu_po_di in te_:\n",
    "\n",
    "    print(kwat.density.get_bandwidth(nu_po_di))"
   ]
  },
  {
   "cell_type": "markdown",
   "metadata": {},
   "source": [
    "## get_density"
   ]
  },
  {
   "cell_type": "code",
   "execution_count": null,
   "metadata": {
    "execution": {
     "iopub.execute_input": "2021-08-26T01:52:10.307062Z",
     "iopub.status.busy": "2021-08-26T01:52:10.306390Z",
     "iopub.status.idle": "2021-08-26T01:52:11.128606Z",
     "shell.execute_reply": "2021-08-26T01:52:11.128976Z"
    },
    "tags": []
   },
   "outputs": [],
   "source": [
    "for nu_po_di in te_:\n",
    "\n",
    "    kwat.density.get_density(nu_po_di)"
   ]
  }
 ],
 "metadata": {
  "kernelspec": {
   "display_name": "Python 3 (ipykernel)",
   "language": "python",
   "name": "python3"
  },
  "language_info": {
   "codemirror_mode": {
    "name": "ipython",
    "version": 3
   },
   "file_extension": ".py",
   "mimetype": "text/x-python",
   "name": "python",
   "nbconvert_exporter": "python",
   "pygments_lexer": "ipython3",
   "version": "3.9.6"
  }
 },
 "nbformat": 4,
 "nbformat_minor": 4
}
