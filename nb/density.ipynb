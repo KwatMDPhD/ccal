{
 "cells": [
  {
   "cell_type": "code",
   "execution_count": null,
   "metadata": {
    "execution": {
     "iopub.execute_input": "2021-08-25T06:55:21.857665Z",
     "iopub.status.busy": "2021-08-25T06:55:21.857016Z",
     "iopub.status.idle": "2021-08-25T06:55:21.872545Z",
     "shell.execute_reply": "2021-08-25T06:55:21.873115Z"
    },
    "tags": []
   },
   "outputs": [],
   "source": [
    "%load_ext autoreload\n",
    "%autoreload 2"
   ]
  },
  {
   "cell_type": "code",
   "execution_count": null,
   "metadata": {
    "execution": {
     "iopub.execute_input": "2021-08-25T06:55:21.877523Z",
     "iopub.status.busy": "2021-08-25T06:55:21.876692Z",
     "iopub.status.idle": "2021-08-25T06:55:22.663550Z",
     "shell.execute_reply": "2021-08-25T06:55:22.664138Z"
    },
    "tags": []
   },
   "outputs": [],
   "source": [
    "import numpy as np\n",
    "\n",
    "import kwat"
   ]
  },
  {
   "cell_type": "code",
   "execution_count": null,
   "metadata": {
    "execution": {
     "iopub.execute_input": "2021-08-25T06:55:22.669133Z",
     "iopub.status.busy": "2021-08-25T06:55:22.668444Z",
     "iopub.status.idle": "2021-08-25T06:55:22.691983Z",
     "shell.execute_reply": "2021-08-25T06:55:22.692419Z"
    }
   },
   "outputs": [],
   "source": [
    "te_ = [\n",
    "    [[-1], [0], [2]],\n",
    "    [[-1, -1], [0, 0], [2, 2]],\n",
    "    [[-1, -1, -1], [0, 0, 0], [2, 2, 2]],\n",
    "    [[9, 0], [5, 0], [0, 9], [3, 2], [9, 9]],\n",
    "]\n",
    "\n",
    "te_ = [np.array(te) for te in te_]"
   ]
  },
  {
   "cell_type": "markdown",
   "metadata": {},
   "source": [
    "## get_bandwidth"
   ]
  },
  {
   "cell_type": "code",
   "execution_count": null,
   "metadata": {
    "execution": {
     "iopub.execute_input": "2021-08-25T06:55:22.695996Z",
     "iopub.status.busy": "2021-08-25T06:55:22.695286Z",
     "iopub.status.idle": "2021-08-25T06:55:23.217951Z",
     "shell.execute_reply": "2021-08-25T06:55:23.218360Z"
    },
    "tags": []
   },
   "outputs": [],
   "source": [
    "for nu_po_di in te_:\n",
    "\n",
    "    print(kwat.density.get_bandwidth(nu_po_di))"
   ]
  },
  {
   "cell_type": "markdown",
   "metadata": {},
   "source": [
    "## get_density"
   ]
  },
  {
   "cell_type": "code",
   "execution_count": null,
   "metadata": {
    "execution": {
     "iopub.execute_input": "2021-08-25T06:55:23.222558Z",
     "iopub.status.busy": "2021-08-25T06:55:23.221777Z",
     "iopub.status.idle": "2021-08-25T06:55:24.245261Z",
     "shell.execute_reply": "2021-08-25T06:55:24.245702Z"
    },
    "tags": []
   },
   "outputs": [],
   "source": [
    "for nu_po_di in te_:\n",
    "\n",
    "    kwat.density.get_density(nu_po_di)"
   ]
  }
 ],
 "metadata": {
  "kernelspec": {
   "display_name": "Python 3 (ipykernel)",
   "language": "python",
   "name": "python3"
  },
  "language_info": {
   "codemirror_mode": {
    "name": "ipython",
    "version": 3
   },
   "file_extension": ".py",
   "mimetype": "text/x-python",
   "name": "python",
   "nbconvert_exporter": "python",
   "pygments_lexer": "ipython3",
   "version": "3.9.6"
  }
 },
 "nbformat": 4,
 "nbformat_minor": 4
}
