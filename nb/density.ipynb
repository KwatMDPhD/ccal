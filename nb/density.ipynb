{
 "cells": [
  {
   "cell_type": "code",
   "execution_count": null,
   "metadata": {
    "execution": {
     "iopub.execute_input": "2021-06-02T09:03:11.754879Z",
     "iopub.status.busy": "2021-06-02T09:03:11.754165Z",
     "iopub.status.idle": "2021-06-02T09:03:11.767385Z",
     "shell.execute_reply": "2021-06-02T09:03:11.766787Z"
    },
    "tags": []
   },
   "outputs": [],
   "source": [
    "%load_ext autoreload\n",
    "%autoreload 2"
   ]
  },
  {
   "cell_type": "code",
   "execution_count": null,
   "metadata": {
    "execution": {
     "iopub.execute_input": "2021-06-02T09:03:11.770698Z",
     "iopub.status.busy": "2021-06-02T09:03:11.770094Z",
     "iopub.status.idle": "2021-06-02T09:03:12.305372Z",
     "shell.execute_reply": "2021-06-02T09:03:12.305705Z"
    },
    "tags": []
   },
   "outputs": [],
   "source": [
    "import kwat"
   ]
  },
  {
   "cell_type": "markdown",
   "metadata": {},
   "source": [
    "## get_bandwidth"
   ]
  },
  {
   "cell_type": "code",
   "execution_count": null,
   "metadata": {
    "execution": {
     "iopub.execute_input": "2021-06-02T09:03:12.308745Z",
     "iopub.status.busy": "2021-06-02T09:03:12.308252Z",
     "iopub.status.idle": "2021-06-02T09:03:12.324248Z",
     "shell.execute_reply": "2021-06-02T09:03:12.324558Z"
    },
    "tags": []
   },
   "outputs": [],
   "source": [
    "import numpy as np"
   ]
  },
  {
   "cell_type": "code",
   "execution_count": null,
   "metadata": {
    "execution": {
     "iopub.execute_input": "2021-06-02T09:03:12.328256Z",
     "iopub.status.busy": "2021-06-02T09:03:12.327719Z",
     "iopub.status.idle": "2021-06-02T09:03:12.344668Z",
     "shell.execute_reply": "2021-06-02T09:03:12.345075Z"
    },
    "tags": []
   },
   "outputs": [],
   "source": [
    "for nu_ in [np.random.normal(size=2), np.random.normal(size=100)]:\n",
    "\n",
    "    print(kwat.density.get_bandwidth(nu_))"
   ]
  },
  {
   "cell_type": "markdown",
   "metadata": {},
   "source": [
    "## get_density"
   ]
  },
  {
   "cell_type": "code",
   "execution_count": null,
   "metadata": {
    "execution": {
     "iopub.execute_input": "2021-06-02T09:03:12.349165Z",
     "iopub.status.busy": "2021-06-02T09:03:12.348653Z",
     "iopub.status.idle": "2021-06-02T09:03:12.645006Z",
     "shell.execute_reply": "2021-06-02T09:03:12.645346Z"
    },
    "tags": []
   },
   "outputs": [],
   "source": [
    "for nu_po_di in [\n",
    "    [[-1], [0], [2]],\n",
    "    [[-1, -1], [0, 0], [2, 2]],\n",
    "    [[9, 0], [5, 0], [0, 9], [3, 2], [9, 9]],\n",
    "    [[-1, -1, -1], [0, 0, 0], [2, 2, 2]],\n",
    "]:\n",
    "\n",
    "    kwat.density.get_density(np.array(nu_po_di))"
   ]
  }
 ],
 "metadata": {
  "kernelspec": {
   "display_name": "Python 3 (ipykernel)",
   "language": "python",
   "name": "python3"
  },
  "language_info": {
   "codemirror_mode": {
    "name": "ipython",
    "version": 3
   },
   "file_extension": ".py",
   "mimetype": "text/x-python",
   "name": "python",
   "nbconvert_exporter": "python",
   "pygments_lexer": "ipython3",
   "version": "3.9.6"
  }
 },
 "nbformat": 4,
 "nbformat_minor": 4
}
