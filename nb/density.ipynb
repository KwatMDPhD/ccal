{
 "cells": [
  {
   "cell_type": "code",
   "execution_count": null,
   "metadata": {
    "execution": {
     "iopub.execute_input": "2021-08-23T05:58:05.040042Z",
     "iopub.status.busy": "2021-08-23T05:58:05.039441Z",
     "iopub.status.idle": "2021-08-23T05:58:05.051752Z",
     "shell.execute_reply": "2021-08-23T05:58:05.052126Z"
    },
    "tags": []
   },
   "outputs": [],
   "source": [
    "%load_ext autoreload\n",
    "%autoreload 2"
   ]
  },
  {
   "cell_type": "code",
   "execution_count": null,
   "metadata": {
    "execution": {
     "iopub.execute_input": "2021-08-23T05:58:05.055202Z",
     "iopub.status.busy": "2021-08-23T05:58:05.054652Z",
     "iopub.status.idle": "2021-08-23T05:58:05.692536Z",
     "shell.execute_reply": "2021-08-23T05:58:05.693004Z"
    },
    "tags": []
   },
   "outputs": [],
   "source": [
    "import kwat"
   ]
  },
  {
   "cell_type": "markdown",
   "metadata": {},
   "source": [
    "## get_bandwidth"
   ]
  },
  {
   "cell_type": "code",
   "execution_count": null,
   "metadata": {
    "execution": {
     "iopub.execute_input": "2021-08-23T05:58:05.696169Z",
     "iopub.status.busy": "2021-08-23T05:58:05.695627Z",
     "iopub.status.idle": "2021-08-23T05:58:05.715205Z",
     "shell.execute_reply": "2021-08-23T05:58:05.715660Z"
    },
    "tags": []
   },
   "outputs": [],
   "source": [
    "import numpy as np"
   ]
  },
  {
   "cell_type": "code",
   "execution_count": null,
   "metadata": {
    "execution": {
     "iopub.execute_input": "2021-08-23T05:58:05.719219Z",
     "iopub.status.busy": "2021-08-23T05:58:05.718552Z",
     "iopub.status.idle": "2021-08-23T05:58:05.738038Z",
     "shell.execute_reply": "2021-08-23T05:58:05.737686Z"
    },
    "tags": []
   },
   "outputs": [],
   "source": [
    "for nu_ in [np.random.normal(size=2), np.random.normal(size=100)]:\n",
    "\n",
    "    print(kwat.density.get_bandwidth(nu_))"
   ]
  },
  {
   "cell_type": "markdown",
   "metadata": {},
   "source": [
    "## get_density"
   ]
  },
  {
   "cell_type": "code",
   "execution_count": null,
   "metadata": {
    "execution": {
     "iopub.execute_input": "2021-08-23T05:58:05.742684Z",
     "iopub.status.busy": "2021-08-23T05:58:05.742137Z",
     "iopub.status.idle": "2021-08-23T05:58:06.063239Z",
     "shell.execute_reply": "2021-08-23T05:58:06.063673Z"
    },
    "tags": []
   },
   "outputs": [],
   "source": [
    "for nu_po_di in [\n",
    "    [[-1], [0], [2]],\n",
    "    [[-1, -1], [0, 0], [2, 2]],\n",
    "    [[9, 0], [5, 0], [0, 9], [3, 2], [9, 9]],\n",
    "    [[-1, -1, -1], [0, 0, 0], [2, 2, 2]],\n",
    "]:\n",
    "\n",
    "    kwat.density.get_density(np.array(nu_po_di))"
   ]
  }
 ],
 "metadata": {
  "kernelspec": {
   "display_name": "Python 3 (ipykernel)",
   "language": "python",
   "name": "python3"
  },
  "language_info": {
   "codemirror_mode": {
    "name": "ipython",
    "version": 3
   },
   "file_extension": ".py",
   "mimetype": "text/x-python",
   "name": "python",
   "nbconvert_exporter": "python",
   "pygments_lexer": "ipython3",
   "version": "3.9.6"
  }
 },
 "nbformat": 4,
 "nbformat_minor": 4
}
