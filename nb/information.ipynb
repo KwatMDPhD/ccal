{
 "cells": [
  {
   "cell_type": "code",
   "execution_count": null,
   "metadata": {
    "execution": {
     "iopub.execute_input": "2021-06-02T09:05:52.861358Z",
     "iopub.status.busy": "2021-06-02T09:05:52.860466Z",
     "iopub.status.idle": "2021-06-02T09:05:52.875884Z",
     "shell.execute_reply": "2021-06-02T09:05:52.876500Z"
    },
    "tags": []
   },
   "outputs": [],
   "source": [
    "%load_ext autoreload\n",
    "%autoreload 2"
   ]
  },
  {
   "cell_type": "code",
   "execution_count": null,
   "metadata": {
    "execution": {
     "iopub.execute_input": "2021-06-02T09:05:52.880572Z",
     "iopub.status.busy": "2021-06-02T09:05:52.879870Z",
     "iopub.status.idle": "2021-06-02T09:05:53.455085Z",
     "shell.execute_reply": "2021-06-02T09:05:53.455446Z"
    },
    "tags": []
   },
   "outputs": [],
   "source": [
    "import kraft"
   ]
  },
  {
   "cell_type": "code",
   "execution_count": null,
   "metadata": {
    "execution": {
     "iopub.execute_input": "2021-06-02T09:05:53.458336Z",
     "iopub.status.busy": "2021-06-02T09:05:53.457663Z",
     "iopub.status.idle": "2021-06-02T09:05:53.476751Z",
     "shell.execute_reply": "2021-06-02T09:05:53.477233Z"
    },
    "tags": []
   },
   "outputs": [],
   "source": [
    "import numpy as np"
   ]
  },
  {
   "cell_type": "code",
   "execution_count": null,
   "metadata": {
    "execution": {
     "iopub.execute_input": "2021-06-02T09:05:53.481953Z",
     "iopub.status.busy": "2021-06-02T09:05:53.481173Z",
     "iopub.status.idle": "2021-06-02T09:05:53.500498Z",
     "shell.execute_reply": "2021-06-02T09:05:53.500870Z"
    },
    "tags": []
   },
   "outputs": [],
   "source": [
    "ve1 = np.array([np.nan, 0, 1, 2])\n",
    "\n",
    "ve2 = np.array([4, 8, 0, np.nan])"
   ]
  },
  {
   "cell_type": "code",
   "execution_count": null,
   "metadata": {
    "execution": {
     "iopub.execute_input": "2021-06-02T09:05:53.504283Z",
     "iopub.status.busy": "2021-06-02T09:05:53.503724Z",
     "iopub.status.idle": "2021-06-02T09:05:53.520517Z",
     "shell.execute_reply": "2021-06-02T09:05:53.520982Z"
    },
    "tags": []
   },
   "outputs": [],
   "source": [
    "def plot_x_y(x_, y_, xaxis_title, yaxis_title, title=None):\n",
    "\n",
    "    kraft.plot.plot_plotly(\n",
    "        {\n",
    "            \"layout\": {\n",
    "                \"title\": title,\n",
    "                \"xaxis\": {\n",
    "                    \"title\": xaxis_title,\n",
    "                },\n",
    "                \"yaxis\": {\n",
    "                    \"title\": yaxis_title,\n",
    "                },\n",
    "            },\n",
    "            \"data\": [\n",
    "                {\n",
    "                    \"x\": x_,\n",
    "                    \"y\": y_,\n",
    "                }\n",
    "            ],\n",
    "        }\n",
    "    )"
   ]
  },
  {
   "cell_type": "markdown",
   "metadata": {},
   "source": [
    "## get_entropy"
   ]
  },
  {
   "cell_type": "code",
   "execution_count": null,
   "metadata": {
    "execution": {
     "iopub.execute_input": "2021-06-02T09:05:53.523997Z",
     "iopub.status.busy": "2021-06-02T09:05:53.523472Z",
     "iopub.status.idle": "2021-06-02T09:05:53.545393Z",
     "shell.execute_reply": "2021-06-02T09:05:53.545780Z"
    },
    "tags": []
   },
   "outputs": [],
   "source": [
    "kraft.information.get_entropy(ve1)"
   ]
  },
  {
   "cell_type": "code",
   "execution_count": null,
   "metadata": {
    "execution": {
     "iopub.execute_input": "2021-06-02T09:05:53.549855Z",
     "iopub.status.busy": "2021-06-02T09:05:53.549241Z",
     "iopub.status.idle": "2021-06-02T09:05:53.825121Z",
     "shell.execute_reply": "2021-06-02T09:05:53.824671Z"
    },
    "tags": []
   },
   "outputs": [],
   "source": [
    "x_ = []\n",
    "\n",
    "y_ = []\n",
    "\n",
    "for po in range(10):\n",
    "\n",
    "    n_da = 2 ** po\n",
    "\n",
    "    x_.append(n_da)\n",
    "\n",
    "    y_.append(kraft.information.get_entropy(np.full(n_da, 1)))\n",
    "\n",
    "plot_x_y(x_, y_, \"N\", \"Entropy\")"
   ]
  },
  {
   "cell_type": "markdown",
   "metadata": {},
   "source": [
    "## get_kld"
   ]
  },
  {
   "cell_type": "code",
   "execution_count": null,
   "metadata": {
    "execution": {
     "iopub.execute_input": "2021-06-02T09:05:53.828817Z",
     "iopub.status.busy": "2021-06-02T09:05:53.828341Z",
     "iopub.status.idle": "2021-06-02T09:05:53.850244Z",
     "shell.execute_reply": "2021-06-02T09:05:53.849845Z"
    },
    "tags": []
   },
   "outputs": [],
   "source": [
    "kraft.information.get_kld(ve1, ve2)"
   ]
  },
  {
   "cell_type": "code",
   "execution_count": null,
   "metadata": {
    "execution": {
     "iopub.execute_input": "2021-06-02T09:05:53.853650Z",
     "iopub.status.busy": "2021-06-02T09:05:53.853138Z",
     "iopub.status.idle": "2021-06-02T09:05:53.888330Z",
     "shell.execute_reply": "2021-06-02T09:05:53.888665Z"
    },
    "tags": []
   },
   "outputs": [],
   "source": [
    "x_ = []\n",
    "\n",
    "y_ = []\n",
    "\n",
    "for po in range(10):\n",
    "\n",
    "    n_da = 2 ** po\n",
    "\n",
    "    x_.append(n_da)\n",
    "\n",
    "    y_.append(\n",
    "        kraft.information.get_kld(\n",
    "            np.random.random_sample(n_da), np.random.random_sample(n_da)\n",
    "        ).sum()\n",
    "    )\n",
    "\n",
    "plot_x_y(x_, y_, \"N\", \"KLD\")"
   ]
  },
  {
   "cell_type": "markdown",
   "metadata": {},
   "source": [
    "## get_jsd"
   ]
  },
  {
   "cell_type": "code",
   "execution_count": null,
   "metadata": {
    "execution": {
     "iopub.execute_input": "2021-06-02T09:05:53.891784Z",
     "iopub.status.busy": "2021-06-02T09:05:53.891273Z",
     "iopub.status.idle": "2021-06-02T09:05:53.912280Z",
     "shell.execute_reply": "2021-06-02T09:05:53.912614Z"
    },
    "tags": []
   },
   "outputs": [],
   "source": [
    "kraft.information.get_jsd(ve1, ve2)"
   ]
  },
  {
   "cell_type": "code",
   "execution_count": null,
   "metadata": {
    "execution": {
     "iopub.execute_input": "2021-06-02T09:05:53.916878Z",
     "iopub.status.busy": "2021-06-02T09:05:53.916370Z",
     "iopub.status.idle": "2021-06-02T09:05:53.957507Z",
     "shell.execute_reply": "2021-06-02T09:05:53.957931Z"
    },
    "tags": []
   },
   "outputs": [],
   "source": [
    "x_ = []\n",
    "\n",
    "y_ = []\n",
    "\n",
    "for po in range(10):\n",
    "\n",
    "    n_da = 2 ** po\n",
    "\n",
    "    x_.append(n_da)\n",
    "\n",
    "    y_.append(\n",
    "        kraft.information.get_jsd(\n",
    "            np.random.random_sample(n_da), np.random.random_sample(n_da)\n",
    "        )[-1].sum()\n",
    "    )\n",
    "\n",
    "plot_x_y(x_, y_, \"N\", \"JSD\")"
   ]
  },
  {
   "cell_type": "markdown",
   "metadata": {},
   "source": [
    "## get_zd"
   ]
  },
  {
   "cell_type": "code",
   "execution_count": null,
   "metadata": {
    "execution": {
     "iopub.execute_input": "2021-06-02T09:05:53.961205Z",
     "iopub.status.busy": "2021-06-02T09:05:53.960613Z",
     "iopub.status.idle": "2021-06-02T09:05:53.986018Z",
     "shell.execute_reply": "2021-06-02T09:05:53.986443Z"
    },
    "tags": []
   },
   "outputs": [],
   "source": [
    "kraft.information.get_zd(ve1, ve2)"
   ]
  },
  {
   "cell_type": "code",
   "execution_count": null,
   "metadata": {
    "execution": {
     "iopub.execute_input": "2021-06-02T09:05:53.990252Z",
     "iopub.status.busy": "2021-06-02T09:05:53.989703Z",
     "iopub.status.idle": "2021-06-02T09:05:54.025065Z",
     "shell.execute_reply": "2021-06-02T09:05:54.025427Z"
    },
    "tags": []
   },
   "outputs": [],
   "source": [
    "x_ = []\n",
    "\n",
    "y_ = []\n",
    "\n",
    "for po in range(10):\n",
    "\n",
    "    n_da = 2 ** po\n",
    "\n",
    "    x_.append(n_da)\n",
    "\n",
    "    y_.append(\n",
    "        kraft.information.get_zd(\n",
    "            np.random.random_sample(n_da), np.random.random_sample(n_da)\n",
    "        )[-1].sum()\n",
    "    )\n",
    "\n",
    "plot_x_y(x_, y_, \"N\", \"ZD\")"
   ]
  },
  {
   "cell_type": "markdown",
   "metadata": {},
   "source": [
    "## get_ic"
   ]
  },
  {
   "cell_type": "code",
   "execution_count": null,
   "metadata": {
    "execution": {
     "iopub.execute_input": "2021-06-02T09:05:54.028452Z",
     "iopub.status.busy": "2021-06-02T09:05:54.027945Z",
     "iopub.status.idle": "2021-06-02T09:05:54.048233Z",
     "shell.execute_reply": "2021-06-02T09:05:54.048671Z"
    },
    "tags": []
   },
   "outputs": [],
   "source": [
    "try:\n",
    "\n",
    "    kraft.information.get_ic(ve1, ve2)\n",
    "\n",
    "except ValueError as er:\n",
    "\n",
    "    print(er)"
   ]
  },
  {
   "cell_type": "code",
   "execution_count": null,
   "metadata": {
    "ExecuteTime": {
     "end_time": "2018-05-15T09:32:32.232401Z",
     "start_time": "2018-05-15T09:32:27.690390Z"
    },
    "execution": {
     "iopub.execute_input": "2021-06-02T09:05:54.053147Z",
     "iopub.status.busy": "2021-06-02T09:05:54.052633Z",
     "iopub.status.idle": "2021-06-02T09:05:54.091112Z",
     "shell.execute_reply": "2021-06-02T09:05:54.091457Z"
    },
    "tags": []
   },
   "outputs": [],
   "source": [
    "for ve1, ve2 in [\n",
    "    [[0] * 8] * 2,\n",
    "    [[1] * 8] * 2,\n",
    "    [np.arange(8), np.arange(8)[::-1]],\n",
    "    [[0, 1, 2, 3, 4, 5, 6, 7, 8, 7, 6, 5, 4, 3, 2, 1, 0]] * 2,\n",
    "    [[8, 7, 6, 5, 4, 3, 2, 1, 0, 1, 2, 3, 4, 5, 6, 7, 8]] * 2,\n",
    "    [[0, 1] * 8, [0, 1] * 8],\n",
    "    [[0, 1] * 8, [1, 0] * 8],\n",
    "]:\n",
    "\n",
    "    print()\n",
    "\n",
    "    ve1 = np.array(ve1)\n",
    "\n",
    "    ve2 = np.array(ve2)\n",
    "\n",
    "    print(ve1)\n",
    "\n",
    "    print(ve2)\n",
    "\n",
    "    print(kraft.information.get_ic(ve1, ve2))"
   ]
  },
  {
   "cell_type": "code",
   "execution_count": null,
   "metadata": {
    "execution": {
     "iopub.execute_input": "2021-06-02T09:05:54.094662Z",
     "iopub.status.busy": "2021-06-02T09:05:54.094169Z",
     "iopub.status.idle": "2021-06-02T09:05:54.128237Z",
     "shell.execute_reply": "2021-06-02T09:05:54.128602Z"
    },
    "tags": []
   },
   "outputs": [],
   "source": [
    "ve1 = np.array([0, 0, 1, 1, 2, 2])\n",
    "\n",
    "for fa in [1, 2, 1 / 2, 10, 1 / 10]:\n",
    "\n",
    "    print()\n",
    "\n",
    "    ve2 = ve1 * fa\n",
    "\n",
    "    print(ve2)\n",
    "\n",
    "    print(kraft.information.get_ic(ve1, ve2))"
   ]
  },
  {
   "cell_type": "code",
   "execution_count": null,
   "metadata": {
    "execution": {
     "iopub.execute_input": "2021-06-02T09:05:54.132073Z",
     "iopub.status.busy": "2021-06-02T09:05:54.131582Z",
     "iopub.status.idle": "2021-06-02T09:05:54.188977Z",
     "shell.execute_reply": "2021-06-02T09:05:54.189383Z"
    },
    "tags": []
   },
   "outputs": [],
   "source": [
    "x_ = []\n",
    "\n",
    "y_ = []\n",
    "\n",
    "for po in range(10):\n",
    "\n",
    "    n = 2 ** po\n",
    "\n",
    "    x_.append(n)\n",
    "\n",
    "    y_.append(\n",
    "        kraft.information.get_ic(\n",
    "            np.random.random_sample(n_da), np.random.random_sample(n_da)\n",
    "        )\n",
    "    )\n",
    "\n",
    "plot_x_y(x_, y_, \"N\", \"IC\")"
   ]
  },
  {
   "cell_type": "markdown",
   "metadata": {},
   "source": [
    "## get_icd"
   ]
  },
  {
   "cell_type": "code",
   "execution_count": null,
   "metadata": {
    "execution": {
     "iopub.execute_input": "2021-06-02T09:05:54.192632Z",
     "iopub.status.busy": "2021-06-02T09:05:54.192087Z",
     "iopub.status.idle": "2021-06-02T09:05:54.216693Z",
     "shell.execute_reply": "2021-06-02T09:05:54.217186Z"
    },
    "tags": []
   },
   "outputs": [],
   "source": [
    "n_da = 1000\n",
    "\n",
    "kraft.information.get_icd(np.random.random_sample(n_da), np.random.random_sample(n_da))"
   ]
  }
 ],
 "metadata": {
  "kernelspec": {
   "display_name": "Python 3",
   "language": "python",
   "name": "python3"
  },
  "language_info": {
   "codemirror_mode": {
    "name": "ipython",
    "version": 3
   },
   "file_extension": ".py",
   "mimetype": "text/x-python",
   "name": "python",
   "nbconvert_exporter": "python",
   "pygments_lexer": "ipython3",
   "version": "3.8.9"
  }
 },
 "nbformat": 4,
 "nbformat_minor": 4
}
