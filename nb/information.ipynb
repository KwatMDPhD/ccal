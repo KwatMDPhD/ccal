{
 "cells": [
  {
   "cell_type": "code",
   "execution_count": null,
   "metadata": {
    "execution": {
     "iopub.execute_input": "2021-08-25T07:04:10.376107Z",
     "iopub.status.busy": "2021-08-25T07:04:10.375558Z",
     "iopub.status.idle": "2021-08-25T07:04:10.388104Z",
     "shell.execute_reply": "2021-08-25T07:04:10.388471Z"
    },
    "tags": []
   },
   "outputs": [],
   "source": [
    "%load_ext autoreload\n",
    "%autoreload 2"
   ]
  },
  {
   "cell_type": "code",
   "execution_count": null,
   "metadata": {
    "execution": {
     "iopub.execute_input": "2021-08-25T07:04:10.392070Z",
     "iopub.status.busy": "2021-08-25T07:04:10.391567Z",
     "iopub.status.idle": "2021-08-25T07:04:11.051689Z",
     "shell.execute_reply": "2021-08-25T07:04:11.052078Z"
    },
    "tags": []
   },
   "outputs": [],
   "source": [
    "import kwat"
   ]
  },
  {
   "cell_type": "code",
   "execution_count": null,
   "metadata": {
    "execution": {
     "iopub.execute_input": "2021-08-25T07:04:11.055222Z",
     "iopub.status.busy": "2021-08-25T07:04:11.054645Z",
     "iopub.status.idle": "2021-08-25T07:04:11.073457Z",
     "shell.execute_reply": "2021-08-25T07:04:11.073885Z"
    },
    "tags": []
   },
   "outputs": [],
   "source": [
    "import numpy as np"
   ]
  },
  {
   "cell_type": "code",
   "execution_count": null,
   "metadata": {
    "execution": {
     "iopub.execute_input": "2021-08-25T07:04:11.077368Z",
     "iopub.status.busy": "2021-08-25T07:04:11.076851Z",
     "iopub.status.idle": "2021-08-25T07:04:11.096586Z",
     "shell.execute_reply": "2021-08-25T07:04:11.096145Z"
    },
    "tags": []
   },
   "outputs": [],
   "source": [
    "ve1 = np.array([np.nan, 0, 1, 2])\n",
    "\n",
    "ve2 = np.array([4, 8, 0, np.nan])"
   ]
  },
  {
   "cell_type": "code",
   "execution_count": null,
   "metadata": {
    "execution": {
     "iopub.execute_input": "2021-08-25T07:04:11.100666Z",
     "iopub.status.busy": "2021-08-25T07:04:11.100095Z",
     "iopub.status.idle": "2021-08-25T07:04:11.122894Z",
     "shell.execute_reply": "2021-08-25T07:04:11.123280Z"
    },
    "tags": []
   },
   "outputs": [],
   "source": [
    "def plot_x_y(x_, y_, xaxis_title, yaxis_title, title=None):\n",
    "\n",
    "    kwat.plot.plot_plotly(\n",
    "        {\n",
    "            \"layout\": {\n",
    "                \"title\": title,\n",
    "                \"xaxis\": {\n",
    "                    \"title\": xaxis_title,\n",
    "                },\n",
    "                \"yaxis\": {\n",
    "                    \"title\": yaxis_title,\n",
    "                },\n",
    "            },\n",
    "            \"data\": [\n",
    "                {\n",
    "                    \"x\": x_,\n",
    "                    \"y\": y_,\n",
    "                }\n",
    "            ],\n",
    "        }\n",
    "    )"
   ]
  },
  {
   "cell_type": "markdown",
   "metadata": {},
   "source": [
    "## get_entropy"
   ]
  },
  {
   "cell_type": "code",
   "execution_count": null,
   "metadata": {
    "execution": {
     "iopub.execute_input": "2021-08-25T07:04:11.126828Z",
     "iopub.status.busy": "2021-08-25T07:04:11.126152Z",
     "iopub.status.idle": "2021-08-25T07:04:11.154663Z",
     "shell.execute_reply": "2021-08-25T07:04:11.155084Z"
    },
    "tags": []
   },
   "outputs": [],
   "source": [
    "kwat.information.get_entropy(ve1)"
   ]
  },
  {
   "cell_type": "code",
   "execution_count": null,
   "metadata": {
    "execution": {
     "iopub.execute_input": "2021-08-25T07:04:11.159071Z",
     "iopub.status.busy": "2021-08-25T07:04:11.158401Z",
     "iopub.status.idle": "2021-08-25T07:04:11.436159Z",
     "shell.execute_reply": "2021-08-25T07:04:11.435758Z"
    },
    "tags": []
   },
   "outputs": [],
   "source": [
    "x_ = []\n",
    "\n",
    "y_ = []\n",
    "\n",
    "for po in range(10):\n",
    "\n",
    "    n_da = 2 ** po\n",
    "\n",
    "    x_.append(n_da)\n",
    "\n",
    "    y_.append(kwat.information.get_entropy(np.full(n_da, 1)))\n",
    "\n",
    "plot_x_y(x_, y_, \"N\", \"Entropy\")"
   ]
  },
  {
   "cell_type": "markdown",
   "metadata": {},
   "source": [
    "## get_kld"
   ]
  },
  {
   "cell_type": "code",
   "execution_count": null,
   "metadata": {
    "execution": {
     "iopub.execute_input": "2021-08-25T07:04:11.440143Z",
     "iopub.status.busy": "2021-08-25T07:04:11.439562Z",
     "iopub.status.idle": "2021-08-25T07:04:11.465820Z",
     "shell.execute_reply": "2021-08-25T07:04:11.466180Z"
    },
    "tags": []
   },
   "outputs": [],
   "source": [
    "kwat.information.get_kld(ve1, ve2)"
   ]
  },
  {
   "cell_type": "code",
   "execution_count": null,
   "metadata": {
    "execution": {
     "iopub.execute_input": "2021-08-25T07:04:11.470100Z",
     "iopub.status.busy": "2021-08-25T07:04:11.469592Z",
     "iopub.status.idle": "2021-08-25T07:04:11.509919Z",
     "shell.execute_reply": "2021-08-25T07:04:11.510278Z"
    },
    "tags": []
   },
   "outputs": [],
   "source": [
    "x_ = []\n",
    "\n",
    "y_ = []\n",
    "\n",
    "for po in range(10):\n",
    "\n",
    "    n_da = 2 ** po\n",
    "\n",
    "    x_.append(n_da)\n",
    "\n",
    "    y_.append(\n",
    "        kwat.information.get_kld(\n",
    "            np.random.random_sample(n_da), np.random.random_sample(n_da)\n",
    "        ).sum()\n",
    "    )\n",
    "\n",
    "plot_x_y(x_, y_, \"N\", \"KLD\")"
   ]
  },
  {
   "cell_type": "markdown",
   "metadata": {},
   "source": [
    "## get_jsd"
   ]
  },
  {
   "cell_type": "code",
   "execution_count": null,
   "metadata": {
    "execution": {
     "iopub.execute_input": "2021-08-25T07:04:11.513792Z",
     "iopub.status.busy": "2021-08-25T07:04:11.513271Z",
     "iopub.status.idle": "2021-08-25T07:04:11.538761Z",
     "shell.execute_reply": "2021-08-25T07:04:11.539197Z"
    },
    "tags": []
   },
   "outputs": [],
   "source": [
    "kwat.information.get_jsd(ve1, ve2)"
   ]
  },
  {
   "cell_type": "code",
   "execution_count": null,
   "metadata": {
    "execution": {
     "iopub.execute_input": "2021-08-25T07:04:11.543763Z",
     "iopub.status.busy": "2021-08-25T07:04:11.543239Z",
     "iopub.status.idle": "2021-08-25T07:04:11.584643Z",
     "shell.execute_reply": "2021-08-25T07:04:11.585009Z"
    },
    "tags": []
   },
   "outputs": [],
   "source": [
    "x_ = []\n",
    "\n",
    "y_ = []\n",
    "\n",
    "for po in range(10):\n",
    "\n",
    "    n_da = 2 ** po\n",
    "\n",
    "    x_.append(n_da)\n",
    "\n",
    "    y_.append(\n",
    "        kwat.information.get_jsd(\n",
    "            np.random.random_sample(n_da), np.random.random_sample(n_da)\n",
    "        )[-1].sum()\n",
    "    )\n",
    "\n",
    "plot_x_y(x_, y_, \"N\", \"JSD\")"
   ]
  },
  {
   "cell_type": "markdown",
   "metadata": {},
   "source": [
    "## get_zd"
   ]
  },
  {
   "cell_type": "code",
   "execution_count": null,
   "metadata": {
    "execution": {
     "iopub.execute_input": "2021-08-25T07:04:11.588275Z",
     "iopub.status.busy": "2021-08-25T07:04:11.587770Z",
     "iopub.status.idle": "2021-08-25T07:04:11.612925Z",
     "shell.execute_reply": "2021-08-25T07:04:11.613283Z"
    },
    "tags": []
   },
   "outputs": [],
   "source": [
    "kwat.information.get_zd(ve1, ve2)"
   ]
  },
  {
   "cell_type": "code",
   "execution_count": null,
   "metadata": {
    "execution": {
     "iopub.execute_input": "2021-08-25T07:04:11.617358Z",
     "iopub.status.busy": "2021-08-25T07:04:11.616856Z",
     "iopub.status.idle": "2021-08-25T07:04:11.657166Z",
     "shell.execute_reply": "2021-08-25T07:04:11.657617Z"
    },
    "tags": []
   },
   "outputs": [],
   "source": [
    "x_ = []\n",
    "\n",
    "y_ = []\n",
    "\n",
    "for po in range(10):\n",
    "\n",
    "    n_da = 2 ** po\n",
    "\n",
    "    x_.append(n_da)\n",
    "\n",
    "    y_.append(\n",
    "        kwat.information.get_zd(\n",
    "            np.random.random_sample(n_da), np.random.random_sample(n_da)\n",
    "        )[-1].sum()\n",
    "    )\n",
    "\n",
    "plot_x_y(x_, y_, \"N\", \"ZD\")"
   ]
  },
  {
   "cell_type": "markdown",
   "metadata": {},
   "source": [
    "## get_ic"
   ]
  },
  {
   "cell_type": "code",
   "execution_count": null,
   "metadata": {
    "execution": {
     "iopub.execute_input": "2021-08-25T07:04:11.661410Z",
     "iopub.status.busy": "2021-08-25T07:04:11.660876Z",
     "iopub.status.idle": "2021-08-25T07:04:11.685359Z",
     "shell.execute_reply": "2021-08-25T07:04:11.685715Z"
    },
    "tags": []
   },
   "outputs": [],
   "source": [
    "try:\n",
    "\n",
    "    kwat.information.get_ic(ve1, ve2)\n",
    "\n",
    "except ValueError as er:\n",
    "\n",
    "    print(er)"
   ]
  },
  {
   "cell_type": "code",
   "execution_count": null,
   "metadata": {
    "ExecuteTime": {
     "end_time": "2018-05-15T09:32:32.232401Z",
     "start_time": "2018-05-15T09:32:27.690390Z"
    },
    "execution": {
     "iopub.execute_input": "2021-08-25T07:04:11.690700Z",
     "iopub.status.busy": "2021-08-25T07:04:11.690197Z",
     "iopub.status.idle": "2021-08-25T07:04:12.798501Z",
     "shell.execute_reply": "2021-08-25T07:04:12.798847Z"
    },
    "tags": []
   },
   "outputs": [],
   "source": [
    "for ve1, ve2 in [\n",
    "    [[0] * 8] * 2,\n",
    "    [[1] * 8] * 2,\n",
    "    [np.arange(8), np.arange(8)[::-1]],\n",
    "    [[0, 1, 2, 3, 4, 5, 6, 7, 8, 7, 6, 5, 4, 3, 2, 1, 0]] * 2,\n",
    "    [[8, 7, 6, 5, 4, 3, 2, 1, 0, 1, 2, 3, 4, 5, 6, 7, 8]] * 2,\n",
    "    [[0, 1] * 8, [0, 1] * 8],\n",
    "    [[0, 1] * 8, [1, 0] * 8],\n",
    "]:\n",
    "\n",
    "    print()\n",
    "\n",
    "    ve1 = np.array(ve1)\n",
    "\n",
    "    ve2 = np.array(ve2)\n",
    "\n",
    "    print(ve1)\n",
    "\n",
    "    print(ve2)\n",
    "\n",
    "    print(kwat.information.get_ic(ve1, ve2))"
   ]
  },
  {
   "cell_type": "code",
   "execution_count": null,
   "metadata": {
    "execution": {
     "iopub.execute_input": "2021-08-25T07:04:12.802854Z",
     "iopub.status.busy": "2021-08-25T07:04:12.802290Z",
     "iopub.status.idle": "2021-08-25T07:04:13.950899Z",
     "shell.execute_reply": "2021-08-25T07:04:13.951256Z"
    },
    "tags": []
   },
   "outputs": [],
   "source": [
    "ve1 = np.array([0, 0, 1, 1, 2, 2])\n",
    "\n",
    "for fa in [1, 2, 1 / 2, 10, 1 / 10]:\n",
    "\n",
    "    print()\n",
    "\n",
    "    ve2 = ve1 * fa\n",
    "\n",
    "    print(ve2)\n",
    "\n",
    "    print(kwat.information.get_ic(ve1, ve2))"
   ]
  },
  {
   "cell_type": "code",
   "execution_count": null,
   "metadata": {
    "execution": {
     "iopub.execute_input": "2021-08-25T07:04:13.954964Z",
     "iopub.status.busy": "2021-08-25T07:04:13.954455Z",
     "iopub.status.idle": "2021-08-25T07:04:15.423593Z",
     "shell.execute_reply": "2021-08-25T07:04:15.423951Z"
    },
    "tags": []
   },
   "outputs": [],
   "source": [
    "x_ = []\n",
    "\n",
    "y_ = []\n",
    "\n",
    "for po in range(10):\n",
    "\n",
    "    n = 2 ** po\n",
    "\n",
    "    x_.append(n)\n",
    "\n",
    "    y_.append(\n",
    "        kwat.information.get_ic(\n",
    "            np.random.random_sample(n_da), np.random.random_sample(n_da)\n",
    "        )\n",
    "    )\n",
    "\n",
    "plot_x_y(x_, y_, \"N\", \"IC\")"
   ]
  },
  {
   "cell_type": "markdown",
   "metadata": {},
   "source": [
    "## get_icd"
   ]
  },
  {
   "cell_type": "code",
   "execution_count": null,
   "metadata": {
    "execution": {
     "iopub.execute_input": "2021-08-25T07:04:15.427605Z",
     "iopub.status.busy": "2021-08-25T07:04:15.427093Z",
     "iopub.status.idle": "2021-08-25T07:04:15.597416Z",
     "shell.execute_reply": "2021-08-25T07:04:15.597844Z"
    },
    "tags": []
   },
   "outputs": [],
   "source": [
    "n_da = 1000\n",
    "\n",
    "kwat.information.get_icd(np.random.random_sample(n_da), np.random.random_sample(n_da))"
   ]
  }
 ],
 "metadata": {
  "kernelspec": {
   "display_name": "Python 3 (ipykernel)",
   "language": "python",
   "name": "python3"
  },
  "language_info": {
   "codemirror_mode": {
    "name": "ipython",
    "version": 3
   },
   "file_extension": ".py",
   "mimetype": "text/x-python",
   "name": "python",
   "nbconvert_exporter": "python",
   "pygments_lexer": "ipython3",
   "version": "3.9.6"
  }
 },
 "nbformat": 4,
 "nbformat_minor": 4
}
