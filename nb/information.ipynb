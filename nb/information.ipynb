{
 "cells": [
  {
   "cell_type": "code",
   "execution_count": null,
   "metadata": {},
   "outputs": [],
   "source": [
    "%load_ext autoreload\n",
    "%autoreload 2"
   ]
  },
  {
   "cell_type": "code",
   "execution_count": null,
   "metadata": {},
   "outputs": [],
   "source": [
    "import kwat\n",
    "import numpy as np"
   ]
  },
  {
   "cell_type": "code",
   "execution_count": null,
   "metadata": {},
   "outputs": [],
   "source": [
    "ve1 = np.array([np.nan, 0, 1, 2])\n",
    "\n",
    "ve2 = np.array([4, 8, 0, np.nan])"
   ]
  },
  {
   "cell_type": "code",
   "execution_count": null,
   "metadata": {},
   "outputs": [],
   "source": [
    "def plot_x_y(x_, y_, xaxis_title, yaxis_title, title=None):\n",
    "\n",
    "    kwat.plot.plot_plotly(\n",
    "        {\"x\": x_, \"y\": y_},\n",
    "        {\n",
    "            \"title\": title,\n",
    "            \"xaxis\": {\"title\": xaxis_title},\n",
    "            \"yaxis\": {\"title\": yaxis_title},\n",
    "        },\n",
    "    )"
   ]
  },
  {
   "cell_type": "markdown",
   "metadata": {},
   "source": [
    "## get_entropy"
   ]
  },
  {
   "cell_type": "code",
   "execution_count": null,
   "metadata": {},
   "outputs": [],
   "source": [
    "kwat.information.get_entropy(ve1)"
   ]
  },
  {
   "cell_type": "code",
   "execution_count": null,
   "metadata": {},
   "outputs": [],
   "source": [
    "x_ = []\n",
    "\n",
    "y_ = []\n",
    "\n",
    "for po in range(10):\n",
    "\n",
    "    n_da = 2**po\n",
    "\n",
    "    x_.append(n_da)\n",
    "\n",
    "    y_.append(kwat.information.get_entropy(np.full(n_da, 1)))\n",
    "\n",
    "plot_x_y(x_, y_, \"N\", \"Entropy\")"
   ]
  },
  {
   "cell_type": "markdown",
   "metadata": {},
   "source": [
    "## get_kld"
   ]
  },
  {
   "cell_type": "code",
   "execution_count": null,
   "metadata": {},
   "outputs": [],
   "source": [
    "kwat.information.get_kld(ve1, ve2)"
   ]
  },
  {
   "cell_type": "code",
   "execution_count": null,
   "metadata": {},
   "outputs": [],
   "source": [
    "x_ = []\n",
    "\n",
    "y_ = []\n",
    "\n",
    "for po in range(10):\n",
    "\n",
    "    n_da = 2**po\n",
    "\n",
    "    x_.append(n_da)\n",
    "\n",
    "    y_.append(\n",
    "        kwat.information.get_kld(\n",
    "            np.random.random_sample(n_da), np.random.random_sample(n_da)\n",
    "        ).sum()\n",
    "    )\n",
    "\n",
    "plot_x_y(x_, y_, \"N\", \"KLD\")"
   ]
  },
  {
   "cell_type": "markdown",
   "metadata": {},
   "source": [
    "## get_jsd"
   ]
  },
  {
   "cell_type": "code",
   "execution_count": null,
   "metadata": {},
   "outputs": [],
   "source": [
    "kwat.information.get_jsd(ve1, ve2)"
   ]
  },
  {
   "cell_type": "code",
   "execution_count": null,
   "metadata": {},
   "outputs": [],
   "source": [
    "x_ = []\n",
    "\n",
    "y_ = []\n",
    "\n",
    "for po in range(10):\n",
    "\n",
    "    n_da = 2**po\n",
    "\n",
    "    x_.append(n_da)\n",
    "\n",
    "    y_.append(\n",
    "        kwat.information.get_jsd(\n",
    "            np.random.random_sample(n_da), np.random.random_sample(n_da)\n",
    "        )[-1].sum()\n",
    "    )\n",
    "\n",
    "plot_x_y(x_, y_, \"N\", \"JSD\")"
   ]
  },
  {
   "cell_type": "markdown",
   "metadata": {},
   "source": [
    "## get_zd"
   ]
  },
  {
   "cell_type": "code",
   "execution_count": null,
   "metadata": {},
   "outputs": [],
   "source": [
    "kwat.information.get_zd(ve1, ve2)"
   ]
  },
  {
   "cell_type": "code",
   "execution_count": null,
   "metadata": {},
   "outputs": [],
   "source": [
    "x_ = []\n",
    "\n",
    "y_ = []\n",
    "\n",
    "for po in range(10):\n",
    "\n",
    "    n_da = 2**po\n",
    "\n",
    "    x_.append(n_da)\n",
    "\n",
    "    y_.append(\n",
    "        kwat.information.get_zd(\n",
    "            np.random.random_sample(n_da), np.random.random_sample(n_da)\n",
    "        )[-1].sum()\n",
    "    )\n",
    "\n",
    "plot_x_y(x_, y_, \"N\", \"ZD\")"
   ]
  },
  {
   "cell_type": "markdown",
   "metadata": {},
   "source": [
    "## get_ic\n"
   ]
  },
  {
   "cell_type": "code",
   "execution_count": null,
   "metadata": {},
   "outputs": [],
   "source": [
    "try:\n",
    "\n",
    "    kwat.information.get_ic(ve1, ve2)\n",
    "\n",
    "except ValueError as er:\n",
    "\n",
    "    print(er)"
   ]
  },
  {
   "cell_type": "code",
   "execution_count": null,
   "metadata": {},
   "outputs": [],
   "source": [
    "for ve1, ve2 in [\n",
    "    [[0] * 8] * 2,\n",
    "    [[1] * 8] * 2,\n",
    "    [np.arange(8), np.arange(8)[::-1]],\n",
    "    [[0, 1, 2, 3, 4, 5, 6, 7, 8, 7, 6, 5, 4, 3, 2, 1, 0]] * 2,\n",
    "    [[8, 7, 6, 5, 4, 3, 2, 1, 0, 1, 2, 3, 4, 5, 6, 7, 8]] * 2,\n",
    "    [[0, 1] * 8, [0, 1] * 8],\n",
    "    [[0, 1] * 8, [1, 0] * 8],\n",
    "]:\n",
    "\n",
    "    print()\n",
    "\n",
    "    ve1 = np.array(ve1)\n",
    "\n",
    "    ve2 = np.array(ve2)\n",
    "\n",
    "    print(ve1)\n",
    "\n",
    "    print(ve2)\n",
    "\n",
    "    print(kwat.information.get_ic(ve1, ve2))"
   ]
  },
  {
   "cell_type": "code",
   "execution_count": null,
   "metadata": {},
   "outputs": [],
   "source": [
    "ve1 = np.array([0, 0, 1, 1, 2, 2])\n",
    "\n",
    "for fa in [1, 2, 1 / 2, 10, 1 / 10]:\n",
    "\n",
    "    print()\n",
    "\n",
    "    ve2 = ve1 * fa\n",
    "\n",
    "    print(ve2)\n",
    "\n",
    "    print(kwat.information.get_ic(ve1, ve2))"
   ]
  },
  {
   "cell_type": "code",
   "execution_count": null,
   "metadata": {},
   "outputs": [],
   "source": [
    "x_ = []\n",
    "\n",
    "y_ = []\n",
    "\n",
    "for po in range(10):\n",
    "\n",
    "    n = 2**po\n",
    "\n",
    "    x_.append(n)\n",
    "\n",
    "    y_.append(\n",
    "        kwat.information.get_ic(\n",
    "            np.random.random_sample(n_da), np.random.random_sample(n_da)\n",
    "        )\n",
    "    )\n",
    "\n",
    "plot_x_y(x_, y_, \"N\", \"IC\")"
   ]
  },
  {
   "cell_type": "code",
   "execution_count": null,
   "metadata": {},
   "outputs": [],
   "source": [
    "ve1 = np.arange(10)\n",
    "\n",
    "ve2 = np.arange(10)"
   ]
  },
  {
   "cell_type": "code",
   "execution_count": null,
   "metadata": {},
   "outputs": [],
   "source": [
    "%timeit kwat.information.get_ic(ve1, ve2)"
   ]
  },
  {
   "cell_type": "code",
   "execution_count": null,
   "metadata": {},
   "outputs": [],
   "source": [
    "from scipy.stats import pearsonr"
   ]
  },
  {
   "cell_type": "code",
   "execution_count": null,
   "metadata": {},
   "outputs": [],
   "source": [
    "%timeit pearsonr(ve1, ve2)"
   ]
  },
  {
   "cell_type": "markdown",
   "metadata": {},
   "source": [
    "## get_icd"
   ]
  },
  {
   "cell_type": "code",
   "execution_count": null,
   "metadata": {},
   "outputs": [],
   "source": [
    "n_da = 1000\n",
    "\n",
    "kwat.information.get_icd(np.random.random_sample(n_da), np.random.random_sample(n_da))"
   ]
  }
 ],
 "metadata": {
  "@webio": {
   "lastCommId": null,
   "lastKernelId": null
  },
  "kernelspec": {
   "display_name": "Python 3 (ipykernel)",
   "language": "python",
   "name": "python3"
  },
  "language_info": {
   "codemirror_mode": {
    "name": "ipython",
    "version": 3
   },
   "file_extension": ".py",
   "mimetype": "text/x-python",
   "name": "python",
   "nbconvert_exporter": "python",
   "pygments_lexer": "ipython3",
   "version": "3.9.9"
  }
 },
 "nbformat": 4,
 "nbformat_minor": 4
}
