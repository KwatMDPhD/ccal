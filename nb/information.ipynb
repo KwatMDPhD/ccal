{
 "cells": [
  {
   "cell_type": "code",
   "execution_count": null,
   "metadata": {
    "execution": {
     "iopub.execute_input": "2021-08-23T06:01:11.269790Z",
     "iopub.status.busy": "2021-08-23T06:01:11.269121Z",
     "iopub.status.idle": "2021-08-23T06:01:11.283975Z",
     "shell.execute_reply": "2021-08-23T06:01:11.284420Z"
    },
    "tags": []
   },
   "outputs": [],
   "source": [
    "%load_ext autoreload\n",
    "%autoreload 2"
   ]
  },
  {
   "cell_type": "code",
   "execution_count": null,
   "metadata": {
    "execution": {
     "iopub.execute_input": "2021-08-23T06:01:11.288341Z",
     "iopub.status.busy": "2021-08-23T06:01:11.287631Z",
     "iopub.status.idle": "2021-08-23T06:01:11.947193Z",
     "shell.execute_reply": "2021-08-23T06:01:11.947572Z"
    },
    "tags": []
   },
   "outputs": [],
   "source": [
    "import kwat"
   ]
  },
  {
   "cell_type": "code",
   "execution_count": null,
   "metadata": {
    "execution": {
     "iopub.execute_input": "2021-08-23T06:01:11.951469Z",
     "iopub.status.busy": "2021-08-23T06:01:11.950903Z",
     "iopub.status.idle": "2021-08-23T06:01:11.973427Z",
     "shell.execute_reply": "2021-08-23T06:01:11.973862Z"
    },
    "tags": []
   },
   "outputs": [],
   "source": [
    "import numpy as np"
   ]
  },
  {
   "cell_type": "code",
   "execution_count": null,
   "metadata": {
    "execution": {
     "iopub.execute_input": "2021-08-23T06:01:11.977582Z",
     "iopub.status.busy": "2021-08-23T06:01:11.976894Z",
     "iopub.status.idle": "2021-08-23T06:01:12.000205Z",
     "shell.execute_reply": "2021-08-23T06:01:11.999762Z"
    },
    "tags": []
   },
   "outputs": [],
   "source": [
    "ve1 = np.array([np.nan, 0, 1, 2])\n",
    "\n",
    "ve2 = np.array([4, 8, 0, np.nan])"
   ]
  },
  {
   "cell_type": "code",
   "execution_count": null,
   "metadata": {
    "execution": {
     "iopub.execute_input": "2021-08-23T06:01:12.004743Z",
     "iopub.status.busy": "2021-08-23T06:01:12.004145Z",
     "iopub.status.idle": "2021-08-23T06:01:12.027926Z",
     "shell.execute_reply": "2021-08-23T06:01:12.028476Z"
    },
    "tags": []
   },
   "outputs": [],
   "source": [
    "def plot_x_y(x_, y_, xaxis_title, yaxis_title, title=None):\n",
    "\n",
    "    kwat.plot.plot_plotly(\n",
    "        {\n",
    "            \"layout\": {\n",
    "                \"title\": title,\n",
    "                \"xaxis\": {\n",
    "                    \"title\": xaxis_title,\n",
    "                },\n",
    "                \"yaxis\": {\n",
    "                    \"title\": yaxis_title,\n",
    "                },\n",
    "            },\n",
    "            \"data\": [\n",
    "                {\n",
    "                    \"x\": x_,\n",
    "                    \"y\": y_,\n",
    "                }\n",
    "            ],\n",
    "        }\n",
    "    )"
   ]
  },
  {
   "cell_type": "markdown",
   "metadata": {},
   "source": [
    "## get_entropy"
   ]
  },
  {
   "cell_type": "code",
   "execution_count": null,
   "metadata": {
    "execution": {
     "iopub.execute_input": "2021-08-23T06:01:12.032174Z",
     "iopub.status.busy": "2021-08-23T06:01:12.031408Z",
     "iopub.status.idle": "2021-08-23T06:01:12.059534Z",
     "shell.execute_reply": "2021-08-23T06:01:12.059945Z"
    },
    "tags": []
   },
   "outputs": [],
   "source": [
    "kwat.information.get_entropy(ve1)"
   ]
  },
  {
   "cell_type": "code",
   "execution_count": null,
   "metadata": {
    "execution": {
     "iopub.execute_input": "2021-08-23T06:01:12.063729Z",
     "iopub.status.busy": "2021-08-23T06:01:12.063139Z",
     "iopub.status.idle": "2021-08-23T06:01:12.350598Z",
     "shell.execute_reply": "2021-08-23T06:01:12.349955Z"
    },
    "tags": []
   },
   "outputs": [],
   "source": [
    "x_ = []\n",
    "\n",
    "y_ = []\n",
    "\n",
    "for po in range(10):\n",
    "\n",
    "    n_da = 2 ** po\n",
    "\n",
    "    x_.append(n_da)\n",
    "\n",
    "    y_.append(kwat.information.get_entropy(np.full(n_da, 1)))\n",
    "\n",
    "plot_x_y(x_, y_, \"N\", \"Entropy\")"
   ]
  },
  {
   "cell_type": "markdown",
   "metadata": {},
   "source": [
    "## get_kld"
   ]
  },
  {
   "cell_type": "code",
   "execution_count": null,
   "metadata": {
    "execution": {
     "iopub.execute_input": "2021-08-23T06:01:12.355173Z",
     "iopub.status.busy": "2021-08-23T06:01:12.354517Z",
     "iopub.status.idle": "2021-08-23T06:01:12.383687Z",
     "shell.execute_reply": "2021-08-23T06:01:12.384100Z"
    },
    "tags": []
   },
   "outputs": [],
   "source": [
    "kwat.information.get_kld(ve1, ve2)"
   ]
  },
  {
   "cell_type": "code",
   "execution_count": null,
   "metadata": {
    "execution": {
     "iopub.execute_input": "2021-08-23T06:01:12.387591Z",
     "iopub.status.busy": "2021-08-23T06:01:12.387081Z",
     "iopub.status.idle": "2021-08-23T06:01:12.427561Z",
     "shell.execute_reply": "2021-08-23T06:01:12.427968Z"
    },
    "tags": []
   },
   "outputs": [],
   "source": [
    "x_ = []\n",
    "\n",
    "y_ = []\n",
    "\n",
    "for po in range(10):\n",
    "\n",
    "    n_da = 2 ** po\n",
    "\n",
    "    x_.append(n_da)\n",
    "\n",
    "    y_.append(\n",
    "        kwat.information.get_kld(\n",
    "            np.random.random_sample(n_da), np.random.random_sample(n_da)\n",
    "        ).sum()\n",
    "    )\n",
    "\n",
    "plot_x_y(x_, y_, \"N\", \"KLD\")"
   ]
  },
  {
   "cell_type": "markdown",
   "metadata": {},
   "source": [
    "## get_jsd"
   ]
  },
  {
   "cell_type": "code",
   "execution_count": null,
   "metadata": {
    "execution": {
     "iopub.execute_input": "2021-08-23T06:01:12.431107Z",
     "iopub.status.busy": "2021-08-23T06:01:12.430514Z",
     "iopub.status.idle": "2021-08-23T06:01:12.455787Z",
     "shell.execute_reply": "2021-08-23T06:01:12.456204Z"
    },
    "tags": []
   },
   "outputs": [],
   "source": [
    "kwat.information.get_jsd(ve1, ve2)"
   ]
  },
  {
   "cell_type": "code",
   "execution_count": null,
   "metadata": {
    "execution": {
     "iopub.execute_input": "2021-08-23T06:01:12.459792Z",
     "iopub.status.busy": "2021-08-23T06:01:12.459256Z",
     "iopub.status.idle": "2021-08-23T06:01:12.498615Z",
     "shell.execute_reply": "2021-08-23T06:01:12.498988Z"
    },
    "tags": []
   },
   "outputs": [],
   "source": [
    "x_ = []\n",
    "\n",
    "y_ = []\n",
    "\n",
    "for po in range(10):\n",
    "\n",
    "    n_da = 2 ** po\n",
    "\n",
    "    x_.append(n_da)\n",
    "\n",
    "    y_.append(\n",
    "        kwat.information.get_jsd(\n",
    "            np.random.random_sample(n_da), np.random.random_sample(n_da)\n",
    "        )[-1].sum()\n",
    "    )\n",
    "\n",
    "plot_x_y(x_, y_, \"N\", \"JSD\")"
   ]
  },
  {
   "cell_type": "markdown",
   "metadata": {},
   "source": [
    "## get_zd"
   ]
  },
  {
   "cell_type": "code",
   "execution_count": null,
   "metadata": {
    "execution": {
     "iopub.execute_input": "2021-08-23T06:01:12.502344Z",
     "iopub.status.busy": "2021-08-23T06:01:12.501677Z",
     "iopub.status.idle": "2021-08-23T06:01:12.527670Z",
     "shell.execute_reply": "2021-08-23T06:01:12.528101Z"
    },
    "tags": []
   },
   "outputs": [],
   "source": [
    "kwat.information.get_zd(ve1, ve2)"
   ]
  },
  {
   "cell_type": "code",
   "execution_count": null,
   "metadata": {
    "execution": {
     "iopub.execute_input": "2021-08-23T06:01:12.531678Z",
     "iopub.status.busy": "2021-08-23T06:01:12.531132Z",
     "iopub.status.idle": "2021-08-23T06:01:12.570192Z",
     "shell.execute_reply": "2021-08-23T06:01:12.570553Z"
    },
    "tags": []
   },
   "outputs": [],
   "source": [
    "x_ = []\n",
    "\n",
    "y_ = []\n",
    "\n",
    "for po in range(10):\n",
    "\n",
    "    n_da = 2 ** po\n",
    "\n",
    "    x_.append(n_da)\n",
    "\n",
    "    y_.append(\n",
    "        kwat.information.get_zd(\n",
    "            np.random.random_sample(n_da), np.random.random_sample(n_da)\n",
    "        )[-1].sum()\n",
    "    )\n",
    "\n",
    "plot_x_y(x_, y_, \"N\", \"ZD\")"
   ]
  },
  {
   "cell_type": "markdown",
   "metadata": {},
   "source": [
    "## get_ic"
   ]
  },
  {
   "cell_type": "code",
   "execution_count": null,
   "metadata": {
    "execution": {
     "iopub.execute_input": "2021-08-23T06:01:12.573659Z",
     "iopub.status.busy": "2021-08-23T06:01:12.573150Z",
     "iopub.status.idle": "2021-08-23T06:01:12.599028Z",
     "shell.execute_reply": "2021-08-23T06:01:12.599382Z"
    },
    "tags": []
   },
   "outputs": [],
   "source": [
    "try:\n",
    "\n",
    "    kwat.information.get_ic(ve1, ve2)\n",
    "\n",
    "except ValueError as er:\n",
    "\n",
    "    print(er)"
   ]
  },
  {
   "cell_type": "code",
   "execution_count": null,
   "metadata": {
    "ExecuteTime": {
     "end_time": "2018-05-15T09:32:32.232401Z",
     "start_time": "2018-05-15T09:32:27.690390Z"
    },
    "execution": {
     "iopub.execute_input": "2021-08-23T06:01:12.604231Z",
     "iopub.status.busy": "2021-08-23T06:01:12.603583Z",
     "iopub.status.idle": "2021-08-23T06:01:12.652497Z",
     "shell.execute_reply": "2021-08-23T06:01:12.652934Z"
    },
    "tags": []
   },
   "outputs": [],
   "source": [
    "for ve1, ve2 in [\n",
    "    [[0] * 8] * 2,\n",
    "    [[1] * 8] * 2,\n",
    "    [np.arange(8), np.arange(8)[::-1]],\n",
    "    [[0, 1, 2, 3, 4, 5, 6, 7, 8, 7, 6, 5, 4, 3, 2, 1, 0]] * 2,\n",
    "    [[8, 7, 6, 5, 4, 3, 2, 1, 0, 1, 2, 3, 4, 5, 6, 7, 8]] * 2,\n",
    "    [[0, 1] * 8, [0, 1] * 8],\n",
    "    [[0, 1] * 8, [1, 0] * 8],\n",
    "]:\n",
    "\n",
    "    print()\n",
    "\n",
    "    ve1 = np.array(ve1)\n",
    "\n",
    "    ve2 = np.array(ve2)\n",
    "\n",
    "    print(ve1)\n",
    "\n",
    "    print(ve2)\n",
    "\n",
    "    print(kwat.information.get_ic(ve1, ve2))"
   ]
  },
  {
   "cell_type": "code",
   "execution_count": null,
   "metadata": {
    "execution": {
     "iopub.execute_input": "2021-08-23T06:01:12.656676Z",
     "iopub.status.busy": "2021-08-23T06:01:12.656085Z",
     "iopub.status.idle": "2021-08-23T06:01:12.698281Z",
     "shell.execute_reply": "2021-08-23T06:01:12.698635Z"
    },
    "tags": []
   },
   "outputs": [],
   "source": [
    "ve1 = np.array([0, 0, 1, 1, 2, 2])\n",
    "\n",
    "for fa in [1, 2, 1 / 2, 10, 1 / 10]:\n",
    "\n",
    "    print()\n",
    "\n",
    "    ve2 = ve1 * fa\n",
    "\n",
    "    print(ve2)\n",
    "\n",
    "    print(kwat.information.get_ic(ve1, ve2))"
   ]
  },
  {
   "cell_type": "code",
   "execution_count": null,
   "metadata": {
    "execution": {
     "iopub.execute_input": "2021-08-23T06:01:12.702147Z",
     "iopub.status.busy": "2021-08-23T06:01:12.701546Z",
     "iopub.status.idle": "2021-08-23T06:01:12.768364Z",
     "shell.execute_reply": "2021-08-23T06:01:12.768722Z"
    },
    "tags": []
   },
   "outputs": [],
   "source": [
    "x_ = []\n",
    "\n",
    "y_ = []\n",
    "\n",
    "for po in range(10):\n",
    "\n",
    "    n = 2 ** po\n",
    "\n",
    "    x_.append(n)\n",
    "\n",
    "    y_.append(\n",
    "        kwat.information.get_ic(\n",
    "            np.random.random_sample(n_da), np.random.random_sample(n_da)\n",
    "        )\n",
    "    )\n",
    "\n",
    "plot_x_y(x_, y_, \"N\", \"IC\")"
   ]
  },
  {
   "cell_type": "markdown",
   "metadata": {},
   "source": [
    "## get_icd"
   ]
  },
  {
   "cell_type": "code",
   "execution_count": null,
   "metadata": {
    "execution": {
     "iopub.execute_input": "2021-08-23T06:01:12.772326Z",
     "iopub.status.busy": "2021-08-23T06:01:12.771737Z",
     "iopub.status.idle": "2021-08-23T06:01:12.799752Z",
     "shell.execute_reply": "2021-08-23T06:01:12.800108Z"
    },
    "tags": []
   },
   "outputs": [],
   "source": [
    "n_da = 1000\n",
    "\n",
    "kwat.information.get_icd(np.random.random_sample(n_da), np.random.random_sample(n_da))"
   ]
  }
 ],
 "metadata": {
  "kernelspec": {
   "display_name": "Python 3 (ipykernel)",
   "language": "python",
   "name": "python3"
  },
  "language_info": {
   "codemirror_mode": {
    "name": "ipython",
    "version": 3
   },
   "file_extension": ".py",
   "mimetype": "text/x-python",
   "name": "python",
   "nbconvert_exporter": "python",
   "pygments_lexer": "ipython3",
   "version": "3.9.6"
  }
 },
 "nbformat": 4,
 "nbformat_minor": 4
}
