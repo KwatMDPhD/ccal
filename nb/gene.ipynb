{
 "cells": [
  {
   "outputs": [],
   "cell_type": "code",
   "source": [
    "%load_ext autoreload\n",
    "%autoreload 2"
   ],
   "metadata": {},
   "execution_count": null
  },
  {
   "outputs": [],
   "cell_type": "code",
   "source": [
    "import kwat"
   ],
   "metadata": {},
   "execution_count": null
  },
  {
   "cell_type": "markdown",
   "source": [
    "## _read"
   ],
   "metadata": {}
  },
  {
   "outputs": [],
   "cell_type": "code",
   "source": [
    "kwat.gene._read({\"locus_group\": [\"protein-coding gene\"]})"
   ],
   "metadata": {},
   "execution_count": null
  },
  {
   "cell_type": "markdown",
   "source": [
    "## _map_hgnc_to_gene"
   ],
   "metadata": {}
  },
  {
   "outputs": [],
   "cell_type": "code",
   "source": [
    "hg_ge = kwat.gene._map_hgnc_to_gene()\n",
    "\n",
    "kwat.dictionary.summarize(hg_ge)"
   ],
   "metadata": {},
   "execution_count": null
  },
  {
   "cell_type": "markdown",
   "source": [
    "## _map_ens_to_gene"
   ],
   "metadata": {}
  },
  {
   "outputs": [],
   "cell_type": "code",
   "source": [
    "en_ge = kwat.gene._map_ens_to_gene()\n",
    "\n",
    "kwat.dictionary.summarize(en_ge)"
   ],
   "metadata": {},
   "execution_count": null
  },
  {
   "cell_type": "markdown",
   "source": [
    "## _map_ensmus_to_gene"
   ],
   "metadata": {}
  },
  {
   "outputs": [],
   "cell_type": "code",
   "source": [
    "enm_ge = kwat.gene._map_ensmus_to_gene()\n",
    "\n",
    "kwat.dictionary.summarize(enm_ge)"
   ],
   "metadata": {},
   "execution_count": null
  },
  {
   "cell_type": "markdown",
   "source": [
    "## _map_cg_to_gene"
   ],
   "metadata": {}
  },
  {
   "outputs": [],
   "cell_type": "code",
   "source": [
    "cg_ge = kwat.gene._map_cg_to_gene()\n",
    "\n",
    "kwat.dictionary.summarize(cg_ge)"
   ],
   "metadata": {},
   "execution_count": null
  },
  {
   "cell_type": "markdown",
   "source": [
    "## rename"
   ],
   "metadata": {}
  },
  {
   "outputs": [],
   "cell_type": "code",
   "source": [
    "kwat.gene.rename([\"11998\", \"7157\", \"ENSG00000141510\", \"P04637\"])"
   ],
   "metadata": {},
   "execution_count": null
  },
  {
   "cell_type": "markdown",
   "source": [
    "## _map_gene_to_family"
   ],
   "metadata": {}
  },
  {
   "outputs": [],
   "cell_type": "code",
   "source": [
    "ge_fa = kwat.gene._map_gene_to_family()\n",
    "\n",
    "kwat.dictionary.summarize(ge_fa)"
   ],
   "metadata": {},
   "execution_count": null
  },
  {
   "cell_type": "markdown",
   "source": [
    "## select"
   ],
   "metadata": {}
  },
  {
   "outputs": [],
   "cell_type": "code",
   "source": [
    "for co_se in [\n",
    "    None,\n",
    "    {\"locus_type\": [\"transposable element\"]},\n",
    "    {\n",
    "        \"locus_group\": [\"protein-coding gene\"],\n",
    "        \"locus_type\": [\"immunoglobulin gene\", \"immunoglobulin psudogene\"],\n",
    "    },\n",
    "]:\n",
    "    print()\n",
    "\n",
    "    print(co_se)\n",
    "\n",
    "    print(kwat.gene.select(co_se))"
   ],
   "metadata": {},
   "execution_count": null
  }
 ],
 "nbformat_minor": 4,
 "metadata": {
  "language_info": {
   "file_extension": ".py",
   "mimetype": "text/x-python",
   "name": "python",
   "nbconvert_exporter": "python",
   "pygments_lexer": "ipython3",
   "codemirror_mode": {
    "name": "ipython",
    "version": 3
   },
   "version": "3.9.6"
  },
  "kernelspec": {
   "name": "python3",
   "display_name": "Python 3 (ipykernel)",
   "language": "python"
  }
 },
 "nbformat": 4
}
