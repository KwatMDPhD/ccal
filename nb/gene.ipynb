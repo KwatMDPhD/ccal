{
 "cells": [
  {
   "cell_type": "code",
   "execution_count": null,
   "metadata": {
    "execution": {
     "iopub.execute_input": "2021-08-23T06:00:02.303033Z",
     "iopub.status.busy": "2021-08-23T06:00:02.302265Z",
     "iopub.status.idle": "2021-08-23T06:00:02.317945Z",
     "shell.execute_reply": "2021-08-23T06:00:02.318509Z"
    },
    "tags": []
   },
   "outputs": [],
   "source": [
    "%load_ext autoreload\n",
    "%autoreload 2"
   ]
  },
  {
   "cell_type": "code",
   "execution_count": null,
   "metadata": {
    "ExecuteTime": {
     "end_time": "2018-05-15T09:28:55.668422Z",
     "start_time": "2018-05-15T09:28:55.428950Z"
    },
    "execution": {
     "iopub.execute_input": "2021-08-23T06:00:02.322029Z",
     "iopub.status.busy": "2021-08-23T06:00:02.321442Z",
     "iopub.status.idle": "2021-08-23T06:00:02.989853Z",
     "shell.execute_reply": "2021-08-23T06:00:02.990329Z"
    },
    "tags": []
   },
   "outputs": [],
   "source": [
    "import kwat"
   ]
  },
  {
   "cell_type": "markdown",
   "metadata": {},
   "source": [
    "## _read_hgnc"
   ]
  },
  {
   "cell_type": "code",
   "execution_count": null,
   "metadata": {
    "execution": {
     "iopub.execute_input": "2021-08-23T06:00:02.993655Z",
     "iopub.status.busy": "2021-08-23T06:00:02.993064Z",
     "iopub.status.idle": "2021-08-23T06:00:03.534832Z",
     "shell.execute_reply": "2021-08-23T06:00:03.535261Z"
    }
   },
   "outputs": [],
   "source": [
    "kwat.gene._read_hgnc(\n",
    "    {\n",
    "        \"locus_group\": [\"protein-coding gene\"],\n",
    "    }\n",
    ")"
   ]
  },
  {
   "cell_type": "markdown",
   "metadata": {},
   "source": [
    "## _map_hgnc"
   ]
  },
  {
   "cell_type": "code",
   "execution_count": null,
   "metadata": {
    "execution": {
     "iopub.execute_input": "2021-08-23T06:00:03.538658Z",
     "iopub.status.busy": "2021-08-23T06:00:03.538062Z",
     "iopub.status.idle": "2021-08-23T06:00:04.632608Z",
     "shell.execute_reply": "2021-08-23T06:00:04.632157Z"
    },
    "tags": []
   },
   "outputs": [],
   "source": [
    "hg_ge = kwat.gene._map_hgnc()\n",
    "\n",
    "kwat.dictionary.summarize(hg_ge)"
   ]
  },
  {
   "cell_type": "markdown",
   "metadata": {},
   "source": [
    "## _map_ens"
   ]
  },
  {
   "cell_type": "code",
   "execution_count": null,
   "metadata": {
    "execution": {
     "iopub.execute_input": "2021-08-23T06:00:04.636191Z",
     "iopub.status.busy": "2021-08-23T06:00:04.635598Z",
     "iopub.status.idle": "2021-08-23T06:00:15.613733Z",
     "shell.execute_reply": "2021-08-23T06:00:15.614160Z"
    },
    "tags": []
   },
   "outputs": [],
   "source": [
    "en_ge = kwat.gene._map_ens()\n",
    "\n",
    "kwat.dictionary.summarize(en_ge)"
   ]
  },
  {
   "cell_type": "markdown",
   "metadata": {},
   "source": [
    "## _map_cg"
   ]
  },
  {
   "cell_type": "code",
   "execution_count": null,
   "metadata": {
    "execution": {
     "iopub.execute_input": "2021-08-23T06:00:15.617998Z",
     "iopub.status.busy": "2021-08-23T06:00:15.617397Z",
     "iopub.status.idle": "2021-08-23T06:00:31.135354Z",
     "shell.execute_reply": "2021-08-23T06:00:31.135847Z"
    },
    "tags": []
   },
   "outputs": [],
   "source": [
    "cg_ge = kwat.gene._map_cg()\n",
    "\n",
    "kwat.dictionary.summarize(cg_ge)"
   ]
  },
  {
   "cell_type": "markdown",
   "metadata": {},
   "source": [
    "## rename"
   ]
  },
  {
   "cell_type": "code",
   "execution_count": null,
   "metadata": {
    "execution": {
     "iopub.execute_input": "2021-08-23T06:00:31.139976Z",
     "iopub.status.busy": "2021-08-23T06:00:31.139329Z",
     "iopub.status.idle": "2021-08-23T06:00:58.614786Z",
     "shell.execute_reply": "2021-08-23T06:00:58.615335Z"
    },
    "tags": []
   },
   "outputs": [],
   "source": [
    "kwat.gene.rename([\"11998\", \"7157\", \"ENSG00000141510\", \"P04637\"])"
   ]
  },
  {
   "cell_type": "markdown",
   "metadata": {},
   "source": [
    "## _map_family"
   ]
  },
  {
   "cell_type": "code",
   "execution_count": null,
   "metadata": {
    "execution": {
     "iopub.execute_input": "2021-08-23T06:00:58.619423Z",
     "iopub.status.busy": "2021-08-23T06:00:58.618655Z",
     "iopub.status.idle": "2021-08-23T06:00:59.126875Z",
     "shell.execute_reply": "2021-08-23T06:00:59.127417Z"
    }
   },
   "outputs": [],
   "source": [
    "ge_fa = kwat.gene._map_family()\n",
    "\n",
    "kwat.dictionary.summarize(ge_fa)"
   ]
  },
  {
   "cell_type": "markdown",
   "metadata": {},
   "source": [
    "## select"
   ]
  },
  {
   "cell_type": "code",
   "execution_count": null,
   "metadata": {
    "execution": {
     "iopub.execute_input": "2021-08-23T06:00:59.131603Z",
     "iopub.status.busy": "2021-08-23T06:00:59.130996Z",
     "iopub.status.idle": "2021-08-23T06:01:02.331603Z",
     "shell.execute_reply": "2021-08-23T06:01:02.332096Z"
    },
    "tags": []
   },
   "outputs": [],
   "source": [
    "for co_se in [\n",
    "    None,\n",
    "    {\n",
    "        \"locus_type\": [\"transposable element\"],\n",
    "    },\n",
    "    {\n",
    "        \"locus_group\": [\"protein-coding gene\"],\n",
    "        \"locus_type\": [\"immunoglobulin gene\", \"immunoglobulin psudogene\"],\n",
    "    },\n",
    "]:\n",
    "\n",
    "    print()\n",
    "\n",
    "    print(co_se)\n",
    "\n",
    "    print(kwat.gene.select(co_se))"
   ]
  }
 ],
 "metadata": {
  "kernelspec": {
   "display_name": "Python 3 (ipykernel)",
   "language": "python",
   "name": "python3"
  },
  "language_info": {
   "codemirror_mode": {
    "name": "ipython",
    "version": 3
   },
   "file_extension": ".py",
   "mimetype": "text/x-python",
   "name": "python",
   "nbconvert_exporter": "python",
   "pygments_lexer": "ipython3",
   "version": "3.9.6"
  }
 },
 "nbformat": 4,
 "nbformat_minor": 4
}
