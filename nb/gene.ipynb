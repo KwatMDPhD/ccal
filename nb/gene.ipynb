{
 "cells": [
  {
   "cell_type": "code",
   "execution_count": null,
   "metadata": {
    "execution": {
     "iopub.execute_input": "2021-08-25T07:03:02.907737Z",
     "iopub.status.busy": "2021-08-25T07:03:02.906965Z",
     "iopub.status.idle": "2021-08-25T07:03:02.924224Z",
     "shell.execute_reply": "2021-08-25T07:03:02.923333Z"
    },
    "tags": []
   },
   "outputs": [],
   "source": [
    "%load_ext autoreload\n",
    "%autoreload 2"
   ]
  },
  {
   "cell_type": "code",
   "execution_count": null,
   "metadata": {
    "ExecuteTime": {
     "end_time": "2018-05-15T09:28:55.668422Z",
     "start_time": "2018-05-15T09:28:55.428950Z"
    },
    "execution": {
     "iopub.execute_input": "2021-08-25T07:03:02.928473Z",
     "iopub.status.busy": "2021-08-25T07:03:02.927820Z",
     "iopub.status.idle": "2021-08-25T07:03:03.543299Z",
     "shell.execute_reply": "2021-08-25T07:03:03.543670Z"
    },
    "tags": []
   },
   "outputs": [],
   "source": [
    "import kwat"
   ]
  },
  {
   "cell_type": "markdown",
   "metadata": {},
   "source": [
    "## _read_select_hgnc"
   ]
  },
  {
   "cell_type": "code",
   "execution_count": null,
   "metadata": {
    "execution": {
     "iopub.execute_input": "2021-08-25T07:03:03.547258Z",
     "iopub.status.busy": "2021-08-25T07:03:03.546715Z",
     "iopub.status.idle": "2021-08-25T07:03:04.035224Z",
     "shell.execute_reply": "2021-08-25T07:03:04.035644Z"
    }
   },
   "outputs": [],
   "source": [
    "kwat.gene._read_select_hgnc(\n",
    "    {\n",
    "        \"locus_group\": [\"protein-coding gene\"],\n",
    "    }\n",
    ")"
   ]
  },
  {
   "cell_type": "markdown",
   "metadata": {},
   "source": [
    "## _map_hgnc_to_gene"
   ]
  },
  {
   "cell_type": "code",
   "execution_count": null,
   "metadata": {
    "execution": {
     "iopub.execute_input": "2021-08-25T07:03:04.039277Z",
     "iopub.status.busy": "2021-08-25T07:03:04.038705Z",
     "iopub.status.idle": "2021-08-25T07:03:05.022696Z",
     "shell.execute_reply": "2021-08-25T07:03:05.022185Z"
    },
    "tags": []
   },
   "outputs": [],
   "source": [
    "hg_ge = kwat.gene._map_hgnc_to_gene()\n",
    "\n",
    "kwat.dictionary.summarize(hg_ge)"
   ]
  },
  {
   "cell_type": "markdown",
   "metadata": {},
   "source": [
    "## _map_ens_to_gene"
   ]
  },
  {
   "cell_type": "code",
   "execution_count": null,
   "metadata": {
    "execution": {
     "iopub.execute_input": "2021-08-25T07:03:05.026219Z",
     "iopub.status.busy": "2021-08-25T07:03:05.025635Z",
     "iopub.status.idle": "2021-08-25T07:03:14.962027Z",
     "shell.execute_reply": "2021-08-25T07:03:14.962445Z"
    },
    "tags": []
   },
   "outputs": [],
   "source": [
    "en_ge = kwat.gene._map_ens_to_gene()\n",
    "\n",
    "kwat.dictionary.summarize(en_ge)"
   ]
  },
  {
   "cell_type": "markdown",
   "metadata": {},
   "source": [
    "## _map_cg_to_gene"
   ]
  },
  {
   "cell_type": "code",
   "execution_count": null,
   "metadata": {
    "execution": {
     "iopub.execute_input": "2021-08-25T07:03:14.966189Z",
     "iopub.status.busy": "2021-08-25T07:03:14.965513Z",
     "iopub.status.idle": "2021-08-25T07:03:30.144365Z",
     "shell.execute_reply": "2021-08-25T07:03:30.144859Z"
    },
    "tags": []
   },
   "outputs": [],
   "source": [
    "cg_ge = kwat.gene._map_cg_to_gene()\n",
    "\n",
    "kwat.dictionary.summarize(cg_ge)"
   ]
  },
  {
   "cell_type": "markdown",
   "metadata": {},
   "source": [
    "## rename"
   ]
  },
  {
   "cell_type": "code",
   "execution_count": null,
   "metadata": {
    "execution": {
     "iopub.execute_input": "2021-08-25T07:03:30.148915Z",
     "iopub.status.busy": "2021-08-25T07:03:30.148293Z",
     "iopub.status.idle": "2021-08-25T07:03:56.851131Z",
     "shell.execute_reply": "2021-08-25T07:03:56.852077Z"
    },
    "tags": []
   },
   "outputs": [],
   "source": [
    "kwat.gene.rename([\"11998\", \"7157\", \"ENSG00000141510\", \"P04637\"])"
   ]
  },
  {
   "cell_type": "markdown",
   "metadata": {},
   "source": [
    "## _map_gene_to_family"
   ]
  },
  {
   "cell_type": "code",
   "execution_count": null,
   "metadata": {
    "execution": {
     "iopub.execute_input": "2021-08-25T07:03:56.856874Z",
     "iopub.status.busy": "2021-08-25T07:03:56.856181Z",
     "iopub.status.idle": "2021-08-25T07:03:57.467011Z",
     "shell.execute_reply": "2021-08-25T07:03:57.467577Z"
    }
   },
   "outputs": [],
   "source": [
    "ge_fa = kwat.gene._map_gene_to_family()\n",
    "\n",
    "kwat.dictionary.summarize(ge_fa)"
   ]
  },
  {
   "cell_type": "markdown",
   "metadata": {},
   "source": [
    "## select"
   ]
  },
  {
   "cell_type": "code",
   "execution_count": null,
   "metadata": {
    "execution": {
     "iopub.execute_input": "2021-08-25T07:03:57.472236Z",
     "iopub.status.busy": "2021-08-25T07:03:57.471663Z",
     "iopub.status.idle": "2021-08-25T07:04:01.271371Z",
     "shell.execute_reply": "2021-08-25T07:04:01.271892Z"
    },
    "tags": []
   },
   "outputs": [],
   "source": [
    "for co_se in [\n",
    "    None,\n",
    "    {\n",
    "        \"locus_type\": [\"transposable element\"],\n",
    "    },\n",
    "    {\n",
    "        \"locus_group\": [\"protein-coding gene\"],\n",
    "        \"locus_type\": [\"immunoglobulin gene\", \"immunoglobulin psudogene\"],\n",
    "    },\n",
    "]:\n",
    "\n",
    "    print()\n",
    "\n",
    "    print(co_se)\n",
    "\n",
    "    print(kwat.gene.select(co_se))"
   ]
  }
 ],
 "metadata": {
  "kernelspec": {
   "display_name": "Python 3 (ipykernel)",
   "language": "python",
   "name": "python3"
  },
  "language_info": {
   "codemirror_mode": {
    "name": "ipython",
    "version": 3
   },
   "file_extension": ".py",
   "mimetype": "text/x-python",
   "name": "python",
   "nbconvert_exporter": "python",
   "pygments_lexer": "ipython3",
   "version": "3.9.6"
  }
 },
 "nbformat": 4,
 "nbformat_minor": 4
}
