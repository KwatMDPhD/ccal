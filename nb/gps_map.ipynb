{
 "cells": [
  {
   "cell_type": "code",
   "execution_count": null,
   "metadata": {},
   "outputs": [],
   "source": [
    "%load_ext autoreload\n",
    "%autoreload 2"
   ]
  },
  {
   "cell_type": "code",
   "execution_count": null,
   "metadata": {},
   "outputs": [],
   "source": [
    "import os\n",
    "\n",
    "import kwat\n",
    "import numpy as np\n",
    "import pandas as pd\n",
    "from scipy.spatial.distance import pdist, squareform"
   ]
  },
  {
   "cell_type": "markdown",
   "metadata": {},
   "source": [
    "## GPSMap"
   ]
  },
  {
   "cell_type": "code",
   "execution_count": null,
   "metadata": {},
   "outputs": [],
   "source": [
    "nu_po_no = pd.read_csv(\"data/w.tsv\", sep=\"\\t\", index_col=0)\n",
    "\n",
    "pon = nu_po_no.index.name\n",
    "\n",
    "po_ = nu_po_no.index.values\n",
    "\n",
    "non = \"Node\"\n",
    "\n",
    "no_ = nu_po_no.columns.values\n",
    "\n",
    "nu_po_no = nu_po_no.values"
   ]
  },
  {
   "cell_type": "code",
   "execution_count": null,
   "metadata": {},
   "outputs": [],
   "source": [
    "di_no_no = squareform(pdist(nu_po_no.T))\n",
    "\n",
    "gp = kwat.gps_map.GPSMap(non, no_, di_no_no, pon, po_, nu_po_no)"
   ]
  },
  {
   "cell_type": "code",
   "execution_count": null,
   "metadata": {},
   "outputs": [],
   "source": [
    "gp.plot()"
   ]
  },
  {
   "cell_type": "code",
   "execution_count": null,
   "metadata": {},
   "outputs": [],
   "source": [
    "poh_ = np.array([\"Feature 6\", \"Feature 10\", \"Feature 29\"])\n",
    "\n",
    "for po in poh_:\n",
    "\n",
    "    print(po)\n",
    "\n",
    "    print(gp.nu_po_di[gp.po_ == po])"
   ]
  },
  {
   "cell_type": "code",
   "execution_count": null,
   "metadata": {},
   "outputs": [],
   "source": [
    "gp.plot(poh_=poh_)"
   ]
  },
  {
   "cell_type": "code",
   "execution_count": null,
   "metadata": {},
   "outputs": [],
   "source": [
    "scn = \"Dimension Sum\"\n",
    "\n",
    "sc_ = gp.nu_po_di.sum(axis=1)"
   ]
  },
  {
   "cell_type": "code",
   "execution_count": null,
   "metadata": {},
   "outputs": [],
   "source": [
    "gp.plot(sc_=sc_)"
   ]
  },
  {
   "cell_type": "code",
   "execution_count": null,
   "metadata": {},
   "outputs": [],
   "source": [
    "sc_[::2] = np.nan\n",
    "\n",
    "gp.plot(scn=scn, sc_=sc_, scnopacity=0.4)"
   ]
  },
  {
   "cell_type": "code",
   "execution_count": null,
   "metadata": {},
   "outputs": [],
   "source": [
    "gp.set_group(\"closest_node\")\n",
    "\n",
    "gp.plot()"
   ]
  },
  {
   "cell_type": "code",
   "execution_count": null,
   "metadata": {},
   "outputs": [],
   "source": [
    "gp.set_group(gp.nu_po_di.argmax(axis=1))\n",
    "\n",
    "gp.plot()"
   ]
  },
  {
   "cell_type": "code",
   "execution_count": null,
   "metadata": {},
   "outputs": [],
   "source": [
    "gp.plot(sc_=sc_)"
   ]
  },
  {
   "cell_type": "code",
   "execution_count": null,
   "metadata": {},
   "outputs": [],
   "source": [
    "npo_ = poh_\n",
    "\n",
    "nnu_po_no = np.concatenate([nu_po_no[po_ == po] for po in poh_])\n",
    "\n",
    "nnu_po_no"
   ]
  },
  {
   "cell_type": "code",
   "execution_count": null,
   "metadata": {},
   "outputs": [],
   "source": [
    "gp.predict(\"New\", npo_, nnu_po_no, potrace={\"marker\": {\"size\": 32}})"
   ]
  },
  {
   "cell_type": "markdown",
   "metadata": {},
   "source": [
    "## KRAS"
   ]
  },
  {
   "cell_type": "code",
   "execution_count": null,
   "metadata": {},
   "outputs": [],
   "source": [
    "nu_no_po = pd.read_csv(\"data/kras_gps_map.h.tsv\", sep=\"\\t\", index_col=0)\n",
    "\n",
    "po_ = nu_no_po.columns.values\n",
    "\n",
    "pon = \"Cell Line\"\n",
    "\n",
    "no_ = nu_no_po.index.values\n",
    "\n",
    "non = nu_no_po.index.name\n",
    "\n",
    "nu_po_no = nu_no_po.values.T\n",
    "\n",
    "nu_po_no = np.apply_along_axis(kwat.array.normalize, 0, nu_po_no, \"-0-\")\n",
    "\n",
    "nu_po_no = nu_po_no.clip(min=-3, max=3)\n",
    "\n",
    "nu_po_no = np.apply_along_axis(kwat.array.normalize, 0, nu_po_no, \"0-1\")\n",
    "\n",
    "nu_po_no **= 2\n",
    "\n",
    "di_no_no = squareform(pdist(nu_po_no.T))\n",
    "\n",
    "gp = kwat.gps_map.GPSMap(non, no_, di_no_no, pon, po_, nu_po_no)\n",
    "\n",
    "gr_ = (\n",
    "    pd.read_csv(\"data/kras_gps_map.k_x_h_point.tsv\", sep=\"\\t\", index_col=0)\n",
    "    .loc[\"K15\", :]\n",
    "    .values\n",
    ")\n",
    "\n",
    "gp.set_group(gr_)\n",
    "\n",
    "gp.plot()"
   ]
  },
  {
   "cell_type": "code",
   "execution_count": null,
   "metadata": {},
   "outputs": [],
   "source": [
    "n_sk = 10\n",
    "\n",
    "gp.predict(\"New\", po_[::n_sk], nu_po_no[::n_sk])"
   ]
  },
  {
   "cell_type": "code",
   "execution_count": null,
   "metadata": {},
   "outputs": [],
   "source": [
    "pa = os.path.expanduser(\"~/Downloads/gps_map.pickle.gz\")"
   ]
  },
  {
   "cell_type": "markdown",
   "metadata": {},
   "source": [
    "## write"
   ]
  },
  {
   "cell_type": "code",
   "execution_count": null,
   "metadata": {},
   "outputs": [],
   "source": [
    "kwat.gps_map.write(pa, gp)"
   ]
  },
  {
   "cell_type": "markdown",
   "metadata": {},
   "source": [
    "## read"
   ]
  },
  {
   "cell_type": "code",
   "execution_count": null,
   "metadata": {},
   "outputs": [],
   "source": [
    "gp = kwat.gps_map.read(pa)\n",
    "\n",
    "gp.plot()"
   ]
  }
 ],
 "metadata": {
  "kernelspec": {
   "display_name": "Python 3 (ipykernel)",
   "language": "python",
   "name": "python3"
  },
  "language_info": {
   "codemirror_mode": {
    "name": "ipython",
    "version": 3
   },
   "file_extension": ".py",
   "mimetype": "text/x-python",
   "name": "python",
   "nbconvert_exporter": "python",
   "pygments_lexer": "ipython3",
   "version": "3.9.6"
  }
 },
 "nbformat": 4,
 "nbformat_minor": 4
}
