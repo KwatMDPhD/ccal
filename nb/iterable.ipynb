{
 "cells": [
  {
   "outputs": [],
   "cell_type": "code",
   "source": [
    "%load_ext autoreload\n",
    "%autoreload 2"
   ],
   "id": "25e3de9e-a73e-41da-8552-66347f96fcd5",
   "metadata": {},
   "execution_count": null
  },
  {
   "outputs": [],
   "cell_type": "code",
   "source": [
    "import kwat\n",
    "import numpy as np"
   ],
   "id": "a03dd6c6-3d6f-42c3-8a29-94dd6b57920f",
   "metadata": {},
   "execution_count": null
  },
  {
   "cell_type": "markdown",
   "source": [
    "## check_in"
   ],
   "id": "c2ccaecc-d8cc-40a8-844e-4e57ceb53f4d",
   "metadata": {}
  },
  {
   "outputs": [],
   "cell_type": "code",
   "source": [
    "for an1_, an2_ in [\n",
    "    [[1, 10], range(10)],\n",
    "    [range(10), [1, 10]],\n",
    "    [\"az\", \"abc\"],\n",
    "    [[\"a\", \"z\"], \"abc\"],\n",
    "    [[], []],\n",
    "]:\n",
    "    print(kwat.iterable.check_in(an1_, an2_))"
   ],
   "id": "b1aa34ee-36ce-446c-9702-cea82e16ce3e",
   "metadata": {},
   "execution_count": null
  },
  {
   "cell_type": "markdown",
   "source": [
    "## check"
   ],
   "id": "bf7e2496-6ddc-4dda-af61-4aa3dfa1996e",
   "metadata": {}
  },
  {
   "outputs": [],
   "cell_type": "code",
   "source": [
    "for an_ in [[], (), \"\", {}, 1, True, None]:\n",
    "    print(kwat.iterable.check(an_))"
   ],
   "id": "7ab6c29c-b266-4fc2-8cc5-5b6c06bfe272",
   "metadata": {},
   "execution_count": null
  },
  {
   "cell_type": "markdown",
   "source": [
    "## flatten"
   ],
   "id": "e8d9db8d-3e5e-4d50-b14f-93270947deb4",
   "metadata": {}
  },
  {
   "outputs": [],
   "cell_type": "code",
   "source": [
    "kwat.iterable.flatten(\n",
    "    [\n",
    "        (),\n",
    "        [],\n",
    "        set(),\n",
    "        (1, [2, {3, 4}]),\n",
    "        [\"ab\", {\"cd\", (\"ef\", None, True)}],\n",
    "        {},\n",
    "        \"hello\",\n",
    "        \"world\",\n",
    "    ]\n",
    ")"
   ],
   "id": "ae18020a-7a33-4129-9fb3-c0cb81158ad7",
   "metadata": {},
   "execution_count": null
  },
  {
   "cell_type": "markdown",
   "source": [
    "## map_integer"
   ],
   "id": "d50593e0-85ae-482e-a3a1-b6fe687861bb",
   "metadata": {}
  },
  {
   "outputs": [],
   "cell_type": "code",
   "source": [
    "an_ = [\"a\", \"b\", \"b\", \"c\", None, None, np.nan, np.nan]"
   ],
   "id": "bf7e99a6-0cd1-4adf-92e1-1f51c548818c",
   "metadata": {},
   "execution_count": null
  },
  {
   "outputs": [],
   "cell_type": "code",
   "source": [
    "kwat.iterable.map_integer(an_)"
   ],
   "id": "ed09c1e1-a592-40a9-b3f7-a6a03d00981f",
   "metadata": {},
   "execution_count": null
  },
  {
   "outputs": [],
   "cell_type": "code",
   "source": [
    "kwat.iterable.map_integer(an_[::-1])"
   ],
   "id": "2f8c63e4-b8e9-4078-b3d1-b3bfac752842",
   "metadata": {},
   "execution_count": null
  }
 ],
 "nbformat_minor": 5,
 "metadata": {
  "language_info": {
   "file_extension": ".py",
   "mimetype": "text/x-python",
   "name": "python",
   "nbconvert_exporter": "python",
   "pygments_lexer": "ipython3",
   "codemirror_mode": {
    "name": "ipython",
    "version": 3
   },
   "version": "3.9.6"
  },
  "kernelspec": {
   "name": "python3",
   "display_name": "Python 3 (ipykernel)",
   "language": "python"
  }
 },
 "nbformat": 4
}
