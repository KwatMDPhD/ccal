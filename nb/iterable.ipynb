{
 "cells": [
  {
   "cell_type": "code",
   "execution_count": null,
   "id": "25e3de9e-a73e-41da-8552-66347f96fcd5",
   "metadata": {
    "execution": {
     "iopub.execute_input": "2021-08-25T07:04:28.125597Z",
     "iopub.status.busy": "2021-08-25T07:04:28.125014Z",
     "iopub.status.idle": "2021-08-25T07:04:28.138510Z",
     "shell.execute_reply": "2021-08-25T07:04:28.138842Z"
    },
    "tags": []
   },
   "outputs": [],
   "source": [
    "%load_ext autoreload\n",
    "%autoreload 2"
   ]
  },
  {
   "cell_type": "code",
   "execution_count": null,
   "id": "a03dd6c6-3d6f-42c3-8a29-94dd6b57920f",
   "metadata": {
    "execution": {
     "iopub.execute_input": "2021-08-25T07:04:28.142139Z",
     "iopub.status.busy": "2021-08-25T07:04:28.141628Z",
     "iopub.status.idle": "2021-08-25T07:04:28.798594Z",
     "shell.execute_reply": "2021-08-25T07:04:28.798917Z"
    },
    "tags": []
   },
   "outputs": [],
   "source": [
    "import kwat\n",
    "import numpy as np"
   ]
  },
  {
   "cell_type": "markdown",
   "id": "c2ccaecc-d8cc-40a8-844e-4e57ceb53f4d",
   "metadata": {},
   "source": [
    "## check_in"
   ]
  },
  {
   "cell_type": "code",
   "execution_count": null,
   "id": "b1aa34ee-36ce-446c-9702-cea82e16ce3e",
   "metadata": {
    "execution": {
     "iopub.execute_input": "2021-08-25T07:04:28.803475Z",
     "iopub.status.busy": "2021-08-25T07:04:28.802912Z",
     "iopub.status.idle": "2021-08-25T07:04:28.824537Z",
     "shell.execute_reply": "2021-08-25T07:04:28.825035Z"
    },
    "tags": []
   },
   "outputs": [],
   "source": [
    "for (an1_, an2_) in [\n",
    "    [[1, 10], range(10)],\n",
    "    [range(10), [1, 10]],\n",
    "    [\"az\", \"abc\"],\n",
    "    [[\"a\", \"z\"], \"abc\"],\n",
    "    [[], []],\n",
    "]:\n",
    "\n",
    "    print(kwat.iterable.check_in(an1_, an2_))"
   ]
  },
  {
   "cell_type": "markdown",
   "id": "bf7e2496-6ddc-4dda-af61-4aa3dfa1996e",
   "metadata": {},
   "source": [
    "## check"
   ]
  },
  {
   "cell_type": "code",
   "execution_count": null,
   "id": "7ab6c29c-b266-4fc2-8cc5-5b6c06bfe272",
   "metadata": {
    "execution": {
     "iopub.execute_input": "2021-08-25T07:04:28.828583Z",
     "iopub.status.busy": "2021-08-25T07:04:28.827997Z",
     "iopub.status.idle": "2021-08-25T07:04:28.849492Z",
     "shell.execute_reply": "2021-08-25T07:04:28.850064Z"
    },
    "tags": []
   },
   "outputs": [],
   "source": [
    "for an_ in [[], (), \"\", {}, 1, True, None]:\n",
    "\n",
    "    print(kwat.iterable.check(an_))"
   ]
  },
  {
   "cell_type": "markdown",
   "id": "e8d9db8d-3e5e-4d50-b14f-93270947deb4",
   "metadata": {},
   "source": [
    "## flatten"
   ]
  },
  {
   "cell_type": "code",
   "execution_count": null,
   "id": "ae18020a-7a33-4129-9fb3-c0cb81158ad7",
   "metadata": {
    "execution": {
     "iopub.execute_input": "2021-08-25T07:04:28.853895Z",
     "iopub.status.busy": "2021-08-25T07:04:28.853356Z",
     "iopub.status.idle": "2021-08-25T07:04:28.877701Z",
     "shell.execute_reply": "2021-08-25T07:04:28.878062Z"
    },
    "tags": []
   },
   "outputs": [],
   "source": [
    "kwat.iterable.flatten(\n",
    "    [\n",
    "        (),\n",
    "        [],\n",
    "        set(),\n",
    "        (1, [2, {3, 4}]),\n",
    "        [\"ab\", {\"cd\", (\"ef\", None, True)}],\n",
    "        {},\n",
    "        \"hello\",\n",
    "        \"world\",\n",
    "    ]\n",
    ")"
   ]
  },
  {
   "cell_type": "markdown",
   "id": "d50593e0-85ae-482e-a3a1-b6fe687861bb",
   "metadata": {},
   "source": [
    "## map_integer"
   ]
  },
  {
   "cell_type": "code",
   "execution_count": null,
   "id": "bf7e99a6-0cd1-4adf-92e1-1f51c548818c",
   "metadata": {
    "execution": {
     "iopub.execute_input": "2021-08-25T07:04:28.881618Z",
     "iopub.status.busy": "2021-08-25T07:04:28.881118Z",
     "iopub.status.idle": "2021-08-25T07:04:28.900517Z",
     "shell.execute_reply": "2021-08-25T07:04:28.900878Z"
    },
    "tags": []
   },
   "outputs": [],
   "source": [
    "an_ = [\"a\", \"b\", \"b\", \"c\", None, None, np.nan, np.nan]"
   ]
  },
  {
   "cell_type": "code",
   "execution_count": null,
   "id": "ed09c1e1-a592-40a9-b3f7-a6a03d00981f",
   "metadata": {
    "execution": {
     "iopub.execute_input": "2021-08-25T07:04:28.904736Z",
     "iopub.status.busy": "2021-08-25T07:04:28.904179Z",
     "iopub.status.idle": "2021-08-25T07:04:28.925322Z",
     "shell.execute_reply": "2021-08-25T07:04:28.925651Z"
    },
    "tags": []
   },
   "outputs": [],
   "source": [
    "kwat.iterable.map_integer(an_)"
   ]
  },
  {
   "cell_type": "code",
   "execution_count": null,
   "id": "2f8c63e4-b8e9-4078-b3d1-b3bfac752842",
   "metadata": {
    "execution": {
     "iopub.execute_input": "2021-08-25T07:04:28.929520Z",
     "iopub.status.busy": "2021-08-25T07:04:28.928790Z",
     "iopub.status.idle": "2021-08-25T07:04:28.951760Z",
     "shell.execute_reply": "2021-08-25T07:04:28.952347Z"
    },
    "tags": []
   },
   "outputs": [],
   "source": [
    "kwat.iterable.map_integer(an_[::-1])"
   ]
  }
 ],
 "metadata": {
  "kernelspec": {
   "display_name": "Python 3 (ipykernel)",
   "language": "python",
   "name": "python3"
  },
  "language_info": {
   "codemirror_mode": {
    "name": "ipython",
    "version": 3
   },
   "file_extension": ".py",
   "mimetype": "text/x-python",
   "name": "python",
   "nbconvert_exporter": "python",
   "pygments_lexer": "ipython3",
   "version": "3.9.6"
  }
 },
 "nbformat": 4,
 "nbformat_minor": 5
}
