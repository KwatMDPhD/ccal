{
 "cells": [
  {
   "cell_type": "code",
   "execution_count": null,
   "id": "25e3de9e-a73e-41da-8552-66347f96fcd5",
   "metadata": {
    "execution": {
     "iopub.execute_input": "2021-08-23T06:01:14.817992Z",
     "iopub.status.busy": "2021-08-23T06:01:14.817216Z",
     "iopub.status.idle": "2021-08-23T06:01:14.831995Z",
     "shell.execute_reply": "2021-08-23T06:01:14.832553Z"
    },
    "tags": []
   },
   "outputs": [],
   "source": [
    "%load_ext autoreload\n",
    "%autoreload 2"
   ]
  },
  {
   "cell_type": "code",
   "execution_count": null,
   "id": "a03dd6c6-3d6f-42c3-8a29-94dd6b57920f",
   "metadata": {
    "execution": {
     "iopub.execute_input": "2021-08-23T06:01:14.836154Z",
     "iopub.status.busy": "2021-08-23T06:01:14.835554Z",
     "iopub.status.idle": "2021-08-23T06:01:15.491211Z",
     "shell.execute_reply": "2021-08-23T06:01:15.491555Z"
    },
    "tags": []
   },
   "outputs": [],
   "source": [
    "import numpy as np\n",
    "\n",
    "import kwat"
   ]
  },
  {
   "cell_type": "markdown",
   "id": "c2ccaecc-d8cc-40a8-844e-4e57ceb53f4d",
   "metadata": {},
   "source": [
    "## check_is_in"
   ]
  },
  {
   "cell_type": "code",
   "execution_count": null,
   "id": "b1aa34ee-36ce-446c-9702-cea82e16ce3e",
   "metadata": {
    "execution": {
     "iopub.execute_input": "2021-08-23T06:01:15.496556Z",
     "iopub.status.busy": "2021-08-23T06:01:15.495969Z",
     "iopub.status.idle": "2021-08-23T06:01:15.518827Z",
     "shell.execute_reply": "2021-08-23T06:01:15.519252Z"
    },
    "tags": []
   },
   "outputs": [],
   "source": [
    "for (an1_, an2_) in [\n",
    "    [[1, 10], range(10)],\n",
    "    [range(10), [1, 10]],\n",
    "    [\"az\", \"abc\"],\n",
    "    [[\"a\", \"z\"], \"abc\"],\n",
    "    [[], []],\n",
    "]:\n",
    "\n",
    "    print(kwat.iterable.check_is_in(an1_, an2_))"
   ]
  },
  {
   "cell_type": "markdown",
   "id": "bf7e2496-6ddc-4dda-af61-4aa3dfa1996e",
   "metadata": {},
   "source": [
    "## check_is_iterable"
   ]
  },
  {
   "cell_type": "code",
   "execution_count": null,
   "id": "7ab6c29c-b266-4fc2-8cc5-5b6c06bfe272",
   "metadata": {
    "execution": {
     "iopub.execute_input": "2021-08-23T06:01:15.522842Z",
     "iopub.status.busy": "2021-08-23T06:01:15.522267Z",
     "iopub.status.idle": "2021-08-23T06:01:15.544386Z",
     "shell.execute_reply": "2021-08-23T06:01:15.544806Z"
    },
    "tags": []
   },
   "outputs": [],
   "source": [
    "for an_ in [[], (), \"\", {}, 1, True, None]:\n",
    "\n",
    "    print(kwat.iterable.check_is_iterable(an_))"
   ]
  },
  {
   "cell_type": "markdown",
   "id": "e8d9db8d-3e5e-4d50-b14f-93270947deb4",
   "metadata": {},
   "source": [
    "## flatten"
   ]
  },
  {
   "cell_type": "code",
   "execution_count": null,
   "id": "ae18020a-7a33-4129-9fb3-c0cb81158ad7",
   "metadata": {
    "execution": {
     "iopub.execute_input": "2021-08-23T06:01:15.548386Z",
     "iopub.status.busy": "2021-08-23T06:01:15.547859Z",
     "iopub.status.idle": "2021-08-23T06:01:15.572475Z",
     "shell.execute_reply": "2021-08-23T06:01:15.572894Z"
    },
    "tags": []
   },
   "outputs": [],
   "source": [
    "kwat.iterable.flatten(\n",
    "    [\n",
    "        (),\n",
    "        [],\n",
    "        set(),\n",
    "        (1, [2, {3, 4}]),\n",
    "        [\"ab\", {\"cd\", (\"ef\", None, True)}],\n",
    "        {},\n",
    "        \"hello\",\n",
    "        \"world\",\n",
    "    ]\n",
    ")"
   ]
  },
  {
   "cell_type": "markdown",
   "id": "d50593e0-85ae-482e-a3a1-b6fe687861bb",
   "metadata": {},
   "source": [
    "## map_integer"
   ]
  },
  {
   "cell_type": "code",
   "execution_count": null,
   "id": "bf7e99a6-0cd1-4adf-92e1-1f51c548818c",
   "metadata": {
    "execution": {
     "iopub.execute_input": "2021-08-23T06:01:15.576441Z",
     "iopub.status.busy": "2021-08-23T06:01:15.575862Z",
     "iopub.status.idle": "2021-08-23T06:01:15.596432Z",
     "shell.execute_reply": "2021-08-23T06:01:15.596800Z"
    },
    "tags": []
   },
   "outputs": [],
   "source": [
    "an_ = [\"a\", \"b\", \"b\", \"c\", None, None, np.nan, np.nan]"
   ]
  },
  {
   "cell_type": "code",
   "execution_count": null,
   "id": "ed09c1e1-a592-40a9-b3f7-a6a03d00981f",
   "metadata": {
    "execution": {
     "iopub.execute_input": "2021-08-23T06:01:15.600420Z",
     "iopub.status.busy": "2021-08-23T06:01:15.599886Z",
     "iopub.status.idle": "2021-08-23T06:01:15.621197Z",
     "shell.execute_reply": "2021-08-23T06:01:15.621698Z"
    },
    "tags": []
   },
   "outputs": [],
   "source": [
    "kwat.iterable.map_integer(an_)"
   ]
  },
  {
   "cell_type": "code",
   "execution_count": null,
   "id": "2f8c63e4-b8e9-4078-b3d1-b3bfac752842",
   "metadata": {
    "execution": {
     "iopub.execute_input": "2021-08-23T06:01:15.624946Z",
     "iopub.status.busy": "2021-08-23T06:01:15.624367Z",
     "iopub.status.idle": "2021-08-23T06:01:15.647171Z",
     "shell.execute_reply": "2021-08-23T06:01:15.647703Z"
    },
    "tags": []
   },
   "outputs": [],
   "source": [
    "kwat.iterable.map_integer(an_[::-1])"
   ]
  }
 ],
 "metadata": {
  "kernelspec": {
   "display_name": "Python 3 (ipykernel)",
   "language": "python",
   "name": "python3"
  },
  "language_info": {
   "codemirror_mode": {
    "name": "ipython",
    "version": 3
   },
   "file_extension": ".py",
   "mimetype": "text/x-python",
   "name": "python",
   "nbconvert_exporter": "python",
   "pygments_lexer": "ipython3",
   "version": "3.9.6"
  }
 },
 "nbformat": 4,
 "nbformat_minor": 5
}
