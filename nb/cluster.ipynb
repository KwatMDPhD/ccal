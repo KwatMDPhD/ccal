{
 "cells": [
  {
   "cell_type": "code",
   "execution_count": null,
   "metadata": {
    "execution": {
     "iopub.execute_input": "2021-08-25T07:02:24.428850Z",
     "iopub.status.busy": "2021-08-25T07:02:24.428083Z",
     "iopub.status.idle": "2021-08-25T07:02:24.445630Z",
     "shell.execute_reply": "2021-08-25T07:02:24.444972Z"
    },
    "tags": []
   },
   "outputs": [],
   "source": [
    "%load_ext autoreload\n",
    "%autoreload 2"
   ]
  },
  {
   "cell_type": "code",
   "execution_count": null,
   "metadata": {
    "execution": {
     "iopub.execute_input": "2021-08-25T07:02:24.449031Z",
     "iopub.status.busy": "2021-08-25T07:02:24.448441Z",
     "iopub.status.idle": "2021-08-25T07:02:25.052471Z",
     "shell.execute_reply": "2021-08-25T07:02:25.052808Z"
    },
    "tags": []
   },
   "outputs": [],
   "source": [
    "import numpy as np\n",
    "import pandas as pd\n",
    "\n",
    "import kwat"
   ]
  },
  {
   "cell_type": "markdown",
   "metadata": {},
   "source": [
    "## _get_coclustering_distance"
   ]
  },
  {
   "cell_type": "code",
   "execution_count": null,
   "metadata": {
    "execution": {
     "iopub.execute_input": "2021-08-25T07:02:25.056741Z",
     "iopub.status.busy": "2021-08-25T07:02:25.056166Z",
     "iopub.status.idle": "2021-08-25T07:02:25.081387Z",
     "shell.execute_reply": "2021-08-25T07:02:25.081741Z"
    },
    "tags": []
   },
   "outputs": [],
   "source": [
    "cl_po_tr = np.array(\n",
    "    [\n",
    "        [1, 0, 1],\n",
    "        [1, 0, 0],\n",
    "        [np.nan, 1, np.nan],\n",
    "        [np.nan, 1, 1],\n",
    "    ]\n",
    ")\n",
    "\n",
    "kwat.cluster._get_coclustering_distance(cl_po_tr)"
   ]
  },
  {
   "cell_type": "markdown",
   "metadata": {},
   "source": [
    "## cluster"
   ]
  },
  {
   "cell_type": "code",
   "execution_count": null,
   "metadata": {
    "execution": {
     "iopub.execute_input": "2021-08-25T07:02:25.085457Z",
     "iopub.status.busy": "2021-08-25T07:02:25.084913Z",
     "iopub.status.idle": "2021-08-25T07:02:25.104700Z",
     "shell.execute_reply": "2021-08-25T07:02:25.105211Z"
    },
    "tags": []
   },
   "outputs": [],
   "source": [
    "nu_po_di = np.array(\n",
    "    [\n",
    "        [9, 19, 9, 19, 9],\n",
    "        [0, 10, 0, 10, 0],\n",
    "        [1, 11, 1, 11, 1],\n",
    "        [8, 18, 8, 18, 8],\n",
    "    ]\n",
    ")\n",
    "\n",
    "for n_cl in [0, 1, 2, 1000]:\n",
    "\n",
    "    print(kwat.cluster.cluster(nu_po_di, n_cl=n_cl))"
   ]
  },
  {
   "cell_type": "markdown",
   "metadata": {},
   "source": [
    "## cluster_consensus"
   ]
  },
  {
   "cell_type": "code",
   "execution_count": null,
   "metadata": {
    "execution": {
     "iopub.execute_input": "2021-08-25T07:02:25.110243Z",
     "iopub.status.busy": "2021-08-25T07:02:25.109718Z",
     "iopub.status.idle": "2021-08-25T07:02:32.401985Z",
     "shell.execute_reply": "2021-08-25T07:02:32.402327Z"
    },
    "tags": []
   },
   "outputs": [],
   "source": [
    "nu_po_di = np.random.random_sample([80, 160])\n",
    "\n",
    "nu_po_di[0::4, :] *= 1\n",
    "\n",
    "nu_po_di[1::4, :] *= 2\n",
    "\n",
    "nu_po_di[2::4, :] *= 3\n",
    "\n",
    "nu_po_di[3::4, :] *= 4\n",
    "\n",
    "for n_cl in [2, 4, 8]:\n",
    "\n",
    "    for op in [False, True]:\n",
    "\n",
    "        ie_, cl_ = kwat.cluster.cluster_consensus(nu_po_di, n_cl, op=op)\n",
    "\n",
    "        la1_ = pd.Index(\n",
    "            (\"Ka{}\".format(ie) for ie in range(nu_po_di.shape[0])),\n",
    "            name=\"Dimension 1\",\n",
    "        )\n",
    "\n",
    "        kwat.plot.plot_heat_map(\n",
    "            pd.DataFrame(\n",
    "                nu_po_di,\n",
    "                la1_,\n",
    "                pd.Index(\n",
    "                    (\"Kw{}\".format(ie) for ie in range(nu_po_di.shape[1])),\n",
    "                    name=\"Dimension 2\",\n",
    "                ),\n",
    "            ).iloc[ie_],\n",
    "            layout={\n",
    "                \"title\": {\n",
    "                    \"text\": \"n_cl={}, op={}\".format(n_cl, op),\n",
    "                },\n",
    "            },\n",
    "        )"
   ]
  }
 ],
 "metadata": {
  "kernelspec": {
   "display_name": "Python 3 (ipykernel)",
   "language": "python",
   "name": "python3"
  },
  "language_info": {
   "codemirror_mode": {
    "name": "ipython",
    "version": 3
   },
   "file_extension": ".py",
   "mimetype": "text/x-python",
   "name": "python",
   "nbconvert_exporter": "python",
   "pygments_lexer": "ipython3",
   "version": "3.9.6"
  }
 },
 "nbformat": 4,
 "nbformat_minor": 4
}
