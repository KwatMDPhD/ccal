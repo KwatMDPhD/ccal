{
 "cells": [
  {
   "outputs": [],
   "cell_type": "code",
   "source": [
    "%load_ext autoreload\n",
    "%autoreload 2"
   ],
   "metadata": {},
   "execution_count": null
  },
  {
   "outputs": [],
   "cell_type": "code",
   "source": [
    "import kwat\n",
    "import numpy as np\n",
    "import pandas as pd"
   ],
   "metadata": {},
   "execution_count": null
  },
  {
   "cell_type": "markdown",
   "source": [
    "## _get_coclustering_distance"
   ],
   "metadata": {}
  },
  {
   "outputs": [],
   "cell_type": "code",
   "source": [
    "cl_po_tr = np.array([[1, 0, 1], [1, 0, 0], [np.nan, 1, np.nan], [np.nan, 1, 1]])\n",
    "\n",
    "kwat.cluster._get_coclustering_distance(cl_po_tr)"
   ],
   "metadata": {},
   "execution_count": null
  },
  {
   "cell_type": "markdown",
   "source": [
    "## cluster"
   ],
   "metadata": {}
  },
  {
   "outputs": [],
   "cell_type": "code",
   "source": [
    "nu_po_di = np.array(\n",
    "    [[9, 19, 9, 19, 9], [0, 10, 0, 10, 0], [1, 11, 1, 11, 1], [8, 18, 8, 18, 8]]\n",
    ")\n",
    "\n",
    "for n_cl in [0, 1, 2, 1000]:\n",
    "    print(kwat.cluster.cluster(nu_po_di, n_cl=n_cl))"
   ],
   "metadata": {},
   "execution_count": null
  },
  {
   "cell_type": "markdown",
   "source": [
    "## cluster_consensus"
   ],
   "metadata": {}
  },
  {
   "outputs": [],
   "cell_type": "code",
   "source": [
    "nu_po_di = np.random.random_sample([80, 160])\n",
    "\n",
    "nu_po_di[0::4, :] *= 1\n",
    "\n",
    "nu_po_di[1::4, :] *= 2\n",
    "\n",
    "nu_po_di[2::4, :] *= 3\n",
    "\n",
    "nu_po_di[3::4, :] *= 4\n",
    "\n",
    "for n_cl in [2, 4, 8]:\n",
    "    for op in [False, True]:\n",
    "        ie_, cl_ = kwat.cluster.cluster_consensus(nu_po_di, n_cl, op=op)\n",
    "\n",
    "        la1_ = pd.Index(\n",
    "            (\"Ka{}\".format(ie) for ie in range(nu_po_di.shape[0])), name=\"Dimension 1\"\n",
    "        )\n",
    "\n",
    "        kwat.plot.plot_heat_map(\n",
    "            pd.DataFrame(\n",
    "                nu_po_di,\n",
    "                la1_,\n",
    "                pd.Index(\n",
    "                    (\"Kw{}\".format(ie) for ie in range(nu_po_di.shape[1])),\n",
    "                    name=\"Dimension 2\",\n",
    "                ),\n",
    "            ).iloc[ie_],\n",
    "            layout={\"title\": {\"text\": \"n_cl={}, op={}\".format(n_cl, op)}},\n",
    "        )"
   ],
   "metadata": {},
   "execution_count": null
  }
 ],
 "nbformat_minor": 4,
 "metadata": {
  "language_info": {
   "file_extension": ".py",
   "mimetype": "text/x-python",
   "name": "python",
   "nbconvert_exporter": "python",
   "pygments_lexer": "ipython3",
   "codemirror_mode": {
    "name": "ipython",
    "version": 3
   },
   "version": "3.9.6"
  },
  "kernelspec": {
   "name": "python3",
   "display_name": "Python 3 (ipykernel)",
   "language": "python"
  }
 },
 "nbformat": 4
}
