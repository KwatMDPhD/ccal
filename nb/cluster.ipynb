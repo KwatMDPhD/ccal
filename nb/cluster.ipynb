{
 "cells": [
  {
   "cell_type": "code",
   "execution_count": null,
   "metadata": {
    "execution": {
     "iopub.execute_input": "2021-07-23T23:06:50.636905Z",
     "iopub.status.busy": "2021-07-23T23:06:50.636296Z",
     "iopub.status.idle": "2021-07-23T23:06:50.649831Z",
     "shell.execute_reply": "2021-07-23T23:06:50.650241Z"
    },
    "tags": []
   },
   "outputs": [],
   "source": [
    "%load_ext autoreload\n",
    "%autoreload 2"
   ]
  },
  {
   "cell_type": "code",
   "execution_count": null,
   "metadata": {
    "execution": {
     "iopub.execute_input": "2021-07-23T23:06:50.653770Z",
     "iopub.status.busy": "2021-07-23T23:06:50.653190Z",
     "iopub.status.idle": "2021-07-23T23:06:51.317661Z",
     "shell.execute_reply": "2021-07-23T23:06:51.317063Z"
    },
    "tags": []
   },
   "outputs": [],
   "source": [
    "import kwat"
   ]
  },
  {
   "cell_type": "markdown",
   "metadata": {},
   "source": [
    "## cluster"
   ]
  },
  {
   "cell_type": "code",
   "execution_count": null,
   "metadata": {
    "execution": {
     "iopub.execute_input": "2021-07-23T23:06:51.321812Z",
     "iopub.status.busy": "2021-07-23T23:06:51.321245Z",
     "iopub.status.idle": "2021-07-23T23:06:51.341306Z",
     "shell.execute_reply": "2021-07-23T23:06:51.340713Z"
    },
    "tags": []
   },
   "outputs": [],
   "source": [
    "import numpy as np"
   ]
  },
  {
   "cell_type": "code",
   "execution_count": null,
   "metadata": {
    "execution": {
     "iopub.execute_input": "2021-07-23T23:06:51.345434Z",
     "iopub.status.busy": "2021-07-23T23:06:51.344837Z",
     "iopub.status.idle": "2021-07-23T23:06:51.365957Z",
     "shell.execute_reply": "2021-07-23T23:06:51.366366Z"
    },
    "tags": []
   },
   "outputs": [],
   "source": [
    "nu_po_di = np.array(\n",
    "    [\n",
    "        [9, 19, 9, 19, 9],\n",
    "        [0, 10, 0, 10, 0],\n",
    "        [1, 11, 1, 11, 1],\n",
    "        [8, 18, 8, 18, 8],\n",
    "    ]\n",
    ")\n",
    "\n",
    "for n_cl in [0, 1, 2, 1000]:\n",
    "\n",
    "    print(kwat.cluster.cluster(nu_po_di, n_cl=n_cl))"
   ]
  },
  {
   "cell_type": "markdown",
   "metadata": {},
   "source": [
    "## _get_coclustering_distance"
   ]
  },
  {
   "cell_type": "code",
   "execution_count": null,
   "metadata": {
    "execution": {
     "iopub.execute_input": "2021-07-23T23:06:51.370113Z",
     "iopub.status.busy": "2021-07-23T23:06:51.369520Z",
     "iopub.status.idle": "2021-07-23T23:06:51.394802Z",
     "shell.execute_reply": "2021-07-23T23:06:51.395216Z"
    },
    "tags": []
   },
   "outputs": [],
   "source": [
    "cl_po_tr = np.array(\n",
    "    [\n",
    "        [1, 0, 1],\n",
    "        [1, 0, 0],\n",
    "        [np.nan, 1, np.nan],\n",
    "        [np.nan, 1, 1],\n",
    "    ]\n",
    ")\n",
    "\n",
    "kwat.cluster._get_coclustering_distance(cl_po_tr)"
   ]
  },
  {
   "cell_type": "markdown",
   "metadata": {},
   "source": [
    "## cluster_consensus"
   ]
  },
  {
   "cell_type": "code",
   "execution_count": null,
   "metadata": {
    "execution": {
     "iopub.execute_input": "2021-07-23T23:06:51.398579Z",
     "iopub.status.busy": "2021-07-23T23:06:51.397915Z",
     "iopub.status.idle": "2021-07-23T23:06:51.417183Z",
     "shell.execute_reply": "2021-07-23T23:06:51.417554Z"
    },
    "tags": []
   },
   "outputs": [],
   "source": [
    "import pandas as pd"
   ]
  },
  {
   "cell_type": "code",
   "execution_count": null,
   "metadata": {
    "execution": {
     "iopub.execute_input": "2021-07-23T23:06:51.423108Z",
     "iopub.status.busy": "2021-07-23T23:06:51.422522Z",
     "iopub.status.idle": "2021-07-23T23:06:59.880794Z",
     "shell.execute_reply": "2021-07-23T23:06:59.881209Z"
    },
    "tags": []
   },
   "outputs": [],
   "source": [
    "nu_po_di = np.random.random_sample([80, 160])\n",
    "\n",
    "nu_po_di[0::4, :] *= 1\n",
    "\n",
    "nu_po_di[1::4, :] *= 2\n",
    "\n",
    "nu_po_di[2::4, :] *= 3\n",
    "\n",
    "nu_po_di[3::4, :] *= 4\n",
    "\n",
    "for n_cl in [2, 4, 8]:\n",
    "\n",
    "    for op in [False, True]:\n",
    "\n",
    "        ie_, cl_ = kwat.cluster.cluster_consensus(nu_po_di, n_cl, op=op)\n",
    "\n",
    "        la1_ = pd.Index(\n",
    "            (\"Ka{}\".format(ie) for ie in range(nu_po_di.shape[0])),\n",
    "            name=\"Dimension 1\",\n",
    "        )\n",
    "\n",
    "        kwat.plot.plot_heat_map(\n",
    "            pd.DataFrame(\n",
    "                nu_po_di,\n",
    "                la1_,\n",
    "                pd.Index(\n",
    "                    (\"Kw{}\".format(ie) for ie in range(nu_po_di.shape[1])),\n",
    "                    name=\"Dimension 2\",\n",
    "                ),\n",
    "            ).iloc[ie_],\n",
    "            layout={\n",
    "                \"title\": {\n",
    "                    \"text\": \"n_cl={}, op={}\".format(n_cl, op),\n",
    "                },\n",
    "            },\n",
    "        )"
   ]
  }
 ],
 "metadata": {
  "kernelspec": {
   "display_name": "Python 3 (ipykernel)",
   "language": "python",
   "name": "python3"
  },
  "language_info": {
   "codemirror_mode": {
    "name": "ipython",
    "version": 3
   },
   "file_extension": ".py",
   "mimetype": "text/x-python",
   "name": "python",
   "nbconvert_exporter": "python",
   "pygments_lexer": "ipython3",
   "version": "3.9.6"
  }
 },
 "nbformat": 4,
 "nbformat_minor": 4
}
