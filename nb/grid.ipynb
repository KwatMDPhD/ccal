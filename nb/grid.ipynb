{
 "cells": [
  {
   "cell_type": "code",
   "execution_count": null,
   "metadata": {
    "execution": {
     "iopub.execute_input": "2021-08-25T07:04:07.211194Z",
     "iopub.status.busy": "2021-08-25T07:04:07.210591Z",
     "iopub.status.idle": "2021-08-25T07:04:07.222164Z",
     "shell.execute_reply": "2021-08-25T07:04:07.222523Z"
    },
    "tags": []
   },
   "outputs": [],
   "source": [
    "%load_ext autoreload\n",
    "%autoreload 2"
   ]
  },
  {
   "cell_type": "code",
   "execution_count": null,
   "metadata": {
    "execution": {
     "iopub.execute_input": "2021-08-25T07:04:07.225721Z",
     "iopub.status.busy": "2021-08-25T07:04:07.225221Z",
     "iopub.status.idle": "2021-08-25T07:04:07.870672Z",
     "shell.execute_reply": "2021-08-25T07:04:07.871099Z"
    },
    "tags": []
   },
   "outputs": [],
   "source": [
    "import kwat"
   ]
  },
  {
   "cell_type": "markdown",
   "metadata": {},
   "source": [
    "## make_1d_grid"
   ]
  },
  {
   "cell_type": "code",
   "execution_count": null,
   "metadata": {
    "execution": {
     "iopub.execute_input": "2021-08-25T07:04:07.874956Z",
     "iopub.status.busy": "2021-08-25T07:04:07.874457Z",
     "iopub.status.idle": "2021-08-25T07:04:07.897769Z",
     "shell.execute_reply": "2021-08-25T07:04:07.898212Z"
    },
    "tags": []
   },
   "outputs": [],
   "source": [
    "for fr in [0, 0.1]:\n",
    "\n",
    "    print()\n",
    "\n",
    "    print(fr)\n",
    "\n",
    "    for n_co in [4, 8]:\n",
    "\n",
    "        print(n_co)\n",
    "\n",
    "        print(kwat.grid.make_1d_grid(-1, 2, fr, n_co))"
   ]
  },
  {
   "cell_type": "markdown",
   "metadata": {},
   "source": [
    "## reflect"
   ]
  },
  {
   "cell_type": "code",
   "execution_count": null,
   "metadata": {
    "execution": {
     "iopub.execute_input": "2021-08-25T07:04:07.901797Z",
     "iopub.status.busy": "2021-08-25T07:04:07.901198Z",
     "iopub.status.idle": "2021-08-25T07:04:07.924743Z",
     "shell.execute_reply": "2021-08-25T07:04:07.925189Z"
    },
    "tags": []
   },
   "outputs": [],
   "source": [
    "import numpy as np"
   ]
  },
  {
   "cell_type": "code",
   "execution_count": null,
   "metadata": {
    "execution": {
     "iopub.execute_input": "2021-08-25T07:04:07.928878Z",
     "iopub.status.busy": "2021-08-25T07:04:07.928273Z",
     "iopub.status.idle": "2021-08-25T07:04:07.957481Z",
     "shell.execute_reply": "2021-08-25T07:04:07.958080Z"
    },
    "tags": []
   },
   "outputs": [],
   "source": [
    "kwat.grid.reflect(np.array([-1, 0, 1, 2]), 0)"
   ]
  },
  {
   "cell_type": "markdown",
   "metadata": {},
   "source": [
    "## get_1d_grid_resolution"
   ]
  },
  {
   "cell_type": "code",
   "execution_count": null,
   "metadata": {
    "execution": {
     "iopub.execute_input": "2021-08-25T07:04:07.961582Z",
     "iopub.status.busy": "2021-08-25T07:04:07.960986Z",
     "iopub.status.idle": "2021-08-25T07:04:07.985080Z",
     "shell.execute_reply": "2021-08-25T07:04:07.985518Z"
    },
    "tags": []
   },
   "outputs": [],
   "source": [
    "kwat.grid.get_1d_grid_resolution(np.array([-1, 0, 1, 2, 2.1]))"
   ]
  },
  {
   "cell_type": "markdown",
   "metadata": {},
   "source": [
    "## get_1d_grid"
   ]
  },
  {
   "cell_type": "code",
   "execution_count": null,
   "metadata": {
    "execution": {
     "iopub.execute_input": "2021-08-25T07:04:07.989847Z",
     "iopub.status.busy": "2021-08-25T07:04:07.989253Z",
     "iopub.status.idle": "2021-08-25T07:04:08.013350Z",
     "shell.execute_reply": "2021-08-25T07:04:08.012897Z"
    },
    "tags": []
   },
   "outputs": [],
   "source": [
    "for co_po_di in [\n",
    "    [[-1], [0], [2], [2]],\n",
    "    [[0, -1], [0, 0], [0, 2], [0, 2]],\n",
    "    [[2, 0], [0, 0], [-1, 0]],\n",
    "]:\n",
    "\n",
    "    co_po_di = np.array(co_po_di)\n",
    "\n",
    "    print(kwat.grid.get_1d_grid(co_po_di))"
   ]
  },
  {
   "cell_type": "markdown",
   "metadata": {},
   "source": [
    "## make_nd_grid"
   ]
  },
  {
   "cell_type": "code",
   "execution_count": null,
   "metadata": {
    "execution": {
     "iopub.execute_input": "2021-08-25T07:04:08.016832Z",
     "iopub.status.busy": "2021-08-25T07:04:08.016262Z",
     "iopub.status.idle": "2021-08-25T07:04:08.040180Z",
     "shell.execute_reply": "2021-08-25T07:04:08.040641Z"
    },
    "tags": []
   },
   "outputs": [],
   "source": [
    "kwat.grid.make_nd_grid([np.array([-1, 0, 1]), np.array([-2, 4])])"
   ]
  },
  {
   "cell_type": "markdown",
   "metadata": {},
   "source": [
    "## plot"
   ]
  },
  {
   "cell_type": "code",
   "execution_count": null,
   "metadata": {
    "execution": {
     "iopub.execute_input": "2021-08-25T07:04:08.047400Z",
     "iopub.status.busy": "2021-08-25T07:04:08.046766Z",
     "iopub.status.idle": "2021-08-25T07:04:08.370117Z",
     "shell.execute_reply": "2021-08-25T07:04:08.370472Z"
    },
    "tags": []
   },
   "outputs": [],
   "source": [
    "for (co_po_di, nu_) in [\n",
    "    [[[-1], [0], [1]], [-1, 0, 2]],\n",
    "    [[[-1, 0], [0, 0], [1, 0]], [-1, 0, 2]],\n",
    "    [[[-1, -1], [0, -1], [1, -1], [-1, 1], [0, 1], [1, 1]], [-1, 0, 2, 4, 8, 16]],\n",
    "    [\n",
    "        [[-1, -1], [0, -1], [1, -1], [-1, 0], [0, 0], [1, 0], [-1, 1], [0, 1], [1, 1]],\n",
    "        [-1, 0, 2, 4, 8, 16, 32, 64, 128],\n",
    "    ],\n",
    "    [\n",
    "        [\n",
    "            [0, 2, 4],\n",
    "            [1, 2, 4],\n",
    "            [0, 3, 4],\n",
    "            [1, 3, 4],\n",
    "            [0, 2, 5],\n",
    "            [1, 2, 5],\n",
    "            [0, 3, 5],\n",
    "            [1, 3, 5],\n",
    "        ],\n",
    "        np.arange(8),\n",
    "    ],\n",
    "]:\n",
    "\n",
    "    kwat.grid.plot(np.array(co_po_di), np.array(nu_))"
   ]
  }
 ],
 "metadata": {
  "kernelspec": {
   "display_name": "Python 3 (ipykernel)",
   "language": "python",
   "name": "python3"
  },
  "language_info": {
   "codemirror_mode": {
    "name": "ipython",
    "version": 3
   },
   "file_extension": ".py",
   "mimetype": "text/x-python",
   "name": "python",
   "nbconvert_exporter": "python",
   "pygments_lexer": "ipython3",
   "version": "3.9.6"
  }
 },
 "nbformat": 4,
 "nbformat_minor": 4
}
