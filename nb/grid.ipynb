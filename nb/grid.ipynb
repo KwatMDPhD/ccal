{
 "cells": [
  {
   "cell_type": "code",
   "execution_count": null,
   "metadata": {
    "execution": {
     "iopub.execute_input": "2021-08-23T06:01:07.926788Z",
     "iopub.status.busy": "2021-08-23T06:01:07.926008Z",
     "iopub.status.idle": "2021-08-23T06:01:07.941514Z",
     "shell.execute_reply": "2021-08-23T06:01:07.941946Z"
    },
    "tags": []
   },
   "outputs": [],
   "source": [
    "%load_ext autoreload\n",
    "%autoreload 2"
   ]
  },
  {
   "cell_type": "code",
   "execution_count": null,
   "metadata": {
    "execution": {
     "iopub.execute_input": "2021-08-23T06:01:07.945845Z",
     "iopub.status.busy": "2021-08-23T06:01:07.945138Z",
     "iopub.status.idle": "2021-08-23T06:01:08.600693Z",
     "shell.execute_reply": "2021-08-23T06:01:08.601031Z"
    },
    "tags": []
   },
   "outputs": [],
   "source": [
    "import kwat"
   ]
  },
  {
   "cell_type": "markdown",
   "metadata": {},
   "source": [
    "## make_1d_grid"
   ]
  },
  {
   "cell_type": "code",
   "execution_count": null,
   "metadata": {
    "execution": {
     "iopub.execute_input": "2021-08-23T06:01:08.605571Z",
     "iopub.status.busy": "2021-08-23T06:01:08.604992Z",
     "iopub.status.idle": "2021-08-23T06:01:08.626334Z",
     "shell.execute_reply": "2021-08-23T06:01:08.626754Z"
    },
    "tags": []
   },
   "outputs": [],
   "source": [
    "for fr in [0, 0.1]:\n",
    "\n",
    "    print()\n",
    "\n",
    "    print(fr)\n",
    "\n",
    "    for n_co in [4, 8]:\n",
    "\n",
    "        print(n_co)\n",
    "\n",
    "        print(kwat.grid.make_1d_grid(-1, 2, fr, n_co))"
   ]
  },
  {
   "cell_type": "markdown",
   "metadata": {},
   "source": [
    "## reflect_1d_grid"
   ]
  },
  {
   "cell_type": "code",
   "execution_count": null,
   "metadata": {
    "execution": {
     "iopub.execute_input": "2021-08-23T06:01:08.629575Z",
     "iopub.status.busy": "2021-08-23T06:01:08.629074Z",
     "iopub.status.idle": "2021-08-23T06:01:08.647821Z",
     "shell.execute_reply": "2021-08-23T06:01:08.648184Z"
    },
    "tags": []
   },
   "outputs": [],
   "source": [
    "import numpy as np"
   ]
  },
  {
   "cell_type": "code",
   "execution_count": null,
   "metadata": {
    "execution": {
     "iopub.execute_input": "2021-08-23T06:01:08.651565Z",
     "iopub.status.busy": "2021-08-23T06:01:08.650951Z",
     "iopub.status.idle": "2021-08-23T06:01:08.675505Z",
     "shell.execute_reply": "2021-08-23T06:01:08.675856Z"
    },
    "tags": []
   },
   "outputs": [],
   "source": [
    "kwat.grid.reflect_1d_grid(np.array([-1, 0, 1, 2]), 0)"
   ]
  },
  {
   "cell_type": "markdown",
   "metadata": {},
   "source": [
    "## get_1d_grid_resolution"
   ]
  },
  {
   "cell_type": "code",
   "execution_count": null,
   "metadata": {
    "execution": {
     "iopub.execute_input": "2021-08-23T06:01:08.679054Z",
     "iopub.status.busy": "2021-08-23T06:01:08.678555Z",
     "iopub.status.idle": "2021-08-23T06:01:08.698193Z",
     "shell.execute_reply": "2021-08-23T06:01:08.698543Z"
    },
    "tags": []
   },
   "outputs": [],
   "source": [
    "kwat.grid.get_1d_grid_resolution(np.array([-1, 0, 1, 2, 2.1]))"
   ]
  },
  {
   "cell_type": "markdown",
   "metadata": {},
   "source": [
    "## get_1d_grid"
   ]
  },
  {
   "cell_type": "code",
   "execution_count": null,
   "metadata": {
    "execution": {
     "iopub.execute_input": "2021-08-23T06:01:08.702254Z",
     "iopub.status.busy": "2021-08-23T06:01:08.701759Z",
     "iopub.status.idle": "2021-08-23T06:01:08.720849Z",
     "shell.execute_reply": "2021-08-23T06:01:08.722053Z"
    },
    "tags": []
   },
   "outputs": [],
   "source": [
    "for co_po_di in [\n",
    "    [[-1], [0], [2], [2]],\n",
    "    [[0, -1], [0, 0], [0, 2], [0, 2]],\n",
    "    [[2, 0], [0, 0], [-1, 0]],\n",
    "]:\n",
    "\n",
    "    co_po_di = np.array(co_po_di)\n",
    "\n",
    "    print(kwat.grid.get_1d_grid(co_po_di))"
   ]
  },
  {
   "cell_type": "markdown",
   "metadata": {},
   "source": [
    "## make_nd_grid"
   ]
  },
  {
   "cell_type": "code",
   "execution_count": null,
   "metadata": {
    "execution": {
     "iopub.execute_input": "2021-08-23T06:01:08.725951Z",
     "iopub.status.busy": "2021-08-23T06:01:08.725378Z",
     "iopub.status.idle": "2021-08-23T06:01:08.746618Z",
     "shell.execute_reply": "2021-08-23T06:01:08.747021Z"
    },
    "tags": []
   },
   "outputs": [],
   "source": [
    "kwat.grid.make_nd_grid([np.array([-1, 0, 1]), np.array([-2, 4])])"
   ]
  },
  {
   "cell_type": "markdown",
   "metadata": {},
   "source": [
    "## plot"
   ]
  },
  {
   "cell_type": "code",
   "execution_count": null,
   "metadata": {
    "execution": {
     "iopub.execute_input": "2021-08-23T06:01:08.752758Z",
     "iopub.status.busy": "2021-08-23T06:01:08.752259Z",
     "iopub.status.idle": "2021-08-23T06:01:09.079647Z",
     "shell.execute_reply": "2021-08-23T06:01:09.080048Z"
    },
    "tags": []
   },
   "outputs": [],
   "source": [
    "for (co_po_di, nu_) in [\n",
    "    [[[-1], [0], [1]], [-1, 0, 2]],\n",
    "    [[[-1, 0], [0, 0], [1, 0]], [-1, 0, 2]],\n",
    "    [[[-1, -1], [0, -1], [1, -1], [-1, 1], [0, 1], [1, 1]], [-1, 0, 2, 4, 8, 16]],\n",
    "    [\n",
    "        [[-1, -1], [0, -1], [1, -1], [-1, 0], [0, 0], [1, 0], [-1, 1], [0, 1], [1, 1]],\n",
    "        [-1, 0, 2, 4, 8, 16, 32, 64, 128],\n",
    "    ],\n",
    "    [\n",
    "        [\n",
    "            [0, 2, 4],\n",
    "            [1, 2, 4],\n",
    "            [0, 3, 4],\n",
    "            [1, 3, 4],\n",
    "            [0, 2, 5],\n",
    "            [1, 2, 5],\n",
    "            [0, 3, 5],\n",
    "            [1, 3, 5],\n",
    "        ],\n",
    "        np.arange(8),\n",
    "    ],\n",
    "]:\n",
    "\n",
    "    kwat.grid.plot(np.array(co_po_di), np.array(nu_))"
   ]
  }
 ],
 "metadata": {
  "kernelspec": {
   "display_name": "Python 3 (ipykernel)",
   "language": "python",
   "name": "python3"
  },
  "language_info": {
   "codemirror_mode": {
    "name": "ipython",
    "version": 3
   },
   "file_extension": ".py",
   "mimetype": "text/x-python",
   "name": "python",
   "nbconvert_exporter": "python",
   "pygments_lexer": "ipython3",
   "version": "3.9.6"
  }
 },
 "nbformat": 4,
 "nbformat_minor": 4
}
