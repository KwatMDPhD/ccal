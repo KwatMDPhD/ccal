{
 "cells": [
  {
   "outputs": [],
   "cell_type": "code",
   "source": [
    "%load_ext autoreload\n",
    "%autoreload 2"
   ],
   "metadata": {},
   "execution_count": null
  },
  {
   "outputs": [],
   "cell_type": "code",
   "source": [
    "import kwat"
   ],
   "metadata": {},
   "execution_count": null
  },
  {
   "cell_type": "markdown",
   "source": [
    "## make_1d_grid"
   ],
   "metadata": {}
  },
  {
   "outputs": [],
   "cell_type": "code",
   "source": [
    "for fr in [0, 0.1]:\n",
    "    print()\n",
    "\n",
    "    print(fr)\n",
    "\n",
    "    for n_co in [4, 8]:\n",
    "        print(n_co)\n",
    "\n",
    "        print(kwat.grid.make_1d_grid(-1, 2, fr, n_co))"
   ],
   "metadata": {},
   "execution_count": null
  },
  {
   "cell_type": "markdown",
   "source": [
    "## reflect"
   ],
   "metadata": {}
  },
  {
   "outputs": [],
   "cell_type": "code",
   "source": [
    "import numpy as np"
   ],
   "metadata": {},
   "execution_count": null
  },
  {
   "outputs": [],
   "cell_type": "code",
   "source": [
    "kwat.grid.reflect(np.array([-1, 0, 1, 2]), 0)"
   ],
   "metadata": {},
   "execution_count": null
  },
  {
   "cell_type": "markdown",
   "source": [
    "## get_1d_grid_resolution"
   ],
   "metadata": {}
  },
  {
   "outputs": [],
   "cell_type": "code",
   "source": [
    "kwat.grid.get_1d_grid_resolution(np.array([-1, 0, 1, 2, 2.1]))"
   ],
   "metadata": {},
   "execution_count": null
  },
  {
   "cell_type": "markdown",
   "source": [
    "## get_1d_grid"
   ],
   "metadata": {}
  },
  {
   "outputs": [],
   "cell_type": "code",
   "source": [
    "for co_po_di in [\n",
    "    [[-1], [0], [2], [2]],\n",
    "    [[0, -1], [0, 0], [0, 2], [0, 2]],\n",
    "    [[2, 0], [0, 0], [-1, 0]],\n",
    "]:\n",
    "    co_po_di = np.array(co_po_di)\n",
    "\n",
    "    print(kwat.grid.get_1d_grid(co_po_di))"
   ],
   "metadata": {},
   "execution_count": null
  },
  {
   "cell_type": "markdown",
   "source": [
    "## make_nd_grid"
   ],
   "metadata": {}
  },
  {
   "outputs": [],
   "cell_type": "code",
   "source": [
    "kwat.grid.make_nd_grid([np.array([-1, 0, 1]), np.array([-2, 4])])"
   ],
   "metadata": {},
   "execution_count": null
  },
  {
   "cell_type": "markdown",
   "source": [
    "## plot"
   ],
   "metadata": {}
  },
  {
   "outputs": [],
   "cell_type": "code",
   "source": [
    "for co_po_di, nu_ in [\n",
    "    [[[-1], [0], [1]], [-1, 0, 2]],\n",
    "    [[[-1, 0], [0, 0], [1, 0]], [-1, 0, 2]],\n",
    "    [[[-1, -1], [0, -1], [1, -1], [-1, 1], [0, 1], [1, 1]], [-1, 0, 2, 4, 8, 16]],\n",
    "    [\n",
    "        [[-1, -1], [0, -1], [1, -1], [-1, 0], [0, 0], [1, 0], [-1, 1], [0, 1], [1, 1]],\n",
    "        [-1, 0, 2, 4, 8, 16, 32, 64, 128],\n",
    "    ],\n",
    "    [\n",
    "        [\n",
    "            [0, 2, 4],\n",
    "            [1, 2, 4],\n",
    "            [0, 3, 4],\n",
    "            [1, 3, 4],\n",
    "            [0, 2, 5],\n",
    "            [1, 2, 5],\n",
    "            [0, 3, 5],\n",
    "            [1, 3, 5],\n",
    "        ],\n",
    "        np.arange(8),\n",
    "    ],\n",
    "]:\n",
    "    kwat.grid.plot(np.array(co_po_di), np.array(nu_))"
   ],
   "metadata": {},
   "execution_count": null
  }
 ],
 "nbformat_minor": 4,
 "metadata": {
  "language_info": {
   "file_extension": ".py",
   "mimetype": "text/x-python",
   "name": "python",
   "nbconvert_exporter": "python",
   "pygments_lexer": "ipython3",
   "codemirror_mode": {
    "name": "ipython",
    "version": 3
   },
   "version": "3.9.6"
  },
  "kernelspec": {
   "name": "python3",
   "display_name": "Python 3 (ipykernel)",
   "language": "python"
  }
 },
 "nbformat": 4
}
