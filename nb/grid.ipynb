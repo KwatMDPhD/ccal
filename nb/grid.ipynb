{
 "cells": [
  {
   "cell_type": "code",
   "execution_count": null,
   "metadata": {
    "execution": {
     "iopub.execute_input": "2021-06-02T09:05:49.052315Z",
     "iopub.status.busy": "2021-06-02T09:05:49.051531Z",
     "iopub.status.idle": "2021-06-02T09:05:49.065987Z",
     "shell.execute_reply": "2021-06-02T09:05:49.066447Z"
    },
    "tags": []
   },
   "outputs": [],
   "source": [
    "%load_ext autoreload\n",
    "%autoreload 2"
   ]
  },
  {
   "cell_type": "code",
   "execution_count": null,
   "metadata": {
    "execution": {
     "iopub.execute_input": "2021-06-02T09:05:49.069941Z",
     "iopub.status.busy": "2021-06-02T09:05:49.069275Z",
     "iopub.status.idle": "2021-06-02T09:05:49.705599Z",
     "shell.execute_reply": "2021-06-02T09:05:49.706008Z"
    },
    "tags": []
   },
   "outputs": [],
   "source": [
    "import kwat"
   ]
  },
  {
   "cell_type": "markdown",
   "metadata": {},
   "source": [
    "## make_1d_grid"
   ]
  },
  {
   "cell_type": "code",
   "execution_count": null,
   "metadata": {
    "execution": {
     "iopub.execute_input": "2021-06-02T09:05:49.710782Z",
     "iopub.status.busy": "2021-06-02T09:05:49.710050Z",
     "iopub.status.idle": "2021-06-02T09:05:49.731349Z",
     "shell.execute_reply": "2021-06-02T09:05:49.731959Z"
    },
    "tags": []
   },
   "outputs": [],
   "source": [
    "for fr in [0, 0.1]:\n",
    "\n",
    "    print()\n",
    "\n",
    "    print(fr)\n",
    "\n",
    "    for n_co in [4, 8]:\n",
    "\n",
    "        print(n_co)\n",
    "\n",
    "        print(kwat.grid.make_1d_grid(-1, 2, fr, n_co))"
   ]
  },
  {
   "cell_type": "markdown",
   "metadata": {},
   "source": [
    "## reflect_1d_grid"
   ]
  },
  {
   "cell_type": "code",
   "execution_count": null,
   "metadata": {
    "execution": {
     "iopub.execute_input": "2021-06-02T09:05:49.735227Z",
     "iopub.status.busy": "2021-06-02T09:05:49.734630Z",
     "iopub.status.idle": "2021-06-02T09:05:49.754790Z",
     "shell.execute_reply": "2021-06-02T09:05:49.755377Z"
    },
    "tags": []
   },
   "outputs": [],
   "source": [
    "import numpy as np"
   ]
  },
  {
   "cell_type": "code",
   "execution_count": null,
   "metadata": {
    "execution": {
     "iopub.execute_input": "2021-06-02T09:05:49.759222Z",
     "iopub.status.busy": "2021-06-02T09:05:49.758544Z",
     "iopub.status.idle": "2021-06-02T09:05:49.784590Z",
     "shell.execute_reply": "2021-06-02T09:05:49.785030Z"
    },
    "tags": []
   },
   "outputs": [],
   "source": [
    "kwat.grid.reflect_1d_grid(np.array([-1, 0, 1, 2]), 0)"
   ]
  },
  {
   "cell_type": "markdown",
   "metadata": {},
   "source": [
    "## get_1d_grid_resolution"
   ]
  },
  {
   "cell_type": "code",
   "execution_count": null,
   "metadata": {
    "execution": {
     "iopub.execute_input": "2021-06-02T09:05:49.788393Z",
     "iopub.status.busy": "2021-06-02T09:05:49.787790Z",
     "iopub.status.idle": "2021-06-02T09:05:49.809092Z",
     "shell.execute_reply": "2021-06-02T09:05:49.809554Z"
    },
    "tags": []
   },
   "outputs": [],
   "source": [
    "kwat.grid.get_1d_grid_resolution(np.array([-1, 0, 1, 2, 2.1]))"
   ]
  },
  {
   "cell_type": "markdown",
   "metadata": {},
   "source": [
    "## get_1d_grid"
   ]
  },
  {
   "cell_type": "code",
   "execution_count": null,
   "metadata": {
    "execution": {
     "iopub.execute_input": "2021-06-02T09:05:49.814216Z",
     "iopub.status.busy": "2021-06-02T09:05:49.813587Z",
     "iopub.status.idle": "2021-06-02T09:05:49.834631Z",
     "shell.execute_reply": "2021-06-02T09:05:49.835135Z"
    },
    "tags": []
   },
   "outputs": [],
   "source": [
    "for co_po_di in [\n",
    "    [[-1], [0], [2], [2]],\n",
    "    [[0, -1], [0, 0], [0, 2], [0, 2]],\n",
    "    [[2, 0], [0, 0], [-1, 0]],\n",
    "]:\n",
    "\n",
    "    co_po_di = np.array(co_po_di)\n",
    "\n",
    "    print(kwat.grid.get_1d_grid(co_po_di))"
   ]
  },
  {
   "cell_type": "markdown",
   "metadata": {},
   "source": [
    "## make_nd_grid"
   ]
  },
  {
   "cell_type": "code",
   "execution_count": null,
   "metadata": {
    "execution": {
     "iopub.execute_input": "2021-06-02T09:05:49.838765Z",
     "iopub.status.busy": "2021-06-02T09:05:49.838087Z",
     "iopub.status.idle": "2021-06-02T09:05:49.859137Z",
     "shell.execute_reply": "2021-06-02T09:05:49.859641Z"
    },
    "tags": []
   },
   "outputs": [],
   "source": [
    "kwat.grid.make_nd_grid([np.array([-1, 0, 1]), np.array([-2, 4])])"
   ]
  },
  {
   "cell_type": "markdown",
   "metadata": {},
   "source": [
    "## plot"
   ]
  },
  {
   "cell_type": "code",
   "execution_count": null,
   "metadata": {
    "execution": {
     "iopub.execute_input": "2021-06-02T09:05:49.866960Z",
     "iopub.status.busy": "2021-06-02T09:05:49.866205Z",
     "iopub.status.idle": "2021-06-02T09:05:50.243521Z",
     "shell.execute_reply": "2021-06-02T09:05:50.243959Z"
    },
    "tags": []
   },
   "outputs": [],
   "source": [
    "for (co_po_di, nu_) in [\n",
    "    [[[-1], [0], [1]], [-1, 0, 2]],\n",
    "    [[[-1, 0], [0, 0], [1, 0]], [-1, 0, 2]],\n",
    "    [[[-1, -1], [0, -1], [1, -1], [-1, 1], [0, 1], [1, 1]], [-1, 0, 2, 4, 8, 16]],\n",
    "    [\n",
    "        [[-1, -1], [0, -1], [1, -1], [-1, 0], [0, 0], [1, 0], [-1, 1], [0, 1], [1, 1]],\n",
    "        [-1, 0, 2, 4, 8, 16, 32, 64, 128],\n",
    "    ],\n",
    "    [\n",
    "        [\n",
    "            [0, 2, 4],\n",
    "            [1, 2, 4],\n",
    "            [0, 3, 4],\n",
    "            [1, 3, 4],\n",
    "            [0, 2, 5],\n",
    "            [1, 2, 5],\n",
    "            [0, 3, 5],\n",
    "            [1, 3, 5],\n",
    "        ],\n",
    "        np.arange(8),\n",
    "    ],\n",
    "]:\n",
    "\n",
    "    kwat.grid.plot(np.array(co_po_di), np.array(nu_))"
   ]
  }
 ],
 "metadata": {
  "kernelspec": {
   "display_name": "Python 3 (ipykernel)",
   "language": "python",
   "name": "python3"
  },
  "language_info": {
   "codemirror_mode": {
    "name": "ipython",
    "version": 3
   },
   "file_extension": ".py",
   "mimetype": "text/x-python",
   "name": "python",
   "nbconvert_exporter": "python",
   "pygments_lexer": "ipython3",
   "version": "3.9.6"
  }
 },
 "nbformat": 4,
 "nbformat_minor": 4
}
