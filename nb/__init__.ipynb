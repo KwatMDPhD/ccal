{
 "cells": [
  {
   "cell_type": "code",
   "execution_count": 1,
   "metadata": {},
   "outputs": [],
   "source": [
    "%load_ext autoreload\n",
    "%autoreload 2"
   ]
  },
  {
   "cell_type": "code",
   "execution_count": 2,
   "metadata": {},
   "outputs": [],
   "source": [
    "import os\n",
    "import re"
   ]
  },
  {
   "cell_type": "code",
   "execution_count": 3,
   "metadata": {},
   "outputs": [],
   "source": [
    "li1_ = []"
   ]
  },
  {
   "cell_type": "code",
   "execution_count": 4,
   "metadata": {},
   "outputs": [],
   "source": [
    "pa1 = \"../kwat/\""
   ]
  },
  {
   "cell_type": "code",
   "execution_count": 5,
   "metadata": {},
   "outputs": [],
   "source": [
    "for na1 in sorted(os.listdir(pa1)):\n",
    "    \n",
    "    pa2 = \"{}{}/\".format(pa1, na1)\n",
    "    \n",
    "    if os.path.isfile(\"{}__init__.py\".format(pa2)):\n",
    "        \n",
    "        li1_.append(\"from . import {}\\n\".format(na1))\n",
    "        \n",
    "        li2_ = []\n",
    "\n",
    "        for na2 in sorted(os.listdir(pa2)):\n",
    "\n",
    "            if re.match(r\"^[^._].+\\.py$\", na2):\n",
    "\n",
    "                li2_.append(\"from .{0} import {0}\\n\".format(na2[: -len(\".py\")]))\n",
    "\n",
    "        with open(\"{}__init__.py\".format(pa2), \"w\") as io:\n",
    "\n",
    "            io.write(\"\".join(li2_))"
   ]
  },
  {
   "cell_type": "code",
   "execution_count": 6,
   "metadata": {},
   "outputs": [],
   "source": [
    "with open(\"{}__init__.py\".format(pa1), \"w\") as io:\n",
    "\n",
    "    io.write(\"\".join(li1_))"
   ]
  },
  {
   "cell_type": "code",
   "execution_count": 7,
   "metadata": {},
   "outputs": [
    {
     "data": {
      "text/plain": [
       "['__builtins__',\n",
       " '__cached__',\n",
       " '__doc__',\n",
       " '__file__',\n",
       " '__loader__',\n",
       " '__name__',\n",
       " '__package__',\n",
       " '__path__',\n",
       " '__spec__',\n",
       " 'array',\n",
       " 'array_array',\n",
       " 'string']"
      ]
     },
     "execution_count": 7,
     "metadata": {},
     "output_type": "execute_result"
    }
   ],
   "source": [
    "import kwat\n",
    "\n",
    "dir(kwat)"
   ]
  }
 ],
 "metadata": {
  "@webio": {
   "lastCommId": null,
   "lastKernelId": null
  },
  "kernelspec": {
   "display_name": "Python 3 (ipykernel)",
   "language": "python",
   "name": "python3"
  },
  "language_info": {
   "codemirror_mode": {
    "name": "ipython",
    "version": 3
   },
   "file_extension": ".py",
   "mimetype": "text/x-python",
   "name": "python",
   "nbconvert_exporter": "python",
   "pygments_lexer": "ipython3",
   "version": "3.9.6"
  }
 },
 "nbformat": 4,
 "nbformat_minor": 4
}
