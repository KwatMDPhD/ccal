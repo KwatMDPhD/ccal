{
 "cells": [
  {
   "cell_type": "code",
   "execution_count": null,
   "metadata": {},
   "outputs": [],
   "source": [
    "%load_ext autoreload\n",
    "%autoreload 2"
   ]
  },
  {
   "cell_type": "code",
   "execution_count": null,
   "metadata": {},
   "outputs": [],
   "source": [
    "import os\n",
    "import re"
   ]
  },
  {
   "cell_type": "code",
   "execution_count": null,
   "metadata": {},
   "outputs": [],
   "source": [
    "pa = \"../kwat/\""
   ]
  },
  {
   "cell_type": "code",
   "execution_count": null,
   "metadata": {},
   "outputs": [],
   "source": [
    "li_ = []\n",
    "\n",
    "for na in sorted(os.listdir(pa)):\n",
    "\n",
    "    if re.match(r\"^[^._].+\\.py$\", na):\n",
    "\n",
    "        li_.append(\"from . import {}\\n\".format(na[: -len(\".py\")]))"
   ]
  },
  {
   "cell_type": "code",
   "execution_count": null,
   "metadata": {},
   "outputs": [],
   "source": [
    "with open(\"{}__init__.py\".format(pa), \"w\") as io:\n",
    "\n",
    "    io.write(\"\".join(li_))"
   ]
  },
  {
   "cell_type": "code",
   "execution_count": null,
   "metadata": {},
   "outputs": [],
   "source": [
    "import kwat\n",
    "\n",
    "na_ = dir(kwat)\n",
    "\n",
    "print(len(na_))\n",
    "\n",
    "na_"
   ]
  },
  {
   "cell_type": "code",
   "execution_count": null,
   "metadata": {},
   "outputs": [],
   "source": [
    "for st in [\"\", \"object/\"]:\n",
    "\n",
    "    for na in sorted(os.listdir(\"./{}/\".format(st))):\n",
    "\n",
    "        if re.match(r\"^[^._].+\\.ipynb$\", na):\n",
    "\n",
    "            kwat.shell.run(\n",
    "                \"jupyter nbconvert --execute --ExecutePreprocessor.timeout=-1 --inplace {}{}\".format(\n",
    "                    st, na\n",
    "                )\n",
    "            )"
   ]
  }
 ],
 "metadata": {
  "@webio": {
   "lastCommId": null,
   "lastKernelId": null
  },
  "kernelspec": {
   "display_name": "Python 3 (ipykernel)",
   "language": "python",
   "name": "python3"
  },
  "language_info": {
   "codemirror_mode": {
    "name": "ipython",
    "version": 3
   },
   "file_extension": ".py",
   "mimetype": "text/x-python",
   "name": "python",
   "nbconvert_exporter": "python",
   "pygments_lexer": "ipython3",
   "version": "3.9.6"
  }
 },
 "nbformat": 4,
 "nbformat_minor": 4
}
