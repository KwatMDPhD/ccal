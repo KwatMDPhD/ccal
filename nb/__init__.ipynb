{
 "cells": [
  {
   "cell_type": "code",
   "execution_count": null,
   "metadata": {},
   "outputs": [],
   "source": [
    "%load_ext autoreload\n",
    "%autoreload 2"
   ]
  },
  {
   "cell_type": "code",
   "execution_count": null,
   "metadata": {},
   "outputs": [],
   "source": [
    "import os\n",
    "import re"
   ]
  },
  {
   "cell_type": "code",
   "execution_count": null,
   "metadata": {},
   "outputs": [],
   "source": [
    "pa1 = \"../kwat/\"\n",
    "\n",
    "li1_ = []"
   ]
  },
  {
   "cell_type": "code",
   "execution_count": null,
   "metadata": {},
   "outputs": [],
   "source": [
    "for na1 in sorted(os.listdir(path=pa1)):\n",
    "\n",
    "    if re.search(r\"^[^._]\", na1):\n",
    "\n",
    "        li1_.append(\"from . import {}\\n\".format(na1))\n",
    "\n",
    "        pa2 = \"{}{}/\".format(pa1, na1)\n",
    "\n",
    "        li2_ = []\n",
    "\n",
    "        for na2 in sorted(os.listdir(path=pa2)):\n",
    "\n",
    "            if re.search(r\"(?<!__init__).py$\", na2):\n",
    "\n",
    "                li2_.append(\"from .{0} import {0}\\n\".format(os.path.splitext(na2)[0]))\n",
    "\n",
    "        with open(\"{}__init__.py\".format(pa2), mode=\"w\") as io:\n",
    "\n",
    "            io.writelines(li2_)"
   ]
  },
  {
   "cell_type": "code",
   "execution_count": null,
   "metadata": {},
   "outputs": [],
   "source": [
    "with open(\"{}__init__.py\".format(pa1), mode=\"w\") as io:\n",
    "\n",
    "    io.writelines(li1_)"
   ]
  },
  {
   "cell_type": "code",
   "execution_count": null,
   "metadata": {},
   "outputs": [],
   "source": [
    "import kwat\n",
    "\n",
    "dir(kwat)"
   ]
  }
 ],
 "metadata": {
  "@webio": {
   "lastCommId": null,
   "lastKernelId": null
  },
  "kernelspec": {
   "display_name": "Python 3 (ipykernel)",
   "language": "python",
   "name": "python3"
  },
  "language_info": {
   "codemirror_mode": {
    "name": "ipython",
    "version": 3
   },
   "file_extension": ".py",
   "mimetype": "text/x-python",
   "name": "python",
   "nbconvert_exporter": "python",
   "pygments_lexer": "ipython3",
   "version": "3.9.6"
  }
 },
 "nbformat": 4,
 "nbformat_minor": 4
}
