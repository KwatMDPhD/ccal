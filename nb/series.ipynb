{
 "cells": [
  {
   "cell_type": "code",
   "execution_count": null,
   "id": "00d594ef-630f-4e79-87a0-8f1adf96399a",
   "metadata": {
    "execution": {
     "iopub.execute_input": "2021-06-02T09:06:47.173079Z",
     "iopub.status.busy": "2021-06-02T09:06:47.172051Z",
     "iopub.status.idle": "2021-06-02T09:06:47.186852Z",
     "shell.execute_reply": "2021-06-02T09:06:47.187282Z"
    },
    "tags": []
   },
   "outputs": [],
   "source": [
    "%load_ext autoreload\n",
    "%autoreload 2"
   ]
  },
  {
   "cell_type": "code",
   "execution_count": null,
   "id": "42c98d35-aefa-47f3-bc10-0f165a476ab6",
   "metadata": {
    "execution": {
     "iopub.execute_input": "2021-06-02T09:06:47.191021Z",
     "iopub.status.busy": "2021-06-02T09:06:47.190402Z",
     "iopub.status.idle": "2021-06-02T09:06:47.764948Z",
     "shell.execute_reply": "2021-06-02T09:06:47.764471Z"
    },
    "tags": []
   },
   "outputs": [],
   "source": [
    "import kwat"
   ]
  },
  {
   "cell_type": "code",
   "execution_count": null,
   "id": "e02aa32f-3225-471e-9844-f33cc9c08b29",
   "metadata": {
    "execution": {
     "iopub.execute_input": "2021-06-02T09:06:47.768308Z",
     "iopub.status.busy": "2021-06-02T09:06:47.767786Z",
     "iopub.status.idle": "2021-06-02T09:06:47.785070Z",
     "shell.execute_reply": "2021-06-02T09:06:47.785486Z"
    },
    "tags": []
   },
   "outputs": [],
   "source": [
    "import numpy as np\n",
    "import pandas as pd"
   ]
  },
  {
   "cell_type": "markdown",
   "id": "7b57a11b-e4ff-4798-a0fd-16c3da56f33f",
   "metadata": {},
   "source": [
    "## binarize"
   ]
  },
  {
   "cell_type": "code",
   "execution_count": null,
   "id": "0490b0eb-0100-4fad-81fd-f5b4d0473d43",
   "metadata": {
    "execution": {
     "iopub.execute_input": "2021-06-02T09:06:47.790172Z",
     "iopub.status.busy": "2021-06-02T09:06:47.789528Z",
     "iopub.status.idle": "2021-06-02T09:06:47.821626Z",
     "shell.execute_reply": "2021-06-02T09:06:47.822058Z"
    },
    "tags": []
   },
   "outputs": [],
   "source": [
    "an_ = [2, 1, None, np.nan, 0, -1, \"\", \"Aa\"]\n",
    "\n",
    "an_ = pd.Series(\n",
    "    an_,\n",
    "    pd.Index((\"Label {}\".format(ie + 1) for ie in range(len(an_))), name=\"Dimension 2\"),\n",
    "    object,\n",
    "    \"Dimension 1\",\n",
    ")\n",
    "\n",
    "print(an_)\n",
    "\n",
    "kwat.series.binarize(an_)"
   ]
  }
 ],
 "metadata": {
  "kernelspec": {
   "display_name": "Python 3 (ipykernel)",
   "language": "python",
   "name": "python3"
  },
  "language_info": {
   "codemirror_mode": {
    "name": "ipython",
    "version": 3
   },
   "file_extension": ".py",
   "mimetype": "text/x-python",
   "name": "python",
   "nbconvert_exporter": "python",
   "pygments_lexer": "ipython3",
   "version": "3.9.6"
  }
 },
 "nbformat": 4,
 "nbformat_minor": 5
}
