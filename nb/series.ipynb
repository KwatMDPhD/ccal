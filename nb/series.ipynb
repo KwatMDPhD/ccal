{
 "cells": [
  {
   "outputs": [],
   "cell_type": "code",
   "source": [
    "%load_ext autoreload\n",
    "%autoreload 2"
   ],
   "id": "00d594ef-630f-4e79-87a0-8f1adf96399a",
   "metadata": {},
   "execution_count": null
  },
  {
   "outputs": [],
   "cell_type": "code",
   "source": [
    "import kwat\n",
    "import numpy as np\n",
    "import pandas as pd"
   ],
   "id": "8c5592ad-0a37-4464-8f41-13af2b33a136",
   "metadata": {},
   "execution_count": null
  },
  {
   "cell_type": "markdown",
   "source": [
    "## binarize"
   ],
   "id": "236bda52-61bf-4635-8023-6593400fc051",
   "metadata": {
    "execution": {
     "iopub.status.idle": "2021-08-25T07:04:52.232178Z",
     "iopub.status.busy": "2021-08-25T07:04:52.208142Z",
     "iopub.execute_input": "2021-08-25T07:04:52.208830Z",
     "shell.execute_reply": "2021-08-25T07:04:52.232661Z"
    },
    "tags": []
   }
  },
  {
   "outputs": [],
   "cell_type": "code",
   "source": [
    "an_ = [2, 1, None, np.nan, 0, -1, \"\", \"Aa\"]\n",
    "\n",
    "an_ = pd.Series(\n",
    "    an_,\n",
    "    pd.Index((\"Label {}\".format(ie + 1) for ie in range(len(an_))), name=\"Dimension 2\"),\n",
    "    object,\n",
    "    \"Dimension 1\",\n",
    ")\n",
    "\n",
    "print(an_)\n",
    "\n",
    "kwat.series.binarize(an_)"
   ],
   "id": "98b2a6f3-8d6a-4b58-b2ed-5f32e6c4c422",
   "metadata": {},
   "execution_count": null
  },
  {
   "cell_type": "markdown",
   "source": [
    "## get_extreme"
   ],
   "id": "b58ba8f4-8c5d-442c-8395-769e84082829",
   "metadata": {}
  },
  {
   "outputs": [],
   "cell_type": "code",
   "source": [
    "n_po = 10\n",
    "\n",
    "se = pd.Series(\n",
    "    data=range(n_po), index=(\"Label {}\".format(ie) for ie in range(n_po)), name=\"Name\"\n",
    ")\n",
    "\n",
    "for di in [\"<\", \">\"]:\n",
    "    kwat.series.get_extreme(se, di, kwat.path.get_absolute(\"~/Downloads/\"), st=1)"
   ],
   "id": "a7d6d5d5-f0e2-41a7-b426-4f520f87b4e1",
   "metadata": {},
   "execution_count": null
  }
 ],
 "nbformat_minor": 5,
 "metadata": {
  "language_info": {
   "file_extension": ".py",
   "mimetype": "text/x-python",
   "name": "python",
   "nbconvert_exporter": "python",
   "pygments_lexer": "ipython3",
   "codemirror_mode": {
    "name": "ipython",
    "version": 3
   },
   "version": "3.9.6"
  },
  "kernelspec": {
   "name": "python3",
   "display_name": "Python 3 (ipykernel)",
   "language": "python"
  }
 },
 "nbformat": 4
}
