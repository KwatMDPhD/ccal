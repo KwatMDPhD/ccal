{
 "cells": [
  {
   "cell_type": "code",
   "execution_count": null,
   "id": "00d594ef-630f-4e79-87a0-8f1adf96399a",
   "metadata": {
    "tags": []
   },
   "outputs": [],
   "source": [
    "%load_ext autoreload\n",
    "%autoreload 2"
   ]
  },
  {
   "cell_type": "code",
   "execution_count": null,
   "id": "8c5592ad-0a37-4464-8f41-13af2b33a136",
   "metadata": {
    "tags": []
   },
   "outputs": [],
   "source": [
    "import kwat\n",
    "import numpy as np\n",
    "import pandas as pd"
   ]
  },
  {
   "cell_type": "markdown",
   "id": "236bda52-61bf-4635-8023-6593400fc051",
   "metadata": {
    "execution": {
     "iopub.execute_input": "2021-08-25T07:04:52.208830Z",
     "iopub.status.busy": "2021-08-25T07:04:52.208142Z",
     "iopub.status.idle": "2021-08-25T07:04:52.232178Z",
     "shell.execute_reply": "2021-08-25T07:04:52.232661Z"
    },
    "tags": []
   },
   "source": [
    "## binarize"
   ]
  },
  {
   "cell_type": "code",
   "execution_count": null,
   "id": "98b2a6f3-8d6a-4b58-b2ed-5f32e6c4c422",
   "metadata": {
    "tags": []
   },
   "outputs": [],
   "source": [
    "an_ = [2, 1, None, np.nan, 0, -1, \"\", \"Aa\"]\n",
    "\n",
    "an_ = pd.Series(\n",
    "    an_,\n",
    "    pd.Index((\"Label {}\".format(ie + 1) for ie in range(len(an_))), name=\"Dimension 2\"),\n",
    "    object,\n",
    "    \"Dimension 1\",\n",
    ")\n",
    "\n",
    "print(an_)\n",
    "\n",
    "kwat.series.binarize(an_)"
   ]
  },
  {
   "cell_type": "markdown",
   "id": "b58ba8f4-8c5d-442c-8395-769e84082829",
   "metadata": {},
   "source": [
    "## get_extreme"
   ]
  },
  {
   "cell_type": "code",
   "execution_count": null,
   "id": "a7d6d5d5-f0e2-41a7-b426-4f520f87b4e1",
   "metadata": {},
   "outputs": [],
   "source": [
    "n_po = 10\n",
    "\n",
    "se = pd.Series(\n",
    "    data=range(n_po), index=(\"Label {}\".format(ie) for ie in range(n_po)), name=\"Name\"\n",
    ")\n",
    "\n",
    "for di in [\"<\", \">\"]:\n",
    "\n",
    "    kwat.series.get_extreme(se, di, kwat.path.get_absolute(\"~/Downloads/\"), st=1)"
   ]
  }
 ],
 "metadata": {
  "kernelspec": {
   "display_name": "Python 3 (ipykernel)",
   "language": "python",
   "name": "python3"
  },
  "language_info": {
   "codemirror_mode": {
    "name": "ipython",
    "version": 3
   },
   "file_extension": ".py",
   "mimetype": "text/x-python",
   "name": "python",
   "nbconvert_exporter": "python",
   "pygments_lexer": "ipython3",
   "version": "3.9.6"
  }
 },
 "nbformat": 4,
 "nbformat_minor": 5
}
