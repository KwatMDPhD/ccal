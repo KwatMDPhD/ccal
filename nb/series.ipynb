{
 "cells": [
  {
   "cell_type": "code",
   "execution_count": null,
   "id": "00d594ef-630f-4e79-87a0-8f1adf96399a",
   "metadata": {
    "execution": {
     "iopub.execute_input": "2021-08-25T07:04:51.480505Z",
     "iopub.status.busy": "2021-08-25T07:04:51.479875Z",
     "iopub.status.idle": "2021-08-25T07:04:51.492631Z",
     "shell.execute_reply": "2021-08-25T07:04:51.492957Z"
    },
    "tags": []
   },
   "outputs": [],
   "source": [
    "%load_ext autoreload\n",
    "%autoreload 2"
   ]
  },
  {
   "cell_type": "code",
   "execution_count": null,
   "id": "42c98d35-aefa-47f3-bc10-0f165a476ab6",
   "metadata": {
    "execution": {
     "iopub.execute_input": "2021-08-25T07:04:51.496763Z",
     "iopub.status.busy": "2021-08-25T07:04:51.496236Z",
     "iopub.status.idle": "2021-08-25T07:04:52.205008Z",
     "shell.execute_reply": "2021-08-25T07:04:52.205400Z"
    },
    "tags": []
   },
   "outputs": [],
   "source": [
    "import kwat"
   ]
  },
  {
   "cell_type": "code",
   "execution_count": null,
   "id": "e02aa32f-3225-471e-9844-f33cc9c08b29",
   "metadata": {
    "execution": {
     "iopub.execute_input": "2021-08-25T07:04:52.208830Z",
     "iopub.status.busy": "2021-08-25T07:04:52.208142Z",
     "iopub.status.idle": "2021-08-25T07:04:52.232178Z",
     "shell.execute_reply": "2021-08-25T07:04:52.232661Z"
    },
    "tags": []
   },
   "outputs": [],
   "source": [
    "import numpy as np\n",
    "import pandas as pd"
   ]
  },
  {
   "cell_type": "markdown",
   "id": "7b57a11b-e4ff-4798-a0fd-16c3da56f33f",
   "metadata": {},
   "source": [
    "## binarize"
   ]
  },
  {
   "cell_type": "code",
   "execution_count": null,
   "id": "0490b0eb-0100-4fad-81fd-f5b4d0473d43",
   "metadata": {
    "execution": {
     "iopub.execute_input": "2021-08-25T07:04:52.237087Z",
     "iopub.status.busy": "2021-08-25T07:04:52.236466Z",
     "iopub.status.idle": "2021-08-25T07:04:52.273610Z",
     "shell.execute_reply": "2021-08-25T07:04:52.274007Z"
    },
    "tags": []
   },
   "outputs": [],
   "source": [
    "an_ = [2, 1, None, np.nan, 0, -1, \"\", \"Aa\"]\n",
    "\n",
    "an_ = pd.Series(\n",
    "    an_,\n",
    "    pd.Index((\"Label {}\".format(ie + 1) for ie in range(len(an_))), name=\"Dimension 2\"),\n",
    "    object,\n",
    "    \"Dimension 1\",\n",
    ")\n",
    "\n",
    "print(an_)\n",
    "\n",
    "kwat.series.binarize(an_)"
   ]
  }
 ],
 "metadata": {
  "kernelspec": {
   "display_name": "Python 3 (ipykernel)",
   "language": "python",
   "name": "python3"
  },
  "language_info": {
   "codemirror_mode": {
    "name": "ipython",
    "version": 3
   },
   "file_extension": ".py",
   "mimetype": "text/x-python",
   "name": "python",
   "nbconvert_exporter": "python",
   "pygments_lexer": "ipython3",
   "version": "3.9.6"
  }
 },
 "nbformat": 4,
 "nbformat_minor": 5
}
