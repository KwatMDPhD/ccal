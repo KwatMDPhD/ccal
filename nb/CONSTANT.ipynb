{
 "cells": [
  {
   "cell_type": "code",
   "execution_count": null,
   "metadata": {
    "execution": {
     "iopub.execute_input": "2021-08-25T07:02:34.464392Z",
     "iopub.status.busy": "2021-08-25T07:02:34.463686Z",
     "iopub.status.idle": "2021-08-25T07:02:34.477698Z",
     "shell.execute_reply": "2021-08-25T07:02:34.478186Z"
    },
    "tags": []
   },
   "outputs": [],
   "source": [
    "%load_ext autoreload\n",
    "%autoreload 2"
   ]
  },
  {
   "cell_type": "code",
   "execution_count": null,
   "metadata": {
    "execution": {
     "iopub.execute_input": "2021-08-25T07:02:34.482173Z",
     "iopub.status.busy": "2021-08-25T07:02:34.481415Z",
     "iopub.status.idle": "2021-08-25T07:02:35.103997Z",
     "shell.execute_reply": "2021-08-25T07:02:35.104372Z"
    },
    "tags": []
   },
   "outputs": [],
   "source": [
    "import kwat"
   ]
  },
  {
   "cell_type": "markdown",
   "metadata": {},
   "source": [
    "# DATA_DIRECTORY"
   ]
  },
  {
   "cell_type": "code",
   "execution_count": null,
   "metadata": {
    "execution": {
     "iopub.execute_input": "2021-08-25T07:02:35.107877Z",
     "iopub.status.busy": "2021-08-25T07:02:35.107223Z",
     "iopub.status.idle": "2021-08-25T07:02:35.134904Z",
     "shell.execute_reply": "2021-08-25T07:02:35.135310Z"
    },
    "tags": []
   },
   "outputs": [],
   "source": [
    "kwat.constant.DATA_DIRECTORY"
   ]
  },
  {
   "cell_type": "markdown",
   "metadata": {},
   "source": [
    "# FLOAT_RESOLUTION"
   ]
  },
  {
   "cell_type": "code",
   "execution_count": null,
   "metadata": {
    "execution": {
     "iopub.execute_input": "2021-08-25T07:02:35.138617Z",
     "iopub.status.busy": "2021-08-25T07:02:35.138050Z",
     "iopub.status.idle": "2021-08-25T07:02:35.161663Z",
     "shell.execute_reply": "2021-08-25T07:02:35.162309Z"
    },
    "tags": []
   },
   "outputs": [],
   "source": [
    "kwat.constant.FLOAT_RESOLUTION"
   ]
  },
  {
   "cell_type": "markdown",
   "metadata": {},
   "source": [
    "# GOLDEN_RATIO"
   ]
  },
  {
   "cell_type": "code",
   "execution_count": null,
   "metadata": {
    "execution": {
     "iopub.execute_input": "2021-08-25T07:02:35.165933Z",
     "iopub.status.busy": "2021-08-25T07:02:35.165352Z",
     "iopub.status.idle": "2021-08-25T07:02:35.188446Z",
     "shell.execute_reply": "2021-08-25T07:02:35.188010Z"
    },
    "tags": []
   },
   "outputs": [],
   "source": [
    "kwat.constant.GOLDEN_RATIO"
   ]
  },
  {
   "cell_type": "markdown",
   "metadata": {},
   "source": [
    "# RANDOM_SEED"
   ]
  },
  {
   "cell_type": "code",
   "execution_count": null,
   "metadata": {
    "execution": {
     "iopub.execute_input": "2021-08-25T07:02:35.191707Z",
     "iopub.status.busy": "2021-08-25T07:02:35.191128Z",
     "iopub.status.idle": "2021-08-25T07:02:35.216114Z",
     "shell.execute_reply": "2021-08-25T07:02:35.216525Z"
    },
    "tags": []
   },
   "outputs": [],
   "source": [
    "kwat.constant.RANDOM_SEED"
   ]
  },
  {
   "cell_type": "markdown",
   "metadata": {},
   "source": [
    "# SAMPLE_FRACTION"
   ]
  },
  {
   "cell_type": "code",
   "execution_count": null,
   "metadata": {
    "execution": {
     "iopub.execute_input": "2021-08-25T07:02:35.219895Z",
     "iopub.status.busy": "2021-08-25T07:02:35.219309Z",
     "iopub.status.idle": "2021-08-25T07:02:35.239865Z",
     "shell.execute_reply": "2021-08-25T07:02:35.240243Z"
    },
    "tags": []
   },
   "outputs": [],
   "source": [
    "kwat.constant.SAMPLE_FRACTION"
   ]
  }
 ],
 "metadata": {
  "kernelspec": {
   "display_name": "Python 3 (ipykernel)",
   "language": "python",
   "name": "python3"
  },
  "language_info": {
   "codemirror_mode": {
    "name": "ipython",
    "version": 3
   },
   "file_extension": ".py",
   "mimetype": "text/x-python",
   "name": "python",
   "nbconvert_exporter": "python",
   "pygments_lexer": "ipython3",
   "version": "3.9.6"
  }
 },
 "nbformat": 4,
 "nbformat_minor": 4
}
