{
 "cells": [
  {
   "cell_type": "code",
   "execution_count": null,
   "metadata": {
    "execution": {
     "iopub.execute_input": "2021-08-23T05:57:59.281810Z",
     "iopub.status.busy": "2021-08-23T05:57:59.281216Z",
     "iopub.status.idle": "2021-08-23T05:57:59.293509Z",
     "shell.execute_reply": "2021-08-23T05:57:59.293910Z"
    },
    "tags": []
   },
   "outputs": [],
   "source": [
    "%load_ext autoreload\n",
    "%autoreload 2"
   ]
  },
  {
   "cell_type": "code",
   "execution_count": null,
   "metadata": {
    "execution": {
     "iopub.execute_input": "2021-08-23T05:57:59.297122Z",
     "iopub.status.busy": "2021-08-23T05:57:59.296423Z",
     "iopub.status.idle": "2021-08-23T05:57:59.947886Z",
     "shell.execute_reply": "2021-08-23T05:57:59.948282Z"
    },
    "tags": []
   },
   "outputs": [],
   "source": [
    "import kwat"
   ]
  },
  {
   "cell_type": "markdown",
   "metadata": {},
   "source": [
    "# DATA_DIRECTORY_PATH"
   ]
  },
  {
   "cell_type": "code",
   "execution_count": null,
   "metadata": {
    "execution": {
     "iopub.execute_input": "2021-08-23T05:57:59.951447Z",
     "iopub.status.busy": "2021-08-23T05:57:59.950881Z",
     "iopub.status.idle": "2021-08-23T05:57:59.976278Z",
     "shell.execute_reply": "2021-08-23T05:57:59.977168Z"
    },
    "tags": []
   },
   "outputs": [],
   "source": [
    "kwat.constant.DATA_DIRECTORY_PATH"
   ]
  },
  {
   "cell_type": "markdown",
   "metadata": {},
   "source": [
    "# FLOAT_RESOLUTION"
   ]
  },
  {
   "cell_type": "code",
   "execution_count": null,
   "metadata": {
    "execution": {
     "iopub.execute_input": "2021-08-23T05:57:59.980555Z",
     "iopub.status.busy": "2021-08-23T05:57:59.979956Z",
     "iopub.status.idle": "2021-08-23T05:57:59.999832Z",
     "shell.execute_reply": "2021-08-23T05:58:00.000258Z"
    },
    "tags": []
   },
   "outputs": [],
   "source": [
    "kwat.constant.FLOAT_RESOLUTION"
   ]
  },
  {
   "cell_type": "markdown",
   "metadata": {},
   "source": [
    "# GOLDEN_RATIO"
   ]
  },
  {
   "cell_type": "code",
   "execution_count": null,
   "metadata": {
    "execution": {
     "iopub.execute_input": "2021-08-23T05:58:00.003919Z",
     "iopub.status.busy": "2021-08-23T05:58:00.003373Z",
     "iopub.status.idle": "2021-08-23T05:58:00.025428Z",
     "shell.execute_reply": "2021-08-23T05:58:00.025779Z"
    },
    "tags": []
   },
   "outputs": [],
   "source": [
    "kwat.constant.GOLDEN_RATIO"
   ]
  },
  {
   "cell_type": "markdown",
   "metadata": {},
   "source": [
    "# RANDOM_SEED"
   ]
  },
  {
   "cell_type": "code",
   "execution_count": null,
   "metadata": {
    "execution": {
     "iopub.execute_input": "2021-08-23T05:58:00.029400Z",
     "iopub.status.busy": "2021-08-23T05:58:00.028906Z",
     "iopub.status.idle": "2021-08-23T05:58:00.048409Z",
     "shell.execute_reply": "2021-08-23T05:58:00.048889Z"
    },
    "tags": []
   },
   "outputs": [],
   "source": [
    "kwat.constant.RANDOM_SEED"
   ]
  },
  {
   "cell_type": "markdown",
   "metadata": {},
   "source": [
    "# SAMPLE_FRACTION"
   ]
  },
  {
   "cell_type": "code",
   "execution_count": null,
   "metadata": {
    "execution": {
     "iopub.execute_input": "2021-08-23T05:58:00.052308Z",
     "iopub.status.busy": "2021-08-23T05:58:00.051605Z",
     "iopub.status.idle": "2021-08-23T05:58:00.072558Z",
     "shell.execute_reply": "2021-08-23T05:58:00.072189Z"
    },
    "tags": []
   },
   "outputs": [],
   "source": [
    "kwat.constant.SAMPLE_FRACTION"
   ]
  }
 ],
 "metadata": {
  "kernelspec": {
   "display_name": "Python 3 (ipykernel)",
   "language": "python",
   "name": "python3"
  },
  "language_info": {
   "codemirror_mode": {
    "name": "ipython",
    "version": 3
   },
   "file_extension": ".py",
   "mimetype": "text/x-python",
   "name": "python",
   "nbconvert_exporter": "python",
   "pygments_lexer": "ipython3",
   "version": "3.9.6"
  }
 },
 "nbformat": 4,
 "nbformat_minor": 4
}
