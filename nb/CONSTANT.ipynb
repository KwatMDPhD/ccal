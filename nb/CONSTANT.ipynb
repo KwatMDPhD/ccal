{
 "cells": [
  {
   "cell_type": "code",
   "execution_count": null,
   "metadata": {
    "execution": {
     "iopub.execute_input": "2021-07-23T23:06:39.960758Z",
     "iopub.status.busy": "2021-07-23T23:06:39.960073Z",
     "iopub.status.idle": "2021-07-23T23:06:39.973634Z",
     "shell.execute_reply": "2021-07-23T23:06:39.974020Z"
    }
   },
   "outputs": [],
   "source": [
    "%load_ext autoreload\n",
    "%autoreload 2"
   ]
  },
  {
   "cell_type": "code",
   "execution_count": null,
   "metadata": {
    "execution": {
     "iopub.execute_input": "2021-07-23T23:06:39.977479Z",
     "iopub.status.busy": "2021-07-23T23:06:39.976911Z",
     "iopub.status.idle": "2021-07-23T23:06:40.656395Z",
     "shell.execute_reply": "2021-07-23T23:06:40.656810Z"
    }
   },
   "outputs": [],
   "source": [
    "import kwat"
   ]
  },
  {
   "cell_type": "code",
   "execution_count": null,
   "metadata": {
    "execution": {
     "iopub.execute_input": "2021-07-23T23:06:40.660781Z",
     "iopub.status.busy": "2021-07-23T23:06:40.660208Z",
     "iopub.status.idle": "2021-07-23T23:06:40.685700Z",
     "shell.execute_reply": "2021-07-23T23:06:40.686185Z"
    }
   },
   "outputs": [],
   "source": [
    "kwat.CONSTANT.DATA_DIRECTORY_PATH"
   ]
  },
  {
   "cell_type": "code",
   "execution_count": null,
   "metadata": {
    "execution": {
     "iopub.execute_input": "2021-07-23T23:06:40.689378Z",
     "iopub.status.busy": "2021-07-23T23:06:40.688806Z",
     "iopub.status.idle": "2021-07-23T23:06:40.709525Z",
     "shell.execute_reply": "2021-07-23T23:06:40.709901Z"
    }
   },
   "outputs": [],
   "source": [
    "kwat.CONSTANT.FLOAT_RESOLUTION"
   ]
  },
  {
   "cell_type": "code",
   "execution_count": null,
   "metadata": {
    "execution": {
     "iopub.execute_input": "2021-07-23T23:06:40.713105Z",
     "iopub.status.busy": "2021-07-23T23:06:40.712542Z",
     "iopub.status.idle": "2021-07-23T23:06:40.732952Z",
     "shell.execute_reply": "2021-07-23T23:06:40.733366Z"
    }
   },
   "outputs": [],
   "source": [
    "kwat.CONSTANT.GOLDEN_FACTOR"
   ]
  },
  {
   "cell_type": "code",
   "execution_count": null,
   "metadata": {
    "execution": {
     "iopub.execute_input": "2021-07-23T23:06:40.736471Z",
     "iopub.status.busy": "2021-07-23T23:06:40.735906Z",
     "iopub.status.idle": "2021-07-23T23:06:40.756218Z",
     "shell.execute_reply": "2021-07-23T23:06:40.756630Z"
    }
   },
   "outputs": [],
   "source": [
    "kwat.CONSTANT.RANDOM_SEED"
   ]
  },
  {
   "cell_type": "code",
   "execution_count": null,
   "metadata": {
    "execution": {
     "iopub.execute_input": "2021-07-23T23:06:40.759966Z",
     "iopub.status.busy": "2021-07-23T23:06:40.759307Z",
     "iopub.status.idle": "2021-07-23T23:06:40.779605Z",
     "shell.execute_reply": "2021-07-23T23:06:40.780021Z"
    }
   },
   "outputs": [],
   "source": [
    "kwat.CONSTANT.SAMPLE_FRACTION"
   ]
  }
 ],
 "metadata": {
  "kernelspec": {
   "display_name": "Python 3 (ipykernel)",
   "language": "python",
   "name": "python3"
  },
  "language_info": {
   "codemirror_mode": {
    "name": "ipython",
    "version": 3
   },
   "file_extension": ".py",
   "mimetype": "text/x-python",
   "name": "python",
   "nbconvert_exporter": "python",
   "pygments_lexer": "ipython3",
   "version": "3.9.6"
  }
 },
 "nbformat": 4,
 "nbformat_minor": 4
}
