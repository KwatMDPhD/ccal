{
 "cells": [
  {
   "cell_type": "code",
   "execution_count": null,
   "metadata": {
    "execution": {
     "iopub.execute_input": "2021-08-26T01:52:03.427369Z",
     "iopub.status.busy": "2021-08-26T01:52:03.426616Z",
     "iopub.status.idle": "2021-08-26T01:52:03.441494Z",
     "shell.execute_reply": "2021-08-26T01:52:03.441929Z"
    },
    "tags": []
   },
   "outputs": [],
   "source": [
    "%load_ext autoreload\n",
    "%autoreload 2"
   ]
  },
  {
   "cell_type": "code",
   "execution_count": null,
   "metadata": {
    "execution": {
     "iopub.execute_input": "2021-08-26T01:52:03.445579Z",
     "iopub.status.busy": "2021-08-26T01:52:03.444981Z",
     "iopub.status.idle": "2021-08-26T01:52:04.080835Z",
     "shell.execute_reply": "2021-08-26T01:52:04.081283Z"
    },
    "tags": []
   },
   "outputs": [],
   "source": [
    "import kwat"
   ]
  },
  {
   "cell_type": "markdown",
   "metadata": {},
   "source": [
    "# DATA_DIRECTORY"
   ]
  },
  {
   "cell_type": "code",
   "execution_count": null,
   "metadata": {
    "execution": {
     "iopub.execute_input": "2021-08-26T01:52:04.084830Z",
     "iopub.status.busy": "2021-08-26T01:52:04.084274Z",
     "iopub.status.idle": "2021-08-26T01:52:04.108641Z",
     "shell.execute_reply": "2021-08-26T01:52:04.109066Z"
    },
    "tags": []
   },
   "outputs": [],
   "source": [
    "kwat.constant.DATA_DIRECTORY"
   ]
  },
  {
   "cell_type": "markdown",
   "metadata": {},
   "source": [
    "# FLOAT_RESOLUTION"
   ]
  },
  {
   "cell_type": "code",
   "execution_count": null,
   "metadata": {
    "execution": {
     "iopub.execute_input": "2021-08-26T01:52:04.112291Z",
     "iopub.status.busy": "2021-08-26T01:52:04.111747Z",
     "iopub.status.idle": "2021-08-26T01:52:04.131951Z",
     "shell.execute_reply": "2021-08-26T01:52:04.132314Z"
    },
    "tags": []
   },
   "outputs": [],
   "source": [
    "kwat.constant.FLOAT_RESOLUTION"
   ]
  },
  {
   "cell_type": "markdown",
   "metadata": {},
   "source": [
    "# GOLDEN_RATIO"
   ]
  },
  {
   "cell_type": "code",
   "execution_count": null,
   "metadata": {
    "execution": {
     "iopub.execute_input": "2021-08-26T01:52:04.135373Z",
     "iopub.status.busy": "2021-08-26T01:52:04.134863Z",
     "iopub.status.idle": "2021-08-26T01:52:04.154568Z",
     "shell.execute_reply": "2021-08-26T01:52:04.154921Z"
    },
    "tags": []
   },
   "outputs": [],
   "source": [
    "kwat.constant.GOLDEN_RATIO"
   ]
  },
  {
   "cell_type": "markdown",
   "metadata": {},
   "source": [
    "# RANDOM_SEED"
   ]
  },
  {
   "cell_type": "code",
   "execution_count": null,
   "metadata": {
    "execution": {
     "iopub.execute_input": "2021-08-26T01:52:04.158052Z",
     "iopub.status.busy": "2021-08-26T01:52:04.157548Z",
     "iopub.status.idle": "2021-08-26T01:52:04.177403Z",
     "shell.execute_reply": "2021-08-26T01:52:04.177019Z"
    },
    "tags": []
   },
   "outputs": [],
   "source": [
    "kwat.constant.RANDOM_SEED"
   ]
  },
  {
   "cell_type": "markdown",
   "metadata": {},
   "source": [
    "# SAMPLE_FRACTION"
   ]
  },
  {
   "cell_type": "code",
   "execution_count": null,
   "metadata": {
    "execution": {
     "iopub.execute_input": "2021-08-26T01:52:04.180642Z",
     "iopub.status.busy": "2021-08-26T01:52:04.180086Z",
     "iopub.status.idle": "2021-08-26T01:52:04.199652Z",
     "shell.execute_reply": "2021-08-26T01:52:04.200165Z"
    },
    "tags": []
   },
   "outputs": [],
   "source": [
    "kwat.constant.SAMPLE_FRACTION"
   ]
  }
 ],
 "metadata": {
  "kernelspec": {
   "display_name": "Python 3 (ipykernel)",
   "language": "python",
   "name": "python3"
  },
  "language_info": {
   "codemirror_mode": {
    "name": "ipython",
    "version": 3
   },
   "file_extension": ".py",
   "mimetype": "text/x-python",
   "name": "python",
   "nbconvert_exporter": "python",
   "pygments_lexer": "ipython3",
   "version": "3.9.6"
  }
 },
 "nbformat": 4,
 "nbformat_minor": 4
}
