{
 "cells": [
  {
   "cell_type": "code",
   "execution_count": null,
   "metadata": {
    "execution": {
     "iopub.execute_input": "2021-08-25T06:55:15.573788Z",
     "iopub.status.busy": "2021-08-25T06:55:15.573224Z",
     "iopub.status.idle": "2021-08-25T06:55:15.586870Z",
     "shell.execute_reply": "2021-08-25T06:55:15.587250Z"
    },
    "tags": []
   },
   "outputs": [],
   "source": [
    "%load_ext autoreload\n",
    "%autoreload 2"
   ]
  },
  {
   "cell_type": "code",
   "execution_count": null,
   "metadata": {
    "execution": {
     "iopub.execute_input": "2021-08-25T06:55:15.591107Z",
     "iopub.status.busy": "2021-08-25T06:55:15.590560Z",
     "iopub.status.idle": "2021-08-25T06:55:16.260125Z",
     "shell.execute_reply": "2021-08-25T06:55:16.260485Z"
    },
    "tags": []
   },
   "outputs": [],
   "source": [
    "import kwat"
   ]
  },
  {
   "cell_type": "markdown",
   "metadata": {},
   "source": [
    "# DATA_DIRECTORY"
   ]
  },
  {
   "cell_type": "code",
   "execution_count": null,
   "metadata": {
    "execution": {
     "iopub.execute_input": "2021-08-25T06:55:16.263949Z",
     "iopub.status.busy": "2021-08-25T06:55:16.263446Z",
     "iopub.status.idle": "2021-08-25T06:55:16.287882Z",
     "shell.execute_reply": "2021-08-25T06:55:16.288242Z"
    },
    "tags": []
   },
   "outputs": [],
   "source": [
    "kwat.constant.DATA_DIRECTORY"
   ]
  },
  {
   "cell_type": "markdown",
   "metadata": {},
   "source": [
    "# FLOAT_RESOLUTION"
   ]
  },
  {
   "cell_type": "code",
   "execution_count": null,
   "metadata": {
    "execution": {
     "iopub.execute_input": "2021-08-25T06:55:16.291457Z",
     "iopub.status.busy": "2021-08-25T06:55:16.290922Z",
     "iopub.status.idle": "2021-08-25T06:55:16.323710Z",
     "shell.execute_reply": "2021-08-25T06:55:16.324072Z"
    },
    "tags": []
   },
   "outputs": [],
   "source": [
    "kwat.constant.FLOAT_RESOLUTION"
   ]
  },
  {
   "cell_type": "markdown",
   "metadata": {},
   "source": [
    "# GOLDEN_RATIO"
   ]
  },
  {
   "cell_type": "code",
   "execution_count": null,
   "metadata": {
    "execution": {
     "iopub.execute_input": "2021-08-25T06:55:16.327301Z",
     "iopub.status.busy": "2021-08-25T06:55:16.326777Z",
     "iopub.status.idle": "2021-08-25T06:55:16.346944Z",
     "shell.execute_reply": "2021-08-25T06:55:16.347323Z"
    },
    "tags": []
   },
   "outputs": [],
   "source": [
    "kwat.constant.GOLDEN_RATIO"
   ]
  },
  {
   "cell_type": "markdown",
   "metadata": {},
   "source": [
    "# RANDOM_SEED"
   ]
  },
  {
   "cell_type": "code",
   "execution_count": null,
   "metadata": {
    "execution": {
     "iopub.execute_input": "2021-08-25T06:55:16.350436Z",
     "iopub.status.busy": "2021-08-25T06:55:16.349919Z",
     "iopub.status.idle": "2021-08-25T06:55:16.370035Z",
     "shell.execute_reply": "2021-08-25T06:55:16.370411Z"
    },
    "tags": []
   },
   "outputs": [],
   "source": [
    "kwat.constant.RANDOM_SEED"
   ]
  },
  {
   "cell_type": "markdown",
   "metadata": {},
   "source": [
    "# SAMPLE_FRACTION"
   ]
  },
  {
   "cell_type": "code",
   "execution_count": null,
   "metadata": {
    "execution": {
     "iopub.execute_input": "2021-08-25T06:55:16.373355Z",
     "iopub.status.busy": "2021-08-25T06:55:16.372837Z",
     "iopub.status.idle": "2021-08-25T06:55:16.392693Z",
     "shell.execute_reply": "2021-08-25T06:55:16.393075Z"
    },
    "tags": []
   },
   "outputs": [],
   "source": [
    "kwat.constant.SAMPLE_FRACTION"
   ]
  }
 ],
 "metadata": {
  "kernelspec": {
   "display_name": "Python 3 (ipykernel)",
   "language": "python",
   "name": "python3"
  },
  "language_info": {
   "codemirror_mode": {
    "name": "ipython",
    "version": 3
   },
   "file_extension": ".py",
   "mimetype": "text/x-python",
   "name": "python",
   "nbconvert_exporter": "python",
   "pygments_lexer": "ipython3",
   "version": "3.9.6"
  }
 },
 "nbformat": 4,
 "nbformat_minor": 4
}
