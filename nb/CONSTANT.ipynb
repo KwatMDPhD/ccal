{
 "cells": [
  {
   "cell_type": "code",
   "execution_count": null,
   "metadata": {
    "execution": {
     "iopub.execute_input": "2021-06-02T09:02:57.177627Z",
     "iopub.status.busy": "2021-06-02T09:02:57.176861Z",
     "iopub.status.idle": "2021-06-02T09:02:57.192914Z",
     "shell.execute_reply": "2021-06-02T09:02:57.192055Z"
    }
   },
   "outputs": [],
   "source": [
    "%load_ext autoreload\n",
    "%autoreload 2"
   ]
  },
  {
   "cell_type": "code",
   "execution_count": null,
   "metadata": {
    "execution": {
     "iopub.execute_input": "2021-06-02T09:02:57.196796Z",
     "iopub.status.busy": "2021-06-02T09:02:57.196195Z",
     "iopub.status.idle": "2021-06-02T09:02:57.733832Z",
     "shell.execute_reply": "2021-06-02T09:02:57.734314Z"
    }
   },
   "outputs": [],
   "source": [
    "import kraft"
   ]
  },
  {
   "cell_type": "code",
   "execution_count": null,
   "metadata": {
    "execution": {
     "iopub.execute_input": "2021-06-02T09:02:57.737411Z",
     "iopub.status.busy": "2021-06-02T09:02:57.736896Z",
     "iopub.status.idle": "2021-06-02T09:02:57.758834Z",
     "shell.execute_reply": "2021-06-02T09:02:57.759443Z"
    }
   },
   "outputs": [],
   "source": [
    "kraft.CONSTANT.DATA_DIRECTORY_PATH"
   ]
  },
  {
   "cell_type": "code",
   "execution_count": null,
   "metadata": {
    "execution": {
     "iopub.execute_input": "2021-06-02T09:02:57.762208Z",
     "iopub.status.busy": "2021-06-02T09:02:57.761720Z",
     "iopub.status.idle": "2021-06-02T09:02:57.777887Z",
     "shell.execute_reply": "2021-06-02T09:02:57.778225Z"
    }
   },
   "outputs": [],
   "source": [
    "kraft.CONSTANT.FLOAT_RESOLUTION"
   ]
  },
  {
   "cell_type": "code",
   "execution_count": null,
   "metadata": {
    "execution": {
     "iopub.execute_input": "2021-06-02T09:02:57.781117Z",
     "iopub.status.busy": "2021-06-02T09:02:57.780632Z",
     "iopub.status.idle": "2021-06-02T09:02:57.796441Z",
     "shell.execute_reply": "2021-06-02T09:02:57.796846Z"
    }
   },
   "outputs": [],
   "source": [
    "kraft.CONSTANT.GOLDEN_FACTOR"
   ]
  },
  {
   "cell_type": "code",
   "execution_count": null,
   "metadata": {
    "execution": {
     "iopub.execute_input": "2021-06-02T09:02:57.799448Z",
     "iopub.status.busy": "2021-06-02T09:02:57.798930Z",
     "iopub.status.idle": "2021-06-02T09:02:57.816414Z",
     "shell.execute_reply": "2021-06-02T09:02:57.816823Z"
    }
   },
   "outputs": [],
   "source": [
    "kraft.CONSTANT.RANDOM_SEED"
   ]
  },
  {
   "cell_type": "code",
   "execution_count": null,
   "metadata": {
    "execution": {
     "iopub.execute_input": "2021-06-02T09:02:57.819980Z",
     "iopub.status.busy": "2021-06-02T09:02:57.819475Z",
     "iopub.status.idle": "2021-06-02T09:02:57.836020Z",
     "shell.execute_reply": "2021-06-02T09:02:57.836361Z"
    }
   },
   "outputs": [],
   "source": [
    "kraft.CONSTANT.SAMPLE_FRACTION"
   ]
  }
 ],
 "metadata": {
  "kernelspec": {
   "display_name": "Python 3",
   "language": "python",
   "name": "python3"
  },
  "language_info": {
   "codemirror_mode": {
    "name": "ipython",
    "version": 3
   },
   "file_extension": ".py",
   "mimetype": "text/x-python",
   "name": "python",
   "nbconvert_exporter": "python",
   "pygments_lexer": "ipython3",
   "version": "3.8.9"
  }
 },
 "nbformat": 4,
 "nbformat_minor": 4
}
