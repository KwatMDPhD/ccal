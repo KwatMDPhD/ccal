{
 "cells": [
  {
   "cell_type": "code",
   "execution_count": null,
   "metadata": {
    "execution": {
     "iopub.execute_input": "2021-08-25T07:04:17.817981Z",
     "iopub.status.busy": "2021-08-25T07:04:17.817435Z",
     "iopub.status.idle": "2021-08-25T07:04:17.830072Z",
     "shell.execute_reply": "2021-08-25T07:04:17.830673Z"
    }
   },
   "outputs": [],
   "source": [
    "%load_ext autoreload\n",
    "%autoreload 2"
   ]
  },
  {
   "cell_type": "code",
   "execution_count": null,
   "metadata": {
    "execution": {
     "iopub.execute_input": "2021-08-25T07:04:17.834624Z",
     "iopub.status.busy": "2021-08-25T07:04:17.834010Z",
     "iopub.status.idle": "2021-08-25T07:04:18.487715Z",
     "shell.execute_reply": "2021-08-25T07:04:18.488050Z"
    }
   },
   "outputs": [],
   "source": [
    "import os\n",
    "\n",
    "import kwat"
   ]
  },
  {
   "cell_type": "code",
   "execution_count": null,
   "metadata": {
    "execution": {
     "iopub.execute_input": "2021-08-25T07:04:18.491789Z",
     "iopub.status.busy": "2021-08-25T07:04:18.491287Z",
     "iopub.status.idle": "2021-08-25T07:04:18.510699Z",
     "shell.execute_reply": "2021-08-25T07:04:18.511055Z"
    }
   },
   "outputs": [],
   "source": [
    "directory_path = os.path.expanduser(\"~/Downloads/\")"
   ]
  },
  {
   "cell_type": "markdown",
   "metadata": {},
   "source": [
    "## get_file_name"
   ]
  },
  {
   "cell_type": "code",
   "execution_count": null,
   "metadata": {
    "execution": {
     "iopub.execute_input": "2021-08-25T07:04:18.514981Z",
     "iopub.status.busy": "2021-08-25T07:04:18.514266Z",
     "iopub.status.idle": "2021-08-25T07:04:18.534695Z",
     "shell.execute_reply": "2021-08-25T07:04:18.535059Z"
    }
   },
   "outputs": [],
   "source": [
    "for url in (\n",
    "    \"https://raw.githubusercontent.com/kwatme/kwat/master/README.md\",\n",
    "    \"https://depmap.org/portal/download/api/download/external?file_name=ccle%2Fccle_2019%2FCCLE_RPPA_20181003.csv\",\n",
    "    \"https://ndownloader.figshare.com/files/11489723\",\n",
    "    \"https://ndownloader.figshare.com/files/22629107\",\n",
    "):\n",
    "\n",
    "    print(kwat.internet.get_name(url))"
   ]
  },
  {
   "cell_type": "markdown",
   "metadata": {},
   "source": [
    "## download"
   ]
  },
  {
   "cell_type": "code",
   "execution_count": null,
   "metadata": {
    "execution": {
     "iopub.execute_input": "2021-08-25T07:04:18.538531Z",
     "iopub.status.busy": "2021-08-25T07:04:18.537994Z",
     "iopub.status.idle": "2021-08-25T07:04:20.116364Z",
     "shell.execute_reply": "2021-08-25T07:04:20.116700Z"
    }
   },
   "outputs": [],
   "source": [
    "paths = []\n",
    "\n",
    "for url in (\n",
    "    \"https://raw.githubusercontent.com/kwatme/kwat/master/README.md\",\n",
    "    \"https://depmap.org/portal/download/api/download/external?file_name=ccle%2Fccle_2019%2FCCLE_RPPA_20181003.csv\",\n",
    "):\n",
    "\n",
    "    paths.append(kwat.internet.download(url, directory_path))"
   ]
  },
  {
   "cell_type": "markdown",
   "metadata": {},
   "source": [
    "## download_and_extract"
   ]
  },
  {
   "cell_type": "code",
   "execution_count": null,
   "metadata": {
    "execution": {
     "iopub.execute_input": "2021-08-25T07:04:20.120232Z",
     "iopub.status.busy": "2021-08-25T07:04:20.119649Z",
     "iopub.status.idle": "2021-08-25T07:04:25.978644Z",
     "shell.execute_reply": "2021-08-25T07:04:25.979007Z"
    }
   },
   "outputs": [],
   "source": [
    "for url in (\"https://github.com/kwatme/kwat/archive/master.zip\",):\n",
    "\n",
    "    kwat.internet.download_and_extract(url, directory_path)"
   ]
  }
 ],
 "metadata": {
  "kernelspec": {
   "display_name": "Python 3 (ipykernel)",
   "language": "python",
   "name": "python3"
  },
  "language_info": {
   "codemirror_mode": {
    "name": "ipython",
    "version": 3
   },
   "file_extension": ".py",
   "mimetype": "text/x-python",
   "name": "python",
   "nbconvert_exporter": "python",
   "pygments_lexer": "ipython3",
   "version": "3.9.6"
  }
 },
 "nbformat": 4,
 "nbformat_minor": 4
}
