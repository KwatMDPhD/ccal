{
 "cells": [
  {
   "outputs": [],
   "cell_type": "code",
   "source": [
    "%load_ext autoreload\n",
    "%autoreload 2"
   ],
   "metadata": {},
   "execution_count": null
  },
  {
   "outputs": [],
   "cell_type": "code",
   "source": [
    "import kwat"
   ],
   "metadata": {},
   "execution_count": null
  },
  {
   "cell_type": "markdown",
   "source": [
    "## get_margin_of_error"
   ],
   "metadata": {}
  },
  {
   "outputs": [],
   "cell_type": "code",
   "source": [
    "import numpy as np"
   ],
   "metadata": {},
   "execution_count": null
  },
  {
   "outputs": [],
   "cell_type": "code",
   "source": [
    "for po in range(8):\n",
    "    si = 10**po\n",
    "\n",
    "    print(si)\n",
    "\n",
    "    print(kwat.significance.get_margin_of_error(np.random.normal(size=si)))"
   ],
   "metadata": {},
   "execution_count": null
  },
  {
   "cell_type": "markdown",
   "source": [
    "## get_p_value"
   ],
   "metadata": {}
  },
  {
   "outputs": [],
   "cell_type": "code",
   "source": [
    "ra_ = np.arange(10)\n",
    "\n",
    "for nu in [0, 1, 8, 9]:\n",
    "    print()\n",
    "\n",
    "    print(nu)\n",
    "\n",
    "    for di in [\"<\", \">\"]:\n",
    "        print(di)\n",
    "\n",
    "        print(kwat.significance.get_p_value(nu, ra_, di))"
   ],
   "metadata": {},
   "execution_count": null
  },
  {
   "cell_type": "markdown",
   "source": [
    "## get_q_value"
   ],
   "metadata": {}
  },
  {
   "outputs": [],
   "cell_type": "code",
   "source": [
    "for n_pv in (1, 10, 100):\n",
    "    print(\"=\" * 80)\n",
    "\n",
    "    pv_ = np.linspace(0.001, 1, n_pv)\n",
    "\n",
    "    print(pv_)\n",
    "\n",
    "    print(kwat.significance.get_q_value(pv_))"
   ],
   "metadata": {},
   "execution_count": null
  },
  {
   "cell_type": "markdown",
   "source": [
    "## get_p_value_q_value"
   ],
   "metadata": {}
  },
  {
   "outputs": [],
   "cell_type": "code",
   "source": [
    "ra_ = np.arange(10)\n",
    "\n",
    "nu_ = np.array([0, 1, 8, 9])\n",
    "\n",
    "for di in (\"<\", \">\", \"<>\"):\n",
    "    print(di)\n",
    "\n",
    "    print(kwat.significance.get_p_value_and_q_value(nu_, ra_, di))"
   ],
   "metadata": {},
   "execution_count": null
  }
 ],
 "nbformat_minor": 4,
 "metadata": {
  "language_info": {
   "file_extension": ".py",
   "mimetype": "text/x-python",
   "name": "python",
   "nbconvert_exporter": "python",
   "pygments_lexer": "ipython3",
   "codemirror_mode": {
    "name": "ipython",
    "version": 3
   },
   "version": "3.9.7"
  },
  "@webio": {
   "lastKernelId": null,
   "lastCommId": null
  },
  "kernelspec": {
   "name": "python3",
   "display_name": "Python 3 (ipykernel)",
   "language": "python"
  }
 },
 "nbformat": 4
}
