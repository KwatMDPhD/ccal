{
 "cells": [
  {
   "cell_type": "code",
   "execution_count": null,
   "metadata": {
    "execution": {
     "iopub.execute_input": "2021-06-02T09:06:14.009774Z",
     "iopub.status.busy": "2021-06-02T09:06:14.008994Z",
     "iopub.status.idle": "2021-06-02T09:06:14.023999Z",
     "shell.execute_reply": "2021-06-02T09:06:14.024541Z"
    },
    "tags": []
   },
   "outputs": [],
   "source": [
    "%load_ext autoreload\n",
    "%autoreload 2"
   ]
  },
  {
   "cell_type": "code",
   "execution_count": null,
   "metadata": {
    "execution": {
     "iopub.execute_input": "2021-06-02T09:06:14.028020Z",
     "iopub.status.busy": "2021-06-02T09:06:14.027365Z",
     "iopub.status.idle": "2021-06-02T09:06:14.607121Z",
     "shell.execute_reply": "2021-06-02T09:06:14.607486Z"
    },
    "tags": []
   },
   "outputs": [],
   "source": [
    "import kraft"
   ]
  },
  {
   "cell_type": "markdown",
   "metadata": {},
   "source": [
    "## get_margin_of_error"
   ]
  },
  {
   "cell_type": "code",
   "execution_count": null,
   "metadata": {
    "execution": {
     "iopub.execute_input": "2021-06-02T09:06:14.611045Z",
     "iopub.status.busy": "2021-06-02T09:06:14.610534Z",
     "iopub.status.idle": "2021-06-02T09:06:14.628799Z",
     "shell.execute_reply": "2021-06-02T09:06:14.629231Z"
    },
    "tags": []
   },
   "outputs": [],
   "source": [
    "import numpy as np"
   ]
  },
  {
   "cell_type": "code",
   "execution_count": null,
   "metadata": {
    "execution": {
     "iopub.execute_input": "2021-06-02T09:06:14.632933Z",
     "iopub.status.busy": "2021-06-02T09:06:14.632172Z",
     "iopub.status.idle": "2021-06-02T09:06:14.988815Z",
     "shell.execute_reply": "2021-06-02T09:06:14.989308Z"
    },
    "tags": []
   },
   "outputs": [],
   "source": [
    "for po in range(8):\n",
    "\n",
    "    si = 10 ** po\n",
    "\n",
    "    print(si)\n",
    "\n",
    "    print(kraft.significance.get_margin_of_error(np.random.normal(size=si)))"
   ]
  },
  {
   "cell_type": "markdown",
   "metadata": {},
   "source": [
    "## get_p_value"
   ]
  },
  {
   "cell_type": "code",
   "execution_count": null,
   "metadata": {
    "execution": {
     "iopub.execute_input": "2021-06-02T09:06:14.993614Z",
     "iopub.status.busy": "2021-06-02T09:06:14.993000Z",
     "iopub.status.idle": "2021-06-02T09:06:15.013151Z",
     "shell.execute_reply": "2021-06-02T09:06:15.013588Z"
    },
    "tags": []
   },
   "outputs": [],
   "source": [
    "ra_ = np.arange(10)\n",
    "\n",
    "for nu in [0, 1, 8, 9]:\n",
    "\n",
    "    print()\n",
    "\n",
    "    print(nu)\n",
    "\n",
    "    for di in [\"<\", \">\"]:\n",
    "\n",
    "        print(di)\n",
    "\n",
    "        print(kraft.significance.get_p_value(nu, ra_, di))"
   ]
  },
  {
   "cell_type": "markdown",
   "metadata": {},
   "source": [
    "## get_p_value_q_value"
   ]
  },
  {
   "cell_type": "code",
   "execution_count": null,
   "metadata": {
    "execution": {
     "iopub.execute_input": "2021-06-02T09:06:15.017641Z",
     "iopub.status.busy": "2021-06-02T09:06:15.017022Z",
     "iopub.status.idle": "2021-06-02T09:06:15.039777Z",
     "shell.execute_reply": "2021-06-02T09:06:15.040255Z"
    },
    "tags": []
   },
   "outputs": [],
   "source": [
    "ra_ = np.arange(10)\n",
    "\n",
    "nu_ = np.array([0, 1, 8, 9])\n",
    "\n",
    "for di in (\"<\", \">\", \"<>\"):\n",
    "\n",
    "    print(di)\n",
    "\n",
    "    print(kraft.significance.get_p_value_q_value(nu_, ra_, di))"
   ]
  }
 ],
 "metadata": {
  "kernelspec": {
   "display_name": "Python 3",
   "language": "python",
   "name": "python3"
  },
  "language_info": {
   "codemirror_mode": {
    "name": "ipython",
    "version": 3
   },
   "file_extension": ".py",
   "mimetype": "text/x-python",
   "name": "python",
   "nbconvert_exporter": "python",
   "pygments_lexer": "ipython3",
   "version": "3.8.9"
  }
 },
 "nbformat": 4,
 "nbformat_minor": 4
}
