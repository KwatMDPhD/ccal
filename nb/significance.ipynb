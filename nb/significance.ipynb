{
 "cells": [
  {
   "cell_type": "code",
   "execution_count": null,
   "metadata": {
    "execution": {
     "iopub.execute_input": "2021-08-25T07:04:56.930350Z",
     "iopub.status.busy": "2021-08-25T07:04:56.929418Z",
     "iopub.status.idle": "2021-08-25T07:04:56.942460Z",
     "shell.execute_reply": "2021-08-25T07:04:56.942827Z"
    },
    "tags": []
   },
   "outputs": [],
   "source": [
    "%load_ext autoreload\n",
    "%autoreload 2"
   ]
  },
  {
   "cell_type": "code",
   "execution_count": null,
   "metadata": {
    "execution": {
     "iopub.execute_input": "2021-08-25T07:04:56.946356Z",
     "iopub.status.busy": "2021-08-25T07:04:56.945770Z",
     "iopub.status.idle": "2021-08-25T07:04:57.597482Z",
     "shell.execute_reply": "2021-08-25T07:04:57.597860Z"
    },
    "tags": []
   },
   "outputs": [],
   "source": [
    "import kwat"
   ]
  },
  {
   "cell_type": "markdown",
   "metadata": {},
   "source": [
    "## get_margin_of_error"
   ]
  },
  {
   "cell_type": "code",
   "execution_count": null,
   "metadata": {
    "execution": {
     "iopub.execute_input": "2021-08-25T07:04:57.601240Z",
     "iopub.status.busy": "2021-08-25T07:04:57.600690Z",
     "iopub.status.idle": "2021-08-25T07:04:57.620985Z",
     "shell.execute_reply": "2021-08-25T07:04:57.621341Z"
    },
    "tags": []
   },
   "outputs": [],
   "source": [
    "import numpy as np"
   ]
  },
  {
   "cell_type": "code",
   "execution_count": null,
   "metadata": {
    "execution": {
     "iopub.execute_input": "2021-08-25T07:04:57.625121Z",
     "iopub.status.busy": "2021-08-25T07:04:57.624504Z",
     "iopub.status.idle": "2021-08-25T07:04:57.943972Z",
     "shell.execute_reply": "2021-08-25T07:04:57.944401Z"
    },
    "tags": []
   },
   "outputs": [],
   "source": [
    "for po in range(8):\n",
    "\n",
    "    si = 10 ** po\n",
    "\n",
    "    print(si)\n",
    "\n",
    "    print(kwat.significance.get_margin_of_error(np.random.normal(size=si)))"
   ]
  },
  {
   "cell_type": "markdown",
   "metadata": {},
   "source": [
    "## get_p_value"
   ]
  },
  {
   "cell_type": "code",
   "execution_count": null,
   "metadata": {
    "execution": {
     "iopub.execute_input": "2021-08-25T07:04:57.948638Z",
     "iopub.status.busy": "2021-08-25T07:04:57.948033Z",
     "iopub.status.idle": "2021-08-25T07:04:57.972180Z",
     "shell.execute_reply": "2021-08-25T07:04:57.972619Z"
    },
    "tags": []
   },
   "outputs": [],
   "source": [
    "ra_ = np.arange(10)\n",
    "\n",
    "for nu in [0, 1, 8, 9]:\n",
    "\n",
    "    print()\n",
    "\n",
    "    print(nu)\n",
    "\n",
    "    for di in [\"<\", \">\"]:\n",
    "\n",
    "        print(di)\n",
    "\n",
    "        print(kwat.significance.get_p_value(nu, ra_, di))"
   ]
  },
  {
   "cell_type": "markdown",
   "metadata": {},
   "source": [
    "## get_q_value"
   ]
  },
  {
   "cell_type": "code",
   "execution_count": null,
   "metadata": {
    "execution": {
     "iopub.execute_input": "2021-08-25T07:04:57.976519Z",
     "iopub.status.busy": "2021-08-25T07:04:57.975929Z",
     "iopub.status.idle": "2021-08-25T07:04:58.001857Z",
     "shell.execute_reply": "2021-08-25T07:04:58.002387Z"
    }
   },
   "outputs": [],
   "source": [
    "for n_pv in (1, 10, 100):\n",
    "\n",
    "    print(\"=\" * 80)\n",
    "\n",
    "    print(kwat.significance.get_q_value(np.linspace(0.001, 1, n_pv)))"
   ]
  },
  {
   "cell_type": "markdown",
   "metadata": {},
   "source": [
    "## get_p_value_q_value"
   ]
  },
  {
   "cell_type": "code",
   "execution_count": null,
   "metadata": {
    "execution": {
     "iopub.execute_input": "2021-08-25T07:04:58.006342Z",
     "iopub.status.busy": "2021-08-25T07:04:58.005727Z",
     "iopub.status.idle": "2021-08-25T07:04:58.028948Z",
     "shell.execute_reply": "2021-08-25T07:04:58.029353Z"
    },
    "tags": []
   },
   "outputs": [],
   "source": [
    "ra_ = np.arange(10)\n",
    "\n",
    "nu_ = np.array([0, 1, 8, 9])\n",
    "\n",
    "for di in (\"<\", \">\", \"<>\"):\n",
    "\n",
    "    print(di)\n",
    "\n",
    "    print(kwat.significance.get_p_value_q_value(nu_, ra_, di))"
   ]
  }
 ],
 "metadata": {
  "kernelspec": {
   "display_name": "Python 3 (ipykernel)",
   "language": "python",
   "name": "python3"
  },
  "language_info": {
   "codemirror_mode": {
    "name": "ipython",
    "version": 3
   },
   "file_extension": ".py",
   "mimetype": "text/x-python",
   "name": "python",
   "nbconvert_exporter": "python",
   "pygments_lexer": "ipython3",
   "version": "3.9.6"
  }
 },
 "nbformat": 4,
 "nbformat_minor": 4
}
