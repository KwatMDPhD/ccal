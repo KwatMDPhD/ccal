{
 "cells": [
  {
   "cell_type": "code",
   "execution_count": null,
   "metadata": {
    "execution": {
     "iopub.execute_input": "2021-08-23T06:01:43.499378Z",
     "iopub.status.busy": "2021-08-23T06:01:43.498711Z",
     "iopub.status.idle": "2021-08-23T06:01:43.513193Z",
     "shell.execute_reply": "2021-08-23T06:01:43.513639Z"
    },
    "tags": []
   },
   "outputs": [],
   "source": [
    "%load_ext autoreload\n",
    "%autoreload 2"
   ]
  },
  {
   "cell_type": "code",
   "execution_count": null,
   "metadata": {
    "execution": {
     "iopub.execute_input": "2021-08-23T06:01:43.517244Z",
     "iopub.status.busy": "2021-08-23T06:01:43.516602Z",
     "iopub.status.idle": "2021-08-23T06:01:44.181457Z",
     "shell.execute_reply": "2021-08-23T06:01:44.181834Z"
    },
    "tags": []
   },
   "outputs": [],
   "source": [
    "import kwat"
   ]
  },
  {
   "cell_type": "markdown",
   "metadata": {},
   "source": [
    "## get_margin_of_error"
   ]
  },
  {
   "cell_type": "code",
   "execution_count": null,
   "metadata": {
    "execution": {
     "iopub.execute_input": "2021-08-23T06:01:44.185776Z",
     "iopub.status.busy": "2021-08-23T06:01:44.185215Z",
     "iopub.status.idle": "2021-08-23T06:01:44.205804Z",
     "shell.execute_reply": "2021-08-23T06:01:44.206175Z"
    },
    "tags": []
   },
   "outputs": [],
   "source": [
    "import numpy as np"
   ]
  },
  {
   "cell_type": "code",
   "execution_count": null,
   "metadata": {
    "execution": {
     "iopub.execute_input": "2021-08-23T06:01:44.210031Z",
     "iopub.status.busy": "2021-08-23T06:01:44.209399Z",
     "iopub.status.idle": "2021-08-23T06:01:44.532765Z",
     "shell.execute_reply": "2021-08-23T06:01:44.533264Z"
    },
    "tags": []
   },
   "outputs": [],
   "source": [
    "for po in range(8):\n",
    "\n",
    "    si = 10 ** po\n",
    "\n",
    "    print(si)\n",
    "\n",
    "    print(kwat.significance.get_margin_of_error(np.random.normal(size=si)))"
   ]
  },
  {
   "cell_type": "markdown",
   "metadata": {},
   "source": [
    "## get_p_value"
   ]
  },
  {
   "cell_type": "code",
   "execution_count": null,
   "metadata": {
    "execution": {
     "iopub.execute_input": "2021-08-23T06:01:44.537415Z",
     "iopub.status.busy": "2021-08-23T06:01:44.536812Z",
     "iopub.status.idle": "2021-08-23T06:01:44.562436Z",
     "shell.execute_reply": "2021-08-23T06:01:44.562924Z"
    },
    "tags": []
   },
   "outputs": [],
   "source": [
    "ra_ = np.arange(10)\n",
    "\n",
    "for nu in [0, 1, 8, 9]:\n",
    "\n",
    "    print()\n",
    "\n",
    "    print(nu)\n",
    "\n",
    "    for di in [\"<\", \">\"]:\n",
    "\n",
    "        print(di)\n",
    "\n",
    "        print(kwat.significance.get_p_value(nu, ra_, di))"
   ]
  },
  {
   "cell_type": "markdown",
   "metadata": {},
   "source": [
    "## get_q_value"
   ]
  },
  {
   "cell_type": "code",
   "execution_count": null,
   "metadata": {
    "execution": {
     "iopub.execute_input": "2021-08-23T06:01:44.566539Z",
     "iopub.status.busy": "2021-08-23T06:01:44.565495Z",
     "iopub.status.idle": "2021-08-23T06:01:44.592868Z",
     "shell.execute_reply": "2021-08-23T06:01:44.593335Z"
    }
   },
   "outputs": [],
   "source": [
    "for n_pv in (1, 10, 100):\n",
    "\n",
    "    print(\"=\" * 80)\n",
    "\n",
    "    print(kwat.significance.get_q_value(np.linspace(0.001, 1, n_pv)))"
   ]
  },
  {
   "cell_type": "markdown",
   "metadata": {},
   "source": [
    "## get_p_value_q_value"
   ]
  },
  {
   "cell_type": "code",
   "execution_count": null,
   "metadata": {
    "execution": {
     "iopub.execute_input": "2021-08-23T06:01:44.597449Z",
     "iopub.status.busy": "2021-08-23T06:01:44.596792Z",
     "iopub.status.idle": "2021-08-23T06:01:44.622288Z",
     "shell.execute_reply": "2021-08-23T06:01:44.622722Z"
    },
    "tags": []
   },
   "outputs": [],
   "source": [
    "ra_ = np.arange(10)\n",
    "\n",
    "nu_ = np.array([0, 1, 8, 9])\n",
    "\n",
    "for di in (\"<\", \">\", \"<>\"):\n",
    "\n",
    "    print(di)\n",
    "\n",
    "    print(kwat.significance.get_p_value_q_value(nu_, ra_, di))"
   ]
  }
 ],
 "metadata": {
  "kernelspec": {
   "display_name": "Python 3 (ipykernel)",
   "language": "python",
   "name": "python3"
  },
  "language_info": {
   "codemirror_mode": {
    "name": "ipython",
    "version": 3
   },
   "file_extension": ".py",
   "mimetype": "text/x-python",
   "name": "python",
   "nbconvert_exporter": "python",
   "pygments_lexer": "ipython3",
   "version": "3.9.6"
  }
 },
 "nbformat": 4,
 "nbformat_minor": 4
}
