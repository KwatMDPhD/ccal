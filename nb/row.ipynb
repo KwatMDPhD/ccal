{
 "cells": [
  {
   "cell_type": "code",
   "execution_count": null,
   "metadata": {
    "execution": {
     "iopub.execute_input": "2021-08-23T06:01:33.951235Z",
     "iopub.status.busy": "2021-08-23T06:01:33.950477Z",
     "iopub.status.idle": "2021-08-23T06:01:33.965191Z",
     "shell.execute_reply": "2021-08-23T06:01:33.965707Z"
    },
    "tags": []
   },
   "outputs": [],
   "source": [
    "%load_ext autoreload\n",
    "%autoreload 2"
   ]
  },
  {
   "cell_type": "code",
   "execution_count": null,
   "metadata": {
    "execution": {
     "iopub.execute_input": "2021-08-23T06:01:33.969206Z",
     "iopub.status.busy": "2021-08-23T06:01:33.968601Z",
     "iopub.status.idle": "2021-08-23T06:01:34.657925Z",
     "shell.execute_reply": "2021-08-23T06:01:34.658353Z"
    },
    "tags": []
   },
   "outputs": [],
   "source": [
    "import numpy as np\n",
    "\n",
    "import kwat"
   ]
  },
  {
   "cell_type": "markdown",
   "metadata": {},
   "source": [
    "## compare_with_target"
   ]
  },
  {
   "cell_type": "code",
   "execution_count": null,
   "metadata": {
    "execution": {
     "iopub.execute_input": "2021-08-23T06:01:34.663068Z",
     "iopub.status.busy": "2021-08-23T06:01:34.662446Z",
     "iopub.status.idle": "2021-08-23T06:01:35.654611Z",
     "shell.execute_reply": "2021-08-23T06:01:35.655096Z"
    }
   },
   "outputs": [],
   "source": [
    "ta = np.array([0, 0, 1, 1])\n",
    "\n",
    "ro_ = np.array(\n",
    "    [\n",
    "        [-1, -1, 1, 1],\n",
    "        [-2, -2, 2, 2],\n",
    "        [-3, -3, 3, 3],\n",
    "    ]\n",
    ")\n",
    "\n",
    "kwat.row.compare_with_target(ta, ro_, np.dot)"
   ]
  },
  {
   "cell_type": "markdown",
   "metadata": {},
   "source": [
    "## compare_with_other"
   ]
  },
  {
   "cell_type": "code",
   "execution_count": null,
   "metadata": {
    "execution": {
     "iopub.execute_input": "2021-08-23T06:01:35.659377Z",
     "iopub.status.busy": "2021-08-23T06:01:35.658641Z",
     "iopub.status.idle": "2021-08-23T06:01:35.683824Z",
     "shell.execute_reply": "2021-08-23T06:01:35.684243Z"
    },
    "tags": []
   },
   "outputs": [],
   "source": [
    "ro1 = np.array([np.nan, 0, 1, np.nan, 2])\n",
    "\n",
    "ro2 = np.array([np.nan, 0, 1, 2, np.nan])"
   ]
  },
  {
   "cell_type": "code",
   "execution_count": null,
   "metadata": {
    "execution": {
     "iopub.execute_input": "2021-08-23T06:01:35.687962Z",
     "iopub.status.busy": "2021-08-23T06:01:35.687382Z",
     "iopub.status.idle": "2021-08-23T06:01:35.710072Z",
     "shell.execute_reply": "2021-08-23T06:01:35.710558Z"
    },
    "tags": []
   },
   "outputs": [],
   "source": [
    "np.dot(ro1, ro2)"
   ]
  },
  {
   "cell_type": "code",
   "execution_count": null,
   "metadata": {
    "execution": {
     "iopub.execute_input": "2021-08-23T06:01:35.713861Z",
     "iopub.status.busy": "2021-08-23T06:01:35.713294Z",
     "iopub.status.idle": "2021-08-23T06:01:35.734667Z",
     "shell.execute_reply": "2021-08-23T06:01:35.735024Z"
    },
    "tags": []
   },
   "outputs": [],
   "source": [
    "kwat.row.compare_with_other(ro1, ro2, np.dot)"
   ]
  },
  {
   "cell_type": "code",
   "execution_count": null,
   "metadata": {
    "execution": {
     "iopub.execute_input": "2021-08-23T06:01:35.738355Z",
     "iopub.status.busy": "2021-08-23T06:01:35.737860Z",
     "iopub.status.idle": "2021-08-23T06:01:35.757031Z",
     "shell.execute_reply": "2021-08-23T06:01:35.757405Z"
    },
    "tags": []
   },
   "outputs": [],
   "source": [
    "ro1 = np.array([[0, 0], [0.1, 0.1], [1, 1], [10, 10]])\n",
    "\n",
    "ro2 = np.array([[2, 2], [4, 4]])"
   ]
  },
  {
   "cell_type": "code",
   "execution_count": null,
   "metadata": {
    "execution": {
     "iopub.execute_input": "2021-08-23T06:01:35.761072Z",
     "iopub.status.busy": "2021-08-23T06:01:35.760484Z",
     "iopub.status.idle": "2021-08-23T06:01:35.780677Z",
     "shell.execute_reply": "2021-08-23T06:01:35.781024Z"
    },
    "tags": []
   },
   "outputs": [],
   "source": [
    "np.dot(ro1, ro2)"
   ]
  },
  {
   "cell_type": "code",
   "execution_count": null,
   "metadata": {
    "execution": {
     "iopub.execute_input": "2021-08-23T06:01:35.783938Z",
     "iopub.status.busy": "2021-08-23T06:01:35.783445Z",
     "iopub.status.idle": "2021-08-23T06:01:35.802570Z",
     "shell.execute_reply": "2021-08-23T06:01:35.802978Z"
    },
    "tags": []
   },
   "outputs": [],
   "source": [
    "kwat.row.compare_with_other(ro1, ro2, np.dot)"
   ]
  }
 ],
 "metadata": {
  "kernelspec": {
   "display_name": "Python 3 (ipykernel)",
   "language": "python",
   "name": "python3"
  },
  "language_info": {
   "codemirror_mode": {
    "name": "ipython",
    "version": 3
   },
   "file_extension": ".py",
   "mimetype": "text/x-python",
   "name": "python",
   "nbconvert_exporter": "python",
   "pygments_lexer": "ipython3",
   "version": "3.9.6"
  }
 },
 "nbformat": 4,
 "nbformat_minor": 4
}
