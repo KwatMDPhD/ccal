{
 "cells": [
  {
   "cell_type": "code",
   "execution_count": null,
   "metadata": {
    "execution": {
     "iopub.execute_input": "2021-08-25T07:04:47.775718Z",
     "iopub.status.busy": "2021-08-25T07:04:47.775179Z",
     "iopub.status.idle": "2021-08-25T07:04:47.787638Z",
     "shell.execute_reply": "2021-08-25T07:04:47.788002Z"
    },
    "tags": []
   },
   "outputs": [],
   "source": [
    "%load_ext autoreload\n",
    "%autoreload 2"
   ]
  },
  {
   "cell_type": "code",
   "execution_count": null,
   "metadata": {
    "execution": {
     "iopub.execute_input": "2021-08-25T07:04:47.791642Z",
     "iopub.status.busy": "2021-08-25T07:04:47.791096Z",
     "iopub.status.idle": "2021-08-25T07:04:48.441424Z",
     "shell.execute_reply": "2021-08-25T07:04:48.441784Z"
    },
    "tags": []
   },
   "outputs": [],
   "source": [
    "import kwat\n",
    "import numpy as np"
   ]
  },
  {
   "cell_type": "markdown",
   "metadata": {},
   "source": [
    "## apply_with_vector"
   ]
  },
  {
   "cell_type": "code",
   "execution_count": null,
   "metadata": {
    "execution": {
     "iopub.execute_input": "2021-08-25T07:04:48.445703Z",
     "iopub.status.busy": "2021-08-25T07:04:48.445203Z",
     "iopub.status.idle": "2021-08-25T07:04:49.408659Z",
     "shell.execute_reply": "2021-08-25T07:04:49.409069Z"
    }
   },
   "outputs": [],
   "source": [
    "ta = np.array([0, 0, 1, 1])\n",
    "\n",
    "ro_ = np.array([[-1, -1, 1, 1], [-2, -2, 2, 2], [-3, -3, 3, 3]])\n",
    "\n",
    "kwat.row.apply_with_vector(ta, ro_, np.dot)"
   ]
  },
  {
   "cell_type": "markdown",
   "metadata": {},
   "source": [
    "## apply_with_matrix"
   ]
  },
  {
   "cell_type": "code",
   "execution_count": null,
   "metadata": {
    "execution": {
     "iopub.execute_input": "2021-08-25T07:04:49.412807Z",
     "iopub.status.busy": "2021-08-25T07:04:49.412307Z",
     "iopub.status.idle": "2021-08-25T07:04:49.434333Z",
     "shell.execute_reply": "2021-08-25T07:04:49.434716Z"
    },
    "tags": []
   },
   "outputs": [],
   "source": [
    "ro1 = np.array([np.nan, 0, 1, np.nan, 2])\n",
    "\n",
    "ro2 = np.array([np.nan, 0, 1, 2, np.nan])"
   ]
  },
  {
   "cell_type": "code",
   "execution_count": null,
   "metadata": {
    "execution": {
     "iopub.execute_input": "2021-08-25T07:04:49.438045Z",
     "iopub.status.busy": "2021-08-25T07:04:49.437515Z",
     "iopub.status.idle": "2021-08-25T07:04:49.459044Z",
     "shell.execute_reply": "2021-08-25T07:04:49.459457Z"
    },
    "tags": []
   },
   "outputs": [],
   "source": [
    "np.dot(ro1, ro2)"
   ]
  },
  {
   "cell_type": "code",
   "execution_count": null,
   "metadata": {
    "execution": {
     "iopub.execute_input": "2021-08-25T07:04:49.463071Z",
     "iopub.status.busy": "2021-08-25T07:04:49.462488Z",
     "iopub.status.idle": "2021-08-25T07:04:49.484451Z",
     "shell.execute_reply": "2021-08-25T07:04:49.484812Z"
    },
    "tags": []
   },
   "outputs": [],
   "source": [
    "kwat.row.apply_with_matrix(ro1, ro2, np.dot)"
   ]
  },
  {
   "cell_type": "code",
   "execution_count": null,
   "metadata": {
    "execution": {
     "iopub.execute_input": "2021-08-25T07:04:49.488559Z",
     "iopub.status.busy": "2021-08-25T07:04:49.488019Z",
     "iopub.status.idle": "2021-08-25T07:04:49.509362Z",
     "shell.execute_reply": "2021-08-25T07:04:49.509721Z"
    },
    "tags": []
   },
   "outputs": [],
   "source": [
    "ro1 = np.array([[0, 0], [0.1, 0.1], [1, 1], [10, 10]])\n",
    "\n",
    "ro2 = np.array([[2, 2], [4, 4]])"
   ]
  },
  {
   "cell_type": "code",
   "execution_count": null,
   "metadata": {
    "execution": {
     "iopub.execute_input": "2021-08-25T07:04:49.513059Z",
     "iopub.status.busy": "2021-08-25T07:04:49.512557Z",
     "iopub.status.idle": "2021-08-25T07:04:49.532372Z",
     "shell.execute_reply": "2021-08-25T07:04:49.532721Z"
    },
    "tags": []
   },
   "outputs": [],
   "source": [
    "np.dot(ro1, ro2)"
   ]
  },
  {
   "cell_type": "code",
   "execution_count": null,
   "metadata": {
    "execution": {
     "iopub.execute_input": "2021-08-25T07:04:49.536048Z",
     "iopub.status.busy": "2021-08-25T07:04:49.535553Z",
     "iopub.status.idle": "2021-08-25T07:04:49.555901Z",
     "shell.execute_reply": "2021-08-25T07:04:49.556251Z"
    },
    "tags": []
   },
   "outputs": [],
   "source": [
    "kwat.row.apply_with_matrix(ro1, ro2, np.dot)"
   ]
  }
 ],
 "metadata": {
  "kernelspec": {
   "display_name": "Python 3 (ipykernel)",
   "language": "python",
   "name": "python3"
  },
  "language_info": {
   "codemirror_mode": {
    "name": "ipython",
    "version": 3
   },
   "file_extension": ".py",
   "mimetype": "text/x-python",
   "name": "python",
   "nbconvert_exporter": "python",
   "pygments_lexer": "ipython3",
   "version": "3.9.6"
  }
 },
 "nbformat": 4,
 "nbformat_minor": 4
}
