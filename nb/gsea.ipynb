{
 "cells": [
  {
   "cell_type": "code",
   "execution_count": null,
   "id": "02f849f2-a187-4cb9-b822-b3308da4f82c",
   "metadata": {},
   "outputs": [],
   "source": [
    "import kraft\n",
    "import numpy as np\n",
    "import pandas as pd"
   ]
  },
  {
   "cell_type": "code",
   "execution_count": null,
   "id": "7299dc52-1559-4794-9144-d84a337d07ce",
   "metadata": {},
   "outputs": [],
   "source": [
    "def s(v1, v2):\n",
    "\n",
    "    return"
   ]
  },
  {
   "cell_type": "code",
   "execution_count": null,
   "id": "ce656d16-efc3-4ba2-8a60-36bcbcfeb171",
   "metadata": {},
   "outputs": [],
   "source": [
    "def t(v1, v2):\n",
    "\n",
    "    return"
   ]
  },
  {
   "cell_type": "code",
   "execution_count": null,
   "id": "1957566f-a1e0-48b2-860e-345192240230",
   "metadata": {},
   "outputs": [],
   "source": [
    "def r(v1, v2):\n",
    "\n",
    "    return"
   ]
  },
  {
   "cell_type": "code",
   "execution_count": null,
   "id": "c75743c7-4d3e-46aa-8b65-0457c7515cb8",
   "metadata": {},
   "outputs": [],
   "source": [
    "def d(v1, v2):\n",
    "\n",
    "    return"
   ]
  },
  {
   "cell_type": "code",
   "execution_count": null,
   "id": "4bd8da39-0e1c-446a-b9ef-2751797065aa",
   "metadata": {},
   "outputs": [],
   "source": [
    "def l(v1, v2):\n",
    "\n",
    "    return"
   ]
  },
  {
   "cell_type": "code",
   "execution_count": null,
   "id": "989b17e1-c852-4a39-aed8-21dad91722b3",
   "metadata": {},
   "outputs": [],
   "source": [
    "def p(v1, v2):\n",
    "\n",
    "    return"
   ]
  },
  {
   "cell_type": "code",
   "execution_count": null,
   "id": "3e48ce35-ac5d-4ca8-a923-b0796a716410",
   "metadata": {},
   "outputs": [],
   "source": [
    "def c(v1, v2):\n",
    "\n",
    "    return"
   ]
  },
  {
   "cell_type": "code",
   "execution_count": null,
   "id": "6e0585e0-8aa8-4f58-9361-dfdb58548a77",
   "metadata": {},
   "outputs": [],
   "source": [
    "def ic(v1, v2):\n",
    "\n",
    "    return kraft.information.get_ic(v1, v2)"
   ]
  },
  {
   "cell_type": "code",
   "execution_count": null,
   "id": "ad9be258-bf15-4af3-beb9-d041e1d0c2f2",
   "metadata": {},
   "outputs": [],
   "source": [
    "me_fu = {\n",
    "    \"s\": s,\n",
    "    \"t\": t,\n",
    "    \"r\": r,\n",
    "    \"d\": d,\n",
    "    \"l\": l,\n",
    "    \"p\": p,\n",
    "    \"c\": c,\n",
    "    \"ic\": ic,\n",
    "}"
   ]
  }
 ],
 "metadata": {
  "kernelspec": {
   "display_name": "Python 3 (ipykernel)",
   "language": "python",
   "name": "python3"
  },
  "language_info": {
   "codemirror_mode": {
    "name": "ipython",
    "version": 3
   },
   "file_extension": ".py",
   "mimetype": "text/x-python",
   "name": "python",
   "nbconvert_exporter": "python",
   "pygments_lexer": "ipython3",
   "version": "3.9.6"
  }
 },
 "nbformat": 4,
 "nbformat_minor": 5
}
