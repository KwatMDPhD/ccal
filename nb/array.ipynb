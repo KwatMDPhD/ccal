{
 "cells": [
  {
   "outputs": [],
   "cell_type": "code",
   "source": [
    "%load_ext autoreload\n",
    "%autoreload 2"
   ],
   "metadata": {},
   "execution_count": null
  },
  {
   "outputs": [],
   "cell_type": "code",
   "source": [
    "import kwat\n",
    "import numpy as np"
   ],
   "metadata": {},
   "execution_count": null
  },
  {
   "cell_type": "markdown",
   "source": [
    "## apply"
   ],
   "metadata": {}
  },
  {
   "outputs": [],
   "cell_type": "code",
   "source": [
    "ar = np.array([np.nan, 0, 1, 2, np.nan])"
   ],
   "metadata": {},
   "execution_count": null
  },
  {
   "outputs": [],
   "cell_type": "code",
   "source": [
    "np.sum(ar)"
   ],
   "metadata": {},
   "execution_count": null
  },
  {
   "outputs": [],
   "cell_type": "code",
   "source": [
    "kwat.array.apply(ar, np.sum)"
   ],
   "metadata": {},
   "execution_count": null
  },
  {
   "outputs": [],
   "cell_type": "code",
   "source": [
    "np.cumsum(ar)"
   ],
   "metadata": {},
   "execution_count": null
  },
  {
   "outputs": [],
   "cell_type": "code",
   "source": [
    "kwat.array.apply(ar, np.cumsum)"
   ],
   "metadata": {},
   "execution_count": null
  },
  {
   "outputs": [],
   "cell_type": "code",
   "source": [
    "kwat.array.apply(ar, np.cumsum, up=True)"
   ],
   "metadata": {},
   "execution_count": null
  },
  {
   "cell_type": "markdown",
   "source": [
    "## check_extreme"
   ],
   "metadata": {}
  },
  {
   "outputs": [],
   "cell_type": "code",
   "source": [
    "ar = np.arange(10)\n",
    "\n",
    "for di in [\"<\", \">\", \"<>\"]:\n",
    "    print()\n",
    "\n",
    "    print(di)\n",
    "\n",
    "    for ke_ in [{\"th_\": (2, np.nan)}, {\"th_\": (np.nan, 8)}, {\"n_ex\": 2}, {\"st\": 2}]:\n",
    "        print(ke_)\n",
    "\n",
    "        print(ar[kwat.array.check_extreme(ar, di, **ke_)])"
   ],
   "metadata": {},
   "execution_count": null
  },
  {
   "cell_type": "markdown",
   "source": [
    "## check_not_nan"
   ],
   "metadata": {}
  },
  {
   "outputs": [],
   "cell_type": "code",
   "source": [
    "kwat.array.check_not_nan([np.nan, 0, 1.0, 2, False, True, np.nan])"
   ],
   "metadata": {},
   "execution_count": null
  },
  {
   "cell_type": "markdown",
   "source": [
    "## clip"
   ],
   "metadata": {}
  },
  {
   "outputs": [],
   "cell_type": "code",
   "source": [
    "ar = np.arange(-2, 3)\n",
    "\n",
    "for st in [0, 1, 2]:\n",
    "    print(kwat.array.clip(ar, st))"
   ],
   "metadata": {},
   "execution_count": null
  },
  {
   "cell_type": "markdown",
   "source": [
    "## get_not_nan_unique"
   ],
   "metadata": {}
  },
  {
   "outputs": [],
   "cell_type": "code",
   "source": [
    "kwat.array.get_not_nan_unique(np.array([np.nan, 0, 1.0, 2, 2, False, True, np.nan]))"
   ],
   "metadata": {},
   "execution_count": null
  },
  {
   "cell_type": "markdown",
   "source": [
    "## guess_type"
   ],
   "metadata": {}
  },
  {
   "outputs": [],
   "cell_type": "code",
   "source": [
    "for ar in [\n",
    "    [0],\n",
    "    [1],\n",
    "    [0, 1],\n",
    "    [0, 1, 2],\n",
    "    np.arange(16),\n",
    "    [0.0],\n",
    "    [0.1],\n",
    "    [1.0],\n",
    "    [0, 0.0],\n",
    "    [0, 0.0, 1, 1.0],\n",
    "    np.arange(17),\n",
    "    np.random.random_sample(4),\n",
    "]:\n",
    "    print(kwat.array.guess_type(np.array(ar)))"
   ],
   "metadata": {},
   "execution_count": null
  },
  {
   "cell_type": "markdown",
   "source": [
    "## log"
   ],
   "metadata": {}
  },
  {
   "outputs": [],
   "cell_type": "code",
   "source": [
    "ar = np.array([1, 2, np.inf])\n",
    "\n",
    "for ba in [2, \"e\", 10]:\n",
    "    print(kwat.array.log(ar, ba=ba))"
   ],
   "metadata": {},
   "execution_count": null
  },
  {
   "cell_type": "markdown",
   "source": [
    "## log_with_negative"
   ],
   "metadata": {}
  },
  {
   "outputs": [],
   "cell_type": "code",
   "source": [
    "kwat.array.log_with_negative(np.array([-2, -1, 0, 1, 2]))"
   ],
   "metadata": {},
   "execution_count": null
  },
  {
   "cell_type": "markdown",
   "source": [
    "## normalize"
   ],
   "metadata": {}
  },
  {
   "outputs": [],
   "cell_type": "code",
   "source": [
    "for ar in [[0, 1], [[0, 1, 2], [0, 10, 20]]]:\n",
    "    ar = np.array(ar)\n",
    "\n",
    "    print()\n",
    "\n",
    "    print(ar)\n",
    "\n",
    "    for me in [\"-0-\", \"0-1\", \"sum\", \"rank\"]:\n",
    "        print(me)\n",
    "\n",
    "        print(kwat.array.normalize(ar, me))"
   ],
   "metadata": {},
   "execution_count": null
  },
  {
   "cell_type": "markdown",
   "source": [
    "## shift"
   ],
   "metadata": {}
  },
  {
   "outputs": [],
   "cell_type": "code",
   "source": [
    "ar = np.array([-1, 0, 0.5, 2])\n",
    "\n",
    "for mi in [-1, 0, 1, \"0<\"]:\n",
    "    print(mi)\n",
    "\n",
    "    print(kwat.array.shift(ar, mi))"
   ],
   "metadata": {},
   "execution_count": null
  }
 ],
 "nbformat_minor": 4,
 "metadata": {
  "language_info": {
   "file_extension": ".py",
   "mimetype": "text/x-python",
   "name": "python",
   "nbconvert_exporter": "python",
   "pygments_lexer": "ipython3",
   "codemirror_mode": {
    "name": "ipython",
    "version": 3
   },
   "version": "3.9.9"
  },
  "kernelspec": {
   "name": "python3",
   "display_name": "Python 3 (ipykernel)",
   "language": "python"
  }
 },
 "nbformat": 4
}
