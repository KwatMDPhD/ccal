{
 "cells": [
  {
   "cell_type": "code",
   "execution_count": null,
   "metadata": {
    "execution": {
     "iopub.execute_input": "2021-08-26T01:51:44.361854Z",
     "iopub.status.busy": "2021-08-26T01:51:44.361012Z",
     "iopub.status.idle": "2021-08-26T01:51:44.375168Z",
     "shell.execute_reply": "2021-08-26T01:51:44.375567Z"
    },
    "tags": []
   },
   "outputs": [],
   "source": [
    "%load_ext autoreload\n",
    "%autoreload 2"
   ]
  },
  {
   "cell_type": "code",
   "execution_count": null,
   "metadata": {
    "execution": {
     "iopub.execute_input": "2021-08-26T01:51:44.378741Z",
     "iopub.status.busy": "2021-08-26T01:51:44.378154Z",
     "iopub.status.idle": "2021-08-26T01:51:45.043613Z",
     "shell.execute_reply": "2021-08-26T01:51:45.043184Z"
    },
    "tags": []
   },
   "outputs": [],
   "source": [
    "import kwat\n",
    "import numpy as np"
   ]
  },
  {
   "cell_type": "markdown",
   "metadata": {},
   "source": [
    "## apply"
   ]
  },
  {
   "cell_type": "code",
   "execution_count": null,
   "metadata": {
    "execution": {
     "iopub.execute_input": "2021-08-26T01:51:45.047631Z",
     "iopub.status.busy": "2021-08-26T01:51:45.046823Z",
     "iopub.status.idle": "2021-08-26T01:51:45.068479Z",
     "shell.execute_reply": "2021-08-26T01:51:45.068074Z"
    },
    "tags": []
   },
   "outputs": [],
   "source": [
    "ar = np.array([np.nan, 0, 1, 2, np.nan])"
   ]
  },
  {
   "cell_type": "code",
   "execution_count": null,
   "metadata": {
    "execution": {
     "iopub.execute_input": "2021-08-26T01:51:45.071866Z",
     "iopub.status.busy": "2021-08-26T01:51:45.071302Z",
     "iopub.status.idle": "2021-08-26T01:51:45.097285Z",
     "shell.execute_reply": "2021-08-26T01:51:45.097651Z"
    },
    "tags": []
   },
   "outputs": [],
   "source": [
    "np.sum(ar)"
   ]
  },
  {
   "cell_type": "code",
   "execution_count": null,
   "metadata": {
    "execution": {
     "iopub.execute_input": "2021-08-26T01:51:45.100626Z",
     "iopub.status.busy": "2021-08-26T01:51:45.100032Z",
     "iopub.status.idle": "2021-08-26T01:51:45.121340Z",
     "shell.execute_reply": "2021-08-26T01:51:45.121698Z"
    },
    "tags": []
   },
   "outputs": [],
   "source": [
    "kwat.array.apply(ar, np.sum)"
   ]
  },
  {
   "cell_type": "code",
   "execution_count": null,
   "metadata": {
    "execution": {
     "iopub.execute_input": "2021-08-26T01:51:45.125498Z",
     "iopub.status.busy": "2021-08-26T01:51:45.124581Z",
     "iopub.status.idle": "2021-08-26T01:51:45.146667Z",
     "shell.execute_reply": "2021-08-26T01:51:45.146277Z"
    },
    "tags": []
   },
   "outputs": [],
   "source": [
    "np.cumsum(ar)"
   ]
  },
  {
   "cell_type": "code",
   "execution_count": null,
   "metadata": {
    "execution": {
     "iopub.execute_input": "2021-08-26T01:51:45.149937Z",
     "iopub.status.busy": "2021-08-26T01:51:45.149410Z",
     "iopub.status.idle": "2021-08-26T01:51:45.171128Z",
     "shell.execute_reply": "2021-08-26T01:51:45.171486Z"
    },
    "tags": []
   },
   "outputs": [],
   "source": [
    "kwat.array.apply(ar, np.cumsum)"
   ]
  },
  {
   "cell_type": "code",
   "execution_count": null,
   "metadata": {
    "execution": {
     "iopub.execute_input": "2021-08-26T01:51:45.175253Z",
     "iopub.status.busy": "2021-08-26T01:51:45.174672Z",
     "iopub.status.idle": "2021-08-26T01:51:45.195745Z",
     "shell.execute_reply": "2021-08-26T01:51:45.196202Z"
    },
    "tags": []
   },
   "outputs": [],
   "source": [
    "kwat.array.apply(ar, np.cumsum, up=True)"
   ]
  },
  {
   "cell_type": "markdown",
   "metadata": {},
   "source": [
    "## check_is_extreme"
   ]
  },
  {
   "cell_type": "code",
   "execution_count": null,
   "metadata": {
    "execution": {
     "iopub.execute_input": "2021-08-26T01:51:45.200379Z",
     "iopub.status.busy": "2021-08-26T01:51:45.199807Z",
     "iopub.status.idle": "2021-08-26T01:51:45.222381Z",
     "shell.execute_reply": "2021-08-26T01:51:45.222854Z"
    },
    "tags": []
   },
   "outputs": [],
   "source": [
    "ar = np.arange(10)\n",
    "\n",
    "for di in [\"<\", \">\", \"<>\"]:\n",
    "\n",
    "    print()\n",
    "\n",
    "    print(di)\n",
    "\n",
    "    for ke_ in [\n",
    "        {\n",
    "            \"th_\": (2, np.nan),\n",
    "        },\n",
    "        {\n",
    "            \"th_\": (np.nan, 8),\n",
    "        },\n",
    "        {\n",
    "            \"n_ex\": 2,\n",
    "        },\n",
    "        {\n",
    "            \"st\": 2,\n",
    "        },\n",
    "    ]:\n",
    "\n",
    "        print(ke_)\n",
    "\n",
    "        print(ar[kwat.array.check_is_extreme(ar, di, **ke_)])"
   ]
  },
  {
   "cell_type": "markdown",
   "metadata": {},
   "source": [
    "## check_is_not_nan"
   ]
  },
  {
   "cell_type": "code",
   "execution_count": null,
   "metadata": {
    "execution": {
     "iopub.execute_input": "2021-08-26T01:51:45.226538Z",
     "iopub.status.busy": "2021-08-26T01:51:45.225925Z",
     "iopub.status.idle": "2021-08-26T01:51:45.249556Z",
     "shell.execute_reply": "2021-08-26T01:51:45.249874Z"
    },
    "tags": []
   },
   "outputs": [],
   "source": [
    "kwat.array.check_is_not_nan([np.nan, 0, 1.0, 2, False, True, np.nan])"
   ]
  },
  {
   "cell_type": "markdown",
   "metadata": {},
   "source": [
    "## clip"
   ]
  },
  {
   "cell_type": "code",
   "execution_count": null,
   "metadata": {
    "execution": {
     "iopub.execute_input": "2021-08-26T01:51:45.253785Z",
     "iopub.status.busy": "2021-08-26T01:51:45.252990Z",
     "iopub.status.idle": "2021-08-26T01:51:45.274362Z",
     "shell.execute_reply": "2021-08-26T01:51:45.274722Z"
    },
    "tags": []
   },
   "outputs": [],
   "source": [
    "ar = np.arange(-2, 3)\n",
    "\n",
    "for st in [0, 1, 2]:\n",
    "\n",
    "    print(kwat.array.clip(ar, st))"
   ]
  },
  {
   "cell_type": "markdown",
   "metadata": {},
   "source": [
    "## get_not_nan_unique"
   ]
  },
  {
   "cell_type": "code",
   "execution_count": null,
   "metadata": {
    "execution": {
     "iopub.execute_input": "2021-08-26T01:51:45.278051Z",
     "iopub.status.busy": "2021-08-26T01:51:45.277529Z",
     "iopub.status.idle": "2021-08-26T01:51:45.298579Z",
     "shell.execute_reply": "2021-08-26T01:51:45.299203Z"
    },
    "tags": []
   },
   "outputs": [],
   "source": [
    "kwat.array.get_not_nan_unique(np.array([np.nan, 0, 1.0, 2, 2, False, True, np.nan]))"
   ]
  },
  {
   "cell_type": "markdown",
   "metadata": {},
   "source": [
    "## guess_type"
   ]
  },
  {
   "cell_type": "code",
   "execution_count": null,
   "metadata": {
    "execution": {
     "iopub.execute_input": "2021-08-26T01:51:45.303067Z",
     "iopub.status.busy": "2021-08-26T01:51:45.302540Z",
     "iopub.status.idle": "2021-08-26T01:51:45.324372Z",
     "shell.execute_reply": "2021-08-26T01:51:45.324736Z"
    },
    "tags": []
   },
   "outputs": [],
   "source": [
    "for ar in [\n",
    "    [0],\n",
    "    [1],\n",
    "    [0, 1],\n",
    "    [0, 1, 2],\n",
    "    np.arange(16),\n",
    "    [0.0],\n",
    "    [0.1],\n",
    "    [1.0],\n",
    "    [0, 0.0],\n",
    "    [0, 0.0, 1, 1.0],\n",
    "    np.arange(17),\n",
    "    np.random.random_sample(4),\n",
    "]:\n",
    "\n",
    "    print(kwat.array.guess_type(np.array(ar)))"
   ]
  },
  {
   "cell_type": "markdown",
   "metadata": {},
   "source": [
    "## log"
   ]
  },
  {
   "cell_type": "code",
   "execution_count": null,
   "metadata": {
    "execution": {
     "iopub.execute_input": "2021-08-26T01:51:45.328667Z",
     "iopub.status.busy": "2021-08-26T01:51:45.327999Z",
     "iopub.status.idle": "2021-08-26T01:51:45.349941Z",
     "shell.execute_reply": "2021-08-26T01:51:45.349598Z"
    },
    "tags": []
   },
   "outputs": [],
   "source": [
    "ar = np.array([1, 2, np.inf])\n",
    "\n",
    "for ba in [2, \"e\", 10]:\n",
    "\n",
    "    print(kwat.array.log(ar, ba=ba))"
   ]
  },
  {
   "cell_type": "markdown",
   "metadata": {},
   "source": [
    "## log_with_negative"
   ]
  },
  {
   "cell_type": "code",
   "execution_count": null,
   "metadata": {
    "execution": {
     "iopub.execute_input": "2021-08-26T01:51:45.353317Z",
     "iopub.status.busy": "2021-08-26T01:51:45.352717Z",
     "iopub.status.idle": "2021-08-26T01:51:45.374910Z",
     "shell.execute_reply": "2021-08-26T01:51:45.375420Z"
    }
   },
   "outputs": [],
   "source": [
    "kwat.array.log_with_negative(np.array([-2, -1, 0, 1, 2]))"
   ]
  },
  {
   "cell_type": "markdown",
   "metadata": {},
   "source": [
    "## normalize"
   ]
  },
  {
   "cell_type": "code",
   "execution_count": null,
   "metadata": {
    "execution": {
     "iopub.execute_input": "2021-08-26T01:51:45.379269Z",
     "iopub.status.busy": "2021-08-26T01:51:45.378703Z",
     "iopub.status.idle": "2021-08-26T01:51:45.400830Z",
     "shell.execute_reply": "2021-08-26T01:51:45.401331Z"
    },
    "tags": []
   },
   "outputs": [],
   "source": [
    "for ar in [[0, 1], [[0, 1, 2], [0, 10, 20]]]:\n",
    "\n",
    "    ar = np.array(ar)\n",
    "\n",
    "    print()\n",
    "\n",
    "    print(ar)\n",
    "\n",
    "    for me in [\"-0-\", \"0-1\", \"sum\", \"rank\"]:\n",
    "\n",
    "        print(me)\n",
    "\n",
    "        print(kwat.array.normalize(ar, me))"
   ]
  },
  {
   "cell_type": "markdown",
   "metadata": {},
   "source": [
    "## shift"
   ]
  },
  {
   "cell_type": "code",
   "execution_count": null,
   "metadata": {
    "execution": {
     "iopub.execute_input": "2021-08-26T01:51:45.405086Z",
     "iopub.status.busy": "2021-08-26T01:51:45.404548Z",
     "iopub.status.idle": "2021-08-26T01:51:45.427631Z",
     "shell.execute_reply": "2021-08-26T01:51:45.428355Z"
    },
    "tags": []
   },
   "outputs": [],
   "source": [
    "ar = np.array([-1, 0, 0.5, 2])\n",
    "\n",
    "for mi in [-1, 0, 1, \"0<\"]:\n",
    "\n",
    "    print(mi)\n",
    "\n",
    "    print(kwat.array.shift(ar, mi))"
   ]
  }
 ],
 "metadata": {
  "kernelspec": {
   "display_name": "Python 3 (ipykernel)",
   "language": "python",
   "name": "python3"
  },
  "language_info": {
   "codemirror_mode": {
    "name": "ipython",
    "version": 3
   },
   "file_extension": ".py",
   "mimetype": "text/x-python",
   "name": "python",
   "nbconvert_exporter": "python",
   "pygments_lexer": "ipython3",
   "version": "3.9.6"
  }
 },
 "nbformat": 4,
 "nbformat_minor": 4
}
