{
 "cells": [
  {
   "cell_type": "code",
   "execution_count": null,
   "metadata": {
    "execution": {
     "iopub.execute_input": "2021-08-23T05:57:39.683627Z",
     "iopub.status.busy": "2021-08-23T05:57:39.683029Z",
     "iopub.status.idle": "2021-08-23T05:57:39.697981Z",
     "shell.execute_reply": "2021-08-23T05:57:39.698346Z"
    },
    "tags": []
   },
   "outputs": [],
   "source": [
    "%load_ext autoreload\n",
    "%autoreload 2"
   ]
  },
  {
   "cell_type": "code",
   "execution_count": null,
   "metadata": {
    "execution": {
     "iopub.execute_input": "2021-08-23T05:57:39.701989Z",
     "iopub.status.busy": "2021-08-23T05:57:39.701362Z",
     "iopub.status.idle": "2021-08-23T05:57:40.347388Z",
     "shell.execute_reply": "2021-08-23T05:57:40.347751Z"
    },
    "tags": []
   },
   "outputs": [],
   "source": [
    "import numpy as np\n",
    "\n",
    "import kwat"
   ]
  },
  {
   "cell_type": "markdown",
   "metadata": {},
   "source": [
    "## apply"
   ]
  },
  {
   "cell_type": "code",
   "execution_count": null,
   "metadata": {
    "execution": {
     "iopub.execute_input": "2021-08-23T05:57:40.351452Z",
     "iopub.status.busy": "2021-08-23T05:57:40.350928Z",
     "iopub.status.idle": "2021-08-23T05:57:40.372662Z",
     "shell.execute_reply": "2021-08-23T05:57:40.373256Z"
    },
    "tags": []
   },
   "outputs": [],
   "source": [
    "ar = np.array([np.nan, 0, 1, 2, np.nan])"
   ]
  },
  {
   "cell_type": "code",
   "execution_count": null,
   "metadata": {
    "execution": {
     "iopub.execute_input": "2021-08-23T05:57:40.376388Z",
     "iopub.status.busy": "2021-08-23T05:57:40.375837Z",
     "iopub.status.idle": "2021-08-23T05:57:40.402600Z",
     "shell.execute_reply": "2021-08-23T05:57:40.402958Z"
    },
    "tags": []
   },
   "outputs": [],
   "source": [
    "np.sum(ar)"
   ]
  },
  {
   "cell_type": "code",
   "execution_count": null,
   "metadata": {
    "execution": {
     "iopub.execute_input": "2021-08-23T05:57:40.406442Z",
     "iopub.status.busy": "2021-08-23T05:57:40.405932Z",
     "iopub.status.idle": "2021-08-23T05:57:40.426450Z",
     "shell.execute_reply": "2021-08-23T05:57:40.426810Z"
    },
    "tags": []
   },
   "outputs": [],
   "source": [
    "kwat.array.apply(ar, np.sum)"
   ]
  },
  {
   "cell_type": "code",
   "execution_count": null,
   "metadata": {
    "execution": {
     "iopub.execute_input": "2021-08-23T05:57:40.430086Z",
     "iopub.status.busy": "2021-08-23T05:57:40.429558Z",
     "iopub.status.idle": "2021-08-23T05:57:40.450004Z",
     "shell.execute_reply": "2021-08-23T05:57:40.449626Z"
    },
    "tags": []
   },
   "outputs": [],
   "source": [
    "np.cumsum(ar)"
   ]
  },
  {
   "cell_type": "code",
   "execution_count": null,
   "metadata": {
    "execution": {
     "iopub.execute_input": "2021-08-23T05:57:40.453388Z",
     "iopub.status.busy": "2021-08-23T05:57:40.452504Z",
     "iopub.status.idle": "2021-08-23T05:57:40.472812Z",
     "shell.execute_reply": "2021-08-23T05:57:40.473165Z"
    },
    "tags": []
   },
   "outputs": [],
   "source": [
    "kwat.array.apply(ar, np.cumsum)"
   ]
  },
  {
   "cell_type": "code",
   "execution_count": null,
   "metadata": {
    "execution": {
     "iopub.execute_input": "2021-08-23T05:57:40.476384Z",
     "iopub.status.busy": "2021-08-23T05:57:40.475794Z",
     "iopub.status.idle": "2021-08-23T05:57:40.495678Z",
     "shell.execute_reply": "2021-08-23T05:57:40.496190Z"
    },
    "tags": []
   },
   "outputs": [],
   "source": [
    "kwat.array.apply(ar, np.cumsum, up=True)"
   ]
  },
  {
   "cell_type": "markdown",
   "metadata": {},
   "source": [
    "## check_is_extreme"
   ]
  },
  {
   "cell_type": "code",
   "execution_count": null,
   "metadata": {
    "execution": {
     "iopub.execute_input": "2021-08-23T05:57:40.500617Z",
     "iopub.status.busy": "2021-08-23T05:57:40.500111Z",
     "iopub.status.idle": "2021-08-23T05:57:40.523725Z",
     "shell.execute_reply": "2021-08-23T05:57:40.523321Z"
    },
    "tags": []
   },
   "outputs": [],
   "source": [
    "ar = np.arange(10)\n",
    "\n",
    "for di in [\"<\", \">\", \"<>\"]:\n",
    "\n",
    "    print()\n",
    "\n",
    "    print(di)\n",
    "\n",
    "    for ke_ in [\n",
    "        {\n",
    "            \"th_\": (2, np.nan),\n",
    "        },\n",
    "        {\n",
    "            \"th_\": (np.nan, 8),\n",
    "        },\n",
    "        {\n",
    "            \"n_ex\": 2,\n",
    "        },\n",
    "        {\n",
    "            \"st\": 2,\n",
    "        },\n",
    "    ]:\n",
    "\n",
    "        print(ke_)\n",
    "\n",
    "        print(ar[kwat.array.check_is_extreme(ar, di, **ke_)])"
   ]
  },
  {
   "cell_type": "markdown",
   "metadata": {},
   "source": [
    "## check_is_not_nan"
   ]
  },
  {
   "cell_type": "code",
   "execution_count": null,
   "metadata": {
    "execution": {
     "iopub.execute_input": "2021-08-23T05:57:40.527456Z",
     "iopub.status.busy": "2021-08-23T05:57:40.526744Z",
     "iopub.status.idle": "2021-08-23T05:57:40.549186Z",
     "shell.execute_reply": "2021-08-23T05:57:40.549778Z"
    },
    "tags": []
   },
   "outputs": [],
   "source": [
    "kwat.array.check_is_not_nan([np.nan, 0, 1.0, 2, False, True, np.nan])"
   ]
  },
  {
   "cell_type": "markdown",
   "metadata": {},
   "source": [
    "## clip"
   ]
  },
  {
   "cell_type": "code",
   "execution_count": null,
   "metadata": {
    "execution": {
     "iopub.execute_input": "2021-08-23T05:57:40.553915Z",
     "iopub.status.busy": "2021-08-23T05:57:40.553104Z",
     "iopub.status.idle": "2021-08-23T05:57:40.574756Z",
     "shell.execute_reply": "2021-08-23T05:57:40.575180Z"
    },
    "tags": []
   },
   "outputs": [],
   "source": [
    "ar = np.arange(-2, 3)\n",
    "\n",
    "for st in [0, 1, 2]:\n",
    "\n",
    "    print(kwat.array.clip(ar, st))"
   ]
  },
  {
   "cell_type": "markdown",
   "metadata": {},
   "source": [
    "## get_not_nan_unique"
   ]
  },
  {
   "cell_type": "code",
   "execution_count": null,
   "metadata": {
    "execution": {
     "iopub.execute_input": "2021-08-23T05:57:40.579671Z",
     "iopub.status.busy": "2021-08-23T05:57:40.579074Z",
     "iopub.status.idle": "2021-08-23T05:57:40.599078Z",
     "shell.execute_reply": "2021-08-23T05:57:40.599436Z"
    },
    "tags": []
   },
   "outputs": [],
   "source": [
    "kwat.array.get_not_nan_unique(np.array([np.nan, 0, 1.0, 2, 2, False, True, np.nan]))"
   ]
  },
  {
   "cell_type": "markdown",
   "metadata": {},
   "source": [
    "## guess_type"
   ]
  },
  {
   "cell_type": "code",
   "execution_count": null,
   "metadata": {
    "execution": {
     "iopub.execute_input": "2021-08-23T05:57:40.603653Z",
     "iopub.status.busy": "2021-08-23T05:57:40.603126Z",
     "iopub.status.idle": "2021-08-23T05:57:40.623170Z",
     "shell.execute_reply": "2021-08-23T05:57:40.623534Z"
    },
    "tags": []
   },
   "outputs": [],
   "source": [
    "for ar in [\n",
    "    [0],\n",
    "    [1],\n",
    "    [0, 1],\n",
    "    [0, 1, 2],\n",
    "    np.arange(16),\n",
    "    [0.0],\n",
    "    [0.1],\n",
    "    [1.0],\n",
    "    [0, 0.0],\n",
    "    [0, 0.0, 1, 1.0],\n",
    "    np.arange(17),\n",
    "    np.random.random_sample(4),\n",
    "]:\n",
    "\n",
    "    print(kwat.array.guess_type(np.array(ar)))"
   ]
  },
  {
   "cell_type": "markdown",
   "metadata": {},
   "source": [
    "## log"
   ]
  },
  {
   "cell_type": "code",
   "execution_count": null,
   "metadata": {
    "execution": {
     "iopub.execute_input": "2021-08-23T05:57:40.626904Z",
     "iopub.status.busy": "2021-08-23T05:57:40.626397Z",
     "iopub.status.idle": "2021-08-23T05:57:40.645827Z",
     "shell.execute_reply": "2021-08-23T05:57:40.646372Z"
    },
    "tags": []
   },
   "outputs": [],
   "source": [
    "ar = np.array([1, 2, np.inf])\n",
    "\n",
    "for ba in [2, \"e\", 10]:\n",
    "\n",
    "    print(kwat.array.log(ar, ba=ba))"
   ]
  },
  {
   "cell_type": "markdown",
   "metadata": {},
   "source": [
    "## log_with_negative"
   ]
  },
  {
   "cell_type": "code",
   "execution_count": null,
   "metadata": {
    "execution": {
     "iopub.execute_input": "2021-08-23T05:57:40.650480Z",
     "iopub.status.busy": "2021-08-23T05:57:40.649802Z",
     "iopub.status.idle": "2021-08-23T05:57:40.671473Z",
     "shell.execute_reply": "2021-08-23T05:57:40.671844Z"
    }
   },
   "outputs": [],
   "source": [
    "kwat.array.log_with_negative(np.array([-2, -1, 0, 1, 2]))"
   ]
  },
  {
   "cell_type": "markdown",
   "metadata": {},
   "source": [
    "## normalize"
   ]
  },
  {
   "cell_type": "code",
   "execution_count": null,
   "metadata": {
    "execution": {
     "iopub.execute_input": "2021-08-23T05:57:40.676841Z",
     "iopub.status.busy": "2021-08-23T05:57:40.676140Z",
     "iopub.status.idle": "2021-08-23T05:57:40.698832Z",
     "shell.execute_reply": "2021-08-23T05:57:40.699193Z"
    },
    "tags": []
   },
   "outputs": [],
   "source": [
    "for ar in [[0, 1], [[0, 1, 2], [0, 10, 20]]]:\n",
    "\n",
    "    ar = np.array(ar)\n",
    "\n",
    "    print()\n",
    "\n",
    "    print(ar)\n",
    "\n",
    "    for me in [\"-0-\", \"0-1\", \"sum\", \"rank\"]:\n",
    "\n",
    "        print(me)\n",
    "\n",
    "        print(kwat.array.normalize(ar, me))"
   ]
  },
  {
   "cell_type": "markdown",
   "metadata": {},
   "source": [
    "## shift"
   ]
  },
  {
   "cell_type": "code",
   "execution_count": null,
   "metadata": {
    "execution": {
     "iopub.execute_input": "2021-08-23T05:57:40.703530Z",
     "iopub.status.busy": "2021-08-23T05:57:40.702786Z",
     "iopub.status.idle": "2021-08-23T05:57:40.724029Z",
     "shell.execute_reply": "2021-08-23T05:57:40.724381Z"
    },
    "tags": []
   },
   "outputs": [],
   "source": [
    "ar = np.array([-1, 0, 0.5, 2])\n",
    "\n",
    "for mi in [-1, 0, 1, \"0<\"]:\n",
    "\n",
    "    print(mi)\n",
    "\n",
    "    print(kwat.array.shift(ar, mi))"
   ]
  }
 ],
 "metadata": {
  "kernelspec": {
   "display_name": "Python 3 (ipykernel)",
   "language": "python",
   "name": "python3"
  },
  "language_info": {
   "codemirror_mode": {
    "name": "ipython",
    "version": 3
   },
   "file_extension": ".py",
   "mimetype": "text/x-python",
   "name": "python",
   "nbconvert_exporter": "python",
   "pygments_lexer": "ipython3",
   "version": "3.9.6"
  }
 },
 "nbformat": 4,
 "nbformat_minor": 4
}
