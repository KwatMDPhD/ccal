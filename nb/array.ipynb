{
 "cells": [
  {
   "cell_type": "code",
   "execution_count": null,
   "metadata": {
    "tags": []
   },
   "outputs": [],
   "source": [
    "%load_ext autoreload\n",
    "%autoreload 2"
   ]
  },
  {
   "cell_type": "code",
   "execution_count": null,
   "metadata": {
    "tags": []
   },
   "outputs": [],
   "source": [
    "import kwat"
   ]
  },
  {
   "cell_type": "markdown",
   "metadata": {},
   "source": [
    "## check_is_not_nan"
   ]
  },
  {
   "cell_type": "code",
   "execution_count": null,
   "metadata": {
    "tags": []
   },
   "outputs": [],
   "source": [
    "import numpy as np"
   ]
  },
  {
   "cell_type": "code",
   "execution_count": null,
   "metadata": {
    "tags": []
   },
   "outputs": [],
   "source": [
    "kwat.array.check_is_not_nan([np.nan, 0, 1.0, 2, False, True, np.nan])"
   ]
  },
  {
   "cell_type": "markdown",
   "metadata": {},
   "source": [
    "## get_not_nan_unique"
   ]
  },
  {
   "cell_type": "code",
   "execution_count": null,
   "metadata": {
    "tags": []
   },
   "outputs": [],
   "source": [
    "kwat.array.get_not_nan_unique(np.array([np.nan, 0, 1.0, 2, 2, False, True, np.nan]))"
   ]
  },
  {
   "cell_type": "markdown",
   "metadata": {},
   "source": [
    "## clip"
   ]
  },
  {
   "cell_type": "code",
   "execution_count": null,
   "metadata": {
    "tags": []
   },
   "outputs": [],
   "source": [
    "ar = np.arange(-2, 3)\n",
    "\n",
    "for st in [0, 1, 2]:\n",
    "\n",
    "    print(kwat.array.clip(ar, st))"
   ]
  },
  {
   "cell_type": "markdown",
   "metadata": {},
   "source": [
    "## normalize"
   ]
  },
  {
   "cell_type": "code",
   "execution_count": null,
   "metadata": {
    "tags": []
   },
   "outputs": [],
   "source": [
    "for ar in [[0, 1], [[0, 1, 2], [0, 10, 20]]]:\n",
    "\n",
    "    ar = np.array(ar)\n",
    "\n",
    "    print()\n",
    "\n",
    "    print(ar)\n",
    "\n",
    "    for me in [\"-0-\", \"0-1\", \"sum\", \"rank\"]:\n",
    "\n",
    "        print(me)\n",
    "\n",
    "        print(kwat.array.normalize(ar, me))"
   ]
  },
  {
   "cell_type": "markdown",
   "metadata": {},
   "source": [
    "## shift_minimum"
   ]
  },
  {
   "cell_type": "code",
   "execution_count": null,
   "metadata": {
    "tags": []
   },
   "outputs": [],
   "source": [
    "ar = np.array([-1, 0, 0.5, 2])\n",
    "\n",
    "for mi in [-1, 0, 1, \"0<\"]:\n",
    "\n",
    "    print(mi)\n",
    "\n",
    "    print(kwat.array.shift(ar, mi))"
   ]
  },
  {
   "cell_type": "markdown",
   "metadata": {},
   "source": [
    "## log"
   ]
  },
  {
   "cell_type": "code",
   "execution_count": null,
   "metadata": {
    "tags": []
   },
   "outputs": [],
   "source": [
    "ar = np.array([1, 2, np.inf])\n",
    "\n",
    "for ba in [2, \"e\", 10]:\n",
    "\n",
    "    print(kwat.array.log(ar, ba=ba))"
   ]
  },
  {
   "cell_type": "markdown",
   "metadata": {},
   "source": [
    "## log_with_negative"
   ]
  },
  {
   "cell_type": "code",
   "execution_count": null,
   "metadata": {},
   "outputs": [],
   "source": [
    "kwat.array.log_with_negative(np.array([-2, -1, 0, 1, 2]))"
   ]
  },
  {
   "cell_type": "markdown",
   "metadata": {},
   "source": [
    "## guess_type"
   ]
  },
  {
   "cell_type": "code",
   "execution_count": null,
   "metadata": {
    "tags": []
   },
   "outputs": [],
   "source": [
    "for ar in [\n",
    "    [0],\n",
    "    [1],\n",
    "    [0, 1],\n",
    "    [0, 1, 2],\n",
    "    np.arange(16),\n",
    "    [0.0],\n",
    "    [0.1],\n",
    "    [1.0],\n",
    "    [0, 0.0],\n",
    "    [0, 0.0, 1, 1.0],\n",
    "    np.arange(17),\n",
    "    np.random.random_sample(4),\n",
    "]:\n",
    "\n",
    "    print(kwat.array.guess_type(np.array(ar)))"
   ]
  },
  {
   "cell_type": "markdown",
   "metadata": {},
   "source": [
    "## check_is_extreme"
   ]
  },
  {
   "cell_type": "code",
   "execution_count": null,
   "metadata": {
    "tags": []
   },
   "outputs": [],
   "source": [
    "ar = np.arange(10)\n",
    "\n",
    "for di in [\"<\", \">\", \"<>\"]:\n",
    "\n",
    "    print()\n",
    "\n",
    "    print(di)\n",
    "\n",
    "    for ke_ in [\n",
    "        {\n",
    "            \"th_\": (2, np.nan),\n",
    "        },\n",
    "        {\n",
    "            \"th_\": (np.nan, 8),\n",
    "        },\n",
    "        {\n",
    "            \"n_ex\": 2,\n",
    "        },\n",
    "        {\n",
    "            \"st\": 2,\n",
    "        },\n",
    "    ]:\n",
    "\n",
    "        print(ke_)\n",
    "\n",
    "        print(ar[kwat.array.check_is_extreme(ar, di, **ke_)])"
   ]
  },
  {
   "cell_type": "markdown",
   "metadata": {},
   "source": [
    "## apply"
   ]
  },
  {
   "cell_type": "code",
   "execution_count": null,
   "metadata": {
    "tags": []
   },
   "outputs": [],
   "source": [
    "ar = np.array([np.nan, 0, 1, 2, np.nan])"
   ]
  },
  {
   "cell_type": "code",
   "execution_count": null,
   "metadata": {
    "tags": []
   },
   "outputs": [],
   "source": [
    "np.sum(ar)"
   ]
  },
  {
   "cell_type": "code",
   "execution_count": null,
   "metadata": {
    "tags": []
   },
   "outputs": [],
   "source": [
    "kwat.array.apply(ar, np.sum)"
   ]
  },
  {
   "cell_type": "code",
   "execution_count": null,
   "metadata": {
    "tags": []
   },
   "outputs": [],
   "source": [
    "np.cumsum(ar)"
   ]
  },
  {
   "cell_type": "code",
   "execution_count": null,
   "metadata": {
    "tags": []
   },
   "outputs": [],
   "source": [
    "kwat.array.apply(ar, np.cumsum)"
   ]
  },
  {
   "cell_type": "code",
   "execution_count": null,
   "metadata": {
    "tags": []
   },
   "outputs": [],
   "source": [
    "kwat.array.apply(ar, np.cumsum, up=True)"
   ]
  }
 ],
 "metadata": {
  "kernelspec": {
   "display_name": "Python 3 (ipykernel)",
   "language": "python",
   "name": "python3"
  },
  "language_info": {
   "codemirror_mode": {
    "name": "ipython",
    "version": 3
   },
   "file_extension": ".py",
   "mimetype": "text/x-python",
   "name": "python",
   "nbconvert_exporter": "python",
   "pygments_lexer": "ipython3",
   "version": "3.9.6"
  }
 },
 "nbformat": 4,
 "nbformat_minor": 4
}
