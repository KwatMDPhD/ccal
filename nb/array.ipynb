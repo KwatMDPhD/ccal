{
 "cells": [
  {
   "cell_type": "code",
   "execution_count": null,
   "metadata": {
    "execution": {
     "iopub.execute_input": "2021-08-25T07:02:16.043731Z",
     "iopub.status.busy": "2021-08-25T07:02:16.043054Z",
     "iopub.status.idle": "2021-08-25T07:02:16.059057Z",
     "shell.execute_reply": "2021-08-25T07:02:16.059528Z"
    },
    "tags": []
   },
   "outputs": [],
   "source": [
    "%load_ext autoreload\n",
    "%autoreload 2"
   ]
  },
  {
   "cell_type": "code",
   "execution_count": null,
   "metadata": {
    "execution": {
     "iopub.execute_input": "2021-08-25T07:02:16.062974Z",
     "iopub.status.busy": "2021-08-25T07:02:16.062381Z",
     "iopub.status.idle": "2021-08-25T07:02:16.675114Z",
     "shell.execute_reply": "2021-08-25T07:02:16.675470Z"
    },
    "tags": []
   },
   "outputs": [],
   "source": [
    "import numpy as np\n",
    "\n",
    "import kwat"
   ]
  },
  {
   "cell_type": "markdown",
   "metadata": {},
   "source": [
    "## apply"
   ]
  },
  {
   "cell_type": "code",
   "execution_count": null,
   "metadata": {
    "execution": {
     "iopub.execute_input": "2021-08-25T07:02:16.679203Z",
     "iopub.status.busy": "2021-08-25T07:02:16.678541Z",
     "iopub.status.idle": "2021-08-25T07:02:16.697958Z",
     "shell.execute_reply": "2021-08-25T07:02:16.698358Z"
    },
    "tags": []
   },
   "outputs": [],
   "source": [
    "ar = np.array([np.nan, 0, 1, 2, np.nan])"
   ]
  },
  {
   "cell_type": "code",
   "execution_count": null,
   "metadata": {
    "execution": {
     "iopub.execute_input": "2021-08-25T07:02:16.701798Z",
     "iopub.status.busy": "2021-08-25T07:02:16.701222Z",
     "iopub.status.idle": "2021-08-25T07:02:16.728495Z",
     "shell.execute_reply": "2021-08-25T07:02:16.728903Z"
    },
    "tags": []
   },
   "outputs": [],
   "source": [
    "np.sum(ar)"
   ]
  },
  {
   "cell_type": "code",
   "execution_count": null,
   "metadata": {
    "execution": {
     "iopub.execute_input": "2021-08-25T07:02:16.731972Z",
     "iopub.status.busy": "2021-08-25T07:02:16.731423Z",
     "iopub.status.idle": "2021-08-25T07:02:16.750946Z",
     "shell.execute_reply": "2021-08-25T07:02:16.751372Z"
    },
    "tags": []
   },
   "outputs": [],
   "source": [
    "kwat.array.apply(ar, np.sum)"
   ]
  },
  {
   "cell_type": "code",
   "execution_count": null,
   "metadata": {
    "execution": {
     "iopub.execute_input": "2021-08-25T07:02:16.754095Z",
     "iopub.status.busy": "2021-08-25T07:02:16.753562Z",
     "iopub.status.idle": "2021-08-25T07:02:16.774307Z",
     "shell.execute_reply": "2021-08-25T07:02:16.773880Z"
    },
    "tags": []
   },
   "outputs": [],
   "source": [
    "np.cumsum(ar)"
   ]
  },
  {
   "cell_type": "code",
   "execution_count": null,
   "metadata": {
    "execution": {
     "iopub.execute_input": "2021-08-25T07:02:16.777268Z",
     "iopub.status.busy": "2021-08-25T07:02:16.776770Z",
     "iopub.status.idle": "2021-08-25T07:02:16.795882Z",
     "shell.execute_reply": "2021-08-25T07:02:16.796355Z"
    },
    "tags": []
   },
   "outputs": [],
   "source": [
    "kwat.array.apply(ar, np.cumsum)"
   ]
  },
  {
   "cell_type": "code",
   "execution_count": null,
   "metadata": {
    "execution": {
     "iopub.execute_input": "2021-08-25T07:02:16.799490Z",
     "iopub.status.busy": "2021-08-25T07:02:16.798993Z",
     "iopub.status.idle": "2021-08-25T07:02:16.817780Z",
     "shell.execute_reply": "2021-08-25T07:02:16.818975Z"
    },
    "tags": []
   },
   "outputs": [],
   "source": [
    "kwat.array.apply(ar, np.cumsum, up=True)"
   ]
  },
  {
   "cell_type": "markdown",
   "metadata": {},
   "source": [
    "## check_is_extreme"
   ]
  },
  {
   "cell_type": "code",
   "execution_count": null,
   "metadata": {
    "execution": {
     "iopub.execute_input": "2021-08-25T07:02:16.823679Z",
     "iopub.status.busy": "2021-08-25T07:02:16.823070Z",
     "iopub.status.idle": "2021-08-25T07:02:16.844858Z",
     "shell.execute_reply": "2021-08-25T07:02:16.845214Z"
    },
    "tags": []
   },
   "outputs": [],
   "source": [
    "ar = np.arange(10)\n",
    "\n",
    "for di in [\"<\", \">\", \"<>\"]:\n",
    "\n",
    "    print()\n",
    "\n",
    "    print(di)\n",
    "\n",
    "    for ke_ in [\n",
    "        {\n",
    "            \"th_\": (2, np.nan),\n",
    "        },\n",
    "        {\n",
    "            \"th_\": (np.nan, 8),\n",
    "        },\n",
    "        {\n",
    "            \"n_ex\": 2,\n",
    "        },\n",
    "        {\n",
    "            \"st\": 2,\n",
    "        },\n",
    "    ]:\n",
    "\n",
    "        print(ke_)\n",
    "\n",
    "        print(ar[kwat.array.check_is_extreme(ar, di, **ke_)])"
   ]
  },
  {
   "cell_type": "markdown",
   "metadata": {},
   "source": [
    "## check_is_not_nan"
   ]
  },
  {
   "cell_type": "code",
   "execution_count": null,
   "metadata": {
    "execution": {
     "iopub.execute_input": "2021-08-25T07:02:16.848345Z",
     "iopub.status.busy": "2021-08-25T07:02:16.847791Z",
     "iopub.status.idle": "2021-08-25T07:02:16.869460Z",
     "shell.execute_reply": "2021-08-25T07:02:16.869814Z"
    },
    "tags": []
   },
   "outputs": [],
   "source": [
    "kwat.array.check_is_not_nan([np.nan, 0, 1.0, 2, False, True, np.nan])"
   ]
  },
  {
   "cell_type": "markdown",
   "metadata": {},
   "source": [
    "## clip"
   ]
  },
  {
   "cell_type": "code",
   "execution_count": null,
   "metadata": {
    "execution": {
     "iopub.execute_input": "2021-08-25T07:02:16.873066Z",
     "iopub.status.busy": "2021-08-25T07:02:16.872559Z",
     "iopub.status.idle": "2021-08-25T07:02:16.891610Z",
     "shell.execute_reply": "2021-08-25T07:02:16.891960Z"
    },
    "tags": []
   },
   "outputs": [],
   "source": [
    "ar = np.arange(-2, 3)\n",
    "\n",
    "for st in [0, 1, 2]:\n",
    "\n",
    "    print(kwat.array.clip(ar, st))"
   ]
  },
  {
   "cell_type": "markdown",
   "metadata": {},
   "source": [
    "## get_not_nan_unique"
   ]
  },
  {
   "cell_type": "code",
   "execution_count": null,
   "metadata": {
    "execution": {
     "iopub.execute_input": "2021-08-25T07:02:16.895299Z",
     "iopub.status.busy": "2021-08-25T07:02:16.894800Z",
     "iopub.status.idle": "2021-08-25T07:02:16.913849Z",
     "shell.execute_reply": "2021-08-25T07:02:16.914261Z"
    },
    "tags": []
   },
   "outputs": [],
   "source": [
    "kwat.array.get_not_nan_unique(np.array([np.nan, 0, 1.0, 2, 2, False, True, np.nan]))"
   ]
  },
  {
   "cell_type": "markdown",
   "metadata": {},
   "source": [
    "## guess_type"
   ]
  },
  {
   "cell_type": "code",
   "execution_count": null,
   "metadata": {
    "execution": {
     "iopub.execute_input": "2021-08-25T07:02:16.918274Z",
     "iopub.status.busy": "2021-08-25T07:02:16.917769Z",
     "iopub.status.idle": "2021-08-25T07:02:16.937427Z",
     "shell.execute_reply": "2021-08-25T07:02:16.937853Z"
    },
    "tags": []
   },
   "outputs": [],
   "source": [
    "for ar in [\n",
    "    [0],\n",
    "    [1],\n",
    "    [0, 1],\n",
    "    [0, 1, 2],\n",
    "    np.arange(16),\n",
    "    [0.0],\n",
    "    [0.1],\n",
    "    [1.0],\n",
    "    [0, 0.0],\n",
    "    [0, 0.0, 1, 1.0],\n",
    "    np.arange(17),\n",
    "    np.random.random_sample(4),\n",
    "]:\n",
    "\n",
    "    print(kwat.array.guess_type(np.array(ar)))"
   ]
  },
  {
   "cell_type": "markdown",
   "metadata": {},
   "source": [
    "## log"
   ]
  },
  {
   "cell_type": "code",
   "execution_count": null,
   "metadata": {
    "execution": {
     "iopub.execute_input": "2021-08-25T07:02:16.941318Z",
     "iopub.status.busy": "2021-08-25T07:02:16.940821Z",
     "iopub.status.idle": "2021-08-25T07:02:16.960619Z",
     "shell.execute_reply": "2021-08-25T07:02:16.960971Z"
    },
    "tags": []
   },
   "outputs": [],
   "source": [
    "ar = np.array([1, 2, np.inf])\n",
    "\n",
    "for ba in [2, \"e\", 10]:\n",
    "\n",
    "    print(kwat.array.log(ar, ba=ba))"
   ]
  },
  {
   "cell_type": "markdown",
   "metadata": {},
   "source": [
    "## log_with_negative"
   ]
  },
  {
   "cell_type": "code",
   "execution_count": null,
   "metadata": {
    "execution": {
     "iopub.execute_input": "2021-08-25T07:02:16.964069Z",
     "iopub.status.busy": "2021-08-25T07:02:16.963582Z",
     "iopub.status.idle": "2021-08-25T07:02:16.982383Z",
     "shell.execute_reply": "2021-08-25T07:02:16.982894Z"
    }
   },
   "outputs": [],
   "source": [
    "kwat.array.log_with_negative(np.array([-2, -1, 0, 1, 2]))"
   ]
  },
  {
   "cell_type": "markdown",
   "metadata": {},
   "source": [
    "## normalize"
   ]
  },
  {
   "cell_type": "code",
   "execution_count": null,
   "metadata": {
    "execution": {
     "iopub.execute_input": "2021-08-25T07:02:16.986675Z",
     "iopub.status.busy": "2021-08-25T07:02:16.986177Z",
     "iopub.status.idle": "2021-08-25T07:02:17.007866Z",
     "shell.execute_reply": "2021-08-25T07:02:17.008289Z"
    },
    "tags": []
   },
   "outputs": [],
   "source": [
    "for ar in [[0, 1], [[0, 1, 2], [0, 10, 20]]]:\n",
    "\n",
    "    ar = np.array(ar)\n",
    "\n",
    "    print()\n",
    "\n",
    "    print(ar)\n",
    "\n",
    "    for me in [\"-0-\", \"0-1\", \"sum\", \"rank\"]:\n",
    "\n",
    "        print(me)\n",
    "\n",
    "        print(kwat.array.normalize(ar, me))"
   ]
  },
  {
   "cell_type": "markdown",
   "metadata": {},
   "source": [
    "## shift"
   ]
  },
  {
   "cell_type": "code",
   "execution_count": null,
   "metadata": {
    "execution": {
     "iopub.execute_input": "2021-08-25T07:02:17.011776Z",
     "iopub.status.busy": "2021-08-25T07:02:17.011265Z",
     "iopub.status.idle": "2021-08-25T07:02:17.033105Z",
     "shell.execute_reply": "2021-08-25T07:02:17.033623Z"
    },
    "tags": []
   },
   "outputs": [],
   "source": [
    "ar = np.array([-1, 0, 0.5, 2])\n",
    "\n",
    "for mi in [-1, 0, 1, \"0<\"]:\n",
    "\n",
    "    print(mi)\n",
    "\n",
    "    print(kwat.array.shift(ar, mi))"
   ]
  }
 ],
 "metadata": {
  "kernelspec": {
   "display_name": "Python 3 (ipykernel)",
   "language": "python",
   "name": "python3"
  },
  "language_info": {
   "codemirror_mode": {
    "name": "ipython",
    "version": 3
   },
   "file_extension": ".py",
   "mimetype": "text/x-python",
   "name": "python",
   "nbconvert_exporter": "python",
   "pygments_lexer": "ipython3",
   "version": "3.9.6"
  }
 },
 "nbformat": 4,
 "nbformat_minor": 4
}
