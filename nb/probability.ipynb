{
 "cells": [
  {
   "outputs": [],
   "cell_type": "code",
   "source": [
    "%load_ext autoreload\n",
    "%autoreload 2"
   ],
   "metadata": {},
   "execution_count": null
  },
  {
   "outputs": [],
   "cell_type": "code",
   "source": [
    "import kwat"
   ],
   "metadata": {},
   "execution_count": null
  },
  {
   "outputs": [],
   "cell_type": "code",
   "source": [
    "import numpy as np"
   ],
   "metadata": {},
   "execution_count": null
  },
  {
   "outputs": [],
   "cell_type": "code",
   "source": [
    "nu_po_di_ = [\n",
    "    [[-1], [0], [2]],\n",
    "    [[-1, -1], [0, 0], [2, 2]],\n",
    "    [[9, 0], [5, 0], [0, 9], [3, 2], [9, 9]],\n",
    "    [[0, -1, 8], [1, 0, 16], [2, 4, 24]],\n",
    "]\n",
    "\n",
    "nu_po_di_ = [np.array(nu_po_di) for nu_po_di in nu_po_di_]"
   ],
   "metadata": {},
   "execution_count": null
  },
  {
   "cell_type": "markdown",
   "source": [
    "## get_probability"
   ],
   "metadata": {}
  },
  {
   "outputs": [],
   "cell_type": "code",
   "source": [
    "for nu_po_di in nu_po_di_:\n",
    "    kwat.probability.get_probability(nu_po_di)"
   ],
   "metadata": {},
   "execution_count": null
  },
  {
   "cell_type": "markdown",
   "source": [
    "## get_posterior_probability"
   ],
   "metadata": {}
  },
  {
   "outputs": [],
   "cell_type": "code",
   "source": [
    "for nu_po_di in nu_po_di_:\n",
    "    kwat.probability.get_posterior_probability(nu_po_di)"
   ],
   "metadata": {},
   "execution_count": null
  },
  {
   "cell_type": "markdown",
   "source": [
    "## plot"
   ],
   "metadata": {}
  }
 ],
 "nbformat_minor": 4,
 "metadata": {
  "language_info": {
   "file_extension": ".py",
   "mimetype": "text/x-python",
   "name": "python",
   "nbconvert_exporter": "python",
   "pygments_lexer": "ipython3",
   "codemirror_mode": {
    "name": "ipython",
    "version": 3
   },
   "version": "3.9.6"
  },
  "kernelspec": {
   "name": "python3",
   "display_name": "Python 3 (ipykernel)",
   "language": "python"
  }
 },
 "nbformat": 4
}
