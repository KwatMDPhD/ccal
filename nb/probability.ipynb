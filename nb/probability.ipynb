{
 "cells": [
  {
   "cell_type": "code",
   "execution_count": null,
   "metadata": {
    "execution": {
     "iopub.execute_input": "2021-08-25T07:04:40.502674Z",
     "iopub.status.busy": "2021-08-25T07:04:40.501610Z",
     "iopub.status.idle": "2021-08-25T07:04:40.513992Z",
     "shell.execute_reply": "2021-08-25T07:04:40.514314Z"
    },
    "tags": []
   },
   "outputs": [],
   "source": [
    "%load_ext autoreload\n",
    "%autoreload 2"
   ]
  },
  {
   "cell_type": "code",
   "execution_count": null,
   "metadata": {
    "execution": {
     "iopub.execute_input": "2021-08-25T07:04:40.517670Z",
     "iopub.status.busy": "2021-08-25T07:04:40.517177Z",
     "iopub.status.idle": "2021-08-25T07:04:41.193751Z",
     "shell.execute_reply": "2021-08-25T07:04:41.194108Z"
    },
    "tags": []
   },
   "outputs": [],
   "source": [
    "import kwat"
   ]
  },
  {
   "cell_type": "code",
   "execution_count": null,
   "metadata": {
    "execution": {
     "iopub.execute_input": "2021-08-25T07:04:41.197054Z",
     "iopub.status.busy": "2021-08-25T07:04:41.196546Z",
     "iopub.status.idle": "2021-08-25T07:04:41.217175Z",
     "shell.execute_reply": "2021-08-25T07:04:41.217972Z"
    },
    "tags": []
   },
   "outputs": [],
   "source": [
    "import numpy as np"
   ]
  },
  {
   "cell_type": "code",
   "execution_count": null,
   "metadata": {
    "execution": {
     "iopub.execute_input": "2021-08-25T07:04:41.222850Z",
     "iopub.status.busy": "2021-08-25T07:04:41.222072Z",
     "iopub.status.idle": "2021-08-25T07:04:41.244493Z",
     "shell.execute_reply": "2021-08-25T07:04:41.244990Z"
    },
    "tags": []
   },
   "outputs": [],
   "source": [
    "nu_po_di_ = [\n",
    "    [[-1], [0], [2]],\n",
    "    [[-1, -1], [0, 0], [2, 2]],\n",
    "    [[9, 0], [5, 0], [0, 9], [3, 2], [9, 9]],\n",
    "    [[0, -1, 8], [1, 0, 16], [2, 4, 24]],\n",
    "]\n",
    "\n",
    "nu_po_di_ = [np.array(nu_po_di) for nu_po_di in nu_po_di_]"
   ]
  },
  {
   "cell_type": "markdown",
   "metadata": {},
   "source": [
    "## get_probability"
   ]
  },
  {
   "cell_type": "code",
   "execution_count": null,
   "metadata": {
    "execution": {
     "iopub.execute_input": "2021-08-25T07:04:41.248372Z",
     "iopub.status.busy": "2021-08-25T07:04:41.247800Z",
     "iopub.status.idle": "2021-08-25T07:04:42.170980Z",
     "shell.execute_reply": "2021-08-25T07:04:42.171342Z"
    },
    "tags": []
   },
   "outputs": [],
   "source": [
    "for nu_po_di in nu_po_di_:\n",
    "\n",
    "    kwat.probability.get_probability(nu_po_di)"
   ]
  },
  {
   "cell_type": "markdown",
   "metadata": {},
   "source": [
    "## get_posterior_probability"
   ]
  },
  {
   "cell_type": "code",
   "execution_count": null,
   "metadata": {
    "execution": {
     "iopub.execute_input": "2021-08-25T07:04:42.174739Z",
     "iopub.status.busy": "2021-08-25T07:04:42.174243Z",
     "iopub.status.idle": "2021-08-25T07:04:42.848935Z",
     "shell.execute_reply": "2021-08-25T07:04:42.849322Z"
    },
    "tags": []
   },
   "outputs": [],
   "source": [
    "for nu_po_di in nu_po_di_:\n",
    "\n",
    "    kwat.probability.get_posterior_probability(nu_po_di)"
   ]
  },
  {
   "cell_type": "markdown",
   "metadata": {},
   "source": [
    "## plot_nomogram"
   ]
  }
 ],
 "metadata": {
  "kernelspec": {
   "display_name": "Python 3 (ipykernel)",
   "language": "python",
   "name": "python3"
  },
  "language_info": {
   "codemirror_mode": {
    "name": "ipython",
    "version": 3
   },
   "file_extension": ".py",
   "mimetype": "text/x-python",
   "name": "python",
   "nbconvert_exporter": "python",
   "pygments_lexer": "ipython3",
   "version": "3.9.6"
  }
 },
 "nbformat": 4,
 "nbformat_minor": 4
}
