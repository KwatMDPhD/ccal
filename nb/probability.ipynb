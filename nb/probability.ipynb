{
 "cells": [
  {
   "cell_type": "code",
   "execution_count": null,
   "metadata": {
    "execution": {
     "iopub.execute_input": "2021-08-23T06:01:27.235618Z",
     "iopub.status.busy": "2021-08-23T06:01:27.234973Z",
     "iopub.status.idle": "2021-08-23T06:01:27.249715Z",
     "shell.execute_reply": "2021-08-23T06:01:27.249064Z"
    },
    "tags": []
   },
   "outputs": [],
   "source": [
    "%load_ext autoreload\n",
    "%autoreload 2"
   ]
  },
  {
   "cell_type": "code",
   "execution_count": null,
   "metadata": {
    "execution": {
     "iopub.execute_input": "2021-08-23T06:01:27.253072Z",
     "iopub.status.busy": "2021-08-23T06:01:27.252476Z",
     "iopub.status.idle": "2021-08-23T06:01:27.961515Z",
     "shell.execute_reply": "2021-08-23T06:01:27.961920Z"
    },
    "tags": []
   },
   "outputs": [],
   "source": [
    "import kwat"
   ]
  },
  {
   "cell_type": "code",
   "execution_count": null,
   "metadata": {
    "execution": {
     "iopub.execute_input": "2021-08-23T06:01:27.966315Z",
     "iopub.status.busy": "2021-08-23T06:01:27.965714Z",
     "iopub.status.idle": "2021-08-23T06:01:27.988938Z",
     "shell.execute_reply": "2021-08-23T06:01:27.989435Z"
    },
    "tags": []
   },
   "outputs": [],
   "source": [
    "import numpy as np"
   ]
  },
  {
   "cell_type": "code",
   "execution_count": null,
   "metadata": {
    "execution": {
     "iopub.execute_input": "2021-08-23T06:01:27.994270Z",
     "iopub.status.busy": "2021-08-23T06:01:27.993595Z",
     "iopub.status.idle": "2021-08-23T06:01:28.017717Z",
     "shell.execute_reply": "2021-08-23T06:01:28.018206Z"
    },
    "tags": []
   },
   "outputs": [],
   "source": [
    "nu_po_di_ = [\n",
    "    [[-1], [0], [2]],\n",
    "    [[-1, -1], [0, 0], [2, 2]],\n",
    "    [[9, 0], [5, 0], [0, 9], [3, 2], [9, 9]],\n",
    "    [[0, -1, 8], [1, 0, 16], [2, 4, 24]],\n",
    "]\n",
    "\n",
    "nu_po_di_ = [np.array(nu_po_di) for nu_po_di in nu_po_di_]"
   ]
  },
  {
   "cell_type": "markdown",
   "metadata": {},
   "source": [
    "## get_probability"
   ]
  },
  {
   "cell_type": "code",
   "execution_count": null,
   "metadata": {
    "execution": {
     "iopub.execute_input": "2021-08-23T06:01:28.021706Z",
     "iopub.status.busy": "2021-08-23T06:01:28.021119Z",
     "iopub.status.idle": "2021-08-23T06:01:28.425386Z",
     "shell.execute_reply": "2021-08-23T06:01:28.425870Z"
    },
    "tags": []
   },
   "outputs": [],
   "source": [
    "for nu_po_di in nu_po_di_:\n",
    "\n",
    "    kwat.probability.get_probability(nu_po_di)"
   ]
  },
  {
   "cell_type": "markdown",
   "metadata": {},
   "source": [
    "## get_posterior_probability"
   ]
  },
  {
   "cell_type": "code",
   "execution_count": null,
   "metadata": {
    "execution": {
     "iopub.execute_input": "2021-08-23T06:01:28.429337Z",
     "iopub.status.busy": "2021-08-23T06:01:28.428728Z",
     "iopub.status.idle": "2021-08-23T06:01:28.642737Z",
     "shell.execute_reply": "2021-08-23T06:01:28.643108Z"
    },
    "tags": []
   },
   "outputs": [],
   "source": [
    "for nu_po_di in nu_po_di_:\n",
    "\n",
    "    kwat.probability.get_posterior_probability(nu_po_di)"
   ]
  },
  {
   "cell_type": "markdown",
   "metadata": {},
   "source": [
    "## plot_nomogram"
   ]
  }
 ],
 "metadata": {
  "kernelspec": {
   "display_name": "Python 3 (ipykernel)",
   "language": "python",
   "name": "python3"
  },
  "language_info": {
   "codemirror_mode": {
    "name": "ipython",
    "version": 3
   },
   "file_extension": ".py",
   "mimetype": "text/x-python",
   "name": "python",
   "nbconvert_exporter": "python",
   "pygments_lexer": "ipython3",
   "version": "3.9.6"
  }
 },
 "nbformat": 4,
 "nbformat_minor": 4
}
