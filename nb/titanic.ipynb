{
 "cells": [
  {
   "cell_type": "code",
   "execution_count": null,
   "metadata": {
    "execution": {
     "iopub.execute_input": "2021-08-23T06:01:49.499018Z",
     "iopub.status.busy": "2021-08-23T06:01:49.498271Z",
     "iopub.status.idle": "2021-08-23T06:01:49.513153Z",
     "shell.execute_reply": "2021-08-23T06:01:49.513635Z"
    },
    "tags": []
   },
   "outputs": [],
   "source": [
    "%load_ext autoreload\n",
    "%autoreload 2"
   ]
  },
  {
   "cell_type": "code",
   "execution_count": null,
   "metadata": {
    "execution": {
     "iopub.execute_input": "2021-08-23T06:01:49.517138Z",
     "iopub.status.busy": "2021-08-23T06:01:49.516540Z",
     "iopub.status.idle": "2021-08-23T06:01:49.750784Z",
     "shell.execute_reply": "2021-08-23T06:01:49.751108Z"
    },
    "tags": []
   },
   "outputs": [],
   "source": [
    "import pandas as pd"
   ]
  },
  {
   "cell_type": "code",
   "execution_count": null,
   "metadata": {
    "ExecuteTime": {
     "end_time": "2018-05-15T09:36:28.226979Z",
     "start_time": "2018-05-15T09:36:27.718823Z"
    },
    "execution": {
     "iopub.execute_input": "2021-08-23T06:01:49.754276Z",
     "iopub.status.busy": "2021-08-23T06:01:49.753765Z",
     "iopub.status.idle": "2021-08-23T06:01:49.784683Z",
     "shell.execute_reply": "2021-08-23T06:01:49.784284Z"
    },
    "tags": []
   },
   "outputs": [],
   "source": [
    "an_pa_in = pd.read_csv(\n",
    "    \"data/titanic.tsv\", \"\\t\", usecols=[\"sex\", \"age\", \"fare\", \"survived\"]\n",
    ").dropna()\n",
    "\n",
    "an_pa_in.index = [\"Passenger {}\".format(la + 1) for la in an_pa_in.index]\n",
    "\n",
    "an_pa_in"
   ]
  },
  {
   "cell_type": "code",
   "execution_count": null,
   "metadata": {
    "ExecuteTime": {
     "end_time": "2018-05-15T09:36:32.320959Z",
     "start_time": "2018-05-15T09:36:28.241752Z"
    },
    "execution": {
     "iopub.execute_input": "2021-08-23T06:01:49.787936Z",
     "iopub.status.busy": "2021-08-23T06:01:49.787436Z",
     "iopub.status.idle": "2021-08-23T06:01:49.801507Z",
     "shell.execute_reply": "2021-08-23T06:01:49.801920Z"
    },
    "tags": []
   },
   "outputs": [],
   "source": [
    "ge_ = (an_pa_in[\"sex\"] == \"male\").astype(int)\n",
    "\n",
    "ge_.name = \"Gender\"\n",
    "\n",
    "ge_.sort_values()"
   ]
  },
  {
   "cell_type": "code",
   "execution_count": null,
   "metadata": {
    "ExecuteTime": {
     "end_time": "2018-05-15T09:36:32.320959Z",
     "start_time": "2018-05-15T09:36:28.241752Z"
    },
    "execution": {
     "iopub.execute_input": "2021-08-23T06:01:49.805013Z",
     "iopub.status.busy": "2021-08-23T06:01:49.804511Z",
     "iopub.status.idle": "2021-08-23T06:01:49.818341Z",
     "shell.execute_reply": "2021-08-23T06:01:49.818703Z"
    },
    "tags": []
   },
   "outputs": [],
   "source": [
    "ag_ = an_pa_in[\"age\"]\n",
    "\n",
    "ag_.name = \"Age\"\n",
    "\n",
    "ag_.sort_values()"
   ]
  },
  {
   "cell_type": "code",
   "execution_count": null,
   "metadata": {
    "execution": {
     "iopub.execute_input": "2021-08-23T06:01:49.821523Z",
     "iopub.status.busy": "2021-08-23T06:01:49.820993Z",
     "iopub.status.idle": "2021-08-23T06:01:50.244514Z",
     "shell.execute_reply": "2021-08-23T06:01:50.244905Z"
    },
    "tags": []
   },
   "outputs": [],
   "source": [
    "import kwat"
   ]
  },
  {
   "cell_type": "code",
   "execution_count": null,
   "metadata": {
    "ExecuteTime": {
     "end_time": "2018-05-15T09:36:32.320959Z",
     "start_time": "2018-05-15T09:36:28.241752Z"
    },
    "execution": {
     "iopub.execute_input": "2021-08-23T06:01:50.248647Z",
     "iopub.status.busy": "2021-08-23T06:01:50.248007Z",
     "iopub.status.idle": "2021-08-23T06:01:50.270931Z",
     "shell.execute_reply": "2021-08-23T06:01:50.271419Z"
    },
    "tags": []
   },
   "outputs": [],
   "source": [
    "fa_ = kwat.array.log(an_pa_in[\"fare\"] + 1)\n",
    "\n",
    "fa_.name = \"Fare\"\n",
    "\n",
    "fa_.sort_values()"
   ]
  },
  {
   "cell_type": "code",
   "execution_count": null,
   "metadata": {
    "ExecuteTime": {
     "end_time": "2018-05-15T09:36:32.320959Z",
     "start_time": "2018-05-15T09:36:28.241752Z"
    },
    "execution": {
     "iopub.execute_input": "2021-08-23T06:01:50.274404Z",
     "iopub.status.busy": "2021-08-23T06:01:50.273887Z",
     "iopub.status.idle": "2021-08-23T06:01:50.294550Z",
     "shell.execute_reply": "2021-08-23T06:01:50.294902Z"
    },
    "tags": []
   },
   "outputs": [],
   "source": [
    "su_ = an_pa_in[\"survived\"]\n",
    "\n",
    "su_.name = \"Survival\"\n",
    "\n",
    "su_.sort_values()"
   ]
  },
  {
   "cell_type": "code",
   "execution_count": null,
   "metadata": {
    "execution": {
     "iopub.execute_input": "2021-08-23T06:01:50.297686Z",
     "iopub.status.busy": "2021-08-23T06:01:50.297192Z",
     "iopub.status.idle": "2021-08-23T06:01:50.316437Z",
     "shell.execute_reply": "2021-08-23T06:01:50.316792Z"
    },
    "tags": []
   },
   "outputs": [],
   "source": [
    "import numpy as np"
   ]
  },
  {
   "cell_type": "code",
   "execution_count": null,
   "metadata": {
    "execution": {
     "iopub.execute_input": "2021-08-23T06:01:50.321116Z",
     "iopub.status.busy": "2021-08-23T06:01:50.320609Z",
     "iopub.status.idle": "2021-08-23T06:01:50.341504Z",
     "shell.execute_reply": "2021-08-23T06:01:50.341858Z"
    },
    "tags": []
   },
   "outputs": [],
   "source": [
    "def package(se_):\n",
    "\n",
    "    di_ = [se.name for se in se_]\n",
    "\n",
    "    return (\n",
    "        se_,\n",
    "        kwat.probability.get_posterior_probability(\n",
    "            np.array(se_).T,\n",
    "            ta=0,\n",
    "            co__=[kwat.grid.make_1d_grid(se.min(), se.max(), 1 / 8, 8) for se in se_],\n",
    "            pl=False,\n",
    "            di_=di_,\n",
    "        ),\n",
    "        kwat.probability.get_posterior_probability(\n",
    "            np.array(se_).T,\n",
    "            ta=1,\n",
    "            co__=[kwat.grid.make_1d_grid(se.min(), se.max(), 1 / 8, 8) for se in se_],\n",
    "            pl=True,\n",
    "            di_=di_,\n",
    "        ),\n",
    "    )"
   ]
  },
  {
   "cell_type": "code",
   "execution_count": null,
   "metadata": {
    "execution": {
     "iopub.execute_input": "2021-08-23T06:01:50.345753Z",
     "iopub.status.busy": "2021-08-23T06:01:50.345225Z",
     "iopub.status.idle": "2021-08-23T06:01:50.947767Z",
     "shell.execute_reply": "2021-08-23T06:01:50.948184Z"
    },
    "tags": []
   },
   "outputs": [],
   "source": [
    "ma_pa = {}\n",
    "\n",
    "for se_ in [[ge_], [ag_], [fa_], [ge_, ag_], [ge_, fa_], [ag_, fa_]]:\n",
    "\n",
    "    ma_pa[\", \".join(se.name for se in se_)] = package(se_ + [su_])"
   ]
  },
  {
   "cell_type": "code",
   "execution_count": null,
   "metadata": {
    "ExecuteTime": {
     "end_time": "2018-05-15T09:37:20.971630Z",
     "start_time": "2018-05-15T09:37:20.665810Z"
    },
    "execution": {
     "iopub.execute_input": "2021-08-23T06:01:50.952023Z",
     "iopub.status.busy": "2021-08-23T06:01:50.951456Z",
     "iopub.status.idle": "2021-08-23T06:01:51.113902Z",
     "shell.execute_reply": "2021-08-23T06:01:51.114329Z"
    },
    "tags": []
   },
   "outputs": [],
   "source": [
    "kwat.probability.plot_nomogram(\n",
    "    (su_ == 0).sum() / su_.size,\n",
    "    (su_ == 1).sum() / su_.size,\n",
    "    list(ma_pa.keys()),\n",
    "    [t[1][1] for t in ma_pa.values()],\n",
    "    [t[2][1] for t in ma_pa.values()],\n",
    ")"
   ]
  },
  {
   "cell_type": "code",
   "execution_count": null,
   "metadata": {
    "execution": {
     "iopub.execute_input": "2021-08-23T06:01:51.117934Z",
     "iopub.status.busy": "2021-08-23T06:01:51.117316Z",
     "iopub.status.idle": "2021-08-23T06:01:51.318248Z",
     "shell.execute_reply": "2021-08-23T06:01:51.318664Z"
    },
    "tags": []
   },
   "outputs": [],
   "source": [
    "from sklearn import metrics"
   ]
  },
  {
   "cell_type": "code",
   "execution_count": null,
   "metadata": {
    "ExecuteTime": {
     "end_time": "2018-05-15T09:37:20.370751Z",
     "start_time": "2018-05-15T09:37:04.477354Z"
    },
    "execution": {
     "iopub.execute_input": "2021-08-23T06:01:51.323949Z",
     "iopub.status.busy": "2021-08-23T06:01:51.323375Z",
     "iopub.status.idle": "2021-08-23T06:01:51.429975Z",
     "shell.execute_reply": "2021-08-23T06:01:51.430432Z"
    },
    "tags": []
   },
   "outputs": [],
   "source": [
    "ma_ro = {}\n",
    "\n",
    "for ma, (se_, _, (co_po_dino, pono_)) in ma_pa.items():\n",
    "\n",
    "    co__ = kwat.grid.get_1d_grid(co_po_dino)\n",
    "\n",
    "    po_po_di = pono_.reshape([co_.size for co_ in co__])\n",
    "\n",
    "    xxx = np.full(su_.size, np.nan)\n",
    "\n",
    "    for ie in range(xxx.size):\n",
    "\n",
    "        xxx[ie] = po_po_di[\n",
    "            tuple(np.argmin(np.absolute(co_ - se[ie])) for co_, se in zip(co__, se_))\n",
    "        ]\n",
    "\n",
    "    fpr, tpr = metrics.roc_curve(su_, kwat.array.normalize(xxx, \"0-1\"))[:2]\n",
    "\n",
    "    ma_ro[ma] = {\n",
    "        \"fpr\": fpr,\n",
    "        \"tpr\": tpr,\n",
    "        \"auc\": metrics.auc(fpr, tpr),\n",
    "    }"
   ]
  },
  {
   "cell_type": "code",
   "execution_count": null,
   "metadata": {
    "ExecuteTime": {
     "end_time": "2018-05-15T09:37:20.370751Z",
     "start_time": "2018-05-15T09:37:04.477354Z"
    },
    "execution": {
     "iopub.execute_input": "2021-08-23T06:01:51.435357Z",
     "iopub.status.busy": "2021-08-23T06:01:51.434848Z",
     "iopub.status.idle": "2021-08-23T06:01:51.483645Z",
     "shell.execute_reply": "2021-08-23T06:01:51.483183Z"
    },
    "tags": []
   },
   "outputs": [],
   "source": [
    "kwat.plot.plot_plotly(\n",
    "    {\n",
    "        \"data\": [\n",
    "            {\n",
    "                \"name\": \"Random = 0.50\",\n",
    "                \"x\": [0, 1],\n",
    "                \"y\": [0, 1],\n",
    "                \"mode\": \"lines\",\n",
    "                \"marker\": {\n",
    "                    \"color\": \"#d8d8d8\",\n",
    "                },\n",
    "            },\n",
    "            *(\n",
    "                {\n",
    "                    \"name\": \"{} = {:.2f}\".format(ma, ro[\"auc\"]),\n",
    "                    \"x\": ro[\"fpr\"],\n",
    "                    \"y\": ro[\"tpr\"],\n",
    "                    \"mode\": \"lines\",\n",
    "                }\n",
    "                for ma, ro in ma_ro.items()\n",
    "            ),\n",
    "        ],\n",
    "        \"layout\": {\n",
    "            \"height\": 640,\n",
    "            \"width\": 800,\n",
    "            \"title\": {\n",
    "                \"text\": \"Receiver Operating Characteristic\",\n",
    "            },\n",
    "            \"xaxis\": {\n",
    "                \"title\": \"False Positive Rate\",\n",
    "            },\n",
    "            \"yaxis\": {\n",
    "                \"title\": \"True Positive Rate\",\n",
    "            },\n",
    "        },\n",
    "    }\n",
    ")"
   ]
  }
 ],
 "metadata": {
  "kernelspec": {
   "display_name": "Python 3 (ipykernel)",
   "language": "python",
   "name": "python3"
  },
  "language_info": {
   "codemirror_mode": {
    "name": "ipython",
    "version": 3
   },
   "file_extension": ".py",
   "mimetype": "text/x-python",
   "name": "python",
   "nbconvert_exporter": "python",
   "pygments_lexer": "ipython3",
   "version": "3.9.6"
  }
 },
 "nbformat": 4,
 "nbformat_minor": 4
}
