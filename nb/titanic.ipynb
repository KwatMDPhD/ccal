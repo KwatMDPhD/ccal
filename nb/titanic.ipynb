{
 "cells": [
  {
   "cell_type": "code",
   "execution_count": null,
   "metadata": {},
   "outputs": [],
   "source": [
    "%load_ext autoreload\n",
    "%autoreload 2"
   ]
  },
  {
   "cell_type": "code",
   "execution_count": null,
   "metadata": {},
   "outputs": [],
   "source": [
    "import pandas as pd"
   ]
  },
  {
   "cell_type": "code",
   "execution_count": null,
   "metadata": {},
   "outputs": [],
   "source": [
    "an_pa_in = pd.read_csv(\n",
    "    \"data/titanic.tsv\", \"\\t\", usecols=[\"sex\", \"age\", \"fare\", \"survived\"]\n",
    ").dropna()\n",
    "\n",
    "an_pa_in.index = [\"Passenger {}\".format(la + 1) for la in an_pa_in.index]\n",
    "\n",
    "an_pa_in"
   ]
  },
  {
   "cell_type": "code",
   "execution_count": null,
   "metadata": {},
   "outputs": [],
   "source": [
    "ge_ = (an_pa_in[\"sex\"] == \"male\").astype(int)\n",
    "\n",
    "ge_.name = \"Gender\"\n",
    "\n",
    "ge_.sort_values()"
   ]
  },
  {
   "cell_type": "code",
   "execution_count": null,
   "metadata": {},
   "outputs": [],
   "source": [
    "ag_ = an_pa_in[\"age\"]\n",
    "\n",
    "ag_.name = \"Age\"\n",
    "\n",
    "ag_.sort_values()"
   ]
  },
  {
   "cell_type": "code",
   "execution_count": null,
   "metadata": {},
   "outputs": [],
   "source": [
    "import kwat"
   ]
  },
  {
   "cell_type": "code",
   "execution_count": null,
   "metadata": {},
   "outputs": [],
   "source": [
    "fa_ = kwat.array.log(an_pa_in[\"fare\"] + 1)\n",
    "\n",
    "fa_.name = \"Fare\"\n",
    "\n",
    "fa_.sort_values()"
   ]
  },
  {
   "cell_type": "code",
   "execution_count": null,
   "metadata": {},
   "outputs": [],
   "source": [
    "su_ = an_pa_in[\"survived\"]\n",
    "\n",
    "su_.name = \"Survival\"\n",
    "\n",
    "su_.sort_values()"
   ]
  },
  {
   "cell_type": "code",
   "execution_count": null,
   "metadata": {},
   "outputs": [],
   "source": [
    "import numpy as np"
   ]
  },
  {
   "cell_type": "code",
   "execution_count": null,
   "metadata": {},
   "outputs": [],
   "source": [
    "def package(se_):\n",
    "\n",
    "    di_ = [se.name for se in se_]\n",
    "\n",
    "    return (\n",
    "        se_,\n",
    "        kwat.probability.get_posterior_probability(\n",
    "            np.array(se_).T,\n",
    "            ta=0,\n",
    "            co__=[kwat.grid.make_1d_grid(se.min(), se.max(), 1 / 8, 8) for se in se_],\n",
    "            pl=False,\n",
    "            di_=di_,\n",
    "        ),\n",
    "        kwat.probability.get_posterior_probability(\n",
    "            np.array(se_).T,\n",
    "            ta=1,\n",
    "            co__=[kwat.grid.make_1d_grid(se.min(), se.max(), 1 / 8, 8) for se in se_],\n",
    "            pl=True,\n",
    "            di_=di_,\n",
    "        ),\n",
    "    )"
   ]
  },
  {
   "cell_type": "code",
   "execution_count": null,
   "metadata": {},
   "outputs": [],
   "source": [
    "ma_pa = {}\n",
    "\n",
    "for se_ in [[ge_], [ag_], [fa_], [ge_, ag_], [ge_, fa_], [ag_, fa_]]:\n",
    "\n",
    "    ma_pa[\", \".join(se.name for se in se_)] = package(se_ + [su_])"
   ]
  },
  {
   "cell_type": "code",
   "execution_count": null,
   "metadata": {},
   "outputs": [],
   "source": [
    "kwat.probability.plot(\n",
    "    (su_ == 0).sum() / su_.size,\n",
    "    (su_ == 1).sum() / su_.size,\n",
    "    list(ma_pa.keys()),\n",
    "    [t[1][1] for t in ma_pa.values()],\n",
    "    [t[2][1] for t in ma_pa.values()],\n",
    ")"
   ]
  },
  {
   "cell_type": "code",
   "execution_count": null,
   "metadata": {},
   "outputs": [],
   "source": [
    "from sklearn import metrics"
   ]
  },
  {
   "cell_type": "code",
   "execution_count": null,
   "metadata": {},
   "outputs": [],
   "source": [
    "ma_ro = {}\n",
    "\n",
    "for ma, (se_, _, (co_po_dino, pono_)) in ma_pa.items():\n",
    "\n",
    "    co__ = kwat.grid.get_1d_grid(co_po_dino)\n",
    "\n",
    "    po_po_di = pono_.reshape([co_.size for co_ in co__])\n",
    "\n",
    "    xxx = np.full(su_.size, np.nan)\n",
    "\n",
    "    for ie in range(xxx.size):\n",
    "\n",
    "        xxx[ie] = po_po_di[\n",
    "            tuple(np.argmin(np.absolute(co_ - se[ie])) for co_, se in zip(co__, se_))\n",
    "        ]\n",
    "\n",
    "    fpr, tpr = metrics.roc_curve(su_, kwat.array.normalize(xxx, \"0-1\"))[:2]\n",
    "\n",
    "    ma_ro[ma] = {\"fpr\": fpr, \"tpr\": tpr, \"auc\": metrics.auc(fpr, tpr)}"
   ]
  },
  {
   "cell_type": "code",
   "execution_count": null,
   "metadata": {},
   "outputs": [],
   "source": [
    "kwat.plot.plot_plotly(\n",
    "    {\n",
    "        \"data\": [\n",
    "            {\n",
    "                \"name\": \"Random = 0.50\",\n",
    "                \"x\": [0, 1],\n",
    "                \"y\": [0, 1],\n",
    "                \"mode\": \"lines\",\n",
    "                \"marker\": {\"color\": \"#d8d8d8\"},\n",
    "            },\n",
    "            *(\n",
    "                {\n",
    "                    \"name\": \"{} = {:.2f}\".format(ma, ro[\"auc\"]),\n",
    "                    \"x\": ro[\"fpr\"],\n",
    "                    \"y\": ro[\"tpr\"],\n",
    "                    \"mode\": \"lines\",\n",
    "                }\n",
    "                for ma, ro in ma_ro.items()\n",
    "            ),\n",
    "        ],\n",
    "        \"layout\": {\n",
    "            \"height\": 640,\n",
    "            \"width\": 800,\n",
    "            \"title\": {\"text\": \"Receiver Operating Characteristic\"},\n",
    "            \"xaxis\": {\"title\": \"False Positive Rate\"},\n",
    "            \"yaxis\": {\"title\": \"True Positive Rate\"},\n",
    "        },\n",
    "    }\n",
    ")"
   ]
  }
 ],
 "metadata": {
  "kernelspec": {
   "display_name": "Python 3 (ipykernel)",
   "language": "python",
   "name": "python3"
  },
  "language_info": {
   "codemirror_mode": {
    "name": "ipython",
    "version": 3
   },
   "file_extension": ".py",
   "mimetype": "text/x-python",
   "name": "python",
   "nbconvert_exporter": "python",
   "pygments_lexer": "ipython3",
   "version": "3.9.6"
  }
 },
 "nbformat": 4,
 "nbformat_minor": 4
}
