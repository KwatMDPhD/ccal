{
 "cells": [
  {
   "cell_type": "code",
   "execution_count": null,
   "metadata": {
    "execution": {
     "iopub.execute_input": "2021-08-23T05:58:26.153268Z",
     "iopub.status.busy": "2021-08-23T05:58:26.152610Z",
     "iopub.status.idle": "2021-08-23T05:58:26.166266Z",
     "shell.execute_reply": "2021-08-23T05:58:26.166710Z"
    },
    "tags": []
   },
   "outputs": [],
   "source": [
    "%load_ext autoreload\n",
    "%autoreload 2"
   ]
  },
  {
   "cell_type": "code",
   "execution_count": null,
   "metadata": {
    "execution": {
     "iopub.execute_input": "2021-08-23T05:58:26.170252Z",
     "iopub.status.busy": "2021-08-23T05:58:26.169666Z",
     "iopub.status.idle": "2021-08-23T05:58:26.792154Z",
     "shell.execute_reply": "2021-08-23T05:58:26.792514Z"
    },
    "tags": []
   },
   "outputs": [],
   "source": [
    "import kwat"
   ]
  },
  {
   "cell_type": "code",
   "execution_count": null,
   "metadata": {
    "execution": {
     "iopub.execute_input": "2021-08-23T05:58:26.795849Z",
     "iopub.status.busy": "2021-08-23T05:58:26.795353Z",
     "iopub.status.idle": "2021-08-23T05:58:26.817877Z",
     "shell.execute_reply": "2021-08-23T05:58:26.818301Z"
    },
    "tags": []
   },
   "outputs": [],
   "source": [
    "fu = kwat.information.get_ic"
   ]
  },
  {
   "cell_type": "code",
   "execution_count": null,
   "metadata": {
    "execution": {
     "iopub.execute_input": "2021-08-23T05:58:26.821777Z",
     "iopub.status.busy": "2021-08-23T05:58:26.821177Z",
     "iopub.status.idle": "2021-08-23T05:58:26.842280Z",
     "shell.execute_reply": "2021-08-23T05:58:26.841764Z"
    },
    "tags": []
   },
   "outputs": [],
   "source": [
    "import numpy as np\n",
    "import pandas as pd"
   ]
  },
  {
   "cell_type": "code",
   "execution_count": null,
   "metadata": {
    "execution": {
     "iopub.execute_input": "2021-08-23T05:58:26.848228Z",
     "iopub.status.busy": "2021-08-23T05:58:26.847642Z",
     "iopub.status.idle": "2021-08-23T05:58:26.870085Z",
     "shell.execute_reply": "2021-08-23T05:58:26.870510Z"
    },
    "tags": []
   },
   "outputs": [],
   "source": [
    "def simulate(sh, n_ca=None):\n",
    "\n",
    "    if n_ca is None:\n",
    "\n",
    "        vector = np.random.normal(size=sh[1])\n",
    "\n",
    "        matrix = np.random.normal(size=sh)\n",
    "\n",
    "    else:\n",
    "\n",
    "        vector = np.random.randint(0, high=n_ca, size=sh[1])\n",
    "\n",
    "        matrix = np.random.randint(0, high=n_ca, size=sh)\n",
    "\n",
    "    la1_ = pd.Index((\"Label {}\".format(i) for i in range(sh[1])), name=\"Axis 1\")\n",
    "\n",
    "    return (\n",
    "        pd.Series(vector, index=la1_, name=\"Vector\"),\n",
    "        pd.DataFrame(\n",
    "            matrix,\n",
    "            pd.Index((\"Label {}\".format(i) for i in range(sh[0])), name=\"Axis 0\"),\n",
    "            columns=la1_,\n",
    "        ),\n",
    "    )"
   ]
  },
  {
   "cell_type": "markdown",
   "metadata": {},
   "source": [
    "## make"
   ]
  },
  {
   "cell_type": "code",
   "execution_count": null,
   "metadata": {
    "execution": {
     "iopub.execute_input": "2021-08-23T05:58:26.874417Z",
     "iopub.status.busy": "2021-08-23T05:58:26.873819Z",
     "iopub.status.idle": "2021-08-23T05:58:29.920345Z",
     "shell.execute_reply": "2021-08-23T05:58:29.918912Z"
    },
    "tags": []
   },
   "outputs": [],
   "source": [
    "(ta, da) = simulate([32, 16])\n",
    "\n",
    "ta.iloc[-8::2] = np.nan\n",
    "\n",
    "kwat.function_heat_map.make(ta, da, fu, ac=None)"
   ]
  },
  {
   "cell_type": "code",
   "execution_count": null,
   "metadata": {
    "execution": {
     "iopub.execute_input": "2021-08-23T05:58:29.924841Z",
     "iopub.status.busy": "2021-08-23T05:58:29.924136Z",
     "iopub.status.idle": "2021-08-23T05:58:31.849395Z",
     "shell.execute_reply": "2021-08-23T05:58:31.848999Z"
    },
    "tags": []
   },
   "outputs": [],
   "source": [
    "(ta, da) = simulate([16, 32])\n",
    "\n",
    "da.iloc[:, 0] = np.nan\n",
    "\n",
    "da.iloc[-8:, -8:] = np.nan\n",
    "\n",
    "kwat.function_heat_map.make(ta, da, fu)"
   ]
  },
  {
   "cell_type": "code",
   "execution_count": null,
   "metadata": {
    "execution": {
     "iopub.execute_input": "2021-08-23T05:58:31.853503Z",
     "iopub.status.busy": "2021-08-23T05:58:31.853003Z",
     "iopub.status.idle": "2021-08-23T05:58:42.900318Z",
     "shell.execute_reply": "2021-08-23T05:58:42.900809Z"
    },
    "tags": []
   },
   "outputs": [],
   "source": [
    "da = simulate([16, 8])[1]\n",
    "\n",
    "for nu_ in [[1, 2, 2, 2, 2, 0, 0, 0], [1, 1, 2, 2, 2, 0, 0, 0]]:\n",
    "\n",
    "    ta = pd.Series(nu_, index=da.columns)\n",
    "\n",
    "    for ac in [None, True, False]:\n",
    "\n",
    "        ta.name = \"ac={}\".format(ac)\n",
    "\n",
    "        kwat.function_heat_map.make(ta, da, fu, ac=ac, tyta=\"categorical\")"
   ]
  },
  {
   "cell_type": "code",
   "execution_count": null,
   "metadata": {
    "ExecuteTime": {
     "end_time": "2018-05-15T10:47:59.764349Z",
     "start_time": "2018-05-15T10:46:36.621876Z"
    },
    "execution": {
     "iopub.execute_input": "2021-08-23T05:58:42.904963Z",
     "iopub.status.busy": "2021-08-23T05:58:42.904375Z",
     "iopub.status.idle": "2021-08-23T05:58:42.957874Z",
     "shell.execute_reply": "2021-08-23T05:58:42.958247Z"
    },
    "tags": []
   },
   "outputs": [],
   "source": [
    "ta = pd.read_csv(\"data/function_heat_map_ta.tsv\", sep=\"\\t\", index_col=0, squeeze=True)\n",
    "\n",
    "da = pd.read_csv(\"data/function_heat_map_da.tsv\", sep=\"\\t\", index_col=0)"
   ]
  },
  {
   "cell_type": "code",
   "execution_count": null,
   "metadata": {
    "ExecuteTime": {
     "end_time": "2018-05-15T10:47:59.764349Z",
     "start_time": "2018-05-15T10:46:36.621876Z"
    },
    "execution": {
     "iopub.execute_input": "2021-08-23T05:58:42.962401Z",
     "iopub.status.busy": "2021-08-23T05:58:42.961800Z",
     "iopub.status.idle": "2021-08-23T05:58:45.686087Z",
     "shell.execute_reply": "2021-08-23T05:58:45.686467Z"
    },
    "tags": []
   },
   "outputs": [],
   "source": [
    "for n_row in [1, 2, 3]:\n",
    "\n",
    "    kwat.function_heat_map.make(\n",
    "        da.iloc[0, :], da.iloc[:n_row, :], fu, n_sa=0, n_sh=0, st=3\n",
    "    )"
   ]
  },
  {
   "cell_type": "code",
   "execution_count": null,
   "metadata": {
    "ExecuteTime": {
     "end_time": "2018-05-15T10:47:59.764349Z",
     "start_time": "2018-05-15T10:46:36.621876Z"
    },
    "execution": {
     "iopub.execute_input": "2021-08-23T05:58:45.690257Z",
     "iopub.status.busy": "2021-08-23T05:58:45.689692Z",
     "iopub.status.idle": "2021-08-23T05:59:36.774687Z",
     "shell.execute_reply": "2021-08-23T05:59:36.775277Z"
    },
    "tags": []
   },
   "outputs": [],
   "source": [
    "kwat.function_heat_map.make(ta, da, fu, n_jo=8, n_sa=10, n_sh=10, tyta=\"binary\")"
   ]
  },
  {
   "cell_type": "code",
   "execution_count": null,
   "metadata": {
    "ExecuteTime": {
     "end_time": "2018-05-15T10:46:36.617163Z",
     "start_time": "2018-05-15T10:46:33.667703Z"
    },
    "execution": {
     "iopub.execute_input": "2021-08-23T05:59:36.781221Z",
     "iopub.status.busy": "2021-08-23T05:59:36.780389Z",
     "iopub.status.idle": "2021-08-23T05:59:51.664690Z",
     "shell.execute_reply": "2021-08-23T05:59:51.665117Z"
    },
    "tags": []
   },
   "outputs": [],
   "source": [
    "for shape in ([1, 8], [2, 8], [8, 8], [64, 8], [8, 2], [8, 4], [8, 256]):\n",
    "\n",
    "    (ta, da) = simulate(shape)\n",
    "\n",
    "    kwat.function_heat_map.make(ta, da, fu, n_pl=None)"
   ]
  },
  {
   "cell_type": "markdown",
   "metadata": {},
   "source": [
    "## summarize"
   ]
  },
  {
   "cell_type": "code",
   "execution_count": null,
   "metadata": {
    "ExecuteTime": {
     "end_time": "2018-05-15T10:48:15.310369Z",
     "start_time": "2018-05-15T10:48:08.080994Z"
    },
    "execution": {
     "iopub.execute_input": "2021-08-23T05:59:51.671655Z",
     "iopub.status.busy": "2021-08-23T05:59:51.671069Z",
     "iopub.status.idle": "2021-08-23T05:59:56.636284Z",
     "shell.execute_reply": "2021-08-23T05:59:56.636699Z"
    },
    "tags": []
   },
   "outputs": [],
   "source": [
    "n_co = 16\n",
    "\n",
    "(ta, da) = simulate([16, n_co])\n",
    "\n",
    "da0n = simulate([8, n_co], 4)[1]\n",
    "\n",
    "da01 = simulate([4, n_co], 2)[1]\n",
    "\n",
    "da.drop(da.columns.values[-3], axis=1, inplace=True)\n",
    "\n",
    "da0n.drop(da0n.columns.values[-2], axis=1, inplace=True)\n",
    "\n",
    "da01.drop(da01.columns.values[-1], axis=1, inplace=True)\n",
    "\n",
    "pa_da = [\n",
    "    {\n",
    "        \"name\": \"Continuous\",\n",
    "        \"data\": da,\n",
    "        \"type\": \"continuous\",\n",
    "    },\n",
    "    {\n",
    "        \"name\": \"Categorical\",\n",
    "        \"data\": da0n,\n",
    "        \"type\": \"categorical\",\n",
    "    },\n",
    "    {\n",
    "        \"name\": \"Binary\",\n",
    "        \"data\": da01,\n",
    "        \"type\": \"binary\",\n",
    "    },\n",
    "]\n",
    "\n",
    "for ve in pa_da:\n",
    "\n",
    "    ve[\"statistic\"] = kwat.function_heat_map.make(ta, ve[\"data\"], fu, pl=False)\n",
    "\n",
    "for it in (False, True):\n",
    "\n",
    "    kwat.function_heat_map.summarize(ta, pa_da, it=it)"
   ]
  }
 ],
 "metadata": {
  "kernelspec": {
   "display_name": "Python 3 (ipykernel)",
   "language": "python",
   "name": "python3"
  },
  "language_info": {
   "codemirror_mode": {
    "name": "ipython",
    "version": 3
   },
   "file_extension": ".py",
   "mimetype": "text/x-python",
   "name": "python",
   "nbconvert_exporter": "python",
   "pygments_lexer": "ipython3",
   "version": "3.9.6"
  }
 },
 "nbformat": 4,
 "nbformat_minor": 4
}
