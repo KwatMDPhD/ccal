{
 "cells": [
  {
   "cell_type": "code",
   "execution_count": null,
   "metadata": {},
   "outputs": [],
   "source": [
    "%load_ext autoreload\n",
    "%autoreload 2"
   ]
  },
  {
   "cell_type": "code",
   "execution_count": null,
   "metadata": {},
   "outputs": [],
   "source": [
    "import numpy as np\n",
    "\n",
    "import kwat"
   ]
  },
  {
   "cell_type": "code",
   "execution_count": null,
   "metadata": {},
   "outputs": [],
   "source": [
    "v = np.random.random_sample(size=[8, 8])\n",
    "\n",
    "v0 = np.random.random_sample(size=[v.shape[0], v.shape[0] * 2])\n",
    "\n",
    "v1 = np.random.random_sample(size=[v.shape[0] * 2, v.shape[0]])\n",
    "\n",
    "re = 4"
   ]
  },
  {
   "cell_type": "markdown",
   "metadata": {},
   "source": [
    "## plot_matrix_factorization"
   ]
  },
  {
   "cell_type": "markdown",
   "metadata": {},
   "source": [
    "## factorize_matrix_by_nmf"
   ]
  },
  {
   "cell_type": "code",
   "execution_count": null,
   "metadata": {},
   "outputs": [],
   "source": [
    "w, h, error = kwat.matrix_factorization.factorize_matrix_by_nmf(v, r)\n",
    "\n",
    "kwat.matrix_factorization.plot_matrix_factorization([w], [h])"
   ]
  },
  {
   "cell_type": "markdown",
   "metadata": {},
   "source": [
    "## factorize_matrix"
   ]
  },
  {
   "cell_type": "code",
   "execution_count": null,
   "metadata": {},
   "outputs": [],
   "source": [
    "for v_, mo in [[v_1, \"ws\"], [v_0, \"hs\"]]:\n",
    "\n",
    "    print(mo)\n",
    "\n",
    "    wm_, hm_, er_ = kwat.matrix_factorization.factorize_matrix([v, v_], mo, re)\n",
    "\n",
    "    kwat.matrix_factorization.plot_matrix_factorization(wm_, hm_, er_=er_)"
   ]
  }
 ],
 "metadata": {
  "kernelspec": {
   "display_name": "Python 3 (ipykernel)",
   "language": "python",
   "name": "python3"
  },
  "language_info": {
   "codemirror_mode": {
    "name": "ipython",
    "version": 3
   },
   "file_extension": ".py",
   "mimetype": "text/x-python",
   "name": "python",
   "nbconvert_exporter": "python",
   "pygments_lexer": "ipython3",
   "version": "3.9.6"
  }
 },
 "nbformat": 4,
 "nbformat_minor": 4
}
