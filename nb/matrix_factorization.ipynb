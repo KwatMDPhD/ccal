{
 "cells": [
  {
   "cell_type": "code",
   "execution_count": null,
   "metadata": {},
   "outputs": [],
   "source": [
    "%load_ext autoreload\n",
    "%autoreload 2"
   ]
  },
  {
   "cell_type": "code",
   "execution_count": null,
   "metadata": {},
   "outputs": [],
   "source": [
    "import numpy as np\n",
    "\n",
    "import kwat"
   ]
  },
  {
   "cell_type": "markdown",
   "metadata": {},
   "source": [
    "## plot"
   ]
  },
  {
   "cell_type": "markdown",
   "metadata": {},
   "source": [
    "## factorize_with_nmf"
   ]
  },
  {
   "cell_type": "code",
   "execution_count": null,
   "metadata": {},
   "outputs": [],
   "source": [
    "ma = np.random.random_sample(size=[8, 8])\n",
    "\n",
    "re = 4"
   ]
  },
  {
   "cell_type": "code",
   "execution_count": null,
   "metadata": {},
   "outputs": [],
   "source": [
    "wm, hm, er = kwat.matrix_factorization.factorize_with_nmf(ma, re)\n",
    "\n",
    "print(er)\n",
    "\n",
    "kwat.matrix_factorization.plot([wm], [hm])"
   ]
  },
  {
   "cell_type": "markdown",
   "metadata": {},
   "source": [
    "## factorize"
   ]
  },
  {
   "cell_type": "code",
   "execution_count": null,
   "metadata": {},
   "outputs": [],
   "source": [
    "ma0 = np.random.random_sample(size=[ma.shape[0] * 2, ma.shape[0]])\n",
    "\n",
    "ma1 = np.random.random_sample(size=[ma.shape[0], ma.shape[0] * 2])"
   ]
  },
  {
   "cell_type": "code",
   "execution_count": null,
   "metadata": {},
   "outputs": [],
   "source": [
    "for ma_, mo in [[[ma, ma0], \"w\"], [[ma, ma1], \"h\"]]:\n",
    "\n",
    "    print(mo)\n",
    "\n",
    "    wm_, hm_, er_ma_it = kwat.matrix_factorization.factorize(ma_, mo, re)\n",
    "\n",
    "    kwat.matrix_factorization.plot(wm_, hm_, er_ma_it=er_ma_it)"
   ]
  }
 ],
 "metadata": {
  "kernelspec": {
   "display_name": "Python 3 (ipykernel)",
   "language": "python",
   "name": "python3"
  },
  "language_info": {
   "codemirror_mode": {
    "name": "ipython",
    "version": 3
   },
   "file_extension": ".py",
   "mimetype": "text/x-python",
   "name": "python",
   "nbconvert_exporter": "python",
   "pygments_lexer": "ipython3",
   "version": "3.9.6"
  }
 },
 "nbformat": 4,
 "nbformat_minor": 4
}
