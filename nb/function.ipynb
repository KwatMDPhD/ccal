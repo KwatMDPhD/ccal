{
 "cells": [
  {
   "cell_type": "code",
   "execution_count": null,
   "metadata": {
    "execution": {
     "iopub.execute_input": "2021-08-25T06:55:44.413543Z",
     "iopub.status.busy": "2021-08-25T06:55:44.412921Z",
     "iopub.status.idle": "2021-08-25T06:55:44.424784Z",
     "shell.execute_reply": "2021-08-25T06:55:44.425117Z"
    },
    "tags": []
   },
   "outputs": [],
   "source": [
    "%load_ext autoreload\n",
    "%autoreload 2"
   ]
  },
  {
   "cell_type": "code",
   "execution_count": null,
   "metadata": {
    "execution": {
     "iopub.execute_input": "2021-08-25T06:55:44.428328Z",
     "iopub.status.busy": "2021-08-25T06:55:44.427751Z",
     "iopub.status.idle": "2021-08-25T06:55:45.103290Z",
     "shell.execute_reply": "2021-08-25T06:55:45.103645Z"
    },
    "tags": []
   },
   "outputs": [],
   "source": [
    "import numpy as np\n",
    "\n",
    "import kwat"
   ]
  },
  {
   "cell_type": "markdown",
   "metadata": {},
   "source": [
    "## separate_and_apply"
   ]
  },
  {
   "cell_type": "code",
   "execution_count": null,
   "metadata": {
    "execution": {
     "iopub.execute_input": "2021-08-25T06:55:45.107089Z",
     "iopub.status.busy": "2021-08-25T06:55:45.106550Z",
     "iopub.status.idle": "2021-08-25T06:55:45.128410Z",
     "shell.execute_reply": "2021-08-25T06:55:45.128003Z"
    }
   },
   "outputs": [],
   "source": [
    "def fu(ar0, ar1):\n",
    "\n",
    "    return ar1.sum() - ar0.sum()"
   ]
  },
  {
   "cell_type": "code",
   "execution_count": null,
   "metadata": {
    "execution": {
     "iopub.execute_input": "2021-08-25T06:55:45.132330Z",
     "iopub.status.busy": "2021-08-25T06:55:45.131758Z",
     "iopub.status.idle": "2021-08-25T06:55:45.153848Z",
     "shell.execute_reply": "2021-08-25T06:55:45.154212Z"
    }
   },
   "outputs": [],
   "source": [
    "ar = np.array([-1, 1, -1, 1])\n",
    "\n",
    "arb = np.array([0, 1, 0, 1])"
   ]
  },
  {
   "cell_type": "code",
   "execution_count": null,
   "metadata": {
    "execution": {
     "iopub.execute_input": "2021-08-25T06:55:45.158900Z",
     "iopub.status.busy": "2021-08-25T06:55:45.158133Z",
     "iopub.status.idle": "2021-08-25T06:55:45.188233Z",
     "shell.execute_reply": "2021-08-25T06:55:45.188605Z"
    }
   },
   "outputs": [],
   "source": [
    "kwat.function.separate_and_apply(ar, arb, fu)"
   ]
  },
  {
   "cell_type": "markdown",
   "metadata": {},
   "source": [
    "## ignore_nan_and_apply"
   ]
  },
  {
   "cell_type": "code",
   "execution_count": null,
   "metadata": {
    "execution": {
     "iopub.execute_input": "2021-08-25T06:55:45.192264Z",
     "iopub.status.busy": "2021-08-25T06:55:45.191740Z",
     "iopub.status.idle": "2021-08-25T06:55:45.213800Z",
     "shell.execute_reply": "2021-08-25T06:55:45.213098Z"
    },
    "tags": []
   },
   "outputs": [],
   "source": [
    "ar1 = np.array([np.nan, 0, 1, np.nan, 2])\n",
    "\n",
    "ar2 = np.array([np.nan, 0, 1, 2, np.nan])"
   ]
  },
  {
   "cell_type": "code",
   "execution_count": null,
   "metadata": {
    "execution": {
     "iopub.execute_input": "2021-08-25T06:55:45.218184Z",
     "iopub.status.busy": "2021-08-25T06:55:45.217498Z",
     "iopub.status.idle": "2021-08-25T06:55:45.240418Z",
     "shell.execute_reply": "2021-08-25T06:55:45.239718Z"
    },
    "tags": []
   },
   "outputs": [],
   "source": [
    "np.add(ar1, ar2)"
   ]
  },
  {
   "cell_type": "code",
   "execution_count": null,
   "metadata": {
    "execution": {
     "iopub.execute_input": "2021-08-25T06:55:45.245287Z",
     "iopub.status.busy": "2021-08-25T06:55:45.244627Z",
     "iopub.status.idle": "2021-08-25T06:55:45.267530Z",
     "shell.execute_reply": "2021-08-25T06:55:45.268007Z"
    },
    "tags": []
   },
   "outputs": [],
   "source": [
    "kwat.function.ignore_nan_and_apply(ar1, ar2, np.add)"
   ]
  }
 ],
 "metadata": {
  "kernelspec": {
   "display_name": "Python 3 (ipykernel)",
   "language": "python",
   "name": "python3"
  },
  "language_info": {
   "codemirror_mode": {
    "name": "ipython",
    "version": 3
   },
   "file_extension": ".py",
   "mimetype": "text/x-python",
   "name": "python",
   "nbconvert_exporter": "python",
   "pygments_lexer": "ipython3",
   "version": "3.9.6"
  }
 },
 "nbformat": 4,
 "nbformat_minor": 4
}
