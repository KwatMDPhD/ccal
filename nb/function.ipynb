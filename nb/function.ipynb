{
 "cells": [
  {
   "cell_type": "code",
   "execution_count": null,
   "metadata": {
    "execution": {
     "iopub.execute_input": "2021-08-23T05:58:22.990656Z",
     "iopub.status.busy": "2021-08-23T05:58:22.989875Z",
     "iopub.status.idle": "2021-08-23T05:58:23.003937Z",
     "shell.execute_reply": "2021-08-23T05:58:23.004372Z"
    },
    "tags": []
   },
   "outputs": [],
   "source": [
    "%load_ext autoreload\n",
    "%autoreload 2"
   ]
  },
  {
   "cell_type": "code",
   "execution_count": null,
   "metadata": {
    "execution": {
     "iopub.execute_input": "2021-08-23T05:58:23.007930Z",
     "iopub.status.busy": "2021-08-23T05:58:23.007261Z",
     "iopub.status.idle": "2021-08-23T05:58:23.627067Z",
     "shell.execute_reply": "2021-08-23T05:58:23.627450Z"
    },
    "tags": []
   },
   "outputs": [],
   "source": [
    "import numpy as np\n",
    "\n",
    "import kwat"
   ]
  },
  {
   "cell_type": "markdown",
   "metadata": {},
   "source": [
    "## separate_and_apply"
   ]
  },
  {
   "cell_type": "code",
   "execution_count": null,
   "metadata": {
    "execution": {
     "iopub.execute_input": "2021-08-23T05:58:23.630998Z",
     "iopub.status.busy": "2021-08-23T05:58:23.630423Z",
     "iopub.status.idle": "2021-08-23T05:58:23.651701Z",
     "shell.execute_reply": "2021-08-23T05:58:23.652123Z"
    }
   },
   "outputs": [],
   "source": [
    "def fu(ar0, ar1):\n",
    "\n",
    "    return ar1.sum() - ar0.sum()"
   ]
  },
  {
   "cell_type": "code",
   "execution_count": null,
   "metadata": {
    "execution": {
     "iopub.execute_input": "2021-08-23T05:58:23.655764Z",
     "iopub.status.busy": "2021-08-23T05:58:23.655173Z",
     "iopub.status.idle": "2021-08-23T05:58:23.677349Z",
     "shell.execute_reply": "2021-08-23T05:58:23.677822Z"
    }
   },
   "outputs": [],
   "source": [
    "ar = np.array([-1, 1, -1, 1])\n",
    "\n",
    "arb = np.array([0, 1, 0, 1])"
   ]
  },
  {
   "cell_type": "code",
   "execution_count": null,
   "metadata": {
    "execution": {
     "iopub.execute_input": "2021-08-23T05:58:23.681646Z",
     "iopub.status.busy": "2021-08-23T05:58:23.681045Z",
     "iopub.status.idle": "2021-08-23T05:58:23.708532Z",
     "shell.execute_reply": "2021-08-23T05:58:23.708957Z"
    }
   },
   "outputs": [],
   "source": [
    "kwat.function.separate_and_apply(ar, arb, fu)"
   ]
  },
  {
   "cell_type": "markdown",
   "metadata": {},
   "source": [
    "## ignore_nan_and_apply"
   ]
  },
  {
   "cell_type": "code",
   "execution_count": null,
   "metadata": {
    "execution": {
     "iopub.execute_input": "2021-08-23T05:58:23.712673Z",
     "iopub.status.busy": "2021-08-23T05:58:23.712026Z",
     "iopub.status.idle": "2021-08-23T05:58:23.733727Z",
     "shell.execute_reply": "2021-08-23T05:58:23.734161Z"
    },
    "tags": []
   },
   "outputs": [],
   "source": [
    "ar1 = np.array([np.nan, 0, 1, np.nan, 2])\n",
    "\n",
    "ar2 = np.array([np.nan, 0, 1, 2, np.nan])"
   ]
  },
  {
   "cell_type": "code",
   "execution_count": null,
   "metadata": {
    "execution": {
     "iopub.execute_input": "2021-08-23T05:58:23.737387Z",
     "iopub.status.busy": "2021-08-23T05:58:23.736750Z",
     "iopub.status.idle": "2021-08-23T05:58:23.759510Z",
     "shell.execute_reply": "2021-08-23T05:58:23.759039Z"
    },
    "tags": []
   },
   "outputs": [],
   "source": [
    "np.add(ar1, ar2)"
   ]
  },
  {
   "cell_type": "code",
   "execution_count": null,
   "metadata": {
    "execution": {
     "iopub.execute_input": "2021-08-23T05:58:23.762780Z",
     "iopub.status.busy": "2021-08-23T05:58:23.762200Z",
     "iopub.status.idle": "2021-08-23T05:58:23.784319Z",
     "shell.execute_reply": "2021-08-23T05:58:23.784825Z"
    },
    "tags": []
   },
   "outputs": [],
   "source": [
    "kwat.function.ignore_nan_and_apply(ar1, ar2, np.add)"
   ]
  }
 ],
 "metadata": {
  "kernelspec": {
   "display_name": "Python 3 (ipykernel)",
   "language": "python",
   "name": "python3"
  },
  "language_info": {
   "codemirror_mode": {
    "name": "ipython",
    "version": 3
   },
   "file_extension": ".py",
   "mimetype": "text/x-python",
   "name": "python",
   "nbconvert_exporter": "python",
   "pygments_lexer": "ipython3",
   "version": "3.9.6"
  }
 },
 "nbformat": 4,
 "nbformat_minor": 4
}
