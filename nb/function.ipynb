{
 "cells": [
  {
   "cell_type": "code",
   "execution_count": null,
   "metadata": {
    "execution": {
     "iopub.execute_input": "2021-08-26T01:52:27.784112Z",
     "iopub.status.busy": "2021-08-26T01:52:27.783465Z",
     "iopub.status.idle": "2021-08-26T01:52:27.797530Z",
     "shell.execute_reply": "2021-08-26T01:52:27.797960Z"
    },
    "tags": []
   },
   "outputs": [],
   "source": [
    "%load_ext autoreload\n",
    "%autoreload 2"
   ]
  },
  {
   "cell_type": "code",
   "execution_count": null,
   "metadata": {
    "execution": {
     "iopub.execute_input": "2021-08-26T01:52:27.801411Z",
     "iopub.status.busy": "2021-08-26T01:52:27.800813Z",
     "iopub.status.idle": "2021-08-26T01:52:28.449302Z",
     "shell.execute_reply": "2021-08-26T01:52:28.449711Z"
    },
    "tags": []
   },
   "outputs": [],
   "source": [
    "import numpy as np\n",
    "\n",
    "import kwat"
   ]
  },
  {
   "cell_type": "markdown",
   "metadata": {},
   "source": [
    "## separate_and_apply"
   ]
  },
  {
   "cell_type": "code",
   "execution_count": null,
   "metadata": {
    "execution": {
     "iopub.execute_input": "2021-08-26T01:52:28.453038Z",
     "iopub.status.busy": "2021-08-26T01:52:28.452502Z",
     "iopub.status.idle": "2021-08-26T01:52:28.475214Z",
     "shell.execute_reply": "2021-08-26T01:52:28.475682Z"
    }
   },
   "outputs": [],
   "source": [
    "def fu(ar0, ar1):\n",
    "\n",
    "    return ar1.sum() - ar0.sum()"
   ]
  },
  {
   "cell_type": "code",
   "execution_count": null,
   "metadata": {
    "execution": {
     "iopub.execute_input": "2021-08-26T01:52:28.479479Z",
     "iopub.status.busy": "2021-08-26T01:52:28.478892Z",
     "iopub.status.idle": "2021-08-26T01:52:28.501005Z",
     "shell.execute_reply": "2021-08-26T01:52:28.501420Z"
    }
   },
   "outputs": [],
   "source": [
    "ar = np.array([-1, 1, -1, 1])\n",
    "\n",
    "arb = np.array([0, 1, 0, 1])"
   ]
  },
  {
   "cell_type": "code",
   "execution_count": null,
   "metadata": {
    "execution": {
     "iopub.execute_input": "2021-08-26T01:52:28.504734Z",
     "iopub.status.busy": "2021-08-26T01:52:28.504162Z",
     "iopub.status.idle": "2021-08-26T01:52:28.531490Z",
     "shell.execute_reply": "2021-08-26T01:52:28.531924Z"
    }
   },
   "outputs": [],
   "source": [
    "kwat.function.separate_and_apply(ar, arb, fu)"
   ]
  },
  {
   "cell_type": "markdown",
   "metadata": {},
   "source": [
    "## ignore_nan_and_apply"
   ]
  },
  {
   "cell_type": "code",
   "execution_count": null,
   "metadata": {
    "execution": {
     "iopub.execute_input": "2021-08-26T01:52:28.535668Z",
     "iopub.status.busy": "2021-08-26T01:52:28.535099Z",
     "iopub.status.idle": "2021-08-26T01:52:28.555376Z",
     "shell.execute_reply": "2021-08-26T01:52:28.555781Z"
    },
    "tags": []
   },
   "outputs": [],
   "source": [
    "ar1 = np.array([np.nan, 0, 1, np.nan, 2])\n",
    "\n",
    "ar2 = np.array([np.nan, 0, 1, 2, np.nan])"
   ]
  },
  {
   "cell_type": "code",
   "execution_count": null,
   "metadata": {
    "execution": {
     "iopub.execute_input": "2021-08-26T01:52:28.558926Z",
     "iopub.status.busy": "2021-08-26T01:52:28.558401Z",
     "iopub.status.idle": "2021-08-26T01:52:28.578666Z",
     "shell.execute_reply": "2021-08-26T01:52:28.579128Z"
    },
    "tags": []
   },
   "outputs": [],
   "source": [
    "np.add(ar1, ar2)"
   ]
  },
  {
   "cell_type": "code",
   "execution_count": null,
   "metadata": {
    "execution": {
     "iopub.execute_input": "2021-08-26T01:52:28.582188Z",
     "iopub.status.busy": "2021-08-26T01:52:28.581643Z",
     "iopub.status.idle": "2021-08-26T01:52:28.601906Z",
     "shell.execute_reply": "2021-08-26T01:52:28.602263Z"
    },
    "tags": []
   },
   "outputs": [],
   "source": [
    "kwat.function.ignore_nan_and_apply(ar1, ar2, np.add)"
   ]
  }
 ],
 "metadata": {
  "kernelspec": {
   "display_name": "Python 3 (ipykernel)",
   "language": "python",
   "name": "python3"
  },
  "language_info": {
   "codemirror_mode": {
    "name": "ipython",
    "version": 3
   },
   "file_extension": ".py",
   "mimetype": "text/x-python",
   "name": "python",
   "nbconvert_exporter": "python",
   "pygments_lexer": "ipython3",
   "version": "3.9.6"
  }
 },
 "nbformat": 4,
 "nbformat_minor": 4
}
