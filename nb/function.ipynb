{
 "cells": [
  {
   "cell_type": "code",
   "execution_count": null,
   "metadata": {
    "execution": {
     "iopub.execute_input": "2021-08-25T07:02:57.396051Z",
     "iopub.status.busy": "2021-08-25T07:02:57.395348Z",
     "iopub.status.idle": "2021-08-25T07:02:57.409561Z",
     "shell.execute_reply": "2021-08-25T07:02:57.410054Z"
    },
    "tags": []
   },
   "outputs": [],
   "source": [
    "%load_ext autoreload\n",
    "%autoreload 2"
   ]
  },
  {
   "cell_type": "code",
   "execution_count": null,
   "metadata": {
    "execution": {
     "iopub.execute_input": "2021-08-25T07:02:57.413321Z",
     "iopub.status.busy": "2021-08-25T07:02:57.412726Z",
     "iopub.status.idle": "2021-08-25T07:02:58.035720Z",
     "shell.execute_reply": "2021-08-25T07:02:58.036106Z"
    },
    "tags": []
   },
   "outputs": [],
   "source": [
    "import numpy as np\n",
    "\n",
    "import kwat"
   ]
  },
  {
   "cell_type": "markdown",
   "metadata": {},
   "source": [
    "## separate_and_apply"
   ]
  },
  {
   "cell_type": "code",
   "execution_count": null,
   "metadata": {
    "execution": {
     "iopub.execute_input": "2021-08-25T07:02:58.039624Z",
     "iopub.status.busy": "2021-08-25T07:02:58.039052Z",
     "iopub.status.idle": "2021-08-25T07:02:58.061396Z",
     "shell.execute_reply": "2021-08-25T07:02:58.061777Z"
    }
   },
   "outputs": [],
   "source": [
    "def fu(ar0, ar1):\n",
    "\n",
    "    return ar1.sum() - ar0.sum()"
   ]
  },
  {
   "cell_type": "code",
   "execution_count": null,
   "metadata": {
    "execution": {
     "iopub.execute_input": "2021-08-25T07:02:58.065380Z",
     "iopub.status.busy": "2021-08-25T07:02:58.064807Z",
     "iopub.status.idle": "2021-08-25T07:02:58.086514Z",
     "shell.execute_reply": "2021-08-25T07:02:58.086989Z"
    }
   },
   "outputs": [],
   "source": [
    "ar = np.array([-1, 1, -1, 1])\n",
    "\n",
    "arb = np.array([0, 1, 0, 1])"
   ]
  },
  {
   "cell_type": "code",
   "execution_count": null,
   "metadata": {
    "execution": {
     "iopub.execute_input": "2021-08-25T07:02:58.090510Z",
     "iopub.status.busy": "2021-08-25T07:02:58.089939Z",
     "iopub.status.idle": "2021-08-25T07:02:58.117024Z",
     "shell.execute_reply": "2021-08-25T07:02:58.117382Z"
    }
   },
   "outputs": [],
   "source": [
    "kwat.function.separate_and_apply(ar, arb, fu)"
   ]
  },
  {
   "cell_type": "markdown",
   "metadata": {},
   "source": [
    "## ignore_nan_and_apply"
   ]
  },
  {
   "cell_type": "code",
   "execution_count": null,
   "metadata": {
    "execution": {
     "iopub.execute_input": "2021-08-25T07:02:58.120919Z",
     "iopub.status.busy": "2021-08-25T07:02:58.120423Z",
     "iopub.status.idle": "2021-08-25T07:02:58.139529Z",
     "shell.execute_reply": "2021-08-25T07:02:58.139056Z"
    },
    "tags": []
   },
   "outputs": [],
   "source": [
    "ar1 = np.array([np.nan, 0, 1, np.nan, 2])\n",
    "\n",
    "ar2 = np.array([np.nan, 0, 1, 2, np.nan])"
   ]
  },
  {
   "cell_type": "code",
   "execution_count": null,
   "metadata": {
    "execution": {
     "iopub.execute_input": "2021-08-25T07:02:58.142894Z",
     "iopub.status.busy": "2021-08-25T07:02:58.142321Z",
     "iopub.status.idle": "2021-08-25T07:02:58.164114Z",
     "shell.execute_reply": "2021-08-25T07:02:58.164571Z"
    },
    "tags": []
   },
   "outputs": [],
   "source": [
    "np.add(ar1, ar2)"
   ]
  },
  {
   "cell_type": "code",
   "execution_count": null,
   "metadata": {
    "execution": {
     "iopub.execute_input": "2021-08-25T07:02:58.167584Z",
     "iopub.status.busy": "2021-08-25T07:02:58.167079Z",
     "iopub.status.idle": "2021-08-25T07:02:58.186468Z",
     "shell.execute_reply": "2021-08-25T07:02:58.186825Z"
    },
    "tags": []
   },
   "outputs": [],
   "source": [
    "kwat.function.ignore_nan_and_apply(ar1, ar2, np.add)"
   ]
  }
 ],
 "metadata": {
  "kernelspec": {
   "display_name": "Python 3 (ipykernel)",
   "language": "python",
   "name": "python3"
  },
  "language_info": {
   "codemirror_mode": {
    "name": "ipython",
    "version": 3
   },
   "file_extension": ".py",
   "mimetype": "text/x-python",
   "name": "python",
   "nbconvert_exporter": "python",
   "pygments_lexer": "ipython3",
   "version": "3.9.6"
  }
 },
 "nbformat": 4,
 "nbformat_minor": 4
}
