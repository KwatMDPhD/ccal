{
 "cells": [
  {
   "cell_type": "code",
   "execution_count": null,
   "metadata": {
    "execution": {
     "iopub.execute_input": "2021-08-25T07:04:44.885858Z",
     "iopub.status.busy": "2021-08-25T07:04:44.884975Z",
     "iopub.status.idle": "2021-08-25T07:04:44.898440Z",
     "shell.execute_reply": "2021-08-25T07:04:44.898870Z"
    },
    "tags": []
   },
   "outputs": [],
   "source": [
    "%load_ext autoreload\n",
    "%autoreload 2"
   ]
  },
  {
   "cell_type": "code",
   "execution_count": null,
   "metadata": {
    "execution": {
     "iopub.execute_input": "2021-08-25T07:04:44.902394Z",
     "iopub.status.busy": "2021-08-25T07:04:44.901719Z",
     "iopub.status.idle": "2021-08-25T07:04:45.555192Z",
     "shell.execute_reply": "2021-08-25T07:04:45.555616Z"
    },
    "tags": []
   },
   "outputs": [],
   "source": [
    "import kwat"
   ]
  },
  {
   "cell_type": "markdown",
   "metadata": {},
   "source": [
    "## print_stack_state"
   ]
  },
  {
   "cell_type": "code",
   "execution_count": null,
   "metadata": {
    "execution": {
     "iopub.execute_input": "2021-08-25T07:04:45.559720Z",
     "iopub.status.busy": "2021-08-25T07:04:45.559059Z",
     "iopub.status.idle": "2021-08-25T07:04:45.779437Z",
     "shell.execute_reply": "2021-08-25T07:04:45.779851Z"
    },
    "tags": []
   },
   "outputs": [],
   "source": [
    "def fu1(ar, ke=\"Local\"):\n",
    "\n",
    "    lo1 = \"Local\"\n",
    "\n",
    "    kwat.python.print_stack_state()\n",
    "\n",
    "\n",
    "fu1(\"Local\")"
   ]
  },
  {
   "cell_type": "code",
   "execution_count": null,
   "metadata": {
    "execution": {
     "iopub.execute_input": "2021-08-25T07:04:45.783189Z",
     "iopub.status.busy": "2021-08-25T07:04:45.782660Z",
     "iopub.status.idle": "2021-08-25T07:04:45.811520Z",
     "shell.execute_reply": "2021-08-25T07:04:45.811880Z"
    },
    "tags": []
   },
   "outputs": [],
   "source": [
    "def fu2(ar):\n",
    "\n",
    "    lo2 = \"Not local\"\n",
    "\n",
    "    fu1(ar)\n",
    "\n",
    "\n",
    "fu2(\"Local\")"
   ]
  },
  {
   "cell_type": "markdown",
   "metadata": {},
   "source": [
    "## cast_builtin"
   ]
  },
  {
   "cell_type": "code",
   "execution_count": null,
   "metadata": {
    "execution": {
     "iopub.execute_input": "2021-08-25T07:04:45.814881Z",
     "iopub.status.busy": "2021-08-25T07:04:45.814389Z",
     "iopub.status.idle": "2021-08-25T07:04:45.833098Z",
     "shell.execute_reply": "2021-08-25T07:04:45.833624Z"
    },
    "tags": []
   },
   "outputs": [],
   "source": [
    "import numpy as np"
   ]
  },
  {
   "cell_type": "code",
   "execution_count": null,
   "metadata": {
    "execution": {
     "iopub.execute_input": "2021-08-25T07:04:45.837139Z",
     "iopub.status.busy": "2021-08-25T07:04:45.836635Z",
     "iopub.status.idle": "2021-08-25T07:04:45.855665Z",
     "shell.execute_reply": "2021-08-25T07:04:45.856043Z"
    },
    "tags": []
   },
   "outputs": [],
   "source": [
    "for an in [None, \"None\", False, \"False\", True, \"True\", 0, 0.0, \"0\", np.nan]:\n",
    "\n",
    "    print(kwat.python.cast_builtin(an))"
   ]
  }
 ],
 "metadata": {
  "kernelspec": {
   "display_name": "Python 3 (ipykernel)",
   "language": "python",
   "name": "python3"
  },
  "language_info": {
   "codemirror_mode": {
    "name": "ipython",
    "version": 3
   },
   "file_extension": ".py",
   "mimetype": "text/x-python",
   "name": "python",
   "nbconvert_exporter": "python",
   "pygments_lexer": "ipython3",
   "version": "3.9.6"
  }
 },
 "nbformat": 4,
 "nbformat_minor": 4
}
