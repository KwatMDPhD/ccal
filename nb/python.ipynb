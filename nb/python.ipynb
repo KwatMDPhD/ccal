{
 "cells": [
  {
   "cell_type": "code",
   "execution_count": null,
   "metadata": {
    "execution": {
     "iopub.execute_input": "2021-06-02T09:06:08.103258Z",
     "iopub.status.busy": "2021-06-02T09:06:08.102581Z",
     "iopub.status.idle": "2021-06-02T09:06:08.115707Z",
     "shell.execute_reply": "2021-06-02T09:06:08.116182Z"
    },
    "tags": []
   },
   "outputs": [],
   "source": [
    "%load_ext autoreload\n",
    "%autoreload 2"
   ]
  },
  {
   "cell_type": "code",
   "execution_count": null,
   "metadata": {
    "execution": {
     "iopub.execute_input": "2021-06-02T09:06:08.119669Z",
     "iopub.status.busy": "2021-06-02T09:06:08.119048Z",
     "iopub.status.idle": "2021-06-02T09:06:08.707310Z",
     "shell.execute_reply": "2021-06-02T09:06:08.707716Z"
    },
    "tags": []
   },
   "outputs": [],
   "source": [
    "import kraft"
   ]
  },
  {
   "cell_type": "markdown",
   "metadata": {},
   "source": [
    "## print_stack_state"
   ]
  },
  {
   "cell_type": "code",
   "execution_count": null,
   "metadata": {
    "execution": {
     "iopub.execute_input": "2021-06-02T09:06:08.711181Z",
     "iopub.status.busy": "2021-06-02T09:06:08.710582Z",
     "iopub.status.idle": "2021-06-02T09:06:08.923311Z",
     "shell.execute_reply": "2021-06-02T09:06:08.924035Z"
    },
    "tags": []
   },
   "outputs": [],
   "source": [
    "def fu1(ar, ke=\"Local\"):\n",
    "\n",
    "    lo1 = \"Local\"\n",
    "\n",
    "    kraft.python.print_stack_state()\n",
    "\n",
    "\n",
    "fu1(\"Local\")"
   ]
  },
  {
   "cell_type": "code",
   "execution_count": null,
   "metadata": {
    "execution": {
     "iopub.execute_input": "2021-06-02T09:06:08.927203Z",
     "iopub.status.busy": "2021-06-02T09:06:08.926669Z",
     "iopub.status.idle": "2021-06-02T09:06:08.956687Z",
     "shell.execute_reply": "2021-06-02T09:06:08.957186Z"
    },
    "tags": []
   },
   "outputs": [],
   "source": [
    "def fu2(ar):\n",
    "\n",
    "    lo2 = \"Not local\"\n",
    "\n",
    "    fu1(ar)\n",
    "\n",
    "\n",
    "fu2(\"Local\")"
   ]
  },
  {
   "cell_type": "markdown",
   "metadata": {},
   "source": [
    "## cast_builtin"
   ]
  },
  {
   "cell_type": "code",
   "execution_count": null,
   "metadata": {
    "execution": {
     "iopub.execute_input": "2021-06-02T09:06:08.960285Z",
     "iopub.status.busy": "2021-06-02T09:06:08.959693Z",
     "iopub.status.idle": "2021-06-02T09:06:08.978944Z",
     "shell.execute_reply": "2021-06-02T09:06:08.979395Z"
    },
    "tags": []
   },
   "outputs": [],
   "source": [
    "import numpy as np"
   ]
  },
  {
   "cell_type": "code",
   "execution_count": null,
   "metadata": {
    "execution": {
     "iopub.execute_input": "2021-06-02T09:06:08.982833Z",
     "iopub.status.busy": "2021-06-02T09:06:08.982221Z",
     "iopub.status.idle": "2021-06-02T09:06:09.002387Z",
     "shell.execute_reply": "2021-06-02T09:06:09.002907Z"
    },
    "tags": []
   },
   "outputs": [],
   "source": [
    "for an in [None, \"None\", False, \"False\", True, \"True\", 0, 0.0, \"0\", np.nan]:\n",
    "\n",
    "    print(kraft.python.cast_builtin(an))"
   ]
  }
 ],
 "metadata": {
  "kernelspec": {
   "display_name": "Python 3",
   "language": "python",
   "name": "python3"
  },
  "language_info": {
   "codemirror_mode": {
    "name": "ipython",
    "version": 3
   },
   "file_extension": ".py",
   "mimetype": "text/x-python",
   "name": "python",
   "nbconvert_exporter": "python",
   "pygments_lexer": "ipython3",
   "version": "3.8.9"
  }
 },
 "nbformat": 4,
 "nbformat_minor": 4
}
