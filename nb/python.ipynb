{
 "cells": [
  {
   "cell_type": "code",
   "execution_count": null,
   "metadata": {
    "execution": {
     "iopub.execute_input": "2021-08-23T06:01:31.035949Z",
     "iopub.status.busy": "2021-08-23T06:01:31.035310Z",
     "iopub.status.idle": "2021-08-23T06:01:31.048912Z",
     "shell.execute_reply": "2021-08-23T06:01:31.049360Z"
    },
    "tags": []
   },
   "outputs": [],
   "source": [
    "%load_ext autoreload\n",
    "%autoreload 2"
   ]
  },
  {
   "cell_type": "code",
   "execution_count": null,
   "metadata": {
    "execution": {
     "iopub.execute_input": "2021-08-23T06:01:31.053657Z",
     "iopub.status.busy": "2021-08-23T06:01:31.053056Z",
     "iopub.status.idle": "2021-08-23T06:01:31.737353Z",
     "shell.execute_reply": "2021-08-23T06:01:31.737701Z"
    },
    "tags": []
   },
   "outputs": [],
   "source": [
    "import kwat"
   ]
  },
  {
   "cell_type": "markdown",
   "metadata": {},
   "source": [
    "## print_stack_state"
   ]
  },
  {
   "cell_type": "code",
   "execution_count": null,
   "metadata": {
    "execution": {
     "iopub.execute_input": "2021-08-23T06:01:31.741971Z",
     "iopub.status.busy": "2021-08-23T06:01:31.741415Z",
     "iopub.status.idle": "2021-08-23T06:01:31.962737Z",
     "shell.execute_reply": "2021-08-23T06:01:31.963300Z"
    },
    "tags": []
   },
   "outputs": [],
   "source": [
    "def fu1(ar, ke=\"Local\"):\n",
    "\n",
    "    lo1 = \"Local\"\n",
    "\n",
    "    kwat.python.print_stack_state()\n",
    "\n",
    "\n",
    "fu1(\"Local\")"
   ]
  },
  {
   "cell_type": "code",
   "execution_count": null,
   "metadata": {
    "execution": {
     "iopub.execute_input": "2021-08-23T06:01:31.966796Z",
     "iopub.status.busy": "2021-08-23T06:01:31.966220Z",
     "iopub.status.idle": "2021-08-23T06:01:31.994589Z",
     "shell.execute_reply": "2021-08-23T06:01:31.994245Z"
    },
    "tags": []
   },
   "outputs": [],
   "source": [
    "def fu2(ar):\n",
    "\n",
    "    lo2 = \"Not local\"\n",
    "\n",
    "    fu1(ar)\n",
    "\n",
    "\n",
    "fu2(\"Local\")"
   ]
  },
  {
   "cell_type": "markdown",
   "metadata": {},
   "source": [
    "## cast_builtin"
   ]
  },
  {
   "cell_type": "code",
   "execution_count": null,
   "metadata": {
    "execution": {
     "iopub.execute_input": "2021-08-23T06:01:31.997688Z",
     "iopub.status.busy": "2021-08-23T06:01:31.997193Z",
     "iopub.status.idle": "2021-08-23T06:01:32.017247Z",
     "shell.execute_reply": "2021-08-23T06:01:32.017630Z"
    },
    "tags": []
   },
   "outputs": [],
   "source": [
    "import numpy as np"
   ]
  },
  {
   "cell_type": "code",
   "execution_count": null,
   "metadata": {
    "execution": {
     "iopub.execute_input": "2021-08-23T06:01:32.021381Z",
     "iopub.status.busy": "2021-08-23T06:01:32.020806Z",
     "iopub.status.idle": "2021-08-23T06:01:32.041031Z",
     "shell.execute_reply": "2021-08-23T06:01:32.041445Z"
    },
    "tags": []
   },
   "outputs": [],
   "source": [
    "for an in [None, \"None\", False, \"False\", True, \"True\", 0, 0.0, \"0\", np.nan]:\n",
    "\n",
    "    print(kwat.python.cast_builtin(an))"
   ]
  }
 ],
 "metadata": {
  "kernelspec": {
   "display_name": "Python 3 (ipykernel)",
   "language": "python",
   "name": "python3"
  },
  "language_info": {
   "codemirror_mode": {
    "name": "ipython",
    "version": 3
   },
   "file_extension": ".py",
   "mimetype": "text/x-python",
   "name": "python",
   "nbconvert_exporter": "python",
   "pygments_lexer": "ipython3",
   "version": "3.9.6"
  }
 },
 "nbformat": 4,
 "nbformat_minor": 4
}
