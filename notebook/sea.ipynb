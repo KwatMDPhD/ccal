{
 "cells": [
  {
   "cell_type": "code",
   "execution_count": null,
   "metadata": {},
   "outputs": [],
   "source": [
    "%load_ext autoreload\n",
    "%autoreload 2"
   ]
  },
  {
   "cell_type": "code",
   "execution_count": null,
   "metadata": {},
   "outputs": [],
   "source": [
    "import numpy as np\n",
    "import pandas as pd\n",
    "\n",
    "import kraft"
   ]
  },
  {
   "cell_type": "code",
   "execution_count": null,
   "metadata": {},
   "outputs": [],
   "source": [
    "n_element = 100\n",
    "\n",
    "n_sample = 6\n",
    "\n",
    "_2_sided = False\n",
    "\n",
    "fraction_skip = 0.1\n",
    "\n",
    "fraction_top = 0.1\n",
    "\n",
    "rate_top_hit = 0.2"
   ]
  },
  {
   "cell_type": "code",
   "execution_count": null,
   "metadata": {},
   "outputs": [],
   "source": [
    "n_skip = int(fraction_skip * n_element)\n",
    "\n",
    "n_top = int(fraction_top * n_element)\n",
    "\n",
    "rate_top_hit = int(rate_top_hit * n_top)\n",
    "\n",
    "n_skip, n_top, rate_top_hit"
   ]
  },
  {
   "cell_type": "code",
   "execution_count": null,
   "metadata": {},
   "outputs": [],
   "source": [
    "element_score = pd.Series(\n",
    "    np.sort(np.random.normal(size=n_element))[::-1],\n",
    "    index=(\"Element {}\".format(i) for i in range(n_element)),\n",
    ")\n",
    "\n",
    "element_score"
   ]
  },
  {
   "cell_type": "code",
   "execution_count": null,
   "metadata": {},
   "outputs": [],
   "source": [
    "set_elements_ = element_score.index[n_skip : n_skip + n_top : rate_top_hit].tolist()\n",
    "\n",
    "if _2_sided:\n",
    "\n",
    "    set_elements_ += element_score.index[\n",
    "        -n_skip - n_top : -n_skip : rate_top_hit\n",
    "    ].tolist()\n",
    "\n",
    "set_elements_"
   ]
  },
  {
   "cell_type": "code",
   "execution_count": null,
   "metadata": {},
   "outputs": [],
   "source": [
    "kraft.compute_set_enrichment(\n",
    "    element_score, set_elements_, power=0,\n",
    ")"
   ]
  },
  {
   "cell_type": "code",
   "execution_count": null,
   "metadata": {},
   "outputs": [],
   "source": [
    "element_score = pd.read_csv(\n",
    "    \"/Users/kwatme/Downloads/gsea/benchmark4.gene.list.GSEA.txt\",\n",
    "    sep=\"\\t\",\n",
    "    usecols=(\"gene.list\", \"gene.scores\"),\n",
    "    index_col=0,\n",
    "    squeeze=True,\n",
    ")"
   ]
  },
  {
   "cell_type": "code",
   "execution_count": null,
   "metadata": {},
   "outputs": [],
   "source": [
    "set_elements = kraft.read_gmt(\"/Users/kwatme/Downloads/gsea/c2.all.v5.1.symbols.gmt\")\n",
    "\n",
    "set_ = \"COLLER_MYC_TARGETS_UP\"\n",
    "\n",
    "set_elements_ = set_elements[set_]"
   ]
  },
  {
   "cell_type": "code",
   "execution_count": null,
   "metadata": {},
   "outputs": [],
   "source": [
    "kraft.compute_set_enrichment(\n",
    "    element_score, set_elements_, power=0, title=set_,\n",
    ")"
   ]
  },
  {
   "cell_type": "code",
   "execution_count": null,
   "metadata": {},
   "outputs": [],
   "source": [
    "(\n",
    "    \"COLLER_MYC_TARGETS_UP\",\n",
    "    \"SCHUHMACHER_MYC_TARGETS_UP\",\n",
    "    \"MENSSEN_MYC_TARGETS\",\n",
    "    \"KIM_MYC_AMPLIFICATION_TARGETS_UP\",\n",
    "    \"PID_MYC_ACTIV_PATHWAY\",\n",
    "    \"BILD_MYC_ONCOGENIC_SIGNATURE\",\n",
    "    \"ACOSTA_PROLIFERATION_INDEPENDENT_MYC_TARGETS_UP\",\n",
    ")"
   ]
  }
 ],
 "metadata": {
  "kernelspec": {
   "display_name": "Python 3",
   "language": "python",
   "name": "python3"
  },
  "language_info": {
   "codemirror_mode": {
    "name": "ipython",
    "version": 3
   },
   "file_extension": ".py",
   "mimetype": "text/x-python",
   "name": "python",
   "nbconvert_exporter": "python",
   "pygments_lexer": "ipython3",
   "version": "3.7.3"
  }
 },
 "nbformat": 4,
 "nbformat_minor": 4
}
