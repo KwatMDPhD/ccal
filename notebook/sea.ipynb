{
 "cells": [
  {
   "cell_type": "code",
   "execution_count": null,
   "metadata": {},
   "outputs": [],
   "source": [
    "%load_ext autoreload\n",
    "%autoreload 2"
   ]
  },
  {
   "cell_type": "code",
   "execution_count": null,
   "metadata": {},
   "outputs": [],
   "source": [
    "import numpy as np\n",
    "import pandas as pd\n",
    "\n",
    "import kraft"
   ]
  },
  {
   "cell_type": "code",
   "execution_count": null,
   "metadata": {},
   "outputs": [],
   "source": [
    "element_score = pd.read_csv(\n",
    "    \"/Users/kwatme/Downloads/gsea/benchmark4.gene.list.GSEA.txt\",\n",
    "    sep=\"\\t\",\n",
    "    usecols=(\"gene.list\", \"gene.scores\"),\n",
    "    index_col=0,\n",
    "    squeeze=True,\n",
    ")"
   ]
  },
  {
   "cell_type": "code",
   "execution_count": null,
   "metadata": {},
   "outputs": [],
   "source": [
    "set_elements = kraft.read_gmt(\"/Users/kwatme/Downloads/gsea/c2.all.v5.1.symbols.gmt\")"
   ]
  },
  {
   "cell_type": "code",
   "execution_count": null,
   "metadata": {},
   "outputs": [],
   "source": [
    "set_elements_ = set_elements[\"COLLER_MYC_TARGETS_UP\"]\n",
    "\n",
    "method = \"rank cdf js\"\n",
    "\n",
    "print(kraft.compute_set_enrichment(element_score, set_elements_, method=method))\n",
    "\n",
    "print(\n",
    "    kraft.compute_set_enrichment(\n",
    "        pd.Series(element_score.values[::-1], element_score.index),\n",
    "        set_elements_,\n",
    "        method=method,\n",
    "    )\n",
    ")"
   ]
  },
  {
   "cell_type": "code",
   "execution_count": null,
   "metadata": {},
   "outputs": [],
   "source": [
    "for sides in (\n",
    "    #     (\"-\"),\n",
    "    #     (\"+\",),\n",
    "    (\"-\", \"+\"),\n",
    "):\n",
    "\n",
    "    for n_element in (6,):\n",
    "\n",
    "        assert n_element % 2 == 0\n",
    "\n",
    "        element_score = np.random.normal(size=n_element // 2)\n",
    "\n",
    "        element_score = pd.Series(\n",
    "            np.sort(np.concatenate((element_score, -element_score))),\n",
    "            index=(\"Element{}\".format(i) for i in range(n_element)),\n",
    "        )\n",
    "\n",
    "        for n_skip in (0,):\n",
    "\n",
    "            if n_skip < 1:\n",
    "\n",
    "                n_skip = int(n_skip * n_element)\n",
    "\n",
    "            for n_top in (2,):\n",
    "\n",
    "                if n_top < 1:\n",
    "\n",
    "                    n_top = int(n_top * n_element)\n",
    "\n",
    "                for rate_top_hit in (1,):\n",
    "\n",
    "                    if rate_top_hit < 1:\n",
    "\n",
    "                        rate_top_hit = int(rate_top_hit * n_top)\n",
    "\n",
    "                    print(\"=\" * 80)\n",
    "\n",
    "                    print(n_element, n_skip, n_top, rate_top_hit)\n",
    "\n",
    "                    print(\"=\" * 80)\n",
    "\n",
    "                    set_elements_ = []\n",
    "\n",
    "                    if \"-\" in sides:\n",
    "\n",
    "                        set_elements_ += list(\n",
    "                            element_score.index[n_skip : n_skip + n_top : rate_top_hit]\n",
    "                        )\n",
    "\n",
    "                    if \"+\" in sides:\n",
    "\n",
    "                        set_elements_ += list(\n",
    "                            element_score.index[\n",
    "                                -(n_skip + 1) : -(n_skip + 1 + n_top) : -rate_top_hit\n",
    "                            ]\n",
    "                        )[::-1]\n",
    "\n",
    "                    print(set_elements_)\n",
    "\n",
    "                    enrichment = kraft.compute_set_enrichment(\n",
    "                        element_score, set_elements_, power=0, plot=True\n",
    "                    )\n",
    "\n",
    "                    print(enrichment)"
   ]
  },
  {
   "cell_type": "code",
   "execution_count": null,
   "metadata": {},
   "outputs": [],
   "source": [
    "n = 10\n",
    "\n",
    "a = np.arange(1, n) / n\n",
    "\n",
    "b = a[::-1]\n",
    "\n",
    "c = (a + b) / 2\n",
    "\n",
    "jsh = a * np.log(a / c)\n",
    "\n",
    "jsm = b * np.log(b / c)\n",
    "\n",
    "js = jsh + jsm\n",
    "\n",
    "kraft.plot_plotly_figure(\n",
    "    {\"data\": [{\"y\": a}, {\"y\": b}, {\"y\": c}, {\"y\": jsh}, {\"y\": jsm}, {\"y\": js},]}\n",
    ")"
   ]
  }
 ],
 "metadata": {
  "kernelspec": {
   "display_name": "Python 3",
   "language": "python",
   "name": "python3"
  },
  "language_info": {
   "codemirror_mode": {
    "name": "ipython",
    "version": 3
   },
   "file_extension": ".py",
   "mimetype": "text/x-python",
   "name": "python",
   "nbconvert_exporter": "python",
   "pygments_lexer": "ipython3",
   "version": "3.7.3"
  }
 },
 "nbformat": 4,
 "nbformat_minor": 4
}
