{
 "cells": [
  {
   "cell_type": "code",
   "execution_count": 2,
   "metadata": {},
   "outputs": [],
   "source": [
    "%load_ext autoreload\n",
    "%autoreload 2"
   ]
  },
  {
   "cell_type": "code",
   "execution_count": 3,
   "metadata": {},
   "outputs": [],
   "source": [
    "import numpy as np\n",
    "import pandas as pd\n",
    "\n",
    "import kraft"
   ]
  },
  {
   "cell_type": "code",
   "execution_count": null,
   "metadata": {},
   "outputs": [],
   "source": [
    "for sides in (\n",
    "    (\"-\"),\n",
    "    (\"+\",),\n",
    "    (\"-\", \"+\"),\n",
    "):\n",
    "\n",
    "    for n_element in (10,):\n",
    "\n",
    "        assert n_element % 2 == 0\n",
    "\n",
    "        np.random.seed(seed=2012)\n",
    "\n",
    "        element_score = np.random.normal(size=n_element // 2)\n",
    "\n",
    "        element_score = np.concatenate((element_score, -element_score))\n",
    "\n",
    "        element_score.sort()\n",
    "\n",
    "        element_score = pd.Series(\n",
    "            element_score, index=(\"Element{}\".format(i) for i in range(n_element)),\n",
    "        )\n",
    "\n",
    "        for n_skip in (0,):\n",
    "\n",
    "            if n_skip < 1:\n",
    "\n",
    "                n_skip = int(n_skip * n_element)\n",
    "\n",
    "            for n_top in (2,):\n",
    "\n",
    "                if n_top < 1:\n",
    "\n",
    "                    n_top = int(n_top * n_element)\n",
    "\n",
    "                for rate_top_hit in (1,):\n",
    "\n",
    "                    if rate_top_hit < 1:\n",
    "\n",
    "                        rate_top_hit = int(rate_top_hit * n_top)\n",
    "\n",
    "                    print(\"n_element: {}\".format(n_element))\n",
    "                    \n",
    "                    print(\"n_skip: {}\".format(n_skip))\n",
    "                    \n",
    "                    print(\"n_top: {}\".format(n_top))\n",
    "                    \n",
    "                    print(\"rate_top_hit: {}\".format(rate_top_hit))\n",
    "\n",
    "                    set_elements_ = []\n",
    "\n",
    "                    if \"-\" in sides:\n",
    "\n",
    "                        set_elements_ += element_score.index[\n",
    "                            n_skip : n_skip + n_top : rate_top_hit\n",
    "                        ].tolist()\n",
    "\n",
    "                    if \"+\" in sides:\n",
    "\n",
    "                        set_elements_ += element_score.index[\n",
    "                            -(n_skip + 1) : -(n_skip + 1 + n_top) : -rate_top_hit\n",
    "                        ][::-1].tolist()\n",
    "\n",
    "                    print(kraft.compute_set_enrichment_2(element_score, set_elements_))"
   ]
  },
  {
   "cell_type": "code",
   "execution_count": null,
   "metadata": {},
   "outputs": [],
   "source": [
    "element_score = pd.read_csv(\n",
    "    \"/Users/kwatme/Downloads/gsea/benchmark4.gene.list.GSEA.txt\",\n",
    "    sep=\"\\t\",\n",
    "    usecols=(\"gene.list\", \"gene.scores\"),\n",
    "    index_col=0,\n",
    "    squeeze=True,\n",
    ")"
   ]
  },
  {
   "cell_type": "code",
   "execution_count": null,
   "metadata": {},
   "outputs": [],
   "source": [
    "set_elements = kraft.read_gmt(\"/Users/kwatme/Downloads/gsea/c2.all.v5.1.symbols.gmt\")"
   ]
  },
  {
   "cell_type": "code",
   "execution_count": null,
   "metadata": {},
   "outputs": [],
   "source": [
    "set_elements_ = set_elements[\"COLLER_MYC_TARGETS_UP\"]\n",
    "\n",
    "method = \"rank cdf ks\"\n",
    "\n",
    "kraft.compute_set_enrichment(element_score, set_elements_, method=method)"
   ]
  },
  {
   "cell_type": "code",
   "execution_count": null,
   "metadata": {},
   "outputs": [],
   "source": [
    "n = 10\n",
    "\n",
    "a = np.arange(1, n) / n\n",
    "\n",
    "b = a[::-1]\n",
    "\n",
    "c = (a + b) / 2\n",
    "\n",
    "jsa = a * np.log(a / c)\n",
    "\n",
    "jsb = b * np.log(b / c)\n",
    "\n",
    "js = jsa + jsb\n",
    "\n",
    "kraft.plot_plotly_figure(\n",
    "    {\n",
    "        \"data\": [\n",
    "            {\"name\": \"A\", \"y\": a},\n",
    "            {\"name\": \"B\", \"y\": b},\n",
    "            {\"name\": \"Center\", \"y\": c},\n",
    "            {\"name\": \"JS A\", \"y\": jsa,},\n",
    "            {\"name\": \"JS B\", \"y\": jsb},\n",
    "            {\"name\": \"JS\", \"y\": js},\n",
    "        ]\n",
    "    }\n",
    ")"
   ]
  },
  {
   "cell_type": "code",
   "execution_count": null,
   "metadata": {},
   "outputs": [],
   "source": [
    "a = np.asarray([0, 0, 0, 1, 1, 1])\n",
    "\n",
    "b = np.arange(a.size)\n",
    "\n",
    "p_0 = (a == 0).sum() / a.size\n",
    "\n",
    "p_1 = (a == 1).sum() / a.size\n",
    "\n",
    "b_0 = b[a == 0]\n",
    "\n",
    "b_1 = b[a == 1]\n",
    "\n",
    "p_b = kraft.estimate_element_x_dimension_kernel_density(\n",
    "    b.reshape((b.size, 1)),\n",
    "    dimension_grid_mins=(b.min(),),\n",
    "    dimension_grid_maxs=(b.max(),),\n",
    "    dimension_fraction_grid_extensions=(1e-3,),\n",
    "    dimension_n_grids=(8,),\n",
    ")[1]\n",
    "\n",
    "p_b_0 = kraft.estimate_element_x_dimension_kernel_density(\n",
    "    b_0.reshape((b_0.size, 1)),\n",
    "    dimension_grid_mins=(b.min(),),\n",
    "    dimension_grid_maxs=(b.max(),),\n",
    "    dimension_fraction_grid_extensions=(1e-3,),\n",
    "    dimension_n_grids=(8,),\n",
    ")[1]\n",
    "\n",
    "p_b_1 = kraft.estimate_element_x_dimension_kernel_density(\n",
    "    b_1.reshape((b_1.size, 1)),\n",
    "    dimension_grid_mins=(b.min(),),\n",
    "    dimension_grid_maxs=(b.max(),),\n",
    "    dimension_fraction_grid_extensions=(1e-3,),\n",
    "    dimension_n_grids=(8,),\n",
    ")[1]\n",
    "\n",
    "js = p_0 * kraft.compute_kullback_leibler_divergence(\n",
    "    p_b_0, p_b\n",
    ") + p_1 * kraft.compute_kullback_leibler_divergence(p_b_1, p_b)\n",
    "\n",
    "print(js.sum())"
   ]
  },
  {
   "cell_type": "code",
   "execution_count": null,
   "metadata": {},
   "outputs": [],
   "source": [
    "grid, pab = kraft.compute_element_x_dimension_joint_probability(\n",
    "    np.asarray((a, b)).T,\n",
    "    dimension_grid_mins=(a.min(), b.min()),\n",
    "    dimension_grid_maxs=(a.max(), b.max()),\n",
    "    dimension_fraction_grid_extensions=(1e-3, 1e-3),\n",
    "    dimension_n_grids=(8, 8),\n",
    ")\n",
    "\n",
    "p_ab = p_ab.reshape((8, 8))\n",
    "\n",
    "p_a_p_b = np.outer(p_a, p_b)"
   ]
  },
  {
   "cell_type": "code",
   "execution_count": null,
   "metadata": {},
   "outputs": [],
   "source": [
    "grid[:, 0]\n",
    "grid[:, 1]"
   ]
  },
  {
   "cell_type": "code",
   "execution_count": null,
   "metadata": {},
   "outputs": [],
   "source": [
    "pxpy = asarray((px,) * n_grid).T * asarray((py,) * n_grid)"
   ]
  },
  {
   "cell_type": "code",
   "execution_count": null,
   "metadata": {},
   "outputs": [],
   "source": [
    "(p_ab * np.log(p_ab / p_a_p_b)).sum().sum()"
   ]
  }
 ],
 "metadata": {
  "kernelspec": {
   "display_name": "Python 3",
   "language": "python",
   "name": "python3"
  },
  "language_info": {
   "codemirror_mode": {
    "name": "ipython",
    "version": 3
   },
   "file_extension": ".py",
   "mimetype": "text/x-python",
   "name": "python",
   "nbconvert_exporter": "python",
   "pygments_lexer": "ipython3",
   "version": "3.7.3"
  }
 },
 "nbformat": 4,
 "nbformat_minor": 4
}
