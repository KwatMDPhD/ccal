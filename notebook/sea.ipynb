{
 "cells": [
  {
   "cell_type": "code",
   "execution_count": null,
   "metadata": {},
   "outputs": [],
   "source": [
    "%load_ext autoreload\n",
    "%autoreload 2"
   ]
  },
  {
   "cell_type": "code",
   "execution_count": null,
   "metadata": {},
   "outputs": [],
   "source": [
    "import numpy as np\n",
    "import pandas as pd\n",
    "\n",
    "import kraft"
   ]
  },
  {
   "cell_type": "code",
   "execution_count": null,
   "metadata": {},
   "outputs": [],
   "source": [
    "sides = (\"+\",)\n",
    "\n",
    "for n_element in (100,):\n",
    "\n",
    "    element_score = np.random.normal(size=n_element // 2)\n",
    "\n",
    "    element_score = pd.Series(\n",
    "        np.sort(np.concatenate((element_score, -element_score))),\n",
    "        index=(\"Element{}\".format(i) for i in range(n_element)),\n",
    "    )\n",
    "\n",
    "    for n_skip in (0.1,):\n",
    "\n",
    "        if n_skip < 1:\n",
    "\n",
    "            n_skip = int(n_skip * n_element)\n",
    "\n",
    "        for n_top in (0.1,):\n",
    "\n",
    "            if n_top < 1:\n",
    "\n",
    "                n_top = int(n_top * n_element)\n",
    "\n",
    "            for rate_top_hit in (1,):\n",
    "\n",
    "                if rate_top_hit < 1:\n",
    "\n",
    "                    rate_top_hit = int(rate_top_hit * n_top)\n",
    "\n",
    "                print(\"n_element: {}\".format(n_element))\n",
    "\n",
    "                print(\"n_skip: {}\".format(n_skip))\n",
    "\n",
    "                print(\"n_top: {}\".format(n_top))\n",
    "\n",
    "                print(\"rate_top_hit: {}\".format(rate_top_hit))\n",
    "\n",
    "                set_elements = []\n",
    "\n",
    "                if \"-\" in sides:\n",
    "\n",
    "                    set_elements += element_score.index[\n",
    "                        n_skip : n_skip + n_top : rate_top_hit\n",
    "                    ].tolist()\n",
    "\n",
    "                if \"+\" in sides:\n",
    "\n",
    "                    set_elements += element_score.index[\n",
    "                        -(n_skip + 1) : -(n_skip + 1 + n_top) : -rate_top_hit\n",
    "                    ][::-1].tolist()\n",
    "\n",
    "                enrichment = kraft.compute_set_enrichment(\n",
    "                    element_score, set_elements, \"score pdf k\",\n",
    "                )"
   ]
  },
  {
   "cell_type": "code",
   "execution_count": null,
   "metadata": {},
   "outputs": [],
   "source": [
    "element_score = pd.read_csv(\n",
    "    \"/home/kwat/benchmark4.gene.list.GSEA.txt\",\n",
    "    sep=\"\\t\",\n",
    "    usecols=(\"gene.list\", \"gene.scores\"),\n",
    "    index_col=0,\n",
    "    squeeze=True,\n",
    ")\n",
    "\n",
    "set_elements = kraft.read_gmt(\"/home/kwat/c2.all.v5.1.symbols.gmt\")[\n",
    "    \"COLLER_MYC_TARGETS_UP\"\n",
    "]"
   ]
  },
  {
   "cell_type": "code",
   "execution_count": null,
   "metadata": {},
   "outputs": [],
   "source": [
    "kraft.compute_set_enrichment(element_score, set_elements, \"rank cdf ks\")"
   ]
  },
  {
   "cell_type": "code",
   "execution_count": null,
   "metadata": {},
   "outputs": [],
   "source": [
    "kraft.compute_set_enrichment(element_score, set_elements, \"score pdf k\")"
   ]
  }
 ],
 "metadata": {
  "kernelspec": {
   "display_name": "Python 3",
   "language": "python",
   "name": "python3"
  },
  "language_info": {
   "codemirror_mode": {
    "name": "ipython",
    "version": 3
   },
   "file_extension": ".py",
   "mimetype": "text/x-python",
   "name": "python",
   "nbconvert_exporter": "python",
   "pygments_lexer": "ipython3",
   "version": "3.7.6"
  }
 },
 "nbformat": 4,
 "nbformat_minor": 4
}
