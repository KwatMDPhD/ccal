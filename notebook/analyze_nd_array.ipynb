{
 "cells": [
  {
   "cell_type": "code",
   "execution_count": null,
   "metadata": {},
   "outputs": [],
   "source": [
    "import plotly"
   ]
  },
  {
   "cell_type": "code",
   "execution_count": null,
   "metadata": {},
   "outputs": [],
   "source": [
    "plotly.offline.init_notebook_mode(connected=True)"
   ]
  },
  {
   "cell_type": "code",
   "execution_count": null,
   "metadata": {},
   "outputs": [],
   "source": [
    "import numpy as np"
   ]
  },
  {
   "cell_type": "code",
   "execution_count": null,
   "metadata": {},
   "outputs": [],
   "source": [
    "_1d_array_0 = np.asarray((np.nan, -1, 0, 2, 4, 8))\n",
    "\n",
    "_1d_array_1 = np.asarray((8, np.inf, -np.inf, 4, 2, -1))"
   ]
  },
  {
   "cell_type": "code",
   "execution_count": null,
   "metadata": {},
   "outputs": [],
   "source": [
    "def function(_1d_array_0, _1d_array_1):\n",
    "\n",
    "    return _1d_array_0 + _1d_array_1"
   ]
  },
  {
   "cell_type": "code",
   "execution_count": null,
   "metadata": {},
   "outputs": [],
   "source": [
    "import ccal"
   ]
  },
  {
   "cell_type": "code",
   "execution_count": null,
   "metadata": {},
   "outputs": [],
   "source": [
    "try:\n",
    "\n",
    "    ccal.apply_function_on_2_1d_arrays(_1d_array_0, _1d_array_1, function)\n",
    "\n",
    "except ValueError as exception:\n",
    "\n",
    "    print(exception)"
   ]
  },
  {
   "cell_type": "code",
   "execution_count": null,
   "metadata": {},
   "outputs": [],
   "source": [
    "ccal.apply_function_on_2_1d_arrays(\n",
    "    _1d_array_0, _1d_array_1, function, raise_for_bad=False\n",
    ")"
   ]
  },
  {
   "cell_type": "code",
   "execution_count": null,
   "metadata": {},
   "outputs": [],
   "source": [
    "ccal.apply_function_on_2_1d_arrays(\n",
    "    _1d_array_0, _1d_array_1, function, raise_for_bad=False, use_only_good=False\n",
    ")"
   ]
  },
  {
   "cell_type": "code",
   "execution_count": null,
   "metadata": {},
   "outputs": [],
   "source": [
    "try:\n",
    "\n",
    "    ccal.apply_function_on_2_1d_arrays(\n",
    "        _1d_array_0, _1d_array_1, function, n_required=4, raise_for_bad=False\n",
    "    )\n",
    "\n",
    "except ValueError as exception:\n",
    "\n",
    "    print(exception)"
   ]
  },
  {
   "cell_type": "code",
   "execution_count": null,
   "metadata": {},
   "outputs": [],
   "source": [
    "ccal.apply_function_on_2_1d_arrays(\n",
    "    _1d_array_0,\n",
    "    _1d_array_1,\n",
    "    function,\n",
    "    n_required=4,\n",
    "    raise_for_n_less_than_required=False,\n",
    "    raise_for_bad=False,\n",
    ")"
   ]
  },
  {
   "cell_type": "code",
   "execution_count": null,
   "metadata": {},
   "outputs": [],
   "source": [
    "from scipy.spatial.distance import euclidean"
   ]
  },
  {
   "cell_type": "code",
   "execution_count": null,
   "metadata": {},
   "outputs": [],
   "source": [
    "np.random.seed(seed=ccal.RANDOM_SEED)"
   ]
  },
  {
   "cell_type": "code",
   "execution_count": null,
   "metadata": {
    "ExecuteTime": {
     "end_time": "2018-05-15T09:34:25.181618Z",
     "start_time": "2018-05-15T09:34:25.095596Z"
    }
   },
   "outputs": [],
   "source": [
    "_2d_array_0 = np.random.random_sample(size=(2, 8))\n",
    "\n",
    "_2d_array_1 = np.random.random_sample(size=(4, 8))"
   ]
  },
  {
   "cell_type": "code",
   "execution_count": null,
   "metadata": {
    "ExecuteTime": {
     "end_time": "2018-05-15T09:34:25.181618Z",
     "start_time": "2018-05-15T09:34:25.095596Z"
    }
   },
   "outputs": [],
   "source": [
    "ccal.apply_function_on_2_2d_arrays_slices(_2d_array_0, _2d_array_1, 0, euclidean)"
   ]
  },
  {
   "cell_type": "code",
   "execution_count": null,
   "metadata": {
    "ExecuteTime": {
     "end_time": "2018-05-15T09:34:25.230729Z",
     "start_time": "2018-05-15T09:34:25.184068Z"
    }
   },
   "outputs": [],
   "source": [
    "for nd_array in (\n",
    "    np.asarray((np.nan, 0, 1)),\n",
    "    np.asarray((0, np.inf, 1)),\n",
    "    np.asarray((0, 1, -np.inf)),\n",
    "    np.asarray((np.nan, np.inf, -np.inf)),\n",
    "):\n",
    "\n",
    "    print(nd_array)\n",
    "\n",
    "    try:\n",
    "\n",
    "        ccal.check_nd_array_for_bad(nd_array)\n",
    "\n",
    "    except ValueError as exception:\n",
    "\n",
    "        print(exception)\n",
    "\n",
    "    print(ccal.check_nd_array_for_bad(nd_array, raise_for_bad=False))\n",
    "\n",
    "    print()"
   ]
  },
  {
   "cell_type": "code",
   "execution_count": null,
   "metadata": {
    "ExecuteTime": {
     "end_time": "2018-05-15T09:34:25.268767Z",
     "start_time": "2018-05-15T09:34:25.234226Z"
    }
   },
   "outputs": [],
   "source": [
    "nd_array = np.random.normal(size=16)\n",
    "\n",
    "nd_array.max(), nd_array.min()"
   ]
  },
  {
   "cell_type": "code",
   "execution_count": null,
   "metadata": {
    "ExecuteTime": {
     "end_time": "2018-05-15T09:34:25.268767Z",
     "start_time": "2018-05-15T09:34:25.234226Z"
    }
   },
   "outputs": [],
   "source": [
    "nd_array_clipped_by_standard_deviation = ccal.clip_nd_array_by_standard_deviation(\n",
    "    nd_array, 1\n",
    ")\n",
    "\n",
    "nd_array_clipped_by_standard_deviation.max(), nd_array_clipped_by_standard_deviation.min()"
   ]
  },
  {
   "cell_type": "code",
   "execution_count": null,
   "metadata": {
    "ExecuteTime": {
     "end_time": "2018-05-15T09:34:25.268767Z",
     "start_time": "2018-05-15T09:34:25.234226Z"
    }
   },
   "outputs": [],
   "source": [
    "nd_array[0] = np.nan\n",
    "\n",
    "nd_array[1] = np.inf\n",
    "\n",
    "nd_array[2] = -np.inf\n",
    "\n",
    "nd_array_clipped_by_standard_deviation = ccal.clip_nd_array_by_standard_deviation(\n",
    "    nd_array, 1, raise_for_bad=False\n",
    ")\n",
    "\n",
    "nd_array_clipped_by_standard_deviation.max(), nd_array_clipped_by_standard_deviation.min()"
   ]
  },
  {
   "cell_type": "code",
   "execution_count": null,
   "metadata": {
    "ExecuteTime": {
     "end_time": "2018-05-15T09:34:25.391597Z",
     "start_time": "2018-05-15T09:34:25.337609Z"
    }
   },
   "outputs": [],
   "source": [
    "_2d_array = np.asarray(\n",
    "    ((0, 0), (-2, 2), (-4, 4), (-8, 8), (0, 0), (-4, 4), (-8, 8), (-2, 2))\n",
    ")"
   ]
  },
  {
   "cell_type": "code",
   "execution_count": null,
   "metadata": {
    "ExecuteTime": {
     "end_time": "2018-05-15T09:34:25.391597Z",
     "start_time": "2018-05-15T09:34:25.337609Z"
    }
   },
   "outputs": [],
   "source": [
    "ccal.cluster_2d_array(_2d_array, 0)"
   ]
  },
  {
   "cell_type": "code",
   "execution_count": null,
   "metadata": {
    "ExecuteTime": {
     "end_time": "2018-05-15T09:34:25.391597Z",
     "start_time": "2018-05-15T09:34:25.337609Z"
    }
   },
   "outputs": [],
   "source": [
    "ccal.cluster_2d_array(_2d_array, 0, groups=np.asarray((1,) * 4 + (0,) * 2 + (1,) * 2))"
   ]
  },
  {
   "cell_type": "code",
   "execution_count": null,
   "metadata": {
    "ExecuteTime": {
     "end_time": "2018-05-15T09:34:25.391597Z",
     "start_time": "2018-05-15T09:34:25.337609Z"
    }
   },
   "outputs": [],
   "source": [
    "try:\n",
    "\n",
    "    ccal.cluster_2d_array(\n",
    "        _2d_array, 0, groups=np.asarray((1,) * 4 + (0,) * 2 + (1,) * 1)\n",
    "    )\n",
    "\n",
    "except ValueError as exception:\n",
    "\n",
    "    print(exception)"
   ]
  },
  {
   "cell_type": "code",
   "execution_count": null,
   "metadata": {
    "ExecuteTime": {
     "end_time": "2018-05-15T09:34:25.438551Z",
     "start_time": "2018-05-15T09:34:25.396390Z"
    }
   },
   "outputs": [],
   "source": [
    "value = 0\n",
    "\n",
    "random_values = np.asarray((-1, 0, 2, 4, 8))\n",
    "\n",
    "for p_value_direction in (\"<\", \">\"):\n",
    "\n",
    "    print(p_value_direction)\n",
    "\n",
    "    print(ccal.compute_empirical_p_value(value, random_values, p_value_direction))"
   ]
  },
  {
   "cell_type": "code",
   "execution_count": null,
   "metadata": {
    "ExecuteTime": {
     "end_time": "2018-05-15T09:34:26.316487Z",
     "start_time": "2018-05-15T09:34:25.442705Z"
    }
   },
   "outputs": [],
   "source": [
    "values = np.asarray((-1, 0, 2, 4, 8))\n",
    "\n",
    "random_values = np.asarray(range(10))\n",
    "\n",
    "for p_value_direction in (\"<\", \">\", \"<>\"):\n",
    "\n",
    "    print(p_value_direction)\n",
    "\n",
    "    print(\n",
    "        ccal.compute_empirical_p_values_and_fdrs(\n",
    "            values, random_values, p_value_direction\n",
    "        )\n",
    "    )"
   ]
  },
  {
   "cell_type": "code",
   "execution_count": null,
   "metadata": {
    "ExecuteTime": {
     "end_time": "2018-05-15T09:34:26.442469Z",
     "start_time": "2018-05-15T09:34:26.386701Z"
    }
   },
   "outputs": [],
   "source": [
    "for nd_array in (\n",
    "    np.random.normal(size=10),\n",
    "    np.asarray((8,)),\n",
    "    np.asarray((np.nan,)),\n",
    "    np.asarray((8, np.nan)),\n",
    "):\n",
    "\n",
    "    print(nd_array)\n",
    "\n",
    "    print(ccal.compute_normal_pdf_margin_of_error(nd_array, raise_for_bad=False))\n",
    "\n",
    "    print()"
   ]
  },
  {
   "cell_type": "code",
   "execution_count": null,
   "metadata": {},
   "outputs": [],
   "source": [
    "_1d_array_0 = np.asarray((-1, 0, 2, 4, 8, 4, 2, 0, -1))\n",
    "\n",
    "_1d_array_1 = np.asarray((8, 4, 2, 0, -1, 0, 2, 4, 8))"
   ]
  },
  {
   "cell_type": "code",
   "execution_count": null,
   "metadata": {},
   "outputs": [],
   "source": [
    "ccal.plot_and_save(\n",
    "    {\n",
    "        \"data\": [\n",
    "            {\"type\": \"scatter\", \"x\": tuple(range(_1d_array_0.size)), \"y\": _1d_array_0},\n",
    "            {\"type\": \"scatter\", \"x\": tuple(range(_1d_array_1.size)), \"y\": _1d_array_1},\n",
    "        ]\n",
    "    },\n",
    "    None,\n",
    ")\n",
    "\n",
    "ccal.get_intersections_between_2_1d_arrays(_1d_array_0, _1d_array_1)"
   ]
  },
  {
   "cell_type": "code",
   "execution_count": null,
   "metadata": {
    "ExecuteTime": {
     "end_time": "2018-05-15T09:34:27.455640Z",
     "start_time": "2018-05-15T09:34:26.596268Z"
    }
   },
   "outputs": [],
   "source": [
    "_1d_array_0 += 1\n",
    "\n",
    "ccal.plot_and_save(\n",
    "    {\n",
    "        \"data\": [\n",
    "            {\"type\": \"scatter\", \"x\": tuple(range(_1d_array_0.size)), \"y\": _1d_array_0},\n",
    "            {\"type\": \"scatter\", \"x\": tuple(range(_1d_array_1.size)), \"y\": _1d_array_1},\n",
    "        ]\n",
    "    },\n",
    "    None,\n",
    ")\n",
    "\n",
    "ccal.get_intersections_between_2_1d_arrays(_1d_array_0, _1d_array_1)"
   ]
  },
  {
   "cell_type": "code",
   "execution_count": null,
   "metadata": {
    "ExecuteTime": {
     "end_time": "2018-05-15T09:34:27.840330Z",
     "start_time": "2018-05-15T09:34:27.746946Z"
    }
   },
   "outputs": [],
   "source": [
    "for nd_array in (\n",
    "    np.asarray((1, 2)),\n",
    "    np.asarray((0, 1, 2)),\n",
    "    np.asarray((-1, 0, 1, 2)),\n",
    "    np.asarray((1, 2, np.nan, np.inf, -np.inf)),\n",
    "    np.asarray((0, 1, 2, np.nan, np.inf, -np.inf)),\n",
    "    np.asarray((-1, 0, 1, 2, np.nan, np.inf, -np.inf)),\n",
    "    np.linspace(0, 2, num=11),\n",
    "):\n",
    "\n",
    "    print(nd_array)\n",
    "\n",
    "    for shift_as_necessary_to_achieve_min_before_logging in (0, 1):\n",
    "\n",
    "        for log_base in (2, \"e\"):\n",
    "\n",
    "            print(shift_as_necessary_to_achieve_min_before_logging, log_base)\n",
    "\n",
    "            print(\n",
    "                ccal.log_nd_array(\n",
    "                    nd_array,\n",
    "                    shift_as_necessary_to_achieve_min_before_logging=shift_as_necessary_to_achieve_min_before_logging,\n",
    "                    log_base=log_base,\n",
    "                    raise_for_bad=False,\n",
    "                )\n",
    "            )\n",
    "\n",
    "            print()\n",
    "\n",
    "    print()"
   ]
  },
  {
   "cell_type": "code",
   "execution_count": null,
   "metadata": {},
   "outputs": [],
   "source": [
    "coordinates = np.asarray(range(10))\n",
    "\n",
    "ccal.make_coordinates_for_reflecting(coordinates, coordinates[1])"
   ]
  },
  {
   "cell_type": "code",
   "execution_count": null,
   "metadata": {
    "ExecuteTime": {
     "end_time": "2018-05-15T09:34:27.513952Z",
     "start_time": "2018-05-15T09:34:27.458615Z"
    }
   },
   "outputs": [],
   "source": [
    "ccal.make_mesh_grid_and_ravel((0, 0), (8, 8), (2, 2))"
   ]
  },
  {
   "cell_type": "code",
   "execution_count": null,
   "metadata": {
    "ExecuteTime": {
     "end_time": "2018-05-15T09:34:27.577833Z",
     "start_time": "2018-05-15T09:34:27.517718Z"
    }
   },
   "outputs": [],
   "source": [
    "for nd_array in (\n",
    "    np.asarray((0, 1, -1)),\n",
    "    np.asarray((-1, 0, 1)),\n",
    "    np.asarray((1, 0, -1)),\n",
    "    np.asarray((0, 0, 0)),\n",
    "    np.asarray((0, 1)),\n",
    "    np.asarray((1, 0)),\n",
    "):\n",
    "\n",
    "    print(nd_array)\n",
    "\n",
    "    print(ccal.is_sorted_nd_array(nd_array))"
   ]
  },
  {
   "cell_type": "code",
   "execution_count": null,
   "metadata": {
    "ExecuteTime": {
     "end_time": "2018-05-15T09:34:27.742204Z",
     "start_time": "2018-05-15T09:34:27.584485Z"
    }
   },
   "outputs": [],
   "source": [
    "for _1d_array in (\n",
    "    np.asarray((-1, 0, 1)),\n",
    "    np.asarray((-1, -np.inf, 0, np.nan, 1, np.inf)),\n",
    "    np.asarray((0, 0)),\n",
    "    np.asarray((1, 1)),\n",
    "    np.asarray((2,)),\n",
    "):\n",
    "\n",
    "    print(_1d_array)\n",
    "\n",
    "    for method in (\"-0-\", \"0-1\", \"sum\", \"rank\"):\n",
    "\n",
    "        print(method)\n",
    "\n",
    "        try:\n",
    "\n",
    "            print(ccal.normalize_nd_array(_1d_array, None, method, raise_for_bad=False))\n",
    "\n",
    "        except ValueError as exception:\n",
    "\n",
    "            print(exception)\n",
    "\n",
    "        print()\n",
    "\n",
    "    print()"
   ]
  },
  {
   "cell_type": "code",
   "execution_count": null,
   "metadata": {
    "ExecuteTime": {
     "end_time": "2018-05-15T09:34:27.742204Z",
     "start_time": "2018-05-15T09:34:27.584485Z"
    }
   },
   "outputs": [],
   "source": [
    "for _2d_array in (\n",
    "    np.asarray(((0, 1, 2), (3, 4, 5), (6, 7, 8)), dtype=float),\n",
    "    np.asarray(((np.nan, 0, 1, 2), (3, np.inf, 4, 5), (6, 7, -np.inf, 8))),\n",
    "):\n",
    "\n",
    "    print(_2d_array)\n",
    "\n",
    "    for axis in (None, 0, 1):\n",
    "\n",
    "        for method in (\"-0-\", \"0-1\", \"sum\", \"rank\"):\n",
    "\n",
    "            print(axis, method)\n",
    "\n",
    "            print(ccal.normalize_nd_array(_2d_array, axis, method, raise_for_bad=False))\n",
    "\n",
    "            print()\n",
    "\n",
    "    print()"
   ]
  },
  {
   "cell_type": "code",
   "execution_count": null,
   "metadata": {
    "ExecuteTime": {
     "end_time": "2018-05-15T09:34:27.908722Z",
     "start_time": "2018-05-15T09:34:27.843668Z"
    }
   },
   "outputs": [],
   "source": [
    "_2d_array = np.asarray((np.asarray(range(10)), np.asarray(range(10))[::-1]))\n",
    "\n",
    "for axis in (0, 1):\n",
    "\n",
    "    print(axis)\n",
    "\n",
    "    print(ccal.shuffle_each_2d_array_slice(_2d_array, axis))"
   ]
  }
 ],
 "metadata": {
  "kernelspec": {
   "display_name": "Python 3",
   "language": "python",
   "name": "python3"
  },
  "language_info": {
   "codemirror_mode": {
    "name": "ipython",
    "version": 3
   },
   "file_extension": ".py",
   "mimetype": "text/x-python",
   "name": "python",
   "nbconvert_exporter": "python",
   "pygments_lexer": "ipython3",
   "version": "3.6.7"
  }
 },
 "nbformat": 4,
 "nbformat_minor": 2
}
