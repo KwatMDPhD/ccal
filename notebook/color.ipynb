{
 "cells": [
  {
   "cell_type": "code",
   "execution_count": null,
   "metadata": {},
   "outputs": [],
   "source": [
    "%load_ext autoreload\n",
    "%autoreload 2"
   ]
  },
  {
   "cell_type": "code",
   "execution_count": null,
   "metadata": {},
   "outputs": [],
   "source": [
    "import numpy as np\n",
    "import plotly as pl\n",
    "\n",
    "import kraft"
   ]
  },
  {
   "cell_type": "code",
   "execution_count": null,
   "metadata": {},
   "outputs": [],
   "source": [
    "colorscale = pl.colors.make_colorscale(pl.colors.qualitative.Plotly)\n",
    "\n",
    "colorscale"
   ]
  },
  {
   "cell_type": "code",
   "execution_count": null,
   "metadata": {},
   "outputs": [],
   "source": [
    "values = np.linspace(0, 1, num=10)\n",
    "\n",
    "scatter_template = {\n",
    "    \"type\": \"scatter\",\n",
    "    \"showlegend\": False,\n",
    "    \"mode\": \"markers\",\n",
    "    \"marker\": {\"size\": 500 / len(values)},\n",
    "}\n",
    "\n",
    "data = [\n",
    "    kraft.merge_2_dicts_recursively(\n",
    "        scatter_template,\n",
    "        {\n",
    "            \"x\": np.arange(len(values)),\n",
    "            \"y\": (0,) * len(values),\n",
    "            \"text\": values,\n",
    "            \"marker\": {\"color\": values},\n",
    "        },\n",
    "    ),\n",
    "    kraft.merge_2_dicts_recursively(\n",
    "        scatter_template,\n",
    "        {\n",
    "            \"x\": np.arange(len(values)),\n",
    "            \"y\": (1,) * len(values),\n",
    "            \"text\": values,\n",
    "            \"marker\": {\"color\": values, \"colorscale\": colorscale},\n",
    "        },\n",
    "    ),\n",
    "] + [\n",
    "    kraft.merge_2_dicts_recursively(\n",
    "        scatter_template,\n",
    "        {\n",
    "            \"x\": (i,),\n",
    "            \"y\": (2,),\n",
    "            \"text\": value,\n",
    "            \"marker\": {\"color\": kraft.get_colorscale_color(colorscale, value)},\n",
    "        },\n",
    "    )\n",
    "    for (i, value) in enumerate(values)\n",
    "]\n",
    "\n",
    "pl.io.show(\n",
    "    {\n",
    "        \"layout\": {\n",
    "            \"yaxis\": {\n",
    "                \"tickmode\": \"array\",\n",
    "                \"tickvals\": (0, 1, 2),\n",
    "                \"ticktext\": (\"Default\", \"Auto\", \"Manual\"),\n",
    "            }\n",
    "        },\n",
    "        \"data\": data,\n",
    "    }\n",
    ")"
   ]
  }
 ],
 "metadata": {
  "kernelspec": {
   "display_name": "Python 3",
   "language": "python",
   "name": "python3"
  },
  "language_info": {
   "codemirror_mode": {
    "name": "ipython",
    "version": 3
   },
   "file_extension": ".py",
   "mimetype": "text/x-python",
   "name": "python",
   "nbconvert_exporter": "python",
   "pygments_lexer": "ipython3",
   "version": "3.7.3"
  }
 },
 "nbformat": 4,
 "nbformat_minor": 4
}
