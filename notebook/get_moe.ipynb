{
 "cells": [
  {
   "cell_type": "code",
   "execution_count": 1,
   "metadata": {},
   "outputs": [],
   "source": [
    "%load_ext autoreload\n",
    "%autoreload 2"
   ]
  },
  {
   "cell_type": "code",
   "execution_count": 2,
   "metadata": {},
   "outputs": [],
   "source": [
    "import numpy as np\n",
    "\n",
    "import kraft"
   ]
  },
  {
   "cell_type": "code",
   "execution_count": 3,
   "metadata": {},
   "outputs": [
    {
     "name": "stdout",
     "output_type": "stream",
     "text": [
      "0.0\n",
      "0.0\n",
      "0.16076787696518757\n",
      "0.47415243895391934\n",
      "0.044932868225872766\n",
      "0.17261212929016503\n",
      "0.015356116374114806\n",
      "0.050728878131203525\n",
      "0.004692001729099396\n",
      "0.016432975381532995\n",
      "0.0014998536528357856\n",
      "0.0052167267023957185\n",
      "0.0004744153484980317\n",
      "0.0016469261850320775\n",
      "0.00015013340142306048\n",
      "0.0005201339300080336\n"
     ]
    }
   ],
   "source": [
    "for power in range(8):\n",
    "\n",
    "    n = 10 ** power\n",
    "\n",
    "    for function in (np.random.random_sample, np.random.normal):\n",
    "\n",
    "        array = function(size=n)\n",
    "\n",
    "        print(kraft.get_moe(array))"
   ]
  }
 ],
 "metadata": {
  "kernelspec": {
   "display_name": "Python 3",
   "language": "python",
   "name": "python3"
  },
  "language_info": {
   "codemirror_mode": {
    "name": "ipython",
    "version": 3
   },
   "file_extension": ".py",
   "mimetype": "text/x-python",
   "name": "python",
   "nbconvert_exporter": "python",
   "pygments_lexer": "ipython3",
   "version": "3.7.6"
  }
 },
 "nbformat": 4,
 "nbformat_minor": 4
}
