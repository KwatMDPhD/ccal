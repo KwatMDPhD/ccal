{
 "cells": [
  {
   "cell_type": "code",
   "execution_count": 1,
   "metadata": {},
   "outputs": [],
   "source": [
    "import numpy as np"
   ]
  },
  {
   "cell_type": "code",
   "execution_count": 2,
   "metadata": {},
   "outputs": [],
   "source": [
    "n_gene = 30000\n",
    "\n",
    "fraction_hit = 0.1\n",
    "\n",
    "hit = np.random.choice((0, 1), n_gene, p=(1 - fraction_hit, fraction_hit))\n",
    "\n",
    "score = np.sort(np.random.normal(size=n_gene))\n",
    "\n",
    "score_abs = np.absolute(score)"
   ]
  },
  {
   "cell_type": "code",
   "execution_count": 3,
   "metadata": {},
   "outputs": [],
   "source": [
    "from numpy import cumsum"
   ]
  },
  {
   "cell_type": "code",
   "execution_count": 4,
   "metadata": {},
   "outputs": [
    {
     "name": "stdout",
     "output_type": "stream",
     "text": [
      "7.549408147233816e-14\n",
      "215 µs ± 5.2 µs per loop (mean ± std. dev. of 7 runs, 1000 loops each)\n"
     ]
    }
   ],
   "source": [
    "def p1(hit, score_abs):\n",
    "\n",
    "    up = hit * score_abs\n",
    "\n",
    "    up /= up.sum()\n",
    "\n",
    "    down = 1.0 - hit\n",
    "\n",
    "    down /= down.sum()\n",
    "    \n",
    "    return (up - down).cumsum()\n",
    "\n",
    "print(p1(hit, score_abs)[-1])\n",
    "\n",
    "%timeit p1(hit, score_abs)"
   ]
  }
 ],
 "metadata": {
  "@webio": {
   "lastCommId": null,
   "lastKernelId": null
  },
  "kernelspec": {
   "display_name": "Python 3",
   "language": "python",
   "name": "python3"
  },
  "language_info": {
   "codemirror_mode": {
    "name": "ipython",
    "version": 3
   },
   "file_extension": ".py",
   "mimetype": "text/x-python",
   "name": "python",
   "nbconvert_exporter": "python",
   "pygments_lexer": "ipython3",
   "version": "3.7.3"
  }
 },
 "nbformat": 4,
 "nbformat_minor": 2
}
