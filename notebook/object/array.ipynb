{
 "cells": [
  {
   "cell_type": "code",
   "execution_count": null,
   "metadata": {
    "execution": {
     "iopub.execute_input": "2021-05-31T22:29:44.499574Z",
     "iopub.status.busy": "2021-05-31T22:29:44.498765Z",
     "iopub.status.idle": "2021-05-31T22:29:44.514115Z",
     "shell.execute_reply": "2021-05-31T22:29:44.514545Z"
    },
    "tags": []
   },
   "outputs": [],
   "source": [
    "%load_ext autoreload\n",
    "%autoreload 2"
   ]
  },
  {
   "cell_type": "code",
   "execution_count": null,
   "metadata": {
    "execution": {
     "iopub.execute_input": "2021-05-31T22:29:44.517920Z",
     "iopub.status.busy": "2021-05-31T22:29:44.517332Z",
     "iopub.status.idle": "2021-05-31T22:29:45.041595Z",
     "shell.execute_reply": "2021-05-31T22:29:45.041955Z"
    },
    "tags": []
   },
   "outputs": [],
   "source": [
    "import kraft"
   ]
  },
  {
   "cell_type": "markdown",
   "metadata": {},
   "source": [
    "## check_is_not_nan"
   ]
  },
  {
   "cell_type": "code",
   "execution_count": null,
   "metadata": {
    "execution": {
     "iopub.execute_input": "2021-05-31T22:29:45.044937Z",
     "iopub.status.busy": "2021-05-31T22:29:45.044433Z",
     "iopub.status.idle": "2021-05-31T22:29:45.060894Z",
     "shell.execute_reply": "2021-05-31T22:29:45.061274Z"
    },
    "tags": []
   },
   "outputs": [],
   "source": [
    "import numpy as np"
   ]
  },
  {
   "cell_type": "code",
   "execution_count": null,
   "metadata": {
    "execution": {
     "iopub.execute_input": "2021-05-31T22:29:45.064426Z",
     "iopub.status.busy": "2021-05-31T22:29:45.063918Z",
     "iopub.status.idle": "2021-05-31T22:29:45.084773Z",
     "shell.execute_reply": "2021-05-31T22:29:45.085130Z"
    },
    "tags": []
   },
   "outputs": [],
   "source": [
    "kraft.number___.check_is_not_nan([np.nan, 0, 1.0, 2, False, True, np.nan])"
   ]
  },
  {
   "cell_type": "markdown",
   "metadata": {},
   "source": [
    "## get_not_nan_unique"
   ]
  },
  {
   "cell_type": "code",
   "execution_count": null,
   "metadata": {
    "execution": {
     "iopub.execute_input": "2021-05-31T22:29:45.088236Z",
     "iopub.status.busy": "2021-05-31T22:29:45.087725Z",
     "iopub.status.idle": "2021-05-31T22:29:45.104084Z",
     "shell.execute_reply": "2021-05-31T22:29:45.104654Z"
    },
    "tags": []
   },
   "outputs": [],
   "source": [
    "kraft.number___.get_not_nan_unique(\n",
    "    np.array([np.nan, 0, 1.0, 2, 2, False, True, np.nan])\n",
    ")"
   ]
  },
  {
   "cell_type": "markdown",
   "metadata": {},
   "source": [
    "## clip"
   ]
  },
  {
   "cell_type": "code",
   "execution_count": null,
   "metadata": {
    "execution": {
     "iopub.execute_input": "2021-05-31T22:29:45.107698Z",
     "iopub.status.busy": "2021-05-31T22:29:45.107194Z",
     "iopub.status.idle": "2021-05-31T22:29:45.123248Z",
     "shell.execute_reply": "2021-05-31T22:29:45.123727Z"
    },
    "tags": []
   },
   "outputs": [],
   "source": [
    "nu___ = np.arange(-2, 3)\n",
    "\n",
    "for st in [0, 1, 2]:\n",
    "\n",
    "    print(kraft.number___.clip(nu___, st))"
   ]
  },
  {
   "cell_type": "markdown",
   "metadata": {},
   "source": [
    "## normalize"
   ]
  },
  {
   "cell_type": "code",
   "execution_count": null,
   "metadata": {
    "execution": {
     "iopub.execute_input": "2021-05-31T22:29:45.127118Z",
     "iopub.status.busy": "2021-05-31T22:29:45.126617Z",
     "iopub.status.idle": "2021-05-31T22:29:45.143644Z",
     "shell.execute_reply": "2021-05-31T22:29:45.144007Z"
    },
    "tags": []
   },
   "outputs": [],
   "source": [
    "for nu___ in [[0, 1], [[0, 1, 2], [0, 10, 20]]]:\n",
    "\n",
    "    nu___ = np.array(nu___)\n",
    "\n",
    "    print()\n",
    "\n",
    "    print(nu___)\n",
    "\n",
    "    for me in [\"-0-\", \"0-1\", \"sum\", \"rank\"]:\n",
    "\n",
    "        print(me)\n",
    "\n",
    "        print(kraft.number___.normalize(nu___, me))"
   ]
  },
  {
   "cell_type": "markdown",
   "metadata": {},
   "source": [
    "## shift_minimum"
   ]
  },
  {
   "cell_type": "code",
   "execution_count": null,
   "metadata": {
    "execution": {
     "iopub.execute_input": "2021-05-31T22:29:45.147444Z",
     "iopub.status.busy": "2021-05-31T22:29:45.146891Z",
     "iopub.status.idle": "2021-05-31T22:29:45.164437Z",
     "shell.execute_reply": "2021-05-31T22:29:45.164862Z"
    },
    "tags": []
   },
   "outputs": [],
   "source": [
    "nu___ = np.array([-1, 0, 0.5, 2])\n",
    "\n",
    "for mi in [-1, 0, 1, \"0<\"]:\n",
    "\n",
    "    print(mi)\n",
    "\n",
    "    print(kraft.number___.shift_minimum(nu___, mi))"
   ]
  },
  {
   "cell_type": "markdown",
   "metadata": {},
   "source": [
    "## log"
   ]
  },
  {
   "cell_type": "code",
   "execution_count": null,
   "metadata": {
    "execution": {
     "iopub.execute_input": "2021-05-31T22:29:45.167867Z",
     "iopub.status.busy": "2021-05-31T22:29:45.167352Z",
     "iopub.status.idle": "2021-05-31T22:29:45.183267Z",
     "shell.execute_reply": "2021-05-31T22:29:45.183703Z"
    },
    "tags": []
   },
   "outputs": [],
   "source": [
    "nu___ = np.array([1, 2, np.inf])\n",
    "\n",
    "for ba in [2, \"e\", 10]:\n",
    "\n",
    "    print(kraft.number___.log(nu___, ba=ba))"
   ]
  },
  {
   "cell_type": "markdown",
   "metadata": {},
   "source": [
    "## guess_type"
   ]
  },
  {
   "cell_type": "code",
   "execution_count": null,
   "metadata": {
    "execution": {
     "iopub.execute_input": "2021-05-31T22:29:45.187336Z",
     "iopub.status.busy": "2021-05-31T22:29:45.186838Z",
     "iopub.status.idle": "2021-05-31T22:29:45.203382Z",
     "shell.execute_reply": "2021-05-31T22:29:45.203739Z"
    },
    "tags": []
   },
   "outputs": [],
   "source": [
    "for nu___ in [\n",
    "    [0],\n",
    "    [1],\n",
    "    [0, 1],\n",
    "    [0, 1, 2],\n",
    "    np.arange(16),\n",
    "    [0.0],\n",
    "    [0.1],\n",
    "    [1.0],\n",
    "    [0, 0.0],\n",
    "    [0, 0.0, 1, 1.0],\n",
    "    np.arange(17),\n",
    "    np.random.random_sample(4),\n",
    "]:\n",
    "\n",
    "    print(kraft.number___.guess_type(np.array(nu___)))"
   ]
  },
  {
   "cell_type": "markdown",
   "metadata": {},
   "source": [
    "## check_is_extreme"
   ]
  },
  {
   "cell_type": "code",
   "execution_count": null,
   "metadata": {
    "execution": {
     "iopub.execute_input": "2021-05-31T22:29:45.207740Z",
     "iopub.status.busy": "2021-05-31T22:29:45.207177Z",
     "iopub.status.idle": "2021-05-31T22:29:45.227340Z",
     "shell.execute_reply": "2021-05-31T22:29:45.227822Z"
    },
    "tags": []
   },
   "outputs": [],
   "source": [
    "nu___ = np.arange(10)\n",
    "\n",
    "for di in [\"<\", \">\", \"<>\"]:\n",
    "\n",
    "    print()\n",
    "\n",
    "    print(di)\n",
    "\n",
    "    for ke_ in [\n",
    "        {\n",
    "            \"th_\": (2, np.nan),\n",
    "        },\n",
    "        {\n",
    "            \"th_\": (np.nan, 8),\n",
    "        },\n",
    "        {\n",
    "            \"n_ex\": 2,\n",
    "        },\n",
    "        {\n",
    "            \"st\": 2,\n",
    "        },\n",
    "    ]:\n",
    "\n",
    "        print(ke_)\n",
    "\n",
    "        print(nu___[kraft.number___.check_is_extreme(nu___, di, **ke_)])"
   ]
  },
  {
   "cell_type": "markdown",
   "metadata": {},
   "source": [
    "## apply_on_1"
   ]
  },
  {
   "cell_type": "code",
   "execution_count": null,
   "metadata": {
    "execution": {
     "iopub.execute_input": "2021-05-31T22:29:45.231042Z",
     "iopub.status.busy": "2021-05-31T22:29:45.230432Z",
     "iopub.status.idle": "2021-05-31T22:29:45.249057Z",
     "shell.execute_reply": "2021-05-31T22:29:45.249421Z"
    },
    "tags": []
   },
   "outputs": [],
   "source": [
    "nu___ = np.array([np.nan, 0, 1, 2, np.nan])"
   ]
  },
  {
   "cell_type": "code",
   "execution_count": null,
   "metadata": {
    "execution": {
     "iopub.execute_input": "2021-05-31T22:29:45.252496Z",
     "iopub.status.busy": "2021-05-31T22:29:45.251998Z",
     "iopub.status.idle": "2021-05-31T22:29:45.269681Z",
     "shell.execute_reply": "2021-05-31T22:29:45.270041Z"
    },
    "tags": []
   },
   "outputs": [],
   "source": [
    "np.sum(nu___)"
   ]
  },
  {
   "cell_type": "code",
   "execution_count": null,
   "metadata": {
    "execution": {
     "iopub.execute_input": "2021-05-31T22:29:45.272701Z",
     "iopub.status.busy": "2021-05-31T22:29:45.272197Z",
     "iopub.status.idle": "2021-05-31T22:29:45.288637Z",
     "shell.execute_reply": "2021-05-31T22:29:45.288998Z"
    },
    "tags": []
   },
   "outputs": [],
   "source": [
    "kraft.number___.apply_on_1(nu___, np.sum)"
   ]
  },
  {
   "cell_type": "code",
   "execution_count": null,
   "metadata": {
    "execution": {
     "iopub.execute_input": "2021-05-31T22:29:45.291787Z",
     "iopub.status.busy": "2021-05-31T22:29:45.291293Z",
     "iopub.status.idle": "2021-05-31T22:29:45.307446Z",
     "shell.execute_reply": "2021-05-31T22:29:45.308683Z"
    },
    "tags": []
   },
   "outputs": [],
   "source": [
    "np.cumsum(nu___)"
   ]
  },
  {
   "cell_type": "code",
   "execution_count": null,
   "metadata": {
    "execution": {
     "iopub.execute_input": "2021-05-31T22:29:45.312096Z",
     "iopub.status.busy": "2021-05-31T22:29:45.311531Z",
     "iopub.status.idle": "2021-05-31T22:29:45.330126Z",
     "shell.execute_reply": "2021-05-31T22:29:45.330518Z"
    },
    "tags": []
   },
   "outputs": [],
   "source": [
    "kraft.number___.apply_on_1(nu___, np.cumsum)"
   ]
  },
  {
   "cell_type": "code",
   "execution_count": null,
   "metadata": {
    "execution": {
     "iopub.execute_input": "2021-05-31T22:29:45.333340Z",
     "iopub.status.busy": "2021-05-31T22:29:45.332819Z",
     "iopub.status.idle": "2021-05-31T22:29:45.353544Z",
     "shell.execute_reply": "2021-05-31T22:29:45.354018Z"
    },
    "tags": []
   },
   "outputs": [],
   "source": [
    "kraft.number___.apply_on_1(nu___, np.cumsum, up=True)"
   ]
  },
  {
   "cell_type": "markdown",
   "metadata": {},
   "source": [
    "## apply_on_2"
   ]
  },
  {
   "cell_type": "code",
   "execution_count": null,
   "metadata": {
    "execution": {
     "iopub.execute_input": "2021-05-31T22:29:45.357916Z",
     "iopub.status.busy": "2021-05-31T22:29:45.357334Z",
     "iopub.status.idle": "2021-05-31T22:29:45.375428Z",
     "shell.execute_reply": "2021-05-31T22:29:45.375977Z"
    },
    "tags": []
   },
   "outputs": [],
   "source": [
    "nu1___ = np.array([np.nan, 0, 1, np.nan, 2])\n",
    "\n",
    "nu2___ = np.array([np.nan, 0, 1, 2, np.nan])"
   ]
  },
  {
   "cell_type": "code",
   "execution_count": null,
   "metadata": {
    "execution": {
     "iopub.execute_input": "2021-05-31T22:29:45.379011Z",
     "iopub.status.busy": "2021-05-31T22:29:45.378495Z",
     "iopub.status.idle": "2021-05-31T22:29:45.395619Z",
     "shell.execute_reply": "2021-05-31T22:29:45.396093Z"
    },
    "tags": []
   },
   "outputs": [],
   "source": [
    "np.add(nu1___, nu2___)"
   ]
  },
  {
   "cell_type": "code",
   "execution_count": null,
   "metadata": {
    "execution": {
     "iopub.execute_input": "2021-05-31T22:29:45.398833Z",
     "iopub.status.busy": "2021-05-31T22:29:45.398328Z",
     "iopub.status.idle": "2021-05-31T22:29:45.415776Z",
     "shell.execute_reply": "2021-05-31T22:29:45.416129Z"
    },
    "tags": []
   },
   "outputs": [],
   "source": [
    "kraft.number___.apply_on_2(nu1___, nu2___, np.add)"
   ]
  },
  {
   "cell_type": "markdown",
   "metadata": {},
   "source": [
    "## apply_along_on_2"
   ]
  },
  {
   "cell_type": "code",
   "execution_count": null,
   "metadata": {
    "execution": {
     "iopub.execute_input": "2021-05-31T22:29:45.419238Z",
     "iopub.status.busy": "2021-05-31T22:29:45.418736Z",
     "iopub.status.idle": "2021-05-31T22:29:45.434097Z",
     "shell.execute_reply": "2021-05-31T22:29:45.434460Z"
    },
    "tags": []
   },
   "outputs": [],
   "source": [
    "nu1___ = np.array([np.nan, 0, 1, np.nan, 2])\n",
    "\n",
    "nu2___ = np.array([np.nan, 0, 1, 2, np.nan])"
   ]
  },
  {
   "cell_type": "code",
   "execution_count": null,
   "metadata": {
    "execution": {
     "iopub.execute_input": "2021-05-31T22:29:45.437526Z",
     "iopub.status.busy": "2021-05-31T22:29:45.437024Z",
     "iopub.status.idle": "2021-05-31T22:29:45.454232Z",
     "shell.execute_reply": "2021-05-31T22:29:45.454621Z"
    },
    "tags": []
   },
   "outputs": [],
   "source": [
    "np.add(nu1___, nu2___)"
   ]
  },
  {
   "cell_type": "code",
   "execution_count": null,
   "metadata": {
    "execution": {
     "iopub.execute_input": "2021-05-31T22:29:45.457536Z",
     "iopub.status.busy": "2021-05-31T22:29:45.456970Z",
     "iopub.status.idle": "2021-05-31T22:29:45.475649Z",
     "shell.execute_reply": "2021-05-31T22:29:45.476067Z"
    },
    "tags": []
   },
   "outputs": [],
   "source": [
    "kraft.number___.apply_along_on_2(nu1___, nu2___, np.add)"
   ]
  },
  {
   "cell_type": "code",
   "execution_count": null,
   "metadata": {
    "execution": {
     "iopub.execute_input": "2021-05-31T22:29:45.479033Z",
     "iopub.status.busy": "2021-05-31T22:29:45.478526Z",
     "iopub.status.idle": "2021-05-31T22:29:45.494320Z",
     "shell.execute_reply": "2021-05-31T22:29:45.494681Z"
    },
    "tags": []
   },
   "outputs": [],
   "source": [
    "nu1___ = np.array([[0, 0], [0.1, 0.1], [1, 1], [10, 10]])\n",
    "\n",
    "nu2___ = np.array([[2, 2], [4, 4]])"
   ]
  },
  {
   "cell_type": "code",
   "execution_count": null,
   "metadata": {
    "execution": {
     "iopub.execute_input": "2021-05-31T22:29:45.497535Z",
     "iopub.status.busy": "2021-05-31T22:29:45.497026Z",
     "iopub.status.idle": "2021-05-31T22:29:45.515897Z",
     "shell.execute_reply": "2021-05-31T22:29:45.516310Z"
    },
    "tags": []
   },
   "outputs": [],
   "source": [
    "np.dot(nu1___, nu2___)"
   ]
  },
  {
   "cell_type": "code",
   "execution_count": null,
   "metadata": {
    "execution": {
     "iopub.execute_input": "2021-05-31T22:29:45.519489Z",
     "iopub.status.busy": "2021-05-31T22:29:45.518909Z",
     "iopub.status.idle": "2021-05-31T22:29:45.536976Z",
     "shell.execute_reply": "2021-05-31T22:29:45.537343Z"
    },
    "tags": []
   },
   "outputs": [],
   "source": [
    "kraft.number___.apply_along_on_2(nu1___, nu2___, np.dot)"
   ]
  }
 ],
 "metadata": {
  "kernelspec": {
   "display_name": "Python 3",
   "language": "python",
   "name": "python3"
  },
  "language_info": {
   "codemirror_mode": {
    "name": "ipython",
    "version": 3
   },
   "file_extension": ".py",
   "mimetype": "text/x-python",
   "name": "python",
   "nbconvert_exporter": "python",
   "pygments_lexer": "ipython3",
   "version": "3.8.9"
  }
 },
 "nbformat": 4,
 "nbformat_minor": 4
}
