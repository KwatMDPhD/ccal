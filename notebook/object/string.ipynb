{
 "cells": [
  {
   "cell_type": "code",
   "execution_count": null,
   "metadata": {
    "execution": {
     "iopub.execute_input": "2021-05-31T22:30:17.301728Z",
     "iopub.status.busy": "2021-05-31T22:30:17.300953Z",
     "iopub.status.idle": "2021-05-31T22:30:17.314992Z",
     "shell.execute_reply": "2021-05-31T22:30:17.315488Z"
    },
    "tags": []
   },
   "outputs": [],
   "source": [
    "%load_ext autoreload\n",
    "%autoreload 2"
   ]
  },
  {
   "cell_type": "code",
   "execution_count": null,
   "metadata": {
    "execution": {
     "iopub.execute_input": "2021-05-31T22:30:17.318945Z",
     "iopub.status.busy": "2021-05-31T22:30:17.318356Z",
     "iopub.status.idle": "2021-05-31T22:30:17.835510Z",
     "shell.execute_reply": "2021-05-31T22:30:17.835895Z"
    },
    "tags": []
   },
   "outputs": [],
   "source": [
    "import kraft"
   ]
  },
  {
   "cell_type": "markdown",
   "metadata": {},
   "source": [
    "## title"
   ]
  },
  {
   "cell_type": "code",
   "execution_count": null,
   "metadata": {
    "execution": {
     "iopub.execute_input": "2021-05-31T22:30:17.839570Z",
     "iopub.status.busy": "2021-05-31T22:30:17.838974Z",
     "iopub.status.idle": "2021-05-31T22:30:17.857691Z",
     "shell.execute_reply": "2021-05-31T22:30:17.857330Z"
    },
    "tags": []
   },
   "outputs": [],
   "source": [
    "for st in [\n",
    "    \"DNA\",\n",
    "    \"to RNA\",\n",
    "    \"DNA to RNA to protein\",\n",
    "    \"Gain-of-function mutation\",\n",
    "    \"I'm he's she's we're\",\n",
    "]:\n",
    "\n",
    "    print(kraft.string.title(st))"
   ]
  },
  {
   "cell_type": "markdown",
   "metadata": {},
   "source": [
    "## untitle"
   ]
  },
  {
   "cell_type": "code",
   "execution_count": null,
   "metadata": {
    "execution": {
     "iopub.execute_input": "2021-05-31T22:30:17.860852Z",
     "iopub.status.busy": "2021-05-31T22:30:17.860341Z",
     "iopub.status.idle": "2021-05-31T22:30:17.877510Z",
     "shell.execute_reply": "2021-05-31T22:30:17.878105Z"
    },
    "tags": []
   },
   "outputs": [],
   "source": [
    "for st in [\n",
    "    \"DNA\",\n",
    "    \"to RNA\",\n",
    "    \"DNA to RNA to protein\",\n",
    "    \"Gain-of-function mutation\",\n",
    "    \"I'm he's she's we're\",\n",
    "]:\n",
    "\n",
    "    print(kraft.string.untitle(st))"
   ]
  },
  {
   "cell_type": "markdown",
   "metadata": {},
   "source": [
    "## check_is_version"
   ]
  },
  {
   "cell_type": "code",
   "execution_count": null,
   "metadata": {
    "execution": {
     "iopub.execute_input": "2021-05-31T22:30:17.881515Z",
     "iopub.status.busy": "2021-05-31T22:30:17.880970Z",
     "iopub.status.idle": "2021-05-31T22:30:17.897272Z",
     "shell.execute_reply": "2021-05-31T22:30:17.897775Z"
    },
    "tags": []
   },
   "outputs": [],
   "source": [
    "for st in [\n",
    "    \"1\",\n",
    "    \"1.\",\n",
    "    \"1.2\",\n",
    "    \"1.2.\",\n",
    "    \"1.2.3\",\n",
    "    \"1.2.3.\",\n",
    "    \"01.2.3\",\n",
    "    \"1.02.3\",\n",
    "    \"1.2.03\",\n",
    "    \"1x2x3\",\n",
    "    \"11.22.33\",\n",
    "]:\n",
    "\n",
    "    print(kraft.string.check_is_version(st))"
   ]
  },
  {
   "cell_type": "markdown",
   "metadata": {},
   "source": [
    "## split"
   ]
  },
  {
   "cell_type": "code",
   "execution_count": null,
   "metadata": {
    "execution": {
     "iopub.execute_input": "2021-05-31T22:30:17.900725Z",
     "iopub.status.busy": "2021-05-31T22:30:17.900222Z",
     "iopub.status.idle": "2021-05-31T22:30:17.916099Z",
     "shell.execute_reply": "2021-05-31T22:30:17.916614Z"
    },
    "tags": []
   },
   "outputs": [],
   "source": [
    "for st in ['It said \"Hello World\"', \"It said 'Hello World'\", \"I'm he's she's we're\"]:\n",
    "\n",
    "    print(kraft.string.split(st))"
   ]
  },
  {
   "cell_type": "markdown",
   "metadata": {},
   "source": [
    "## make_unique"
   ]
  },
  {
   "cell_type": "code",
   "execution_count": null,
   "metadata": {
    "execution": {
     "iopub.execute_input": "2021-05-31T22:30:17.919615Z",
     "iopub.status.busy": "2021-05-31T22:30:17.918988Z",
     "iopub.status.idle": "2021-05-31T22:30:17.939235Z",
     "shell.execute_reply": "2021-05-31T22:30:17.939665Z"
    },
    "tags": []
   },
   "outputs": [],
   "source": [
    "kraft.string.make_unique([\"a\", \"a\", \"a\", \"b\", \"b\", \"b\", \"a\", \"b\", \"\", \"\"])"
   ]
  }
 ],
 "metadata": {
  "kernelspec": {
   "display_name": "Python 3",
   "language": "python",
   "name": "python3"
  },
  "language_info": {
   "codemirror_mode": {
    "name": "ipython",
    "version": 3
   },
   "file_extension": ".py",
   "mimetype": "text/x-python",
   "name": "python",
   "nbconvert_exporter": "python",
   "pygments_lexer": "ipython3",
   "version": "3.8.9"
  }
 },
 "nbformat": 4,
 "nbformat_minor": 4
}
