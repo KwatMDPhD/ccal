{
 "cells": [
  {
   "cell_type": "code",
   "execution_count": null,
   "metadata": {
    "execution": {
     "iopub.execute_input": "2021-05-31T22:29:36.489101Z",
     "iopub.status.busy": "2021-05-31T22:29:36.488328Z",
     "iopub.status.idle": "2021-05-31T22:29:36.503335Z",
     "shell.execute_reply": "2021-05-31T22:29:36.503780Z"
    },
    "tags": []
   },
   "outputs": [],
   "source": [
    "%load_ext autoreload\n",
    "%autoreload 2"
   ]
  },
  {
   "cell_type": "code",
   "execution_count": null,
   "metadata": {
    "execution": {
     "iopub.execute_input": "2021-05-31T22:29:36.507389Z",
     "iopub.status.busy": "2021-05-31T22:29:36.506791Z",
     "iopub.status.idle": "2021-05-31T22:29:37.030121Z",
     "shell.execute_reply": "2021-05-31T22:29:37.030503Z"
    },
    "tags": []
   },
   "outputs": [],
   "source": [
    "import kraft"
   ]
  },
  {
   "cell_type": "code",
   "execution_count": null,
   "metadata": {
    "execution": {
     "iopub.execute_input": "2021-05-31T22:29:37.033652Z",
     "iopub.status.busy": "2021-05-31T22:29:37.033127Z",
     "iopub.status.idle": "2021-05-31T22:29:37.050146Z",
     "shell.execute_reply": "2021-05-31T22:29:37.050498Z"
    },
    "tags": []
   },
   "outputs": [],
   "source": [
    "pa = kraft.path.get_absolute(\"~/Downloads/test.json\")"
   ]
  },
  {
   "cell_type": "code",
   "execution_count": null,
   "metadata": {
    "execution": {
     "iopub.execute_input": "2021-05-31T22:29:37.053762Z",
     "iopub.status.busy": "2021-05-31T22:29:37.053205Z",
     "iopub.status.idle": "2021-05-31T22:29:37.072018Z",
     "shell.execute_reply": "2021-05-31T22:29:37.072415Z"
    },
    "tags": []
   },
   "outputs": [],
   "source": [
    "import numpy as np"
   ]
  },
  {
   "cell_type": "code",
   "execution_count": null,
   "metadata": {
    "execution": {
     "iopub.execute_input": "2021-05-31T22:29:37.076274Z",
     "iopub.status.busy": "2021-05-31T22:29:37.075688Z",
     "iopub.status.idle": "2021-05-31T22:29:37.100931Z",
     "shell.execute_reply": "2021-05-31T22:29:37.101320Z"
    },
    "tags": []
   },
   "outputs": [],
   "source": [
    "an_an = {\n",
    "    \"key_0\": \"value_0\",\n",
    "    1: (1,),\n",
    "    \"2\": [2, \"3\"],\n",
    "    (3): None,\n",
    "    4: \"null\",\n",
    "    5: np.nan,\n",
    "    None: 0,\n",
    "    \"null\": 0,\n",
    "    np.nan: 0,\n",
    "}\n",
    "\n",
    "an_an"
   ]
  },
  {
   "cell_type": "markdown",
   "metadata": {},
   "source": [
    "## write"
   ]
  },
  {
   "cell_type": "code",
   "execution_count": null,
   "metadata": {
    "execution": {
     "iopub.execute_input": "2021-05-31T22:29:37.104394Z",
     "iopub.status.busy": "2021-05-31T22:29:37.103888Z",
     "iopub.status.idle": "2021-05-31T22:29:37.121450Z",
     "shell.execute_reply": "2021-05-31T22:29:37.121914Z"
    },
    "tags": []
   },
   "outputs": [],
   "source": [
    "kraft.json.write(pa, an_an)"
   ]
  },
  {
   "cell_type": "code",
   "execution_count": null,
   "metadata": {
    "execution": {
     "iopub.execute_input": "2021-05-31T22:29:37.125348Z",
     "iopub.status.busy": "2021-05-31T22:29:37.124748Z",
     "iopub.status.idle": "2021-05-31T22:29:37.271695Z",
     "shell.execute_reply": "2021-05-31T22:29:37.272259Z"
    },
    "tags": []
   },
   "outputs": [],
   "source": [
    "%cat ~/Downloads/test.json"
   ]
  },
  {
   "cell_type": "markdown",
   "metadata": {},
   "source": [
    "## read"
   ]
  },
  {
   "cell_type": "code",
   "execution_count": null,
   "metadata": {
    "execution": {
     "iopub.execute_input": "2021-05-31T22:29:37.276924Z",
     "iopub.status.busy": "2021-05-31T22:29:37.276087Z",
     "iopub.status.idle": "2021-05-31T22:29:37.300276Z",
     "shell.execute_reply": "2021-05-31T22:29:37.300707Z"
    },
    "tags": []
   },
   "outputs": [],
   "source": [
    "kraft.json.read(pa)"
   ]
  }
 ],
 "metadata": {
  "kernelspec": {
   "display_name": "Python 3",
   "language": "python",
   "name": "python3"
  },
  "language_info": {
   "codemirror_mode": {
    "name": "ipython",
    "version": 3
   },
   "file_extension": ".py",
   "mimetype": "text/x-python",
   "name": "python",
   "nbconvert_exporter": "python",
   "pygments_lexer": "ipython3",
   "version": "3.8.9"
  }
 },
 "nbformat": 4,
 "nbformat_minor": 4
}
