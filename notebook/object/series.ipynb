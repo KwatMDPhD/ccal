{
 "cells": [
  {
   "cell_type": "code",
   "execution_count": null,
   "id": "00d594ef-630f-4e79-87a0-8f1adf96399a",
   "metadata": {
    "execution": {
     "iopub.execute_input": "2021-05-31T22:30:09.470794Z",
     "iopub.status.busy": "2021-05-31T22:30:09.469985Z",
     "iopub.status.idle": "2021-05-31T22:30:09.485203Z",
     "shell.execute_reply": "2021-05-31T22:30:09.485875Z"
    }
   },
   "outputs": [],
   "source": [
    "%load_ext autoreload\n",
    "%autoreload 2"
   ]
  },
  {
   "cell_type": "code",
   "execution_count": null,
   "id": "42c98d35-aefa-47f3-bc10-0f165a476ab6",
   "metadata": {
    "execution": {
     "iopub.execute_input": "2021-05-31T22:30:09.489399Z",
     "iopub.status.busy": "2021-05-31T22:30:09.488809Z",
     "iopub.status.idle": "2021-05-31T22:30:10.024022Z",
     "shell.execute_reply": "2021-05-31T22:30:10.024478Z"
    }
   },
   "outputs": [],
   "source": [
    "import kraft"
   ]
  },
  {
   "cell_type": "code",
   "execution_count": null,
   "id": "e02aa32f-3225-471e-9844-f33cc9c08b29",
   "metadata": {
    "execution": {
     "iopub.execute_input": "2021-05-31T22:30:10.027485Z",
     "iopub.status.busy": "2021-05-31T22:30:10.026929Z",
     "iopub.status.idle": "2021-05-31T22:30:10.045549Z",
     "shell.execute_reply": "2021-05-31T22:30:10.045926Z"
    }
   },
   "outputs": [],
   "source": [
    "import numpy as np\n",
    "import pandas as pd"
   ]
  },
  {
   "cell_type": "markdown",
   "id": "7b57a11b-e4ff-4798-a0fd-16c3da56f33f",
   "metadata": {},
   "source": [
    "## binarize"
   ]
  },
  {
   "cell_type": "code",
   "execution_count": null,
   "id": "0490b0eb-0100-4fad-81fd-f5b4d0473d43",
   "metadata": {
    "execution": {
     "iopub.execute_input": "2021-05-31T22:30:10.049992Z",
     "iopub.status.busy": "2021-05-31T22:30:10.049397Z",
     "iopub.status.idle": "2021-05-31T22:30:10.081823Z",
     "shell.execute_reply": "2021-05-31T22:30:10.082326Z"
    }
   },
   "outputs": [],
   "source": [
    "an_ = [2, 1, None, np.nan, 0, -1, \"\", \"Aa\"]\n",
    "\n",
    "an_ = pd.Series(\n",
    "    an_,\n",
    "    pd.Index((\"Label {}\".format(ie + 1) for ie in range(len(an_))), name=\"Dimension 2\"),\n",
    "    object,\n",
    "    \"Dimension 1\",\n",
    ")\n",
    "\n",
    "print(an_)\n",
    "\n",
    "kraft.series.binarize(an_)"
   ]
  }
 ],
 "metadata": {
  "kernelspec": {
   "display_name": "Python 3",
   "language": "python",
   "name": "python3"
  },
  "language_info": {
   "codemirror_mode": {
    "name": "ipython",
    "version": 3
   },
   "file_extension": ".py",
   "mimetype": "text/x-python",
   "name": "python",
   "nbconvert_exporter": "python",
   "pygments_lexer": "ipython3",
   "version": "3.8.9"
  }
 },
 "nbformat": 4,
 "nbformat_minor": 5
}
