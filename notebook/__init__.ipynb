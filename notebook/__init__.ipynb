{
 "cells": [
  {
   "cell_type": "code",
   "execution_count": null,
   "metadata": {},
   "outputs": [],
   "source": [
    "%load_ext autoreload\n",
    "%autoreload 2"
   ]
  },
  {
   "cell_type": "code",
   "execution_count": null,
   "metadata": {},
   "outputs": [],
   "source": [
    "import os\n",
    "import re"
   ]
  },
  {
   "cell_type": "code",
   "execution_count": null,
   "metadata": {},
   "outputs": [],
   "source": [
    "d = \"../kraft/\"\n",
    "\n",
    "l_ = []\n",
    "\n",
    "for n in sorted(os.listdir(d)):\n",
    "\n",
    "    if re.match(r\"^[^._].+\\.py$\", n):\n",
    "\n",
    "        print(n)\n",
    "\n",
    "        l_.append(\"from . import {}\\n\".format(n[: -len(\".py\")]))\n",
    "\n",
    "with open(\"{}__init__.py\".format(d), \"w\") as io:\n",
    "\n",
    "    io.write(\"\".join(l_))"
   ]
  },
  {
   "cell_type": "code",
   "execution_count": null,
   "metadata": {},
   "outputs": [],
   "source": [
    "import kraft\n",
    "\n",
    "n_ = dir(kraft)\n",
    "\n",
    "print(len(n_))\n",
    "\n",
    "n_"
   ]
  },
  {
   "cell_type": "code",
   "execution_count": null,
   "metadata": {},
   "outputs": [],
   "source": [
    "for n in sorted(os.listdir()):\n",
    "\n",
    "    if re.match(r\"^[^._].+\\.ipynb$\", n):\n",
    "\n",
    "        kraft.shell.command(\n",
    "            \"jupyter nbconvert --execute --ExecutePreprocessor.timeout=-1 --inplace {}\".format(\n",
    "                n\n",
    "            )\n",
    "        )"
   ]
  }
 ],
 "metadata": {
  "@webio": {
   "lastCommId": null,
   "lastKernelId": null
  },
  "kernelspec": {
   "display_name": "Python 3",
   "language": "python",
   "name": "python3"
  },
  "language_info": {
   "codemirror_mode": {
    "name": "ipython",
    "version": 3
   },
   "file_extension": ".py",
   "mimetype": "text/x-python",
   "name": "python",
   "nbconvert_exporter": "python",
   "pygments_lexer": "ipython3",
   "version": "3.8.9"
  }
 },
 "nbformat": 4,
 "nbformat_minor": 4
}
