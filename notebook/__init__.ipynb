{
 "cells": [
  {
   "cell_type": "code",
   "execution_count": null,
   "metadata": {},
   "outputs": [],
   "source": [
    "import os\n",
    "import subprocess"
   ]
  },
  {
   "cell_type": "code",
   "execution_count": null,
   "metadata": {},
   "outputs": [],
   "source": [
    "def get_importable_name_from_py_file_path(py_file_path):\n",
    "\n",
    "    print(py_file_path)\n",
    "\n",
    "    py_file_name == os.path.split(py_file_path)[-1]\n",
    "\n",
    "    py_file_name_without_py = py_file_name[: -len(\".py\")]\n",
    "\n",
    "    if not (py_file_name_without_py.islower() or py_file_name_without_py.isupper()):\n",
    "\n",
    "        print(\"\\tHas mixed character case.\")\n",
    "\n",
    "    if py_file_name_without_py.isupper():\n",
    "\n",
    "        importable_names = [py_file_name_without_py]\n",
    "\n",
    "    else:\n",
    "\n",
    "        importable_names = []\n",
    "\n",
    "        with open(py_file_path) as io:\n",
    "\n",
    "            for line in io.readlines():\n",
    "\n",
    "                for prefix in (\"def \", \"class \"):\n",
    "\n",
    "                    if line.startswith(prefix):\n",
    "\n",
    "                        if \"(\" in line:\n",
    "\n",
    "                            separator = \"(\"\n",
    "\n",
    "                        elif \":\" in line:\n",
    "\n",
    "                            separator = \":\"\n",
    "\n",
    "                        importable_names.append(\n",
    "                            line.strip().split(separator)[0][len(prefix) :]\n",
    "                        )\n",
    "\n",
    "    if len(importable_names) != 1:\n",
    "\n",
    "        raise\n",
    "\n",
    "    importable_name = importable_names[0]\n",
    "\n",
    "    if importable_name != py_file_name_without_py:\n",
    "\n",
    "        raise\n",
    "\n",
    "    return importable_name"
   ]
  },
  {
   "cell_type": "code",
   "execution_count": null,
   "metadata": {},
   "outputs": [],
   "source": [
    "import_lines = []\n",
    "\n",
    "for py_file_name in sorted(os.listdir(path=os.path.join(\"..\", \"kraft\"))):\n",
    "\n",
    "    if py_file_name != \"__init__.py\" and py_file_name.endswith(\".py\"):\n",
    "\n",
    "        importable_name = get_importable_name_from_py_file_path(\n",
    "            os.path.join(\"..\", \"kraft\", py_file_name)\n",
    "        )\n",
    "\n",
    "        import_lines.append(\"from .{0} import {0}\".format(importable_name))\n",
    "\n",
    "with open(os.path.join(\"..\", \"kraft\", \"__init__.py\"), mode=\"w\") as io:\n",
    "\n",
    "    io.writelines(\"\\n\".join(import_lines))"
   ]
  },
  {
   "cell_type": "code",
   "execution_count": null,
   "metadata": {},
   "outputs": [],
   "source": [
    "import kraft"
   ]
  },
  {
   "cell_type": "code",
   "execution_count": null,
   "metadata": {},
   "outputs": [],
   "source": [
    "print(len(dir(kraft)))\n",
    "\n",
    "dir(kraft)"
   ]
  },
  {
   "cell_type": "code",
   "execution_count": null,
   "metadata": {},
   "outputs": [],
   "source": [
    "for file_path in sorted(os.listdir()):\n",
    "\n",
    "    if file_path.endswith(\".ipynb\") and not file_path.startswith(\"_\"):\n",
    "\n",
    "        kraft.run_command(\n",
    "            \"jupyter nbconvert --execute --ExecutePreprocessor.timeout=-1 --inplace {}\".format(\n",
    "                file_path\n",
    "            )\n",
    "        )"
   ]
  }
 ],
 "metadata": {
  "@webio": {
   "lastCommId": null,
   "lastKernelId": null
  },
  "kernelspec": {
   "display_name": "Python 3",
   "language": "python",
   "name": "python3"
  },
  "language_info": {
   "codemirror_mode": {
    "name": "ipython",
    "version": 3
   },
   "file_extension": ".py",
   "mimetype": "text/x-python",
   "name": "python",
   "nbconvert_exporter": "python",
   "pygments_lexer": "ipython3",
   "version": "3.7.3"
  }
 },
 "nbformat": 4,
 "nbformat_minor": 4
}
