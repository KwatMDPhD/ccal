{
 "cells": [
  {
   "cell_type": "code",
   "execution_count": null,
   "metadata": {},
   "outputs": [],
   "source": [
    "version = \"1.1.0\""
   ]
  },
  {
   "cell_type": "code",
   "execution_count": null,
   "metadata": {},
   "outputs": [],
   "source": [
    "def get_importable_name_from_py_file_path(py_file_path):\n",
    "\n",
    "    py_file_name == py_file_path.split(\"/\")[-1]\n",
    "\n",
    "    py_file_name_without_py = py_file_name[: -len(\".py\")]\n",
    "\n",
    "    if py_file_name_without_py.isupper():\n",
    "\n",
    "        importable_names = [py_file_name_without_py]\n",
    "\n",
    "    else:\n",
    "\n",
    "        importable_names = []\n",
    "\n",
    "        with open(py_file_path) as py_file:\n",
    "\n",
    "            for line in py_file.readlines():\n",
    "\n",
    "                for prefix in (\"def \", \"class \"):\n",
    "\n",
    "                    if line.startswith(prefix):\n",
    "\n",
    "                        if \"(\" in line:\n",
    "\n",
    "                            separator = \"(\"\n",
    "\n",
    "                        elif \":\" in line:\n",
    "\n",
    "                            separator = \":\"\n",
    "\n",
    "                        importable_names.append(\n",
    "                            line.strip().split(separator)[0][len(prefix) :]\n",
    "                        )\n",
    "\n",
    "    _names = [name for name in importable_names if name.startswith(\"_\")]\n",
    "\n",
    "    if len(_names):\n",
    "\n",
    "        print(\"\\t\" + \"\\n\\t\".join(_names))\n",
    "\n",
    "    importable_names = set(importable_names) - set(_names)\n",
    "\n",
    "    if len(importable_names) != 1:\n",
    "\n",
    "        raise ValueError(\"N importable names ({}) != 1\".format(len(importable_names)))\n",
    "\n",
    "    importable_name = importable_names.pop()\n",
    "\n",
    "    if importable_name != py_file_name_without_py:\n",
    "\n",
    "        raise ValueError(\n",
    "            \"{}(.py) != {}\".format(py_file_name_without_py, importable_name)\n",
    "        )\n",
    "\n",
    "    return importable_name"
   ]
  },
  {
   "cell_type": "code",
   "execution_count": null,
   "metadata": {},
   "outputs": [],
   "source": [
    "import os"
   ]
  },
  {
   "cell_type": "code",
   "execution_count": null,
   "metadata": {},
   "outputs": [],
   "source": [
    "import_lines = []\n",
    "\n",
    "for py_file_name in sorted(os.listdir(path=\"../ccal\")):\n",
    "\n",
    "    print(py_file_name)\n",
    "\n",
    "    if py_file_name != \"__init__.py\" and py_file_name.endswith(\".py\"):\n",
    "\n",
    "        import_lines.append(\n",
    "            \"from .{0} import {0}\".format(\n",
    "                get_importable_name_from_py_file_path(\"../ccal/{}\".format(py_file_name))\n",
    "            )\n",
    "        )\n",
    "\n",
    "    print()"
   ]
  },
  {
   "cell_type": "code",
   "execution_count": null,
   "metadata": {},
   "outputs": [],
   "source": [
    "with open(os.path.join(\"..\", \"ccal\", \"__init__.py\"), mode=\"w\") as init_file:\n",
    "\n",
    "    init_file.write(\n",
    "        \"\\n\".join(\n",
    "            (\n",
    "                \"from os.path import abspath\",\n",
    "                'VERSION = \"{}\"'.format(version),\n",
    "                'print(\"CCAL version {} @ {}\".format(VERSION, abspath(__file__)))',\n",
    "            )\n",
    "        )\n",
    "    )\n",
    "\n",
    "    init_file.write(\"\\n\")\n",
    "\n",
    "    init_file.writelines(\"\\n\".join(import_lines))"
   ]
  },
  {
   "cell_type": "code",
   "execution_count": null,
   "metadata": {},
   "outputs": [],
   "source": [
    "import ccal"
   ]
  },
  {
   "cell_type": "code",
   "execution_count": null,
   "metadata": {},
   "outputs": [],
   "source": [
    "print(len(dir(ccal)))\n",
    "\n",
    "dir(ccal)"
   ]
  },
  {
   "cell_type": "code",
   "execution_count": null,
   "metadata": {},
   "outputs": [],
   "source": [
    "import subprocess"
   ]
  },
  {
   "cell_type": "code",
   "execution_count": null,
   "metadata": {},
   "outputs": [],
   "source": [
    "for ipynb_file_path in sorted(os.listdir()):\n",
    "\n",
    "    if ipynb_file_path.endswith(\".ipynb\") and not ipynb_file_path.startswith(\"_\"):\n",
    "\n",
    "        print(ipynb_file_path)\n",
    "\n",
    "        subprocess.run(\n",
    "            \"jupyter nbconvert --execute --ExecutePreprocessor.timeout=-1 --inplace {}\".format(\n",
    "                ipynb_file_path\n",
    "            ),\n",
    "            shell=True,\n",
    "            check=True,\n",
    "        )\n",
    "\n",
    "        subprocess.run(\"clean_ipynb {}\".format(ipynb_file_path), shell=True, check=True)"
   ]
  }
 ],
 "metadata": {
  "kernelspec": {
   "display_name": "Python 3",
   "language": "python",
   "name": "python3"
  },
  "language_info": {
   "codemirror_mode": {
    "name": "ipython",
    "version": 3
   },
   "file_extension": ".py",
   "mimetype": "text/x-python",
   "name": "python",
   "nbconvert_exporter": "python",
   "pygments_lexer": "ipython3",
   "version": "3.6.7"
  }
 },
 "nbformat": 4,
 "nbformat_minor": 2
}
