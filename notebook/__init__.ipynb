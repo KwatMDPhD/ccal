{
 "cells": [
  {
   "cell_type": "code",
   "execution_count": 1,
   "metadata": {},
   "outputs": [],
   "source": [
    "%load_ext autoreload\n",
    "%autoreload 2"
   ]
  },
  {
   "cell_type": "code",
   "execution_count": 2,
   "metadata": {},
   "outputs": [],
   "source": [
    "import os\n",
    "import re"
   ]
  },
  {
   "cell_type": "code",
   "execution_count": 3,
   "metadata": {},
   "outputs": [
    {
     "name": "stdout",
     "output_type": "stream",
     "text": [
      "CONSTANT.py\n",
      "array.py\n",
      "clustering.py\n",
      "dict_a.py\n",
      "function_heat_map.py\n",
      "gct.py\n",
      "geo.py\n",
      "geometry.py\n",
      "gff.py\n",
      "gmt.py\n",
      "gps_map.py\n",
      "grid.py\n",
      "information.py\n",
      "internet.py\n",
      "iterable.py\n",
      "json.py\n",
      "kernel_density.py\n",
      "matrix_factorization.py\n",
      "name_biology.py\n",
      "path.py\n",
      "pd.py\n",
      "plot.py\n",
      "point.py\n",
      "probability.py\n",
      "score_set.py\n",
      "shell.py\n",
      "significance.py\n",
      "str_a.py\n",
      "support.py\n"
     ]
    }
   ],
   "source": [
    "directory_path = \"../kraft/\"\n",
    "\n",
    "lines = []\n",
    "\n",
    "for name in sorted(os.listdir(path=directory_path)):\n",
    "\n",
    "    if re.match(r\"^[^._].+\\.py$\", name):\n",
    "\n",
    "        print(name)\n",
    "\n",
    "        lines.append(\"from . import {}\\n\".format(name[: -len(\".py\")]))\n",
    "\n",
    "with open(\"{}__init__.py\".format(directory_path), mode=\"w\") as io:\n",
    "\n",
    "    io.write(\"\".join(lines))"
   ]
  },
  {
   "cell_type": "code",
   "execution_count": 4,
   "metadata": {},
   "outputs": [
    {
     "name": "stdout",
     "output_type": "stream",
     "text": [
      "38\n"
     ]
    },
    {
     "data": {
      "text/plain": [
       "['CONSTANT',\n",
       " '__builtins__',\n",
       " '__cached__',\n",
       " '__doc__',\n",
       " '__file__',\n",
       " '__loader__',\n",
       " '__name__',\n",
       " '__package__',\n",
       " '__path__',\n",
       " '__spec__',\n",
       " 'array',\n",
       " 'clustering',\n",
       " 'dict_a',\n",
       " 'function_heat_map',\n",
       " 'gct',\n",
       " 'geo',\n",
       " 'geometry',\n",
       " 'gff',\n",
       " 'gmt',\n",
       " 'gps_map',\n",
       " 'grid',\n",
       " 'information',\n",
       " 'internet',\n",
       " 'iterable',\n",
       " 'json',\n",
       " 'kernel_density',\n",
       " 'matrix_factorization',\n",
       " 'name_biology',\n",
       " 'path',\n",
       " 'pd',\n",
       " 'plot',\n",
       " 'point',\n",
       " 'probability',\n",
       " 'score_set',\n",
       " 'shell',\n",
       " 'significance',\n",
       " 'str_a',\n",
       " 'support']"
      ]
     },
     "execution_count": 4,
     "metadata": {},
     "output_type": "execute_result"
    }
   ],
   "source": [
    "import kraft\n",
    "\n",
    "names = dir(kraft)\n",
    "\n",
    "print(len(names))\n",
    "\n",
    "names"
   ]
  },
  {
   "cell_type": "code",
   "execution_count": null,
   "metadata": {},
   "outputs": [],
   "source": [
    "for name in sorted(os.listdir()):\n",
    "\n",
    "    if re.match(r\"^[^._].+\\.ipynb$\", name):\n",
    "\n",
    "        kraft.shell.command(\n",
    "            \"jupyter nbconvert --execute --ExecutePreprocessor.timeout=-1 --inplace {}\".format(\n",
    "                name\n",
    "            )\n",
    "        )"
   ]
  }
 ],
 "metadata": {
  "@webio": {
   "lastCommId": null,
   "lastKernelId": null
  },
  "kernelspec": {
   "display_name": "Python 3",
   "language": "python",
   "name": "python3"
  },
  "language_info": {
   "codemirror_mode": {
    "name": "ipython",
    "version": 3
   },
   "file_extension": ".py",
   "mimetype": "text/x-python",
   "name": "python",
   "nbconvert_exporter": "python",
   "pygments_lexer": "ipython3",
   "version": "3.8.9"
  }
 },
 "nbformat": 4,
 "nbformat_minor": 4
}
