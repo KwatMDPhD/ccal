{
 "cells": [
  {
   "cell_type": "code",
   "execution_count": null,
   "metadata": {},
   "outputs": [],
   "source": [
    "%load_ext autoreload\n",
    "%autoreload 2"
   ]
  },
  {
   "cell_type": "code",
   "execution_count": null,
   "metadata": {},
   "outputs": [],
   "source": [
    "import os\n",
    "import re\n",
    "import subprocess"
   ]
  },
  {
   "cell_type": "code",
   "execution_count": null,
   "metadata": {},
   "outputs": [],
   "source": [
    "directory_path = \"../kraft\"\n",
    "\n",
    "lines = []\n",
    "\n",
    "for name in sorted(os.listdir(path=directory_path)):\n",
    "\n",
    "    if re.match(\"^[^._]*.py$\", name):\n",
    "\n",
    "        print(name)\n",
    "\n",
    "        lines.append(\"from . import {}\".format(name[: -len(\".py\")]))\n",
    "\n",
    "with open(\"{}/__init__.py\".format(directory_path), mode=\"w\") as io:\n",
    "\n",
    "    io.writelines(\"\\n\".join(lines))"
   ]
  },
  {
   "cell_type": "code",
   "execution_count": null,
   "metadata": {},
   "outputs": [],
   "source": [
    "import kraft\n",
    "\n",
    "print(len(dir(kraft)))\n",
    "\n",
    "dir(kraft)"
   ]
  },
  {
   "cell_type": "code",
   "execution_count": null,
   "metadata": {},
   "outputs": [],
   "source": [
    "%ls kraft.CONSTANT.DATA_DIRECTORY_PATH"
   ]
  },
  {
   "cell_type": "code",
   "execution_count": null,
   "metadata": {},
   "outputs": [],
   "source": [
    "for file_path in sorted(os.listdir()):\n",
    "\n",
    "    if re.match(\"^[^._].*.ipynb$\", file_path):\n",
    "\n",
    "        kraft.shell.command(\n",
    "            \"jupyter nbconvert --execute --ExecutePreprocessor.timeout=-1 --inplace {}\".format(\n",
    "                file_path\n",
    "            )\n",
    "        )"
   ]
  }
 ],
 "metadata": {
  "@webio": {
   "lastCommId": null,
   "lastKernelId": null
  },
  "kernelspec": {
   "display_name": "Python 3",
   "language": "python",
   "name": "python3"
  },
  "language_info": {
   "codemirror_mode": {
    "name": "ipython",
    "version": 3
   },
   "file_extension": ".py",
   "mimetype": "text/x-python",
   "name": "python",
   "nbconvert_exporter": "python",
   "pygments_lexer": "ipython3",
   "version": "3.7.6"
  }
 },
 "nbformat": 4,
 "nbformat_minor": 4
}
