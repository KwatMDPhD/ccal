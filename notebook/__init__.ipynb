{
 "cells": [
  {
   "cell_type": "code",
   "execution_count": null,
   "metadata": {},
   "outputs": [],
   "source": [
    "import os\n",
    "import subprocess"
   ]
  },
  {
   "cell_type": "code",
   "execution_count": null,
   "metadata": {},
   "outputs": [],
   "source": [
    "directory_path = \"../kraft\"\n",
    "\n",
    "import_lines = []\n",
    "\n",
    "for name in sorted(os.listdir(path=directory_path)):\n",
    "\n",
    "    if name != \"__init__.py\" and name[-3:] == \".py\":\n",
    "\n",
    "        print(name)\n",
    "\n",
    "        name_without_py = name[:-3]\n",
    "\n",
    "        if not (name_without_py.islower() or name_without_py.isupper()):\n",
    "\n",
    "            print(\"\\tHas mixed character case.\")\n",
    "\n",
    "        if name_without_py.isupper():\n",
    "\n",
    "            importable_names = [name_without_py]\n",
    "\n",
    "        else:\n",
    "\n",
    "            importable_names = []\n",
    "\n",
    "            with open(\"{}/{}\".format(directory_path, name)) as io:\n",
    "\n",
    "                for line in io.readlines():\n",
    "\n",
    "                    for prefix in (\"def \", \"class \"):\n",
    "\n",
    "                        prefix_length = len(prefix)\n",
    "\n",
    "                        if line[:prefix_length] == prefix:\n",
    "\n",
    "                            if \"(\" in line:\n",
    "\n",
    "                                separator = \"(\"\n",
    "\n",
    "                            elif \":\" in line:\n",
    "\n",
    "                                separator = \":\"\n",
    "\n",
    "                            importable_names.append(\n",
    "                                line.strip().split(separator)[0][len(prefix) :]\n",
    "                            )\n",
    "\n",
    "        # assert len(importable_names) == 1\n",
    "\n",
    "        importable_name = importable_names[0]\n",
    "\n",
    "        # assert importable_name == name_without_py\n",
    "\n",
    "        import_lines.append(\"from .{0} import {0}\".format(importable_name))\n",
    "\n",
    "with open(\"{}/__init__.py\".format(directory_path), mode=\"w\") as io:\n",
    "\n",
    "    io.writelines(\"\\n\".join(import_lines))"
   ]
  },
  {
   "cell_type": "code",
   "execution_count": null,
   "metadata": {},
   "outputs": [],
   "source": [
    "import kraft\n",
    "\n",
    "print(len(dir(kraft)))\n",
    "\n",
    "dir(kraft)"
   ]
  },
  {
   "cell_type": "code",
   "execution_count": null,
   "metadata": {},
   "outputs": [],
   "source": [
    "for file_path in sorted(os.listdir()):\n",
    "\n",
    "    if file_path.endswith(\".ipynb\") and not file_path.startswith(\"_\"):\n",
    "\n",
    "        kraft.command(\n",
    "            \"jupyter nbconvert --execute --ExecutePreprocessor.timeout=-1 --inplace {}\".format(\n",
    "                file_path\n",
    "            )\n",
    "        )"
   ]
  }
 ],
 "metadata": {
  "@webio": {
   "lastCommId": null,
   "lastKernelId": null
  },
  "kernelspec": {
   "display_name": "Python 3",
   "language": "python",
   "name": "python3"
  },
  "language_info": {
   "codemirror_mode": {
    "name": "ipython",
    "version": 3
   },
   "file_extension": ".py",
   "mimetype": "text/x-python",
   "name": "python",
   "nbconvert_exporter": "python",
   "pygments_lexer": "ipython3",
   "version": "3.7.6"
  }
 },
 "nbformat": 4,
 "nbformat_minor": 4
}
