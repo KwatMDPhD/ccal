{
 "cells": [
  {
   "cell_type": "code",
   "execution_count": null,
   "metadata": {
    "ExecuteTime": {
     "end_time": "2018-05-15T09:28:54.601864Z",
     "start_time": "2018-05-15T09:28:54.554930Z"
    }
   },
   "outputs": [],
   "source": [
    "%load_ext autoreload\n",
    "%autoreload 2"
   ]
  },
  {
   "cell_type": "code",
   "execution_count": null,
   "metadata": {},
   "outputs": [],
   "source": [
    "import os\n",
    "import sys"
   ]
  },
  {
   "cell_type": "code",
   "execution_count": null,
   "metadata": {},
   "outputs": [],
   "source": [
    "version = \"0.9.4\""
   ]
  },
  {
   "cell_type": "code",
   "execution_count": null,
   "metadata": {},
   "outputs": [],
   "source": [
    "def check_py_file_path(py_file_path):\n",
    "\n",
    "    py_file_name == py_file_path.split(\"/\")[-1]\n",
    "\n",
    "    py_file_name_without_py = py_file_name[: -len(\".py\")]\n",
    "\n",
    "    if py_file_name_without_py.isupper():\n",
    "\n",
    "        importable_names = [py_file_name_without_py]\n",
    "\n",
    "    else:\n",
    "\n",
    "        importable_names = []\n",
    "\n",
    "        with open(py_file_path) as py_file:\n",
    "\n",
    "            for line in py_file.readlines():\n",
    "\n",
    "                for prefix, separator in ((\"def \", \"(\"), (\"class \", \":\")):\n",
    "\n",
    "                    if line.startswith(prefix):\n",
    "\n",
    "                        importable_names.append(\n",
    "                            line.strip().split(separator)[0][len(prefix) :]\n",
    "                        )\n",
    "\n",
    "    if len(importable_names) != 1:\n",
    "\n",
    "        raise ValueError(\"N importable names ({}) != 1\".format(len(importable_names)))\n",
    "\n",
    "    importable_name = importable_names[0]\n",
    "\n",
    "    if importable_name != py_file_name_without_py:\n",
    "\n",
    "        raise ValueError(\n",
    "            \"{}(.py) != {}\".format(py_file_name_without_py, importable_name)\n",
    "        )"
   ]
  },
  {
   "cell_type": "code",
   "execution_count": null,
   "metadata": {},
   "outputs": [],
   "source": [
    "import_lines = []\n",
    "\n",
    "for py_file_name in sorted(os.listdir(\"../ccal\")):\n",
    "\n",
    "    print(py_file_name)\n",
    "\n",
    "    if py_file_name != \"__init__.py\" and py_file_name.endswith(\".py\"):\n",
    "\n",
    "        check_py_file_path(\"../ccal/{}\".format(py_file_name))\n",
    "\n",
    "        import_lines.append(\"from .{0} import {0}\".format(py_file_name[: -len(\".py\")]))"
   ]
  },
  {
   "cell_type": "code",
   "execution_count": null,
   "metadata": {},
   "outputs": [],
   "source": [
    "with open(\"../ccal/__init__.py\", mode=\"w\") as init_file:\n",
    "\n",
    "    init_file.write(\n",
    "        \"\\n\".join(\n",
    "            (\n",
    "                \"from os.path import abspath\",\n",
    "                'VERSION = \"{}\"'.format(version),\n",
    "                'print(\"CCAL version {} @ {}\".format(VERSION, abspath(__file__)))',\n",
    "            )\n",
    "        )\n",
    "    )\n",
    "\n",
    "    init_file.write(\"\\n\")\n",
    "\n",
    "    init_file.writelines(\"\\n\".join(import_lines))"
   ]
  },
  {
   "cell_type": "code",
   "execution_count": null,
   "metadata": {},
   "outputs": [],
   "source": [
    "sys.path.insert(0, \"..\")\n",
    "\n",
    "import ccal"
   ]
  },
  {
   "cell_type": "code",
   "execution_count": null,
   "metadata": {},
   "outputs": [],
   "source": [
    "print(len(dir(ccal)))\n",
    "\n",
    "dir(ccal)"
   ]
  }
 ],
 "metadata": {
  "kernelspec": {
   "display_name": "Python 3",
   "language": "python",
   "name": "python3"
  },
  "language_info": {
   "codemirror_mode": {
    "name": "ipython",
    "version": 3
   },
   "file_extension": ".py",
   "mimetype": "text/x-python",
   "name": "python",
   "nbconvert_exporter": "python",
   "pygments_lexer": "ipython3",
   "version": "3.6.7"
  }
 },
 "nbformat": 4,
 "nbformat_minor": 2
}
