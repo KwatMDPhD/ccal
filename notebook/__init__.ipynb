{
 "cells": [
  {
   "cell_type": "code",
   "execution_count": 1,
   "metadata": {},
   "outputs": [],
   "source": [
    "import os\n",
    "import subprocess"
   ]
  },
  {
   "cell_type": "code",
   "execution_count": 2,
   "metadata": {},
   "outputs": [
    {
     "name": "stdout",
     "output_type": "stream",
     "text": [
      "DATA_TYPE_COLORSCALE.py\n",
      "RANDOM_SEED.py\n",
      "apply_function_on_vector_and_matrix_row.py\n",
      "clip_array_by_standard_deviation.py\n",
      "cluster_matrix.py\n",
      "compute_margin_of_error.py\n",
      "compute_p_value.py\n",
      "compute_p_values_and_false_discovery_rates.py\n",
      "compute_set_enrichment.py\n",
      "establish_path.py\n",
      "ignore_nan_and_apply_function_on_2_vectors.py\n",
      "is_sorted_array.py\n",
      "log_array.py\n",
      "merge_2_dicts_recursively.py\n",
      "normalize_array.py\n",
      "plot_plotly.py\n",
      "select_series_index.py\n"
     ]
    }
   ],
   "source": [
    "directory_path = \"../kraft\"\n",
    "\n",
    "import_lines = []\n",
    "\n",
    "for name in sorted(os.listdir(path=directory_path)):\n",
    "\n",
    "    if name != \"__init__.py\" and name[-3:] == \".py\":\n",
    "\n",
    "        print(name)\n",
    "\n",
    "        name_without_py = name[:-3]\n",
    "\n",
    "        if not (name_without_py.islower() or name_without_py.isupper()):\n",
    "\n",
    "            print(\"\\tHas mixed character case.\")\n",
    "\n",
    "        if name_without_py.isupper():\n",
    "\n",
    "            importable_names = [name_without_py]\n",
    "\n",
    "        else:\n",
    "\n",
    "            importable_names = []\n",
    "\n",
    "            with open(\"{}/{}\".format(directory_path, name)) as io:\n",
    "\n",
    "                for line in io.readlines():\n",
    "\n",
    "                    for prefix in (\"def \", \"class \"):\n",
    "\n",
    "                        prefix_length = len(prefix)\n",
    "\n",
    "                        if line[:prefix_length] == prefix:\n",
    "\n",
    "                            if \"(\" in line:\n",
    "\n",
    "                                separator = \"(\"\n",
    "\n",
    "                            elif \":\" in line:\n",
    "\n",
    "                                separator = \":\"\n",
    "\n",
    "                            importable_names.append(\n",
    "                                line.strip().split(separator)[0][len(prefix) :]\n",
    "                            )\n",
    "\n",
    "        assert len(importable_names) == 1\n",
    "\n",
    "        importable_name = importable_names[0]\n",
    "\n",
    "        assert importable_name == name_without_py\n",
    "\n",
    "        import_lines.append(\"from .{0} import {0}\".format(importable_name))\n",
    "\n",
    "with open(\"{}/__init__.py\".format(directory_path), mode=\"w\") as io:\n",
    "\n",
    "    io.writelines(\"\\n\".join(import_lines))"
   ]
  },
  {
   "cell_type": "code",
   "execution_count": 3,
   "metadata": {},
   "outputs": [
    {
     "name": "stdout",
     "output_type": "stream",
     "text": [
      "26\n"
     ]
    },
    {
     "data": {
      "text/plain": [
       "['DATA_TYPE_COLORSCALE',\n",
       " 'RANDOM_SEED',\n",
       " '__builtins__',\n",
       " '__cached__',\n",
       " '__doc__',\n",
       " '__file__',\n",
       " '__loader__',\n",
       " '__name__',\n",
       " '__package__',\n",
       " '__path__',\n",
       " '__spec__',\n",
       " 'apply_function_on_vector_and_matrix_row',\n",
       " 'clip_array_by_standard_deviation',\n",
       " 'cluster_matrix',\n",
       " 'compute_margin_of_error',\n",
       " 'compute_p_value',\n",
       " 'compute_p_values_and_false_discovery_rates',\n",
       " 'compute_set_enrichment',\n",
       " 'establish_path',\n",
       " 'ignore_nan_and_apply_function_on_2_vectors',\n",
       " 'is_sorted_array',\n",
       " 'log_array',\n",
       " 'merge_2_dicts_recursively',\n",
       " 'normalize_array',\n",
       " 'plot_plotly',\n",
       " 'select_series_index']"
      ]
     },
     "execution_count": 3,
     "metadata": {},
     "output_type": "execute_result"
    }
   ],
   "source": [
    "import kraft\n",
    "\n",
    "print(len(dir(kraft)))\n",
    "\n",
    "dir(kraft)"
   ]
  }
 ],
 "metadata": {
  "@webio": {
   "lastCommId": null,
   "lastKernelId": null
  },
  "kernelspec": {
   "display_name": "Python 3",
   "language": "python",
   "name": "python3"
  },
  "language_info": {
   "codemirror_mode": {
    "name": "ipython",
    "version": 3
   },
   "file_extension": ".py",
   "mimetype": "text/x-python",
   "name": "python",
   "nbconvert_exporter": "python",
   "pygments_lexer": "ipython3",
   "version": "3.7.3"
  }
 },
 "nbformat": 4,
 "nbformat_minor": 4
}
