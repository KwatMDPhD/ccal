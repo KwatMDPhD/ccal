{
 "cells": [
  {
   "cell_type": "code",
   "execution_count": null,
   "metadata": {},
   "outputs": [],
   "source": [
    "import os\n",
    "import subprocess"
   ]
  },
  {
   "cell_type": "code",
   "execution_count": null,
   "metadata": {},
   "outputs": [],
   "source": [
    "directory_path = \"../kraft\"\n",
    "\n",
    "import_lines = []\n",
    "\n",
    "for name in sorted(os.listdir(path=directory_path)):\n",
    "\n",
    "    if name != \"__init__.py\" and name[-3:] == \".py\":\n",
    "\n",
    "        print(name)\n",
    "\n",
    "        name_without_py = name[:-3]\n",
    "\n",
    "        if not (name_without_py.islower() or name_without_py.isupper()):\n",
    "\n",
    "            print(\"\\tHas mixed character case.\")\n",
    "\n",
    "        if name_without_py.isupper():\n",
    "\n",
    "            importable_names = [name_without_py]\n",
    "\n",
    "        else:\n",
    "\n",
    "            importable_names = []\n",
    "\n",
    "            with open(\"{}/{}\".format(directory_path, name)) as io:\n",
    "\n",
    "                for line in io.readlines():\n",
    "\n",
    "                    for prefix in (\"def \", \"class \"):\n",
    "\n",
    "                        prefix_length = len(prefix)\n",
    "\n",
    "                        if line[:prefix_length] == prefix:\n",
    "\n",
    "                            if \"(\" in line:\n",
    "\n",
    "                                separator = \"(\"\n",
    "\n",
    "                            elif \":\" in line:\n",
    "\n",
    "                                separator = \":\"\n",
    "\n",
    "                            importable_names.append(\n",
    "                                line.strip().split(separator)[0][len(prefix) :]\n",
    "                            )\n",
    "\n",
    "        assert len(importable_names) == 1\n",
    "\n",
    "        importable_name = importable_names[0]\n",
    "\n",
    "        assert importable_name == name_without_py\n",
    "\n",
    "        import_lines.append(\"from .{0} import {0}\".format(importable_name))\n",
    "\n",
    "with open(\"{}/__init__.py\".format(directory_path), mode=\"w\") as io:\n",
    "\n",
    "    io.writelines(\"\\n\".join(import_lines))"
   ]
  },
  {
   "cell_type": "code",
   "execution_count": 3,
   "metadata": {},
   "outputs": [
    {
     "ename": "ModuleNotFoundError",
     "evalue": "No module named 'kraft.make_binary_dataframe_from_categorical_series'",
     "output_type": "error",
     "traceback": [
      "\u001b[0;31m---------------------------------------------------------------------------\u001b[0m",
      "\u001b[0;31mModuleNotFoundError\u001b[0m                       Traceback (most recent call last)",
      "\u001b[0;32m<ipython-input-3-c730c956dc10>\u001b[0m in \u001b[0;36m<module>\u001b[0;34m\u001b[0m\n\u001b[0;32m----> 1\u001b[0;31m \u001b[0;32mimport\u001b[0m \u001b[0mkraft\u001b[0m\u001b[0;34m\u001b[0m\u001b[0;34m\u001b[0m\u001b[0m\n\u001b[0m\u001b[1;32m      2\u001b[0m \u001b[0;34m\u001b[0m\u001b[0m\n\u001b[1;32m      3\u001b[0m \u001b[0mprint\u001b[0m\u001b[0;34m(\u001b[0m\u001b[0mlen\u001b[0m\u001b[0;34m(\u001b[0m\u001b[0mdir\u001b[0m\u001b[0;34m(\u001b[0m\u001b[0mkraft\u001b[0m\u001b[0;34m)\u001b[0m\u001b[0;34m)\u001b[0m\u001b[0;34m)\u001b[0m\u001b[0;34m\u001b[0m\u001b[0;34m\u001b[0m\u001b[0m\n\u001b[1;32m      4\u001b[0m \u001b[0;34m\u001b[0m\u001b[0m\n\u001b[1;32m      5\u001b[0m \u001b[0mdir\u001b[0m\u001b[0;34m(\u001b[0m\u001b[0mkraft\u001b[0m\u001b[0;34m)\u001b[0m\u001b[0;34m\u001b[0m\u001b[0;34m\u001b[0m\u001b[0m\n",
      "\u001b[0;32m~/github/kraft/kraft/__init__.py\u001b[0m in \u001b[0;36m<module>\u001b[0;34m\u001b[0m\n\u001b[1;32m      5\u001b[0m \u001b[0;32mfrom\u001b[0m \u001b[0;34m.\u001b[0m\u001b[0mcast_builtin\u001b[0m \u001b[0;32mimport\u001b[0m \u001b[0mcast_builtin\u001b[0m\u001b[0;34m\u001b[0m\u001b[0;34m\u001b[0m\u001b[0m\n\u001b[1;32m      6\u001b[0m \u001b[0;32mfrom\u001b[0m \u001b[0;34m.\u001b[0m\u001b[0mclip_by_standard_deviation\u001b[0m \u001b[0;32mimport\u001b[0m \u001b[0mclip_by_standard_deviation\u001b[0m\u001b[0;34m\u001b[0m\u001b[0;34m\u001b[0m\u001b[0m\n\u001b[0;32m----> 7\u001b[0;31m \u001b[0;32mfrom\u001b[0m \u001b[0;34m.\u001b[0m\u001b[0mcluster_hierarchical_clusterings\u001b[0m \u001b[0;32mimport\u001b[0m \u001b[0mcluster_hierarchical_clusterings\u001b[0m\u001b[0;34m\u001b[0m\u001b[0;34m\u001b[0m\u001b[0m\n\u001b[0m\u001b[1;32m      8\u001b[0m \u001b[0;32mfrom\u001b[0m \u001b[0;34m.\u001b[0m\u001b[0mcluster_hierarchical_clusterings_at_rs\u001b[0m \u001b[0;32mimport\u001b[0m \u001b[0mcluster_hierarchical_clusterings_at_rs\u001b[0m\u001b[0;34m\u001b[0m\u001b[0;34m\u001b[0m\u001b[0m\n\u001b[1;32m      9\u001b[0m \u001b[0;32mfrom\u001b[0m \u001b[0;34m.\u001b[0m\u001b[0mcluster_matrix_factorization_clusterings\u001b[0m \u001b[0;32mimport\u001b[0m \u001b[0mcluster_matrix_factorization_clusterings\u001b[0m\u001b[0;34m\u001b[0m\u001b[0;34m\u001b[0m\u001b[0m\n",
      "\u001b[0;32m~/github/kraft/kraft/cluster_hierarchical_clusterings.py\u001b[0m in \u001b[0;36m<module>\u001b[0;34m\u001b[0m\n\u001b[1;32m      6\u001b[0m \u001b[0;34m\u001b[0m\u001b[0m\n\u001b[1;32m      7\u001b[0m \u001b[0;32mfrom\u001b[0m \u001b[0;34m.\u001b[0m\u001b[0mDATA_TYPE_COLORSCALE\u001b[0m \u001b[0;32mimport\u001b[0m \u001b[0mDATA_TYPE_COLORSCALE\u001b[0m\u001b[0;34m\u001b[0m\u001b[0;34m\u001b[0m\u001b[0m\n\u001b[0;32m----> 8\u001b[0;31m from .make_binary_dataframe_from_categorical_series import (\n\u001b[0m\u001b[1;32m      9\u001b[0m     \u001b[0mmake_binary_dataframe_from_categorical_series\u001b[0m\u001b[0;34m,\u001b[0m\u001b[0;34m\u001b[0m\u001b[0;34m\u001b[0m\u001b[0m\n\u001b[1;32m     10\u001b[0m )\n",
      "\u001b[0;31mModuleNotFoundError\u001b[0m: No module named 'kraft.make_binary_dataframe_from_categorical_series'"
     ]
    }
   ],
   "source": [
    "import kraft\n",
    "\n",
    "print(len(dir(kraft)))\n",
    "\n",
    "dir(kraft)"
   ]
  }
 ],
 "metadata": {
  "@webio": {
   "lastCommId": null,
   "lastKernelId": null
  },
  "kernelspec": {
   "display_name": "Python 3",
   "language": "python",
   "name": "python3"
  },
  "language_info": {
   "codemirror_mode": {
    "name": "ipython",
    "version": 3
   },
   "file_extension": ".py",
   "mimetype": "text/x-python",
   "name": "python",
   "nbconvert_exporter": "python",
   "pygments_lexer": "ipython3",
   "version": "3.7.6"
  }
 },
 "nbformat": 4,
 "nbformat_minor": 4
}
