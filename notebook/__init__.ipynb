{
 "cells": [
  {
   "cell_type": "code",
   "execution_count": null,
   "metadata": {},
   "outputs": [],
   "source": [
    "%load_ext autoreload\n",
    "%autoreload 2"
   ]
  },
  {
   "cell_type": "code",
   "execution_count": null,
   "metadata": {},
   "outputs": [],
   "source": [
    "import os\n",
    "import re"
   ]
  },
  {
   "cell_type": "code",
   "execution_count": null,
   "metadata": {},
   "outputs": [],
   "source": [
    "pa = \"../kraft/\"\n",
    "\n",
    "li_ = []\n",
    "\n",
    "for st in [\"\", \"object\"]:\n",
    "\n",
    "    for na in sorted(os.listdir(\"{}{}/\".format(pa, st))):\n",
    "\n",
    "        if re.match(r\"^[^._].+\\.py$\", na):\n",
    "\n",
    "            li_.append(\"from .{} import {}\\n\".format(st, na[: -len(\".py\")]))\n",
    "\n",
    "with open(\"{}__init__.py\".format(pa), \"w\") as io:\n",
    "\n",
    "    io.write(\"\".join(li_))"
   ]
  },
  {
   "cell_type": "code",
   "execution_count": null,
   "metadata": {},
   "outputs": [],
   "source": [
    "import kraft\n",
    "\n",
    "na_ = dir(kraft)\n",
    "\n",
    "print(len(na_))\n",
    "\n",
    "na_"
   ]
  },
  {
   "cell_type": "code",
   "execution_count": null,
   "metadata": {},
   "outputs": [],
   "source": [
    "for na in sorted(os.listdir()):\n",
    "\n",
    "    if re.match(r\"^[^._].+\\.ipynb$\", na):\n",
    "\n",
    "        kraft.shell.run(\n",
    "            \"jupyter nbconvert --execute --ExecutePreprocessor.timeout=-1 --inplace {}\".format(\n",
    "                na\n",
    "            )\n",
    "        )"
   ]
  }
 ],
 "metadata": {
  "@webio": {
   "lastCommId": null,
   "lastKernelId": null
  },
  "kernelspec": {
   "display_name": "Python 3",
   "language": "python",
   "name": "python3"
  },
  "language_info": {
   "codemirror_mode": {
    "name": "ipython",
    "version": 3
   },
   "file_extension": ".py",
   "mimetype": "text/x-python",
   "name": "python",
   "nbconvert_exporter": "python",
   "pygments_lexer": "ipython3",
   "version": "3.8.9"
  }
 },
 "nbformat": 4,
 "nbformat_minor": 4
}
