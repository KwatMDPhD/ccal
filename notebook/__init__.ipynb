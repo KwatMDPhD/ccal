{
 "cells": [
  {
   "cell_type": "code",
   "execution_count": 1,
   "metadata": {},
   "outputs": [],
   "source": [
    "import os\n",
    "import subprocess"
   ]
  },
  {
   "cell_type": "code",
   "execution_count": 2,
   "metadata": {},
   "outputs": [
    {
     "name": "stdout",
     "output_type": "stream",
     "text": [
      "COLORBAR.py\n",
      "DATA_TYPE_COLORSCALE.py\n",
      "RANDOM_SEED.py\n",
      "cast_builtin.py\n",
      "clip_by_standard_deviation.py\n",
      "compute_bandwidth.py\n",
      "compute_joint_probability.py\n",
      "compute_margin_of_error.py\n",
      "compute_p_value.py\n",
      "compute_p_values_and_false_discovery_rates.py\n",
      "compute_posterior_probability.py\n",
      "compute_set_enrichment.py\n",
      "compute_set_enrichment_2.py\n",
      "estimate_kernel_density.py\n",
      "function_heat_map.py\n",
      "function_ignoring_nan.py\n",
      "get_clustering_index.py\n",
      "infer.py\n",
      "infer_assuming_independence.py\n",
      "is_sorted.py\n",
      "log.py\n",
      "make_grid.py\n",
      "merge_2_dicts.py\n",
      "mesh.py\n",
      "normalize.py\n",
      "path.py\n",
      "plot_heat_map.py\n",
      "plot_mesh.py\n",
      "plot_plotly.py\n",
      "select_index.py\n",
      "unmesh.py\n"
     ]
    }
   ],
   "source": [
    "directory_path = \"../kraft\"\n",
    "\n",
    "import_lines = []\n",
    "\n",
    "for name in sorted(os.listdir(path=directory_path)):\n",
    "\n",
    "    if name != \"__init__.py\" and name[-3:] == \".py\":\n",
    "\n",
    "        print(name)\n",
    "\n",
    "        name_without_py = name[:-3]\n",
    "\n",
    "        if not (name_without_py.islower() or name_without_py.isupper()):\n",
    "\n",
    "            print(\"\\tHas mixed character case.\")\n",
    "\n",
    "        if name_without_py.isupper():\n",
    "\n",
    "            importable_names = [name_without_py]\n",
    "\n",
    "        else:\n",
    "\n",
    "            importable_names = []\n",
    "\n",
    "            with open(\"{}/{}\".format(directory_path, name)) as io:\n",
    "\n",
    "                for line in io.readlines():\n",
    "\n",
    "                    for prefix in (\"def \", \"class \"):\n",
    "\n",
    "                        prefix_length = len(prefix)\n",
    "\n",
    "                        if line[:prefix_length] == prefix:\n",
    "\n",
    "                            if \"(\" in line:\n",
    "\n",
    "                                separator = \"(\"\n",
    "\n",
    "                            elif \":\" in line:\n",
    "\n",
    "                                separator = \":\"\n",
    "\n",
    "                            importable_names.append(\n",
    "                                line.strip().split(separator)[0][len(prefix) :]\n",
    "                            )\n",
    "\n",
    "        assert len(importable_names) == 1\n",
    "\n",
    "        importable_name = importable_names[0]\n",
    "\n",
    "        assert importable_name == name_without_py\n",
    "\n",
    "        import_lines.append(\"from .{0} import {0}\".format(importable_name))\n",
    "\n",
    "with open(\"{}/__init__.py\".format(directory_path), mode=\"w\") as io:\n",
    "\n",
    "    io.writelines(\"\\n\".join(import_lines))"
   ]
  },
  {
   "cell_type": "code",
   "execution_count": 3,
   "metadata": {},
   "outputs": [
    {
     "name": "stdout",
     "output_type": "stream",
     "text": [
      "40\n"
     ]
    },
    {
     "data": {
      "text/plain": [
       "['COLORBAR',\n",
       " 'DATA_TYPE_COLORSCALE',\n",
       " 'RANDOM_SEED',\n",
       " '__builtins__',\n",
       " '__cached__',\n",
       " '__doc__',\n",
       " '__file__',\n",
       " '__loader__',\n",
       " '__name__',\n",
       " '__package__',\n",
       " '__path__',\n",
       " '__spec__',\n",
       " 'cast_builtin',\n",
       " 'clip_by_standard_deviation',\n",
       " 'compute_bandwidth',\n",
       " 'compute_joint_probability',\n",
       " 'compute_margin_of_error',\n",
       " 'compute_p_value',\n",
       " 'compute_p_values_and_false_discovery_rates',\n",
       " 'compute_posterior_probability',\n",
       " 'compute_set_enrichment',\n",
       " 'compute_set_enrichment_2',\n",
       " 'estimate_kernel_density',\n",
       " 'function_heat_map',\n",
       " 'function_ignoring_nan',\n",
       " 'get_clustering_index',\n",
       " 'infer',\n",
       " 'infer_assuming_independence',\n",
       " 'is_sorted',\n",
       " 'log',\n",
       " 'make_grid',\n",
       " 'merge_2_dicts',\n",
       " 'mesh',\n",
       " 'normalize',\n",
       " 'path',\n",
       " 'plot_heat_map',\n",
       " 'plot_mesh',\n",
       " 'plot_plotly',\n",
       " 'select_index',\n",
       " 'unmesh']"
      ]
     },
     "execution_count": 3,
     "metadata": {},
     "output_type": "execute_result"
    }
   ],
   "source": [
    "import kraft\n",
    "\n",
    "print(len(dir(kraft)))\n",
    "\n",
    "dir(kraft)"
   ]
  }
 ],
 "metadata": {
  "@webio": {
   "lastCommId": null,
   "lastKernelId": null
  },
  "kernelspec": {
   "display_name": "Python 3",
   "language": "python",
   "name": "python3"
  },
  "language_info": {
   "codemirror_mode": {
    "name": "ipython",
    "version": 3
   },
   "file_extension": ".py",
   "mimetype": "text/x-python",
   "name": "python",
   "nbconvert_exporter": "python",
   "pygments_lexer": "ipython3",
   "version": "3.7.3"
  }
 },
 "nbformat": 4,
 "nbformat_minor": 4
}
