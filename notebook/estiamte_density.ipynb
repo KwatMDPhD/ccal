{
 "cells": [
  {
   "cell_type": "code",
   "execution_count": 1,
   "metadata": {},
   "outputs": [],
   "source": [
    "%load_ext autoreload\n",
    "%autoreload 2"
   ]
  },
  {
   "cell_type": "code",
   "execution_count": 2,
   "metadata": {},
   "outputs": [],
   "source": [
    "import numpy as np\n",
    "\n",
    "import kraft"
   ]
  },
  {
   "cell_type": "code",
   "execution_count": 3,
   "metadata": {},
   "outputs": [
    {
     "name": "stdout",
     "output_type": "stream",
     "text": [
      "0.28392670814744386\n",
      "0.7692041681939302\n",
      "0.9322427646569755\n",
      "0.5139506174151903\n",
      "0.5118401085429668\n",
      "0.42615677889328946\n",
      "0.37622983360202544\n",
      "0.35949380786048557\n",
      "0.30519382188041155\n"
     ]
    }
   ],
   "source": [
    "for power in range(1, 10):\n",
    "\n",
    "    array = np.random.normal(size=2 ** power)\n",
    "\n",
    "    print(kraft.compute_bandwidth(array))"
   ]
  },
  {
   "cell_type": "code",
   "execution_count": null,
   "metadata": {},
   "outputs": [],
   "source": [
    "point_x_dimensions = (\n",
    "    np.asarray([[0], [1], [2],]),\n",
    "    np.asarray([[0, 0], [1, 2], [2, 4],]),\n",
    "    np.asarray([[0, 0, 0], [1, 2, 4], [2, 4, 8],]),\n",
    ")"
   ]
  },
  {
   "cell_type": "code",
   "execution_count": null,
   "metadata": {},
   "outputs": [],
   "source": [
    "for point_x_dimension in point_x_dimensions:\n",
    "\n",
    "    kraft.estimate_density(point_x_dimension)"
   ]
  },
  {
   "cell_type": "code",
   "execution_count": null,
   "metadata": {},
   "outputs": [],
   "source": [
    "for point_x_dimension in point_x_dimensions:\n",
    "\n",
    "    kraft.estimate_pdf(point_x_dimension)"
   ]
  },
  {
   "cell_type": "code",
   "execution_count": null,
   "metadata": {},
   "outputs": [],
   "source": [
    "for point_x_dimension in point_x_dimensions:\n",
    "\n",
    "    kraft.estimate_posterior_pdf(point_x_dimension)"
   ]
  }
 ],
 "metadata": {
  "kernelspec": {
   "display_name": "Python 3",
   "language": "python",
   "name": "python3"
  },
  "language_info": {
   "codemirror_mode": {
    "name": "ipython",
    "version": 3
   },
   "file_extension": ".py",
   "mimetype": "text/x-python",
   "name": "python",
   "nbconvert_exporter": "python",
   "pygments_lexer": "ipython3",
   "version": "3.7.6"
  }
 },
 "nbformat": 4,
 "nbformat_minor": 4
}
