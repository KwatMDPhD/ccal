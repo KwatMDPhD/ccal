{
 "cells": [
  {
   "cell_type": "code",
   "execution_count": null,
   "metadata": {},
   "outputs": [],
   "source": [
    "%load_ext autoreload\n",
    "%autoreload 2"
   ]
  },
  {
   "cell_type": "code",
   "execution_count": null,
   "metadata": {},
   "outputs": [],
   "source": [
    "import os\n",
    "import sys\n",
    "\n",
    "import numpy as np\n",
    "import pandas as pd\n",
    "import plotly as pl"
   ]
  },
  {
   "cell_type": "code",
   "execution_count": null,
   "metadata": {},
   "outputs": [],
   "source": [
    "sys.path.insert(0, \"..\")\n",
    "\n",
    "import ccal\n",
    "\n",
    "np.random.random(20121020)\n",
    "\n",
    "pl.offline.init_notebook_mode(connected=True)"
   ]
  },
  {
   "cell_type": "code",
   "execution_count": null,
   "metadata": {},
   "outputs": [],
   "source": [
    "def plot_R_norms(R_norms, title=None):\n",
    "\n",
    "    if title is None:\n",
    "\n",
    "        title = \"NMF Convergence\"\n",
    "\n",
    "    pl.offline.iplot(\n",
    "        dict(\n",
    "            layout=dict(\n",
    "                width=640,\n",
    "                height=640,\n",
    "                title=title,\n",
    "                xaxis=dict(title=\"Iteration\"),\n",
    "                yaxis=dict(title=\"Residual Matrix Norm\"),\n",
    "            ),\n",
    "            data=[\n",
    "                dict(type=\"scatter\", name=i, x=list(range(R_norms_.size)), y=R_norms_)\n",
    "                for i, R_norms_ in enumerate(R_norms)\n",
    "            ],\n",
    "        )\n",
    "    )"
   ]
  },
  {
   "cell_type": "code",
   "execution_count": null,
   "metadata": {},
   "outputs": [],
   "source": [
    "def plot_Ws_and_Hs(Ws, Hs):\n",
    "\n",
    "    for i, W in enumerate(Ws):\n",
    "\n",
    "        pl.offline.iplot(\n",
    "            dict(\n",
    "                layout=dict(\n",
    "                    width=320,\n",
    "                    height=640,\n",
    "                    title=\"W {}\".format(i),\n",
    "                    xaxis=dict(title=\"k\"),\n",
    "                    yaxis=dict(title=\"m\"),\n",
    "                ),\n",
    "                data=[\n",
    "                    dict(\n",
    "                        type=\"heatmap\", z=W[::-1], colorscale=\"Picnic\", showscale=False\n",
    "                    )\n",
    "                ],\n",
    "            )\n",
    "        )\n",
    "\n",
    "    for i, H in enumerate(Hs):\n",
    "\n",
    "        pl.offline.iplot(\n",
    "            dict(\n",
    "                layout=dict(\n",
    "                    width=640,\n",
    "                    height=320,\n",
    "                    title=\"H {}\".format(i),\n",
    "                    xaxis=dict(title=\"n\"),\n",
    "                    yaxis=dict(title=\"k\"),\n",
    "                ),\n",
    "                data=[\n",
    "                    dict(\n",
    "                        type=\"heatmap\", z=H[::-1], colorscale=\"Picnic\", showscale=False\n",
    "                    )\n",
    "                ],\n",
    "            )\n",
    "        )"
   ]
  },
  {
   "cell_type": "code",
   "execution_count": null,
   "metadata": {},
   "outputs": [],
   "source": [
    "m = 160\n",
    "\n",
    "n = 80\n",
    "\n",
    "V = np.random.random_sample(size=(m, n))\n",
    "\n",
    "V += abs(V.min())\n",
    "\n",
    "Vs = (V, V * 10)\n",
    "\n",
    "for V in Vs:\n",
    "\n",
    "    print(V.shape)"
   ]
  },
  {
   "cell_type": "code",
   "execution_count": null,
   "metadata": {},
   "outputs": [],
   "source": [
    "k = 2\n",
    "\n",
    "n_iteration = int(1e3)\n",
    "\n",
    "random_seed = 20121020"
   ]
  },
  {
   "cell_type": "code",
   "execution_count": null,
   "metadata": {},
   "outputs": [],
   "source": [
    "individual_R_norms = []\n",
    "\n",
    "for V in Vs:\n",
    "\n",
    "    W, H, R_norms = ccal.nmf_by_multiplicative_update(\n",
    "        V, k, n_iteration=n_iteration, random_seed=random_seed\n",
    "    )\n",
    "\n",
    "    plot_Ws_and_Hs((W,), (H,))\n",
    "\n",
    "    print(\"R norm (multiplicative_update): {:.2f}\".format(R_norms[-1]))\n",
    "\n",
    "    individual_R_norms.append(R_norms)\n",
    "\n",
    "    W_by_sklean, H_by_sklean, R_by_sklean = ccal.nmf_by_sklearn(\n",
    "        V, k, n_iteration=n_iteration, random_seed=random_seed\n",
    "    )\n",
    "\n",
    "    plot_Ws_and_Hs((W_by_sklean,), (H_by_sklean,))\n",
    "\n",
    "    print(\"R norm (sklean): {:.2f}\".format(R_by_sklean))\n",
    "\n",
    "plot_R_norms(individual_R_norms, title=\"NMF Independently\")"
   ]
  },
  {
   "cell_type": "code",
   "execution_count": null,
   "metadata": {},
   "outputs": [],
   "source": [
    "W, Hs, R_norms = ccal.nmf_by_multiple_V_and_H(\n",
    "    Vs, k, n_iteration=n_iteration, random_seed=random_seed\n",
    ")\n",
    "\n",
    "plot_Ws_and_Hs((W,), Hs)\n",
    "\n",
    "print(\n",
    "    \"R norm (multiple_V_and_H): {}\".format(\n",
    "        \", \".join(\"{:.2f}\".format(float_) for float_ in R_norms[:, -1])\n",
    "    )\n",
    ")\n",
    "\n",
    "plot_R_norms(R_norms, title=\"NMF Together\")"
   ]
  }
 ],
 "metadata": {
  "kernelspec": {
   "display_name": "Python 3",
   "language": "python",
   "name": "python3"
  },
  "language_info": {
   "codemirror_mode": {
    "name": "ipython",
    "version": 3
   },
   "file_extension": ".py",
   "mimetype": "text/x-python",
   "name": "python",
   "nbconvert_exporter": "python",
   "pygments_lexer": "ipython3",
   "version": "3.6.7"
  }
 },
 "nbformat": 4,
 "nbformat_minor": 2
}
