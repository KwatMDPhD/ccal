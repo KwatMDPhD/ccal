{
 "cells": [
  {
   "cell_type": "code",
   "execution_count": null,
   "metadata": {},
   "outputs": [],
   "source": [
    "%load_ext autoreload\n",
    "%autoreload 2"
   ]
  },
  {
   "cell_type": "code",
   "execution_count": null,
   "metadata": {},
   "outputs": [],
   "source": [
    "import numpy as np\n",
    "\n",
    "import kraft"
   ]
  },
  {
   "cell_type": "code",
   "execution_count": null,
   "metadata": {},
   "outputs": [],
   "source": [
    "v = np.random.random_sample(size=(8, 8))\n",
    "\n",
    "v_0 = np.random.random_sample(size=(v.shape[0], v.shape[0] * 2))\n",
    "\n",
    "v_1 = np.random.random_sample(size=(v.shape[0] * 2, v.shape[0]))\n",
    "\n",
    "r = 4"
   ]
  },
  {
   "cell_type": "markdown",
   "metadata": {},
   "source": [
    "## plot_matrix_factorization"
   ]
  },
  {
   "cell_type": "markdown",
   "metadata": {},
   "source": [
    "## factorize_matrix_by_nmf"
   ]
  },
  {
   "cell_type": "code",
   "execution_count": null,
   "metadata": {},
   "outputs": [],
   "source": [
    "w, h, error = kraft.matrix_factorization.factorize_matrix_by_nmf(v, r)\n",
    "\n",
    "kraft.matrix_factorization.plot_matrix_factorization((w,), (h,))"
   ]
  },
  {
   "cell_type": "markdown",
   "metadata": {},
   "source": [
    "## factorize_matrix"
   ]
  },
  {
   "cell_type": "code",
   "execution_count": null,
   "metadata": {},
   "outputs": [],
   "source": [
    "for v_, mode in ((v_1, \"ws\"), (v_0, \"hs\")):\n",
    "\n",
    "    print(mode)\n",
    "\n",
    "    ws, hs, errors = kraft.matrix_factorization.factorize_matrix((v, v_), mode, r)\n",
    "\n",
    "    kraft.matrix_factorization.plot_matrix_factorization(ws, hs, errors=errors)"
   ]
  }
 ],
 "metadata": {
  "kernelspec": {
   "display_name": "Python 3",
   "language": "python",
   "name": "python3"
  },
  "language_info": {
   "codemirror_mode": {
    "name": "ipython",
    "version": 3
   },
   "file_extension": ".py",
   "mimetype": "text/x-python",
   "name": "python",
   "nbconvert_exporter": "python",
   "pygments_lexer": "ipython3",
   "version": "3.7.8"
  }
 },
 "nbformat": 4,
 "nbformat_minor": 4
}
