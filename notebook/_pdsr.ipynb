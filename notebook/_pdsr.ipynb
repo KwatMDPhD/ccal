{
 "cells": [
  {
   "cell_type": "code",
   "execution_count": null,
   "metadata": {},
   "outputs": [],
   "source": [
    "%load_ext autoreload\n",
    "%autoreload 2"
   ]
  },
  {
   "cell_type": "code",
   "execution_count": null,
   "metadata": {
    "ExecuteTime": {
     "end_time": "2018-05-15T09:28:55.668422Z",
     "start_time": "2018-05-15T09:28:55.428950Z"
    }
   },
   "outputs": [],
   "source": [
    "import numpy as np\n",
    "import pandas as pd\n",
    "\n",
    "import kraft"
   ]
  },
  {
   "cell_type": "markdown",
   "metadata": {},
   "source": [
    "## get_extreme_labels"
   ]
  },
  {
   "cell_type": "code",
   "execution_count": null,
   "metadata": {},
   "outputs": [],
   "source": [
    "n = 100\n",
    "\n",
    "series = pd.Series(\n",
    "    np.random.normal(size=n),\n",
    "    index=pd.Index(\n",
    "        (\"Label {}\".format(i) for i in range(n)),\n",
    "        name=\"Axis\",\n",
    "    ),\n",
    "    name=\"Normal\",\n",
    ")\n",
    "\n",
    "for direction in (\n",
    "    \"<\",\n",
    "    \">\",\n",
    "    \"<>\",\n",
    "):\n",
    "\n",
    "    for keyword_arguments in (\n",
    "        {\"n\": 0.01},\n",
    "        {\"n\": 0.5},\n",
    "        {\"n\": 1},\n",
    "        {\"n\": 2},\n",
    "        {\"standard_deviation\": 1},\n",
    "        {\n",
    "            \"low_and_high\": (\n",
    "                -1,\n",
    "                1,\n",
    "            )\n",
    "        },\n",
    "    ):\n",
    "\n",
    "        print(\n",
    "            direction,\n",
    "            keyword_arguments,\n",
    "        )\n",
    "\n",
    "        kraft.table.get_extreme_labels(series, direction, **keyword_arguments)"
   ]
  },
  {
   "cell_type": "markdown",
   "metadata": {},
   "source": [
    "## normalize"
   ]
  },
  {
   "cell_type": "code",
   "execution_count": null,
   "metadata": {},
   "outputs": [],
   "source": [
    "vector = (\n",
    "    np.nan,\n",
    "    -1,\n",
    "    -1,\n",
    "    0,\n",
    "    0,\n",
    "    1,\n",
    "    1,\n",
    "    np.nan,\n",
    ")\n",
    "\n",
    "vector = pd.Series(\n",
    "    vector,\n",
    "    index=pd.Index(\n",
    "        (\"Label {}\".format(i) for i in range(len(vector))),\n",
    "        name=\"Axis\",\n",
    "    ),\n",
    "    name=\"Number\",\n",
    ")\n",
    "\n",
    "kraft.table.normalize(\n",
    "    vector,\n",
    "    \"rank\",\n",
    "    rank_method=\"dense\",\n",
    ")"
   ]
  },
  {
   "cell_type": "markdown",
   "metadata": {},
   "source": [
    "## binarize"
   ]
  },
  {
   "cell_type": "code",
   "execution_count": null,
   "metadata": {},
   "outputs": [],
   "source": [
    "objects = (\n",
    "    0,\n",
    "    2,\n",
    "    1,\n",
    "    None,\n",
    "    np.nan,\n",
    "    \"\",\n",
    "    \"Aa\",\n",
    ")\n",
    "\n",
    "series = pd.Series(\n",
    "    objects,\n",
    "    index=pd.Index(\n",
    "        (\"Label {}\".format(i) for i in range(len(objects))),\n",
    "        name=\"Axis\",\n",
    "    ),\n",
    "    name=\"Object\",\n",
    ")\n",
    "\n",
    "print(series)\n",
    "\n",
    "kraft.table.binarize(series)"
   ]
  }
 ],
 "metadata": {
  "kernelspec": {
   "display_name": "Python 3",
   "language": "python",
   "name": "python3"
  },
  "language_info": {
   "codemirror_mode": {
    "name": "ipython",
    "version": 3
   },
   "file_extension": ".py",
   "mimetype": "text/x-python",
   "name": "python",
   "nbconvert_exporter": "python",
   "pygments_lexer": "ipython3",
   "version": "3.8.9"
  }
 },
 "nbformat": 4,
 "nbformat_minor": 4
}
