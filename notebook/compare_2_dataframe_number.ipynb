{
 "cells": [
  {
   "cell_type": "code",
   "execution_count": null,
   "metadata": {},
   "outputs": [],
   "source": [
    "%load_ext autoreload\n",
    "%autoreload 2"
   ]
  },
  {
   "cell_type": "code",
   "execution_count": null,
   "metadata": {},
   "outputs": [],
   "source": [
    "import numpy as np\n",
    "import pandas as pd\n",
    "\n",
    "import kraft"
   ]
  },
  {
   "cell_type": "code",
   "execution_count": null,
   "metadata": {},
   "outputs": [],
   "source": [
    "n_row = 50\n",
    "\n",
    "n_column = 100\n",
    "\n",
    "dataframe_0_name = \"Name 0\"\n",
    "\n",
    "dataframe_0 = pd.DataFrame(\n",
    "    np.random.random_sample(size=(n_row, n_column)),\n",
    "    index=pd.Index((\"Row {}\".format(i) for i in range(n_row)), name=\"0 Row\"),\n",
    "    columns=pd.Index((\"Column {}\".format(i) for i in range(n_column)), name=\"0 Column\"),\n",
    ")\n",
    "\n",
    "dataframe_1_name = \"Name 1\"\n",
    "\n",
    "dataframe_1 = pd.DataFrame(\n",
    "    np.random.random_sample(size=(n_row, n_column)),\n",
    "    index=pd.Index((\"Row {}\".format(i) for i in range(n_row)), name=\"1 Row\"),\n",
    "    columns=pd.Index((\"Column {}\".format(i) for i in range(n_column)), name=\"1 Column\"),\n",
    ")\n",
    "\n",
    "axis = 0"
   ]
  },
  {
   "cell_type": "code",
   "execution_count": null,
   "metadata": {},
   "outputs": [],
   "source": [
    "if axis == 0:\n",
    "\n",
    "    common_indices = dataframe_0.index & dataframe_1.index\n",
    "\n",
    "    dataframes = (dataframe_0.loc[common_indices], dataframe_1.loc[common_indices])\n",
    "\n",
    "elif axis == 1:\n",
    "\n",
    "    common_columns = dataframe_0.columns & dataframe_1.columns\n",
    "\n",
    "    dataframes = (dataframe_0[common_indices], dataframe_1[common_indices])\n",
    "\n",
    "kraft.apply_function_on_slices_from_2_dataframes(\n",
    "    *(dataframes),\n",
    "    axis,\n",
    "    kraft.compute_information_coefficient_between_2_vectors,\n",
    "    layout={\n",
    "        \"xaxis\": {\"title\": {\"text\": dataframe_1_name}},\n",
    "        \"yaxis\": {\"title\": {\"text\": dataframe_0_name}},\n",
    "    },\n",
    ")"
   ]
  }
 ],
 "metadata": {
  "kernelspec": {
   "display_name": "Python 3",
   "language": "python",
   "name": "python3"
  },
  "language_info": {
   "codemirror_mode": {
    "name": "ipython",
    "version": 3
   },
   "file_extension": ".py",
   "mimetype": "text/x-python",
   "name": "python",
   "nbconvert_exporter": "python",
   "pygments_lexer": "ipython3",
   "version": "3.7.3"
  }
 },
 "nbformat": 4,
 "nbformat_minor": 4
}
