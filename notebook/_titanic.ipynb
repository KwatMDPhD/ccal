{
 "cells": [
  {
   "cell_type": "code",
   "execution_count": null,
   "metadata": {},
   "outputs": [],
   "source": [
    "%load_ext autoreload\n",
    "%autoreload 2"
   ]
  },
  {
   "cell_type": "code",
   "execution_count": null,
   "metadata": {},
   "outputs": [],
   "source": [
    "import numpy as np\n",
    "import pandas as pd\n",
    "import sklearn as skl\n",
    "\n",
    "import kraft"
   ]
  },
  {
   "cell_type": "code",
   "execution_count": null,
   "metadata": {
    "ExecuteTime": {
     "end_time": "2018-05-15T09:36:28.226979Z",
     "start_time": "2018-05-15T09:36:27.718823Z"
    }
   },
   "outputs": [],
   "source": [
    "df = pd.read_csv(\n",
    "    \"data/titanic.tsv\",\n",
    "    sep=\"\\t\",\n",
    "    usecols=[\n",
    "        \"sex\",\n",
    "        \"age\",\n",
    "        \"fare\",\n",
    "        \"survived\",\n",
    "    ],\n",
    ").dropna()\n",
    "\n",
    "df"
   ]
  },
  {
   "cell_type": "code",
   "execution_count": null,
   "metadata": {
    "ExecuteTime": {
     "end_time": "2018-05-15T09:36:32.320959Z",
     "start_time": "2018-05-15T09:36:28.241752Z"
    }
   },
   "outputs": [],
   "source": [
    "s0 = (df[\"sex\"] == \"male\").astype(int)\n",
    "\n",
    "s0.name = \"Sex\""
   ]
  },
  {
   "cell_type": "code",
   "execution_count": null,
   "metadata": {
    "ExecuteTime": {
     "end_time": "2018-05-15T09:36:32.320959Z",
     "start_time": "2018-05-15T09:36:28.241752Z"
    }
   },
   "outputs": [],
   "source": [
    "s1 = df[\"age\"]\n",
    "\n",
    "s1.name = \"Age\""
   ]
  },
  {
   "cell_type": "code",
   "execution_count": null,
   "metadata": {
    "ExecuteTime": {
     "end_time": "2018-05-15T09:36:32.320959Z",
     "start_time": "2018-05-15T09:36:28.241752Z"
    }
   },
   "outputs": [],
   "source": [
    "s2 = pd.Series(\n",
    "    kraft.array.log(df[\"fare\"].to_numpy() + 1),\n",
    "    index=df.index,\n",
    ")\n",
    "\n",
    "s2.name = \"Fare\""
   ]
  },
  {
   "cell_type": "code",
   "execution_count": null,
   "metadata": {
    "ExecuteTime": {
     "end_time": "2018-05-15T09:36:32.320959Z",
     "start_time": "2018-05-15T09:36:28.241752Z"
    }
   },
   "outputs": [],
   "source": [
    "st = df[\"survived\"]\n",
    "\n",
    "st.name = \"Survival\""
   ]
  },
  {
   "cell_type": "code",
   "execution_count": null,
   "metadata": {},
   "outputs": [],
   "source": [
    "def package(\n",
    "    s_,\n",
    "):\n",
    "\n",
    "    n_ = [s.name for s in s_]\n",
    "\n",
    "    (gn0, v0,) = kraft.probability.get_posterior_probability(\n",
    "        np.asarray(s_).T,\n",
    "        target=0,\n",
    "        plot=False,\n",
    "        dimension_name_=n_,\n",
    "        g1_=[\n",
    "            kraft.grid.make_g1(\n",
    "                s.min(),\n",
    "                s.max(),\n",
    "                1 / 8,\n",
    "                8,\n",
    "            )\n",
    "            for s in s_\n",
    "        ],\n",
    "    )\n",
    "\n",
    "    (gn, v,) = kraft.probability.get_posterior_probability(\n",
    "        np.asarray(s_).T,\n",
    "        target=1,\n",
    "        plot=True,\n",
    "        dimension_name_=n_,\n",
    "        g1_=[\n",
    "            kraft.grid.make_g1(\n",
    "                s.min(),\n",
    "                s.max(),\n",
    "                1 / 8,\n",
    "                8,\n",
    "            )\n",
    "            for s in s_\n",
    "        ],\n",
    "    )\n",
    "\n",
    "    return (\n",
    "        s_,\n",
    "        gn0,\n",
    "        v0,\n",
    "        gn,\n",
    "        v,\n",
    "    )"
   ]
  },
  {
   "cell_type": "code",
   "execution_count": null,
   "metadata": {},
   "outputs": [],
   "source": [
    "math = {}\n",
    "\n",
    "for s_ in [\n",
    "    [s0],\n",
    "    [s1],\n",
    "    [s2],\n",
    "    [\n",
    "        s0,\n",
    "        s1,\n",
    "    ],\n",
    "    [\n",
    "        s0,\n",
    "        s2,\n",
    "    ],\n",
    "    [\n",
    "        s1,\n",
    "        s2,\n",
    "    ],\n",
    "]:\n",
    "\n",
    "    math[\", \".join(s.name for s in s_)] = package(s_ + [st])"
   ]
  },
  {
   "cell_type": "code",
   "execution_count": null,
   "metadata": {
    "ExecuteTime": {
     "end_time": "2018-05-15T09:37:20.370751Z",
     "start_time": "2018-05-15T09:37:04.477354Z"
    }
   },
   "outputs": [],
   "source": [
    "roc = {}\n",
    "\n",
    "for (\n",
    "    n,\n",
    "    (\n",
    "        s_,\n",
    "        _,\n",
    "        _,\n",
    "        gn,\n",
    "        v,\n",
    "    ),\n",
    ") in math.items():\n",
    "\n",
    "    g1_ = kraft.grid.get_g1_(gn)\n",
    "\n",
    "    v = v.reshape([g1.size for g1 in g1_])\n",
    "\n",
    "    vt = np.full(\n",
    "        st.size,\n",
    "        np.nan,\n",
    "    )\n",
    "\n",
    "    for i in range(vt.size):\n",
    "\n",
    "        vt[i] = v[\n",
    "            tuple(\n",
    "                np.argmin(np.absolute(g1 - s.to_numpy()[i]))\n",
    "                for g1, s in zip(\n",
    "                    g1_,\n",
    "                    s_,\n",
    "                )\n",
    "            )\n",
    "        ]\n",
    "\n",
    "    (fpr, tpr, t,) = skl.metrics.roc_curve(\n",
    "        st.to_numpy(),\n",
    "        kraft.array.normalize(\n",
    "            vt,\n",
    "            \"0-1\",\n",
    "        ),\n",
    "    )\n",
    "\n",
    "    roc[n] = {\n",
    "        \"fpr\": fpr,\n",
    "        \"tpr\": tpr,\n",
    "        \"auc\": skl.metrics.auc(\n",
    "            fpr,\n",
    "            tpr,\n",
    "        ),\n",
    "    }"
   ]
  },
  {
   "cell_type": "code",
   "execution_count": null,
   "metadata": {
    "ExecuteTime": {
     "end_time": "2018-05-15T09:37:20.370751Z",
     "start_time": "2018-05-15T09:37:04.477354Z"
    }
   },
   "outputs": [],
   "source": [
    "kraft.plot.plot_plotly(\n",
    "    {\n",
    "        \"layout\": {\n",
    "            \"height\": 640,\n",
    "            \"width\": 800,\n",
    "            \"title\": {\"text\": \"Receiver Operating Characteristic\"},\n",
    "            \"xaxis\": {\"title\": \"False Positive Rate\"},\n",
    "            \"yaxis\": {\"title\": \"True Positive Rate\"},\n",
    "        },\n",
    "        \"data\": [\n",
    "            {\n",
    "                \"name\": \"Random = 0.50\",\n",
    "                \"x\": (\n",
    "                    0,\n",
    "                    1,\n",
    "                ),\n",
    "                \"y\": (\n",
    "                    0,\n",
    "                    1,\n",
    "                ),\n",
    "                \"mode\": \"lines\",\n",
    "                \"marker\": {\"color\": \"#d8d8d8\"},\n",
    "            },\n",
    "            *(\n",
    "                {\n",
    "                    \"name\": \"{} = {:.2f}\".format(\n",
    "                        name,\n",
    "                        roc[name][\"auc\"],\n",
    "                    ),\n",
    "                    \"x\": roc[name][\"fpr\"],\n",
    "                    \"y\": roc[name][\"tpr\"],\n",
    "                    \"mode\": \"lines\",\n",
    "                }\n",
    "                for name in roc\n",
    "            ),\n",
    "        ],\n",
    "    }\n",
    ")"
   ]
  },
  {
   "cell_type": "code",
   "execution_count": null,
   "metadata": {
    "ExecuteTime": {
     "end_time": "2018-05-15T09:37:20.971630Z",
     "start_time": "2018-05-15T09:37:20.665810Z"
    }
   },
   "outputs": [],
   "source": [
    "kraft.probability.plot_nomogram(\n",
    "    (st == 0).sum() / st.size,\n",
    "    (st == 1).sum() / st.size,\n",
    "    math.keys(),\n",
    "    [t[2] for t in math.values()],\n",
    "    [t[4] for t in math.values()],\n",
    ")"
   ]
  }
 ],
 "metadata": {
  "kernelspec": {
   "display_name": "Python 3",
   "language": "python",
   "name": "python3"
  },
  "language_info": {
   "codemirror_mode": {
    "name": "ipython",
    "version": 3
   },
   "file_extension": ".py",
   "mimetype": "text/x-python",
   "name": "python",
   "nbconvert_exporter": "python",
   "pygments_lexer": "ipython3",
   "version": "3.8.9"
  }
 },
 "nbformat": 4,
 "nbformat_minor": 4
}
