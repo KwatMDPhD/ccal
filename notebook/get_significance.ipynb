{
 "cells": [
  {
   "cell_type": "code",
   "execution_count": 1,
   "metadata": {},
   "outputs": [],
   "source": [
    "%load_ext autoreload\n",
    "%autoreload 2"
   ]
  },
  {
   "cell_type": "code",
   "execution_count": 2,
   "metadata": {},
   "outputs": [],
   "source": [
    "import numpy as np\n",
    "\n",
    "import kraft"
   ]
  },
  {
   "cell_type": "code",
   "execution_count": 3,
   "metadata": {},
   "outputs": [
    {
     "name": "stdout",
     "output_type": "stream",
     "text": [
      "random_sample\n",
      "0.0\n",
      "0.13738995364434142\n",
      "0.04974165572380757\n",
      "0.014684895735066405\n",
      "normal\n",
      "0.0\n",
      "0.3831260269364577\n",
      "0.16690262595641614\n",
      "0.05034389973194261\n"
     ]
    }
   ],
   "source": [
    "for function in (np.random.random_sample, np.random.normal):\n",
    "\n",
    "    print(function.__name__)\n",
    "\n",
    "    for power in range(4):\n",
    "\n",
    "        array = function(size=10 ** power)\n",
    "\n",
    "        print(kraft.get_moe(array))"
   ]
  },
  {
   "cell_type": "code",
   "execution_count": 4,
   "metadata": {},
   "outputs": [],
   "source": [
    "random_values = np.arange(10)\n",
    "\n",
    "values = np.asarray((0, 1, 8, 9))"
   ]
  },
  {
   "cell_type": "code",
   "execution_count": 5,
   "metadata": {},
   "outputs": [
    {
     "name": "stdout",
     "output_type": "stream",
     "text": [
      "0\n",
      "<\n",
      "0.1\n",
      ">\n",
      "1.0\n",
      "1\n",
      "<\n",
      "0.2\n",
      ">\n",
      "0.9\n",
      "8\n",
      "<\n",
      "0.9\n",
      ">\n",
      "0.2\n",
      "9\n",
      "<\n",
      "1.0\n",
      ">\n",
      "0.1\n"
     ]
    }
   ],
   "source": [
    "for value in values:\n",
    "\n",
    "    print(value)\n",
    "\n",
    "    for direction in (\"<\", \">\"):\n",
    "\n",
    "        print(direction)\n",
    "\n",
    "        print(kraft.get_p_value(value, random_values, direction))"
   ]
  },
  {
   "cell_type": "code",
   "execution_count": 6,
   "metadata": {},
   "outputs": [
    {
     "name": "stdout",
     "output_type": "stream",
     "text": [
      "(array([0.1, 0.2, 0.9, 1. ]), array([0.4, 0.4, 1. , 1. ]))\n",
      "(array([1. , 0.9, 0.2, 0.1]), array([1. , 1. , 0.4, 0.4]))\n",
      "(array([0.1, 0.2, 0.2, 0.1]), array([0.4, 0.4, 0.4, 0.4]))\n"
     ]
    }
   ],
   "source": [
    "for direction in (\"<\", \">\", \"<>\"):\n",
    "\n",
    "    print(kraft.get_p_values_and_q_values(values, random_values, direction))"
   ]
  }
 ],
 "metadata": {
  "kernelspec": {
   "display_name": "Python 3",
   "language": "python",
   "name": "python3"
  },
  "language_info": {
   "codemirror_mode": {
    "name": "ipython",
    "version": 3
   },
   "file_extension": ".py",
   "mimetype": "text/x-python",
   "name": "python",
   "nbconvert_exporter": "python",
   "pygments_lexer": "ipython3",
   "version": "3.7.6"
  }
 },
 "nbformat": 4,
 "nbformat_minor": 4
}
