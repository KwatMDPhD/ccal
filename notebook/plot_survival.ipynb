{
 "cells": [
  {
   "cell_type": "code",
   "execution_count": null,
   "metadata": {},
   "outputs": [],
   "source": [
    "%load_ext autoreload\n",
    "%autoreload 2"
   ]
  },
  {
   "cell_type": "code",
   "execution_count": null,
   "metadata": {},
   "outputs": [],
   "source": [
    "import os\n",
    "\n",
    "import numpy as np\n",
    "import pandas as pd\n",
    "import plotly as pl\n",
    "\n",
    "import ccal"
   ]
  },
  {
   "cell_type": "code",
   "execution_count": null,
   "metadata": {},
   "outputs": [],
   "source": [
    "np.random.seed(20121020)\n",
    "\n",
    "pl.offline.init_notebook_mode(connected=True)"
   ]
  },
  {
   "cell_type": "code",
   "execution_count": null,
   "metadata": {},
   "outputs": [],
   "source": [
    "sample_x_information = pd.read_csv(\n",
    "    \"/media/kwatme/CarrotCake/project/model_and_infer.tcga_rna_01_gbm/output/summary/sample_x_summary_information.tsv\",\n",
    "    sep=\"\\t\",\n",
    "    index_col=0,\n",
    ")"
   ]
  },
  {
   "cell_type": "code",
   "execution_count": null,
   "metadata": {},
   "outputs": [],
   "source": [
    "sample_lifetime = pd.read_csv(\n",
    "    \"/media/kwatme/CarrotCake/data/tcga/pancan_syn4557014_1.3.1/information/continuous_information_x_sample.tsv\",\n",
    "    sep=\"\\t\",\n",
    "    index_col=0,\n",
    ").loc[\"days_to_death\"]"
   ]
  },
  {
   "cell_type": "code",
   "execution_count": null,
   "metadata": {},
   "outputs": [],
   "source": [
    "import lifelines\n",
    "\n",
    "kaplan_meier_fitter = lifelines.KaplanMeierFitter()"
   ]
  },
  {
   "cell_type": "code",
   "execution_count": null,
   "metadata": {},
   "outputs": [],
   "source": [
    "import matplotlib as mpl\n",
    "\n",
    "figure = mpl.pyplot.figure(figsize=(8, 6), dpi=100)\n",
    "\n",
    "ax = figure.add_axes((0, 0, 1, 1))\n",
    "\n",
    "for cluster in sample_x_information[\"Cluster\"].sort_values().unique():\n",
    "\n",
    "    lifetime = sample_lifetime.loc[\n",
    "        sample_x_information.index[sample_x_information[\"Cluster\"] == cluster]\n",
    "    ]\n",
    "\n",
    "    kaplan_meier_fitter.fit(lifetime.dropna(), label=cluster)\n",
    "\n",
    "    kaplan_meier_fitter.plot(ax=ax, ci_show=False)\n",
    "\n",
    "ax.set_title(\"Survival Analysis\", fontdict={\"fontsize\": 20})\n",
    "\n",
    "ax.set_xlabel(\"Days to Death\", fontdict={\"fontsize\": 16})\n",
    "\n",
    "figure.savefig(\"survival_analysis.png\", bbox_inches=\"tight\")"
   ]
  }
 ],
 "metadata": {
  "kernelspec": {
   "display_name": "Python 3",
   "language": "python",
   "name": "python3"
  },
  "language_info": {
   "codemirror_mode": {
    "name": "ipython",
    "version": 3
   },
   "file_extension": ".py",
   "mimetype": "text/x-python",
   "name": "python",
   "nbconvert_exporter": "python",
   "pygments_lexer": "ipython3",
   "version": "3.6.7"
  }
 },
 "nbformat": 4,
 "nbformat_minor": 2
}
