{
 "cells": [
  {
   "cell_type": "code",
   "execution_count": null,
   "id": "25e3de9e-a73e-41da-8552-66347f96fcd5",
   "metadata": {
    "execution": {
     "iopub.execute_input": "2021-05-29T23:05:26.585700Z",
     "iopub.status.busy": "2021-05-29T23:05:26.584942Z",
     "iopub.status.idle": "2021-05-29T23:05:26.597766Z",
     "shell.execute_reply": "2021-05-29T23:05:26.598305Z"
    },
    "tags": []
   },
   "outputs": [],
   "source": [
    "%load_ext autoreload\n",
    "%autoreload 2"
   ]
  },
  {
   "cell_type": "code",
   "execution_count": null,
   "id": "a03dd6c6-3d6f-42c3-8a29-94dd6b57920f",
   "metadata": {
    "execution": {
     "iopub.execute_input": "2021-05-29T23:05:26.601832Z",
     "iopub.status.busy": "2021-05-29T23:05:26.601217Z",
     "iopub.status.idle": "2021-05-29T23:05:27.179226Z",
     "shell.execute_reply": "2021-05-29T23:05:27.179822Z"
    }
   },
   "outputs": [],
   "source": [
    "import kraft"
   ]
  },
  {
   "cell_type": "markdown",
   "id": "bf7e2496-6ddc-4dda-af61-4aa3dfa1996e",
   "metadata": {},
   "source": [
    "## check_is_iterable"
   ]
  },
  {
   "cell_type": "code",
   "execution_count": null,
   "id": "7ab6c29c-b266-4fc2-8cc5-5b6c06bfe272",
   "metadata": {
    "execution": {
     "iopub.execute_input": "2021-05-29T23:05:27.182924Z",
     "iopub.status.busy": "2021-05-29T23:05:27.182429Z",
     "iopub.status.idle": "2021-05-29T23:05:27.201187Z",
     "shell.execute_reply": "2021-05-29T23:05:27.201856Z"
    }
   },
   "outputs": [],
   "source": [
    "for an_ in [\n",
    "    [],\n",
    "    (),\n",
    "    \"\",\n",
    "    {},\n",
    "    1,\n",
    "    True,\n",
    "    None,\n",
    "]:\n",
    "\n",
    "    print(kraft.any_.check_is_iterable(an_))"
   ]
  },
  {
   "cell_type": "markdown",
   "id": "e8d9db8d-3e5e-4d50-b14f-93270947deb4",
   "metadata": {},
   "source": [
    "## flatten"
   ]
  },
  {
   "cell_type": "code",
   "execution_count": null,
   "id": "ae18020a-7a33-4129-9fb3-c0cb81158ad7",
   "metadata": {
    "execution": {
     "iopub.execute_input": "2021-05-29T23:05:27.205943Z",
     "iopub.status.busy": "2021-05-29T23:05:27.205361Z",
     "iopub.status.idle": "2021-05-29T23:05:27.228486Z",
     "shell.execute_reply": "2021-05-29T23:05:27.228918Z"
    }
   },
   "outputs": [],
   "source": [
    "kraft.any_.flatten(\n",
    "    [\n",
    "        (),\n",
    "        [],\n",
    "        set(),\n",
    "        (\n",
    "            1,\n",
    "            [\n",
    "                2,\n",
    "                {\n",
    "                    3,\n",
    "                    4,\n",
    "                },\n",
    "            ],\n",
    "        ),\n",
    "        [\n",
    "            \"ab\",\n",
    "            {\n",
    "                \"cd\",\n",
    "                (\n",
    "                    \"ef\",\n",
    "                    None,\n",
    "                    True,\n",
    "                ),\n",
    "            },\n",
    "        ],\n",
    "        {},\n",
    "        \"hello\",\n",
    "        \"world\",\n",
    "    ],\n",
    ")"
   ]
  },
  {
   "cell_type": "markdown",
   "id": "d50593e0-85ae-482e-a3a1-b6fe687861bb",
   "metadata": {},
   "source": [
    "## map_integer"
   ]
  },
  {
   "cell_type": "code",
   "execution_count": null,
   "id": "22477bc8-36f6-4fc0-8eb2-5ea7d1ebca60",
   "metadata": {
    "execution": {
     "iopub.execute_input": "2021-05-29T23:05:27.231791Z",
     "iopub.status.busy": "2021-05-29T23:05:27.231246Z",
     "iopub.status.idle": "2021-05-29T23:05:27.248838Z",
     "shell.execute_reply": "2021-05-29T23:05:27.249200Z"
    }
   },
   "outputs": [],
   "source": [
    "import numpy as np"
   ]
  },
  {
   "cell_type": "code",
   "execution_count": null,
   "id": "bf7e99a6-0cd1-4adf-92e1-1f51c548818c",
   "metadata": {
    "execution": {
     "iopub.execute_input": "2021-05-29T23:05:27.252214Z",
     "iopub.status.busy": "2021-05-29T23:05:27.251621Z",
     "iopub.status.idle": "2021-05-29T23:05:27.268652Z",
     "shell.execute_reply": "2021-05-29T23:05:27.269179Z"
    }
   },
   "outputs": [],
   "source": [
    "an_ = [\n",
    "    \"a\",\n",
    "    \"b\",\n",
    "    \"b\",\n",
    "    \"c\",\n",
    "    None,\n",
    "    None,\n",
    "    np.nan,\n",
    "    np.nan,\n",
    "]"
   ]
  },
  {
   "cell_type": "code",
   "execution_count": null,
   "id": "ed09c1e1-a592-40a9-b3f7-a6a03d00981f",
   "metadata": {
    "execution": {
     "iopub.execute_input": "2021-05-29T23:05:27.272135Z",
     "iopub.status.busy": "2021-05-29T23:05:27.271637Z",
     "iopub.status.idle": "2021-05-29T23:05:27.289830Z",
     "shell.execute_reply": "2021-05-29T23:05:27.290385Z"
    }
   },
   "outputs": [],
   "source": [
    "kraft.any_.map_integer(an_)"
   ]
  },
  {
   "cell_type": "code",
   "execution_count": null,
   "id": "2f8c63e4-b8e9-4078-b3d1-b3bfac752842",
   "metadata": {
    "execution": {
     "iopub.execute_input": "2021-05-29T23:05:27.293286Z",
     "iopub.status.busy": "2021-05-29T23:05:27.292789Z",
     "iopub.status.idle": "2021-05-29T23:05:27.311210Z",
     "shell.execute_reply": "2021-05-29T23:05:27.311602Z"
    }
   },
   "outputs": [],
   "source": [
    "kraft.any_.map_integer(an_[::-1])"
   ]
  },
  {
   "cell_type": "markdown",
   "id": "22bb6bdd-8c00-4829-ae0d-cb60177c98d7",
   "metadata": {},
   "source": [
    "## check_is_in"
   ]
  },
  {
   "cell_type": "code",
   "execution_count": null,
   "id": "1b278a26-f5d9-421a-85cb-0ba8505027f6",
   "metadata": {
    "execution": {
     "iopub.execute_input": "2021-05-29T23:05:27.315443Z",
     "iopub.status.busy": "2021-05-29T23:05:27.314939Z",
     "iopub.status.idle": "2021-05-29T23:05:27.332483Z",
     "shell.execute_reply": "2021-05-29T23:05:27.332843Z"
    }
   },
   "outputs": [],
   "source": [
    "for (an1_, an2_,) in [\n",
    "    [\n",
    "        [\n",
    "            1,\n",
    "            10,\n",
    "        ],\n",
    "        range(10),\n",
    "    ],\n",
    "    [\n",
    "        range(10),\n",
    "        [\n",
    "            1,\n",
    "            10,\n",
    "        ],\n",
    "    ],\n",
    "    [\n",
    "        \"az\",\n",
    "        \"abc\",\n",
    "    ],\n",
    "    [\n",
    "        [\n",
    "            \"a\",\n",
    "            \"z\",\n",
    "        ],\n",
    "        \"abc\",\n",
    "    ],\n",
    "    [\n",
    "        [],\n",
    "        [],\n",
    "    ],\n",
    "]:\n",
    "\n",
    "    print(\n",
    "        kraft.any_.check_is_in(\n",
    "            an1_,\n",
    "            an2_,\n",
    "        )\n",
    "    )"
   ]
  }
 ],
 "metadata": {
  "kernelspec": {
   "display_name": "Python 3",
   "language": "python",
   "name": "python3"
  },
  "language_info": {
   "codemirror_mode": {
    "name": "ipython",
    "version": 3
   },
   "file_extension": ".py",
   "mimetype": "text/x-python",
   "name": "python",
   "nbconvert_exporter": "python",
   "pygments_lexer": "ipython3",
   "version": "3.8.9"
  }
 },
 "nbformat": 4,
 "nbformat_minor": 5
}
