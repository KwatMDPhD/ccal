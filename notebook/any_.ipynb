{
 "cells": [
  {
   "cell_type": "code",
   "execution_count": null,
   "id": "25e3de9e-a73e-41da-8552-66347f96fcd5",
   "metadata": {
    "execution": {
     "iopub.execute_input": "2021-05-29T18:49:15.657912Z",
     "iopub.status.busy": "2021-05-29T18:49:15.657272Z",
     "iopub.status.idle": "2021-05-29T18:49:15.669983Z",
     "shell.execute_reply": "2021-05-29T18:49:15.670483Z"
    },
    "tags": []
   },
   "outputs": [],
   "source": [
    "%load_ext autoreload\n",
    "%autoreload 2"
   ]
  },
  {
   "cell_type": "code",
   "execution_count": null,
   "id": "a03dd6c6-3d6f-42c3-8a29-94dd6b57920f",
   "metadata": {
    "execution": {
     "iopub.execute_input": "2021-05-29T18:49:15.673886Z",
     "iopub.status.busy": "2021-05-29T18:49:15.673284Z",
     "iopub.status.idle": "2021-05-29T18:49:15.973765Z",
     "shell.execute_reply": "2021-05-29T18:49:15.974644Z"
    }
   },
   "outputs": [],
   "source": [
    "import kraft"
   ]
  },
  {
   "cell_type": "markdown",
   "id": "bf7e2496-6ddc-4dda-af61-4aa3dfa1996e",
   "metadata": {},
   "source": [
    "## check_is_iterable"
   ]
  },
  {
   "cell_type": "code",
   "execution_count": null,
   "id": "7ab6c29c-b266-4fc2-8cc5-5b6c06bfe272",
   "metadata": {
    "execution": {
     "iopub.execute_input": "2021-05-29T18:49:15.978417Z",
     "iopub.status.busy": "2021-05-29T18:49:15.977843Z",
     "iopub.status.idle": "2021-05-29T18:49:15.991578Z",
     "shell.execute_reply": "2021-05-29T18:49:15.992162Z"
    }
   },
   "outputs": [],
   "source": [
    "for an_ in [\n",
    "    [],\n",
    "    (),\n",
    "    \"\",\n",
    "    {},\n",
    "    1,\n",
    "    True,\n",
    "    None,\n",
    "]:\n",
    "\n",
    "    print(kraft.any_.check_is_iterable(an_))"
   ]
  },
  {
   "cell_type": "markdown",
   "id": "e8d9db8d-3e5e-4d50-b14f-93270947deb4",
   "metadata": {},
   "source": [
    "## flatten"
   ]
  },
  {
   "cell_type": "code",
   "execution_count": null,
   "id": "ae18020a-7a33-4129-9fb3-c0cb81158ad7",
   "metadata": {
    "execution": {
     "iopub.execute_input": "2021-05-29T18:49:15.995724Z",
     "iopub.status.busy": "2021-05-29T18:49:15.995077Z",
     "iopub.status.idle": "2021-05-29T18:49:16.013093Z",
     "shell.execute_reply": "2021-05-29T18:49:16.012545Z"
    }
   },
   "outputs": [],
   "source": [
    "kraft.any_.flatten(\n",
    "    [\n",
    "        (),\n",
    "        [],\n",
    "        set(),\n",
    "        (\n",
    "            1,\n",
    "            [\n",
    "                2,\n",
    "                {\n",
    "                    3,\n",
    "                    4,\n",
    "                },\n",
    "            ],\n",
    "        ),\n",
    "        [\n",
    "            \"ab\",\n",
    "            {\n",
    "                \"cd\",\n",
    "                (\n",
    "                    \"ef\",\n",
    "                    None,\n",
    "                    True,\n",
    "                ),\n",
    "            },\n",
    "        ],\n",
    "        {},\n",
    "        \"hello\",\n",
    "        \"world\",\n",
    "    ],\n",
    ")"
   ]
  },
  {
   "cell_type": "markdown",
   "id": "d50593e0-85ae-482e-a3a1-b6fe687861bb",
   "metadata": {},
   "source": [
    "## map_integer"
   ]
  },
  {
   "cell_type": "code",
   "execution_count": null,
   "id": "22477bc8-36f6-4fc0-8eb2-5ea7d1ebca60",
   "metadata": {
    "execution": {
     "iopub.execute_input": "2021-05-29T18:49:16.016271Z",
     "iopub.status.busy": "2021-05-29T18:49:16.015642Z",
     "iopub.status.idle": "2021-05-29T18:49:16.027752Z",
     "shell.execute_reply": "2021-05-29T18:49:16.028110Z"
    }
   },
   "outputs": [],
   "source": [
    "import numpy as np"
   ]
  },
  {
   "cell_type": "code",
   "execution_count": null,
   "id": "bf7e99a6-0cd1-4adf-92e1-1f51c548818c",
   "metadata": {
    "execution": {
     "iopub.execute_input": "2021-05-29T18:49:16.031131Z",
     "iopub.status.busy": "2021-05-29T18:49:16.030558Z",
     "iopub.status.idle": "2021-05-29T18:49:16.042230Z",
     "shell.execute_reply": "2021-05-29T18:49:16.042618Z"
    }
   },
   "outputs": [],
   "source": [
    "an_ = [\n",
    "    \"a\",\n",
    "    \"b\",\n",
    "    \"b\",\n",
    "    \"c\",\n",
    "    None,\n",
    "    None,\n",
    "    np.nan,\n",
    "    np.nan,\n",
    "]"
   ]
  },
  {
   "cell_type": "code",
   "execution_count": null,
   "id": "ed09c1e1-a592-40a9-b3f7-a6a03d00981f",
   "metadata": {
    "execution": {
     "iopub.execute_input": "2021-05-29T18:49:16.045812Z",
     "iopub.status.busy": "2021-05-29T18:49:16.045282Z",
     "iopub.status.idle": "2021-05-29T18:49:16.059340Z",
     "shell.execute_reply": "2021-05-29T18:49:16.059795Z"
    }
   },
   "outputs": [],
   "source": [
    "kraft.any_.map_integer(an_)"
   ]
  },
  {
   "cell_type": "code",
   "execution_count": null,
   "id": "2f8c63e4-b8e9-4078-b3d1-b3bfac752842",
   "metadata": {
    "execution": {
     "iopub.execute_input": "2021-05-29T18:49:16.062794Z",
     "iopub.status.busy": "2021-05-29T18:49:16.062269Z",
     "iopub.status.idle": "2021-05-29T18:49:16.076468Z",
     "shell.execute_reply": "2021-05-29T18:49:16.076931Z"
    }
   },
   "outputs": [],
   "source": [
    "kraft.any_.map_integer(an_[::-1])"
   ]
  },
  {
   "cell_type": "markdown",
   "id": "22bb6bdd-8c00-4829-ae0d-cb60177c98d7",
   "metadata": {},
   "source": [
    "## check_is_in"
   ]
  },
  {
   "cell_type": "code",
   "execution_count": null,
   "id": "1b278a26-f5d9-421a-85cb-0ba8505027f6",
   "metadata": {
    "execution": {
     "iopub.execute_input": "2021-05-29T18:49:16.080505Z",
     "iopub.status.busy": "2021-05-29T18:49:16.079994Z",
     "iopub.status.idle": "2021-05-29T18:49:16.092444Z",
     "shell.execute_reply": "2021-05-29T18:49:16.092928Z"
    }
   },
   "outputs": [],
   "source": [
    "for (an1_, an2_,) in [\n",
    "    [\n",
    "        [\n",
    "            1,\n",
    "            10,\n",
    "        ],\n",
    "        range(10),\n",
    "    ],\n",
    "    [\n",
    "        range(10),\n",
    "        [\n",
    "            1,\n",
    "            10,\n",
    "        ],\n",
    "    ],\n",
    "    [\n",
    "        \"az\",\n",
    "        \"abc\",\n",
    "    ],\n",
    "    [\n",
    "        [\n",
    "            \"a\",\n",
    "            \"z\",\n",
    "        ],\n",
    "        \"abc\",\n",
    "    ],\n",
    "    [\n",
    "        [],\n",
    "        [],\n",
    "    ],\n",
    "]:\n",
    "\n",
    "    print(\n",
    "        kraft.any_.check_is_in(\n",
    "            an1_,\n",
    "            an2_,\n",
    "        )\n",
    "    )"
   ]
  }
 ],
 "metadata": {
  "kernelspec": {
   "display_name": "Python 3",
   "language": "python",
   "name": "python3"
  },
  "language_info": {
   "codemirror_mode": {
    "name": "ipython",
    "version": 3
   },
   "file_extension": ".py",
   "mimetype": "text/x-python",
   "name": "python",
   "nbconvert_exporter": "python",
   "pygments_lexer": "ipython3",
   "version": "3.8.9"
  }
 },
 "nbformat": 4,
 "nbformat_minor": 5
}
