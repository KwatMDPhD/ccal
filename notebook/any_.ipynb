{
 "cells": [
  {
   "cell_type": "code",
   "execution_count": null,
   "id": "25e3de9e-a73e-41da-8552-66347f96fcd5",
   "metadata": {
    "execution": {
     "iopub.execute_input": "2021-05-31T22:26:49.896917Z",
     "iopub.status.busy": "2021-05-31T22:26:49.896075Z",
     "iopub.status.idle": "2021-05-31T22:26:49.911272Z",
     "shell.execute_reply": "2021-05-31T22:26:49.911752Z"
    },
    "tags": []
   },
   "outputs": [],
   "source": [
    "%load_ext autoreload\n",
    "%autoreload 2"
   ]
  },
  {
   "cell_type": "code",
   "execution_count": null,
   "id": "a03dd6c6-3d6f-42c3-8a29-94dd6b57920f",
   "metadata": {
    "execution": {
     "iopub.execute_input": "2021-05-31T22:26:49.915436Z",
     "iopub.status.busy": "2021-05-31T22:26:49.914828Z",
     "iopub.status.idle": "2021-05-31T22:26:50.478365Z",
     "shell.execute_reply": "2021-05-31T22:26:50.478762Z"
    }
   },
   "outputs": [],
   "source": [
    "import kraft"
   ]
  },
  {
   "cell_type": "markdown",
   "id": "bf7e2496-6ddc-4dda-af61-4aa3dfa1996e",
   "metadata": {},
   "source": [
    "## check_is_iterable"
   ]
  },
  {
   "cell_type": "code",
   "execution_count": null,
   "id": "7ab6c29c-b266-4fc2-8cc5-5b6c06bfe272",
   "metadata": {
    "execution": {
     "iopub.execute_input": "2021-05-31T22:26:50.482170Z",
     "iopub.status.busy": "2021-05-31T22:26:50.481598Z",
     "iopub.status.idle": "2021-05-31T22:26:50.500497Z",
     "shell.execute_reply": "2021-05-31T22:26:50.500951Z"
    }
   },
   "outputs": [],
   "source": [
    "for an_ in [[], (), \"\", {}, 1, True, None]:\n",
    "\n",
    "    print(kraft.any_.check_is_iterable(an_))"
   ]
  },
  {
   "cell_type": "markdown",
   "id": "e8d9db8d-3e5e-4d50-b14f-93270947deb4",
   "metadata": {},
   "source": [
    "## flatten"
   ]
  },
  {
   "cell_type": "code",
   "execution_count": null,
   "id": "ae18020a-7a33-4129-9fb3-c0cb81158ad7",
   "metadata": {
    "execution": {
     "iopub.execute_input": "2021-05-31T22:26:50.504714Z",
     "iopub.status.busy": "2021-05-31T22:26:50.504187Z",
     "iopub.status.idle": "2021-05-31T22:26:50.525709Z",
     "shell.execute_reply": "2021-05-31T22:26:50.526225Z"
    }
   },
   "outputs": [],
   "source": [
    "kraft.any_.flatten(\n",
    "    [\n",
    "        (),\n",
    "        [],\n",
    "        set(),\n",
    "        (1, [2, {3, 4}]),\n",
    "        [\"ab\", {\"cd\", (\"ef\", None, True)}],\n",
    "        {},\n",
    "        \"hello\",\n",
    "        \"world\",\n",
    "    ]\n",
    ")"
   ]
  },
  {
   "cell_type": "markdown",
   "id": "d50593e0-85ae-482e-a3a1-b6fe687861bb",
   "metadata": {},
   "source": [
    "## map_integer"
   ]
  },
  {
   "cell_type": "code",
   "execution_count": null,
   "id": "22477bc8-36f6-4fc0-8eb2-5ea7d1ebca60",
   "metadata": {
    "execution": {
     "iopub.execute_input": "2021-05-31T22:26:50.529044Z",
     "iopub.status.busy": "2021-05-31T22:26:50.528542Z",
     "iopub.status.idle": "2021-05-31T22:26:50.544752Z",
     "shell.execute_reply": "2021-05-31T22:26:50.545282Z"
    }
   },
   "outputs": [],
   "source": [
    "import numpy as np"
   ]
  },
  {
   "cell_type": "code",
   "execution_count": null,
   "id": "bf7e99a6-0cd1-4adf-92e1-1f51c548818c",
   "metadata": {
    "execution": {
     "iopub.execute_input": "2021-05-31T22:26:50.548302Z",
     "iopub.status.busy": "2021-05-31T22:26:50.547761Z",
     "iopub.status.idle": "2021-05-31T22:26:50.565012Z",
     "shell.execute_reply": "2021-05-31T22:26:50.565387Z"
    }
   },
   "outputs": [],
   "source": [
    "an_ = [\"a\", \"b\", \"b\", \"c\", None, None, np.nan, np.nan]"
   ]
  },
  {
   "cell_type": "code",
   "execution_count": null,
   "id": "ed09c1e1-a592-40a9-b3f7-a6a03d00981f",
   "metadata": {
    "execution": {
     "iopub.execute_input": "2021-05-31T22:26:50.568598Z",
     "iopub.status.busy": "2021-05-31T22:26:50.568017Z",
     "iopub.status.idle": "2021-05-31T22:26:50.587519Z",
     "shell.execute_reply": "2021-05-31T22:26:50.587939Z"
    }
   },
   "outputs": [],
   "source": [
    "kraft.any_.map_integer(an_)"
   ]
  },
  {
   "cell_type": "code",
   "execution_count": null,
   "id": "2f8c63e4-b8e9-4078-b3d1-b3bfac752842",
   "metadata": {
    "execution": {
     "iopub.execute_input": "2021-05-31T22:26:50.591216Z",
     "iopub.status.busy": "2021-05-31T22:26:50.590672Z",
     "iopub.status.idle": "2021-05-31T22:26:50.607868Z",
     "shell.execute_reply": "2021-05-31T22:26:50.608224Z"
    }
   },
   "outputs": [],
   "source": [
    "kraft.any_.map_integer(an_[::-1])"
   ]
  },
  {
   "cell_type": "markdown",
   "id": "22bb6bdd-8c00-4829-ae0d-cb60177c98d7",
   "metadata": {},
   "source": [
    "## check_is_in"
   ]
  },
  {
   "cell_type": "code",
   "execution_count": null,
   "id": "1b278a26-f5d9-421a-85cb-0ba8505027f6",
   "metadata": {
    "execution": {
     "iopub.execute_input": "2021-05-31T22:26:50.612000Z",
     "iopub.status.busy": "2021-05-31T22:26:50.611497Z",
     "iopub.status.idle": "2021-05-31T22:26:50.628680Z",
     "shell.execute_reply": "2021-05-31T22:26:50.629035Z"
    }
   },
   "outputs": [],
   "source": [
    "for (an1_, an2_) in [\n",
    "    [[1, 10], range(10)],\n",
    "    [range(10), [1, 10]],\n",
    "    [\"az\", \"abc\"],\n",
    "    [[\"a\", \"z\"], \"abc\"],\n",
    "    [[], []],\n",
    "]:\n",
    "\n",
    "    print(kraft.any_.check_is_in(an1_, an2_))"
   ]
  }
 ],
 "metadata": {
  "kernelspec": {
   "display_name": "Python 3",
   "language": "python",
   "name": "python3"
  },
  "language_info": {
   "codemirror_mode": {
    "name": "ipython",
    "version": 3
   },
   "file_extension": ".py",
   "mimetype": "text/x-python",
   "name": "python",
   "nbconvert_exporter": "python",
   "pygments_lexer": "ipython3",
   "version": "3.8.9"
  }
 },
 "nbformat": 4,
 "nbformat_minor": 5
}
