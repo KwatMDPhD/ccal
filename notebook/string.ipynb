{
 "cells": [
  {
   "cell_type": "code",
   "execution_count": null,
   "metadata": {
    "execution": {
     "iopub.execute_input": "2021-05-30T23:49:17.424198Z",
     "iopub.status.busy": "2021-05-30T23:49:17.423436Z",
     "iopub.status.idle": "2021-05-30T23:49:17.438130Z",
     "shell.execute_reply": "2021-05-30T23:49:17.438581Z"
    }
   },
   "outputs": [],
   "source": [
    "%load_ext autoreload\n",
    "%autoreload 2"
   ]
  },
  {
   "cell_type": "code",
   "execution_count": null,
   "metadata": {
    "execution": {
     "iopub.execute_input": "2021-05-30T23:49:17.442216Z",
     "iopub.status.busy": "2021-05-30T23:49:17.441616Z",
     "iopub.status.idle": "2021-05-30T23:49:17.980253Z",
     "shell.execute_reply": "2021-05-30T23:49:17.980647Z"
    }
   },
   "outputs": [],
   "source": [
    "import kraft"
   ]
  },
  {
   "cell_type": "markdown",
   "metadata": {},
   "source": [
    "## title"
   ]
  },
  {
   "cell_type": "code",
   "execution_count": null,
   "metadata": {
    "execution": {
     "iopub.execute_input": "2021-05-30T23:49:17.984154Z",
     "iopub.status.busy": "2021-05-30T23:49:17.983593Z",
     "iopub.status.idle": "2021-05-30T23:49:18.002056Z",
     "shell.execute_reply": "2021-05-30T23:49:18.002410Z"
    }
   },
   "outputs": [],
   "source": [
    "for st in [\n",
    "    \"DNA\",\n",
    "    \"to RNA\",\n",
    "    \"DNA to RNA to protein\",\n",
    "    \"Gain-of-function mutation\",\n",
    "    \"I'm he's she's we're\",\n",
    "]:\n",
    "\n",
    "    print(kraft.string.title(st))"
   ]
  },
  {
   "cell_type": "markdown",
   "metadata": {},
   "source": [
    "## untitle"
   ]
  },
  {
   "cell_type": "code",
   "execution_count": null,
   "metadata": {
    "execution": {
     "iopub.execute_input": "2021-05-30T23:49:18.005408Z",
     "iopub.status.busy": "2021-05-30T23:49:18.004895Z",
     "iopub.status.idle": "2021-05-30T23:49:18.022228Z",
     "shell.execute_reply": "2021-05-30T23:49:18.022627Z"
    }
   },
   "outputs": [],
   "source": [
    "for st in [\n",
    "    \"DNA\",\n",
    "    \"to RNA\",\n",
    "    \"DNA to RNA to protein\",\n",
    "    \"Gain-of-function mutation\",\n",
    "    \"I'm he's she's we're\",\n",
    "]:\n",
    "\n",
    "    print(kraft.string.untitle(st))"
   ]
  },
  {
   "cell_type": "markdown",
   "metadata": {},
   "source": [
    "## check_is_version"
   ]
  },
  {
   "cell_type": "code",
   "execution_count": null,
   "metadata": {
    "execution": {
     "iopub.execute_input": "2021-05-30T23:49:18.025802Z",
     "iopub.status.busy": "2021-05-30T23:49:18.025275Z",
     "iopub.status.idle": "2021-05-30T23:49:18.042666Z",
     "shell.execute_reply": "2021-05-30T23:49:18.043046Z"
    }
   },
   "outputs": [],
   "source": [
    "for st in [\n",
    "    \"1\",\n",
    "    \"1.\",\n",
    "    \"1.2\",\n",
    "    \"1.2.\",\n",
    "    \"1.2.3\",\n",
    "    \"1.2.3.\",\n",
    "    \"01.2.3\",\n",
    "    \"1.02.3\",\n",
    "    \"1.2.03\",\n",
    "    \"1x2x3\",\n",
    "    \"11.22.33\",\n",
    "]:\n",
    "\n",
    "    print(kraft.string.check_is_version(st))"
   ]
  },
  {
   "cell_type": "markdown",
   "metadata": {},
   "source": [
    "## split"
   ]
  },
  {
   "cell_type": "code",
   "execution_count": null,
   "metadata": {
    "execution": {
     "iopub.execute_input": "2021-05-30T23:49:18.046322Z",
     "iopub.status.busy": "2021-05-30T23:49:18.045752Z",
     "iopub.status.idle": "2021-05-30T23:49:18.062225Z",
     "shell.execute_reply": "2021-05-30T23:49:18.062590Z"
    }
   },
   "outputs": [],
   "source": [
    "for st in ['It said \"Hello World\"', \"It said 'Hello World'\", \"I'm he's she's we're\"]:\n",
    "\n",
    "    print(kraft.string.split(st))"
   ]
  },
  {
   "cell_type": "markdown",
   "metadata": {},
   "source": [
    "## make_unique"
   ]
  },
  {
   "cell_type": "code",
   "execution_count": null,
   "metadata": {
    "execution": {
     "iopub.execute_input": "2021-05-30T23:49:18.065424Z",
     "iopub.status.busy": "2021-05-30T23:49:18.064909Z",
     "iopub.status.idle": "2021-05-30T23:49:18.084585Z",
     "shell.execute_reply": "2021-05-30T23:49:18.084991Z"
    }
   },
   "outputs": [],
   "source": [
    "kraft.string.make_unique([\"a\", \"a\", \"a\", \"b\", \"b\", \"b\", \"a\", \"b\", \"\", \"\"])"
   ]
  }
 ],
 "metadata": {
  "kernelspec": {
   "display_name": "Python 3",
   "language": "python",
   "name": "python3"
  },
  "language_info": {
   "codemirror_mode": {
    "name": "ipython",
    "version": 3
   },
   "file_extension": ".py",
   "mimetype": "text/x-python",
   "name": "python",
   "nbconvert_exporter": "python",
   "pygments_lexer": "ipython3",
   "version": "3.8.9"
  }
 },
 "nbformat": 4,
 "nbformat_minor": 4
}
