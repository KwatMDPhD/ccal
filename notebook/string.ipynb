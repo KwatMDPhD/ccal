{
 "cells": [
  {
   "cell_type": "code",
   "execution_count": null,
   "metadata": {
    "execution": {
     "iopub.execute_input": "2021-05-29T18:49:27.708884Z",
     "iopub.status.busy": "2021-05-29T18:49:27.707940Z",
     "iopub.status.idle": "2021-05-29T18:49:27.721926Z",
     "shell.execute_reply": "2021-05-29T18:49:27.722375Z"
    }
   },
   "outputs": [],
   "source": [
    "%load_ext autoreload\n",
    "%autoreload 2"
   ]
  },
  {
   "cell_type": "code",
   "execution_count": null,
   "metadata": {
    "execution": {
     "iopub.execute_input": "2021-05-29T18:49:27.725880Z",
     "iopub.status.busy": "2021-05-29T18:49:27.725292Z",
     "iopub.status.idle": "2021-05-29T18:49:28.012307Z",
     "shell.execute_reply": "2021-05-29T18:49:28.012671Z"
    }
   },
   "outputs": [],
   "source": [
    "import kraft"
   ]
  },
  {
   "cell_type": "markdown",
   "metadata": {},
   "source": [
    "## title"
   ]
  },
  {
   "cell_type": "code",
   "execution_count": null,
   "metadata": {
    "execution": {
     "iopub.execute_input": "2021-05-29T18:49:28.016786Z",
     "iopub.status.busy": "2021-05-29T18:49:28.015887Z",
     "iopub.status.idle": "2021-05-29T18:49:28.029065Z",
     "shell.execute_reply": "2021-05-29T18:49:28.029430Z"
    }
   },
   "outputs": [],
   "source": [
    "for st in [\n",
    "    \"DNA\",\n",
    "    \"to RNA\",\n",
    "    \"DNA to RNA to protein\",\n",
    "    \"Gain-of-function mutation\",\n",
    "    \"I'm he's she's we're\",\n",
    "]:\n",
    "\n",
    "    print(kraft.string.title(st))"
   ]
  },
  {
   "cell_type": "markdown",
   "metadata": {},
   "source": [
    "## untitle"
   ]
  },
  {
   "cell_type": "code",
   "execution_count": null,
   "metadata": {
    "execution": {
     "iopub.execute_input": "2021-05-29T18:49:28.032514Z",
     "iopub.status.busy": "2021-05-29T18:49:28.031998Z",
     "iopub.status.idle": "2021-05-29T18:49:28.043805Z",
     "shell.execute_reply": "2021-05-29T18:49:28.044163Z"
    }
   },
   "outputs": [],
   "source": [
    "for st in [\n",
    "    \"DNA\",\n",
    "    \"to RNA\",\n",
    "    \"DNA to RNA to protein\",\n",
    "    \"Gain-of-function mutation\",\n",
    "    \"I'm he's she's we're\",\n",
    "]:\n",
    "\n",
    "    print(kraft.string.untitle(st))"
   ]
  },
  {
   "cell_type": "markdown",
   "metadata": {},
   "source": [
    "## check_is_version"
   ]
  },
  {
   "cell_type": "code",
   "execution_count": null,
   "metadata": {
    "execution": {
     "iopub.execute_input": "2021-05-29T18:49:28.047278Z",
     "iopub.status.busy": "2021-05-29T18:49:28.046761Z",
     "iopub.status.idle": "2021-05-29T18:49:28.059254Z",
     "shell.execute_reply": "2021-05-29T18:49:28.059764Z"
    }
   },
   "outputs": [],
   "source": [
    "for st in [\n",
    "    \"1\",\n",
    "    \"1.\",\n",
    "    \"1.2\",\n",
    "    \"1.2.\",\n",
    "    \"1.2.3\",\n",
    "    \"1.2.3.\",\n",
    "    \"01.2.3\",\n",
    "    \"1.02.3\",\n",
    "    \"1.2.03\",\n",
    "    \"1x2x3\",\n",
    "    \"11.22.33\",\n",
    "]:\n",
    "\n",
    "    print(kraft.string.check_is_version(st))"
   ]
  },
  {
   "cell_type": "markdown",
   "metadata": {},
   "source": [
    "## split"
   ]
  },
  {
   "cell_type": "code",
   "execution_count": null,
   "metadata": {
    "execution": {
     "iopub.execute_input": "2021-05-29T18:49:28.062629Z",
     "iopub.status.busy": "2021-05-29T18:49:28.062113Z",
     "iopub.status.idle": "2021-05-29T18:49:28.073462Z",
     "shell.execute_reply": "2021-05-29T18:49:28.073826Z"
    }
   },
   "outputs": [],
   "source": [
    "for st in [\n",
    "    'It said \"Hello World\"',\n",
    "    \"It said 'Hello World'\",\n",
    "    \"I'm he's she's we're\",\n",
    "]:\n",
    "\n",
    "    print(kraft.string.split(st))"
   ]
  },
  {
   "cell_type": "markdown",
   "metadata": {},
   "source": [
    "## make_unique"
   ]
  },
  {
   "cell_type": "code",
   "execution_count": null,
   "metadata": {
    "execution": {
     "iopub.execute_input": "2021-05-29T18:49:28.077762Z",
     "iopub.status.busy": "2021-05-29T18:49:28.077166Z",
     "iopub.status.idle": "2021-05-29T18:49:28.093645Z",
     "shell.execute_reply": "2021-05-29T18:49:28.094065Z"
    }
   },
   "outputs": [],
   "source": [
    "kraft.string.make_unique(\n",
    "    [\n",
    "        \"a\",\n",
    "        \"a\",\n",
    "        \"a\",\n",
    "        \"b\",\n",
    "        \"b\",\n",
    "        \"b\",\n",
    "        \"a\",\n",
    "        \"b\",\n",
    "        \"\",\n",
    "        \"\",\n",
    "    ]\n",
    ")"
   ]
  }
 ],
 "metadata": {
  "kernelspec": {
   "display_name": "Python 3",
   "language": "python",
   "name": "python3"
  },
  "language_info": {
   "codemirror_mode": {
    "name": "ipython",
    "version": 3
   },
   "file_extension": ".py",
   "mimetype": "text/x-python",
   "name": "python",
   "nbconvert_exporter": "python",
   "pygments_lexer": "ipython3",
   "version": "3.8.9"
  }
 },
 "nbformat": 4,
 "nbformat_minor": 4
}
