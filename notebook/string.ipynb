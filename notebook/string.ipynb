{
 "cells": [
  {
   "cell_type": "code",
   "execution_count": null,
   "metadata": {
    "execution": {
     "iopub.execute_input": "2021-05-29T23:06:03.635158Z",
     "iopub.status.busy": "2021-05-29T23:06:03.634389Z",
     "iopub.status.idle": "2021-05-29T23:06:03.649105Z",
     "shell.execute_reply": "2021-05-29T23:06:03.649527Z"
    }
   },
   "outputs": [],
   "source": [
    "%load_ext autoreload\n",
    "%autoreload 2"
   ]
  },
  {
   "cell_type": "code",
   "execution_count": null,
   "metadata": {
    "execution": {
     "iopub.execute_input": "2021-05-29T23:06:03.652957Z",
     "iopub.status.busy": "2021-05-29T23:06:03.652367Z",
     "iopub.status.idle": "2021-05-29T23:06:04.197514Z",
     "shell.execute_reply": "2021-05-29T23:06:04.197886Z"
    }
   },
   "outputs": [],
   "source": [
    "import kraft"
   ]
  },
  {
   "cell_type": "markdown",
   "metadata": {},
   "source": [
    "## title"
   ]
  },
  {
   "cell_type": "code",
   "execution_count": null,
   "metadata": {
    "execution": {
     "iopub.execute_input": "2021-05-29T23:06:04.201325Z",
     "iopub.status.busy": "2021-05-29T23:06:04.200769Z",
     "iopub.status.idle": "2021-05-29T23:06:04.218370Z",
     "shell.execute_reply": "2021-05-29T23:06:04.218835Z"
    }
   },
   "outputs": [],
   "source": [
    "for st in [\n",
    "    \"DNA\",\n",
    "    \"to RNA\",\n",
    "    \"DNA to RNA to protein\",\n",
    "    \"Gain-of-function mutation\",\n",
    "    \"I'm he's she's we're\",\n",
    "]:\n",
    "\n",
    "    print(kraft.string.title(st))"
   ]
  },
  {
   "cell_type": "markdown",
   "metadata": {},
   "source": [
    "## untitle"
   ]
  },
  {
   "cell_type": "code",
   "execution_count": null,
   "metadata": {
    "execution": {
     "iopub.execute_input": "2021-05-29T23:06:04.221880Z",
     "iopub.status.busy": "2021-05-29T23:06:04.221372Z",
     "iopub.status.idle": "2021-05-29T23:06:04.237555Z",
     "shell.execute_reply": "2021-05-29T23:06:04.237967Z"
    }
   },
   "outputs": [],
   "source": [
    "for st in [\n",
    "    \"DNA\",\n",
    "    \"to RNA\",\n",
    "    \"DNA to RNA to protein\",\n",
    "    \"Gain-of-function mutation\",\n",
    "    \"I'm he's she's we're\",\n",
    "]:\n",
    "\n",
    "    print(kraft.string.untitle(st))"
   ]
  },
  {
   "cell_type": "markdown",
   "metadata": {},
   "source": [
    "## check_is_version"
   ]
  },
  {
   "cell_type": "code",
   "execution_count": null,
   "metadata": {
    "execution": {
     "iopub.execute_input": "2021-05-29T23:06:04.241369Z",
     "iopub.status.busy": "2021-05-29T23:06:04.240856Z",
     "iopub.status.idle": "2021-05-29T23:06:04.256973Z",
     "shell.execute_reply": "2021-05-29T23:06:04.257503Z"
    }
   },
   "outputs": [],
   "source": [
    "for st in [\n",
    "    \"1\",\n",
    "    \"1.\",\n",
    "    \"1.2\",\n",
    "    \"1.2.\",\n",
    "    \"1.2.3\",\n",
    "    \"1.2.3.\",\n",
    "    \"01.2.3\",\n",
    "    \"1.02.3\",\n",
    "    \"1.2.03\",\n",
    "    \"1x2x3\",\n",
    "    \"11.22.33\",\n",
    "]:\n",
    "\n",
    "    print(kraft.string.check_is_version(st))"
   ]
  },
  {
   "cell_type": "markdown",
   "metadata": {},
   "source": [
    "## split"
   ]
  },
  {
   "cell_type": "code",
   "execution_count": null,
   "metadata": {
    "execution": {
     "iopub.execute_input": "2021-05-29T23:06:04.260502Z",
     "iopub.status.busy": "2021-05-29T23:06:04.260001Z",
     "iopub.status.idle": "2021-05-29T23:06:04.276797Z",
     "shell.execute_reply": "2021-05-29T23:06:04.277160Z"
    }
   },
   "outputs": [],
   "source": [
    "for st in [\n",
    "    'It said \"Hello World\"',\n",
    "    \"It said 'Hello World'\",\n",
    "    \"I'm he's she's we're\",\n",
    "]:\n",
    "\n",
    "    print(kraft.string.split(st))"
   ]
  },
  {
   "cell_type": "markdown",
   "metadata": {},
   "source": [
    "## make_unique"
   ]
  },
  {
   "cell_type": "code",
   "execution_count": null,
   "metadata": {
    "execution": {
     "iopub.execute_input": "2021-05-29T23:06:04.280602Z",
     "iopub.status.busy": "2021-05-29T23:06:04.280064Z",
     "iopub.status.idle": "2021-05-29T23:06:04.299946Z",
     "shell.execute_reply": "2021-05-29T23:06:04.300304Z"
    }
   },
   "outputs": [],
   "source": [
    "kraft.string.make_unique(\n",
    "    [\n",
    "        \"a\",\n",
    "        \"a\",\n",
    "        \"a\",\n",
    "        \"b\",\n",
    "        \"b\",\n",
    "        \"b\",\n",
    "        \"a\",\n",
    "        \"b\",\n",
    "        \"\",\n",
    "        \"\",\n",
    "    ]\n",
    ")"
   ]
  }
 ],
 "metadata": {
  "kernelspec": {
   "display_name": "Python 3",
   "language": "python",
   "name": "python3"
  },
  "language_info": {
   "codemirror_mode": {
    "name": "ipython",
    "version": 3
   },
   "file_extension": ".py",
   "mimetype": "text/x-python",
   "name": "python",
   "nbconvert_exporter": "python",
   "pygments_lexer": "ipython3",
   "version": "3.8.9"
  }
 },
 "nbformat": 4,
 "nbformat_minor": 4
}
