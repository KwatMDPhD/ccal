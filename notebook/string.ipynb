{
 "cells": [
  {
   "cell_type": "code",
   "execution_count": null,
   "metadata": {
    "execution": {
     "iopub.execute_input": "2021-05-30T07:00:58.545135Z",
     "iopub.status.busy": "2021-05-30T07:00:58.544332Z",
     "iopub.status.idle": "2021-05-30T07:00:58.559029Z",
     "shell.execute_reply": "2021-05-30T07:00:58.559542Z"
    }
   },
   "outputs": [],
   "source": [
    "%load_ext autoreload\n",
    "%autoreload 2"
   ]
  },
  {
   "cell_type": "code",
   "execution_count": null,
   "metadata": {
    "execution": {
     "iopub.execute_input": "2021-05-30T07:00:58.563152Z",
     "iopub.status.busy": "2021-05-30T07:00:58.562550Z",
     "iopub.status.idle": "2021-05-30T07:00:59.121068Z",
     "shell.execute_reply": "2021-05-30T07:00:59.121688Z"
    }
   },
   "outputs": [],
   "source": [
    "import kraft"
   ]
  },
  {
   "cell_type": "markdown",
   "metadata": {},
   "source": [
    "## title"
   ]
  },
  {
   "cell_type": "code",
   "execution_count": null,
   "metadata": {
    "execution": {
     "iopub.execute_input": "2021-05-30T07:00:59.124924Z",
     "iopub.status.busy": "2021-05-30T07:00:59.124421Z",
     "iopub.status.idle": "2021-05-30T07:00:59.143980Z",
     "shell.execute_reply": "2021-05-30T07:00:59.144402Z"
    }
   },
   "outputs": [],
   "source": [
    "for st in [\n",
    "    \"DNA\",\n",
    "    \"to RNA\",\n",
    "    \"DNA to RNA to protein\",\n",
    "    \"Gain-of-function mutation\",\n",
    "    \"I'm he's she's we're\",\n",
    "]:\n",
    "\n",
    "    print(kraft.string.title(st))"
   ]
  },
  {
   "cell_type": "markdown",
   "metadata": {},
   "source": [
    "## untitle"
   ]
  },
  {
   "cell_type": "code",
   "execution_count": null,
   "metadata": {
    "execution": {
     "iopub.execute_input": "2021-05-30T07:00:59.147715Z",
     "iopub.status.busy": "2021-05-30T07:00:59.147148Z",
     "iopub.status.idle": "2021-05-30T07:00:59.164421Z",
     "shell.execute_reply": "2021-05-30T07:00:59.164832Z"
    }
   },
   "outputs": [],
   "source": [
    "for st in [\n",
    "    \"DNA\",\n",
    "    \"to RNA\",\n",
    "    \"DNA to RNA to protein\",\n",
    "    \"Gain-of-function mutation\",\n",
    "    \"I'm he's she's we're\",\n",
    "]:\n",
    "\n",
    "    print(kraft.string.untitle(st))"
   ]
  },
  {
   "cell_type": "markdown",
   "metadata": {},
   "source": [
    "## check_is_version"
   ]
  },
  {
   "cell_type": "code",
   "execution_count": null,
   "metadata": {
    "execution": {
     "iopub.execute_input": "2021-05-30T07:00:59.167923Z",
     "iopub.status.busy": "2021-05-30T07:00:59.167408Z",
     "iopub.status.idle": "2021-05-30T07:00:59.184105Z",
     "shell.execute_reply": "2021-05-30T07:00:59.184522Z"
    }
   },
   "outputs": [],
   "source": [
    "for st in [\n",
    "    \"1\",\n",
    "    \"1.\",\n",
    "    \"1.2\",\n",
    "    \"1.2.\",\n",
    "    \"1.2.3\",\n",
    "    \"1.2.3.\",\n",
    "    \"01.2.3\",\n",
    "    \"1.02.3\",\n",
    "    \"1.2.03\",\n",
    "    \"1x2x3\",\n",
    "    \"11.22.33\",\n",
    "]:\n",
    "\n",
    "    print(kraft.string.check_is_version(st))"
   ]
  },
  {
   "cell_type": "markdown",
   "metadata": {},
   "source": [
    "## split"
   ]
  },
  {
   "cell_type": "code",
   "execution_count": null,
   "metadata": {
    "execution": {
     "iopub.execute_input": "2021-05-30T07:00:59.187490Z",
     "iopub.status.busy": "2021-05-30T07:00:59.186936Z",
     "iopub.status.idle": "2021-05-30T07:00:59.205160Z",
     "shell.execute_reply": "2021-05-30T07:00:59.205512Z"
    }
   },
   "outputs": [],
   "source": [
    "for st in [\n",
    "    'It said \"Hello World\"',\n",
    "    \"It said 'Hello World'\",\n",
    "    \"I'm he's she's we're\",\n",
    "]:\n",
    "\n",
    "    print(kraft.string.split(st))"
   ]
  },
  {
   "cell_type": "markdown",
   "metadata": {},
   "source": [
    "## make_unique"
   ]
  },
  {
   "cell_type": "code",
   "execution_count": null,
   "metadata": {
    "execution": {
     "iopub.execute_input": "2021-05-30T07:00:59.209203Z",
     "iopub.status.busy": "2021-05-30T07:00:59.208577Z",
     "iopub.status.idle": "2021-05-30T07:00:59.228832Z",
     "shell.execute_reply": "2021-05-30T07:00:59.229352Z"
    }
   },
   "outputs": [],
   "source": [
    "kraft.string.make_unique(\n",
    "    [\n",
    "        \"a\",\n",
    "        \"a\",\n",
    "        \"a\",\n",
    "        \"b\",\n",
    "        \"b\",\n",
    "        \"b\",\n",
    "        \"a\",\n",
    "        \"b\",\n",
    "        \"\",\n",
    "        \"\",\n",
    "    ]\n",
    ")"
   ]
  }
 ],
 "metadata": {
  "kernelspec": {
   "display_name": "Python 3",
   "language": "python",
   "name": "python3"
  },
  "language_info": {
   "codemirror_mode": {
    "name": "ipython",
    "version": 3
   },
   "file_extension": ".py",
   "mimetype": "text/x-python",
   "name": "python",
   "nbconvert_exporter": "python",
   "pygments_lexer": "ipython3",
   "version": "3.8.9"
  }
 },
 "nbformat": 4,
 "nbformat_minor": 4
}
