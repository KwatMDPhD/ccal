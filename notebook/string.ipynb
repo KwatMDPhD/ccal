{
 "cells": [
  {
   "cell_type": "code",
   "execution_count": null,
   "metadata": {},
   "outputs": [],
   "source": [
    "%load_ext autoreload\n",
    "%autoreload 2"
   ]
  },
  {
   "cell_type": "code",
   "execution_count": null,
   "metadata": {},
   "outputs": [],
   "source": [
    "import kraft"
   ]
  },
  {
   "cell_type": "markdown",
   "metadata": {},
   "source": [
    "## title"
   ]
  },
  {
   "cell_type": "code",
   "execution_count": null,
   "metadata": {},
   "outputs": [],
   "source": [
    "for s in [\n",
    "    \"DNA\",\n",
    "    \"to RNA\",\n",
    "    \"DNA to RNA to protein\",\n",
    "    \"Gain-of-function mutation\",\n",
    "    \"I'm he's she's we're\",\n",
    "]:\n",
    "\n",
    "    print(\"=\" * 80)\n",
    "\n",
    "    print(s)\n",
    "\n",
    "    print(kraft.string.title(s))"
   ]
  },
  {
   "cell_type": "markdown",
   "metadata": {},
   "source": [
    "## untitle"
   ]
  },
  {
   "cell_type": "code",
   "execution_count": null,
   "metadata": {},
   "outputs": [],
   "source": [
    "for s in [\n",
    "    \"DNA\",\n",
    "    \"to RNA\",\n",
    "    \"DNA to RNA to protein\",\n",
    "    \"Gain-of-function mutation\",\n",
    "    \"I'm he's she's we're\",\n",
    "]:\n",
    "\n",
    "    print(\"=\" * 80)\n",
    "\n",
    "    print(s)\n",
    "\n",
    "    print(kraft.string.untitle(s))"
   ]
  },
  {
   "cell_type": "markdown",
   "metadata": {},
   "source": [
    "## check_is_version"
   ]
  },
  {
   "cell_type": "code",
   "execution_count": null,
   "metadata": {},
   "outputs": [],
   "source": [
    "for s in [\n",
    "    \"1\",\n",
    "    \"1.\",\n",
    "    \"1.2\",\n",
    "    \"1.2.\",\n",
    "    \"1.2.3\",\n",
    "    \"1.2.3.\",\n",
    "    \"01.2.3\",\n",
    "    \"1.02.3\",\n",
    "    \"1.2.03\",\n",
    "    \"1x2x3\",\n",
    "    \"11.22.33\",\n",
    "]:\n",
    "\n",
    "    print(\"=\" * 80)\n",
    "\n",
    "    print(s)\n",
    "\n",
    "    print(kraft.string.check_is_version(s))"
   ]
  },
  {
   "cell_type": "markdown",
   "metadata": {},
   "source": [
    "## skip_quote_and_split"
   ]
  },
  {
   "cell_type": "code",
   "execution_count": null,
   "metadata": {},
   "outputs": [],
   "source": [
    "for s in [\n",
    "    'It said \"Hello World\"',\n",
    "    \"It said 'Hello World'\",\n",
    "    \"I'm he's she's we're\",\n",
    "]:\n",
    "\n",
    "    print(\"=\" * 80)\n",
    "\n",
    "    print(s)\n",
    "\n",
    "    print(kraft.string.skip_quote_and_split(s))"
   ]
  },
  {
   "cell_type": "markdown",
   "metadata": {},
   "source": [
    "## make_unique"
   ]
  },
  {
   "cell_type": "code",
   "execution_count": null,
   "metadata": {},
   "outputs": [],
   "source": [
    "kraft.string.make_unique([\"a\", \"a\", \"a\", \"b\", \"b\", \"b\", \"a\", \"b\", \"\", \"\"])"
   ]
  }
 ],
 "metadata": {
  "kernelspec": {
   "display_name": "Python 3",
   "language": "python",
   "name": "python3"
  },
  "language_info": {
   "codemirror_mode": {
    "name": "ipython",
    "version": 3
   },
   "file_extension": ".py",
   "mimetype": "text/x-python",
   "name": "python",
   "nbconvert_exporter": "python",
   "pygments_lexer": "ipython3",
   "version": "3.8.9"
  }
 },
 "nbformat": 4,
 "nbformat_minor": 4
}
