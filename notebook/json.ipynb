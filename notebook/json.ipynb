{
 "cells": [
  {
   "cell_type": "code",
   "execution_count": null,
   "metadata": {
    "execution": {
     "iopub.execute_input": "2021-05-29T23:05:42.596731Z",
     "iopub.status.busy": "2021-05-29T23:05:42.595949Z",
     "iopub.status.idle": "2021-05-29T23:05:42.610703Z",
     "shell.execute_reply": "2021-05-29T23:05:42.611207Z"
    }
   },
   "outputs": [],
   "source": [
    "%load_ext autoreload\n",
    "%autoreload 2"
   ]
  },
  {
   "cell_type": "code",
   "execution_count": null,
   "metadata": {
    "execution": {
     "iopub.execute_input": "2021-05-29T23:05:42.614663Z",
     "iopub.status.busy": "2021-05-29T23:05:42.613980Z",
     "iopub.status.idle": "2021-05-29T23:05:43.156390Z",
     "shell.execute_reply": "2021-05-29T23:05:43.157140Z"
    }
   },
   "outputs": [],
   "source": [
    "import kraft"
   ]
  },
  {
   "cell_type": "code",
   "execution_count": null,
   "metadata": {
    "execution": {
     "iopub.execute_input": "2021-05-29T23:05:43.161464Z",
     "iopub.status.busy": "2021-05-29T23:05:43.160804Z",
     "iopub.status.idle": "2021-05-29T23:05:43.180790Z",
     "shell.execute_reply": "2021-05-29T23:05:43.181181Z"
    }
   },
   "outputs": [],
   "source": [
    "pa = kraft.path.get_absolute(\"~/Downloads/test.json\")"
   ]
  },
  {
   "cell_type": "code",
   "execution_count": null,
   "metadata": {
    "execution": {
     "iopub.execute_input": "2021-05-29T23:05:43.184408Z",
     "iopub.status.busy": "2021-05-29T23:05:43.183817Z",
     "iopub.status.idle": "2021-05-29T23:05:43.203168Z",
     "shell.execute_reply": "2021-05-29T23:05:43.203658Z"
    }
   },
   "outputs": [],
   "source": [
    "import numpy as np"
   ]
  },
  {
   "cell_type": "code",
   "execution_count": null,
   "metadata": {
    "execution": {
     "iopub.execute_input": "2021-05-29T23:05:43.207377Z",
     "iopub.status.busy": "2021-05-29T23:05:43.206803Z",
     "iopub.status.idle": "2021-05-29T23:05:43.232087Z",
     "shell.execute_reply": "2021-05-29T23:05:43.232460Z"
    }
   },
   "outputs": [],
   "source": [
    "an_an = {\n",
    "    \"key_0\": \"value_0\",\n",
    "    1: (1,),\n",
    "    \"2\": [\n",
    "        2,\n",
    "        \"3\",\n",
    "    ],\n",
    "    (3): None,\n",
    "    4: \"null\",\n",
    "    5: np.nan,\n",
    "    None: 0,\n",
    "    \"null\": 0,\n",
    "    np.nan: 0,\n",
    "}\n",
    "\n",
    "an_an"
   ]
  },
  {
   "cell_type": "markdown",
   "metadata": {},
   "source": [
    "## write"
   ]
  },
  {
   "cell_type": "code",
   "execution_count": null,
   "metadata": {
    "execution": {
     "iopub.execute_input": "2021-05-29T23:05:43.235320Z",
     "iopub.status.busy": "2021-05-29T23:05:43.234770Z",
     "iopub.status.idle": "2021-05-29T23:05:43.251832Z",
     "shell.execute_reply": "2021-05-29T23:05:43.252223Z"
    }
   },
   "outputs": [],
   "source": [
    "kraft.json.write(\n",
    "    pa,\n",
    "    an_an,\n",
    ")"
   ]
  },
  {
   "cell_type": "code",
   "execution_count": null,
   "metadata": {
    "execution": {
     "iopub.execute_input": "2021-05-29T23:05:43.255796Z",
     "iopub.status.busy": "2021-05-29T23:05:43.255101Z",
     "iopub.status.idle": "2021-05-29T23:05:43.398322Z",
     "shell.execute_reply": "2021-05-29T23:05:43.398989Z"
    }
   },
   "outputs": [],
   "source": [
    "%cat ~/Downloads/test.json"
   ]
  },
  {
   "cell_type": "markdown",
   "metadata": {},
   "source": [
    "## read"
   ]
  },
  {
   "cell_type": "code",
   "execution_count": null,
   "metadata": {
    "execution": {
     "iopub.execute_input": "2021-05-29T23:05:43.403595Z",
     "iopub.status.busy": "2021-05-29T23:05:43.402875Z",
     "iopub.status.idle": "2021-05-29T23:05:43.428770Z",
     "shell.execute_reply": "2021-05-29T23:05:43.429215Z"
    }
   },
   "outputs": [],
   "source": [
    "kraft.json.read(pa)"
   ]
  }
 ],
 "metadata": {
  "kernelspec": {
   "display_name": "Python 3",
   "language": "python",
   "name": "python3"
  },
  "language_info": {
   "codemirror_mode": {
    "name": "ipython",
    "version": 3
   },
   "file_extension": ".py",
   "mimetype": "text/x-python",
   "name": "python",
   "nbconvert_exporter": "python",
   "pygments_lexer": "ipython3",
   "version": "3.8.9"
  }
 },
 "nbformat": 4,
 "nbformat_minor": 4
}
