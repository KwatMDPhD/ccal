{
 "cells": [
  {
   "cell_type": "code",
   "execution_count": null,
   "metadata": {
    "execution": {
     "iopub.execute_input": "2021-05-31T06:00:06.375194Z",
     "iopub.status.busy": "2021-05-31T06:00:06.374411Z",
     "iopub.status.idle": "2021-05-31T06:00:06.389638Z",
     "shell.execute_reply": "2021-05-31T06:00:06.389051Z"
    }
   },
   "outputs": [],
   "source": [
    "%load_ext autoreload\n",
    "%autoreload 2"
   ]
  },
  {
   "cell_type": "code",
   "execution_count": null,
   "metadata": {
    "execution": {
     "iopub.execute_input": "2021-05-31T06:00:06.393208Z",
     "iopub.status.busy": "2021-05-31T06:00:06.392487Z",
     "iopub.status.idle": "2021-05-31T06:00:06.928213Z",
     "shell.execute_reply": "2021-05-31T06:00:06.928601Z"
    }
   },
   "outputs": [],
   "source": [
    "import kraft"
   ]
  },
  {
   "cell_type": "code",
   "execution_count": null,
   "metadata": {
    "execution": {
     "iopub.execute_input": "2021-05-31T06:00:06.931667Z",
     "iopub.status.busy": "2021-05-31T06:00:06.931098Z",
     "iopub.status.idle": "2021-05-31T06:00:06.948407Z",
     "shell.execute_reply": "2021-05-31T06:00:06.948794Z"
    }
   },
   "outputs": [],
   "source": [
    "pa = kraft.path.get_absolute(\"~/Downloads/test.json\")"
   ]
  },
  {
   "cell_type": "code",
   "execution_count": null,
   "metadata": {
    "execution": {
     "iopub.execute_input": "2021-05-31T06:00:06.951986Z",
     "iopub.status.busy": "2021-05-31T06:00:06.951426Z",
     "iopub.status.idle": "2021-05-31T06:00:06.971251Z",
     "shell.execute_reply": "2021-05-31T06:00:06.971664Z"
    }
   },
   "outputs": [],
   "source": [
    "import numpy as np"
   ]
  },
  {
   "cell_type": "code",
   "execution_count": null,
   "metadata": {
    "execution": {
     "iopub.execute_input": "2021-05-31T06:00:06.975507Z",
     "iopub.status.busy": "2021-05-31T06:00:06.974923Z",
     "iopub.status.idle": "2021-05-31T06:00:06.999923Z",
     "shell.execute_reply": "2021-05-31T06:00:07.000323Z"
    }
   },
   "outputs": [],
   "source": [
    "an_an = {\n",
    "    \"key_0\": \"value_0\",\n",
    "    1: (1,),\n",
    "    \"2\": [2, \"3\"],\n",
    "    (3): None,\n",
    "    4: \"null\",\n",
    "    5: np.nan,\n",
    "    None: 0,\n",
    "    \"null\": 0,\n",
    "    np.nan: 0,\n",
    "}\n",
    "\n",
    "an_an"
   ]
  },
  {
   "cell_type": "markdown",
   "metadata": {},
   "source": [
    "## write"
   ]
  },
  {
   "cell_type": "code",
   "execution_count": null,
   "metadata": {
    "execution": {
     "iopub.execute_input": "2021-05-31T06:00:07.003387Z",
     "iopub.status.busy": "2021-05-31T06:00:07.002860Z",
     "iopub.status.idle": "2021-05-31T06:00:07.021509Z",
     "shell.execute_reply": "2021-05-31T06:00:07.021909Z"
    }
   },
   "outputs": [],
   "source": [
    "kraft.json.write(pa, an_an)"
   ]
  },
  {
   "cell_type": "code",
   "execution_count": null,
   "metadata": {
    "execution": {
     "iopub.execute_input": "2021-05-31T06:00:07.025613Z",
     "iopub.status.busy": "2021-05-31T06:00:07.024877Z",
     "iopub.status.idle": "2021-05-31T06:00:07.170390Z",
     "shell.execute_reply": "2021-05-31T06:00:07.170965Z"
    }
   },
   "outputs": [],
   "source": [
    "%cat ~/Downloads/test.json"
   ]
  },
  {
   "cell_type": "markdown",
   "metadata": {},
   "source": [
    "## read"
   ]
  },
  {
   "cell_type": "code",
   "execution_count": null,
   "metadata": {
    "execution": {
     "iopub.execute_input": "2021-05-31T06:00:07.175424Z",
     "iopub.status.busy": "2021-05-31T06:00:07.174747Z",
     "iopub.status.idle": "2021-05-31T06:00:07.199541Z",
     "shell.execute_reply": "2021-05-31T06:00:07.199999Z"
    }
   },
   "outputs": [],
   "source": [
    "kraft.json.read(pa)"
   ]
  }
 ],
 "metadata": {
  "kernelspec": {
   "display_name": "Python 3",
   "language": "python",
   "name": "python3"
  },
  "language_info": {
   "codemirror_mode": {
    "name": "ipython",
    "version": 3
   },
   "file_extension": ".py",
   "mimetype": "text/x-python",
   "name": "python",
   "nbconvert_exporter": "python",
   "pygments_lexer": "ipython3",
   "version": "3.8.9"
  }
 },
 "nbformat": 4,
 "nbformat_minor": 4
}
