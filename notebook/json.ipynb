{
 "cells": [
  {
   "cell_type": "code",
   "execution_count": null,
   "metadata": {
    "execution": {
     "iopub.execute_input": "2021-05-30T07:00:30.567973Z",
     "iopub.status.busy": "2021-05-30T07:00:30.567156Z",
     "iopub.status.idle": "2021-05-30T07:00:30.582690Z",
     "shell.execute_reply": "2021-05-30T07:00:30.583270Z"
    }
   },
   "outputs": [],
   "source": [
    "%load_ext autoreload\n",
    "%autoreload 2"
   ]
  },
  {
   "cell_type": "code",
   "execution_count": null,
   "metadata": {
    "execution": {
     "iopub.execute_input": "2021-05-30T07:00:30.587243Z",
     "iopub.status.busy": "2021-05-30T07:00:30.586606Z",
     "iopub.status.idle": "2021-05-30T07:00:31.158243Z",
     "shell.execute_reply": "2021-05-30T07:00:31.158638Z"
    }
   },
   "outputs": [],
   "source": [
    "import kraft"
   ]
  },
  {
   "cell_type": "code",
   "execution_count": null,
   "metadata": {
    "execution": {
     "iopub.execute_input": "2021-05-30T07:00:31.161827Z",
     "iopub.status.busy": "2021-05-30T07:00:31.161253Z",
     "iopub.status.idle": "2021-05-30T07:00:31.180029Z",
     "shell.execute_reply": "2021-05-30T07:00:31.180451Z"
    }
   },
   "outputs": [],
   "source": [
    "pa = kraft.path.get_absolute(\"~/Downloads/test.json\")"
   ]
  },
  {
   "cell_type": "code",
   "execution_count": null,
   "metadata": {
    "execution": {
     "iopub.execute_input": "2021-05-30T07:00:31.183637Z",
     "iopub.status.busy": "2021-05-30T07:00:31.182995Z",
     "iopub.status.idle": "2021-05-30T07:00:31.201670Z",
     "shell.execute_reply": "2021-05-30T07:00:31.202149Z"
    }
   },
   "outputs": [],
   "source": [
    "import numpy as np"
   ]
  },
  {
   "cell_type": "code",
   "execution_count": null,
   "metadata": {
    "execution": {
     "iopub.execute_input": "2021-05-30T07:00:31.206074Z",
     "iopub.status.busy": "2021-05-30T07:00:31.205473Z",
     "iopub.status.idle": "2021-05-30T07:00:31.230394Z",
     "shell.execute_reply": "2021-05-30T07:00:31.230811Z"
    }
   },
   "outputs": [],
   "source": [
    "an_an = {\n",
    "    \"key_0\": \"value_0\",\n",
    "    1: (1,),\n",
    "    \"2\": [\n",
    "        2,\n",
    "        \"3\",\n",
    "    ],\n",
    "    (3): None,\n",
    "    4: \"null\",\n",
    "    5: np.nan,\n",
    "    None: 0,\n",
    "    \"null\": 0,\n",
    "    np.nan: 0,\n",
    "}\n",
    "\n",
    "an_an"
   ]
  },
  {
   "cell_type": "markdown",
   "metadata": {},
   "source": [
    "## write"
   ]
  },
  {
   "cell_type": "code",
   "execution_count": null,
   "metadata": {
    "execution": {
     "iopub.execute_input": "2021-05-30T07:00:31.234206Z",
     "iopub.status.busy": "2021-05-30T07:00:31.233614Z",
     "iopub.status.idle": "2021-05-30T07:00:31.252701Z",
     "shell.execute_reply": "2021-05-30T07:00:31.253152Z"
    }
   },
   "outputs": [],
   "source": [
    "kraft.json.write(\n",
    "    pa,\n",
    "    an_an,\n",
    ")"
   ]
  },
  {
   "cell_type": "code",
   "execution_count": null,
   "metadata": {
    "execution": {
     "iopub.execute_input": "2021-05-30T07:00:31.256794Z",
     "iopub.status.busy": "2021-05-30T07:00:31.255995Z",
     "iopub.status.idle": "2021-05-30T07:00:31.397129Z",
     "shell.execute_reply": "2021-05-30T07:00:31.397759Z"
    }
   },
   "outputs": [],
   "source": [
    "%cat ~/Downloads/test.json"
   ]
  },
  {
   "cell_type": "markdown",
   "metadata": {},
   "source": [
    "## read"
   ]
  },
  {
   "cell_type": "code",
   "execution_count": null,
   "metadata": {
    "execution": {
     "iopub.execute_input": "2021-05-30T07:00:31.402655Z",
     "iopub.status.busy": "2021-05-30T07:00:31.401917Z",
     "iopub.status.idle": "2021-05-30T07:00:31.427170Z",
     "shell.execute_reply": "2021-05-30T07:00:31.427614Z"
    }
   },
   "outputs": [],
   "source": [
    "kraft.json.read(pa)"
   ]
  }
 ],
 "metadata": {
  "kernelspec": {
   "display_name": "Python 3",
   "language": "python",
   "name": "python3"
  },
  "language_info": {
   "codemirror_mode": {
    "name": "ipython",
    "version": 3
   },
   "file_extension": ".py",
   "mimetype": "text/x-python",
   "name": "python",
   "nbconvert_exporter": "python",
   "pygments_lexer": "ipython3",
   "version": "3.8.9"
  }
 },
 "nbformat": 4,
 "nbformat_minor": 4
}
