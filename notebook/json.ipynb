{
 "cells": [
  {
   "cell_type": "code",
   "execution_count": null,
   "metadata": {
    "execution": {
     "iopub.execute_input": "2021-05-30T23:48:50.733095Z",
     "iopub.status.busy": "2021-05-30T23:48:50.732291Z",
     "iopub.status.idle": "2021-05-30T23:48:50.747246Z",
     "shell.execute_reply": "2021-05-30T23:48:50.747764Z"
    }
   },
   "outputs": [],
   "source": [
    "%load_ext autoreload\n",
    "%autoreload 2"
   ]
  },
  {
   "cell_type": "code",
   "execution_count": null,
   "metadata": {
    "execution": {
     "iopub.execute_input": "2021-05-30T23:48:50.751205Z",
     "iopub.status.busy": "2021-05-30T23:48:50.750594Z",
     "iopub.status.idle": "2021-05-30T23:48:51.297662Z",
     "shell.execute_reply": "2021-05-30T23:48:51.298050Z"
    }
   },
   "outputs": [],
   "source": [
    "import kraft"
   ]
  },
  {
   "cell_type": "code",
   "execution_count": null,
   "metadata": {
    "execution": {
     "iopub.execute_input": "2021-05-30T23:48:51.301382Z",
     "iopub.status.busy": "2021-05-30T23:48:51.300807Z",
     "iopub.status.idle": "2021-05-30T23:48:51.318926Z",
     "shell.execute_reply": "2021-05-30T23:48:51.319692Z"
    }
   },
   "outputs": [],
   "source": [
    "pa = kraft.path.get_absolute(\"~/Downloads/test.json\")"
   ]
  },
  {
   "cell_type": "code",
   "execution_count": null,
   "metadata": {
    "execution": {
     "iopub.execute_input": "2021-05-30T23:48:51.323570Z",
     "iopub.status.busy": "2021-05-30T23:48:51.322968Z",
     "iopub.status.idle": "2021-05-30T23:48:51.341315Z",
     "shell.execute_reply": "2021-05-30T23:48:51.341796Z"
    }
   },
   "outputs": [],
   "source": [
    "import numpy as np"
   ]
  },
  {
   "cell_type": "code",
   "execution_count": null,
   "metadata": {
    "execution": {
     "iopub.execute_input": "2021-05-30T23:48:51.346562Z",
     "iopub.status.busy": "2021-05-30T23:48:51.345967Z",
     "iopub.status.idle": "2021-05-30T23:48:51.370883Z",
     "shell.execute_reply": "2021-05-30T23:48:51.371311Z"
    }
   },
   "outputs": [],
   "source": [
    "an_an = {\n",
    "    \"key_0\": \"value_0\",\n",
    "    1: (1,),\n",
    "    \"2\": [2, \"3\"],\n",
    "    (3): None,\n",
    "    4: \"null\",\n",
    "    5: np.nan,\n",
    "    None: 0,\n",
    "    \"null\": 0,\n",
    "    np.nan: 0,\n",
    "}\n",
    "\n",
    "an_an"
   ]
  },
  {
   "cell_type": "markdown",
   "metadata": {},
   "source": [
    "## write"
   ]
  },
  {
   "cell_type": "code",
   "execution_count": null,
   "metadata": {
    "execution": {
     "iopub.execute_input": "2021-05-30T23:48:51.374358Z",
     "iopub.status.busy": "2021-05-30T23:48:51.373810Z",
     "iopub.status.idle": "2021-05-30T23:48:51.390339Z",
     "shell.execute_reply": "2021-05-30T23:48:51.390758Z"
    }
   },
   "outputs": [],
   "source": [
    "kraft.json.write(pa, an_an)"
   ]
  },
  {
   "cell_type": "code",
   "execution_count": null,
   "metadata": {
    "execution": {
     "iopub.execute_input": "2021-05-30T23:48:51.394564Z",
     "iopub.status.busy": "2021-05-30T23:48:51.393908Z",
     "iopub.status.idle": "2021-05-30T23:48:51.540293Z",
     "shell.execute_reply": "2021-05-30T23:48:51.540981Z"
    }
   },
   "outputs": [],
   "source": [
    "%cat ~/Downloads/test.json"
   ]
  },
  {
   "cell_type": "markdown",
   "metadata": {},
   "source": [
    "## read"
   ]
  },
  {
   "cell_type": "code",
   "execution_count": null,
   "metadata": {
    "execution": {
     "iopub.execute_input": "2021-05-30T23:48:51.545300Z",
     "iopub.status.busy": "2021-05-30T23:48:51.544614Z",
     "iopub.status.idle": "2021-05-30T23:48:51.568280Z",
     "shell.execute_reply": "2021-05-30T23:48:51.568716Z"
    }
   },
   "outputs": [],
   "source": [
    "kraft.json.read(pa)"
   ]
  }
 ],
 "metadata": {
  "kernelspec": {
   "display_name": "Python 3",
   "language": "python",
   "name": "python3"
  },
  "language_info": {
   "codemirror_mode": {
    "name": "ipython",
    "version": 3
   },
   "file_extension": ".py",
   "mimetype": "text/x-python",
   "name": "python",
   "nbconvert_exporter": "python",
   "pygments_lexer": "ipython3",
   "version": "3.8.9"
  }
 },
 "nbformat": 4,
 "nbformat_minor": 4
}
