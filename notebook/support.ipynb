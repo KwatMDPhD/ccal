{
 "cells": [
  {
   "cell_type": "code",
   "execution_count": null,
   "metadata": {
    "execution": {
     "iopub.execute_input": "2021-05-29T18:49:30.249876Z",
     "iopub.status.busy": "2021-05-29T18:49:30.248940Z",
     "iopub.status.idle": "2021-05-29T18:49:30.263690Z",
     "shell.execute_reply": "2021-05-29T18:49:30.264131Z"
    }
   },
   "outputs": [],
   "source": [
    "%load_ext autoreload\n",
    "%autoreload 2"
   ]
  },
  {
   "cell_type": "code",
   "execution_count": null,
   "metadata": {
    "execution": {
     "iopub.execute_input": "2021-05-29T18:49:30.267598Z",
     "iopub.status.busy": "2021-05-29T18:49:30.267020Z",
     "iopub.status.idle": "2021-05-29T18:49:30.549446Z",
     "shell.execute_reply": "2021-05-29T18:49:30.549822Z"
    }
   },
   "outputs": [],
   "source": [
    "import kraft"
   ]
  },
  {
   "cell_type": "markdown",
   "metadata": {},
   "source": [
    "## print_stack_state"
   ]
  },
  {
   "cell_type": "code",
   "execution_count": null,
   "metadata": {
    "execution": {
     "iopub.execute_input": "2021-05-29T18:49:30.553385Z",
     "iopub.status.busy": "2021-05-29T18:49:30.552881Z",
     "iopub.status.idle": "2021-05-29T18:49:30.685457Z",
     "shell.execute_reply": "2021-05-29T18:49:30.685871Z"
    }
   },
   "outputs": [],
   "source": [
    "def fu1(\n",
    "    ar,\n",
    "    ke=\"Local\",\n",
    "):\n",
    "\n",
    "    lo1 = \"Local\"\n",
    "\n",
    "    kraft.support.print_stack_state()\n",
    "\n",
    "\n",
    "fu1(\"Local\")"
   ]
  },
  {
   "cell_type": "code",
   "execution_count": null,
   "metadata": {
    "execution": {
     "iopub.execute_input": "2021-05-29T18:49:30.689374Z",
     "iopub.status.busy": "2021-05-29T18:49:30.688791Z",
     "iopub.status.idle": "2021-05-29T18:49:30.707541Z",
     "shell.execute_reply": "2021-05-29T18:49:30.707892Z"
    }
   },
   "outputs": [],
   "source": [
    "def fu2(\n",
    "    ar,\n",
    "):\n",
    "\n",
    "    lo2 = \"Not local\"\n",
    "\n",
    "    fu1(ar)\n",
    "\n",
    "\n",
    "fu2(\"Local\")"
   ]
  },
  {
   "cell_type": "markdown",
   "metadata": {},
   "source": [
    "## cast_builtin"
   ]
  },
  {
   "cell_type": "code",
   "execution_count": null,
   "metadata": {
    "execution": {
     "iopub.execute_input": "2021-05-29T18:49:30.710697Z",
     "iopub.status.busy": "2021-05-29T18:49:30.710200Z",
     "iopub.status.idle": "2021-05-29T18:49:30.721589Z",
     "shell.execute_reply": "2021-05-29T18:49:30.721943Z"
    }
   },
   "outputs": [],
   "source": [
    "import numpy as np"
   ]
  },
  {
   "cell_type": "code",
   "execution_count": null,
   "metadata": {
    "execution": {
     "iopub.execute_input": "2021-05-29T18:49:30.724990Z",
     "iopub.status.busy": "2021-05-29T18:49:30.724461Z",
     "iopub.status.idle": "2021-05-29T18:49:30.735770Z",
     "shell.execute_reply": "2021-05-29T18:49:30.736268Z"
    }
   },
   "outputs": [],
   "source": [
    "for an in [\n",
    "    None,\n",
    "    \"None\",\n",
    "    False,\n",
    "    \"False\",\n",
    "    True,\n",
    "    \"True\",\n",
    "    0,\n",
    "    0.0,\n",
    "    \"0\",\n",
    "    np.nan,\n",
    "]:\n",
    "\n",
    "    print(kraft.support.cast_builtin(an))"
   ]
  }
 ],
 "metadata": {
  "kernelspec": {
   "display_name": "Python 3",
   "language": "python",
   "name": "python3"
  },
  "language_info": {
   "codemirror_mode": {
    "name": "ipython",
    "version": 3
   },
   "file_extension": ".py",
   "mimetype": "text/x-python",
   "name": "python",
   "nbconvert_exporter": "python",
   "pygments_lexer": "ipython3",
   "version": "3.8.9"
  }
 },
 "nbformat": 4,
 "nbformat_minor": 4
}
