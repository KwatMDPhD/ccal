{
 "cells": [
  {
   "cell_type": "code",
   "execution_count": null,
   "metadata": {},
   "outputs": [],
   "source": [
    "%load_ext autoreload\n",
    "%autoreload 2"
   ]
  },
  {
   "cell_type": "code",
   "execution_count": null,
   "metadata": {},
   "outputs": [],
   "source": [
    "import kraft\n",
    "import numpy as np"
   ]
  },
  {
   "cell_type": "markdown",
   "metadata": {},
   "source": [
    "## print_function_information"
   ]
  },
  {
   "cell_type": "code",
   "execution_count": null,
   "metadata": {},
   "outputs": [],
   "source": [
    "def function_0():\n",
    "\n",
    "    kraft.support.print_function_information()\n",
    "\n",
    "\n",
    "def function_1():\n",
    "\n",
    "    function_0()\n",
    "\n",
    "\n",
    "function_0()\n",
    "\n",
    "function_1()"
   ]
  },
  {
   "cell_type": "markdown",
   "metadata": {},
   "source": [
    "## cast_builtin"
   ]
  },
  {
   "cell_type": "code",
   "execution_count": null,
   "metadata": {},
   "outputs": [],
   "source": [
    "for object_ in (\n",
    "    None,\n",
    "    \"None\",\n",
    "    False,\n",
    "    \"False\",\n",
    "    True,\n",
    "    \"True\",\n",
    "    0,\n",
    "    0.0,\n",
    "    \"0\",\n",
    "    np.nan,\n",
    "):\n",
    "\n",
    "    print(\"=\" * 80)\n",
    "\n",
    "    print(object_)\n",
    "\n",
    "    print(type(kraft.support.cast_builtin(object_)))"
   ]
  }
 ],
 "metadata": {
  "kernelspec": {
   "display_name": "Python 3",
   "language": "python",
   "name": "python3"
  },
  "language_info": {
   "codemirror_mode": {
    "name": "ipython",
    "version": 3
   },
   "file_extension": ".py",
   "mimetype": "text/x-python",
   "name": "python",
   "nbconvert_exporter": "python",
   "pygments_lexer": "ipython3",
   "version": "3.7.8"
  }
 },
 "nbformat": 4,
 "nbformat_minor": 4
}
