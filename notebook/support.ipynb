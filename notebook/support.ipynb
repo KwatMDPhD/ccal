{
 "cells": [
  {
   "cell_type": "code",
   "execution_count": null,
   "metadata": {
    "execution": {
     "iopub.execute_input": "2021-05-30T23:49:19.985283Z",
     "iopub.status.busy": "2021-05-30T23:49:19.984454Z",
     "iopub.status.idle": "2021-05-30T23:49:19.997419Z",
     "shell.execute_reply": "2021-05-30T23:49:19.997936Z"
    }
   },
   "outputs": [],
   "source": [
    "%load_ext autoreload\n",
    "%autoreload 2"
   ]
  },
  {
   "cell_type": "code",
   "execution_count": null,
   "metadata": {
    "execution": {
     "iopub.execute_input": "2021-05-30T23:49:20.001449Z",
     "iopub.status.busy": "2021-05-30T23:49:20.000817Z",
     "iopub.status.idle": "2021-05-30T23:49:20.541946Z",
     "shell.execute_reply": "2021-05-30T23:49:20.542329Z"
    }
   },
   "outputs": [],
   "source": [
    "import kraft"
   ]
  },
  {
   "cell_type": "markdown",
   "metadata": {},
   "source": [
    "## print_stack_state"
   ]
  },
  {
   "cell_type": "code",
   "execution_count": null,
   "metadata": {
    "execution": {
     "iopub.execute_input": "2021-05-30T23:49:20.545874Z",
     "iopub.status.busy": "2021-05-30T23:49:20.545349Z",
     "iopub.status.idle": "2021-05-30T23:49:20.733411Z",
     "shell.execute_reply": "2021-05-30T23:49:20.733771Z"
    }
   },
   "outputs": [],
   "source": [
    "def fu1(ar, ke=\"Local\"):\n",
    "\n",
    "    lo1 = \"Local\"\n",
    "\n",
    "    kraft.support.print_stack_state()\n",
    "\n",
    "\n",
    "fu1(\"Local\")"
   ]
  },
  {
   "cell_type": "code",
   "execution_count": null,
   "metadata": {
    "execution": {
     "iopub.execute_input": "2021-05-30T23:49:20.736867Z",
     "iopub.status.busy": "2021-05-30T23:49:20.736353Z",
     "iopub.status.idle": "2021-05-30T23:49:20.760993Z",
     "shell.execute_reply": "2021-05-30T23:49:20.761387Z"
    }
   },
   "outputs": [],
   "source": [
    "def fu2(\n",
    "    ar,\n",
    "):\n",
    "\n",
    "    lo2 = \"Not local\"\n",
    "\n",
    "    fu1(ar)\n",
    "\n",
    "\n",
    "fu2(\"Local\")"
   ]
  },
  {
   "cell_type": "markdown",
   "metadata": {},
   "source": [
    "## cast_builtin"
   ]
  },
  {
   "cell_type": "code",
   "execution_count": null,
   "metadata": {
    "execution": {
     "iopub.execute_input": "2021-05-30T23:49:20.764620Z",
     "iopub.status.busy": "2021-05-30T23:49:20.764022Z",
     "iopub.status.idle": "2021-05-30T23:49:20.780933Z",
     "shell.execute_reply": "2021-05-30T23:49:20.781306Z"
    }
   },
   "outputs": [],
   "source": [
    "import numpy as np"
   ]
  },
  {
   "cell_type": "code",
   "execution_count": null,
   "metadata": {
    "execution": {
     "iopub.execute_input": "2021-05-30T23:49:20.784951Z",
     "iopub.status.busy": "2021-05-30T23:49:20.784417Z",
     "iopub.status.idle": "2021-05-30T23:49:20.801663Z",
     "shell.execute_reply": "2021-05-30T23:49:20.801294Z"
    }
   },
   "outputs": [],
   "source": [
    "for an in [None, \"None\", False, \"False\", True, \"True\", 0, 0.0, \"0\", np.nan]:\n",
    "\n",
    "    print(kraft.support.cast_builtin(an))"
   ]
  }
 ],
 "metadata": {
  "kernelspec": {
   "display_name": "Python 3",
   "language": "python",
   "name": "python3"
  },
  "language_info": {
   "codemirror_mode": {
    "name": "ipython",
    "version": 3
   },
   "file_extension": ".py",
   "mimetype": "text/x-python",
   "name": "python",
   "nbconvert_exporter": "python",
   "pygments_lexer": "ipython3",
   "version": "3.8.9"
  }
 },
 "nbformat": 4,
 "nbformat_minor": 4
}
