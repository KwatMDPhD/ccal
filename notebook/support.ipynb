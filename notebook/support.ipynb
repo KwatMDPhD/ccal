{
 "cells": [
  {
   "cell_type": "code",
   "execution_count": null,
   "metadata": {
    "execution": {
     "iopub.execute_input": "2021-05-29T23:06:06.218671Z",
     "iopub.status.busy": "2021-05-29T23:06:06.217750Z",
     "iopub.status.idle": "2021-05-29T23:06:06.231430Z",
     "shell.execute_reply": "2021-05-29T23:06:06.231867Z"
    }
   },
   "outputs": [],
   "source": [
    "%load_ext autoreload\n",
    "%autoreload 2"
   ]
  },
  {
   "cell_type": "code",
   "execution_count": null,
   "metadata": {
    "execution": {
     "iopub.execute_input": "2021-05-29T23:06:06.235238Z",
     "iopub.status.busy": "2021-05-29T23:06:06.234654Z",
     "iopub.status.idle": "2021-05-29T23:06:06.786652Z",
     "shell.execute_reply": "2021-05-29T23:06:06.786998Z"
    }
   },
   "outputs": [],
   "source": [
    "import kraft"
   ]
  },
  {
   "cell_type": "markdown",
   "metadata": {},
   "source": [
    "## print_stack_state"
   ]
  },
  {
   "cell_type": "code",
   "execution_count": null,
   "metadata": {
    "execution": {
     "iopub.execute_input": "2021-05-29T23:06:06.790502Z",
     "iopub.status.busy": "2021-05-29T23:06:06.789902Z",
     "iopub.status.idle": "2021-05-29T23:06:06.972086Z",
     "shell.execute_reply": "2021-05-29T23:06:06.972504Z"
    }
   },
   "outputs": [],
   "source": [
    "def fu1(\n",
    "    ar,\n",
    "    ke=\"Local\",\n",
    "):\n",
    "\n",
    "    lo1 = \"Local\"\n",
    "\n",
    "    kraft.support.print_stack_state()\n",
    "\n",
    "\n",
    "fu1(\"Local\")"
   ]
  },
  {
   "cell_type": "code",
   "execution_count": null,
   "metadata": {
    "execution": {
     "iopub.execute_input": "2021-05-29T23:06:06.975718Z",
     "iopub.status.busy": "2021-05-29T23:06:06.975212Z",
     "iopub.status.idle": "2021-05-29T23:06:06.999632Z",
     "shell.execute_reply": "2021-05-29T23:06:07.000048Z"
    }
   },
   "outputs": [],
   "source": [
    "def fu2(\n",
    "    ar,\n",
    "):\n",
    "\n",
    "    lo2 = \"Not local\"\n",
    "\n",
    "    fu1(ar)\n",
    "\n",
    "\n",
    "fu2(\"Local\")"
   ]
  },
  {
   "cell_type": "markdown",
   "metadata": {},
   "source": [
    "## cast_builtin"
   ]
  },
  {
   "cell_type": "code",
   "execution_count": null,
   "metadata": {
    "execution": {
     "iopub.execute_input": "2021-05-29T23:06:07.003059Z",
     "iopub.status.busy": "2021-05-29T23:06:07.002557Z",
     "iopub.status.idle": "2021-05-29T23:06:07.019936Z",
     "shell.execute_reply": "2021-05-29T23:06:07.020295Z"
    }
   },
   "outputs": [],
   "source": [
    "import numpy as np"
   ]
  },
  {
   "cell_type": "code",
   "execution_count": null,
   "metadata": {
    "execution": {
     "iopub.execute_input": "2021-05-29T23:06:07.023877Z",
     "iopub.status.busy": "2021-05-29T23:06:07.023369Z",
     "iopub.status.idle": "2021-05-29T23:06:07.039952Z",
     "shell.execute_reply": "2021-05-29T23:06:07.040309Z"
    }
   },
   "outputs": [],
   "source": [
    "for an in [\n",
    "    None,\n",
    "    \"None\",\n",
    "    False,\n",
    "    \"False\",\n",
    "    True,\n",
    "    \"True\",\n",
    "    0,\n",
    "    0.0,\n",
    "    \"0\",\n",
    "    np.nan,\n",
    "]:\n",
    "\n",
    "    print(kraft.support.cast_builtin(an))"
   ]
  }
 ],
 "metadata": {
  "kernelspec": {
   "display_name": "Python 3",
   "language": "python",
   "name": "python3"
  },
  "language_info": {
   "codemirror_mode": {
    "name": "ipython",
    "version": 3
   },
   "file_extension": ".py",
   "mimetype": "text/x-python",
   "name": "python",
   "nbconvert_exporter": "python",
   "pygments_lexer": "ipython3",
   "version": "3.8.9"
  }
 },
 "nbformat": 4,
 "nbformat_minor": 4
}
