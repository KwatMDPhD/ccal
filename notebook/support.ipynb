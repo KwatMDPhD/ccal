{
 "cells": [
  {
   "cell_type": "code",
   "execution_count": null,
   "metadata": {
    "execution": {
     "iopub.execute_input": "2021-05-30T07:01:01.152146Z",
     "iopub.status.busy": "2021-05-30T07:01:01.151201Z",
     "iopub.status.idle": "2021-05-30T07:01:01.165472Z",
     "shell.execute_reply": "2021-05-30T07:01:01.165945Z"
    }
   },
   "outputs": [],
   "source": [
    "%load_ext autoreload\n",
    "%autoreload 2"
   ]
  },
  {
   "cell_type": "code",
   "execution_count": null,
   "metadata": {
    "execution": {
     "iopub.execute_input": "2021-05-30T07:01:01.169468Z",
     "iopub.status.busy": "2021-05-30T07:01:01.168870Z",
     "iopub.status.idle": "2021-05-30T07:01:01.736486Z",
     "shell.execute_reply": "2021-05-30T07:01:01.736854Z"
    }
   },
   "outputs": [],
   "source": [
    "import kraft"
   ]
  },
  {
   "cell_type": "markdown",
   "metadata": {},
   "source": [
    "## print_stack_state"
   ]
  },
  {
   "cell_type": "code",
   "execution_count": null,
   "metadata": {
    "execution": {
     "iopub.execute_input": "2021-05-30T07:01:01.741065Z",
     "iopub.status.busy": "2021-05-30T07:01:01.740543Z",
     "iopub.status.idle": "2021-05-30T07:01:01.925560Z",
     "shell.execute_reply": "2021-05-30T07:01:01.925920Z"
    }
   },
   "outputs": [],
   "source": [
    "def fu1(\n",
    "    ar,\n",
    "    ke=\"Local\",\n",
    "):\n",
    "\n",
    "    lo1 = \"Local\"\n",
    "\n",
    "    kraft.support.print_stack_state()\n",
    "\n",
    "\n",
    "fu1(\"Local\")"
   ]
  },
  {
   "cell_type": "code",
   "execution_count": null,
   "metadata": {
    "execution": {
     "iopub.execute_input": "2021-05-30T07:01:01.929010Z",
     "iopub.status.busy": "2021-05-30T07:01:01.928451Z",
     "iopub.status.idle": "2021-05-30T07:01:01.954137Z",
     "shell.execute_reply": "2021-05-30T07:01:01.954499Z"
    }
   },
   "outputs": [],
   "source": [
    "def fu2(\n",
    "    ar,\n",
    "):\n",
    "\n",
    "    lo2 = \"Not local\"\n",
    "\n",
    "    fu1(ar)\n",
    "\n",
    "\n",
    "fu2(\"Local\")"
   ]
  },
  {
   "cell_type": "markdown",
   "metadata": {},
   "source": [
    "## cast_builtin"
   ]
  },
  {
   "cell_type": "code",
   "execution_count": null,
   "metadata": {
    "execution": {
     "iopub.execute_input": "2021-05-30T07:01:01.957272Z",
     "iopub.status.busy": "2021-05-30T07:01:01.956770Z",
     "iopub.status.idle": "2021-05-30T07:01:01.972891Z",
     "shell.execute_reply": "2021-05-30T07:01:01.973266Z"
    }
   },
   "outputs": [],
   "source": [
    "import numpy as np"
   ]
  },
  {
   "cell_type": "code",
   "execution_count": null,
   "metadata": {
    "execution": {
     "iopub.execute_input": "2021-05-30T07:01:01.977059Z",
     "iopub.status.busy": "2021-05-30T07:01:01.976507Z",
     "iopub.status.idle": "2021-05-30T07:01:01.993763Z",
     "shell.execute_reply": "2021-05-30T07:01:01.993322Z"
    }
   },
   "outputs": [],
   "source": [
    "for an in [\n",
    "    None,\n",
    "    \"None\",\n",
    "    False,\n",
    "    \"False\",\n",
    "    True,\n",
    "    \"True\",\n",
    "    0,\n",
    "    0.0,\n",
    "    \"0\",\n",
    "    np.nan,\n",
    "]:\n",
    "\n",
    "    print(kraft.support.cast_builtin(an))"
   ]
  }
 ],
 "metadata": {
  "kernelspec": {
   "display_name": "Python 3",
   "language": "python",
   "name": "python3"
  },
  "language_info": {
   "codemirror_mode": {
    "name": "ipython",
    "version": 3
   },
   "file_extension": ".py",
   "mimetype": "text/x-python",
   "name": "python",
   "nbconvert_exporter": "python",
   "pygments_lexer": "ipython3",
   "version": "3.8.9"
  }
 },
 "nbformat": 4,
 "nbformat_minor": 4
}
