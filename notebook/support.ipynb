{
 "cells": [
  {
   "cell_type": "code",
   "execution_count": 1,
   "metadata": {},
   "outputs": [],
   "source": [
    "%load_ext autoreload\n",
    "%autoreload 2"
   ]
  },
  {
   "cell_type": "code",
   "execution_count": 2,
   "metadata": {},
   "outputs": [],
   "source": [
    "import numpy as np\n",
    "\n",
    "import kraft"
   ]
  },
  {
   "cell_type": "markdown",
   "metadata": {},
   "source": [
    "## print_stack_state"
   ]
  },
  {
   "cell_type": "code",
   "execution_count": 3,
   "metadata": {},
   "outputs": [
    {
     "name": "stdout",
     "output_type": "stream",
     "text": [
      "@f1(a=Local, b=Local, c=Local)\n"
     ]
    }
   ],
   "source": [
    "def f1(a, b=\"Local\"):\n",
    "\n",
    "    c = \"Local\"\n",
    "\n",
    "    kraft.support.print_stack_state()\n",
    "\n",
    "\n",
    "f1(\"Local\")"
   ]
  },
  {
   "cell_type": "code",
   "execution_count": 4,
   "metadata": {},
   "outputs": [
    {
     "name": "stdout",
     "output_type": "stream",
     "text": [
      "@f1(a=Local, b=Local, c=Local)\n"
     ]
    }
   ],
   "source": [
    "def f2(a):\n",
    "\n",
    "    d = \"Not local\"\n",
    "\n",
    "    f1(a)\n",
    "\n",
    "\n",
    "f2(\"Local\")"
   ]
  },
  {
   "cell_type": "markdown",
   "metadata": {},
   "source": [
    "## cast_builtin"
   ]
  },
  {
   "cell_type": "code",
   "execution_count": 5,
   "metadata": {},
   "outputs": [
    {
     "name": "stdout",
     "output_type": "stream",
     "text": [
      "<class 'NoneType'>\n",
      "<class 'NoneType'>\n",
      "<class 'bool'>\n",
      "<class 'bool'>\n",
      "<class 'bool'>\n",
      "<class 'bool'>\n",
      "<class 'int'>\n",
      "<class 'int'>\n",
      "<class 'int'>\n",
      "<class 'float'>\n"
     ]
    }
   ],
   "source": [
    "for o in (\n",
    "    None,\n",
    "    \"None\",\n",
    "    False,\n",
    "    \"False\",\n",
    "    True,\n",
    "    \"True\",\n",
    "    0,\n",
    "    0.0,\n",
    "    \"0\",\n",
    "    np.nan,\n",
    "):\n",
    "\n",
    "    print(type(kraft.support.cast_builtin(o)))"
   ]
  }
 ],
 "metadata": {
  "kernelspec": {
   "display_name": "Python 3",
   "language": "python",
   "name": "python3"
  },
  "language_info": {
   "codemirror_mode": {
    "name": "ipython",
    "version": 3
   },
   "file_extension": ".py",
   "mimetype": "text/x-python",
   "name": "python",
   "nbconvert_exporter": "python",
   "pygments_lexer": "ipython3",
   "version": "3.8.9"
  }
 },
 "nbformat": 4,
 "nbformat_minor": 4
}
