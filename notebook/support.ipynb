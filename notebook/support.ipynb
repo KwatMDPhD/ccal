{
 "cells": [
  {
   "cell_type": "code",
   "execution_count": null,
   "metadata": {
    "execution": {
     "iopub.execute_input": "2021-05-31T22:30:19.827159Z",
     "iopub.status.busy": "2021-05-31T22:30:19.826383Z",
     "iopub.status.idle": "2021-05-31T22:30:19.841213Z",
     "shell.execute_reply": "2021-05-31T22:30:19.840691Z"
    },
    "tags": []
   },
   "outputs": [],
   "source": [
    "%load_ext autoreload\n",
    "%autoreload 2"
   ]
  },
  {
   "cell_type": "code",
   "execution_count": null,
   "metadata": {
    "execution": {
     "iopub.execute_input": "2021-05-31T22:30:19.844687Z",
     "iopub.status.busy": "2021-05-31T22:30:19.844097Z",
     "iopub.status.idle": "2021-05-31T22:30:20.370052Z",
     "shell.execute_reply": "2021-05-31T22:30:20.370443Z"
    },
    "tags": []
   },
   "outputs": [],
   "source": [
    "import kraft"
   ]
  },
  {
   "cell_type": "markdown",
   "metadata": {},
   "source": [
    "## print_stack_state"
   ]
  },
  {
   "cell_type": "code",
   "execution_count": null,
   "metadata": {
    "execution": {
     "iopub.execute_input": "2021-05-31T22:30:20.373764Z",
     "iopub.status.busy": "2021-05-31T22:30:20.373231Z",
     "iopub.status.idle": "2021-05-31T22:30:20.549171Z",
     "shell.execute_reply": "2021-05-31T22:30:20.549521Z"
    },
    "tags": []
   },
   "outputs": [],
   "source": [
    "def fu1(ar, ke=\"Local\"):\n",
    "\n",
    "    lo1 = \"Local\"\n",
    "\n",
    "    kraft.support.print_stack_state()\n",
    "\n",
    "\n",
    "fu1(\"Local\")"
   ]
  },
  {
   "cell_type": "code",
   "execution_count": null,
   "metadata": {
    "execution": {
     "iopub.execute_input": "2021-05-31T22:30:20.552809Z",
     "iopub.status.busy": "2021-05-31T22:30:20.552330Z",
     "iopub.status.idle": "2021-05-31T22:30:20.575652Z",
     "shell.execute_reply": "2021-05-31T22:30:20.576009Z"
    },
    "tags": []
   },
   "outputs": [],
   "source": [
    "def fu2(ar):\n",
    "\n",
    "    lo2 = \"Not local\"\n",
    "\n",
    "    fu1(ar)\n",
    "\n",
    "\n",
    "fu2(\"Local\")"
   ]
  },
  {
   "cell_type": "markdown",
   "metadata": {},
   "source": [
    "## cast_builtin"
   ]
  },
  {
   "cell_type": "code",
   "execution_count": null,
   "metadata": {
    "execution": {
     "iopub.execute_input": "2021-05-31T22:30:20.578987Z",
     "iopub.status.busy": "2021-05-31T22:30:20.578288Z",
     "iopub.status.idle": "2021-05-31T22:30:20.595838Z",
     "shell.execute_reply": "2021-05-31T22:30:20.596212Z"
    },
    "tags": []
   },
   "outputs": [],
   "source": [
    "import numpy as np"
   ]
  },
  {
   "cell_type": "code",
   "execution_count": null,
   "metadata": {
    "execution": {
     "iopub.execute_input": "2021-05-31T22:30:20.599553Z",
     "iopub.status.busy": "2021-05-31T22:30:20.599041Z",
     "iopub.status.idle": "2021-05-31T22:30:20.616134Z",
     "shell.execute_reply": "2021-05-31T22:30:20.615697Z"
    },
    "tags": []
   },
   "outputs": [],
   "source": [
    "for an in [None, \"None\", False, \"False\", True, \"True\", 0, 0.0, \"0\", np.nan]:\n",
    "\n",
    "    print(kraft.support.cast_builtin(an))"
   ]
  }
 ],
 "metadata": {
  "kernelspec": {
   "display_name": "Python 3",
   "language": "python",
   "name": "python3"
  },
  "language_info": {
   "codemirror_mode": {
    "name": "ipython",
    "version": 3
   },
   "file_extension": ".py",
   "mimetype": "text/x-python",
   "name": "python",
   "nbconvert_exporter": "python",
   "pygments_lexer": "ipython3",
   "version": "3.8.9"
  }
 },
 "nbformat": 4,
 "nbformat_minor": 4
}
