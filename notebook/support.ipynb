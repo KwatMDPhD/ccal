{
 "cells": [
  {
   "cell_type": "code",
   "execution_count": null,
   "metadata": {
    "ExecuteTime": {
     "end_time": "2018-05-15T09:35:59.655948Z",
     "start_time": "2018-05-15T09:35:59.584602Z"
    }
   },
   "outputs": [],
   "source": [
    "%load_ext autoreload\n",
    "%autoreload 2"
   ]
  },
  {
   "cell_type": "code",
   "execution_count": null,
   "metadata": {},
   "outputs": [],
   "source": [
    "import os\n",
    "import sys\n",
    "\n",
    "import numpy as np\n",
    "import pandas as pd\n",
    "import plotly as pl"
   ]
  },
  {
   "cell_type": "code",
   "execution_count": null,
   "metadata": {},
   "outputs": [],
   "source": [
    "sys.path.insert(0, \"..\")\n",
    "\n",
    "np.random.random(20121020)\n",
    "\n",
    "pl.offline.init_notebook_mode(connected=True)"
   ]
  },
  {
   "cell_type": "code",
   "execution_count": null,
   "metadata": {
    "ExecuteTime": {
     "end_time": "2018-05-15T09:36:04.147455Z",
     "start_time": "2018-05-15T09:35:59.734704Z"
    }
   },
   "outputs": [],
   "source": [
    "from time import sleep\n",
    "\n",
    "from support.multiprocess import multiprocess\n",
    "\n",
    "\n",
    "def function(a, b):\n",
    "\n",
    "    sleep(2)\n",
    "\n",
    "    return a + b\n",
    "\n",
    "\n",
    "returns = multiprocess(function, ((0, 1), (2, 3), (4, 5)), 2)\n",
    "\n",
    "returns"
   ]
  },
  {
   "cell_type": "code",
   "execution_count": null,
   "metadata": {},
   "outputs": [],
   "source": [
    "from support.df import drop_df_slice_greedily\n",
    "\n",
    "df = pd.DataFrame(np.random.random_sample(size=(2, 4)))\n",
    "\n",
    "df_dropped = drop_df_slice_greedily(df)\n",
    "\n",
    "print(df_dropped)\n",
    "\n",
    "df_dropped = drop_df_slice_greedily(df.T)\n",
    "\n",
    "print(df_dropped)"
   ]
  }
 ],
 "metadata": {
  "kernelspec": {
   "display_name": "Python 3",
   "language": "python",
   "name": "python3"
  },
  "language_info": {
   "codemirror_mode": {
    "name": "ipython",
    "version": 3
   },
   "file_extension": ".py",
   "mimetype": "text/x-python",
   "name": "python",
   "nbconvert_exporter": "python",
   "pygments_lexer": "ipython3",
   "version": "3.6.6"
  }
 },
 "nbformat": 4,
 "nbformat_minor": 2
}
