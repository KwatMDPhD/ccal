{
 "cells": [
  {
   "cell_type": "code",
   "execution_count": null,
   "metadata": {
    "execution": {
     "iopub.execute_input": "2021-05-31T06:00:37.903124Z",
     "iopub.status.busy": "2021-05-31T06:00:37.902210Z",
     "iopub.status.idle": "2021-05-31T06:00:37.916161Z",
     "shell.execute_reply": "2021-05-31T06:00:37.916728Z"
    }
   },
   "outputs": [],
   "source": [
    "%load_ext autoreload\n",
    "%autoreload 2"
   ]
  },
  {
   "cell_type": "code",
   "execution_count": null,
   "metadata": {
    "execution": {
     "iopub.execute_input": "2021-05-31T06:00:37.920246Z",
     "iopub.status.busy": "2021-05-31T06:00:37.919665Z",
     "iopub.status.idle": "2021-05-31T06:00:38.484204Z",
     "shell.execute_reply": "2021-05-31T06:00:38.483813Z"
    }
   },
   "outputs": [],
   "source": [
    "import kraft"
   ]
  },
  {
   "cell_type": "markdown",
   "metadata": {},
   "source": [
    "## print_stack_state"
   ]
  },
  {
   "cell_type": "code",
   "execution_count": null,
   "metadata": {
    "execution": {
     "iopub.execute_input": "2021-05-31T06:00:38.487706Z",
     "iopub.status.busy": "2021-05-31T06:00:38.487129Z",
     "iopub.status.idle": "2021-05-31T06:00:38.693975Z",
     "shell.execute_reply": "2021-05-31T06:00:38.694332Z"
    }
   },
   "outputs": [],
   "source": [
    "def fu1(ar, ke=\"Local\"):\n",
    "\n",
    "    lo1 = \"Local\"\n",
    "\n",
    "    kraft.support.print_stack_state()\n",
    "\n",
    "\n",
    "fu1(\"Local\")"
   ]
  },
  {
   "cell_type": "code",
   "execution_count": null,
   "metadata": {
    "execution": {
     "iopub.execute_input": "2021-05-31T06:00:38.697466Z",
     "iopub.status.busy": "2021-05-31T06:00:38.696952Z",
     "iopub.status.idle": "2021-05-31T06:00:38.723323Z",
     "shell.execute_reply": "2021-05-31T06:00:38.723737Z"
    }
   },
   "outputs": [],
   "source": [
    "def fu2(\n",
    "    ar,\n",
    "):\n",
    "\n",
    "    lo2 = \"Not local\"\n",
    "\n",
    "    fu1(ar)\n",
    "\n",
    "\n",
    "fu2(\"Local\")"
   ]
  },
  {
   "cell_type": "markdown",
   "metadata": {},
   "source": [
    "## cast_builtin"
   ]
  },
  {
   "cell_type": "code",
   "execution_count": null,
   "metadata": {
    "execution": {
     "iopub.execute_input": "2021-05-31T06:00:38.726487Z",
     "iopub.status.busy": "2021-05-31T06:00:38.725985Z",
     "iopub.status.idle": "2021-05-31T06:00:38.742068Z",
     "shell.execute_reply": "2021-05-31T06:00:38.742460Z"
    }
   },
   "outputs": [],
   "source": [
    "import numpy as np"
   ]
  },
  {
   "cell_type": "code",
   "execution_count": null,
   "metadata": {
    "execution": {
     "iopub.execute_input": "2021-05-31T06:00:38.746031Z",
     "iopub.status.busy": "2021-05-31T06:00:38.745497Z",
     "iopub.status.idle": "2021-05-31T06:00:38.763519Z",
     "shell.execute_reply": "2021-05-31T06:00:38.764004Z"
    }
   },
   "outputs": [],
   "source": [
    "for an in [None, \"None\", False, \"False\", True, \"True\", 0, 0.0, \"0\", np.nan]:\n",
    "\n",
    "    print(kraft.support.cast_builtin(an))"
   ]
  }
 ],
 "metadata": {
  "kernelspec": {
   "display_name": "Python 3",
   "language": "python",
   "name": "python3"
  },
  "language_info": {
   "codemirror_mode": {
    "name": "ipython",
    "version": 3
   },
   "file_extension": ".py",
   "mimetype": "text/x-python",
   "name": "python",
   "nbconvert_exporter": "python",
   "pygments_lexer": "ipython3",
   "version": "3.8.9"
  }
 },
 "nbformat": 4,
 "nbformat_minor": 4
}
