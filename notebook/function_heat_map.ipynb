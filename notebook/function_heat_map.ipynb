{
 "cells": [
  {
   "cell_type": "code",
   "execution_count": null,
   "metadata": {},
   "outputs": [],
   "source": [
    "%load_ext autoreload\n",
    "%autoreload 2"
   ]
  },
  {
   "cell_type": "code",
   "execution_count": null,
   "metadata": {},
   "outputs": [],
   "source": [
    "import numpy as np\n",
    "import pandas as pd\n",
    "\n",
    "import kraft"
   ]
  },
  {
   "cell_type": "code",
   "execution_count": null,
   "metadata": {},
   "outputs": [],
   "source": [
    "function = kraft.compute_ic"
   ]
  },
  {
   "cell_type": "code",
   "execution_count": null,
   "metadata": {},
   "outputs": [],
   "source": [
    "def simulate_vector_and_matrix(shape, matrix_n_category=None):\n",
    "\n",
    "    if matrix_n_category is None:\n",
    "\n",
    "        vector = np.random.normal(size=shape[1])\n",
    "\n",
    "        matrix = np.random.normal(size=shape)\n",
    "\n",
    "    else:\n",
    "\n",
    "        vector = np.random.randint(0, high=matrix_n_category, size=shape[1])\n",
    "\n",
    "        matrix = np.random.randint(0, high=matrix_n_category, size=shape)\n",
    "\n",
    "    columns = pd.Index((\"Column{}\".format(i) for i in range(shape[1])), name=\"Column\")\n",
    "\n",
    "    return (\n",
    "        pd.Series(vector, index=columns, name=\"Vector\"),\n",
    "        pd.DataFrame(\n",
    "            matrix,\n",
    "            index=pd.Index((\"Row{}\".format(i) for i in range(shape[0])), name=\"Row\"),\n",
    "            columns=columns,\n",
    "        ),\n",
    "    )"
   ]
  },
  {
   "cell_type": "code",
   "execution_count": null,
   "metadata": {
    "ExecuteTime": {
     "end_time": "2018-05-15T10:46:36.617163Z",
     "start_time": "2018-05-15T10:46:33.667703Z"
    }
   },
   "outputs": [],
   "source": [
    "for shape in (\n",
    "    (1, 8),\n",
    "    (2, 8),\n",
    "    (4, 8),\n",
    "    (8, 8),\n",
    "    (16, 8),\n",
    "    (32, 8),\n",
    "    (64, 8),\n",
    "    (128, 8),\n",
    "    (256, 8),\n",
    "    (8, 2),\n",
    "    (8, 4),\n",
    "    (8, 16),\n",
    "    (8, 32),\n",
    "    (8, 64),\n",
    "    (8, 128),\n",
    "    (8, 256),\n",
    "):\n",
    "\n",
    "    vector, matrix = simulate_vector_and_matrix(shape)\n",
    "\n",
    "    kraft.function_heat_map(vector, matrix, function, n_extreme=None)"
   ]
  },
  {
   "cell_type": "code",
   "execution_count": null,
   "metadata": {},
   "outputs": [],
   "source": [
    "shape = (10, 20)\n",
    "\n",
    "vector, matrix = simulate_vector_and_matrix(shape)\n",
    "\n",
    "# matrix.iloc[0] = np.nan\n",
    "\n",
    "matrix.iloc[:, 0] = np.nan\n",
    "\n",
    "matrix.iloc[-2:, -2:] = np.nan\n",
    "\n",
    "kraft.function_heat_map(vector, matrix, function)"
   ]
  },
  {
   "cell_type": "code",
   "execution_count": null,
   "metadata": {},
   "outputs": [],
   "source": [
    "shape = (10, 8)\n",
    "\n",
    "matrix = simulate_vector_and_matrix(shape)[1]\n",
    "\n",
    "# matrix.iloc[0] = np.nan\n",
    "\n",
    "matrix.iloc[:, 0] = np.nan\n",
    "\n",
    "matrix.iloc[-2:, -2:] = np.nan\n",
    "\n",
    "for vector in (\n",
    "    ((1, 2, 2, 2, 2, 0, 0, 0)),\n",
    "    ((1, 1, 2, 2, 2, 0, 0, 0)),\n",
    "):\n",
    "\n",
    "    vector = pd.Series(vector, index=matrix.columns)\n",
    "\n",
    "    for vector_ascending in (None, True, False):\n",
    "\n",
    "        kraft.function_heat_map(\n",
    "            vector,\n",
    "            matrix,\n",
    "            function,\n",
    "            vector_ascending=vector_ascending,\n",
    "            vector_data_type=\"categorical\",\n",
    "        )"
   ]
  },
  {
   "cell_type": "code",
   "execution_count": null,
   "metadata": {
    "ExecuteTime": {
     "end_time": "2018-05-15T10:47:59.764349Z",
     "start_time": "2018-05-15T10:46:36.621876Z"
    }
   },
   "outputs": [],
   "source": [
    "vector = pd.read_csv(\n",
    "    \"function_heat_map_vector.tsv\", sep=\"\\t\", index_col=0, squeeze=True\n",
    ")\n",
    "\n",
    "matrix = pd.read_csv(\"function_heat_map_matrix.tsv\", sep=\"\\t\", index_col=0)\n",
    "\n",
    "kraft.function_heat_map(\n",
    "    vector, matrix, function, n_sampling=0, n_permutation=0, vector_data_type=\"binary\"\n",
    ")\n",
    "\n",
    "kraft.function_heat_map(\n",
    "    matrix.iloc[0], matrix.iloc[:1], function, n_sampling=0, n_permutation=0, plot_std=3\n",
    ")\n",
    "\n",
    "kraft.function_heat_map(\n",
    "    matrix.iloc[0], matrix.iloc[:2], function, n_sampling=0, n_permutation=0, plot_std=3\n",
    ")"
   ]
  },
  {
   "cell_type": "code",
   "execution_count": null,
   "metadata": {
    "ExecuteTime": {
     "end_time": "2018-05-15T10:48:15.310369Z",
     "start_time": "2018-05-15T10:48:08.080994Z"
    }
   },
   "outputs": [],
   "source": [
    "vector, matrix = simulate_vector_and_matrix((4, 10))\n",
    "\n",
    "matrix_3 = simulate_vector_and_matrix((3, 10), 3)[1]\n",
    "\n",
    "matrix_2 = simulate_vector_and_matrix((2, 10), 2)[1]\n",
    "\n",
    "matrix.drop(matrix.columns[-3], axis=1, inplace=True)\n",
    "\n",
    "matrix_3.drop(matrix_3.columns[-2], axis=1, inplace=True)\n",
    "\n",
    "matrix_2.drop(matrix_2.columns[-1], axis=1, inplace=True)\n",
    "\n",
    "matrix_dicts = {\n",
    "    \"Matrix A\": {\"matrix\": matrix, \"data_type\": \"continuous\"},\n",
    "    \"Matrix B\": {\"matrix\": matrix_3, \"data_type\": \"categorical\"},\n",
    "    \"Matrix C\": {\"matrix\": matrix_2, \"data_type\": \"binary\"},\n",
    "}\n",
    "\n",
    "statistics_dicts = {\n",
    "    name: kraft.function_heat_map(vector, matrix_dict[\"matrix\"], function, plot=False)\n",
    "    for name, matrix_dict in matrix_dicts.items()\n",
    "}\n",
    "\n",
    "for plot_only_shared in (False, True):\n",
    "\n",
    "    kraft.function_heat_map_summary(\n",
    "        vector, matrix_dicts, statistics_dicts, plot_only_shared=plot_only_shared,\n",
    "    )"
   ]
  }
 ],
 "metadata": {
  "@webio": {
   "lastCommId": null,
   "lastKernelId": null
  },
  "kernelspec": {
   "display_name": "Python 3",
   "language": "python",
   "name": "python3"
  },
  "language_info": {
   "codemirror_mode": {
    "name": "ipython",
    "version": 3
   },
   "file_extension": ".py",
   "mimetype": "text/x-python",
   "name": "python",
   "nbconvert_exporter": "python",
   "pygments_lexer": "ipython3",
   "version": "3.7.6"
  }
 },
 "nbformat": 4,
 "nbformat_minor": 4
}
