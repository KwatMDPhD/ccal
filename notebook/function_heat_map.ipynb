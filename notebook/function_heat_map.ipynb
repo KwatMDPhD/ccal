{
 "cells": [
  {
   "cell_type": "code",
   "execution_count": null,
   "metadata": {
    "execution": {
     "iopub.execute_input": "2021-06-02T09:03:28.448979Z",
     "iopub.status.busy": "2021-06-02T09:03:28.448207Z",
     "iopub.status.idle": "2021-06-02T09:03:28.462177Z",
     "shell.execute_reply": "2021-06-02T09:03:28.462632Z"
    },
    "tags": []
   },
   "outputs": [],
   "source": [
    "%load_ext autoreload\n",
    "%autoreload 2"
   ]
  },
  {
   "cell_type": "code",
   "execution_count": null,
   "metadata": {
    "execution": {
     "iopub.execute_input": "2021-06-02T09:03:28.465953Z",
     "iopub.status.busy": "2021-06-02T09:03:28.465353Z",
     "iopub.status.idle": "2021-06-02T09:03:28.971663Z",
     "shell.execute_reply": "2021-06-02T09:03:28.971997Z"
    },
    "tags": []
   },
   "outputs": [],
   "source": [
    "import kraft"
   ]
  },
  {
   "cell_type": "code",
   "execution_count": null,
   "metadata": {
    "execution": {
     "iopub.execute_input": "2021-06-02T09:03:28.974899Z",
     "iopub.status.busy": "2021-06-02T09:03:28.974375Z",
     "iopub.status.idle": "2021-06-02T09:03:28.991321Z",
     "shell.execute_reply": "2021-06-02T09:03:28.991633Z"
    },
    "tags": []
   },
   "outputs": [],
   "source": [
    "fu = kraft.information.get_ic"
   ]
  },
  {
   "cell_type": "code",
   "execution_count": null,
   "metadata": {
    "execution": {
     "iopub.execute_input": "2021-06-02T09:03:28.994978Z",
     "iopub.status.busy": "2021-06-02T09:03:28.994406Z",
     "iopub.status.idle": "2021-06-02T09:03:29.009690Z",
     "shell.execute_reply": "2021-06-02T09:03:29.010103Z"
    },
    "tags": []
   },
   "outputs": [],
   "source": [
    "import numpy as np\n",
    "import pandas as pd"
   ]
  },
  {
   "cell_type": "code",
   "execution_count": null,
   "metadata": {
    "execution": {
     "iopub.execute_input": "2021-06-02T09:03:29.014982Z",
     "iopub.status.busy": "2021-06-02T09:03:29.014423Z",
     "iopub.status.idle": "2021-06-02T09:03:29.032391Z",
     "shell.execute_reply": "2021-06-02T09:03:29.032817Z"
    },
    "tags": []
   },
   "outputs": [],
   "source": [
    "def simulate(sh, n_ca=None):\n",
    "\n",
    "    if n_ca is None:\n",
    "\n",
    "        vector = np.random.normal(size=sh[1])\n",
    "\n",
    "        matrix = np.random.normal(size=sh)\n",
    "\n",
    "    else:\n",
    "\n",
    "        vector = np.random.randint(0, high=n_ca, size=sh[1])\n",
    "\n",
    "        matrix = np.random.randint(0, high=n_ca, size=sh)\n",
    "\n",
    "    la1_ = pd.Index((\"Label {}\".format(i) for i in range(sh[1])), name=\"Axis 1\")\n",
    "\n",
    "    return (\n",
    "        pd.Series(vector, index=la1_, name=\"Vector\"),\n",
    "        pd.DataFrame(\n",
    "            matrix,\n",
    "            pd.Index((\"Label {}\".format(i) for i in range(sh[0])), name=\"Axis 0\"),\n",
    "            columns=la1_,\n",
    "        ),\n",
    "    )"
   ]
  },
  {
   "cell_type": "markdown",
   "metadata": {},
   "source": [
    "## make"
   ]
  },
  {
   "cell_type": "code",
   "execution_count": null,
   "metadata": {
    "execution": {
     "iopub.execute_input": "2021-06-02T09:03:29.036336Z",
     "iopub.status.busy": "2021-06-02T09:03:29.035756Z",
     "iopub.status.idle": "2021-06-02T09:03:31.824564Z",
     "shell.execute_reply": "2021-06-02T09:03:31.822868Z"
    },
    "tags": []
   },
   "outputs": [],
   "source": [
    "(ta, da) = simulate([32, 16])\n",
    "\n",
    "ta.iloc[-8::2] = np.nan\n",
    "\n",
    "kraft.function_heat_map.make(ta, da, fu, ac=None)"
   ]
  },
  {
   "cell_type": "code",
   "execution_count": null,
   "metadata": {
    "execution": {
     "iopub.execute_input": "2021-06-02T09:03:31.828795Z",
     "iopub.status.busy": "2021-06-02T09:03:31.827991Z",
     "iopub.status.idle": "2021-06-02T09:03:33.538384Z",
     "shell.execute_reply": "2021-06-02T09:03:33.538748Z"
    },
    "tags": []
   },
   "outputs": [],
   "source": [
    "(ta, da) = simulate([16, 32])\n",
    "\n",
    "da.iloc[:, 0] = np.nan\n",
    "\n",
    "da.iloc[-8:, -8:] = np.nan\n",
    "\n",
    "kraft.function_heat_map.make(ta, da, fu)"
   ]
  },
  {
   "cell_type": "code",
   "execution_count": null,
   "metadata": {
    "execution": {
     "iopub.execute_input": "2021-06-02T09:03:33.542827Z",
     "iopub.status.busy": "2021-06-02T09:03:33.542262Z",
     "iopub.status.idle": "2021-06-02T09:03:43.574507Z",
     "shell.execute_reply": "2021-06-02T09:03:43.574839Z"
    },
    "tags": []
   },
   "outputs": [],
   "source": [
    "da = simulate([16, 8])[1]\n",
    "\n",
    "for nu_ in [[1, 2, 2, 2, 2, 0, 0, 0], [1, 1, 2, 2, 2, 0, 0, 0]]:\n",
    "\n",
    "    ta = pd.Series(nu_, index=da.columns)\n",
    "\n",
    "    for ac in [None, True, False]:\n",
    "\n",
    "        ta.name = \"ac={}\".format(ac)\n",
    "\n",
    "        kraft.function_heat_map.make(ta, da, fu, ac=ac, tyta=\"categorical\")"
   ]
  },
  {
   "cell_type": "code",
   "execution_count": null,
   "metadata": {
    "ExecuteTime": {
     "end_time": "2018-05-15T10:47:59.764349Z",
     "start_time": "2018-05-15T10:46:36.621876Z"
    },
    "execution": {
     "iopub.execute_input": "2021-06-02T09:03:43.578735Z",
     "iopub.status.busy": "2021-06-02T09:03:43.578221Z",
     "iopub.status.idle": "2021-06-02T09:03:43.625786Z",
     "shell.execute_reply": "2021-06-02T09:03:43.626118Z"
    },
    "tags": []
   },
   "outputs": [],
   "source": [
    "ta = pd.read_csv(\"data/function_heat_map_ta.tsv\", \"\\t\", index_col=0, squeeze=True)\n",
    "\n",
    "da = pd.read_csv(\"data/function_heat_map_da.tsv\", \"\\t\", index_col=0)"
   ]
  },
  {
   "cell_type": "code",
   "execution_count": null,
   "metadata": {
    "ExecuteTime": {
     "end_time": "2018-05-15T10:47:59.764349Z",
     "start_time": "2018-05-15T10:46:36.621876Z"
    },
    "execution": {
     "iopub.execute_input": "2021-06-02T09:03:43.629510Z",
     "iopub.status.busy": "2021-06-02T09:03:43.629006Z",
     "iopub.status.idle": "2021-06-02T09:03:46.046406Z",
     "shell.execute_reply": "2021-06-02T09:03:46.046887Z"
    },
    "tags": []
   },
   "outputs": [],
   "source": [
    "for n_row in [1, 2, 3]:\n",
    "\n",
    "    kraft.function_heat_map.make(\n",
    "        da.iloc[0, :], da.iloc[:n_row, :], fu, n_sa=0, n_sh=0, st=3\n",
    "    )"
   ]
  },
  {
   "cell_type": "code",
   "execution_count": null,
   "metadata": {
    "ExecuteTime": {
     "end_time": "2018-05-15T10:47:59.764349Z",
     "start_time": "2018-05-15T10:46:36.621876Z"
    },
    "execution": {
     "iopub.execute_input": "2021-06-02T09:03:46.050713Z",
     "iopub.status.busy": "2021-06-02T09:03:46.050216Z",
     "iopub.status.idle": "2021-06-02T09:04:30.008420Z",
     "shell.execute_reply": "2021-06-02T09:04:30.008893Z"
    },
    "tags": []
   },
   "outputs": [],
   "source": [
    "kraft.function_heat_map.make(ta, da, fu, n_jo=8, n_sa=10, n_sh=10, tyta=\"binary\")"
   ]
  },
  {
   "cell_type": "code",
   "execution_count": null,
   "metadata": {
    "ExecuteTime": {
     "end_time": "2018-05-15T10:46:36.617163Z",
     "start_time": "2018-05-15T10:46:33.667703Z"
    },
    "execution": {
     "iopub.execute_input": "2021-06-02T09:04:30.012880Z",
     "iopub.status.busy": "2021-06-02T09:04:30.012291Z",
     "iopub.status.idle": "2021-06-02T09:04:41.844307Z",
     "shell.execute_reply": "2021-06-02T09:04:41.844748Z"
    },
    "tags": []
   },
   "outputs": [],
   "source": [
    "for shape in ([1, 8], [2, 8], [8, 8], [64, 8], [8, 2], [8, 4], [8, 256]):\n",
    "\n",
    "    (ta, da) = simulate(shape)\n",
    "\n",
    "    kraft.function_heat_map.make(ta, da, fu, n_pl=None)"
   ]
  },
  {
   "cell_type": "markdown",
   "metadata": {},
   "source": [
    "## summarize"
   ]
  },
  {
   "cell_type": "code",
   "execution_count": null,
   "metadata": {
    "ExecuteTime": {
     "end_time": "2018-05-15T10:48:15.310369Z",
     "start_time": "2018-05-15T10:48:08.080994Z"
    },
    "execution": {
     "iopub.execute_input": "2021-06-02T09:04:41.851075Z",
     "iopub.status.busy": "2021-06-02T09:04:41.850457Z",
     "iopub.status.idle": "2021-06-02T09:04:45.989947Z",
     "shell.execute_reply": "2021-06-02T09:04:45.990357Z"
    },
    "tags": []
   },
   "outputs": [],
   "source": [
    "n_co = 16\n",
    "\n",
    "(ta, da) = simulate([16, n_co])\n",
    "\n",
    "da0n = simulate([8, n_co], 4)[1]\n",
    "\n",
    "da01 = simulate([4, n_co], 2)[1]\n",
    "\n",
    "da.drop(da.columns.values[-3], axis=1, inplace=True)\n",
    "\n",
    "da0n.drop(da0n.columns.values[-2], axis=1, inplace=True)\n",
    "\n",
    "da01.drop(da01.columns.values[-1], axis=1, inplace=True)\n",
    "\n",
    "pa_da = [\n",
    "    {\n",
    "        \"name\": \"Continuous\",\n",
    "        \"data\": da,\n",
    "        \"type\": \"continuous\",\n",
    "    },\n",
    "    {\n",
    "        \"name\": \"Categorical\",\n",
    "        \"data\": da0n,\n",
    "        \"type\": \"categorical\",\n",
    "    },\n",
    "    {\n",
    "        \"name\": \"Binary\",\n",
    "        \"data\": da01,\n",
    "        \"type\": \"binary\",\n",
    "    },\n",
    "]\n",
    "\n",
    "for ve in pa_da:\n",
    "\n",
    "    ve[\"statistic\"] = kraft.function_heat_map.make(ta, ve[\"data\"], fu, pl=False)\n",
    "\n",
    "for it in (False, True):\n",
    "\n",
    "    kraft.function_heat_map.summarize(ta, pa_da, it=it)"
   ]
  }
 ],
 "metadata": {
  "kernelspec": {
   "display_name": "Python 3",
   "language": "python",
   "name": "python3"
  },
  "language_info": {
   "codemirror_mode": {
    "name": "ipython",
    "version": 3
   },
   "file_extension": ".py",
   "mimetype": "text/x-python",
   "name": "python",
   "nbconvert_exporter": "python",
   "pygments_lexer": "ipython3",
   "version": "3.8.9"
  }
 },
 "nbformat": 4,
 "nbformat_minor": 4
}
