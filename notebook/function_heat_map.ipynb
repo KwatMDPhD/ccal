{
 "cells": [
  {
   "cell_type": "code",
   "execution_count": null,
   "metadata": {
    "execution": {
     "iopub.execute_input": "2021-05-31T22:27:06.870446Z",
     "iopub.status.busy": "2021-05-31T22:27:06.869648Z",
     "iopub.status.idle": "2021-05-31T22:27:06.885364Z",
     "shell.execute_reply": "2021-05-31T22:27:06.884753Z"
    },
    "tags": []
   },
   "outputs": [],
   "source": [
    "%load_ext autoreload\n",
    "%autoreload 2"
   ]
  },
  {
   "cell_type": "code",
   "execution_count": null,
   "metadata": {
    "execution": {
     "iopub.execute_input": "2021-05-31T22:27:06.888830Z",
     "iopub.status.busy": "2021-05-31T22:27:06.888242Z",
     "iopub.status.idle": "2021-05-31T22:27:07.415745Z",
     "shell.execute_reply": "2021-05-31T22:27:07.416144Z"
    },
    "tags": []
   },
   "outputs": [],
   "source": [
    "import kraft"
   ]
  },
  {
   "cell_type": "code",
   "execution_count": null,
   "metadata": {
    "execution": {
     "iopub.execute_input": "2021-05-31T22:27:07.419296Z",
     "iopub.status.busy": "2021-05-31T22:27:07.418752Z",
     "iopub.status.idle": "2021-05-31T22:27:07.435274Z",
     "shell.execute_reply": "2021-05-31T22:27:07.435658Z"
    },
    "tags": []
   },
   "outputs": [],
   "source": [
    "fu = kraft.information.get_ic"
   ]
  },
  {
   "cell_type": "code",
   "execution_count": null,
   "metadata": {
    "execution": {
     "iopub.execute_input": "2021-05-31T22:27:07.438983Z",
     "iopub.status.busy": "2021-05-31T22:27:07.438423Z",
     "iopub.status.idle": "2021-05-31T22:27:07.457577Z",
     "shell.execute_reply": "2021-05-31T22:27:07.458003Z"
    },
    "tags": []
   },
   "outputs": [],
   "source": [
    "import numpy as np\n",
    "import pandas as pd"
   ]
  },
  {
   "cell_type": "code",
   "execution_count": null,
   "metadata": {
    "execution": {
     "iopub.execute_input": "2021-05-31T22:27:07.463649Z",
     "iopub.status.busy": "2021-05-31T22:27:07.463046Z",
     "iopub.status.idle": "2021-05-31T22:27:07.482444Z",
     "shell.execute_reply": "2021-05-31T22:27:07.482991Z"
    },
    "tags": []
   },
   "outputs": [],
   "source": [
    "def simulate(sh, n_ca=None):\n",
    "\n",
    "    if n_ca is None:\n",
    "\n",
    "        vector = np.random.normal(size=sh[1])\n",
    "\n",
    "        matrix = np.random.normal(size=sh)\n",
    "\n",
    "    else:\n",
    "\n",
    "        vector = np.random.randint(0, high=n_ca, size=sh[1])\n",
    "\n",
    "        matrix = np.random.randint(0, high=n_ca, size=sh)\n",
    "\n",
    "    la1_ = pd.Index((\"Label {}\".format(i) for i in range(sh[1])), name=\"Axis 1\")\n",
    "\n",
    "    return (\n",
    "        pd.Series(vector, index=la1_, name=\"Vector\"),\n",
    "        pd.DataFrame(\n",
    "            matrix,\n",
    "            index=pd.Index((\"Label {}\".format(i) for i in range(sh[0])), name=\"Axis 0\"),\n",
    "            columns=la1_,\n",
    "        ),\n",
    "    )"
   ]
  },
  {
   "cell_type": "markdown",
   "metadata": {},
   "source": [
    "## make"
   ]
  },
  {
   "cell_type": "code",
   "execution_count": null,
   "metadata": {
    "execution": {
     "iopub.execute_input": "2021-05-31T22:27:07.486944Z",
     "iopub.status.busy": "2021-05-31T22:27:07.486366Z",
     "iopub.status.idle": "2021-05-31T22:27:10.251493Z",
     "shell.execute_reply": "2021-05-31T22:27:10.250220Z"
    },
    "tags": []
   },
   "outputs": [],
   "source": [
    "(ta, da) = simulate([32, 16])\n",
    "\n",
    "ta.iloc[-8::2] = np.nan\n",
    "\n",
    "kraft.function_heat_map.make(ta, da, fu, ac=None)"
   ]
  },
  {
   "cell_type": "code",
   "execution_count": null,
   "metadata": {
    "execution": {
     "iopub.execute_input": "2021-05-31T22:27:10.255255Z",
     "iopub.status.busy": "2021-05-31T22:27:10.254758Z",
     "iopub.status.idle": "2021-05-31T22:27:11.902990Z",
     "shell.execute_reply": "2021-05-31T22:27:11.903492Z"
    },
    "tags": []
   },
   "outputs": [],
   "source": [
    "(ta, da) = simulate([16, 32])\n",
    "\n",
    "da.iloc[:, 0] = np.nan\n",
    "\n",
    "da.iloc[-8:, -8:] = np.nan\n",
    "\n",
    "kraft.function_heat_map.make(ta, da, fu)"
   ]
  },
  {
   "cell_type": "code",
   "execution_count": null,
   "metadata": {
    "execution": {
     "iopub.execute_input": "2021-05-31T22:27:11.907413Z",
     "iopub.status.busy": "2021-05-31T22:27:11.906915Z",
     "iopub.status.idle": "2021-05-31T22:27:21.874800Z",
     "shell.execute_reply": "2021-05-31T22:27:21.875347Z"
    },
    "tags": []
   },
   "outputs": [],
   "source": [
    "da = simulate([16, 8])[1]\n",
    "\n",
    "for nu_ in [[1, 2, 2, 2, 2, 0, 0, 0], [1, 1, 2, 2, 2, 0, 0, 0]]:\n",
    "\n",
    "    ta = pd.Series(nu_, index=da.columns)\n",
    "\n",
    "    for ac in [None, True, False]:\n",
    "\n",
    "        ta.name = \"ac={}\".format(ac)\n",
    "\n",
    "        kraft.function_heat_map.make(ta, da, fu, ac=ac, tyta=\"categorical\")"
   ]
  },
  {
   "cell_type": "code",
   "execution_count": null,
   "metadata": {
    "ExecuteTime": {
     "end_time": "2018-05-15T10:47:59.764349Z",
     "start_time": "2018-05-15T10:46:36.621876Z"
    },
    "execution": {
     "iopub.execute_input": "2021-05-31T22:27:21.879089Z",
     "iopub.status.busy": "2021-05-31T22:27:21.878455Z",
     "iopub.status.idle": "2021-05-31T22:27:21.930293Z",
     "shell.execute_reply": "2021-05-31T22:27:21.930672Z"
    },
    "tags": []
   },
   "outputs": [],
   "source": [
    "ta = pd.read_csv(\"data/function_heat_map_ta.tsv\", \"\\t\", index_col=0, squeeze=True)\n",
    "\n",
    "da = pd.read_csv(\"data/function_heat_map_da.tsv\", \"\\t\", index_col=0)"
   ]
  },
  {
   "cell_type": "code",
   "execution_count": null,
   "metadata": {
    "ExecuteTime": {
     "end_time": "2018-05-15T10:47:59.764349Z",
     "start_time": "2018-05-15T10:46:36.621876Z"
    },
    "execution": {
     "iopub.execute_input": "2021-05-31T22:27:21.934676Z",
     "iopub.status.busy": "2021-05-31T22:27:21.934023Z",
     "iopub.status.idle": "2021-05-31T22:27:24.442829Z",
     "shell.execute_reply": "2021-05-31T22:27:24.443209Z"
    },
    "tags": []
   },
   "outputs": [],
   "source": [
    "for n_row in [1, 2, 3]:\n",
    "\n",
    "    kraft.function_heat_map.make(\n",
    "        da.iloc[0, :], da.iloc[:n_row, :], fu, n_sa=0, n_sh=0, st=3\n",
    "    )"
   ]
  },
  {
   "cell_type": "code",
   "execution_count": null,
   "metadata": {
    "ExecuteTime": {
     "end_time": "2018-05-15T10:47:59.764349Z",
     "start_time": "2018-05-15T10:46:36.621876Z"
    },
    "execution": {
     "iopub.execute_input": "2021-05-31T22:27:24.446879Z",
     "iopub.status.busy": "2021-05-31T22:27:24.446303Z",
     "iopub.status.idle": "2021-05-31T22:28:07.679078Z",
     "shell.execute_reply": "2021-05-31T22:28:07.679501Z"
    },
    "tags": []
   },
   "outputs": [],
   "source": [
    "kraft.function_heat_map.make(ta, da, fu, n_jo=8, n_sa=10, n_sh=10, tyta=\"binary\")"
   ]
  },
  {
   "cell_type": "code",
   "execution_count": null,
   "metadata": {
    "ExecuteTime": {
     "end_time": "2018-05-15T10:46:36.617163Z",
     "start_time": "2018-05-15T10:46:33.667703Z"
    },
    "execution": {
     "iopub.execute_input": "2021-05-31T22:28:07.683442Z",
     "iopub.status.busy": "2021-05-31T22:28:07.682849Z",
     "iopub.status.idle": "2021-05-31T22:28:18.773366Z",
     "shell.execute_reply": "2021-05-31T22:28:18.773727Z"
    },
    "tags": []
   },
   "outputs": [],
   "source": [
    "for shape in ([1, 8], [2, 8], [8, 8], [64, 8], [8, 2], [8, 4], [8, 256]):\n",
    "\n",
    "    (ta, da) = simulate(shape)\n",
    "\n",
    "    kraft.function_heat_map.make(ta, da, fu, n_pl=None)"
   ]
  },
  {
   "cell_type": "markdown",
   "metadata": {},
   "source": [
    "## summarize"
   ]
  },
  {
   "cell_type": "code",
   "execution_count": null,
   "metadata": {
    "ExecuteTime": {
     "end_time": "2018-05-15T10:48:15.310369Z",
     "start_time": "2018-05-15T10:48:08.080994Z"
    },
    "execution": {
     "iopub.execute_input": "2021-05-31T22:28:18.779276Z",
     "iopub.status.busy": "2021-05-31T22:28:18.778761Z",
     "iopub.status.idle": "2021-05-31T22:28:22.806888Z",
     "shell.execute_reply": "2021-05-31T22:28:22.807248Z"
    },
    "tags": []
   },
   "outputs": [],
   "source": [
    "n_co = 16\n",
    "\n",
    "(ta, da) = simulate([16, n_co])\n",
    "\n",
    "da0n = simulate([8, n_co], 4)[1]\n",
    "\n",
    "da01 = simulate([4, n_co], 2)[1]\n",
    "\n",
    "da.drop(da.columns.values[-3], axis=1, inplace=True)\n",
    "\n",
    "da0n.drop(da0n.columns.values[-2], axis=1, inplace=True)\n",
    "\n",
    "da01.drop(da01.columns.values[-1], axis=1, inplace=True)\n",
    "\n",
    "pa_da = [\n",
    "    {\n",
    "        \"name\": \"Continuous\",\n",
    "        \"data\": da,\n",
    "        \"type\": \"continuous\",\n",
    "    },\n",
    "    {\n",
    "        \"name\": \"Categorical\",\n",
    "        \"data\": da0n,\n",
    "        \"type\": \"categorical\",\n",
    "    },\n",
    "    {\n",
    "        \"name\": \"Binary\",\n",
    "        \"data\": da01,\n",
    "        \"type\": \"binary\",\n",
    "    },\n",
    "]\n",
    "\n",
    "for ve in pa_da:\n",
    "\n",
    "    ve[\"statistic\"] = kraft.function_heat_map.make(ta, ve[\"data\"], fu, pl=False)\n",
    "\n",
    "for it in (False, True):\n",
    "\n",
    "    kraft.function_heat_map.summarize(ta, pa_da, it=it)"
   ]
  }
 ],
 "metadata": {
  "kernelspec": {
   "display_name": "Python 3",
   "language": "python",
   "name": "python3"
  },
  "language_info": {
   "codemirror_mode": {
    "name": "ipython",
    "version": 3
   },
   "file_extension": ".py",
   "mimetype": "text/x-python",
   "name": "python",
   "nbconvert_exporter": "python",
   "pygments_lexer": "ipython3",
   "version": "3.8.9"
  }
 },
 "nbformat": 4,
 "nbformat_minor": 4
}
