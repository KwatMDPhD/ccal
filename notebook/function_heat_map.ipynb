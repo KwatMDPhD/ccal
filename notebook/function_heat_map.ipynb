{
 "cells": [
  {
   "cell_type": "code",
   "execution_count": null,
   "metadata": {
    "execution": {
     "iopub.execute_input": "2021-05-31T05:57:30.904133Z",
     "iopub.status.busy": "2021-05-31T05:57:30.903131Z",
     "iopub.status.idle": "2021-05-31T05:57:30.917778Z",
     "shell.execute_reply": "2021-05-31T05:57:30.918185Z"
    },
    "tags": []
   },
   "outputs": [],
   "source": [
    "%load_ext autoreload\n",
    "%autoreload 2"
   ]
  },
  {
   "cell_type": "code",
   "execution_count": null,
   "metadata": {
    "execution": {
     "iopub.execute_input": "2021-05-31T05:57:30.921750Z",
     "iopub.status.busy": "2021-05-31T05:57:30.921157Z",
     "iopub.status.idle": "2021-05-31T05:57:31.493378Z",
     "shell.execute_reply": "2021-05-31T05:57:31.493707Z"
    },
    "tags": []
   },
   "outputs": [],
   "source": [
    "import kraft"
   ]
  },
  {
   "cell_type": "code",
   "execution_count": null,
   "metadata": {
    "execution": {
     "iopub.execute_input": "2021-05-31T05:57:31.496605Z",
     "iopub.status.busy": "2021-05-31T05:57:31.496062Z",
     "iopub.status.idle": "2021-05-31T05:57:31.515850Z",
     "shell.execute_reply": "2021-05-31T05:57:31.516276Z"
    },
    "tags": []
   },
   "outputs": [],
   "source": [
    "function = kraft.information.get_ic"
   ]
  },
  {
   "cell_type": "code",
   "execution_count": null,
   "metadata": {
    "execution": {
     "iopub.execute_input": "2021-05-31T05:57:31.519669Z",
     "iopub.status.busy": "2021-05-31T05:57:31.519050Z",
     "iopub.status.idle": "2021-05-31T05:57:31.539004Z",
     "shell.execute_reply": "2021-05-31T05:57:31.539463Z"
    },
    "tags": []
   },
   "outputs": [],
   "source": [
    "import numpy as np\n",
    "import pandas as pd"
   ]
  },
  {
   "cell_type": "code",
   "execution_count": null,
   "metadata": {
    "execution": {
     "iopub.execute_input": "2021-05-31T05:57:31.545431Z",
     "iopub.status.busy": "2021-05-31T05:57:31.544744Z",
     "iopub.status.idle": "2021-05-31T05:57:31.564604Z",
     "shell.execute_reply": "2021-05-31T05:57:31.565027Z"
    },
    "tags": []
   },
   "outputs": [],
   "source": [
    "def simulate(shape, n_category=None):\n",
    "\n",
    "    if n_category is None:\n",
    "\n",
    "        vector = np.random.normal(size=shape[1])\n",
    "\n",
    "        matrix = np.random.normal(size=shape)\n",
    "\n",
    "    else:\n",
    "\n",
    "        vector = np.random.randint(0, high=n_category, size=shape[1])\n",
    "\n",
    "        matrix = np.random.randint(0, high=n_category, size=shape)\n",
    "\n",
    "    axis_1_labels = pd.Index(\n",
    "        (\"Label {}\".format(i) for i in range(shape[1])), name=\"Axis 1\"\n",
    "    )\n",
    "\n",
    "    return (\n",
    "        pd.Series(vector, index=axis_1_labels, name=\"Vector\"),\n",
    "        pd.DataFrame(\n",
    "            matrix,\n",
    "            index=pd.Index(\n",
    "                (\"Label {}\".format(i) for i in range(shape[0])), name=\"Axis 0\"\n",
    "            ),\n",
    "            columns=axis_1_labels,\n",
    "        ),\n",
    "    )"
   ]
  },
  {
   "cell_type": "markdown",
   "metadata": {},
   "source": [
    "## make"
   ]
  },
  {
   "cell_type": "code",
   "execution_count": null,
   "metadata": {
    "execution": {
     "iopub.execute_input": "2021-05-31T05:57:31.568471Z",
     "iopub.status.busy": "2021-05-31T05:57:31.567899Z",
     "iopub.status.idle": "2021-05-31T05:57:34.593387Z",
     "shell.execute_reply": "2021-05-31T05:57:34.591975Z"
    },
    "tags": []
   },
   "outputs": [],
   "source": [
    "(se, df) = simulate((32, 16))\n",
    "\n",
    "se.iloc[-8::2] = np.nan\n",
    "\n",
    "kraft.function_heat_map.make(se, df, function, ac=None)"
   ]
  },
  {
   "cell_type": "code",
   "execution_count": null,
   "metadata": {
    "execution": {
     "iopub.execute_input": "2021-05-31T05:57:34.597440Z",
     "iopub.status.busy": "2021-05-31T05:57:34.596903Z",
     "iopub.status.idle": "2021-05-31T05:57:36.463552Z",
     "shell.execute_reply": "2021-05-31T05:57:36.463991Z"
    },
    "tags": []
   },
   "outputs": [],
   "source": [
    "(se, df) = simulate((16, 32))\n",
    "\n",
    "df.iloc[:, 0] = np.nan\n",
    "\n",
    "df.iloc[-8:, -8:] = np.nan\n",
    "\n",
    "kraft.function_heat_map.make(se, df, function)"
   ]
  },
  {
   "cell_type": "code",
   "execution_count": null,
   "metadata": {
    "execution": {
     "iopub.execute_input": "2021-05-31T05:57:36.468106Z",
     "iopub.status.busy": "2021-05-31T05:57:36.467601Z",
     "iopub.status.idle": "2021-05-31T05:57:46.918192Z",
     "shell.execute_reply": "2021-05-31T05:57:46.918678Z"
    },
    "tags": []
   },
   "outputs": [],
   "source": [
    "df = simulate((16, 8))[1]\n",
    "\n",
    "for vector in ((1, 2, 2, 2, 2, 0, 0, 0), (1, 1, 2, 2, 2, 0, 0, 0)):\n",
    "\n",
    "    se = pd.Series(vector, index=df.columns)\n",
    "\n",
    "    for se_ascending in (None, True, False):\n",
    "\n",
    "        se.name = \"se_ascending={}\".format(se_ascending)\n",
    "\n",
    "        kraft.function_heat_map.make(\n",
    "            se, df, function, ac=se_ascending, tyta=\"categorical\"\n",
    "        )"
   ]
  },
  {
   "cell_type": "code",
   "execution_count": null,
   "metadata": {
    "ExecuteTime": {
     "end_time": "2018-05-15T10:47:59.764349Z",
     "start_time": "2018-05-15T10:46:36.621876Z"
    },
    "execution": {
     "iopub.execute_input": "2021-05-31T05:57:46.922410Z",
     "iopub.status.busy": "2021-05-31T05:57:46.921823Z",
     "iopub.status.idle": "2021-05-31T05:57:46.979623Z",
     "shell.execute_reply": "2021-05-31T05:57:46.980027Z"
    },
    "tags": []
   },
   "outputs": [],
   "source": [
    "se = pd.read_csv(\"data/function_heat_map_ta.tsv\", sep=\"\\t\", index_col=0, squeeze=True)\n",
    "\n",
    "df = pd.read_csv(\"data/function_heat_map_da.tsv\", sep=\"\\t\", index_col=0)"
   ]
  },
  {
   "cell_type": "code",
   "execution_count": null,
   "metadata": {
    "ExecuteTime": {
     "end_time": "2018-05-15T10:47:59.764349Z",
     "start_time": "2018-05-15T10:46:36.621876Z"
    },
    "execution": {
     "iopub.execute_input": "2021-05-31T05:57:46.983796Z",
     "iopub.status.busy": "2021-05-31T05:57:46.983219Z",
     "iopub.status.idle": "2021-05-31T05:57:49.600478Z",
     "shell.execute_reply": "2021-05-31T05:57:49.600903Z"
    },
    "tags": []
   },
   "outputs": [],
   "source": [
    "for n_row in (1, 2, 3):\n",
    "\n",
    "    kraft.function_heat_map.make(\n",
    "        df.iloc[0, :], df.iloc[:n_row, :], function, n_sa=0, n_sh=0, st=3\n",
    "    )"
   ]
  },
  {
   "cell_type": "code",
   "execution_count": null,
   "metadata": {
    "ExecuteTime": {
     "end_time": "2018-05-15T10:47:59.764349Z",
     "start_time": "2018-05-15T10:46:36.621876Z"
    },
    "execution": {
     "iopub.execute_input": "2021-05-31T05:57:49.604881Z",
     "iopub.status.busy": "2021-05-31T05:57:49.604305Z",
     "iopub.status.idle": "2021-05-31T05:58:34.131627Z",
     "shell.execute_reply": "2021-05-31T05:58:34.132103Z"
    },
    "tags": []
   },
   "outputs": [],
   "source": [
    "kraft.function_heat_map.make(se, df, function, n_jo=8, n_sa=10, n_sh=10, tyta=\"binary\")"
   ]
  },
  {
   "cell_type": "code",
   "execution_count": null,
   "metadata": {
    "ExecuteTime": {
     "end_time": "2018-05-15T10:46:36.617163Z",
     "start_time": "2018-05-15T10:46:33.667703Z"
    },
    "execution": {
     "iopub.execute_input": "2021-05-31T05:58:34.136602Z",
     "iopub.status.busy": "2021-05-31T05:58:34.135943Z",
     "iopub.status.idle": "2021-05-31T05:58:47.019160Z",
     "shell.execute_reply": "2021-05-31T05:58:47.019629Z"
    },
    "tags": []
   },
   "outputs": [],
   "source": [
    "for shape in ((1, 8), (2, 8), (8, 8), (64, 8), (8, 2), (8, 4), (8, 256)):\n",
    "\n",
    "    (se, df) = simulate(shape)\n",
    "\n",
    "    kraft.function_heat_map.make(se, df, function, n_pl=None)"
   ]
  },
  {
   "cell_type": "markdown",
   "metadata": {},
   "source": [
    "## summarize"
   ]
  },
  {
   "cell_type": "code",
   "execution_count": null,
   "metadata": {
    "ExecuteTime": {
     "end_time": "2018-05-15T10:48:15.310369Z",
     "start_time": "2018-05-15T10:48:08.080994Z"
    },
    "execution": {
     "iopub.execute_input": "2021-05-31T05:58:47.026243Z",
     "iopub.status.busy": "2021-05-31T05:58:47.025571Z",
     "iopub.status.idle": "2021-05-31T05:58:51.206229Z",
     "shell.execute_reply": "2021-05-31T05:58:51.206582Z"
    },
    "tags": []
   },
   "outputs": [],
   "source": [
    "n_column = 16\n",
    "\n",
    "(se, df) = simulate((16, n_column))\n",
    "\n",
    "df_0n = simulate((8, n_column), 4)[1]\n",
    "\n",
    "df_01 = simulate((4, n_column), 2)[1]\n",
    "\n",
    "df.drop(df.columns.to_numpy()[-3], axis=1, inplace=True)\n",
    "\n",
    "df_0n.drop(df_0n.columns.to_numpy()[-2], axis=1, inplace=True)\n",
    "\n",
    "df_01.drop(df_01.columns.to_numpy()[-1], axis=1, inplace=True)\n",
    "\n",
    "df_dicts = [\n",
    "    {\"name\": \"Continuous\", \"data\": df, \"type\": \"continuous\"},\n",
    "    {\"name\": \"Categorical\", \"data\": df_0n, \"type\": \"categorical\"},\n",
    "    {\"name\": \"Binary\", \"data\": df_01, \"type\": \"binary\"},\n",
    "]\n",
    "\n",
    "for v in df_dicts:\n",
    "\n",
    "    v[\"statistic\"] = kraft.function_heat_map.make(se, v[\"data\"], function, pl=False)\n",
    "\n",
    "for plot_only_shared in (False, True):\n",
    "\n",
    "    kraft.function_heat_map.summarize(se, df_dicts, it=plot_only_shared)"
   ]
  }
 ],
 "metadata": {
  "kernelspec": {
   "display_name": "Python 3",
   "language": "python",
   "name": "python3"
  },
  "language_info": {
   "codemirror_mode": {
    "name": "ipython",
    "version": 3
   },
   "file_extension": ".py",
   "mimetype": "text/x-python",
   "name": "python",
   "nbconvert_exporter": "python",
   "pygments_lexer": "ipython3",
   "version": "3.8.9"
  }
 },
 "nbformat": 4,
 "nbformat_minor": 4
}
