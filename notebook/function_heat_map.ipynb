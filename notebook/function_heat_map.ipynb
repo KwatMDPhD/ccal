{
 "cells": [
  {
   "cell_type": "code",
   "execution_count": null,
   "metadata": {},
   "outputs": [],
   "source": [
    "%load_ext autoreload\n",
    "%autoreload 2"
   ]
  },
  {
   "cell_type": "code",
   "execution_count": null,
   "metadata": {},
   "outputs": [],
   "source": [
    "import kraft"
   ]
  },
  {
   "cell_type": "code",
   "execution_count": null,
   "metadata": {},
   "outputs": [],
   "source": [
    "function = kraft.information.get_ic"
   ]
  },
  {
   "cell_type": "code",
   "execution_count": null,
   "metadata": {},
   "outputs": [],
   "source": [
    "import numpy as np\n",
    "import pandas as pd"
   ]
  },
  {
   "cell_type": "code",
   "execution_count": null,
   "metadata": {},
   "outputs": [],
   "source": [
    "def simulate(\n",
    "    shape,\n",
    "    n_category=None,\n",
    "):\n",
    "\n",
    "    if n_category is None:\n",
    "\n",
    "        vector = np.random.normal(size=shape[1])\n",
    "\n",
    "        matrix = np.random.normal(size=shape)\n",
    "\n",
    "    else:\n",
    "\n",
    "        vector = np.random.randint(\n",
    "            0,\n",
    "            high=n_category,\n",
    "            size=shape[1],\n",
    "        )\n",
    "\n",
    "        matrix = np.random.randint(\n",
    "            0,\n",
    "            high=n_category,\n",
    "            size=shape,\n",
    "        )\n",
    "\n",
    "    axis_1_labels = pd.Index(\n",
    "        (\"Label {}\".format(i) for i in range(shape[1])),\n",
    "        name=\"Axis 1\",\n",
    "    )\n",
    "\n",
    "    return (\n",
    "        pd.Series(\n",
    "            vector,\n",
    "            index=axis_1_labels,\n",
    "            name=\"Vector\",\n",
    "        ),\n",
    "        pd.DataFrame(\n",
    "            matrix,\n",
    "            index=pd.Index(\n",
    "                (\"Label {}\".format(i) for i in range(shape[0])),\n",
    "                name=\"Axis 0\",\n",
    "            ),\n",
    "            columns=axis_1_labels,\n",
    "        ),\n",
    "    )"
   ]
  },
  {
   "cell_type": "markdown",
   "metadata": {},
   "source": [
    "## make"
   ]
  },
  {
   "cell_type": "code",
   "execution_count": null,
   "metadata": {},
   "outputs": [],
   "source": [
    "(se, df,) = simulate(\n",
    "    (\n",
    "        32,\n",
    "        16,\n",
    "    )\n",
    ")\n",
    "\n",
    "se.iloc[-8::2] = np.nan\n",
    "\n",
    "kraft.function_heat_map.make(\n",
    "    se,\n",
    "    df,\n",
    "    function,\n",
    "    ac=None,\n",
    ")"
   ]
  },
  {
   "cell_type": "code",
   "execution_count": null,
   "metadata": {},
   "outputs": [],
   "source": [
    "(se, df,) = simulate(\n",
    "    (\n",
    "        16,\n",
    "        32,\n",
    "    )\n",
    ")\n",
    "\n",
    "df.iloc[\n",
    "    :,\n",
    "    0,\n",
    "] = np.nan\n",
    "\n",
    "df.iloc[\n",
    "    -8:,\n",
    "    -8:,\n",
    "] = np.nan\n",
    "\n",
    "kraft.function_heat_map.make(\n",
    "    se,\n",
    "    df,\n",
    "    function,\n",
    ")"
   ]
  },
  {
   "cell_type": "code",
   "execution_count": null,
   "metadata": {},
   "outputs": [],
   "source": [
    "df = simulate(\n",
    "    (\n",
    "        16,\n",
    "        8,\n",
    "    )\n",
    ")[1]\n",
    "\n",
    "for vector in (\n",
    "    (\n",
    "        1,\n",
    "        2,\n",
    "        2,\n",
    "        2,\n",
    "        2,\n",
    "        0,\n",
    "        0,\n",
    "        0,\n",
    "    ),\n",
    "    (\n",
    "        1,\n",
    "        1,\n",
    "        2,\n",
    "        2,\n",
    "        2,\n",
    "        0,\n",
    "        0,\n",
    "        0,\n",
    "    ),\n",
    "):\n",
    "\n",
    "    se = pd.Series(\n",
    "        vector,\n",
    "        index=df.columns,\n",
    "    )\n",
    "\n",
    "    for se_ascending in (\n",
    "        None,\n",
    "        True,\n",
    "        False,\n",
    "    ):\n",
    "\n",
    "        se.name = \"se_ascending={}\".format(se_ascending)\n",
    "\n",
    "        kraft.function_heat_map.make(\n",
    "            se,\n",
    "            df,\n",
    "            function,\n",
    "            ac=se_ascending,\n",
    "            tyta=\"categorical\",\n",
    "        )"
   ]
  },
  {
   "cell_type": "code",
   "execution_count": null,
   "metadata": {
    "ExecuteTime": {
     "end_time": "2018-05-15T10:47:59.764349Z",
     "start_time": "2018-05-15T10:46:36.621876Z"
    }
   },
   "outputs": [],
   "source": [
    "se = pd.read_csv(\n",
    "    \"data/function_heat_map_se.tsv\",\n",
    "    sep=\"\\t\",\n",
    "    index_col=0,\n",
    "    squeeze=True,\n",
    ")\n",
    "\n",
    "df = pd.read_csv(\n",
    "    \"data/function_heat_map_df.tsv\",\n",
    "    sep=\"\\t\",\n",
    "    index_col=0,\n",
    ")"
   ]
  },
  {
   "cell_type": "code",
   "execution_count": null,
   "metadata": {
    "ExecuteTime": {
     "end_time": "2018-05-15T10:47:59.764349Z",
     "start_time": "2018-05-15T10:46:36.621876Z"
    }
   },
   "outputs": [],
   "source": [
    "for n_row in (\n",
    "    1,\n",
    "    2,\n",
    "    3,\n",
    "):\n",
    "\n",
    "    kraft.function_heat_map.make(\n",
    "        df.iloc[\n",
    "            0,\n",
    "            :,\n",
    "        ],\n",
    "        df.iloc[\n",
    "            :n_row,\n",
    "            :,\n",
    "        ],\n",
    "        function,\n",
    "        n_sa=0,\n",
    "        n_sh=0,\n",
    "        st=3,\n",
    "    )"
   ]
  },
  {
   "cell_type": "code",
   "execution_count": null,
   "metadata": {
    "ExecuteTime": {
     "end_time": "2018-05-15T10:47:59.764349Z",
     "start_time": "2018-05-15T10:46:36.621876Z"
    }
   },
   "outputs": [],
   "source": [
    "kraft.function_heat_map.make(\n",
    "    se,\n",
    "    df,\n",
    "    function,\n",
    "    n_jo=8,\n",
    "    n_sa=10,\n",
    "    n_sh=10,\n",
    "    tyta=\"binary\",\n",
    ")"
   ]
  },
  {
   "cell_type": "code",
   "execution_count": null,
   "metadata": {
    "ExecuteTime": {
     "end_time": "2018-05-15T10:46:36.617163Z",
     "start_time": "2018-05-15T10:46:33.667703Z"
    }
   },
   "outputs": [],
   "source": [
    "for shape in (\n",
    "    (\n",
    "        1,\n",
    "        8,\n",
    "    ),\n",
    "    (\n",
    "        2,\n",
    "        8,\n",
    "    ),\n",
    "    (\n",
    "        8,\n",
    "        8,\n",
    "    ),\n",
    "    (\n",
    "        64,\n",
    "        8,\n",
    "    ),\n",
    "    (\n",
    "        8,\n",
    "        2,\n",
    "    ),\n",
    "    (\n",
    "        8,\n",
    "        4,\n",
    "    ),\n",
    "    (\n",
    "        8,\n",
    "        256,\n",
    "    ),\n",
    "):\n",
    "\n",
    "    (\n",
    "        se,\n",
    "        df,\n",
    "    ) = simulate(shape)\n",
    "\n",
    "    kraft.function_heat_map.make(\n",
    "        se,\n",
    "        df,\n",
    "        function,\n",
    "        n_pl=None,\n",
    "    )"
   ]
  },
  {
   "cell_type": "markdown",
   "metadata": {},
   "source": [
    "## summarize"
   ]
  },
  {
   "cell_type": "code",
   "execution_count": null,
   "metadata": {
    "ExecuteTime": {
     "end_time": "2018-05-15T10:48:15.310369Z",
     "start_time": "2018-05-15T10:48:08.080994Z"
    }
   },
   "outputs": [],
   "source": [
    "n_column = 16\n",
    "\n",
    "(se, df,) = simulate(\n",
    "    (\n",
    "        16,\n",
    "        n_column,\n",
    "    )\n",
    ")\n",
    "\n",
    "df_0n = simulate(\n",
    "    (\n",
    "        8,\n",
    "        n_column,\n",
    "    ),\n",
    "    4,\n",
    ")[1]\n",
    "\n",
    "df_01 = simulate(\n",
    "    (\n",
    "        4,\n",
    "        n_column,\n",
    "    ),\n",
    "    2,\n",
    ")[1]\n",
    "\n",
    "df.drop(\n",
    "    df.columns.to_numpy()[-3],\n",
    "    axis=1,\n",
    "    inplace=True,\n",
    ")\n",
    "\n",
    "df_0n.drop(\n",
    "    df_0n.columns.to_numpy()[-2],\n",
    "    axis=1,\n",
    "    inplace=True,\n",
    ")\n",
    "\n",
    "df_01.drop(\n",
    "    df_01.columns.to_numpy()[-1],\n",
    "    axis=1,\n",
    "    inplace=True,\n",
    ")\n",
    "\n",
    "df_dicts = [\n",
    "    {\n",
    "        \"name\": \"Continuous\",\n",
    "        \"data\": df,\n",
    "        \"type\": \"continuous\",\n",
    "    },\n",
    "    {\n",
    "        \"name\": \"Categorical\",\n",
    "        \"data\": df_0n,\n",
    "        \"type\": \"categorical\",\n",
    "    },\n",
    "    {\n",
    "        \"name\": \"Binary\",\n",
    "        \"data\": df_01,\n",
    "        \"type\": \"binary\",\n",
    "    },\n",
    "]\n",
    "\n",
    "for v in df_dicts:\n",
    "\n",
    "    v[\"statistic\"] = kraft.function_heat_map.make(\n",
    "        se,\n",
    "        v[\"data\"],\n",
    "        function,\n",
    "        pl=False,\n",
    "    )\n",
    "\n",
    "for plot_only_shared in (\n",
    "    False,\n",
    "    True,\n",
    "):\n",
    "\n",
    "    kraft.function_heat_map.summarize(\n",
    "        se,\n",
    "        df_dicts,\n",
    "        it=plot_only_shared,\n",
    "    )"
   ]
  }
 ],
 "metadata": {
  "kernelspec": {
   "display_name": "Python 3",
   "language": "python",
   "name": "python3"
  },
  "language_info": {
   "codemirror_mode": {
    "name": "ipython",
    "version": 3
   },
   "file_extension": ".py",
   "mimetype": "text/x-python",
   "name": "python",
   "nbconvert_exporter": "python",
   "pygments_lexer": "ipython3",
   "version": "3.8.9"
  }
 },
 "nbformat": 4,
 "nbformat_minor": 4
}
