{
 "cells": [
  {
   "cell_type": "code",
   "execution_count": null,
   "metadata": {},
   "outputs": [],
   "source": [
    "%load_ext autoreload\n",
    "%autoreload 2"
   ]
  },
  {
   "cell_type": "code",
   "execution_count": null,
   "metadata": {},
   "outputs": [],
   "source": [
    "import numpy as np\n",
    "import pandas as pd\n",
    "\n",
    "import kraft"
   ]
  },
  {
   "cell_type": "code",
   "execution_count": null,
   "metadata": {},
   "outputs": [],
   "source": [
    "function = kraft.information.get_ic"
   ]
  },
  {
   "cell_type": "code",
   "execution_count": null,
   "metadata": {},
   "outputs": [],
   "source": [
    "def simulate(shape, n_category=None):\n",
    "\n",
    "    if n_category is None:\n",
    "\n",
    "        vector = np.random.normal(size=shape[1])\n",
    "\n",
    "        matrix = np.random.normal(size=shape)\n",
    "\n",
    "    else:\n",
    "\n",
    "        vector = np.random.randint(0, high=n_category, size=shape[1])\n",
    "\n",
    "        matrix = np.random.randint(0, high=n_category, size=shape)\n",
    "\n",
    "    columns = pd.Index((\"Label {}\".format(i) for i in range(shape[1])), name=\"Column\")\n",
    "\n",
    "    return (\n",
    "        pd.Series(vector, index=columns, name=\"Vector\"),\n",
    "        pd.DataFrame(\n",
    "            matrix,\n",
    "            index=pd.Index((\"Label {}\".format(i) for i in range(shape[0])), name=\"Row\"),\n",
    "            columns=columns,\n",
    "        ),\n",
    "    )"
   ]
  },
  {
   "cell_type": "markdown",
   "metadata": {},
   "source": [
    "## make"
   ]
  },
  {
   "cell_type": "code",
   "execution_count": null,
   "metadata": {},
   "outputs": [],
   "source": [
    "shape = (16, 32)\n",
    "\n",
    "series, dataframe = simulate(shape)\n",
    "\n",
    "# dataframe.iloc[0] = np.nan\n",
    "\n",
    "dataframe.iloc[:, 0] = np.nan\n",
    "\n",
    "dataframe.iloc[-2:, -2:] = np.nan\n",
    "\n",
    "kraft.function_heat_map.make(series, dataframe, function)"
   ]
  },
  {
   "cell_type": "code",
   "execution_count": null,
   "metadata": {},
   "outputs": [],
   "source": [
    "shape = (16, 8)\n",
    "\n",
    "dataframe = simulate(shape)[1]\n",
    "\n",
    "for tuple_ in (\n",
    "    (1, 2, 2, 2, 2, 0, 0, 0),\n",
    "    (1, 1, 2, 2, 2, 0, 0, 0),\n",
    "):\n",
    "\n",
    "    series = pd.Series(tuple_, index=dataframe.columns)\n",
    "\n",
    "    for series_ascending in (None, True, False):\n",
    "\n",
    "        series.name = \"series_ascending={}\".format(series_ascending)\n",
    "\n",
    "        kraft.function_heat_map.make(\n",
    "            series,\n",
    "            dataframe,\n",
    "            function,\n",
    "            series_ascending=series_ascending,\n",
    "            series_data_type=\"categorical\",\n",
    "        )"
   ]
  },
  {
   "cell_type": "code",
   "execution_count": null,
   "metadata": {
    "ExecuteTime": {
     "end_time": "2018-05-15T10:47:59.764349Z",
     "start_time": "2018-05-15T10:46:36.621876Z"
    }
   },
   "outputs": [],
   "source": [
    "series = pd.read_csv(\n",
    "    \"data/function_heat_map_series.tsv\", sep=\"\\t\", index_col=0, squeeze=True\n",
    ")\n",
    "\n",
    "dataframe = pd.read_csv(\"data/function_heat_map_dataframe.tsv\", sep=\"\\t\", index_col=0)"
   ]
  },
  {
   "cell_type": "code",
   "execution_count": null,
   "metadata": {
    "ExecuteTime": {
     "end_time": "2018-05-15T10:47:59.764349Z",
     "start_time": "2018-05-15T10:46:36.621876Z"
    }
   },
   "outputs": [],
   "source": [
    "kraft.function_heat_map.make(\n",
    "    dataframe.iloc[0, :],\n",
    "    dataframe.iloc[:1, :],\n",
    "    function,\n",
    "    n_sampling=0,\n",
    "    n_permutation=0,\n",
    "    plot_std=3,\n",
    ")\n",
    "\n",
    "kraft.function_heat_map.make(\n",
    "    dataframe.iloc[0, :],\n",
    "    dataframe.iloc[:2, :],\n",
    "    function,\n",
    "    n_sampling=0,\n",
    "    n_permutation=0,\n",
    "    plot_std=3,\n",
    ")"
   ]
  },
  {
   "cell_type": "code",
   "execution_count": null,
   "metadata": {
    "ExecuteTime": {
     "end_time": "2018-05-15T10:47:59.764349Z",
     "start_time": "2018-05-15T10:46:36.621876Z"
    }
   },
   "outputs": [],
   "source": [
    "kraft.function_heat_map.make(\n",
    "    series,\n",
    "    dataframe,\n",
    "    function,\n",
    "    n_job=4,\n",
    "    n_sampling=10,\n",
    "    n_permutation=10,\n",
    "    series_data_type=\"binary\",\n",
    ")"
   ]
  },
  {
   "cell_type": "code",
   "execution_count": null,
   "metadata": {
    "ExecuteTime": {
     "end_time": "2018-05-15T10:46:36.617163Z",
     "start_time": "2018-05-15T10:46:33.667703Z"
    }
   },
   "outputs": [],
   "source": [
    "for shape in (\n",
    "    (1, 8),\n",
    "    (2, 8),\n",
    "    (8, 8),\n",
    "    (64, 8),\n",
    "    (8, 2),\n",
    "    (8, 4),\n",
    "    (8, 256),\n",
    "):\n",
    "\n",
    "    series, dataframe = simulate(shape)\n",
    "\n",
    "    kraft.function_heat_map.make(series, dataframe, function, n_extreme=None)"
   ]
  },
  {
   "cell_type": "markdown",
   "metadata": {},
   "source": [
    "## summarize"
   ]
  },
  {
   "cell_type": "code",
   "execution_count": null,
   "metadata": {
    "ExecuteTime": {
     "end_time": "2018-05-15T10:48:15.310369Z",
     "start_time": "2018-05-15T10:48:08.080994Z"
    }
   },
   "outputs": [],
   "source": [
    "n_column = 16\n",
    "\n",
    "series, dataframe = simulate((16, n_column))\n",
    "\n",
    "dataframe_3 = simulate((8, n_column), 4)[1]\n",
    "\n",
    "dataframe_2 = simulate((4, n_column), 2)[1]\n",
    "\n",
    "dataframe.drop(dataframe.columns.to_numpy()[-3], axis=1, inplace=True)\n",
    "\n",
    "dataframe_3.drop(dataframe_3.columns.to_numpy()[-2], axis=1, inplace=True)\n",
    "\n",
    "dataframe_2.drop(dataframe_2.columns.to_numpy()[-1], axis=1, inplace=True)\n",
    "\n",
    "dataframe_dicts = {\n",
    "    \"Continuous\": {\"dataframe\": dataframe, \"data_type\": \"continuous\"},\n",
    "    \"Categorical\": {\"dataframe\": dataframe_3, \"data_type\": \"categorical\"},\n",
    "    \"Binary\": {\"dataframe\": dataframe_2, \"data_type\": \"binary\"},\n",
    "}\n",
    "\n",
    "scores_dicts = {\n",
    "    name: kraft.function_heat_map.make(\n",
    "        series, dataframe_dict[\"dataframe\"], function, plot=False\n",
    "    )\n",
    "    for name, dataframe_dict in dataframe_dicts.items()\n",
    "}\n",
    "\n",
    "for plot_only_shared in (False, True):\n",
    "\n",
    "    kraft.function_heat_map.summarize(\n",
    "        series, dataframe_dicts, scores_dicts, plot_only_shared=plot_only_shared\n",
    "    )"
   ]
  }
 ],
 "metadata": {
  "kernelspec": {
   "display_name": "Python 3",
   "language": "python",
   "name": "python3"
  },
  "language_info": {
   "codemirror_mode": {
    "name": "ipython",
    "version": 3
   },
   "file_extension": ".py",
   "mimetype": "text/x-python",
   "name": "python",
   "nbconvert_exporter": "python",
   "pygments_lexer": "ipython3",
   "version": "3.7.6"
  }
 },
 "nbformat": 4,
 "nbformat_minor": 4
}
