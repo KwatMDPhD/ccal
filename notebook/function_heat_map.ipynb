{
 "cells": [
  {
   "cell_type": "code",
   "execution_count": null,
   "metadata": {
    "execution": {
     "iopub.execute_input": "2021-05-30T23:47:15.071054Z",
     "iopub.status.busy": "2021-05-30T23:47:15.070379Z",
     "iopub.status.idle": "2021-05-30T23:47:15.082945Z",
     "shell.execute_reply": "2021-05-30T23:47:15.083518Z"
    }
   },
   "outputs": [],
   "source": [
    "%load_ext autoreload\n",
    "%autoreload 2"
   ]
  },
  {
   "cell_type": "code",
   "execution_count": null,
   "metadata": {
    "execution": {
     "iopub.execute_input": "2021-05-30T23:47:15.086990Z",
     "iopub.status.busy": "2021-05-30T23:47:15.086353Z",
     "iopub.status.idle": "2021-05-30T23:47:15.671972Z",
     "shell.execute_reply": "2021-05-30T23:47:15.672836Z"
    }
   },
   "outputs": [],
   "source": [
    "import kraft"
   ]
  },
  {
   "cell_type": "code",
   "execution_count": null,
   "metadata": {
    "execution": {
     "iopub.execute_input": "2021-05-30T23:47:15.678557Z",
     "iopub.status.busy": "2021-05-30T23:47:15.677497Z",
     "iopub.status.idle": "2021-05-30T23:47:15.698930Z",
     "shell.execute_reply": "2021-05-30T23:47:15.699432Z"
    }
   },
   "outputs": [],
   "source": [
    "function = kraft.information.get_ic"
   ]
  },
  {
   "cell_type": "code",
   "execution_count": null,
   "metadata": {
    "execution": {
     "iopub.execute_input": "2021-05-30T23:47:15.702711Z",
     "iopub.status.busy": "2021-05-30T23:47:15.701988Z",
     "iopub.status.idle": "2021-05-30T23:47:15.721876Z",
     "shell.execute_reply": "2021-05-30T23:47:15.722420Z"
    }
   },
   "outputs": [],
   "source": [
    "import numpy as np\n",
    "import pandas as pd"
   ]
  },
  {
   "cell_type": "code",
   "execution_count": null,
   "metadata": {
    "execution": {
     "iopub.execute_input": "2021-05-30T23:47:15.729770Z",
     "iopub.status.busy": "2021-05-30T23:47:15.729005Z",
     "iopub.status.idle": "2021-05-30T23:47:15.748884Z",
     "shell.execute_reply": "2021-05-30T23:47:15.749375Z"
    }
   },
   "outputs": [],
   "source": [
    "def simulate(shape, n_category=None):\n",
    "\n",
    "    if n_category is None:\n",
    "\n",
    "        vector = np.random.normal(size=shape[1])\n",
    "\n",
    "        matrix = np.random.normal(size=shape)\n",
    "\n",
    "    else:\n",
    "\n",
    "        vector = np.random.randint(0, high=n_category, size=shape[1])\n",
    "\n",
    "        matrix = np.random.randint(0, high=n_category, size=shape)\n",
    "\n",
    "    axis_1_labels = pd.Index(\n",
    "        (\"Label {}\".format(i) for i in range(shape[1])), name=\"Axis 1\"\n",
    "    )\n",
    "\n",
    "    return (\n",
    "        pd.Series(vector, index=axis_1_labels, name=\"Vector\"),\n",
    "        pd.DataFrame(\n",
    "            matrix,\n",
    "            index=pd.Index(\n",
    "                (\"Label {}\".format(i) for i in range(shape[0])), name=\"Axis 0\"\n",
    "            ),\n",
    "            columns=axis_1_labels,\n",
    "        ),\n",
    "    )"
   ]
  },
  {
   "cell_type": "markdown",
   "metadata": {},
   "source": [
    "## make"
   ]
  },
  {
   "cell_type": "code",
   "execution_count": null,
   "metadata": {
    "execution": {
     "iopub.execute_input": "2021-05-30T23:47:15.752975Z",
     "iopub.status.busy": "2021-05-30T23:47:15.752383Z",
     "iopub.status.idle": "2021-05-30T23:47:18.722558Z",
     "shell.execute_reply": "2021-05-30T23:47:18.720835Z"
    }
   },
   "outputs": [],
   "source": [
    "(se, df) = simulate((32, 16))\n",
    "\n",
    "se.iloc[-8::2] = np.nan\n",
    "\n",
    "kraft.function_heat_map.make(se, df, function, ac=None)"
   ]
  },
  {
   "cell_type": "code",
   "execution_count": null,
   "metadata": {
    "execution": {
     "iopub.execute_input": "2021-05-30T23:47:18.726844Z",
     "iopub.status.busy": "2021-05-30T23:47:18.726241Z",
     "iopub.status.idle": "2021-05-30T23:47:20.740058Z",
     "shell.execute_reply": "2021-05-30T23:47:20.740546Z"
    }
   },
   "outputs": [],
   "source": [
    "(se, df) = simulate((16, 32))\n",
    "\n",
    "df.iloc[:, 0] = np.nan\n",
    "\n",
    "df.iloc[-8:, -8:] = np.nan\n",
    "\n",
    "kraft.function_heat_map.make(se, df, function)"
   ]
  },
  {
   "cell_type": "code",
   "execution_count": null,
   "metadata": {
    "execution": {
     "iopub.execute_input": "2021-05-30T23:47:20.745479Z",
     "iopub.status.busy": "2021-05-30T23:47:20.744841Z",
     "iopub.status.idle": "2021-05-30T23:47:31.095229Z",
     "shell.execute_reply": "2021-05-30T23:47:31.095588Z"
    }
   },
   "outputs": [],
   "source": [
    "df = simulate((16, 8))[1]\n",
    "\n",
    "for vector in ((1, 2, 2, 2, 2, 0, 0, 0), (1, 1, 2, 2, 2, 0, 0, 0)):\n",
    "\n",
    "    se = pd.Series(vector, index=df.columns)\n",
    "\n",
    "    for se_ascending in (None, True, False):\n",
    "\n",
    "        se.name = \"se_ascending={}\".format(se_ascending)\n",
    "\n",
    "        kraft.function_heat_map.make(\n",
    "            se, df, function, ac=se_ascending, tyta=\"categorical\"\n",
    "        )"
   ]
  },
  {
   "cell_type": "code",
   "execution_count": null,
   "metadata": {
    "ExecuteTime": {
     "end_time": "2018-05-15T10:47:59.764349Z",
     "start_time": "2018-05-15T10:46:36.621876Z"
    },
    "execution": {
     "iopub.execute_input": "2021-05-30T23:47:31.098831Z",
     "iopub.status.busy": "2021-05-30T23:47:31.098324Z",
     "iopub.status.idle": "2021-05-30T23:47:31.154942Z",
     "shell.execute_reply": "2021-05-30T23:47:31.155303Z"
    }
   },
   "outputs": [],
   "source": [
    "se = pd.read_csv(\"data/function_heat_map_ta.tsv\", sep=\"\\t\", index_col=0, squeeze=True)\n",
    "\n",
    "df = pd.read_csv(\"data/function_heat_map_da.tsv\", sep=\"\\t\", index_col=0)"
   ]
  },
  {
   "cell_type": "code",
   "execution_count": null,
   "metadata": {
    "ExecuteTime": {
     "end_time": "2018-05-15T10:47:59.764349Z",
     "start_time": "2018-05-15T10:46:36.621876Z"
    },
    "execution": {
     "iopub.execute_input": "2021-05-30T23:47:31.158777Z",
     "iopub.status.busy": "2021-05-30T23:47:31.158266Z",
     "iopub.status.idle": "2021-05-30T23:47:33.703424Z",
     "shell.execute_reply": "2021-05-30T23:47:33.703847Z"
    }
   },
   "outputs": [],
   "source": [
    "for n_row in (1, 2, 3):\n",
    "\n",
    "    kraft.function_heat_map.make(\n",
    "        df.iloc[0, :], df.iloc[:n_row, :], function, n_sa=0, n_sh=0, st=3\n",
    "    )"
   ]
  },
  {
   "cell_type": "code",
   "execution_count": null,
   "metadata": {
    "ExecuteTime": {
     "end_time": "2018-05-15T10:47:59.764349Z",
     "start_time": "2018-05-15T10:46:36.621876Z"
    },
    "execution": {
     "iopub.execute_input": "2021-05-30T23:47:33.707764Z",
     "iopub.status.busy": "2021-05-30T23:47:33.707172Z",
     "iopub.status.idle": "2021-05-30T23:48:20.632619Z",
     "shell.execute_reply": "2021-05-30T23:48:20.633111Z"
    }
   },
   "outputs": [],
   "source": [
    "kraft.function_heat_map.make(se, df, function, n_jo=8, n_sa=10, n_sh=10, tyta=\"binary\")"
   ]
  },
  {
   "cell_type": "code",
   "execution_count": null,
   "metadata": {
    "ExecuteTime": {
     "end_time": "2018-05-15T10:46:36.617163Z",
     "start_time": "2018-05-15T10:46:33.667703Z"
    },
    "execution": {
     "iopub.execute_input": "2021-05-30T23:48:20.637486Z",
     "iopub.status.busy": "2021-05-30T23:48:20.636901Z",
     "iopub.status.idle": "2021-05-30T23:48:32.205112Z",
     "shell.execute_reply": "2021-05-30T23:48:32.205560Z"
    }
   },
   "outputs": [],
   "source": [
    "for shape in ((1, 8), (2, 8), (8, 8), (64, 8), (8, 2), (8, 4), (8, 256)):\n",
    "\n",
    "    (se, df) = simulate(shape)\n",
    "\n",
    "    kraft.function_heat_map.make(se, df, function, n_pl=None)"
   ]
  },
  {
   "cell_type": "markdown",
   "metadata": {},
   "source": [
    "## summarize"
   ]
  },
  {
   "cell_type": "code",
   "execution_count": null,
   "metadata": {
    "ExecuteTime": {
     "end_time": "2018-05-15T10:48:15.310369Z",
     "start_time": "2018-05-15T10:48:08.080994Z"
    },
    "execution": {
     "iopub.execute_input": "2021-05-30T23:48:32.212356Z",
     "iopub.status.busy": "2021-05-30T23:48:32.211828Z",
     "iopub.status.idle": "2021-05-30T23:48:36.246000Z",
     "shell.execute_reply": "2021-05-30T23:48:36.246356Z"
    }
   },
   "outputs": [],
   "source": [
    "n_column = 16\n",
    "\n",
    "(se, df) = simulate((16, n_column))\n",
    "\n",
    "df_0n = simulate((8, n_column), 4)[1]\n",
    "\n",
    "df_01 = simulate((4, n_column), 2)[1]\n",
    "\n",
    "df.drop(df.columns.to_numpy()[-3], axis=1, inplace=True)\n",
    "\n",
    "df_0n.drop(df_0n.columns.to_numpy()[-2], axis=1, inplace=True)\n",
    "\n",
    "df_01.drop(df_01.columns.to_numpy()[-1], axis=1, inplace=True)\n",
    "\n",
    "df_dicts = [\n",
    "    {\"name\": \"Continuous\", \"data\": df, \"type\": \"continuous\"},\n",
    "    {\"name\": \"Categorical\", \"data\": df_0n, \"type\": \"categorical\"},\n",
    "    {\"name\": \"Binary\", \"data\": df_01, \"type\": \"binary\"},\n",
    "]\n",
    "\n",
    "for v in df_dicts:\n",
    "\n",
    "    v[\"statistic\"] = kraft.function_heat_map.make(se, v[\"data\"], function, pl=False)\n",
    "\n",
    "for plot_only_shared in (False, True):\n",
    "\n",
    "    kraft.function_heat_map.summarize(se, df_dicts, it=plot_only_shared)"
   ]
  }
 ],
 "metadata": {
  "kernelspec": {
   "display_name": "Python 3",
   "language": "python",
   "name": "python3"
  },
  "language_info": {
   "codemirror_mode": {
    "name": "ipython",
    "version": 3
   },
   "file_extension": ".py",
   "mimetype": "text/x-python",
   "name": "python",
   "nbconvert_exporter": "python",
   "pygments_lexer": "ipython3",
   "version": "3.8.9"
  }
 },
 "nbformat": 4,
 "nbformat_minor": 4
}
