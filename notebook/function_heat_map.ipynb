{
 "cells": [
  {
   "cell_type": "code",
   "execution_count": null,
   "metadata": {},
   "outputs": [],
   "source": [
    "%load_ext autoreload\n",
    "%autoreload 2"
   ]
  },
  {
   "cell_type": "code",
   "execution_count": null,
   "metadata": {},
   "outputs": [],
   "source": [
    "import numpy as np\n",
    "import pandas as pd\n",
    "\n",
    "import kraft"
   ]
  },
  {
   "cell_type": "code",
   "execution_count": null,
   "metadata": {},
   "outputs": [],
   "source": [
    "function = kraft.information.get_ic"
   ]
  },
  {
   "cell_type": "code",
   "execution_count": null,
   "metadata": {},
   "outputs": [],
   "source": [
    "def simulate(shape, n_category=None):\n",
    "\n",
    "    if n_category is None:\n",
    "\n",
    "        vector = np.random.normal(size=shape[1])\n",
    "\n",
    "        matrix = np.random.normal(size=shape)\n",
    "\n",
    "    else:\n",
    "\n",
    "        vector = np.random.randint(0, high=n_category, size=shape[1])\n",
    "\n",
    "        matrix = np.random.randint(0, high=n_category, size=shape)\n",
    "\n",
    "    axis_1_labels = pd.Index(\n",
    "        (\"Label {}\".format(i) for i in range(shape[1])), name=\"Axis 1\"\n",
    "    )\n",
    "\n",
    "    return (\n",
    "        pd.Series(vector, index=axis_1_labels, name=\"Vector\"),\n",
    "        pd.DataFrame(\n",
    "            matrix,\n",
    "            index=pd.Index(\n",
    "                (\"Label {}\".format(i) for i in range(shape[0])), name=\"Axis 0\"\n",
    "            ),\n",
    "            columns=axis_1_labels,\n",
    "        ),\n",
    "    )"
   ]
  },
  {
   "cell_type": "markdown",
   "metadata": {},
   "source": [
    "## make"
   ]
  },
  {
   "cell_type": "code",
   "execution_count": null,
   "metadata": {},
   "outputs": [],
   "source": [
    "se, df = simulate((32, 16))\n",
    "\n",
    "se.iloc[-8::2] = np.nan\n",
    "\n",
    "kraft.function_heat_map.make(se, df, function, vector_ascending=None)"
   ]
  },
  {
   "cell_type": "code",
   "execution_count": null,
   "metadata": {},
   "outputs": [],
   "source": [
    "se, df = simulate((16, 32))\n",
    "\n",
    "df.iloc[:, 0] = np.nan\n",
    "\n",
    "df.iloc[-8:, -8:] = np.nan\n",
    "\n",
    "kraft.function_heat_map.make(se, df, function)"
   ]
  },
  {
   "cell_type": "code",
   "execution_count": null,
   "metadata": {},
   "outputs": [],
   "source": [
    "df = simulate((16, 8))[1]\n",
    "\n",
    "for vector in (\n",
    "    (1, 2, 2, 2, 2, 0, 0, 0),\n",
    "    (1, 1, 2, 2, 2, 0, 0, 0),\n",
    "):\n",
    "\n",
    "    se = pd.Series(vector, index=df.columns)\n",
    "\n",
    "    for se_ascending in (None, True, False):\n",
    "\n",
    "        se.name = \"se_ascending={}\".format(se_ascending)\n",
    "\n",
    "        kraft.function_heat_map.make(\n",
    "            se,\n",
    "            df,\n",
    "            function,\n",
    "            se_ascending=se_ascending,\n",
    "            se_data_type=\"categorical\",\n",
    "        )"
   ]
  },
  {
   "cell_type": "code",
   "execution_count": null,
   "metadata": {
    "ExecuteTime": {
     "end_time": "2018-05-15T10:47:59.764349Z",
     "start_time": "2018-05-15T10:46:36.621876Z"
    }
   },
   "outputs": [],
   "source": [
    "se = pd.read_csv(\"data/function_heat_map_se.tsv\", sep=\"\\t\", index_col=0, squeeze=True)\n",
    "\n",
    "df = pd.read_csv(\"data/function_heat_map_df.tsv\", sep=\"\\t\", index_col=0)"
   ]
  },
  {
   "cell_type": "code",
   "execution_count": null,
   "metadata": {
    "ExecuteTime": {
     "end_time": "2018-05-15T10:47:59.764349Z",
     "start_time": "2018-05-15T10:46:36.621876Z"
    }
   },
   "outputs": [],
   "source": [
    "for n_row in (1, 2, 3):\n",
    "\n",
    "    kraft.function_heat_map.make(\n",
    "        df.iloc[0, :],\n",
    "        df.iloc[:n_row, :],\n",
    "        function,\n",
    "        n_sampling=0,\n",
    "        n_permutation=0,\n",
    "        plot_std=3,\n",
    "    )"
   ]
  },
  {
   "cell_type": "code",
   "execution_count": null,
   "metadata": {
    "ExecuteTime": {
     "end_time": "2018-05-15T10:47:59.764349Z",
     "start_time": "2018-05-15T10:46:36.621876Z"
    }
   },
   "outputs": [],
   "source": [
    "kraft.function_heat_map.make(\n",
    "    se,\n",
    "    df,\n",
    "    function,\n",
    "    n_job=8,\n",
    "    n_sampling=10,\n",
    "    n_permutation=10,\n",
    "    se_data_type=\"binary\",\n",
    ")"
   ]
  },
  {
   "cell_type": "code",
   "execution_count": null,
   "metadata": {
    "ExecuteTime": {
     "end_time": "2018-05-15T10:46:36.617163Z",
     "start_time": "2018-05-15T10:46:33.667703Z"
    }
   },
   "outputs": [],
   "source": [
    "for shape in (\n",
    "    (1, 8),\n",
    "    (2, 8),\n",
    "    (8, 8),\n",
    "    (64, 8),\n",
    "    (8, 2),\n",
    "    (8, 4),\n",
    "    (8, 256),\n",
    "):\n",
    "\n",
    "    se, df = simulate(shape)\n",
    "\n",
    "    kraft.function_heat_map.make(se, df, function, n_extreme=None)"
   ]
  },
  {
   "cell_type": "markdown",
   "metadata": {},
   "source": [
    "## summarize"
   ]
  },
  {
   "cell_type": "code",
   "execution_count": null,
   "metadata": {
    "ExecuteTime": {
     "end_time": "2018-05-15T10:48:15.310369Z",
     "start_time": "2018-05-15T10:48:08.080994Z"
    }
   },
   "outputs": [],
   "source": [
    "n_column = 16\n",
    "\n",
    "se, df = simulate((16, n_column))\n",
    "\n",
    "df_0n = simulate((8, n_column), 4)[1]\n",
    "\n",
    "df_01 = simulate((4, n_column), 2)[1]\n",
    "\n",
    "df.drop(df.columns.to_numpy()[-3], axis=1, inplace=True)\n",
    "\n",
    "df_0n.drop(df_0n.columns.to_numpy()[-2], axis=1, inplace=True)\n",
    "\n",
    "df_01.drop(df_01.columns.to_numpy()[-1], axis=1, inplace=True)\n",
    "\n",
    "df_dicts = {\n",
    "    \"Continuous\": {\"df\": df, \"data_type\": \"continuous\"},\n",
    "    \"Categorical\": {\"df\": df_0n, \"data_type\": \"categorical\"},\n",
    "    \"Binary\": {\"df\": df_01, \"data_type\": \"binary\"},\n",
    "}\n",
    "\n",
    "scores_dicts = {\n",
    "    name: kraft.function_heat_map.make(se, df_dict[\"df\"], function, plot=False)\n",
    "    for name, df_dict in df_dicts.items()\n",
    "}\n",
    "\n",
    "for plot_only_shared in (False, True):\n",
    "\n",
    "    kraft.function_heat_map.summarize(\n",
    "        se, df_dicts, scores_dicts, plot_only_shared=plot_only_shared\n",
    "    )"
   ]
  }
 ],
 "metadata": {
  "kernelspec": {
   "display_name": "Python 3",
   "language": "python",
   "name": "python3"
  },
  "language_info": {
   "codemirror_mode": {
    "name": "ipython",
    "version": 3
   },
   "file_extension": ".py",
   "mimetype": "text/x-python",
   "name": "python",
   "nbconvert_exporter": "python",
   "pygments_lexer": "ipython3",
   "version": "3.7.8"
  }
 },
 "nbformat": 4,
 "nbformat_minor": 4
}
