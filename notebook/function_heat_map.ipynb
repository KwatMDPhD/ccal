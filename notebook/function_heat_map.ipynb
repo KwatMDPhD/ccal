{
 "cells": [
  {
   "cell_type": "code",
   "execution_count": null,
   "metadata": {},
   "outputs": [],
   "source": [
    "%load_ext autoreload\n",
    "%autoreload 2"
   ]
  },
  {
   "cell_type": "code",
   "execution_count": null,
   "metadata": {},
   "outputs": [],
   "source": [
    "from numpy import arange, nan, prod\n",
    "from numpy.random import choice, normal, randint, sample\n",
    "from pandas import DataFrame, Index, Series\n",
    "\n",
    "\n",
    "def simulate_array(shape, how):\n",
    "\n",
    "    if how == \"uniform\":\n",
    "\n",
    "        array = sample(size=shape)\n",
    "\n",
    "    elif how == \"normal\":\n",
    "\n",
    "        array = normal(size=shape)\n",
    "\n",
    "    elif how == \"range\":\n",
    "\n",
    "        array = arange(prod(shape)).reshape(shape)\n",
    "\n",
    "    else:\n",
    "\n",
    "        array = randint(0, how, size=shape)\n",
    "\n",
    "    return array\n",
    "\n",
    "\n",
    "def simulate_series_or_dataframe(\n",
    "    name_0, name_1, *simulate_array_arguments, break_dataframe=None\n",
    "):\n",
    "\n",
    "    array = simulate_array(*simulate_array_arguments)\n",
    "\n",
    "    if len(array.shape) == 1:\n",
    "\n",
    "        series_or_dataframe = Series(array, name=name_1)\n",
    "\n",
    "    elif len(array.shape) == 2:\n",
    "\n",
    "        series_or_dataframe = DataFrame(\n",
    "            array,\n",
    "            columns=Index(\n",
    "                (\"{}{}\".format(name_1, i) for i in range(array.shape[1])), name=\"Column\"\n",
    "            ),\n",
    "        )\n",
    "\n",
    "    series_or_dataframe.index = Index(\n",
    "        (\"{}{}\".format(name_0, i) for i in range(array.shape[0])), name=\"Index\"\n",
    "    )\n",
    "\n",
    "    if len(series_or_dataframe.shape) == 2 and break_dataframe is not None:\n",
    "\n",
    "        if break_dataframe < series_or_dataframe.shape[0]:\n",
    "\n",
    "            for i in range(break_dataframe):\n",
    "\n",
    "                series_or_dataframe.iloc[i] = i\n",
    "\n",
    "        series_or_dataframe.loc[\n",
    "            choice(\n",
    "                series_or_dataframe.index,\n",
    "                size=series_or_dataframe.shape[0] // break_dataframe,\n",
    "                replace=False,\n",
    "            ),\n",
    "            choice(\n",
    "                series_or_dataframe.columns,\n",
    "                size=series_or_dataframe.shape[1] // break_dataframe,\n",
    "                replace=False,\n",
    "            ),\n",
    "        ] = nan\n",
    "\n",
    "    return series_or_dataframe"
   ]
  },
  {
   "cell_type": "code",
   "execution_count": null,
   "metadata": {},
   "outputs": [],
   "source": [
    "import pandas as pd\n",
    "\n",
    "import kraft"
   ]
  },
  {
   "cell_type": "code",
   "execution_count": null,
   "metadata": {},
   "outputs": [],
   "source": [
    "function = kraft.compute_ic"
   ]
  },
  {
   "cell_type": "code",
   "execution_count": null,
   "metadata": {
    "ExecuteTime": {
     "end_time": "2018-05-15T10:46:36.617163Z",
     "start_time": "2018-05-15T10:46:33.667703Z"
    }
   },
   "outputs": [],
   "source": [
    "for size in (\n",
    "    (1, 8),\n",
    "    (2, 8),\n",
    "    (4, 8),\n",
    "    (8, 8),\n",
    "    (16, 8),\n",
    "    (32, 8),\n",
    "    (64, 8),\n",
    "    (128, 8),\n",
    "    (256, 8),\n",
    "    (8, 2),\n",
    "    (8, 4),\n",
    "    (8, 16),\n",
    "    (8, 32),\n",
    "    (8, 64),\n",
    "    (8, 128),\n",
    "    (8, 256),\n",
    "):\n",
    "\n",
    "    target = simulate_series_or_dataframe(\"Column\", \"Target\", size[1], \"uniform\")\n",
    "\n",
    "    data = simulate_series_or_dataframe(\"Index\", \"Column\", size, \"uniform\")\n",
    "\n",
    "    kraft.function_heat_map(target, data, function, n_extreme=None)"
   ]
  },
  {
   "cell_type": "code",
   "execution_count": null,
   "metadata": {},
   "outputs": [],
   "source": [
    "size = (1, 10)\n",
    "\n",
    "target = simulate_series_or_dataframe(\"Column\", \"Target\", size[1], \"uniform\")\n",
    "\n",
    "data = simulate_series_or_dataframe(\"Index\", \"Column\", size, \"uniform\")\n",
    "\n",
    "for n_permutation, n_sampling in ((0, 0), (0, 10), (10, 0), (10, 10)):\n",
    "\n",
    "    kraft.function_heat_map(\n",
    "        target, data, function, n_permutation=n_permutation, n_sampling=n_sampling\n",
    "    )"
   ]
  },
  {
   "cell_type": "code",
   "execution_count": null,
   "metadata": {},
   "outputs": [],
   "source": [
    "size = (10, 20)\n",
    "\n",
    "target = simulate_series_or_dataframe(\"Column\", \"Target\", size[1], \"uniform\")\n",
    "\n",
    "data = simulate_series_or_dataframe(\n",
    "    \"Index\", \"Column\", size, \"uniform\", break_dataframe=2\n",
    ")\n",
    "\n",
    "kraft.function_heat_map(target, data, function)"
   ]
  },
  {
   "cell_type": "code",
   "execution_count": null,
   "metadata": {},
   "outputs": [],
   "source": [
    "data = simulate_series_or_dataframe(\n",
    "    \"Index\", \"Column\", (20, 10), \"uniform\", break_dataframe=2\n",
    ")\n",
    "\n",
    "for target_vector in (\n",
    "    ((1,) * 1 + (2,) * 2 + (0,) * 7),\n",
    "    ((2,) * 2 + (3,) * 3 + (0,) * 5),\n",
    "):\n",
    "\n",
    "    target = pd.Series(target_vector, index=data.columns)\n",
    "\n",
    "    for target_ascending in (None, True, False):\n",
    "\n",
    "        kraft.function_heat_map(\n",
    "            target,\n",
    "            data,\n",
    "            function,\n",
    "            vector_ascending=target_ascending,\n",
    "            vector_data_type=\"categorical\",\n",
    "        )"
   ]
  },
  {
   "cell_type": "code",
   "execution_count": null,
   "metadata": {
    "ExecuteTime": {
     "end_time": "2018-05-15T10:47:59.764349Z",
     "start_time": "2018-05-15T10:46:36.621876Z"
    }
   },
   "outputs": [],
   "source": [
    "target = pd.read_csv(\n",
    "    \"function_heat_map_vector.tsv\", sep=\"\\t\", index_col=0, squeeze=True\n",
    ")\n",
    "\n",
    "data = pd.read_csv(\"function_heat_map_matrix.tsv\", sep=\"\\t\", index_col=0)\n",
    "\n",
    "kraft.function_heat_map(\n",
    "    target, data, function, n_sampling=0, n_permutation=0, vector_data_type=\"binary\"\n",
    ")\n",
    "\n",
    "kraft.function_heat_map(\n",
    "    data.iloc[0], data.iloc[:1], function, n_sampling=0, n_permutation=0, plot_std=3\n",
    ")\n",
    "\n",
    "kraft.function_heat_map(\n",
    "    data.iloc[0], data.iloc[:2], function, n_sampling=0, n_permutation=0, plot_std=3\n",
    ")"
   ]
  },
  {
   "cell_type": "code",
   "execution_count": null,
   "metadata": {
    "ExecuteTime": {
     "end_time": "2018-05-15T10:48:15.310369Z",
     "start_time": "2018-05-15T10:48:08.080994Z"
    }
   },
   "outputs": [],
   "source": [
    "target = simulate_series_or_dataframe(\"Column\", \"Target\", 10, \"uniform\")\n",
    "\n",
    "data_continuous = simulate_series_or_dataframe(\"Index\", \"Column\", (2, 10), \"uniform\")\n",
    "\n",
    "data_categorical = simulate_series_or_dataframe(\"Index\", \"Column\", (4, 10), 3)\n",
    "\n",
    "data_binary = simulate_series_or_dataframe(\"Index\", \"Column\", (8, 10), 2)\n",
    "\n",
    "data_continuous.drop(data_continuous.columns[-1], axis=1, inplace=True)\n",
    "\n",
    "data_categorical.drop(data_categorical.columns[-2], axis=1, inplace=True)\n",
    "\n",
    "data_binary.drop(data_binary.columns[-3], axis=1, inplace=True)\n",
    "\n",
    "data_dicts = {\n",
    "    \"Continuous Data\": {\"dataframe\": data_continuous, \"data_type\": \"continuous\"},\n",
    "    \"Categorical Data\": {\"dataframe\": data_categorical, \"data_type\": \"categorical\"},\n",
    "    \"Binary Data\": {\"dataframe\": data_binary, \"data_type\": \"binary\"},\n",
    "}\n",
    "\n",
    "for plot_only_shared_by_target_and_all_data in (False, True):\n",
    "\n",
    "    kraft.function_heat_map_summary(\n",
    "        target,\n",
    "        data_dicts,\n",
    "        {\n",
    "            data_name: kraft.function_heat_map(\n",
    "                target, data_dict[\"dataframe\"], plot=False\n",
    "            )\n",
    "            for data_name, data_dict in data_dicts.items()\n",
    "        },\n",
    "        plot_only_shared_by_target_and_all_data=plot_only_shared_by_target_and_all_data,\n",
    "    )"
   ]
  }
 ],
 "metadata": {
  "@webio": {
   "lastCommId": null,
   "lastKernelId": null
  },
  "kernelspec": {
   "display_name": "Python 3",
   "language": "python",
   "name": "python3"
  },
  "language_info": {
   "codemirror_mode": {
    "name": "ipython",
    "version": 3
   },
   "file_extension": ".py",
   "mimetype": "text/x-python",
   "name": "python",
   "nbconvert_exporter": "python",
   "pygments_lexer": "ipython3",
   "version": "3.7.6"
  }
 },
 "nbformat": 4,
 "nbformat_minor": 4
}
