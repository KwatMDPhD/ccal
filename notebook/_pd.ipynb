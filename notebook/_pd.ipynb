{
 "cells": [
  {
   "cell_type": "code",
   "execution_count": null,
   "metadata": {},
   "outputs": [],
   "source": [
    "%load_ext autoreload\n",
    "%autoreload 2"
   ]
  },
  {
   "cell_type": "code",
   "execution_count": null,
   "metadata": {
    "ExecuteTime": {
     "end_time": "2018-05-15T09:28:55.668422Z",
     "start_time": "2018-05-15T09:28:55.428950Z"
    }
   },
   "outputs": [],
   "source": [
    "import numpy as np\n",
    "import pandas as pd\n",
    "\n",
    "import kraft"
   ]
  },
  {
   "cell_type": "markdown",
   "metadata": {},
   "source": [
    "## separate_type"
   ]
  },
  {
   "cell_type": "code",
   "execution_count": null,
   "metadata": {},
   "outputs": [],
   "source": [
    "n_row_per_type = 2\n",
    "\n",
    "n_column = 8\n",
    "\n",
    "continuous = pd.DataFrame(\n",
    "    data=np.random.normal(\n",
    "        size=(\n",
    "            n_row_per_type,\n",
    "            n_column,\n",
    "        )\n",
    "    ),\n",
    "    index=pd.Index(\n",
    "        data=(\"Continuous {}\".format(i) for i in range(n_row_per_type)),\n",
    "        name=\"Continuous\",\n",
    "    ),\n",
    ")\n",
    "\n",
    "continuous.iloc[\n",
    "    0,\n",
    "    0,\n",
    "] = np.nan\n",
    "\n",
    "categorical = pd.DataFrame(\n",
    "    data=np.random.randint(\n",
    "        3,\n",
    "        size=(\n",
    "            n_row_per_type,\n",
    "            n_column,\n",
    "        ),\n",
    "    ),\n",
    "    index=pd.Index(\n",
    "        data=(\"Categorical {}\".format(i) for i in range(n_row_per_type)),\n",
    "        name=\"Categorical\",\n",
    "    ),\n",
    ")\n",
    "\n",
    "categorical.iloc[\n",
    "    0,\n",
    "    1,\n",
    "] = np.nan\n",
    "\n",
    "binary = pd.DataFrame(\n",
    "    data=np.random.randint(\n",
    "        2,\n",
    "        size=(\n",
    "            n_row_per_type,\n",
    "            n_column,\n",
    "        ),\n",
    "    ),\n",
    "    index=pd.Index(\n",
    "        data=(\"Binary {}\".format(i) for i in range(n_row_per_type)),\n",
    "        name=\"Binary\",\n",
    "    ),\n",
    ")\n",
    "\n",
    "binary.iloc[\n",
    "    0,\n",
    "    2,\n",
    "] = np.nan\n",
    "\n",
    "dataframe = pd.concat(\n",
    "    (\n",
    "        continuous,\n",
    "        categorical,\n",
    "        binary,\n",
    "    )\n",
    ")\n",
    "\n",
    "dataframe.index.name = \"Index\"\n",
    "\n",
    "dataframe"
   ]
  },
  {
   "cell_type": "code",
   "execution_count": null,
   "metadata": {},
   "outputs": [],
   "source": [
    "(\n",
    "    continuous,\n",
    "    binary,\n",
    ") = kraft.pd.separate_type(dataframe)"
   ]
  },
  {
   "cell_type": "code",
   "execution_count": null,
   "metadata": {},
   "outputs": [],
   "source": [
    "continuous"
   ]
  },
  {
   "cell_type": "code",
   "execution_count": null,
   "metadata": {},
   "outputs": [],
   "source": [
    "binary"
   ]
  }
 ],
 "metadata": {
  "kernelspec": {
   "display_name": "Python 3",
   "language": "python",
   "name": "python3"
  },
  "language_info": {
   "codemirror_mode": {
    "name": "ipython",
    "version": 3
   },
   "file_extension": ".py",
   "mimetype": "text/x-python",
   "name": "python",
   "nbconvert_exporter": "python",
   "pygments_lexer": "ipython3",
   "version": "3.8.9"
  }
 },
 "nbformat": 4,
 "nbformat_minor": 4
}
