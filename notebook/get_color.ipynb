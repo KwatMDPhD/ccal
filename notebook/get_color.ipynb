{
 "cells": [
  {
   "cell_type": "code",
   "execution_count": null,
   "metadata": {},
   "outputs": [],
   "source": [
    "%load_ext autoreload\n",
    "%autoreload 2"
   ]
  },
  {
   "cell_type": "code",
   "execution_count": null,
   "metadata": {},
   "outputs": [],
   "source": [
    "import numpy as np\n",
    "import plotly as pl\n",
    "\n",
    "import kraft"
   ]
  },
  {
   "cell_type": "code",
   "execution_count": null,
   "metadata": {},
   "outputs": [],
   "source": [
    "colorscale = pl.colors.make_colorscale(pl.colors.qualitative.Plotly)"
   ]
  },
  {
   "cell_type": "code",
   "execution_count": null,
   "metadata": {},
   "outputs": [],
   "source": [
    "scatter_ = {\n",
    "    \"showlegend\": False,\n",
    "    \"mode\": \"markers\",\n",
    "    \"marker\": {\"size\": 32},\n",
    "}\n",
    "\n",
    "for values in (np.linspace(0, 1, num=10), np.arange(10)):\n",
    "\n",
    "    if 1 < max(values):\n",
    "\n",
    "        n = len(values)\n",
    "\n",
    "    else:\n",
    "\n",
    "        n = None\n",
    "\n",
    "    data = [\n",
    "        kraft.merge_2_dicts(\n",
    "            scatter_,\n",
    "            {\"x\": values, \"y\": (0,) * len(values), \"marker\": {\"color\": values}},\n",
    "        ),\n",
    "        kraft.merge_2_dicts(\n",
    "            scatter_,\n",
    "            {\n",
    "                \"x\": values,\n",
    "                \"y\": (1,) * len(values),\n",
    "                \"marker\": {\"color\": values, \"colorscale\": colorscale},\n",
    "            },\n",
    "        ),\n",
    "    ] + [\n",
    "        kraft.merge_2_dicts(\n",
    "            scatter_,\n",
    "            {\n",
    "                \"x\": (value,),\n",
    "                \"y\": (2,),\n",
    "                \"marker\": {\"color\": kraft.get_color(colorscale, value, n=n)},\n",
    "            },\n",
    "        )\n",
    "        for i, value in enumerate(values)\n",
    "    ]\n",
    "\n",
    "    pl.io.show(\n",
    "        {\n",
    "            \"layout\": {\n",
    "                \"xaxis\": {\"tickmode\": \"array\", \"tickvals\": values},\n",
    "                \"yaxis\": {\n",
    "                    \"tickmode\": \"array\",\n",
    "                    \"tickvals\": (0, 1, 2),\n",
    "                    \"ticktext\": (\"Default\", \"Colorscale Auto\", \"Colorscale Manual\"),\n",
    "                },\n",
    "            },\n",
    "            \"data\": data,\n",
    "        }\n",
    "    )"
   ]
  }
 ],
 "metadata": {
  "kernelspec": {
   "display_name": "Python 3",
   "language": "python",
   "name": "python3"
  },
  "language_info": {
   "codemirror_mode": {
    "name": "ipython",
    "version": 3
   },
   "file_extension": ".py",
   "mimetype": "text/x-python",
   "name": "python",
   "nbconvert_exporter": "python",
   "pygments_lexer": "ipython3",
   "version": "3.7.6"
  }
 },
 "nbformat": 4,
 "nbformat_minor": 4
}
