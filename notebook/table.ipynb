{
 "cells": [
  {
   "cell_type": "code",
   "execution_count": null,
   "id": "00d594ef-630f-4e79-87a0-8f1adf96399a",
   "metadata": {},
   "outputs": [],
   "source": [
    "%load_ext autoreload\n",
    "%autoreload 2"
   ]
  },
  {
   "cell_type": "code",
   "execution_count": null,
   "id": "42c98d35-aefa-47f3-bc10-0f165a476ab6",
   "metadata": {},
   "outputs": [],
   "source": [
    "import kraft"
   ]
  },
  {
   "cell_type": "markdown",
   "id": "854e75b0-10b5-4c1e-9feb-6c622019a654",
   "metadata": {},
   "source": [
    "## error_axis"
   ]
  },
  {
   "cell_type": "code",
   "execution_count": null,
   "id": "de4ba9db-8c41-4f63-8746-680806cb47b3",
   "metadata": {},
   "outputs": [],
   "source": [
    "import numpy as np\n",
    "import pandas as pd"
   ]
  },
  {
   "cell_type": "code",
   "execution_count": null,
   "id": "4f5d3703-345e-4474-9ac2-ea4c04ba9592",
   "metadata": {},
   "outputs": [],
   "source": [
    "for la_ in [\n",
    "    [1, 2],\n",
    "    [1, None],\n",
    "    [1, np.nan],\n",
    "    [\"a\", \"b\"],\n",
    "    [\"a\", None],\n",
    "    [\"a\", np.nan],\n",
    "    [\"a\", \"b\", \"b\"],\n",
    "    [\"a\", \"\", \"\"],\n",
    "]:\n",
    "\n",
    "    print(\"=\" * 80)\n",
    "\n",
    "    print(la_)\n",
    "\n",
    "    try:\n",
    "\n",
    "        kraft.table.error_axis(pd.DataFrame(None, la_))\n",
    "\n",
    "    except AssertionError as er:\n",
    "\n",
    "        print(er)"
   ]
  },
  {
   "cell_type": "markdown",
   "id": "ca1fd06f-955d-47fe-b579-3a16f524e880",
   "metadata": {},
   "source": [
    "## sync_axis"
   ]
  },
  {
   "cell_type": "code",
   "execution_count": null,
   "id": "dbe72e42-0a0f-49c0-b5dd-d764e250aef9",
   "metadata": {},
   "outputs": [],
   "source": [
    "dataframe_0 = pd.DataFrame(0, index=(-1, 0, 8), columns=(\"a\", \"b\", \"k\"))\n",
    "\n",
    "dataframe_1 = pd.DataFrame(1, index=(0, 1, 8), columns=(\"b\", \"c\", \"k\"))\n",
    "\n",
    "dataframe_2 = pd.DataFrame(2, index=(1, 2, 8), columns=(\"c\", \"d\", \"k\"))\n",
    "\n",
    "for dataframe in (dataframe_0, dataframe_1, dataframe_2):\n",
    "\n",
    "    print(\"=\" * 80)\n",
    "\n",
    "    dataframe.index.name = \"Axis 0\"\n",
    "\n",
    "    dataframe.columns.name = \"Axis 1\"\n",
    "\n",
    "    print(dataframe)\n",
    "\n",
    "for axis in (0, 1):\n",
    "\n",
    "    for function in (\"union\", \"intersection\"):\n",
    "\n",
    "        print(\"=\" * 80)\n",
    "\n",
    "        print(axis, function)\n",
    "\n",
    "        for dataframe in kraft.table.sync_axis(\n",
    "            (dataframe_0, dataframe_1, dataframe_2), axis, function\n",
    "        ):\n",
    "\n",
    "            print(dataframe)"
   ]
  },
  {
   "cell_type": "markdown",
   "id": "231a0f1f-f0c5-4430-b55e-e5eb5063a246",
   "metadata": {},
   "source": [
    "## count"
   ]
  },
  {
   "cell_type": "code",
   "execution_count": null,
   "id": "99d1eb22-f8e9-433a-8502-fb0ed6e02722",
   "metadata": {},
   "outputs": [],
   "source": [
    "ta = pd.DataFrame(np.random.choice(list(\"ABC\"), [8, 2]))\n",
    "\n",
    "print(ta)\n",
    "\n",
    "kraft.table.count(ta)"
   ]
  },
  {
   "cell_type": "markdown",
   "id": "0ca040e7-ae66-48dd-be43-34cf3d0732f2",
   "metadata": {},
   "source": [
    "## sample"
   ]
  },
  {
   "cell_type": "code",
   "execution_count": null,
   "id": "1bef9fde-1145-4d99-b73f-03d3e1a3aeed",
   "metadata": {},
   "outputs": [],
   "source": [
    "dataframe = pd.DataFrame(np.full((10, 10), 0))\n",
    "\n",
    "dataframe.index.name = \"Axis 0\"\n",
    "\n",
    "dataframe.columns.name = \"Axis 1\"\n",
    "\n",
    "print(dataframe)\n",
    "\n",
    "for (axis_0_n, axis_1_n) in ((1, None), (None, 1), (1, 1), (0.5, 0.5)):\n",
    "\n",
    "    print(\"=\" * 80)\n",
    "\n",
    "    axis_0_p = np.arange(dataframe.shape[0])\n",
    "\n",
    "    axis_0_p = axis_0_p / axis_0_p.sum()\n",
    "\n",
    "    axis_1_p = np.arange(dataframe.shape[1])\n",
    "\n",
    "    axis_1_p = axis_1_p / axis_1_p.sum()\n",
    "\n",
    "    print(\n",
    "        kraft.table.sample(\n",
    "            dataframe,\n",
    "            axis_0_n,\n",
    "            axis_1_n,\n",
    "            axis_0_choice_keyword_arguments=dict(replace=False, p=axis_0_p),\n",
    "            axis_1_choice_keyword_arguments=dict(replace=False, p=axis_1_p),\n",
    "        )\n",
    "    )"
   ]
  },
  {
   "cell_type": "markdown",
   "id": "b17e097f-9252-44d1-b63a-9a82fb5035ce",
   "metadata": {},
   "source": [
    "## drop*"
   ]
  },
  {
   "cell_type": "code",
   "execution_count": null,
   "id": "4dc3c0d1-8758-40ad-8339-0c74b58d737c",
   "metadata": {},
   "outputs": [],
   "source": [
    "da = pd.DataFrame(np.random.randint(0, 4, [10, 10]))\n",
    "\n",
    "for ie in range(da.shape[0]):\n",
    "\n",
    "    da.iloc[ie, :ie] = None\n",
    "\n",
    "da"
   ]
  },
  {
   "cell_type": "markdown",
   "id": "ae8d3de4-210b-4f0a-9d66-b0681472c2ea",
   "metadata": {},
   "source": [
    "## drop"
   ]
  },
  {
   "cell_type": "code",
   "execution_count": null,
   "id": "2de937d7-0e8e-4f8b-89b8-cded94af321e",
   "metadata": {},
   "outputs": [],
   "source": [
    "for ax in [0, 1]:\n",
    "\n",
    "    for n_no in [None, 5, 6]:\n",
    "\n",
    "        for n_un in [None, 4]:\n",
    "\n",
    "            if n_no == n_un:\n",
    "\n",
    "                continue\n",
    "\n",
    "            print(\"=\" * 80)\n",
    "\n",
    "            print(ax, n_no, n_un)\n",
    "\n",
    "            print(\n",
    "                kraft.da.drop(\n",
    "                    da,\n",
    "                    ax,\n",
    "                    n_no=n_no,\n",
    "                    n_un=n_un,\n",
    "                )\n",
    "            )"
   ]
  },
  {
   "cell_type": "markdown",
   "id": "deaf6ede-ddaa-42b7-9961-90d09fef878d",
   "metadata": {},
   "source": [
    "## drop2"
   ]
  },
  {
   "cell_type": "code",
   "execution_count": null,
   "id": "bf190fda-2d48-459b-83d8-ad047547d2ab",
   "metadata": {},
   "outputs": [],
   "source": [
    "for n_no in [None, 3, 4]:\n",
    "\n",
    "    for n_un in [None, 2]:\n",
    "\n",
    "        if n_no == n_un:\n",
    "\n",
    "            continue\n",
    "\n",
    "        for ax in [0, 1]:\n",
    "\n",
    "            print(\"=\" * 80)\n",
    "\n",
    "            print(ax, n_no, n_un)\n",
    "\n",
    "            print(\n",
    "                kraft.da.drop2(\n",
    "                    da,\n",
    "                    ax=ax,\n",
    "                    n_no=n_no,\n",
    "                    n_un=n_un,\n",
    "                )\n",
    "            )"
   ]
  },
  {
   "cell_type": "markdown",
   "id": "d0d3379f-a7b8-4cec-b85c-3f00e3a7a0ea",
   "metadata": {},
   "source": [
    "## map_to_column"
   ]
  },
  {
   "cell_type": "code",
   "execution_count": null,
   "id": "33094b4b-4dc8-4622-a45c-8f104f4b8199",
   "metadata": {},
   "outputs": [],
   "source": [
    "n_ro = 4\n",
    "\n",
    "ta = pd.DataFrame(\n",
    "    {\n",
    "        \"Dad\": [\"Kw{}\".format(ie) for ie in range(n_ro)],\n",
    "        \"Mo\": [\"Ka{}\".format(ie) for ie in range(n_ro)],\n",
    "        \"Ch1\": [\"Ay{}\".format(ie) for ie in range(n_ro)],\n",
    "    }\n",
    ")\n",
    "\n",
    "kraft.table.map_to_column(ta, \"Mo\")"
   ]
  },
  {
   "cell_type": "markdown",
   "id": "f1c5700f-60dc-4747-852a-77f8f9e05329",
   "metadata": {},
   "source": [
    "## pivot"
   ]
  },
  {
   "cell_type": "code",
   "execution_count": null,
   "id": "28874f63-615a-4440-9bfc-6ed9b5d0fdee",
   "metadata": {},
   "outputs": [],
   "source": [
    "array = np.asarray(\n",
    "    (\n",
    "        (\"a0\", \"b0\", 0),\n",
    "        (\"a0\", \"b0\", -1),\n",
    "        (\"a0\", \"b1\", 1),\n",
    "        (\"a0\", \"b2\", 2),\n",
    "        (\"a0\", \"b3\", 3),\n",
    "        (\"a0\", \"b3\", None),\n",
    "        (\"a1\", \"b0\", 4),\n",
    "        (\"a1\", \"b1\", 5),\n",
    "        (\"a1\", \"b2\", 6),\n",
    "        (\"a1\", \"b3\", 7),\n",
    "        (\"a1\", \"b3\", np.nan),\n",
    "        (\"a2\", \"b0\", 8),\n",
    "        (\"a2\", \"b1\", 9),\n",
    "        (\"a2\", \"b2\", 10),\n",
    "        (\"a2\", \"b3\", 11),\n",
    "    )\n",
    ")\n",
    "\n",
    "\n",
    "def numpy_max(number_0, number_1):\n",
    "\n",
    "    return np.max((number_0, number_1))\n",
    "\n",
    "\n",
    "for function in (None, max, numpy_max):\n",
    "\n",
    "    print(\"=\" * 80)\n",
    "\n",
    "    print(function)\n",
    "\n",
    "    print(\n",
    "        kraft.table.pivot(\n",
    "            array[:, 0], array[:, 1], array[:, 2].astype(float), function=function\n",
    "        )\n",
    "    )"
   ]
  },
  {
   "cell_type": "markdown",
   "id": "7b57a11b-e4ff-4798-a0fd-16c3da56f33f",
   "metadata": {},
   "source": [
    "## binarize"
   ]
  },
  {
   "cell_type": "code",
   "execution_count": null,
   "id": "0490b0eb-0100-4fad-81fd-f5b4d0473d43",
   "metadata": {},
   "outputs": [],
   "source": [
    "objects = (0, 2, 1, None, np.nan, \"\", \"Aa\")\n",
    "\n",
    "series = pd.Series(\n",
    "    objects,\n",
    "    index=pd.Index((\"Label {}\".format(i) for i in range(len(objects))), name=\"Axis\"),\n",
    "    name=\"Object\",\n",
    ")\n",
    "\n",
    "print(series)\n",
    "\n",
    "kraft.table.binarize(series)"
   ]
  }
 ],
 "metadata": {
  "kernelspec": {
   "display_name": "Python 3",
   "language": "python",
   "name": "python3"
  },
  "language_info": {
   "codemirror_mode": {
    "name": "ipython",
    "version": 3
   },
   "file_extension": ".py",
   "mimetype": "text/x-python",
   "name": "python",
   "nbconvert_exporter": "python",
   "pygments_lexer": "ipython3",
   "version": "3.8.9"
  }
 },
 "nbformat": 4,
 "nbformat_minor": 5
}
