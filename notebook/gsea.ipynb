{
 "cells": [
  {
   "cell_type": "code",
   "execution_count": null,
   "metadata": {},
   "outputs": [],
   "source": [
    "%load_ext autoreload\n",
    "%autoreload 2"
   ]
  },
  {
   "cell_type": "code",
   "execution_count": null,
   "metadata": {},
   "outputs": [],
   "source": [
    "import pandas as pd"
   ]
  },
  {
   "cell_type": "code",
   "execution_count": null,
   "metadata": {},
   "outputs": [],
   "source": [
    "genes = pd.read_csv(\"genes.txt\", sep=\"\\t\", squeeze=True).tolist()[:19999]"
   ]
  },
  {
   "cell_type": "code",
   "execution_count": null,
   "metadata": {},
   "outputs": [],
   "source": [
    "import numpy as np"
   ]
  },
  {
   "cell_type": "code",
   "execution_count": null,
   "metadata": {},
   "outputs": [],
   "source": [
    "scores = np.full(len(genes), 1 / len(genes))"
   ]
  },
  {
   "cell_type": "code",
   "execution_count": null,
   "metadata": {
    "ExecuteTime": {
     "end_time": "2018-05-15T09:31:50.820917Z",
     "start_time": "2018-05-15T09:31:50.340764Z"
    }
   },
   "outputs": [],
   "source": [
    "gene_score = pd.Series(scores, index=genes)"
   ]
  },
  {
   "cell_type": "code",
   "execution_count": null,
   "metadata": {},
   "outputs": [],
   "source": [
    "import kraft"
   ]
  },
  {
   "cell_type": "code",
   "execution_count": null,
   "metadata": {},
   "outputs": [],
   "source": [
    "gene_sets = kraft.read_gmt(\n",
    "    \"/home/kwat/garden/data/gene_set/msigdb_v6.2/h.all.v6.2.symbols.gmt\"\n",
    ").sort_index()\n",
    "\n",
    "gene_set_genes = gene_sets.iloc[0].dropna().tolist()"
   ]
  },
  {
   "cell_type": "code",
   "execution_count": null,
   "metadata": {},
   "outputs": [],
   "source": [
    "from numpy import asarray"
   ]
  },
  {
   "cell_type": "code",
   "execution_count": null,
   "metadata": {},
   "outputs": [],
   "source": [
    "%%timeit\n",
    "\n",
    "gene_set_gene_None = {gene_set_gene: None for gene_set_gene in gene_set_genes}\n",
    "\n",
    "hit = asarray(\n",
    "    [\n",
    "        gene_score_gene in gene_set_gene_None\n",
    "        for gene_score_gene in gene_score.index.values\n",
    "\n",
    "    ],\n",
    "    dtype=int,\n",
    ")"
   ]
  },
  {
   "cell_type": "code",
   "execution_count": null,
   "metadata": {},
   "outputs": [],
   "source": [
    "gene_set_gene_None = {gene_set_gene: None for gene_set_gene in gene_set_genes}\n",
    "\n",
    "hit = asarray(\n",
    "    [\n",
    "        gene_score_gene in gene_set_gene_None\n",
    "        for gene_score_gene in gene_score.index.values\n",
    "    ],\n",
    "    dtype=int,\n",
    ")"
   ]
  },
  {
   "cell_type": "code",
   "execution_count": null,
   "metadata": {},
   "outputs": [],
   "source": [
    "%%timeit\n",
    "\n",
    "kraft.run_single_sample_gsea(\n",
    "    gene_score,\n",
    "    gene_set_genes,\n",
    "    hit=hit,\n",
    "    plot=False,\n",
    ")"
   ]
  },
  {
   "cell_type": "code",
   "execution_count": null,
   "metadata": {},
   "outputs": [],
   "source": [
    "kraft.run_single_sample_gsea(gene_score, gene_set_genes, hit=hit, plot=False)"
   ]
  }
 ],
 "metadata": {
  "@webio": {
   "lastCommId": null,
   "lastKernelId": null
  },
  "kernelspec": {
   "display_name": "Python 3",
   "language": "python",
   "name": "python3"
  },
  "language_info": {
   "codemirror_mode": {
    "name": "ipython",
    "version": 3
   },
   "file_extension": ".py",
   "mimetype": "text/x-python",
   "name": "python",
   "nbconvert_exporter": "python",
   "pygments_lexer": "ipython3",
   "version": "3.7.3"
  }
 },
 "nbformat": 4,
 "nbformat_minor": 4
}
