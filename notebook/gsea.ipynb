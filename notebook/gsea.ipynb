{
 "cells": [
  {
   "cell_type": "code",
   "execution_count": null,
   "metadata": {},
   "outputs": [],
   "source": [
    "with open(\"genes.txt\") as io:\n",
    "\n",
    "    genes = [gene.strip() for gene in io.readlines()[1:]]"
   ]
  },
  {
   "cell_type": "code",
   "execution_count": null,
   "metadata": {},
   "outputs": [],
   "source": [
    "import numpy as np"
   ]
  },
  {
   "cell_type": "code",
   "execution_count": null,
   "metadata": {},
   "outputs": [],
   "source": [
    "# gene_values = np.full(len(genes), 1 / len(genes))\n",
    "gene_values = np.random.normal(size=len(genes))"
   ]
  },
  {
   "cell_type": "code",
   "execution_count": null,
   "metadata": {},
   "outputs": [],
   "source": [
    "import pandas as pd"
   ]
  },
  {
   "cell_type": "code",
   "execution_count": null,
   "metadata": {},
   "outputs": [],
   "source": [
    "gene_x_sample = pd.DataFrame(\n",
    "    {\"Sample 1\": gene_values, \"Sample 2\": gene_values * 10}, index=genes\n",
    ")"
   ]
  },
  {
   "cell_type": "code",
   "execution_count": null,
   "metadata": {},
   "outputs": [],
   "source": [
    "random_gene_set_genes = np.random.choice(genes, size=100, replace=False).tolist()"
   ]
  },
  {
   "cell_type": "code",
   "execution_count": null,
   "metadata": {},
   "outputs": [],
   "source": [
    "import kraft"
   ]
  },
  {
   "cell_type": "code",
   "execution_count": null,
   "metadata": {},
   "outputs": [],
   "source": [
    "gene_set_genes = {}\n",
    "\n",
    "for gmt_file_path in [\n",
    "    \"/home/kwat/garden/data/gene_set/msigdb_v6.2/h.all.v6.2.symbols.gmt\",\n",
    "    #     \"/home/kwat/garden/data/gene_set/msigdb_v6.2/c1.all.v6.2.symbols.gmt\",\n",
    "    #     \"/home/kwat/garden/data/gene_set/msigdb_v6.2/c2.all.v6.2.symbols.gmt\",\n",
    "    #     \"/home/kwat/garden/data/gene_set/msigdb_v6.2/c3.all.v6.2.symbols.gmt\",\n",
    "    #     \"/home/kwat/garden/data/gene_set/msigdb_v6.2/c5.all.v6.2.symbols.gmt\",\n",
    "    #     \"/home/kwat/garden/data/gene_set/msigdb_v6.2/c6.all.v6.2.symbols.gmt\",\n",
    "    #     \"/home/kwat/garden/data/gene_set/msigdb_v6.2/c7.all.v6.2.symbols.gmt\",\n",
    "    #     \"/home/kwat/garden/data/gene_set/hippo_pathway.gmt\",\n",
    "    #     \"/home/kwat/garden/data/gene_set/stem_cell.gmt\",\n",
    "    #     \"/home/kwat/garden/data/gene_set/yap_signature.gmt\",\n",
    "]:\n",
    "\n",
    "    gene_set_genes.update(kraft.read_gmt(gmt_file_path))"
   ]
  }
 ],
 "metadata": {
  "@webio": {
   "lastCommId": null,
   "lastKernelId": null
  },
  "kernelspec": {
   "display_name": "Python 3",
   "language": "python",
   "name": "python3"
  },
  "language_info": {
   "codemirror_mode": {
    "name": "ipython",
    "version": 3
   },
   "file_extension": ".py",
   "mimetype": "text/x-python",
   "name": "python",
   "nbconvert_exporter": "python",
   "pygments_lexer": "ipython3",
   "version": "3.7.3"
  }
 },
 "nbformat": 4,
 "nbformat_minor": 4
}
