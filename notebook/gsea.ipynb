{
 "cells": [
  {
   "cell_type": "code",
   "execution_count": 1,
   "metadata": {},
   "outputs": [],
   "source": [
    "%load_ext autoreload\n",
    "%autoreload 2"
   ]
  },
  {
   "cell_type": "code",
   "execution_count": 2,
   "metadata": {},
   "outputs": [],
   "source": [
    "import plotly"
   ]
  },
  {
   "cell_type": "code",
   "execution_count": 3,
   "metadata": {},
   "outputs": [
    {
     "data": {
      "text/html": [
       "        <script type=\"text/javascript\">\n",
       "        window.PlotlyConfig = {MathJaxConfig: 'local'};\n",
       "        if (window.MathJax) {MathJax.Hub.Config({SVG: {font: \"STIX-Web\"}});}\n",
       "        if (typeof require !== 'undefined') {\n",
       "        require.undef(\"plotly\");\n",
       "        requirejs.config({\n",
       "            paths: {\n",
       "                'plotly': ['https://cdn.plot.ly/plotly-latest.min']\n",
       "            }\n",
       "        });\n",
       "        require(['plotly'], function(Plotly) {\n",
       "            window._Plotly = Plotly;\n",
       "        });\n",
       "        }\n",
       "        </script>\n",
       "        "
      ]
     },
     "metadata": {},
     "output_type": "display_data"
    }
   ],
   "source": [
    "plotly.offline.init_notebook_mode(connected=True)"
   ]
  },
  {
   "cell_type": "code",
   "execution_count": 4,
   "metadata": {},
   "outputs": [],
   "source": [
    "import pandas as pd"
   ]
  },
  {
   "cell_type": "code",
   "execution_count": 5,
   "metadata": {},
   "outputs": [],
   "source": [
    "import numpy as np"
   ]
  },
  {
   "cell_type": "code",
   "execution_count": 6,
   "metadata": {},
   "outputs": [
    {
     "name": "stdout",
     "output_type": "stream",
     "text": [
      "CCAL version 1.1.0 @ /home/kwatme/github/ccal/ccal/__init__.py\n"
     ]
    }
   ],
   "source": [
    "import ccal"
   ]
  },
  {
   "cell_type": "code",
   "execution_count": 7,
   "metadata": {},
   "outputs": [],
   "source": [
    "import sys\n",
    "\n",
    "sys.path.insert(0, '/home/kwatme/alex/')\n",
    "\n",
    "import A_gsea_get_enrichment"
   ]
  },
  {
   "cell_type": "code",
   "execution_count": 8,
   "metadata": {},
   "outputs": [],
   "source": [
    "np.random.seed(seed=ccal.RANDOM_SEED)"
   ]
  },
  {
   "cell_type": "code",
   "execution_count": 9,
   "metadata": {},
   "outputs": [],
   "source": [
    "size = 10000\n",
    "\n",
    "in_ = np.random.choice((0, 1), size, p=(0.99, 0.01))\n",
    "\n",
    "score = np.sort(np.random.normal(size=size))\n",
    "\n",
    "score_absolute = np.absolute(score)"
   ]
  },
  {
   "cell_type": "code",
   "execution_count": 10,
   "metadata": {},
   "outputs": [
    {
     "data": {
      "text/plain": [
       "array([0, 0, 0, ..., 0, 0, 0])"
      ]
     },
     "execution_count": 10,
     "metadata": {},
     "output_type": "execute_result"
    }
   ],
   "source": [
    "in_"
   ]
  },
  {
   "cell_type": "code",
   "execution_count": 11,
   "metadata": {},
   "outputs": [
    {
     "data": {
      "text/plain": [
       "array([-4.16912494, -3.75493895, -3.4117345 , ...,  3.54761929,\n",
       "        3.73851517,  4.16346151])"
      ]
     },
     "execution_count": 11,
     "metadata": {},
     "output_type": "execute_result"
    }
   ],
   "source": [
    "score"
   ]
  },
  {
   "cell_type": "code",
   "execution_count": 12,
   "metadata": {},
   "outputs": [
    {
     "data": {
      "text/plain": [
       "array([4.16912494, 3.75493895, 3.4117345 , ..., 3.54761929, 3.73851517,\n",
       "       4.16346151])"
      ]
     },
     "execution_count": 12,
     "metadata": {},
     "output_type": "execute_result"
    }
   ],
   "source": [
    "score_absolute"
   ]
  },
  {
   "cell_type": "code",
   "execution_count": null,
   "metadata": {},
   "outputs": [],
   "source": [
    "%%timeit\n",
    "\n",
    "up = in_ * score\n",
    "\n",
    "down = 1.0 - in_\n",
    "\n",
    "up /= up.sum()\n",
    "\n",
    "down /= down.sum()\n",
    "\n",
    "m = up - down\n",
    "\n",
    "m"
   ]
  },
  {
   "cell_type": "code",
   "execution_count": 14,
   "metadata": {},
   "outputs": [
    {
     "name": "stdout",
     "output_type": "stream",
     "text": [
      "143 µs ± 7.69 µs per loop (mean ± std. dev. of 7 runs, 10000 loops each)\n"
     ]
    }
   ],
   "source": [
    "%%timeit\n",
    "\n",
    "for i in range(in_.size):\n",
    "    \n",
    "    pass"
   ]
  },
  {
   "cell_type": "code",
   "execution_count": 15,
   "metadata": {},
   "outputs": [
    {
     "name": "stdout",
     "output_type": "stream",
     "text": [
      "2.27 ms ± 72.1 µs per loop (mean ± std. dev. of 7 runs, 100 loops each)\n"
     ]
    }
   ],
   "source": [
    "%%timeit\n",
    "\n",
    "up = np.full(score_absolute.size, 0.0)\n",
    "\n",
    "down = np.full(score_absolute.size, -1.0)\n",
    "\n",
    "for i in range(in_.size):\n",
    "    \n",
    "    in_i = in_[i]\n",
    "    \n",
    "    if in_i:\n",
    "        \n",
    "        up[i] = score_absolute[i]\n",
    "        \n",
    "        down[i] = 0\n",
    "        \n",
    "up /= up.sum()\n",
    "\n",
    "down /= down.sum()\n",
    "\n",
    "m = up - down\n",
    "\n",
    "m"
   ]
  },
  {
   "cell_type": "code",
   "execution_count": 16,
   "metadata": {
    "ExecuteTime": {
     "end_time": "2018-05-15T09:31:50.820917Z",
     "start_time": "2018-05-15T09:31:50.340764Z"
    }
   },
   "outputs": [],
   "source": [
    "genes = pd.read_csv(\"genes.txt\", sep=\"\\t\", squeeze=True).sort_values().tolist()\n",
    "\n",
    "# len(genes)"
   ]
  },
  {
   "cell_type": "code",
   "execution_count": 17,
   "metadata": {
    "ExecuteTime": {
     "end_time": "2018-05-15T09:31:51.351662Z",
     "start_time": "2018-05-15T09:31:50.826812Z"
    }
   },
   "outputs": [],
   "source": [
    "n_sample = 1\n",
    "\n",
    "gene_x_sample = pd.DataFrame(\n",
    "    np.random.normal(size=(len(genes), n_sample)),\n",
    "    index=genes,\n",
    "    columns=(\"Sample {}\".format(i) for i in range(n_sample)),\n",
    ")\n",
    "\n",
    "# gene_x_sample"
   ]
  },
  {
   "cell_type": "code",
   "execution_count": 18,
   "metadata": {
    "ExecuteTime": {
     "end_time": "2018-05-15T09:31:51.816539Z",
     "start_time": "2018-05-15T09:31:51.371983Z"
    }
   },
   "outputs": [],
   "source": [
    "n_gene_set = 3\n",
    "\n",
    "gene_sets = []\n",
    "\n",
    "for i in range(n_gene_set):\n",
    "\n",
    "    gene_sets.append(np.random.choice(genes, size=100, replace=False))\n",
    "\n",
    "gene_sets = pd.DataFrame(\n",
    "    gene_sets, index=(\"Gene Set {}\".format(i) for i in range(n_gene_set))\n",
    ")\n",
    "\n",
    "# gene_sets"
   ]
  },
  {
   "cell_type": "code",
   "execution_count": 29,
   "metadata": {},
   "outputs": [
    {
     "name": "stdout",
     "output_type": "stream",
     "text": [
      "9.87 ms ± 77.5 µs per loop (mean ± std. dev. of 7 runs, 100 loops each)\n"
     ]
    }
   ],
   "source": [
    "a = gene_x_sample.iloc[:, 0]\n",
    "\n",
    "b = gene_sets.iloc[-2]\n",
    "\n",
    "%timeit ccal.single_sample_gsea(a, b, plot=False)"
   ]
  },
  {
   "cell_type": "code",
   "execution_count": 30,
   "metadata": {},
   "outputs": [],
   "source": [
    "import cProfile"
   ]
  },
  {
   "cell_type": "code",
   "execution_count": 34,
   "metadata": {
    "scrolled": true
   },
   "outputs": [
    {
     "name": "stdout",
     "output_type": "stream",
     "text": [
      "         70 function calls in 0.014 seconds\n",
      "\n",
      "   Ordered by: internal time\n",
      "\n",
      "   ncalls  tottime  percall  cumtime  percall filename:lineno(function)\n",
      "        1    0.008    0.008    0.008    0.008 single_sample_gsea.py:25(<listcomp>)\n",
      "        1    0.006    0.006    0.006    0.006 {built-in method numpy.array}\n",
      "        1    0.000    0.000    0.014    0.014 single_sample_gsea.py:6(single_sample_gsea)\n",
      "        1    0.000    0.000    0.014    0.014 {built-in method builtins.exec}\n",
      "        1    0.000    0.000    0.006    0.006 numeric.py:469(asarray)\n",
      "        1    0.000    0.000    0.000    0.000 single_sample_gsea.py:21(<dictcomp>)\n",
      "       13    0.000    0.000    0.000    0.000 {built-in method builtins.isinstance}\n",
      "        1    0.000    0.000    0.000    0.000 base.py:1117(__iter__)\n",
      "        1    0.000    0.000    0.014    0.014 <string>:1(<module>)\n",
      "        2    0.000    0.000    0.000    0.000 common.py:1845(_is_dtype_type)\n",
      "        4    0.000    0.000    0.000    0.000 managers.py:1549(internal_values)\n",
      "        1    0.000    0.000    0.000    0.000 common.py:702(is_datetimelike)\n",
      "        4    0.000    0.000    0.000    0.000 series.py:476(_values)\n",
      "        1    0.000    0.000    0.000    0.000 base.py:3608(values)\n",
      "        4    0.000    0.000    0.000    0.000 generic.py:7(_check)\n",
      "        6    0.000    0.000    0.000    0.000 {built-in method builtins.getattr}\n",
      "        1    0.000    0.000    0.000    0.000 common.py:403(is_datetime64_dtype)\n",
      "        1    0.000    0.000    0.000    0.000 common.py:434(is_datetime64tz_dtype)\n",
      "        1    0.000    0.000    0.000    0.000 common.py:1702(is_extension_array_dtype)\n",
      "        1    0.000    0.000    0.000    0.000 dtypes.py:68(find)\n",
      "        4    0.000    0.000    0.000    0.000 managers.py:1488(_block)\n",
      "        2    0.000    0.000    0.000    0.000 common.py:119(<lambda>)\n",
      "        2    0.000    0.000    0.000    0.000 common.py:1981(pandas_dtype)\n",
      "        1    0.000    0.000    0.000    0.000 {method 'view' of 'numpy.ndarray' objects}\n",
      "        4    0.000    0.000    0.000    0.000 blocks.py:165(internal_values)\n",
      "        1    0.000    0.000    0.000    0.000 base.py:75(is_dtype)\n",
      "        2    0.000    0.000    0.000    0.000 common.py:117(classes)\n",
      "        2    0.000    0.000    0.000    0.000 {built-in method builtins.hasattr}\n",
      "        3    0.000    0.000    0.000    0.000 {built-in method builtins.issubclass}\n",
      "        1    0.000    0.000    0.000    0.000 common.py:472(is_timedelta64_dtype)\n",
      "        1    0.000    0.000    0.000    0.000 {method 'disable' of '_lsprof.Profiler' objects}\n",
      "\n",
      "\n"
     ]
    }
   ],
   "source": [
    "cProfile.run(\"ccal.single_sample_gsea(a, b, plot=False)\", sort=\"time\")"
   ]
  },
  {
   "cell_type": "code",
   "execution_count": 22,
   "metadata": {},
   "outputs": [
    {
     "name": "stdout",
     "output_type": "stream",
     "text": [
      "245 ms ± 3.77 ms per loop (mean ± std. dev. of 7 runs, 1 loop each)\n"
     ]
    }
   ],
   "source": [
    "b = gene_sets.iloc[[-2]]\n",
    "\n",
    "%timeit A_gsea_get_enrichment.A_gsea_get_enrichment(a, b)"
   ]
  },
  {
   "cell_type": "code",
   "execution_count": 23,
   "metadata": {},
   "outputs": [
    {
     "name": "stdout",
     "output_type": "stream",
     "text": [
      "178 ms ± 26.5 ms per loop (mean ± std. dev. of 7 runs, 10 loops each)\n"
     ]
    }
   ],
   "source": [
    "%timeit ccal.single_sample_gseas_2(a, b)"
   ]
  },
  {
   "cell_type": "code",
   "execution_count": 24,
   "metadata": {},
   "outputs": [
    {
     "name": "stdout",
     "output_type": "stream",
     "text": [
      "120 ms ± 2.72 ms per loop (mean ± std. dev. of 7 runs, 10 loops each)\n"
     ]
    }
   ],
   "source": [
    "a = gene_x_sample.iloc[:, [0]]\n",
    "\n",
    "b = gene_sets\n",
    "\n",
    "%timeit ccal.single_sample_gseas(a, b)"
   ]
  },
  {
   "cell_type": "code",
   "execution_count": 25,
   "metadata": {},
   "outputs": [
    {
     "name": "stdout",
     "output_type": "stream",
     "text": [
      "321 ms ± 3.94 ms per loop (mean ± std. dev. of 7 runs, 1 loop each)\n"
     ]
    }
   ],
   "source": [
    "a = gene_x_sample.iloc[:, 0]\n",
    "\n",
    "%timeit A_gsea_get_enrichment.A_gsea_get_enrichment(a, b)"
   ]
  },
  {
   "cell_type": "code",
   "execution_count": 26,
   "metadata": {},
   "outputs": [
    {
     "name": "stdout",
     "output_type": "stream",
     "text": [
      "454 ms ± 9.57 ms per loop (mean ± std. dev. of 7 runs, 1 loop each)\n"
     ]
    }
   ],
   "source": [
    "%timeit ccal.single_sample_gseas_2(a, b)"
   ]
  },
  {
   "cell_type": "code",
   "execution_count": 27,
   "metadata": {},
   "outputs": [
    {
     "name": "stdout",
     "output_type": "stream",
     "text": [
      "         168 function calls (165 primitive calls) in 0.475 seconds\n",
      "\n",
      "   Ordered by: internal time\n",
      "\n",
      "   ncalls  tottime  percall  cumtime  percall filename:lineno(function)\n",
      "        3    0.472    0.157    0.472    0.157 arraysetops.py:484(in1d)\n",
      "        1    0.001    0.001    0.475    0.475 single_sample_gseas_2.py:4(single_sample_gseas_2)\n",
      "        1    0.000    0.000    0.000    0.000 {method 'cumsum' of 'numpy.ndarray' objects}\n",
      "        4    0.000    0.000    0.000    0.000 {method 'reduce' of 'numpy.ufunc' objects}\n",
      "        1    0.000    0.000    0.000    0.000 {method 'astype' of 'numpy.ndarray' objects}\n",
      "        1    0.000    0.000    0.472    0.472 shape_base.py:270(apply_along_axis)\n",
      "        3    0.000    0.000    0.472    0.157 arraysetops.py:601(isin)\n",
      "        6    0.000    0.000    0.000    0.000 {built-in method numpy.zeros}\n",
      "        1    0.000    0.000    0.475    0.475 {built-in method builtins.exec}\n",
      "        1    0.000    0.000    0.000    0.000 stride_tricks.py:39(as_strided)\n",
      "       16    0.000    0.000    0.000    0.000 {built-in method numpy.array}\n",
      "        1    0.000    0.000    0.000    0.000 index_tricks.py:634(__init__)\n",
      "        4    0.000    0.000    0.000    0.000 shape_base.py:373(<genexpr>)\n",
      "        3    0.000    0.000    0.000    0.000 {method 'reshape' of 'numpy.ndarray' objects}\n",
      "        4    0.000    0.000    0.000    0.000 index_tricks.py:653(__next__)\n",
      "        6    0.000    0.000    0.000    0.000 {method 'ravel' of 'numpy.ndarray' objects}\n",
      "        1    0.000    0.000    0.000    0.000 managers.py:736(as_array)\n",
      "        1    0.000    0.000    0.000    0.000 {built-in method numpy.empty_like}\n",
      "        2    0.000    0.000    0.000    0.000 managers.py:174(_is_single_block)\n",
      "        3    0.000    0.000    0.472    0.157 single_sample_gseas_2.py:15(<lambda>)\n",
      "    21/19    0.000    0.000    0.000    0.000 {built-in method builtins.len}\n",
      "      5/4    0.000    0.000    0.000    0.000 {built-in method builtins.next}\n",
      "        1    0.000    0.000    0.000    0.000 {built-in method numpy.copyto}\n",
      "        1    0.000    0.000    0.000    0.000 generic.py:5122(_protect_consolidate)\n",
      "        1    0.000    0.000    0.000    0.000 base.py:3608(values)\n",
      "        1    0.000    0.000    0.475    0.475 <string>:1(<module>)\n",
      "        2    0.000    0.000    0.000    0.000 fromnumeric.py:54(_wrapfunc)\n",
      "       11    0.000    0.000    0.000    0.000 numeric.py:469(asarray)\n",
      "        2    0.000    0.000    0.000    0.000 {method 'sum' of 'numpy.ndarray' objects}\n",
      "        1    0.000    0.000    0.000    0.000 numeric.py:112(zeros_like)\n",
      "        4    0.000    0.000    0.000    0.000 numeric.py:541(asanyarray)\n",
      "        1    0.000    0.000    0.000    0.000 managers.py:1546(external_values)\n",
      "        2    0.000    0.000    0.000    0.000 range.py:510(__len__)\n",
      "        1    0.000    0.000    0.000    0.000 generic.py:5250(values)\n",
      "        2    0.000    0.000    0.000    0.000 _methods.py:34(_sum)\n",
      "        3    0.000    0.000    0.000    0.000 {method 'transpose' of 'numpy.ndarray' objects}\n",
      "        1    0.000    0.000    0.000    0.000 {built-in method numpy.where}\n",
      "        3    0.000    0.000    0.000    0.000 {built-in method builtins.isinstance}\n",
      "        2    0.000    0.000    0.000    0.000 managers.py:291(__len__)\n",
      "        1    0.000    0.000    0.000    0.000 generic.py:5069(__setattr__)\n",
      "        1    0.000    0.000    0.000    0.000 generic.py:5135(f)\n",
      "        1    0.000    0.000    0.000    0.000 {method 'view' of 'numpy.ndarray' objects}\n",
      "        2    0.000    0.000    0.000    0.000 {built-in method builtins.max}\n",
      "        1    0.000    0.000    0.000    0.000 series.py:434(values)\n",
      "        1    0.000    0.000    0.000    0.000 blocks.py:175(get_values)\n",
      "        1    0.000    0.000    0.000    0.000 generic.py:5132(_consolidate_inplace)\n",
      "        1    0.000    0.000    0.000    0.000 common.py:119(<lambda>)\n",
      "        1    0.000    0.000    0.000    0.000 common.py:131(is_object_dtype)\n",
      "        1    0.000    0.000    0.000    0.000 common.py:1845(_is_dtype_type)\n",
      "        2    0.000    0.000    0.000    0.000 fromnumeric.py:592(transpose)\n",
      "        1    0.000    0.000    0.000    0.000 _methods.py:30(_amin)\n",
      "        2    0.000    0.000    0.000    0.000 {built-in method builtins.getattr}\n",
      "        1    0.000    0.000    0.000    0.000 managers.py:591(is_consolidated)\n",
      "        1    0.000    0.000    0.000    0.000 managers.py:911(consolidate)\n",
      "        1    0.000    0.000    0.000    0.000 managers.py:1488(_block)\n",
      "        4    0.000    0.000    0.000    0.000 blocks.py:195(mgr_locs)\n",
      "        2    0.000    0.000    0.000    0.000 managers.py:143(ndim)\n",
      "        1    0.000    0.000    0.000    0.000 blocks.py:161(external_values)\n",
      "        1    0.000    0.000    0.000    0.000 common.py:117(classes)\n",
      "        1    0.000    0.000    0.000    0.000 stride_tricks.py:21(__init__)\n",
      "        1    0.000    0.000    0.000    0.000 stride_tricks.py:26(_maybe_view_as_subclass)\n",
      "        1    0.000    0.000    0.000    0.000 index_tricks.py:642(__iter__)\n",
      "        1    0.000    0.000    0.000    0.000 _methods.py:26(_amax)\n",
      "        1    0.000    0.000    0.000    0.000 {method '__array_wrap__' of 'numpy.ndarray' objects}\n",
      "        1    0.000    0.000    0.000    0.000 {method 'max' of 'numpy.ndarray' objects}\n",
      "        1    0.000    0.000    0.000    0.000 {method 'min' of 'numpy.ndarray' objects}\n",
      "        1    0.000    0.000    0.000    0.000 {method 'disable' of '_lsprof.Profiler' objects}\n",
      "        1    0.000    0.000    0.000    0.000 {built-in method builtins.issubclass}\n",
      "        2    0.000    0.000    0.000    0.000 managers.py:206(items)\n",
      "        1    0.000    0.000    0.000    0.000 {method '__array_prepare__' of 'numpy.ndarray' objects}\n",
      "        1    0.000    0.000    0.000    0.000 {built-in method numpy.core._multiarray_umath.normalize_axis_index}\n",
      "\n",
      "\n"
     ]
    }
   ],
   "source": [
    "cProfile.run(\"ccal.single_sample_gseas_2(a, b)\", sort=\"time\")"
   ]
  },
  {
   "cell_type": "code",
   "execution_count": null,
   "metadata": {},
   "outputs": [],
   "source": [
    "raise"
   ]
  },
  {
   "cell_type": "code",
   "execution_count": null,
   "metadata": {},
   "outputs": [],
   "source": [
    "np.zeros(100)"
   ]
  },
  {
   "cell_type": "code",
   "execution_count": null,
   "metadata": {},
   "outputs": [],
   "source": [
    "raise"
   ]
  },
  {
   "cell_type": "code",
   "execution_count": null,
   "metadata": {},
   "outputs": [],
   "source": [
    "gene_score = gene_x_sample.iloc[:, 0]\n",
    "\n",
    "for normalization_method in (\"-0-\", \"0-1\"):\n",
    "\n",
    "    if normalization_method is None:\n",
    "\n",
    "        gene_score_ = gene_score\n",
    "\n",
    "    else:\n",
    "\n",
    "        gene_score_ = ccal.normalize_series_or_dataframe(\n",
    "            gene_score, None, normalization_method\n",
    "        )\n",
    "\n",
    "    for statistic in (\"ks\", \"auc\"):\n",
    "\n",
    "        ccal.single_sample_gsea(\n",
    "            gene_score_,\n",
    "            gene_sets.iloc[0],\n",
    "            statistic=statistic,\n",
    "            title=\"normalization_method: {}<br>statistic: {}\".format(\n",
    "                normalization_method, statistic\n",
    "            ),\n",
    "        )"
   ]
  },
  {
   "cell_type": "code",
   "execution_count": null,
   "metadata": {
    "ExecuteTime": {
     "end_time": "2018-05-15T09:32:00.443357Z",
     "start_time": "2018-05-15T09:31:58.871340Z"
    }
   },
   "outputs": [],
   "source": [
    "ccal.single_sample_gseas(gene_x_sample, gene_sets)"
   ]
  },
  {
   "cell_type": "code",
   "execution_count": null,
   "metadata": {
    "ExecuteTime": {
     "end_time": "2018-05-15T09:32:03.995749Z",
     "start_time": "2018-05-15T09:32:00.449852Z"
    }
   },
   "outputs": [],
   "source": [
    "from scipy.stats import pearsonr\n",
    "\n",
    "\n",
    "def function(x, y):\n",
    "\n",
    "    return pearsonr(x, y)[0]"
   ]
  },
  {
   "cell_type": "code",
   "execution_count": null,
   "metadata": {
    "ExecuteTime": {
     "end_time": "2018-05-15T09:32:03.995749Z",
     "start_time": "2018-05-15T09:32:00.449852Z"
    }
   },
   "outputs": [],
   "source": [
    "n_sample_per_phenotype = n_sample // 2\n",
    "\n",
    "phenotypes = np.array((0,) * n_sample_per_phenotype + (1,) * n_sample_per_phenotype)\n",
    "\n",
    "ccal.gsea(\n",
    "    gene_x_sample,\n",
    "    phenotypes,\n",
    "    gene_sets.iloc[0, :],\n",
    "    function,\n",
    "    statistic=\"ks\",\n",
    "    n_permutation=10,\n",
    "    permuting=\"gene\",\n",
    "    gene_score_name=\"Correlation\",\n",
    ")"
   ]
  }
 ],
 "metadata": {
  "kernelspec": {
   "display_name": "Python 3",
   "language": "python",
   "name": "python3"
  },
  "language_info": {
   "codemirror_mode": {
    "name": "ipython",
    "version": 3
   },
   "file_extension": ".py",
   "mimetype": "text/x-python",
   "name": "python",
   "nbconvert_exporter": "python",
   "pygments_lexer": "ipython3",
   "version": "3.6.7"
  }
 },
 "nbformat": 4,
 "nbformat_minor": 2
}
