{
 "cells": [
  {
   "cell_type": "code",
   "execution_count": null,
   "metadata": {
    "ExecuteTime": {
     "end_time": "2018-05-15T09:31:47.352186Z",
     "start_time": "2018-05-15T09:31:47.225770Z"
    }
   },
   "outputs": [],
   "source": [
    "%load_ext autoreload\n",
    "%autoreload 2"
   ]
  },
  {
   "cell_type": "code",
   "execution_count": null,
   "metadata": {},
   "outputs": [],
   "source": [
    "import os\n",
    "import sys\n",
    "\n",
    "import numpy as np\n",
    "import pandas as pd\n",
    "import plotly as pl"
   ]
  },
  {
   "cell_type": "code",
   "execution_count": null,
   "metadata": {},
   "outputs": [],
   "source": [
    "sys.path.insert(0, \"..\")\n",
    "\n",
    "np.random.random(20121020)\n",
    "\n",
    "pl.offline.init_notebook_mode(connected=True)"
   ]
  },
  {
   "cell_type": "code",
   "execution_count": null,
   "metadata": {
    "ExecuteTime": {
     "end_time": "2018-05-15T09:31:50.820917Z",
     "start_time": "2018-05-15T09:31:50.340764Z"
    }
   },
   "outputs": [],
   "source": [
    "n_gene = 80\n",
    "\n",
    "all_genes = pd.read_table(\"genes.txt\", squeeze=True)\n",
    "\n",
    "genes = np.random.choice(all_genes, size=n_gene, replace=False)\n",
    "\n",
    "genes"
   ]
  },
  {
   "cell_type": "code",
   "execution_count": null,
   "metadata": {
    "ExecuteTime": {
     "end_time": "2018-05-15T09:31:51.351662Z",
     "start_time": "2018-05-15T09:31:50.826812Z"
    }
   },
   "outputs": [],
   "source": [
    "n_sample = 8\n",
    "\n",
    "gene_x_sample = pd.DataFrame(\n",
    "    np.random.random_sample(size=(n_gene, n_sample)),\n",
    "    index=genes,\n",
    "    columns=(\"Sample {}\".format(i) for i in range(n_sample)),\n",
    ")\n",
    "\n",
    "gene_x_sample"
   ]
  },
  {
   "cell_type": "code",
   "execution_count": null,
   "metadata": {
    "ExecuteTime": {
     "end_time": "2018-05-15T09:31:51.816539Z",
     "start_time": "2018-05-15T09:31:51.371983Z"
    }
   },
   "outputs": [],
   "source": [
    "n_gene_set = 8\n",
    "\n",
    "gene_sets = []\n",
    "\n",
    "for i in range(n_gene_set):\n",
    "\n",
    "    gene_sets.append(np.random.choice(genes, size=(i + 1) * 8, replace=False))\n",
    "\n",
    "gene_sets = pd.DataFrame(\n",
    "    gene_sets, index=tuple(\"Gene Set {}\".format(i) for i in range(n_gene_set))\n",
    ")\n",
    "\n",
    "gene_sets"
   ]
  },
  {
   "cell_type": "code",
   "execution_count": null,
   "metadata": {
    "ExecuteTime": {
     "end_time": "2018-05-15T09:31:58.850062Z",
     "start_time": "2018-05-15T09:31:51.824769Z"
    }
   },
   "outputs": [],
   "source": [
    "from gsea.single_sample_gsea import single_sample_gsea\n",
    "\n",
    "score = single_sample_gsea(gene_x_sample.iloc[:, 0] - 0.5, gene_sets.iloc[0])\n",
    "\n",
    "score"
   ]
  },
  {
   "cell_type": "code",
   "execution_count": null,
   "metadata": {},
   "outputs": [],
   "source": [
    "from gsea.nd_array.nd_array.normalize_nd_array import normalize_nd_array\n",
    "\n",
    "for statistic in (\"ks\", \"auc\"):\n",
    "\n",
    "    gene_score = gene_x_sample.iloc[:, 0]\n",
    "\n",
    "    for normalization_method in (None, \"0-1\", \"-0-\"):\n",
    "\n",
    "        if normalization_method is not None:\n",
    "\n",
    "            gene_score = pd.Series(\n",
    "                normalize_nd_array(gene_score, None, normalization_method),\n",
    "                name=gene_score.name,\n",
    "                index=gene_score.index,\n",
    "            )\n",
    "\n",
    "        single_sample_gsea(\n",
    "            gene_score,\n",
    "            gene_sets.iloc[0],\n",
    "            statistic=statistic,\n",
    "            title=\"statistic={} & normalization_method={}\".format(\n",
    "                statistic, normalization_method\n",
    "            ),\n",
    "        )"
   ]
  },
  {
   "cell_type": "code",
   "execution_count": null,
   "metadata": {
    "ExecuteTime": {
     "end_time": "2018-05-15T09:32:00.443357Z",
     "start_time": "2018-05-15T09:31:58.871340Z"
    }
   },
   "outputs": [],
   "source": [
    "from gsea.single_sample_gseas import single_sample_gseas\n",
    "\n",
    "score__gene_set_x_sample = single_sample_gseas(gene_x_sample, gene_sets, n_job=2)\n",
    "\n",
    "score__gene_set_x_sample"
   ]
  },
  {
   "cell_type": "code",
   "execution_count": null,
   "metadata": {
    "ExecuteTime": {
     "end_time": "2018-05-15T09:32:03.995749Z",
     "start_time": "2018-05-15T09:32:00.449852Z"
    }
   },
   "outputs": [],
   "source": [
    "from scipy.stats import pearsonr\n",
    "\n",
    "from gsea.gsea import gsea\n",
    "\n",
    "n_sample_per_phenotype = n_sample // 2\n",
    "\n",
    "phenotypes = np.array((0,) * n_sample_per_phenotype + (1,) * n_sample_per_phenotype)\n",
    "\n",
    "\n",
    "def function(x, y):\n",
    "\n",
    "    return pearsonr(x, y)[0]\n",
    "\n",
    "\n",
    "score_p_value = gsea(\n",
    "    gene_x_sample,\n",
    "    phenotypes,\n",
    "    gene_sets.iloc[0, :],\n",
    "    function,\n",
    "    statistic=\"ks\",\n",
    "    n_permutation=10,\n",
    "    permuting=\"gene\",\n",
    "    gene_score_name=\"Correlation\",\n",
    ")\n",
    "\n",
    "score_p_value"
   ]
  }
 ],
 "metadata": {
  "kernelspec": {
   "display_name": "Python 3",
   "language": "python",
   "name": "python3"
  },
  "language_info": {
   "codemirror_mode": {
    "name": "ipython",
    "version": 3
   },
   "file_extension": ".py",
   "mimetype": "text/x-python",
   "name": "python",
   "nbconvert_exporter": "python",
   "pygments_lexer": "ipython3",
   "version": "3.6.6"
  }
 },
 "nbformat": 4,
 "nbformat_minor": 2
}
