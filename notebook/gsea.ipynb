{
 "cells": [
  {
   "cell_type": "code",
   "execution_count": null,
   "metadata": {},
   "outputs": [],
   "source": [
    "import pandas as pd"
   ]
  },
  {
   "cell_type": "code",
   "execution_count": null,
   "metadata": {},
   "outputs": [],
   "source": [
    "with open(\"genes.txt\") as io:\n",
    "\n",
    "    genes = [gene.strip() for gene in io.readlines()[1:]]"
   ]
  },
  {
   "cell_type": "code",
   "execution_count": null,
   "metadata": {},
   "outputs": [],
   "source": [
    "import numpy as np"
   ]
  },
  {
   "cell_type": "code",
   "execution_count": null,
   "metadata": {},
   "outputs": [],
   "source": [
    "# values = np.full(len(genes), 1 / len(genes))\n",
    "values = np.random.normal(size=len(genes))"
   ]
  },
  {
   "cell_type": "code",
   "execution_count": null,
   "metadata": {
    "ExecuteTime": {
     "end_time": "2018-05-15T09:31:50.820917Z",
     "start_time": "2018-05-15T09:31:50.340764Z"
    }
   },
   "outputs": [],
   "source": [
    "gene_value = pd.Series(values, index=genes)"
   ]
  },
  {
   "cell_type": "code",
   "execution_count": null,
   "metadata": {},
   "outputs": [],
   "source": [
    "gene_x_sample = pd.DataFrame(\n",
    "    {\"Sample 1\": gene_value, \"Sample 2\": gene_value * 10}, index=genes\n",
    ")"
   ]
  },
  {
   "cell_type": "code",
   "execution_count": null,
   "metadata": {},
   "outputs": [],
   "source": [
    "random_gene_set_genes = np.random.choice(genes, size=100, replace=False)"
   ]
  },
  {
   "cell_type": "code",
   "execution_count": null,
   "metadata": {},
   "outputs": [],
   "source": [
    "import kraft"
   ]
  },
  {
   "cell_type": "code",
   "execution_count": null,
   "metadata": {},
   "outputs": [],
   "source": [
    "gene_set_genes = {}\n",
    "\n",
    "for gmt_file_path in [\n",
    "    \"/home/kwat/garden/data/gene_set/msigdb_v6.2/h.all.v6.2.symbols.gmt\",\n",
    "    #     \"/home/kwat/garden/data/gene_set/msigdb_v6.2/c1.all.v6.2.symbols.gmt\",\n",
    "    #     \"/home/kwat/garden/data/gene_set/msigdb_v6.2/c2.all.v6.2.symbols.gmt\",\n",
    "    #     \"/home/kwat/garden/data/gene_set/msigdb_v6.2/c3.all.v6.2.symbols.gmt\",\n",
    "    #     \"/home/kwat/garden/data/gene_set/msigdb_v6.2/c5.all.v6.2.symbols.gmt\",\n",
    "    #     \"/home/kwat/garden/data/gene_set/msigdb_v6.2/c6.all.v6.2.symbols.gmt\",\n",
    "    #     \"/home/kwat/garden/data/gene_set/msigdb_v6.2/c7.all.v6.2.symbols.gmt\",\n",
    "    #     \"/home/kwat/garden/data/gene_set/hippo_pathway.gmt\",\n",
    "    #     \"/home/kwat/garden/data/gene_set/stem_cell.gmt\",\n",
    "    #     \"/home/kwat/garden/data/gene_set/yap_signature.gmt\",\n",
    "]:\n",
    "\n",
    "    gene_set_genes.update(kraft.read_gmt(gmt_file_path))"
   ]
  },
  {
   "cell_type": "code",
   "execution_count": null,
   "metadata": {},
   "outputs": [],
   "source": [
    "kraft.run_single_sample_gsea(\n",
    "    gene_value.sort_values(ascending=False),\n",
    "    random_gene_set_genes,\n",
    "    statistic=\"ks\",\n",
    "    plot=True,\n",
    ")"
   ]
  }
 ],
 "metadata": {
  "@webio": {
   "lastCommId": null,
   "lastKernelId": null
  },
  "kernelspec": {
   "display_name": "Python 3",
   "language": "python",
   "name": "python3"
  },
  "language_info": {
   "codemirror_mode": {
    "name": "ipython",
    "version": 3
   },
   "file_extension": ".py",
   "mimetype": "text/x-python",
   "name": "python",
   "nbconvert_exporter": "python",
   "pygments_lexer": "ipython3",
   "version": "3.7.3"
  }
 },
 "nbformat": 4,
 "nbformat_minor": 4
}
