{
 "cells": [
  {
   "cell_type": "code",
   "execution_count": 1,
   "metadata": {},
   "outputs": [],
   "source": [
    "with open(\"genes.txt\") as io:\n",
    "\n",
    "    genes = [gene.strip() for gene in io.readlines()[1:]]"
   ]
  },
  {
   "cell_type": "code",
   "execution_count": 2,
   "metadata": {},
   "outputs": [],
   "source": [
    "import numpy as np"
   ]
  },
  {
   "cell_type": "code",
   "execution_count": 3,
   "metadata": {},
   "outputs": [],
   "source": [
    "# gene_values = np.full(len(genes), 1 / len(genes))\n",
    "gene_values = np.random.normal(size=len(genes))"
   ]
  },
  {
   "cell_type": "code",
   "execution_count": 4,
   "metadata": {},
   "outputs": [],
   "source": [
    "import pandas as pd"
   ]
  },
  {
   "cell_type": "code",
   "execution_count": 5,
   "metadata": {},
   "outputs": [],
   "source": [
    "gene_x_sample = pd.DataFrame(\n",
    "    {\"Sample 1\": gene_values, \"Sample 2\": gene_values * 10}, index=genes\n",
    ")"
   ]
  },
  {
   "cell_type": "code",
   "execution_count": 6,
   "metadata": {},
   "outputs": [],
   "source": [
    "random_gene_set_genes = np.random.choice(genes, size=100, replace=False).tolist()"
   ]
  },
  {
   "cell_type": "code",
   "execution_count": 7,
   "metadata": {},
   "outputs": [],
   "source": [
    "import kraft"
   ]
  },
  {
   "cell_type": "code",
   "execution_count": 8,
   "metadata": {},
   "outputs": [],
   "source": [
    "gene_set_genes = {}\n",
    "\n",
    "for gmt_file_path in [\n",
    "    \"/home/kwat/garden/data/gene_set/msigdb_v6.2/h.all.v6.2.symbols.gmt\",\n",
    "    #     \"/home/kwat/garden/data/gene_set/msigdb_v6.2/c1.all.v6.2.symbols.gmt\",\n",
    "    #     \"/home/kwat/garden/data/gene_set/msigdb_v6.2/c2.all.v6.2.symbols.gmt\",\n",
    "    #     \"/home/kwat/garden/data/gene_set/msigdb_v6.2/c3.all.v6.2.symbols.gmt\",\n",
    "    #     \"/home/kwat/garden/data/gene_set/msigdb_v6.2/c5.all.v6.2.symbols.gmt\",\n",
    "    #     \"/home/kwat/garden/data/gene_set/msigdb_v6.2/c6.all.v6.2.symbols.gmt\",\n",
    "    #     \"/home/kwat/garden/data/gene_set/msigdb_v6.2/c7.all.v6.2.symbols.gmt\",\n",
    "    #     \"/home/kwat/garden/data/gene_set/hippo_pathway.gmt\",\n",
    "    #     \"/home/kwat/garden/data/gene_set/stem_cell.gmt\",\n",
    "    #     \"/home/kwat/garden/data/gene_set/yap_signature.gmt\",\n",
    "]:\n",
    "\n",
    "    gene_set_genes.update(kraft.read_gmt(gmt_file_path))"
   ]
  },
  {
   "cell_type": "code",
   "execution_count": 9,
   "metadata": {},
   "outputs": [],
   "source": [
    "from julia.api import Julia\n",
    "\n",
    "Julia(compiled_modules=False)\n",
    "\n",
    "from julia import Kraft"
   ]
  },
  {
   "cell_type": "code",
   "execution_count": 11,
   "metadata": {},
   "outputs": [
    {
     "data": {
      "text/plain": [
       "(array([-1.72848895e-05, -3.45697791e-05, -5.18546686e-05, ...,\n",
       "         3.45697792e-05,  1.72848897e-05,  1.44826757e-13]),\n",
       " -0.16965289834721012,\n",
       " -1147.994405671446)"
      ]
     },
     "execution_count": 11,
     "metadata": {},
     "output_type": "execute_result"
    }
   ],
   "source": [
    "Kraft.compute_gene_set_enrichment(\n",
    "    gene_values,\n",
    "    genes,\n",
    "    random_gene_set_genes,\n",
    ")"
   ]
  },
  {
   "cell_type": "code",
   "execution_count": 13,
   "metadata": {},
   "outputs": [
    {
     "ename": "RuntimeError",
     "evalue": "Julia exception: MethodError: no method matching compute_gene_set_enrichment(::Array{Float64,1}, ::Array{String,1}, ::Dict{Any,Any})\nClosest candidates are:\n  compute_gene_set_enrichment(::Array{Float64,1}, ::AbstractArray{String,1}, !Matched::Array{String,1}; sort_gene_values, gene_index, compute_cumulative_sum) at /home/kwat/.julia/packages/Kraft/DTyoE/src/compute_gene_set_enrichment.jl:31\n  compute_gene_set_enrichment(::Array{Float64,1}, ::AbstractArray{String,1}, !Matched::Dict{String,Array{String,1}}; sort_gene_values) at /home/kwat/.julia/packages/Kraft/DTyoE/src/compute_gene_set_enrichment.jl:148\nStacktrace:\n [1] #invokelatest#1(::Base.Iterators.Pairs{Union{},Union{},Tuple{},NamedTuple{(),Tuple{}}}, ::Function, ::Any, ::Any, ::Vararg{Any,N} where N) at ./essentials.jl:697\n [2] invokelatest(::Any, ::Any, ::Vararg{Any,N} where N) at ./essentials.jl:696\n [3] _pyjlwrap_call(::Function, ::Ptr{PyCall.PyObject_struct}, ::Ptr{PyCall.PyObject_struct}) at /home/kwat/.julia/packages/PyCall/ttONZ/src/callback.jl:28\n [4] pyjlwrap_call(::Ptr{PyCall.PyObject_struct}, ::Ptr{PyCall.PyObject_struct}, ::Ptr{PyCall.PyObject_struct}) at /home/kwat/.julia/packages/PyCall/ttONZ/src/callback.jl:49",
     "output_type": "error",
     "traceback": [
      "\u001b[0;31m---------------------------------------------------------------------------\u001b[0m",
      "\u001b[0;31mRuntimeError\u001b[0m                              Traceback (most recent call last)",
      "\u001b[0;32m<ipython-input-13-1620b1e1e524>\u001b[0m in \u001b[0;36m<module>\u001b[0;34m\u001b[0m\n\u001b[1;32m      2\u001b[0m     \u001b[0mgene_values\u001b[0m\u001b[0;34m,\u001b[0m\u001b[0;34m\u001b[0m\u001b[0;34m\u001b[0m\u001b[0m\n\u001b[1;32m      3\u001b[0m     \u001b[0mgenes\u001b[0m\u001b[0;34m,\u001b[0m\u001b[0;34m\u001b[0m\u001b[0;34m\u001b[0m\u001b[0m\n\u001b[0;32m----> 4\u001b[0;31m     \u001b[0mgene_set_genes\u001b[0m\u001b[0;34m,\u001b[0m\u001b[0;34m\u001b[0m\u001b[0;34m\u001b[0m\u001b[0m\n\u001b[0m\u001b[1;32m      5\u001b[0m )\n",
      "\u001b[0;31mRuntimeError\u001b[0m: Julia exception: MethodError: no method matching compute_gene_set_enrichment(::Array{Float64,1}, ::Array{String,1}, ::Dict{Any,Any})\nClosest candidates are:\n  compute_gene_set_enrichment(::Array{Float64,1}, ::AbstractArray{String,1}, !Matched::Array{String,1}; sort_gene_values, gene_index, compute_cumulative_sum) at /home/kwat/.julia/packages/Kraft/DTyoE/src/compute_gene_set_enrichment.jl:31\n  compute_gene_set_enrichment(::Array{Float64,1}, ::AbstractArray{String,1}, !Matched::Dict{String,Array{String,1}}; sort_gene_values) at /home/kwat/.julia/packages/Kraft/DTyoE/src/compute_gene_set_enrichment.jl:148\nStacktrace:\n [1] #invokelatest#1(::Base.Iterators.Pairs{Union{},Union{},Tuple{},NamedTuple{(),Tuple{}}}, ::Function, ::Any, ::Any, ::Vararg{Any,N} where N) at ./essentials.jl:697\n [2] invokelatest(::Any, ::Any, ::Vararg{Any,N} where N) at ./essentials.jl:696\n [3] _pyjlwrap_call(::Function, ::Ptr{PyCall.PyObject_struct}, ::Ptr{PyCall.PyObject_struct}) at /home/kwat/.julia/packages/PyCall/ttONZ/src/callback.jl:28\n [4] pyjlwrap_call(::Ptr{PyCall.PyObject_struct}, ::Ptr{PyCall.PyObject_struct}, ::Ptr{PyCall.PyObject_struct}) at /home/kwat/.julia/packages/PyCall/ttONZ/src/callback.jl:49"
     ]
    }
   ],
   "source": [
    "Kraft.compute_gene_set_enrichment(\n",
    "    gene_values,\n",
    "    genes,\n",
    "    gene_set_genes,\n",
    ")"
   ]
  }
 ],
 "metadata": {
  "@webio": {
   "lastCommId": null,
   "lastKernelId": null
  },
  "kernelspec": {
   "display_name": "Python 3",
   "language": "python",
   "name": "python3"
  },
  "language_info": {
   "codemirror_mode": {
    "name": "ipython",
    "version": 3
   },
   "file_extension": ".py",
   "mimetype": "text/x-python",
   "name": "python",
   "nbconvert_exporter": "python",
   "pygments_lexer": "ipython3",
   "version": "3.7.3"
  }
 },
 "nbformat": 4,
 "nbformat_minor": 4
}
