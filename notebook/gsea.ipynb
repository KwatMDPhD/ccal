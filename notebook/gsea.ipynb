{
 "cells": [
  {
   "cell_type": "code",
   "execution_count": null,
   "metadata": {},
   "outputs": [],
   "source": [
    "import os\n",
    "import numpy as np\n",
    "import pandas as pd"
   ]
  },
  {
   "cell_type": "code",
   "execution_count": null,
   "metadata": {},
   "outputs": [],
   "source": [
    "with open(\"genes.txt\") as io:\n",
    "\n",
    "    genes = [gene.strip() for gene in io.readlines()[1:]]\n",
    "\n",
    "# gene_values = np.full(len(genes), 1 / len(genes))\n",
    "gene_values = np.random.normal(size=len(genes))\n",
    "\n",
    "gene_x_sample = pd.DataFrame(\n",
    "    {\"Sample 1\": gene_values, \"Sample 2\": gene_values * 10}, index=genes\n",
    ")\n",
    "\n",
    "gene_x_sample.index.name = \"Gene\"\n",
    "\n",
    "gene_x_sample"
   ]
  },
  {
   "cell_type": "code",
   "execution_count": null,
   "metadata": {},
   "outputs": [],
   "source": [
    "gene_x_sample_tsv_file_path = \"gene_x_sample.tsv\"\n",
    "\n",
    "gene_x_sample.to_csv(gene_x_sample_tsv_file_path, sep=\"\\t\")"
   ]
  },
  {
   "cell_type": "code",
   "execution_count": null,
   "metadata": {},
   "outputs": [],
   "source": [
    "gmt_file_paths = [\n",
    "    \"/Users/kwatme/github/Kraft.jl/notebook/h.all.v6.2.symbols.gmt\",\n",
    "    \"/Users/kwatme/github/Kraft.jl/notebook/c2.all.v6.2.symbols.gmt\",\n",
    "]"
   ]
  },
  {
   "cell_type": "code",
   "execution_count": null,
   "metadata": {},
   "outputs": [],
   "source": [
    "output_directory_path = \"gsea_output\""
   ]
  },
  {
   "cell_type": "code",
   "execution_count": null,
   "metadata": {},
   "outputs": [],
   "source": [
    "import julia\n",
    "from julia.api import Julia\n",
    "\n",
    "julia.install()\n",
    "\n",
    "\n",
    "Julia(compiled_modules=False)"
   ]
  },
  {
   "cell_type": "code",
   "execution_count": null,
   "metadata": {},
   "outputs": [],
   "source": [
    "from julia import Kraft"
   ]
  },
  {
   "cell_type": "code",
   "execution_count": null,
   "metadata": {},
   "outputs": [],
   "source": [
    "Kraft.gsea(gene_x_sample_tsv_file_path, gmt_file_paths, output_directory_path, statistic=\"ks\")"
   ]
  },
  {
   "cell_type": "code",
   "execution_count": null,
   "metadata": {},
   "outputs": [],
   "source": [
    "pd.read_csv(os.path.join(output_directory_path, \"gene_set_x_sample.tsv\"), sep=\"\\t\")"
   ]
  }
 ],
 "metadata": {
  "@webio": {
   "lastCommId": null,
   "lastKernelId": null
  },
  "kernelspec": {
   "display_name": "Python 3",
   "language": "python",
   "name": "python3"
  },
  "language_info": {
   "codemirror_mode": {
    "name": "ipython",
    "version": 3
   },
   "file_extension": ".py",
   "mimetype": "text/x-python",
   "name": "python",
   "nbconvert_exporter": "python",
   "pygments_lexer": "ipython3",
   "version": "3.7.3"
  }
 },
 "nbformat": 4,
 "nbformat_minor": 4
}
