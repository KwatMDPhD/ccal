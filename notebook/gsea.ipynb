{
 "cells": [
  {
   "cell_type": "code",
   "execution_count": null,
   "metadata": {},
   "outputs": [],
   "source": [
    "%load_ext autoreload\n",
    "%autoreload 2"
   ]
  },
  {
   "cell_type": "code",
   "execution_count": null,
   "metadata": {},
   "outputs": [],
   "source": [
    "import plotly"
   ]
  },
  {
   "cell_type": "code",
   "execution_count": null,
   "metadata": {},
   "outputs": [],
   "source": [
    "plotly.offline.init_notebook_mode(connected=True)"
   ]
  },
  {
   "cell_type": "code",
   "execution_count": null,
   "metadata": {},
   "outputs": [],
   "source": [
    "import pandas as pd"
   ]
  },
  {
   "cell_type": "code",
   "execution_count": null,
   "metadata": {},
   "outputs": [],
   "source": [
    "import numpy as np"
   ]
  },
  {
   "cell_type": "code",
   "execution_count": null,
   "metadata": {},
   "outputs": [],
   "source": [
    "import kraft"
   ]
  },
  {
   "cell_type": "code",
   "execution_count": null,
   "metadata": {},
   "outputs": [],
   "source": [
    "np.random.seed(seed=kraft.RANDOM_SEED)"
   ]
  },
  {
   "cell_type": "code",
   "execution_count": null,
   "metadata": {
    "ExecuteTime": {
     "end_time": "2018-05-15T09:31:50.820917Z",
     "start_time": "2018-05-15T09:31:50.340764Z"
    }
   },
   "outputs": [],
   "source": [
    "genes = pd.read_csv(\"genes.txt\", sep=\"\\t\", squeeze=True).sort_values().tolist()\n",
    "\n",
    "len(genes)"
   ]
  },
  {
   "cell_type": "code",
   "execution_count": null,
   "metadata": {
    "ExecuteTime": {
     "end_time": "2018-05-15T09:31:51.351662Z",
     "start_time": "2018-05-15T09:31:50.826812Z"
    }
   },
   "outputs": [],
   "source": [
    "n_sample = 10\n",
    "\n",
    "gene_x_sample = pd.DataFrame(\n",
    "    np.random.normal(size=(len(genes), n_sample)),\n",
    "    index=genes,\n",
    "    columns=(\"Sample {}\".format(i) for i in range(n_sample)),\n",
    ")\n",
    "\n",
    "gene_x_sample.shape"
   ]
  },
  {
   "cell_type": "code",
   "execution_count": null,
   "metadata": {
    "ExecuteTime": {
     "end_time": "2018-05-15T09:31:51.816539Z",
     "start_time": "2018-05-15T09:31:51.371983Z"
    }
   },
   "outputs": [],
   "source": [
    "n_gene_set = 50\n",
    "\n",
    "gene_sets = []\n",
    "\n",
    "for i in range(n_gene_set):\n",
    "\n",
    "    gene_sets.append(np.random.choice(genes, size=i * 10, replace=False))\n",
    "\n",
    "gene_sets = pd.DataFrame(\n",
    "    gene_sets, index=(\"Gene Set {}\".format(i) for i in range(n_gene_set))\n",
    ")\n",
    "\n",
    "gene_sets.shape"
   ]
  },
  {
   "cell_type": "code",
   "execution_count": null,
   "metadata": {},
   "outputs": [],
   "source": [
    "gene_score_no_na_sorted = gene_x_sample.iloc[:, 0].dropna().sort_values(ascending=False)"
   ]
  },
  {
   "cell_type": "code",
   "execution_count": null,
   "metadata": {},
   "outputs": [],
   "source": [
    "gene_set_genes = gene_sets.iloc[0]\n",
    "\n",
    "kraft.run_single_sample_gsea(gene_score_no_na_sorted, gene_set_genes)"
   ]
  },
  {
   "cell_type": "code",
   "execution_count": null,
   "metadata": {},
   "outputs": [],
   "source": [
    "gene_set_genes = gene_sets.iloc[1]\n",
    "\n",
    "for normalization_method in (\"-0-\", \"0-1\"):\n",
    "\n",
    "    if normalization_method is None:\n",
    "\n",
    "        gene_score_no_na_sorted_ = gene_score_no_na_sorted\n",
    "\n",
    "    else:\n",
    "\n",
    "        gene_score_no_na_sorted_ = kraft.normalize_series_or_dataframe(\n",
    "            gene_score_no_na_sorted, None, normalization_method\n",
    "        )\n",
    "\n",
    "    for statistic in (\"ks\", \"auc\"):\n",
    "\n",
    "        kraft.run_single_sample_gsea(\n",
    "            gene_score_no_na_sorted_,\n",
    "            gene_set_genes,\n",
    "            statistic=statistic,\n",
    "            title=\"normalization_method: {}<br>statistic: {}\".format(\n",
    "                normalization_method, statistic\n",
    "            ),\n",
    "        )"
   ]
  },
  {
   "cell_type": "code",
   "execution_count": null,
   "metadata": {},
   "outputs": [],
   "source": [
    "%%timeit\n",
    "\n",
    "kraft.run_single_sample_gsea(gene_score_no_na_sorted, gene_set_genes, plot=False)"
   ]
  },
  {
   "cell_type": "code",
   "execution_count": null,
   "metadata": {},
   "outputs": [],
   "source": [
    "import cProfile"
   ]
  },
  {
   "cell_type": "code",
   "execution_count": null,
   "metadata": {},
   "outputs": [],
   "source": [
    "cProfile.run(\n",
    "    \"kraft.run_single_sample_gsea(gene_score_no_na_sorted, gene_set_genes, plot=False)\",\n",
    "    sort=\"time\",\n",
    ")"
   ]
  },
  {
   "cell_type": "code",
   "execution_count": null,
   "metadata": {},
   "outputs": [],
   "source": [
    "kraft.run_single_sample_gseas(gene_x_sample.iloc[:, [0]], gene_sets)"
   ]
  },
  {
   "cell_type": "code",
   "execution_count": null,
   "metadata": {},
   "outputs": [],
   "source": [
    "%%timeit\n",
    "\n",
    "kraft.run_single_sample_gseas(gene_x_sample.iloc[:, [0]], gene_sets)"
   ]
  },
  {
   "cell_type": "code",
   "execution_count": null,
   "metadata": {},
   "outputs": [],
   "source": [
    "cProfile.run(\n",
    "    \"kraft.run_single_sample_gseas(gene_x_sample.iloc[:, [0]], gene_sets)\", sort=\"time\"\n",
    ")"
   ]
  },
  {
   "cell_type": "code",
   "execution_count": null,
   "metadata": {
    "ExecuteTime": {
     "end_time": "2018-05-15T09:32:03.995749Z",
     "start_time": "2018-05-15T09:32:00.449852Z"
    }
   },
   "outputs": [],
   "source": [
    "from scipy.stats import pearsonr\n",
    "\n",
    "\n",
    "def function(x, y):\n",
    "\n",
    "    return pearsonr(x, y)[0]"
   ]
  },
  {
   "cell_type": "code",
   "execution_count": null,
   "metadata": {
    "ExecuteTime": {
     "end_time": "2018-05-15T09:32:03.995749Z",
     "start_time": "2018-05-15T09:32:00.449852Z"
    }
   },
   "outputs": [],
   "source": [
    "n_sample_per_phenotype = n_sample // 2\n",
    "\n",
    "phenotypes = np.array((0,) * n_sample_per_phenotype + (1,) * n_sample_per_phenotype)\n",
    "\n",
    "kraft.run_gsea(\n",
    "    gene_x_sample,\n",
    "    phenotypes,\n",
    "    gene_set_genes,\n",
    "    function,\n",
    "    statistic=\"ks\",\n",
    "    n_permutation=10,\n",
    "    permuting=\"gene\",\n",
    "    gene_score_name=\"Correlation\",\n",
    ")"
   ]
  }
 ],
 "metadata": {
  "kernelspec": {
   "display_name": "Python 3",
   "language": "python",
   "name": "python3"
  },
  "language_info": {
   "codemirror_mode": {
    "name": "ipython",
    "version": 3
   },
   "file_extension": ".py",
   "mimetype": "text/x-python",
   "name": "python",
   "nbconvert_exporter": "python",
   "pygments_lexer": "ipython3",
   "version": "3.6.7"
  }
 },
 "nbformat": 4,
 "nbformat_minor": 2
}
