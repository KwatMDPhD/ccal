{
 "cells": [
  {
   "cell_type": "code",
   "execution_count": null,
   "metadata": {},
   "outputs": [],
   "source": [
    "%load_ext autoreload\n",
    "%autoreload 2"
   ]
  },
  {
   "cell_type": "code",
   "execution_count": null,
   "metadata": {},
   "outputs": [],
   "source": [
    "import numpy as np\n",
    "import pandas as pd\n",
    "\n",
    "import kraft"
   ]
  },
  {
   "cell_type": "code",
   "execution_count": null,
   "metadata": {},
   "outputs": [],
   "source": [
    "for n_element in (20,):\n",
    "\n",
    "    element_value = np.random.normal(size=n_element // 2)\n",
    "\n",
    "    element_value = pd.Series(\n",
    "        np.sort(np.concatenate((element_value, -element_value))),\n",
    "        name=\"Value\",\n",
    "        index=pd.Index(\n",
    "            (\"Element{}\".format(i) for i in range(n_element)), name=\"Element\"\n",
    "        ),\n",
    "    )\n",
    "\n",
    "    for n_skip in (0.1,):\n",
    "\n",
    "        if n_skip < 1:\n",
    "\n",
    "            n_skip = int(n_skip * n_element)\n",
    "\n",
    "        for n_top in (0.1,):\n",
    "\n",
    "            if n_top < 1:\n",
    "\n",
    "                n_top = int(n_top * n_element)\n",
    "\n",
    "            for rate_top_hit in (1,):\n",
    "\n",
    "                if rate_top_hit < 1:\n",
    "\n",
    "                    rate_top_hit = int(rate_top_hit * n_top)\n",
    "\n",
    "                for side in (\"+\",):\n",
    "\n",
    "                    set_elements = []\n",
    "\n",
    "                    if \"-\" in side:\n",
    "\n",
    "                        set_elements += element_value.index[\n",
    "                            n_skip : n_skip + n_top : rate_top_hit\n",
    "                        ].tolist()\n",
    "\n",
    "                    if \"+\" in side:\n",
    "\n",
    "                        set_elements += element_value.index[\n",
    "                            -(n_skip + 1) : -(n_skip + 1 + n_top) : -rate_top_hit\n",
    "                        ].tolist()\n",
    "\n",
    "                    for method in (\n",
    "                        (\"rank\", \"cdf\", \"s0\", \"supreme\"),\n",
    "                        #                         (\"rank\", \"cdf\", \"s1\", \"supreme\"),\n",
    "                        #                         (\"rank\", \"cdf\", \"s2\", \"supreme\"),\n",
    "                        #                         (\"value\", \"pdf\", \"s0\", \"supreme\"),\n",
    "                        #                         (\"value\", \"pdf\", \"s1\", \"supreme\"),\n",
    "                        #                         (\"value\", \"pdf\", \"s2\", \"supreme\"),\n",
    "                        #                         (\"value_\", \"pdf\", \"s0\", \"supreme\"),\n",
    "                        #                         (\"value_\", \"pdf\", \"s1\", \"supreme\"),\n",
    "                        #                         (\"value_\", \"pdf\", \"s2\", \"supreme\"),\n",
    "                        #                         (\"value\", \"cdf\", \"s0\", \"supreme\"),\n",
    "                        #                         (\"value\", \"cdf\", \"s1\", \"supreme\"),\n",
    "                        #                         (\"value\", \"cdf\", \"s2\", \"supreme\"),\n",
    "                        #                         (\"value_\", \"cdf\", \"s0\", \"supreme\"),\n",
    "                        #                         (\"value_\", \"cdf\", \"s1\", \"supreme\"),\n",
    "                        #                         (\"value_\", \"cdf\", \"s2\", \"supreme\"),\n",
    "                    ):\n",
    "\n",
    "                        kraft.score_set(\n",
    "                            element_value,\n",
    "                            set_elements,\n",
    "                            method=method,\n",
    "                            plot_=True,\n",
    "                            plot=True,\n",
    "                        )"
   ]
  },
  {
   "cell_type": "code",
   "execution_count": null,
   "metadata": {},
   "outputs": [],
   "source": [
    "element_value = pd.read_csv(\"gene_value.tsv\", sep=\"\\t\", index_col=0, squeeze=True)\n",
    "\n",
    "set_elements = kraft.read_gmt(\"c2.gmt\")[\"COLLER_MYC_TARGETS_UP\"]"
   ]
  },
  {
   "cell_type": "code",
   "execution_count": null,
   "metadata": {},
   "outputs": [],
   "source": [
    "kraft.score_set(\n",
    "    element_value, set_elements, method=(\"value_\", \"pdf\", \"s1\", \"supreme\"), plot_=True\n",
    ")"
   ]
  }
 ],
 "metadata": {
  "kernelspec": {
   "display_name": "Python 3",
   "language": "python",
   "name": "python3"
  },
  "language_info": {
   "codemirror_mode": {
    "name": "ipython",
    "version": 3
   },
   "file_extension": ".py",
   "mimetype": "text/x-python",
   "name": "python",
   "nbconvert_exporter": "python",
   "pygments_lexer": "ipython3",
   "version": "3.7.6"
  }
 },
 "nbformat": 4,
 "nbformat_minor": 4
}
