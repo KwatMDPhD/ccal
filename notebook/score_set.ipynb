{
 "cells": [
  {
   "cell_type": "code",
   "execution_count": null,
   "metadata": {},
   "outputs": [],
   "source": [
    "%load_ext autoreload\n",
    "%autoreload 2"
   ]
  },
  {
   "cell_type": "code",
   "execution_count": null,
   "metadata": {},
   "outputs": [],
   "source": [
    "import numpy as np\n",
    "import pandas as pd\n",
    "\n",
    "import kraft"
   ]
  },
  {
   "cell_type": "code",
   "execution_count": null,
   "metadata": {},
   "outputs": [],
   "source": [
    "n_element = 10\n",
    "\n",
    "element_score = pd.Series(\n",
    "    np.arange(n_element),\n",
    "    name=\"Score\",\n",
    "    index=pd.Index((\"Element{}\".format(i) for i in range(n_element)), name=\"Element\"),\n",
    ")\n",
    "\n",
    "set_elements = element_score.index[-2:]\n",
    "\n",
    "for input_ in (\n",
    "    \"rank\",\n",
    "    #     \"score\",\n",
    "):\n",
    "\n",
    "    for distribution in (\n",
    "        #         \"pdf\",\n",
    "        \"cdf\",\n",
    "    ):\n",
    "\n",
    "        for signal in (\n",
    "            \"s0\",\n",
    "            #             \"s1\",\n",
    "            #             \"s2\",\n",
    "        ):\n",
    "\n",
    "            for score in (\n",
    "                \"supreme\",\n",
    "                #                 \"area\",\n",
    "            ):\n",
    "\n",
    "                method = (input_, distribution, signal, score)\n",
    "\n",
    "                kraft.score_set(element_score, set_elements, method=method, plot_=True)"
   ]
  },
  {
   "cell_type": "code",
   "execution_count": null,
   "metadata": {},
   "outputs": [],
   "source": [
    "for n_element in (100,):\n",
    "\n",
    "    element_score = np.random.normal(size=n_element // 2)\n",
    "\n",
    "    element_score = pd.Series(\n",
    "        np.sort(np.concatenate((-element_score, element_score))),\n",
    "        name=\"Score\",\n",
    "        index=pd.Index(\n",
    "            (\"Element{}\".format(i) for i in range(n_element)), name=\"Element\"\n",
    "        ),\n",
    "    )\n",
    "\n",
    "    for n_skip in (0.1,):\n",
    "\n",
    "        if n_skip < 1:\n",
    "\n",
    "            n_skip = int(n_skip * n_element)\n",
    "\n",
    "        for n_top in (1,):\n",
    "\n",
    "            if n_top < 1:\n",
    "\n",
    "                n_top = int(n_top * n_element)\n",
    "\n",
    "            for rate_top_hit in (1,):\n",
    "\n",
    "                if rate_top_hit < 1:\n",
    "\n",
    "                    rate_top_hit = int(rate_top_hit * n_top)\n",
    "\n",
    "                for side in (\"+\",):\n",
    "\n",
    "                    set_elements = []\n",
    "\n",
    "                    if \"-\" in side:\n",
    "\n",
    "                        set_elements += element_score.index[\n",
    "                            n_skip : n_skip + n_top : rate_top_hit\n",
    "                        ].tolist()\n",
    "\n",
    "                    if \"+\" in side:\n",
    "\n",
    "                        set_elements += element_score.index[\n",
    "                            -(n_skip + 1) : -(n_skip + 1 + n_top) : -rate_top_hit\n",
    "                        ].tolist()\n",
    "\n",
    "                    for method in (\"rank cdf s0 supreme\",):\n",
    "\n",
    "                        kraft.score_set(\n",
    "                            element_score, set_elements, method=method, plot_=True,\n",
    "                        )"
   ]
  },
  {
   "cell_type": "code",
   "execution_count": null,
   "metadata": {},
   "outputs": [],
   "source": [
    "element_score = pd.read_csv(\"gene_score.tsv\", sep=\"\\t\", index_col=0, squeeze=True)\n",
    "\n",
    "set_elements = kraft.read_gmt(\"c2.gmt\")[\"COLLER_MYC_TARGETS_UP\"]"
   ]
  },
  {
   "cell_type": "code",
   "execution_count": null,
   "metadata": {},
   "outputs": [],
   "source": [
    "kraft.score_set(element_score, set_elements, method=\"rank cdf s0 supreme\", plot_=True)"
   ]
  }
 ],
 "metadata": {
  "kernelspec": {
   "display_name": "Python 3",
   "language": "python",
   "name": "python3"
  },
  "language_info": {
   "codemirror_mode": {
    "name": "ipython",
    "version": 3
   },
   "file_extension": ".py",
   "mimetype": "text/x-python",
   "name": "python",
   "nbconvert_exporter": "python",
   "pygments_lexer": "ipython3",
   "version": "3.7.6"
  }
 },
 "nbformat": 4,
 "nbformat_minor": 4
}
