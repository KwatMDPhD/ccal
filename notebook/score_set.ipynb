{
 "cells": [
  {
   "cell_type": "code",
   "execution_count": null,
   "metadata": {},
   "outputs": [],
   "source": [
    "%load_ext autoreload\n",
    "%autoreload 2"
   ]
  },
  {
   "cell_type": "code",
   "execution_count": null,
   "metadata": {},
   "outputs": [],
   "source": [
    "import os\n",
    "\n",
    "import numpy as np\n",
    "import pandas as pd\n",
    "\n",
    "import kraft"
   ]
  },
  {
   "cell_type": "code",
   "execution_count": null,
   "metadata": {},
   "outputs": [],
   "source": [
    "directory_path = os.path.expanduser(\"~/Downloads/\")"
   ]
  },
  {
   "cell_type": "markdown",
   "metadata": {},
   "source": [
    "## score_sample_and_set"
   ]
  },
  {
   "cell_type": "code",
   "execution_count": null,
   "metadata": {
    "jupyter": {}
   },
   "outputs": [],
   "source": [
    "for n_element in (10,):\n",
    "\n",
    "    element_scores = np.random.normal(size=n_element // 2)\n",
    "\n",
    "    element_scores = pd.Series(\n",
    "        data=np.sort(np.concatenate((-element_scores, element_scores))),\n",
    "        index=(\"Element {}\".format(i) for i in range(n_element)),\n",
    "    )\n",
    "\n",
    "    element_scores.index.name = \"Element\"\n",
    "\n",
    "    element_scores.name = \"Score\"\n",
    "\n",
    "    for n_skip in (1,):\n",
    "\n",
    "        if n_skip < 1:\n",
    "\n",
    "            n_skip = int(n_skip * n_element)\n",
    "\n",
    "        for n_top in (2,):\n",
    "\n",
    "            if n_top < 1:\n",
    "\n",
    "                n_top = int(n_top * n_element)\n",
    "\n",
    "            for rate_top_hit in (1,):\n",
    "\n",
    "                if rate_top_hit < 1:\n",
    "\n",
    "                    rate_top_hit = int(rate_top_hit * n_top)\n",
    "\n",
    "                for side in (\"+\",):\n",
    "\n",
    "                    set_to_elements = []\n",
    "\n",
    "                    elements = element_scores.index.values\n",
    "\n",
    "                    if \"-\" in side:\n",
    "\n",
    "                        set_to_elements += elements[\n",
    "                            n_skip : n_skip + n_top : rate_top_hit\n",
    "                        ].tolist()\n",
    "\n",
    "                    if \"+\" in side:\n",
    "\n",
    "                        set_to_elements += elements[\n",
    "                            -(n_skip + 1) : -(n_skip + 1 + n_top) : -rate_top_hit\n",
    "                        ].tolist()\n",
    "\n",
    "                    for method in (\"classic\", \"new\"):\n",
    "\n",
    "                        kraft.score_set.score_sample_and_set(\n",
    "                            element_scores,\n",
    "                            set_to_elements,\n",
    "                            me=method,\n",
    "                        )"
   ]
  },
  {
   "cell_type": "code",
   "execution_count": null,
   "metadata": {},
   "outputs": [],
   "source": [
    "element_scores = pd.read_csv(\"data/gene_score.tsv\", \"\\t\", index_col=0, squeeze=True)\n",
    "\n",
    "set_to_elements = kraft.gmt.read([\"data/b.gmt\"])"
   ]
  },
  {
   "cell_type": "code",
   "execution_count": null,
   "metadata": {},
   "outputs": [],
   "source": [
    "method = \"classic\""
   ]
  },
  {
   "cell_type": "code",
   "execution_count": null,
   "metadata": {},
   "outputs": [],
   "source": [
    "sets = [\"COLLER_MYC_TARGETS_UP\"]\n",
    "\n",
    "sets += list(np.random.choice(list(set_to_elements.keys()), size=0, replace=False))\n",
    "\n",
    "for set_ in sets:\n",
    "\n",
    "    print(\n",
    "        kraft.score_set.score_sample_and_set(\n",
    "            element_scores,\n",
    "            set_to_elements[set_],\n",
    "            me=method,\n",
    "            title=set_,\n",
    "        )\n",
    "    )"
   ]
  },
  {
   "cell_type": "code",
   "execution_count": null,
   "metadata": {},
   "outputs": [],
   "source": [
    "set_score = {}\n",
    "\n",
    "for (set_, elements) in set_to_elements.items():\n",
    "\n",
    "    set_score[set_] = kraft.score_set.score_sample_and_set(\n",
    "        element_scores, elements, me=method, pl=False, title=set_\n",
    "    )\n",
    "\n",
    "set_score = pd.Series(data=set_score).sort_values()\n",
    "\n",
    "n_extreme = 2\n",
    "\n",
    "for i in list(range(n_extreme)) + list(range(-n_extreme, 0)):\n",
    "\n",
    "    set_ = set_score.index.values[i]\n",
    "\n",
    "    kraft.score_set.score_sample_and_set(\n",
    "        element_scores, set_to_elements[set_], me=method, title=set_\n",
    "    )"
   ]
  },
  {
   "cell_type": "markdown",
   "metadata": {},
   "source": [
    "## score_samples_and_sets"
   ]
  },
  {
   "cell_type": "code",
   "execution_count": null,
   "metadata": {},
   "outputs": [],
   "source": [
    "element_scores = pd.read_csv(\"data/gene_score.tsv\", \"\\t\", index_col=0, squeeze=True)\n",
    "\n",
    "element_x_sample = pd.concat(\n",
    "    (element_scores, element_scores * 10, element_scores / 10), axis=1\n",
    ")\n",
    "\n",
    "element_x_sample.columns = (\n",
    "    \"Sample {}\".format(i) for i in range(element_x_sample.shape[1])\n",
    ")\n",
    "\n",
    "element_x_sample"
   ]
  },
  {
   "cell_type": "code",
   "execution_count": null,
   "metadata": {},
   "outputs": [],
   "source": [
    "set_to_elements = kraft.gmt.read([\"data/a.gmt\"])"
   ]
  },
  {
   "cell_type": "code",
   "execution_count": null,
   "metadata": {},
   "outputs": [],
   "source": [
    "set_x_sample = kraft.score_set.score_samples_and_sets(\n",
    "    element_x_sample, set_to_elements, me=method, n_jo=4\n",
    ")\n",
    "\n",
    "set_x_sample"
   ]
  }
 ],
 "metadata": {
  "kernelspec": {
   "display_name": "Python 3",
   "language": "python",
   "name": "python3"
  },
  "language_info": {
   "codemirror_mode": {
    "name": "ipython",
    "version": 3
   },
   "file_extension": ".py",
   "mimetype": "text/x-python",
   "name": "python",
   "nbconvert_exporter": "python",
   "pygments_lexer": "ipython3",
   "version": "3.8.9"
  }
 },
 "nbformat": 4,
 "nbformat_minor": 4
}
