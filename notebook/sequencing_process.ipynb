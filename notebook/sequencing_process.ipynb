{
 "cells": [
  {
   "cell_type": "code",
   "execution_count": null,
   "metadata": {
    "ExecuteTime": {
     "end_time": "2018-05-01T18:25:05.040047Z",
     "start_time": "2018-05-01T18:25:04.966883Z"
    }
   },
   "outputs": [],
   "source": [
    "%load_ext autoreload\n",
    "%autoreload 2"
   ]
  },
  {
   "cell_type": "code",
   "execution_count": null,
   "metadata": {},
   "outputs": [],
   "source": [
    "import os\n",
    "import sys\n",
    "\n",
    "import numpy as np\n",
    "import pandas as pd\n",
    "import plotly as pl"
   ]
  },
  {
   "cell_type": "code",
   "execution_count": null,
   "metadata": {},
   "outputs": [],
   "source": [
    "sys.path.insert(0, \"..\")\n",
    "\n",
    "np.random.random(20121020)\n",
    "\n",
    "pl.offline.init_notebook_mode(connected=True)"
   ]
  },
  {
   "cell_type": "code",
   "execution_count": null,
   "metadata": {
    "ExecuteTime": {
     "end_time": "2018-05-01T18:25:05.119319Z",
     "start_time": "2018-05-01T18:25:05.092430Z"
    }
   },
   "outputs": [],
   "source": [
    "from sequencing_process.support.support.path import clean_path\n",
    "\n",
    "GRCH_DIRECTORY_PATH = clean_path(\"~/sequencing_process_grch\")\n",
    "\n",
    "assert os.path.isdir(GRCH_DIRECTORY_PATH)\n",
    "\n",
    "PEOPLE_DIRECTORY_PATH = clean_path(\"~/sequencing_process_people\")\n",
    "\n",
    "assert os.path.isdir(PEOPLE_DIRECTORY_PATH)"
   ]
  },
  {
   "cell_type": "code",
   "execution_count": null,
   "metadata": {
    "ExecuteTime": {
     "end_time": "2018-05-01T18:25:10.213749Z",
     "start_time": "2018-05-01T18:25:05.122082Z"
    }
   },
   "outputs": [],
   "source": [
    "from sequencing_process.download_clinvar_vcf_gz import download_clinvar_vcf_gz\n",
    "\n",
    "vcf_gz_file_path = download_clinvar_vcf_gz(GRCH_DIRECTORY_PATH, overwrite=True)\n",
    "\n",
    "vcf_gz_file_path"
   ]
  },
  {
   "cell_type": "code",
   "execution_count": null,
   "metadata": {
    "ExecuteTime": {
     "end_time": "2018-05-01T18:25:11.725257Z",
     "start_time": "2018-05-01T18:25:10.215937Z"
    }
   },
   "outputs": [],
   "source": [
    "from sequencing_process.support.support.compression import gzip_decompress_file\n",
    "\n",
    "vcf_file_path = gzip_decompress_file(vcf_gz_file_path)\n",
    "\n",
    "vcf_file_path"
   ]
  },
  {
   "cell_type": "code",
   "execution_count": null,
   "metadata": {
    "ExecuteTime": {
     "end_time": "2018-05-01T18:25:19.317124Z",
     "start_time": "2018-05-01T18:25:11.728211Z"
    }
   },
   "outputs": [],
   "source": [
    "from sequencing_process.bgzip_and_tabix import bgzip_and_tabix\n",
    "\n",
    "vcf_gz_file_path = bgzip_and_tabix(vcf_file_path, overwrite=True)\n",
    "\n",
    "vcf_gz_file_path"
   ]
  },
  {
   "cell_type": "code",
   "execution_count": null,
   "metadata": {
    "ExecuteTime": {
     "end_time": "2018-05-01T18:41:07.762962Z",
     "start_time": "2018-05-01T18:25:19.320712Z"
    }
   },
   "outputs": [],
   "source": [
    "from sequencing_process.make_reference_genome import make_reference_genome\n",
    "\n",
    "fasta_gz_file_path = make_reference_genome(GRCH_DIRECTORY_PATH, overwrite=True)"
   ]
  },
  {
   "cell_type": "code",
   "execution_count": null,
   "metadata": {
    "ExecuteTime": {
     "end_time": "2018-05-01T19:00:45.969194Z",
     "start_time": "2018-05-01T18:41:07.767495Z"
    }
   },
   "outputs": [],
   "source": [
    "from sequencing_process.simulate_sequences_using_dwgsim import (\n",
    "    simulate_sequences_using_dwgsim,\n",
    ")\n",
    "\n",
    "simulate_sequences_using_dwgsim(\n",
    "    fasta_gz_file_path[:-3],\n",
    "    \"{}/simulation\".format(PEOPLE_DIRECTORY_PATH),\n",
    "    n_sequence=int(1e6),\n",
    ")"
   ]
  }
 ],
 "metadata": {
  "kernelspec": {
   "display_name": "Python 3",
   "language": "python",
   "name": "python3"
  },
  "language_info": {
   "codemirror_mode": {
    "name": "ipython",
    "version": 3
   },
   "file_extension": ".py",
   "mimetype": "text/x-python",
   "name": "python",
   "nbconvert_exporter": "python",
   "pygments_lexer": "ipython3",
   "version": "3.6.7"
  }
 },
 "nbformat": 4,
 "nbformat_minor": 2
}
