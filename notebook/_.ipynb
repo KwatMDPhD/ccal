{
 "cells": [
  {
   "cell_type": "code",
   "execution_count": null,
   "metadata": {},
   "outputs": [],
   "source": [
    "%load_ext autoreload\n",
    "%autoreload 2"
   ]
  },
  {
   "cell_type": "code",
   "execution_count": null,
   "metadata": {},
   "outputs": [],
   "source": [
    "import numpy as np\n",
    "import pandas as pd\n",
    "\n",
    "import kraft"
   ]
  },
  {
   "cell_type": "code",
   "execution_count": null,
   "metadata": {},
   "outputs": [],
   "source": [
    "def get_c(vector):\n",
    "\n",
    "    vector = np.sort(vector)\n",
    "\n",
    "    vector -= vector[0]\n",
    "\n",
    "    c = np.cumsum(vector)\n",
    "\n",
    "    kraft.plot_plotly({\"data\": [{\"y\": c, \"mode\": \"lines\"}]})\n",
    "\n",
    "    return c"
   ]
  },
  {
   "cell_type": "raw",
   "metadata": {},
   "source": [
    "vector = np.arange(10)\n",
    "\n",
    "kraft.plot_histogram((vector,), bin_size=0.5)\n",
    "\n",
    "for bandwidth_factor in (4, 2, 1, 1 / 2, 1 / 4):\n",
    "\n",
    "    density = kraft.estimate_density(\n",
    "        vector.reshape((vector.size, 1)), bandwidth_factors=(bandwidth_factor,)\n",
    "    )[1]\n",
    "\n",
    "    get_c(density)"
   ],
   "execution_count": null,
   "outputs": []
  },
  {
   "cell_type": "raw",
   "metadata": {},
   "source": [
    "n = 100\n",
    "\n",
    "for vector in (\n",
    "    np.arange(n),\n",
    "    np.arange(0, n, 2),\n",
    "    np.arange(0, n, 4),\n",
    "    np.arange(0, n, 8),\n",
    "    np.arange(0, n, 16),\n",
    "    np.random.random_sample(n),\n",
    "    np.random.normal(size=n),\n",
    "):\n",
    "\n",
    "    get_c(vector)"
   ],
   "execution_count": null,
   "outputs": []
  }
 ],
 "metadata": {
  "kernelspec": {
   "display_name": "Python 3",
   "language": "python",
   "name": "python3"
  },
  "language_info": {
   "codemirror_mode": {
    "name": "ipython",
    "version": 3
   },
   "file_extension": ".py",
   "mimetype": "text/x-python",
   "name": "python",
   "nbconvert_exporter": "python",
   "pygments_lexer": "ipython3",
   "version": "3.7.6"
  }
 },
 "nbformat": 4,
 "nbformat_minor": 4
}
