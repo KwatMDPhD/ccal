{
 "cells": [
  {
   "cell_type": "code",
   "execution_count": null,
   "metadata": {},
   "outputs": [],
   "source": [
    "%load_ext autoreload\n",
    "%autoreload 2"
   ]
  },
  {
   "cell_type": "code",
   "execution_count": null,
   "metadata": {
    "ExecuteTime": {
     "end_time": "2018-05-15T09:28:55.668422Z",
     "start_time": "2018-05-15T09:28:55.428950Z"
    }
   },
   "outputs": [],
   "source": [
    "import kraft"
   ]
  },
  {
   "cell_type": "markdown",
   "metadata": {},
   "source": [
    "## ravel"
   ]
  },
  {
   "cell_type": "code",
   "execution_count": null,
   "metadata": {},
   "outputs": [],
   "source": [
    "kraft.iterable.ravel(\n",
    "    (\n",
    "        (),\n",
    "        [],\n",
    "        set(),\n",
    "        (0,),\n",
    "        [\n",
    "            (0, 1),\n",
    "            [{2}, 3, 4],\n",
    "        ],\n",
    "        {\n",
    "            (\n",
    "                (\n",
    "                    (5,),\n",
    "                    6,\n",
    "                ),\n",
    "                7,\n",
    "                ((8,), 9),\n",
    "            )\n",
    "        },\n",
    "        (),\n",
    "        [],\n",
    "        set(),\n",
    "        (\n",
    "            (),\n",
    "            [],\n",
    "            set(),\n",
    "        ),\n",
    "        {},\n",
    "        set((\"a\", \"b\")),\n",
    "    )\n",
    ")"
   ]
  }
 ],
 "metadata": {
  "kernelspec": {
   "display_name": "Python 3",
   "language": "python",
   "name": "python3"
  },
  "language_info": {
   "codemirror_mode": {
    "name": "ipython",
    "version": 3
   },
   "file_extension": ".py",
   "mimetype": "text/x-python",
   "name": "python",
   "nbconvert_exporter": "python",
   "pygments_lexer": "ipython3",
   "version": "3.7.8"
  }
 },
 "nbformat": 4,
 "nbformat_minor": 4
}
