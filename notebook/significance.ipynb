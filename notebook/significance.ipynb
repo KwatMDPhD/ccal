{
 "cells": [
  {
   "cell_type": "code",
   "execution_count": null,
   "metadata": {
    "execution": {
     "iopub.execute_input": "2021-05-31T22:30:14.474576Z",
     "iopub.status.busy": "2021-05-31T22:30:14.473776Z",
     "iopub.status.idle": "2021-05-31T22:30:14.489287Z",
     "shell.execute_reply": "2021-05-31T22:30:14.488740Z"
    },
    "tags": []
   },
   "outputs": [],
   "source": [
    "%load_ext autoreload\n",
    "%autoreload 2"
   ]
  },
  {
   "cell_type": "code",
   "execution_count": null,
   "metadata": {
    "execution": {
     "iopub.execute_input": "2021-05-31T22:30:14.492760Z",
     "iopub.status.busy": "2021-05-31T22:30:14.492174Z",
     "iopub.status.idle": "2021-05-31T22:30:15.020389Z",
     "shell.execute_reply": "2021-05-31T22:30:15.021084Z"
    },
    "tags": []
   },
   "outputs": [],
   "source": [
    "import kraft"
   ]
  },
  {
   "cell_type": "markdown",
   "metadata": {},
   "source": [
    "## get_margin_of_error"
   ]
  },
  {
   "cell_type": "code",
   "execution_count": null,
   "metadata": {
    "execution": {
     "iopub.execute_input": "2021-05-31T22:30:15.025440Z",
     "iopub.status.busy": "2021-05-31T22:30:15.024775Z",
     "iopub.status.idle": "2021-05-31T22:30:15.044494Z",
     "shell.execute_reply": "2021-05-31T22:30:15.044966Z"
    },
    "tags": []
   },
   "outputs": [],
   "source": [
    "import numpy as np"
   ]
  },
  {
   "cell_type": "code",
   "execution_count": null,
   "metadata": {
    "execution": {
     "iopub.execute_input": "2021-05-31T22:30:15.048614Z",
     "iopub.status.busy": "2021-05-31T22:30:15.048036Z",
     "iopub.status.idle": "2021-05-31T22:30:15.375579Z",
     "shell.execute_reply": "2021-05-31T22:30:15.376071Z"
    },
    "tags": []
   },
   "outputs": [],
   "source": [
    "for po in range(8):\n",
    "\n",
    "    si = 10 ** po\n",
    "\n",
    "    print(si)\n",
    "\n",
    "    print(kraft.significance.get_margin_of_error(np.random.normal(size=si)))"
   ]
  },
  {
   "cell_type": "markdown",
   "metadata": {},
   "source": [
    "## get_p_value"
   ]
  },
  {
   "cell_type": "code",
   "execution_count": null,
   "metadata": {
    "execution": {
     "iopub.execute_input": "2021-05-31T22:30:15.380151Z",
     "iopub.status.busy": "2021-05-31T22:30:15.379564Z",
     "iopub.status.idle": "2021-05-31T22:30:15.400422Z",
     "shell.execute_reply": "2021-05-31T22:30:15.400834Z"
    },
    "tags": []
   },
   "outputs": [],
   "source": [
    "ra_ = np.arange(10)\n",
    "\n",
    "for nu in [0, 1, 8, 9]:\n",
    "\n",
    "    print()\n",
    "\n",
    "    print(nu)\n",
    "\n",
    "    for di in [\"<\", \">\"]:\n",
    "\n",
    "        print(di)\n",
    "\n",
    "        print(kraft.significance.get_p_value(nu, ra_, di))"
   ]
  },
  {
   "cell_type": "markdown",
   "metadata": {},
   "source": [
    "## get_p_value_q_value"
   ]
  },
  {
   "cell_type": "code",
   "execution_count": null,
   "metadata": {
    "execution": {
     "iopub.execute_input": "2021-05-31T22:30:15.404540Z",
     "iopub.status.busy": "2021-05-31T22:30:15.403896Z",
     "iopub.status.idle": "2021-05-31T22:30:15.425629Z",
     "shell.execute_reply": "2021-05-31T22:30:15.426020Z"
    },
    "tags": []
   },
   "outputs": [],
   "source": [
    "ra_ = np.arange(10)\n",
    "\n",
    "nu_ = np.asarray([0, 1, 8, 9])\n",
    "\n",
    "for di in (\"<\", \">\", \"<>\"):\n",
    "\n",
    "    print(di)\n",
    "\n",
    "    print(kraft.significance.get_p_value_q_value(nu_, ra_, di))"
   ]
  }
 ],
 "metadata": {
  "kernelspec": {
   "display_name": "Python 3",
   "language": "python",
   "name": "python3"
  },
  "language_info": {
   "codemirror_mode": {
    "name": "ipython",
    "version": 3
   },
   "file_extension": ".py",
   "mimetype": "text/x-python",
   "name": "python",
   "nbconvert_exporter": "python",
   "pygments_lexer": "ipython3",
   "version": "3.8.9"
  }
 },
 "nbformat": 4,
 "nbformat_minor": 4
}
