{
 "cells": [
  {
   "cell_type": "code",
   "execution_count": null,
   "metadata": {
    "execution": {
     "iopub.execute_input": "2021-05-30T23:49:14.574671Z",
     "iopub.status.busy": "2021-05-30T23:49:14.573702Z",
     "iopub.status.idle": "2021-05-30T23:49:14.588693Z",
     "shell.execute_reply": "2021-05-30T23:49:14.589215Z"
    }
   },
   "outputs": [],
   "source": [
    "%load_ext autoreload\n",
    "%autoreload 2"
   ]
  },
  {
   "cell_type": "code",
   "execution_count": null,
   "metadata": {
    "execution": {
     "iopub.execute_input": "2021-05-30T23:49:14.592759Z",
     "iopub.status.busy": "2021-05-30T23:49:14.592163Z",
     "iopub.status.idle": "2021-05-30T23:49:15.132320Z",
     "shell.execute_reply": "2021-05-30T23:49:15.132712Z"
    }
   },
   "outputs": [],
   "source": [
    "import kraft"
   ]
  },
  {
   "cell_type": "markdown",
   "metadata": {},
   "source": [
    "## get_margin_of_error"
   ]
  },
  {
   "cell_type": "code",
   "execution_count": null,
   "metadata": {
    "execution": {
     "iopub.execute_input": "2021-05-30T23:49:15.135679Z",
     "iopub.status.busy": "2021-05-30T23:49:15.135143Z",
     "iopub.status.idle": "2021-05-30T23:49:15.151710Z",
     "shell.execute_reply": "2021-05-30T23:49:15.152093Z"
    }
   },
   "outputs": [],
   "source": [
    "import numpy as np"
   ]
  },
  {
   "cell_type": "code",
   "execution_count": null,
   "metadata": {
    "execution": {
     "iopub.execute_input": "2021-05-30T23:49:15.155589Z",
     "iopub.status.busy": "2021-05-30T23:49:15.155018Z",
     "iopub.status.idle": "2021-05-30T23:49:15.491210Z",
     "shell.execute_reply": "2021-05-30T23:49:15.491636Z"
    }
   },
   "outputs": [],
   "source": [
    "for po in range(8):\n",
    "\n",
    "    si = 10 ** po\n",
    "\n",
    "    print(si)\n",
    "\n",
    "    print(kraft.significance.get_margin_of_error(np.random.normal(size=si)))"
   ]
  },
  {
   "cell_type": "markdown",
   "metadata": {},
   "source": [
    "## get_p_value"
   ]
  },
  {
   "cell_type": "code",
   "execution_count": null,
   "metadata": {
    "execution": {
     "iopub.execute_input": "2021-05-30T23:49:15.496523Z",
     "iopub.status.busy": "2021-05-30T23:49:15.495921Z",
     "iopub.status.idle": "2021-05-30T23:49:15.515901Z",
     "shell.execute_reply": "2021-05-30T23:49:15.516324Z"
    }
   },
   "outputs": [],
   "source": [
    "ra_ = np.arange(10)\n",
    "\n",
    "for nu in [0, 1, 8, 9]:\n",
    "\n",
    "    print()\n",
    "\n",
    "    print(nu)\n",
    "\n",
    "    for di in [\"<\", \">\"]:\n",
    "\n",
    "        print(di)\n",
    "\n",
    "        print(kraft.significance.get_p_value(nu, ra_, di))"
   ]
  },
  {
   "cell_type": "markdown",
   "metadata": {},
   "source": [
    "## get_p_value_q_value"
   ]
  },
  {
   "cell_type": "code",
   "execution_count": null,
   "metadata": {
    "execution": {
     "iopub.execute_input": "2021-05-30T23:49:15.520401Z",
     "iopub.status.busy": "2021-05-30T23:49:15.519727Z",
     "iopub.status.idle": "2021-05-30T23:49:15.541282Z",
     "shell.execute_reply": "2021-05-30T23:49:15.541699Z"
    }
   },
   "outputs": [],
   "source": [
    "ra_ = np.arange(10)\n",
    "\n",
    "nu_ = np.asarray([0, 1, 8, 9])\n",
    "\n",
    "for di in (\"<\", \">\", \"<>\"):\n",
    "\n",
    "    print(di)\n",
    "\n",
    "    print(kraft.significance.get_p_value_q_value(nu_, ra_, di))"
   ]
  }
 ],
 "metadata": {
  "kernelspec": {
   "display_name": "Python 3",
   "language": "python",
   "name": "python3"
  },
  "language_info": {
   "codemirror_mode": {
    "name": "ipython",
    "version": 3
   },
   "file_extension": ".py",
   "mimetype": "text/x-python",
   "name": "python",
   "nbconvert_exporter": "python",
   "pygments_lexer": "ipython3",
   "version": "3.8.9"
  }
 },
 "nbformat": 4,
 "nbformat_minor": 4
}
