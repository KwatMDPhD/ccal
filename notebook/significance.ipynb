{
 "cells": [
  {
   "cell_type": "code",
   "execution_count": null,
   "metadata": {
    "execution": {
     "iopub.execute_input": "2021-05-29T23:06:00.748795Z",
     "iopub.status.busy": "2021-05-29T23:06:00.747900Z",
     "iopub.status.idle": "2021-05-29T23:06:00.761732Z",
     "shell.execute_reply": "2021-05-29T23:06:00.762171Z"
    }
   },
   "outputs": [],
   "source": [
    "%load_ext autoreload\n",
    "%autoreload 2"
   ]
  },
  {
   "cell_type": "code",
   "execution_count": null,
   "metadata": {
    "execution": {
     "iopub.execute_input": "2021-05-29T23:06:00.765720Z",
     "iopub.status.busy": "2021-05-29T23:06:00.765112Z",
     "iopub.status.idle": "2021-05-29T23:06:01.304636Z",
     "shell.execute_reply": "2021-05-29T23:06:01.305034Z"
    }
   },
   "outputs": [],
   "source": [
    "import kraft"
   ]
  },
  {
   "cell_type": "markdown",
   "metadata": {},
   "source": [
    "## get_margin_of_error"
   ]
  },
  {
   "cell_type": "code",
   "execution_count": null,
   "metadata": {
    "execution": {
     "iopub.execute_input": "2021-05-29T23:06:01.308270Z",
     "iopub.status.busy": "2021-05-29T23:06:01.307699Z",
     "iopub.status.idle": "2021-05-29T23:06:01.325194Z",
     "shell.execute_reply": "2021-05-29T23:06:01.325567Z"
    }
   },
   "outputs": [],
   "source": [
    "import numpy as np"
   ]
  },
  {
   "cell_type": "code",
   "execution_count": null,
   "metadata": {
    "execution": {
     "iopub.execute_input": "2021-05-29T23:06:01.329077Z",
     "iopub.status.busy": "2021-05-29T23:06:01.328502Z",
     "iopub.status.idle": "2021-05-29T23:06:01.666925Z",
     "shell.execute_reply": "2021-05-29T23:06:01.667357Z"
    }
   },
   "outputs": [],
   "source": [
    "for po in range(8):\n",
    "\n",
    "    si = 10 ** po\n",
    "\n",
    "    print(si)\n",
    "\n",
    "    print(kraft.significance.get_margin_of_error(np.random.normal(size=si)))"
   ]
  },
  {
   "cell_type": "markdown",
   "metadata": {},
   "source": [
    "## get_p_value"
   ]
  },
  {
   "cell_type": "code",
   "execution_count": null,
   "metadata": {
    "execution": {
     "iopub.execute_input": "2021-05-29T23:06:01.671692Z",
     "iopub.status.busy": "2021-05-29T23:06:01.671086Z",
     "iopub.status.idle": "2021-05-29T23:06:01.692827Z",
     "shell.execute_reply": "2021-05-29T23:06:01.693263Z"
    }
   },
   "outputs": [],
   "source": [
    "ra_ = np.arange(10)\n",
    "\n",
    "for nu in [\n",
    "    0,\n",
    "    1,\n",
    "    8,\n",
    "    9,\n",
    "]:\n",
    "\n",
    "    print()\n",
    "\n",
    "    print(nu)\n",
    "\n",
    "    for di in [\n",
    "        \"<\",\n",
    "        \">\",\n",
    "    ]:\n",
    "\n",
    "        print(di)\n",
    "\n",
    "        print(\n",
    "            kraft.significance.get_p_value(\n",
    "                nu,\n",
    "                ra_,\n",
    "                di,\n",
    "            )\n",
    "        )"
   ]
  },
  {
   "cell_type": "markdown",
   "metadata": {},
   "source": [
    "## get_p_value_q_value"
   ]
  },
  {
   "cell_type": "code",
   "execution_count": null,
   "metadata": {
    "execution": {
     "iopub.execute_input": "2021-05-29T23:06:01.697402Z",
     "iopub.status.busy": "2021-05-29T23:06:01.696716Z",
     "iopub.status.idle": "2021-05-29T23:06:01.719695Z",
     "shell.execute_reply": "2021-05-29T23:06:01.720109Z"
    }
   },
   "outputs": [],
   "source": [
    "ra_ = np.arange(10)\n",
    "\n",
    "nu_ = np.asarray(\n",
    "    [\n",
    "        0,\n",
    "        1,\n",
    "        8,\n",
    "        9,\n",
    "    ]\n",
    ")\n",
    "\n",
    "for di in (\n",
    "    \"<\",\n",
    "    \">\",\n",
    "    \"<>\",\n",
    "):\n",
    "\n",
    "    print(di)\n",
    "\n",
    "    print(\n",
    "        kraft.significance.get_p_value_q_value(\n",
    "            nu_,\n",
    "            ra_,\n",
    "            di,\n",
    "        )\n",
    "    )"
   ]
  }
 ],
 "metadata": {
  "kernelspec": {
   "display_name": "Python 3",
   "language": "python",
   "name": "python3"
  },
  "language_info": {
   "codemirror_mode": {
    "name": "ipython",
    "version": 3
   },
   "file_extension": ".py",
   "mimetype": "text/x-python",
   "name": "python",
   "nbconvert_exporter": "python",
   "pygments_lexer": "ipython3",
   "version": "3.8.9"
  }
 },
 "nbformat": 4,
 "nbformat_minor": 4
}
