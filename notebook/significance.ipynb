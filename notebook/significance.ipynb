{
 "cells": [
  {
   "cell_type": "code",
   "execution_count": null,
   "metadata": {
    "execution": {
     "iopub.execute_input": "2021-05-31T06:00:32.260469Z",
     "iopub.status.busy": "2021-05-31T06:00:32.259430Z",
     "iopub.status.idle": "2021-05-31T06:00:32.273683Z",
     "shell.execute_reply": "2021-05-31T06:00:32.274087Z"
    }
   },
   "outputs": [],
   "source": [
    "%load_ext autoreload\n",
    "%autoreload 2"
   ]
  },
  {
   "cell_type": "code",
   "execution_count": null,
   "metadata": {
    "execution": {
     "iopub.execute_input": "2021-05-31T06:00:32.277487Z",
     "iopub.status.busy": "2021-05-31T06:00:32.276893Z",
     "iopub.status.idle": "2021-05-31T06:00:32.808675Z",
     "shell.execute_reply": "2021-05-31T06:00:32.809036Z"
    }
   },
   "outputs": [],
   "source": [
    "import kraft"
   ]
  },
  {
   "cell_type": "markdown",
   "metadata": {},
   "source": [
    "## get_margin_of_error"
   ]
  },
  {
   "cell_type": "code",
   "execution_count": null,
   "metadata": {
    "execution": {
     "iopub.execute_input": "2021-05-31T06:00:32.811942Z",
     "iopub.status.busy": "2021-05-31T06:00:32.811445Z",
     "iopub.status.idle": "2021-05-31T06:00:32.828083Z",
     "shell.execute_reply": "2021-05-31T06:00:32.827681Z"
    }
   },
   "outputs": [],
   "source": [
    "import numpy as np"
   ]
  },
  {
   "cell_type": "code",
   "execution_count": null,
   "metadata": {
    "execution": {
     "iopub.execute_input": "2021-05-31T06:00:32.831458Z",
     "iopub.status.busy": "2021-05-31T06:00:32.830956Z",
     "iopub.status.idle": "2021-05-31T06:00:33.156308Z",
     "shell.execute_reply": "2021-05-31T06:00:33.155848Z"
    }
   },
   "outputs": [],
   "source": [
    "for po in range(8):\n",
    "\n",
    "    si = 10 ** po\n",
    "\n",
    "    print(si)\n",
    "\n",
    "    print(kraft.significance.get_margin_of_error(np.random.normal(size=si)))"
   ]
  },
  {
   "cell_type": "markdown",
   "metadata": {},
   "source": [
    "## get_p_value"
   ]
  },
  {
   "cell_type": "code",
   "execution_count": null,
   "metadata": {
    "execution": {
     "iopub.execute_input": "2021-05-31T06:00:33.160476Z",
     "iopub.status.busy": "2021-05-31T06:00:33.159883Z",
     "iopub.status.idle": "2021-05-31T06:00:33.180094Z",
     "shell.execute_reply": "2021-05-31T06:00:33.180556Z"
    }
   },
   "outputs": [],
   "source": [
    "ra_ = np.arange(10)\n",
    "\n",
    "for nu in [0, 1, 8, 9]:\n",
    "\n",
    "    print()\n",
    "\n",
    "    print(nu)\n",
    "\n",
    "    for di in [\"<\", \">\"]:\n",
    "\n",
    "        print(di)\n",
    "\n",
    "        print(kraft.significance.get_p_value(nu, ra_, di))"
   ]
  },
  {
   "cell_type": "markdown",
   "metadata": {},
   "source": [
    "## get_p_value_q_value"
   ]
  },
  {
   "cell_type": "code",
   "execution_count": null,
   "metadata": {
    "execution": {
     "iopub.execute_input": "2021-05-31T06:00:33.184269Z",
     "iopub.status.busy": "2021-05-31T06:00:33.183638Z",
     "iopub.status.idle": "2021-05-31T06:00:33.205380Z",
     "shell.execute_reply": "2021-05-31T06:00:33.205794Z"
    }
   },
   "outputs": [],
   "source": [
    "ra_ = np.arange(10)\n",
    "\n",
    "nu_ = np.asarray([0, 1, 8, 9])\n",
    "\n",
    "for di in (\"<\", \">\", \"<>\"):\n",
    "\n",
    "    print(di)\n",
    "\n",
    "    print(kraft.significance.get_p_value_q_value(nu_, ra_, di))"
   ]
  }
 ],
 "metadata": {
  "kernelspec": {
   "display_name": "Python 3",
   "language": "python",
   "name": "python3"
  },
  "language_info": {
   "codemirror_mode": {
    "name": "ipython",
    "version": 3
   },
   "file_extension": ".py",
   "mimetype": "text/x-python",
   "name": "python",
   "nbconvert_exporter": "python",
   "pygments_lexer": "ipython3",
   "version": "3.8.9"
  }
 },
 "nbformat": 4,
 "nbformat_minor": 4
}
