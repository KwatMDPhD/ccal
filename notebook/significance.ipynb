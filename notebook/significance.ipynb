{
 "cells": [
  {
   "cell_type": "code",
   "execution_count": null,
   "metadata": {},
   "outputs": [],
   "source": [
    "%load_ext autoreload\n",
    "%autoreload 2"
   ]
  },
  {
   "cell_type": "code",
   "execution_count": null,
   "metadata": {},
   "outputs": [],
   "source": [
    "import numpy as np\n",
    "\n",
    "import kraft"
   ]
  },
  {
   "cell_type": "markdown",
   "metadata": {},
   "source": [
    "## get_moe"
   ]
  },
  {
   "cell_type": "code",
   "execution_count": null,
   "metadata": {},
   "outputs": [],
   "source": [
    "for p in range(8):\n",
    "\n",
    "    print(\"=\" * 80)\n",
    "\n",
    "    s = 10 ** p\n",
    "\n",
    "    print(s)\n",
    "\n",
    "    print(kraft.significance.get_moe(np.random.normal(size=s)))"
   ]
  },
  {
   "cell_type": "markdown",
   "metadata": {},
   "source": [
    "## get_p"
   ]
  },
  {
   "cell_type": "code",
   "execution_count": null,
   "metadata": {},
   "outputs": [],
   "source": [
    "r_ = np.arange(10)\n",
    "\n",
    "print(r_)\n",
    "\n",
    "for n in [0, 1, 8, 9]:\n",
    "\n",
    "    for d in [\"<\", \">\"]:\n",
    "\n",
    "        print(\"=\" * 80)\n",
    "\n",
    "        print(n, d)\n",
    "\n",
    "        print(kraft.significance.get_p(n, r_, d))"
   ]
  },
  {
   "cell_type": "markdown",
   "metadata": {},
   "source": [
    "## get_p__q_"
   ]
  },
  {
   "cell_type": "code",
   "execution_count": null,
   "metadata": {},
   "outputs": [],
   "source": [
    "r_ = np.arange(10)\n",
    "\n",
    "n_ = np.asarray((0, 1, 8, 9))\n",
    "\n",
    "print(r_)\n",
    "\n",
    "print(n_)\n",
    "\n",
    "for d in (\"<\", \">\", \"<>\"):\n",
    "\n",
    "    print(\"=\" * 80)\n",
    "\n",
    "    print(d)\n",
    "\n",
    "    print(kraft.significance.get_p__q_(n_, r_, d))"
   ]
  }
 ],
 "metadata": {
  "kernelspec": {
   "display_name": "Python 3",
   "language": "python",
   "name": "python3"
  },
  "language_info": {
   "codemirror_mode": {
    "name": "ipython",
    "version": 3
   },
   "file_extension": ".py",
   "mimetype": "text/x-python",
   "name": "python",
   "nbconvert_exporter": "python",
   "pygments_lexer": "ipython3",
   "version": "3.8.9"
  }
 },
 "nbformat": 4,
 "nbformat_minor": 4
}
