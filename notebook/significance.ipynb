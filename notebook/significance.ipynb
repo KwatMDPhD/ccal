{
 "cells": [
  {
   "cell_type": "code",
   "execution_count": null,
   "metadata": {
    "execution": {
     "iopub.execute_input": "2021-05-30T07:00:55.417498Z",
     "iopub.status.busy": "2021-05-30T07:00:55.416564Z",
     "iopub.status.idle": "2021-05-30T07:00:55.431238Z",
     "shell.execute_reply": "2021-05-30T07:00:55.431729Z"
    }
   },
   "outputs": [],
   "source": [
    "%load_ext autoreload\n",
    "%autoreload 2"
   ]
  },
  {
   "cell_type": "code",
   "execution_count": null,
   "metadata": {
    "execution": {
     "iopub.execute_input": "2021-05-30T07:00:55.435288Z",
     "iopub.status.busy": "2021-05-30T07:00:55.434685Z",
     "iopub.status.idle": "2021-05-30T07:00:56.009484Z",
     "shell.execute_reply": "2021-05-30T07:00:56.009863Z"
    }
   },
   "outputs": [],
   "source": [
    "import kraft"
   ]
  },
  {
   "cell_type": "markdown",
   "metadata": {},
   "source": [
    "## get_margin_of_error"
   ]
  },
  {
   "cell_type": "code",
   "execution_count": null,
   "metadata": {
    "execution": {
     "iopub.execute_input": "2021-05-30T07:00:56.013825Z",
     "iopub.status.busy": "2021-05-30T07:00:56.013300Z",
     "iopub.status.idle": "2021-05-30T07:00:56.031316Z",
     "shell.execute_reply": "2021-05-30T07:00:56.031692Z"
    }
   },
   "outputs": [],
   "source": [
    "import numpy as np"
   ]
  },
  {
   "cell_type": "code",
   "execution_count": null,
   "metadata": {
    "execution": {
     "iopub.execute_input": "2021-05-30T07:00:56.035164Z",
     "iopub.status.busy": "2021-05-30T07:00:56.034567Z",
     "iopub.status.idle": "2021-05-30T07:00:56.391042Z",
     "shell.execute_reply": "2021-05-30T07:00:56.391469Z"
    }
   },
   "outputs": [],
   "source": [
    "for po in range(8):\n",
    "\n",
    "    si = 10 ** po\n",
    "\n",
    "    print(si)\n",
    "\n",
    "    print(kraft.significance.get_margin_of_error(np.random.normal(size=si)))"
   ]
  },
  {
   "cell_type": "markdown",
   "metadata": {},
   "source": [
    "## get_p_value"
   ]
  },
  {
   "cell_type": "code",
   "execution_count": null,
   "metadata": {
    "execution": {
     "iopub.execute_input": "2021-05-30T07:00:56.396219Z",
     "iopub.status.busy": "2021-05-30T07:00:56.395608Z",
     "iopub.status.idle": "2021-05-30T07:00:56.416441Z",
     "shell.execute_reply": "2021-05-30T07:00:56.416909Z"
    }
   },
   "outputs": [],
   "source": [
    "ra_ = np.arange(10)\n",
    "\n",
    "for nu in [\n",
    "    0,\n",
    "    1,\n",
    "    8,\n",
    "    9,\n",
    "]:\n",
    "\n",
    "    print()\n",
    "\n",
    "    print(nu)\n",
    "\n",
    "    for di in [\n",
    "        \"<\",\n",
    "        \">\",\n",
    "    ]:\n",
    "\n",
    "        print(di)\n",
    "\n",
    "        print(\n",
    "            kraft.significance.get_p_value(\n",
    "                nu,\n",
    "                ra_,\n",
    "                di,\n",
    "            )\n",
    "        )"
   ]
  },
  {
   "cell_type": "markdown",
   "metadata": {},
   "source": [
    "## get_p_value_q_value"
   ]
  },
  {
   "cell_type": "code",
   "execution_count": null,
   "metadata": {
    "execution": {
     "iopub.execute_input": "2021-05-30T07:00:56.421080Z",
     "iopub.status.busy": "2021-05-30T07:00:56.420421Z",
     "iopub.status.idle": "2021-05-30T07:00:56.443055Z",
     "shell.execute_reply": "2021-05-30T07:00:56.443562Z"
    }
   },
   "outputs": [],
   "source": [
    "ra_ = np.arange(10)\n",
    "\n",
    "nu_ = np.asarray(\n",
    "    [\n",
    "        0,\n",
    "        1,\n",
    "        8,\n",
    "        9,\n",
    "    ]\n",
    ")\n",
    "\n",
    "for di in (\n",
    "    \"<\",\n",
    "    \">\",\n",
    "    \"<>\",\n",
    "):\n",
    "\n",
    "    print(di)\n",
    "\n",
    "    print(\n",
    "        kraft.significance.get_p_value_q_value(\n",
    "            nu_,\n",
    "            ra_,\n",
    "            di,\n",
    "        )\n",
    "    )"
   ]
  }
 ],
 "metadata": {
  "kernelspec": {
   "display_name": "Python 3",
   "language": "python",
   "name": "python3"
  },
  "language_info": {
   "codemirror_mode": {
    "name": "ipython",
    "version": 3
   },
   "file_extension": ".py",
   "mimetype": "text/x-python",
   "name": "python",
   "nbconvert_exporter": "python",
   "pygments_lexer": "ipython3",
   "version": "3.8.9"
  }
 },
 "nbformat": 4,
 "nbformat_minor": 4
}
