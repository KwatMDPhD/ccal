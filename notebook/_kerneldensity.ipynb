{
 "cells": [
  {
   "cell_type": "code",
   "execution_count": null,
   "metadata": {},
   "outputs": [],
   "source": [
    "%load_ext autoreload\n",
    "%autoreload 2"
   ]
  },
  {
   "cell_type": "code",
   "execution_count": null,
   "metadata": {},
   "outputs": [],
   "source": [
    "import numpy as np\n",
    "\n",
    "import kraft"
   ]
  },
  {
   "cell_type": "markdown",
   "metadata": {},
   "source": [
    "## get_bandwidth"
   ]
  },
  {
   "cell_type": "code",
   "execution_count": null,
   "metadata": {},
   "outputs": [],
   "source": [
    "kraft.kernel_density.get_bandwidth(np.random.normal(size=2))"
   ]
  },
  {
   "cell_type": "code",
   "execution_count": null,
   "metadata": {},
   "outputs": [],
   "source": [
    "kraft.kernel_density.get_bandwidth(np.random.normal(size=100))"
   ]
  },
  {
   "cell_type": "markdown",
   "metadata": {},
   "source": [
    "## get_density"
   ]
  },
  {
   "cell_type": "code",
   "execution_count": null,
   "metadata": {},
   "outputs": [],
   "source": [
    "kraft.kernel_density.get_density(\n",
    "    np.asarray(\n",
    "        [\n",
    "            [-1],\n",
    "            [0],\n",
    "            [2],\n",
    "        ]\n",
    "    )\n",
    ")"
   ]
  },
  {
   "cell_type": "code",
   "execution_count": null,
   "metadata": {},
   "outputs": [],
   "source": [
    "kraft.kernel_density.get_density(\n",
    "    np.asarray(\n",
    "        [\n",
    "            [\n",
    "                -1,\n",
    "                -1,\n",
    "            ],\n",
    "            [\n",
    "                0,\n",
    "                0,\n",
    "            ],\n",
    "            [\n",
    "                2,\n",
    "                2,\n",
    "            ],\n",
    "        ]\n",
    "    )\n",
    ")"
   ]
  },
  {
   "cell_type": "code",
   "execution_count": null,
   "metadata": {},
   "outputs": [],
   "source": [
    "kraft.kernel_density.get_density(\n",
    "    np.asarray(\n",
    "        [\n",
    "            [\n",
    "                -1,\n",
    "                -1,\n",
    "                -1,\n",
    "            ],\n",
    "            [\n",
    "                0,\n",
    "                0,\n",
    "                0,\n",
    "            ],\n",
    "            [\n",
    "                2,\n",
    "                2,\n",
    "                2,\n",
    "            ],\n",
    "        ]\n",
    "    )\n",
    ")"
   ]
  }
 ],
 "metadata": {
  "kernelspec": {
   "display_name": "Python 3",
   "language": "python",
   "name": "python3"
  },
  "language_info": {
   "codemirror_mode": {
    "name": "ipython",
    "version": 3
   },
   "file_extension": ".py",
   "mimetype": "text/x-python",
   "name": "python",
   "nbconvert_exporter": "python",
   "pygments_lexer": "ipython3",
   "version": "3.8.9"
  }
 },
 "nbformat": 4,
 "nbformat_minor": 4
}
