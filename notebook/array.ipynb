{
 "cells": [
  {
   "cell_type": "code",
   "execution_count": null,
   "metadata": {},
   "outputs": [],
   "source": [
    "%load_ext autoreload\n",
    "%autoreload 2"
   ]
  },
  {
   "cell_type": "code",
   "execution_count": null,
   "metadata": {},
   "outputs": [],
   "source": [
    "import numpy as np\n",
    "\n",
    "import kraft"
   ]
  },
  {
   "cell_type": "markdown",
   "metadata": {},
   "source": [
    "## error_nan"
   ]
  },
  {
   "cell_type": "code",
   "execution_count": null,
   "metadata": {},
   "outputs": [],
   "source": [
    "kraft.error_nan(np.asarray((0, 1)))"
   ]
  },
  {
   "cell_type": "code",
   "execution_count": null,
   "metadata": {},
   "outputs": [],
   "source": [
    "try:\n",
    "\n",
    "    kraft.error_nan(np.asarray((2, np.nan)))\n",
    "\n",
    "except AssertionError as error:\n",
    "\n",
    "    print(error)"
   ]
  },
  {
   "cell_type": "markdown",
   "metadata": {},
   "source": [
    "## is_sortred"
   ]
  },
  {
   "cell_type": "code",
   "execution_count": null,
   "metadata": {},
   "outputs": [],
   "source": [
    "for numbers in (\n",
    "    (0,),\n",
    "    (0, 0.0),\n",
    "    (0, 1),\n",
    "    (1, 0),\n",
    "    (0, 1, 0),\n",
    "    (1, 0, 1),\n",
    "):\n",
    "\n",
    "    numbers = np.asarray(numbers)\n",
    "\n",
    "    print(numbers)\n",
    "\n",
    "    print(kraft.is_sorted(numbers))"
   ]
  },
  {
   "cell_type": "markdown",
   "metadata": {},
   "source": [
    "## guess_type"
   ]
  },
  {
   "cell_type": "code",
   "execution_count": null,
   "metadata": {},
   "outputs": [],
   "source": [
    "for numbers in (\n",
    "    (0,),\n",
    "    (0, 0.0),\n",
    "    (0, 1),\n",
    "    (0, 1, 0.0, 1.0),\n",
    "    np.random.randint(2, size=(2, 4)),\n",
    "    (0, 1, 2),\n",
    "    tuple(range(16)),\n",
    "    np.random.randint(3, size=(2, 4)),\n",
    "    (0.1,),\n",
    "    tuple(range(17)),\n",
    "    np.random.random_sample(size=(2, 4)),\n",
    "):\n",
    "\n",
    "    numbers = np.asarray(numbers)\n",
    "\n",
    "    print(numbers)\n",
    "\n",
    "    print(kraft.guess_type(numbers))"
   ]
  },
  {
   "cell_type": "markdown",
   "metadata": {},
   "source": [
    "## clip"
   ]
  },
  {
   "cell_type": "code",
   "execution_count": null,
   "metadata": {},
   "outputs": [],
   "source": [
    "array = np.arange(-2, 3)\n",
    "\n",
    "print(array)"
   ]
  },
  {
   "cell_type": "code",
   "execution_count": null,
   "metadata": {},
   "outputs": [],
   "source": [
    "for standard_deviation in range(3):\n",
    "\n",
    "    print(standard_deviation)\n",
    "\n",
    "    array_ = kraft.clip(array, standard_deviation)\n",
    "\n",
    "    assert array is not array_\n",
    "\n",
    "    print(array_)"
   ]
  },
  {
   "cell_type": "markdown",
   "metadata": {},
   "source": [
    "## shift_minimum"
   ]
  },
  {
   "cell_type": "code",
   "execution_count": null,
   "metadata": {},
   "outputs": [],
   "source": [
    "array = np.asarray((-1, 0, 0.5, 2))\n",
    "\n",
    "print(array)"
   ]
  },
  {
   "cell_type": "code",
   "execution_count": null,
   "metadata": {},
   "outputs": [],
   "source": [
    "for minimum in (-1, 0, 1, \"0<\"):\n",
    "\n",
    "    print(minimum)\n",
    "\n",
    "    array_ = kraft.shift_minimum(array, minimum)\n",
    "\n",
    "    assert array is not array_\n",
    "\n",
    "    print(array_)"
   ]
  },
  {
   "cell_type": "markdown",
   "metadata": {},
   "source": [
    "## log"
   ]
  },
  {
   "cell_type": "code",
   "execution_count": null,
   "metadata": {},
   "outputs": [],
   "source": [
    "array = np.asarray((1, 2, np.inf))\n",
    "\n",
    "print(array)"
   ]
  },
  {
   "cell_type": "code",
   "execution_count": null,
   "metadata": {},
   "outputs": [],
   "source": [
    "for log_base in (\n",
    "    2,\n",
    "    \"2\",\n",
    "    \"e\",\n",
    "    10,\n",
    "    \"10\",\n",
    "):\n",
    "\n",
    "    print(log_base)\n",
    "\n",
    "    print(kraft.log(array, log_base=log_base,))"
   ]
  },
  {
   "cell_type": "markdown",
   "metadata": {},
   "source": [
    "## normalize"
   ]
  },
  {
   "cell_type": "code",
   "execution_count": null,
   "metadata": {},
   "outputs": [],
   "source": [
    "for array in (\n",
    "    np.asarray((0, 1)),\n",
    "    np.asarray(((0, 1, 2), (0, 10, 20))),\n",
    "):\n",
    "\n",
    "    print(array)\n",
    "\n",
    "    for method in (\"-0-\", \"0-1\", \"sum\", \"rank\"):\n",
    "\n",
    "        print(method)\n",
    "\n",
    "        print(kraft.normalize(array, method))"
   ]
  },
  {
   "cell_type": "markdown",
   "metadata": {},
   "source": [
    "## ignore_nan_and_function_1"
   ]
  },
  {
   "cell_type": "code",
   "execution_count": null,
   "metadata": {},
   "outputs": [],
   "source": [
    "array = np.asarray((np.nan, 0, 1, 2, np.nan))\n",
    "\n",
    "print(array)"
   ]
  },
  {
   "cell_type": "code",
   "execution_count": null,
   "metadata": {},
   "outputs": [],
   "source": [
    "print(np.sum(array))\n",
    "\n",
    "print(kraft.ignore_nan_and_function_1(array, np.sum))"
   ]
  },
  {
   "cell_type": "code",
   "execution_count": null,
   "metadata": {},
   "outputs": [],
   "source": [
    "print(np.cumsum(array))\n",
    "\n",
    "array_ = kraft.ignore_nan_and_function_1(array, np.cumsum, update=True)\n",
    "\n",
    "assert array_ is not array\n",
    "\n",
    "print(array_)"
   ]
  },
  {
   "cell_type": "markdown",
   "metadata": {},
   "source": [
    "## ignore_nan_and_function_2"
   ]
  },
  {
   "cell_type": "code",
   "execution_count": null,
   "metadata": {},
   "outputs": [],
   "source": [
    "array_0 = np.asarray((np.nan, 0, 1, np.nan, 2))\n",
    "\n",
    "print(array_0)\n",
    "\n",
    "array_1 = np.asarray((np.nan, 0, 1, 2, np.nan))\n",
    "\n",
    "print(array_1)\n",
    "\n",
    "print(np.add(array_0, array_1))\n",
    "\n",
    "print(kraft.ignore_nan_and_function_2(array_0, array_1, np.add))"
   ]
  }
 ],
 "metadata": {
  "kernelspec": {
   "display_name": "Python 3",
   "language": "python",
   "name": "python3"
  },
  "language_info": {
   "codemirror_mode": {
    "name": "ipython",
    "version": 3
   },
   "file_extension": ".py",
   "mimetype": "text/x-python",
   "name": "python",
   "nbconvert_exporter": "python",
   "pygments_lexer": "ipython3",
   "version": "3.7.6"
  }
 },
 "nbformat": 4,
 "nbformat_minor": 4
}
