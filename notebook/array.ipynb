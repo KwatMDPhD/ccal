{
 "cells": [
  {
   "cell_type": "code",
   "execution_count": 1,
   "metadata": {},
   "outputs": [],
   "source": [
    "%load_ext autoreload\n",
    "%autoreload 2"
   ]
  },
  {
   "cell_type": "code",
   "execution_count": 2,
   "metadata": {},
   "outputs": [],
   "source": [
    "import numpy as np\n",
    "\n",
    "import kraft"
   ]
  },
  {
   "cell_type": "markdown",
   "metadata": {},
   "source": [
    "## clip"
   ]
  },
  {
   "cell_type": "code",
   "execution_count": 3,
   "metadata": {},
   "outputs": [
    {
     "data": {
      "text/plain": [
       "array([-2, -1,  0,  1,  2])"
      ]
     },
     "execution_count": 3,
     "metadata": {},
     "output_type": "execute_result"
    }
   ],
   "source": [
    "array = np.arange(-2, 3)\n",
    "\n",
    "array"
   ]
  },
  {
   "cell_type": "code",
   "execution_count": 4,
   "metadata": {},
   "outputs": [
    {
     "name": "stdout",
     "output_type": "stream",
     "text": [
      "0\n",
      "[0. 0. 0. 0. 0.]\n",
      "1\n",
      "[-1.41421356 -1.          0.          1.          1.41421356]\n",
      "2\n",
      "[-2. -1.  0.  1.  2.]\n"
     ]
    }
   ],
   "source": [
    "for standard_deviation in range(3):\n",
    "\n",
    "    print(standard_deviation)\n",
    "\n",
    "    output = kraft.clip(array, standard_deviation)\n",
    "\n",
    "    assert array is not output\n",
    "\n",
    "    print(output)"
   ]
  },
  {
   "cell_type": "markdown",
   "metadata": {},
   "source": [
    "## error_nan"
   ]
  },
  {
   "cell_type": "code",
   "execution_count": 5,
   "metadata": {},
   "outputs": [
    {
     "name": "stdout",
     "output_type": "stream",
     "text": [
      "\n"
     ]
    }
   ],
   "source": [
    "kraft.error_nan(np.asarray((0, 1)))\n",
    "\n",
    "try:\n",
    "\n",
    "    kraft.error_nan(np.asarray((2, np.nan)))\n",
    "\n",
    "except AssertionError as error:\n",
    "\n",
    "    print(error)"
   ]
  },
  {
   "cell_type": "markdown",
   "metadata": {},
   "source": [
    "## guess_type"
   ]
  },
  {
   "cell_type": "code",
   "execution_count": 7,
   "metadata": {},
   "outputs": [
    {
     "name": "stdout",
     "output_type": "stream",
     "text": [
      "\n",
      "[0]\n",
      "binary\n",
      "\n",
      "[0. 0.]\n",
      "binary\n",
      "\n",
      "[0 1]\n",
      "binary\n",
      "\n",
      "[0. 1. 0. 1.]\n",
      "binary\n",
      "\n",
      "[[1 0 1 1]\n",
      " [1 0 0 0]]\n",
      "binary\n",
      "\n",
      "[0 1 2]\n",
      "categorical\n",
      "\n",
      "[ 0  1  2  3  4  5  6  7  8  9 10 11 12 13 14 15]\n",
      "categorical\n",
      "\n",
      "[[2 2 0 1]\n",
      " [2 1 1 2]]\n",
      "categorical\n",
      "\n",
      "[0.1]\n",
      "continuous\n",
      "\n",
      "[ 0  1  2  3  4  5  6  7  8  9 10 11 12 13 14 15 16]\n",
      "continuous\n",
      "\n",
      "[[0.14209042 0.5686764  0.59637111 0.63266475]\n",
      " [0.01190839 0.93853713 0.0923465  0.18420956]]\n",
      "continuous\n"
     ]
    }
   ],
   "source": [
    "for numbers in (\n",
    "    (0,),\n",
    "    (0, 0.0),\n",
    "    (0, 1),\n",
    "    (0, 1, 0.0, 1.0),\n",
    "    np.random.randint(2, size=(2, 4)),\n",
    "    (0, 1, 2),\n",
    "    tuple(range(16)),\n",
    "    np.random.randint(3, size=(2, 4)),\n",
    "    (0.1,),\n",
    "    tuple(range(17)),\n",
    "    np.random.random_sample(size=(2, 4)),\n",
    "):\n",
    "\n",
    "    print()\n",
    "    \n",
    "    numbers = np.asarray(numbers)\n",
    "\n",
    "    print(numbers)\n",
    "\n",
    "    print(kraft.guess_type(numbers))"
   ]
  },
  {
   "cell_type": "markdown",
   "metadata": {},
   "source": [
    "## ignore_nan_and_function_1"
   ]
  },
  {
   "cell_type": "code",
   "execution_count": 8,
   "metadata": {},
   "outputs": [
    {
     "data": {
      "text/plain": [
       "array([nan,  0.,  1.,  2., nan])"
      ]
     },
     "execution_count": 8,
     "metadata": {},
     "output_type": "execute_result"
    }
   ],
   "source": [
    "array = np.asarray((np.nan, 0, 1, 2, np.nan))\n",
    "\n",
    "array"
   ]
  },
  {
   "cell_type": "code",
   "execution_count": 9,
   "metadata": {},
   "outputs": [
    {
     "name": "stdout",
     "output_type": "stream",
     "text": [
      "nan\n",
      "3.0\n"
     ]
    }
   ],
   "source": [
    "print(np.sum(array))\n",
    "\n",
    "output = kraft.ignore_nan_and_function_1(array, np.sum)\n",
    "\n",
    "assert output is not array\n",
    "\n",
    "print(output)"
   ]
  },
  {
   "cell_type": "code",
   "execution_count": 10,
   "metadata": {},
   "outputs": [
    {
     "name": "stdout",
     "output_type": "stream",
     "text": [
      "[nan nan nan nan nan]\n",
      "[nan  0.  1.  3. nan]\n"
     ]
    }
   ],
   "source": [
    "print(np.cumsum(array))\n",
    "\n",
    "output = kraft.ignore_nan_and_function_1(array, np.cumsum, update=True)\n",
    "\n",
    "assert output is not array\n",
    "\n",
    "print(output)"
   ]
  },
  {
   "cell_type": "markdown",
   "metadata": {},
   "source": [
    "## ignore_nan_and_function_2"
   ]
  },
  {
   "cell_type": "code",
   "execution_count": 11,
   "metadata": {},
   "outputs": [
    {
     "name": "stdout",
     "output_type": "stream",
     "text": [
      "[nan  0.  1. nan  2.]\n",
      "[nan  0.  1.  2. nan]\n",
      "[nan  0.  2. nan nan]\n",
      "[0. 2.]\n"
     ]
    }
   ],
   "source": [
    "array_0 = np.asarray((np.nan, 0, 1, np.nan, 2))\n",
    "\n",
    "print(array_0)\n",
    "\n",
    "array_1 = np.asarray((np.nan, 0, 1, 2, np.nan))\n",
    "\n",
    "print(array_1)\n",
    "\n",
    "print(np.add(array_0, array_1))\n",
    "\n",
    "print(kraft.ignore_nan_and_function_2(array_0, array_1, np.add))"
   ]
  },
  {
   "cell_type": "markdown",
   "metadata": {},
   "source": [
    "## is_sortred"
   ]
  },
  {
   "cell_type": "code",
   "execution_count": 13,
   "metadata": {},
   "outputs": [
    {
     "name": "stdout",
     "output_type": "stream",
     "text": [
      "[0]\n",
      "True\n",
      "[0. 0.]\n",
      "True\n",
      "[0 1]\n",
      "True\n",
      "[1 0]\n",
      "True\n",
      "[0 1 0]\n",
      "False\n",
      "[1 0 1]\n",
      "False\n"
     ]
    }
   ],
   "source": [
    "for numbers in (\n",
    "    (0,),\n",
    "    (0, 0.0),\n",
    "    (0, 1),\n",
    "    (1, 0),\n",
    "    (0, 1, 0),\n",
    "    (1, 0, 1),\n",
    "):\n",
    "\n",
    "    numbers = np.asarray(numbers)\n",
    "\n",
    "    print(numbers)\n",
    "\n",
    "    print(kraft.is_sorted(numbers))"
   ]
  },
  {
   "cell_type": "markdown",
   "metadata": {},
   "source": [
    "## log"
   ]
  },
  {
   "cell_type": "code",
   "execution_count": 14,
   "metadata": {},
   "outputs": [
    {
     "data": {
      "text/plain": [
       "array([ 1.,  2., inf])"
      ]
     },
     "execution_count": 14,
     "metadata": {},
     "output_type": "execute_result"
    }
   ],
   "source": [
    "array =  np.asarray((1, 2, np.inf))\n",
    "\n",
    "array"
   ]
  },
  {
   "cell_type": "code",
   "execution_count": 15,
   "metadata": {},
   "outputs": [
    {
     "name": "stdout",
     "output_type": "stream",
     "text": [
      "2\n",
      "[ 0.  1. inf]\n",
      "2\n",
      "[ 0.  1. inf]\n",
      "e\n",
      "[0.         0.69314718        inf]\n",
      "10\n",
      "[0.      0.30103     inf]\n",
      "10\n",
      "[0.      0.30103     inf]\n"
     ]
    }
   ],
   "source": [
    "for log_base in (\n",
    "    2,\n",
    "    \"2\",\n",
    "    \"e\",\n",
    "    10,\n",
    "    \"10\",\n",
    "):\n",
    "\n",
    "    print(log_base)\n",
    "\n",
    "    print(\n",
    "        kraft.log(\n",
    "            array,  log_base=log_base,\n",
    "        )\n",
    "    )"
   ]
  },
  {
   "cell_type": "markdown",
   "metadata": {},
   "source": [
    "## normalize"
   ]
  },
  {
   "cell_type": "code",
   "execution_count": 16,
   "metadata": {},
   "outputs": [
    {
     "name": "stdout",
     "output_type": "stream",
     "text": [
      "\n",
      "[0 1]\n",
      "-0-\n",
      "[-1.  1.]\n",
      "0-1\n",
      "[0. 1.]\n",
      "sum\n",
      "[0. 1.]\n",
      "rank\n",
      "[1. 2.]\n",
      "\n",
      "[0 0]\n",
      "-0-\n"
     ]
    },
    {
     "ename": "AssertionError",
     "evalue": "",
     "output_type": "error",
     "traceback": [
      "\u001b[0;31m---------------------------------------------------------------------------\u001b[0m",
      "\u001b[0;31mAssertionError\u001b[0m                            Traceback (most recent call last)",
      "\u001b[0;32m<ipython-input-16-41e26b165293>\u001b[0m in \u001b[0;36m<module>\u001b[0;34m\u001b[0m\n\u001b[1;32m     14\u001b[0m \u001b[0;34m\u001b[0m\u001b[0m\n\u001b[1;32m     15\u001b[0m         print(kraft.normalize(\n\u001b[0;32m---> 16\u001b[0;31m             \u001b[0marray\u001b[0m\u001b[0;34m,\u001b[0m \u001b[0mmethod\u001b[0m\u001b[0;34m\u001b[0m\u001b[0;34m\u001b[0m\u001b[0m\n\u001b[0m\u001b[1;32m     17\u001b[0m         ))\n",
      "\u001b[0;32m~/github/kraft/kraft/array/normalize.py\u001b[0m in \u001b[0;36mnormalize\u001b[0;34m(array, method, rank_method)\u001b[0m\n\u001b[1;32m      8\u001b[0m         \u001b[0mstandard_deviation\u001b[0m \u001b[0;34m=\u001b[0m \u001b[0marray\u001b[0m\u001b[0;34m.\u001b[0m\u001b[0mstd\u001b[0m\u001b[0;34m(\u001b[0m\u001b[0;34m)\u001b[0m\u001b[0;34m\u001b[0m\u001b[0;34m\u001b[0m\u001b[0m\n\u001b[1;32m      9\u001b[0m \u001b[0;34m\u001b[0m\u001b[0m\n\u001b[0;32m---> 10\u001b[0;31m         \u001b[0;32massert\u001b[0m \u001b[0mstandard_deviation\u001b[0m \u001b[0;34m!=\u001b[0m \u001b[0;36m0\u001b[0m\u001b[0;34m\u001b[0m\u001b[0;34m\u001b[0m\u001b[0m\n\u001b[0m\u001b[1;32m     11\u001b[0m \u001b[0;34m\u001b[0m\u001b[0m\n\u001b[1;32m     12\u001b[0m         \u001b[0;32mreturn\u001b[0m \u001b[0;34m(\u001b[0m\u001b[0marray\u001b[0m \u001b[0;34m-\u001b[0m \u001b[0marray\u001b[0m\u001b[0;34m.\u001b[0m\u001b[0mmean\u001b[0m\u001b[0;34m(\u001b[0m\u001b[0;34m)\u001b[0m\u001b[0;34m)\u001b[0m \u001b[0;34m/\u001b[0m \u001b[0mstandard_deviation\u001b[0m\u001b[0;34m\u001b[0m\u001b[0;34m\u001b[0m\u001b[0m\n",
      "\u001b[0;31mAssertionError\u001b[0m: "
     ]
    }
   ],
   "source": [
    "for array in (\n",
    "    np.asarray((0, 1)),\n",
    "    np.asarray((0, 0)),\n",
    "    np.asarray((0,)),\n",
    "):\n",
    "\n",
    "    print()\n",
    "\n",
    "    print(array)\n",
    "\n",
    "    for method in (\"-0-\", \"0-1\", \"sum\", \"rank\"):\n",
    "\n",
    "        print(method)\n",
    "\n",
    "        print(kraft.normalize(\n",
    "            array, method\n",
    "        ))"
   ]
  },
  {
   "cell_type": "code",
   "execution_count": null,
   "metadata": {},
   "outputs": [],
   "source": [
    "for _2d_array in (\n",
    "    np.asarray(((0, 1, 2), (3, 4, 5), (6, 7, 8)), dtype=float),\n",
    "    np.asarray(((np.nan, 0, 1, 2), (3, np.inf, 4, 5), (6, 7, -np.inf, 8))),\n",
    "):\n",
    "\n",
    "    print()\n",
    "    \n",
    "    print(_2d_array)\n",
    "\n",
    "    for axis in (None, 0, 1):\n",
    "\n",
    "        for method in (\"-0-\", \"0-1\", \"sum\", \"rank\"):\n",
    "\n",
    "            print()\n",
    "\n",
    "            print(axis, method)\n",
    "\n",
    "            normalized_2d_array = ccal.normalize_nd_array(\n",
    "                _2d_array, axis, method, raise_for_bad=False\n",
    "            )\n",
    "\n",
    "            print(normalized_2d_array)"
   ]
  },
  {
   "cell_type": "markdown",
   "metadata": {},
   "source": [
    "## shift_minimum"
   ]
  },
  {
   "cell_type": "code",
   "execution_count": null,
   "metadata": {},
   "outputs": [],
   "source": [
    "array =  np.asarray((-1, 0, 0.5, 2))\n",
    "\n",
    "array"
   ]
  },
  {
   "cell_type": "code",
   "execution_count": null,
   "metadata": {},
   "outputs": [],
   "source": [
    "for minimum in (-1, 0, 1, \"0<\"):\n",
    "\n",
    "    print(minimum)\n",
    "\n",
    "    output = kraft.shift_minimum(array, minimum)\n",
    "\n",
    "    print(output)"
   ]
  }
 ],
 "metadata": {
  "kernelspec": {
   "display_name": "Python 3",
   "language": "python",
   "name": "python3"
  },
  "language_info": {
   "codemirror_mode": {
    "name": "ipython",
    "version": 3
   },
   "file_extension": ".py",
   "mimetype": "text/x-python",
   "name": "python",
   "nbconvert_exporter": "python",
   "pygments_lexer": "ipython3",
   "version": "3.7.6"
  }
 },
 "nbformat": 4,
 "nbformat_minor": 4
}
