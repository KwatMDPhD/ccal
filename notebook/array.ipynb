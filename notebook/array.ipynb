{
 "cells": [
  {
   "cell_type": "code",
   "execution_count": null,
   "metadata": {},
   "outputs": [],
   "source": [
    "%load_ext autoreload\n",
    "%autoreload 2"
   ]
  },
  {
   "cell_type": "code",
   "execution_count": null,
   "metadata": {},
   "outputs": [],
   "source": [
    "import numpy as np\n",
    "\n",
    "import kraft"
   ]
  },
  {
   "cell_type": "markdown",
   "metadata": {},
   "source": [
    "## guess_type"
   ]
  },
  {
   "cell_type": "code",
   "execution_count": null,
   "metadata": {},
   "outputs": [],
   "source": [
    "for numbers in (\n",
    "    (0,),\n",
    "    (0, 0.0),\n",
    "    (0, 1),\n",
    "    (0, 1, 0.0, 1.0),\n",
    "    np.random.randint(0, high=2, size=(2, 4)),\n",
    "    (0, 1, 2),\n",
    "    np.arange(16),\n",
    "    np.random.randint(0, high=3, size=(2, 4)),\n",
    "    (0.1,),\n",
    "    np.arange(17),\n",
    "    np.random.random_sample(size=(2, 4)),\n",
    "):\n",
    "\n",
    "    print(\"=\" * 80)\n",
    "\n",
    "    numbers = np.asarray(numbers)\n",
    "\n",
    "    print(numbers)\n",
    "\n",
    "    print(kraft.array.guess_type(numbers))"
   ]
  },
  {
   "cell_type": "markdown",
   "metadata": {},
   "source": [
    "## clip"
   ]
  },
  {
   "cell_type": "code",
   "execution_count": null,
   "metadata": {},
   "outputs": [],
   "source": [
    "numbers = np.arange(-2, 3)\n",
    "\n",
    "print(numbers)\n",
    "\n",
    "for standard_deviation in range(3):\n",
    "\n",
    "    print(\"=\" * 80)\n",
    "\n",
    "    print(standard_deviation)\n",
    "\n",
    "    print(kraft.array.clip(numbers, standard_deviation))"
   ]
  },
  {
   "cell_type": "markdown",
   "metadata": {},
   "source": [
    "## shift_minimum"
   ]
  },
  {
   "cell_type": "code",
   "execution_count": null,
   "metadata": {},
   "outputs": [],
   "source": [
    "numbers = np.asarray((-1, 0, 0.5, 2))\n",
    "\n",
    "print(numbers)\n",
    "\n",
    "for minimum in (-1, 0, 1, \"0<\"):\n",
    "\n",
    "    print(\"=\" * 80)\n",
    "\n",
    "    print(minimum)\n",
    "\n",
    "    print(kraft.array.shift_minimum(numbers, minimum))"
   ]
  },
  {
   "cell_type": "markdown",
   "metadata": {},
   "source": [
    "## log"
   ]
  },
  {
   "cell_type": "code",
   "execution_count": null,
   "metadata": {},
   "outputs": [],
   "source": [
    "numbers = np.asarray((1, 2, np.inf))\n",
    "\n",
    "print(numbers)\n",
    "\n",
    "for base in (\n",
    "    2,\n",
    "    \"e\",\n",
    "    10,\n",
    "):\n",
    "\n",
    "    print(\"=\" * 80)\n",
    "\n",
    "    print(base)\n",
    "\n",
    "    print(kraft.array.log(numbers, base=base))"
   ]
  },
  {
   "cell_type": "markdown",
   "metadata": {},
   "source": [
    "## normalize"
   ]
  },
  {
   "cell_type": "code",
   "execution_count": null,
   "metadata": {},
   "outputs": [],
   "source": [
    "for numbers in (\n",
    "    np.asarray((0, 1)),\n",
    "    np.asarray(((0, 1, 2), (0, 10, 20))),\n",
    "):\n",
    "\n",
    "    for method in (\"-0-\", \"0-1\", \"sum\", \"rank\"):\n",
    "\n",
    "        print(\"=\" * 80)\n",
    "\n",
    "        print(numbers)\n",
    "\n",
    "        print(method)\n",
    "\n",
    "        print(kraft.array.normalize(numbers, method, rank_method=\"dense\"))"
   ]
  },
  {
   "cell_type": "markdown",
   "metadata": {},
   "source": [
    "## ignore_nan_and_function_1"
   ]
  },
  {
   "cell_type": "code",
   "execution_count": null,
   "metadata": {},
   "outputs": [],
   "source": [
    "for numbers in (\n",
    "    np.asarray((np.nan, 0, 1, 2, np.nan)),\n",
    "    np.asarray((np.nan, np.nan)),\n",
    "):\n",
    "\n",
    "    print(\"=\" * 80)\n",
    "\n",
    "    print(numbers)\n",
    "\n",
    "    print(np.sum(numbers))\n",
    "\n",
    "    print(kraft.array.ignore_nan_and_function_1(numbers, np.sum))\n",
    "\n",
    "    print(np.cumsum(numbers))\n",
    "\n",
    "    print(kraft.array.ignore_nan_and_function_1(numbers, np.cumsum, update=True))"
   ]
  },
  {
   "cell_type": "markdown",
   "metadata": {},
   "source": [
    "## ignore_nan_and_function_2"
   ]
  },
  {
   "cell_type": "code",
   "execution_count": null,
   "metadata": {},
   "outputs": [],
   "source": [
    "numbers_0 = np.asarray((np.nan, 0, 1, np.nan, 2))\n",
    "\n",
    "numbers_1 = np.asarray((np.nan, 0, 1, 2, np.nan))\n",
    "\n",
    "print(numbers_0)\n",
    "\n",
    "print(numbers_1)\n",
    "\n",
    "print(np.add(numbers_0, numbers_1))\n",
    "\n",
    "print(kraft.array.ignore_nan_and_function_2(numbers_0, numbers_1, np.add))"
   ]
  },
  {
   "cell_type": "markdown",
   "metadata": {},
   "source": [
    "## shuffle"
   ]
  },
  {
   "cell_type": "code",
   "execution_count": null,
   "metadata": {},
   "outputs": [],
   "source": [
    "matrix = np.arange(9).reshape((3, 3))\n",
    "\n",
    "print(matrix)\n",
    "\n",
    "for axis in (0, 1):\n",
    "\n",
    "    print(\"=\" * 80)\n",
    "\n",
    "    print(axis)\n",
    "\n",
    "    print(kraft.array.shuffle(matrix, axis))"
   ]
  },
  {
   "cell_type": "markdown",
   "metadata": {},
   "source": [
    "## check_is_sorted"
   ]
  },
  {
   "cell_type": "code",
   "execution_count": null,
   "metadata": {},
   "outputs": [],
   "source": [
    "for vector in (\n",
    "    (0,),\n",
    "    (0, 0.0),\n",
    "    (0, 1),\n",
    "    (1, 0),\n",
    "    (0, 1, 0),\n",
    "    (1, 0, 1),\n",
    "):\n",
    "\n",
    "    print(\"=\" * 80)\n",
    "\n",
    "    vector = np.asarray(vector)\n",
    "\n",
    "    print(vector)\n",
    "\n",
    "    print(kraft.array.check_is_sorted(vector))"
   ]
  },
  {
   "cell_type": "markdown",
   "metadata": {},
   "source": [
    "## map_integer"
   ]
  },
  {
   "cell_type": "code",
   "execution_count": null,
   "metadata": {},
   "outputs": [],
   "source": [
    "objects = (\"a\", \"b\", \"b\", \"c\", None, None, np.nan, np.nan)\n",
    "\n",
    "print(kraft.array.map_integer(objects))\n",
    "\n",
    "print(kraft.array.map_integer(reversed(objects)))"
   ]
  }
 ],
 "metadata": {
  "kernelspec": {
   "display_name": "Python 3",
   "language": "python",
   "name": "python3"
  },
  "language_info": {
   "codemirror_mode": {
    "name": "ipython",
    "version": 3
   },
   "file_extension": ".py",
   "mimetype": "text/x-python",
   "name": "python",
   "nbconvert_exporter": "python",
   "pygments_lexer": "ipython3",
   "version": "3.8.9"
  }
 },
 "nbformat": 4,
 "nbformat_minor": 4
}
