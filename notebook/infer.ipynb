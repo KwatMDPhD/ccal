{
 "cells": [
  {
   "cell_type": "code",
   "execution_count": null,
   "metadata": {},
   "outputs": [],
   "source": [
    "%load_ext autoreload\n",
    "%autoreload 2"
   ]
  },
  {
   "cell_type": "code",
   "execution_count": null,
   "metadata": {},
   "outputs": [],
   "source": [
    "import numpy as np\n",
    "import pandas as pd\n",
    "import sklearn as skl\n",
    "\n",
    "import kraft"
   ]
  },
  {
   "cell_type": "code",
   "execution_count": null,
   "metadata": {
    "ExecuteTime": {
     "end_time": "2018-05-15T09:36:28.226979Z",
     "start_time": "2018-05-15T09:36:27.718823Z"
    }
   },
   "outputs": [],
   "source": [
    "dataframe = pd.read_csv(\n",
    "    \"titanic.tsv\", sep=\"\\t\", usecols=(\"sex\", \"age\", \"fare\", \"survived\")\n",
    ").dropna()\n",
    "\n",
    "dataframe"
   ]
  },
  {
   "cell_type": "code",
   "execution_count": null,
   "metadata": {
    "ExecuteTime": {
     "end_time": "2018-05-15T09:36:32.320959Z",
     "start_time": "2018-05-15T09:36:28.241752Z"
    }
   },
   "outputs": [],
   "source": [
    "g = (dataframe[\"sex\"] == \"male\").astype(int)\n",
    "\n",
    "g.name = \"Gender\"\n",
    "\n",
    "g"
   ]
  },
  {
   "cell_type": "code",
   "execution_count": null,
   "metadata": {
    "ExecuteTime": {
     "end_time": "2018-05-15T09:36:32.320959Z",
     "start_time": "2018-05-15T09:36:28.241752Z"
    }
   },
   "outputs": [],
   "source": [
    "a = dataframe[\"age\"]\n",
    "\n",
    "a.name = \"Age\"\n",
    "\n",
    "a"
   ]
  },
  {
   "cell_type": "code",
   "execution_count": null,
   "metadata": {},
   "outputs": [],
   "source": [
    "dataframe[\"fare\"].sort_values()"
   ]
  },
  {
   "cell_type": "code",
   "execution_count": null,
   "metadata": {
    "ExecuteTime": {
     "end_time": "2018-05-15T09:36:32.320959Z",
     "start_time": "2018-05-15T09:36:28.241752Z"
    }
   },
   "outputs": [],
   "source": [
    "f = pd.Series(\n",
    "    kraft.log(dataframe[\"fare\"].values, min_before_logging=\"0<\"), index=dataframe.index,\n",
    ")\n",
    "\n",
    "f.name = \"Fare\"\n",
    "\n",
    "f"
   ]
  },
  {
   "cell_type": "code",
   "execution_count": null,
   "metadata": {
    "ExecuteTime": {
     "end_time": "2018-05-15T09:36:32.320959Z",
     "start_time": "2018-05-15T09:36:28.241752Z"
    }
   },
   "outputs": [],
   "source": [
    "s = dataframe[\"survived\"]\n",
    "\n",
    "s.name = \"Survival\"\n",
    "\n",
    "s"
   ]
  },
  {
   "cell_type": "code",
   "execution_count": null,
   "metadata": {},
   "outputs": [],
   "source": [
    "target_value = 1\n",
    "\n",
    "plot = False\n",
    "\n",
    "\n",
    "def infer_(*seriess):\n",
    "\n",
    "    return kraft.infer(\n",
    "        np.asarray(seriess).T,\n",
    "        target_value,\n",
    "        plot=plot,\n",
    "        names=tuple(series.name for series in seriess),\n",
    "        grids=tuple(\n",
    "            kraft.make_grid(series.min(), series.max(), 1 / 8, 32) for series in seriess\n",
    "        ),\n",
    "    )"
   ]
  },
  {
   "cell_type": "code",
   "execution_count": null,
   "metadata": {},
   "outputs": [],
   "source": [
    "p_s1__g = infer_(g, s)"
   ]
  },
  {
   "cell_type": "code",
   "execution_count": null,
   "metadata": {},
   "outputs": [],
   "source": [
    "p_s1__a = infer_(a, s)"
   ]
  },
  {
   "cell_type": "code",
   "execution_count": null,
   "metadata": {},
   "outputs": [],
   "source": [
    "p_s1__f = infer_(f, s)"
   ]
  },
  {
   "cell_type": "code",
   "execution_count": null,
   "metadata": {},
   "outputs": [],
   "source": [
    "p_s1__g_a = infer_(g, a, s)"
   ]
  },
  {
   "cell_type": "code",
   "execution_count": null,
   "metadata": {},
   "outputs": [],
   "source": [
    "p_s1__g_f = infer_(g, f, s)"
   ]
  },
  {
   "cell_type": "code",
   "execution_count": null,
   "metadata": {},
   "outputs": [],
   "source": [
    "p_s1__a_f = infer_(a, f, s)"
   ]
  },
  {
   "cell_type": "code",
   "execution_count": null,
   "metadata": {},
   "outputs": [],
   "source": [
    "p_s1__g_a_f = infer_(g, a, f, s)"
   ]
  },
  {
   "cell_type": "code",
   "execution_count": null,
   "metadata": {
    "ExecuteTime": {
     "end_time": "2018-05-15T09:37:20.370751Z",
     "start_time": "2018-05-15T09:37:04.477354Z"
    }
   },
   "outputs": [],
   "source": [
    "maths = (\n",
    "    \"P(S = 1 | G)\",\n",
    "    \"P(S = 1 | A)\",\n",
    "    \"P(S = 1 | F)\",\n",
    "    \"P(S = 1 | G, A)\",\n",
    "    \"P(S = 1 | G, F)\",\n",
    "    \"P(S = 1 | A, F)\",\n",
    "    \"P(S = 1 | G, A, F)\",\n",
    ")\n",
    "\n",
    "math_roc = {math: {} for math in maths}\n",
    "\n",
    "for math, p_s1__v, vs in zip(\n",
    "    maths,\n",
    "    (p_s1__g, p_s1__a, p_s1__f, p_s1__g_a, p_s1__g_f, p_s1__a_f, p_s1__g_a_f),\n",
    "    ((g,), (a,), (f,), (g, a), (g, f), (a, f), (g, a, f)),\n",
    "):\n",
    "\n",
    "    grids, value = kraft.unmesh(*p_s1__v)\n",
    "\n",
    "    s_ = np.full(s.size, np.nan)\n",
    "\n",
    "    for i in range(s_.size):\n",
    "\n",
    "        s_[i] = value[\n",
    "            tuple(\n",
    "                np.argmin(np.absolute(grid - v.values[i])) for grid, v in zip(grids, vs)\n",
    "            )\n",
    "        ]\n",
    "\n",
    "    fpr, tpr, t = skl.metrics.roc_curve(s, kraft.normalize(s_, \"0-1\"))\n",
    "\n",
    "    math_roc[math][\"fpr\"] = fpr\n",
    "\n",
    "    math_roc[math][\"tpr\"] = tpr\n",
    "\n",
    "    math_roc[math][\"auc\"] = skl.metrics.auc(fpr, tpr)"
   ]
  },
  {
   "cell_type": "code",
   "execution_count": null,
   "metadata": {
    "ExecuteTime": {
     "end_time": "2018-05-15T09:37:20.654097Z",
     "start_time": "2018-05-15T09:37:20.375521Z"
    }
   },
   "outputs": [],
   "source": [
    "kraft.plot_plotly(\n",
    "    {\n",
    "        \"layout\": {\n",
    "            \"height\": 640,\n",
    "            \"width\": 640,\n",
    "            \"title\": {\n",
    "                \"text\": \"Receiver Operating Characteristic<br>{}\".format(\n",
    "                    \", \".join((g.name, a.name, f.name))\n",
    "                )\n",
    "            },\n",
    "            \"xaxis\": {\"title\": \"False Positive Rate\"},\n",
    "            \"yaxis\": {\"title\": \"True Positive Rate\"},\n",
    "            \"legend\": {\"orientation\": \"h\"},\n",
    "        },\n",
    "        \"data\": [\n",
    "            {\n",
    "                \"name\": \"Random\",\n",
    "                \"x\": (0, 1),\n",
    "                \"y\": (0, 1),\n",
    "                \"mode\": \"lines\",\n",
    "                \"marker\": {\"color\": \"#d8d8d8\"},\n",
    "            },\n",
    "            *(\n",
    "                {\n",
    "                    \"name\": \"{} | {:0.3f}\".format(math, math_roc[math][\"auc\"]),\n",
    "                    \"x\": math_roc[math][\"fpr\"],\n",
    "                    \"y\": math_roc[math][\"tpr\"],\n",
    "                    \"mode\": \"lines\",\n",
    "                }\n",
    "                for math in maths\n",
    "            ),\n",
    "        ],\n",
    "    }\n",
    ")"
   ]
  },
  {
   "cell_type": "code",
   "execution_count": null,
   "metadata": {
    "ExecuteTime": {
     "end_time": "2018-05-15T09:37:20.971630Z",
     "start_time": "2018-05-15T09:37:20.665810Z"
    }
   },
   "outputs": [],
   "source": [
    "# kraft.plot_bayesian_nomogram(\n",
    "#     s.values, 1, 0, n_grid, (p_s__g, p_s__a, p_s__f), (g.name, a.name, f.name)\n",
    "# )"
   ]
  }
 ],
 "metadata": {
  "kernelspec": {
   "display_name": "Python 3",
   "language": "python",
   "name": "python3"
  },
  "language_info": {
   "codemirror_mode": {
    "name": "ipython",
    "version": 3
   },
   "file_extension": ".py",
   "mimetype": "text/x-python",
   "name": "python",
   "nbconvert_exporter": "python",
   "pygments_lexer": "ipython3",
   "version": "3.7.6"
  }
 },
 "nbformat": 4,
 "nbformat_minor": 4
}
