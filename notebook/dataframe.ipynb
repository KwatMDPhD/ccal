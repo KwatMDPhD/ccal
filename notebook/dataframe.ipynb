{
 "cells": [
  {
   "cell_type": "code",
   "execution_count": null,
   "metadata": {},
   "outputs": [],
   "source": [
    "%load_ext autoreload\n",
    "%autoreload 2"
   ]
  },
  {
   "cell_type": "code",
   "execution_count": null,
   "metadata": {
    "ExecuteTime": {
     "end_time": "2018-05-15T09:28:55.668422Z",
     "start_time": "2018-05-15T09:28:55.428950Z"
    }
   },
   "outputs": [],
   "source": [
    "import numpy as np\n",
    "import pandas as pd\n",
    "\n",
    "import kraft"
   ]
  },
  {
   "cell_type": "markdown",
   "metadata": {},
   "source": [
    "## error_axes"
   ]
  },
  {
   "cell_type": "code",
   "execution_count": null,
   "metadata": {},
   "outputs": [],
   "source": [
    "for axis_labels in (\n",
    "    (-1, 0),\n",
    "    (1, None),\n",
    "    (2, np.nan),\n",
    "    (3, np.nan, np.nan),\n",
    "    (\"a\", \"b\", \"\"),\n",
    "    (\"c\", \"c\", \"d\"),\n",
    "):\n",
    "\n",
    "    print(\"=\" * 80)\n",
    "\n",
    "    dataframe = pd.DataFrame(0, index=axis_labels, columns=axis_labels)\n",
    "\n",
    "    print(dataframe)\n",
    "\n",
    "    try:\n",
    "\n",
    "        kraft.dataframe.error_axes(dataframe)\n",
    "\n",
    "    except (AssertionError, TypeError) as error:\n",
    "\n",
    "        print(error)"
   ]
  },
  {
   "cell_type": "markdown",
   "metadata": {},
   "source": [
    "## sync_axis"
   ]
  },
  {
   "cell_type": "code",
   "execution_count": null,
   "metadata": {},
   "outputs": [],
   "source": [
    "dataframe0 = pd.DataFrame(0, index=(-1, 0, 8), columns=(\"a\", \"b\", \"k\"))\n",
    "\n",
    "dataframe1 = pd.DataFrame(1, index=(0, 1, 8), columns=(\"b\", \"c\", \"k\"))\n",
    "\n",
    "dataframe2 = pd.DataFrame(2, index=(1, 2, 8), columns=(\"c\", \"d\", \"k\"))\n",
    "\n",
    "for axis in (0, 1):\n",
    "\n",
    "    for function in (\"union\", \"intersection\"):\n",
    "\n",
    "        print(\"=\" * 80)\n",
    "\n",
    "        print(axis, function)\n",
    "\n",
    "        print(\n",
    "            kraft.dataframe.sync_axis(\n",
    "                (dataframe0, dataframe1, dataframe2), axis, function\n",
    "            )\n",
    "        )"
   ]
  },
  {
   "cell_type": "markdown",
   "metadata": {},
   "source": [
    "## drop_axis_label"
   ]
  },
  {
   "cell_type": "code",
   "execution_count": null,
   "metadata": {},
   "outputs": [],
   "source": [
    "dataframe = pd.DataFrame(np.random.randint(0, high=3, size=(10, 10)))\n",
    "\n",
    "dataframe.iloc[0, :] = None\n",
    "\n",
    "dataframe.iloc[1, :5] = None\n",
    "\n",
    "dataframe.iloc[:, -1] = None\n",
    "\n",
    "dataframe.iloc[-5:, -2] = None\n",
    "\n",
    "print(dataframe)\n",
    "\n",
    "for axis in (0, 1):\n",
    "\n",
    "    for min_good_value in (None, 4, 5):\n",
    "\n",
    "        for min_good_unique_value in (None, 3):\n",
    "\n",
    "            if min_good_value is None and min_good_unique_value is None:\n",
    "\n",
    "                continue\n",
    "\n",
    "            print(\"=\" * 80)\n",
    "\n",
    "            print(axis, min_good_value, min_good_unique_value)\n",
    "\n",
    "            print(\n",
    "                kraft.dataframe.drop_axis_label(\n",
    "                    dataframe,\n",
    "                    axis,\n",
    "                    min_good_value=min_good_value,\n",
    "                    min_good_unique_value=min_good_unique_value,\n",
    "                )\n",
    "            )"
   ]
  },
  {
   "cell_type": "markdown",
   "metadata": {},
   "source": [
    "## drop_axes_label"
   ]
  },
  {
   "cell_type": "code",
   "execution_count": null,
   "metadata": {},
   "outputs": [],
   "source": [
    "dataframe = pd.DataFrame(np.random.randint(0, high=3, size=(10, 10)))\n",
    "\n",
    "for i in range(0, dataframe.shape[0]):\n",
    "\n",
    "    dataframe.iloc[i, :i] = None\n",
    "\n",
    "print(dataframe)\n",
    "\n",
    "for min_good_value in (None, 4, 5):\n",
    "\n",
    "    for min_good_unique_value in (None, 3):\n",
    "\n",
    "        if min_good_value is None and min_good_unique_value is None:\n",
    "\n",
    "            continue\n",
    "\n",
    "        for axis in (0, 1):\n",
    "\n",
    "            print(\"=\" * 80)\n",
    "\n",
    "            print(axis, min_good_value, min_good_unique_value)\n",
    "\n",
    "            print(\n",
    "                kraft.dataframe.drop_axis_label(\n",
    "                    dataframe,\n",
    "                    axis,\n",
    "                    min_good_value=min_good_value,\n",
    "                    min_good_unique_value=min_good_unique_value,\n",
    "                )\n",
    "            )"
   ]
  },
  {
   "cell_type": "markdown",
   "metadata": {},
   "source": [
    "## pivot"
   ]
  },
  {
   "cell_type": "code",
   "execution_count": null,
   "metadata": {},
   "outputs": [],
   "source": [
    "dataframe = pd.DataFrame(\n",
    "    (\n",
    "        (\"a0\", \"b0\", 0),\n",
    "        (\"a0\", \"b1\", 1),\n",
    "        (\"a0\", \"b2\", 2),\n",
    "        (\"a1\", \"b0\", 3),\n",
    "        (\"a1\", \"b1\", 4),\n",
    "        (\"a1\", \"b2\", 5),\n",
    "        (\"a2\", \"b2\", -10),\n",
    "        (\"a2\", \"b2\", 10),\n",
    "    )\n",
    ")\n",
    "\n",
    "kraft.dataframe.pivot(dataframe, 0, 1, 2, min)"
   ]
  },
  {
   "cell_type": "markdown",
   "metadata": {},
   "source": [
    "## normalize"
   ]
  },
  {
   "cell_type": "code",
   "execution_count": null,
   "metadata": {},
   "outputs": [],
   "source": [
    "dataframe = pd.DataFrame(((0, 1, 2), (0.1, 10, 20)))\n",
    "\n",
    "for axis in (None, 0, 1):\n",
    "\n",
    "    for method in (\"-0-\", \"0-1\", \"sum\", \"rank\"):\n",
    "\n",
    "        print(\"=\" * 80)\n",
    "\n",
    "        print(axis, method)\n",
    "\n",
    "        print(kraft.dataframe.normalize(dataframe, axis, method))"
   ]
  },
  {
   "cell_type": "markdown",
   "metadata": {},
   "source": [
    "## sample"
   ]
  },
  {
   "cell_type": "markdown",
   "metadata": {},
   "source": [
    "## summarize"
   ]
  },
  {
   "cell_type": "code",
   "execution_count": null,
   "metadata": {},
   "outputs": [],
   "source": [
    "for size in (\n",
    "    (3, 3),\n",
    "    (10, 10),\n",
    "    (100, 100),\n",
    "):\n",
    "\n",
    "    matrix = np.random.normal(size=size)\n",
    "\n",
    "    matrix[::2, ::4] = np.nan\n",
    "\n",
    "    dataframe = pd.DataFrame(\n",
    "        matrix,\n",
    "        index=pd.Index(\n",
    "            (\"Index{}\".format(i) for i in range(matrix.shape[0])), name=\"Index\",\n",
    "        ),\n",
    "        columns=pd.Index(\n",
    "            (\"Column{}\".format(i) for i in range(matrix.shape[1])), name=\"Column\",\n",
    "        ),\n",
    "    )\n",
    "\n",
    "    kraft.dataframe.summarize(dataframe)"
   ]
  },
  {
   "cell_type": "markdown",
   "metadata": {},
   "source": [
    "## separate_type"
   ]
  },
  {
   "cell_type": "code",
   "execution_count": null,
   "metadata": {},
   "outputs": [],
   "source": [
    "n_row_per_type = 1\n",
    "\n",
    "n_column = 8\n",
    "\n",
    "continuous = pd.DataFrame(\n",
    "    data=np.random.normal(size=(n_row_per_type, n_column)),\n",
    "    index=pd.Index(\n",
    "        data=(\"Continuous {}\".format(i) for i in range(n_row_per_type)),\n",
    "        name=\"Continuous\",\n",
    "    ),\n",
    ")\n",
    "\n",
    "continuous.iloc[0, 0] = np.nan\n",
    "\n",
    "categorical = pd.DataFrame(\n",
    "    data=np.random.randint(3, size=(n_row_per_type, n_column)),\n",
    "    index=pd.Index(\n",
    "        data=(\"Categorical {}\".format(i) for i in range(n_row_per_type)),\n",
    "        name=\"Categorical\",\n",
    "    ),\n",
    ")\n",
    "\n",
    "categorical.iloc[0, 1] = np.nan\n",
    "\n",
    "binary = pd.DataFrame(\n",
    "    data=np.random.randint(2, size=(n_row_per_type, n_column)),\n",
    "    index=pd.Index(\n",
    "        data=(\"Binary {}\".format(i) for i in range(n_row_per_type)), name=\"Binary\",\n",
    "    ),\n",
    ")\n",
    "\n",
    "binary.iloc[0, 2] = np.nan\n",
    "\n",
    "dataframe = pd.concat((continuous, categorical, binary))\n",
    "\n",
    "dataframe.index.name = \"Index\"\n",
    "\n",
    "dataframe"
   ]
  },
  {
   "cell_type": "code",
   "execution_count": null,
   "metadata": {},
   "outputs": [],
   "source": [
    "continuous, binary = kraft.separate_type(dataframe)"
   ]
  },
  {
   "cell_type": "code",
   "execution_count": null,
   "metadata": {},
   "outputs": [],
   "source": [
    "continuous"
   ]
  },
  {
   "cell_type": "code",
   "execution_count": null,
   "metadata": {},
   "outputs": [],
   "source": [
    "binary"
   ]
  }
 ],
 "metadata": {
  "kernelspec": {
   "display_name": "Python 3",
   "language": "python",
   "name": "python3"
  },
  "language_info": {
   "codemirror_mode": {
    "name": "ipython",
    "version": 3
   },
   "file_extension": ".py",
   "mimetype": "text/x-python",
   "name": "python",
   "nbconvert_exporter": "python",
   "pygments_lexer": "ipython3",
   "version": "3.7.6"
  }
 },
 "nbformat": 4,
 "nbformat_minor": 4
}
