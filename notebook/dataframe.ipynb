{
 "cells": [
  {
   "cell_type": "code",
   "execution_count": null,
   "metadata": {},
   "outputs": [],
   "source": [
    "%load_ext autoreload\n",
    "%autoreload 2"
   ]
  },
  {
   "cell_type": "code",
   "execution_count": null,
   "metadata": {
    "ExecuteTime": {
     "end_time": "2018-05-15T09:28:55.668422Z",
     "start_time": "2018-05-15T09:28:55.428950Z"
    }
   },
   "outputs": [],
   "source": [
    "import numpy as np\n",
    "import pandas as pd\n",
    "\n",
    "import kraft"
   ]
  },
  {
   "cell_type": "markdown",
   "metadata": {},
   "source": [
    "## error_axes"
   ]
  },
  {
   "cell_type": "code",
   "execution_count": null,
   "metadata": {},
   "outputs": [],
   "source": [
    "for labels in (\n",
    "    (-1, 0),\n",
    "    (1, None),\n",
    "    (2, np.nan),\n",
    "    (3, np.nan, np.nan),\n",
    "    (\"a\", \"b\", \"\"),\n",
    "    (\"c\", \"c\", \"d\"),\n",
    "):\n",
    "\n",
    "    print(\"=\" * 80)\n",
    "\n",
    "    dataframe = pd.DataFrame(0, index=labels, columns=labels)\n",
    "\n",
    "    dataframe.index.name = \"Axis 0\"\n",
    "\n",
    "    dataframe.columns.name = \"Axis 1\"\n",
    "\n",
    "    print(dataframe)\n",
    "\n",
    "    try:\n",
    "\n",
    "        kraft.dataframe.error_axes(dataframe)\n",
    "\n",
    "    except (AssertionError, TypeError) as error:\n",
    "\n",
    "        print(error)"
   ]
  },
  {
   "cell_type": "markdown",
   "metadata": {},
   "source": [
    "## drop_axis_label"
   ]
  },
  {
   "cell_type": "code",
   "execution_count": null,
   "metadata": {},
   "outputs": [],
   "source": [
    "dataframe = pd.DataFrame(np.random.randint(0, high=4, size=(10, 10)))\n",
    "\n",
    "dataframe.index.name = \"Axis 0\"\n",
    "\n",
    "dataframe.columns.name = \"Axis 1\"\n",
    "\n",
    "dataframe.iloc[0, :] = None\n",
    "\n",
    "dataframe.iloc[1, :5] = None\n",
    "\n",
    "dataframe.iloc[:, -1] = None\n",
    "\n",
    "dataframe.iloc[-5:, -2] = None\n",
    "\n",
    "print(dataframe)\n",
    "\n",
    "for axis in (0, 1):\n",
    "\n",
    "    for min_good_value in (None, 4, 5):\n",
    "\n",
    "        for min_good_unique_value in (None, 4):\n",
    "\n",
    "            if min_good_value is None and min_good_unique_value is None:\n",
    "\n",
    "                continue\n",
    "\n",
    "            print(\"=\" * 80)\n",
    "\n",
    "            print(axis, min_good_value, min_good_unique_value)\n",
    "\n",
    "            print(\n",
    "                kraft.dataframe.drop_axis_label(\n",
    "                    dataframe,\n",
    "                    axis,\n",
    "                    min_good_value=min_good_value,\n",
    "                    min_good_unique_value=min_good_unique_value,\n",
    "                )\n",
    "            )"
   ]
  },
  {
   "cell_type": "code",
   "execution_count": null,
   "metadata": {},
   "outputs": [],
   "source": [
    "dataframe = pd.DataFrame(np.full((8, 8), 0))\n",
    "\n",
    "dataframe.index.name = \"Axis 0\"\n",
    "\n",
    "dataframe.columns.name = \"Axis 1\"\n",
    "\n",
    "print(dataframe)\n",
    "\n",
    "for axis in (0, 1):\n",
    "\n",
    "    print(\"=\" * 80)\n",
    "\n",
    "    print(axis)\n",
    "\n",
    "    print(\n",
    "        kraft.dataframe.drop_axis_label(\n",
    "            dataframe, axis, min_good_value=0, min_good_unique_value=0,\n",
    "        )\n",
    "    )"
   ]
  },
  {
   "cell_type": "markdown",
   "metadata": {},
   "source": [
    "## drop_axes_label"
   ]
  },
  {
   "cell_type": "code",
   "execution_count": null,
   "metadata": {},
   "outputs": [],
   "source": [
    "dataframe = pd.DataFrame(np.random.randint(0, high=4, size=(10, 10)))\n",
    "\n",
    "dataframe.index.name = \"Axis 0\"\n",
    "\n",
    "dataframe.columns.name = \"Axis 1\"\n",
    "\n",
    "for i in range(dataframe.shape[0]):\n",
    "\n",
    "    dataframe.iloc[i, :i] = None\n",
    "\n",
    "print(dataframe)\n",
    "\n",
    "for min_good_value in (None, 4, 5):\n",
    "\n",
    "    for min_good_unique_value in (None, 3):\n",
    "\n",
    "        if min_good_value is None and min_good_unique_value is None:\n",
    "\n",
    "            continue\n",
    "\n",
    "        for axis in (0, 1):\n",
    "\n",
    "            print(\"=\" * 80)\n",
    "\n",
    "            print(axis, min_good_value, min_good_unique_value)\n",
    "\n",
    "            print(\n",
    "                kraft.dataframe.drop_axis_label(\n",
    "                    dataframe,\n",
    "                    axis,\n",
    "                    min_good_value=min_good_value,\n",
    "                    min_good_unique_value=min_good_unique_value,\n",
    "                )\n",
    "            )"
   ]
  },
  {
   "cell_type": "code",
   "execution_count": null,
   "metadata": {},
   "outputs": [],
   "source": [
    "dataframe = pd.DataFrame(np.full((8, 8), 0))\n",
    "\n",
    "dataframe.index.name = \"Axis 0\"\n",
    "\n",
    "dataframe.columns.name = \"Axis 1\"\n",
    "\n",
    "print(dataframe)\n",
    "\n",
    "for axis in (0, 1):\n",
    "\n",
    "    print(\"=\" * 80)\n",
    "\n",
    "    print(axis)\n",
    "\n",
    "    print(\n",
    "        kraft.dataframe.drop_axes_label(\n",
    "            dataframe, axis, min_good_value=0, min_good_unique_value=0,\n",
    "        )\n",
    "    )"
   ]
  },
  {
   "cell_type": "markdown",
   "metadata": {},
   "source": [
    "## sample"
   ]
  },
  {
   "cell_type": "code",
   "execution_count": null,
   "metadata": {},
   "outputs": [],
   "source": [
    "dataframe = pd.DataFrame(np.full((10, 10), 0))\n",
    "\n",
    "dataframe.index.name = \"Axis 0\"\n",
    "\n",
    "dataframe.columns.name = \"Axis 1\"\n",
    "\n",
    "print(dataframe)\n",
    "\n",
    "for axis_0_n, axis_1_n in ((1, None), (None, 1), (1, 1), (0.5, 0.5)):\n",
    "\n",
    "    print(\"=\" * 80)\n",
    "\n",
    "    axis_0_p = np.arange(dataframe.shape[0])\n",
    "\n",
    "    axis_0_p = axis_0_p / axis_0_p.sum()\n",
    "\n",
    "    axis_1_p = np.arange(dataframe.shape[1])\n",
    "\n",
    "    axis_1_p = axis_1_p / axis_1_p.sum()\n",
    "\n",
    "    print(\n",
    "        kraft.dataframe.sample(\n",
    "            dataframe,\n",
    "            axis_0_n,\n",
    "            axis_1_n,\n",
    "            axis_0_choice_keyword_arguments=dict(replace=False, p=axis_0_p),\n",
    "            axis_1_choice_keyword_arguments=dict(replace=False, p=axis_1_p),\n",
    "        )\n",
    "    )"
   ]
  },
  {
   "cell_type": "markdown",
   "metadata": {},
   "source": [
    "## sync_axis"
   ]
  },
  {
   "cell_type": "code",
   "execution_count": null,
   "metadata": {},
   "outputs": [],
   "source": [
    "dataframe_0 = pd.DataFrame(0, index=(-1, 0, 8), columns=(\"a\", \"b\", \"k\"))\n",
    "\n",
    "dataframe_1 = pd.DataFrame(1, index=(0, 1, 8), columns=(\"b\", \"c\", \"k\"))\n",
    "\n",
    "dataframe_2 = pd.DataFrame(2, index=(1, 2, 8), columns=(\"c\", \"d\", \"k\"))\n",
    "\n",
    "for dataframe in (dataframe_0, dataframe_1, dataframe_2):\n",
    "\n",
    "    print(\"=\" * 80)\n",
    "\n",
    "    dataframe.index.name = \"Axis 0\"\n",
    "\n",
    "    dataframe.columns.name = \"Axis 1\"\n",
    "\n",
    "    print(dataframe)\n",
    "\n",
    "for axis in (0, 1):\n",
    "\n",
    "    for function in (\"union\", \"intersection\"):\n",
    "\n",
    "        print(\"=\" * 80)\n",
    "\n",
    "        print(axis, function)\n",
    "\n",
    "        for dataframe in kraft.dataframe.sync_axis(\n",
    "            (dataframe_0, dataframe_1, dataframe_2), axis, function\n",
    "        ):\n",
    "\n",
    "            print(dataframe)"
   ]
  },
  {
   "cell_type": "markdown",
   "metadata": {},
   "source": [
    "## normalize"
   ]
  },
  {
   "cell_type": "code",
   "execution_count": null,
   "metadata": {},
   "outputs": [],
   "source": [
    "dataframe = pd.DataFrame(((np.nan,) * 4, (np.nan, 0, 1, 2), (np.nan, 0.1, 10, 20)))\n",
    "\n",
    "dataframe.index.name = \"Axis 0\"\n",
    "\n",
    "dataframe.columns.name = \"Axis 1\"\n",
    "\n",
    "print(dataframe)\n",
    "\n",
    "for axis in (None, 0, 1):\n",
    "\n",
    "    print(\"=\" * 80)\n",
    "\n",
    "    print(axis)\n",
    "\n",
    "    print(kraft.dataframe.normalize(dataframe, axis, \"rank\", rank_method=\"dense\"))"
   ]
  },
  {
   "cell_type": "markdown",
   "metadata": {},
   "source": [
    "## summarize"
   ]
  },
  {
   "cell_type": "code",
   "execution_count": null,
   "metadata": {},
   "outputs": [],
   "source": [
    "for size in (\n",
    "    (3, 3),\n",
    "    (1000, 1000),\n",
    "):\n",
    "\n",
    "    matrix = np.random.normal(size=size)\n",
    "\n",
    "    matrix[::2, ::4] = np.nan\n",
    "\n",
    "    dataframe = pd.DataFrame(\n",
    "        matrix,\n",
    "        index=(\"Label {}\".format(i) for i in range(matrix.shape[0])),\n",
    "        columns=(\"Label {}\".format(i) for i in range(matrix.shape[1])),\n",
    "    )\n",
    "\n",
    "    dataframe.index.name = \"Axis 0\"\n",
    "\n",
    "    dataframe.columns.name = \"Axis 1\"\n",
    "\n",
    "    kraft.dataframe.summarize(dataframe)"
   ]
  },
  {
   "cell_type": "markdown",
   "metadata": {},
   "source": [
    "## pivot"
   ]
  },
  {
   "cell_type": "code",
   "execution_count": null,
   "metadata": {},
   "outputs": [],
   "source": [
    "array = np.asarray(\n",
    "    (\n",
    "        (\"a0\", \"b0\", 0),\n",
    "        (\"a0\", \"b0\", -1),\n",
    "        (\"a0\", \"b1\", 1),\n",
    "        (\"a0\", \"b2\", 2),\n",
    "        (\"a0\", \"b3\", 3),\n",
    "        (\"a0\", \"b3\", None),\n",
    "        (\"a1\", \"b0\", 4),\n",
    "        (\"a1\", \"b1\", 5),\n",
    "        (\"a1\", \"b2\", 6),\n",
    "        (\"a1\", \"b3\", 7),\n",
    "        (\"a1\", \"b3\", np.nan),\n",
    "        (\"a2\", \"b0\", 8),\n",
    "        (\"a2\", \"b1\", 9),\n",
    "        (\"a2\", \"b2\", 10),\n",
    "        (\"a2\", \"b3\", 11),\n",
    "    )\n",
    ")\n",
    "\n",
    "\n",
    "def numpy_max(number_0, number_1):\n",
    "\n",
    "    return np.max((number_0, number_1))\n",
    "\n",
    "\n",
    "for function in (None, max, numpy_max):\n",
    "\n",
    "    print(\"=\" * 80)\n",
    "\n",
    "    print(function)\n",
    "\n",
    "    print(\n",
    "        kraft.dataframe.pivot(\n",
    "            array[:, 0], array[:, 1], array[:, 2].astype(float), function=function\n",
    "        )\n",
    "    )"
   ]
  }
 ],
 "metadata": {
  "kernelspec": {
   "display_name": "Python 3",
   "language": "python",
   "name": "python3"
  },
  "language_info": {
   "codemirror_mode": {
    "name": "ipython",
    "version": 3
   },
   "file_extension": ".py",
   "mimetype": "text/x-python",
   "name": "python",
   "nbconvert_exporter": "python",
   "pygments_lexer": "ipython3",
   "version": "3.7.8"
  }
 },
 "nbformat": 4,
 "nbformat_minor": 4
}
