{
 "cells": [
  {
   "cell_type": "code",
   "execution_count": null,
   "metadata": {},
   "outputs": [],
   "source": [
    "%load_ext autoreload\n",
    "%autoreload 2"
   ]
  },
  {
   "cell_type": "code",
   "execution_count": null,
   "metadata": {
    "ExecuteTime": {
     "end_time": "2018-05-15T09:28:55.668422Z",
     "start_time": "2018-05-15T09:28:55.428950Z"
    }
   },
   "outputs": [],
   "source": [
    "import numpy as np\n",
    "import pandas as pd\n",
    "\n",
    "import kraft"
   ]
  },
  {
   "cell_type": "markdown",
   "metadata": {},
   "source": [
    "## select_extreme_labels"
   ]
  },
  {
   "cell_type": "code",
   "execution_count": null,
   "metadata": {},
   "outputs": [],
   "source": [
    "n = 100\n",
    "\n",
    "series = pd.Series(\n",
    "    np.random.random_sample(size=n),\n",
    "    index=(\"Label {}\".format(i) for i in range(n)),\n",
    "    name=\"Name\",\n",
    ")\n",
    "\n",
    "for direction in (\"<\", \">\", \"<>\"):\n",
    "\n",
    "    for keyword_arguments in (\n",
    "        {\"n\": 1},\n",
    "        {\"n\": 2},\n",
    "        {\"fraction\": 0.01},\n",
    "        {\"fraction\": 0.5},\n",
    "        {\"standard_deviation\": 1},\n",
    "        {\"thresholds\": (0.1, 0.9)},\n",
    "    ):\n",
    "\n",
    "        print(\"=\" * 80)\n",
    "\n",
    "        print(direction, keyword_arguments)\n",
    "\n",
    "        kraft.series.select_extreme_labels(series, direction, **keyword_arguments)"
   ]
  },
  {
   "cell_type": "markdown",
   "metadata": {},
   "source": [
    "## binarize"
   ]
  },
  {
   "cell_type": "code",
   "execution_count": null,
   "metadata": {},
   "outputs": [],
   "source": [
    "series = pd.Series((0, 2, 1, None, np.nan, \"\", \"Aa\"), name=\"Value Name\")\n",
    "\n",
    "series.index.name = \"Axis Name\"\n",
    "\n",
    "print(series)\n",
    "\n",
    "kraft.series.binarize(series)"
   ]
  }
 ],
 "metadata": {
  "kernelspec": {
   "display_name": "Python 3",
   "language": "python",
   "name": "python3"
  },
  "language_info": {
   "codemirror_mode": {
    "name": "ipython",
    "version": 3
   },
   "file_extension": ".py",
   "mimetype": "text/x-python",
   "name": "python",
   "nbconvert_exporter": "python",
   "pygments_lexer": "ipython3",
   "version": "3.7.6"
  }
 },
 "nbformat": 4,
 "nbformat_minor": 4
}
