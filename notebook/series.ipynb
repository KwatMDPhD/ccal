{
 "cells": [
  {
   "cell_type": "code",
   "execution_count": null,
   "metadata": {},
   "outputs": [],
   "source": [
    "%load_ext autoreload\n",
    "%autoreload 2"
   ]
  },
  {
   "cell_type": "code",
   "execution_count": null,
   "metadata": {
    "ExecuteTime": {
     "end_time": "2018-05-15T09:28:55.668422Z",
     "start_time": "2018-05-15T09:28:55.428950Z"
    }
   },
   "outputs": [],
   "source": [
    "import numpy as np\n",
    "import pandas as pd\n",
    "\n",
    "import kraft"
   ]
  },
  {
   "cell_type": "markdown",
   "metadata": {},
   "source": [
    "## get_extreme_labels"
   ]
  },
  {
   "cell_type": "code",
   "execution_count": null,
   "metadata": {},
   "outputs": [],
   "source": [
    "n = 100\n",
    "\n",
    "series = pd.Series(\n",
    "    np.random.normal(size=n),\n",
    "    index=pd.Index((\"Label {}\".format(i) for i in range(n)), name=\"Axis\"),\n",
    "    name=\"Normal\",\n",
    ")\n",
    "\n",
    "for direction in (\"<\", \">\", \"<>\"):\n",
    "\n",
    "    for keyword_arguments in (\n",
    "        {\"n\": 0.01},\n",
    "        {\"n\": 0.5},\n",
    "        {\"n\": 1},\n",
    "        {\"n\": 2},\n",
    "        {\"standard_deviation\": 1},\n",
    "        {\"low_and_high\": (-1, 1)},\n",
    "    ):\n",
    "\n",
    "        print(direction, keyword_arguments)\n",
    "\n",
    "        kraft.series.get_extreme_labels(series, direction, **keyword_arguments)"
   ]
  },
  {
   "cell_type": "markdown",
   "metadata": {},
   "source": [
    "## normalize"
   ]
  },
  {
   "cell_type": "code",
   "execution_count": null,
   "metadata": {},
   "outputs": [],
   "source": [
    "vector = (np.nan, -1, -1, 0, 0, 1, 1, np.nan)\n",
    "\n",
    "vector = pd.Series(\n",
    "    vector,\n",
    "    index=pd.Index((\"Label {}\".format(i) for i in range(len(vector))), name=\"Axis\"),\n",
    "    name=\"Number\",\n",
    ")\n",
    "\n",
    "kraft.series.normalize(vector, \"rank\", rank_method=\"dense\")"
   ]
  },
  {
   "cell_type": "markdown",
   "metadata": {},
   "source": [
    "## binarize"
   ]
  },
  {
   "cell_type": "code",
   "execution_count": null,
   "metadata": {},
   "outputs": [],
   "source": [
    "objects = (0, 2, 1, None, np.nan, \"\", \"Aa\")\n",
    "\n",
    "series = pd.Series(\n",
    "    objects,\n",
    "    index=pd.Index((\"Label {}\".format(i) for i in range(len(objects))), name=\"Axis\"),\n",
    "    name=\"Object\",\n",
    ")\n",
    "\n",
    "print(series)\n",
    "\n",
    "kraft.series.binarize(series)"
   ]
  }
 ],
 "metadata": {
  "kernelspec": {
   "display_name": "Python 3",
   "language": "python",
   "name": "python3"
  },
  "language_info": {
   "codemirror_mode": {
    "name": "ipython",
    "version": 3
   },
   "file_extension": ".py",
   "mimetype": "text/x-python",
   "name": "python",
   "nbconvert_exporter": "python",
   "pygments_lexer": "ipython3",
   "version": "3.7.6"
  }
 },
 "nbformat": 4,
 "nbformat_minor": 4
}
