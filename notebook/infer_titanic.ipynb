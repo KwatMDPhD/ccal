{
 "cells": [
  {
   "cell_type": "code",
   "execution_count": null,
   "metadata": {},
   "outputs": [],
   "source": [
    "%load_ext autoreload\n",
    "%autoreload 2"
   ]
  },
  {
   "cell_type": "code",
   "execution_count": null,
   "metadata": {},
   "outputs": [],
   "source": [
    "import plotly"
   ]
  },
  {
   "cell_type": "code",
   "execution_count": null,
   "metadata": {},
   "outputs": [],
   "source": [
    "plotly.offline.init_notebook_mode(connected=True)"
   ]
  },
  {
   "cell_type": "code",
   "execution_count": null,
   "metadata": {},
   "outputs": [],
   "source": [
    "import pandas as pd"
   ]
  },
  {
   "cell_type": "code",
   "execution_count": null,
   "metadata": {
    "ExecuteTime": {
     "end_time": "2018-05-15T09:36:28.226979Z",
     "start_time": "2018-05-15T09:36:27.718823Z"
    }
   },
   "outputs": [],
   "source": [
    "dataframe = pd.read_csv(\"titanic.tsv\", sep=\"\\t\", index_col=0)\n",
    "\n",
    "dataframe = dataframe[[\"sex\", \"age\", \"fare\", \"survived\"]].dropna()"
   ]
  },
  {
   "cell_type": "code",
   "execution_count": null,
   "metadata": {},
   "outputs": [],
   "source": [
    "import numpy as np"
   ]
  },
  {
   "cell_type": "code",
   "execution_count": null,
   "metadata": {},
   "outputs": [],
   "source": [
    "import kraft"
   ]
  },
  {
   "cell_type": "code",
   "execution_count": null,
   "metadata": {
    "ExecuteTime": {
     "end_time": "2018-05-15T09:36:32.320959Z",
     "start_time": "2018-05-15T09:36:28.241752Z"
    }
   },
   "outputs": [],
   "source": [
    "g = (dataframe[\"sex\"] == \"male\").astype(int)\n",
    "\n",
    "g.name = \"Gender\"\n",
    "\n",
    "a = dataframe[\"age\"]\n",
    "\n",
    "a.name = \"Age\"\n",
    "\n",
    "f = pd.Series(\n",
    "    kraft.log_nd_array(\n",
    "        dataframe[\"fare\"].values, shift_as_necessary_to_achieve_min_before_logging=\"0<\"\n",
    "    ),\n",
    "    index=dataframe.index,\n",
    ")\n",
    "\n",
    "f.name = \"Fare\"\n",
    "\n",
    "s = dataframe[\"survived\"]\n",
    "\n",
    "s.name = \"Survival\"\n",
    "\n",
    "kraft.plot_histogram((g, a, f, s), title=\"Dimensions\")"
   ]
  },
  {
   "cell_type": "code",
   "execution_count": null,
   "metadata": {
    "ExecuteTime": {
     "end_time": "2018-05-15T09:36:32.555517Z",
     "start_time": "2018-05-15T09:36:32.355179Z"
    }
   },
   "outputs": [],
   "source": [
    "p_s1 = (s == 1).sum() / s.size\n",
    "\n",
    "p_s1"
   ]
  },
  {
   "cell_type": "code",
   "execution_count": null,
   "metadata": {},
   "outputs": [],
   "source": [
    "target_dimension_value = 1\n",
    "\n",
    "fraction_grid_extension = 1 / 8\n",
    "\n",
    "n_grid = 128"
   ]
  },
  {
   "cell_type": "code",
   "execution_count": null,
   "metadata": {
    "ExecuteTime": {
     "end_time": "2018-05-15T09:36:36.773395Z",
     "start_time": "2018-05-15T09:36:33.177534Z"
    }
   },
   "outputs": [],
   "source": [
    "observation_x_dimension = np.asarray((g, s)).T\n",
    "\n",
    "n_dimension = observation_x_dimension.shape[1]\n",
    "\n",
    "p_s1__g = kraft.infer(\n",
    "    observation_x_dimension,\n",
    "    target_dimension_value=target_dimension_value,\n",
    "    fraction_grid_extension=fraction_grid_extension,\n",
    "    n_grid=n_grid,\n",
    "    dimension_names=(g.name, s.name),\n",
    ")"
   ]
  },
  {
   "cell_type": "code",
   "execution_count": null,
   "metadata": {
    "ExecuteTime": {
     "end_time": "2018-05-15T09:36:36.773395Z",
     "start_time": "2018-05-15T09:36:33.177534Z"
    }
   },
   "outputs": [],
   "source": [
    "observation_x_dimension = np.asarray((a, s)).T\n",
    "\n",
    "n_dimension = observation_x_dimension.shape[1]\n",
    "\n",
    "p_s1__a = kraft.infer(\n",
    "    observation_x_dimension,\n",
    "    target_dimension_value=target_dimension_value,\n",
    "    fraction_grid_extension=fraction_grid_extension,\n",
    "    n_grid=n_grid,\n",
    "    dimension_names=(a.name, s.name),\n",
    ")"
   ]
  },
  {
   "cell_type": "code",
   "execution_count": null,
   "metadata": {
    "ExecuteTime": {
     "end_time": "2018-05-15T09:36:36.773395Z",
     "start_time": "2018-05-15T09:36:33.177534Z"
    }
   },
   "outputs": [],
   "source": [
    "observation_x_dimension = np.asarray((f, s)).T\n",
    "\n",
    "n_dimension = observation_x_dimension.shape[1]\n",
    "\n",
    "p_s1__f = kraft.infer(\n",
    "    observation_x_dimension,\n",
    "    target_dimension_value=target_dimension_value,\n",
    "    fraction_grid_extension=fraction_grid_extension,\n",
    "    n_grid=n_grid,\n",
    "    dimension_names=(f.name, s.name),\n",
    ")"
   ]
  },
  {
   "cell_type": "code",
   "execution_count": null,
   "metadata": {
    "ExecuteTime": {
     "end_time": "2018-05-15T09:37:04.471741Z",
     "start_time": "2018-05-15T09:36:36.797632Z"
    }
   },
   "outputs": [],
   "source": [
    "observation_x_dimension = np.asarray((a, f, s)).T\n",
    "\n",
    "n_dimension = observation_x_dimension.shape[1]\n",
    "\n",
    "p_s1__a_f = kraft.infer(\n",
    "    observation_x_dimension,\n",
    "    target_dimension_value=target_dimension_value,\n",
    "    fraction_grid_extension=fraction_grid_extension,\n",
    "    n_grid=n_grid,\n",
    "    dimension_names=(a.name, f.name, s.name),\n",
    ")"
   ]
  },
  {
   "cell_type": "code",
   "execution_count": null,
   "metadata": {
    "ExecuteTime": {
     "end_time": "2018-05-15T09:37:04.471741Z",
     "start_time": "2018-05-15T09:36:36.797632Z"
    }
   },
   "outputs": [],
   "source": [
    "observation_x_dimension = np.asarray((a, f, s)).T\n",
    "\n",
    "n_dimension = observation_x_dimension.shape[1]\n",
    "\n",
    "p_s1__a_f_naive = kraft.infer_assuming_independence(\n",
    "    observation_x_dimension,\n",
    "    target_dimension_value=target_dimension_value,\n",
    "    fraction_grid_extension=fraction_grid_extension,\n",
    "    n_grid=n_grid,\n",
    "    dimension_names=(a.name, f.name, s.name),\n",
    ")"
   ]
  },
  {
   "cell_type": "code",
   "execution_count": null,
   "metadata": {
    "ExecuteTime": {
     "end_time": "2018-05-15T09:37:20.370751Z",
     "start_time": "2018-05-15T09:37:04.477354Z"
    }
   },
   "outputs": [],
   "source": [
    "from sklearn.metrics import auc, roc_curve"
   ]
  },
  {
   "cell_type": "code",
   "execution_count": null,
   "metadata": {
    "ExecuteTime": {
     "end_time": "2018-05-15T09:37:20.370751Z",
     "start_time": "2018-05-15T09:37:04.477354Z"
    }
   },
   "outputs": [],
   "source": [
    "maths = (\n",
    "    \"P(S = 1 | G)\",\n",
    "    \"P(S = 1 | A)\",\n",
    "    \"P(S = 1 | F)\",\n",
    "    \"P(S = 1 | A, F)\",\n",
    "    \"P(S = 1 | A, F) (naive)\",\n",
    ")\n",
    "\n",
    "math_roc = {math: {} for math in maths}\n",
    "\n",
    "for math, p_s1__v, vs in zip(\n",
    "    maths,\n",
    "    (p_s1__g, p_s1__a, p_s1__f, p_s1__a_f, p_s1__a_f_naive),\n",
    "    ((g,), (a,), (f,), (a, f), (a, f)),\n",
    "):\n",
    "\n",
    "    p_s1__v = kraft.unmesh(*p_s1__v)[1]\n",
    "\n",
    "    p_s1__vv = np.full(s.size, np.nan)\n",
    "\n",
    "    for i in range(s.size):\n",
    "\n",
    "        index_grid_values = tuple(\n",
    "            [\n",
    "                np.argmin(\n",
    "                    np.absolute(np.linspace(v.min(), v.max(), num=n_grid) - v.values[i])\n",
    "                )\n",
    "            ]\n",
    "            for v in vs\n",
    "        )\n",
    "\n",
    "        p_s1__vv[i] = p_s1__v[index_grid_values]\n",
    "\n",
    "    fpr, tpr, t = roc_curve(s, kraft.normalize_nd_array(p_s1__vv, None, \"0-1\"))\n",
    "\n",
    "    math_roc[math][\"fpr\"] = fpr\n",
    "\n",
    "    math_roc[math][\"tpr\"] = tpr\n",
    "\n",
    "    auc_ = auc(fpr, tpr)\n",
    "\n",
    "    math_roc[math][\"auc\"] = auc_\n",
    "\n",
    "    n_permutation_for_roc = 100\n",
    "\n",
    "    permuting_aucs = np.full(n_permutation_for_roc, np.nan)\n",
    "\n",
    "    permuting_s = s.values.copy()\n",
    "\n",
    "    for i in range(n_permutation_for_roc):\n",
    "\n",
    "        np.random.shuffle(permuting_s)\n",
    "\n",
    "        permuting_fpr, permuting_tpr, permuting_t = roc_curve(permuting_s, p_s1__vv)\n",
    "\n",
    "        permuting_aucs[i] = auc(permuting_fpr, permuting_tpr)\n",
    "\n",
    "    math_roc[math][\"p-value\"] = kraft.compute_empirical_p_value(\n",
    "        auc_, permuting_aucs, \">\"\n",
    "    )"
   ]
  },
  {
   "cell_type": "code",
   "execution_count": null,
   "metadata": {
    "ExecuteTime": {
     "end_time": "2018-05-15T09:37:20.971630Z",
     "start_time": "2018-05-15T09:37:20.665810Z"
    }
   },
   "outputs": [],
   "source": [
    "# kraft.plot_bayesian_nomogram(\n",
    "#     s.values, 1, 0, n_grid, (p_s__g, p_s__a, p_s__f), (g.name, a.name, f.name)\n",
    "# )"
   ]
  },
  {
   "cell_type": "code",
   "execution_count": null,
   "metadata": {
    "ExecuteTime": {
     "end_time": "2018-05-15T09:37:20.654097Z",
     "start_time": "2018-05-15T09:37:20.375521Z"
    }
   },
   "outputs": [],
   "source": [
    "random_roc = np.linspace(0, 1, num=16)\n",
    "\n",
    "kraft.plot_and_save(\n",
    "    {\n",
    "        \"layout\": {\n",
    "            \"title\": {\"text\": \"ROC<br>{}\".format(\", \".join((g.name, a.name, f.name)))},\n",
    "            \"xaxis\": {\"title\": \"False Positive Rate\"},\n",
    "            \"yaxis\": {\"title\": \"True Positive Rate\"},\n",
    "        },\n",
    "        \"data\": [\n",
    "            {\n",
    "                \"type\": \"scatter\",\n",
    "                \"name\": \"Random\",\n",
    "                \"x\": random_roc,\n",
    "                \"y\": random_roc,\n",
    "                \"mode\": \"lines\",\n",
    "                \"marker\": {\"color\": \"#d8d8d8\"},\n",
    "            },\n",
    "            *(\n",
    "                {\n",
    "                    \"type\": \"scatter\",\n",
    "                    \"name\": \"{} | {:0.3f} | {:0.1e}\".format(\n",
    "                        math, math_roc[math][\"auc\"], math_roc[math][\"p-value\"]\n",
    "                    ),\n",
    "                    \"x\": math_roc[math][\"fpr\"],\n",
    "                    \"y\": math_roc[math][\"tpr\"],\n",
    "                    \"mode\": \"markers + lines\",\n",
    "                }\n",
    "                for math in maths\n",
    "            ),\n",
    "        ],\n",
    "    },\n",
    "    None,\n",
    ")"
   ]
  }
 ],
 "metadata": {
  "kernelspec": {
   "display_name": "Python 3",
   "language": "python",
   "name": "python3"
  },
  "language_info": {
   "codemirror_mode": {
    "name": "ipython",
    "version": 3
   },
   "file_extension": ".py",
   "mimetype": "text/x-python",
   "name": "python",
   "nbconvert_exporter": "python",
   "pygments_lexer": "ipython3",
   "version": "3.7.3"
  }
 },
 "nbformat": 4,
 "nbformat_minor": 2
}
