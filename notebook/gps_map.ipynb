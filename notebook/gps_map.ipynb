{
 "cells": [
  {
   "cell_type": "code",
   "execution_count": null,
   "metadata": {
    "ExecuteTime": {
     "end_time": "2018-05-07T09:08:44.219033Z",
     "start_time": "2018-05-07T09:08:44.174755Z"
    }
   },
   "outputs": [],
   "source": [
    "%load_ext autoreload\n",
    "%autoreload 2"
   ]
  },
  {
   "cell_type": "code",
   "execution_count": null,
   "metadata": {},
   "outputs": [],
   "source": [
    "import os\n",
    "import sys\n",
    "\n",
    "import numpy as np\n",
    "import pandas as pd\n",
    "import plotly as pl"
   ]
  },
  {
   "cell_type": "code",
   "execution_count": null,
   "metadata": {
    "ExecuteTime": {
     "end_time": "2018-05-07T09:08:44.839057Z",
     "start_time": "2018-05-07T09:08:44.223504Z"
    }
   },
   "outputs": [],
   "source": [
    "sys.path.insert(0, \"..\")\n",
    "\n",
    "import ccal\n",
    "\n",
    "np.random.random(20121020)\n",
    "\n",
    "pl.offline.init_notebook_mode(connected=True)"
   ]
  },
  {
   "cell_type": "code",
   "execution_count": null,
   "metadata": {
    "ExecuteTime": {
     "end_time": "2018-05-07T09:08:44.918287Z",
     "start_time": "2018-05-07T09:08:44.877580Z"
    }
   },
   "outputs": [],
   "source": [
    "w = pd.read_table(\"w.tsv\", index_col=0)\n",
    "\n",
    "w.columns.name = \"Factor\"\n",
    "\n",
    "h = pd.read_table(\"h.tsv\", index_col=0)\n",
    "\n",
    "h.columns.name = \"Sample\""
   ]
  },
  {
   "cell_type": "code",
   "execution_count": null,
   "metadata": {
    "ExecuteTime": {
     "end_time": "2018-05-07T09:09:18.942149Z",
     "start_time": "2018-05-07T09:08:47.406977Z"
    }
   },
   "outputs": [],
   "source": [
    "gps_map = ccal.GPSMap(w=w.T, h=h)"
   ]
  },
  {
   "cell_type": "code",
   "execution_count": null,
   "metadata": {
    "ExecuteTime": {
     "end_time": "2018-05-07T09:09:19.246526Z",
     "start_time": "2018-05-07T09:09:18.951264Z"
    }
   },
   "outputs": [],
   "source": [
    "for w_or_h in (\"w\", \"h\"):\n",
    "\n",
    "    gps_map.plot_gps_map(w_or_h)"
   ]
  },
  {
   "cell_type": "code",
   "execution_count": null,
   "metadata": {
    "ExecuteTime": {
     "end_time": "2018-05-07T09:09:22.949488Z",
     "start_time": "2018-05-07T09:09:19.263029Z"
    }
   },
   "outputs": [],
   "source": [
    "for w_or_h, elements in ((\"w\", w.index), (\"h\", h.columns)):\n",
    "\n",
    "    annotation_types = (\"continuous\", \"categorical\", \"binary\")\n",
    "\n",
    "    annotation_x_element = pd.DataFrame(\n",
    "        [\n",
    "            np.random.random_sample(elements.size),\n",
    "            np.random.randint(0, high=3, size=elements.size),\n",
    "            np.random.randint(0, high=2, size=elements.size),\n",
    "        ],\n",
    "        index=annotation_types,\n",
    "        columns=elements,\n",
    "    )\n",
    "\n",
    "    annotation_x_element.iloc[0, 0] = np.nan\n",
    "\n",
    "    annotation_x_element.iloc[1, 1] = np.nan\n",
    "\n",
    "    annotation_x_element.iloc[2, 2] = np.nan\n",
    "\n",
    "    annotation_x_element.iloc[:, 3] = np.nan\n",
    "\n",
    "    gps_map.plot_gps_map(\n",
    "        w_or_h,\n",
    "        annotation_x_element=annotation_x_element,\n",
    "        annotation_types=annotation_types,\n",
    "    )\n",
    "\n",
    "    for annotation_type, annotation in annotation_x_element.iterrows():\n",
    "\n",
    "        gps_map.plot_gps_map(\n",
    "            w_or_h,\n",
    "            annotation_x_element=annotation.to_frame().T,\n",
    "            annotation_types=(annotation_type,),\n",
    "            annotation_colorscale=ccal.make_colorscale(\n",
    "                colors=(\"pink\", \"yellow\", \"purple\"), plot=False\n",
    "            ),\n",
    "        )\n",
    "\n",
    "    annotation_x_element = pd.DataFrame(\n",
    "        [np.random.normal(size=elements.size)] * 3, columns=elements\n",
    "    )\n",
    "\n",
    "    gps_map.plot_gps_map(\n",
    "        w_or_h,\n",
    "        annotation_x_element=annotation_x_element,\n",
    "        annotation_std_maxs=(0.1, 1, 3),\n",
    "    )\n",
    "\n",
    "    gps_map.plot_gps_map(\n",
    "        w_or_h,\n",
    "        annotation_x_element=annotation_x_element.iloc[:1],\n",
    "        annotation_ranges=((0, 8),),\n",
    "    )"
   ]
  },
  {
   "cell_type": "code",
   "execution_count": null,
   "metadata": {},
   "outputs": [],
   "source": [
    "for w_or_h, element_labels in (\n",
    "    (\"w\", w.apply(np.argmax, axis=1).str[1:].astype(int)),\n",
    "    (\"h\", h.apply(np.argmax).str[1:].astype(int)),\n",
    "):\n",
    "\n",
    "    gps_map.set_element_labels(w_or_h, element_labels)\n",
    "\n",
    "    gps_map.plot_gps_map(w_or_h)"
   ]
  },
  {
   "cell_type": "code",
   "execution_count": null,
   "metadata": {},
   "outputs": [],
   "source": [
    "for w_or_h, w_or_h_matrix in ((\"w\", w.T), (\"h\", h)):\n",
    "\n",
    "    predicted_element_labels = gps_map.predict(w_or_h, w_or_h_matrix.iloc[:, :8])\n",
    "\n",
    "    print(predicted_element_labels)"
   ]
  },
  {
   "cell_type": "code",
   "execution_count": null,
   "metadata": {
    "ExecuteTime": {
     "end_time": "2018-05-07T09:11:27.808293Z",
     "start_time": "2018-05-07T09:10:17.612658Z"
    }
   },
   "outputs": [],
   "source": [
    "for w_or_h in (\"w\", \"h\"):\n",
    "\n",
    "    gps_map.anneal_node_and_element_positions(\n",
    "        w_or_h, n_iteration=64, initial_temperature=0.01\n",
    "    )\n",
    "\n",
    "    gps_map.plot_gps_map(w_or_h)"
   ]
  },
  {
   "cell_type": "code",
   "execution_count": null,
   "metadata": {
    "ExecuteTime": {
     "end_time": "2018-05-07T09:11:28.055466Z",
     "start_time": "2018-05-07T09:11:27.813895Z"
    }
   },
   "outputs": [],
   "source": [
    "h = pd.read_table(\"kras_gps_map/nmf_k9_h.tsv\", index_col=0)\n",
    "\n",
    "# https://github.com/UCSD-CCAL/onco_gps_paper_analysis/blob/master/code/8%20Define%20global%20cellular%20labels%20and%20make%20global%20Onco-GPS%20map.ipynb\n",
    "\n",
    "h = h.apply(lambda row: (row - row.mean()) / row.std(), axis=1)\n",
    "\n",
    "h = h.clip(lower=-3, upper=3)\n",
    "\n",
    "h = h.apply(lambda row: (row - row.min()) / (row.max() - row.min()), axis=1)"
   ]
  },
  {
   "cell_type": "code",
   "execution_count": null,
   "metadata": {
    "ExecuteTime": {
     "end_time": "2018-05-07T09:11:34.232723Z",
     "start_time": "2018-05-07T09:11:28.060604Z"
    }
   },
   "outputs": [],
   "source": [
    "# https://github.com/KwatME/gps_map/blob/e932c53e1d679a68c224cf62284fb9209235962f/onco_gps/GPSMap.py\n",
    "\n",
    "h = h.apply(lambda row: (row - row.mean()) / row.std(), axis=1)\n",
    "\n",
    "h = h.clip(lower=-3, upper=3)\n",
    "\n",
    "h = h.apply(lambda row: (row - row.min()) / (row.max() - row.min()), axis=1)\n",
    "\n",
    "# Euclidean distance is used instead in https://github.com/KwatME/gps_map/blob/e932c53e1d679a68c224cf62284fb9209235962f/onco_gps/GPSMap.py\n",
    "\n",
    "gps_map = ccal.GPSMap(h=h, h_pull_power=2.4, plot=False)"
   ]
  },
  {
   "cell_type": "code",
   "execution_count": null,
   "metadata": {
    "ExecuteTime": {
     "end_time": "2018-05-07T09:12:10.654231Z",
     "start_time": "2018-05-07T09:11:34.238395Z"
    }
   },
   "outputs": [],
   "source": [
    "h_element_labels = pd.read_table(\"kras_gps_map/hcc__k_x_h_column.tsv\", index_col=0).loc[\n",
    "    \"K15\"\n",
    "]\n",
    "\n",
    "gps_map.set_element_labels(\n",
    "    \"h\",\n",
    "    h_element_labels,\n",
    "    label_colors=(\n",
    "        \"#e74c3c\",\n",
    "        \"#ffd700\",\n",
    "        \"#4b0082\",\n",
    "        \"#993300\",\n",
    "        \"#4169e1\",\n",
    "        \"#90ee90\",\n",
    "        \"#f4bd60\",\n",
    "        \"#8b008b\",\n",
    "        \"#fa8072\",\n",
    "        \"#b0e0e6\",\n",
    "        \"#20d9ba\",\n",
    "        \"#da70d6\",\n",
    "        \"#d2691e\",\n",
    "        \"#dc143c\",\n",
    "        \"#2e8b57\",\n",
    "    ),\n",
    "    bandwidth_factor=5.6,\n",
    ")\n",
    "\n",
    "gps_map.plot_gps_map(\"h\")"
   ]
  },
  {
   "cell_type": "code",
   "execution_count": null,
   "metadata": {},
   "outputs": [],
   "source": [
    "predicted_element_labels = gps_map.predict(\"h\", h)\n",
    "\n",
    "predicted_element_labels"
   ]
  },
  {
   "cell_type": "code",
   "execution_count": null,
   "metadata": {},
   "outputs": [],
   "source": [
    "ccal.dump_gps_map(gps_map, \"gps_map.pickle.gz\")"
   ]
  },
  {
   "cell_type": "code",
   "execution_count": null,
   "metadata": {},
   "outputs": [],
   "source": [
    "gps_map = ccal.load_gps_map(\"gps_map.pickle.gz\")\n",
    "\n",
    "gps_map.plot_gps_map(\"h\")\n",
    "\n",
    "os.remove(\"gps_map.pickle.gz\")"
   ]
  }
 ],
 "metadata": {
  "kernelspec": {
   "display_name": "Python 3",
   "language": "python",
   "name": "python3"
  },
  "language_info": {
   "codemirror_mode": {
    "name": "ipython",
    "version": 3
   },
   "file_extension": ".py",
   "mimetype": "text/x-python",
   "name": "python",
   "nbconvert_exporter": "python",
   "pygments_lexer": "ipython3",
   "version": "3.6.7"
  }
 },
 "nbformat": 4,
 "nbformat_minor": 2
}
