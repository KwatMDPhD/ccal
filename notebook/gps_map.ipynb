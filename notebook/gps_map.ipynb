{
 "cells": [
  {
   "cell_type": "code",
   "execution_count": null,
   "metadata": {},
   "outputs": [],
   "source": [
    "%load_ext autoreload\n",
    "%autoreload 2"
   ]
  },
  {
   "cell_type": "code",
   "execution_count": null,
   "metadata": {},
   "outputs": [],
   "source": [
    "import plotly"
   ]
  },
  {
   "cell_type": "code",
   "execution_count": null,
   "metadata": {},
   "outputs": [],
   "source": [
    "plotly.offline.init_notebook_mode(connected=True)"
   ]
  },
  {
   "cell_type": "code",
   "execution_count": null,
   "metadata": {},
   "outputs": [],
   "source": [
    "import pandas as pd"
   ]
  },
  {
   "cell_type": "code",
   "execution_count": null,
   "metadata": {
    "ExecuteTime": {
     "end_time": "2018-05-07T09:08:44.918287Z",
     "start_time": "2018-05-07T09:08:44.877580Z"
    }
   },
   "outputs": [],
   "source": [
    "w = pd.read_csv(\"w.tsv\", sep=\"\\t\", index_col=0)\n",
    "\n",
    "w.columns.name = \"Factor\"\n",
    "\n",
    "h = pd.read_csv(\"h.tsv\", sep=\"\\t\", index_col=0)\n",
    "\n",
    "h.columns.name = \"Sample\""
   ]
  },
  {
   "cell_type": "code",
   "execution_count": null,
   "metadata": {
    "ExecuteTime": {
     "end_time": "2018-05-07T09:08:44.839057Z",
     "start_time": "2018-05-07T09:08:44.223504Z"
    }
   },
   "outputs": [],
   "source": [
    "import kraft"
   ]
  },
  {
   "cell_type": "code",
   "execution_count": null,
   "metadata": {
    "ExecuteTime": {
     "end_time": "2018-05-07T09:09:18.942149Z",
     "start_time": "2018-05-07T09:08:47.406977Z"
    }
   },
   "outputs": [],
   "source": [
    "gps_map = kraft.GPSMap(w=w.T, h=h)"
   ]
  },
  {
   "cell_type": "code",
   "execution_count": null,
   "metadata": {},
   "outputs": [],
   "source": [
    "import os"
   ]
  },
  {
   "cell_type": "code",
   "execution_count": null,
   "metadata": {
    "ExecuteTime": {
     "end_time": "2018-05-07T09:09:19.246526Z",
     "start_time": "2018-05-07T09:09:18.951264Z"
    }
   },
   "outputs": [],
   "source": [
    "for w_or_h in (\"w\", \"h\"):\n",
    "\n",
    "    gps_map.plot(w_or_h)"
   ]
  },
  {
   "cell_type": "code",
   "execution_count": null,
   "metadata": {},
   "outputs": [],
   "source": [
    "import numpy as np"
   ]
  },
  {
   "cell_type": "code",
   "execution_count": null,
   "metadata": {
    "ExecuteTime": {
     "end_time": "2018-05-07T09:09:22.949488Z",
     "start_time": "2018-05-07T09:09:19.263029Z"
    }
   },
   "outputs": [],
   "source": [
    "for w_or_h, elements, element_x_dimension in (\n",
    "    (\"w\", gps_map.w_elements, gps_map.w_element_x_dimension),\n",
    "    (\"h\", gps_map.h_elements, gps_map.h_element_x_dimension),\n",
    "):\n",
    "\n",
    "    annotation_x_element = pd.DataFrame(\n",
    "        [\n",
    "            np.apply_along_axis(np.sum, 1, element_x_dimension).astype(int),\n",
    "            (np.apply_along_axis(np.sum, 1, element_x_dimension) * 10).astype(int),\n",
    "            np.apply_along_axis(np.sum, 1, element_x_dimension),\n",
    "        ],\n",
    "        index=(\"Binary\", \"Categorical\", \"Continuous\"),\n",
    "        columns=elements,\n",
    "    )\n",
    "\n",
    "    annotation_x_element.iloc[0, 0] = np.nan\n",
    "\n",
    "    annotation_x_element.iloc[1, 1] = np.nan\n",
    "\n",
    "    annotation_x_element.iloc[2, 2] = np.nan\n",
    "\n",
    "    annotation_x_element.iloc[:, 3] = np.nan\n",
    "\n",
    "    #     for (\n",
    "    #         _,\n",
    "    #         element_value,\n",
    "    #     ) in annotation_x_element.iterrows():\n",
    "\n",
    "    #         gps_map.plot(\n",
    "    #             w_or_h,\n",
    "    #             annotation_x_element=element_value.to_frame().T,\n",
    "    #         )\n",
    "\n",
    "    gps_map.plot(w_or_h, annotation_x_element=annotation_x_element)\n",
    "\n",
    "    gps_map.plot(\n",
    "        w_or_h,\n",
    "        annotation_x_element=annotation_x_element.iloc[[-1]],\n",
    "        annotation_std_maxs=(1,),\n",
    "    )\n",
    "\n",
    "    gps_map.plot(\n",
    "        w_or_h,\n",
    "        annotation_x_element=annotation_x_element.iloc[[-1]],\n",
    "        annotation_std_maxs=(10,),\n",
    "    )"
   ]
  },
  {
   "cell_type": "code",
   "execution_count": null,
   "metadata": {},
   "outputs": [],
   "source": [
    "for w_or_h, element_label in (\n",
    "    (\"w\", w.idxmax(axis=1).str[1:].astype(int)),\n",
    "    (\"h\", h.idxmax().str[1:].astype(int)),\n",
    "):\n",
    "\n",
    "    gps_map.set_element_label(w_or_h, element_label)\n",
    "\n",
    "    gps_map.plot(w_or_h)"
   ]
  },
  {
   "cell_type": "code",
   "execution_count": null,
   "metadata": {},
   "outputs": [],
   "source": [
    "for w_or_h, w_or_h_matrix in ((\"w\", w.T), (\"h\", h)):\n",
    "\n",
    "    print(gps_map.predict(w_or_h, w_or_h_matrix.iloc[:, :8]))"
   ]
  },
  {
   "cell_type": "code",
   "execution_count": null,
   "metadata": {
    "ExecuteTime": {
     "end_time": "2018-05-07T09:11:27.808293Z",
     "start_time": "2018-05-07T09:10:17.612658Z"
    }
   },
   "outputs": [],
   "source": [
    "for w_or_h in (\"w\", \"h\"):\n",
    "\n",
    "    gps_map.anneal(w_or_h, n_iteration=64, initial_temperature=0.01)\n",
    "\n",
    "    gps_map.plot(w_or_h)"
   ]
  },
  {
   "cell_type": "code",
   "execution_count": null,
   "metadata": {
    "ExecuteTime": {
     "end_time": "2018-05-07T09:11:28.055466Z",
     "start_time": "2018-05-07T09:11:27.813895Z"
    }
   },
   "outputs": [],
   "source": [
    "h = pd.read_csv(\"kras_gps_map.h.tsv\", sep=\"\\t\", index_col=0)\n",
    "\n",
    "h = h.apply(lambda row: (row - row.mean()) / row.std(), axis=1)\n",
    "\n",
    "h = h.clip(lower=-3, upper=3)\n",
    "\n",
    "h = h.apply(lambda row: (row - row.min()) / (row.max() - row.min()), axis=1)\n",
    "\n",
    "gps_map = kraft.GPSMap(h=h, h_pull_power=2.4, plot=False)"
   ]
  },
  {
   "cell_type": "code",
   "execution_count": null,
   "metadata": {
    "ExecuteTime": {
     "end_time": "2018-05-07T09:12:10.654231Z",
     "start_time": "2018-05-07T09:11:34.238395Z"
    }
   },
   "outputs": [],
   "source": [
    "h_element_label = pd.read_csv(\n",
    "    \"kras_gps_map.k_x_h_element.tsv\", sep=\"\\t\", index_col=0\n",
    ").loc[\"K15\"]\n",
    "\n",
    "gps_map.set_element_label(\n",
    "    \"h\",\n",
    "    h_element_label,\n",
    "    label_colors=(\n",
    "        \"#e74c3c\",\n",
    "        \"#ffd700\",\n",
    "        \"#4b0082\",\n",
    "        \"#993300\",\n",
    "        \"#4169e1\",\n",
    "        \"#90ee90\",\n",
    "        \"#f4bd60\",\n",
    "        \"#8b008b\",\n",
    "        \"#fa8072\",\n",
    "        \"#b0e0e6\",\n",
    "        \"#20d9ba\",\n",
    "        \"#da70d6\",\n",
    "        \"#d2691e\",\n",
    "        \"#dc143c\",\n",
    "        \"#2e8b57\",\n",
    "    ),\n",
    ")\n",
    "\n",
    "gps_map.plot(\"h\")"
   ]
  },
  {
   "cell_type": "code",
   "execution_count": null,
   "metadata": {},
   "outputs": [],
   "source": [
    "gps_map.predict(\"h\", h)"
   ]
  },
  {
   "cell_type": "code",
   "execution_count": null,
   "metadata": {},
   "outputs": [],
   "source": [
    "gps_map_path = os.path.join(kraft.normalize_path(\"~\"), \"gps_map.pickle.gz\")\n",
    "\n",
    "kraft.write_gps_map(gps_map, gps_map_path)"
   ]
  },
  {
   "cell_type": "code",
   "execution_count": null,
   "metadata": {},
   "outputs": [],
   "source": [
    "gps_map = kraft.read_gps_map(gps_map_path)\n",
    "\n",
    "gps_map.plot(\"h\")"
   ]
  }
 ],
 "metadata": {
  "kernelspec": {
   "display_name": "Python 3",
   "language": "python",
   "name": "python3"
  },
  "language_info": {
   "codemirror_mode": {
    "name": "ipython",
    "version": 3
   },
   "file_extension": ".py",
   "mimetype": "text/x-python",
   "name": "python",
   "nbconvert_exporter": "python",
   "pygments_lexer": "ipython3",
   "version": "3.7.3"
  }
 },
 "nbformat": 4,
 "nbformat_minor": 2
}
