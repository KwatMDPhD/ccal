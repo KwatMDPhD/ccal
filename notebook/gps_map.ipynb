{
 "cells": [
  {
   "cell_type": "code",
   "execution_count": null,
   "metadata": {},
   "outputs": [],
   "source": [
    "# cleaning...%load_ext autoreload\n",
    "# cleaning...%autoreload 2"
   ]
  },
  {
   "cell_type": "code",
   "execution_count": null,
   "metadata": {
    "ExecuteTime": {
     "end_time": "2018-05-07T09:08:44.839057Z",
     "start_time": "2018-05-07T09:08:44.223504Z"
    }
   },
   "outputs": [],
   "source": [
    "import os\n",
    "\n",
    "import numpy as np\n",
    "import pandas as pd\n",
    "\n",
    "import kraft"
   ]
  },
  {
   "cell_type": "code",
   "execution_count": null,
   "metadata": {
    "ExecuteTime": {
     "end_time": "2018-05-07T09:08:44.918287Z",
     "start_time": "2018-05-07T09:08:44.877580Z"
    }
   },
   "outputs": [],
   "source": [
    "element_x_node = pd.read_csv(\"w.tsv\", sep=\"\\t\", index_col=0)\n",
    "\n",
    "element_x_node.columns.name = \"Factor\""
   ]
  },
  {
   "cell_type": "code",
   "execution_count": null,
   "metadata": {
    "ExecuteTime": {
     "end_time": "2018-05-07T09:09:18.942149Z",
     "start_time": "2018-05-07T09:08:47.406977Z"
    }
   },
   "outputs": [],
   "source": [
    "gps_map = kraft.GPSMap(element_x_node)"
   ]
  },
  {
   "cell_type": "code",
   "execution_count": null,
   "metadata": {
    "ExecuteTime": {
     "end_time": "2018-05-07T09:09:18.942149Z",
     "start_time": "2018-05-07T09:08:47.406977Z"
    }
   },
   "outputs": [],
   "source": [
    "gps_map.plot()"
   ]
  },
  {
   "cell_type": "code",
   "execution_count": null,
   "metadata": {},
   "outputs": [],
   "source": [
    "gps_map.plot(elements_to_highlight=(\"Feature 0\", \"Feature 1\"))"
   ]
  },
  {
   "cell_type": "code",
   "execution_count": null,
   "metadata": {},
   "outputs": [],
   "source": [
    "element_value = gps_map.element_x_dimension.sum(axis=1)\n",
    "\n",
    "element_value.name = \"Element Value\"\n",
    "\n",
    "gps_map.plot(element_value=element_value)\n",
    "\n",
    "element_value[::2] = np.nan\n",
    "\n",
    "gps_map.plot(element_value=element_value)"
   ]
  },
  {
   "cell_type": "code",
   "execution_count": null,
   "metadata": {},
   "outputs": [],
   "source": [
    "gps_map.set_element_label(\n",
    "    pd.Series(\n",
    "        gps_map.element_x_dimension.values.argmax(axis=1),\n",
    "        index=element_x_node.index,\n",
    "        name=\"Element Label\",\n",
    "    )\n",
    ")\n",
    "\n",
    "gps_map.plot()"
   ]
  },
  {
   "cell_type": "code",
   "execution_count": null,
   "metadata": {
    "ExecuteTime": {
     "end_time": "2018-05-07T09:09:22.949488Z",
     "start_time": "2018-05-07T09:09:19.263029Z"
    }
   },
   "outputs": [],
   "source": [
    "gps_map.plot(element_value=element_value)"
   ]
  },
  {
   "cell_type": "code",
   "execution_count": null,
   "metadata": {},
   "outputs": [],
   "source": [
    "gps_map.predict(\n",
    "    gps_map.element_x_node.iloc[:8, :], element_trace={\"marker\": {\"size\": 32}}\n",
    ")"
   ]
  },
  {
   "cell_type": "code",
   "execution_count": null,
   "metadata": {
    "ExecuteTime": {
     "end_time": "2018-05-07T09:11:28.055466Z",
     "start_time": "2018-05-07T09:11:27.813895Z"
    }
   },
   "outputs": [],
   "source": [
    "h = pd.read_csv(\"kras_gps_map.h.tsv\", sep=\"\\t\", index_col=0)\n",
    "\n",
    "h.columns.name = \"Cell Line\"\n",
    "\n",
    "h = kraft.normalize_dataframe(\n",
    "    kraft.normalize_dataframe(h, 1, \"-0-\").clip(lower=-3, upper=3), 1, \"0-1\"\n",
    ")\n",
    "\n",
    "gps_map = kraft.GPSMap(h.T, pull_power=2)\n",
    "\n",
    "gps_map.set_element_label(\n",
    "    pd.read_csv(\"kras_gps_map.k_x_h_element.tsv\", sep=\"\\t\", index_col=0).loc[\"K15\"]\n",
    ")\n",
    "\n",
    "gps_map.plot()"
   ]
  },
  {
   "cell_type": "code",
   "execution_count": null,
   "metadata": {},
   "outputs": [],
   "source": [
    "h_ = h.copy()\n",
    "\n",
    "h_.columns.name = \"New {}\".format(h.columns.name)\n",
    "\n",
    "gps_map.predict(h_.T, pull_power=2)"
   ]
  },
  {
   "cell_type": "code",
   "execution_count": null,
   "metadata": {},
   "outputs": [],
   "source": [
    "gps_map_path = \"output/gps_map.pickle.gz\"\n",
    "\n",
    "kraft.write_gps_map(gps_map, gps_map_path)"
   ]
  },
  {
   "cell_type": "code",
   "execution_count": null,
   "metadata": {},
   "outputs": [],
   "source": [
    "gps_map = kraft.read_gps_map(gps_map_path)\n",
    "\n",
    "gps_map.plot()"
   ]
  }
 ],
 "metadata": {
  "kernelspec": {
   "display_name": "Python 3",
   "language": "python",
   "name": "python3"
  },
  "language_info": {
   "codemirror_mode": {
    "name": "ipython",
    "version": 3
   },
   "file_extension": ".py",
   "mimetype": "text/x-python",
   "name": "python",
   "nbconvert_exporter": "python",
   "pygments_lexer": "ipython3",
   "version": "3.7.3"
  }
 },
 "nbformat": 4,
 "nbformat_minor": 4
}
