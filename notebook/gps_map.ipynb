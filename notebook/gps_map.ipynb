{
 "cells": [
  {
   "cell_type": "code",
   "execution_count": null,
   "metadata": {},
   "outputs": [],
   "source": [
    "%load_ext autoreload\n",
    "%autoreload 2"
   ]
  },
  {
   "cell_type": "code",
   "execution_count": null,
   "metadata": {
    "ExecuteTime": {
     "end_time": "2018-05-07T09:08:44.839057Z",
     "start_time": "2018-05-07T09:08:44.223504Z"
    }
   },
   "outputs": [],
   "source": [
    "import os\n",
    "\n",
    "import numpy as np\n",
    "import pandas as pd\n",
    "from scipy.spatial.distance import pdist, squareform\n",
    "\n",
    "import kraft"
   ]
  },
  {
   "cell_type": "markdown",
   "metadata": {},
   "source": [
    "## GPSMap"
   ]
  },
  {
   "cell_type": "code",
   "execution_count": null,
   "metadata": {
    "ExecuteTime": {
     "end_time": "2018-05-07T09:08:44.918287Z",
     "start_time": "2018-05-07T09:08:44.877580Z"
    }
   },
   "outputs": [],
   "source": [
    "point_x_node = pd.read_csv(\"data/w.tsv\", sep=\"\\t\", index_col=0)\n",
    "\n",
    "point_x_node.columns.name = \"Node\"\n",
    "\n",
    "print(point_x_node.shape)"
   ]
  },
  {
   "cell_type": "code",
   "execution_count": null,
   "metadata": {
    "ExecuteTime": {
     "end_time": "2018-05-07T09:09:18.942149Z",
     "start_time": "2018-05-07T09:08:47.406977Z"
    }
   },
   "outputs": [],
   "source": [
    "node_x_node_distance = squareform(pdist(point_x_node.values.T))\n",
    "\n",
    "print(node_x_node_distance.shape)\n",
    "\n",
    "gps_map = kraft.GPSMap(node_x_node_distance, point_x_node)"
   ]
  },
  {
   "cell_type": "code",
   "execution_count": null,
   "metadata": {
    "ExecuteTime": {
     "end_time": "2018-05-07T09:09:18.942149Z",
     "start_time": "2018-05-07T09:08:47.406977Z"
    }
   },
   "outputs": [],
   "source": [
    "gps_map.plot()"
   ]
  },
  {
   "cell_type": "code",
   "execution_count": null,
   "metadata": {},
   "outputs": [],
   "source": [
    "points_to_highlight = [\"Feature 6\", \"Feature 10\", \"Feature 29\"]\n",
    "\n",
    "print(gps_map.point_x_dimension.loc[points_to_highlight])\n",
    "\n",
    "gps_map.plot(points_to_highlight=points_to_highlight)"
   ]
  },
  {
   "cell_type": "code",
   "execution_count": null,
   "metadata": {},
   "outputs": [],
   "source": [
    "point_score = gps_map.point_x_dimension.sum(axis=1)\n",
    "\n",
    "point_score.name = \"Dimension Sum\"\n",
    "\n",
    "gps_map.plot(point_score=point_score)\n",
    "\n",
    "point_score[::2] = np.nan\n",
    "\n",
    "gps_map.plot(point_score=point_score)"
   ]
  },
  {
   "cell_type": "code",
   "execution_count": null,
   "metadata": {},
   "outputs": [],
   "source": [
    "gps_map.set_point_label(\n",
    "    pd.Series(\n",
    "        gps_map.point_x_dimension.values.argmax(axis=1),\n",
    "        index=point_x_node.index,\n",
    "        name=\"Point Label\",\n",
    "    )\n",
    ")\n",
    "\n",
    "gps_map.plot()"
   ]
  },
  {
   "cell_type": "code",
   "execution_count": null,
   "metadata": {
    "ExecuteTime": {
     "end_time": "2018-05-07T09:09:22.949488Z",
     "start_time": "2018-05-07T09:09:19.263029Z"
    }
   },
   "outputs": [],
   "source": [
    "gps_map.plot(point_score=point_value)"
   ]
  },
  {
   "cell_type": "code",
   "execution_count": null,
   "metadata": {},
   "outputs": [],
   "source": [
    "gps_map.predict(\n",
    "    gps_map.point_x_node.loc[points_to_highlight], point_trace={\"marker\": {\"size\": 32}},\n",
    ")"
   ]
  },
  {
   "cell_type": "code",
   "execution_count": null,
   "metadata": {
    "ExecuteTime": {
     "end_time": "2018-05-07T09:11:28.055466Z",
     "start_time": "2018-05-07T09:11:27.813895Z"
    }
   },
   "outputs": [],
   "source": [
    "h = pd.read_csv(\"data/kras_gps_map.h.tsv\", sep=\"\\t\", index_col=0)\n",
    "\n",
    "h.columns.name = \"Cell Line\"\n",
    "\n",
    "h_ = np.apply_along_axis(kraft.normalize, 1, h.values, \"-0-\").clip(min=-3, max=3)\n",
    "\n",
    "h_ = np.apply_along_axis(kraft.normalize, 1, h_, \"0-1\")\n",
    "\n",
    "h_ **= 2\n",
    "\n",
    "h = pd.DataFrame(h_, index=h.index, columns=h.columns)\n",
    "\n",
    "node_x_node_distance = squareform(pdist(h.values))\n",
    "\n",
    "gps_map = kraft.GPSMap(node_x_node_distance, h.T)\n",
    "\n",
    "gps_map.set_point_label(\n",
    "    pd.read_csv(\"data/kras_gps_map.k_x_h_element.tsv\", sep=\"\\t\", index_col=0).loc[\"K15\"]\n",
    ")\n",
    "\n",
    "gps_map.plot()"
   ]
  },
  {
   "cell_type": "code",
   "execution_count": null,
   "metadata": {},
   "outputs": [],
   "source": [
    "h_ = h.copy()\n",
    "\n",
    "h_.columns.name = \"New {}\".format(h.columns.name)\n",
    "\n",
    "gps_map.predict(h_.T)"
   ]
  },
  {
   "cell_type": "markdown",
   "metadata": {},
   "source": [
    "## write_gps_map"
   ]
  },
  {
   "cell_type": "code",
   "execution_count": null,
   "metadata": {},
   "outputs": [],
   "source": [
    "gps_map_path = os.path.expanduser(\"~/gps_map.pickle.gz\")\n",
    "\n",
    "kraft.write_gps_map(gps_map_path, gps_map)"
   ]
  },
  {
   "cell_type": "markdown",
   "metadata": {},
   "source": [
    "## read_gps_map"
   ]
  },
  {
   "cell_type": "code",
   "execution_count": null,
   "metadata": {},
   "outputs": [],
   "source": [
    "gps_map = kraft.read_gps_map(gps_map_path)\n",
    "\n",
    "gps_map.plot()"
   ]
  }
 ],
 "metadata": {
  "kernelspec": {
   "display_name": "Python 3",
   "language": "python",
   "name": "python3"
  },
  "language_info": {
   "codemirror_mode": {
    "name": "ipython",
    "version": 3
   },
   "file_extension": ".py",
   "mimetype": "text/x-python",
   "name": "python",
   "nbconvert_exporter": "python",
   "pygments_lexer": "ipython3",
   "version": "3.7.6"
  }
 },
 "nbformat": 4,
 "nbformat_minor": 4
}
