{
 "cells": [
  {
   "cell_type": "code",
   "execution_count": null,
   "metadata": {},
   "outputs": [],
   "source": [
    "%load_ext autoreload\n",
    "%autoreload 2"
   ]
  },
  {
   "cell_type": "code",
   "execution_count": null,
   "metadata": {
    "ExecuteTime": {
     "end_time": "2018-05-07T09:08:44.839057Z",
     "start_time": "2018-05-07T09:08:44.223504Z"
    }
   },
   "outputs": [],
   "source": [
    "import os\n",
    "\n",
    "import numpy as np\n",
    "import pandas as pd\n",
    "\n",
    "import kraft"
   ]
  },
  {
   "cell_type": "code",
   "execution_count": null,
   "metadata": {
    "ExecuteTime": {
     "end_time": "2018-05-07T09:08:44.918287Z",
     "start_time": "2018-05-07T09:08:44.877580Z"
    }
   },
   "outputs": [],
   "source": [
    "w = pd.read_csv(\"w.tsv\", sep=\"\\t\", index_col=0)\n",
    "\n",
    "w.columns.name = \"Factor\"\n",
    "\n",
    "print(w.shape)\n",
    "\n",
    "h = pd.read_csv(\"h.tsv\", sep=\"\\t\", index_col=0)\n",
    "\n",
    "h.columns.name = \"Sample\"\n",
    "\n",
    "print(h.shape)"
   ]
  },
  {
   "cell_type": "code",
   "execution_count": null,
   "metadata": {
    "ExecuteTime": {
     "end_time": "2018-05-07T09:09:18.942149Z",
     "start_time": "2018-05-07T09:08:47.406977Z"
    }
   },
   "outputs": [],
   "source": [
    "gps_map = kraft.GPSMap(w=w.T, h=h)"
   ]
  },
  {
   "cell_type": "code",
   "execution_count": null,
   "metadata": {
    "ExecuteTime": {
     "end_time": "2018-05-07T09:09:19.246526Z",
     "start_time": "2018-05-07T09:09:18.951264Z"
    }
   },
   "outputs": [],
   "source": [
    "for w_or_h in (\"w\", \"h\"):\n",
    "\n",
    "    gps_map.plot(w_or_h)"
   ]
  },
  {
   "cell_type": "code",
   "execution_count": null,
   "metadata": {
    "ExecuteTime": {
     "end_time": "2018-05-07T09:09:22.949488Z",
     "start_time": "2018-05-07T09:09:19.263029Z"
    }
   },
   "outputs": [],
   "source": [
    "for w_or_h, elements, element_x_dimension in (\n",
    "    (\"w\", gps_map.w_elements, gps_map.w_element_x_dimension),\n",
    "    (\"h\", gps_map.h_elements, gps_map.h_element_x_dimension),\n",
    "):\n",
    "\n",
    "    element_value = pd.Series(\n",
    "        np.apply_along_axis(np.sum, 1, element_x_dimension),\n",
    "        index=elements,\n",
    "        name=\"Element Value\",\n",
    "    )\n",
    "\n",
    "    element_value[::3] = np.nan\n",
    "\n",
    "    gps_map.plot(w_or_h, element_value=element_value)"
   ]
  },
  {
   "cell_type": "code",
   "execution_count": null,
   "metadata": {},
   "outputs": [],
   "source": [
    "for w_or_h, elements, node_x_dimension in (\n",
    "    (\"w\", gps_map.w_elements, gps_map.w),\n",
    "    (\"h\", gps_map.h_elements, gps_map.h),\n",
    "):\n",
    "\n",
    "    element_label = pd.Series(\n",
    "        node_x_dimension.argmax(axis=0), index=elements, name=\"Element Label\"\n",
    "    )\n",
    "\n",
    "    gps_map.set_element_label(w_or_h, element_label)\n",
    "\n",
    "    gps_map.plot(w_or_h)"
   ]
  },
  {
   "cell_type": "code",
   "execution_count": null,
   "metadata": {
    "ExecuteTime": {
     "end_time": "2018-05-07T09:09:22.949488Z",
     "start_time": "2018-05-07T09:09:19.263029Z"
    }
   },
   "outputs": [],
   "source": [
    "for w_or_h, elements, element_x_dimension in (\n",
    "    (\"w\", gps_map.w_elements, gps_map.w_element_x_dimension),\n",
    "    (\"h\", gps_map.h_elements, gps_map.h_element_x_dimension),\n",
    "):\n",
    "\n",
    "    element_value = pd.Series(\n",
    "        np.apply_along_axis(np.sum, 1, element_x_dimension),\n",
    "        index=elements,\n",
    "        name=\"Element Value\",\n",
    "    )\n",
    "\n",
    "    gps_map.plot(w_or_h, element_value=element_value)"
   ]
  },
  {
   "cell_type": "code",
   "execution_count": null,
   "metadata": {},
   "outputs": [],
   "source": [
    "for w_or_h, node_x_element in ((\"w\", w.T), (\"h\", h)):\n",
    "\n",
    "    elemenet_x_predicting_element = node_x_element.iloc[:, :10]\n",
    "\n",
    "    elemenet_x_predicting_element.columns.name = \"New {}\".format(\n",
    "        node_x_element.columns.name\n",
    "    )\n",
    "\n",
    "    gps_map.predict(w_or_h, elemenet_x_predicting_element)"
   ]
  },
  {
   "cell_type": "code",
   "execution_count": null,
   "metadata": {
    "ExecuteTime": {
     "end_time": "2018-05-07T09:11:28.055466Z",
     "start_time": "2018-05-07T09:11:27.813895Z"
    }
   },
   "outputs": [],
   "source": [
    "h = pd.read_csv(\"kras_gps_map.h.tsv\", sep=\"\\t\", index_col=0)\n",
    "\n",
    "h.index.name = \"Component\"\n",
    "\n",
    "h.columns.name = \"Cell Line\"\n",
    "\n",
    "h = h.apply(kraft.normalize_series, axis=1, args=(\"-0-\",)).clip(lower=-3, upper=3)\n",
    "\n",
    "h = h.apply(kraft.normalize_series, axis=1, args=(\"0-1\",))\n",
    "\n",
    "gps_map = kraft.GPSMap(h=h, h_pull_power=2.4)\n",
    "\n",
    "element_marker_size = 12"
   ]
  },
  {
   "cell_type": "code",
   "execution_count": null,
   "metadata": {
    "ExecuteTime": {
     "end_time": "2018-05-07T09:12:10.654231Z",
     "start_time": "2018-05-07T09:11:34.238395Z"
    }
   },
   "outputs": [],
   "source": [
    "gps_map.set_element_label(\n",
    "    \"h\", pd.read_csv(\"kras_gps_map.k_x_h_element.tsv\", sep=\"\\t\", index_col=0).loc[\"K15\"]\n",
    ")\n",
    "\n",
    "gps_map.plot(\"h\", element_marker_size=element_marker_size)"
   ]
  },
  {
   "cell_type": "code",
   "execution_count": null,
   "metadata": {},
   "outputs": [],
   "source": [
    "h_ = h.copy()\n",
    "\n",
    "h_.columns.name = \"New {}\".format(h.columns.name)\n",
    "\n",
    "gps_map.predict(\"h\", h_, element_marker_size=element_marker_size)"
   ]
  },
  {
   "cell_type": "code",
   "execution_count": null,
   "metadata": {},
   "outputs": [],
   "source": [
    "gps_map_path = \"gps_map.pickle.gz\"\n",
    "\n",
    "kraft.write_gps_map(gps_map, gps_map_path)"
   ]
  },
  {
   "cell_type": "code",
   "execution_count": null,
   "metadata": {},
   "outputs": [],
   "source": [
    "gps_map = kraft.read_gps_map(gps_map_path)\n",
    "\n",
    "gps_map.plot(\"h\", element_marker_size=element_marker_size)"
   ]
  }
 ],
 "metadata": {
  "kernelspec": {
   "display_name": "Python 3",
   "language": "python",
   "name": "python3"
  },
  "language_info": {
   "codemirror_mode": {
    "name": "ipython",
    "version": 3
   },
   "file_extension": ".py",
   "mimetype": "text/x-python",
   "name": "python",
   "nbconvert_exporter": "python",
   "pygments_lexer": "ipython3",
   "version": "3.7.3"
  }
 },
 "nbformat": 4,
 "nbformat_minor": 4
}
