{
 "cells": [
  {
   "cell_type": "code",
   "execution_count": null,
   "metadata": {},
   "outputs": [],
   "source": [
    "%load_ext autoreload\n",
    "%autoreload 2"
   ]
  },
  {
   "cell_type": "code",
   "execution_count": null,
   "metadata": {
    "ExecuteTime": {
     "end_time": "2018-05-07T09:08:44.839057Z",
     "start_time": "2018-05-07T09:08:44.223504Z"
    }
   },
   "outputs": [],
   "source": [
    "import os\n",
    "\n",
    "import numpy as np\n",
    "import pandas as pd\n",
    "from scipy.spatial.distance import pdist, squareform\n",
    "\n",
    "import kraft"
   ]
  },
  {
   "cell_type": "markdown",
   "metadata": {},
   "source": [
    "## GPSMap"
   ]
  },
  {
   "cell_type": "code",
   "execution_count": null,
   "metadata": {
    "ExecuteTime": {
     "end_time": "2018-05-07T09:08:44.918287Z",
     "start_time": "2018-05-07T09:08:44.877580Z"
    }
   },
   "outputs": [],
   "source": [
    "point_x_node = pd.read_csv(\"data/w.tsv\", sep=\"\t\", index_col=0)\n",
    "\n",
    "point_ = point_x_node.index.to_numpy()\n",
    "\n",
    "node_ = point_x_node.columns.to_numpy()\n",
    "\n",
    "point_name = point_x_node.index.name\n",
    "\n",
    "point_x_node = point_x_node.to_numpy()\n",
    "\n",
    "node_name = \"Node\""
   ]
  },
  {
   "cell_type": "code",
   "execution_count": null,
   "metadata": {
    "ExecuteTime": {
     "end_time": "2018-05-07T09:09:18.942149Z",
     "start_time": "2018-05-07T09:08:47.406977Z"
    }
   },
   "outputs": [],
   "source": [
    "node_x_node = squareform(pdist(point_x_node.T))\n",
    "\n",
    "gps_map = kraft.gps_map.GPSMap(\n",
    "    node_name,\n",
    "    node_,\n",
    "    node_x_node,\n",
    "    point_name,\n",
    "    point_,\n",
    "    point_x_node,\n",
    ")"
   ]
  },
  {
   "cell_type": "code",
   "execution_count": null,
   "metadata": {
    "ExecuteTime": {
     "end_time": "2018-05-07T09:09:18.942149Z",
     "start_time": "2018-05-07T09:08:47.406977Z"
    }
   },
   "outputs": [],
   "source": [
    "gps_map.plot()"
   ]
  },
  {
   "cell_type": "code",
   "execution_count": null,
   "metadata": {},
   "outputs": [],
   "source": [
    "point_highlight_ = np.asarray((\"Feature 6\", \"Feature 10\", \"Feature 29\"))\n",
    "\n",
    "for point in point_highlight_:\n",
    "\n",
    "    print(point)\n",
    "\n",
    "    print(gps_map.point_x_dimension[gps_map.point_ == point])"
   ]
  },
  {
   "cell_type": "code",
   "execution_count": null,
   "metadata": {},
   "outputs": [],
   "source": [
    "gps_map.plot(point_highlight_=point_highlight_)"
   ]
  },
  {
   "cell_type": "code",
   "execution_count": null,
   "metadata": {},
   "outputs": [],
   "source": [
    "score_name = \"Dimension Sum\"\n",
    "\n",
    "score_ = gps_map.point_x_dimension.sum(axis=1)"
   ]
  },
  {
   "cell_type": "code",
   "execution_count": null,
   "metadata": {},
   "outputs": [],
   "source": [
    "gps_map.plot(score_=score_)"
   ]
  },
  {
   "cell_type": "code",
   "execution_count": null,
   "metadata": {},
   "outputs": [],
   "source": [
    "score_[::2] = np.nan\n",
    "\n",
    "gps_map.plot(score_name=score_name, score_=score_, score_nan_opacity=0.4)"
   ]
  },
  {
   "cell_type": "code",
   "execution_count": null,
   "metadata": {},
   "outputs": [],
   "source": [
    "gps_map.set_group(\"closest_node\")\n",
    "\n",
    "gps_map.plot()"
   ]
  },
  {
   "cell_type": "code",
   "execution_count": null,
   "metadata": {},
   "outputs": [],
   "source": [
    "gps_map.set_group(gps_map.point_x_dimension.argmax(axis=1))\n",
    "\n",
    "gps_map.plot()"
   ]
  },
  {
   "cell_type": "code",
   "execution_count": null,
   "metadata": {
    "ExecuteTime": {
     "end_time": "2018-05-07T09:09:22.949488Z",
     "start_time": "2018-05-07T09:09:19.263029Z"
    }
   },
   "outputs": [],
   "source": [
    "gps_map.plot(score_=score_)"
   ]
  },
  {
   "cell_type": "code",
   "execution_count": null,
   "metadata": {},
   "outputs": [],
   "source": [
    "new_point_ = point_highlight_\n",
    "\n",
    "new_point_x_node = np.concatenate(\n",
    "    [point_x_node[point_ == point] for point in point_highlight_]\n",
    ")\n",
    "\n",
    "new_point_x_node"
   ]
  },
  {
   "cell_type": "code",
   "execution_count": null,
   "metadata": {},
   "outputs": [],
   "source": [
    "gps_map.predict(\n",
    "    \"New\", new_point_, new_point_x_node, point_trace={\"marker\": {\"size\": 32}}\n",
    ")"
   ]
  },
  {
   "cell_type": "code",
   "execution_count": null,
   "metadata": {
    "ExecuteTime": {
     "end_time": "2018-05-07T09:11:28.055466Z",
     "start_time": "2018-05-07T09:11:27.813895Z"
    }
   },
   "outputs": [],
   "source": [
    "node_x_point = pd.read_csv(\"data/kras_gps_map.h.tsv\", sep=\"\t\", index_col=0)\n",
    "\n",
    "node_ = node_x_point.index.to_numpy()\n",
    "\n",
    "point_ = node_x_point.columns.to_numpy()\n",
    "\n",
    "node_name = node_x_point.index.name\n",
    "\n",
    "point_name = \"Cell Line\"\n",
    "\n",
    "point_x_node = node_x_point.to_numpy().T\n",
    "\n",
    "point_x_node = np.apply_along_axis(kraft.array.normalize, 0, point_x_node, \"-0-\")\n",
    "\n",
    "point_x_node = point_x_node.clip(min=-3, max=3)\n",
    "\n",
    "point_x_node = np.apply_along_axis(kraft.array.normalize, 0, point_x_node, \"0-1\")\n",
    "\n",
    "point_x_node **= 2\n",
    "\n",
    "node_x_node = squareform(pdist(point_x_node.T))\n",
    "\n",
    "gps_map = kraft.gps_map.GPSMap(\n",
    "    node_name, node_, node_x_node, point_name, point_, point_x_node\n",
    ")\n",
    "\n",
    "group_ = (\n",
    "    pd.read_csv(\"data/kras_gps_map.k_x_h_point.tsv\", sep=\"\t\", index_col=0)\n",
    "    .loc[\"K15\", :]\n",
    "    .to_numpy()\n",
    ")\n",
    "\n",
    "gps_map.set_group(group_)\n",
    "\n",
    "gps_map.plot()"
   ]
  },
  {
   "cell_type": "code",
   "execution_count": null,
   "metadata": {},
   "outputs": [],
   "source": [
    "every_n = 10\n",
    "\n",
    "gps_map.predict(\"New\", point_[::every_n], point_x_node[::every_n])"
   ]
  },
  {
   "cell_type": "code",
   "execution_count": null,
   "metadata": {},
   "outputs": [],
   "source": [
    "path = os.path.expanduser(\"~/Downloads/gps_map.pickle.gz\")"
   ]
  },
  {
   "cell_type": "markdown",
   "metadata": {},
   "source": [
    "## write"
   ]
  },
  {
   "cell_type": "code",
   "execution_count": null,
   "metadata": {},
   "outputs": [],
   "source": [
    "kraft.gps_map.write(path, gps_map)"
   ]
  },
  {
   "cell_type": "markdown",
   "metadata": {},
   "source": [
    "## read"
   ]
  },
  {
   "cell_type": "code",
   "execution_count": null,
   "metadata": {},
   "outputs": [],
   "source": [
    "gps_map = kraft.gps_map.read(path)\n",
    "\n",
    "gps_map.plot()"
   ]
  }
 ],
 "metadata": {
  "kernelspec": {
   "display_name": "Python 3",
   "language": "python",
   "name": "python3"
  },
  "language_info": {
   "codemirror_mode": {
    "name": "ipython",
    "version": 3
   },
   "file_extension": ".py",
   "mimetype": "text/x-python",
   "name": "python",
   "nbconvert_exporter": "python",
   "pygments_lexer": "ipython3",
   "version": "3.7.8"
  }
 },
 "nbformat": 4,
 "nbformat_minor": 4
}
