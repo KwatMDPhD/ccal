{
 "cells": [
  {
   "cell_type": "code",
   "execution_count": null,
   "metadata": {},
   "outputs": [],
   "source": [
    "%load_ext autoreload\n",
    "%autoreload 2"
   ]
  },
  {
   "cell_type": "code",
   "execution_count": null,
   "metadata": {},
   "outputs": [],
   "source": [
    "import numpy as np\n",
    "import pandas as pd\n",
    "\n",
    "import kraft"
   ]
  },
  {
   "cell_type": "markdown",
   "metadata": {},
   "source": [
    "## binarize"
   ]
  },
  {
   "cell_type": "code",
   "execution_count": null,
   "metadata": {},
   "outputs": [],
   "source": [
    "series = pd.Series([0, 2, 1, None, np.nan, \"a\"], name=\"Name\")\n",
    "\n",
    "kraft.binarize(series)"
   ]
  },
  {
   "cell_type": "markdown",
   "metadata": {},
   "source": [
    "## cast_builtin"
   ]
  },
  {
   "cell_type": "code",
   "execution_count": null,
   "metadata": {},
   "outputs": [],
   "source": [
    "for object_ in (\n",
    "    \"False\",\n",
    "    \"True\",\n",
    "    \"0\",\n",
    "    \"1.0\",\n",
    "    None,\n",
    "):\n",
    "\n",
    "    output = kraft.cast_builtin(object_)\n",
    "\n",
    "    print(output, type(output))"
   ]
  },
  {
   "cell_type": "markdown",
   "metadata": {},
   "source": [
    "## clip_by_standard_deviation"
   ]
  },
  {
   "cell_type": "code",
   "execution_count": null,
   "metadata": {},
   "outputs": [],
   "source": [
    "array = np.arange(-2, 3)\n",
    "\n",
    "for standard_deviation in (-1, 0, 1, 2):\n",
    "\n",
    "    print(kraft.clip_by_standard_deviation(array, standard_deviation))"
   ]
  },
  {
   "cell_type": "markdown",
   "metadata": {},
   "source": [
    "## _"
   ]
  },
  {
   "cell_type": "code",
   "execution_count": null,
   "metadata": {},
   "outputs": [],
   "source": [
    "point_x_dimension = np.random.random_sample(size=(100, 100))\n",
    "\n",
    "block_size = int(point_x_dimension.shape[0] * 0.2)\n",
    "\n",
    "point_x_dimension[:block_size] *= 2\n",
    "\n",
    "point_x_dimension[-block_size:] *= 1 / 2\n",
    "\n",
    "point_x_dimension = pd.DataFrame(\n",
    "    point_x_dimension,\n",
    "    index=(\"Index{}\".format(i) for i in range(point_x_dimension.shape[0])),\n",
    "    columns=(\"Column{}\".format(i) for i in range(point_x_dimension.shape[1])),\n",
    ")"
   ]
  },
  {
   "cell_type": "markdown",
   "metadata": {},
   "source": [
    "## cluster_hierarchical_clusterings"
   ]
  },
  {
   "cell_type": "code",
   "execution_count": null,
   "metadata": {},
   "outputs": [],
   "source": [
    "kraft.cluster_hierarchical_clusterings(point_x_dimension, 0, 3)"
   ]
  },
  {
   "cell_type": "markdown",
   "metadata": {},
   "source": [
    "## cluster_matrix_factorization_clusterings"
   ]
  },
  {
   "cell_type": "code",
   "execution_count": null,
   "metadata": {},
   "outputs": [],
   "source": [
    "kraft.cluster_matrix_factorization_clusterings(point_x_dimension, 3)"
   ]
  },
  {
   "cell_type": "markdown",
   "metadata": {},
   "source": [
    "## cluster"
   ]
  },
  {
   "cell_type": "code",
   "execution_count": null,
   "metadata": {},
   "outputs": [],
   "source": [
    "kraft.cluster(point_x_dimension.values, 3)"
   ]
  },
  {
   "cell_type": "markdown",
   "metadata": {},
   "source": [
    "## compute_bandwidth"
   ]
  },
  {
   "cell_type": "code",
   "execution_count": null,
   "metadata": {},
   "outputs": [],
   "source": [
    "for power in range(1, 10):\n",
    "\n",
    "    array = np.random.normal(size=2 ** power)\n",
    "\n",
    "    print(array.size, kraft.compute_bandwidth(array))"
   ]
  },
  {
   "cell_type": "markdown",
   "metadata": {},
   "source": [
    "## compute_coclustering_distance"
   ]
  },
  {
   "cell_type": "code",
   "execution_count": null,
   "metadata": {},
   "outputs": [],
   "source": [
    "clustering_x_point = np.array(\n",
    "    [[1, 1, np.nan, np.nan], [0, 0, 1, np.nan], [1, 0, np.nan, 1],]\n",
    ")\n",
    "\n",
    "kraft.compute_coclustering_distance(clustering_x_point)"
   ]
  },
  {
   "cell_type": "markdown",
   "metadata": {},
   "source": [
    "## compute_margin_of_error"
   ]
  },
  {
   "cell_type": "code",
   "execution_count": null,
   "metadata": {},
   "outputs": [],
   "source": [
    "for function in (np.random.random_sample, np.random.normal):\n",
    "\n",
    "    print(function.__name__)\n",
    "\n",
    "    for power in range(4):\n",
    "\n",
    "        array = function(size=10 ** power)\n",
    "\n",
    "        print(array.size, kraft.compute_margin_of_error(array))"
   ]
  },
  {
   "cell_type": "markdown",
   "metadata": {},
   "source": [
    "## _"
   ]
  },
  {
   "cell_type": "code",
   "execution_count": null,
   "metadata": {},
   "outputs": [],
   "source": [
    "random_values = np.arange(10)\n",
    "\n",
    "values = np.asarray([0, 1, 8, 9])"
   ]
  },
  {
   "cell_type": "markdown",
   "metadata": {},
   "source": [
    "## compute_p_value"
   ]
  },
  {
   "cell_type": "code",
   "execution_count": null,
   "metadata": {},
   "outputs": [],
   "source": [
    "for value in values:\n",
    "\n",
    "    print(value)\n",
    "\n",
    "    for direction in (\"<\", \">\"):\n",
    "\n",
    "        print(direction)\n",
    "\n",
    "        print(kraft.compute_p_value(value, random_values, direction))"
   ]
  },
  {
   "cell_type": "markdown",
   "metadata": {},
   "source": [
    "## compute_p_values_and_q_values"
   ]
  },
  {
   "cell_type": "code",
   "execution_count": null,
   "metadata": {},
   "outputs": [],
   "source": [
    "for direction in (\"<\", \">\", \"<>\"):\n",
    "\n",
    "    print(kraft.compute_p_values_and_q_values(values, random_values, direction))"
   ]
  },
  {
   "cell_type": "markdown",
   "metadata": {},
   "source": [
    "## compute_set_enrichment"
   ]
  },
  {
   "cell_type": "code",
   "execution_count": null,
   "metadata": {},
   "outputs": [],
   "source": [
    "n_element = 10\n",
    "\n",
    "element_score = pd.Series(\n",
    "    np.arange(n_element),\n",
    "    index=pd.Index((\"Element{}\".format(i) for i in range(n_element)), name=\"Element\"),\n",
    "    name=\"Score\",\n",
    ")\n",
    "\n",
    "for set_elements in (element_score.index[:2], element_score.index[-2:]):\n",
    "\n",
    "    kraft.compute_set_enrichment(element_score, set_elements, plot=True)"
   ]
  }
 ],
 "metadata": {
  "kernelspec": {
   "display_name": "Python 3",
   "language": "python",
   "name": "python3"
  },
  "language_info": {
   "codemirror_mode": {
    "name": "ipython",
    "version": 3
   },
   "file_extension": ".py",
   "mimetype": "text/x-python",
   "name": "python",
   "nbconvert_exporter": "python",
   "pygments_lexer": "ipython3",
   "version": "3.7.6"
  }
 },
 "nbformat": 4,
 "nbformat_minor": 4
}
