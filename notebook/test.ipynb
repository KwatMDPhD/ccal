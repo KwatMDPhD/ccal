{
 "cells": [
  {
   "cell_type": "code",
   "execution_count": null,
   "metadata": {},
   "outputs": [],
   "source": [
    "%load_ext autoreload\n",
    "%autoreload 2"
   ]
  },
  {
   "cell_type": "code",
   "execution_count": null,
   "metadata": {},
   "outputs": [],
   "source": [
    "import numpy as np\n",
    "import pandas as pd\n",
    "\n",
    "import kraft"
   ]
  },
  {
   "cell_type": "markdown",
   "metadata": {},
   "source": [
    "## binarize"
   ],
   "execution_count": null,
   "outputs": []
  },
  {
   "cell_type": "code",
   "execution_count": null,
   "metadata": {},
   "outputs": [],
   "source": [
    "series = pd.Series([0, 2, 1, None, np.nan, \"a\"], name=\"Name\")\n",
    "\n",
    "kraft.binarize(series)"
   ]
  },
  {
   "cell_type": "markdown",
   "metadata": {},
   "source": [
    "## cast_builtin"
   ],
   "execution_count": null,
   "outputs": []
  },
  {
   "cell_type": "code",
   "execution_count": null,
   "metadata": {},
   "outputs": [],
   "source": [
    "for object_ in (\n",
    "    \"False\",\n",
    "    \"True\",\n",
    "    \"0\",\n",
    "    \"1.0\",\n",
    "    None,\n",
    "):\n",
    "\n",
    "    output = kraft.cast_builtin(object_)\n",
    "\n",
    "    print(output, type(output))"
   ]
  },
  {
   "cell_type": "markdown",
   "metadata": {},
   "source": [
    "## clip_by_standard_deviation"
   ],
   "execution_count": null,
   "outputs": []
  },
  {
   "cell_type": "code",
   "execution_count": null,
   "metadata": {},
   "outputs": [],
   "source": [
    "array = np.arange(-2, 3)\n",
    "\n",
    "for standard_deviation in (-1, 0, 1, 2):\n",
    "\n",
    "    print(kraft.clip_by_standard_deviation(array, standard_deviation))"
   ]
  },
  {
   "cell_type": "markdown",
   "metadata": {},
   "source": [
    "## _"
   ],
   "execution_count": null,
   "outputs": []
  },
  {
   "cell_type": "code",
   "execution_count": null,
   "metadata": {},
   "outputs": [],
   "source": [
    "point_x_dimension = np.random.random_sample(size=(100, 100))\n",
    "\n",
    "block_size = int(point_x_dimension.shape[0] * 0.2)\n",
    "\n",
    "point_x_dimension[:block_size] *= 2\n",
    "\n",
    "point_x_dimension[-block_size:] *= 1 / 2\n",
    "\n",
    "point_x_dimension = pd.DataFrame(\n",
    "    point_x_dimension,\n",
    "    index=(\"Index{}\".format(i) for i in range(point_x_dimension.shape[0])),\n",
    "    columns=(\"Column{}\".format(i) for i in range(point_x_dimension.shape[1])),\n",
    ")"
   ]
  },
  {
   "cell_type": "markdown",
   "metadata": {},
   "source": [
    "## cluster_hierarchical_clusterings"
   ],
   "execution_count": null,
   "outputs": []
  },
  {
   "cell_type": "code",
   "execution_count": null,
   "metadata": {},
   "outputs": [],
   "source": [
    "kraft.cluster_hierarchical_clusterings(point_x_dimension, 0, 3)"
   ]
  },
  {
   "cell_type": "markdown",
   "metadata": {},
   "source": [
    "## cluster"
   ],
   "execution_count": null,
   "outputs": []
  },
  {
   "cell_type": "code",
   "execution_count": null,
   "metadata": {},
   "outputs": [],
   "source": [
    "kraft.cluster(point_x_dimension.values, n_cluster=3)"
   ]
  },
  {
   "cell_type": "markdown",
   "metadata": {},
   "source": [
    "## compute_bandwidth"
   ],
   "execution_count": null,
   "outputs": []
  },
  {
   "cell_type": "code",
   "execution_count": null,
   "metadata": {},
   "outputs": [],
   "source": [
    "for power in range(1, 10):\n",
    "\n",
    "    array = np.random.normal(size=2 ** power)\n",
    "\n",
    "    print(array.size, kraft.compute_bandwidth(array))"
   ]
  },
  {
   "cell_type": "markdown",
   "metadata": {},
   "source": [
    "## compute_coclustering_distance"
   ],
   "execution_count": null,
   "outputs": []
  },
  {
   "cell_type": "code",
   "execution_count": null,
   "metadata": {},
   "outputs": [],
   "source": [
    "clustering_x_point = np.array(\n",
    "    [[1, 1, np.nan, np.nan], [0, 0, 1, np.nan], [1, 0, np.nan, 1],]\n",
    ")\n",
    "\n",
    "kraft.compute_coclustering_distance(clustering_x_point)"
   ]
  },
  {
   "cell_type": "markdown",
   "metadata": {},
   "source": [
    "## compute_entropy"
   ],
   "execution_count": null,
   "outputs": []
  },
  {
   "cell_type": "code",
   "execution_count": null,
   "metadata": {},
   "outputs": [],
   "source": [
    "for power in range(9):\n",
    "\n",
    "    n = 2 ** power\n",
    "\n",
    "    print(n)\n",
    "\n",
    "    print(kraft.compute_entropy(np.random.random_sample(size=n)))\n",
    "\n",
    "    for fill_value in (1, 2):\n",
    "\n",
    "        print(kraft.compute_entropy(np.full(n, fill_value)))"
   ]
  },
  {
   "cell_type": "markdown",
   "metadata": {},
   "source": [
    "## compute_ic, compute_icd"
   ],
   "execution_count": null,
   "outputs": []
  },
  {
   "cell_type": "code",
   "execution_count": null,
   "metadata": {
    "ExecuteTime": {
     "end_time": "2018-05-15T09:32:32.232401Z",
     "start_time": "2018-05-15T09:32:27.690390Z"
    }
   },
   "outputs": [],
   "source": [
    "for vector_0, vector_1 in (\n",
    "    (np.asarray((0,) * 8),) * 2,\n",
    "    (np.asarray((1,) * 8),) * 2,\n",
    "    (np.asarray(range(8)), np.asarray(range(8))[::-1]),\n",
    "    (np.asarray((0, 1, 2, 3, 4, 5, 6, 7, 8, 7, 6, 5, 4, 3, 2, 1, 0)),) * 2,\n",
    "    (np.asarray((8, 7, 6, 5, 4, 3, 2, 1, 0, 1, 2, 3, 4, 5, 6, 7, 8)),) * 2,\n",
    "    (np.asarray((0, 1) * 8), np.asarray((0, 1) * 8)),\n",
    "    (np.asarray((0, 1) * 8), np.asarray((1, 0) * 8)),\n",
    "):\n",
    "\n",
    "    print(vector_0)\n",
    "\n",
    "    print(vector_1)\n",
    "\n",
    "    print(kraft.compute_ic(vector_0, vector_1))\n",
    "\n",
    "    print(kraft.compute_icd(vector_0, vector_1))"
   ]
  },
  {
   "cell_type": "code",
   "execution_count": null,
   "metadata": {},
   "outputs": [],
   "source": [
    "for power in range(9):\n",
    "\n",
    "    n = 2 ** power\n",
    "\n",
    "    print(n)\n",
    "\n",
    "    vector_0 = np.random.normal(size=n)\n",
    "\n",
    "    vector_1 = np.random.normal(size=n)\n",
    "\n",
    "    print(kraft.compute_ic(vector_0, vector_1))"
   ]
  },
  {
   "cell_type": "code",
   "execution_count": null,
   "metadata": {},
   "outputs": [],
   "source": [
    "n = 2\n",
    "\n",
    "vector_0 = np.asarray((0,) * n + (1,) * n + (2,) * n)\n",
    "\n",
    "print(vector_0)\n",
    "\n",
    "for factor in (1, 2, 1 / 2, 10, 1 / 10):\n",
    "\n",
    "    vector_1 = vector_0 * factor\n",
    "\n",
    "    print(vector_1)\n",
    "\n",
    "    print(kraft.compute_ic(vector_0, vector_1))"
   ]
  },
  {
   "cell_type": "code",
   "execution_count": null,
   "metadata": {},
   "outputs": [],
   "source": [
    "n = 100\n",
    "\n",
    "vector_0 = np.random.random_sample(size=n)\n",
    "\n",
    "vector_1 = np.random.random_sample(size=n)\n",
    "\n",
    "kraft.compute_ic(vector_0, vector_1)"
   ]
  },
  {
   "cell_type": "code",
   "execution_count": null,
   "metadata": {},
   "outputs": [],
   "source": [
    "%%timeit\n",
    "\n",
    "kraft.compute_ic(vector_0, vector_1)"
   ]
  },
  {
   "cell_type": "markdown",
   "metadata": {},
   "source": [
    "## compute_kl"
   ],
   "execution_count": null,
   "outputs": []
  },
  {
   "cell_type": "code",
   "execution_count": null,
   "metadata": {},
   "outputs": [],
   "source": [
    "for power in range(9):\n",
    "\n",
    "    n = 2 ** power\n",
    "\n",
    "    print(n)\n",
    "\n",
    "    vector_0 = np.random.normal(size=n)\n",
    "\n",
    "    vector_1 = np.random.normal(size=n)\n",
    "\n",
    "    print(kraft.compute_kl(vector_0, vector_1))"
   ]
  },
  {
   "cell_type": "markdown",
   "metadata": {},
   "source": [
    "## compute_margin_of_error"
   ],
   "execution_count": null,
   "outputs": []
  },
  {
   "cell_type": "code",
   "execution_count": null,
   "metadata": {},
   "outputs": [],
   "source": [
    "for function in (np.random.random_sample, np.random.normal):\n",
    "\n",
    "    print(function.__name__)\n",
    "\n",
    "    for power in range(4):\n",
    "\n",
    "        array = function(size=10 ** power)\n",
    "\n",
    "        print(array.size, kraft.compute_margin_of_error(array))"
   ]
  },
  {
   "cell_type": "markdown",
   "metadata": {},
   "source": [
    "## _"
   ],
   "execution_count": null,
   "outputs": []
  },
  {
   "cell_type": "code",
   "execution_count": null,
   "metadata": {},
   "outputs": [],
   "source": [
    "random_values = np.arange(10)\n",
    "\n",
    "values = np.asarray([0, 1, 8, 9])"
   ]
  },
  {
   "cell_type": "markdown",
   "metadata": {},
   "source": [
    "## compute_p_value"
   ],
   "execution_count": null,
   "outputs": []
  },
  {
   "cell_type": "code",
   "execution_count": null,
   "metadata": {},
   "outputs": [],
   "source": [
    "for value in values:\n",
    "\n",
    "    print(value)\n",
    "\n",
    "    for direction in (\"<\", \">\"):\n",
    "\n",
    "        print(direction)\n",
    "\n",
    "        print(kraft.compute_p_value(value, random_values, direction))"
   ]
  },
  {
   "cell_type": "markdown",
   "metadata": {},
   "source": [
    "## compute_p_values_and_q_values"
   ],
   "execution_count": null,
   "outputs": []
  },
  {
   "cell_type": "code",
   "execution_count": null,
   "metadata": {},
   "outputs": [],
   "source": [
    "for direction in (\"<\", \">\", \"<>\"):\n",
    "\n",
    "    print(kraft.compute_p_values_and_q_values(values, random_values, direction))"
   ]
  },
  {
   "cell_type": "markdown",
   "metadata": {},
   "source": [
    "## compute_set_enrichment"
   ],
   "execution_count": null,
   "outputs": []
  },
  {
   "cell_type": "code",
   "execution_count": null,
   "metadata": {},
   "outputs": [],
   "source": [
    "n_element = 10\n",
    "\n",
    "element_score = pd.Series(\n",
    "    np.arange(n_element),\n",
    "    index=pd.Index((\"Element{}\".format(i) for i in range(n_element)), name=\"Element\"),\n",
    "    name=\"Score\",\n",
    ")\n",
    "\n",
    "for set_elements in (element_score.index[:2], element_score.index[-2:]):\n",
    "\n",
    "    kraft.compute_set_enrichment(element_score, set_elements, plot=True)"
   ]
  },
  {
   "cell_type": "code",
   "execution_count": null,
   "metadata": {},
   "outputs": [],
   "source": [
    "for n_element in (100,):\n",
    "\n",
    "    element_score = np.random.normal(size=n_element // 2)\n",
    "\n",
    "    element_score = pd.Series(\n",
    "        np.sort(np.concatenate((element_score, -element_score))),\n",
    "        index=(\"Element{}\".format(i) for i in range(n_element)),\n",
    "    )\n",
    "\n",
    "    for n_skip in (0,):\n",
    "\n",
    "        if n_skip < 1:\n",
    "\n",
    "            n_skip = int(n_skip * n_element)\n",
    "\n",
    "        for n_top in (0.1,):\n",
    "\n",
    "            if n_top < 1:\n",
    "\n",
    "                n_top = int(n_top * n_element)\n",
    "\n",
    "            for rate_top_hit in (1,):\n",
    "\n",
    "                if rate_top_hit < 1:\n",
    "\n",
    "                    rate_top_hit = int(rate_top_hit * n_top)\n",
    "\n",
    "                for side in (\n",
    "                    \"-\",\n",
    "                    \"+\",\n",
    "                ):\n",
    "\n",
    "                    set_elements = []\n",
    "\n",
    "                    if \"-\" in side:\n",
    "\n",
    "                        set_elements += element_score.index[\n",
    "                            n_skip : n_skip + n_top : rate_top_hit\n",
    "                        ].tolist()\n",
    "\n",
    "                    if \"+\" in side:\n",
    "\n",
    "                        set_elements += element_score.index[\n",
    "                            -(n_skip + 1) : -(n_skip + 1 + n_top) : -rate_top_hit\n",
    "                        ][::-1].tolist()\n",
    "\n",
    "                    for method in (\"score pdf k1\",):\n",
    "\n",
    "                        kraft.compute_set_enrichment(\n",
    "                            element_score,\n",
    "                            set_elements,\n",
    "                            method=method,\n",
    "                            plot_analysis=True,\n",
    "                            plot=True,\n",
    "                        )"
   ]
  },
  {
   "cell_type": "code",
   "execution_count": null,
   "metadata": {},
   "outputs": [],
   "source": [
    "element_score = pd.read_csv(\n",
    "    \"benchmark4.gene.list.GSEA.txt\",\n",
    "    sep=\"\\t\",\n",
    "    usecols=(\"gene.list\", \"gene.scores\"),\n",
    "    index_col=0,\n",
    "    squeeze=True,\n",
    ")\n",
    "\n",
    "set_elements = kraft.read_gmt(\"c2.all.v5.1.symbols.gmt\")[\"COLLER_MYC_TARGETS_UP\"]"
   ]
  },
  {
   "cell_type": "code",
   "execution_count": null,
   "metadata": {},
   "outputs": [],
   "source": [
    "kraft.compute_set_enrichment(\n",
    "    element_score, set_elements, method=\"score pdf k1\", plot_analysis=True, plot=True\n",
    ")"
   ]
  },
  {
   "cell_type": "markdown",
   "metadata": {},
   "source": [
    "## _"
   ],
   "execution_count": null,
   "outputs": []
  },
  {
   "cell_type": "code",
   "execution_count": null,
   "metadata": {},
   "outputs": [],
   "source": [
    "point_x_dimensions = (\n",
    "    np.asarray([[0], [1], [2],]),\n",
    "    np.asarray([[0, 0], [1, 2], [2, 4],]),\n",
    "    np.asarray([[0, 0, 0], [1, 2, 4], [2, 4, 8],]),\n",
    ")"
   ]
  },
  {
   "cell_type": "markdown",
   "metadata": {},
   "source": [
    "## estimate_density"
   ],
   "execution_count": null,
   "outputs": []
  },
  {
   "cell_type": "code",
   "execution_count": null,
   "metadata": {},
   "outputs": [],
   "source": [
    "for point_x_dimension in point_x_dimensions:\n",
    "\n",
    "    kraft.estimate_density(point_x_dimension)"
   ]
  },
  {
   "cell_type": "markdown",
   "metadata": {},
   "source": [
    "## estimate_pdf"
   ],
   "execution_count": null,
   "outputs": []
  },
  {
   "cell_type": "code",
   "execution_count": null,
   "metadata": {},
   "outputs": [],
   "source": [
    "for point_x_dimension in point_x_dimensions:\n",
    "\n",
    "    kraft.estimate_pdf(point_x_dimension)"
   ]
  },
  {
   "cell_type": "markdown",
   "metadata": {},
   "source": [
    "## estimate_posterior_pdf"
   ],
   "execution_count": null,
   "outputs": []
  },
  {
   "cell_type": "code",
   "execution_count": null,
   "metadata": {},
   "outputs": [],
   "source": [
    "for point_x_dimension in point_x_dimensions:\n",
    "\n",
    "    kraft.estimate_posterior_pdf(point_x_dimension)"
   ]
  },
  {
   "cell_type": "markdown",
   "metadata": {},
   "source": [
    "## _"
   ],
   "execution_count": null,
   "outputs": []
  },
  {
   "cell_type": "code",
   "execution_count": null,
   "metadata": {},
   "outputs": [],
   "source": [
    "v = np.random.random_sample(size=(50, 50))\n",
    "\n",
    "r = 5"
   ]
  },
  {
   "cell_type": "markdown",
   "metadata": {},
   "source": [
    "## factorize_matrices"
   ],
   "execution_count": null,
   "outputs": []
  },
  {
   "cell_type": "code",
   "execution_count": null,
   "metadata": {},
   "outputs": [],
   "source": [
    "for mode in (\"ws\", \"hs\"):\n",
    "\n",
    "    ws, hs, errors = kraft.factorize_matrices((v,), r, mode)\n",
    "\n",
    "    kraft.plot_matrix_factorization(ws, hs, errors=errors)"
   ]
  },
  {
   "cell_type": "code",
   "execution_count": null,
   "metadata": {},
   "outputs": [],
   "source": [
    "for mode in (\"ws\", \"hs\"):\n",
    "\n",
    "    ws, hs, errors = kraft.factorize_matrices((v, v * 10), r, mode)\n",
    "\n",
    "    kraft.plot_matrix_factorization(ws, hs, errors=errors)"
   ]
  },
  {
   "cell_type": "markdown",
   "metadata": {},
   "source": [
    "## factorize_matrix_by_nmf"
   ],
   "execution_count": null,
   "outputs": []
  },
  {
   "cell_type": "code",
   "execution_count": null,
   "metadata": {},
   "outputs": [],
   "source": [
    "w, h, error = kraft.factorize_matrix_by_nmf(v, r)\n",
    "\n",
    "kraft.plot_matrix_factorization((w,), (h,))"
   ]
  },
  {
   "cell_type": "markdown",
   "metadata": {},
   "source": [
    "## _"
   ],
   "execution_count": null,
   "outputs": []
  },
  {
   "cell_type": "code",
   "execution_count": null,
   "metadata": {},
   "outputs": [],
   "source": [
    "function = kraft.compute_ic"
   ]
  },
  {
   "cell_type": "code",
   "execution_count": null,
   "metadata": {},
   "outputs": [],
   "source": [
    "def simulate_vector_and_matrix(shape, matrix_n_category=None):\n",
    "\n",
    "    if matrix_n_category is None:\n",
    "\n",
    "        vector = np.random.normal(size=shape[1])\n",
    "\n",
    "        matrix = np.random.normal(size=shape)\n",
    "\n",
    "    else:\n",
    "\n",
    "        vector = np.random.randint(0, high=matrix_n_category, size=shape[1])\n",
    "\n",
    "        matrix = np.random.randint(0, high=matrix_n_category, size=shape)\n",
    "\n",
    "    columns = pd.Index((\"Column{}\".format(i) for i in range(shape[1])), name=\"Column\")\n",
    "\n",
    "    return (\n",
    "        pd.Series(vector, index=columns, name=\"Vector\"),\n",
    "        pd.DataFrame(\n",
    "            matrix,\n",
    "            index=pd.Index((\"Row{}\".format(i) for i in range(shape[0])), name=\"Row\"),\n",
    "            columns=columns,\n",
    "        ),\n",
    "    )"
   ]
  },
  {
   "cell_type": "markdown",
   "metadata": {},
   "source": [
    "## function_heat_map"
   ],
   "execution_count": null,
   "outputs": []
  },
  {
   "cell_type": "code",
   "execution_count": null,
   "metadata": {
    "ExecuteTime": {
     "end_time": "2018-05-15T10:46:36.617163Z",
     "start_time": "2018-05-15T10:46:33.667703Z"
    }
   },
   "outputs": [],
   "source": [
    "for shape in (\n",
    "    (1, 8),\n",
    "    (2, 8),\n",
    "    (8, 8),\n",
    "    (64, 8),\n",
    "    (8, 2),\n",
    "    (8, 4),\n",
    "    (8, 256),\n",
    "):\n",
    "\n",
    "    vector, matrix = simulate_vector_and_matrix(shape)\n",
    "\n",
    "    kraft.function_heat_map(vector, matrix, function, n_extreme=None)"
   ]
  },
  {
   "cell_type": "code",
   "execution_count": null,
   "metadata": {},
   "outputs": [],
   "source": [
    "shape = (10, 20)\n",
    "\n",
    "vector, matrix = simulate_vector_and_matrix(shape)\n",
    "\n",
    "# matrix.iloc[0] = np.nan\n",
    "\n",
    "matrix.iloc[:, 0] = np.nan\n",
    "\n",
    "matrix.iloc[-2:, -2:] = np.nan\n",
    "\n",
    "kraft.function_heat_map(vector, matrix, function)"
   ]
  },
  {
   "cell_type": "code",
   "execution_count": null,
   "metadata": {},
   "outputs": [],
   "source": [
    "shape = (10, 8)\n",
    "\n",
    "matrix = simulate_vector_and_matrix(shape)[1]\n",
    "\n",
    "for vector in (\n",
    "    ((1, 2, 2, 2, 2, 0, 0, 0)),\n",
    "    ((1, 1, 2, 2, 2, 0, 0, 0)),\n",
    "):\n",
    "\n",
    "    vector = pd.Series(vector, index=matrix.columns)\n",
    "\n",
    "    for vector_ascending in (None, True, False):\n",
    "\n",
    "        kraft.function_heat_map(\n",
    "            vector,\n",
    "            matrix,\n",
    "            function,\n",
    "            vector_ascending=vector_ascending,\n",
    "            vector_data_type=\"categorical\",\n",
    "        )"
   ]
  },
  {
   "cell_type": "code",
   "execution_count": null,
   "metadata": {
    "ExecuteTime": {
     "end_time": "2018-05-15T10:47:59.764349Z",
     "start_time": "2018-05-15T10:46:36.621876Z"
    }
   },
   "outputs": [],
   "source": [
    "vector = pd.read_csv(\n",
    "    \"function_heat_map_vector.tsv\", sep=\"\\t\", index_col=0, squeeze=True\n",
    ")\n",
    "\n",
    "matrix = pd.read_csv(\"function_heat_map_matrix.tsv\", sep=\"\\t\", index_col=0)\n",
    "\n",
    "kraft.function_heat_map(\n",
    "    vector, matrix, function, n_sampling=0, n_permutation=0, vector_data_type=\"binary\"\n",
    ")\n",
    "\n",
    "kraft.function_heat_map(\n",
    "    matrix.iloc[0], matrix.iloc[:1], function, n_sampling=0, n_permutation=0, plot_std=3\n",
    ")\n",
    "\n",
    "kraft.function_heat_map(\n",
    "    matrix.iloc[0], matrix.iloc[:2], function, n_sampling=0, n_permutation=0, plot_std=3\n",
    ")"
   ]
  },
  {
   "cell_type": "markdown",
   "metadata": {},
   "source": [
    "## function_heat_map_summary"
   ],
   "execution_count": null,
   "outputs": []
  },
  {
   "cell_type": "code",
   "execution_count": null,
   "metadata": {
    "ExecuteTime": {
     "end_time": "2018-05-15T10:48:15.310369Z",
     "start_time": "2018-05-15T10:48:08.080994Z"
    }
   },
   "outputs": [],
   "source": [
    "vector, matrix = simulate_vector_and_matrix((4, 10))\n",
    "\n",
    "matrix_3 = simulate_vector_and_matrix((3, 10), 3)[1]\n",
    "\n",
    "matrix_2 = simulate_vector_and_matrix((2, 10), 2)[1]\n",
    "\n",
    "matrix.drop(matrix.columns[-3], axis=1, inplace=True)\n",
    "\n",
    "matrix_3.drop(matrix_3.columns[-2], axis=1, inplace=True)\n",
    "\n",
    "matrix_2.drop(matrix_2.columns[-1], axis=1, inplace=True)\n",
    "\n",
    "matrix_dicts = {\n",
    "    \"Matrix A\": {\"matrix\": matrix, \"data_type\": \"continuous\"},\n",
    "    \"Matrix B\": {\"matrix\": matrix_3, \"data_type\": \"categorical\"},\n",
    "    \"Matrix C\": {\"matrix\": matrix_2, \"data_type\": \"binary\"},\n",
    "}\n",
    "\n",
    "statistics_dicts = {\n",
    "    name: kraft.function_heat_map(vector, matrix_dict[\"matrix\"], function, plot=False)\n",
    "    for name, matrix_dict in matrix_dicts.items()\n",
    "}\n",
    "\n",
    "for plot_only_shared in (False, True):\n",
    "\n",
    "    kraft.function_heat_map_summary(\n",
    "        vector, matrix_dicts, statistics_dicts, plot_only_shared=plot_only_shared,\n",
    "    )"
   ]
  },
  {
   "cell_type": "markdown",
   "metadata": {},
   "source": [
    "## get_clustering_index"
   ],
   "execution_count": null,
   "outputs": []
  },
  {
   "cell_type": "code",
   "execution_count": null,
   "metadata": {},
   "outputs": [],
   "source": [
    "matrix = np.asarray(\n",
    "    [[9, 19, 9, 19, 9], [0, 10, 0, 10, 0], [1, 11, 1, 11, 1], [8, 18, 8, 18, 8],]\n",
    ")\n",
    "\n",
    "for axis in (0, 1):\n",
    "\n",
    "    print(kraft.get_clustering_index(matrix, axis))"
   ]
  },
  {
   "cell_type": "markdown",
   "metadata": {},
   "source": [
    "## get_colorscale_color"
   ],
   "execution_count": null,
   "outputs": []
  },
  {
   "cell_type": "markdown",
   "metadata": {},
   "source": [
    "## infer_assuming_independence"
   ],
   "execution_count": null,
   "outputs": []
  },
  {
   "cell_type": "markdown",
   "metadata": {},
   "source": [
    "## infer"
   ],
   "execution_count": null,
   "outputs": []
  }
 ],
 "metadata": {
  "kernelspec": {
   "display_name": "Python 3",
   "language": "python",
   "name": "python3"
  },
  "language_info": {
   "codemirror_mode": {
    "name": "ipython",
    "version": 3
   },
   "file_extension": ".py",
   "mimetype": "text/x-python",
   "name": "python",
   "nbconvert_exporter": "python",
   "pygments_lexer": "ipython3",
   "version": "3.7.6"
  }
 },
 "nbformat": 4,
 "nbformat_minor": 4
}
