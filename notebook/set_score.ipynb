{
 "cells": [
  {
   "cell_type": "code",
   "execution_count": null,
   "metadata": {},
   "outputs": [],
   "source": [
    "%load_ext autoreload\n",
    "%autoreload 2"
   ]
  },
  {
   "cell_type": "code",
   "execution_count": null,
   "metadata": {},
   "outputs": [],
   "source": [
    "import numpy as np\n",
    "import pandas as pd\n",
    "\n",
    "import kraft"
   ]
  },
  {
   "cell_type": "markdown",
   "metadata": {},
   "source": [
    "## score_set"
   ]
  },
  {
   "cell_type": "markdown",
   "metadata": {},
   "source": [
    "## get_c"
   ]
  },
  {
   "cell_type": "markdown",
   "metadata": {},
   "source": [
    "## cumulative_rank"
   ]
  },
  {
   "cell_type": "markdown",
   "metadata": {},
   "source": [
    "## cumulative_magnitude"
   ]
  },
  {
   "cell_type": "code",
   "execution_count": null,
   "metadata": {},
   "outputs": [],
   "source": [
    "for n_element in (10,):\n",
    "\n",
    "    element_value = np.random.normal(size=n_element // 2)\n",
    "\n",
    "    element_value = pd.Series(\n",
    "        np.sort(np.concatenate((element_value, -element_value))),\n",
    "        name=\"Value\",\n",
    "        index=pd.Index(\n",
    "            (\"Element{}\".format(i) for i in range(n_element)), name=\"Element\"\n",
    "        ),\n",
    "    )\n",
    "\n",
    "    for n_skip in (1,):\n",
    "\n",
    "        if n_skip < 1:\n",
    "\n",
    "            n_skip = int(n_skip * n_element)\n",
    "\n",
    "        for n_top in (2,):\n",
    "\n",
    "            if n_top < 1:\n",
    "\n",
    "                n_top = int(n_top * n_element)\n",
    "\n",
    "            for rate_top_hit in (1,):\n",
    "\n",
    "                if rate_top_hit < 1:\n",
    "\n",
    "                    rate_top_hit = int(rate_top_hit * n_top)\n",
    "\n",
    "                for side in (\"+\",):\n",
    "\n",
    "                    set_elements = []\n",
    "\n",
    "                    if \"-\" in side:\n",
    "\n",
    "                        set_elements += element_value.index[\n",
    "                            n_skip : n_skip + n_top : rate_top_hit\n",
    "                        ].tolist()\n",
    "\n",
    "                    if \"+\" in side:\n",
    "\n",
    "                        set_elements += element_value.index[\n",
    "                            -(n_skip + 1) : -(n_skip + 1 + n_top) : -rate_top_hit\n",
    "                        ].tolist()\n",
    "\n",
    "                    for method in (\"classic\", \"2020\"):\n",
    "\n",
    "                        for symmetry in (False, True):\n",
    "\n",
    "                            kraft.score_set(\n",
    "                                element_value,\n",
    "                                set_elements,\n",
    "                                method=method,\n",
    "                                symmetry=symmetry,\n",
    "                            )"
   ]
  },
  {
   "cell_type": "code",
   "execution_count": null,
   "metadata": {},
   "outputs": [],
   "source": [
    "element_value = pd.read_csv(\"gene_value.tsv\", sep=\"\\t\", index_col=0, squeeze=True)\n",
    "\n",
    "set_elements = kraft.read_gmt(\"c2.gmt\")"
   ]
  },
  {
   "cell_type": "code",
   "execution_count": null,
   "metadata": {},
   "outputs": [],
   "source": [
    "method = \"2020\"\n",
    "\n",
    "symmetry = True"
   ]
  },
  {
   "cell_type": "code",
   "execution_count": null,
   "metadata": {},
   "outputs": [],
   "source": [
    "sets = []\n",
    "\n",
    "sets += [\n",
    "    \"COLLER_MYC_TARGETS_UP\",\n",
    "]\n",
    "\n",
    "sets += list(np.random.choice(list(set_elements.keys()), size=2, replace=False))\n",
    "\n",
    "for set_ in sets:\n",
    "\n",
    "    kraft.score_set(\n",
    "        element_value, set_elements[set_], method=method, symmetry=symmetry, title=set_\n",
    "    )"
   ]
  },
  {
   "cell_type": "code",
   "execution_count": null,
   "metadata": {},
   "outputs": [],
   "source": [
    "set_score = {}\n",
    "\n",
    "for set_, set_elements_ in set_elements.items():\n",
    "\n",
    "    set_score[set_] = kraft.score_set(\n",
    "        element_value, set_elements_, method=method, plot=False, title=set_\n",
    "    )\n",
    "\n",
    "set_score = pd.Series(set_score).sort_values()\n",
    "\n",
    "n_extreme = 2\n",
    "\n",
    "for i in list(range(n_extreme)) + list(range(-n_extreme, 0)):\n",
    "\n",
    "    set_ = set_score.index[i]\n",
    "\n",
    "    kraft.score_set(\n",
    "        element_value, set_elements[set_], method=method, symmetry=symmetry, title=set_\n",
    "    )"
   ]
  }
 ],
 "metadata": {
  "kernelspec": {
   "display_name": "Python 3",
   "language": "python",
   "name": "python3"
  },
  "language_info": {
   "codemirror_mode": {
    "name": "ipython",
    "version": 3
   },
   "file_extension": ".py",
   "mimetype": "text/x-python",
   "name": "python",
   "nbconvert_exporter": "python",
   "pygments_lexer": "ipython3",
   "version": "3.7.6"
  }
 },
 "nbformat": 4,
 "nbformat_minor": 4
}
