{
 "cells": [
  {
   "cell_type": "code",
   "execution_count": null,
   "metadata": {
    "ExecuteTime": {
     "end_time": "2018-04-25T18:32:42.618833Z",
     "start_time": "2018-04-25T18:32:42.613660Z"
    }
   },
   "outputs": [],
   "source": [
    "import os\n",
    "import sys"
   ]
  },
  {
   "cell_type": "code",
   "execution_count": null,
   "metadata": {
    "ExecuteTime": {
     "end_time": "2018-04-25T18:32:42.701234Z",
     "start_time": "2018-04-25T18:32:42.622758Z"
    }
   },
   "outputs": [],
   "source": [
    "imports = []\n",
    "\n",
    "for dp, dns, fns in os.walk('../ccal'):\n",
    "\n",
    "    split = dp.split('/')\n",
    "    if len(split) == 4:\n",
    "\n",
    "        if split[2] == split[3]:\n",
    "\n",
    "            for fn in fns:\n",
    "                if fn.endswith('.py'):\n",
    "\n",
    "                    with open(os.path.join(dp, fn)) as f:\n",
    "\n",
    "                        for l in f.readlines():\n",
    "\n",
    "                            if l.startswith('def '):\n",
    "                                l = l.strip()\n",
    "\n",
    "                                function_name = l.split('(')[0][4:]\n",
    "                                if not function_name.startswith('_'):\n",
    "\n",
    "                                    imports.append(\n",
    "                                        'from .{0}.{0}.{1} import {2}'.format(\n",
    "                                            split[2], fn[:-3], function_name))\n",
    "\n",
    "                            elif l.startswith('class '):\n",
    "                                l = l.strip()\n",
    "\n",
    "                                class_name = l.split('(')[0][6:-1]\n",
    "\n",
    "                                imports.append(\n",
    "                                    'from .{0}.{0}.{1} import {2}'.format(\n",
    "                                        split[2], fn[:-3], class_name))\n",
    "        else:\n",
    "            print('Skipped {}.'.format(os.path.join(*split)))\n",
    "\n",
    "extras = (\n",
    "    'explore_components = nmf_consensus_cluster_with_multiple_k',\n",
    "    'explore_states = hierarchical_consensus_cluster_with_multiple_k', )\n",
    "\n",
    "with open('../ccal/__init__.py', 'w') as f:\n",
    "    f.write('\\n'.join(imports))\n",
    "    f.write('\\n' * 2)\n",
    "    f.write('\\n'.join(extras))"
   ]
  },
  {
   "cell_type": "code",
   "execution_count": null,
   "metadata": {
    "ExecuteTime": {
     "end_time": "2018-04-25T18:32:44.567891Z",
     "start_time": "2018-04-25T18:32:42.704808Z"
    }
   },
   "outputs": [],
   "source": [
    "sys.path.insert(0, '..')\n",
    "import ccal"
   ]
  },
  {
   "cell_type": "code",
   "execution_count": null,
   "metadata": {
    "ExecuteTime": {
     "end_time": "2018-04-25T18:32:44.569412Z",
     "start_time": "2018-04-25T18:32:42.615Z"
    },
    "scrolled": false
   },
   "outputs": [],
   "source": [
    "dir(ccal)"
   ]
  }
 ],
 "metadata": {
  "kernelspec": {
   "display_name": "Python 3",
   "language": "python",
   "name": "python3"
  },
  "language_info": {
   "codemirror_mode": {
    "name": "ipython",
    "version": 3
   },
   "file_extension": ".py",
   "mimetype": "text/x-python",
   "name": "python",
   "nbconvert_exporter": "python",
   "pygments_lexer": "ipython3",
   "version": "3.6.5"
  }
 },
 "nbformat": 4,
 "nbformat_minor": 2
}
