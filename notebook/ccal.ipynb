{
 "cells": [
  {
   "cell_type": "code",
   "execution_count": null,
   "metadata": {
    "ExecuteTime": {
     "end_time": "2018-05-06T11:38:56.623412Z",
     "start_time": "2018-05-06T11:38:56.619308Z"
    }
   },
   "outputs": [],
   "source": [
    "import os\n",
    "import subprocess\n",
    "import sys"
   ]
  },
  {
   "cell_type": "code",
   "execution_count": null,
   "metadata": {
    "ExecuteTime": {
     "end_time": "2018-05-06T11:38:56.630599Z",
     "start_time": "2018-05-06T11:38:56.627283Z"
    }
   },
   "outputs": [],
   "source": [
    "version = '0.6.7'"
   ]
  },
  {
   "cell_type": "code",
   "execution_count": null,
   "metadata": {
    "ExecuteTime": {
     "end_time": "2018-05-06T11:38:56.779843Z",
     "start_time": "2018-05-06T11:38:56.633610Z"
    }
   },
   "outputs": [],
   "source": [
    "imports = []\n",
    "\n",
    "for dp, dns, fns in os.walk('../ccal'):\n",
    "\n",
    "    split = dp.split('/')\n",
    "\n",
    "    if len(split) == 4:\n",
    "\n",
    "        if split[2] == split[3]:\n",
    "\n",
    "            for fn in fns:\n",
    "\n",
    "                if fn.endswith('.py'):\n",
    "\n",
    "                    with open(os.path.join(dp, fn)) as f:\n",
    "\n",
    "                        for l in f.readlines():\n",
    "\n",
    "                            if l.startswith('def '):\n",
    "\n",
    "                                l = l.strip()\n",
    "\n",
    "                                function_name = l.split('(')[0][4:]\n",
    "\n",
    "                                if not function_name.startswith('_'):\n",
    "\n",
    "                                    imports.append(\n",
    "                                        'from .{0}.{0}.{1} import {2}'.format(\n",
    "                                            split[2], fn[:-3], function_name))\n",
    "\n",
    "                            elif l.startswith('class '):\n",
    "\n",
    "                                l = l.strip()\n",
    "\n",
    "                                class_name = l.split('(')[0][6:-1]\n",
    "\n",
    "                                imports.append(\n",
    "                                    'from .{0}.{0}.{1} import {2}'.format(\n",
    "                                        split[2], fn[:-3], class_name))\n",
    "\n",
    "        else:\n",
    "\n",
    "            print('Skipped {}.'.format(os.path.join(*split)))\n",
    "\n",
    "spacer = '\\n\\n'\n",
    "\n",
    "with open('../ccal/__init__.py', 'w') as file:\n",
    "\n",
    "    file.write('from os.path import abspath')\n",
    "\n",
    "    file.write(spacer)\n",
    "\n",
    "    file.write('VERSION = \\'{}\\''.format(version))\n",
    "\n",
    "    file.write(spacer)\n",
    "\n",
    "    file.write(\n",
    "        'print(\\'CCAL version {} @ {}\\'.format(VERSION, abspath(__file__)))')\n",
    "\n",
    "    file.write(spacer)\n",
    "\n",
    "    file.write('\\n'.join(imports))\n",
    "\n",
    "    file.write(spacer)\n",
    "    file.write('\\n')\n",
    "\n",
    "    file.write('explore_components = nmf_consensus_cluster_with_multiple_k')\n",
    "\n",
    "    file.write(spacer)\n",
    "\n",
    "    file.write(\n",
    "        'explore_states = hierarchical_consensus_cluster_with_multiple_k')\n",
    "\n",
    "    file.write(spacer)"
   ]
  },
  {
   "cell_type": "code",
   "execution_count": null,
   "metadata": {
    "ExecuteTime": {
     "end_time": "2018-05-06T11:39:00.492602Z",
     "start_time": "2018-05-06T11:38:56.782733Z"
    }
   },
   "outputs": [],
   "source": [
    "sys.path.insert(0, '..')\n",
    "\n",
    "import ccal"
   ]
  },
  {
   "cell_type": "code",
   "execution_count": null,
   "metadata": {
    "ExecuteTime": {
     "end_time": "2018-05-06T11:39:00.525963Z",
     "start_time": "2018-05-06T11:39:00.495995Z"
    },
    "scrolled": false
   },
   "outputs": [],
   "source": [
    "dir(ccal)"
   ]
  }
 ],
 "metadata": {
  "kernelspec": {
   "display_name": "Python 3",
   "language": "python",
   "name": "python3"
  },
  "language_info": {
   "codemirror_mode": {
    "name": "ipython",
    "version": 3
   },
   "file_extension": ".py",
   "mimetype": "text/x-python",
   "name": "python",
   "nbconvert_exporter": "python",
   "pygments_lexer": "ipython3",
   "version": "3.6.5"
  }
 },
 "nbformat": 4,
 "nbformat_minor": 2
}
