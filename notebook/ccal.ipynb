{
 "cells": [
  {
   "cell_type": "code",
   "execution_count": 1,
   "metadata": {
    "ExecuteTime": {
     "end_time": "2018-04-25T18:32:42.618833Z",
     "start_time": "2018-04-25T18:32:42.613660Z"
    }
   },
   "outputs": [],
   "source": [
    "import os\n",
    "import sys"
   ]
  },
  {
   "cell_type": "code",
   "execution_count": 2,
   "metadata": {
    "ExecuteTime": {
     "end_time": "2018-04-25T18:32:42.701234Z",
     "start_time": "2018-04-25T18:32:42.622758Z"
    }
   },
   "outputs": [
    {
     "name": "stdout",
     "output_type": "stream",
     "text": [
      "Skipped ../ccal/gps_map/notebook.\n",
      "Skipped ../ccal/nmf_map/notebook.\n",
      "Skipped ../ccal/cluster/notebook.\n",
      "Skipped ../ccal/information/notebook.\n",
      "Skipped ../ccal/context/notebook.\n",
      "Skipped ../ccal/plot/notebook.\n",
      "Skipped ../ccal/gsea/notebook.\n",
      "Skipped ../ccal/match/notebook.\n",
      "Skipped ../ccal/geo/notebook.\n",
      "Skipped ../ccal/gct_gmt/notebook.\n",
      "Skipped ../ccal/linear_model/notebook.\n",
      "Skipped ../ccal/support/notebook.\n",
      "Skipped ../ccal/sequencing_process/notebook.\n",
      "Skipped ../ccal/sequencing_process/resource.\n",
      "Skipped ../ccal/nd_array/notebook.\n",
      "Skipped ../ccal/matrix_decomposition/matrix_factorization.\n",
      "Skipped ../ccal/matrix_decomposition/notebook.\n"
     ]
    }
   ],
   "source": [
    "imports = []\n",
    "\n",
    "for dp, dns, fns in os.walk('../ccal'):\n",
    "\n",
    "    split = dp.split('/')\n",
    "    if len(split) == 4:\n",
    "\n",
    "        if split[2] == split[3]:\n",
    "\n",
    "            for fn in fns:\n",
    "                if fn.endswith('.py'):\n",
    "\n",
    "                    with open(os.path.join(dp, fn)) as f:\n",
    "\n",
    "                        for l in f.readlines():\n",
    "\n",
    "                            if l.startswith('def '):\n",
    "                                l = l.strip()\n",
    "\n",
    "                                function_name = l.split('(')[0][4:]\n",
    "                                if not function_name.startswith('_'):\n",
    "\n",
    "                                    imports.append(\n",
    "                                        'from .{0}.{0}.{1} import {2}'.format(\n",
    "                                            split[2], fn[:-3], function_name))\n",
    "\n",
    "                            elif l.startswith('class '):\n",
    "                                l = l.strip()\n",
    "\n",
    "                                class_name = l.split('(')[0][6:-1]\n",
    "\n",
    "                                imports.append(\n",
    "                                    'from .{0}.{0}.{1} import {2}'.format(\n",
    "                                        split[2], fn[:-3], class_name))\n",
    "        else:\n",
    "            print('Skipped {}.'.format(os.path.join(*split)))\n",
    "\n",
    "extras = (\n",
    "    'explore_components = nmf_consensus_cluster_with_multiple_k',\n",
    "    'explore_states = hierarchical_consensus_cluster_with_multiple_k', )\n",
    "\n",
    "with open('../ccal/__init__.py', 'w') as f:\n",
    "    f.write('\\n'.join(imports))\n",
    "    f.write('\\n' * 2)\n",
    "    f.write('\\n'.join(extras))"
   ]
  },
  {
   "cell_type": "code",
   "execution_count": 3,
   "metadata": {
    "ExecuteTime": {
     "end_time": "2018-04-25T18:32:44.567891Z",
     "start_time": "2018-04-25T18:32:42.704808Z"
    }
   },
   "outputs": [
    {
     "ename": "ModuleNotFoundError",
     "evalue": "No module named 'ccal.gps_map.gps_map.nd_array.nd_array.make_index_and_fraction_grid_coordinates_pair'",
     "output_type": "error",
     "traceback": [
      "\u001b[0;31m---------------------------------------------------------------------------\u001b[0m",
      "\u001b[0;31mModuleNotFoundError\u001b[0m                       Traceback (most recent call last)",
      "\u001b[0;32m<ipython-input-3-7c20a2b1e263>\u001b[0m in \u001b[0;36m<module>\u001b[0;34m()\u001b[0m\n\u001b[1;32m      1\u001b[0m \u001b[0msys\u001b[0m\u001b[0;34m.\u001b[0m\u001b[0mpath\u001b[0m\u001b[0;34m.\u001b[0m\u001b[0minsert\u001b[0m\u001b[0;34m(\u001b[0m\u001b[0;36m0\u001b[0m\u001b[0;34m,\u001b[0m \u001b[0;34m'..'\u001b[0m\u001b[0;34m)\u001b[0m\u001b[0;34m\u001b[0m\u001b[0m\n\u001b[0;32m----> 2\u001b[0;31m \u001b[0;32mimport\u001b[0m \u001b[0mccal\u001b[0m\u001b[0;34m\u001b[0m\u001b[0m\n\u001b[0m",
      "\u001b[0;32m~/Jumis/github_ccal/ccal/ccal/__init__.py\u001b[0m in \u001b[0;36m<module>\u001b[0;34m()\u001b[0m\n\u001b[1;32m      2\u001b[0m \u001b[0;32mfrom\u001b[0m \u001b[0;34m.\u001b[0m\u001b[0mgps_map\u001b[0m\u001b[0;34m.\u001b[0m\u001b[0mgps_map\u001b[0m\u001b[0;34m.\u001b[0m\u001b[0mmake_sample_x_dimension\u001b[0m \u001b[0;32mimport\u001b[0m \u001b[0mmake_sample_x_dimension\u001b[0m\u001b[0;34m\u001b[0m\u001b[0m\n\u001b[1;32m      3\u001b[0m \u001b[0;32mfrom\u001b[0m \u001b[0;34m.\u001b[0m\u001b[0mgps_map\u001b[0m\u001b[0;34m.\u001b[0m\u001b[0mgps_map\u001b[0m\u001b[0;34m.\u001b[0m\u001b[0mmake_node_x_normalized_dimension\u001b[0m \u001b[0;32mimport\u001b[0m \u001b[0mmake_node_x_normalized_dimension\u001b[0m\u001b[0;34m\u001b[0m\u001b[0m\n\u001b[0;32m----> 4\u001b[0;31m \u001b[0;32mfrom\u001b[0m \u001b[0;34m.\u001b[0m\u001b[0mgps_map\u001b[0m\u001b[0;34m.\u001b[0m\u001b[0mgps_map\u001b[0m\u001b[0;34m.\u001b[0m\u001b[0mGPSMap\u001b[0m \u001b[0;32mimport\u001b[0m \u001b[0mGPSMap\u001b[0m\u001b[0;34m\u001b[0m\u001b[0m\n\u001b[0m\u001b[1;32m      5\u001b[0m \u001b[0;32mfrom\u001b[0m \u001b[0;34m.\u001b[0m\u001b[0mgps_map\u001b[0m\u001b[0;34m.\u001b[0m\u001b[0mgps_map\u001b[0m\u001b[0;34m.\u001b[0m\u001b[0mget_samples_near_phenotype_centroids\u001b[0m \u001b[0;32mimport\u001b[0m \u001b[0mget_samples_near_phenotype_centroids\u001b[0m\u001b[0;34m\u001b[0m\u001b[0m\n\u001b[1;32m      6\u001b[0m \u001b[0;32mfrom\u001b[0m \u001b[0;34m.\u001b[0m\u001b[0mgps_map\u001b[0m\u001b[0;34m.\u001b[0m\u001b[0mgps_map\u001b[0m\u001b[0;34m.\u001b[0m\u001b[0mmake_grid_values_and_continuous_phenotypes\u001b[0m \u001b[0;32mimport\u001b[0m \u001b[0mmake_grid_values_and_continuous_phenotypes\u001b[0m\u001b[0;34m\u001b[0m\u001b[0m\n",
      "\u001b[0;32m~/Jumis/github_ccal/ccal/ccal/gps_map/gps_map/GPSMap.py\u001b[0m in \u001b[0;36m<module>\u001b[0;34m()\u001b[0m\n\u001b[1;32m     13\u001b[0m \u001b[0;32mfrom\u001b[0m \u001b[0;34m.\u001b[0m\u001b[0mmake_grid_values_and_categorical_phenotypes\u001b[0m \u001b[0;32mimport\u001b[0m\u001b[0;31m \u001b[0m\u001b[0;31m\\\u001b[0m\u001b[0;34m\u001b[0m\u001b[0m\n\u001b[1;32m     14\u001b[0m     \u001b[0mmake_grid_values_and_categorical_phenotypes\u001b[0m\u001b[0;34m\u001b[0m\u001b[0m\n\u001b[0;32m---> 15\u001b[0;31m \u001b[0;32mfrom\u001b[0m \u001b[0;34m.\u001b[0m\u001b[0mmake_grid_values_and_continuous_phenotypes\u001b[0m \u001b[0;32mimport\u001b[0m\u001b[0;31m \u001b[0m\u001b[0;31m\\\u001b[0m\u001b[0;34m\u001b[0m\u001b[0m\n\u001b[0m\u001b[1;32m     16\u001b[0m     \u001b[0mmake_grid_values_and_continuous_phenotypes\u001b[0m\u001b[0;34m\u001b[0m\u001b[0m\n\u001b[1;32m     17\u001b[0m \u001b[0;32mfrom\u001b[0m \u001b[0;34m.\u001b[0m\u001b[0mmake_node_x_normalized_dimension\u001b[0m \u001b[0;32mimport\u001b[0m \u001b[0mmake_node_x_normalized_dimension\u001b[0m\u001b[0;34m\u001b[0m\u001b[0m\n",
      "\u001b[0;32m~/Jumis/github_ccal/ccal/ccal/gps_map/gps_map/make_grid_values_and_continuous_phenotypes.py\u001b[0m in \u001b[0;36m<module>\u001b[0;34m()\u001b[0m\n\u001b[1;32m      2\u001b[0m \u001b[0;32mfrom\u001b[0m \u001b[0msklearn\u001b[0m\u001b[0;34m.\u001b[0m\u001b[0msvm\u001b[0m \u001b[0;32mimport\u001b[0m \u001b[0mSVR\u001b[0m\u001b[0;34m\u001b[0m\u001b[0m\n\u001b[1;32m      3\u001b[0m \u001b[0;34m\u001b[0m\u001b[0m\n\u001b[0;32m----> 4\u001b[0;31m \u001b[0;32mfrom\u001b[0m \u001b[0;34m.\u001b[0m\u001b[0mnd_array\u001b[0m\u001b[0;34m.\u001b[0m\u001b[0mnd_array\u001b[0m\u001b[0;34m.\u001b[0m\u001b[0mmake_index_and_fraction_grid_coordinates_pair\u001b[0m \u001b[0;32mimport\u001b[0m\u001b[0;31m \u001b[0m\u001b[0;31m\\\u001b[0m\u001b[0;34m\u001b[0m\u001b[0m\n\u001b[0m\u001b[1;32m      5\u001b[0m     \u001b[0mmake_index_and_fraction_grid_coordinates_pair\u001b[0m\u001b[0;34m\u001b[0m\u001b[0m\n\u001b[1;32m      6\u001b[0m \u001b[0;34m\u001b[0m\u001b[0m\n",
      "\u001b[0;31mModuleNotFoundError\u001b[0m: No module named 'ccal.gps_map.gps_map.nd_array.nd_array.make_index_and_fraction_grid_coordinates_pair'"
     ]
    }
   ],
   "source": [
    "sys.path.insert(0, '..')\n",
    "import ccal"
   ]
  },
  {
   "cell_type": "code",
   "execution_count": null,
   "metadata": {
    "ExecuteTime": {
     "end_time": "2018-04-25T18:32:44.569412Z",
     "start_time": "2018-04-25T18:32:42.615Z"
    },
    "scrolled": false
   },
   "outputs": [],
   "source": [
    "dir(ccal)"
   ]
  }
 ],
 "metadata": {
  "kernelspec": {
   "display_name": "Python 3",
   "language": "python",
   "name": "python3"
  },
  "language_info": {
   "codemirror_mode": {
    "name": "ipython",
    "version": 3
   },
   "file_extension": ".py",
   "mimetype": "text/x-python",
   "name": "python",
   "nbconvert_exporter": "python",
   "pygments_lexer": "ipython3",
   "version": "3.6.5"
  }
 },
 "nbformat": 4,
 "nbformat_minor": 2
}
