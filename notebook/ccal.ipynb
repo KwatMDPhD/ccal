{
 "cells": [
  {
   "cell_type": "code",
   "execution_count": 1,
   "metadata": {
    "ExecuteTime": {
     "end_time": "2018-05-15T10:25:42.022108Z",
     "start_time": "2018-05-15T10:25:42.014536Z"
    }
   },
   "outputs": [],
   "source": [
    "import os\n",
    "import subprocess\n",
    "import sys"
   ]
  },
  {
   "cell_type": "code",
   "execution_count": 2,
   "metadata": {
    "ExecuteTime": {
     "end_time": "2018-05-15T10:25:42.057639Z",
     "start_time": "2018-05-15T10:25:42.050575Z"
    }
   },
   "outputs": [],
   "source": [
    "version = '0.6.28'"
   ]
  },
  {
   "cell_type": "code",
   "execution_count": 3,
   "metadata": {},
   "outputs": [],
   "source": [
    "def get_importable_names_from_py_file_path(py_file_path):\n",
    "\n",
    "    importable_names = []\n",
    "\n",
    "    with open(py_file_path) as file:\n",
    "\n",
    "        for line in file.readlines():\n",
    "\n",
    "            if line.startswith('def '):\n",
    "\n",
    "                importable_name = line.strip().split('(')[0][4:]\n",
    "\n",
    "                if not importable_name.startswith('_'):\n",
    "\n",
    "                    importable_names.append(importable_name)\n",
    "\n",
    "            elif line.startswith('class '):\n",
    "\n",
    "                importable_name = line.strip().split('(')[0][6:-1]\n",
    "\n",
    "                if not importable_name.startswith('_'):\n",
    "\n",
    "                    importable_names.append(importable_name)\n",
    "\n",
    "    return importable_names"
   ]
  },
  {
   "cell_type": "code",
   "execution_count": 4,
   "metadata": {},
   "outputs": [],
   "source": [
    "imports = []\n",
    "\n",
    "for dp, dns, fns in os.walk('../ccal'):\n",
    "\n",
    "    split = dp.split('/')\n",
    "\n",
    "    if len(split) == 4:\n",
    "\n",
    "        if split[2] == split[3]:\n",
    "\n",
    "            for fn in fns:\n",
    "\n",
    "                if not fn.startswith('_') and fn.endswith('.py'):\n",
    "\n",
    "                    imports.extend(['from .{0}.{0}.{1} import {2}'.format(\n",
    "                        split[2],\n",
    "                        fn[:-3],\n",
    "                        importable_name,\n",
    "                    ) for importable_name in get_importable_names_from_py_file_path('{}/{}'.format(\n",
    "                        dp,\n",
    "                        fn,\n",
    "                    ))])\n",
    "\n",
    "for fn in os.listdir('../ccal'):\n",
    "\n",
    "    if not fn.startswith('_') and fn.endswith('.py'):\n",
    "\n",
    "        imports.extend(['from .{} import {}'.format(\n",
    "            fn.rstrip('.py'),\n",
    "            importable_name,\n",
    "        ) for importable_name in get_importable_names_from_py_file_path('../ccal/{}'.format(fn))])\n",
    "\n",
    "spacer = '\\n\\n'\n",
    "\n",
    "with open(\n",
    "    '../ccal/__init__.py',\n",
    "    mode='w',\n",
    ") as file:\n",
    "\n",
    "    file.write('from os.path import abspath')\n",
    "\n",
    "    file.write(spacer)\n",
    "\n",
    "    file.write('VERSION = \\'{}\\''.format(version))\n",
    "\n",
    "    file.write(spacer)\n",
    "\n",
    "    file.write('print(\\'CCAL version {} @ {}\\'.format(VERSION, abspath(__file__)))')\n",
    "\n",
    "    file.write(spacer)\n",
    "\n",
    "    for import_line in imports:\n",
    "\n",
    "        file.write(import_line)\n",
    "        \n",
    "        file.write('\\n')"
   ]
  },
  {
   "cell_type": "code",
   "execution_count": 5,
   "metadata": {
    "ExecuteTime": {
     "end_time": "2018-05-15T10:25:56.297318Z",
     "start_time": "2018-05-15T10:25:42.298388Z"
    }
   },
   "outputs": [
    {
     "name": "stdout",
     "output_type": "stream",
     "text": [
      "CCAL version 0.6.28 @ /home/kwatme/github_ccal/ccal/ccal/__init__.py\n"
     ]
    },
    {
     "ename": "ImportError",
     "evalue": "attempted relative import with no known parent package",
     "output_type": "error",
     "traceback": [
      "\u001b[0;31m---------------------------------------------------------------------------\u001b[0m",
      "\u001b[0;31mImportError\u001b[0m                               Traceback (most recent call last)",
      "\u001b[0;32m<ipython-input-5-d15f23fd4156>\u001b[0m in \u001b[0;36m<module>\u001b[0;34m()\u001b[0m\n\u001b[1;32m      4\u001b[0m )\n\u001b[1;32m      5\u001b[0m \u001b[0;34m\u001b[0m\u001b[0m\n\u001b[0;32m----> 6\u001b[0;31m \u001b[0;32mimport\u001b[0m \u001b[0mccal\u001b[0m\u001b[0;34m\u001b[0m\u001b[0m\n\u001b[0m",
      "\u001b[0;32m~/github_ccal/ccal/ccal/__init__.py\u001b[0m in \u001b[0;36m<module>\u001b[0;34m()\u001b[0m\n\u001b[1;32m    213\u001b[0m \u001b[0;32mfrom\u001b[0m \u001b[0;34m.\u001b[0m\u001b[0minformation\u001b[0m\u001b[0;34m.\u001b[0m\u001b[0minformation\u001b[0m\u001b[0;34m.\u001b[0m\u001b[0mcompute_entropy\u001b[0m \u001b[0;32mimport\u001b[0m \u001b[0mcompute_entropy\u001b[0m\u001b[0;34m\u001b[0m\u001b[0m\n\u001b[1;32m    214\u001b[0m \u001b[0;32mfrom\u001b[0m \u001b[0;34m.\u001b[0m\u001b[0minformation\u001b[0m\u001b[0;34m.\u001b[0m\u001b[0minformation\u001b[0m\u001b[0;34m.\u001b[0m\u001b[0mcompute_information_distance\u001b[0m \u001b[0;32mimport\u001b[0m \u001b[0mcompute_information_distance\u001b[0m\u001b[0;34m\u001b[0m\u001b[0m\n\u001b[0;32m--> 215\u001b[0;31m \u001b[0;32mfrom\u001b[0m \u001b[0;34m.\u001b[0m\u001b[0mread_and_process_feature_x_sample\u001b[0m \u001b[0;32mimport\u001b[0m \u001b[0mread_and_process_feature_x_sample\u001b[0m\u001b[0;34m\u001b[0m\u001b[0m\n\u001b[0m",
      "\u001b[0;32m~/github_ccal/ccal/ccal/read_and_process_feature_x_sample.py\u001b[0m in \u001b[0;36m<module>\u001b[0;34m()\u001b[0m\n\u001b[1;32m      2\u001b[0m \u001b[0;32mfrom\u001b[0m \u001b[0mpandas\u001b[0m \u001b[0;32mimport\u001b[0m \u001b[0mDataFrame\u001b[0m\u001b[0;34m,\u001b[0m \u001b[0mread_table\u001b[0m\u001b[0;34m\u001b[0m\u001b[0m\n\u001b[1;32m      3\u001b[0m \u001b[0;34m\u001b[0m\u001b[0m\n\u001b[0;32m----> 4\u001b[0;31m \u001b[0;32mfrom\u001b[0m \u001b[0msummarize_feature_x_sample\u001b[0m \u001b[0;32mimport\u001b[0m \u001b[0msummarize_feature_x_sample\u001b[0m\u001b[0;34m\u001b[0m\u001b[0m\n\u001b[0m\u001b[1;32m      5\u001b[0m \u001b[0;34m\u001b[0m\u001b[0m\n\u001b[1;32m      6\u001b[0m \u001b[0;32mfrom\u001b[0m \u001b[0;34m.\u001b[0m\u001b[0mnd_array\u001b[0m\u001b[0;34m.\u001b[0m\u001b[0mnd_array\u001b[0m\u001b[0;34m.\u001b[0m\u001b[0mlog_nd_array\u001b[0m \u001b[0;32mimport\u001b[0m \u001b[0mlog_nd_array\u001b[0m\u001b[0;34m\u001b[0m\u001b[0m\n",
      "\u001b[0;32m~/github_ccal/ccal/summarize_feature_x_sample.py\u001b[0m in \u001b[0;36m<module>\u001b[0;34m()\u001b[0m\n\u001b[1;32m      1\u001b[0m \u001b[0;32mfrom\u001b[0m \u001b[0mnumpy\u001b[0m\u001b[0;34m.\u001b[0m\u001b[0mrandom\u001b[0m \u001b[0;32mimport\u001b[0m \u001b[0mchoice\u001b[0m\u001b[0;34m\u001b[0m\u001b[0m\n\u001b[1;32m      2\u001b[0m \u001b[0;34m\u001b[0m\u001b[0m\n\u001b[0;32m----> 3\u001b[0;31m \u001b[0;32mfrom\u001b[0m \u001b[0;34m.\u001b[0m\u001b[0mplot\u001b[0m\u001b[0;34m.\u001b[0m\u001b[0mplot\u001b[0m\u001b[0;34m.\u001b[0m\u001b[0mplot_distributions\u001b[0m \u001b[0;32mimport\u001b[0m \u001b[0mplot_distributions\u001b[0m\u001b[0;34m\u001b[0m\u001b[0m\n\u001b[0m\u001b[1;32m      4\u001b[0m \u001b[0;32mfrom\u001b[0m \u001b[0;34m.\u001b[0m\u001b[0mplot\u001b[0m\u001b[0;34m.\u001b[0m\u001b[0mplot\u001b[0m\u001b[0;34m.\u001b[0m\u001b[0mplot_heat_map\u001b[0m \u001b[0;32mimport\u001b[0m \u001b[0mplot_heat_map\u001b[0m\u001b[0;34m\u001b[0m\u001b[0m\n\u001b[1;32m      5\u001b[0m \u001b[0;34m\u001b[0m\u001b[0m\n",
      "\u001b[0;31mImportError\u001b[0m: attempted relative import with no known parent package"
     ]
    }
   ],
   "source": [
    "sys.path.insert(\n",
    "    0,\n",
    "    '..',\n",
    ")\n",
    "\n",
    "import ccal"
   ]
  },
  {
   "cell_type": "code",
   "execution_count": null,
   "metadata": {
    "ExecuteTime": {
     "end_time": "2018-05-15T10:25:56.520410Z",
     "start_time": "2018-05-15T10:25:56.374805Z"
    },
    "scrolled": false
   },
   "outputs": [],
   "source": [
    "dir(ccal)"
   ]
  }
 ],
 "metadata": {
  "kernelspec": {
   "display_name": "Python 3",
   "language": "python",
   "name": "python3"
  },
  "language_info": {
   "codemirror_mode": {
    "name": "ipython",
    "version": 3
   },
   "file_extension": ".py",
   "mimetype": "text/x-python",
   "name": "python",
   "nbconvert_exporter": "python",
   "pygments_lexer": "ipython3",
   "version": "3.6.5"
  }
 },
 "nbformat": 4,
 "nbformat_minor": 2
}
