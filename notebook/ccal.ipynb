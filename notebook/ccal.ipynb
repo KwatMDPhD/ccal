{
 "cells": [
  {
   "cell_type": "code",
   "execution_count": null,
   "metadata": {
    "ExecuteTime": {
     "end_time": "2018-04-26T07:52:31.117583Z",
     "start_time": "2018-04-26T07:52:31.113305Z"
    }
   },
   "outputs": [],
   "source": [
    "import os\n",
    "import sys"
   ]
  },
  {
   "cell_type": "code",
   "execution_count": null,
   "metadata": {
    "ExecuteTime": {
     "end_time": "2018-04-26T07:52:31.138786Z",
     "start_time": "2018-04-26T07:52:31.122251Z"
    }
   },
   "outputs": [],
   "source": [
    "cwd = os.getcwd()\n",
    "\n",
    "os.chdir(os.path.expanduser('../ccal'))\n",
    "\n",
    "for name in (\n",
    "        'classify',\n",
    "        'cluster',\n",
    "        'context',\n",
    "        'cross_validate',\n",
    "        'cryptograph',\n",
    "        'dimension_scale',\n",
    "        # 'environment',\n",
    "        'feature',\n",
    "        'gct_gmt',\n",
    "        'genome',\n",
    "        'geo',\n",
    "        'gsea',\n",
    "        'hdf5',\n",
    "        'information',\n",
    "        'kernel_density',\n",
    "        # 'kwatme.com',\n",
    "        'linear_algebra',\n",
    "        'linear_model',\n",
    "        'match',\n",
    "        'matrix_factorization',\n",
    "        'mutational_signature',\n",
    "        'nd_array',\n",
    "        'nmf_map',\n",
    "        'plot',\n",
    "        # 'probability',\n",
    "        'regress',\n",
    "        'sequence',\n",
    "        'sequencing_process',\n",
    "        # 'spro',\n",
    "        'support',\n",
    "        'tcga',\n",
    "        'variant',\n",
    "):\n",
    "\n",
    "    if name not in os.listdir():\n",
    "\n",
    "        subprocess.run(\n",
    "            'git submodule add https://github.com/KwatME/{0}'.format(name),\n",
    "            shell=True)\n",
    "\n",
    "os.chdir(cwd)"
   ]
  },
  {
   "cell_type": "code",
   "execution_count": null,
   "metadata": {
    "ExecuteTime": {
     "end_time": "2018-04-26T07:52:31.322620Z",
     "start_time": "2018-04-26T07:52:31.141890Z"
    }
   },
   "outputs": [],
   "source": [
    "imports = []\n",
    "\n",
    "for dp, dns, fns in os.walk('../ccal'):\n",
    "\n",
    "    split = dp.split('/')\n",
    "\n",
    "    if len(split) == 4:\n",
    "\n",
    "        if split[2] == split[3]:\n",
    "\n",
    "            for fn in fns:\n",
    "\n",
    "                if fn.endswith('.py'):\n",
    "\n",
    "                    with open(os.path.join(dp, fn)) as f:\n",
    "\n",
    "                        for l in f.readlines():\n",
    "\n",
    "                            if l.startswith('def '):\n",
    "\n",
    "                                l = l.strip()\n",
    "\n",
    "                                function_name = l.split('(')[0][4:]\n",
    "\n",
    "                                if not function_name.startswith('_'):\n",
    "\n",
    "                                    imports.append(\n",
    "                                        'from .{0}.{0}.{1} import {2}'.format(\n",
    "                                            split[2], fn[:-3], function_name))\n",
    "\n",
    "                            elif l.startswith('class '):\n",
    "\n",
    "                                l = l.strip()\n",
    "\n",
    "                                class_name = l.split('(')[0][6:-1]\n",
    "\n",
    "                                imports.append(\n",
    "                                    'from .{0}.{0}.{1} import {2}'.format(\n",
    "                                        split[2], fn[:-3], class_name))\n",
    "        else:\n",
    "            print('Skipped {}.'.format(os.path.join(*split)))\n",
    "\n",
    "extras = ('explore_components = nmf_consensus_cluster_with_multiple_k',\n",
    "          'explore_states = hierarchical_consensus_cluster_with_multiple_k')\n",
    "\n",
    "with open('../ccal/__init__.py', 'w') as file:\n",
    "\n",
    "    file.write('\\n'.join(imports))\n",
    "    file.write('\\n' * 2)\n",
    "    file.write('\\n'.join(extras))"
   ]
  },
  {
   "cell_type": "code",
   "execution_count": null,
   "metadata": {
    "ExecuteTime": {
     "end_time": "2018-04-26T07:52:44.305525Z",
     "start_time": "2018-04-26T07:52:31.327550Z"
    }
   },
   "outputs": [],
   "source": [
    "sys.path.insert(0, '..')\n",
    "import ccal"
   ]
  },
  {
   "cell_type": "code",
   "execution_count": null,
   "metadata": {
    "ExecuteTime": {
     "end_time": "2018-04-26T07:52:44.308616Z",
     "start_time": "2018-04-26T07:52:31.110Z"
    },
    "scrolled": false
   },
   "outputs": [],
   "source": [
    "dir(ccal)"
   ]
  }
 ],
 "metadata": {
  "kernelspec": {
   "display_name": "Python 3",
   "language": "python",
   "name": "python3"
  },
  "language_info": {
   "codemirror_mode": {
    "name": "ipython",
    "version": 3
   },
   "file_extension": ".py",
   "mimetype": "text/x-python",
   "name": "python",
   "nbconvert_exporter": "python",
   "pygments_lexer": "ipython3",
   "version": "3.6.5"
  }
 },
 "nbformat": 4,
 "nbformat_minor": 2
}
