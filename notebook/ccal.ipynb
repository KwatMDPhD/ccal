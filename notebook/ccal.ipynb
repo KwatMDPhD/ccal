{
 "cells": [
  {
   "cell_type": "code",
   "execution_count": null,
   "metadata": {
    "ExecuteTime": {
     "end_time": "2018-05-15T10:25:42.022108Z",
     "start_time": "2018-05-15T10:25:42.014536Z"
    }
   },
   "outputs": [],
   "source": [
    "import os\n",
    "import subprocess\n",
    "import sys"
   ]
  },
  {
   "cell_type": "code",
   "execution_count": null,
   "metadata": {
    "ExecuteTime": {
     "end_time": "2018-05-15T10:25:42.057639Z",
     "start_time": "2018-05-15T10:25:42.050575Z"
    }
   },
   "outputs": [],
   "source": [
    "version = \"0.8.12\""
   ]
  },
  {
   "cell_type": "code",
   "execution_count": null,
   "metadata": {},
   "outputs": [],
   "source": [
    "def get_importable_names_from_py_file_path(py_file_path):\n",
    "\n",
    "    importable_names = []\n",
    "\n",
    "    with open(py_file_path) as py_file:\n",
    "\n",
    "        for line in py_file.readlines():\n",
    "\n",
    "            if line.startswith(\"def \"):\n",
    "\n",
    "                importable_name = line.strip().split(\"(\")[0][4:]\n",
    "\n",
    "                if not importable_name.startswith(\"_\"):\n",
    "\n",
    "                    importable_names.append(importable_name)\n",
    "\n",
    "            elif line.startswith(\"class \"):\n",
    "\n",
    "                importable_name = line.strip().split(\"(\")[0][6:-1]\n",
    "\n",
    "                if not importable_name.startswith(\"_\"):\n",
    "\n",
    "                    importable_names.append(importable_name)\n",
    "\n",
    "    return importable_names"
   ]
  },
  {
   "cell_type": "code",
   "execution_count": null,
   "metadata": {},
   "outputs": [],
   "source": [
    "init_file_path = \"../ccal/__init__.py\""
   ]
  },
  {
   "cell_type": "code",
   "execution_count": null,
   "metadata": {},
   "outputs": [],
   "source": [
    "import_lines = []"
   ]
  },
  {
   "cell_type": "code",
   "execution_count": null,
   "metadata": {},
   "outputs": [],
   "source": [
    "for dp, dns, fns in os.walk(\"../ccal\"):\n",
    "\n",
    "    dp_split = dp.split(\"/\")\n",
    "\n",
    "    if len(dp_split) == 4:\n",
    "\n",
    "        if dp_split[2] == dp_split[3]:\n",
    "\n",
    "            for fn in fns:\n",
    "\n",
    "                if not fn.startswith(\"_\") and fn.endswith(\".py\"):\n",
    "\n",
    "                    importable_names = get_importable_names_from_py_file_path(\n",
    "                        \"{}/{}\".format(dp, fn)\n",
    "                    )\n",
    "\n",
    "                    import_lines.extend(\n",
    "                        [\n",
    "                            \"from .{0}.{0}.{1} import {2}\".format(\n",
    "                                dp_split[2], fn[:-3], importable_name\n",
    "                            )\n",
    "                            for importable_name in importable_names\n",
    "                        ]\n",
    "                    )"
   ]
  },
  {
   "cell_type": "code",
   "execution_count": null,
   "metadata": {},
   "outputs": [],
   "source": [
    "for fn in os.listdir(\"../ccal\"):\n",
    "\n",
    "    if not fn.startswith(\"_\") and fn.endswith(\".py\"):\n",
    "\n",
    "        importable_names = get_importable_names_from_py_file_path(\n",
    "            \"../ccal/{}\".format(fn)\n",
    "        )\n",
    "\n",
    "        import_lines.extend(\n",
    "            [\n",
    "                \"from .{} import {}\".format(fn.rstrip(\".py\"), importable_name)\n",
    "                for importable_name in importable_names\n",
    "            ]\n",
    "        )"
   ]
  },
  {
   "cell_type": "code",
   "execution_count": null,
   "metadata": {},
   "outputs": [],
   "source": [
    "with open(init_file_path, mode=\"w\") as init_file:\n",
    "\n",
    "    init_file.write(\n",
    "        \"\\n\".join(\n",
    "            (\n",
    "                \"from os.path import abspath\",\n",
    "                'VERSION = \"{}\"'.format(version),\n",
    "                'print(\"CCAL version {} @ {}\".format(VERSION, abspath(__file__)))',\n",
    "            )\n",
    "        )\n",
    "    )\n",
    "\n",
    "    init_file.write(\"\\n\")\n",
    "\n",
    "    init_file.writelines(\"\\n\".join(import_lines))"
   ]
  },
  {
   "cell_type": "code",
   "execution_count": null,
   "metadata": {},
   "outputs": [],
   "source": [
    "import subprocess\n",
    "\n",
    "subprocess.run(\"isort ../ccal/__init__.py\", shell=True, check=True)\n",
    "\n",
    "subprocess.run(\"black ../ccal/__init__.py\", shell=True, check=True)"
   ]
  },
  {
   "cell_type": "code",
   "execution_count": null,
   "metadata": {
    "ExecuteTime": {
     "end_time": "2018-05-15T10:25:56.297318Z",
     "start_time": "2018-05-15T10:25:42.298388Z"
    }
   },
   "outputs": [],
   "source": [
    "sys.path.insert(0, \"..\")\n",
    "\n",
    "import ccal"
   ]
  },
  {
   "cell_type": "code",
   "execution_count": null,
   "metadata": {
    "ExecuteTime": {
     "end_time": "2018-05-15T10:25:56.520410Z",
     "start_time": "2018-05-15T10:25:56.374805Z"
    },
    "scrolled": false
   },
   "outputs": [],
   "source": [
    "print(len(dir(ccal)))\n",
    "\n",
    "dir(ccal)"
   ]
  }
 ],
 "metadata": {
  "kernelspec": {
   "display_name": "Python 3",
   "language": "python",
   "name": "python3"
  },
  "language_info": {
   "codemirror_mode": {
    "name": "ipython",
    "version": 3
   },
   "file_extension": ".py",
   "mimetype": "text/x-python",
   "name": "python",
   "nbconvert_exporter": "python",
   "pygments_lexer": "ipython3",
   "version": "3.6.7"
  }
 },
 "nbformat": 4,
 "nbformat_minor": 2
}
