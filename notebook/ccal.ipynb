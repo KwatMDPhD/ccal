{
 "cells": [
  {
   "cell_type": "code",
   "execution_count": 1,
   "metadata": {
    "ExecuteTime": {
     "end_time": "2018-05-15T10:25:42.022108Z",
     "start_time": "2018-05-15T10:25:42.014536Z"
    }
   },
   "outputs": [],
   "source": [
    "import os\n",
    "import subprocess\n",
    "import sys"
   ]
  },
  {
   "cell_type": "code",
   "execution_count": 2,
   "metadata": {
    "ExecuteTime": {
     "end_time": "2018-05-15T10:25:42.057639Z",
     "start_time": "2018-05-15T10:25:42.050575Z"
    }
   },
   "outputs": [
    {
     "ename": "SyntaxError",
     "evalue": "EOL while scanning string literal (<ipython-input-2-77901c72a933>, line 1)",
     "output_type": "error",
     "traceback": [
      "\u001b[0;36m  File \u001b[0;32m\"<ipython-input-2-77901c72a933>\"\u001b[0;36m, line \u001b[0;32m1\u001b[0m\n\u001b[0;31m    version = '0.6.23\u001b[0m\n\u001b[0m                     ^\u001b[0m\n\u001b[0;31mSyntaxError\u001b[0m\u001b[0;31m:\u001b[0m EOL while scanning string literal\n"
     ]
    }
   ],
   "source": [
    "version = '0.6.23"
   ]
  },
  {
   "cell_type": "code",
   "execution_count": null,
   "metadata": {},
   "outputs": [],
   "source": [
    "def get_importable_names_from_py_file_path(py_file_path):\n",
    "\n",
    "    importable_names = []\n",
    "\n",
    "    with open(py_file_path) as file:\n",
    "\n",
    "        for line in file.readlines():\n",
    "\n",
    "            if line.startswith('def '):\n",
    "\n",
    "                importable_name = line.strip().split('(')[0][4:]\n",
    "\n",
    "                if not importable_name.startswith('_'):\n",
    "\n",
    "                    importable_names.append(importable_name)\n",
    "\n",
    "            elif line.startswith('class '):\n",
    "\n",
    "                importable_name = line.strip().split('(')[0][6:-1]\n",
    "\n",
    "                if not importable_name.startswith('_'):\n",
    "\n",
    "                    importable_names.append(importable_name)\n",
    "\n",
    "    return importable_names"
   ]
  },
  {
   "cell_type": "code",
   "execution_count": null,
   "metadata": {},
   "outputs": [],
   "source": [
    "imports = []\n",
    "\n",
    "for dp, dns, fns in os.walk('../ccal'):\n",
    "\n",
    "    split = dp.split('/')\n",
    "\n",
    "    if len(split) == 4:\n",
    "\n",
    "        if split[2] == split[3]:\n",
    "\n",
    "            for fn in fns:\n",
    "\n",
    "                if not fn.startswith('_') and fn.endswith('.py'):\n",
    "\n",
    "                    imports.extend([\n",
    "                        'from .{0}.{0}.{1} import {2}'.format(\n",
    "                            split[2], fn[:-3], importable_name)\n",
    "                        for importable_name in\n",
    "                        get_importable_names_from_py_file_path(\n",
    "                            os.path.join(dp, fn))\n",
    "                    ])\n",
    "\n",
    "for fn in os.listdir('../ccal'):\n",
    "\n",
    "    if not fn.startswith('_') and fn.endswith('.py'):\n",
    "\n",
    "        imports.extend([\n",
    "            'from .{} import {}'.format(fn.rstrip('.py'), importable_name)\n",
    "            for importable_name in get_importable_names_from_py_file_path(\n",
    "                os.path.join('../ccal', fn))\n",
    "        ])\n",
    "\n",
    "spacer = '\\n\\n'\n",
    "\n",
    "with open('../ccal/__init__.py', 'w') as file:\n",
    "\n",
    "    file.write('from os.path import abspath')\n",
    "\n",
    "    file.write(spacer)\n",
    "\n",
    "    file.write('VERSION = \\'{}\\''.format(version))\n",
    "\n",
    "    file.write(spacer)\n",
    "\n",
    "    file.write(\n",
    "        'print(\\'CCAL version {} @ {}\\'.format(VERSION, abspath(__file__)))')\n",
    "\n",
    "    file.write(spacer)\n",
    "\n",
    "    for import_line in imports:\n",
    "\n",
    "        file.write(import_line)\n",
    "        file.write('\\n')"
   ]
  },
  {
   "cell_type": "code",
   "execution_count": null,
   "metadata": {
    "ExecuteTime": {
     "end_time": "2018-05-15T10:25:56.297318Z",
     "start_time": "2018-05-15T10:25:42.298388Z"
    }
   },
   "outputs": [],
   "source": [
    "sys.path.insert(0, '..')\n",
    "\n",
    "import ccal"
   ]
  },
  {
   "cell_type": "code",
   "execution_count": null,
   "metadata": {
    "ExecuteTime": {
     "end_time": "2018-05-15T10:25:56.520410Z",
     "start_time": "2018-05-15T10:25:56.374805Z"
    },
    "scrolled": false
   },
   "outputs": [],
   "source": [
    "dir(ccal)"
   ]
  }
 ],
 "metadata": {
  "kernelspec": {
   "display_name": "Python [default]",
   "language": "python",
   "name": "python3"
  },
  "language_info": {
   "codemirror_mode": {
    "name": "ipython",
    "version": 3
   },
   "file_extension": ".py",
   "mimetype": "text/x-python",
   "name": "python",
   "nbconvert_exporter": "python",
   "pygments_lexer": "ipython3",
   "version": "3.6.5"
  }
 },
 "nbformat": 4,
 "nbformat_minor": 2
}
