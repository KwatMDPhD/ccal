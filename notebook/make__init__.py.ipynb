{
 "cells": [
  {
   "cell_type": "code",
   "execution_count": 1,
   "metadata": {
    "ExecuteTime": {
     "end_time": "2018-01-25T07:35:46.734002Z",
     "start_time": "2018-01-25T07:35:45.834130Z"
    }
   },
   "outputs": [],
   "source": [
    "%load_ext autoreload\n",
    "%autoreload 2\n",
    "%matplotlib inline"
   ]
  },
  {
   "cell_type": "code",
   "execution_count": 2,
   "metadata": {
    "ExecuteTime": {
     "end_time": "2018-01-25T07:35:46.802159Z",
     "start_time": "2018-01-25T07:35:46.741789Z"
    }
   },
   "outputs": [],
   "source": [
    "import os"
   ]
  },
  {
   "cell_type": "code",
   "execution_count": 3,
   "metadata": {
    "ExecuteTime": {
     "end_time": "2018-01-25T07:35:47.175401Z",
     "start_time": "2018-01-25T07:35:46.813182Z"
    }
   },
   "outputs": [
    {
     "name": "stdout",
     "output_type": "stream",
     "text": [
      "Skipped ../ccal/gps_map/notebook.\n",
      "Skipped ../ccal/cluster/notebook.\n",
      "Skipped ../ccal/plot/notebook.\n",
      "Skipped ../ccal/gsea/notebook.\n",
      "Skipped ../ccal/match/notebook.\n",
      "Skipped ../ccal/geo/notebook.\n",
      "Skipped ../ccal/matrix_decomposition/notebook.\n"
     ]
    }
   ],
   "source": [
    "imports = []\n",
    "\n",
    "for dp, dns, fns in os.walk('../ccal'):\n",
    "\n",
    "    split = dp.split('/')\n",
    "    if len(split) == 4:\n",
    "\n",
    "        if split[2] == split[3]:\n",
    "\n",
    "            for fn in fns:\n",
    "                if fn.endswith('.py'):\n",
    "\n",
    "                    with open(os.path.join(dp, fn)) as f:\n",
    "\n",
    "                        for l in f.readlines():\n",
    "\n",
    "                            if l.startswith('def '):\n",
    "                                l = l.strip()\n",
    "\n",
    "                                function_name = l.split('(')[0][4:]\n",
    "                                if not function_name.startswith('_'):\n",
    "\n",
    "                                    imports.append(\n",
    "                                        'from .{0}.{0}.{1} import {2}'.format(\n",
    "                                            split[2], fn[:-3], function_name))\n",
    "\n",
    "                            elif l.startswith('class '):\n",
    "                                l = l.strip()\n",
    "\n",
    "                                class_name = l.split('(')[0][6:-1]\n",
    "\n",
    "                                imports.append(\n",
    "                                    'from .{0}.{0}.{1} import {2}'.format(\n",
    "                                        split[2], fn[:-3], class_name))\n",
    "        else:\n",
    "            print('Skipped {}.'.format(os.path.join(*split)))\n",
    "\n",
    "extras = (\n",
    "    'explore_components = nmf_consensus_cluster_with_multiple_k',\n",
    "    'explore_states = hierarchical_consensus_cluster_with_multiple_k', )\n",
    "\n",
    "with open('../ccal/__init__.py', 'w') as f:\n",
    "    f.write('\\n'.join(imports))\n",
    "    f.write('\\n' * 2)\n",
    "    f.write('\\n'.join(extras))"
   ]
  }
 ],
 "metadata": {
  "kernelspec": {
   "display_name": "Python [conda root]",
   "language": "python",
   "name": "conda-root-py"
  },
  "language_info": {
   "codemirror_mode": {
    "name": "ipython",
    "version": 3
   },
   "file_extension": ".py",
   "mimetype": "text/x-python",
   "name": "python",
   "nbconvert_exporter": "python",
   "pygments_lexer": "ipython3",
   "version": "3.6.3"
  }
 },
 "nbformat": 4,
 "nbformat_minor": 2
}
