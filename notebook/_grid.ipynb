{
 "cells": [
  {
   "cell_type": "code",
   "execution_count": null,
   "metadata": {},
   "outputs": [],
   "source": [
    "%load_ext autoreload\n",
    "%autoreload 2"
   ]
  },
  {
   "cell_type": "code",
   "execution_count": null,
   "metadata": {},
   "outputs": [],
   "source": [
    "import kraft\n",
    "import numpy as np"
   ]
  },
  {
   "cell_type": "markdown",
   "metadata": {},
   "source": [
    "## make_g1"
   ]
  },
  {
   "cell_type": "code",
   "execution_count": null,
   "metadata": {},
   "outputs": [],
   "source": [
    "kraft.grid.make_g1(\n",
    "    -1,\n",
    "    2,\n",
    "    0,\n",
    "    4,\n",
    ")"
   ]
  },
  {
   "cell_type": "code",
   "execution_count": null,
   "metadata": {},
   "outputs": [],
   "source": [
    "kraft.grid.make_g1(\n",
    "    -1,\n",
    "    2,\n",
    "    0.1,\n",
    "    4,\n",
    ")"
   ]
  },
  {
   "cell_type": "markdown",
   "metadata": {},
   "source": [
    "## reflect_g1"
   ]
  },
  {
   "cell_type": "code",
   "execution_count": null,
   "metadata": {},
   "outputs": [],
   "source": [
    "kraft.grid.reflect_g1(\n",
    "    np.asarray(\n",
    "        [\n",
    "            -1,\n",
    "            0,\n",
    "            1,\n",
    "            2,\n",
    "        ]\n",
    "    ),\n",
    "    0,\n",
    ")"
   ]
  },
  {
   "cell_type": "markdown",
   "metadata": {},
   "source": [
    "## get_d"
   ]
  },
  {
   "cell_type": "code",
   "execution_count": null,
   "metadata": {},
   "outputs": [],
   "source": [
    "kraft.grid.get_d(\n",
    "    np.asarray(\n",
    "        [\n",
    "            -1,\n",
    "            0,\n",
    "            1,\n",
    "            2,\n",
    "            2.1,\n",
    "        ]\n",
    "    )\n",
    ")"
   ]
  },
  {
   "cell_type": "markdown",
   "metadata": {},
   "source": [
    "## get_g1_"
   ]
  },
  {
   "cell_type": "code",
   "execution_count": null,
   "metadata": {},
   "outputs": [],
   "source": [
    "kraft.grid.get_g1_(\n",
    "    np.asarray(\n",
    "        [\n",
    "            [-1],\n",
    "            [0],\n",
    "            [2],\n",
    "        ]\n",
    "    )\n",
    ")"
   ]
  },
  {
   "cell_type": "code",
   "execution_count": null,
   "metadata": {},
   "outputs": [],
   "source": [
    "kraft.grid.get_g1_(\n",
    "    np.asarray(\n",
    "        [\n",
    "            [\n",
    "                0,\n",
    "                -1,\n",
    "            ],\n",
    "            [\n",
    "                0,\n",
    "                0,\n",
    "            ],\n",
    "            [\n",
    "                0,\n",
    "                2,\n",
    "            ],\n",
    "        ]\n",
    "    )\n",
    ")"
   ]
  },
  {
   "cell_type": "code",
   "execution_count": null,
   "metadata": {},
   "outputs": [],
   "source": [
    "kraft.grid.get_g1_(\n",
    "    np.asarray(\n",
    "        [\n",
    "            [\n",
    "                1,\n",
    "                -1,\n",
    "            ],\n",
    "            [\n",
    "                2,\n",
    "                0,\n",
    "            ],\n",
    "            [\n",
    "                3,\n",
    "                2,\n",
    "            ],\n",
    "        ]\n",
    "    )\n",
    ")"
   ]
  },
  {
   "cell_type": "markdown",
   "metadata": {},
   "source": [
    "## make_gn"
   ]
  },
  {
   "cell_type": "code",
   "execution_count": null,
   "metadata": {},
   "outputs": [],
   "source": [
    "kraft.grid.make_gn(\n",
    "    (\n",
    "        np.asarray(\n",
    "            [\n",
    "                -1,\n",
    "                0,\n",
    "                1,\n",
    "            ]\n",
    "        ),\n",
    "        np.asarray(\n",
    "            [\n",
    "                -2,\n",
    "                4,\n",
    "            ]\n",
    "        ),\n",
    "    )\n",
    ")"
   ]
  },
  {
   "cell_type": "markdown",
   "metadata": {},
   "source": [
    "## plot"
   ]
  },
  {
   "cell_type": "code",
   "execution_count": null,
   "metadata": {},
   "outputs": [],
   "source": [
    "kraft.grid.plot(\n",
    "    np.asarray(\n",
    "        [\n",
    "            [\n",
    "                -1,\n",
    "            ],\n",
    "            [\n",
    "                0,\n",
    "            ],\n",
    "            [\n",
    "                1,\n",
    "            ],\n",
    "        ]\n",
    "    ),\n",
    "    np.asarray(\n",
    "        [\n",
    "            -1,\n",
    "            0,\n",
    "            2,\n",
    "        ]\n",
    "    ),\n",
    ")"
   ]
  },
  {
   "cell_type": "code",
   "execution_count": null,
   "metadata": {},
   "outputs": [],
   "source": [
    "kraft.grid.plot(\n",
    "    np.asarray(\n",
    "        [\n",
    "            [\n",
    "                -1,\n",
    "                0,\n",
    "            ],\n",
    "            [\n",
    "                0,\n",
    "                0,\n",
    "            ],\n",
    "            [\n",
    "                1,\n",
    "                0,\n",
    "            ],\n",
    "        ]\n",
    "    ),\n",
    "    np.asarray(\n",
    "        [\n",
    "            -1,\n",
    "            0,\n",
    "            2,\n",
    "        ]\n",
    "    ),\n",
    ")"
   ]
  },
  {
   "cell_type": "code",
   "execution_count": null,
   "metadata": {},
   "outputs": [],
   "source": [
    "kraft.grid.plot(\n",
    "    np.asarray(\n",
    "        [\n",
    "            [\n",
    "                -1,\n",
    "                -1,\n",
    "            ],\n",
    "            [\n",
    "                0,\n",
    "                -1,\n",
    "            ],\n",
    "            [\n",
    "                1,\n",
    "                -1,\n",
    "            ],\n",
    "            [\n",
    "                -1,\n",
    "                1,\n",
    "            ],\n",
    "            [\n",
    "                0,\n",
    "                1,\n",
    "            ],\n",
    "            [\n",
    "                1,\n",
    "                1,\n",
    "            ],\n",
    "        ]\n",
    "    ),\n",
    "    np.asarray(\n",
    "        [\n",
    "            -1,\n",
    "            0,\n",
    "            2,\n",
    "            4,\n",
    "            8,\n",
    "            16,\n",
    "        ]\n",
    "    ),\n",
    ")"
   ]
  },
  {
   "cell_type": "code",
   "execution_count": null,
   "metadata": {},
   "outputs": [],
   "source": [
    "kraft.grid.plot(\n",
    "    np.asarray(\n",
    "        [\n",
    "            [\n",
    "                -1,\n",
    "                -1,\n",
    "            ],\n",
    "            [\n",
    "                0,\n",
    "                -1,\n",
    "            ],\n",
    "            [\n",
    "                1,\n",
    "                -1,\n",
    "            ],\n",
    "            [\n",
    "                -1,\n",
    "                0,\n",
    "            ],\n",
    "            [\n",
    "                0,\n",
    "                0,\n",
    "            ],\n",
    "            [\n",
    "                1,\n",
    "                0,\n",
    "            ],\n",
    "            [\n",
    "                -1,\n",
    "                1,\n",
    "            ],\n",
    "            [\n",
    "                0,\n",
    "                1,\n",
    "            ],\n",
    "            [\n",
    "                1,\n",
    "                1,\n",
    "            ],\n",
    "        ]\n",
    "    ),\n",
    "    np.asarray(\n",
    "        [\n",
    "            -1,\n",
    "            0,\n",
    "            2,\n",
    "            4,\n",
    "            8,\n",
    "            16,\n",
    "            32,\n",
    "            64,\n",
    "            128,\n",
    "        ]\n",
    "    ),\n",
    ")"
   ]
  },
  {
   "cell_type": "code",
   "execution_count": null,
   "metadata": {},
   "outputs": [],
   "source": [
    "kraft.grid.plot(\n",
    "    np.asarray(\n",
    "        [\n",
    "            [\n",
    "                0,\n",
    "                2,\n",
    "                4,\n",
    "            ],\n",
    "            [\n",
    "                1,\n",
    "                2,\n",
    "                4,\n",
    "            ],\n",
    "            [\n",
    "                0,\n",
    "                3,\n",
    "                4,\n",
    "            ],\n",
    "            [\n",
    "                1,\n",
    "                3,\n",
    "                4,\n",
    "            ],\n",
    "            [\n",
    "                0,\n",
    "                2,\n",
    "                5,\n",
    "            ],\n",
    "            [\n",
    "                1,\n",
    "                2,\n",
    "                5,\n",
    "            ],\n",
    "            [\n",
    "                0,\n",
    "                3,\n",
    "                5,\n",
    "            ],\n",
    "            [\n",
    "                1,\n",
    "                3,\n",
    "                5,\n",
    "            ],\n",
    "        ]\n",
    "    ),\n",
    "    np.arange(8),\n",
    ")"
   ]
  }
 ],
 "metadata": {
  "kernelspec": {
   "display_name": "Python 3",
   "language": "python",
   "name": "python3"
  },
  "language_info": {
   "codemirror_mode": {
    "name": "ipython",
    "version": 3
   },
   "file_extension": ".py",
   "mimetype": "text/x-python",
   "name": "python",
   "nbconvert_exporter": "python",
   "pygments_lexer": "ipython3",
   "version": "3.8.9"
  }
 },
 "nbformat": 4,
 "nbformat_minor": 4
}
