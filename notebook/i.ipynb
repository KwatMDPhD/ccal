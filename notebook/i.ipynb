{
 "cells": [
  {
   "cell_type": "code",
   "execution_count": null,
   "metadata": {},
   "outputs": [],
   "source": [
    "%load_ext autoreload\n",
    "%autoreload 2"
   ]
  },
  {
   "cell_type": "code",
   "execution_count": null,
   "metadata": {},
   "outputs": [],
   "source": [
    "import numpy as np\n",
    "import pandas as pd\n",
    "\n",
    "import kraft"
   ]
  },
  {
   "cell_type": "code",
   "execution_count": null,
   "metadata": {},
   "outputs": [],
   "source": [
    "n = 100\n",
    "\n",
    "n_ = n // 2\n",
    "\n",
    "a = np.concatenate((np.full(n_, 0), np.full(n_, 1)))\n",
    "\n",
    "b = np.random.random_sample(size=a.size)\n",
    "\n",
    "b_0 = b[a == 0]\n",
    "\n",
    "b_1 = b[a == 1]"
   ]
  },
  {
   "cell_type": "code",
   "execution_count": null,
   "metadata": {},
   "outputs": [],
   "source": [
    "b_grid = kraft.make_vector_grid(b, n_grid=8)"
   ]
  },
  {
   "cell_type": "code",
   "execution_count": null,
   "metadata": {},
   "outputs": [],
   "source": [
    "b_keyword_arguments = dict(dimension_grids=(b_grid,), plot=False,)\n",
    "\n",
    "b_grid, b_pdf = kraft.compute_element_x_dimension_joint_probability(\n",
    "    b.reshape((b.size, 1)), **b_keyword_arguments,\n",
    ")\n",
    "\n",
    "b_grid = b_grid.reshape(b_grid.size)\n",
    "\n",
    "b_0_pdf = kraft.compute_element_x_dimension_joint_probability(\n",
    "    b_0.reshape((b_0.size, 1)), **b_keyword_arguments,\n",
    ")[1]\n",
    "\n",
    "b_1_pdf = kraft.compute_element_x_dimension_joint_probability(\n",
    "    b_1.reshape((b_1.size, 1)), **b_keyword_arguments,\n",
    ")[1]\n",
    "\n",
    "a_b_js = (\n",
    "    b_0.size * kraft.compute_kullback_leibler_divergence(b_0_pdf, b_pdf)\n",
    "    + b_1.size * kraft.compute_kullback_leibler_divergence(b_1_pdf, b_pdf)\n",
    ") / b.size\n",
    "\n",
    "a_b_js_mi = a_b_js.sum()\n",
    "\n",
    "print(\"(JS) MI = {}\".format(a_b_js_mi))\n",
    "\n",
    "print(\"(JS) IC = {}\".format(np.sqrt(1 - np.exp(-2 * a_b_js_mi))))"
   ]
  },
  {
   "cell_type": "code",
   "execution_count": null,
   "metadata": {},
   "outputs": [],
   "source": [
    "kraft.compute_information_coefficient_between_2_vectors(a, b)"
   ]
  },
  {
   "cell_type": "code",
   "execution_count": null,
   "metadata": {},
   "outputs": [],
   "source": [
    "(a_grid, _b_grid), a_b_jpdf = kraft.unmesh(\n",
    "    *kraft.compute_element_x_dimension_joint_probability(\n",
    "        np.asarray((a, b)).T,\n",
    "        dimension_grid_mins=(a.min(), b.min(),),\n",
    "        dimension_grid_maxs=(a.max(), b.max(),),\n",
    "        dimension_fraction_grid_extensions=(fraction_grid_extension,) * 2,\n",
    "        dimension_n_grids=(n_grid,) * 2,\n",
    "        plot=False,\n",
    "    )\n",
    ")\n",
    "\n",
    "a_grid_d = a_grid[1] - a_grid[0]\n",
    "\n",
    "print(a_grid_d)\n",
    "\n",
    "b_grid_d = _b_grid[1] - _b_grid[0]\n",
    "\n",
    "print(b_grid_d)\n",
    "\n",
    "a_mpdf = a_b_jpdf.sum(axis=1) * b_grid_d\n",
    "\n",
    "b_mpdf = a_b_jpdf.sum(axis=0) * a_grid_d\n",
    "\n",
    "a_b_mpdf = np.outer(a_mpdf, b_mpdf)\n",
    "\n",
    "mi = (\n",
    "    kraft.compute_kullback_leibler_divergence(a_b_jpdf, a_b_mpdf).sum()\n",
    "    * a_grid_d\n",
    "    * b_grid_d\n",
    ")\n",
    "\n",
    "print(\"MI = {}\".format(mi))\n",
    "\n",
    "print(\"IC = {}\".format(np.sqrt(1 - np.exp(-2 * mi))))"
   ]
  },
  {
   "cell_type": "code",
   "execution_count": null,
   "metadata": {},
   "outputs": [],
   "source": [
    "n = 10\n",
    "\n",
    "a = np.arange(1, n) / n\n",
    "\n",
    "b = a[::-1]\n",
    "\n",
    "c = (a + b) / 2\n",
    "\n",
    "jsa = a * np.log(a / c)\n",
    "\n",
    "jsb = b * np.log(b / c)\n",
    "\n",
    "js = jsa + jsb\n",
    "\n",
    "kraft.plot_plotly_figure(\n",
    "    {\n",
    "        \"data\": [\n",
    "            {\"name\": \"A\", \"y\": a},\n",
    "            {\"name\": \"B\", \"y\": b},\n",
    "            {\"name\": \"Center\", \"y\": c},\n",
    "            {\"name\": \"JS A\", \"y\": jsa,},\n",
    "            {\"name\": \"JS B\", \"y\": jsb},\n",
    "            {\"name\": \"JS\", \"y\": js},\n",
    "        ]\n",
    "    }\n",
    ")"
   ]
  },
  {
   "cell_type": "code",
   "execution_count": null,
   "metadata": {},
   "outputs": [],
   "source": [
    "a = np.asarray([0, 0, 0, 1, 1, 1])\n",
    "\n",
    "b = np.arange(a.size)\n",
    "\n",
    "p_0 = (a == 0).sum() / a.size\n",
    "\n",
    "p_1 = (a == 1).sum() / a.size\n",
    "\n",
    "b_0 = b[a == 0]\n",
    "\n",
    "b_1 = b[a == 1]\n",
    "\n",
    "p_b = kraft.estimate_element_x_dimension_kernel_density(\n",
    "    b.reshape((b.size, 1)),\n",
    "    dimension_grid_mins=(b.min(),),\n",
    "    dimension_grid_maxs=(b.max(),),\n",
    "    dimension_fraction_grid_extensions=(1e-3,),\n",
    "    dimension_n_grids=(8,),\n",
    ")[1]\n",
    "\n",
    "p_b_0 = kraft.estimate_element_x_dimension_kernel_density(\n",
    "    b_0.reshape((b_0.size, 1)),\n",
    "    dimension_grid_mins=(b.min(),),\n",
    "    dimension_grid_maxs=(b.max(),),\n",
    "    dimension_fraction_grid_extensions=(1e-3,),\n",
    "    dimension_n_grids=(8,),\n",
    ")[1]\n",
    "\n",
    "p_b_1 = kraft.estimate_element_x_dimension_kernel_density(\n",
    "    b_1.reshape((b_1.size, 1)),\n",
    "    dimension_grid_mins=(b.min(),),\n",
    "    dimension_grid_maxs=(b.max(),),\n",
    "    dimension_fraction_grid_extensions=(1e-3,),\n",
    "    dimension_n_grids=(8,),\n",
    ")[1]\n",
    "\n",
    "js = p_0 * kraft.compute_kullback_leibler_divergence(\n",
    "    p_b_0, p_b\n",
    ") + p_1 * kraft.compute_kullback_leibler_divergence(p_b_1, p_b)\n",
    "\n",
    "print(js.sum())"
   ]
  },
  {
   "cell_type": "code",
   "execution_count": null,
   "metadata": {},
   "outputs": [],
   "source": [
    "grid, pab = kraft.compute_element_x_dimension_joint_probability(\n",
    "    np.asarray((a, b)).T,\n",
    "    dimension_grid_mins=(a.min(), b.min()),\n",
    "    dimension_grid_maxs=(a.max(), b.max()),\n",
    "    dimension_fraction_grid_extensions=(1e-3, 1e-3),\n",
    "    dimension_n_grids=(8, 8),\n",
    ")\n",
    "\n",
    "p_ab = p_ab.reshape((8, 8))\n",
    "\n",
    "p_a_p_b = np.outer(p_a, p_b)"
   ]
  },
  {
   "cell_type": "code",
   "execution_count": null,
   "metadata": {},
   "outputs": [],
   "source": [
    "grid[:, 0]\n",
    "grid[:, 1]"
   ]
  },
  {
   "cell_type": "code",
   "execution_count": null,
   "metadata": {},
   "outputs": [],
   "source": [
    "pxpy = asarray((px,) * n_grid).T * asarray((py,) * n_grid)"
   ]
  },
  {
   "cell_type": "code",
   "execution_count": null,
   "metadata": {},
   "outputs": [],
   "source": [
    "(p_ab * np.log(p_ab / p_a_p_b)).sum().sum()"
   ]
  }
 ],
 "metadata": {
  "kernelspec": {
   "display_name": "Python 3",
   "language": "python",
   "name": "python3"
  },
  "language_info": {
   "codemirror_mode": {
    "name": "ipython",
    "version": 3
   },
   "file_extension": ".py",
   "mimetype": "text/x-python",
   "name": "python",
   "nbconvert_exporter": "python",
   "pygments_lexer": "ipython3",
   "version": "3.7.6"
  }
 },
 "nbformat": 4,
 "nbformat_minor": 4
}
