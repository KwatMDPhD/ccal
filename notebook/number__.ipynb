{
 "cells": [
  {
   "cell_type": "code",
   "execution_count": null,
   "metadata": {
    "execution": {
     "iopub.execute_input": "2021-05-29T23:05:51.249680Z",
     "iopub.status.busy": "2021-05-29T23:05:51.248863Z",
     "iopub.status.idle": "2021-05-29T23:05:51.263062Z",
     "shell.execute_reply": "2021-05-29T23:05:51.263470Z"
    }
   },
   "outputs": [],
   "source": [
    "%load_ext autoreload\n",
    "%autoreload 2"
   ]
  },
  {
   "cell_type": "code",
   "execution_count": null,
   "metadata": {
    "execution": {
     "iopub.execute_input": "2021-05-29T23:05:51.266840Z",
     "iopub.status.busy": "2021-05-29T23:05:51.266255Z",
     "iopub.status.idle": "2021-05-29T23:05:51.832776Z",
     "shell.execute_reply": "2021-05-29T23:05:51.833230Z"
    }
   },
   "outputs": [],
   "source": [
    "import kraft"
   ]
  },
  {
   "cell_type": "markdown",
   "metadata": {},
   "source": [
    "## check_is_not_nan"
   ]
  },
  {
   "cell_type": "code",
   "execution_count": null,
   "metadata": {
    "execution": {
     "iopub.execute_input": "2021-05-29T23:05:51.836151Z",
     "iopub.status.busy": "2021-05-29T23:05:51.835519Z",
     "iopub.status.idle": "2021-05-29T23:05:51.852229Z",
     "shell.execute_reply": "2021-05-29T23:05:51.852605Z"
    }
   },
   "outputs": [],
   "source": [
    "import numpy as np"
   ]
  },
  {
   "cell_type": "code",
   "execution_count": null,
   "metadata": {
    "execution": {
     "iopub.execute_input": "2021-05-29T23:05:51.855925Z",
     "iopub.status.busy": "2021-05-29T23:05:51.855412Z",
     "iopub.status.idle": "2021-05-29T23:05:51.877432Z",
     "shell.execute_reply": "2021-05-29T23:05:51.877786Z"
    }
   },
   "outputs": [],
   "source": [
    "kraft.number__.check_is_not_nan(\n",
    "    [\n",
    "        np.nan,\n",
    "        0,\n",
    "        1.0,\n",
    "        2,\n",
    "        False,\n",
    "        True,\n",
    "        np.nan,\n",
    "    ]\n",
    ")"
   ]
  },
  {
   "cell_type": "markdown",
   "metadata": {},
   "source": [
    "## get_not_nan_unique"
   ]
  },
  {
   "cell_type": "code",
   "execution_count": null,
   "metadata": {
    "execution": {
     "iopub.execute_input": "2021-05-29T23:05:51.881310Z",
     "iopub.status.busy": "2021-05-29T23:05:51.880612Z",
     "iopub.status.idle": "2021-05-29T23:05:51.898667Z",
     "shell.execute_reply": "2021-05-29T23:05:51.899081Z"
    }
   },
   "outputs": [],
   "source": [
    "kraft.number__.get_not_nan_unique(\n",
    "    np.asarray(\n",
    "        [\n",
    "            np.nan,\n",
    "            0,\n",
    "            1.0,\n",
    "            2,\n",
    "            2,\n",
    "            False,\n",
    "            True,\n",
    "            np.nan,\n",
    "        ]\n",
    "    )\n",
    ")"
   ]
  },
  {
   "cell_type": "markdown",
   "metadata": {},
   "source": [
    "## clip"
   ]
  },
  {
   "cell_type": "code",
   "execution_count": null,
   "metadata": {
    "execution": {
     "iopub.execute_input": "2021-05-29T23:05:51.902366Z",
     "iopub.status.busy": "2021-05-29T23:05:51.901800Z",
     "iopub.status.idle": "2021-05-29T23:05:51.920727Z",
     "shell.execute_reply": "2021-05-29T23:05:51.921080Z"
    }
   },
   "outputs": [],
   "source": [
    "nu__ = np.arange(\n",
    "    -2,\n",
    "    3,\n",
    ")\n",
    "\n",
    "for st in [\n",
    "    0,\n",
    "    1,\n",
    "    2,\n",
    "]:\n",
    "\n",
    "    print(\n",
    "        kraft.number__.clip(\n",
    "            nu__,\n",
    "            st,\n",
    "        )\n",
    "    )"
   ]
  },
  {
   "cell_type": "markdown",
   "metadata": {},
   "source": [
    "## normalize"
   ]
  },
  {
   "cell_type": "code",
   "execution_count": null,
   "metadata": {
    "execution": {
     "iopub.execute_input": "2021-05-29T23:05:51.925061Z",
     "iopub.status.busy": "2021-05-29T23:05:51.924545Z",
     "iopub.status.idle": "2021-05-29T23:05:51.943765Z",
     "shell.execute_reply": "2021-05-29T23:05:51.944347Z"
    }
   },
   "outputs": [],
   "source": [
    "for nu__ in [\n",
    "    [\n",
    "        0,\n",
    "        1,\n",
    "    ],\n",
    "    [\n",
    "        [\n",
    "            0,\n",
    "            1,\n",
    "            2,\n",
    "        ],\n",
    "        [\n",
    "            0,\n",
    "            10,\n",
    "            20,\n",
    "        ],\n",
    "    ],\n",
    "]:\n",
    "\n",
    "    nu__ = np.asarray(nu__)\n",
    "\n",
    "    print()\n",
    "\n",
    "    print(nu__)\n",
    "\n",
    "    for me in [\n",
    "        \"-0-\",\n",
    "        \"0-1\",\n",
    "        \"sum\",\n",
    "        \"rank\",\n",
    "    ]:\n",
    "\n",
    "        print(me)\n",
    "\n",
    "        print(\n",
    "            kraft.number__.normalize(\n",
    "                nu__,\n",
    "                me,\n",
    "            )\n",
    "        )"
   ]
  },
  {
   "cell_type": "markdown",
   "metadata": {},
   "source": [
    "## shift_minimum"
   ]
  },
  {
   "cell_type": "code",
   "execution_count": null,
   "metadata": {
    "execution": {
     "iopub.execute_input": "2021-05-29T23:05:51.948350Z",
     "iopub.status.busy": "2021-05-29T23:05:51.947522Z",
     "iopub.status.idle": "2021-05-29T23:05:51.966371Z",
     "shell.execute_reply": "2021-05-29T23:05:51.966794Z"
    }
   },
   "outputs": [],
   "source": [
    "nu__ = np.asarray(\n",
    "    [\n",
    "        -1,\n",
    "        0,\n",
    "        0.5,\n",
    "        2,\n",
    "    ]\n",
    ")\n",
    "\n",
    "for mi in [\n",
    "    -1,\n",
    "    0,\n",
    "    1,\n",
    "    \"0<\",\n",
    "]:\n",
    "\n",
    "    print(mi)\n",
    "\n",
    "    print(\n",
    "        kraft.number__.shift_minimum(\n",
    "            nu__,\n",
    "            mi,\n",
    "        )\n",
    "    )"
   ]
  },
  {
   "cell_type": "markdown",
   "metadata": {},
   "source": [
    "## log"
   ]
  },
  {
   "cell_type": "code",
   "execution_count": null,
   "metadata": {
    "execution": {
     "iopub.execute_input": "2021-05-29T23:05:51.970285Z",
     "iopub.status.busy": "2021-05-29T23:05:51.969578Z",
     "iopub.status.idle": "2021-05-29T23:05:51.986827Z",
     "shell.execute_reply": "2021-05-29T23:05:51.987301Z"
    }
   },
   "outputs": [],
   "source": [
    "nu__ = np.asarray(\n",
    "    [\n",
    "        1,\n",
    "        2,\n",
    "        np.inf,\n",
    "    ]\n",
    ")\n",
    "\n",
    "for ba in [\n",
    "    2,\n",
    "    \"e\",\n",
    "    10,\n",
    "]:\n",
    "\n",
    "    print(\n",
    "        kraft.number__.log(\n",
    "            nu__,\n",
    "            ba=ba,\n",
    "        )\n",
    "    )"
   ]
  },
  {
   "cell_type": "markdown",
   "metadata": {},
   "source": [
    "## guess_type"
   ]
  },
  {
   "cell_type": "code",
   "execution_count": null,
   "metadata": {
    "execution": {
     "iopub.execute_input": "2021-05-29T23:05:51.991315Z",
     "iopub.status.busy": "2021-05-29T23:05:51.990808Z",
     "iopub.status.idle": "2021-05-29T23:05:52.009555Z",
     "shell.execute_reply": "2021-05-29T23:05:52.010065Z"
    }
   },
   "outputs": [],
   "source": [
    "for nu__ in [\n",
    "    [0],\n",
    "    [1],\n",
    "    [\n",
    "        0,\n",
    "        1,\n",
    "    ],\n",
    "    [\n",
    "        0,\n",
    "        1,\n",
    "        2,\n",
    "    ],\n",
    "    np.arange(16),\n",
    "    [0.0],\n",
    "    [0.1],\n",
    "    [1.0],\n",
    "    [\n",
    "        0,\n",
    "        0.0,\n",
    "    ],\n",
    "    [\n",
    "        0,\n",
    "        0.0,\n",
    "        1,\n",
    "        1.0,\n",
    "    ],\n",
    "    np.arange(17),\n",
    "    np.random.random_sample(4),\n",
    "]:\n",
    "\n",
    "    print(kraft.number__.guess_type(np.asarray(nu__)))"
   ]
  },
  {
   "cell_type": "markdown",
   "metadata": {},
   "source": [
    "## check_is_extreme"
   ]
  },
  {
   "cell_type": "code",
   "execution_count": null,
   "metadata": {
    "execution": {
     "iopub.execute_input": "2021-05-29T23:05:52.014242Z",
     "iopub.status.busy": "2021-05-29T23:05:52.013723Z",
     "iopub.status.idle": "2021-05-29T23:05:52.033833Z",
     "shell.execute_reply": "2021-05-29T23:05:52.034374Z"
    }
   },
   "outputs": [],
   "source": [
    "nu__ = np.arange(10)\n",
    "\n",
    "for di in [\n",
    "    \"<\",\n",
    "    \">\",\n",
    "    \"<>\",\n",
    "]:\n",
    "\n",
    "    print()\n",
    "\n",
    "    print(di)\n",
    "\n",
    "    for ke_ in [\n",
    "        {\n",
    "            \"th_\": (\n",
    "                2,\n",
    "                np.nan,\n",
    "            )\n",
    "        },\n",
    "        {\n",
    "            \"th_\": (\n",
    "                np.nan,\n",
    "                8,\n",
    "            )\n",
    "        },\n",
    "        {\"n_ex\": 2},\n",
    "        {\"st\": 2},\n",
    "    ]:\n",
    "\n",
    "        print(ke_)\n",
    "\n",
    "        print(nu__[kraft.number__.check_is_extreme(nu__, di, **ke_)])"
   ]
  },
  {
   "cell_type": "markdown",
   "metadata": {},
   "source": [
    "## apply_on_1"
   ]
  },
  {
   "cell_type": "code",
   "execution_count": null,
   "metadata": {
    "execution": {
     "iopub.execute_input": "2021-05-29T23:05:52.037597Z",
     "iopub.status.busy": "2021-05-29T23:05:52.037030Z",
     "iopub.status.idle": "2021-05-29T23:05:52.056514Z",
     "shell.execute_reply": "2021-05-29T23:05:52.056907Z"
    }
   },
   "outputs": [],
   "source": [
    "nu__ = np.asarray(\n",
    "    [\n",
    "        np.nan,\n",
    "        0,\n",
    "        1,\n",
    "        2,\n",
    "        np.nan,\n",
    "    ]\n",
    ")"
   ]
  },
  {
   "cell_type": "code",
   "execution_count": null,
   "metadata": {
    "execution": {
     "iopub.execute_input": "2021-05-29T23:05:52.060088Z",
     "iopub.status.busy": "2021-05-29T23:05:52.059416Z",
     "iopub.status.idle": "2021-05-29T23:05:52.079370Z",
     "shell.execute_reply": "2021-05-29T23:05:52.079784Z"
    }
   },
   "outputs": [],
   "source": [
    "np.sum(nu__)"
   ]
  },
  {
   "cell_type": "code",
   "execution_count": null,
   "metadata": {
    "execution": {
     "iopub.execute_input": "2021-05-29T23:05:52.082819Z",
     "iopub.status.busy": "2021-05-29T23:05:52.082248Z",
     "iopub.status.idle": "2021-05-29T23:05:52.100865Z",
     "shell.execute_reply": "2021-05-29T23:05:52.101548Z"
    }
   },
   "outputs": [],
   "source": [
    "kraft.number__.apply_on_1(\n",
    "    nu__,\n",
    "    np.sum,\n",
    ")"
   ]
  },
  {
   "cell_type": "code",
   "execution_count": null,
   "metadata": {
    "execution": {
     "iopub.execute_input": "2021-05-29T23:05:52.104617Z",
     "iopub.status.busy": "2021-05-29T23:05:52.104046Z",
     "iopub.status.idle": "2021-05-29T23:05:52.123003Z",
     "shell.execute_reply": "2021-05-29T23:05:52.123418Z"
    }
   },
   "outputs": [],
   "source": [
    "np.cumsum(nu__)"
   ]
  },
  {
   "cell_type": "code",
   "execution_count": null,
   "metadata": {
    "execution": {
     "iopub.execute_input": "2021-05-29T23:05:52.126486Z",
     "iopub.status.busy": "2021-05-29T23:05:52.125976Z",
     "iopub.status.idle": "2021-05-29T23:05:52.143008Z",
     "shell.execute_reply": "2021-05-29T23:05:52.143496Z"
    }
   },
   "outputs": [],
   "source": [
    "kraft.number__.apply_on_1(\n",
    "    nu__,\n",
    "    np.cumsum,\n",
    ")"
   ]
  },
  {
   "cell_type": "code",
   "execution_count": null,
   "metadata": {
    "execution": {
     "iopub.execute_input": "2021-05-29T23:05:52.146482Z",
     "iopub.status.busy": "2021-05-29T23:05:52.145985Z",
     "iopub.status.idle": "2021-05-29T23:05:52.164271Z",
     "shell.execute_reply": "2021-05-29T23:05:52.164636Z"
    }
   },
   "outputs": [],
   "source": [
    "kraft.number__.apply_on_1(\n",
    "    nu__,\n",
    "    np.cumsum,\n",
    "    up=True,\n",
    ")"
   ]
  },
  {
   "cell_type": "markdown",
   "metadata": {},
   "source": [
    "## apply_on_2"
   ]
  },
  {
   "cell_type": "code",
   "execution_count": null,
   "metadata": {
    "execution": {
     "iopub.execute_input": "2021-05-29T23:05:52.167765Z",
     "iopub.status.busy": "2021-05-29T23:05:52.167230Z",
     "iopub.status.idle": "2021-05-29T23:05:52.184689Z",
     "shell.execute_reply": "2021-05-29T23:05:52.185054Z"
    }
   },
   "outputs": [],
   "source": [
    "nu1__ = np.asarray(\n",
    "    [\n",
    "        np.nan,\n",
    "        0,\n",
    "        1,\n",
    "        np.nan,\n",
    "        2,\n",
    "    ]\n",
    ")\n",
    "\n",
    "nu2__ = np.asarray(\n",
    "    [\n",
    "        np.nan,\n",
    "        0,\n",
    "        1,\n",
    "        2,\n",
    "        np.nan,\n",
    "    ]\n",
    ")"
   ]
  },
  {
   "cell_type": "code",
   "execution_count": null,
   "metadata": {
    "execution": {
     "iopub.execute_input": "2021-05-29T23:05:52.188195Z",
     "iopub.status.busy": "2021-05-29T23:05:52.187679Z",
     "iopub.status.idle": "2021-05-29T23:05:52.206335Z",
     "shell.execute_reply": "2021-05-29T23:05:52.206758Z"
    }
   },
   "outputs": [],
   "source": [
    "np.add(\n",
    "    nu1__,\n",
    "    nu2__,\n",
    ")"
   ]
  },
  {
   "cell_type": "code",
   "execution_count": null,
   "metadata": {
    "execution": {
     "iopub.execute_input": "2021-05-29T23:05:52.209871Z",
     "iopub.status.busy": "2021-05-29T23:05:52.209293Z",
     "iopub.status.idle": "2021-05-29T23:05:52.226918Z",
     "shell.execute_reply": "2021-05-29T23:05:52.227276Z"
    }
   },
   "outputs": [],
   "source": [
    "kraft.number__.apply_on_2(\n",
    "    nu1__,\n",
    "    nu2__,\n",
    "    np.add,\n",
    ")"
   ]
  },
  {
   "cell_type": "markdown",
   "metadata": {},
   "source": [
    "## apply_along_on_2"
   ]
  },
  {
   "cell_type": "code",
   "execution_count": null,
   "metadata": {
    "execution": {
     "iopub.execute_input": "2021-05-29T23:05:52.230570Z",
     "iopub.status.busy": "2021-05-29T23:05:52.230054Z",
     "iopub.status.idle": "2021-05-29T23:05:52.247528Z",
     "shell.execute_reply": "2021-05-29T23:05:52.247933Z"
    }
   },
   "outputs": [],
   "source": [
    "nu1__ = np.asarray(\n",
    "    [\n",
    "        np.nan,\n",
    "        0,\n",
    "        1,\n",
    "        np.nan,\n",
    "        2,\n",
    "    ]\n",
    ")\n",
    "\n",
    "nu2__ = np.asarray(\n",
    "    [\n",
    "        np.nan,\n",
    "        0,\n",
    "        1,\n",
    "        2,\n",
    "        np.nan,\n",
    "    ]\n",
    ")"
   ]
  },
  {
   "cell_type": "code",
   "execution_count": null,
   "metadata": {
    "execution": {
     "iopub.execute_input": "2021-05-29T23:05:52.251079Z",
     "iopub.status.busy": "2021-05-29T23:05:52.250486Z",
     "iopub.status.idle": "2021-05-29T23:05:52.270307Z",
     "shell.execute_reply": "2021-05-29T23:05:52.270715Z"
    }
   },
   "outputs": [],
   "source": [
    "np.add(\n",
    "    nu1__,\n",
    "    nu2__,\n",
    ")"
   ]
  },
  {
   "cell_type": "code",
   "execution_count": null,
   "metadata": {
    "execution": {
     "iopub.execute_input": "2021-05-29T23:05:52.273733Z",
     "iopub.status.busy": "2021-05-29T23:05:52.273196Z",
     "iopub.status.idle": "2021-05-29T23:05:52.292498Z",
     "shell.execute_reply": "2021-05-29T23:05:52.292882Z"
    }
   },
   "outputs": [],
   "source": [
    "kraft.number__.apply_along_on_2(\n",
    "    nu1__,\n",
    "    nu2__,\n",
    "    np.add,\n",
    ")"
   ]
  },
  {
   "cell_type": "code",
   "execution_count": null,
   "metadata": {
    "execution": {
     "iopub.execute_input": "2021-05-29T23:05:52.296477Z",
     "iopub.status.busy": "2021-05-29T23:05:52.295916Z",
     "iopub.status.idle": "2021-05-29T23:05:52.313678Z",
     "shell.execute_reply": "2021-05-29T23:05:52.314080Z"
    }
   },
   "outputs": [],
   "source": [
    "nu1__ = np.asarray(\n",
    "    [\n",
    "        [\n",
    "            0,\n",
    "            0,\n",
    "        ],\n",
    "        [\n",
    "            0.1,\n",
    "            0.1,\n",
    "        ],\n",
    "        [\n",
    "            1,\n",
    "            1,\n",
    "        ],\n",
    "        [\n",
    "            10,\n",
    "            10,\n",
    "        ],\n",
    "    ]\n",
    ")\n",
    "\n",
    "nu2__ = np.asarray(\n",
    "    [\n",
    "        [\n",
    "            2,\n",
    "            2,\n",
    "        ],\n",
    "        [\n",
    "            4,\n",
    "            4,\n",
    "        ],\n",
    "    ]\n",
    ")"
   ]
  },
  {
   "cell_type": "code",
   "execution_count": null,
   "metadata": {
    "execution": {
     "iopub.execute_input": "2021-05-29T23:05:52.317018Z",
     "iopub.status.busy": "2021-05-29T23:05:52.316435Z",
     "iopub.status.idle": "2021-05-29T23:05:52.337288Z",
     "shell.execute_reply": "2021-05-29T23:05:52.337710Z"
    }
   },
   "outputs": [],
   "source": [
    "np.dot(\n",
    "    nu1__,\n",
    "    nu2__,\n",
    ")"
   ]
  },
  {
   "cell_type": "code",
   "execution_count": null,
   "metadata": {
    "execution": {
     "iopub.execute_input": "2021-05-29T23:05:52.340925Z",
     "iopub.status.busy": "2021-05-29T23:05:52.340354Z",
     "iopub.status.idle": "2021-05-29T23:05:52.359329Z",
     "shell.execute_reply": "2021-05-29T23:05:52.359744Z"
    }
   },
   "outputs": [],
   "source": [
    "kraft.number__.apply_along_on_2(\n",
    "    nu1__,\n",
    "    nu2__,\n",
    "    np.dot,\n",
    ")"
   ]
  }
 ],
 "metadata": {
  "kernelspec": {
   "display_name": "Python 3",
   "language": "python",
   "name": "python3"
  },
  "language_info": {
   "codemirror_mode": {
    "name": "ipython",
    "version": 3
   },
   "file_extension": ".py",
   "mimetype": "text/x-python",
   "name": "python",
   "nbconvert_exporter": "python",
   "pygments_lexer": "ipython3",
   "version": "3.8.9"
  }
 },
 "nbformat": 4,
 "nbformat_minor": 4
}
