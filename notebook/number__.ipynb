{
 "cells": [
  {
   "cell_type": "code",
   "execution_count": null,
   "metadata": {
    "execution": {
     "iopub.execute_input": "2021-05-29T18:49:22.759078Z",
     "iopub.status.busy": "2021-05-29T18:49:22.758169Z",
     "iopub.status.idle": "2021-05-29T18:49:22.773167Z",
     "shell.execute_reply": "2021-05-29T18:49:22.773639Z"
    }
   },
   "outputs": [],
   "source": [
    "%load_ext autoreload\n",
    "%autoreload 2"
   ]
  },
  {
   "cell_type": "code",
   "execution_count": null,
   "metadata": {
    "execution": {
     "iopub.execute_input": "2021-05-29T18:49:22.777134Z",
     "iopub.status.busy": "2021-05-29T18:49:22.776531Z",
     "iopub.status.idle": "2021-05-29T18:49:23.061315Z",
     "shell.execute_reply": "2021-05-29T18:49:23.061703Z"
    }
   },
   "outputs": [],
   "source": [
    "import kraft"
   ]
  },
  {
   "cell_type": "markdown",
   "metadata": {},
   "source": [
    "## check_is_not_nan"
   ]
  },
  {
   "cell_type": "code",
   "execution_count": null,
   "metadata": {
    "execution": {
     "iopub.execute_input": "2021-05-29T18:49:23.064707Z",
     "iopub.status.busy": "2021-05-29T18:49:23.064164Z",
     "iopub.status.idle": "2021-05-29T18:49:23.077114Z",
     "shell.execute_reply": "2021-05-29T18:49:23.077541Z"
    }
   },
   "outputs": [],
   "source": [
    "import numpy as np"
   ]
  },
  {
   "cell_type": "code",
   "execution_count": null,
   "metadata": {
    "execution": {
     "iopub.execute_input": "2021-05-29T18:49:23.080712Z",
     "iopub.status.busy": "2021-05-29T18:49:23.080092Z",
     "iopub.status.idle": "2021-05-29T18:49:23.096812Z",
     "shell.execute_reply": "2021-05-29T18:49:23.097236Z"
    }
   },
   "outputs": [],
   "source": [
    "kraft.number__.check_is_not_nan(\n",
    "    [\n",
    "        np.nan,\n",
    "        0,\n",
    "        1.0,\n",
    "        2,\n",
    "        False,\n",
    "        True,\n",
    "        np.nan,\n",
    "    ]\n",
    ")"
   ]
  },
  {
   "cell_type": "markdown",
   "metadata": {},
   "source": [
    "## get_not_nan_unique"
   ]
  },
  {
   "cell_type": "code",
   "execution_count": null,
   "metadata": {
    "execution": {
     "iopub.execute_input": "2021-05-29T18:49:23.100296Z",
     "iopub.status.busy": "2021-05-29T18:49:23.099799Z",
     "iopub.status.idle": "2021-05-29T18:49:23.111754Z",
     "shell.execute_reply": "2021-05-29T18:49:23.112107Z"
    }
   },
   "outputs": [],
   "source": [
    "kraft.number__.get_not_nan_unique(\n",
    "    np.asarray(\n",
    "        [\n",
    "            np.nan,\n",
    "            0,\n",
    "            1.0,\n",
    "            2,\n",
    "            2,\n",
    "            False,\n",
    "            True,\n",
    "            np.nan,\n",
    "        ]\n",
    "    )\n",
    ")"
   ]
  },
  {
   "cell_type": "markdown",
   "metadata": {},
   "source": [
    "## clip"
   ]
  },
  {
   "cell_type": "code",
   "execution_count": null,
   "metadata": {
    "execution": {
     "iopub.execute_input": "2021-05-29T18:49:23.116199Z",
     "iopub.status.busy": "2021-05-29T18:49:23.115647Z",
     "iopub.status.idle": "2021-05-29T18:49:23.127969Z",
     "shell.execute_reply": "2021-05-29T18:49:23.128320Z"
    }
   },
   "outputs": [],
   "source": [
    "nu__ = np.arange(\n",
    "    -2,\n",
    "    3,\n",
    ")\n",
    "\n",
    "for st in [\n",
    "    0,\n",
    "    1,\n",
    "    2,\n",
    "]:\n",
    "\n",
    "    print(\n",
    "        kraft.number__.clip(\n",
    "            nu__,\n",
    "            st,\n",
    "        )\n",
    "    )"
   ]
  },
  {
   "cell_type": "markdown",
   "metadata": {},
   "source": [
    "## normalize"
   ]
  },
  {
   "cell_type": "code",
   "execution_count": null,
   "metadata": {
    "execution": {
     "iopub.execute_input": "2021-05-29T18:49:23.132157Z",
     "iopub.status.busy": "2021-05-29T18:49:23.131576Z",
     "iopub.status.idle": "2021-05-29T18:49:23.144748Z",
     "shell.execute_reply": "2021-05-29T18:49:23.145106Z"
    }
   },
   "outputs": [],
   "source": [
    "for nu__ in [\n",
    "    [\n",
    "        0,\n",
    "        1,\n",
    "    ],\n",
    "    [\n",
    "        [\n",
    "            0,\n",
    "            1,\n",
    "            2,\n",
    "        ],\n",
    "        [\n",
    "            0,\n",
    "            10,\n",
    "            20,\n",
    "        ],\n",
    "    ],\n",
    "]:\n",
    "\n",
    "    nu__ = np.asarray(nu__)\n",
    "\n",
    "    print()\n",
    "\n",
    "    print(nu__)\n",
    "\n",
    "    for me in [\n",
    "        \"-0-\",\n",
    "        \"0-1\",\n",
    "        \"sum\",\n",
    "        \"rank\",\n",
    "    ]:\n",
    "\n",
    "        print(me)\n",
    "\n",
    "        print(\n",
    "            kraft.number__.normalize(\n",
    "                nu__,\n",
    "                me,\n",
    "            )\n",
    "        )"
   ]
  },
  {
   "cell_type": "markdown",
   "metadata": {},
   "source": [
    "## shift_minimum"
   ]
  },
  {
   "cell_type": "code",
   "execution_count": null,
   "metadata": {
    "execution": {
     "iopub.execute_input": "2021-05-29T18:49:23.148493Z",
     "iopub.status.busy": "2021-05-29T18:49:23.147916Z",
     "iopub.status.idle": "2021-05-29T18:49:23.161353Z",
     "shell.execute_reply": "2021-05-29T18:49:23.161730Z"
    }
   },
   "outputs": [],
   "source": [
    "nu__ = np.asarray(\n",
    "    [\n",
    "        -1,\n",
    "        0,\n",
    "        0.5,\n",
    "        2,\n",
    "    ]\n",
    ")\n",
    "\n",
    "for mi in [\n",
    "    -1,\n",
    "    0,\n",
    "    1,\n",
    "    \"0<\",\n",
    "]:\n",
    "\n",
    "    print(mi)\n",
    "\n",
    "    print(\n",
    "        kraft.number__.shift_minimum(\n",
    "            nu__,\n",
    "            mi,\n",
    "        )\n",
    "    )"
   ]
  },
  {
   "cell_type": "markdown",
   "metadata": {},
   "source": [
    "## log"
   ]
  },
  {
   "cell_type": "code",
   "execution_count": null,
   "metadata": {
    "execution": {
     "iopub.execute_input": "2021-05-29T18:49:23.165109Z",
     "iopub.status.busy": "2021-05-29T18:49:23.164611Z",
     "iopub.status.idle": "2021-05-29T18:49:23.176547Z",
     "shell.execute_reply": "2021-05-29T18:49:23.176925Z"
    }
   },
   "outputs": [],
   "source": [
    "nu__ = np.asarray(\n",
    "    [\n",
    "        1,\n",
    "        2,\n",
    "        np.inf,\n",
    "    ]\n",
    ")\n",
    "\n",
    "for ba in [\n",
    "    2,\n",
    "    \"e\",\n",
    "    10,\n",
    "]:\n",
    "\n",
    "    print(\n",
    "        kraft.number__.log(\n",
    "            nu__,\n",
    "            ba=ba,\n",
    "        )\n",
    "    )"
   ]
  },
  {
   "cell_type": "markdown",
   "metadata": {},
   "source": [
    "## guess_type"
   ]
  },
  {
   "cell_type": "code",
   "execution_count": null,
   "metadata": {
    "execution": {
     "iopub.execute_input": "2021-05-29T18:49:23.180600Z",
     "iopub.status.busy": "2021-05-29T18:49:23.180101Z",
     "iopub.status.idle": "2021-05-29T18:49:23.191647Z",
     "shell.execute_reply": "2021-05-29T18:49:23.192029Z"
    }
   },
   "outputs": [],
   "source": [
    "for nu__ in [\n",
    "    [0],\n",
    "    [1],\n",
    "    [\n",
    "        0,\n",
    "        1,\n",
    "    ],\n",
    "    [\n",
    "        0,\n",
    "        1,\n",
    "        2,\n",
    "    ],\n",
    "    np.arange(16),\n",
    "    [0.0],\n",
    "    [0.1],\n",
    "    [1.0],\n",
    "    [\n",
    "        0,\n",
    "        0.0,\n",
    "    ],\n",
    "    [\n",
    "        0,\n",
    "        0.0,\n",
    "        1,\n",
    "        1.0,\n",
    "    ],\n",
    "    np.arange(17),\n",
    "    np.random.random_sample(4),\n",
    "]:\n",
    "\n",
    "    print(kraft.number__.guess_type(np.asarray(nu__)))"
   ]
  },
  {
   "cell_type": "markdown",
   "metadata": {},
   "source": [
    "## check_is_extreme"
   ]
  },
  {
   "cell_type": "code",
   "execution_count": null,
   "metadata": {
    "execution": {
     "iopub.execute_input": "2021-05-29T18:49:23.196018Z",
     "iopub.status.busy": "2021-05-29T18:49:23.195505Z",
     "iopub.status.idle": "2021-05-29T18:49:23.207712Z",
     "shell.execute_reply": "2021-05-29T18:49:23.208257Z"
    }
   },
   "outputs": [],
   "source": [
    "nu__ = np.arange(10)\n",
    "\n",
    "for di in [\n",
    "    \"<\",\n",
    "    \">\",\n",
    "    \"<>\",\n",
    "]:\n",
    "\n",
    "    print()\n",
    "\n",
    "    print(di)\n",
    "\n",
    "    for ke_ in [\n",
    "        {\n",
    "            \"th_\": (\n",
    "                2,\n",
    "                np.nan,\n",
    "            )\n",
    "        },\n",
    "        {\n",
    "            \"th_\": (\n",
    "                np.nan,\n",
    "                8,\n",
    "            )\n",
    "        },\n",
    "        {\"n_ex\": 2},\n",
    "        {\"st\": 2},\n",
    "    ]:\n",
    "\n",
    "        print(ke_)\n",
    "\n",
    "        print(nu__[kraft.number__.check_is_extreme(nu__, di, **ke_)])"
   ]
  },
  {
   "cell_type": "markdown",
   "metadata": {},
   "source": [
    "## apply_on_1"
   ]
  },
  {
   "cell_type": "code",
   "execution_count": null,
   "metadata": {
    "execution": {
     "iopub.execute_input": "2021-05-29T18:49:23.211758Z",
     "iopub.status.busy": "2021-05-29T18:49:23.210967Z",
     "iopub.status.idle": "2021-05-29T18:49:23.225828Z",
     "shell.execute_reply": "2021-05-29T18:49:23.226195Z"
    }
   },
   "outputs": [],
   "source": [
    "nu__ = np.asarray(\n",
    "    [\n",
    "        np.nan,\n",
    "        0,\n",
    "        1,\n",
    "        2,\n",
    "        np.nan,\n",
    "    ]\n",
    ")"
   ]
  },
  {
   "cell_type": "code",
   "execution_count": null,
   "metadata": {
    "execution": {
     "iopub.execute_input": "2021-05-29T18:49:23.229037Z",
     "iopub.status.busy": "2021-05-29T18:49:23.228521Z",
     "iopub.status.idle": "2021-05-29T18:49:23.241318Z",
     "shell.execute_reply": "2021-05-29T18:49:23.242116Z"
    }
   },
   "outputs": [],
   "source": [
    "np.sum(nu__)"
   ]
  },
  {
   "cell_type": "code",
   "execution_count": null,
   "metadata": {
    "execution": {
     "iopub.execute_input": "2021-05-29T18:49:23.245481Z",
     "iopub.status.busy": "2021-05-29T18:49:23.244932Z",
     "iopub.status.idle": "2021-05-29T18:49:23.258110Z",
     "shell.execute_reply": "2021-05-29T18:49:23.258636Z"
    }
   },
   "outputs": [],
   "source": [
    "kraft.number__.apply_on_1(\n",
    "    nu__,\n",
    "    np.sum,\n",
    ")"
   ]
  },
  {
   "cell_type": "code",
   "execution_count": null,
   "metadata": {
    "execution": {
     "iopub.execute_input": "2021-05-29T18:49:23.261409Z",
     "iopub.status.busy": "2021-05-29T18:49:23.260871Z",
     "iopub.status.idle": "2021-05-29T18:49:23.273303Z",
     "shell.execute_reply": "2021-05-29T18:49:23.273661Z"
    }
   },
   "outputs": [],
   "source": [
    "np.cumsum(nu__)"
   ]
  },
  {
   "cell_type": "code",
   "execution_count": null,
   "metadata": {
    "execution": {
     "iopub.execute_input": "2021-05-29T18:49:23.276712Z",
     "iopub.status.busy": "2021-05-29T18:49:23.276184Z",
     "iopub.status.idle": "2021-05-29T18:49:23.288329Z",
     "shell.execute_reply": "2021-05-29T18:49:23.288681Z"
    }
   },
   "outputs": [],
   "source": [
    "kraft.number__.apply_on_1(\n",
    "    nu__,\n",
    "    np.cumsum,\n",
    ")"
   ]
  },
  {
   "cell_type": "code",
   "execution_count": null,
   "metadata": {
    "execution": {
     "iopub.execute_input": "2021-05-29T18:49:23.291605Z",
     "iopub.status.busy": "2021-05-29T18:49:23.291100Z",
     "iopub.status.idle": "2021-05-29T18:49:23.302788Z",
     "shell.execute_reply": "2021-05-29T18:49:23.303208Z"
    }
   },
   "outputs": [],
   "source": [
    "kraft.number__.apply_on_1(\n",
    "    nu__,\n",
    "    np.cumsum,\n",
    "    up=True,\n",
    ")"
   ]
  },
  {
   "cell_type": "markdown",
   "metadata": {},
   "source": [
    "## apply_on_2"
   ]
  },
  {
   "cell_type": "code",
   "execution_count": null,
   "metadata": {
    "execution": {
     "iopub.execute_input": "2021-05-29T18:49:23.306327Z",
     "iopub.status.busy": "2021-05-29T18:49:23.305834Z",
     "iopub.status.idle": "2021-05-29T18:49:23.317564Z",
     "shell.execute_reply": "2021-05-29T18:49:23.317918Z"
    }
   },
   "outputs": [],
   "source": [
    "nu1__ = np.asarray(\n",
    "    [\n",
    "        np.nan,\n",
    "        0,\n",
    "        1,\n",
    "        np.nan,\n",
    "        2,\n",
    "    ]\n",
    ")\n",
    "\n",
    "nu2__ = np.asarray(\n",
    "    [\n",
    "        np.nan,\n",
    "        0,\n",
    "        1,\n",
    "        2,\n",
    "        np.nan,\n",
    "    ]\n",
    ")"
   ]
  },
  {
   "cell_type": "code",
   "execution_count": null,
   "metadata": {
    "execution": {
     "iopub.execute_input": "2021-05-29T18:49:23.320477Z",
     "iopub.status.busy": "2021-05-29T18:49:23.319976Z",
     "iopub.status.idle": "2021-05-29T18:49:23.332941Z",
     "shell.execute_reply": "2021-05-29T18:49:23.332504Z"
    }
   },
   "outputs": [],
   "source": [
    "np.add(\n",
    "    nu1__,\n",
    "    nu2__,\n",
    ")"
   ]
  },
  {
   "cell_type": "code",
   "execution_count": null,
   "metadata": {
    "execution": {
     "iopub.execute_input": "2021-05-29T18:49:23.335806Z",
     "iopub.status.busy": "2021-05-29T18:49:23.335314Z",
     "iopub.status.idle": "2021-05-29T18:49:23.346871Z",
     "shell.execute_reply": "2021-05-29T18:49:23.347221Z"
    }
   },
   "outputs": [],
   "source": [
    "kraft.number__.apply_on_2(\n",
    "    nu1__,\n",
    "    nu2__,\n",
    "    np.add,\n",
    ")"
   ]
  },
  {
   "cell_type": "markdown",
   "metadata": {},
   "source": [
    "## apply_along_on_2"
   ]
  },
  {
   "cell_type": "code",
   "execution_count": null,
   "metadata": {
    "execution": {
     "iopub.execute_input": "2021-05-29T18:49:23.350528Z",
     "iopub.status.busy": "2021-05-29T18:49:23.350043Z",
     "iopub.status.idle": "2021-05-29T18:49:23.362241Z",
     "shell.execute_reply": "2021-05-29T18:49:23.362606Z"
    }
   },
   "outputs": [],
   "source": [
    "nu1__ = np.asarray(\n",
    "    [\n",
    "        np.nan,\n",
    "        0,\n",
    "        1,\n",
    "        np.nan,\n",
    "        2,\n",
    "    ]\n",
    ")\n",
    "\n",
    "nu2__ = np.asarray(\n",
    "    [\n",
    "        np.nan,\n",
    "        0,\n",
    "        1,\n",
    "        2,\n",
    "        np.nan,\n",
    "    ]\n",
    ")"
   ]
  },
  {
   "cell_type": "code",
   "execution_count": null,
   "metadata": {
    "execution": {
     "iopub.execute_input": "2021-05-29T18:49:23.365349Z",
     "iopub.status.busy": "2021-05-29T18:49:23.364837Z",
     "iopub.status.idle": "2021-05-29T18:49:23.378274Z",
     "shell.execute_reply": "2021-05-29T18:49:23.378772Z"
    }
   },
   "outputs": [],
   "source": [
    "np.add(\n",
    "    nu1__,\n",
    "    nu2__,\n",
    ")"
   ]
  },
  {
   "cell_type": "code",
   "execution_count": null,
   "metadata": {
    "execution": {
     "iopub.execute_input": "2021-05-29T18:49:23.381396Z",
     "iopub.status.busy": "2021-05-29T18:49:23.380905Z",
     "iopub.status.idle": "2021-05-29T18:49:23.393338Z",
     "shell.execute_reply": "2021-05-29T18:49:23.393692Z"
    }
   },
   "outputs": [],
   "source": [
    "kraft.number__.apply_along_on_2(\n",
    "    nu1__,\n",
    "    nu2__,\n",
    "    np.add,\n",
    ")"
   ]
  },
  {
   "cell_type": "code",
   "execution_count": null,
   "metadata": {
    "execution": {
     "iopub.execute_input": "2021-05-29T18:49:23.396942Z",
     "iopub.status.busy": "2021-05-29T18:49:23.396428Z",
     "iopub.status.idle": "2021-05-29T18:49:23.407502Z",
     "shell.execute_reply": "2021-05-29T18:49:23.407857Z"
    }
   },
   "outputs": [],
   "source": [
    "nu1__ = np.asarray(\n",
    "    [\n",
    "        [\n",
    "            0,\n",
    "            0,\n",
    "        ],\n",
    "        [\n",
    "            0.1,\n",
    "            0.1,\n",
    "        ],\n",
    "        [\n",
    "            1,\n",
    "            1,\n",
    "        ],\n",
    "        [\n",
    "            10,\n",
    "            10,\n",
    "        ],\n",
    "    ]\n",
    ")\n",
    "\n",
    "nu2__ = np.asarray(\n",
    "    [\n",
    "        [\n",
    "            2,\n",
    "            2,\n",
    "        ],\n",
    "        [\n",
    "            4,\n",
    "            4,\n",
    "        ],\n",
    "    ]\n",
    ")"
   ]
  },
  {
   "cell_type": "code",
   "execution_count": null,
   "metadata": {
    "execution": {
     "iopub.execute_input": "2021-05-29T18:49:23.410710Z",
     "iopub.status.busy": "2021-05-29T18:49:23.410212Z",
     "iopub.status.idle": "2021-05-29T18:49:23.423282Z",
     "shell.execute_reply": "2021-05-29T18:49:23.423703Z"
    }
   },
   "outputs": [],
   "source": [
    "np.dot(\n",
    "    nu1__,\n",
    "    nu2__,\n",
    ")"
   ]
  },
  {
   "cell_type": "code",
   "execution_count": null,
   "metadata": {
    "execution": {
     "iopub.execute_input": "2021-05-29T18:49:23.426692Z",
     "iopub.status.busy": "2021-05-29T18:49:23.426195Z",
     "iopub.status.idle": "2021-05-29T18:49:23.438466Z",
     "shell.execute_reply": "2021-05-29T18:49:23.438888Z"
    }
   },
   "outputs": [],
   "source": [
    "kraft.number__.apply_along_on_2(\n",
    "    nu1__,\n",
    "    nu2__,\n",
    "    np.dot,\n",
    ")"
   ]
  }
 ],
 "metadata": {
  "kernelspec": {
   "display_name": "Python 3",
   "language": "python",
   "name": "python3"
  },
  "language_info": {
   "codemirror_mode": {
    "name": "ipython",
    "version": 3
   },
   "file_extension": ".py",
   "mimetype": "text/x-python",
   "name": "python",
   "nbconvert_exporter": "python",
   "pygments_lexer": "ipython3",
   "version": "3.8.9"
  }
 },
 "nbformat": 4,
 "nbformat_minor": 4
}
