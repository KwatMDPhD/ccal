{
 "cells": [
  {
   "cell_type": "code",
   "execution_count": null,
   "metadata": {},
   "outputs": [],
   "source": [
    "%load_ext autoreload\n",
    "%autoreload 2"
   ]
  },
  {
   "cell_type": "code",
   "execution_count": null,
   "metadata": {
    "ExecuteTime": {
     "end_time": "2018-05-07T09:08:44.839057Z",
     "start_time": "2018-05-07T09:08:44.223504Z"
    }
   },
   "outputs": [],
   "source": [
    "import numpy as np\n",
    "\n",
    "import kraft"
   ]
  },
  {
   "cell_type": "code",
   "execution_count": null,
   "metadata": {},
   "outputs": [],
   "source": [
    "point_x_dimension = np.asarray(\n",
    "    (\n",
    "        (\n",
    "            0,\n",
    "            0,\n",
    "        ),\n",
    "        (\n",
    "            1,\n",
    "            0,\n",
    "        ),\n",
    "        (\n",
    "            2,\n",
    "            0,\n",
    "        ),\n",
    "        (\n",
    "            0,\n",
    "            1,\n",
    "        ),\n",
    "        (\n",
    "            1,\n",
    "            1,\n",
    "        ),\n",
    "        (\n",
    "            2,\n",
    "            1,\n",
    "        ),\n",
    "        (\n",
    "            0,\n",
    "            2,\n",
    "        ),\n",
    "        (\n",
    "            1,\n",
    "            2,\n",
    "        ),\n",
    "        (\n",
    "            2,\n",
    "            2,\n",
    "        ),\n",
    "        (\n",
    "            0.5,\n",
    "            1.75,\n",
    "        ),\n",
    "        (\n",
    "            2,\n",
    "            3,\n",
    "        ),\n",
    "    )\n",
    ")\n",
    "\n",
    "(\n",
    "    point_xs,\n",
    "    point_ys,\n",
    ") = point_x_dimension.T"
   ]
  },
  {
   "cell_type": "code",
   "execution_count": null,
   "metadata": {},
   "outputs": [],
   "source": [
    "def plot_line(\n",
    "    point_xs,\n",
    "    point_ys,\n",
    "    line_xs,\n",
    "    line_ys,\n",
    "):\n",
    "\n",
    "    layouts_size = 640\n",
    "\n",
    "    kraft.plot_plotly(\n",
    "        {\n",
    "            \"layout\": {\n",
    "                \"height\": layouts_size,\n",
    "                \"width\": layouts_size,\n",
    "            },\n",
    "            \"data\": [\n",
    "                {\n",
    "                    \"name\": \"Point\",\n",
    "                    \"x\": point_xs,\n",
    "                    \"y\": point_ys,\n",
    "                    \"mode\": \"markers\",\n",
    "                    \"marker\": {\n",
    "                        \"size\": 16,\n",
    "                        \"opacity\": 0.8,\n",
    "                    },\n",
    "                },\n",
    "                {\n",
    "                    \"name\": \"Line\",\n",
    "                    \"x\": line_xs,\n",
    "                    \"y\": line_ys,\n",
    "                    \"mode\": \"lines\",\n",
    "                    \"line\": {\"dash\": \"dashdot\"},\n",
    "                },\n",
    "            ],\n",
    "        }\n",
    "    )"
   ]
  },
  {
   "cell_type": "markdown",
   "metadata": {},
   "source": [
    "## get_triangulation"
   ]
  },
  {
   "cell_type": "code",
   "execution_count": null,
   "metadata": {},
   "outputs": [],
   "source": [
    "(\n",
    "    triangulation_xs,\n",
    "    triangulation_ys,\n",
    ") = kraft.get_triangulation(point_x_dimension)\n",
    "\n",
    "plot_line(\n",
    "    point_xs,\n",
    "    point_ys,\n",
    "    triangulation_xs,\n",
    "    triangulation_ys,\n",
    ")"
   ]
  },
  {
   "cell_type": "markdown",
   "metadata": {},
   "source": [
    "## get_convex_hull"
   ]
  },
  {
   "cell_type": "code",
   "execution_count": null,
   "metadata": {},
   "outputs": [],
   "source": [
    "(\n",
    "    convex_hull_xs,\n",
    "    convex_hull_ys,\n",
    ") = kraft.get_convex_hull(point_x_dimension)\n",
    "\n",
    "plot_line(\n",
    "    point_xs,\n",
    "    point_ys,\n",
    "    convex_hull_xs,\n",
    "    convex_hull_ys,\n",
    ")"
   ]
  },
  {
   "cell_type": "code",
   "execution_count": null,
   "metadata": {},
   "outputs": [],
   "source": [
    "plot_line(\n",
    "    point_xs,\n",
    "    point_ys,\n",
    "    triangulation_xs + convex_hull_xs,\n",
    "    triangulation_ys + convex_hull_ys,\n",
    ")"
   ]
  }
 ],
 "metadata": {
  "kernelspec": {
   "display_name": "Python 3",
   "language": "python",
   "name": "python3"
  },
  "language_info": {
   "codemirror_mode": {
    "name": "ipython",
    "version": 3
   },
   "file_extension": ".py",
   "mimetype": "text/x-python",
   "name": "python",
   "nbconvert_exporter": "python",
   "pygments_lexer": "ipython3",
   "version": "3.7.6"
  }
 },
 "nbformat": 4,
 "nbformat_minor": 4
}
