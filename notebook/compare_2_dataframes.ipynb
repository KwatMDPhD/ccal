{
 "cells": [
  {
   "cell_type": "code",
   "execution_count": null,
   "metadata": {},
   "outputs": [],
   "source": [
    "# cleaning...%load_ext autoreload\n",
    "# cleaning...%autoreload 2"
   ]
  },
  {
   "cell_type": "code",
   "execution_count": null,
   "metadata": {},
   "outputs": [],
   "source": [
    "import numpy as np\n",
    "import pandas as pd\n",
    "\n",
    "import kraft"
   ]
  },
  {
   "cell_type": "code",
   "execution_count": null,
   "metadata": {},
   "outputs": [],
   "source": [
    "size = (5, 10)\n",
    "\n",
    "dataframe_0 = kraft.simulate_series_or_dataframe(\"Row\", \"Column\", size, \"uniform\")\n",
    "\n",
    "dataframe_1 = kraft.simulate_series_or_dataframe(\"Row\", \"Column\", size, \"uniform\")"
   ]
  },
  {
   "cell_type": "code",
   "execution_count": null,
   "metadata": {},
   "outputs": [],
   "source": [
    "for axis in (0, 1):\n",
    "\n",
    "    if axis == 0:\n",
    "\n",
    "        common_columns = dataframe_0.columns & dataframe_1.columns\n",
    "\n",
    "        dataframe_0 = dataframe_0[common_columns]\n",
    "\n",
    "        dataframe_1 = dataframe_1[common_columns]\n",
    "\n",
    "    elif axis == 1:\n",
    "\n",
    "        common_indices = dataframe_0.index & dataframe_1.index\n",
    "\n",
    "        dataframe_0 = dataframe_0.loc[common_indices]\n",
    "\n",
    "        dataframe_1 = dataframe_1.loc[common_indices]\n",
    "\n",
    "    kraft.apply_function_on_slices_from_2_dataframes(\n",
    "        dataframe_0,\n",
    "        dataframe_1,\n",
    "        axis,\n",
    "        kraft.compute_information_coefficient_between_2_vectors,\n",
    "    )"
   ]
  }
 ],
 "metadata": {
  "kernelspec": {
   "display_name": "Python 3",
   "language": "python",
   "name": "python3"
  },
  "language_info": {
   "codemirror_mode": {
    "name": "ipython",
    "version": 3
   },
   "file_extension": ".py",
   "mimetype": "text/x-python",
   "name": "python",
   "nbconvert_exporter": "python",
   "pygments_lexer": "ipython3",
   "version": "3.7.3"
  }
 },
 "nbformat": 4,
 "nbformat_minor": 4
}
