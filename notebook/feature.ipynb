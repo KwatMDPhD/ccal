{
 "cells": [
  {
   "cell_type": "code",
   "execution_count": 1,
   "metadata": {},
   "outputs": [],
   "source": [
    "import os"
   ]
  },
  {
   "cell_type": "code",
   "execution_count": 2,
   "metadata": {},
   "outputs": [
    {
     "name": "stdout",
     "output_type": "stream",
     "text": [
      "CCAL version 1.1.0 @ /home/kwatme/github/ccal/ccal/__init__.py\n"
     ]
    }
   ],
   "source": [
    "import ccal"
   ]
  },
  {
   "cell_type": "code",
   "execution_count": 3,
   "metadata": {
    "ExecuteTime": {
     "end_time": "2018-05-15T09:30:00.358750Z",
     "start_time": "2018-05-15T09:30:00.298727Z"
    }
   },
   "outputs": [],
   "source": [
    "gff3_gz_file_path = os.path.join(ccal.DATA_DIRECTORY_PATH, \"Homo_sapiens.GRCh38.90.chr.gff3.gz\")"
   ]
  },
  {
   "cell_type": "code",
   "execution_count": 4,
   "metadata": {
    "ExecuteTime": {
     "end_time": "2018-05-15T09:32:20.020923Z",
     "start_time": "2018-05-15T09:30:00.362454Z"
    }
   },
   "outputs": [
    {
     "name": "stdout",
     "output_type": "stream",
     "text": [
      "Initializing FeatureHDF5 ...\n",
      "\tReading /home/kwatme/github/ccal/data/Homo_sapiens.GRCh38.90.chr.gff3.gz.hdf5 ...\n",
      "Failed: ``/home/kwatme/github/ccal/data/Homo_sapiens.GRCh38.90.chr.gff3.gz.hdf5`` does not exist.\n",
      "Resetting ...\n",
      "\tMaking /home/kwatme/github/ccal/data/Homo_sapiens.GRCh38.90.chr.gff3.gz.hdf5 ...\n",
      "Getting data-start position ...\n",
      "Counting features per seqid ...\n",
      "\t1 ...\n",
      "\t10 ...\n",
      "\t11 ...\n",
      "\t12 ...\n",
      "\t13 ...\n",
      "\t14 ...\n",
      "\t15 ...\n",
      "\t16 ...\n",
      "\t17 ...\n",
      "\t18 ...\n",
      "\t19 ...\n",
      "\t2 ...\n",
      "\t20 ...\n",
      "\t21 ...\n",
      "\t22 ...\n",
      "\t3 ...\n",
      "\t4 ...\n",
      "\t5 ...\n",
      "\t6 ...\n",
      "\t7 ...\n",
      "\t8 ...\n",
      "\t9 ...\n",
      "\tMT ...\n",
      "\tX ...\n",
      "\tY ...\n",
      "Making /home/kwatme/github/ccal/data/Homo_sapiens.GRCh38.90.chr.gff3.gz.hdf5 ...\n",
      "\t1/2,691,896 ...\n",
      "\t\tMaking 1 table ...\n",
      "\t\tMaking 10 table ...\n",
      "\t269,190/2,691,896 ...\n",
      "\t\tMaking 11 table ...\n",
      "\t\tMaking 12 table ...\n",
      "\t538,379/2,691,896 ...\n",
      "\t\tMaking 13 table ...\n",
      "\t\tMaking 14 table ...\n",
      "\t\tMaking 15 table ...\n",
      "\t807,568/2,691,896 ...\n",
      "\t\tMaking 16 table ...\n",
      "\t\tMaking 17 table ...\n",
      "\t1,076,757/2,691,896 ...\n",
      "\t\tMaking 18 table ...\n",
      "\t\tMaking 19 table ...\n",
      "\t1,345,946/2,691,896 ...\n",
      "\t\tMaking 2 table ...\n",
      "\t\tMaking 20 table ...\n",
      "\t1,615,135/2,691,896 ...\n",
      "\t\tMaking 21 table ...\n",
      "\t\tMaking 22 table ...\n",
      "\t\tMaking 3 table ...\n",
      "\t1,884,324/2,691,896 ...\n",
      "\t\tMaking 4 table ...\n",
      "\t\tMaking 5 table ...\n",
      "\t2,153,513/2,691,896 ...\n",
      "\t\tMaking 6 table ...\n",
      "\t\tMaking 7 table ...\n",
      "\t\tMaking 8 table ...\n",
      "\t2,422,702/2,691,896 ...\n",
      "\t\tMaking 9 table ...\n",
      "\t\tMaking MT table ...\n",
      "\t\tMaking X table ...\n",
      "\t\tMaking Y table ...\n",
      "\t2,691,891/2,691,896 ...\n",
      "\tFlushing tables and making column indices ...\n",
      "\t\t1 table ...\n",
      "\t\t10 table ...\n",
      "\t\t11 table ...\n",
      "\t\t12 table ...\n",
      "\t\t13 table ...\n",
      "\t\t14 table ...\n",
      "\t\t15 table ...\n",
      "\t\t16 table ...\n",
      "\t\t17 table ...\n",
      "\t\t18 table ...\n",
      "\t\t19 table ...\n",
      "\t\t2 table ...\n",
      "\t\t20 table ...\n",
      "\t\t21 table ...\n",
      "\t\t22 table ...\n",
      "\t\t3 table ...\n",
      "\t\t4 table ...\n",
      "\t\t5 table ...\n",
      "\t\t6 table ...\n",
      "\t\t7 table ...\n",
      "\t\t8 table ...\n",
      "\t\t9 table ...\n",
      "\t\tMT table ...\n",
      "\t\tX table ...\n",
      "\t\tY table ...\n",
      "/home/kwatme/github/ccal/data/Homo_sapiens.GRCh38.90.chr.gff3.gz.hdf5 (File) ''\n",
      "Last modif.: 'Sun Apr 14 22:31:48 2019'\n",
      "Object Tree: \n",
      "/ (RootGroup) ''\n",
      "/seqid_10_features (Table(761,), shuffle, blosc(1)) ''\n",
      "/seqid_11_features (Table(1382,), shuffle, blosc(1)) ''\n",
      "/seqid_12_features (Table(1135,), shuffle, blosc(1)) ''\n",
      "/seqid_13_features (Table(352,), shuffle, blosc(1)) ''\n",
      "/seqid_14_features (Table(841,), shuffle, blosc(1)) ''\n",
      "/seqid_15_features (Table(658,), shuffle, blosc(1)) ''\n",
      "/seqid_16_features (Table(1006,), shuffle, blosc(1)) ''\n",
      "/seqid_17_features (Table(1287,), shuffle, blosc(1)) ''\n",
      "/seqid_18_features (Table(321,), shuffle, blosc(1)) ''\n",
      "/seqid_19_features (Table(1546,), shuffle, blosc(1)) ''\n",
      "/seqid_1_features (Table(2095,), shuffle, blosc(1)) ''\n",
      "/seqid_20_features (Table(550,), shuffle, blosc(1)) ''\n",
      "/seqid_21_features (Table(251,), shuffle, blosc(1)) ''\n",
      "/seqid_22_features (Table(499,), shuffle, blosc(1)) ''\n",
      "/seqid_2_features (Table(1364,), shuffle, blosc(1)) ''\n",
      "/seqid_3_features (Table(1103,), shuffle, blosc(1)) ''\n",
      "/seqid_4_features (Table(787,), shuffle, blosc(1)) ''\n",
      "/seqid_5_features (Table(955,), shuffle, blosc(1)) ''\n",
      "/seqid_6_features (Table(1077,), shuffle, blosc(1)) ''\n",
      "/seqid_7_features (Table(1023,), shuffle, blosc(1)) ''\n",
      "/seqid_8_features (Table(704,), shuffle, blosc(1)) ''\n",
      "/seqid_9_features (Table(795,), shuffle, blosc(1)) ''\n",
      "/seqid_MT_features (Table(13,), shuffle, blosc(1)) ''\n",
      "/seqid_X_features (Table(857,), shuffle, blosc(1)) ''\n",
      "/seqid_Y_features (Table(45,), shuffle, blosc(1)) ''\n",
      "\n",
      "Writing /home/kwatme/github/ccal/data/Homo_sapiens.GRCh38.90.chr.gff3.gz.name_seqid.pickle.gz ...\n",
      "\tReading /home/kwatme/github/ccal/data/Homo_sapiens.GRCh38.90.chr.gff3.gz.hdf5 ...\n"
     ]
    },
    {
     "data": {
      "text/plain": [
       "<ccal.FeatureHDF5.FeatureHDF5 at 0x7fde0e8026d8>"
      ]
     },
     "execution_count": 4,
     "metadata": {},
     "output_type": "execute_result"
    }
   ],
   "source": [
    "feature_hdf5 = ccal.FeatureHDF5(gff3_gz_file_path)\n",
    "\n",
    "feature_hdf5"
   ]
  },
  {
   "cell_type": "code",
   "execution_count": null,
   "metadata": {
    "ExecuteTime": {
     "end_time": "2018-05-15T09:32:20.594656Z",
     "start_time": "2018-05-15T09:32:20.027391Z"
    }
   },
   "outputs": [
    {
     "name": "stdout",
     "output_type": "stream",
     "text": [
      "Reading seqid_12_features where Name == b'KRAS' ...\n"
     ]
    },
    {
     "data": {
      "text/plain": [
       "[{'Name': 'KRAS',\n",
       "  'biotype': 'protein_coding',\n",
       "  'end': 25250936,\n",
       "  'seqid': '12',\n",
       "  'start': 25204789}]"
      ]
     },
     "execution_count": 5,
     "metadata": {},
     "output_type": "execute_result"
    }
   ],
   "source": [
    "feature_dict = feature_hdf5.get_features_by_name(\"KRAS\")\n",
    "\n",
    "feature_dict"
   ]
  },
  {
   "cell_type": "code",
   "execution_count": null,
   "metadata": {
    "ExecuteTime": {
     "end_time": "2018-05-15T09:32:20.770574Z",
     "start_time": "2018-05-15T09:32:20.604862Z"
    }
   },
   "outputs": [
    {
     "name": "stdout",
     "output_type": "stream",
     "text": [
      "'Kwat'\n"
     ]
    }
   ],
   "source": [
    "try:\n",
    "\n",
    "    feature_hdf5.get_features_by_name(\"Kwat\")\n",
    "\n",
    "except KeyError as exception:\n",
    "\n",
    "    print(exception)"
   ]
  },
  {
   "cell_type": "code",
   "execution_count": null,
   "metadata": {
    "ExecuteTime": {
     "end_time": "2018-05-15T09:32:21.508520Z",
     "start_time": "2018-05-15T09:32:20.822924Z"
    }
   },
   "outputs": [],
   "source": [
    "feature_dict = feature_hdf5.get_features_by_region(\"8\", 0, 800000)\n",
    "\n",
    "feature_dict"
   ]
  },
  {
   "cell_type": "code",
   "execution_count": 8,
   "metadata": {
    "ExecuteTime": {
     "end_time": "2018-05-15T09:30:00.294472Z",
     "start_time": "2018-05-15T09:29:59.560813Z"
    }
   },
   "outputs": [],
   "source": [
    "import tables"
   ]
  },
  {
   "cell_type": "code",
   "execution_count": 9,
   "metadata": {
    "ExecuteTime": {
     "end_time": "2018-05-15T09:32:21.728357Z",
     "start_time": "2018-05-15T09:32:21.532491Z"
    }
   },
   "outputs": [
    {
     "name": "stdout",
     "output_type": "stream",
     "text": [
      "group ``/`` does not have a child named ``/seqid_88888888_features``\n"
     ]
    }
   ],
   "source": [
    "try:\n",
    "\n",
    "    feature_hdf5.get_features_by_region(\"88888888\", 0, 800000)\n",
    "\n",
    "except tables.NoSuchNodeError as exception:\n",
    "\n",
    "    print(exception)"
   ]
  }
 ],
 "metadata": {
  "kernelspec": {
   "display_name": "Python 3",
   "language": "python",
   "name": "python3"
  },
  "language_info": {
   "codemirror_mode": {
    "name": "ipython",
    "version": 3
   },
   "file_extension": ".py",
   "mimetype": "text/x-python",
   "name": "python",
   "nbconvert_exporter": "python",
   "pygments_lexer": "ipython3",
   "version": "3.6.7"
  }
 },
 "nbformat": 4,
 "nbformat_minor": 2
}
