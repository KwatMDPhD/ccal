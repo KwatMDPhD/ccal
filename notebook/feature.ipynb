{
 "cells": [
  {
   "cell_type": "code",
   "execution_count": null,
   "metadata": {
    "ExecuteTime": {
     "end_time": "2018-05-15T09:29:59.556206Z",
     "start_time": "2018-05-15T09:29:59.449974Z"
    }
   },
   "outputs": [],
   "source": [
    "%load_ext autoreload\n",
    "%autoreload 2"
   ]
  },
  {
   "cell_type": "code",
   "execution_count": null,
   "metadata": {},
   "outputs": [],
   "source": [
    "import os\n",
    "import sys\n",
    "\n",
    "import numpy as np\n",
    "import pandas as pd\n",
    "import plotly as pl"
   ]
  },
  {
   "cell_type": "code",
   "execution_count": null,
   "metadata": {
    "ExecuteTime": {
     "end_time": "2018-05-15T09:30:00.294472Z",
     "start_time": "2018-05-15T09:29:59.560813Z"
    }
   },
   "outputs": [],
   "source": [
    "sys.path.insert(0, \"..\")\n",
    "\n",
    "np.random.random(20121020)\n",
    "\n",
    "pl.offline.init_notebook_mode(connected=True)"
   ]
  },
  {
   "cell_type": "code",
   "execution_count": null,
   "metadata": {
    "ExecuteTime": {
     "end_time": "2018-05-15T09:30:00.294472Z",
     "start_time": "2018-05-15T09:29:59.560813Z"
    }
   },
   "outputs": [],
   "source": [
    "from warnings import warn\n",
    "\n",
    "from tables import NoSuchNodeError"
   ]
  },
  {
   "cell_type": "code",
   "execution_count": null,
   "metadata": {
    "ExecuteTime": {
     "end_time": "2018-05-15T09:30:00.358750Z",
     "start_time": "2018-05-15T09:30:00.298727Z"
    }
   },
   "outputs": [],
   "source": [
    "grch_directory_path = os.path.abspath(os.path.expanduser(\".\"))\n",
    "\n",
    "gff3_gz_file_path = \"{}/Homo_sapiens.GRCh38.93.chr.gff3.gz\".format(grch_directory_path)\n",
    "\n",
    "assert os.path.isfile(gff3_gz_file_path), gff3_gz_file_path"
   ]
  },
  {
   "cell_type": "code",
   "execution_count": null,
   "metadata": {
    "ExecuteTime": {
     "end_time": "2018-05-15T09:32:20.020923Z",
     "start_time": "2018-05-15T09:30:00.362454Z"
    }
   },
   "outputs": [],
   "source": [
    "from feature.FeatureHDF5 import FeatureHDF5\n",
    "\n",
    "feature_hdf5 = FeatureHDF5(gff3_gz_file_path, reset=True)\n",
    "\n",
    "feature_hdf5"
   ]
  },
  {
   "cell_type": "code",
   "execution_count": null,
   "metadata": {
    "ExecuteTime": {
     "end_time": "2018-05-15T09:32:20.594656Z",
     "start_time": "2018-05-15T09:32:20.027391Z"
    }
   },
   "outputs": [],
   "source": [
    "feature_dict = feature_hdf5.get_features_by_name(\"KRAS\")\n",
    "\n",
    "feature_dict"
   ]
  },
  {
   "cell_type": "code",
   "execution_count": null,
   "metadata": {
    "ExecuteTime": {
     "end_time": "2018-05-15T09:32:20.770574Z",
     "start_time": "2018-05-15T09:32:20.604862Z"
    }
   },
   "outputs": [],
   "source": [
    "try:\n",
    "\n",
    "    feature_hdf5.get_features_by_name(\"Kwat\")\n",
    "\n",
    "except KeyError as exception:\n",
    "\n",
    "    warn(\"(get_features_by_name) KeyError: {}.\".format(exception))"
   ]
  },
  {
   "cell_type": "code",
   "execution_count": null,
   "metadata": {
    "ExecuteTime": {
     "end_time": "2018-05-15T09:32:21.508520Z",
     "start_time": "2018-05-15T09:32:20.822924Z"
    }
   },
   "outputs": [],
   "source": [
    "feature_dict = feature_hdf5.get_features_by_region(\"8\", 0, 800000)\n",
    "\n",
    "feature_dict"
   ]
  },
  {
   "cell_type": "code",
   "execution_count": null,
   "metadata": {
    "ExecuteTime": {
     "end_time": "2018-05-15T09:32:21.728357Z",
     "start_time": "2018-05-15T09:32:21.532491Z"
    }
   },
   "outputs": [],
   "source": [
    "try:\n",
    "\n",
    "    feature_hdf5.get_features_by_region(\"88888888\", 0, 800000)\n",
    "\n",
    "except NoSuchNodeError as exception:\n",
    "\n",
    "    warn(\"(get_features_by_region) NoSuchNodeError: {}.\".format(exception))"
   ]
  }
 ],
 "metadata": {
  "kernelspec": {
   "display_name": "Python 3",
   "language": "python",
   "name": "python3"
  },
  "language_info": {
   "codemirror_mode": {
    "name": "ipython",
    "version": 3
   },
   "file_extension": ".py",
   "mimetype": "text/x-python",
   "name": "python",
   "nbconvert_exporter": "python",
   "pygments_lexer": "ipython3",
   "version": "3.6.6"
  }
 },
 "nbformat": 4,
 "nbformat_minor": 2
}
