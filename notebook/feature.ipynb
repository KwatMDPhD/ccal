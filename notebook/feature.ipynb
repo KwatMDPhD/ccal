{
 "cells": [
  {
   "cell_type": "code",
   "execution_count": null,
   "metadata": {},
   "outputs": [],
   "source": [
    "import ccal"
   ]
  },
  {
   "cell_type": "code",
   "execution_count": null,
   "metadata": {
    "ExecuteTime": {
     "end_time": "2018-05-15T09:30:00.358750Z",
     "start_time": "2018-05-15T09:30:00.298727Z"
    }
   },
   "outputs": [],
   "source": [
    "gff3_gz_file_path = \"Homo_sapiens.GRCh38.93.chr.gff3.gz\""
   ]
  },
  {
   "cell_type": "code",
   "execution_count": null,
   "metadata": {
    "ExecuteTime": {
     "end_time": "2018-05-15T09:32:20.020923Z",
     "start_time": "2018-05-15T09:30:00.362454Z"
    }
   },
   "outputs": [],
   "source": [
    "feature_hdf5 = ccal.FeatureHDF5(gff3_gz_file_path)\n",
    "\n",
    "feature_hdf5"
   ]
  },
  {
   "cell_type": "code",
   "execution_count": null,
   "metadata": {
    "ExecuteTime": {
     "end_time": "2018-05-15T09:32:20.594656Z",
     "start_time": "2018-05-15T09:32:20.027391Z"
    }
   },
   "outputs": [],
   "source": [
    "feature_hdf5.get_features_by_name(\"KRAS\")"
   ]
  },
  {
   "cell_type": "code",
   "execution_count": null,
   "metadata": {
    "ExecuteTime": {
     "end_time": "2018-05-15T09:32:20.770574Z",
     "start_time": "2018-05-15T09:32:20.604862Z"
    }
   },
   "outputs": [],
   "source": [
    "try:\n",
    "\n",
    "    feature_hdf5.get_features_by_name(\"Kwat\")\n",
    "\n",
    "except KeyError as exception:\n",
    "\n",
    "    print(exception)"
   ]
  },
  {
   "cell_type": "code",
   "execution_count": null,
   "metadata": {
    "ExecuteTime": {
     "end_time": "2018-05-15T09:32:21.508520Z",
     "start_time": "2018-05-15T09:32:20.822924Z"
    }
   },
   "outputs": [],
   "source": [
    "feature_hdf5.get_features_by_region(\"8\", 0, 800000)"
   ]
  },
  {
   "cell_type": "code",
   "execution_count": null,
   "metadata": {
    "ExecuteTime": {
     "end_time": "2018-05-15T09:30:00.294472Z",
     "start_time": "2018-05-15T09:29:59.560813Z"
    }
   },
   "outputs": [],
   "source": [
    "import tables"
   ]
  },
  {
   "cell_type": "code",
   "execution_count": null,
   "metadata": {
    "ExecuteTime": {
     "end_time": "2018-05-15T09:32:21.728357Z",
     "start_time": "2018-05-15T09:32:21.532491Z"
    }
   },
   "outputs": [],
   "source": [
    "try:\n",
    "\n",
    "    feature_hdf5.get_features_by_region(\"88888888\", 0, 800000)\n",
    "\n",
    "except tables.NoSuchNodeError as exception:\n",
    "\n",
    "    print(exception)"
   ]
  }
 ],
 "metadata": {
  "kernelspec": {
   "display_name": "Python 3",
   "language": "python",
   "name": "python3"
  },
  "language_info": {
   "codemirror_mode": {
    "name": "ipython",
    "version": 3
   },
   "file_extension": ".py",
   "mimetype": "text/x-python",
   "name": "python",
   "nbconvert_exporter": "python",
   "pygments_lexer": "ipython3",
   "version": "3.6.7"
  }
 },
 "nbformat": 4,
 "nbformat_minor": 2
}
