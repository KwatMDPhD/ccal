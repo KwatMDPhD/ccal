{
 "cells": [
  {
   "cell_type": "code",
   "execution_count": null,
   "metadata": {
    "execution": {
     "iopub.execute_input": "2021-05-30T23:49:12.090717Z",
     "iopub.status.busy": "2021-05-30T23:49:12.089961Z",
     "iopub.status.idle": "2021-05-30T23:49:12.103509Z",
     "shell.execute_reply": "2021-05-30T23:49:12.104012Z"
    }
   },
   "outputs": [],
   "source": [
    "%load_ext autoreload\n",
    "%autoreload 2"
   ]
  },
  {
   "cell_type": "code",
   "execution_count": null,
   "metadata": {
    "ExecuteTime": {
     "end_time": "2018-05-15T09:28:55.668422Z",
     "start_time": "2018-05-15T09:28:55.428950Z"
    },
    "execution": {
     "iopub.execute_input": "2021-05-30T23:49:12.107171Z",
     "iopub.status.busy": "2021-05-30T23:49:12.106579Z",
     "iopub.status.idle": "2021-05-30T23:49:12.645422Z",
     "shell.execute_reply": "2021-05-30T23:49:12.645802Z"
    }
   },
   "outputs": [],
   "source": [
    "import subprocess\n",
    "\n",
    "import kraft"
   ]
  },
  {
   "cell_type": "markdown",
   "metadata": {},
   "source": [
    "## run"
   ]
  },
  {
   "cell_type": "code",
   "execution_count": null,
   "metadata": {
    "execution": {
     "iopub.execute_input": "2021-05-30T23:49:12.649200Z",
     "iopub.status.busy": "2021-05-30T23:49:12.648695Z",
     "iopub.status.idle": "2021-05-30T23:49:12.690009Z",
     "shell.execute_reply": "2021-05-30T23:49:12.690600Z"
    }
   },
   "outputs": [],
   "source": [
    "kraft.shell.run(\"ls\")"
   ]
  }
 ],
 "metadata": {
  "kernelspec": {
   "display_name": "Python 3",
   "language": "python",
   "name": "python3"
  },
  "language_info": {
   "codemirror_mode": {
    "name": "ipython",
    "version": 3
   },
   "file_extension": ".py",
   "mimetype": "text/x-python",
   "name": "python",
   "nbconvert_exporter": "python",
   "pygments_lexer": "ipython3",
   "version": "3.8.9"
  }
 },
 "nbformat": 4,
 "nbformat_minor": 4
}
