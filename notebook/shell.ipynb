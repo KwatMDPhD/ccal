{
 "cells": [
  {
   "cell_type": "code",
   "execution_count": null,
   "metadata": {
    "execution": {
     "iopub.execute_input": "2021-05-31T06:00:29.752123Z",
     "iopub.status.busy": "2021-05-31T06:00:29.751340Z",
     "iopub.status.idle": "2021-05-31T06:00:29.765953Z",
     "shell.execute_reply": "2021-05-31T06:00:29.766464Z"
    }
   },
   "outputs": [],
   "source": [
    "%load_ext autoreload\n",
    "%autoreload 2"
   ]
  },
  {
   "cell_type": "code",
   "execution_count": null,
   "metadata": {
    "ExecuteTime": {
     "end_time": "2018-05-15T09:28:55.668422Z",
     "start_time": "2018-05-15T09:28:55.428950Z"
    },
    "execution": {
     "iopub.execute_input": "2021-05-31T06:00:29.769721Z",
     "iopub.status.busy": "2021-05-31T06:00:29.769132Z",
     "iopub.status.idle": "2021-05-31T06:00:30.309320Z",
     "shell.execute_reply": "2021-05-31T06:00:30.309715Z"
    }
   },
   "outputs": [],
   "source": [
    "import subprocess\n",
    "\n",
    "import kraft"
   ]
  },
  {
   "cell_type": "markdown",
   "metadata": {},
   "source": [
    "## run"
   ]
  },
  {
   "cell_type": "code",
   "execution_count": null,
   "metadata": {
    "execution": {
     "iopub.execute_input": "2021-05-31T06:00:30.313019Z",
     "iopub.status.busy": "2021-05-31T06:00:30.312446Z",
     "iopub.status.idle": "2021-05-31T06:00:30.349060Z",
     "shell.execute_reply": "2021-05-31T06:00:30.349487Z"
    }
   },
   "outputs": [],
   "source": [
    "kraft.shell.run(\"ls\")"
   ]
  }
 ],
 "metadata": {
  "kernelspec": {
   "display_name": "Python 3",
   "language": "python",
   "name": "python3"
  },
  "language_info": {
   "codemirror_mode": {
    "name": "ipython",
    "version": 3
   },
   "file_extension": ".py",
   "mimetype": "text/x-python",
   "name": "python",
   "nbconvert_exporter": "python",
   "pygments_lexer": "ipython3",
   "version": "3.8.9"
  }
 },
 "nbformat": 4,
 "nbformat_minor": 4
}
