{
 "cells": [
  {
   "cell_type": "code",
   "execution_count": null,
   "metadata": {
    "execution": {
     "iopub.execute_input": "2021-05-31T22:30:11.991491Z",
     "iopub.status.busy": "2021-05-31T22:30:11.990723Z",
     "iopub.status.idle": "2021-05-31T22:30:12.005591Z",
     "shell.execute_reply": "2021-05-31T22:30:12.006035Z"
    },
    "tags": []
   },
   "outputs": [],
   "source": [
    "%load_ext autoreload\n",
    "%autoreload 2"
   ]
  },
  {
   "cell_type": "code",
   "execution_count": null,
   "metadata": {
    "ExecuteTime": {
     "end_time": "2018-05-15T09:28:55.668422Z",
     "start_time": "2018-05-15T09:28:55.428950Z"
    },
    "execution": {
     "iopub.execute_input": "2021-05-31T22:30:12.009777Z",
     "iopub.status.busy": "2021-05-31T22:30:12.009131Z",
     "iopub.status.idle": "2021-05-31T22:30:12.535356Z",
     "shell.execute_reply": "2021-05-31T22:30:12.535747Z"
    },
    "tags": []
   },
   "outputs": [],
   "source": [
    "import kraft"
   ]
  },
  {
   "cell_type": "markdown",
   "metadata": {},
   "source": [
    "## run"
   ]
  },
  {
   "cell_type": "code",
   "execution_count": null,
   "metadata": {
    "execution": {
     "iopub.execute_input": "2021-05-31T22:30:12.538929Z",
     "iopub.status.busy": "2021-05-31T22:30:12.538359Z",
     "iopub.status.idle": "2021-05-31T22:30:12.555877Z",
     "shell.execute_reply": "2021-05-31T22:30:12.556319Z"
    }
   },
   "outputs": [],
   "source": [
    "import subprocess"
   ]
  },
  {
   "cell_type": "code",
   "execution_count": null,
   "metadata": {
    "execution": {
     "iopub.execute_input": "2021-05-31T22:30:12.559352Z",
     "iopub.status.busy": "2021-05-31T22:30:12.558797Z",
     "iopub.status.idle": "2021-05-31T22:30:12.600591Z",
     "shell.execute_reply": "2021-05-31T22:30:12.601014Z"
    },
    "tags": []
   },
   "outputs": [],
   "source": [
    "kraft.shell.run(\"ls\")"
   ]
  }
 ],
 "metadata": {
  "kernelspec": {
   "display_name": "Python 3",
   "language": "python",
   "name": "python3"
  },
  "language_info": {
   "codemirror_mode": {
    "name": "ipython",
    "version": 3
   },
   "file_extension": ".py",
   "mimetype": "text/x-python",
   "name": "python",
   "nbconvert_exporter": "python",
   "pygments_lexer": "ipython3",
   "version": "3.8.9"
  }
 },
 "nbformat": 4,
 "nbformat_minor": 4
}
