{
 "cells": [
  {
   "cell_type": "code",
   "execution_count": null,
   "metadata": {},
   "outputs": [],
   "source": [
    "# cleaning...%load_ext autoreload\n",
    "# cleaning...%autoreload 2"
   ]
  },
  {
   "cell_type": "code",
   "execution_count": null,
   "metadata": {},
   "outputs": [],
   "source": [
    "import numpy as np\n",
    "import scipy as sci\n",
    "import statsmodels as stat\n",
    "\n",
    "import kraft"
   ]
  },
  {
   "cell_type": "code",
   "execution_count": null,
   "metadata": {},
   "outputs": [],
   "source": [
    "def objective_function_test(parameters):\n",
    "\n",
    "    a, b = parameters\n",
    "\n",
    "    return float(a + b)\n",
    "\n",
    "\n",
    "sci.optimize.minimize(objective_function_test, (8, 8), bounds=((0, None), (0, None)))"
   ]
  },
  {
   "cell_type": "code",
   "execution_count": null,
   "metadata": {},
   "outputs": [],
   "source": [
    "def objective_function(parameters, y_pdf, model, x):\n",
    "\n",
    "    degree_of_freedom, shape, location, scale = parameters\n",
    "\n",
    "    return (\n",
    "        (y_pdf - model.pdf(x, degree_of_freedom, shape, loc=location, scale=scale))\n",
    "        ** 2\n",
    "        ** 0.5\n",
    "    ).sum()"
   ]
  },
  {
   "cell_type": "code",
   "execution_count": null,
   "metadata": {},
   "outputs": [],
   "source": [
    "location = 0\n",
    "\n",
    "scale = 1\n",
    "\n",
    "y = np.random.normal(loc=location, scale=scale, size=128)\n",
    "\n",
    "over = (y.max() - y.min()) * 0\n",
    "\n",
    "x = np.linspace(y.min() - over, y.max() + over, num=y.size)\n",
    "\n",
    "model = stat.sandbox.distributions.extras.ACSkewT_gen()\n",
    "\n",
    "fit_result = model.fit(y, loc=location, scale=scale)\n",
    "\n",
    "y_fit_pdf = model.pdf(\n",
    "    x, fit_result[0], fit_result[1], loc=fit_result[2], scale=fit_result[3]\n",
    ")\n",
    "\n",
    "for method in (\n",
    "    \"Nelder-Mead\",\n",
    "    \"Powell\",\n",
    "    \"CG\",\n",
    "    #     \"BFGS\",\n",
    "    #     \"Newton-CG\",\n",
    "    #     \"L-BFGS-B\",\n",
    "    #     \"TNC\",\n",
    "    #     \"COBYLA\",\n",
    "    #     \"SLSQP\",\n",
    "    #     \"trust-constr\",\n",
    "    #     \"dogleg\",\n",
    "    #     \"trust-ncg\",\n",
    "    #     \"trust-exact\",\n",
    "    #     \"trust-krylov\",\n",
    "):\n",
    "\n",
    "    print(method)\n",
    "\n",
    "    minimize_result = sci.optimize.minimize(\n",
    "        objective_function,\n",
    "        (1, 0, location, scale),\n",
    "        args=(y, model, x),\n",
    "        method=method,\n",
    "        bounds=((0, None), (0, 24), (-8, 8), (0, None)),\n",
    "    )\n",
    "\n",
    "    kraft.plot_plotly_figure(\n",
    "        {\n",
    "            \"layout\": {\"legend\": {\"orientation\": \"h\"}},\n",
    "            \"data\": [\n",
    "                {\n",
    "                    \"type\": \"histogram\",\n",
    "                    \"name\": \"Y Distribution\",\n",
    "                    \"x\": y,\n",
    "                    \"histnorm\": \"probability density\",\n",
    "                },\n",
    "                {\n",
    "                    \"type\": \"scatter\",\n",
    "                    \"name\": \"Y PDF (parameters from fit)\",\n",
    "                    \"x\": x,\n",
    "                    \"y\": y_fit_pdf,\n",
    "                },\n",
    "                {\n",
    "                    \"type\": \"scatter\",\n",
    "                    \"name\": \"Y PDF (parameters from minimize)\",\n",
    "                    \"x\": x,\n",
    "                    \"y\": model.pdf(\n",
    "                        x,\n",
    "                        np.e ** minimize_result.x[0],\n",
    "                        minimize_result.x[1],\n",
    "                        loc=minimize_result.x[2],\n",
    "                        scale=minimize_result.x[3],\n",
    "                    ),\n",
    "                },\n",
    "            ],\n",
    "        },\n",
    "        None,\n",
    "    )"
   ]
  }
 ],
 "metadata": {
  "kernelspec": {
   "display_name": "Python 3",
   "language": "python",
   "name": "python3"
  },
  "language_info": {
   "codemirror_mode": {
    "name": "ipython",
    "version": 3
   },
   "file_extension": ".py",
   "mimetype": "text/x-python",
   "name": "python",
   "nbconvert_exporter": "python",
   "pygments_lexer": "ipython3",
   "version": "3.7.3"
  }
 },
 "nbformat": 4,
 "nbformat_minor": 4
}
