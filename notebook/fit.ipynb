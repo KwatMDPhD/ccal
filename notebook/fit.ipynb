{
 "cells": [
  {
   "cell_type": "code",
   "execution_count": null,
   "metadata": {},
   "outputs": [],
   "source": [
    "%load_ext autoreload\n",
    "%autoreload 2"
   ]
  },
  {
   "cell_type": "code",
   "execution_count": null,
   "metadata": {},
   "outputs": [],
   "source": [
    "import numpy as np\n",
    "import plotly as pl\n",
    "from scipy.optimize import minimize\n",
    "from statsmodels.sandbox.distributions.extras import ACSkewT_gen"
   ]
  },
  {
   "cell_type": "code",
   "execution_count": null,
   "metadata": {},
   "outputs": [],
   "source": [
    "np.random.seed(20121020)\n",
    "\n",
    "pl.offline.init_notebook_mode(connected=True)"
   ]
  },
  {
   "cell_type": "code",
   "execution_count": null,
   "metadata": {},
   "outputs": [],
   "source": [
    "def objective_function_test(parameters):\n",
    "\n",
    "    a, b = parameters\n",
    "\n",
    "    return a + b\n",
    "\n",
    "\n",
    "minimize(objective_function_test, (8, 8))"
   ]
  },
  {
   "cell_type": "code",
   "execution_count": null,
   "metadata": {},
   "outputs": [],
   "source": [
    "def objective_function(parameters, model, independent_variables):\n",
    "\n",
    "    degree_of_freedom, shape, location, scale = parameters\n",
    "\n",
    "    return -model.pdf(\n",
    "        independent_variables, 2 ** degree_of_freedom, shape, loc=location, scale=scale\n",
    "    ).sum()"
   ]
  },
  {
   "cell_type": "code",
   "execution_count": null,
   "metadata": {},
   "outputs": [],
   "source": [
    "location = 0\n",
    "\n",
    "scale = 1\n",
    "\n",
    "random_variables = np.random.normal(loc=location, scale=scale, size=100)\n",
    "\n",
    "over = (random_variables.max() - random_variables.min()) * 0\n",
    "\n",
    "independent_variables = np.linspace(\n",
    "    random_variables.min() - over, random_variables.max() + over, 32\n",
    ")\n",
    "\n",
    "model = ACSkewT_gen()\n",
    "\n",
    "fit_result = model.fit(random_variables, loc=location, scale=scale)\n",
    "\n",
    "for method in (\n",
    "    \"Nelder-Mead\",\n",
    "    \"Powell\",\n",
    "    \"CG\",\n",
    "    \"BFGS\",\n",
    "    #     \"Newton-CG\",\n",
    "    \"L-BFGS-B\",\n",
    "    \"TNC\",\n",
    "    #     \"COBYLA\",\n",
    "    \"SLSQP\",\n",
    "    \"trust-constr\",\n",
    "    #     \"dogleg\",\n",
    "    #     \"trust-ncg\",\n",
    "    #     \"trust-exact\",\n",
    "    #     \"trust-krylov\",\n",
    "):\n",
    "\n",
    "    print(method)\n",
    "\n",
    "    minimize_result = minimize(\n",
    "        objective_function,\n",
    "        (1, 0, location, scale),\n",
    "        args=(model, independent_variables),\n",
    "        method=method,\n",
    "    )\n",
    "\n",
    "    pl.offline.iplot(\n",
    "        {\n",
    "            \"layout\": {},\n",
    "            \"data\": [\n",
    "                {\n",
    "                    \"type\": \"histogram\",\n",
    "                    \"name\": \"Random Variable Distribution\",\n",
    "                    \"histnorm\": \"probability density\",\n",
    "                    \"x\": random_variables,\n",
    "                },\n",
    "                {\n",
    "                    \"type\": \"scatter\",\n",
    "                    \"name\": \"Fit (fit)\",\n",
    "                    \"x\": independent_variables,\n",
    "                    \"y\": model.pdf(\n",
    "                        independent_variables,\n",
    "                        fit_result[0],\n",
    "                        fit_result[1],\n",
    "                        loc=fit_result[2],\n",
    "                        scale=fit_result[3],\n",
    "                    ),\n",
    "                },\n",
    "                {\n",
    "                    \"type\": \"scatter\",\n",
    "                    \"name\": \"Fit (minimize)\",\n",
    "                    \"x\": independent_variables,\n",
    "                    \"y\": model.pdf(\n",
    "                        independent_variables,\n",
    "                        2 ** minimize_result.x[0],\n",
    "                        minimize_result.x[1],\n",
    "                        loc=minimize_result.x[2],\n",
    "                        scale=minimize_result.x[3],\n",
    "                    ),\n",
    "                },\n",
    "            ],\n",
    "        }\n",
    "    )"
   ]
  }
 ],
 "metadata": {
  "kernelspec": {
   "display_name": "Python 3",
   "language": "python",
   "name": "python3"
  },
  "language_info": {
   "codemirror_mode": {
    "name": "ipython",
    "version": 3
   },
   "file_extension": ".py",
   "mimetype": "text/x-python",
   "name": "python",
   "nbconvert_exporter": "python",
   "pygments_lexer": "ipython3",
   "version": "3.6.7"
  }
 },
 "nbformat": 4,
 "nbformat_minor": 2
}
