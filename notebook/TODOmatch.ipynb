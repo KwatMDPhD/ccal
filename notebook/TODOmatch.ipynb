{
 "cells": [
  {
   "cell_type": "code",
   "execution_count": null,
   "metadata": {},
   "outputs": [],
   "source": [
    "%load_ext autoreload\n",
    "%autoreload 2"
   ]
  },
  {
   "cell_type": "code",
   "execution_count": null,
   "metadata": {},
   "outputs": [],
   "source": [
    "import plotly"
   ]
  },
  {
   "cell_type": "code",
   "execution_count": null,
   "metadata": {},
   "outputs": [],
   "source": [
    "plotly.offline.init_notebook_mode(connected=True)"
   ]
  },
  {
   "cell_type": "code",
   "execution_count": null,
   "metadata": {},
   "outputs": [],
   "source": [
    "import numpy as np"
   ]
  },
  {
   "cell_type": "code",
   "execution_count": null,
   "metadata": {},
   "outputs": [],
   "source": [
    "import kraft"
   ]
  },
  {
   "cell_type": "code",
   "execution_count": null,
   "metadata": {},
   "outputs": [],
   "source": [
    "np.random.seed(seed=kraft.RANDOM_SEED)"
   ]
  },
  {
   "cell_type": "code",
   "execution_count": null,
   "metadata": {},
   "outputs": [],
   "source": [
    "import pandas as pd"
   ]
  },
  {
   "cell_type": "code",
   "execution_count": null,
   "metadata": {},
   "outputs": [],
   "source": [
    "n_row = 64\n",
    "\n",
    "n_column = 64\n",
    "\n",
    "target = pd.Series(\n",
    "    np.random.normal(size=n_column),\n",
    "    name=\"Target Name\",\n",
    "    index=(\"Column {}\".format(i) for i in range(n_column)),\n",
    ")\n",
    "\n",
    "data = pd.DataFrame(\n",
    "    np.random.normal(size=(n_row, n_column)),\n",
    "    index=(\"ABCDEFGHIJKLMNOPQRSTUVWXYZ {}\".format(i) for i in range(n_row)),\n",
    "    columns=target.index,\n",
    ")\n",
    "\n",
    "kraft.make_match_panel(target, data)\n",
    "\n",
    "data.iloc[0] = 0\n",
    "\n",
    "data.iloc[1] = 1\n",
    "\n",
    "data.iloc[2] = 2\n",
    "\n",
    "data.loc[\n",
    "    np.random.choice(data.index, size=data.index.size // 2, replace=False),\n",
    "    np.random.choice(data.columns, size=data.columns.size // 2, replace=False),\n",
    "] = np.nan\n",
    "\n",
    "kraft.make_match_panel(target, data)"
   ]
  },
  {
   "cell_type": "code",
   "execution_count": null,
   "metadata": {},
   "outputs": [],
   "source": [
    "_2d_array = np.asarray(((0, np.nan), (0, np.nan)))\n",
    "\n",
    "target = pd.Series(\n",
    "    np.random.normal(size=_2d_array.shape[1]),\n",
    "    index=(\"Column {}\".format(i) for i in range(_2d_array.shape[1])),\n",
    ")\n",
    "\n",
    "data = pd.DataFrame(\n",
    "    _2d_array,\n",
    "    index=(\"Index {}\".format(i) for i in range(_2d_array.shape[0])),\n",
    "    columns=target.index,\n",
    ")\n",
    "\n",
    "\n",
    "kraft.make_match_panel(target, data)"
   ]
  },
  {
   "cell_type": "code",
   "execution_count": null,
   "metadata": {
    "ExecuteTime": {
     "end_time": "2018-05-15T10:46:36.617163Z",
     "start_time": "2018-05-15T10:46:33.667703Z"
    }
   },
   "outputs": [],
   "source": [
    "for n_row, n_column in (\n",
    "    (8, 1),\n",
    "    (8, 2),\n",
    "    (8, 4),\n",
    "    (8, 16),\n",
    "    (8, 32),\n",
    "    (8, 64),\n",
    "    (8, 128),\n",
    "    (8, 256),\n",
    "    (1, 8),\n",
    "    (2, 8),\n",
    "    (4, 8),\n",
    "    (8, 8),\n",
    "    (16, 8),\n",
    "    (32, 8),\n",
    "    (64, 8),\n",
    "    (128, 8),\n",
    "    (256, 8),\n",
    "):\n",
    "\n",
    "    target = pd.Series(\n",
    "        np.random.normal(size=n_column),\n",
    "        index=(\"Column {}\".format(i) for i in range(n_column)),\n",
    "    )\n",
    "\n",
    "    data = pd.DataFrame(\n",
    "        np.random.normal(size=(n_row, n_column)),\n",
    "        index=(\"Index {}\".format(i) for i in range(n_row)),\n",
    "        columns=target.index,\n",
    "    )\n",
    "\n",
    "    kraft.make_match_panel(\n",
    "        target,\n",
    "        data,\n",
    "        n_extreme=None,\n",
    "        title=\"{}-x-{} Match Panel\".format(n_row, n_column),\n",
    "    )"
   ]
  },
  {
   "cell_type": "code",
   "execution_count": null,
   "metadata": {},
   "outputs": [],
   "source": [
    "n_row = 24\n",
    "\n",
    "n_column = 16\n",
    "\n",
    "data = pd.DataFrame(\n",
    "    np.random.normal(size=(n_row, n_column)),\n",
    "    index=(\"Index {}\".format(i) for i in range(n_row)),\n",
    "    columns=(\"Column {}\".format(i) for i in range(n_column)),\n",
    ")\n",
    "\n",
    "data.iloc[:2, -2:] = np.nan\n",
    "\n",
    "for target_values in (\n",
    "    ((0,) * 8 + (1,) * 8),\n",
    "    ((0,) * 1 + (2,) * 2 + (1,) * 13),\n",
    "    ((0,) * 2 + (2,) * 2 + (1,) * 12),\n",
    "):\n",
    "\n",
    "    target = pd.Series(target_values, index=data.columns)\n",
    "\n",
    "    for target_ascending in (None, True, False):\n",
    "\n",
    "        kraft.make_match_panel(target, data, target_ascending=target_ascending)"
   ]
  },
  {
   "cell_type": "code",
   "execution_count": null,
   "metadata": {
    "ExecuteTime": {
     "end_time": "2018-05-15T10:47:59.764349Z",
     "start_time": "2018-05-15T10:46:36.621876Z"
    }
   },
   "outputs": [],
   "source": [
    "target = pd.read_csv(\"target_0.tsv\", sep=\"\\t\", index_col=0, squeeze=True)\n",
    "\n",
    "data = pd.read_csv(\"data_0.tsv\", sep=\"\\t\", index_col=0)\n",
    "\n",
    "kraft.make_match_panel(target, data, n_sampling=0, n_permutation=0)\n",
    "\n",
    "kraft.make_match_panel(\n",
    "    data.iloc[0], data.iloc[:1], n_sampling=0, n_permutation=0, plot_std=3\n",
    ")\n",
    "\n",
    "kraft.make_match_panel(\n",
    "    data.iloc[0], data.iloc[:2], n_sampling=0, n_permutation=0, plot_std=3\n",
    ")"
   ]
  },
  {
   "cell_type": "code",
   "execution_count": null,
   "metadata": {
    "ExecuteTime": {
     "end_time": "2018-05-15T10:48:15.310369Z",
     "start_time": "2018-05-15T10:48:08.080994Z"
    }
   },
   "outputs": [],
   "source": [
    "n_row = 8\n",
    "\n",
    "n_column = 8\n",
    "\n",
    "target = pd.Series(\n",
    "    np.random.normal(size=n_column),\n",
    "    index=(\"Column {}\".format(i) for i in range(n_column)),\n",
    ")\n",
    "\n",
    "data_binary = pd.DataFrame(\n",
    "    np.random.randint(0, 2, size=(n_row, n_column)),\n",
    "    index=(\"Binary {}\".format(i) for i in range(n_row)),\n",
    "    columns=target.index,\n",
    ")\n",
    "\n",
    "data_categorical = pd.DataFrame(\n",
    "    np.random.randint(0, 10, size=(n_row, n_column)),\n",
    "    index=(\"Categorical {}\".format(i) for i in range(n_row)),\n",
    "    columns=target.index,\n",
    ")\n",
    "\n",
    "data_continuous = pd.DataFrame(\n",
    "    np.random.normal(size=(n_row, n_column)),\n",
    "    index=(\"Continuous {}\".format(i) for i in range(n_row)),\n",
    "    columns=target.index,\n",
    ")\n",
    "\n",
    "\n",
    "for data in (data_binary, data_categorical, data_continuous):\n",
    "\n",
    "    kraft.make_match_panel(target, data)\n",
    "\n",
    "data_binary.iloc[:, 0] = np.nan\n",
    "\n",
    "data_categorical.iloc[:, 1] = np.nan\n",
    "\n",
    "data_continuous.iloc[:, 2] = np.nan\n",
    "\n",
    "data_binary.drop(target.index[-1], axis=1, inplace=True)\n",
    "\n",
    "data_categorical.drop(target.index[-2], axis=1, inplace=True)\n",
    "\n",
    "data_continuous.drop(target.index[-3], axis=1, inplace=True)"
   ]
  },
  {
   "cell_type": "code",
   "execution_count": null,
   "metadata": {
    "ExecuteTime": {
     "end_time": "2018-05-15T10:48:15.310369Z",
     "start_time": "2018-05-15T10:48:08.080994Z"
    }
   },
   "outputs": [],
   "source": [
    "data_dicts = {\n",
    "    \"Binary\": {\"dataframe\": data_binary},\n",
    "    \"Categorical\": {\"dataframe\": data_categorical},\n",
    "    \"Continuous\": {\"dataframe\": data_continuous},\n",
    "}\n",
    "\n",
    "score_moe_p_value_fdr = kraft.make_match_panel(\n",
    "    target,\n",
    "    pd.concat((data_dict[\"dataframe\"] for data_dict in data_dicts.values())),\n",
    "    plot=False,\n",
    ")\n",
    "\n",
    "score_moe_p_value_fdr_dicts = {\n",
    "    data_name: score_moe_p_value_fdr for data_name in data_dicts.keys()\n",
    "}\n",
    "\n",
    "for plot_only_shared_by_target_and_all_data in (False, True):\n",
    "\n",
    "    kraft.make_summary_match_panel(\n",
    "        target,\n",
    "        data_dicts,\n",
    "        score_moe_p_value_fdr_dicts,\n",
    "        plot_only_shared_by_target_and_all_data=plot_only_shared_by_target_and_all_data,\n",
    "    )"
   ]
  }
 ],
 "metadata": {
  "kernelspec": {
   "display_name": "Python 3",
   "language": "python",
   "name": "python3"
  },
  "language_info": {
   "codemirror_mode": {
    "name": "ipython",
    "version": 3
   },
   "file_extension": ".py",
   "mimetype": "text/x-python",
   "name": "python",
   "nbconvert_exporter": "python",
   "pygments_lexer": "ipython3",
   "version": "3.6.7"
  }
 },
 "nbformat": 4,
 "nbformat_minor": 2
}
