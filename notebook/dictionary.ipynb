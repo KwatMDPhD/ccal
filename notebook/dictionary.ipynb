{
 "cells": [
  {
   "cell_type": "code",
   "execution_count": null,
   "metadata": {
    "execution": {
     "iopub.execute_input": "2021-05-29T23:05:29.463529Z",
     "iopub.status.busy": "2021-05-29T23:05:29.462611Z",
     "iopub.status.idle": "2021-05-29T23:05:29.476463Z",
     "shell.execute_reply": "2021-05-29T23:05:29.476888Z"
    }
   },
   "outputs": [],
   "source": [
    "%load_ext autoreload\n",
    "%autoreload 2"
   ]
  },
  {
   "cell_type": "code",
   "execution_count": null,
   "metadata": {
    "ExecuteTime": {
     "end_time": "2018-05-15T09:28:55.668422Z",
     "start_time": "2018-05-15T09:28:55.428950Z"
    },
    "execution": {
     "iopub.execute_input": "2021-05-29T23:05:29.480668Z",
     "iopub.status.busy": "2021-05-29T23:05:29.480000Z",
     "iopub.status.idle": "2021-05-29T23:05:30.027235Z",
     "shell.execute_reply": "2021-05-29T23:05:30.027629Z"
    }
   },
   "outputs": [],
   "source": [
    "import kraft"
   ]
  },
  {
   "cell_type": "markdown",
   "metadata": {},
   "source": [
    "## summarize"
   ]
  },
  {
   "cell_type": "code",
   "execution_count": null,
   "metadata": {
    "execution": {
     "iopub.execute_input": "2021-05-29T23:05:30.030891Z",
     "iopub.status.busy": "2021-05-29T23:05:30.030352Z",
     "iopub.status.idle": "2021-05-29T23:05:30.048207Z",
     "shell.execute_reply": "2021-05-29T23:05:30.048621Z"
    }
   },
   "outputs": [],
   "source": [
    "kraft.dictionary.summarize(\n",
    "    {\n",
    "        \"a\": 1,\n",
    "        \"b\": 1,\n",
    "        \"c\": 2,\n",
    "        \"d\": 2,\n",
    "    }\n",
    ")"
   ]
  },
  {
   "cell_type": "markdown",
   "metadata": {},
   "source": [
    "## merge"
   ]
  },
  {
   "cell_type": "code",
   "execution_count": null,
   "metadata": {
    "execution": {
     "iopub.execute_input": "2021-05-29T23:05:30.052462Z",
     "iopub.status.busy": "2021-05-29T23:05:30.051854Z",
     "iopub.status.idle": "2021-05-29T23:05:30.072097Z",
     "shell.execute_reply": "2021-05-29T23:05:30.072576Z"
    }
   },
   "outputs": [],
   "source": [
    "di1 = {\n",
    "    \"a\": 1,\n",
    "    \"b\": 2,\n",
    "}\n",
    "\n",
    "di2 = {\n",
    "    \"b\": 3,\n",
    "    \"c\": 4,\n",
    "}\n",
    "\n",
    "print(\n",
    "    kraft.dictionary.merge(\n",
    "        di1,\n",
    "        di2,\n",
    "    )\n",
    ")\n",
    "\n",
    "print(\n",
    "    kraft.dictionary.merge(\n",
    "        di1,\n",
    "        di2,\n",
    "        fu=\"function({}, {})\".format,\n",
    "    )\n",
    ")"
   ]
  }
 ],
 "metadata": {
  "kernelspec": {
   "display_name": "Python 3",
   "language": "python",
   "name": "python3"
  },
  "language_info": {
   "codemirror_mode": {
    "name": "ipython",
    "version": 3
   },
   "file_extension": ".py",
   "mimetype": "text/x-python",
   "name": "python",
   "nbconvert_exporter": "python",
   "pygments_lexer": "ipython3",
   "version": "3.8.9"
  }
 },
 "nbformat": 4,
 "nbformat_minor": 4
}
