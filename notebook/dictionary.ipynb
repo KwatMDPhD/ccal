{
 "cells": [
  {
   "cell_type": "code",
   "execution_count": null,
   "metadata": {
    "execution": {
     "iopub.execute_input": "2021-05-30T23:47:12.254541Z",
     "iopub.status.busy": "2021-05-30T23:47:12.253660Z",
     "iopub.status.idle": "2021-05-30T23:47:12.267012Z",
     "shell.execute_reply": "2021-05-30T23:47:12.267465Z"
    }
   },
   "outputs": [],
   "source": [
    "%load_ext autoreload\n",
    "%autoreload 2"
   ]
  },
  {
   "cell_type": "code",
   "execution_count": null,
   "metadata": {
    "ExecuteTime": {
     "end_time": "2018-05-15T09:28:55.668422Z",
     "start_time": "2018-05-15T09:28:55.428950Z"
    },
    "execution": {
     "iopub.execute_input": "2021-05-30T23:47:12.271103Z",
     "iopub.status.busy": "2021-05-30T23:47:12.270501Z",
     "iopub.status.idle": "2021-05-30T23:47:12.879068Z",
     "shell.execute_reply": "2021-05-30T23:47:12.879426Z"
    }
   },
   "outputs": [],
   "source": [
    "import kraft"
   ]
  },
  {
   "cell_type": "markdown",
   "metadata": {},
   "source": [
    "## summarize"
   ]
  },
  {
   "cell_type": "code",
   "execution_count": null,
   "metadata": {
    "execution": {
     "iopub.execute_input": "2021-05-30T23:47:12.882663Z",
     "iopub.status.busy": "2021-05-30T23:47:12.882047Z",
     "iopub.status.idle": "2021-05-30T23:47:12.901149Z",
     "shell.execute_reply": "2021-05-30T23:47:12.901580Z"
    }
   },
   "outputs": [],
   "source": [
    "kraft.dictionary.summarize({\"a\": 1, \"b\": 1, \"c\": 2, \"d\": 2})"
   ]
  },
  {
   "cell_type": "markdown",
   "metadata": {},
   "source": [
    "## merge"
   ]
  },
  {
   "cell_type": "code",
   "execution_count": null,
   "metadata": {
    "execution": {
     "iopub.execute_input": "2021-05-30T23:47:12.906311Z",
     "iopub.status.busy": "2021-05-30T23:47:12.905717Z",
     "iopub.status.idle": "2021-05-30T23:47:12.923925Z",
     "shell.execute_reply": "2021-05-30T23:47:12.924664Z"
    }
   },
   "outputs": [],
   "source": [
    "di1 = {\"a\": 1, \"b\": 2}\n",
    "\n",
    "di2 = {\"b\": 3, \"c\": 4}\n",
    "\n",
    "print(kraft.dictionary.merge(di1, di2))\n",
    "\n",
    "print(kraft.dictionary.merge(di1, di2, fu=\"function({}, {})\".format))"
   ]
  }
 ],
 "metadata": {
  "kernelspec": {
   "display_name": "Python 3",
   "language": "python",
   "name": "python3"
  },
  "language_info": {
   "codemirror_mode": {
    "name": "ipython",
    "version": 3
   },
   "file_extension": ".py",
   "mimetype": "text/x-python",
   "name": "python",
   "nbconvert_exporter": "python",
   "pygments_lexer": "ipython3",
   "version": "3.8.9"
  }
 },
 "nbformat": 4,
 "nbformat_minor": 4
}
