{
 "cells": [
  {
   "cell_type": "code",
   "execution_count": null,
   "metadata": {
    "execution": {
     "iopub.execute_input": "2021-05-31T05:57:27.783139Z",
     "iopub.status.busy": "2021-05-31T05:57:27.782221Z",
     "iopub.status.idle": "2021-05-31T05:57:27.796235Z",
     "shell.execute_reply": "2021-05-31T05:57:27.796688Z"
    }
   },
   "outputs": [],
   "source": [
    "%load_ext autoreload\n",
    "%autoreload 2"
   ]
  },
  {
   "cell_type": "code",
   "execution_count": null,
   "metadata": {
    "ExecuteTime": {
     "end_time": "2018-05-15T09:28:55.668422Z",
     "start_time": "2018-05-15T09:28:55.428950Z"
    },
    "execution": {
     "iopub.execute_input": "2021-05-31T05:57:27.800340Z",
     "iopub.status.busy": "2021-05-31T05:57:27.799662Z",
     "iopub.status.idle": "2021-05-31T05:57:28.358615Z",
     "shell.execute_reply": "2021-05-31T05:57:28.359042Z"
    }
   },
   "outputs": [],
   "source": [
    "import kraft"
   ]
  },
  {
   "cell_type": "markdown",
   "metadata": {},
   "source": [
    "## summarize"
   ]
  },
  {
   "cell_type": "code",
   "execution_count": null,
   "metadata": {
    "execution": {
     "iopub.execute_input": "2021-05-31T05:57:28.362706Z",
     "iopub.status.busy": "2021-05-31T05:57:28.362119Z",
     "iopub.status.idle": "2021-05-31T05:57:28.381408Z",
     "shell.execute_reply": "2021-05-31T05:57:28.381829Z"
    }
   },
   "outputs": [],
   "source": [
    "kraft.dictionary.summarize({\"a\": 1, \"b\": 1, \"c\": 2, \"d\": 2})"
   ]
  },
  {
   "cell_type": "markdown",
   "metadata": {},
   "source": [
    "## merge"
   ]
  },
  {
   "cell_type": "code",
   "execution_count": null,
   "metadata": {
    "execution": {
     "iopub.execute_input": "2021-05-31T05:57:28.385565Z",
     "iopub.status.busy": "2021-05-31T05:57:28.384970Z",
     "iopub.status.idle": "2021-05-31T05:57:28.404638Z",
     "shell.execute_reply": "2021-05-31T05:57:28.405128Z"
    }
   },
   "outputs": [],
   "source": [
    "di1 = {\"a\": 1, \"b\": 2}\n",
    "\n",
    "di2 = {\"b\": 3, \"c\": 4}\n",
    "\n",
    "print(kraft.dictionary.merge(di1, di2))\n",
    "\n",
    "print(kraft.dictionary.merge(di1, di2, fu=\"function({}, {})\".format))"
   ]
  }
 ],
 "metadata": {
  "kernelspec": {
   "display_name": "Python 3",
   "language": "python",
   "name": "python3"
  },
  "language_info": {
   "codemirror_mode": {
    "name": "ipython",
    "version": 3
   },
   "file_extension": ".py",
   "mimetype": "text/x-python",
   "name": "python",
   "nbconvert_exporter": "python",
   "pygments_lexer": "ipython3",
   "version": "3.8.9"
  }
 },
 "nbformat": 4,
 "nbformat_minor": 4
}
