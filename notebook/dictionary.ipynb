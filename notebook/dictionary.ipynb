{
 "cells": [
  {
   "cell_type": "code",
   "execution_count": null,
   "metadata": {
    "execution": {
     "iopub.execute_input": "2021-05-29T18:49:18.035316Z",
     "iopub.status.busy": "2021-05-29T18:49:18.034677Z",
     "iopub.status.idle": "2021-05-29T18:49:18.047364Z",
     "shell.execute_reply": "2021-05-29T18:49:18.047821Z"
    }
   },
   "outputs": [],
   "source": [
    "%load_ext autoreload\n",
    "%autoreload 2"
   ]
  },
  {
   "cell_type": "code",
   "execution_count": null,
   "metadata": {
    "ExecuteTime": {
     "end_time": "2018-05-15T09:28:55.668422Z",
     "start_time": "2018-05-15T09:28:55.428950Z"
    },
    "execution": {
     "iopub.execute_input": "2021-05-29T18:49:18.051352Z",
     "iopub.status.busy": "2021-05-29T18:49:18.050764Z",
     "iopub.status.idle": "2021-05-29T18:49:18.342694Z",
     "shell.execute_reply": "2021-05-29T18:49:18.343414Z"
    }
   },
   "outputs": [],
   "source": [
    "import kraft"
   ]
  },
  {
   "cell_type": "markdown",
   "metadata": {},
   "source": [
    "## summarize"
   ]
  },
  {
   "cell_type": "code",
   "execution_count": null,
   "metadata": {
    "execution": {
     "iopub.execute_input": "2021-05-29T18:49:18.347664Z",
     "iopub.status.busy": "2021-05-29T18:49:18.347077Z",
     "iopub.status.idle": "2021-05-29T18:49:18.361079Z",
     "shell.execute_reply": "2021-05-29T18:49:18.361493Z"
    }
   },
   "outputs": [],
   "source": [
    "kraft.dictionary.summarize(\n",
    "    {\n",
    "        \"a\": 1,\n",
    "        \"b\": 1,\n",
    "        \"c\": 2,\n",
    "        \"d\": 2,\n",
    "    }\n",
    ")"
   ]
  },
  {
   "cell_type": "markdown",
   "metadata": {},
   "source": [
    "## merge"
   ]
  },
  {
   "cell_type": "code",
   "execution_count": null,
   "metadata": {
    "execution": {
     "iopub.execute_input": "2021-05-29T18:49:18.365204Z",
     "iopub.status.busy": "2021-05-29T18:49:18.364663Z",
     "iopub.status.idle": "2021-05-29T18:49:18.377402Z",
     "shell.execute_reply": "2021-05-29T18:49:18.377765Z"
    }
   },
   "outputs": [],
   "source": [
    "di1 = {\n",
    "    \"a\": 1,\n",
    "    \"b\": 2,\n",
    "}\n",
    "\n",
    "di2 = {\n",
    "    \"b\": 3,\n",
    "    \"c\": 4,\n",
    "}\n",
    "\n",
    "print(\n",
    "    kraft.dictionary.merge(\n",
    "        di1,\n",
    "        di2,\n",
    "    )\n",
    ")\n",
    "\n",
    "print(\n",
    "    kraft.dictionary.merge(\n",
    "        di1,\n",
    "        di2,\n",
    "        fu=\"function({}, {})\".format,\n",
    "    )\n",
    ")"
   ]
  }
 ],
 "metadata": {
  "kernelspec": {
   "display_name": "Python 3",
   "language": "python",
   "name": "python3"
  },
  "language_info": {
   "codemirror_mode": {
    "name": "ipython",
    "version": 3
   },
   "file_extension": ".py",
   "mimetype": "text/x-python",
   "name": "python",
   "nbconvert_exporter": "python",
   "pygments_lexer": "ipython3",
   "version": "3.8.9"
  }
 },
 "nbformat": 4,
 "nbformat_minor": 4
}
