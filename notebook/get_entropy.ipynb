{
 "cells": [
  {
   "cell_type": "code",
   "execution_count": 1,
   "metadata": {},
   "outputs": [],
   "source": [
    "%load_ext autoreload\n",
    "%autoreload 2"
   ]
  },
  {
   "cell_type": "code",
   "execution_count": 2,
   "metadata": {},
   "outputs": [],
   "source": [
    "import numpy as np\n",
    "\n",
    "import kraft"
   ]
  },
  {
   "cell_type": "code",
   "execution_count": 3,
   "metadata": {},
   "outputs": [
    {
     "name": "stdout",
     "output_type": "stream",
     "text": [
      "1\n",
      "-0.0\n",
      "-0.0\n",
      "-0.0\n",
      "2\n",
      "0.40392601036319437\n",
      "0.6931471805599453\n",
      "0.6931471805599453\n",
      "4\n",
      "1.1081497183555553\n",
      "1.3862943611198906\n",
      "1.3862943611198906\n",
      "8\n",
      "1.8266219022135965\n",
      "2.0794415416798357\n",
      "2.0794415416798357\n",
      "16\n",
      "2.6394278341087487\n",
      "2.772588722239781\n",
      "2.772588722239781\n",
      "32\n",
      "3.2893747914808658\n",
      "3.4657359027997265\n",
      "3.4657359027997265\n",
      "64\n",
      "3.9574867889723055\n",
      "4.1588830833596715\n",
      "4.1588830833596715\n",
      "128\n",
      "4.693521809236698\n",
      "4.852030263919617\n",
      "4.852030263919617\n",
      "256\n",
      "5.33790176101974\n",
      "5.545177444479562\n",
      "5.545177444479562\n"
     ]
    }
   ],
   "source": [
    "for power in range(9):\n",
    "\n",
    "    n = 2 ** power\n",
    "\n",
    "    print(n)\n",
    "\n",
    "    print(kraft.compute_entropy(np.random.random_sample(size=n)))\n",
    "\n",
    "    for fill_value in (1, 2):\n",
    "\n",
    "        print(kraft.compute_entropy(np.full(n, fill_value)))"
   ]
  }
 ],
 "metadata": {
  "kernelspec": {
   "display_name": "Python 3",
   "language": "python",
   "name": "python3"
  },
  "language_info": {
   "codemirror_mode": {
    "name": "ipython",
    "version": 3
   },
   "file_extension": ".py",
   "mimetype": "text/x-python",
   "name": "python",
   "nbconvert_exporter": "python",
   "pygments_lexer": "ipython3",
   "version": "3.7.6"
  }
 },
 "nbformat": 4,
 "nbformat_minor": 4
}
