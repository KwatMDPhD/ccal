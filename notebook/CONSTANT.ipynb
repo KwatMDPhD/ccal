{
 "cells": [
  {
   "cell_type": "code",
   "execution_count": null,
   "metadata": {
    "execution": {
     "iopub.execute_input": "2021-05-31T05:57:07.644462Z",
     "iopub.status.busy": "2021-05-31T05:57:07.643626Z",
     "iopub.status.idle": "2021-05-31T05:57:07.658589Z",
     "shell.execute_reply": "2021-05-31T05:57:07.659124Z"
    }
   },
   "outputs": [],
   "source": [
    "%load_ext autoreload\n",
    "%autoreload 2"
   ]
  },
  {
   "cell_type": "code",
   "execution_count": null,
   "metadata": {
    "execution": {
     "iopub.execute_input": "2021-05-31T05:57:07.662732Z",
     "iopub.status.busy": "2021-05-31T05:57:07.662073Z",
     "iopub.status.idle": "2021-05-31T05:57:08.214622Z",
     "shell.execute_reply": "2021-05-31T05:57:08.215015Z"
    }
   },
   "outputs": [],
   "source": [
    "import kraft"
   ]
  },
  {
   "cell_type": "code",
   "execution_count": null,
   "metadata": {
    "execution": {
     "iopub.execute_input": "2021-05-31T05:57:08.218327Z",
     "iopub.status.busy": "2021-05-31T05:57:08.217752Z",
     "iopub.status.idle": "2021-05-31T05:57:08.242209Z",
     "shell.execute_reply": "2021-05-31T05:57:08.242670Z"
    }
   },
   "outputs": [],
   "source": [
    "kraft.CONSTANT.DATA_DIRECTORY_PATH"
   ]
  },
  {
   "cell_type": "code",
   "execution_count": null,
   "metadata": {
    "execution": {
     "iopub.execute_input": "2021-05-31T05:57:08.245562Z",
     "iopub.status.busy": "2021-05-31T05:57:08.245009Z",
     "iopub.status.idle": "2021-05-31T05:57:08.262585Z",
     "shell.execute_reply": "2021-05-31T05:57:08.262987Z"
    }
   },
   "outputs": [],
   "source": [
    "kraft.CONSTANT.FLOAT_RESOLUTION"
   ]
  },
  {
   "cell_type": "code",
   "execution_count": null,
   "metadata": {
    "execution": {
     "iopub.execute_input": "2021-05-31T05:57:08.266148Z",
     "iopub.status.busy": "2021-05-31T05:57:08.265620Z",
     "iopub.status.idle": "2021-05-31T05:57:08.283345Z",
     "shell.execute_reply": "2021-05-31T05:57:08.283713Z"
    }
   },
   "outputs": [],
   "source": [
    "kraft.CONSTANT.GOLDEN_FACTOR"
   ]
  },
  {
   "cell_type": "code",
   "execution_count": null,
   "metadata": {
    "execution": {
     "iopub.execute_input": "2021-05-31T05:57:08.286592Z",
     "iopub.status.busy": "2021-05-31T05:57:08.286057Z",
     "iopub.status.idle": "2021-05-31T05:57:08.303146Z",
     "shell.execute_reply": "2021-05-31T05:57:08.303571Z"
    }
   },
   "outputs": [],
   "source": [
    "kraft.CONSTANT.RANDOM_SEED"
   ]
  },
  {
   "cell_type": "code",
   "execution_count": null,
   "metadata": {
    "execution": {
     "iopub.execute_input": "2021-05-31T05:57:08.306261Z",
     "iopub.status.busy": "2021-05-31T05:57:08.305760Z",
     "iopub.status.idle": "2021-05-31T05:57:08.322711Z",
     "shell.execute_reply": "2021-05-31T05:57:08.323150Z"
    }
   },
   "outputs": [],
   "source": [
    "kraft.CONSTANT.SAMPLE_FRACTION"
   ]
  }
 ],
 "metadata": {
  "kernelspec": {
   "display_name": "Python 3",
   "language": "python",
   "name": "python3"
  },
  "language_info": {
   "codemirror_mode": {
    "name": "ipython",
    "version": 3
   },
   "file_extension": ".py",
   "mimetype": "text/x-python",
   "name": "python",
   "nbconvert_exporter": "python",
   "pygments_lexer": "ipython3",
   "version": "3.8.9"
  }
 },
 "nbformat": 4,
 "nbformat_minor": 4
}
