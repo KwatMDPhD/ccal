{
 "cells": [
  {
   "cell_type": "code",
   "execution_count": null,
   "metadata": {
    "execution": {
     "iopub.execute_input": "2021-06-01T00:27:36.726400Z",
     "iopub.status.busy": "2021-06-01T00:27:36.725563Z",
     "iopub.status.idle": "2021-06-01T00:27:36.738010Z",
     "shell.execute_reply": "2021-06-01T00:27:36.738390Z"
    }
   },
   "outputs": [],
   "source": [
    "%load_ext autoreload\n",
    "%autoreload 2"
   ]
  },
  {
   "cell_type": "code",
   "execution_count": null,
   "metadata": {
    "execution": {
     "iopub.execute_input": "2021-06-01T00:27:36.741509Z",
     "iopub.status.busy": "2021-06-01T00:27:36.740884Z",
     "iopub.status.idle": "2021-06-01T00:27:37.337828Z",
     "shell.execute_reply": "2021-06-01T00:27:37.338285Z"
    }
   },
   "outputs": [],
   "source": [
    "import kraft"
   ]
  },
  {
   "cell_type": "code",
   "execution_count": null,
   "metadata": {
    "execution": {
     "iopub.execute_input": "2021-06-01T00:27:37.341341Z",
     "iopub.status.busy": "2021-06-01T00:27:37.340748Z",
     "iopub.status.idle": "2021-06-01T00:27:37.363450Z",
     "shell.execute_reply": "2021-06-01T00:27:37.363803Z"
    }
   },
   "outputs": [],
   "source": [
    "kraft.CONSTANT.DATA_DIRECTORY_PATH"
   ]
  },
  {
   "cell_type": "code",
   "execution_count": null,
   "metadata": {
    "execution": {
     "iopub.execute_input": "2021-06-01T00:27:37.366616Z",
     "iopub.status.busy": "2021-06-01T00:27:37.366094Z",
     "iopub.status.idle": "2021-06-01T00:27:37.383408Z",
     "shell.execute_reply": "2021-06-01T00:27:37.383759Z"
    }
   },
   "outputs": [],
   "source": [
    "kraft.CONSTANT.FLOAT_RESOLUTION"
   ]
  },
  {
   "cell_type": "code",
   "execution_count": null,
   "metadata": {
    "execution": {
     "iopub.execute_input": "2021-06-01T00:27:37.386574Z",
     "iopub.status.busy": "2021-06-01T00:27:37.386038Z",
     "iopub.status.idle": "2021-06-01T00:27:37.403600Z",
     "shell.execute_reply": "2021-06-01T00:27:37.404047Z"
    }
   },
   "outputs": [],
   "source": [
    "kraft.CONSTANT.GOLDEN_FACTOR"
   ]
  },
  {
   "cell_type": "code",
   "execution_count": null,
   "metadata": {
    "execution": {
     "iopub.execute_input": "2021-06-01T00:27:37.407174Z",
     "iopub.status.busy": "2021-06-01T00:27:37.406605Z",
     "iopub.status.idle": "2021-06-01T00:27:37.423556Z",
     "shell.execute_reply": "2021-06-01T00:27:37.423157Z"
    }
   },
   "outputs": [],
   "source": [
    "kraft.CONSTANT.RANDOM_SEED"
   ]
  },
  {
   "cell_type": "code",
   "execution_count": null,
   "metadata": {
    "execution": {
     "iopub.execute_input": "2021-06-01T00:27:37.426331Z",
     "iopub.status.busy": "2021-06-01T00:27:37.425752Z",
     "iopub.status.idle": "2021-06-01T00:27:37.442353Z",
     "shell.execute_reply": "2021-06-01T00:27:37.442765Z"
    }
   },
   "outputs": [],
   "source": [
    "kraft.CONSTANT.SAMPLE_FRACTION"
   ]
  }
 ],
 "metadata": {
  "kernelspec": {
   "display_name": "Python 3",
   "language": "python",
   "name": "python3"
  },
  "language_info": {
   "codemirror_mode": {
    "name": "ipython",
    "version": 3
   },
   "file_extension": ".py",
   "mimetype": "text/x-python",
   "name": "python",
   "nbconvert_exporter": "python",
   "pygments_lexer": "ipython3",
   "version": "3.8.9"
  }
 },
 "nbformat": 4,
 "nbformat_minor": 4
}
