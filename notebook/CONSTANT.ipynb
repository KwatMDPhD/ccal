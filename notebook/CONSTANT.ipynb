{
 "cells": [
  {
   "cell_type": "code",
   "execution_count": null,
   "metadata": {
    "execution": {
     "iopub.execute_input": "2021-05-31T22:26:47.045272Z",
     "iopub.status.busy": "2021-05-31T22:26:47.044483Z",
     "iopub.status.idle": "2021-05-31T22:26:47.056674Z",
     "shell.execute_reply": "2021-05-31T22:26:47.057179Z"
    }
   },
   "outputs": [],
   "source": [
    "%load_ext autoreload\n",
    "%autoreload 2"
   ]
  },
  {
   "cell_type": "code",
   "execution_count": null,
   "metadata": {
    "execution": {
     "iopub.execute_input": "2021-05-31T22:26:47.060323Z",
     "iopub.status.busy": "2021-05-31T22:26:47.059687Z",
     "iopub.status.idle": "2021-05-31T22:26:47.641888Z",
     "shell.execute_reply": "2021-05-31T22:26:47.642283Z"
    }
   },
   "outputs": [],
   "source": [
    "import kraft"
   ]
  },
  {
   "cell_type": "code",
   "execution_count": null,
   "metadata": {
    "execution": {
     "iopub.execute_input": "2021-05-31T22:26:47.645461Z",
     "iopub.status.busy": "2021-05-31T22:26:47.644933Z",
     "iopub.status.idle": "2021-05-31T22:26:47.666399Z",
     "shell.execute_reply": "2021-05-31T22:26:47.666756Z"
    }
   },
   "outputs": [],
   "source": [
    "kraft.CONSTANT.DATA_DIRECTORY_PATH"
   ]
  },
  {
   "cell_type": "code",
   "execution_count": null,
   "metadata": {
    "execution": {
     "iopub.execute_input": "2021-05-31T22:26:47.669615Z",
     "iopub.status.busy": "2021-05-31T22:26:47.669097Z",
     "iopub.status.idle": "2021-05-31T22:26:47.687431Z",
     "shell.execute_reply": "2021-05-31T22:26:47.687857Z"
    }
   },
   "outputs": [],
   "source": [
    "kraft.CONSTANT.FLOAT_RESOLUTION"
   ]
  },
  {
   "cell_type": "code",
   "execution_count": null,
   "metadata": {
    "execution": {
     "iopub.execute_input": "2021-05-31T22:26:47.690980Z",
     "iopub.status.busy": "2021-05-31T22:26:47.690209Z",
     "iopub.status.idle": "2021-05-31T22:26:47.708592Z",
     "shell.execute_reply": "2021-05-31T22:26:47.709123Z"
    }
   },
   "outputs": [],
   "source": [
    "kraft.CONSTANT.GOLDEN_FACTOR"
   ]
  },
  {
   "cell_type": "code",
   "execution_count": null,
   "metadata": {
    "execution": {
     "iopub.execute_input": "2021-05-31T22:26:47.712049Z",
     "iopub.status.busy": "2021-05-31T22:26:47.711532Z",
     "iopub.status.idle": "2021-05-31T22:26:47.729886Z",
     "shell.execute_reply": "2021-05-31T22:26:47.730392Z"
    }
   },
   "outputs": [],
   "source": [
    "kraft.CONSTANT.RANDOM_SEED"
   ]
  },
  {
   "cell_type": "code",
   "execution_count": null,
   "metadata": {
    "execution": {
     "iopub.execute_input": "2021-05-31T22:26:47.733809Z",
     "iopub.status.busy": "2021-05-31T22:26:47.733276Z",
     "iopub.status.idle": "2021-05-31T22:26:47.750580Z",
     "shell.execute_reply": "2021-05-31T22:26:47.751002Z"
    }
   },
   "outputs": [],
   "source": [
    "kraft.CONSTANT.SAMPLE_FRACTION"
   ]
  }
 ],
 "metadata": {
  "kernelspec": {
   "display_name": "Python 3",
   "language": "python",
   "name": "python3"
  },
  "language_info": {
   "codemirror_mode": {
    "name": "ipython",
    "version": 3
   },
   "file_extension": ".py",
   "mimetype": "text/x-python",
   "name": "python",
   "nbconvert_exporter": "python",
   "pygments_lexer": "ipython3",
   "version": "3.8.9"
  }
 },
 "nbformat": 4,
 "nbformat_minor": 4
}
