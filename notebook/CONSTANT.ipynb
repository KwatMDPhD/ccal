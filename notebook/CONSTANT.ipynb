{
 "cells": [
  {
   "cell_type": "code",
   "execution_count": null,
   "metadata": {
    "execution": {
     "iopub.execute_input": "2021-05-29T18:49:13.085064Z",
     "iopub.status.busy": "2021-05-29T18:49:13.084414Z",
     "iopub.status.idle": "2021-05-29T18:49:13.097204Z",
     "shell.execute_reply": "2021-05-29T18:49:13.097632Z"
    }
   },
   "outputs": [],
   "source": [
    "%load_ext autoreload\n",
    "%autoreload 2"
   ]
  },
  {
   "cell_type": "code",
   "execution_count": null,
   "metadata": {
    "execution": {
     "iopub.execute_input": "2021-05-29T18:49:13.100900Z",
     "iopub.status.busy": "2021-05-29T18:49:13.100307Z",
     "iopub.status.idle": "2021-05-29T18:49:13.381207Z",
     "shell.execute_reply": "2021-05-29T18:49:13.381571Z"
    }
   },
   "outputs": [],
   "source": [
    "import kraft"
   ]
  },
  {
   "cell_type": "code",
   "execution_count": null,
   "metadata": {
    "execution": {
     "iopub.execute_input": "2021-05-29T18:49:13.384736Z",
     "iopub.status.busy": "2021-05-29T18:49:13.384196Z",
     "iopub.status.idle": "2021-05-29T18:49:13.401576Z",
     "shell.execute_reply": "2021-05-29T18:49:13.401936Z"
    }
   },
   "outputs": [],
   "source": [
    "kraft.CONSTANT.DATA_DIRECTORY_PATH"
   ]
  },
  {
   "cell_type": "code",
   "execution_count": null,
   "metadata": {
    "execution": {
     "iopub.execute_input": "2021-05-29T18:49:13.404624Z",
     "iopub.status.busy": "2021-05-29T18:49:13.404122Z",
     "iopub.status.idle": "2021-05-29T18:49:13.416844Z",
     "shell.execute_reply": "2021-05-29T18:49:13.417208Z"
    }
   },
   "outputs": [],
   "source": [
    "kraft.CONSTANT.FLOAT_RESOLUTION"
   ]
  },
  {
   "cell_type": "code",
   "execution_count": null,
   "metadata": {
    "execution": {
     "iopub.execute_input": "2021-05-29T18:49:13.420097Z",
     "iopub.status.busy": "2021-05-29T18:49:13.419548Z",
     "iopub.status.idle": "2021-05-29T18:49:13.432072Z",
     "shell.execute_reply": "2021-05-29T18:49:13.432432Z"
    }
   },
   "outputs": [],
   "source": [
    "kraft.CONSTANT.GOLDEN_FACTOR"
   ]
  },
  {
   "cell_type": "code",
   "execution_count": null,
   "metadata": {
    "execution": {
     "iopub.execute_input": "2021-05-29T18:49:13.435294Z",
     "iopub.status.busy": "2021-05-29T18:49:13.434789Z",
     "iopub.status.idle": "2021-05-29T18:49:13.446587Z",
     "shell.execute_reply": "2021-05-29T18:49:13.446943Z"
    }
   },
   "outputs": [],
   "source": [
    "kraft.CONSTANT.RANDOM_SEED"
   ]
  },
  {
   "cell_type": "code",
   "execution_count": null,
   "metadata": {
    "execution": {
     "iopub.execute_input": "2021-05-29T18:49:13.450129Z",
     "iopub.status.busy": "2021-05-29T18:49:13.449495Z",
     "iopub.status.idle": "2021-05-29T18:49:13.462234Z",
     "shell.execute_reply": "2021-05-29T18:49:13.462572Z"
    }
   },
   "outputs": [],
   "source": [
    "kraft.CONSTANT.SAMPLE_FRACTION"
   ]
  }
 ],
 "metadata": {
  "kernelspec": {
   "display_name": "Python 3",
   "language": "python",
   "name": "python3"
  },
  "language_info": {
   "codemirror_mode": {
    "name": "ipython",
    "version": 3
   },
   "file_extension": ".py",
   "mimetype": "text/x-python",
   "name": "python",
   "nbconvert_exporter": "python",
   "pygments_lexer": "ipython3",
   "version": "3.8.9"
  }
 },
 "nbformat": 4,
 "nbformat_minor": 4
}
