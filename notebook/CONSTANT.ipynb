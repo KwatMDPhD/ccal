{
 "cells": [
  {
   "cell_type": "code",
   "execution_count": null,
   "metadata": {
    "execution": {
     "iopub.execute_input": "2021-05-29T23:05:23.685042Z",
     "iopub.status.busy": "2021-05-29T23:05:23.684266Z",
     "iopub.status.idle": "2021-05-29T23:05:23.699030Z",
     "shell.execute_reply": "2021-05-29T23:05:23.699436Z"
    }
   },
   "outputs": [],
   "source": [
    "%load_ext autoreload\n",
    "%autoreload 2"
   ]
  },
  {
   "cell_type": "code",
   "execution_count": null,
   "metadata": {
    "execution": {
     "iopub.execute_input": "2021-05-29T23:05:23.702916Z",
     "iopub.status.busy": "2021-05-29T23:05:23.702304Z",
     "iopub.status.idle": "2021-05-29T23:05:24.277646Z",
     "shell.execute_reply": "2021-05-29T23:05:24.278047Z"
    }
   },
   "outputs": [],
   "source": [
    "import kraft"
   ]
  },
  {
   "cell_type": "code",
   "execution_count": null,
   "metadata": {
    "execution": {
     "iopub.execute_input": "2021-05-29T23:05:24.281550Z",
     "iopub.status.busy": "2021-05-29T23:05:24.280982Z",
     "iopub.status.idle": "2021-05-29T23:05:24.305874Z",
     "shell.execute_reply": "2021-05-29T23:05:24.306296Z"
    }
   },
   "outputs": [],
   "source": [
    "kraft.CONSTANT.DATA_DIRECTORY_PATH"
   ]
  },
  {
   "cell_type": "code",
   "execution_count": null,
   "metadata": {
    "execution": {
     "iopub.execute_input": "2021-05-29T23:05:24.309289Z",
     "iopub.status.busy": "2021-05-29T23:05:24.308692Z",
     "iopub.status.idle": "2021-05-29T23:05:24.329085Z",
     "shell.execute_reply": "2021-05-29T23:05:24.329515Z"
    }
   },
   "outputs": [],
   "source": [
    "kraft.CONSTANT.FLOAT_RESOLUTION"
   ]
  },
  {
   "cell_type": "code",
   "execution_count": null,
   "metadata": {
    "execution": {
     "iopub.execute_input": "2021-05-29T23:05:24.332480Z",
     "iopub.status.busy": "2021-05-29T23:05:24.331884Z",
     "iopub.status.idle": "2021-05-29T23:05:24.349635Z",
     "shell.execute_reply": "2021-05-29T23:05:24.350004Z"
    }
   },
   "outputs": [],
   "source": [
    "kraft.CONSTANT.GOLDEN_FACTOR"
   ]
  },
  {
   "cell_type": "code",
   "execution_count": null,
   "metadata": {
    "execution": {
     "iopub.execute_input": "2021-05-29T23:05:24.352951Z",
     "iopub.status.busy": "2021-05-29T23:05:24.352362Z",
     "iopub.status.idle": "2021-05-29T23:05:24.369542Z",
     "shell.execute_reply": "2021-05-29T23:05:24.369947Z"
    }
   },
   "outputs": [],
   "source": [
    "kraft.CONSTANT.RANDOM_SEED"
   ]
  },
  {
   "cell_type": "code",
   "execution_count": null,
   "metadata": {
    "execution": {
     "iopub.execute_input": "2021-05-29T23:05:24.372969Z",
     "iopub.status.busy": "2021-05-29T23:05:24.372386Z",
     "iopub.status.idle": "2021-05-29T23:05:24.391006Z",
     "shell.execute_reply": "2021-05-29T23:05:24.391580Z"
    }
   },
   "outputs": [],
   "source": [
    "kraft.CONSTANT.SAMPLE_FRACTION"
   ]
  }
 ],
 "metadata": {
  "kernelspec": {
   "display_name": "Python 3",
   "language": "python",
   "name": "python3"
  },
  "language_info": {
   "codemirror_mode": {
    "name": "ipython",
    "version": 3
   },
   "file_extension": ".py",
   "mimetype": "text/x-python",
   "name": "python",
   "nbconvert_exporter": "python",
   "pygments_lexer": "ipython3",
   "version": "3.8.9"
  }
 },
 "nbformat": 4,
 "nbformat_minor": 4
}
