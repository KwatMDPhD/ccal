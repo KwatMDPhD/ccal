{
 "cells": [
  {
   "cell_type": "code",
   "execution_count": null,
   "metadata": {
    "execution": {
     "iopub.execute_input": "2021-05-30T23:47:06.757989Z",
     "iopub.status.busy": "2021-05-30T23:47:06.757217Z",
     "iopub.status.idle": "2021-05-30T23:47:06.771578Z",
     "shell.execute_reply": "2021-05-30T23:47:06.772020Z"
    }
   },
   "outputs": [],
   "source": [
    "%load_ext autoreload\n",
    "%autoreload 2"
   ]
  },
  {
   "cell_type": "code",
   "execution_count": null,
   "metadata": {
    "execution": {
     "iopub.execute_input": "2021-05-30T23:47:06.775479Z",
     "iopub.status.busy": "2021-05-30T23:47:06.774887Z",
     "iopub.status.idle": "2021-05-30T23:47:07.317375Z",
     "shell.execute_reply": "2021-05-30T23:47:07.317768Z"
    }
   },
   "outputs": [],
   "source": [
    "import kraft"
   ]
  },
  {
   "cell_type": "code",
   "execution_count": null,
   "metadata": {
    "execution": {
     "iopub.execute_input": "2021-05-30T23:47:07.320845Z",
     "iopub.status.busy": "2021-05-30T23:47:07.320309Z",
     "iopub.status.idle": "2021-05-30T23:47:07.343130Z",
     "shell.execute_reply": "2021-05-30T23:47:07.343590Z"
    }
   },
   "outputs": [],
   "source": [
    "kraft.CONSTANT.DATA_DIRECTORY_PATH"
   ]
  },
  {
   "cell_type": "code",
   "execution_count": null,
   "metadata": {
    "execution": {
     "iopub.execute_input": "2021-05-30T23:47:07.346416Z",
     "iopub.status.busy": "2021-05-30T23:47:07.345915Z",
     "iopub.status.idle": "2021-05-30T23:47:07.362745Z",
     "shell.execute_reply": "2021-05-30T23:47:07.362308Z"
    }
   },
   "outputs": [],
   "source": [
    "kraft.CONSTANT.FLOAT_RESOLUTION"
   ]
  },
  {
   "cell_type": "code",
   "execution_count": null,
   "metadata": {
    "execution": {
     "iopub.execute_input": "2021-05-30T23:47:07.365366Z",
     "iopub.status.busy": "2021-05-30T23:47:07.364867Z",
     "iopub.status.idle": "2021-05-30T23:47:07.381457Z",
     "shell.execute_reply": "2021-05-30T23:47:07.381820Z"
    }
   },
   "outputs": [],
   "source": [
    "kraft.CONSTANT.GOLDEN_FACTOR"
   ]
  },
  {
   "cell_type": "code",
   "execution_count": null,
   "metadata": {
    "execution": {
     "iopub.execute_input": "2021-05-30T23:47:07.384469Z",
     "iopub.status.busy": "2021-05-30T23:47:07.383970Z",
     "iopub.status.idle": "2021-05-30T23:47:07.399784Z",
     "shell.execute_reply": "2021-05-30T23:47:07.400205Z"
    }
   },
   "outputs": [],
   "source": [
    "kraft.CONSTANT.RANDOM_SEED"
   ]
  },
  {
   "cell_type": "code",
   "execution_count": null,
   "metadata": {
    "execution": {
     "iopub.execute_input": "2021-05-30T23:47:07.402855Z",
     "iopub.status.busy": "2021-05-30T23:47:07.402355Z",
     "iopub.status.idle": "2021-05-30T23:47:07.419422Z",
     "shell.execute_reply": "2021-05-30T23:47:07.419823Z"
    }
   },
   "outputs": [],
   "source": [
    "kraft.CONSTANT.SAMPLE_FRACTION"
   ]
  }
 ],
 "metadata": {
  "kernelspec": {
   "display_name": "Python 3",
   "language": "python",
   "name": "python3"
  },
  "language_info": {
   "codemirror_mode": {
    "name": "ipython",
    "version": 3
   },
   "file_extension": ".py",
   "mimetype": "text/x-python",
   "name": "python",
   "nbconvert_exporter": "python",
   "pygments_lexer": "ipython3",
   "version": "3.8.9"
  }
 },
 "nbformat": 4,
 "nbformat_minor": 4
}
