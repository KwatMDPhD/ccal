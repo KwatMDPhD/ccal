{
 "cells": [
  {
   "cell_type": "code",
   "execution_count": null,
   "metadata": {
    "execution": {
     "iopub.execute_input": "2021-06-01T03:47:10.783046Z",
     "iopub.status.busy": "2021-06-01T03:47:10.782066Z",
     "iopub.status.idle": "2021-06-01T03:47:10.795410Z",
     "shell.execute_reply": "2021-06-01T03:47:10.795906Z"
    }
   },
   "outputs": [],
   "source": [
    "%load_ext autoreload\n",
    "%autoreload 2"
   ]
  },
  {
   "cell_type": "code",
   "execution_count": null,
   "metadata": {
    "execution": {
     "iopub.execute_input": "2021-06-01T03:47:10.799322Z",
     "iopub.status.busy": "2021-06-01T03:47:10.798734Z",
     "iopub.status.idle": "2021-06-01T03:47:11.343930Z",
     "shell.execute_reply": "2021-06-01T03:47:11.344293Z"
    }
   },
   "outputs": [],
   "source": [
    "import kraft"
   ]
  },
  {
   "cell_type": "code",
   "execution_count": null,
   "metadata": {
    "execution": {
     "iopub.execute_input": "2021-06-01T03:47:11.347570Z",
     "iopub.status.busy": "2021-06-01T03:47:11.347047Z",
     "iopub.status.idle": "2021-06-01T03:47:11.367980Z",
     "shell.execute_reply": "2021-06-01T03:47:11.368329Z"
    }
   },
   "outputs": [],
   "source": [
    "kraft.CONSTANT.DATA_DIRECTORY_PATH"
   ]
  },
  {
   "cell_type": "code",
   "execution_count": null,
   "metadata": {
    "execution": {
     "iopub.execute_input": "2021-06-01T03:47:11.371045Z",
     "iopub.status.busy": "2021-06-01T03:47:11.370551Z",
     "iopub.status.idle": "2021-06-01T03:47:11.386407Z",
     "shell.execute_reply": "2021-06-01T03:47:11.386827Z"
    }
   },
   "outputs": [],
   "source": [
    "kraft.CONSTANT.FLOAT_RESOLUTION"
   ]
  },
  {
   "cell_type": "code",
   "execution_count": null,
   "metadata": {
    "execution": {
     "iopub.execute_input": "2021-06-01T03:47:11.389741Z",
     "iopub.status.busy": "2021-06-01T03:47:11.389262Z",
     "iopub.status.idle": "2021-06-01T03:47:11.404568Z",
     "shell.execute_reply": "2021-06-01T03:47:11.405077Z"
    }
   },
   "outputs": [],
   "source": [
    "kraft.CONSTANT.GOLDEN_FACTOR"
   ]
  },
  {
   "cell_type": "code",
   "execution_count": null,
   "metadata": {
    "execution": {
     "iopub.execute_input": "2021-06-01T03:47:11.407850Z",
     "iopub.status.busy": "2021-06-01T03:47:11.407292Z",
     "iopub.status.idle": "2021-06-01T03:47:11.424025Z",
     "shell.execute_reply": "2021-06-01T03:47:11.423617Z"
    }
   },
   "outputs": [],
   "source": [
    "kraft.CONSTANT.RANDOM_SEED"
   ]
  },
  {
   "cell_type": "code",
   "execution_count": null,
   "metadata": {
    "execution": {
     "iopub.execute_input": "2021-06-01T03:47:11.427102Z",
     "iopub.status.busy": "2021-06-01T03:47:11.426432Z",
     "iopub.status.idle": "2021-06-01T03:47:11.442145Z",
     "shell.execute_reply": "2021-06-01T03:47:11.442475Z"
    }
   },
   "outputs": [],
   "source": [
    "kraft.CONSTANT.SAMPLE_FRACTION"
   ]
  }
 ],
 "metadata": {
  "kernelspec": {
   "display_name": "Python 3",
   "language": "python",
   "name": "python3"
  },
  "language_info": {
   "codemirror_mode": {
    "name": "ipython",
    "version": 3
   },
   "file_extension": ".py",
   "mimetype": "text/x-python",
   "name": "python",
   "nbconvert_exporter": "python",
   "pygments_lexer": "ipython3",
   "version": "3.8.9"
  }
 },
 "nbformat": 4,
 "nbformat_minor": 4
}
