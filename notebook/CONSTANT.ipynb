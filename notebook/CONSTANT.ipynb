{
 "cells": [
  {
   "cell_type": "code",
   "execution_count": null,
   "metadata": {
    "execution": {
     "iopub.execute_input": "2021-05-30T07:00:11.817647Z",
     "iopub.status.busy": "2021-05-30T07:00:11.816828Z",
     "iopub.status.idle": "2021-05-30T07:00:11.832059Z",
     "shell.execute_reply": "2021-05-30T07:00:11.832551Z"
    }
   },
   "outputs": [],
   "source": [
    "%load_ext autoreload\n",
    "%autoreload 2"
   ]
  },
  {
   "cell_type": "code",
   "execution_count": null,
   "metadata": {
    "execution": {
     "iopub.execute_input": "2021-05-30T07:00:11.836238Z",
     "iopub.status.busy": "2021-05-30T07:00:11.835620Z",
     "iopub.status.idle": "2021-05-30T07:00:12.389313Z",
     "shell.execute_reply": "2021-05-30T07:00:12.389669Z"
    }
   },
   "outputs": [],
   "source": [
    "import kraft"
   ]
  },
  {
   "cell_type": "code",
   "execution_count": null,
   "metadata": {
    "execution": {
     "iopub.execute_input": "2021-05-30T07:00:12.392599Z",
     "iopub.status.busy": "2021-05-30T07:00:12.392103Z",
     "iopub.status.idle": "2021-05-30T07:00:12.412686Z",
     "shell.execute_reply": "2021-05-30T07:00:12.413115Z"
    }
   },
   "outputs": [],
   "source": [
    "kraft.CONSTANT.DATA_DIRECTORY_PATH"
   ]
  },
  {
   "cell_type": "code",
   "execution_count": null,
   "metadata": {
    "execution": {
     "iopub.execute_input": "2021-05-30T07:00:12.415926Z",
     "iopub.status.busy": "2021-05-30T07:00:12.415419Z",
     "iopub.status.idle": "2021-05-30T07:00:12.431593Z",
     "shell.execute_reply": "2021-05-30T07:00:12.431972Z"
    }
   },
   "outputs": [],
   "source": [
    "kraft.CONSTANT.FLOAT_RESOLUTION"
   ]
  },
  {
   "cell_type": "code",
   "execution_count": null,
   "metadata": {
    "execution": {
     "iopub.execute_input": "2021-05-30T07:00:12.434996Z",
     "iopub.status.busy": "2021-05-30T07:00:12.434434Z",
     "iopub.status.idle": "2021-05-30T07:00:12.450763Z",
     "shell.execute_reply": "2021-05-30T07:00:12.451194Z"
    }
   },
   "outputs": [],
   "source": [
    "kraft.CONSTANT.GOLDEN_FACTOR"
   ]
  },
  {
   "cell_type": "code",
   "execution_count": null,
   "metadata": {
    "execution": {
     "iopub.execute_input": "2021-05-30T07:00:12.453890Z",
     "iopub.status.busy": "2021-05-30T07:00:12.453388Z",
     "iopub.status.idle": "2021-05-30T07:00:12.469391Z",
     "shell.execute_reply": "2021-05-30T07:00:12.469793Z"
    }
   },
   "outputs": [],
   "source": [
    "kraft.CONSTANT.RANDOM_SEED"
   ]
  },
  {
   "cell_type": "code",
   "execution_count": null,
   "metadata": {
    "execution": {
     "iopub.execute_input": "2021-05-30T07:00:12.472946Z",
     "iopub.status.busy": "2021-05-30T07:00:12.472388Z",
     "iopub.status.idle": "2021-05-30T07:00:12.490299Z",
     "shell.execute_reply": "2021-05-30T07:00:12.490696Z"
    }
   },
   "outputs": [],
   "source": [
    "kraft.CONSTANT.SAMPLE_FRACTION"
   ]
  }
 ],
 "metadata": {
  "kernelspec": {
   "display_name": "Python 3",
   "language": "python",
   "name": "python3"
  },
  "language_info": {
   "codemirror_mode": {
    "name": "ipython",
    "version": 3
   },
   "file_extension": ".py",
   "mimetype": "text/x-python",
   "name": "python",
   "nbconvert_exporter": "python",
   "pygments_lexer": "ipython3",
   "version": "3.8.9"
  }
 },
 "nbformat": 4,
 "nbformat_minor": 4
}
