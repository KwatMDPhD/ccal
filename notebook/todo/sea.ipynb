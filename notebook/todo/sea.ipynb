{
 "cells": [
  {
   "cell_type": "code",
   "execution_count": null,
   "metadata": {},
   "outputs": [],
   "source": [
    "%load_ext autoreload\n",
    "%autoreload 2"
   ]
  },
  {
   "cell_type": "code",
   "execution_count": null,
   "metadata": {},
   "outputs": [],
   "source": [
    "import numpy as np\n",
    "import pandas as pd\n",
    "\n",
    "import kraft"
   ]
  },
  {
   "cell_type": "markdown",
   "metadata": {},
   "source": [
    "## score_set"
   ]
  },
  {
   "cell_type": "code",
   "execution_count": null,
   "metadata": {},
   "outputs": [],
   "source": [
    "for n_element in (10,):\n",
    "\n",
    "    element_score = np.random.normal(size=n_element // 2)\n",
    "\n",
    "    element_score = pd.Series(\n",
    "        np.sort(np.concatenate((element_score, -element_score))),\n",
    "        name=\"Score\",\n",
    "        index=pd.Index(\n",
    "            (\"Element {}\".format(i) for i in range(n_element)), name=\"Element\"\n",
    "        ),\n",
    "    )\n",
    "\n",
    "    for n_skip in (1,):\n",
    "\n",
    "        if n_skip < 1:\n",
    "\n",
    "            n_skip = int(n_skip * n_element)\n",
    "\n",
    "        for n_top in (2,):\n",
    "\n",
    "            if n_top < 1:\n",
    "\n",
    "                n_top = int(n_top * n_element)\n",
    "\n",
    "            for rate_top_hit in (1,):\n",
    "\n",
    "                if rate_top_hit < 1:\n",
    "\n",
    "                    rate_top_hit = int(rate_top_hit * n_top)\n",
    "\n",
    "                for side in (\"+\",):\n",
    "\n",
    "                    set_elements = []\n",
    "\n",
    "                    if \"-\" in side:\n",
    "\n",
    "                        set_elements += element_score.index[\n",
    "                            n_skip : n_skip + n_top : rate_top_hit\n",
    "                        ].tolist()\n",
    "\n",
    "                    if \"+\" in side:\n",
    "\n",
    "                        set_elements += element_score.index[\n",
    "                            -(n_skip + 1) : -(n_skip + 1 + n_top) : -rate_top_hit\n",
    "                        ].tolist()\n",
    "\n",
    "                    for method in (\"classic\", \"2020\"):\n",
    "\n",
    "                        kraft.score_set(\n",
    "                            element_score,\n",
    "                            set_elements,\n",
    "                            method=method,\n",
    "                            plot_process=True,\n",
    "                        )"
   ]
  },
  {
   "cell_type": "code",
   "execution_count": null,
   "metadata": {},
   "outputs": [],
   "source": [
    "element_score = pd.read_csv(\"data/gene_score.tsv\", sep=\"\\t\", index_col=0, squeeze=True)\n",
    "\n",
    "set_elements = kraft.read_gmt(\"data/c2.gmt\")"
   ]
  },
  {
   "cell_type": "code",
   "execution_count": null,
   "metadata": {},
   "outputs": [],
   "source": [
    "method = \"2020\""
   ]
  },
  {
   "cell_type": "code",
   "execution_count": null,
   "metadata": {},
   "outputs": [],
   "source": [
    "sets = []\n",
    "\n",
    "sets += [\n",
    "    \"COLLER_MYC_TARGETS_UP\",\n",
    "]\n",
    "\n",
    "sets += list(np.random.choice(list(set_elements.keys()), size=2, replace=False))\n",
    "\n",
    "for set_ in sets:\n",
    "\n",
    "    kraft.score_set(element_score, set_elements[set_], method=method, title=set_)"
   ]
  },
  {
   "cell_type": "code",
   "execution_count": null,
   "metadata": {},
   "outputs": [],
   "source": [
    "set_score = {}\n",
    "\n",
    "for set_, set_elements_ in set_elements.items():\n",
    "\n",
    "    set_score[set_] = kraft.score_set(\n",
    "        element_score, set_elements_, method=method, plot=False, title=set_\n",
    "    )\n",
    "\n",
    "set_score = pd.Series(set_score).sort_values()\n",
    "\n",
    "n_extreme = 2\n",
    "\n",
    "for i in list(range(n_extreme)) + list(range(-n_extreme, 0)):\n",
    "\n",
    "    set_ = set_score.index[i]\n",
    "\n",
    "    kraft.score_set(element_score, set_elements[set_], method=method, title=set_)"
   ]
  }
 ],
 "metadata": {
  "kernelspec": {
   "display_name": "Python 3",
   "language": "python",
   "name": "python3"
  },
  "language_info": {
   "codemirror_mode": {
    "name": "ipython",
    "version": 3
   },
   "file_extension": ".py",
   "mimetype": "text/x-python",
   "name": "python",
   "nbconvert_exporter": "python",
   "pygments_lexer": "ipython3",
   "version": "3.7.6"
  }
 },
 "nbformat": 4,
 "nbformat_minor": 4
}
