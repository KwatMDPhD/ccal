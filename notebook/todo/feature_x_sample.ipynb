{
 "cells": [
  {
   "cell_type": "code",
   "execution_count": null,
   "metadata": {},
   "outputs": [],
   "source": [
    "%load_ext autoreload\n",
    "%autoreload 2"
   ]
  },
  {
   "cell_type": "code",
   "execution_count": null,
   "metadata": {
    "ExecuteTime": {
     "end_time": "2018-05-15T09:28:55.668422Z",
     "start_time": "2018-05-15T09:28:55.428950Z"
    }
   },
   "outputs": [],
   "source": [
    "import numpy as np\n",
    "import pandas as pd\n",
    "\n",
    "import kraft"
   ]
  },
  {
   "cell_type": "markdown",
   "metadata": {},
   "source": [
    "## separate_type"
   ]
  },
  {
   "cell_type": "code",
   "execution_count": null,
   "metadata": {},
   "outputs": [],
   "source": [
    "n_row_per_type = 2\n",
    "\n",
    "n_column = 8\n",
    "\n",
    "continuous = pd.DataFrame(\n",
    "    data=np.random.normal(size=(n_row_per_type, n_column)),\n",
    "    index=pd.Index(\n",
    "        data=(\"Continuous {}\".format(i) for i in range(n_row_per_type)),\n",
    "        name=\"Continuous\",\n",
    "    ),\n",
    ")\n",
    "\n",
    "continuous.iloc[0, 0] = np.nan\n",
    "\n",
    "categorical = pd.DataFrame(\n",
    "    data=np.random.randint(3, size=(n_row_per_type, n_column)),\n",
    "    index=pd.Index(\n",
    "        data=(\"Categorical {}\".format(i) for i in range(n_row_per_type)),\n",
    "        name=\"Categorical\",\n",
    "    ),\n",
    ")\n",
    "\n",
    "categorical.iloc[0, 1] = np.nan\n",
    "\n",
    "binary = pd.DataFrame(\n",
    "    data=np.random.randint(2, size=(n_row_per_type, n_column)),\n",
    "    index=pd.Index(\n",
    "        data=(\"Binary {}\".format(i) for i in range(n_row_per_type)), name=\"Binary\",\n",
    "    ),\n",
    ")\n",
    "\n",
    "binary.iloc[0, 2] = np.nan\n",
    "\n",
    "dataframe = pd.concat((continuous, categorical, binary))\n",
    "\n",
    "dataframe.index.name = \"Index\"\n",
    "\n",
    "dataframe"
   ]
  },
  {
   "cell_type": "code",
   "execution_count": null,
   "metadata": {},
   "outputs": [],
   "source": [
    "continuous, binary = kraft.feature_x_sample.separate_type(dataframe)"
   ]
  },
  {
   "cell_type": "code",
   "execution_count": null,
   "metadata": {},
   "outputs": [],
   "source": [
    "continuous"
   ]
  },
  {
   "cell_type": "code",
   "execution_count": null,
   "metadata": {},
   "outputs": [],
   "source": [
    "binary"
   ]
  }
 ],
 "metadata": {
  "kernelspec": {
   "display_name": "Python 3",
   "language": "python",
   "name": "python3"
  },
  "language_info": {
   "codemirror_mode": {
    "name": "ipython",
    "version": 3
   },
   "file_extension": ".py",
   "mimetype": "text/x-python",
   "name": "python",
   "nbconvert_exporter": "python",
   "pygments_lexer": "ipython3",
   "version": "3.7.8"
  }
 },
 "nbformat": 4,
 "nbformat_minor": 4
}
