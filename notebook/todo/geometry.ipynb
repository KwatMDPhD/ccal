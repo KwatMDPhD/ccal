{
 "cells": [
  {
   "cell_type": "code",
   "execution_count": null,
   "metadata": {},
   "outputs": [],
   "source": [
    "%load_ext autoreload\n",
    "%autoreload 2"
   ]
  },
  {
   "cell_type": "code",
   "execution_count": null,
   "metadata": {
    "ExecuteTime": {
     "end_time": "2018-05-07T09:08:44.839057Z",
     "start_time": "2018-05-07T09:08:44.223504Z"
    }
   },
   "outputs": [],
   "source": [
    "import numpy as np\n",
    "\n",
    "import kraft"
   ]
  },
  {
   "cell_type": "code",
   "execution_count": null,
   "metadata": {},
   "outputs": [],
   "source": [
    "point_x_dimension = np.asarray(\n",
    "    (\n",
    "        (0, 0),\n",
    "        (1, 0),\n",
    "        (2, 0),\n",
    "        (0, 1),\n",
    "        (1, 1),\n",
    "        (2, 1),\n",
    "        (0, 2),\n",
    "        (1, 2),\n",
    "        (2, 2),\n",
    "        (0.5, 1.75),\n",
    "        (2, 3),\n",
    "    )\n",
    ")\n",
    "\n",
    "point_xs, point_ys = point_x_dimension.T"
   ]
  },
  {
   "cell_type": "code",
   "execution_count": null,
   "metadata": {},
   "outputs": [],
   "source": [
    "def plot_line(point_xs, point_ys, line_xs, line_ys):\n",
    "\n",
    "    layouts_size = 640\n",
    "\n",
    "    kraft.plot_plotly(\n",
    "        {\n",
    "            \"layout\": {\"height\": layouts_size, \"width\": layouts_size},\n",
    "            \"data\": [\n",
    "                {\n",
    "                    \"name\": \"Point\",\n",
    "                    \"x\": point_xs,\n",
    "                    \"y\": point_ys,\n",
    "                    \"mode\": \"markers\",\n",
    "                    \"marker\": {\"size\": 16, \"opacity\": 0.8},\n",
    "                },\n",
    "                {\n",
    "                    \"name\": \"Line\",\n",
    "                    \"x\": line_xs,\n",
    "                    \"y\": line_ys,\n",
    "                    \"mode\": \"lines\",\n",
    "                    \"line\": {\"dash\": \"dashdot\"},\n",
    "                },\n",
    "            ],\n",
    "        }\n",
    "    )"
   ]
  },
  {
   "cell_type": "markdown",
   "metadata": {},
   "source": [
    "## get_triangulation"
   ]
  },
  {
   "cell_type": "code",
   "execution_count": null,
   "metadata": {},
   "outputs": [],
   "source": [
    "triangulation_xs, triangulation_ys = kraft.get_triangulation(point_x_dimension)\n",
    "\n",
    "plot_line(point_xs, point_ys, triangulation_xs, triangulation_ys)"
   ]
  },
  {
   "cell_type": "markdown",
   "metadata": {},
   "source": [
    "## get_convex_hull"
   ]
  },
  {
   "cell_type": "code",
   "execution_count": null,
   "metadata": {},
   "outputs": [],
   "source": [
    "convex_hull_xs, convex_hull_ys = kraft.get_convex_hull(point_x_dimension)\n",
    "\n",
    "plot_line(point_xs, point_ys, convex_hull_xs, convex_hull_ys)"
   ]
  },
  {
   "cell_type": "code",
   "execution_count": null,
   "metadata": {},
   "outputs": [],
   "source": [
    "plot_line(\n",
    "    point_xs,\n",
    "    point_ys,\n",
    "    triangulation_xs + convex_hull_xs,\n",
    "    triangulation_ys + convex_hull_ys,\n",
    ")"
   ]
  }
 ],
 "metadata": {
  "kernelspec": {
   "display_name": "Python 3",
   "language": "python",
   "name": "python3"
  },
  "language_info": {
   "codemirror_mode": {
    "name": "ipython",
    "version": 3
   },
   "file_extension": ".py",
   "mimetype": "text/x-python",
   "name": "python",
   "nbconvert_exporter": "python",
   "pygments_lexer": "ipython3",
   "version": "3.7.6"
  }
 },
 "nbformat": 4,
 "nbformat_minor": 4
}
