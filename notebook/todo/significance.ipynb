{
 "cells": [
  {
   "cell_type": "code",
   "execution_count": null,
   "metadata": {},
   "outputs": [],
   "source": [
    "%load_ext autoreload\n",
    "%autoreload 2"
   ]
  },
  {
   "cell_type": "code",
   "execution_count": null,
   "metadata": {},
   "outputs": [],
   "source": [
    "import numpy as np\n",
    "\n",
    "import kraft"
   ]
  },
  {
   "cell_type": "markdown",
   "metadata": {},
   "source": [
    "## get_moe"
   ]
  },
  {
   "cell_type": "code",
   "execution_count": null,
   "metadata": {},
   "outputs": [],
   "source": [
    "for power in range(8):\n",
    "\n",
    "    print(\"=\" * 80)\n",
    "\n",
    "    size = 10 ** power\n",
    "\n",
    "    print(size)\n",
    "\n",
    "    print(kraft.significance.get_moe(np.random.normal(size=size)))"
   ]
  },
  {
   "cell_type": "markdown",
   "metadata": {},
   "source": [
    "## get_p_value"
   ]
  },
  {
   "cell_type": "code",
   "execution_count": null,
   "metadata": {},
   "outputs": [],
   "source": [
    "random_numbers = np.arange(10)\n",
    "\n",
    "print(random_numbers)\n",
    "\n",
    "for number in (0, 9):\n",
    "\n",
    "    for direction in (\"<\", \">\"):\n",
    "\n",
    "        print(\"=\" * 80)\n",
    "\n",
    "        print(number, direction)\n",
    "\n",
    "        print(kraft.significance.get_p_value(number, random_numbers, direction))"
   ]
  },
  {
   "cell_type": "markdown",
   "metadata": {},
   "source": [
    "## get_p_numbers_and_q_numbers"
   ]
  },
  {
   "cell_type": "code",
   "execution_count": null,
   "metadata": {},
   "outputs": [],
   "source": [
    "random_numbers = np.arange(10)\n",
    "\n",
    "numbers = np.asarray((0, 1, 8, 9))\n",
    "\n",
    "print(random_numbers)\n",
    "\n",
    "print(numbers)\n",
    "\n",
    "for direction in (\"<\", \">\", \"<>\"):\n",
    "\n",
    "    print(\"=\" * 80)\n",
    "\n",
    "    print(direction)\n",
    "\n",
    "    print(\n",
    "        kraft.significance.get_p_values_and_q_values(numbers, random_numbers, direction)\n",
    "    )"
   ]
  }
 ],
 "metadata": {
  "kernelspec": {
   "display_name": "Python 3",
   "language": "python",
   "name": "python3"
  },
  "language_info": {
   "codemirror_mode": {
    "name": "ipython",
    "version": 3
   },
   "file_extension": ".py",
   "mimetype": "text/x-python",
   "name": "python",
   "nbconvert_exporter": "python",
   "pygments_lexer": "ipython3",
   "version": "3.7.8"
  }
 },
 "nbformat": 4,
 "nbformat_minor": 4
}
