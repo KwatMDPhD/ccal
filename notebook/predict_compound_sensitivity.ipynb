{
 "cells": [
  {
   "cell_type": "code",
   "execution_count": null,
   "metadata": {
    "ExecuteTime": {
     "end_time": "2017-08-27T22:22:13.428037Z",
     "start_time": "2017-08-27T22:22:11.993593Z"
    }
   },
   "outputs": [],
   "source": [
    "%load_ext autoreload\n",
    "%matplotlib inline"
   ]
  },
  {
   "cell_type": "code",
   "execution_count": null,
   "metadata": {},
   "outputs": [],
   "source": [
    "import os\n",
    "import sys\n",
    "\n",
    "import numpy as np\n",
    "import pandas as pd\n",
    "import plotly as pl"
   ]
  },
  {
   "cell_type": "code",
   "execution_count": null,
   "metadata": {},
   "outputs": [],
   "source": [
    "sys.path.insert(0, \"..\")\n",
    "\n",
    "np.random.random(20121020)\n",
    "\n",
    "pl.offline.init_notebook_mode(connected=True)"
   ]
  },
  {
   "cell_type": "markdown",
   "metadata": {},
   "source": [
    "# Make gene x cellline"
   ]
  },
  {
   "cell_type": "code",
   "execution_count": null,
   "metadata": {
    "ExecuteTime": {
     "end_time": "2017-08-27T22:22:28.369581Z",
     "start_time": "2017-08-27T22:22:19.255957Z"
    }
   },
   "outputs": [],
   "source": [
    "# Load CCLE mutation-amplification-deletion x cellline\n",
    "mutation_amplification_deletion_x_cellline = gct.read_gct(\n",
    "    \"../data/ccle/mutation__gene_x_ccle_cellline.gct\"\n",
    ")\n",
    "\n",
    "print(\n",
    "    \"mutation_amplification_deletion_x_cellline.shape: {}\".format(\n",
    "        mutation_amplification_deletion_x_cellline.shape\n",
    "    )\n",
    ")\n",
    "\n",
    "# Keep only mutations (*_MUT)\n",
    "mutation_x_cellline = mutation_amplification_deletion_x_cellline.loc[\n",
    "    mutation_amplification_deletion_x_cellline.index.str.endswith(\"MUT\")\n",
    "]\n",
    "\n",
    "print(\"mutation_x_cellline.shape: {}\".format(mutation_x_cellline.shape))\n",
    "\n",
    "# Remove '_MUT' suffix\n",
    "mutation_x_cellline.index = [l[0] for l in mutation_x_cellline.index.str.split(sep=\"_\")]"
   ]
  },
  {
   "cell_type": "markdown",
   "metadata": {},
   "source": [
    "# Select genes"
   ]
  },
  {
   "cell_type": "code",
   "execution_count": null,
   "metadata": {
    "ExecuteTime": {
     "end_time": "2017-08-27T22:22:28.578983Z",
     "start_time": "2017-08-27T22:22:28.372782Z"
    }
   },
   "outputs": [],
   "source": [
    "# Read Foundation One genes\n",
    "foundation_one_genes = (\n",
    "    gmt.read_gmts(\"../data/gene_sets/cancer_gene_sets/cancer_gene_sets.gmt\")\n",
    "    .loc[\"FoundationOne\"]\n",
    "    .dropna()\n",
    "    .tolist()\n",
    ")\n",
    "\n",
    "print(\"N Foundation One genes: {}\".format(len(foundation_one_genes)))\n",
    "\n",
    "# Keep only mutations in the Foundation One genes\n",
    "selected_mutation_x_cellline = mutation_x_cellline.loc[\n",
    "    [i in foundation_one_genes for i in mutation_x_cellline.index]\n",
    "]\n",
    "\n",
    "print(\"selected_mutation_x_cellline: {}\".format(selected_mutation_x_cellline.shape))"
   ]
  },
  {
   "cell_type": "markdown",
   "metadata": {},
   "source": [
    "# Make compound-sensitivity x cellline"
   ]
  },
  {
   "cell_type": "code",
   "execution_count": null,
   "metadata": {
    "ExecuteTime": {
     "end_time": "2017-08-27T22:22:34.823688Z",
     "start_time": "2017-08-27T22:22:33.399926Z"
    }
   },
   "outputs": [],
   "source": [
    "# Read CCLE compound-sensitivity x cellline\n",
    "compound_sensitivity_x_cellline = gct.read_gct(\n",
    "    \"../data/ccle/ctd2__compound_x_ccle_cellline.gct\"\n",
    ")\n",
    "\n",
    "# Flip value signs because lower the viability score, better the response\n",
    "compound_sensitivity_x_cellline *= -1\n",
    "\n",
    "compound_sensitivity_x_cellline = pd.DataFrame(\n",
    "    a2d.normalize(compound_sensitivity_x_cellline.values, \"0-1\"),\n",
    "    index=compound_sensitivity_x_cellline.index,\n",
    "    columns=compound_sensitivity_x_cellline.columns,\n",
    ")\n",
    "\n",
    "plot.plot_heatmap(\n",
    "    compound_sensitivity_x_cellline,\n",
    "    title=\"compound_sensitivity_x_cellline {}\".format(\n",
    "        compound_sensitivity_x_cellline.shape\n",
    "    ),\n",
    "    xlabel=\"Cellline\",\n",
    "    ylabel=\"Compound\",\n",
    ")\n",
    "\n",
    "# Get cell lines common in selected-mutation x cellline and compound-sensitivity x cellline\n",
    "common_celllines = (\n",
    "    selected_mutation_x_cellline.columns & compound_sensitivity_x_cellline.columns\n",
    ").sort_values()\n",
    "\n",
    "print(\"common_celllines.size: {}\".format(common_celllines.size))"
   ]
  },
  {
   "cell_type": "markdown",
   "metadata": {},
   "source": [
    "# Match selected mutations to compound sensitivity"
   ]
  },
  {
   "cell_type": "code",
   "execution_count": null,
   "metadata": {
    "ExecuteTime": {
     "end_time": "2017-08-27T22:22:44.186761Z",
     "start_time": "2017-08-27T22:22:41.739823Z"
    }
   },
   "outputs": [],
   "source": [
    "compound = \"PLX-4720\"\n",
    "print(\"Matching mutations to {} ...\".format(compound))\n",
    "\n",
    "compound_sensitivity = compound_sensitivity_x_cellline.loc[\n",
    "    compound, common_celllines\n",
    "].dropna()\n",
    "print(\"\\tcompound_sensitivity.size: {}\".format(compound_sensitivity.size))\n",
    "\n",
    "print()\n",
    "match_result = make_match_panel(\n",
    "    compound_sensitivity,\n",
    "    selected_mutation_x_cellline.loc[:, compound_sensitivity.index],\n",
    "    n_jobs=4,\n",
    "    n_features=10,\n",
    "    n_samplings=0,\n",
    "    n_permutations=0,\n",
    "    features_type=\"binary\",\n",
    ")"
   ]
  },
  {
   "cell_type": "markdown",
   "metadata": {},
   "source": [
    "# Infer compound response from mutations"
   ]
  },
  {
   "cell_type": "markdown",
   "metadata": {},
   "source": [
    "## Set up variables"
   ]
  },
  {
   "cell_type": "code",
   "execution_count": null,
   "metadata": {
    "ExecuteTime": {
     "end_time": "2017-08-27T22:23:24.279575Z",
     "start_time": "2017-08-27T22:23:22.810439Z"
    }
   },
   "outputs": [],
   "source": [
    "mutation_1 = \"BRAF\"\n",
    "mutation_2 = \"KRAS\"\n",
    "\n",
    "print(\"Mutaiton 1: {}\".format(mutation_1))\n",
    "print(\"Mutaiton 2: {}\".format(mutation_2))\n",
    "\n",
    "m1 = np.array(selected_mutation_x_cellline.loc[mutation_1, compound_sensitivity.index])\n",
    "m2 = np.array(selected_mutation_x_cellline.loc[mutation_2, compound_sensitivity.index])\n",
    "r = np.array(compound_sensitivity)\n",
    "rb = (0.6 < r).astype(int)\n",
    "\n",
    "plot.plot_distribution(m1, title=\"{} Distribution\".format(mutation_1))\n",
    "plot.plot_distribution(m2, title=\"{} Distribution\".format(mutation_2))\n",
    "plot.plot_distribution(r, title=\"{} Distribution\".format(compound))\n",
    "plot.plot_distribution(rb, title=\"{} (binarized) Distribution\".format(compound))\n",
    "\n",
    "grid_size = 8"
   ]
  },
  {
   "cell_type": "markdown",
   "metadata": {},
   "source": [
    "## Compute P(R | Mi)"
   ]
  },
  {
   "cell_type": "code",
   "execution_count": null,
   "metadata": {
    "ExecuteTime": {
     "end_time": "2017-08-27T22:25:47.287076Z",
     "start_time": "2017-08-27T22:25:43.287449Z"
    }
   },
   "outputs": [],
   "source": [
    "p_rb__m1, p_rb1__m1 = infer(\n",
    "    [m1, rb], grid_size=grid_size, target=1, variable_names=[mutation_1, compound]\n",
    ")\n",
    "\n",
    "p_rb__m2, p_rb1__m2 = infer(\n",
    "    [m2, rb], grid_size=grid_size, target=1, variable_names=[mutation_2, compound]\n",
    ")"
   ]
  },
  {
   "cell_type": "markdown",
   "metadata": {},
   "source": [
    "## Compute P(R | M1, M2)"
   ]
  },
  {
   "cell_type": "code",
   "execution_count": null,
   "metadata": {
    "ExecuteTime": {
     "end_time": "2017-08-27T22:25:57.824624Z",
     "start_time": "2017-08-27T22:25:50.672790Z"
    }
   },
   "outputs": [],
   "source": [
    "p_rb__m1m2, p_rb1__m1m2 = infer_assuming_independence(\n",
    "    [m1, m2, rb],\n",
    "    grid_size=grid_size,\n",
    "    target=1,\n",
    "    variable_names=[mutation_1, mutation_2, compound],\n",
    ")\n",
    "\n",
    "p_rb__m1m2, p_rb1__m1m2 = infer(\n",
    "    [m1, m2, rb],\n",
    "    grid_size=grid_size,\n",
    "    target=1,\n",
    "    variable_names=[mutation_1, mutation_2, compound],\n",
    ")"
   ]
  },
  {
   "cell_type": "markdown",
   "metadata": {},
   "source": [
    "## Make Bayesian nomograms"
   ]
  },
  {
   "cell_type": "code",
   "execution_count": null,
   "metadata": {
    "ExecuteTime": {
     "end_time": "2017-08-27T22:25:58.723925Z",
     "start_time": "2017-08-27T22:25:58.687144Z"
    }
   },
   "outputs": [],
   "source": [
    "p_rb1 = rb.sum() / rb.size\n",
    "\n",
    "print(p_rb1)"
   ]
  },
  {
   "cell_type": "code",
   "execution_count": null,
   "metadata": {
    "ExecuteTime": {
     "end_time": "2017-08-27T22:58:03.957015Z",
     "start_time": "2017-08-27T22:58:00.587544Z"
    }
   },
   "outputs": [],
   "source": [
    "plot_bayesian_nomogram(\n",
    "    [mutation_1, mutation_2],\n",
    "    [m1, m2],\n",
    "    [p_rb__m1, p_rb__m2],\n",
    "    p_rb1,\n",
    "    1 - p_rb1,\n",
    "    n_lors_marks=2,\n",
    "    file_path=\"../results/nomogram.png\",\n",
    ")\n",
    "\n",
    "plot_bayesian_nomogram(\n",
    "    [mutation_1, mutation_2],\n",
    "    [m1, m2],\n",
    "    [p_rb__m1, p_rb__m2],\n",
    "    p_rb1,\n",
    "    1 - p_rb1,\n",
    "    sample=[1, 1],\n",
    "    n_lors_marks=2,\n",
    "    file_path=\"../results/nomogram_with_sample.png\",\n",
    ")"
   ]
  }
 ],
 "metadata": {
  "kernelspec": {
   "display_name": "Python 3",
   "language": "python",
   "name": "python3"
  },
  "language_info": {
   "codemirror_mode": {
    "name": "ipython",
    "version": 3
   },
   "file_extension": ".py",
   "mimetype": "text/x-python",
   "name": "python",
   "nbconvert_exporter": "python",
   "pygments_lexer": "ipython3",
   "version": "3.6.7"
  }
 },
 "nbformat": 4,
 "nbformat_minor": 2
}
