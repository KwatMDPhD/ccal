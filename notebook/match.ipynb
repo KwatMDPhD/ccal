{
 "cells": [
  {
   "cell_type": "code",
   "execution_count": null,
   "metadata": {},
   "outputs": [],
   "source": [
    "%load_ext autoreload\n",
    "%autoreload 2"
   ]
  },
  {
   "cell_type": "code",
   "execution_count": null,
   "metadata": {},
   "outputs": [],
   "source": [
    "import numpy as np\n",
    "import pandas as pd\n",
    "\n",
    "import kraft"
   ]
  },
  {
   "cell_type": "code",
   "execution_count": null,
   "metadata": {},
   "outputs": [],
   "source": [
    "def make_target_and_data(\n",
    "    size, target_how=\"uniform\", data_how=\"uniform\", break_data=False\n",
    "):\n",
    "\n",
    "    target = pd.Series(\n",
    "        kraft.make_array(size[1], target_how),\n",
    "        index=(\"Column {}\".format(i) for i in range(size[1])),\n",
    "        name=\"Target ({})\".format(target_how),\n",
    "    )\n",
    "\n",
    "    data = pd.DataFrame(\n",
    "        kraft.make_array(size, data_how),\n",
    "        index=(\"Row {}\".format(i) for i in range(size[0])),\n",
    "        columns=target.index,\n",
    "    )\n",
    "\n",
    "    if break_data:\n",
    "\n",
    "        if 3 < size[0]:\n",
    "\n",
    "            for i in range(3):\n",
    "\n",
    "                data.iloc[i] = i\n",
    "\n",
    "        data.loc[\n",
    "            np.random.choice(data.index, size=data.index.size // 3, replace=False),\n",
    "            np.random.choice(data.columns, size=data.columns.size // 3, replace=False),\n",
    "        ] = np.nan\n",
    "\n",
    "    return target, data"
   ]
  },
  {
   "cell_type": "code",
   "execution_count": null,
   "metadata": {},
   "outputs": [],
   "source": [
    "target, data = make_target_and_data((1, 10))\n",
    "\n",
    "for n_permutation, n_sampling in ((0, 0), (0, 10), (10, 0), (10, 10)):\n",
    "\n",
    "    kraft.make_match_panel(\n",
    "        target, data, n_permutation=n_permutation, n_sampling=n_sampling\n",
    "    )"
   ]
  },
  {
   "cell_type": "code",
   "execution_count": null,
   "metadata": {
    "ExecuteTime": {
     "end_time": "2018-05-15T10:46:36.617163Z",
     "start_time": "2018-05-15T10:46:33.667703Z"
    }
   },
   "outputs": [],
   "source": [
    "for size in (\n",
    "    (8, 2),\n",
    "    (8, 4),\n",
    "    (8, 16),\n",
    "    (8, 32),\n",
    "    (8, 64),\n",
    "    (8, 128),\n",
    "    (8, 256),\n",
    "    (1, 8),\n",
    "    (2, 8),\n",
    "    (4, 8),\n",
    "    (8, 8),\n",
    "    (16, 8),\n",
    "    (32, 8),\n",
    "    (64, 8),\n",
    "    (128, 8),\n",
    "    (256, 8),\n",
    "):\n",
    "\n",
    "    kraft.make_match_panel(*make_target_and_data(size=size), n_extreme=None)"
   ]
  },
  {
   "cell_type": "code",
   "execution_count": null,
   "metadata": {},
   "outputs": [],
   "source": [
    "kraft.make_match_panel(*make_target_and_data((10, 20), break_data=True))"
   ]
  },
  {
   "cell_type": "code",
   "execution_count": null,
   "metadata": {},
   "outputs": [],
   "source": [
    "data = make_target_and_data(break_data=True)[1]\n",
    "\n",
    "for target_vector in (\n",
    "    ((1,) * 1 + (2,) * 2 + (0,) * 7),\n",
    "    ((2,) * 2 + (3,) * 3 + (0,) * 5),\n",
    "):\n",
    "\n",
    "    target = pd.Series(target_vector, index=data.columns)\n",
    "\n",
    "    for target_ascending in (None, True, False):\n",
    "\n",
    "        kraft.make_match_panel(\n",
    "            target,\n",
    "            data,\n",
    "            target_ascending=target_ascending,\n",
    "            target_data_type=\"categorical\",\n",
    "        )"
   ]
  },
  {
   "cell_type": "code",
   "execution_count": null,
   "metadata": {
    "ExecuteTime": {
     "end_time": "2018-05-15T10:47:59.764349Z",
     "start_time": "2018-05-15T10:46:36.621876Z"
    }
   },
   "outputs": [],
   "source": [
    "target = pd.read_csv(\"target.tsv\", sep=\"\\t\", index_col=0, squeeze=True)\n",
    "\n",
    "data = pd.read_csv(\"data.tsv\", sep=\"\\t\", index_col=0)\n",
    "\n",
    "kraft.make_match_panel(\n",
    "    target, data, n_sampling=0, n_permutation=0, target_data_type=\"binary\"\n",
    ")\n",
    "\n",
    "kraft.make_match_panel(\n",
    "    data.iloc[0], data.iloc[:1], n_sampling=0, n_permutation=0, plot_std=3\n",
    ")\n",
    "\n",
    "kraft.make_match_panel(\n",
    "    data.iloc[0], data.iloc[:2], n_sampling=0, n_permutation=0, plot_std=3\n",
    ")"
   ]
  },
  {
   "cell_type": "code",
   "execution_count": null,
   "metadata": {
    "ExecuteTime": {
     "end_time": "2018-05-15T10:48:15.310369Z",
     "start_time": "2018-05-15T10:48:08.080994Z"
    }
   },
   "outputs": [],
   "source": [
    "n_row = 8\n",
    "\n",
    "n_column = 8\n",
    "\n",
    "target = pd.Series(\n",
    "    np.random.normal(size=n_column),\n",
    "    index=(\"Column {}\".format(i) for i in range(n_column)),\n",
    ")\n",
    "\n",
    "data_binary = pd.DataFrame(\n",
    "    np.random.randint(0, 2, size=(n_row, n_column)),\n",
    "    index=(\"Binary {}\".format(i) for i in range(n_row)),\n",
    "    columns=target.index,\n",
    ")\n",
    "\n",
    "data_categorical = pd.DataFrame(\n",
    "    np.random.randint(0, 3, size=(n_row, n_column)),\n",
    "    index=(\"Categorical {}\".format(i) for i in range(n_row)),\n",
    "    columns=target.index,\n",
    ")\n",
    "\n",
    "data_continuous = pd.DataFrame(\n",
    "    np.random.normal(size=(n_row, n_column)),\n",
    "    index=(\"Continuous {}\".format(i) for i in range(n_row)),\n",
    "    columns=target.index,\n",
    ")\n",
    "\n",
    "data_binary.iloc[:, 0] = np.nan\n",
    "\n",
    "data_categorical.iloc[:, 1] = np.nan\n",
    "\n",
    "data_continuous.iloc[:, 2] = np.nan\n",
    "\n",
    "data_binary.drop(target.index[-1], axis=1, inplace=True)\n",
    "\n",
    "data_categorical.drop(target.index[-2], axis=1, inplace=True)\n",
    "\n",
    "data_continuous.drop(target.index[-3], axis=1, inplace=True)\n",
    "\n",
    "data_dicts = {\n",
    "    \"Binary\": {\"dataframe\": data_binary, \"type\": \"binary\"},\n",
    "    \"Categorical\": {\"dataframe\": data_categorical, \"type\": \"categorical\"},\n",
    "    \"Continuous\": {\"dataframe\": data_continuous, \"type\": \"continuous\"},\n",
    "}\n",
    "\n",
    "score_moe_p_value_fdr = kraft.make_match_panel(\n",
    "    target,\n",
    "    pd.concat((data_dict[\"dataframe\"] for data_dict in data_dicts.values())),\n",
    "    plot=False,\n",
    ")\n",
    "\n",
    "score_moe_p_value_fdr_dicts = {\n",
    "    data_name: score_moe_p_value_fdr for data_name in data_dicts.keys()\n",
    "}\n",
    "\n",
    "for plot_only_shared_by_target_and_all_data in (False, True):\n",
    "\n",
    "    kraft.make_match_panel_summary(\n",
    "        target,\n",
    "        data_dicts,\n",
    "        score_moe_p_value_fdr_dicts,\n",
    "        plot_only_shared_by_target_and_all_data=plot_only_shared_by_target_and_all_data,\n",
    "    )"
   ]
  }
 ],
 "metadata": {
  "@webio": {
   "lastCommId": null,
   "lastKernelId": null
  },
  "kernelspec": {
   "display_name": "Python 3",
   "language": "python",
   "name": "python3"
  },
  "language_info": {
   "codemirror_mode": {
    "name": "ipython",
    "version": 3
   },
   "file_extension": ".py",
   "mimetype": "text/x-python",
   "name": "python",
   "nbconvert_exporter": "python",
   "pygments_lexer": "ipython3",
   "version": "3.7.3"
  }
 },
 "nbformat": 4,
 "nbformat_minor": 4
}
