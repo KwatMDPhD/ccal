{
 "cells": [
  {
   "cell_type": "code",
   "execution_count": null,
   "metadata": {
    "ExecuteTime": {
     "end_time": "2018-05-15T10:46:32.980916Z",
     "start_time": "2018-05-15T10:46:32.921267Z"
    }
   },
   "outputs": [],
   "source": [
    "%load_ext autoreload\n",
    "%autoreload 2"
   ]
  },
  {
   "cell_type": "code",
   "execution_count": null,
   "metadata": {},
   "outputs": [],
   "source": [
    "import os\n",
    "import sys\n",
    "\n",
    "import numpy as np\n",
    "import pandas as pd\n",
    "import plotly as pl"
   ]
  },
  {
   "cell_type": "code",
   "execution_count": null,
   "metadata": {},
   "outputs": [],
   "source": [
    "sys.path.insert(0, \"..\")\n",
    "\n",
    "np.random.random(20121020)\n",
    "\n",
    "pl.offline.init_notebook_mode(connected=True)"
   ]
  },
  {
   "cell_type": "code",
   "execution_count": null,
   "metadata": {
    "ExecuteTime": {
     "end_time": "2018-05-15T10:46:36.617163Z",
     "start_time": "2018-05-15T10:46:33.667703Z"
    }
   },
   "outputs": [],
   "source": [
    "from match.make_match_panel import make_match_panel"
   ]
  },
  {
   "cell_type": "code",
   "execution_count": null,
   "metadata": {},
   "outputs": [],
   "source": [
    "_2d_array = np.asarray(((0, np.nan), (0, np.nan)))\n",
    "\n",
    "features = pd.DataFrame(\n",
    "    _2d_array,\n",
    "    index=(\"Index {}\".format(i) for i in range(_2d_array.shape[0])),\n",
    "    columns=(\"Column {}\".format(i) for i in range(_2d_array.shape[1])),\n",
    ")\n",
    "\n",
    "target = pd.Series(\n",
    "    np.random.normal(loc=0, scale=1, size=features.columns.size), index=features.columns\n",
    ")\n",
    "\n",
    "score_moe_p_value_fdr = make_match_panel(\n",
    "    target, features, n_sampling=1, n_permutation=1\n",
    ")\n",
    "\n",
    "score_moe_p_value_fdr"
   ]
  },
  {
   "cell_type": "code",
   "execution_count": null,
   "metadata": {},
   "outputs": [],
   "source": [
    "n_index = 8\n",
    "\n",
    "n_column = 64\n",
    "\n",
    "features = pd.DataFrame(\n",
    "    np.random.random_sample(size=(n_index, n_column)),\n",
    "    index=(\"Index {}\".format(i) for i in range(n_index)),\n",
    "    columns=(\"Column {}\".format(i) for i in range(n_column)),\n",
    ")\n",
    "\n",
    "target = pd.Series(\n",
    "    np.random.normal(loc=0, scale=1, size=n_column),\n",
    "    name=\"TARGET\",\n",
    "    index=features.columns,\n",
    ")\n",
    "\n",
    "score_moe_p_value_fdr = make_match_panel(\n",
    "    target, features, n_sampling=2, n_permutation=1\n",
    ")\n",
    "\n",
    "score_moe_p_value_fdr"
   ]
  },
  {
   "cell_type": "code",
   "execution_count": null,
   "metadata": {},
   "outputs": [],
   "source": [
    "for plot_only_sign in (\"-\", \"+\"):\n",
    "\n",
    "    score_moe_p_value_fdr = make_match_panel(\n",
    "        target, features, n_sampling=2, n_permutation=1, plot_only_sign=plot_only_sign\n",
    "    )"
   ]
  },
  {
   "cell_type": "code",
   "execution_count": null,
   "metadata": {
    "ExecuteTime": {
     "end_time": "2018-05-15T10:46:36.617163Z",
     "start_time": "2018-05-15T10:46:33.667703Z"
    }
   },
   "outputs": [],
   "source": [
    "for n_index, n_column in (\n",
    "    (8, 2),\n",
    "    (8, 4),\n",
    "    (8, 16),\n",
    "    (8, 32),\n",
    "    (8, 160),\n",
    "    (8, 320),\n",
    "    (8, 1600),\n",
    "    (8, 3200),\n",
    "    (1, 8),\n",
    "    (2, 8),\n",
    "    (4, 8),\n",
    "    (16, 8),\n",
    "    (32, 8),\n",
    "    (64, 8),\n",
    "    (128, 8),\n",
    "    (320, 8),\n",
    "    (640, 8),\n",
    "):\n",
    "\n",
    "    target = pd.Series(\n",
    "        np.random.random_sample(size=n_column),\n",
    "        index=(\"Column {}\".format(i) for i in range(n_column)),\n",
    "    )\n",
    "\n",
    "    features = pd.DataFrame(\n",
    "        np.random.random_sample(size=(n_index, n_column)),\n",
    "        index=(\"Index {}\".format(i) for i in range(n_index)),\n",
    "        columns=(\"Column {}\".format(i) for i in range(n_column)),\n",
    "    )\n",
    "\n",
    "    score_moe_p_value_fdr = pd.DataFrame(\n",
    "        np.random.random_sample(size=(features.shape[0], 4)),\n",
    "        index=(\"Index {}\".format(i) for i in range(n_index)),\n",
    "        columns=(\"Score\", \"0.95 MoE\", \"P-Value\", \"FDR\"),\n",
    "    )\n",
    "\n",
    "    score_moe_p_value_fdr = make_match_panel(\n",
    "        target,\n",
    "        features,\n",
    "        score_moe_p_value_fdr=score_moe_p_value_fdr,\n",
    "        extreme_feature_threshold=None,\n",
    "        title=\"{}-x-{} Match Panel\".format(n_index, n_column),\n",
    "    )"
   ]
  },
  {
   "cell_type": "code",
   "execution_count": null,
   "metadata": {},
   "outputs": [],
   "source": [
    "target = [0, 2]\n",
    "\n",
    "target = pd.Series(target, index=(\"Sample {}\".format(i) for i in range(len(target))))\n",
    "\n",
    "n_row = 8\n",
    "\n",
    "features = pd.DataFrame(\n",
    "    np.random.random_sample(size=(n_row, target.size)),\n",
    "    index=(\"Index {}\".format(i) for i in range(n_row)),\n",
    "    columns=target.index,\n",
    ")\n",
    "\n",
    "for random_seed in range(3):\n",
    "\n",
    "    score_moe_p_value_fdr = make_match_panel(\n",
    "        target,\n",
    "        features,\n",
    "        n_sampling=1,\n",
    "        n_permutation=1,\n",
    "        random_seed=random_seed,\n",
    "        target_type=\"binary\",\n",
    "    )"
   ]
  },
  {
   "cell_type": "code",
   "execution_count": null,
   "metadata": {},
   "outputs": [],
   "source": [
    "target = [0, 2, 8, 0]\n",
    "\n",
    "target = pd.Series(target, index=(\"Sample {}\".format(i) for i in range(len(target))))\n",
    "\n",
    "n_row = 8\n",
    "\n",
    "features = pd.DataFrame(\n",
    "    np.random.random_sample(size=(n_row, target.size)),\n",
    "    index=(\"Index {}\".format(i) for i in range(n_row)),\n",
    "    columns=target.index,\n",
    ")\n",
    "\n",
    "score_moe_p_value_fdr = make_match_panel(\n",
    "    target,\n",
    "    features,\n",
    "    n_sampling=2,\n",
    "    n_permutation=1,\n",
    "    target_ascending=None,\n",
    "    target_type=\"categorical\",\n",
    ")\n",
    "\n",
    "score_moe_p_value_fdr"
   ]
  },
  {
   "cell_type": "code",
   "execution_count": null,
   "metadata": {
    "ExecuteTime": {
     "end_time": "2018-05-15T10:47:59.764349Z",
     "start_time": "2018-05-15T10:46:36.621876Z"
    }
   },
   "outputs": [],
   "source": [
    "target = pd.read_table(\"target_0.tsv\", index_col=0, squeeze=True)\n",
    "\n",
    "features = pd.read_table(\"features_0.tsv\", index_col=0)\n",
    "\n",
    "score_moe_p_value_fdr = make_match_panel(\n",
    "    target, features, n_sampling=2, n_permutation=1, target_type=\"binary\"\n",
    ")\n",
    "\n",
    "score_moe_p_value_fdr"
   ]
  },
  {
   "cell_type": "code",
   "execution_count": null,
   "metadata": {},
   "outputs": [],
   "source": [
    "score_moe_p_value_fdr = make_match_panel(\n",
    "    features.iloc[0], features.iloc[:1], n_sampling=2, n_permutation=1, plot_std=3\n",
    ")\n",
    "\n",
    "score_moe_p_value_fdr"
   ]
  },
  {
   "cell_type": "code",
   "execution_count": null,
   "metadata": {},
   "outputs": [],
   "source": [
    "score_moe_p_value_fdr = make_match_panel(\n",
    "    features.iloc[0], features.iloc[:2], n_sampling=2, n_permutation=1, plot_std=3\n",
    ")\n",
    "\n",
    "score_moe_p_value_fdr"
   ]
  },
  {
   "cell_type": "code",
   "execution_count": null,
   "metadata": {
    "ExecuteTime": {
     "end_time": "2018-05-15T10:48:04.273823Z",
     "start_time": "2018-05-15T10:47:59.781185Z"
    }
   },
   "outputs": [],
   "source": [
    "n_index = 24\n",
    "\n",
    "n_column = 16\n",
    "\n",
    "features = pd.DataFrame(\n",
    "    np.random.random_sample(size=(n_index, n_column)),\n",
    "    index=(\"Index {}\".format(i) for i in range(n_index)),\n",
    "    columns=(\"Column {}\".format(i) for i in range(n_column)),\n",
    ")\n",
    "\n",
    "features.iloc[:2, -2:] = np.nan\n",
    "\n",
    "for target in (\n",
    "    pd.Series((\"Aa\",) * 4 + (\"Bb\",) * 4 + (\"Cc\",) * 4 + (\"Aa\",) * 4),\n",
    "    pd.Series((0,) * 8 + (2,) * 8),\n",
    "    pd.Series((0,) * 1 + (1,) * 2 + (2,) * 13),\n",
    "    pd.Series((0,) * 2 + (1,) * 2 + (3,) * 12),\n",
    "):\n",
    "\n",
    "    target.index = (\"Column {}\".format(i) for i in range(n_column))\n",
    "\n",
    "    score_moe_p_value_fdr = make_match_panel(\n",
    "        target,\n",
    "        features,\n",
    "        target_ascending=None,\n",
    "        n_sampling=2,\n",
    "        n_permutation=1,\n",
    "        score_ascending=True,\n",
    "        target_type=\"categorical\",\n",
    "    )\n",
    "\n",
    "    print(score_moe_p_value_fdr)"
   ]
  },
  {
   "cell_type": "code",
   "execution_count": null,
   "metadata": {
    "ExecuteTime": {
     "end_time": "2018-05-15T10:48:05.570577Z",
     "start_time": "2018-05-15T10:48:04.281086Z"
    }
   },
   "outputs": [],
   "source": [
    "n_index = 8\n",
    "\n",
    "n_column = 16\n",
    "\n",
    "target = pd.Series(\n",
    "    np.random.random_sample(size=n_column + 1),\n",
    "    index=(\"Column {}\".format(i) for i in range(n_column + 1)),\n",
    ")\n",
    "\n",
    "features = pd.DataFrame(\n",
    "    np.random.random_sample(size=(n_index, n_column)),\n",
    "    index=(\"ABCDEFGHIJKLMNOPQRSTUVWXYZ {}\".format(i) for i in range(n_index)),\n",
    "    columns=(\"Column {}\".format(i) for i in range(n_column)),\n",
    ")\n",
    "\n",
    "features.iloc[0] = 0\n",
    "\n",
    "features.loc[\n",
    "    np.random.choice(features.index, size=features.index.size // 8 * 7, replace=False),\n",
    "    np.random.choice(\n",
    "        features.columns, size=features.columns.size // 8 * 7, replace=False\n",
    "    ),\n",
    "] = np.nan\n",
    "\n",
    "score_moe_p_value_fdr = make_match_panel(\n",
    "    target, features, n_sampling=2, n_permutation=1\n",
    ")\n",
    "\n",
    "score_moe_p_value_fdr"
   ]
  },
  {
   "cell_type": "code",
   "execution_count": null,
   "metadata": {
    "ExecuteTime": {
     "end_time": "2018-05-15T10:48:08.065933Z",
     "start_time": "2018-05-15T10:48:05.590942Z"
    }
   },
   "outputs": [],
   "source": [
    "n_index = 8\n",
    "\n",
    "n_column = 64\n",
    "\n",
    "target = pd.Series(\n",
    "    np.random.random_sample(size=n_column),\n",
    "    index=(\"Column {}\".format(i) for i in range(n_column)),\n",
    ")"
   ]
  },
  {
   "cell_type": "code",
   "execution_count": null,
   "metadata": {
    "ExecuteTime": {
     "end_time": "2018-05-15T10:48:08.065933Z",
     "start_time": "2018-05-15T10:48:05.590942Z"
    }
   },
   "outputs": [],
   "source": [
    "features = pd.DataFrame(\n",
    "    np.random.random_sample(size=(n_index, n_column)),\n",
    "    index=(\"Index {}\".format(i) for i in range(n_index)),\n",
    "    columns=(\"Column {}\".format(i) for i in range(n_column)),\n",
    ")\n",
    "\n",
    "score_moe_p_value_fdr = make_match_panel(target, features)\n",
    "\n",
    "score_moe_p_value_fdr"
   ]
  },
  {
   "cell_type": "code",
   "execution_count": null,
   "metadata": {
    "ExecuteTime": {
     "end_time": "2018-05-15T10:48:08.065933Z",
     "start_time": "2018-05-15T10:48:05.590942Z"
    }
   },
   "outputs": [],
   "source": [
    "features = pd.DataFrame(\n",
    "    np.random.random_integers(0, 8, size=(n_index, n_column)),\n",
    "    index=(\"Index {}\".format(i) for i in range(n_index)),\n",
    "    columns=(\"Column {}\".format(i) for i in range(n_column)),\n",
    ")\n",
    "\n",
    "score_moe_p_value_fdr = make_match_panel(target, features, features_type=\"categorical\")\n",
    "\n",
    "score_moe_p_value_fdr"
   ]
  },
  {
   "cell_type": "code",
   "execution_count": null,
   "metadata": {
    "ExecuteTime": {
     "end_time": "2018-05-15T10:48:08.065933Z",
     "start_time": "2018-05-15T10:48:05.590942Z"
    }
   },
   "outputs": [],
   "source": [
    "features = pd.DataFrame(\n",
    "    np.random.random_integers(0, 1, size=(n_index, n_column)),\n",
    "    index=(\"Index {}\".format(i) for i in range(n_index)),\n",
    "    columns=(\"Column {}\".format(i) for i in range(n_column)),\n",
    ")\n",
    "\n",
    "score_moe_p_value_fdr = make_match_panel(target, features, features_type=\"binary\")\n",
    "\n",
    "score_moe_p_value_fdr"
   ]
  },
  {
   "cell_type": "code",
   "execution_count": null,
   "metadata": {
    "ExecuteTime": {
     "end_time": "2018-05-15T10:48:15.310369Z",
     "start_time": "2018-05-15T10:48:08.080994Z"
    }
   },
   "outputs": [],
   "source": [
    "from match.make_summary_match_panel import make_summary_match_panel"
   ]
  },
  {
   "cell_type": "code",
   "execution_count": null,
   "metadata": {
    "ExecuteTime": {
     "end_time": "2018-05-15T10:48:15.310369Z",
     "start_time": "2018-05-15T10:48:08.080994Z"
    }
   },
   "outputs": [],
   "source": [
    "n_index = 4\n",
    "\n",
    "n_column = 8\n",
    "\n",
    "target = pd.Series(\n",
    "    np.random.random_sample(size=n_column),\n",
    "    name=\"TARGET\",\n",
    "    index=(\"Column {}\".format(i) for i in range(n_column)),\n",
    ")\n",
    "\n",
    "features_continuous = pd.DataFrame(\n",
    "    np.random.random_sample(size=(n_index, n_column)),\n",
    "    index=(\"Continuous {}\".format(i) for i in range(n_index)),\n",
    "    columns=target.index,\n",
    ")\n",
    "\n",
    "features_categorical = pd.DataFrame(\n",
    "    np.random.randint(0, 10, size=(n_index, n_column)),\n",
    "    index=(\"Categorical {}\".format(i) for i in range(n_index)),\n",
    "    columns=target.index,\n",
    ")\n",
    "\n",
    "features_binary = pd.DataFrame(\n",
    "    np.random.randint(0, 2, size=(n_index, n_column)),\n",
    "    index=(\"Binary {}\".format(i) for i in range(n_index)),\n",
    "    columns=target.index,\n",
    ")\n",
    "\n",
    "# features_continuous.iloc[:, 0] = np.nan\n",
    "\n",
    "# features_categorical.iloc[:, 1] = np.nan\n",
    "\n",
    "# features_binary.iloc[:, 2] = np.nan\n",
    "\n",
    "features_continuous.drop(target.index[-1], axis=1, inplace=True)\n",
    "\n",
    "features_categorical.drop(target.index[-2], axis=1, inplace=True)\n",
    "\n",
    "features_binary.drop(target.index[-5:-3], axis=1, inplace=True)"
   ]
  },
  {
   "cell_type": "code",
   "execution_count": null,
   "metadata": {
    "ExecuteTime": {
     "end_time": "2018-05-15T10:48:15.310369Z",
     "start_time": "2018-05-15T10:48:08.080994Z"
    }
   },
   "outputs": [],
   "source": [
    "data_dicts = {\n",
    "    \"Continuous\": {\n",
    "        \"df\": features_continuous,\n",
    "        \"data_type\": \"continuous\",\n",
    "        \"emphasis\": \"low\",\n",
    "    },\n",
    "    \"Categorical\": {\n",
    "        \"df\": features_categorical,\n",
    "        \"data_type\": \"categorical\",\n",
    "        \"emphasis\": \"high\",\n",
    "    },\n",
    "    \"Binary\": {\"df\": features_binary, \"data_type\": \"binary\", \"emphasis\": \"low\"},\n",
    "}"
   ]
  },
  {
   "cell_type": "code",
   "execution_count": null,
   "metadata": {
    "ExecuteTime": {
     "end_time": "2018-05-15T10:48:15.310369Z",
     "start_time": "2018-05-15T10:48:08.080994Z"
    }
   },
   "outputs": [],
   "source": [
    "score_moe_p_value_fdr = make_match_panel(\n",
    "    target,\n",
    "    pd.concat((data_dict[\"df\"] for data_dict in data_dicts.values())),\n",
    "    n_sampling=1,\n",
    "    n_permutation=1,\n",
    "    plot_std=3,\n",
    ")\n",
    "\n",
    "score_moe_p_value_fdr"
   ]
  },
  {
   "cell_type": "code",
   "execution_count": null,
   "metadata": {
    "ExecuteTime": {
     "end_time": "2018-05-15T10:48:15.310369Z",
     "start_time": "2018-05-15T10:48:08.080994Z"
    }
   },
   "outputs": [],
   "source": [
    "make_summary_match_panel(target, data_dicts, score_moe_p_value_fdr)"
   ]
  },
  {
   "cell_type": "code",
   "execution_count": null,
   "metadata": {
    "ExecuteTime": {
     "end_time": "2018-05-15T10:48:15.310369Z",
     "start_time": "2018-05-15T10:48:08.080994Z"
    }
   },
   "outputs": [],
   "source": [
    "make_summary_match_panel(\n",
    "    target,\n",
    "    data_dicts,\n",
    "    score_moe_p_value_fdr,\n",
    "    plot_only_columns_shared_by_target_and_all_features=True,\n",
    ")"
   ]
  },
  {
   "cell_type": "code",
   "execution_count": null,
   "metadata": {},
   "outputs": [],
   "source": [
    "features_na = pd.DataFrame(\n",
    "    np.nan, index=features_continuous.index, columns=features_continuous.columns\n",
    ")\n",
    "\n",
    "make_summary_match_panel(\n",
    "    target,\n",
    "    {\"NA\": {\"df\": features_na, \"data_type\": \"continuous\", \"emphasis\": \"high\"}},\n",
    "    score_moe_p_value_fdr,\n",
    ")"
   ]
  },
  {
   "cell_type": "code",
   "execution_count": null,
   "metadata": {},
   "outputs": [],
   "source": [
    "from match.make_comparison_panel import make_comparison_panel"
   ]
  },
  {
   "cell_type": "code",
   "execution_count": null,
   "metadata": {},
   "outputs": [],
   "source": [
    "_2d_array_0 = np.random.random_sample(size=(8, 2))\n",
    "\n",
    "_2d_array_1 = np.random.random_sample(size=(8, 4))\n",
    "\n",
    "comparison = make_comparison_panel(\n",
    "    _2d_array_0, _2d_array_1, name_0=\"2D Array 0\", name_1=\"2D Array 1\"\n",
    ")\n",
    "\n",
    "comparison"
   ]
  },
  {
   "cell_type": "code",
   "execution_count": null,
   "metadata": {},
   "outputs": [],
   "source": [
    "n_column = 16\n",
    "\n",
    "df_0 = pd.DataFrame(\n",
    "    np.random.random_sample(size=(2, n_column)),\n",
    "    index=(\"DF 0 Index {}\".format(i) for i in range(2)),\n",
    "    columns=(\"DF 0 Column {}\".format(i) for i in range(n_column)),\n",
    ")\n",
    "\n",
    "df_1 = pd.DataFrame(\n",
    "    np.random.random_sample(size=(8, n_column)),\n",
    "    index=(\"DF 1 Index {}\".format(i) for i in range(8)),\n",
    "    columns=(\"DF 1 Column {}\".format(i) for i in range(n_column)),\n",
    ")\n",
    "\n",
    "comparison = make_comparison_panel(df_0, df_1, axis=1, name_0=\"DF 0\", name_1=\"DF 1\")\n",
    "\n",
    "comparison"
   ]
  }
 ],
 "metadata": {
  "kernelspec": {
   "display_name": "Python 3",
   "language": "python",
   "name": "python3"
  },
  "language_info": {
   "codemirror_mode": {
    "name": "ipython",
    "version": 3
   },
   "file_extension": ".py",
   "mimetype": "text/x-python",
   "name": "python",
   "nbconvert_exporter": "python",
   "pygments_lexer": "ipython3",
   "version": "3.6.7"
  }
 },
 "nbformat": 4,
 "nbformat_minor": 2
}
