{
 "cells": [
  {
   "cell_type": "code",
   "execution_count": null,
   "metadata": {
    "ExecuteTime": {
     "end_time": "2018-05-15T10:46:32.980916Z",
     "start_time": "2018-05-15T10:46:32.921267Z"
    }
   },
   "outputs": [],
   "source": [
    "%load_ext autoreload\n",
    "%autoreload 2"
   ]
  },
  {
   "cell_type": "code",
   "execution_count": null,
   "metadata": {},
   "outputs": [],
   "source": [
    "import os\n",
    "import sys\n",
    "\n",
    "import numpy as np\n",
    "import pandas as pd\n",
    "import plotly as pl"
   ]
  },
  {
   "cell_type": "code",
   "execution_count": null,
   "metadata": {},
   "outputs": [],
   "source": [
    "sys.path.insert(0, \"..\")\n",
    "\n",
    "import ccal\n",
    "\n",
    "np.random.random(20121020)\n",
    "\n",
    "pl.offline.init_notebook_mode(connected=True)"
   ]
  },
  {
   "cell_type": "code",
   "execution_count": null,
   "metadata": {},
   "outputs": [],
   "source": [
    "_2d_array = np.asarray(((0, np.nan), (0, np.nan)))\n",
    "\n",
    "data = pd.DataFrame(\n",
    "    _2d_array,\n",
    "    index=(\"Index {}\".format(i) for i in range(_2d_array.shape[0])),\n",
    "    columns=(\"Column {}\".format(i) for i in range(_2d_array.shape[1])),\n",
    ")\n",
    "\n",
    "target = pd.Series(\n",
    "    np.random.normal(loc=0, scale=1, size=data.columns.size), index=data.columns\n",
    ")\n",
    "\n",
    "score_moe_p_value_fdr = ccal.make_match_panel(\n",
    "    target, data, n_sampling=1, n_permutation=1\n",
    ")\n",
    "\n",
    "score_moe_p_value_fdr"
   ]
  },
  {
   "cell_type": "code",
   "execution_count": null,
   "metadata": {},
   "outputs": [],
   "source": [
    "n_index = 8\n",
    "\n",
    "n_column = 64\n",
    "\n",
    "data = pd.DataFrame(\n",
    "    np.random.random_sample(size=(n_index, n_column)),\n",
    "    index=(\"Index {}\".format(i) for i in range(n_index)),\n",
    "    columns=(\"Column {}\".format(i) for i in range(n_column)),\n",
    ")\n",
    "\n",
    "target = pd.Series(\n",
    "    np.random.normal(loc=0, scale=1, size=n_column), name=\"TARGET\", index=data.columns\n",
    ")\n",
    "\n",
    "score_moe_p_value_fdr = ccal.make_match_panel(\n",
    "    target, data, n_sampling=2, n_permutation=1\n",
    ")\n",
    "\n",
    "score_moe_p_value_fdr"
   ]
  },
  {
   "cell_type": "code",
   "execution_count": null,
   "metadata": {},
   "outputs": [],
   "source": [
    "for plot_only_sign in (\"-\", \"+\"):\n",
    "\n",
    "    score_moe_p_value_fdr = ccal.make_match_panel(\n",
    "        target, data, n_sampling=2, n_permutation=1, plot_only_sign=plot_only_sign\n",
    "    )"
   ]
  },
  {
   "cell_type": "code",
   "execution_count": null,
   "metadata": {
    "ExecuteTime": {
     "end_time": "2018-05-15T10:46:36.617163Z",
     "start_time": "2018-05-15T10:46:33.667703Z"
    }
   },
   "outputs": [],
   "source": [
    "for n_index, n_column in (\n",
    "    (8, 2),\n",
    "    (8, 4),\n",
    "    (8, 16),\n",
    "    (8, 32),\n",
    "    (8, 160),\n",
    "    (8, 320),\n",
    "    (8, 1600),\n",
    "    (8, 3200),\n",
    "    (1, 8),\n",
    "    (2, 8),\n",
    "    (4, 8),\n",
    "    (16, 8),\n",
    "    (32, 8),\n",
    "    (64, 8),\n",
    "    (128, 8),\n",
    "    (320, 8),\n",
    "    (640, 8),\n",
    "):\n",
    "\n",
    "    target = pd.Series(\n",
    "        np.random.random_sample(size=n_column),\n",
    "        index=(\"Column {}\".format(i) for i in range(n_column)),\n",
    "    )\n",
    "\n",
    "    data = pd.DataFrame(\n",
    "        np.random.random_sample(size=(n_index, n_column)),\n",
    "        index=(\"Index {}\".format(i) for i in range(n_index)),\n",
    "        columns=(\"Column {}\".format(i) for i in range(n_column)),\n",
    "    )\n",
    "\n",
    "    score_moe_p_value_fdr = pd.DataFrame(\n",
    "        np.random.random_sample(size=(data.shape[0], 4)),\n",
    "        index=(\"Index {}\".format(i) for i in range(n_index)),\n",
    "        columns=(\"Score\", \"0.95 MoE\", \"P-Value\", \"FDR\"),\n",
    "    )\n",
    "\n",
    "    score_moe_p_value_fdr = ccal.make_match_panel(\n",
    "        target,\n",
    "        data,\n",
    "        score_moe_p_value_fdr=score_moe_p_value_fdr,\n",
    "        n_extreme=None,\n",
    "        title=\"{}-x-{} Match Panel\".format(n_index, n_column),\n",
    "    )"
   ]
  },
  {
   "cell_type": "code",
   "execution_count": null,
   "metadata": {},
   "outputs": [],
   "source": [
    "target = [0, 2]\n",
    "\n",
    "target = pd.Series(target, index=(\"Sample {}\".format(i) for i in range(len(target))))\n",
    "\n",
    "n_row = 8\n",
    "\n",
    "data = pd.DataFrame(\n",
    "    np.random.random_sample(size=(n_row, target.size)),\n",
    "    index=(\"Index {}\".format(i) for i in range(n_row)),\n",
    "    columns=target.index,\n",
    ")\n",
    "\n",
    "for random_seed in range(3):\n",
    "\n",
    "    score_moe_p_value_fdr = ccal.make_match_panel(\n",
    "        target,\n",
    "        data,\n",
    "        n_sampling=1,\n",
    "        n_permutation=1,\n",
    "        random_seed=random_seed,\n",
    "        target_type=\"binary\",\n",
    "    )"
   ]
  },
  {
   "cell_type": "code",
   "execution_count": null,
   "metadata": {},
   "outputs": [],
   "source": [
    "target = [0, 2, 8, 0]\n",
    "\n",
    "target = pd.Series(target, index=(\"Sample {}\".format(i) for i in range(len(target))))\n",
    "\n",
    "n_row = 8\n",
    "\n",
    "data = pd.DataFrame(\n",
    "    np.random.random_sample(size=(n_row, target.size)),\n",
    "    index=(\"Index {}\".format(i) for i in range(n_row)),\n",
    "    columns=target.index,\n",
    ")\n",
    "\n",
    "score_moe_p_value_fdr = ccal.make_match_panel(\n",
    "    target,\n",
    "    data,\n",
    "    n_sampling=2,\n",
    "    n_permutation=1,\n",
    "    target_ascending=None,\n",
    "    target_type=\"categorical\",\n",
    ")\n",
    "\n",
    "score_moe_p_value_fdr"
   ]
  },
  {
   "cell_type": "code",
   "execution_count": null,
   "metadata": {
    "ExecuteTime": {
     "end_time": "2018-05-15T10:47:59.764349Z",
     "start_time": "2018-05-15T10:46:36.621876Z"
    }
   },
   "outputs": [],
   "source": [
    "target = pd.read_table(\"target_0.tsv\", index_col=0, squeeze=True)\n",
    "\n",
    "data = pd.read_table(\"data_0.tsv\", index_col=0)\n",
    "\n",
    "score_moe_p_value_fdr = ccal.make_match_panel(\n",
    "    target, data, n_sampling=2, n_permutation=1, target_type=\"binary\"\n",
    ")\n",
    "\n",
    "score_moe_p_value_fdr"
   ]
  },
  {
   "cell_type": "code",
   "execution_count": null,
   "metadata": {},
   "outputs": [],
   "source": [
    "score_moe_p_value_fdr = ccal.make_match_panel(\n",
    "    data.iloc[0], data.iloc[:1], n_sampling=2, n_permutation=1, plot_std=3\n",
    ")\n",
    "\n",
    "score_moe_p_value_fdr"
   ]
  },
  {
   "cell_type": "code",
   "execution_count": null,
   "metadata": {},
   "outputs": [],
   "source": [
    "score_moe_p_value_fdr = ccal.make_match_panel(\n",
    "    data.iloc[0], data.iloc[:2], n_sampling=2, n_permutation=1, plot_std=3\n",
    ")\n",
    "\n",
    "score_moe_p_value_fdr"
   ]
  },
  {
   "cell_type": "code",
   "execution_count": null,
   "metadata": {
    "ExecuteTime": {
     "end_time": "2018-05-15T10:48:04.273823Z",
     "start_time": "2018-05-15T10:47:59.781185Z"
    }
   },
   "outputs": [],
   "source": [
    "n_index = 24\n",
    "\n",
    "n_column = 16\n",
    "\n",
    "data = pd.DataFrame(\n",
    "    np.random.random_sample(size=(n_index, n_column)),\n",
    "    index=(\"Index {}\".format(i) for i in range(n_index)),\n",
    "    columns=(\"Column {}\".format(i) for i in range(n_column)),\n",
    ")\n",
    "\n",
    "data.iloc[:2, -2:] = np.nan\n",
    "\n",
    "for target in (\n",
    "    pd.Series((\"Aa\",) * 4 + (\"Bb\",) * 4 + (\"Cc\",) * 4 + (\"Aa\",) * 4),\n",
    "    pd.Series((0,) * 8 + (2,) * 8),\n",
    "    pd.Series((0,) * 1 + (1,) * 2 + (2,) * 13),\n",
    "    pd.Series((0,) * 2 + (1,) * 2 + (3,) * 12),\n",
    "):\n",
    "\n",
    "    target.index = (\"Column {}\".format(i) for i in range(n_column))\n",
    "\n",
    "    score_moe_p_value_fdr = ccal.make_match_panel(\n",
    "        target,\n",
    "        data,\n",
    "        target_ascending=None,\n",
    "        n_sampling=2,\n",
    "        n_permutation=1,\n",
    "        score_ascending=True,\n",
    "        target_type=\"categorical\",\n",
    "    )\n",
    "\n",
    "    print(score_moe_p_value_fdr)"
   ]
  },
  {
   "cell_type": "code",
   "execution_count": null,
   "metadata": {
    "ExecuteTime": {
     "end_time": "2018-05-15T10:48:05.570577Z",
     "start_time": "2018-05-15T10:48:04.281086Z"
    }
   },
   "outputs": [],
   "source": [
    "n_index = 8\n",
    "\n",
    "n_column = 16\n",
    "\n",
    "target = pd.Series(\n",
    "    np.random.random_sample(size=n_column + 1),\n",
    "    index=(\"Column {}\".format(i) for i in range(n_column + 1)),\n",
    ")\n",
    "\n",
    "data = pd.DataFrame(\n",
    "    np.random.random_sample(size=(n_index, n_column)),\n",
    "    index=(\"ABCDEFGHIJKLMNOPQRSTUVWXYZ {}\".format(i) for i in range(n_index)),\n",
    "    columns=(\"Column {}\".format(i) for i in range(n_column)),\n",
    ")\n",
    "\n",
    "data.iloc[0] = 0\n",
    "\n",
    "data.loc[\n",
    "    np.random.choice(data.index, size=data.index.size // 8 * 7, replace=False),\n",
    "    np.random.choice(data.columns, size=data.columns.size // 8 * 7, replace=False),\n",
    "] = np.nan\n",
    "\n",
    "score_moe_p_value_fdr = ccal.make_match_panel(\n",
    "    target, data, n_sampling=2, n_permutation=1\n",
    ")\n",
    "\n",
    "score_moe_p_value_fdr"
   ]
  },
  {
   "cell_type": "code",
   "execution_count": null,
   "metadata": {
    "ExecuteTime": {
     "end_time": "2018-05-15T10:48:08.065933Z",
     "start_time": "2018-05-15T10:48:05.590942Z"
    }
   },
   "outputs": [],
   "source": [
    "n_index = 8\n",
    "\n",
    "n_column = 64\n",
    "\n",
    "target = pd.Series(\n",
    "    np.random.random_sample(size=n_column),\n",
    "    index=(\"Column {}\".format(i) for i in range(n_column)),\n",
    ")"
   ]
  },
  {
   "cell_type": "code",
   "execution_count": null,
   "metadata": {
    "ExecuteTime": {
     "end_time": "2018-05-15T10:48:08.065933Z",
     "start_time": "2018-05-15T10:48:05.590942Z"
    }
   },
   "outputs": [],
   "source": [
    "data = pd.DataFrame(\n",
    "    np.random.random_sample(size=(n_index, n_column)),\n",
    "    index=(\"Index {}\".format(i) for i in range(n_index)),\n",
    "    columns=(\"Column {}\".format(i) for i in range(n_column)),\n",
    ")\n",
    "\n",
    "score_moe_p_value_fdr = ccal.make_match_panel(target, data)\n",
    "\n",
    "score_moe_p_value_fdr"
   ]
  },
  {
   "cell_type": "code",
   "execution_count": null,
   "metadata": {
    "ExecuteTime": {
     "end_time": "2018-05-15T10:48:08.065933Z",
     "start_time": "2018-05-15T10:48:05.590942Z"
    }
   },
   "outputs": [],
   "source": [
    "data = pd.DataFrame(\n",
    "    np.random.random_integers(0, 8, size=(n_index, n_column)),\n",
    "    index=(\"Index {}\".format(i) for i in range(n_index)),\n",
    "    columns=(\"Column {}\".format(i) for i in range(n_column)),\n",
    ")\n",
    "\n",
    "score_moe_p_value_fdr = ccal.make_match_panel(target, data, data_type=\"categorical\")\n",
    "\n",
    "score_moe_p_value_fdr"
   ]
  },
  {
   "cell_type": "code",
   "execution_count": null,
   "metadata": {
    "ExecuteTime": {
     "end_time": "2018-05-15T10:48:08.065933Z",
     "start_time": "2018-05-15T10:48:05.590942Z"
    }
   },
   "outputs": [],
   "source": [
    "data = pd.DataFrame(\n",
    "    np.random.random_integers(0, 1, size=(n_index, n_column)),\n",
    "    index=(\"Index {}\".format(i) for i in range(n_index)),\n",
    "    columns=(\"Column {}\".format(i) for i in range(n_column)),\n",
    ")\n",
    "\n",
    "score_moe_p_value_fdr = ccal.make_match_panel(target, data, data_type=\"binary\")\n",
    "\n",
    "score_moe_p_value_fdr"
   ]
  },
  {
   "cell_type": "code",
   "execution_count": null,
   "metadata": {
    "ExecuteTime": {
     "end_time": "2018-05-15T10:48:15.310369Z",
     "start_time": "2018-05-15T10:48:08.080994Z"
    }
   },
   "outputs": [],
   "source": [
    "n_index = 4\n",
    "\n",
    "n_column = 8\n",
    "\n",
    "target = pd.Series(\n",
    "    np.random.random_sample(size=n_column),\n",
    "    name=\"TARGET\",\n",
    "    index=(\"Column {}\".format(i) for i in range(n_column)),\n",
    ")\n",
    "\n",
    "data_continuous = pd.DataFrame(\n",
    "    np.random.random_sample(size=(n_index, n_column)),\n",
    "    index=(\"Continuous {}\".format(i) for i in range(n_index)),\n",
    "    columns=target.index,\n",
    ")\n",
    "\n",
    "data_categorical = pd.DataFrame(\n",
    "    np.random.randint(0, 10, size=(n_index, n_column)),\n",
    "    index=(\"Categorical {}\".format(i) for i in range(n_index)),\n",
    "    columns=target.index,\n",
    ")\n",
    "\n",
    "data_binary = pd.DataFrame(\n",
    "    np.random.randint(0, 2, size=(n_index, n_column)),\n",
    "    index=(\"Binary {}\".format(i) for i in range(n_index)),\n",
    "    columns=target.index,\n",
    ")\n",
    "\n",
    "# data_continuous.iloc[:, 0] = np.nan\n",
    "\n",
    "# data_categorical.iloc[:, 1] = np.nan\n",
    "\n",
    "# data_binary.iloc[:, 2] = np.nan\n",
    "\n",
    "data_continuous.drop(target.index[-1], axis=1, inplace=True)\n",
    "\n",
    "data_categorical.drop(target.index[-2], axis=1, inplace=True)\n",
    "\n",
    "data_binary.drop(target.index[-5:-3], axis=1, inplace=True)"
   ]
  },
  {
   "cell_type": "code",
   "execution_count": null,
   "metadata": {
    "ExecuteTime": {
     "end_time": "2018-05-15T10:48:15.310369Z",
     "start_time": "2018-05-15T10:48:08.080994Z"
    }
   },
   "outputs": [],
   "source": [
    "data_dicts = {\n",
    "    \"Continuous\": {\"df\": data_continuous, \"type\": \"continuous\"},\n",
    "    \"Categorical\": {\"df\": data_categorical, \"type\": \"categorical\"},\n",
    "    \"Binary\": {\"df\": data_binary, \"type\": \"binary\"},\n",
    "}"
   ]
  },
  {
   "cell_type": "code",
   "execution_count": null,
   "metadata": {
    "ExecuteTime": {
     "end_time": "2018-05-15T10:48:15.310369Z",
     "start_time": "2018-05-15T10:48:08.080994Z"
    }
   },
   "outputs": [],
   "source": [
    "score_moe_p_value_fdr = ccal.make_match_panel(\n",
    "    target,\n",
    "    pd.concat((data_dict[\"df\"] for data_dict in data_dicts.values())),\n",
    "    n_sampling=1,\n",
    "    n_permutation=1,\n",
    "    plot_std=3,\n",
    ")\n",
    "\n",
    "score_moe_p_value_fdr"
   ]
  },
  {
   "cell_type": "code",
   "execution_count": null,
   "metadata": {
    "ExecuteTime": {
     "end_time": "2018-05-15T10:48:15.310369Z",
     "start_time": "2018-05-15T10:48:08.080994Z"
    }
   },
   "outputs": [],
   "source": [
    "ccal.make_summary_match_panel(target, data_dicts, score_moe_p_value_fdr)"
   ]
  },
  {
   "cell_type": "code",
   "execution_count": null,
   "metadata": {
    "ExecuteTime": {
     "end_time": "2018-05-15T10:48:15.310369Z",
     "start_time": "2018-05-15T10:48:08.080994Z"
    }
   },
   "outputs": [],
   "source": [
    "ccal.make_summary_match_panel(\n",
    "    target,\n",
    "    data_dicts,\n",
    "    score_moe_p_value_fdr,\n",
    "    plot_only_columns_shared_by_target_and_all_data=True,\n",
    ")"
   ]
  },
  {
   "cell_type": "code",
   "execution_count": null,
   "metadata": {},
   "outputs": [],
   "source": [
    "data_na = pd.DataFrame(\n",
    "    np.nan, index=data_continuous.index, columns=data_continuous.columns\n",
    ")\n",
    "\n",
    "ccal.make_summary_match_panel(\n",
    "    target, {\"NA\": {\"df\": data_na, \"type\": \"continuous\"}}, score_moe_p_value_fdr\n",
    ")"
   ]
  },
  {
   "cell_type": "code",
   "execution_count": null,
   "metadata": {},
   "outputs": [],
   "source": [
    "_2d_array_0 = np.random.random_sample(size=(8, 2))\n",
    "\n",
    "_2d_array_1 = np.random.random_sample(size=(8, 4))\n",
    "\n",
    "comparison = ccal.make_comparison_panel(\n",
    "    _2d_array_0, _2d_array_1, name_0=\"2D Array 0\", name_1=\"2D Array 1\"\n",
    ")\n",
    "\n",
    "comparison"
   ]
  },
  {
   "cell_type": "code",
   "execution_count": null,
   "metadata": {},
   "outputs": [],
   "source": [
    "n_column = 16\n",
    "\n",
    "df_0 = pd.DataFrame(\n",
    "    np.random.random_sample(size=(2, n_column)),\n",
    "    index=(\"DF 0 Index {}\".format(i) for i in range(2)),\n",
    "    columns=(\"DF 0 Column {}\".format(i) for i in range(n_column)),\n",
    ")\n",
    "\n",
    "df_1 = pd.DataFrame(\n",
    "    np.random.random_sample(size=(8, n_column)),\n",
    "    index=(\"DF 1 Index {}\".format(i) for i in range(8)),\n",
    "    columns=(\"DF 1 Column {}\".format(i) for i in range(n_column)),\n",
    ")\n",
    "\n",
    "comparison = ccal.make_comparison_panel(\n",
    "    df_0, df_1, axis=1, name_0=\"DF 0\", name_1=\"DF 1\"\n",
    ")\n",
    "\n",
    "comparison"
   ]
  }
 ],
 "metadata": {
  "kernelspec": {
   "display_name": "Python 3",
   "language": "python",
   "name": "python3"
  },
  "language_info": {
   "codemirror_mode": {
    "name": "ipython",
    "version": 3
   },
   "file_extension": ".py",
   "mimetype": "text/x-python",
   "name": "python",
   "nbconvert_exporter": "python",
   "pygments_lexer": "ipython3",
   "version": "3.6.7"
  }
 },
 "nbformat": 4,
 "nbformat_minor": 2
}
