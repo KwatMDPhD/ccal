{
 "cells": [
  {
   "cell_type": "code",
   "execution_count": null,
   "metadata": {},
   "outputs": [],
   "source": [
    "%load_ext autoreload\n",
    "%autoreload 2"
   ]
  },
  {
   "cell_type": "code",
   "execution_count": null,
   "metadata": {},
   "outputs": [],
   "source": [
    "import kraft\n",
    "import numpy as np"
   ]
  },
  {
   "cell_type": "code",
   "execution_count": null,
   "metadata": {},
   "outputs": [],
   "source": [
    "pxd_ = [\n",
    "    np.asarray(\n",
    "        [\n",
    "            [0],\n",
    "            [1],\n",
    "            [2],\n",
    "        ]\n",
    "    ),\n",
    "    np.asarray(\n",
    "        [\n",
    "            [\n",
    "                0,\n",
    "                -1,\n",
    "            ],\n",
    "            [\n",
    "                1,\n",
    "                0,\n",
    "            ],\n",
    "            [\n",
    "                2,\n",
    "                4,\n",
    "            ],\n",
    "        ]\n",
    "    ),\n",
    "    np.asarray(\n",
    "        [\n",
    "            [\n",
    "                0,\n",
    "                -1,\n",
    "                8,\n",
    "            ],\n",
    "            [\n",
    "                1,\n",
    "                0,\n",
    "                16,\n",
    "            ],\n",
    "            [\n",
    "                2,\n",
    "                4,\n",
    "                24,\n",
    "            ],\n",
    "        ]\n",
    "    ),\n",
    "]"
   ]
  },
  {
   "cell_type": "markdown",
   "metadata": {},
   "source": [
    "## get_probability"
   ]
  },
  {
   "cell_type": "code",
   "execution_count": null,
   "metadata": {},
   "outputs": [],
   "source": [
    "for pxd in pxd_:\n",
    "\n",
    "    kraft.probability.get_probability(pxd)"
   ]
  },
  {
   "cell_type": "markdown",
   "metadata": {},
   "source": [
    "## get_posterior_probability"
   ]
  },
  {
   "cell_type": "code",
   "execution_count": null,
   "metadata": {},
   "outputs": [],
   "source": [
    "for pxd in pxd_:\n",
    "\n",
    "    kraft.probability.get_posterior_probability(pxd)"
   ]
  },
  {
   "cell_type": "markdown",
   "metadata": {},
   "source": [
    "## plot_nomogram"
   ]
  }
 ],
 "metadata": {
  "kernelspec": {
   "display_name": "Python 3",
   "language": "python",
   "name": "python3"
  },
  "language_info": {
   "codemirror_mode": {
    "name": "ipython",
    "version": 3
   },
   "file_extension": ".py",
   "mimetype": "text/x-python",
   "name": "python",
   "nbconvert_exporter": "python",
   "pygments_lexer": "ipython3",
   "version": "3.8.9"
  }
 },
 "nbformat": 4,
 "nbformat_minor": 4
}
