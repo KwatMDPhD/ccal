{
 "cells": [
  {
   "cell_type": "code",
   "execution_count": null,
   "metadata": {},
   "outputs": [],
   "source": [
    "%load_ext autoreload\n",
    "%autoreload 2"
   ]
  },
  {
   "cell_type": "code",
   "execution_count": null,
   "metadata": {
    "ExecuteTime": {
     "end_time": "2018-05-15T09:23:11.759144Z",
     "start_time": "2018-05-15T09:23:11.722157Z"
    }
   },
   "outputs": [],
   "source": [
    "import os\n",
    "\n",
    "import kraft"
   ]
  },
  {
   "cell_type": "code",
   "execution_count": null,
   "metadata": {
    "ExecuteTime": {
     "end_time": "2018-05-15T09:23:13.816902Z",
     "start_time": "2018-05-15T09:23:11.763272Z"
    }
   },
   "outputs": [],
   "source": [
    "geo_dict = kraft.download_and_parse_geo(\"GSE26375\", \".\")\n",
    "\n",
    "geo_dict.keys()"
   ]
  },
  {
   "cell_type": "code",
   "execution_count": null,
   "metadata": {
    "ExecuteTime": {
     "end_time": "2018-05-15T09:23:14.066745Z",
     "start_time": "2018-05-15T09:23:13.822510Z"
    }
   },
   "outputs": [],
   "source": [
    "geo_dict[\"id_x_sample\"]"
   ]
  },
  {
   "cell_type": "code",
   "execution_count": null,
   "metadata": {
    "ExecuteTime": {
     "end_time": "2018-05-15T09:23:14.147528Z",
     "start_time": "2018-05-15T09:23:14.071686Z"
    }
   },
   "outputs": [],
   "source": [
    "geo_dict[\"id_gene_symbol\"]"
   ]
  },
  {
   "cell_type": "code",
   "execution_count": null,
   "metadata": {
    "ExecuteTime": {
     "end_time": "2018-05-15T09:23:14.384185Z",
     "start_time": "2018-05-15T09:23:14.151527Z"
    }
   },
   "outputs": [],
   "source": [
    "geo_dict[\"gene_x_sample\"]"
   ]
  },
  {
   "cell_type": "code",
   "execution_count": null,
   "metadata": {
    "ExecuteTime": {
     "end_time": "2018-05-15T09:23:14.530314Z",
     "start_time": "2018-05-15T09:23:14.389894Z"
    }
   },
   "outputs": [],
   "source": [
    "geo_dict[\"information_x_sample\"]"
   ]
  },
  {
   "cell_type": "code",
   "execution_count": null,
   "metadata": {},
   "outputs": [],
   "source": [
    "geo_dict[\"continuous_information_x_sample\"]"
   ]
  },
  {
   "cell_type": "code",
   "execution_count": null,
   "metadata": {},
   "outputs": [],
   "source": [
    "geo_dict[\"binary_information_x_sample\"]"
   ]
  },
  {
   "cell_type": "code",
   "execution_count": null,
   "metadata": {
    "ExecuteTime": {
     "end_time": "2018-05-15T09:23:24.466916Z",
     "start_time": "2018-05-15T09:23:14.536906Z"
    }
   },
   "outputs": [],
   "source": [
    "geo_dict = kraft.download_and_parse_geo(\"GSE57820\", os.getcwd())\n",
    "\n",
    "geo_dict.keys()"
   ]
  },
  {
   "cell_type": "code",
   "execution_count": null,
   "metadata": {
    "ExecuteTime": {
     "end_time": "2018-05-15T09:23:24.609610Z",
     "start_time": "2018-05-15T09:23:24.471692Z"
    }
   },
   "outputs": [],
   "source": [
    "geo_dict[\"id_x_sample\"]"
   ]
  },
  {
   "cell_type": "code",
   "execution_count": null,
   "metadata": {
    "ExecuteTime": {
     "end_time": "2018-05-15T09:23:24.655053Z",
     "start_time": "2018-05-15T09:23:24.615032Z"
    }
   },
   "outputs": [],
   "source": [
    "geo_dict[\"id_gene_symbol\"]"
   ]
  },
  {
   "cell_type": "code",
   "execution_count": null,
   "metadata": {
    "ExecuteTime": {
     "end_time": "2018-05-15T09:23:24.700546Z",
     "start_time": "2018-05-15T09:23:24.659758Z"
    }
   },
   "outputs": [],
   "source": [
    "geo_dict[\"gene_x_sample\"]"
   ]
  },
  {
   "cell_type": "code",
   "execution_count": null,
   "metadata": {
    "ExecuteTime": {
     "end_time": "2018-05-15T09:23:24.832715Z",
     "start_time": "2018-05-15T09:23:24.707069Z"
    }
   },
   "outputs": [],
   "source": [
    "geo_dict[\"information_x_sample\"]"
   ]
  },
  {
   "cell_type": "code",
   "execution_count": null,
   "metadata": {},
   "outputs": [],
   "source": [
    "geo_dict[\"continuous_information_x_sample\"]"
   ]
  },
  {
   "cell_type": "code",
   "execution_count": null,
   "metadata": {},
   "outputs": [],
   "source": [
    "geo_dict[\"binary_information_x_sample\"]"
   ]
  }
 ],
 "metadata": {
  "kernelspec": {
   "display_name": "Python 3",
   "language": "python",
   "name": "python3"
  },
  "language_info": {
   "codemirror_mode": {
    "name": "ipython",
    "version": 3
   },
   "file_extension": ".py",
   "mimetype": "text/x-python",
   "name": "python",
   "nbconvert_exporter": "python",
   "pygments_lexer": "ipython3",
   "version": "3.7.3"
  }
 },
 "nbformat": 4,
 "nbformat_minor": 4
}
