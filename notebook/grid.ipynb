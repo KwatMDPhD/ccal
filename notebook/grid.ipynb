{
 "cells": [
  {
   "cell_type": "code",
   "execution_count": null,
   "metadata": {
    "execution": {
     "iopub.execute_input": "2021-05-29T23:05:38.646358Z",
     "iopub.status.busy": "2021-05-29T23:05:38.645583Z",
     "iopub.status.idle": "2021-05-29T23:05:38.660532Z",
     "shell.execute_reply": "2021-05-29T23:05:38.661076Z"
    }
   },
   "outputs": [],
   "source": [
    "%load_ext autoreload\n",
    "%autoreload 2"
   ]
  },
  {
   "cell_type": "code",
   "execution_count": null,
   "metadata": {
    "execution": {
     "iopub.execute_input": "2021-05-29T23:05:38.664692Z",
     "iopub.status.busy": "2021-05-29T23:05:38.664088Z",
     "iopub.status.idle": "2021-05-29T23:05:39.206120Z",
     "shell.execute_reply": "2021-05-29T23:05:39.206483Z"
    }
   },
   "outputs": [],
   "source": [
    "import kraft"
   ]
  },
  {
   "cell_type": "markdown",
   "metadata": {},
   "source": [
    "## make_1d_grid"
   ]
  },
  {
   "cell_type": "code",
   "execution_count": null,
   "metadata": {
    "execution": {
     "iopub.execute_input": "2021-05-29T23:05:39.210257Z",
     "iopub.status.busy": "2021-05-29T23:05:39.209708Z",
     "iopub.status.idle": "2021-05-29T23:05:39.227558Z",
     "shell.execute_reply": "2021-05-29T23:05:39.227915Z"
    }
   },
   "outputs": [],
   "source": [
    "for fr in [\n",
    "    0,\n",
    "    0.1,\n",
    "]:\n",
    "\n",
    "    print()\n",
    "\n",
    "    print(fr)\n",
    "\n",
    "    for n_gr in [\n",
    "        4,\n",
    "        8,\n",
    "    ]:\n",
    "\n",
    "        print(n_gr)\n",
    "\n",
    "        print(\n",
    "            kraft.grid.make_1d_grid(\n",
    "                -1,\n",
    "                2,\n",
    "                fr,\n",
    "                n_gr,\n",
    "            )\n",
    "        )"
   ]
  },
  {
   "cell_type": "markdown",
   "metadata": {},
   "source": [
    "## reflect_1d_grid"
   ]
  },
  {
   "cell_type": "code",
   "execution_count": null,
   "metadata": {
    "execution": {
     "iopub.execute_input": "2021-05-29T23:05:39.230730Z",
     "iopub.status.busy": "2021-05-29T23:05:39.230233Z",
     "iopub.status.idle": "2021-05-29T23:05:39.246339Z",
     "shell.execute_reply": "2021-05-29T23:05:39.246724Z"
    }
   },
   "outputs": [],
   "source": [
    "import numpy as np"
   ]
  },
  {
   "cell_type": "code",
   "execution_count": null,
   "metadata": {
    "execution": {
     "iopub.execute_input": "2021-05-29T23:05:39.250128Z",
     "iopub.status.busy": "2021-05-29T23:05:39.249588Z",
     "iopub.status.idle": "2021-05-29T23:05:39.272228Z",
     "shell.execute_reply": "2021-05-29T23:05:39.272641Z"
    }
   },
   "outputs": [],
   "source": [
    "kraft.grid.reflect_1d_grid(\n",
    "    np.asarray(\n",
    "        [\n",
    "            -1,\n",
    "            0,\n",
    "            1,\n",
    "            2,\n",
    "        ]\n",
    "    ),\n",
    "    0,\n",
    ")"
   ]
  },
  {
   "cell_type": "markdown",
   "metadata": {},
   "source": [
    "## get_1d_grid_resolution"
   ]
  },
  {
   "cell_type": "code",
   "execution_count": null,
   "metadata": {
    "execution": {
     "iopub.execute_input": "2021-05-29T23:05:39.276170Z",
     "iopub.status.busy": "2021-05-29T23:05:39.275618Z",
     "iopub.status.idle": "2021-05-29T23:05:39.292839Z",
     "shell.execute_reply": "2021-05-29T23:05:39.293197Z"
    }
   },
   "outputs": [],
   "source": [
    "kraft.grid.get_1d_grid_resolution(\n",
    "    np.asarray(\n",
    "        [\n",
    "            -1,\n",
    "            0,\n",
    "            1,\n",
    "            2,\n",
    "            2.1,\n",
    "        ]\n",
    "    )\n",
    ")"
   ]
  },
  {
   "cell_type": "markdown",
   "metadata": {},
   "source": [
    "## get_1d_grid"
   ]
  },
  {
   "cell_type": "code",
   "execution_count": null,
   "metadata": {
    "execution": {
     "iopub.execute_input": "2021-05-29T23:05:39.297272Z",
     "iopub.status.busy": "2021-05-29T23:05:39.296617Z",
     "iopub.status.idle": "2021-05-29T23:05:39.313186Z",
     "shell.execute_reply": "2021-05-29T23:05:39.313604Z"
    }
   },
   "outputs": [],
   "source": [
    "for xxxx in [\n",
    "    [\n",
    "        [-1],\n",
    "        [0],\n",
    "        [2],\n",
    "        [2],\n",
    "    ],\n",
    "    [\n",
    "        [\n",
    "            0,\n",
    "            -1,\n",
    "        ],\n",
    "        [\n",
    "            0,\n",
    "            0,\n",
    "        ],\n",
    "        [\n",
    "            0,\n",
    "            2,\n",
    "        ],\n",
    "        [\n",
    "            0,\n",
    "            2,\n",
    "        ],\n",
    "    ],\n",
    "    [\n",
    "        [\n",
    "            2,\n",
    "            0,\n",
    "        ],\n",
    "        [\n",
    "            0,\n",
    "            0,\n",
    "        ],\n",
    "        [\n",
    "            -1,\n",
    "            0,\n",
    "        ],\n",
    "    ],\n",
    "]:\n",
    "\n",
    "    xxxx = np.asarray(xxxx)\n",
    "\n",
    "    print(kraft.grid.get_1d_grid(xxxx))"
   ]
  },
  {
   "cell_type": "markdown",
   "metadata": {},
   "source": [
    "## make_nd_grid"
   ]
  },
  {
   "cell_type": "code",
   "execution_count": null,
   "metadata": {
    "execution": {
     "iopub.execute_input": "2021-05-29T23:05:39.316607Z",
     "iopub.status.busy": "2021-05-29T23:05:39.316095Z",
     "iopub.status.idle": "2021-05-29T23:05:39.332476Z",
     "shell.execute_reply": "2021-05-29T23:05:39.332909Z"
    }
   },
   "outputs": [],
   "source": [
    "kraft.grid.make_nd_grid(\n",
    "    [\n",
    "        np.asarray(\n",
    "            [\n",
    "                -1,\n",
    "                0,\n",
    "                1,\n",
    "            ]\n",
    "        ),\n",
    "        np.asarray(\n",
    "            [\n",
    "                -2,\n",
    "                4,\n",
    "            ]\n",
    "        ),\n",
    "    ]\n",
    ")"
   ]
  },
  {
   "cell_type": "markdown",
   "metadata": {},
   "source": [
    "## plot"
   ]
  },
  {
   "cell_type": "code",
   "execution_count": null,
   "metadata": {
    "execution": {
     "iopub.execute_input": "2021-05-29T23:05:39.340627Z",
     "iopub.status.busy": "2021-05-29T23:05:39.340087Z",
     "iopub.status.idle": "2021-05-29T23:05:39.655596Z",
     "shell.execute_reply": "2021-05-29T23:05:39.655991Z"
    }
   },
   "outputs": [],
   "source": [
    "for (co_po_di, nu_,) in [\n",
    "    [\n",
    "        [\n",
    "            [\n",
    "                -1,\n",
    "            ],\n",
    "            [\n",
    "                0,\n",
    "            ],\n",
    "            [\n",
    "                1,\n",
    "            ],\n",
    "        ],\n",
    "        [\n",
    "            -1,\n",
    "            0,\n",
    "            2,\n",
    "        ],\n",
    "    ],\n",
    "    [\n",
    "        [\n",
    "            [\n",
    "                -1,\n",
    "                0,\n",
    "            ],\n",
    "            [\n",
    "                0,\n",
    "                0,\n",
    "            ],\n",
    "            [\n",
    "                1,\n",
    "                0,\n",
    "            ],\n",
    "        ],\n",
    "        [\n",
    "            -1,\n",
    "            0,\n",
    "            2,\n",
    "        ],\n",
    "    ],\n",
    "    [\n",
    "        [\n",
    "            [\n",
    "                -1,\n",
    "                -1,\n",
    "            ],\n",
    "            [\n",
    "                0,\n",
    "                -1,\n",
    "            ],\n",
    "            [\n",
    "                1,\n",
    "                -1,\n",
    "            ],\n",
    "            [\n",
    "                -1,\n",
    "                1,\n",
    "            ],\n",
    "            [\n",
    "                0,\n",
    "                1,\n",
    "            ],\n",
    "            [\n",
    "                1,\n",
    "                1,\n",
    "            ],\n",
    "        ],\n",
    "        [\n",
    "            -1,\n",
    "            0,\n",
    "            2,\n",
    "            4,\n",
    "            8,\n",
    "            16,\n",
    "        ],\n",
    "    ],\n",
    "    [\n",
    "        [\n",
    "            [\n",
    "                -1,\n",
    "                -1,\n",
    "            ],\n",
    "            [\n",
    "                0,\n",
    "                -1,\n",
    "            ],\n",
    "            [\n",
    "                1,\n",
    "                -1,\n",
    "            ],\n",
    "            [\n",
    "                -1,\n",
    "                0,\n",
    "            ],\n",
    "            [\n",
    "                0,\n",
    "                0,\n",
    "            ],\n",
    "            [\n",
    "                1,\n",
    "                0,\n",
    "            ],\n",
    "            [\n",
    "                -1,\n",
    "                1,\n",
    "            ],\n",
    "            [\n",
    "                0,\n",
    "                1,\n",
    "            ],\n",
    "            [\n",
    "                1,\n",
    "                1,\n",
    "            ],\n",
    "        ],\n",
    "        [\n",
    "            -1,\n",
    "            0,\n",
    "            2,\n",
    "            4,\n",
    "            8,\n",
    "            16,\n",
    "            32,\n",
    "            64,\n",
    "            128,\n",
    "        ],\n",
    "    ],\n",
    "    [\n",
    "        [\n",
    "            [\n",
    "                0,\n",
    "                2,\n",
    "                4,\n",
    "            ],\n",
    "            [\n",
    "                1,\n",
    "                2,\n",
    "                4,\n",
    "            ],\n",
    "            [\n",
    "                0,\n",
    "                3,\n",
    "                4,\n",
    "            ],\n",
    "            [\n",
    "                1,\n",
    "                3,\n",
    "                4,\n",
    "            ],\n",
    "            [\n",
    "                0,\n",
    "                2,\n",
    "                5,\n",
    "            ],\n",
    "            [\n",
    "                1,\n",
    "                2,\n",
    "                5,\n",
    "            ],\n",
    "            [\n",
    "                0,\n",
    "                3,\n",
    "                5,\n",
    "            ],\n",
    "            [\n",
    "                1,\n",
    "                3,\n",
    "                5,\n",
    "            ],\n",
    "        ],\n",
    "        np.arange(8),\n",
    "    ],\n",
    "]:\n",
    "\n",
    "    kraft.grid.plot(\n",
    "        np.asarray(co_po_di),\n",
    "        np.asarray(nu_),\n",
    "    )"
   ]
  }
 ],
 "metadata": {
  "kernelspec": {
   "display_name": "Python 3",
   "language": "python",
   "name": "python3"
  },
  "language_info": {
   "codemirror_mode": {
    "name": "ipython",
    "version": 3
   },
   "file_extension": ".py",
   "mimetype": "text/x-python",
   "name": "python",
   "nbconvert_exporter": "python",
   "pygments_lexer": "ipython3",
   "version": "3.8.9"
  }
 },
 "nbformat": 4,
 "nbformat_minor": 4
}
