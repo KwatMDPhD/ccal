{
 "cells": [
  {
   "cell_type": "code",
   "execution_count": null,
   "metadata": {
    "execution": {
     "iopub.execute_input": "2021-05-31T22:29:30.141824Z",
     "iopub.status.busy": "2021-05-31T22:29:30.141057Z",
     "iopub.status.idle": "2021-05-31T22:29:30.155689Z",
     "shell.execute_reply": "2021-05-31T22:29:30.156139Z"
    },
    "tags": []
   },
   "outputs": [],
   "source": [
    "%load_ext autoreload\n",
    "%autoreload 2"
   ]
  },
  {
   "cell_type": "code",
   "execution_count": null,
   "metadata": {
    "execution": {
     "iopub.execute_input": "2021-05-31T22:29:30.159735Z",
     "iopub.status.busy": "2021-05-31T22:29:30.159129Z",
     "iopub.status.idle": "2021-05-31T22:29:30.680778Z",
     "shell.execute_reply": "2021-05-31T22:29:30.681133Z"
    },
    "tags": []
   },
   "outputs": [],
   "source": [
    "import kraft"
   ]
  },
  {
   "cell_type": "markdown",
   "metadata": {},
   "source": [
    "## make_1d_grid"
   ]
  },
  {
   "cell_type": "code",
   "execution_count": null,
   "metadata": {
    "execution": {
     "iopub.execute_input": "2021-05-31T22:29:30.684785Z",
     "iopub.status.busy": "2021-05-31T22:29:30.684278Z",
     "iopub.status.idle": "2021-05-31T22:29:30.700915Z",
     "shell.execute_reply": "2021-05-31T22:29:30.701418Z"
    },
    "tags": []
   },
   "outputs": [],
   "source": [
    "for fr in [0, 0.1]:\n",
    "\n",
    "    print()\n",
    "\n",
    "    print(fr)\n",
    "\n",
    "    for n_co in [4, 8]:\n",
    "\n",
    "        print(n_co)\n",
    "\n",
    "        print(kraft.grid.make_1d_grid(-1, 2, fr, n_co))"
   ]
  },
  {
   "cell_type": "markdown",
   "metadata": {},
   "source": [
    "## reflect_1d_grid"
   ]
  },
  {
   "cell_type": "code",
   "execution_count": null,
   "metadata": {
    "execution": {
     "iopub.execute_input": "2021-05-31T22:29:30.704107Z",
     "iopub.status.busy": "2021-05-31T22:29:30.703612Z",
     "iopub.status.idle": "2021-05-31T22:29:30.719569Z",
     "shell.execute_reply": "2021-05-31T22:29:30.719943Z"
    },
    "tags": []
   },
   "outputs": [],
   "source": [
    "import numpy as np"
   ]
  },
  {
   "cell_type": "code",
   "execution_count": null,
   "metadata": {
    "execution": {
     "iopub.execute_input": "2021-05-31T22:29:30.723336Z",
     "iopub.status.busy": "2021-05-31T22:29:30.722782Z",
     "iopub.status.idle": "2021-05-31T22:29:30.743457Z",
     "shell.execute_reply": "2021-05-31T22:29:30.743818Z"
    },
    "tags": []
   },
   "outputs": [],
   "source": [
    "kraft.grid.reflect_1d_grid(np.array([-1, 0, 1, 2]), 0)"
   ]
  },
  {
   "cell_type": "markdown",
   "metadata": {},
   "source": [
    "## get_1d_grid_resolution"
   ]
  },
  {
   "cell_type": "code",
   "execution_count": null,
   "metadata": {
    "execution": {
     "iopub.execute_input": "2021-05-31T22:29:30.747108Z",
     "iopub.status.busy": "2021-05-31T22:29:30.746613Z",
     "iopub.status.idle": "2021-05-31T22:29:30.762896Z",
     "shell.execute_reply": "2021-05-31T22:29:30.763333Z"
    },
    "tags": []
   },
   "outputs": [],
   "source": [
    "kraft.grid.get_1d_grid_resolution(np.array([-1, 0, 1, 2, 2.1]))"
   ]
  },
  {
   "cell_type": "markdown",
   "metadata": {},
   "source": [
    "## get_1d_grid"
   ]
  },
  {
   "cell_type": "code",
   "execution_count": null,
   "metadata": {
    "execution": {
     "iopub.execute_input": "2021-05-31T22:29:30.767422Z",
     "iopub.status.busy": "2021-05-31T22:29:30.766878Z",
     "iopub.status.idle": "2021-05-31T22:29:30.786587Z",
     "shell.execute_reply": "2021-05-31T22:29:30.787097Z"
    },
    "tags": []
   },
   "outputs": [],
   "source": [
    "for co_po_di in [\n",
    "    [[-1], [0], [2], [2]],\n",
    "    [[0, -1], [0, 0], [0, 2], [0, 2]],\n",
    "    [[2, 0], [0, 0], [-1, 0]],\n",
    "]:\n",
    "\n",
    "    co_po_di = np.array(co_po_di)\n",
    "\n",
    "    print(kraft.grid.get_1d_grid(co_po_di))"
   ]
  },
  {
   "cell_type": "markdown",
   "metadata": {},
   "source": [
    "## make_nd_grid"
   ]
  },
  {
   "cell_type": "code",
   "execution_count": null,
   "metadata": {
    "execution": {
     "iopub.execute_input": "2021-05-31T22:29:30.790600Z",
     "iopub.status.busy": "2021-05-31T22:29:30.789917Z",
     "iopub.status.idle": "2021-05-31T22:29:30.807387Z",
     "shell.execute_reply": "2021-05-31T22:29:30.807814Z"
    },
    "tags": []
   },
   "outputs": [],
   "source": [
    "kraft.grid.make_nd_grid([np.array([-1, 0, 1]), np.array([-2, 4])])"
   ]
  },
  {
   "cell_type": "markdown",
   "metadata": {},
   "source": [
    "## plot"
   ]
  },
  {
   "cell_type": "code",
   "execution_count": null,
   "metadata": {
    "execution": {
     "iopub.execute_input": "2021-05-31T22:29:30.813669Z",
     "iopub.status.busy": "2021-05-31T22:29:30.813035Z",
     "iopub.status.idle": "2021-05-31T22:29:31.117956Z",
     "shell.execute_reply": "2021-05-31T22:29:31.118316Z"
    },
    "tags": []
   },
   "outputs": [],
   "source": [
    "for (co_po_di, nu_) in [\n",
    "    [[[-1], [0], [1]], [-1, 0, 2]],\n",
    "    [[[-1, 0], [0, 0], [1, 0]], [-1, 0, 2]],\n",
    "    [[[-1, -1], [0, -1], [1, -1], [-1, 1], [0, 1], [1, 1]], [-1, 0, 2, 4, 8, 16]],\n",
    "    [\n",
    "        [[-1, -1], [0, -1], [1, -1], [-1, 0], [0, 0], [1, 0], [-1, 1], [0, 1], [1, 1]],\n",
    "        [-1, 0, 2, 4, 8, 16, 32, 64, 128],\n",
    "    ],\n",
    "    [\n",
    "        [\n",
    "            [0, 2, 4],\n",
    "            [1, 2, 4],\n",
    "            [0, 3, 4],\n",
    "            [1, 3, 4],\n",
    "            [0, 2, 5],\n",
    "            [1, 2, 5],\n",
    "            [0, 3, 5],\n",
    "            [1, 3, 5],\n",
    "        ],\n",
    "        np.arange(8),\n",
    "    ],\n",
    "]:\n",
    "\n",
    "    kraft.grid.plot(np.array(co_po_di), np.array(nu_))"
   ]
  }
 ],
 "metadata": {
  "kernelspec": {
   "display_name": "Python 3",
   "language": "python",
   "name": "python3"
  },
  "language_info": {
   "codemirror_mode": {
    "name": "ipython",
    "version": 3
   },
   "file_extension": ".py",
   "mimetype": "text/x-python",
   "name": "python",
   "nbconvert_exporter": "python",
   "pygments_lexer": "ipython3",
   "version": "3.8.9"
  }
 },
 "nbformat": 4,
 "nbformat_minor": 4
}
