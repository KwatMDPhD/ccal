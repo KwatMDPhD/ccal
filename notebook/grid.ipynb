{
 "cells": [
  {
   "cell_type": "code",
   "execution_count": null,
   "metadata": {},
   "outputs": [],
   "source": [
    "%load_ext autoreload\n",
    "%autoreload 2"
   ]
  },
  {
   "cell_type": "code",
   "execution_count": null,
   "metadata": {},
   "outputs": [],
   "source": [
    "import kraft\n",
    "import numpy as np"
   ]
  },
  {
   "cell_type": "markdown",
   "metadata": {},
   "source": [
    "## make_grid_1d"
   ]
  },
  {
   "cell_type": "code",
   "execution_count": null,
   "metadata": {},
   "outputs": [],
   "source": [
    "kraft.grid.make_grid_1d(-1, 2, 0, 4)"
   ]
  },
  {
   "cell_type": "markdown",
   "metadata": {},
   "source": [
    "## make_grid_1d_for_reflecting"
   ]
  },
  {
   "cell_type": "code",
   "execution_count": null,
   "metadata": {},
   "outputs": [],
   "source": [
    "kraft.grid.make_grid_1d_for_reflecting(np.asarray((-1, 0, 1, 2)), 0)"
   ]
  },
  {
   "cell_type": "markdown",
   "metadata": {},
   "source": [
    "## get_d"
   ]
  },
  {
   "cell_type": "code",
   "execution_count": null,
   "metadata": {},
   "outputs": [],
   "source": [
    "kraft.grid.get_d(np.asarray((-2, 0, 2, 4, 8)))"
   ]
  },
  {
   "cell_type": "markdown",
   "metadata": {},
   "source": [
    "## make_grid_nd"
   ]
  },
  {
   "cell_type": "code",
   "execution_count": null,
   "metadata": {},
   "outputs": [],
   "source": [
    "kraft.grid.make_grid_nd((np.asarray((-1, 0, 1)), np.asarray((-8, 2))))"
   ]
  },
  {
   "cell_type": "markdown",
   "metadata": {},
   "source": [
    "## get_grid_1ds"
   ]
  },
  {
   "cell_type": "code",
   "execution_count": null,
   "metadata": {},
   "outputs": [],
   "source": [
    "for point_x_dimension in (\n",
    "    ((-1,), (0,), (2,)),\n",
    "    ((0, -1), (0, 0), (0, 2)),\n",
    "    ((1, -1), (2, 0), (3, 2)),\n",
    "):\n",
    "\n",
    "    print(\"=\" * 80)\n",
    "\n",
    "    point_x_dimension = np.asarray(point_x_dimension)\n",
    "\n",
    "    print(point_x_dimension)\n",
    "\n",
    "    print(kraft.grid.get_grid_1ds(point_x_dimension))"
   ]
  },
  {
   "cell_type": "markdown",
   "metadata": {},
   "source": [
    "## shape"
   ]
  },
  {
   "cell_type": "code",
   "execution_count": null,
   "metadata": {},
   "outputs": [],
   "source": [
    "for grid_1ds in (\n",
    "    ((-1, 1), (-2, 2)),\n",
    "    ((1, -1), (2, -2)),\n",
    "    ((-1, 1), (-2, -1, 0, 1, 2)),\n",
    "    ((-1, -0.5, 0, 0.5, 1), (-2, 2)),\n",
    "    ((-1, -0.5, 0, 0.5, 1), (-2, -1, 0, 1, 2)),\n",
    "):\n",
    "\n",
    "    print(\"=\" * 80)\n",
    "\n",
    "    grid_1ds = tuple(np.asarray(grid_1d) for grid_1d in grid_1ds)\n",
    "\n",
    "    grid_nd_numbers = np.arange(np.product(tuple(grid_1d.size for grid_1d in grid_1ds)))\n",
    "\n",
    "    print(grid_nd_numbers)\n",
    "\n",
    "    print(grid_1ds)\n",
    "\n",
    "    print(kraft.grid.shape(grid_nd_numbers, grid_1ds))"
   ]
  },
  {
   "cell_type": "markdown",
   "metadata": {},
   "source": [
    "## plot_grid_nd"
   ]
  },
  {
   "cell_type": "code",
   "execution_count": null,
   "metadata": {},
   "outputs": [],
   "source": [
    "kraft.grid.plot_grid_nd(\n",
    "    np.asarray(((-1,), (0,), (1,))),\n",
    "    np.asarray((-1, 0, 2)),\n",
    ")\n",
    "\n",
    "kraft.grid.plot_grid_nd(\n",
    "    np.asarray(((-1, 0), (0, 0), (1, 0))),\n",
    "    np.asarray((-1, 0, 2)),\n",
    ")\n",
    "\n",
    "kraft.grid.plot_grid_nd(\n",
    "    np.asarray(((-1, 2), (0, 2), (1, 2), (-1, 4), (0, 4), (1, 4))),\n",
    "    np.asarray((-1, 0, 2, 4, 8, 16)),\n",
    ")\n",
    "\n",
    "kraft.grid.plot_grid_nd(\n",
    "    np.asarray(\n",
    "        ((-1, 2), (0, 2), (1, 2), (-1, 4), (0, 4), (1, 4), (-1, 8), (0, 8), (1, 8))\n",
    "    ),\n",
    "    np.asarray((-1, 0, 2, 4, 8, 16, 32, 64, 128)),\n",
    ")\n",
    "\n",
    "kraft.grid.plot_grid_nd(\n",
    "    np.asarray(\n",
    "        (\n",
    "            (0, 2, 4),\n",
    "            (1, 2, 4),\n",
    "            (0, 3, 4),\n",
    "            (1, 3, 4),\n",
    "            (0, 2, 5),\n",
    "            (1, 2, 5),\n",
    "            (0, 3, 5),\n",
    "            (1, 3, 5),\n",
    "        )\n",
    "    ),\n",
    "    np.arange(8),\n",
    ")"
   ]
  }
 ],
 "metadata": {
  "kernelspec": {
   "display_name": "Python 3",
   "language": "python",
   "name": "python3"
  },
  "language_info": {
   "codemirror_mode": {
    "name": "ipython",
    "version": 3
   },
   "file_extension": ".py",
   "mimetype": "text/x-python",
   "name": "python",
   "nbconvert_exporter": "python",
   "pygments_lexer": "ipython3",
   "version": "3.7.8"
  }
 },
 "nbformat": 4,
 "nbformat_minor": 4
}
