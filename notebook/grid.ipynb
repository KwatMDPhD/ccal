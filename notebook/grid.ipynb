{
 "cells": [
  {
   "cell_type": "code",
   "execution_count": null,
   "metadata": {
    "execution": {
     "iopub.execute_input": "2021-05-31T05:59:58.106498Z",
     "iopub.status.busy": "2021-05-31T05:59:58.105747Z",
     "iopub.status.idle": "2021-05-31T05:59:58.119763Z",
     "shell.execute_reply": "2021-05-31T05:59:58.120274Z"
    }
   },
   "outputs": [],
   "source": [
    "%load_ext autoreload\n",
    "%autoreload 2"
   ]
  },
  {
   "cell_type": "code",
   "execution_count": null,
   "metadata": {
    "execution": {
     "iopub.execute_input": "2021-05-31T05:59:58.123888Z",
     "iopub.status.busy": "2021-05-31T05:59:58.123289Z",
     "iopub.status.idle": "2021-05-31T05:59:58.672464Z",
     "shell.execute_reply": "2021-05-31T05:59:58.672836Z"
    }
   },
   "outputs": [],
   "source": [
    "import kraft"
   ]
  },
  {
   "cell_type": "markdown",
   "metadata": {},
   "source": [
    "## make_1d_grid"
   ]
  },
  {
   "cell_type": "code",
   "execution_count": null,
   "metadata": {
    "execution": {
     "iopub.execute_input": "2021-05-31T05:59:58.676979Z",
     "iopub.status.busy": "2021-05-31T05:59:58.676350Z",
     "iopub.status.idle": "2021-05-31T05:59:58.695636Z",
     "shell.execute_reply": "2021-05-31T05:59:58.696020Z"
    }
   },
   "outputs": [],
   "source": [
    "for fr in [0, 0.1]:\n",
    "\n",
    "    print()\n",
    "\n",
    "    print(fr)\n",
    "\n",
    "    for n_gr in [4, 8]:\n",
    "\n",
    "        print(n_gr)\n",
    "\n",
    "        print(kraft.grid.make_1d_grid(-1, 2, fr, n_gr))"
   ]
  },
  {
   "cell_type": "markdown",
   "metadata": {},
   "source": [
    "## reflect_1d_grid"
   ]
  },
  {
   "cell_type": "code",
   "execution_count": null,
   "metadata": {
    "execution": {
     "iopub.execute_input": "2021-05-31T05:59:58.698877Z",
     "iopub.status.busy": "2021-05-31T05:59:58.698314Z",
     "iopub.status.idle": "2021-05-31T05:59:58.714891Z",
     "shell.execute_reply": "2021-05-31T05:59:58.715306Z"
    }
   },
   "outputs": [],
   "source": [
    "import numpy as np"
   ]
  },
  {
   "cell_type": "code",
   "execution_count": null,
   "metadata": {
    "execution": {
     "iopub.execute_input": "2021-05-31T05:59:58.718255Z",
     "iopub.status.busy": "2021-05-31T05:59:58.717754Z",
     "iopub.status.idle": "2021-05-31T05:59:58.739297Z",
     "shell.execute_reply": "2021-05-31T05:59:58.739647Z"
    }
   },
   "outputs": [],
   "source": [
    "kraft.grid.reflect_1d_grid(np.asarray([-1, 0, 1, 2]), 0)"
   ]
  },
  {
   "cell_type": "markdown",
   "metadata": {},
   "source": [
    "## get_1d_grid_resolution"
   ]
  },
  {
   "cell_type": "code",
   "execution_count": null,
   "metadata": {
    "execution": {
     "iopub.execute_input": "2021-05-31T05:59:58.742640Z",
     "iopub.status.busy": "2021-05-31T05:59:58.742152Z",
     "iopub.status.idle": "2021-05-31T05:59:58.759358Z",
     "shell.execute_reply": "2021-05-31T05:59:58.759719Z"
    }
   },
   "outputs": [],
   "source": [
    "kraft.grid.get_1d_grid_resolution(np.asarray([-1, 0, 1, 2, 2.1]))"
   ]
  },
  {
   "cell_type": "markdown",
   "metadata": {},
   "source": [
    "## get_1d_grid"
   ]
  },
  {
   "cell_type": "code",
   "execution_count": null,
   "metadata": {
    "execution": {
     "iopub.execute_input": "2021-05-31T05:59:58.763513Z",
     "iopub.status.busy": "2021-05-31T05:59:58.763005Z",
     "iopub.status.idle": "2021-05-31T05:59:58.779859Z",
     "shell.execute_reply": "2021-05-31T05:59:58.780320Z"
    }
   },
   "outputs": [],
   "source": [
    "for xxxx in [\n",
    "    [[-1], [0], [2], [2]],\n",
    "    [[0, -1], [0, 0], [0, 2], [0, 2]],\n",
    "    [[2, 0], [0, 0], [-1, 0]],\n",
    "]:\n",
    "\n",
    "    xxxx = np.asarray(xxxx)\n",
    "\n",
    "    print(kraft.grid.get_1d_grid(xxxx))"
   ]
  },
  {
   "cell_type": "markdown",
   "metadata": {},
   "source": [
    "## make_nd_grid"
   ]
  },
  {
   "cell_type": "code",
   "execution_count": null,
   "metadata": {
    "execution": {
     "iopub.execute_input": "2021-05-31T05:59:58.783345Z",
     "iopub.status.busy": "2021-05-31T05:59:58.782844Z",
     "iopub.status.idle": "2021-05-31T05:59:58.799264Z",
     "shell.execute_reply": "2021-05-31T05:59:58.799611Z"
    }
   },
   "outputs": [],
   "source": [
    "kraft.grid.make_nd_grid([np.asarray([-1, 0, 1]), np.asarray([-2, 4])])"
   ]
  },
  {
   "cell_type": "markdown",
   "metadata": {},
   "source": [
    "## plot"
   ]
  },
  {
   "cell_type": "code",
   "execution_count": null,
   "metadata": {
    "execution": {
     "iopub.execute_input": "2021-05-31T05:59:58.805228Z",
     "iopub.status.busy": "2021-05-31T05:59:58.804690Z",
     "iopub.status.idle": "2021-05-31T05:59:59.120738Z",
     "shell.execute_reply": "2021-05-31T05:59:59.121154Z"
    },
    "tags": []
   },
   "outputs": [],
   "source": [
    "for (co_po_di, nu_) in [\n",
    "    [[[-1], [0], [1]], [-1, 0, 2]],\n",
    "    [[[-1, 0], [0, 0], [1, 0]], [-1, 0, 2]],\n",
    "    [[[-1, -1], [0, -1], [1, -1], [-1, 1], [0, 1], [1, 1]], [-1, 0, 2, 4, 8, 16]],\n",
    "    [\n",
    "        [[-1, -1], [0, -1], [1, -1], [-1, 0], [0, 0], [1, 0], [-1, 1], [0, 1], [1, 1]],\n",
    "        [-1, 0, 2, 4, 8, 16, 32, 64, 128],\n",
    "    ],\n",
    "    [\n",
    "        [\n",
    "            [0, 2, 4],\n",
    "            [1, 2, 4],\n",
    "            [0, 3, 4],\n",
    "            [1, 3, 4],\n",
    "            [0, 2, 5],\n",
    "            [1, 2, 5],\n",
    "            [0, 3, 5],\n",
    "            [1, 3, 5],\n",
    "        ],\n",
    "        np.arange(8),\n",
    "    ],\n",
    "]:\n",
    "\n",
    "    kraft.grid.plot(np.asarray(co_po_di), np.asarray(nu_))"
   ]
  }
 ],
 "metadata": {
  "kernelspec": {
   "display_name": "Python 3",
   "language": "python",
   "name": "python3"
  },
  "language_info": {
   "codemirror_mode": {
    "name": "ipython",
    "version": 3
   },
   "file_extension": ".py",
   "mimetype": "text/x-python",
   "name": "python",
   "nbconvert_exporter": "python",
   "pygments_lexer": "ipython3",
   "version": "3.8.9"
  }
 },
 "nbformat": 4,
 "nbformat_minor": 4
}
