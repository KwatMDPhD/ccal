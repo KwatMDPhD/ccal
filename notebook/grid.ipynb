{
 "cells": [
  {
   "cell_type": "code",
   "execution_count": null,
   "metadata": {
    "execution": {
     "iopub.execute_input": "2021-05-30T23:48:45.809092Z",
     "iopub.status.busy": "2021-05-30T23:48:45.808439Z",
     "iopub.status.idle": "2021-05-30T23:48:45.821149Z",
     "shell.execute_reply": "2021-05-30T23:48:45.821556Z"
    }
   },
   "outputs": [],
   "source": [
    "%load_ext autoreload\n",
    "%autoreload 2"
   ]
  },
  {
   "cell_type": "code",
   "execution_count": null,
   "metadata": {
    "execution": {
     "iopub.execute_input": "2021-05-30T23:48:45.825106Z",
     "iopub.status.busy": "2021-05-30T23:48:45.824504Z",
     "iopub.status.idle": "2021-05-30T23:48:46.372004Z",
     "shell.execute_reply": "2021-05-30T23:48:46.372424Z"
    }
   },
   "outputs": [],
   "source": [
    "import kraft"
   ]
  },
  {
   "cell_type": "markdown",
   "metadata": {},
   "source": [
    "## make_1d_grid"
   ]
  },
  {
   "cell_type": "code",
   "execution_count": null,
   "metadata": {
    "execution": {
     "iopub.execute_input": "2021-05-30T23:48:46.376836Z",
     "iopub.status.busy": "2021-05-30T23:48:46.376142Z",
     "iopub.status.idle": "2021-05-30T23:48:46.393589Z",
     "shell.execute_reply": "2021-05-30T23:48:46.394143Z"
    }
   },
   "outputs": [],
   "source": [
    "for fr in [0, 0.1]:\n",
    "\n",
    "    print()\n",
    "\n",
    "    print(fr)\n",
    "\n",
    "    for n_gr in [4, 8]:\n",
    "\n",
    "        print(n_gr)\n",
    "\n",
    "        print(kraft.grid.make_1d_grid(-1, 2, fr, n_gr))"
   ]
  },
  {
   "cell_type": "markdown",
   "metadata": {},
   "source": [
    "## reflect_1d_grid"
   ]
  },
  {
   "cell_type": "code",
   "execution_count": null,
   "metadata": {
    "execution": {
     "iopub.execute_input": "2021-05-30T23:48:46.396906Z",
     "iopub.status.busy": "2021-05-30T23:48:46.396395Z",
     "iopub.status.idle": "2021-05-30T23:48:46.412939Z",
     "shell.execute_reply": "2021-05-30T23:48:46.413777Z"
    }
   },
   "outputs": [],
   "source": [
    "import numpy as np"
   ]
  },
  {
   "cell_type": "code",
   "execution_count": null,
   "metadata": {
    "execution": {
     "iopub.execute_input": "2021-05-30T23:48:46.417878Z",
     "iopub.status.busy": "2021-05-30T23:48:46.417271Z",
     "iopub.status.idle": "2021-05-30T23:48:46.441696Z",
     "shell.execute_reply": "2021-05-30T23:48:46.442115Z"
    }
   },
   "outputs": [],
   "source": [
    "kraft.grid.reflect_1d_grid(np.asarray([-1, 0, 1, 2]), 0)"
   ]
  },
  {
   "cell_type": "markdown",
   "metadata": {},
   "source": [
    "## get_1d_grid_resolution"
   ]
  },
  {
   "cell_type": "code",
   "execution_count": null,
   "metadata": {
    "execution": {
     "iopub.execute_input": "2021-05-30T23:48:46.445140Z",
     "iopub.status.busy": "2021-05-30T23:48:46.444641Z",
     "iopub.status.idle": "2021-05-30T23:48:46.460894Z",
     "shell.execute_reply": "2021-05-30T23:48:46.461250Z"
    }
   },
   "outputs": [],
   "source": [
    "kraft.grid.get_1d_grid_resolution(np.asarray([-1, 0, 1, 2, 2.1]))"
   ]
  },
  {
   "cell_type": "markdown",
   "metadata": {},
   "source": [
    "## get_1d_grid"
   ]
  },
  {
   "cell_type": "code",
   "execution_count": null,
   "metadata": {
    "execution": {
     "iopub.execute_input": "2021-05-30T23:48:46.465278Z",
     "iopub.status.busy": "2021-05-30T23:48:46.464705Z",
     "iopub.status.idle": "2021-05-30T23:48:46.481230Z",
     "shell.execute_reply": "2021-05-30T23:48:46.481652Z"
    }
   },
   "outputs": [],
   "source": [
    "for xxxx in [\n",
    "    [[-1], [0], [2], [2]],\n",
    "    [[0, -1], [0, 0], [0, 2], [0, 2]],\n",
    "    [[2, 0], [0, 0], [-1, 0]],\n",
    "]:\n",
    "\n",
    "    xxxx = np.asarray(xxxx)\n",
    "\n",
    "    print(kraft.grid.get_1d_grid(xxxx))"
   ]
  },
  {
   "cell_type": "markdown",
   "metadata": {},
   "source": [
    "## make_nd_grid"
   ]
  },
  {
   "cell_type": "code",
   "execution_count": null,
   "metadata": {
    "execution": {
     "iopub.execute_input": "2021-05-30T23:48:46.484820Z",
     "iopub.status.busy": "2021-05-30T23:48:46.484307Z",
     "iopub.status.idle": "2021-05-30T23:48:46.501082Z",
     "shell.execute_reply": "2021-05-30T23:48:46.501467Z"
    }
   },
   "outputs": [],
   "source": [
    "kraft.grid.make_nd_grid([np.asarray([-1, 0, 1]), np.asarray([-2, 4])])"
   ]
  },
  {
   "cell_type": "markdown",
   "metadata": {},
   "source": [
    "## plot"
   ]
  },
  {
   "cell_type": "code",
   "execution_count": null,
   "metadata": {
    "execution": {
     "iopub.execute_input": "2021-05-30T23:48:46.508697Z",
     "iopub.status.busy": "2021-05-30T23:48:46.508131Z",
     "iopub.status.idle": "2021-05-30T23:48:46.816115Z",
     "shell.execute_reply": "2021-05-30T23:48:46.816438Z"
    },
    "tags": []
   },
   "outputs": [],
   "source": [
    "for (co_po_di, nu_) in [\n",
    "    [[[-1], [0], [1]], [-1, 0, 2]],\n",
    "    [[[-1, 0], [0, 0], [1, 0]], [-1, 0, 2]],\n",
    "    [[[-1, -1], [0, -1], [1, -1], [-1, 1], [0, 1], [1, 1]], [-1, 0, 2, 4, 8, 16]],\n",
    "    [\n",
    "        [[-1, -1], [0, -1], [1, -1], [-1, 0], [0, 0], [1, 0], [-1, 1], [0, 1], [1, 1]],\n",
    "        [-1, 0, 2, 4, 8, 16, 32, 64, 128],\n",
    "    ],\n",
    "    [\n",
    "        [\n",
    "            [0, 2, 4],\n",
    "            [1, 2, 4],\n",
    "            [0, 3, 4],\n",
    "            [1, 3, 4],\n",
    "            [0, 2, 5],\n",
    "            [1, 2, 5],\n",
    "            [0, 3, 5],\n",
    "            [1, 3, 5],\n",
    "        ],\n",
    "        np.arange(8),\n",
    "    ],\n",
    "]:\n",
    "\n",
    "    kraft.grid.plot(np.asarray(co_po_di), np.asarray(nu_))"
   ]
  }
 ],
 "metadata": {
  "kernelspec": {
   "display_name": "Python 3",
   "language": "python",
   "name": "python3"
  },
  "language_info": {
   "codemirror_mode": {
    "name": "ipython",
    "version": 3
   },
   "file_extension": ".py",
   "mimetype": "text/x-python",
   "name": "python",
   "nbconvert_exporter": "python",
   "pygments_lexer": "ipython3",
   "version": "3.8.9"
  }
 },
 "nbformat": 4,
 "nbformat_minor": 4
}
