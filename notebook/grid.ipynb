{
 "cells": [
  {
   "cell_type": "code",
   "execution_count": null,
   "metadata": {
    "execution": {
     "iopub.execute_input": "2021-05-30T07:00:27.605658Z",
     "iopub.status.busy": "2021-05-30T07:00:27.604903Z",
     "iopub.status.idle": "2021-05-30T07:00:27.618623Z",
     "shell.execute_reply": "2021-05-30T07:00:27.619127Z"
    }
   },
   "outputs": [],
   "source": [
    "%load_ext autoreload\n",
    "%autoreload 2"
   ]
  },
  {
   "cell_type": "code",
   "execution_count": null,
   "metadata": {
    "execution": {
     "iopub.execute_input": "2021-05-30T07:00:27.622593Z",
     "iopub.status.busy": "2021-05-30T07:00:27.621979Z",
     "iopub.status.idle": "2021-05-30T07:00:28.164315Z",
     "shell.execute_reply": "2021-05-30T07:00:28.165181Z"
    }
   },
   "outputs": [],
   "source": [
    "import kraft"
   ]
  },
  {
   "cell_type": "markdown",
   "metadata": {},
   "source": [
    "## make_1d_grid"
   ]
  },
  {
   "cell_type": "code",
   "execution_count": null,
   "metadata": {
    "execution": {
     "iopub.execute_input": "2021-05-30T07:00:28.169859Z",
     "iopub.status.busy": "2021-05-30T07:00:28.169275Z",
     "iopub.status.idle": "2021-05-30T07:00:28.188447Z",
     "shell.execute_reply": "2021-05-30T07:00:28.189108Z"
    }
   },
   "outputs": [],
   "source": [
    "for fr in [\n",
    "    0,\n",
    "    0.1,\n",
    "]:\n",
    "\n",
    "    print()\n",
    "\n",
    "    print(fr)\n",
    "\n",
    "    for n_gr in [\n",
    "        4,\n",
    "        8,\n",
    "    ]:\n",
    "\n",
    "        print(n_gr)\n",
    "\n",
    "        print(\n",
    "            kraft.grid.make_1d_grid(\n",
    "                -1,\n",
    "                2,\n",
    "                fr,\n",
    "                n_gr,\n",
    "            )\n",
    "        )"
   ]
  },
  {
   "cell_type": "markdown",
   "metadata": {},
   "source": [
    "## reflect_1d_grid"
   ]
  },
  {
   "cell_type": "code",
   "execution_count": null,
   "metadata": {
    "execution": {
     "iopub.execute_input": "2021-05-30T07:00:28.191869Z",
     "iopub.status.busy": "2021-05-30T07:00:28.191362Z",
     "iopub.status.idle": "2021-05-30T07:00:28.207378Z",
     "shell.execute_reply": "2021-05-30T07:00:28.207782Z"
    }
   },
   "outputs": [],
   "source": [
    "import numpy as np"
   ]
  },
  {
   "cell_type": "code",
   "execution_count": null,
   "metadata": {
    "execution": {
     "iopub.execute_input": "2021-05-30T07:00:28.211119Z",
     "iopub.status.busy": "2021-05-30T07:00:28.210571Z",
     "iopub.status.idle": "2021-05-30T07:00:28.236929Z",
     "shell.execute_reply": "2021-05-30T07:00:28.237284Z"
    }
   },
   "outputs": [],
   "source": [
    "kraft.grid.reflect_1d_grid(\n",
    "    np.asarray(\n",
    "        [\n",
    "            -1,\n",
    "            0,\n",
    "            1,\n",
    "            2,\n",
    "        ]\n",
    "    ),\n",
    "    0,\n",
    ")"
   ]
  },
  {
   "cell_type": "markdown",
   "metadata": {},
   "source": [
    "## get_1d_grid_resolution"
   ]
  },
  {
   "cell_type": "code",
   "execution_count": null,
   "metadata": {
    "execution": {
     "iopub.execute_input": "2021-05-30T07:00:28.240557Z",
     "iopub.status.busy": "2021-05-30T07:00:28.240027Z",
     "iopub.status.idle": "2021-05-30T07:00:28.256470Z",
     "shell.execute_reply": "2021-05-30T07:00:28.256825Z"
    }
   },
   "outputs": [],
   "source": [
    "kraft.grid.get_1d_grid_resolution(\n",
    "    np.asarray(\n",
    "        [\n",
    "            -1,\n",
    "            0,\n",
    "            1,\n",
    "            2,\n",
    "            2.1,\n",
    "        ]\n",
    "    )\n",
    ")"
   ]
  },
  {
   "cell_type": "markdown",
   "metadata": {},
   "source": [
    "## get_1d_grid"
   ]
  },
  {
   "cell_type": "code",
   "execution_count": null,
   "metadata": {
    "execution": {
     "iopub.execute_input": "2021-05-30T07:00:28.260850Z",
     "iopub.status.busy": "2021-05-30T07:00:28.260330Z",
     "iopub.status.idle": "2021-05-30T07:00:28.276226Z",
     "shell.execute_reply": "2021-05-30T07:00:28.276583Z"
    }
   },
   "outputs": [],
   "source": [
    "for xxxx in [\n",
    "    [\n",
    "        [-1],\n",
    "        [0],\n",
    "        [2],\n",
    "        [2],\n",
    "    ],\n",
    "    [\n",
    "        [\n",
    "            0,\n",
    "            -1,\n",
    "        ],\n",
    "        [\n",
    "            0,\n",
    "            0,\n",
    "        ],\n",
    "        [\n",
    "            0,\n",
    "            2,\n",
    "        ],\n",
    "        [\n",
    "            0,\n",
    "            2,\n",
    "        ],\n",
    "    ],\n",
    "    [\n",
    "        [\n",
    "            2,\n",
    "            0,\n",
    "        ],\n",
    "        [\n",
    "            0,\n",
    "            0,\n",
    "        ],\n",
    "        [\n",
    "            -1,\n",
    "            0,\n",
    "        ],\n",
    "    ],\n",
    "]:\n",
    "\n",
    "    xxxx = np.asarray(xxxx)\n",
    "\n",
    "    print(kraft.grid.get_1d_grid(xxxx))"
   ]
  },
  {
   "cell_type": "markdown",
   "metadata": {},
   "source": [
    "## make_nd_grid"
   ]
  },
  {
   "cell_type": "code",
   "execution_count": null,
   "metadata": {
    "execution": {
     "iopub.execute_input": "2021-05-30T07:00:28.279783Z",
     "iopub.status.busy": "2021-05-30T07:00:28.279179Z",
     "iopub.status.idle": "2021-05-30T07:00:28.295331Z",
     "shell.execute_reply": "2021-05-30T07:00:28.295756Z"
    }
   },
   "outputs": [],
   "source": [
    "kraft.grid.make_nd_grid(\n",
    "    [\n",
    "        np.asarray(\n",
    "            [\n",
    "                -1,\n",
    "                0,\n",
    "                1,\n",
    "            ]\n",
    "        ),\n",
    "        np.asarray(\n",
    "            [\n",
    "                -2,\n",
    "                4,\n",
    "            ]\n",
    "        ),\n",
    "    ]\n",
    ")"
   ]
  },
  {
   "cell_type": "markdown",
   "metadata": {},
   "source": [
    "## plot"
   ]
  },
  {
   "cell_type": "code",
   "execution_count": null,
   "metadata": {
    "execution": {
     "iopub.execute_input": "2021-05-30T07:00:28.303285Z",
     "iopub.status.busy": "2021-05-30T07:00:28.302742Z",
     "iopub.status.idle": "2021-05-30T07:00:28.612160Z",
     "shell.execute_reply": "2021-05-30T07:00:28.612490Z"
    },
    "tags": []
   },
   "outputs": [],
   "source": [
    "for (co_po_di, nu_,) in [\n",
    "    [\n",
    "        [\n",
    "            [\n",
    "                -1,\n",
    "            ],\n",
    "            [\n",
    "                0,\n",
    "            ],\n",
    "            [\n",
    "                1,\n",
    "            ],\n",
    "        ],\n",
    "        [\n",
    "            -1,\n",
    "            0,\n",
    "            2,\n",
    "        ],\n",
    "    ],\n",
    "    [\n",
    "        [\n",
    "            [\n",
    "                -1,\n",
    "                0,\n",
    "            ],\n",
    "            [\n",
    "                0,\n",
    "                0,\n",
    "            ],\n",
    "            [\n",
    "                1,\n",
    "                0,\n",
    "            ],\n",
    "        ],\n",
    "        [\n",
    "            -1,\n",
    "            0,\n",
    "            2,\n",
    "        ],\n",
    "    ],\n",
    "    [\n",
    "        [\n",
    "            [\n",
    "                -1,\n",
    "                -1,\n",
    "            ],\n",
    "            [\n",
    "                0,\n",
    "                -1,\n",
    "            ],\n",
    "            [\n",
    "                1,\n",
    "                -1,\n",
    "            ],\n",
    "            [\n",
    "                -1,\n",
    "                1,\n",
    "            ],\n",
    "            [\n",
    "                0,\n",
    "                1,\n",
    "            ],\n",
    "            [\n",
    "                1,\n",
    "                1,\n",
    "            ],\n",
    "        ],\n",
    "        [\n",
    "            -1,\n",
    "            0,\n",
    "            2,\n",
    "            4,\n",
    "            8,\n",
    "            16,\n",
    "        ],\n",
    "    ],\n",
    "    [\n",
    "        [\n",
    "            [\n",
    "                -1,\n",
    "                -1,\n",
    "            ],\n",
    "            [\n",
    "                0,\n",
    "                -1,\n",
    "            ],\n",
    "            [\n",
    "                1,\n",
    "                -1,\n",
    "            ],\n",
    "            [\n",
    "                -1,\n",
    "                0,\n",
    "            ],\n",
    "            [\n",
    "                0,\n",
    "                0,\n",
    "            ],\n",
    "            [\n",
    "                1,\n",
    "                0,\n",
    "            ],\n",
    "            [\n",
    "                -1,\n",
    "                1,\n",
    "            ],\n",
    "            [\n",
    "                0,\n",
    "                1,\n",
    "            ],\n",
    "            [\n",
    "                1,\n",
    "                1,\n",
    "            ],\n",
    "        ],\n",
    "        [\n",
    "            -1,\n",
    "            0,\n",
    "            2,\n",
    "            4,\n",
    "            8,\n",
    "            16,\n",
    "            32,\n",
    "            64,\n",
    "            128,\n",
    "        ],\n",
    "    ],\n",
    "    [\n",
    "        [\n",
    "            [\n",
    "                0,\n",
    "                2,\n",
    "                4,\n",
    "            ],\n",
    "            [\n",
    "                1,\n",
    "                2,\n",
    "                4,\n",
    "            ],\n",
    "            [\n",
    "                0,\n",
    "                3,\n",
    "                4,\n",
    "            ],\n",
    "            [\n",
    "                1,\n",
    "                3,\n",
    "                4,\n",
    "            ],\n",
    "            [\n",
    "                0,\n",
    "                2,\n",
    "                5,\n",
    "            ],\n",
    "            [\n",
    "                1,\n",
    "                2,\n",
    "                5,\n",
    "            ],\n",
    "            [\n",
    "                0,\n",
    "                3,\n",
    "                5,\n",
    "            ],\n",
    "            [\n",
    "                1,\n",
    "                3,\n",
    "                5,\n",
    "            ],\n",
    "        ],\n",
    "        np.arange(8),\n",
    "    ],\n",
    "]:\n",
    "\n",
    "    kraft.grid.plot(\n",
    "        np.asarray(co_po_di),\n",
    "        np.asarray(nu_),\n",
    "    )"
   ]
  }
 ],
 "metadata": {
  "kernelspec": {
   "display_name": "Python 3",
   "language": "python",
   "name": "python3"
  },
  "language_info": {
   "codemirror_mode": {
    "name": "ipython",
    "version": 3
   },
   "file_extension": ".py",
   "mimetype": "text/x-python",
   "name": "python",
   "nbconvert_exporter": "python",
   "pygments_lexer": "ipython3",
   "version": "3.8.9"
  }
 },
 "nbformat": 4,
 "nbformat_minor": 4
}
