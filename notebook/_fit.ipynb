{
 "cells": [
  {
   "cell_type": "code",
   "execution_count": null,
   "metadata": {},
   "outputs": [],
   "source": [
    "import plotly"
   ]
  },
  {
   "cell_type": "code",
   "execution_count": null,
   "metadata": {},
   "outputs": [],
   "source": [
    "plotly.offline.init_notebook_mode(connected=True)"
   ]
  },
  {
   "cell_type": "code",
   "execution_count": null,
   "metadata": {},
   "outputs": [],
   "source": [
    "from scipy.optimize import minimize"
   ]
  },
  {
   "cell_type": "code",
   "execution_count": null,
   "metadata": {},
   "outputs": [],
   "source": [
    "def objective_function_test(parameters):\n",
    "\n",
    "    a, b = parameters\n",
    "\n",
    "    return float(a + b)\n",
    "\n",
    "\n",
    "minimize(objective_function_test, (8, 8), bounds=((0, None), (0, None)))"
   ]
  },
  {
   "cell_type": "code",
   "execution_count": null,
   "metadata": {},
   "outputs": [],
   "source": [
    "import numpy as np"
   ]
  },
  {
   "cell_type": "code",
   "execution_count": null,
   "metadata": {},
   "outputs": [],
   "source": [
    "import ccal"
   ]
  },
  {
   "cell_type": "code",
   "execution_count": null,
   "metadata": {},
   "outputs": [],
   "source": [
    "np.random.seed(seed=ccal.RANDOM_SEED)"
   ]
  },
  {
   "cell_type": "code",
   "execution_count": null,
   "metadata": {},
   "outputs": [],
   "source": [
    "from statsmodels.sandbox.distributions.extras import ACSkewT_gen"
   ]
  },
  {
   "cell_type": "code",
   "execution_count": null,
   "metadata": {},
   "outputs": [],
   "source": [
    "def objective_function(parameters, y_pdf, model, x):\n",
    "\n",
    "    degree_of_freedom, shape, location, scale = parameters\n",
    "\n",
    "    return (\n",
    "        (y_pdf - model.pdf(x, degree_of_freedom, shape, loc=location, scale=scale))\n",
    "        ** 2\n",
    "        ** 0.5\n",
    "    ).sum()"
   ]
  },
  {
   "cell_type": "code",
   "execution_count": null,
   "metadata": {},
   "outputs": [],
   "source": [
    "location = 0\n",
    "\n",
    "scale = 1\n",
    "\n",
    "y = np.random.normal(loc=location, scale=scale, size=128)\n",
    "\n",
    "over = (y.max() - y.min()) * 0\n",
    "\n",
    "x = np.linspace(y.min() - over, y.max() + over, num=y.size)\n",
    "\n",
    "model = ACSkewT_gen()\n",
    "\n",
    "fit_result = model.fit(y, loc=location, scale=scale)\n",
    "\n",
    "y_fit_pdf = model.pdf(\n",
    "    x, fit_result[0], fit_result[1], loc=fit_result[2], scale=fit_result[3]\n",
    ")\n",
    "\n",
    "for method in (\n",
    "    \"Nelder-Mead\",\n",
    "    \"Powell\",\n",
    "    \"CG\",\n",
    "    #     \"BFGS\",\n",
    "    #     \"Newton-CG\",\n",
    "    #     \"L-BFGS-B\",\n",
    "    #     \"TNC\",\n",
    "    #     \"COBYLA\",\n",
    "    #     \"SLSQP\",\n",
    "    #     \"trust-constr\",\n",
    "    #     \"dogleg\",\n",
    "    #     \"trust-ncg\",\n",
    "    #     \"trust-exact\",\n",
    "    #     \"trust-krylov\",\n",
    "):\n",
    "\n",
    "    print(method)\n",
    "\n",
    "    minimize_result = minimize(\n",
    "        objective_function,\n",
    "        (1, 0, location, scale),\n",
    "        args=(y, model, x),\n",
    "        method=method,\n",
    "        bounds=((0, None), (0, 24), (-8, 8), (0, None)),\n",
    "    )\n",
    "\n",
    "    ccal.plot_and_save(\n",
    "        {\n",
    "            \"layout\": {},\n",
    "            \"data\": [\n",
    "                {\n",
    "                    \"type\": \"histogram\",\n",
    "                    \"name\": \"Y Distribution\",\n",
    "                    \"histnorm\": \"probability density\",\n",
    "                    \"x\": y,\n",
    "                },\n",
    "                {\n",
    "                    \"type\": \"scatter\",\n",
    "                    \"name\": \"Y PDF (parameters from fit)\",\n",
    "                    \"x\": x,\n",
    "                    \"y\": y_fit_pdf,\n",
    "                },\n",
    "                {\n",
    "                    \"type\": \"scatter\",\n",
    "                    \"name\": \"Y PDF (parameters from minimize)\",\n",
    "                    \"x\": x,\n",
    "                    \"y\": model.pdf(\n",
    "                        x,\n",
    "                        np.e ** minimize_result.x[0],\n",
    "                        minimize_result.x[1],\n",
    "                        loc=minimize_result.x[2],\n",
    "                        scale=minimize_result.x[3],\n",
    "                    ),\n",
    "                },\n",
    "            ],\n",
    "        },\n",
    "        None,\n",
    "    )"
   ]
  }
 ],
 "metadata": {
  "kernelspec": {
   "display_name": "Python 3",
   "language": "python",
   "name": "python3"
  },
  "language_info": {
   "codemirror_mode": {
    "name": "ipython",
    "version": 3
   },
   "file_extension": ".py",
   "mimetype": "text/x-python",
   "name": "python",
   "nbconvert_exporter": "python",
   "pygments_lexer": "ipython3",
   "version": "3.6.7"
  }
 },
 "nbformat": 4,
 "nbformat_minor": 2
}
