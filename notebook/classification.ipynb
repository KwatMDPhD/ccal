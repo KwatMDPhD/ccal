{
 "cells": [
  {
   "cell_type": "code",
   "execution_count": null,
   "metadata": {
    "ExecuteTime": {
     "end_time": "2018-05-15T09:09:44.897877Z",
     "start_time": "2018-05-15T09:09:44.766972Z"
    }
   },
   "outputs": [],
   "source": [
    "%load_ext autoreload\n",
    "%autoreload 2"
   ]
  },
  {
   "cell_type": "code",
   "execution_count": null,
   "metadata": {
    "ExecuteTime": {
     "end_time": "2018-05-15T09:09:45.517550Z",
     "start_time": "2018-05-15T09:09:44.906100Z"
    }
   },
   "outputs": [],
   "source": [
    "import os\n",
    "import sys\n",
    "\n",
    "import numpy as np\n",
    "import pandas as pd\n",
    "import plotly as pl"
   ]
  },
  {
   "cell_type": "code",
   "execution_count": null,
   "metadata": {
    "ExecuteTime": {
     "end_time": "2018-05-15T09:09:45.517550Z",
     "start_time": "2018-05-15T09:09:44.906100Z"
    }
   },
   "outputs": [],
   "source": [
    "sys.path.insert(0, \"..\")\n",
    "\n",
    "np.random.random(20121020)\n",
    "\n",
    "pl.offline.init_notebook_mode(connected=True)"
   ]
  },
  {
   "cell_type": "code",
   "execution_count": null,
   "metadata": {
    "ExecuteTime": {
     "end_time": "2018-05-15T09:09:45.517550Z",
     "start_time": "2018-05-15T09:09:44.906100Z"
    }
   },
   "outputs": [],
   "source": [
    "training_sample_x_feature = np.asarray(((0, 1),) * 8 + ((2, 3),) * 8)\n",
    "\n",
    "training_sample_x_feature"
   ]
  },
  {
   "cell_type": "code",
   "execution_count": null,
   "metadata": {
    "ExecuteTime": {
     "end_time": "2018-05-15T09:09:45.838295Z",
     "start_time": "2018-05-15T09:09:45.709729Z"
    }
   },
   "outputs": [],
   "source": [
    "training_sample_class = np.asarray((0,) * 8 + (1,) * 8)\n",
    "\n",
    "training_sample_class"
   ]
  },
  {
   "cell_type": "code",
   "execution_count": null,
   "metadata": {
    "ExecuteTime": {
     "end_time": "2018-05-15T09:09:45.990946Z",
     "start_time": "2018-05-15T09:09:45.856023Z"
    }
   },
   "outputs": [],
   "source": [
    "testing_sample_x_feature = training_sample_x_feature[::-1]\n",
    "\n",
    "testing_sample_x_feature"
   ]
  },
  {
   "cell_type": "code",
   "execution_count": null,
   "metadata": {
    "ExecuteTime": {
     "end_time": "2018-05-15T09:09:48.469916Z",
     "start_time": "2018-05-15T09:09:45.998042Z"
    }
   },
   "outputs": [],
   "source": [
    "from classification.train_and_classify import train_and_classify\n",
    "\n",
    "testing_sample_class = train_and_classify(\n",
    "    training_sample_x_feature, training_sample_class, testing_sample_x_feature\n",
    ")\n",
    "\n",
    "testing_sample_class"
   ]
  }
 ],
 "metadata": {
  "kernelspec": {
   "display_name": "Python 3",
   "language": "python",
   "name": "python3"
  },
  "language_info": {
   "codemirror_mode": {
    "name": "ipython",
    "version": 3
   },
   "file_extension": ".py",
   "mimetype": "text/x-python",
   "name": "python",
   "nbconvert_exporter": "python",
   "pygments_lexer": "ipython3",
   "version": "3.6.7"
  }
 },
 "nbformat": 4,
 "nbformat_minor": 2
}
