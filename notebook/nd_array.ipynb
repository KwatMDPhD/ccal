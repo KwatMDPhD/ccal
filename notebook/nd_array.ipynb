{
 "cells": [
  {
   "cell_type": "code",
   "execution_count": null,
   "metadata": {
    "ExecuteTime": {
     "end_time": "2018-05-15T09:34:24.543872Z",
     "start_time": "2018-05-15T09:34:24.476455Z"
    }
   },
   "outputs": [],
   "source": [
    "%load_ext autoreload\n",
    "%autoreload 2"
   ]
  },
  {
   "cell_type": "code",
   "execution_count": null,
   "metadata": {},
   "outputs": [],
   "source": [
    "import os\n",
    "import sys\n",
    "\n",
    "import numpy as np\n",
    "import pandas as pd\n",
    "import plotly as pl"
   ]
  },
  {
   "cell_type": "code",
   "execution_count": null,
   "metadata": {
    "ExecuteTime": {
     "end_time": "2018-05-15T09:34:24.723108Z",
     "start_time": "2018-05-15T09:34:24.547779Z"
    }
   },
   "outputs": [],
   "source": [
    "sys.path.insert(0, \"..\")\n",
    "\n",
    "import ccal\n",
    "\n",
    "np.random.random(20121020)\n",
    "\n",
    "pl.offline.init_notebook_mode(connected=True)"
   ]
  },
  {
   "cell_type": "code",
   "execution_count": null,
   "metadata": {},
   "outputs": [],
   "source": [
    "_1d_array_0 = np.asarray((np.nan, -1, 0, 2, 4, 8))\n",
    "\n",
    "_1d_array_1 = np.asarray((8, np.inf, -np.inf, 4, 2, -1))"
   ]
  },
  {
   "cell_type": "code",
   "execution_count": null,
   "metadata": {},
   "outputs": [],
   "source": [
    "def function(_1d_array_0, _1d_array_1):\n",
    "\n",
    "    return _1d_array_0 + _1d_array_1"
   ]
  },
  {
   "cell_type": "code",
   "execution_count": null,
   "metadata": {},
   "outputs": [],
   "source": [
    "try:\n",
    "\n",
    "    function_return = ccal.apply_function_on_2_1d_arrays(\n",
    "        _1d_array_0, _1d_array_1, function\n",
    "    )\n",
    "\n",
    "    print(function_return)\n",
    "\n",
    "except ValueError as exception:\n",
    "\n",
    "    print(exception)"
   ]
  },
  {
   "cell_type": "code",
   "execution_count": null,
   "metadata": {},
   "outputs": [],
   "source": [
    "function_return = ccal.apply_function_on_2_1d_arrays(\n",
    "    _1d_array_0, _1d_array_1, function, raise_for_bad=False\n",
    ")\n",
    "\n",
    "function_return"
   ]
  },
  {
   "cell_type": "code",
   "execution_count": null,
   "metadata": {},
   "outputs": [],
   "source": [
    "try:\n",
    "\n",
    "    function_return = ccal.apply_function_on_2_1d_arrays(\n",
    "        _1d_array_0, _1d_array_1, function, raise_for_bad=False, use_only_good=False\n",
    "    )\n",
    "\n",
    "    print(function_return)\n",
    "\n",
    "except ValueError as exception:\n",
    "\n",
    "    print(exception)"
   ]
  },
  {
   "cell_type": "code",
   "execution_count": null,
   "metadata": {},
   "outputs": [],
   "source": [
    "try:\n",
    "\n",
    "    function_return = ccal.apply_function_on_2_1d_arrays(\n",
    "        _1d_array_0, _1d_array_1, function, n_required=4, raise_for_bad=False\n",
    "    )\n",
    "\n",
    "    print(function_return)\n",
    "\n",
    "except ValueError as exception:\n",
    "\n",
    "    print(exception)"
   ]
  },
  {
   "cell_type": "code",
   "execution_count": null,
   "metadata": {},
   "outputs": [],
   "source": [
    "function_return = ccal.apply_function_on_2_1d_arrays(\n",
    "    _1d_array_0,\n",
    "    _1d_array_1,\n",
    "    function,\n",
    "    n_required=4,\n",
    "    raise_for_n_less_than_required=False,\n",
    "    raise_for_bad=False,\n",
    ")\n",
    "\n",
    "function_return"
   ]
  },
  {
   "cell_type": "code",
   "execution_count": null,
   "metadata": {},
   "outputs": [],
   "source": [
    "from scipy.spatial.distance import euclidean"
   ]
  },
  {
   "cell_type": "code",
   "execution_count": null,
   "metadata": {},
   "outputs": [],
   "source": [
    "n_permutation = 100\n",
    "\n",
    "for p_value_direction in (\"less\", \"great\"):\n",
    "\n",
    "    print()\n",
    "\n",
    "    print(p_value_direction)\n",
    "\n",
    "    function_return = ccal.apply_function_on_2_1d_arrays(\n",
    "        _1d_array_0,\n",
    "        _1d_array_1,\n",
    "        euclidean,\n",
    "        n_permutation=n_permutation,\n",
    "        p_value_direction=p_value_direction,\n",
    "        raise_for_bad=False,\n",
    "    )\n",
    "\n",
    "    print(function_return)"
   ]
  },
  {
   "cell_type": "code",
   "execution_count": null,
   "metadata": {
    "ExecuteTime": {
     "end_time": "2018-05-15T09:34:25.181618Z",
     "start_time": "2018-05-15T09:34:25.095596Z"
    }
   },
   "outputs": [],
   "source": [
    "_2d_array_0 = np.random.random_sample(size=(8, 2))\n",
    "\n",
    "_2d_array_1 = np.random.random_sample(size=(8, 4))"
   ]
  },
  {
   "cell_type": "code",
   "execution_count": null,
   "metadata": {
    "ExecuteTime": {
     "end_time": "2018-05-15T09:34:25.181618Z",
     "start_time": "2018-05-15T09:34:25.095596Z"
    }
   },
   "outputs": [],
   "source": [
    "function_return = ccal.apply_function_on_2_2d_arrays_slices(\n",
    "    _2d_array_0, _2d_array_1, euclidean, 0\n",
    ")\n",
    "\n",
    "function_return"
   ]
  },
  {
   "cell_type": "code",
   "execution_count": null,
   "metadata": {
    "ExecuteTime": {
     "end_time": "2018-05-15T09:34:25.181618Z",
     "start_time": "2018-05-15T09:34:25.095596Z"
    }
   },
   "outputs": [],
   "source": [
    "try:\n",
    "\n",
    "    function_return = ccal.apply_function_on_2_2d_arrays_slices(\n",
    "        _2d_array_0, _2d_array_1, euclidean, 1\n",
    "    )\n",
    "\n",
    "    print(function_return)\n",
    "\n",
    "except ValueError as exception:\n",
    "\n",
    "    print(exception)"
   ]
  },
  {
   "cell_type": "code",
   "execution_count": null,
   "metadata": {
    "ExecuteTime": {
     "end_time": "2018-05-15T09:34:25.230729Z",
     "start_time": "2018-05-15T09:34:25.184068Z"
    }
   },
   "outputs": [],
   "source": [
    "for nd_array in (\n",
    "    np.asarray((np.nan, 0, 1)),\n",
    "    np.asarray((0, np.inf, 1)),\n",
    "    np.asarray((0, 1, -np.inf)),\n",
    "    np.asarray((np.nan, np.inf, -np.inf)),\n",
    "):\n",
    "\n",
    "    print()\n",
    "\n",
    "    print(nd_array)\n",
    "\n",
    "    try:\n",
    "\n",
    "        is_bad = ccal.check_nd_array_for_bad(nd_array)\n",
    "\n",
    "        print(is_bad)\n",
    "\n",
    "    except ValueError as exception:\n",
    "\n",
    "        print(exception)\n",
    "\n",
    "    is_bad = ccal.check_nd_array_for_bad(nd_array, raise_for_bad=False)\n",
    "\n",
    "    print(is_bad)"
   ]
  },
  {
   "cell_type": "code",
   "execution_count": null,
   "metadata": {
    "ExecuteTime": {
     "end_time": "2018-05-15T09:34:25.268767Z",
     "start_time": "2018-05-15T09:34:25.234226Z"
    }
   },
   "outputs": [],
   "source": [
    "nd_array = np.random.normal(size=16)\n",
    "\n",
    "nd_array.max(), nd_array.min()"
   ]
  },
  {
   "cell_type": "code",
   "execution_count": null,
   "metadata": {
    "ExecuteTime": {
     "end_time": "2018-05-15T09:34:25.268767Z",
     "start_time": "2018-05-15T09:34:25.234226Z"
    }
   },
   "outputs": [],
   "source": [
    "nd_array_clipped_by_standard_deviation = ccal.clip_nd_array_by_standard_deviation(\n",
    "    nd_array, 1\n",
    ")\n",
    "\n",
    "nd_array_clipped_by_standard_deviation.max(), nd_array_clipped_by_standard_deviation.min()"
   ]
  },
  {
   "cell_type": "code",
   "execution_count": null,
   "metadata": {
    "ExecuteTime": {
     "end_time": "2018-05-15T09:34:25.268767Z",
     "start_time": "2018-05-15T09:34:25.234226Z"
    }
   },
   "outputs": [],
   "source": [
    "nd_array[0] = np.nan\n",
    "\n",
    "nd_array[1] = np.inf\n",
    "\n",
    "nd_array[2] = -np.inf\n",
    "\n",
    "nd_array_clipped_by_standard_deviation = ccal.clip_nd_array_by_standard_deviation(\n",
    "    nd_array, 1, raise_for_bad=False\n",
    ")\n",
    "\n",
    "nd_array_clipped_by_standard_deviation.max(), nd_array_clipped_by_standard_deviation.min()"
   ]
  },
  {
   "cell_type": "code",
   "execution_count": null,
   "metadata": {
    "ExecuteTime": {
     "end_time": "2018-05-15T09:34:25.391597Z",
     "start_time": "2018-05-15T09:34:25.337609Z"
    }
   },
   "outputs": [],
   "source": [
    "_2d_array = np.asarray(\n",
    "    ((0, 0), (-2, 2), (-4, 4), (-8, 8), (0, 0), (-4, 4), (-8, 8), (-2, 2))\n",
    ")"
   ]
  },
  {
   "cell_type": "code",
   "execution_count": null,
   "metadata": {
    "ExecuteTime": {
     "end_time": "2018-05-15T09:34:25.391597Z",
     "start_time": "2018-05-15T09:34:25.337609Z"
    }
   },
   "outputs": [],
   "source": [
    "indices = ccal.cluster_2d_array_slices(_2d_array, 0)\n",
    "\n",
    "indices"
   ]
  },
  {
   "cell_type": "code",
   "execution_count": null,
   "metadata": {
    "ExecuteTime": {
     "end_time": "2018-05-15T09:34:25.391597Z",
     "start_time": "2018-05-15T09:34:25.337609Z"
    }
   },
   "outputs": [],
   "source": [
    "indices = ccal.cluster_2d_array_slices(\n",
    "    _2d_array, 0, groups=np.asarray((1,) * 4 + (0,) * 2 + (1,) * 2)\n",
    ")\n",
    "\n",
    "indices"
   ]
  },
  {
   "cell_type": "code",
   "execution_count": null,
   "metadata": {
    "ExecuteTime": {
     "end_time": "2018-05-15T09:34:25.391597Z",
     "start_time": "2018-05-15T09:34:25.337609Z"
    }
   },
   "outputs": [],
   "source": [
    "try:\n",
    "\n",
    "    indices = ccal.cluster_2d_array_slices(\n",
    "        _2d_array, 0, groups=np.asarray((1,) * 4 + (0,) * 2 + (1,) * 1)\n",
    "    )\n",
    "\n",
    "    print(indices)\n",
    "\n",
    "except ValueError as exception:\n",
    "\n",
    "    print(exception)"
   ]
  },
  {
   "cell_type": "code",
   "execution_count": null,
   "metadata": {
    "ExecuteTime": {
     "end_time": "2018-05-15T09:34:25.438551Z",
     "start_time": "2018-05-15T09:34:25.396390Z"
    }
   },
   "outputs": [],
   "source": [
    "value = 0\n",
    "\n",
    "random_values = np.asarray((-1, 0, 2, 4, 8))\n",
    "\n",
    "for p_value_direction in (\"less\", \"great\"):\n",
    "\n",
    "    print()\n",
    "\n",
    "    print(p_value_direction)\n",
    "\n",
    "    p_value = ccal.compute_empirical_p_value(value, random_values, p_value_direction)\n",
    "\n",
    "    print(p_value)"
   ]
  },
  {
   "cell_type": "code",
   "execution_count": null,
   "metadata": {
    "ExecuteTime": {
     "end_time": "2018-05-15T09:34:26.316487Z",
     "start_time": "2018-05-15T09:34:25.442705Z"
    }
   },
   "outputs": [],
   "source": [
    "values = np.asarray((-1, 0, 2, 4, 8))\n",
    "\n",
    "random_values = np.asarray(range(10))\n",
    "\n",
    "for p_value_direction in (\"less_or_great\", \"less\", \"great\"):\n",
    "\n",
    "    print()\n",
    "\n",
    "    print(p_value_direction)\n",
    "\n",
    "    p_values, fdrs = ccal.compute_empirical_p_values_and_fdrs(\n",
    "        values, random_values, p_value_direction\n",
    "    )\n",
    "\n",
    "    print(p_values, fdrs)"
   ]
  },
  {
   "cell_type": "code",
   "execution_count": null,
   "metadata": {
    "ExecuteTime": {
     "end_time": "2018-05-15T09:34:26.442469Z",
     "start_time": "2018-05-15T09:34:26.386701Z"
    }
   },
   "outputs": [],
   "source": [
    "for nd_array in (\n",
    "    np.random.normal(size=10),\n",
    "    np.asarray((8,)),\n",
    "    np.asarray((np.nan,)),\n",
    "    np.asarray((8, np.nan)),\n",
    "):\n",
    "\n",
    "    print()\n",
    "\n",
    "    print(nd_array)\n",
    "\n",
    "    margin_of_error = ccal.compute_nd_array_margin_of_error(\n",
    "        nd_array, raise_for_bad=False\n",
    "    )\n",
    "\n",
    "    print(margin_of_error)"
   ]
  },
  {
   "cell_type": "code",
   "execution_count": null,
   "metadata": {
    "ExecuteTime": {
     "end_time": "2018-05-15T09:34:26.542244Z",
     "start_time": "2018-05-15T09:34:26.501608Z"
    }
   },
   "outputs": [],
   "source": [
    "_1d_array = np.asarray((-1, 0, 2, 4, 8, -1, 0, 2, 4, 8))\n",
    "\n",
    "unique_objects_in_order = ccal.get_1d_array_unique_objects_in_order(_1d_array)\n",
    "\n",
    "unique_objects_in_order"
   ]
  },
  {
   "cell_type": "code",
   "execution_count": null,
   "metadata": {},
   "outputs": [],
   "source": [
    "_1d_array_0 = np.asarray((-1, 0, 2, 4, 8, 4, 2, 0, -1))\n",
    "\n",
    "_1d_array_1 = np.asarray((8, 4, 2, 0, -1, 0, 2, 4, 8))"
   ]
  },
  {
   "cell_type": "code",
   "execution_count": null,
   "metadata": {},
   "outputs": [],
   "source": [
    "pl.offline.iplot(\n",
    "    [\n",
    "        dict(type=\"scatter\", x=tuple(range(_1d_array_0.size)), y=_1d_array_0),\n",
    "        dict(type=\"scatter\", x=tuple(range(_1d_array_1.size)), y=_1d_array_1),\n",
    "    ]\n",
    ")\n",
    "\n",
    "is_intesection = ccal.get_intersections_between_2_1d_arrays(_1d_array_0, _1d_array_1)\n",
    "\n",
    "is_intesection"
   ]
  },
  {
   "cell_type": "code",
   "execution_count": null,
   "metadata": {
    "ExecuteTime": {
     "end_time": "2018-05-15T09:34:27.455640Z",
     "start_time": "2018-05-15T09:34:26.596268Z"
    }
   },
   "outputs": [],
   "source": [
    "_1d_array_0 += 1\n",
    "\n",
    "pl.offline.iplot(\n",
    "    [\n",
    "        dict(type=\"scatter\", x=tuple(range(_1d_array_0.size)), y=_1d_array_0),\n",
    "        dict(type=\"scatter\", x=tuple(range(_1d_array_1.size)), y=_1d_array_1),\n",
    "    ]\n",
    ")\n",
    "\n",
    "is_intesection = ccal.get_intersections_between_2_1d_arrays(_1d_array_0, _1d_array_1)\n",
    "\n",
    "is_intesection"
   ]
  },
  {
   "cell_type": "code",
   "execution_count": null,
   "metadata": {
    "ExecuteTime": {
     "end_time": "2018-05-15T09:34:27.840330Z",
     "start_time": "2018-05-15T09:34:27.746946Z"
    }
   },
   "outputs": [],
   "source": [
    "for nd_array in (\n",
    "    np.asarray((1, 2)),\n",
    "    np.asarray((0, 1, 2)),\n",
    "    np.asarray((-1, 0, 1, 2)),\n",
    "    np.asarray((1, 2, np.nan, np.inf, -np.inf)),\n",
    "    np.asarray((0, 1, 2, np.nan, np.inf, -np.inf)),\n",
    "    np.asarray((-1, 0, 1, 2, np.nan, np.inf, -np.inf)),\n",
    "    np.linspace(0, 2, 11),\n",
    "):\n",
    "\n",
    "    print()\n",
    "\n",
    "    print(nd_array)\n",
    "\n",
    "    for shift_as_necessary_to_achieve_min_before_logging in (0, 1):\n",
    "\n",
    "        for log_base in (\n",
    "            #'2',\n",
    "            \"e\",\n",
    "            #'10',\n",
    "        ):\n",
    "\n",
    "            print()\n",
    "\n",
    "            print(shift_as_necessary_to_achieve_min_before_logging, log_base)\n",
    "\n",
    "            nd_array_logged = ccal.log_nd_array(\n",
    "                nd_array,\n",
    "                shift_as_necessary_to_achieve_min_before_logging=shift_as_necessary_to_achieve_min_before_logging,\n",
    "                log_base=log_base,\n",
    "                raise_for_bad=False,\n",
    "            )\n",
    "\n",
    "            print(nd_array_logged)"
   ]
  },
  {
   "cell_type": "code",
   "execution_count": null,
   "metadata": {},
   "outputs": [],
   "source": [
    "coordinates = np.asarray(range(10))\n",
    "\n",
    "coordinates_for_reflection = ccal.make_coordinates_for_reflection(\n",
    "    coordinates, coordinates[1]\n",
    ")\n",
    "\n",
    "coordinates_for_reflection"
   ]
  },
  {
   "cell_type": "code",
   "execution_count": null,
   "metadata": {
    "ExecuteTime": {
     "end_time": "2018-05-15T09:34:27.513952Z",
     "start_time": "2018-05-15T09:34:27.458615Z"
    }
   },
   "outputs": [],
   "source": [
    "mesh_grid_coordinates_per_axis = ccal.make_mesh_grid_coordinates_per_axis(\n",
    "    (0, 0), (8, 8), (2, 2)\n",
    ")\n",
    "\n",
    "mesh_grid_coordinates_per_axis"
   ]
  },
  {
   "cell_type": "code",
   "execution_count": null,
   "metadata": {
    "ExecuteTime": {
     "end_time": "2018-05-15T09:34:27.577833Z",
     "start_time": "2018-05-15T09:34:27.517718Z"
    }
   },
   "outputs": [],
   "source": [
    "for nd_array in (\n",
    "    np.asarray((0, 1, -1)),\n",
    "    np.asarray((-1, 0, 1)),\n",
    "    np.asarray((1, 0, -1)),\n",
    "    np.asarray((0, 0, 0)),\n",
    "    np.asarray((0, 1)),\n",
    "    np.asarray((1, 0)),\n",
    "):\n",
    "\n",
    "    print()\n",
    "\n",
    "    print(nd_array)\n",
    "\n",
    "    is_sorted = ccal.nd_array_is_sorted(nd_array)\n",
    "\n",
    "    print(is_sorted)"
   ]
  },
  {
   "cell_type": "code",
   "execution_count": null,
   "metadata": {
    "ExecuteTime": {
     "end_time": "2018-05-15T09:34:27.742204Z",
     "start_time": "2018-05-15T09:34:27.584485Z"
    }
   },
   "outputs": [],
   "source": [
    "for _1d_array in (\n",
    "    np.asarray((-1, 0, 1)),\n",
    "    np.asarray((-1, -np.inf, 0, np.nan, 1, np.inf)),\n",
    "    np.asarray((0, 0)),\n",
    "    np.asarray((1, 1)),\n",
    "    np.asarray((2,)),\n",
    "):\n",
    "\n",
    "    print()\n",
    "\n",
    "    print(_1d_array)\n",
    "\n",
    "    for method in (\"-0-\", \"0-1\", \"sum\", \"rank\"):\n",
    "\n",
    "        print()\n",
    "\n",
    "        print(method)\n",
    "\n",
    "        try:\n",
    "\n",
    "            normalized_1d_array = ccal.normalize_nd_array(\n",
    "                _1d_array, None, method, raise_for_bad=False\n",
    "            )\n",
    "\n",
    "            print(normalized_1d_array)\n",
    "\n",
    "        except ValueError as exception:\n",
    "\n",
    "            print(exception)"
   ]
  },
  {
   "cell_type": "code",
   "execution_count": null,
   "metadata": {
    "ExecuteTime": {
     "end_time": "2018-05-15T09:34:27.742204Z",
     "start_time": "2018-05-15T09:34:27.584485Z"
    }
   },
   "outputs": [],
   "source": [
    "for _2d_array in (\n",
    "    np.asarray(((0, 1, 2), (3, 4, 5), (6, 7, 8)), dtype=float),\n",
    "    np.asarray(((np.nan, 0, 1, 2), (3, np.inf, 4, 5), (6, 7, -np.inf, 8))),\n",
    "):\n",
    "\n",
    "    print()\n",
    "\n",
    "    print(_2d_array)\n",
    "\n",
    "    for axis in (None, 0, 1):\n",
    "\n",
    "        for method in (\"-0-\", \"0-1\", \"sum\", \"rank\"):\n",
    "\n",
    "            print()\n",
    "\n",
    "            print(axis, method)\n",
    "\n",
    "            normalized_2d_array = ccal.normalize_nd_array(\n",
    "                _2d_array, axis, method, raise_for_bad=False\n",
    "            )\n",
    "\n",
    "            print(normalized_2d_array)"
   ]
  },
  {
   "cell_type": "code",
   "execution_count": null,
   "metadata": {
    "ExecuteTime": {
     "end_time": "2018-05-15T09:34:27.908722Z",
     "start_time": "2018-05-15T09:34:27.843668Z"
    }
   },
   "outputs": [],
   "source": [
    "_2d_array = np.asarray((np.asarray(range(10)), np.asarray(range(10))[::-1]))\n",
    "\n",
    "for axis in (0, 1):\n",
    "\n",
    "    print()\n",
    "\n",
    "    print(axis)\n",
    "\n",
    "    _2d_array_shuffled = ccal.shuffle_each_2d_array_slice(_2d_array, axis)\n",
    "\n",
    "    print(_2d_array_shuffled)"
   ]
  }
 ],
 "metadata": {
  "kernelspec": {
   "display_name": "Python 3",
   "language": "python",
   "name": "python3"
  },
  "language_info": {
   "codemirror_mode": {
    "name": "ipython",
    "version": 3
   },
   "file_extension": ".py",
   "mimetype": "text/x-python",
   "name": "python",
   "nbconvert_exporter": "python",
   "pygments_lexer": "ipython3",
   "version": "3.6.7"
  }
 },
 "nbformat": 4,
 "nbformat_minor": 2
}
