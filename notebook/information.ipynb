{
 "cells": [
  {
   "cell_type": "code",
   "execution_count": null,
   "metadata": {
    "ExecuteTime": {
     "end_time": "2018-05-15T09:32:25.784225Z",
     "start_time": "2018-05-15T09:32:25.717889Z"
    }
   },
   "outputs": [],
   "source": [
    "%load_ext autoreload\n",
    "%autoreload 2"
   ]
  },
  {
   "cell_type": "code",
   "execution_count": null,
   "metadata": {},
   "outputs": [],
   "source": [
    "import os\n",
    "import sys\n",
    "\n",
    "import numpy as np\n",
    "import pandas as pd\n",
    "import plotly as pl"
   ]
  },
  {
   "cell_type": "code",
   "execution_count": null,
   "metadata": {
    "ExecuteTime": {
     "end_time": "2018-05-15T09:32:26.447016Z",
     "start_time": "2018-05-15T09:32:25.789108Z"
    }
   },
   "outputs": [],
   "source": [
    "sys.path.insert(0, \"..\")\n",
    "\n",
    "import ccal\n",
    "\n",
    "np.random.random(20121020)\n",
    "\n",
    "pl.offline.init_notebook_mode(connected=True)"
   ]
  },
  {
   "cell_type": "code",
   "execution_count": null,
   "metadata": {
    "ExecuteTime": {
     "end_time": "2018-05-15T09:32:27.685628Z",
     "start_time": "2018-05-15T09:32:26.669533Z"
    }
   },
   "outputs": [],
   "source": [
    "for arrar_1d in (\n",
    "    np.random.random_sample(8),\n",
    "    np.random.random_sample(16),\n",
    "    np.random.random_sample(32),\n",
    "    np.random.random_sample(64),\n",
    "    np.random.random_sample(128),\n",
    "    np.random.random_sample(256),\n",
    "    np.random.random_sample(512),\n",
    "    np.random.random_sample(1024),\n",
    "    np.random.random_sample(1000000),\n",
    "    np.asarray((0,) * 100),\n",
    "    np.asarray((1,) * 100),\n",
    "    np.asarray((1,) * 1000),\n",
    "    np.asarray((1,) * 10000),\n",
    "    np.asarray((1,) * 100000),\n",
    "    np.asarray((1,) * 1000000),\n",
    "):\n",
    "\n",
    "    entropy = ccal.compute_entropy(arrar_1d)\n",
    "\n",
    "    print(entropy)"
   ]
  },
  {
   "cell_type": "code",
   "execution_count": null,
   "metadata": {
    "ExecuteTime": {
     "end_time": "2018-05-15T09:32:32.232401Z",
     "start_time": "2018-05-15T09:32:27.690390Z"
    }
   },
   "outputs": [],
   "source": [
    "for x, y in (\n",
    "    (np.asarray((0,) * 8),) * 2,\n",
    "    (np.asarray((1,) * 8),) * 2,\n",
    "    (np.asarray(range(8)), np.asarray(range(8))[::-1]),\n",
    "    (np.asarray((0, 1, 2, 3, 4, 5, 6, 7, 8, 7, 6, 5, 4, 3, 2, 1, 0)),) * 2,\n",
    "    (np.asarray((8, 7, 6, 5, 4, 3, 2, 1, 0, 1, 2, 3, 4, 5, 6, 7, 8)),) * 2,\n",
    "    (np.asarray((0, 1, 0, 1, 0, 1, 0, 1, 0, 1, 0, 1, 0, 1, 0, 1, 0)),) * 2,\n",
    "    (\n",
    "        np.asarray((1, 0, 1, 0, 1, 0, 1, 0, 1, 0, 1, 0, 1, 0, 1, 0, 1)),\n",
    "        np.asarray((0, 1, 0, 1, 0, 1, 0, 1, 0, 1, 0, 1, 0, 1, 0, 1, 0)),\n",
    "    ),\n",
    "):\n",
    "\n",
    "    print(0)\n",
    "\n",
    "    print(x)\n",
    "\n",
    "    print(y)\n",
    "\n",
    "    information_coefficient = ccal.compute_information_coefficient(x, y)\n",
    "\n",
    "    information_distance = ccal.compute_information_distance(x, y)\n",
    "\n",
    "    print(\n",
    "        \"Information Coefficient = {:.3f}\\tInformation Distance = {:.3f}\".format(\n",
    "            information_coefficient, information_distance\n",
    "        )\n",
    "    )"
   ]
  },
  {
   "cell_type": "code",
   "execution_count": null,
   "metadata": {},
   "outputs": [],
   "source": [
    "n = 3\n",
    "\n",
    "x = np.asarray((0,) * n + (1,) * n + (2,) * n)\n",
    "\n",
    "print(x)\n",
    "\n",
    "for factor in (0.1, 0.5, 1, 2, 10, 100):\n",
    "\n",
    "    y = x * factor\n",
    "\n",
    "    print()\n",
    "\n",
    "    print(y)\n",
    "\n",
    "    ic = ccal.compute_information_coefficient(x, y)\n",
    "\n",
    "    print(ic)"
   ]
  }
 ],
 "metadata": {
  "kernelspec": {
   "display_name": "Python 3",
   "language": "python",
   "name": "python3"
  },
  "language_info": {
   "codemirror_mode": {
    "name": "ipython",
    "version": 3
   },
   "file_extension": ".py",
   "mimetype": "text/x-python",
   "name": "python",
   "nbconvert_exporter": "python",
   "pygments_lexer": "ipython3",
   "version": "3.6.7"
  }
 },
 "nbformat": 4,
 "nbformat_minor": 2
}
