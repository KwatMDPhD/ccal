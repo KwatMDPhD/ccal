{
 "cells": [
  {
   "cell_type": "code",
   "execution_count": null,
   "metadata": {
    "execution": {
     "iopub.execute_input": "2021-05-31T22:29:33.150493Z",
     "iopub.status.busy": "2021-05-31T22:29:33.149765Z",
     "iopub.status.idle": "2021-05-31T22:29:33.163259Z",
     "shell.execute_reply": "2021-05-31T22:29:33.163704Z"
    },
    "tags": []
   },
   "outputs": [],
   "source": [
    "%load_ext autoreload\n",
    "%autoreload 2"
   ]
  },
  {
   "cell_type": "code",
   "execution_count": null,
   "metadata": {
    "execution": {
     "iopub.execute_input": "2021-05-31T22:29:33.167116Z",
     "iopub.status.busy": "2021-05-31T22:29:33.166519Z",
     "iopub.status.idle": "2021-05-31T22:29:33.695301Z",
     "shell.execute_reply": "2021-05-31T22:29:33.695670Z"
    },
    "tags": []
   },
   "outputs": [],
   "source": [
    "import kraft"
   ]
  },
  {
   "cell_type": "code",
   "execution_count": null,
   "metadata": {
    "execution": {
     "iopub.execute_input": "2021-05-31T22:29:33.699076Z",
     "iopub.status.busy": "2021-05-31T22:29:33.698519Z",
     "iopub.status.idle": "2021-05-31T22:29:33.716319Z",
     "shell.execute_reply": "2021-05-31T22:29:33.716743Z"
    },
    "tags": []
   },
   "outputs": [],
   "source": [
    "import numpy as np"
   ]
  },
  {
   "cell_type": "code",
   "execution_count": null,
   "metadata": {
    "execution": {
     "iopub.execute_input": "2021-05-31T22:29:33.720328Z",
     "iopub.status.busy": "2021-05-31T22:29:33.719747Z",
     "iopub.status.idle": "2021-05-31T22:29:33.738584Z",
     "shell.execute_reply": "2021-05-31T22:29:33.738997Z"
    },
    "tags": []
   },
   "outputs": [],
   "source": [
    "ve1 = np.asarray([np.nan, 0, 1, 2])\n",
    "\n",
    "ve2 = np.asarray([4, 8, 0, np.nan])"
   ]
  },
  {
   "cell_type": "code",
   "execution_count": null,
   "metadata": {
    "execution": {
     "iopub.execute_input": "2021-05-31T22:29:33.743123Z",
     "iopub.status.busy": "2021-05-31T22:29:33.742540Z",
     "iopub.status.idle": "2021-05-31T22:29:33.762471Z",
     "shell.execute_reply": "2021-05-31T22:29:33.763222Z"
    },
    "tags": []
   },
   "outputs": [],
   "source": [
    "def plot_x_y(x_, y_, xaxis_title, yaxis_title, title=None):\n",
    "\n",
    "    kraft.plot.plot_plotly(\n",
    "        {\n",
    "            \"layout\": {\n",
    "                \"title\": title,\n",
    "                \"xaxis\": {\n",
    "                    \"title\": xaxis_title,\n",
    "                },\n",
    "                \"yaxis\": {\n",
    "                    \"title\": yaxis_title,\n",
    "                },\n",
    "            },\n",
    "            \"data\": [\n",
    "                {\n",
    "                    \"x\": x_,\n",
    "                    \"y\": y_,\n",
    "                }\n",
    "            ],\n",
    "        }\n",
    "    )"
   ]
  },
  {
   "cell_type": "markdown",
   "metadata": {},
   "source": [
    "## get_entropy"
   ]
  },
  {
   "cell_type": "code",
   "execution_count": null,
   "metadata": {
    "execution": {
     "iopub.execute_input": "2021-05-31T22:29:33.766618Z",
     "iopub.status.busy": "2021-05-31T22:29:33.766040Z",
     "iopub.status.idle": "2021-05-31T22:29:33.790512Z",
     "shell.execute_reply": "2021-05-31T22:29:33.790988Z"
    },
    "tags": []
   },
   "outputs": [],
   "source": [
    "kraft.information.get_entropy(ve1)"
   ]
  },
  {
   "cell_type": "code",
   "execution_count": null,
   "metadata": {
    "execution": {
     "iopub.execute_input": "2021-05-31T22:29:33.794891Z",
     "iopub.status.busy": "2021-05-31T22:29:33.794310Z",
     "iopub.status.idle": "2021-05-31T22:29:34.086542Z",
     "shell.execute_reply": "2021-05-31T22:29:34.086141Z"
    },
    "tags": []
   },
   "outputs": [],
   "source": [
    "x_ = []\n",
    "\n",
    "y_ = []\n",
    "\n",
    "for po in range(10):\n",
    "\n",
    "    n_da = 2 ** po\n",
    "\n",
    "    x_.append(n_da)\n",
    "\n",
    "    y_.append(kraft.information.get_entropy(np.full(n_da, 1)))\n",
    "\n",
    "plot_x_y(x_, y_, \"N\", \"Entropy\")"
   ]
  },
  {
   "cell_type": "markdown",
   "metadata": {},
   "source": [
    "## get_kld"
   ]
  },
  {
   "cell_type": "code",
   "execution_count": null,
   "metadata": {
    "execution": {
     "iopub.execute_input": "2021-05-31T22:29:34.089839Z",
     "iopub.status.busy": "2021-05-31T22:29:34.089336Z",
     "iopub.status.idle": "2021-05-31T22:29:34.113646Z",
     "shell.execute_reply": "2021-05-31T22:29:34.113245Z"
    },
    "tags": []
   },
   "outputs": [],
   "source": [
    "kraft.information.get_kld(ve1, ve2)"
   ]
  },
  {
   "cell_type": "code",
   "execution_count": null,
   "metadata": {
    "execution": {
     "iopub.execute_input": "2021-05-31T22:29:34.117372Z",
     "iopub.status.busy": "2021-05-31T22:29:34.116791Z",
     "iopub.status.idle": "2021-05-31T22:29:34.154183Z",
     "shell.execute_reply": "2021-05-31T22:29:34.154540Z"
    },
    "tags": []
   },
   "outputs": [],
   "source": [
    "x_ = []\n",
    "\n",
    "y_ = []\n",
    "\n",
    "for po in range(10):\n",
    "\n",
    "    n_da = 2 ** po\n",
    "\n",
    "    x_.append(n_da)\n",
    "\n",
    "    y_.append(\n",
    "        kraft.information.get_kld(\n",
    "            np.random.random_sample(n_da), np.random.random_sample(n_da)\n",
    "        ).sum()\n",
    "    )\n",
    "\n",
    "plot_x_y(x_, y_, \"N\", \"KLD\")"
   ]
  },
  {
   "cell_type": "markdown",
   "metadata": {},
   "source": [
    "## get_jsd"
   ]
  },
  {
   "cell_type": "code",
   "execution_count": null,
   "metadata": {
    "execution": {
     "iopub.execute_input": "2021-05-31T22:29:34.157560Z",
     "iopub.status.busy": "2021-05-31T22:29:34.157062Z",
     "iopub.status.idle": "2021-05-31T22:29:34.179131Z",
     "shell.execute_reply": "2021-05-31T22:29:34.179463Z"
    },
    "tags": []
   },
   "outputs": [],
   "source": [
    "kraft.information.get_jsd(ve1, ve2)"
   ]
  },
  {
   "cell_type": "code",
   "execution_count": null,
   "metadata": {
    "execution": {
     "iopub.execute_input": "2021-05-31T22:29:34.183197Z",
     "iopub.status.busy": "2021-05-31T22:29:34.182625Z",
     "iopub.status.idle": "2021-05-31T22:29:34.219531Z",
     "shell.execute_reply": "2021-05-31T22:29:34.219958Z"
    },
    "tags": []
   },
   "outputs": [],
   "source": [
    "x_ = []\n",
    "\n",
    "y_ = []\n",
    "\n",
    "for po in range(10):\n",
    "\n",
    "    n_da = 2 ** po\n",
    "\n",
    "    x_.append(n_da)\n",
    "\n",
    "    y_.append(\n",
    "        kraft.information.get_jsd(\n",
    "            np.random.random_sample(n_da), np.random.random_sample(n_da)\n",
    "        )[-1].sum()\n",
    "    )\n",
    "\n",
    "plot_x_y(x_, y_, \"N\", \"JSD\")"
   ]
  },
  {
   "cell_type": "markdown",
   "metadata": {},
   "source": [
    "## get_zd"
   ]
  },
  {
   "cell_type": "code",
   "execution_count": null,
   "metadata": {
    "execution": {
     "iopub.execute_input": "2021-05-31T22:29:34.222939Z",
     "iopub.status.busy": "2021-05-31T22:29:34.222440Z",
     "iopub.status.idle": "2021-05-31T22:29:34.243842Z",
     "shell.execute_reply": "2021-05-31T22:29:34.244372Z"
    },
    "tags": []
   },
   "outputs": [],
   "source": [
    "kraft.information.get_zd(ve1, ve2)"
   ]
  },
  {
   "cell_type": "code",
   "execution_count": null,
   "metadata": {
    "execution": {
     "iopub.execute_input": "2021-05-31T22:29:34.248032Z",
     "iopub.status.busy": "2021-05-31T22:29:34.247518Z",
     "iopub.status.idle": "2021-05-31T22:29:34.283136Z",
     "shell.execute_reply": "2021-05-31T22:29:34.283498Z"
    },
    "tags": []
   },
   "outputs": [],
   "source": [
    "x_ = []\n",
    "\n",
    "y_ = []\n",
    "\n",
    "for po in range(10):\n",
    "\n",
    "    n_da = 2 ** po\n",
    "\n",
    "    x_.append(n_da)\n",
    "\n",
    "    y_.append(\n",
    "        kraft.information.get_zd(\n",
    "            np.random.random_sample(n_da), np.random.random_sample(n_da)\n",
    "        )[-1].sum()\n",
    "    )\n",
    "\n",
    "plot_x_y(x_, y_, \"N\", \"ZD\")"
   ]
  },
  {
   "cell_type": "markdown",
   "metadata": {},
   "source": [
    "## get_ic"
   ]
  },
  {
   "cell_type": "code",
   "execution_count": null,
   "metadata": {
    "execution": {
     "iopub.execute_input": "2021-05-31T22:29:34.286769Z",
     "iopub.status.busy": "2021-05-31T22:29:34.286235Z",
     "iopub.status.idle": "2021-05-31T22:29:34.311363Z",
     "shell.execute_reply": "2021-05-31T22:29:34.311762Z"
    },
    "tags": []
   },
   "outputs": [],
   "source": [
    "try:\n",
    "\n",
    "    kraft.information.get_ic(ve1, ve2)\n",
    "\n",
    "except ValueError as er:\n",
    "\n",
    "    print(er)"
   ]
  },
  {
   "cell_type": "code",
   "execution_count": null,
   "metadata": {
    "ExecuteTime": {
     "end_time": "2018-05-15T09:32:32.232401Z",
     "start_time": "2018-05-15T09:32:27.690390Z"
    },
    "execution": {
     "iopub.execute_input": "2021-05-31T22:29:34.316372Z",
     "iopub.status.busy": "2021-05-31T22:29:34.315857Z",
     "iopub.status.idle": "2021-05-31T22:29:34.355900Z",
     "shell.execute_reply": "2021-05-31T22:29:34.356275Z"
    },
    "tags": []
   },
   "outputs": [],
   "source": [
    "for ve1, ve2 in [\n",
    "    [[0] * 8] * 2,\n",
    "    [[1] * 8] * 2,\n",
    "    [np.arange(8), np.arange(8)[::-1]],\n",
    "    [[0, 1, 2, 3, 4, 5, 6, 7, 8, 7, 6, 5, 4, 3, 2, 1, 0]] * 2,\n",
    "    [[8, 7, 6, 5, 4, 3, 2, 1, 0, 1, 2, 3, 4, 5, 6, 7, 8]] * 2,\n",
    "    [[0, 1] * 8, [0, 1] * 8],\n",
    "    [[0, 1] * 8, [1, 0] * 8],\n",
    "]:\n",
    "\n",
    "    print()\n",
    "\n",
    "    ve1 = np.asarray(ve1)\n",
    "\n",
    "    ve2 = np.asarray(ve2)\n",
    "\n",
    "    print(ve1)\n",
    "\n",
    "    print(ve2)\n",
    "\n",
    "    print(kraft.information.get_ic(ve1, ve2))"
   ]
  },
  {
   "cell_type": "code",
   "execution_count": null,
   "metadata": {
    "execution": {
     "iopub.execute_input": "2021-05-31T22:29:34.359445Z",
     "iopub.status.busy": "2021-05-31T22:29:34.358944Z",
     "iopub.status.idle": "2021-05-31T22:29:34.395825Z",
     "shell.execute_reply": "2021-05-31T22:29:34.396324Z"
    },
    "tags": []
   },
   "outputs": [],
   "source": [
    "ve1 = np.asarray([0, 0, 1, 1, 2, 2])\n",
    "\n",
    "for fa in [1, 2, 1 / 2, 10, 1 / 10]:\n",
    "\n",
    "    print()\n",
    "\n",
    "    ve2 = ve1 * fa\n",
    "\n",
    "    print(ve2)\n",
    "\n",
    "    print(kraft.information.get_ic(ve1, ve2))"
   ]
  },
  {
   "cell_type": "code",
   "execution_count": null,
   "metadata": {
    "execution": {
     "iopub.execute_input": "2021-05-31T22:29:34.400181Z",
     "iopub.status.busy": "2021-05-31T22:29:34.399631Z",
     "iopub.status.idle": "2021-05-31T22:29:34.456978Z",
     "shell.execute_reply": "2021-05-31T22:29:34.457323Z"
    },
    "tags": []
   },
   "outputs": [],
   "source": [
    "x_ = []\n",
    "\n",
    "y_ = []\n",
    "\n",
    "for po in range(10):\n",
    "\n",
    "    n = 2 ** po\n",
    "\n",
    "    x_.append(n)\n",
    "\n",
    "    y_.append(\n",
    "        kraft.information.get_ic(\n",
    "            np.random.random_sample(n_da), np.random.random_sample(n_da)\n",
    "        )\n",
    "    )\n",
    "\n",
    "plot_x_y(x_, y_, \"N\", \"IC\")"
   ]
  },
  {
   "cell_type": "markdown",
   "metadata": {},
   "source": [
    "## get_icd"
   ]
  },
  {
   "cell_type": "code",
   "execution_count": null,
   "metadata": {
    "execution": {
     "iopub.execute_input": "2021-05-31T22:29:34.460406Z",
     "iopub.status.busy": "2021-05-31T22:29:34.459878Z",
     "iopub.status.idle": "2021-05-31T22:29:34.483205Z",
     "shell.execute_reply": "2021-05-31T22:29:34.483550Z"
    },
    "tags": []
   },
   "outputs": [],
   "source": [
    "n_da = 1000\n",
    "\n",
    "kraft.information.get_icd(np.random.random_sample(n_da), np.random.random_sample(n_da))"
   ]
  }
 ],
 "metadata": {
  "kernelspec": {
   "display_name": "Python 3",
   "language": "python",
   "name": "python3"
  },
  "language_info": {
   "codemirror_mode": {
    "name": "ipython",
    "version": 3
   },
   "file_extension": ".py",
   "mimetype": "text/x-python",
   "name": "python",
   "nbconvert_exporter": "python",
   "pygments_lexer": "ipython3",
   "version": "3.8.9"
  }
 },
 "nbformat": 4,
 "nbformat_minor": 4
}
