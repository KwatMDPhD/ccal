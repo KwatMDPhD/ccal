{
 "cells": [
  {
   "cell_type": "code",
   "execution_count": 1,
   "metadata": {},
   "outputs": [],
   "source": [
    "%load_ext autoreload\n",
    "%autoreload 2"
   ]
  },
  {
   "cell_type": "code",
   "execution_count": 2,
   "metadata": {},
   "outputs": [],
   "source": [
    "import numpy as np"
   ]
  },
  {
   "cell_type": "code",
   "execution_count": 3,
   "metadata": {},
   "outputs": [],
   "source": [
    "import kraft"
   ]
  },
  {
   "cell_type": "code",
   "execution_count": 4,
   "metadata": {},
   "outputs": [],
   "source": [
    "np.random.seed(seed=kraft.RANDOM_SEED)"
   ]
  },
  {
   "cell_type": "code",
   "execution_count": 5,
   "metadata": {
    "ExecuteTime": {
     "end_time": "2018-05-15T09:32:27.685628Z",
     "start_time": "2018-05-15T09:32:26.669533Z"
    }
   },
   "outputs": [
    {
     "name": "stdout",
     "output_type": "stream",
     "text": [
      "1.9357526991925504\n",
      "2.597452583415552\n",
      "3.267812654789759\n",
      "4.009868487926065\n",
      "4.652164089833013\n",
      "5.362216450200923\n",
      "6.027186168829722\n",
      "6.7413717360405405\n",
      "13.622442318281966\n",
      "nan\n",
      "4.60517018598809\n",
      "6.907755278982134\n",
      "9.21034037197618\n",
      "11.512925464970223\n",
      "13.8155105579643\n"
     ]
    },
    {
     "name": "stderr",
     "output_type": "stream",
     "text": [
      "/home/kwat/github/kraft/kraft/compute_1d_array_entropy.py:6: RuntimeWarning:\n",
      "\n",
      "invalid value encountered in true_divide\n",
      "\n"
     ]
    }
   ],
   "source": [
    "for _1d_array in (\n",
    "    np.random.random_sample(8),\n",
    "    np.random.random_sample(16),\n",
    "    np.random.random_sample(32),\n",
    "    np.random.random_sample(64),\n",
    "    np.random.random_sample(128),\n",
    "    np.random.random_sample(256),\n",
    "    np.random.random_sample(512),\n",
    "    np.random.random_sample(1024),\n",
    "    np.random.random_sample(1000000),\n",
    "    np.asarray((0,) * 100),\n",
    "    np.asarray((1,) * 100),\n",
    "    np.asarray((1,) * 1000),\n",
    "    np.asarray((1,) * 10000),\n",
    "    np.asarray((1,) * 100000),\n",
    "    np.asarray((1,) * 1000000),\n",
    "):\n",
    "\n",
    "    print(kraft.compute_1d_array_entropy(_1d_array))"
   ]
  },
  {
   "cell_type": "code",
   "execution_count": 8,
   "metadata": {
    "ExecuteTime": {
     "end_time": "2018-05-15T09:32:32.232401Z",
     "start_time": "2018-05-15T09:32:27.690390Z"
    },
    "scrolled": false
   },
   "outputs": [
    {
     "name": "stdout",
     "output_type": "stream",
     "text": [
      "nan\n",
      "nan\n",
      "\n",
      "nan\n",
      "nan\n",
      "\n",
      "-0.9999065722576933\n",
      "0.9999532861288467\n",
      "\n",
      "0.9999087780296498\n",
      "4.5610985175081886e-05\n",
      "\n",
      "0.9999087571621776\n",
      "4.562141891117921e-05\n",
      "\n",
      "0.997208327469819\n",
      "0.0013958362650904887\n",
      "\n",
      "-0.9973871447697685\n",
      "0.9986935723848842\n",
      "\n",
      "0.06388350305619539\n",
      "0.4680582484719023\n",
      "\n"
     ]
    }
   ],
   "source": [
    "for _1d_array_0, _1d_array_1 in (\n",
    "    (np.asarray((0,) * 8),) * 2,\n",
    "    (np.asarray((1,) * 8),) * 2,\n",
    "    (np.asarray(range(8)), np.asarray(range(8))[::-1]),\n",
    "    (np.asarray((0, 1, 2, 3, 4, 5, 6, 7, 8, 7, 6, 5, 4, 3, 2, 1, 0)),) * 2,\n",
    "    (np.asarray((8, 7, 6, 5, 4, 3, 2, 1, 0, 1, 2, 3, 4, 5, 6, 7, 8)),) * 2,\n",
    "    (np.asarray((0, 1, 0, 1, 0, 1, 0, 1, 0, 1, 0, 1, 0, 1, 0, 1, 0)),) * 2,\n",
    "    (\n",
    "        np.asarray((1, 0, 1, 0, 1, 0, 1, 0, 1, 0, 1, 0, 1, 0, 1, 0, 1)),\n",
    "        np.asarray((0, 1, 0, 1, 0, 1, 0, 1, 0, 1, 0, 1, 0, 1, 0, 1, 0)),\n",
    "    ),\n",
    "    (np.random.random_sample(size=1000), np.random.random_sample(size=1000)),\n",
    "):\n",
    "\n",
    "    print(_1d_array_0)\n",
    "\n",
    "    print(_1d_array_1)\n",
    "\n",
    "    print(\n",
    "        kraft.compute_information_coefficient_between_2_1d_arrays(\n",
    "            _1d_array_0, _1d_array_1\n",
    "        )\n",
    "    )\n",
    "\n",
    "    print(\n",
    "        kraft.compute_information_distance_between_2_1d_arrays(_1d_array_0, _1d_array_1)\n",
    "    )\n",
    "\n",
    "    print()"
   ]
  },
  {
   "cell_type": "code",
   "execution_count": 7,
   "metadata": {},
   "outputs": [],
   "source": [
    "# n = 3\n",
    "\n",
    "# _1d_array_0 = np.asarray((0,) * n + (1,) * n + (2,) * n)\n",
    "\n",
    "# print(_1d_array_0)\n",
    "\n",
    "# for factor in (0.1, 0.5, 1, 2, 10, 100):\n",
    "\n",
    "#     _1d_array_1 = _1d_array_0 * factor\n",
    "\n",
    "#     print(_1d_array_1)\n",
    "\n",
    "#     print(\n",
    "#         kraft.compute_information_coefficient_between_2_1d_arrays(\n",
    "#             _1d_array_0, _1d_array_1\n",
    "#         )\n",
    "#     )\n",
    "\n",
    "#     print()"
   ]
  }
 ],
 "metadata": {
  "kernelspec": {
   "display_name": "Python 3",
   "language": "python",
   "name": "python3"
  },
  "language_info": {
   "codemirror_mode": {
    "name": "ipython",
    "version": 3
   },
   "file_extension": ".py",
   "mimetype": "text/x-python",
   "name": "python",
   "nbconvert_exporter": "python",
   "pygments_lexer": "ipython3",
   "version": "3.6.7"
  }
 },
 "nbformat": 4,
 "nbformat_minor": 2
}
