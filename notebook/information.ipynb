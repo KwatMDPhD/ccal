{
 "cells": [
  {
   "cell_type": "code",
   "execution_count": null,
   "metadata": {},
   "outputs": [],
   "source": [
    "import numpy as np"
   ]
  },
  {
   "cell_type": "code",
   "execution_count": null,
   "metadata": {},
   "outputs": [],
   "source": [
    "import kraft"
   ]
  },
  {
   "cell_type": "code",
   "execution_count": null,
   "metadata": {},
   "outputs": [],
   "source": [
    "np.random.seed(seed=kraft.RANDOM_SEED)"
   ]
  },
  {
   "cell_type": "code",
   "execution_count": null,
   "metadata": {},
   "outputs": [],
   "source": [
    "for power in range(9):\n",
    "\n",
    "    n = 2 ** power\n",
    "\n",
    "    print(\n",
    "        \"{} ({} random)\".format(\n",
    "            kraft.compute_vector_entropy(np.random.random_sample(size=n)), n\n",
    "        )\n",
    "    )\n",
    "\n",
    "    for value in (1, 2, 8):\n",
    "\n",
    "        print(\n",
    "            \"{} ({} {})\".format(\n",
    "                kraft.compute_vector_entropy(np.full(n, value)), n, value\n",
    "            )\n",
    "        )"
   ]
  },
  {
   "cell_type": "code",
   "execution_count": null,
   "metadata": {
    "ExecuteTime": {
     "end_time": "2018-05-15T09:32:32.232401Z",
     "start_time": "2018-05-15T09:32:27.690390Z"
    }
   },
   "outputs": [],
   "source": [
    "for vector_0, vector_1 in (\n",
    "    (np.asarray((0,) * 8),) * 2,\n",
    "    (np.asarray((1,) * 8),) * 2,\n",
    "    (np.asarray(range(8)), np.asarray(range(8))[::-1]),\n",
    "    (np.asarray((0, 1, 2, 3, 4, 5, 6, 7, 8, 7, 6, 5, 4, 3, 2, 1, 0)),) * 2,\n",
    "    (np.asarray((8, 7, 6, 5, 4, 3, 2, 1, 0, 1, 2, 3, 4, 5, 6, 7, 8)),) * 2,\n",
    "    (np.asarray((0, 1) * 8), np.asarray((0, 1) * 8)),\n",
    "    (np.asarray((0, 1) * 8), np.asarray((1, 0) * 8)),\n",
    "):\n",
    "\n",
    "    print(vector_0)\n",
    "\n",
    "    print(vector_1)\n",
    "\n",
    "    print(kraft.compute_information_coefficient_between_2_vectors(vector_0, vector_1))\n",
    "\n",
    "    print(kraft.compute_information_distance_between_2_vectors(vector_0, vector_1))\n",
    "\n",
    "    print()"
   ]
  },
  {
   "cell_type": "code",
   "execution_count": null,
   "metadata": {},
   "outputs": [],
   "source": [
    "for power in range(17):\n",
    "\n",
    "    n = 2 ** power\n",
    "\n",
    "    vector_0 = np.random.normal(size=n)\n",
    "\n",
    "    vector_1 = np.random.normal(size=n)\n",
    "\n",
    "    print(\n",
    "        \"{} (n={})\".format(\n",
    "            kraft.compute_information_coefficient_between_2_vectors(vector_0, vector_1),\n",
    "            n,\n",
    "        )\n",
    "    )"
   ]
  },
  {
   "cell_type": "code",
   "execution_count": null,
   "metadata": {},
   "outputs": [],
   "source": [
    "n = 2\n",
    "\n",
    "vector_0 = np.asarray((0,) * n + (1,) * n + (2,) * n)\n",
    "\n",
    "for factor in (1, 2, 1 / 2, 10, 1 / 10):\n",
    "\n",
    "    vector_1 = vector_0 * factor\n",
    "\n",
    "    print(vector_0)\n",
    "\n",
    "    print(vector_1)\n",
    "\n",
    "    print(kraft.compute_information_coefficient_between_2_vectors(vector_0, vector_1))\n",
    "\n",
    "    print()"
   ]
  },
  {
   "cell_type": "code",
   "execution_count": null,
   "metadata": {},
   "outputs": [],
   "source": [
    "n = 500\n",
    "\n",
    "vector_0 = np.random.random_sample(size=n)\n",
    "\n",
    "vector_1 = np.random.random_sample(size=n)"
   ]
  },
  {
   "cell_type": "code",
   "execution_count": null,
   "metadata": {},
   "outputs": [],
   "source": [
    "# %%timeit\n",
    "\n",
    "# kraft.compute_information_coefficient_between_2_vectors_r(\n",
    "#     vector_0,\n",
    "#     vector_1,\n",
    "# )"
   ]
  },
  {
   "cell_type": "code",
   "execution_count": null,
   "metadata": {},
   "outputs": [],
   "source": [
    "# kraft.compute_information_coefficient_between_2_vectors_r(vector_0, vector_1)"
   ]
  },
  {
   "cell_type": "code",
   "execution_count": null,
   "metadata": {},
   "outputs": [],
   "source": [
    "%%timeit\n",
    "\n",
    "kraft.compute_information_coefficient_between_2_vectors(\n",
    "    vector_0,\n",
    "    vector_1,\n",
    ")"
   ]
  },
  {
   "cell_type": "code",
   "execution_count": null,
   "metadata": {},
   "outputs": [],
   "source": [
    "kraft.compute_information_coefficient_between_2_vectors(vector_0, vector_1)"
   ]
  },
  {
   "cell_type": "code",
   "execution_count": null,
   "metadata": {},
   "outputs": [],
   "source": [
    "import cProfile"
   ]
  },
  {
   "cell_type": "code",
   "execution_count": null,
   "metadata": {},
   "outputs": [],
   "source": [
    "cProfile.run(\n",
    "    \"kraft.compute_information_coefficient_between_2_vectors(vector_0, vector_1)\",\n",
    "    sort=\"cumtime\",\n",
    ")"
   ]
  }
 ],
 "metadata": {
  "kernelspec": {
   "display_name": "Python 3",
   "language": "python",
   "name": "python3"
  },
  "language_info": {
   "codemirror_mode": {
    "name": "ipython",
    "version": 3
   },
   "file_extension": ".py",
   "mimetype": "text/x-python",
   "name": "python",
   "nbconvert_exporter": "python",
   "pygments_lexer": "ipython3",
   "version": "3.7.3"
  }
 },
 "nbformat": 4,
 "nbformat_minor": 4
}
