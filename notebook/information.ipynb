{
 "cells": [
  {
   "cell_type": "code",
   "execution_count": null,
   "metadata": {},
   "outputs": [],
   "source": [
    "%load_ext autoreload\n",
    "%autoreload 2"
   ]
  },
  {
   "cell_type": "code",
   "execution_count": null,
   "metadata": {},
   "outputs": [],
   "source": [
    "import cProfile\n",
    "\n",
    "import numpy as np\n",
    "\n",
    "import kraft"
   ]
  },
  {
   "cell_type": "code",
   "execution_count": null,
   "metadata": {},
   "outputs": [],
   "source": [
    "def plot_x_y(xs, ys, xaxis_title_text, yaxis_title_text, title_text=None):\n",
    "\n",
    "    kraft.plot_plotly(\n",
    "        {\n",
    "            \"layout\": {\n",
    "                \"title\": {\"text\": title_text},\n",
    "                \"xaxis\": {\"title\": {\"text\": xaxis_title_text}},\n",
    "                \"yaxis\": {\"title\": {\"text\": yaxis_title_text}},\n",
    "            },\n",
    "            \"data\": [{\"x\": xs, \"y\": ys}],\n",
    "        }\n",
    "    )"
   ]
  },
  {
   "cell_type": "markdown",
   "metadata": {},
   "source": [
    "## get_entropy"
   ]
  },
  {
   "cell_type": "code",
   "execution_count": null,
   "metadata": {},
   "outputs": [],
   "source": [
    "xs = []\n",
    "\n",
    "ys = []\n",
    "\n",
    "for power in range(10):\n",
    "\n",
    "    n = 2 ** power\n",
    "\n",
    "    xs.append(n)\n",
    "\n",
    "    vector = np.random.random_sample(size=n)\n",
    "\n",
    "    ys.append(kraft.get_entropy(vector))\n",
    "\n",
    "plot_x_y(xs, ys, \"N\", \"Entropy\")"
   ]
  },
  {
   "cell_type": "code",
   "execution_count": null,
   "metadata": {},
   "outputs": [],
   "source": [
    "xs = []\n",
    "\n",
    "ys = []\n",
    "\n",
    "for power in range(10):\n",
    "\n",
    "    n = 2 ** power\n",
    "\n",
    "    xs.append(n)\n",
    "\n",
    "    vector = np.full(n, 1)\n",
    "\n",
    "    ys.append(kraft.get_entropy(vector))\n",
    "\n",
    "plot_x_y(xs, ys, \"N\", \"Entropy\")"
   ]
  },
  {
   "cell_type": "markdown",
   "metadata": {},
   "source": [
    "## get_kld"
   ]
  },
  {
   "cell_type": "code",
   "execution_count": null,
   "metadata": {},
   "outputs": [],
   "source": [
    "xs = []\n",
    "\n",
    "ys = []\n",
    "\n",
    "for power in range(10):\n",
    "\n",
    "    n = 2 ** power\n",
    "\n",
    "    xs.append(n)\n",
    "\n",
    "    vector_0 = np.random.random_sample(size=n)\n",
    "\n",
    "    vector_1 = np.random.random_sample(size=n)\n",
    "\n",
    "    klds = kraft.get_kld(vector_0, vector_1)\n",
    "\n",
    "    ys.append(klds.sum())\n",
    "\n",
    "plot_x_y(xs, ys, \"N\", \"KLD\")"
   ]
  },
  {
   "cell_type": "markdown",
   "metadata": {},
   "source": [
    "## get_jsd"
   ]
  },
  {
   "cell_type": "code",
   "execution_count": null,
   "metadata": {},
   "outputs": [],
   "source": [
    "xs = []\n",
    "\n",
    "ys = []\n",
    "\n",
    "for power in range(10):\n",
    "\n",
    "    n = 2 ** power\n",
    "\n",
    "    xs.append(n)\n",
    "\n",
    "    vector_0 = np.random.random_sample(size=n)\n",
    "\n",
    "    vector_1 = np.random.random_sample(size=n)\n",
    "\n",
    "    jsds = kraft.get_jsd(vector_0, vector_1)[-1]\n",
    "\n",
    "    ys.append(jsds.sum())\n",
    "\n",
    "plot_x_y(xs, ys, \"N\", \"JSD\")"
   ]
  },
  {
   "cell_type": "markdown",
   "metadata": {},
   "source": [
    "## get_zd"
   ]
  },
  {
   "cell_type": "code",
   "execution_count": null,
   "metadata": {},
   "outputs": [],
   "source": [
    "xs = []\n",
    "\n",
    "ys = []\n",
    "\n",
    "for power in range(10):\n",
    "\n",
    "    n = 2 ** power\n",
    "\n",
    "    xs.append(n)\n",
    "\n",
    "    vector_0 = np.random.random_sample(size=n)\n",
    "\n",
    "    vector_1 = np.random.random_sample(size=n)\n",
    "\n",
    "    zds = kraft.get_zd(vector_0, vector_1)[-1]\n",
    "\n",
    "    ys.append(zds.sum())\n",
    "\n",
    "plot_x_y(xs, ys, \"N\", \"ZD\")"
   ]
  },
  {
   "cell_type": "markdown",
   "metadata": {},
   "source": [
    "## get_ic"
   ]
  },
  {
   "cell_type": "code",
   "execution_count": null,
   "metadata": {
    "ExecuteTime": {
     "end_time": "2018-05-15T09:32:32.232401Z",
     "start_time": "2018-05-15T09:32:27.690390Z"
    }
   },
   "outputs": [],
   "source": [
    "for vector_0, vector_1 in (\n",
    "    ((0,) * 8,) * 2,\n",
    "    ((1,) * 8,) * 2,\n",
    "    (np.arange(8), np.arange(8)[::-1]),\n",
    "    ((0, 1, 2, 3, 4, 5, 6, 7, 8, 7, 6, 5, 4, 3, 2, 1, 0),) * 2,\n",
    "    ((8, 7, 6, 5, 4, 3, 2, 1, 0, 1, 2, 3, 4, 5, 6, 7, 8),) * 2,\n",
    "    ((0, 1) * 8, ((0, 1) * 8)),\n",
    "    ((0, 1) * 8, ((1, 0) * 8)),\n",
    "):\n",
    "\n",
    "    vector_0 = np.asarray(vector_0)\n",
    "\n",
    "    vector_1 = np.asarray(vector_1)\n",
    "\n",
    "    print(vector_0)\n",
    "\n",
    "    print(vector_1)\n",
    "\n",
    "    print(kraft.get_ic(vector_0, vector_1))"
   ]
  },
  {
   "cell_type": "code",
   "execution_count": null,
   "metadata": {},
   "outputs": [],
   "source": [
    "n = 2\n",
    "\n",
    "vector_0 = np.asarray((0, 0, 1, 1, 2, 2))\n",
    "\n",
    "print(vector_0)\n",
    "\n",
    "for factor in (1, 2, 1 / 2, 10, 1 / 10):\n",
    "\n",
    "    vector_1 = vector_0 * factor\n",
    "\n",
    "    print(vector_1)\n",
    "\n",
    "    print(kraft.get_ic(vector_0, vector_1))"
   ]
  },
  {
   "cell_type": "code",
   "execution_count": null,
   "metadata": {},
   "outputs": [],
   "source": [
    "xs = []\n",
    "\n",
    "ys = []\n",
    "\n",
    "for power in range(10):\n",
    "\n",
    "    n = 2 ** power\n",
    "\n",
    "    xs.append(n)\n",
    "\n",
    "    vector_0 = np.random.random_sample(size=n)\n",
    "\n",
    "    vector_1 = np.random.random_sample(size=n)\n",
    "\n",
    "    ys.append(kraft.get_ic(vector_0, vector_1))\n",
    "\n",
    "plot_x_y(xs, ys, \"N\", \"IC\")"
   ]
  },
  {
   "cell_type": "code",
   "execution_count": null,
   "metadata": {},
   "outputs": [],
   "source": [
    "n = 100\n",
    "\n",
    "vector_0 = np.random.random_sample(size=n)\n",
    "\n",
    "vector_1 = np.random.random_sample(size=n)\n",
    "\n",
    "print(kraft.get_ic(vector_0, vector_1))"
   ]
  },
  {
   "cell_type": "code",
   "execution_count": null,
   "metadata": {},
   "outputs": [],
   "source": [
    "%%timeit\n",
    "\n",
    "kraft.get_ic(vector_0, vector_1)"
   ]
  },
  {
   "cell_type": "code",
   "execution_count": null,
   "metadata": {},
   "outputs": [],
   "source": [
    "cProfile.run(\"kraft.get_ic(vector_0, vector_1)\", sort=\"cumtime\")"
   ]
  }
 ],
 "metadata": {
  "kernelspec": {
   "display_name": "Python 3",
   "language": "python",
   "name": "python3"
  },
  "language_info": {
   "codemirror_mode": {
    "name": "ipython",
    "version": 3
   },
   "file_extension": ".py",
   "mimetype": "text/x-python",
   "name": "python",
   "nbconvert_exporter": "python",
   "pygments_lexer": "ipython3",
   "version": "3.7.6"
  }
 },
 "nbformat": 4,
 "nbformat_minor": 4
}
