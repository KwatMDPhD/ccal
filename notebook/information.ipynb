{
 "cells": [
  {
   "cell_type": "code",
   "execution_count": null,
   "metadata": {
    "tags": []
   },
   "outputs": [],
   "source": [
    "%load_ext autoreload\n",
    "%autoreload 2"
   ]
  },
  {
   "cell_type": "code",
   "execution_count": null,
   "metadata": {
    "tags": []
   },
   "outputs": [],
   "source": [
    "import kraft"
   ]
  },
  {
   "cell_type": "code",
   "execution_count": null,
   "metadata": {
    "tags": []
   },
   "outputs": [],
   "source": [
    "import numpy as np"
   ]
  },
  {
   "cell_type": "code",
   "execution_count": null,
   "metadata": {
    "tags": []
   },
   "outputs": [],
   "source": [
    "nu1_ = np.asarray([np.nan, 0, 1, 2])\n",
    "\n",
    "nu2_ = np.asarray([4, 8, 0, np.nan])"
   ]
  },
  {
   "cell_type": "code",
   "execution_count": null,
   "metadata": {
    "tags": []
   },
   "outputs": [],
   "source": [
    "def plot_x_y(x_, y_, xaxis_title_text, yaxis_title_text, title_text=None):\n",
    "\n",
    "    kraft.plot.plot_plotly(\n",
    "        {\n",
    "            \"layout\": {\n",
    "                \"title\": {\n",
    "                    \"text\": title_text,\n",
    "                },\n",
    "                \"xaxis\": {\n",
    "                    \"title\": {\n",
    "                        \"text\": xaxis_title_text,\n",
    "                    },\n",
    "                },\n",
    "                \"yaxis\": {\n",
    "                    \"title\": {\n",
    "                        \"text\": yaxis_title_text,\n",
    "                    },\n",
    "                },\n",
    "            },\n",
    "            \"data\": [\n",
    "                {\n",
    "                    \"x\": x_,\n",
    "                    \"y\": y_,\n",
    "                }\n",
    "            ],\n",
    "        }\n",
    "    )"
   ]
  },
  {
   "cell_type": "markdown",
   "metadata": {},
   "source": [
    "## get_entropy"
   ]
  },
  {
   "cell_type": "code",
   "execution_count": null,
   "metadata": {
    "tags": []
   },
   "outputs": [],
   "source": [
    "kraft.information.get_entropy(nu1_)"
   ]
  },
  {
   "cell_type": "code",
   "execution_count": null,
   "metadata": {
    "tags": []
   },
   "outputs": [],
   "source": [
    "x_ = []\n",
    "\n",
    "y_ = []\n",
    "\n",
    "for po in range(10):\n",
    "\n",
    "    n_da = 2 ** po\n",
    "\n",
    "    x_.append(n_da)\n",
    "\n",
    "    y_.append(kraft.information.get_entropy(np.full(n_da, 1)))\n",
    "\n",
    "plot_x_y(x_, y_, \"N\", \"Entropy\")"
   ]
  },
  {
   "cell_type": "markdown",
   "metadata": {},
   "source": [
    "## get_kld"
   ]
  },
  {
   "cell_type": "code",
   "execution_count": null,
   "metadata": {
    "tags": []
   },
   "outputs": [],
   "source": [
    "kraft.information.get_kld(nu1_, nu2_)"
   ]
  },
  {
   "cell_type": "code",
   "execution_count": null,
   "metadata": {
    "tags": []
   },
   "outputs": [],
   "source": [
    "x_ = []\n",
    "\n",
    "y_ = []\n",
    "\n",
    "for po in range(10):\n",
    "\n",
    "    n_da = 2 ** po\n",
    "\n",
    "    x_.append(n_da)\n",
    "\n",
    "    y_.append(\n",
    "        kraft.information.get_kld(\n",
    "            np.random.random_sample(n_da), np.random.random_sample(n_da)\n",
    "        ).sum()\n",
    "    )\n",
    "\n",
    "plot_x_y(x_, y_, \"N\", \"KLD\")"
   ]
  },
  {
   "cell_type": "markdown",
   "metadata": {},
   "source": [
    "## get_jsd"
   ]
  },
  {
   "cell_type": "code",
   "execution_count": null,
   "metadata": {
    "tags": []
   },
   "outputs": [],
   "source": [
    "kraft.information.get_jsd(nu1_, nu2_)"
   ]
  },
  {
   "cell_type": "code",
   "execution_count": null,
   "metadata": {
    "tags": []
   },
   "outputs": [],
   "source": [
    "x_ = []\n",
    "\n",
    "y_ = []\n",
    "\n",
    "for po in range(10):\n",
    "\n",
    "    n_da = 2 ** po\n",
    "\n",
    "    x_.append(n_da)\n",
    "\n",
    "    y_.append(\n",
    "        kraft.information.get_jsd(\n",
    "            np.random.random_sample(n_da), np.random.random_sample(n_da)\n",
    "        )[-1].sum()\n",
    "    )\n",
    "\n",
    "plot_x_y(x_, y_, \"N\", \"JSD\")"
   ]
  },
  {
   "cell_type": "markdown",
   "metadata": {},
   "source": [
    "## get_zd"
   ]
  },
  {
   "cell_type": "code",
   "execution_count": null,
   "metadata": {
    "tags": []
   },
   "outputs": [],
   "source": [
    "kraft.information.get_zd(nu1_, nu2_)"
   ]
  },
  {
   "cell_type": "code",
   "execution_count": null,
   "metadata": {
    "tags": []
   },
   "outputs": [],
   "source": [
    "x_ = []\n",
    "\n",
    "y_ = []\n",
    "\n",
    "for po in range(10):\n",
    "\n",
    "    n_da = 2 ** po\n",
    "\n",
    "    x_.append(n_da)\n",
    "\n",
    "    y_.append(\n",
    "        kraft.information.get_zd(\n",
    "            np.random.random_sample(n_da), np.random.random_sample(n_da)\n",
    "        )[-1].sum()\n",
    "    )\n",
    "\n",
    "plot_x_y(x_, y_, \"N\", \"ZD\")"
   ]
  },
  {
   "cell_type": "markdown",
   "metadata": {},
   "source": [
    "## get_ic"
   ]
  },
  {
   "cell_type": "code",
   "execution_count": null,
   "metadata": {
    "tags": []
   },
   "outputs": [],
   "source": [
    "try:\n",
    "\n",
    "    kraft.information.get_ic(nu1_, nu2_)\n",
    "\n",
    "except ValueError as er:\n",
    "\n",
    "    print(er)"
   ]
  },
  {
   "cell_type": "code",
   "execution_count": null,
   "metadata": {
    "ExecuteTime": {
     "end_time": "2018-05-15T09:32:32.232401Z",
     "start_time": "2018-05-15T09:32:27.690390Z"
    },
    "tags": []
   },
   "outputs": [],
   "source": [
    "for nu1_, nu2_ in [\n",
    "    [[0] * 8] * 2,\n",
    "    [[1] * 8] * 2,\n",
    "    [np.arange(8), np.arange(8)[::-1]],\n",
    "    [[0, 1, 2, 3, 4, 5, 6, 7, 8, 7, 6, 5, 4, 3, 2, 1, 0]] * 2,\n",
    "    [[8, 7, 6, 5, 4, 3, 2, 1, 0, 1, 2, 3, 4, 5, 6, 7, 8]] * 2,\n",
    "    [[0, 1] * 8, [0, 1] * 8],\n",
    "    [[0, 1] * 8, [1, 0] * 8],\n",
    "]:\n",
    "\n",
    "    print()\n",
    "\n",
    "    nu1_ = np.asarray(nu1_)\n",
    "\n",
    "    nu2_ = np.asarray(nu2_)\n",
    "\n",
    "    print(nu1_)\n",
    "\n",
    "    print(nu2_)\n",
    "\n",
    "    print(kraft.information.get_ic(nu1_, nu2_))"
   ]
  },
  {
   "cell_type": "code",
   "execution_count": null,
   "metadata": {
    "tags": []
   },
   "outputs": [],
   "source": [
    "nu1_ = np.asarray([0, 0, 1, 1, 2, 2])\n",
    "\n",
    "for fa in [1, 2, 1 / 2, 10, 1 / 10]:\n",
    "\n",
    "    print()\n",
    "\n",
    "    nu2_ = nu1_ * fa\n",
    "\n",
    "    print(nu2_)\n",
    "\n",
    "    print(kraft.information.get_ic(nu1_, nu2_))"
   ]
  },
  {
   "cell_type": "code",
   "execution_count": null,
   "metadata": {
    "tags": []
   },
   "outputs": [],
   "source": [
    "x_ = []\n",
    "\n",
    "y_ = []\n",
    "\n",
    "for po in range(10):\n",
    "\n",
    "    n = 2 ** po\n",
    "\n",
    "    x_.append(n)\n",
    "\n",
    "    y_.append(\n",
    "        kraft.information.get_ic(\n",
    "            np.random.random_sample(n_da), np.random.random_sample(n_da)\n",
    "        )\n",
    "    )\n",
    "\n",
    "plot_x_y(x_, y_, \"N\", \"IC\")"
   ]
  },
  {
   "cell_type": "markdown",
   "metadata": {},
   "source": [
    "## get_icd"
   ]
  },
  {
   "cell_type": "code",
   "execution_count": null,
   "metadata": {
    "tags": []
   },
   "outputs": [],
   "source": [
    "n_da = 1000\n",
    "\n",
    "kraft.information.get_icd(np.random.random_sample(n_da), np.random.random_sample(n_da))"
   ]
  }
 ],
 "metadata": {
  "kernelspec": {
   "display_name": "Python 3",
   "language": "python",
   "name": "python3"
  },
  "language_info": {
   "codemirror_mode": {
    "name": "ipython",
    "version": 3
   },
   "file_extension": ".py",
   "mimetype": "text/x-python",
   "name": "python",
   "nbconvert_exporter": "python",
   "pygments_lexer": "ipython3",
   "version": "3.8.9"
  }
 },
 "nbformat": 4,
 "nbformat_minor": 4
}
