{
 "cells": [
  {
   "cell_type": "code",
   "execution_count": null,
   "metadata": {},
   "outputs": [],
   "source": [
    "%load_ext autoreload\n",
    "%autoreload 2"
   ]
  },
  {
   "cell_type": "code",
   "execution_count": null,
   "metadata": {},
   "outputs": [],
   "source": [
    "import numpy as np"
   ]
  },
  {
   "cell_type": "code",
   "execution_count": null,
   "metadata": {},
   "outputs": [],
   "source": [
    "import kraft"
   ]
  },
  {
   "cell_type": "code",
   "execution_count": null,
   "metadata": {},
   "outputs": [],
   "source": [
    "np.random.seed(seed=kraft.RANDOM_SEED)"
   ]
  },
  {
   "cell_type": "code",
   "execution_count": null,
   "metadata": {},
   "outputs": [],
   "source": [
    "for power in range(9):\n",
    "\n",
    "    n = 2 ** power\n",
    "\n",
    "    print(\n",
    "        f\"{kraft.compute_1d_array_entropy(np.random.random_sample(size=n))} ({n} random)\"\n",
    "    )\n",
    "\n",
    "    for value in (1, 2, 8):\n",
    "\n",
    "        print(f\"{kraft.compute_1d_array_entropy(np.full(n, value))} ({n} {value})\")"
   ]
  },
  {
   "cell_type": "code",
   "execution_count": null,
   "metadata": {
    "ExecuteTime": {
     "end_time": "2018-05-15T09:32:32.232401Z",
     "start_time": "2018-05-15T09:32:27.690390Z"
    }
   },
   "outputs": [],
   "source": [
    "for _1d_array_0, _1d_array_1 in (\n",
    "    (np.asarray((0,) * 8),) * 2,\n",
    "    (np.asarray((1,) * 8),) * 2,\n",
    "    (np.asarray(range(8)), np.asarray(range(8))[::-1]),\n",
    "    (np.asarray((0, 1, 2, 3, 4, 5, 6, 7, 8, 7, 6, 5, 4, 3, 2, 1, 0)),) * 2,\n",
    "    (np.asarray((8, 7, 6, 5, 4, 3, 2, 1, 0, 1, 2, 3, 4, 5, 6, 7, 8)),) * 2,\n",
    "    (np.asarray((0, 1) * 8), np.asarray((0, 1) * 8)),\n",
    "    (np.asarray((0, 1) * 8), np.asarray((1, 0) * 8)),\n",
    "):\n",
    "\n",
    "    print(_1d_array_0)\n",
    "\n",
    "    print(_1d_array_1)\n",
    "\n",
    "    print(\n",
    "        kraft.compute_information_coefficient_between_2_1d_arrays(\n",
    "            _1d_array_0, _1d_array_1\n",
    "        )\n",
    "    )\n",
    "\n",
    "    print(\n",
    "        kraft.compute_information_distance_between_2_1d_arrays(_1d_array_0, _1d_array_1)\n",
    "    )\n",
    "\n",
    "    print()"
   ]
  },
  {
   "cell_type": "code",
   "execution_count": null,
   "metadata": {},
   "outputs": [],
   "source": [
    "for power in range(17):\n",
    "\n",
    "    n = 2 ** power\n",
    "\n",
    "    _1d_array_0 = np.random.normal(size=n)\n",
    "\n",
    "    _1d_array_1 = np.random.normal(size=n)\n",
    "\n",
    "    print(\n",
    "        f\"{kraft.compute_information_coefficient_between_2_1d_arrays(_1d_array_0, _1d_array_1)} (n={n})\"\n",
    "    )"
   ]
  },
  {
   "cell_type": "code",
   "execution_count": null,
   "metadata": {},
   "outputs": [],
   "source": [
    "n = 2\n",
    "\n",
    "_1d_array_0 = np.asarray((0,) * n + (1,) * n + (2,) * n)\n",
    "\n",
    "for factor in (1, 2, 1 / 2, 10, 1 / 10):\n",
    "\n",
    "    _1d_array_1 = _1d_array_0 * factor\n",
    "\n",
    "    print(_1d_array_0)\n",
    "\n",
    "    print(_1d_array_1)\n",
    "\n",
    "    print(\n",
    "        kraft.compute_information_coefficient_between_2_1d_arrays(\n",
    "            _1d_array_0, _1d_array_1\n",
    "        )\n",
    "    )\n",
    "\n",
    "    print()"
   ]
  },
  {
   "cell_type": "code",
   "execution_count": null,
   "metadata": {},
   "outputs": [],
   "source": [
    "n = 500\n",
    "\n",
    "_1d_array_0 = np.random.random_sample(size=n)\n",
    "\n",
    "_1d_array_1 = np.random.random_sample(size=n)"
   ]
  },
  {
   "cell_type": "code",
   "execution_count": null,
   "metadata": {},
   "outputs": [],
   "source": [
    "# %%timeit\n",
    "\n",
    "# kraft.compute_information_coefficient_between_2_1d_arrays_r(\n",
    "#     _1d_array_0,\n",
    "#     _1d_array_1,\n",
    "# )"
   ]
  },
  {
   "cell_type": "code",
   "execution_count": null,
   "metadata": {},
   "outputs": [],
   "source": [
    "# kraft.compute_information_coefficient_between_2_1d_arrays_r(_1d_array_0, _1d_array_1)"
   ]
  },
  {
   "cell_type": "code",
   "execution_count": null,
   "metadata": {},
   "outputs": [],
   "source": [
    "%%timeit\n",
    "\n",
    "kraft.compute_information_coefficient_between_2_1d_arrays(\n",
    "    _1d_array_0,\n",
    "    _1d_array_1,\n",
    ")"
   ]
  },
  {
   "cell_type": "code",
   "execution_count": null,
   "metadata": {},
   "outputs": [],
   "source": [
    "kraft.compute_information_coefficient_between_2_1d_arrays(_1d_array_0, _1d_array_1)"
   ]
  },
  {
   "cell_type": "code",
   "execution_count": null,
   "metadata": {},
   "outputs": [],
   "source": [
    "import cProfile"
   ]
  },
  {
   "cell_type": "code",
   "execution_count": null,
   "metadata": {},
   "outputs": [],
   "source": [
    "cProfile.run(\n",
    "    \"kraft.compute_information_coefficient_between_2_1d_arrays(_1d_array_0, _1d_array_1)\",\n",
    "    sort=\"cumtime\",\n",
    ")"
   ]
  }
 ],
 "metadata": {
  "kernelspec": {
   "display_name": "Python 3",
   "language": "python",
   "name": "python3"
  },
  "language_info": {
   "codemirror_mode": {
    "name": "ipython",
    "version": 3
   },
   "file_extension": ".py",
   "mimetype": "text/x-python",
   "name": "python",
   "nbconvert_exporter": "python",
   "pygments_lexer": "ipython3",
   "version": "3.7.3"
  }
 },
 "nbformat": 4,
 "nbformat_minor": 2
}
