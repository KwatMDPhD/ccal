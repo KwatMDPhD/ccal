{
 "cells": [
  {
   "cell_type": "code",
   "execution_count": null,
   "metadata": {},
   "outputs": [],
   "source": [
    "import numpy as np"
   ]
  },
  {
   "cell_type": "code",
   "execution_count": null,
   "metadata": {},
   "outputs": [],
   "source": [
    "import ccal"
   ]
  },
  {
   "cell_type": "code",
   "execution_count": null,
   "metadata": {},
   "outputs": [],
   "source": [
    "np.random.seed(seed=ccal.RANDOM_SEED)"
   ]
  },
  {
   "cell_type": "code",
   "execution_count": null,
   "metadata": {
    "ExecuteTime": {
     "end_time": "2018-05-15T09:32:27.685628Z",
     "start_time": "2018-05-15T09:32:26.669533Z"
    }
   },
   "outputs": [],
   "source": [
    "for _1d_array in (\n",
    "    np.random.random_sample(8),\n",
    "    np.random.random_sample(16),\n",
    "    np.random.random_sample(32),\n",
    "    np.random.random_sample(64),\n",
    "    np.random.random_sample(128),\n",
    "    np.random.random_sample(256),\n",
    "    np.random.random_sample(512),\n",
    "    np.random.random_sample(1024),\n",
    "    np.random.random_sample(1000000),\n",
    "    np.asarray((0,) * 100),\n",
    "    np.asarray((1,) * 100),\n",
    "    np.asarray((1,) * 1000),\n",
    "    np.asarray((1,) * 10000),\n",
    "    np.asarray((1,) * 100000),\n",
    "    np.asarray((1,) * 1000000),\n",
    "):\n",
    "\n",
    "    entropy = ccal.compute_1d_array_entropy(_1d_array)\n",
    "\n",
    "    print(entropy)"
   ]
  },
  {
   "cell_type": "code",
   "execution_count": null,
   "metadata": {
    "ExecuteTime": {
     "end_time": "2018-05-15T09:32:32.232401Z",
     "start_time": "2018-05-15T09:32:27.690390Z"
    }
   },
   "outputs": [],
   "source": [
    "for _1d_array_0, _1d_array_1 in (\n",
    "    (np.asarray((0,) * 8),) * 2,\n",
    "    (np.asarray((1,) * 8),) * 2,\n",
    "    (np.asarray(range(8)), np.asarray(range(8))[::-1]),\n",
    "    (np.asarray((0, 1, 2, 3, 4, 5, 6, 7, 8, 7, 6, 5, 4, 3, 2, 1, 0)),) * 2,\n",
    "    (np.asarray((8, 7, 6, 5, 4, 3, 2, 1, 0, 1, 2, 3, 4, 5, 6, 7, 8)),) * 2,\n",
    "    (np.asarray((0, 1, 0, 1, 0, 1, 0, 1, 0, 1, 0, 1, 0, 1, 0, 1, 0)),) * 2,\n",
    "    (\n",
    "        np.asarray((1, 0, 1, 0, 1, 0, 1, 0, 1, 0, 1, 0, 1, 0, 1, 0, 1)),\n",
    "        np.asarray((0, 1, 0, 1, 0, 1, 0, 1, 0, 1, 0, 1, 0, 1, 0, 1, 0)),\n",
    "    ),\n",
    "):\n",
    "\n",
    "    print(_1d_array_0)\n",
    "\n",
    "    print(_1d_array_1)\n",
    "\n",
    "    print(\n",
    "        ccal.compute_information_coefficient_between_2_1d_arrays(\n",
    "            _1d_array_0, _1d_array_1\n",
    "        )\n",
    "    )\n",
    "\n",
    "    print(\n",
    "        ccal.compute_information_distance_between_2_1d_arrays(_1d_array_0, _1d_array_1)\n",
    "    )\n",
    "\n",
    "    print()"
   ]
  },
  {
   "cell_type": "code",
   "execution_count": null,
   "metadata": {},
   "outputs": [],
   "source": [
    "n = 3\n",
    "\n",
    "_1d_array_0 = np.asarray((0,) * n + (1,) * n + (2,) * n)\n",
    "\n",
    "print(_1d_array_0)\n",
    "\n",
    "for factor in (0.1, 0.5, 1, 2, 10, 100):\n",
    "\n",
    "    _1d_array_1 = _1d_array_0 * factor\n",
    "\n",
    "    print(_1d_array_1)\n",
    "\n",
    "    print(\n",
    "        ccal.compute_information_coefficient_between_2_1d_arrays(\n",
    "            _1d_array_0, _1d_array_1\n",
    "        )\n",
    "    )\n",
    "\n",
    "    print()"
   ]
  }
 ],
 "metadata": {
  "kernelspec": {
   "display_name": "Python 3",
   "language": "python",
   "name": "python3"
  },
  "language_info": {
   "codemirror_mode": {
    "name": "ipython",
    "version": 3
   },
   "file_extension": ".py",
   "mimetype": "text/x-python",
   "name": "python",
   "nbconvert_exporter": "python",
   "pygments_lexer": "ipython3",
   "version": "3.6.7"
  }
 },
 "nbformat": 4,
 "nbformat_minor": 2
}
