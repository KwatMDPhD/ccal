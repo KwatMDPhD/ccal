{
 "cells": [
  {
   "cell_type": "code",
   "execution_count": 1,
   "metadata": {},
   "outputs": [],
   "source": [
    "%load_ext autoreload\n",
    "%autoreload 2"
   ]
  },
  {
   "cell_type": "code",
   "execution_count": 2,
   "metadata": {},
   "outputs": [],
   "source": [
    "import numpy as np"
   ]
  },
  {
   "cell_type": "code",
   "execution_count": 3,
   "metadata": {},
   "outputs": [],
   "source": [
    "import kraft"
   ]
  },
  {
   "cell_type": "code",
   "execution_count": 4,
   "metadata": {},
   "outputs": [],
   "source": [
    "np.random.seed(seed=kraft.RANDOM_SEED)"
   ]
  },
  {
   "cell_type": "code",
   "execution_count": 5,
   "metadata": {},
   "outputs": [
    {
     "name": "stdout",
     "output_type": "stream",
     "text": [
      "-0.0 (1 random)\n",
      "-0.0 (1 1)\n",
      "-0.0 (1 2)\n",
      "-0.0 (1 8)\n",
      "0.6462596793146722 (2 random)\n",
      "0.6931471805599453 (2 1)\n",
      "0.6931471805599453 (2 2)\n",
      "0.6931471805599453 (2 8)\n",
      "1.1187020415455604 (4 random)\n",
      "1.3862943611198906 (4 1)\n",
      "1.3862943611198906 (4 2)\n",
      "1.3862943611198906 (4 8)\n",
      "1.9469474216073919 (8 random)\n",
      "2.0794415416798357 (8 1)\n",
      "2.0794415416798357 (8 2)\n",
      "2.0794415416798357 (8 8)\n",
      "2.5351989204983 (16 random)\n",
      "2.772588722239781 (16 1)\n",
      "2.772588722239781 (16 2)\n",
      "2.772588722239781 (16 8)\n",
      "3.305259305271915 (32 random)\n",
      "3.4657359027997265 (32 1)\n",
      "3.4657359027997265 (32 2)\n",
      "3.4657359027997265 (32 8)\n",
      "4.005490084024379 (64 random)\n",
      "4.1588830833596715 (64 1)\n",
      "4.1588830833596715 (64 2)\n",
      "4.1588830833596715 (64 8)\n",
      "4.652365079229237 (128 random)\n",
      "4.852030263919617 (128 1)\n",
      "4.852030263919617 (128 2)\n",
      "4.852030263919617 (128 8)\n",
      "5.363952518752676 (256 random)\n",
      "5.545177444479562 (256 1)\n",
      "5.545177444479562 (256 2)\n",
      "5.545177444479562 (256 8)\n"
     ]
    }
   ],
   "source": [
    "for power in range(9):\n",
    "\n",
    "    n = 2 ** power\n",
    "\n",
    "    print(\n",
    "        f\"{kraft.compute_1d_array_entropy(np.random.random_sample(size=n))} ({n} random)\"\n",
    "    )\n",
    "\n",
    "    for value in (1, 2, 8):\n",
    "\n",
    "        print(f\"{kraft.compute_1d_array_entropy(np.full(n, value))} ({n} {value})\")"
   ]
  },
  {
   "cell_type": "code",
   "execution_count": 6,
   "metadata": {
    "ExecuteTime": {
     "end_time": "2018-05-15T09:32:32.232401Z",
     "start_time": "2018-05-15T09:32:27.690390Z"
    }
   },
   "outputs": [
    {
     "name": "stdout",
     "output_type": "stream",
     "text": [
      "[0 0 0 0 0 0 0 0]\n",
      "[0 0 0 0 0 0 0 0]\n",
      "nan\n",
      "nan\n",
      "\n",
      "[1 1 1 1 1 1 1 1]\n",
      "[1 1 1 1 1 1 1 1]\n",
      "nan\n",
      "nan\n",
      "\n",
      "[0 1 2 3 4 5 6 7]\n",
      "[7 6 5 4 3 2 1 0]\n",
      "-0.940909174550142\n",
      "0.970454587275071\n",
      "\n",
      "[0 1 2 3 4 5 6 7 8 7 6 5 4 3 2 1 0]\n",
      "[0 1 2 3 4 5 6 7 8 7 6 5 4 3 2 1 0]\n",
      "0.9552971701194466\n",
      "0.022351414940276704\n",
      "\n",
      "[8 7 6 5 4 3 2 1 0 1 2 3 4 5 6 7 8]\n",
      "[8 7 6 5 4 3 2 1 0 1 2 3 4 5 6 7 8]\n",
      "0.9552971701194466\n",
      "0.022351414940276704\n",
      "\n",
      "[0 1 0 1 0 1 0 1 0 1 0 1 0 1 0 1]\n",
      "[0 1 0 1 0 1 0 1 0 1 0 1 0 1 0 1]\n",
      "0.8660254037843793\n",
      "0.06698729810781034\n",
      "\n",
      "[0 1 0 1 0 1 0 1 0 1 0 1 0 1 0 1]\n",
      "[1 0 1 0 1 0 1 0 1 0 1 0 1 0 1 0]\n",
      "-0.8660254037843792\n",
      "0.9330127018921897\n",
      "\n"
     ]
    }
   ],
   "source": [
    "for _1d_array_0, _1d_array_1 in (\n",
    "    (np.asarray((0,) * 8),) * 2,\n",
    "    (np.asarray((1,) * 8),) * 2,\n",
    "    (np.asarray(range(8)), np.asarray(range(8))[::-1]),\n",
    "    (np.asarray((0, 1, 2, 3, 4, 5, 6, 7, 8, 7, 6, 5, 4, 3, 2, 1, 0)),) * 2,\n",
    "    (np.asarray((8, 7, 6, 5, 4, 3, 2, 1, 0, 1, 2, 3, 4, 5, 6, 7, 8)),) * 2,\n",
    "    (np.asarray((0, 1) * 8), np.asarray((0, 1) * 8)),\n",
    "    (np.asarray((0, 1) * 8), np.asarray((1, 0) * 8)),\n",
    "):\n",
    "\n",
    "    print(_1d_array_0)\n",
    "\n",
    "    print(_1d_array_1)\n",
    "\n",
    "    print(\n",
    "        kraft.compute_information_coefficient_between_2_1d_arrays(\n",
    "            _1d_array_0, _1d_array_1\n",
    "        )\n",
    "    )\n",
    "\n",
    "    print(\n",
    "        kraft.compute_information_distance_between_2_1d_arrays(_1d_array_0, _1d_array_1)\n",
    "    )\n",
    "\n",
    "    print()"
   ]
  },
  {
   "cell_type": "code",
   "execution_count": 7,
   "metadata": {},
   "outputs": [
    {
     "name": "stdout",
     "output_type": "stream",
     "text": [
      "nan (n=1)\n",
      "0.865051755259572 (n=2)\n",
      "-0.5462894604919197 (n=4)\n",
      "-0.5519223168811476 (n=8)\n",
      "0.3012532775077513 (n=16)\n",
      "0.25059918290564104 (n=32)\n",
      "0.2752449128837096 (n=64)\n",
      "0.31671904092687964 (n=128)\n",
      "0.23423704551838964 (n=256)\n",
      "0.18491025066948183 (n=512)\n",
      "0.21441454843461336 (n=1024)\n",
      "-0.15835896281840467 (n=2048)\n",
      "0.1305145288708445 (n=4096)\n",
      "-0.1105694769817739 (n=8192)\n",
      "-0.08765686209352265 (n=16384)\n",
      "-0.07396288173170756 (n=32768)\n",
      "0.0609569328391275 (n=65536)\n"
     ]
    }
   ],
   "source": [
    "for power in range(17):\n",
    "\n",
    "    n = 2 ** power\n",
    "\n",
    "    _1d_array_0 = np.random.normal(size=n)\n",
    "\n",
    "    _1d_array_1 = np.random.normal(size=n)\n",
    "\n",
    "    print(\n",
    "        f\"{kraft.compute_information_coefficient_between_2_1d_arrays(_1d_array_0, _1d_array_1)} (n={n})\"\n",
    "    )"
   ]
  },
  {
   "cell_type": "code",
   "execution_count": 8,
   "metadata": {},
   "outputs": [
    {
     "name": "stdout",
     "output_type": "stream",
     "text": [
      "[0 0 1 1 2 2]\n",
      "[0 0 1 1 2 2]\n",
      "0.936579206750645\n",
      "\n",
      "[0 0 1 1 2 2]\n",
      "[0 0 2 2 4 4]\n",
      "0.936579206750645\n",
      "\n",
      "[0 0 1 1 2 2]\n",
      "[0.  0.  0.5 0.5 1.  1. ]\n",
      "0.936579206750645\n",
      "\n",
      "[0 0 1 1 2 2]\n",
      "[ 0  0 10 10 20 20]\n",
      "0.936579206750645\n",
      "\n",
      "[0 0 1 1 2 2]\n",
      "[0.  0.  0.1 0.1 0.2 0.2]\n",
      "0.936579206750645\n",
      "\n"
     ]
    }
   ],
   "source": [
    "n = 2\n",
    "\n",
    "_1d_array_0 = np.asarray((0,) * n + (1,) * n + (2,) * n)\n",
    "\n",
    "for factor in (1, 2, 1 / 2, 10, 1 / 10):\n",
    "\n",
    "    _1d_array_1 = _1d_array_0 * factor\n",
    "\n",
    "    print(_1d_array_0)\n",
    "\n",
    "    print(_1d_array_1)\n",
    "\n",
    "    print(\n",
    "        kraft.compute_information_coefficient_between_2_1d_arrays(\n",
    "            _1d_array_0, _1d_array_1\n",
    "        )\n",
    "    )\n",
    "\n",
    "    print()"
   ]
  },
  {
   "cell_type": "code",
   "execution_count": 9,
   "metadata": {},
   "outputs": [],
   "source": [
    "n = 1000\n",
    "\n",
    "_1d_array_0 = np.random.random_sample(size=n)\n",
    "\n",
    "_1d_array_1 = np.random.random_sample(size=n)"
   ]
  },
  {
   "cell_type": "code",
   "execution_count": 10,
   "metadata": {},
   "outputs": [
    {
     "name": "stdout",
     "output_type": "stream",
     "text": [
      "17.5 ms ± 486 µs per loop (mean ± std. dev. of 7 runs, 10 loops each)\n"
     ]
    }
   ],
   "source": [
    "%%timeit\n",
    "\n",
    "kraft.compute_information_coefficient_between_2_1d_arrays_r(\n",
    "    _1d_array_0,\n",
    "    _1d_array_1,\n",
    ")"
   ]
  },
  {
   "cell_type": "code",
   "execution_count": 11,
   "metadata": {},
   "outputs": [
    {
     "data": {
      "text/plain": [
       "-0.11523099765801315"
      ]
     },
     "execution_count": 11,
     "metadata": {},
     "output_type": "execute_result"
    }
   ],
   "source": [
    "kraft.compute_information_coefficient_between_2_1d_arrays_r(_1d_array_0, _1d_array_1)"
   ]
  },
  {
   "cell_type": "code",
   "execution_count": 23,
   "metadata": {},
   "outputs": [
    {
     "name": "stdout",
     "output_type": "stream",
     "text": [
      "2.75 ms ± 65.5 µs per loop (mean ± std. dev. of 7 runs, 100 loops each)\n"
     ]
    }
   ],
   "source": [
    "%%timeit\n",
    "\n",
    "kraft.compute_information_coefficient_between_2_1d_arrays(\n",
    "    _1d_array_0,\n",
    "    _1d_array_1,\n",
    ")"
   ]
  },
  {
   "cell_type": "code",
   "execution_count": 13,
   "metadata": {},
   "outputs": [
    {
     "data": {
      "text/plain": [
       "-0.09575344762814487"
      ]
     },
     "execution_count": 13,
     "metadata": {},
     "output_type": "execute_result"
    }
   ],
   "source": [
    "kraft.compute_information_coefficient_between_2_1d_arrays(_1d_array_0, _1d_array_1)"
   ]
  },
  {
   "cell_type": "code",
   "execution_count": 14,
   "metadata": {},
   "outputs": [],
   "source": [
    "import cProfile"
   ]
  },
  {
   "cell_type": "code",
   "execution_count": 15,
   "metadata": {},
   "outputs": [
    {
     "name": "stdout",
     "output_type": "stream",
     "text": [
      "         2065 function calls in 0.006 seconds\n",
      "\n",
      "   Ordered by: cumulative time\n",
      "\n",
      "   ncalls  tottime  percall  cumtime  percall filename:lineno(function)\n",
      "        1    0.000    0.000    0.006    0.006 {built-in method builtins.exec}\n",
      "        1    0.000    0.000    0.005    0.005 <string>:1(<module>)\n",
      "        1    0.000    0.000    0.005    0.005 compute_information_coefficient_between_2_1d_arrays.py:12(compute_information_coefficient_between_2_1d_arrays)\n",
      "        1    0.000    0.000    0.004    0.004 FFTKDE.py:105(evaluate)\n",
      "       12    0.000    0.000    0.002    0.000 kernel_funcs.py:289(evaluate)\n",
      "        1    0.000    0.000    0.001    0.001 kernel_funcs.py:262(practical_support)\n",
      "        1    0.000    0.000    0.001    0.001 zeros.py:629(brentq)\n",
      "        1    0.000    0.000    0.001    0.001 {built-in method scipy.optimize._zeros._brentq}\n",
      "       11    0.000    0.000    0.001    0.000 kernel_funcs.py:275(f)\n",
      "       12    0.000    0.000    0.001    0.000 kernel_funcs.py:156(gaussian)\n",
      "        1    0.000    0.000    0.001    0.001 signaltools.py:698(convolve)\n",
      "        1    0.000    0.000    0.001    0.001 signaltools.py:282(fftconvolve)\n",
      "       12    0.000    0.000    0.001    0.000 kernel_funcs.py:29(gauss_integral)\n",
      "       12    0.000    0.000    0.001    0.000 basic.py:2111(factorial2)\n",
      "        6    0.000    0.000    0.001    0.000 fftpack.py:55(_raw_fft)\n",
      "        7    0.000    0.000    0.001    0.000 arraysetops.py:151(unique)\n",
      "        7    0.000    0.000    0.001    0.000 arraysetops.py:299(_unique1d)\n",
      "        2    0.000    0.000    0.001    0.000 fftpack.py:1041(rfftn)\n",
      "        1    0.000    0.000    0.000    0.000 binning.py:389(linear_binning)\n",
      "        7    0.000    0.000    0.000    0.000 {method 'sort' of 'numpy.ndarray' objects}\n",
      "        1    0.000    0.000    0.000    0.000 binning.py:300(linbin_Ndim)\n",
      "       65    0.000    0.000    0.000    0.000 {method 'reduce' of 'numpy.ufunc' objects}\n",
      "       26    0.000    0.000    0.000    0.000 function_base.py:1628(extract)\n",
      "        2    0.000    0.000    0.000    0.000 fftpack.py:115(fft)\n",
      "      176    0.000    0.000    0.000    0.000 {built-in method numpy.array}\n",
      "        1    0.000    0.000    0.000    0.000 fftpack.py:1172(irfftn)\n",
      "       19    0.000    0.000    0.000    0.000 function_base.py:434(asarray_chkfinite)\n",
      "        2    0.000    0.000    0.000    0.000 fftpack.py:307(rfft)\n",
      "        3    0.000    0.000    0.000    0.000 binning.py:342(<genexpr>)\n",
      "        4    0.000    0.000    0.000    0.000 function_base.py:37(linspace)\n",
      "        3    0.000    0.000    0.000    0.000 FFTKDE.py:166(<genexpr>)\n",
      "        4    0.000    0.000    0.000    0.000 _methods.py:138(_std)\n",
      "       18    0.000    0.000    0.000    0.000 fromnumeric.py:69(_wrapreduction)\n",
      "        1    0.000    0.000    0.000    0.000 _distn_infrastructure.py:1636(pdf)\n",
      "        2    0.000    0.000    0.000    0.000 compute_1d_array_bandwidth.py:4(compute_1d_array_bandwidth)\n",
      "        2    0.000    0.000    0.000    0.000 kernel_density.py:104(__init__)\n",
      "        4    0.000    0.000    0.000    0.000 _methods.py:91(_var)\n",
      "       64    0.000    0.000    0.000    0.000 numeric.py:469(asarray)\n",
      "       52    0.000    0.000    0.000    0.000 fromnumeric.py:1583(ravel)\n",
      "        2    0.000    0.000    0.000    0.000 {built-in method numpy.fft.fftpack_lite.cfftf}\n",
      "        6    0.000    0.000    0.000    0.000 helper.py:259(put_twiddle_factors)\n",
      "        1    0.000    0.000    0.000    0.000 helper.py:240(_init_nd_shape_and_axes_sorted)\n",
      "        1    0.000    0.000    0.000    0.000 helper.py:157(_init_nd_shape_and_axes)\n",
      "        2    0.000    0.000    0.000    0.000 _kernel_base.py:104(_compute_bw)\n",
      "       60    0.000    0.000    0.000    0.000 fromnumeric.py:54(_wrapfunc)\n",
      "        1    0.000    0.000    0.000    0.000 FFTKDE.py:189(<listcomp>)\n",
      "        2    0.000    0.000    0.000    0.000 _kernel_base.py:248(_normal_reference)\n",
      "        6    0.000    0.000    0.000    0.000 helper.py:313(_prune_cache)\n",
      "        1    0.000    0.000    0.000    0.000 fftpack.py:397(irfft)\n",
      "      141    0.000    0.000    0.000    0.000 {built-in method builtins.isinstance}\n",
      "        6    0.000    0.000    0.000    0.000 helper.py:319(_check_size)\n",
      "       22    0.000    0.000    0.000    0.000 {method 'all' of 'numpy.ndarray' objects}\n",
      "        1    0.000    0.000    0.000    0.000 stats.py:2968(pearsonr)\n",
      "        2    0.000    0.000    0.000    0.000 fromnumeric.py:3126(std)\n",
      "        1    0.000    0.000    0.000    0.000 fftpack.py:212(ifft)\n",
      "       25    0.000    0.000    0.000    0.000 _methods.py:45(_all)\n",
      "       92    0.000    0.000    0.000    0.000 numeric.py:541(asanyarray)\n",
      "        1    0.000    0.000    0.000    0.000 make_mesh_grid_point_x_dimension.py:4(make_mesh_grid_point_x_dimension)\n",
      "        2    0.000    0.000    0.000    0.000 {method 'std' of 'numpy.ndarray' objects}\n",
      "        1    0.000    0.000    0.000    0.000 numeric.py:2355(allclose)\n",
      "        5    0.000    0.000    0.000    0.000 fromnumeric.py:2083(any)\n",
      "       26    0.000    0.000    0.000    0.000 fromnumeric.py:93(take)\n",
      "        1    0.000    0.000    0.000    0.000 function_base.py:4078(meshgrid)\n",
      "        1    0.000    0.000    0.000    0.000 numeric.py:2431(isclose)\n",
      "        6    0.000    0.000    0.000    0.000 helper.py:320(<listcomp>)\n",
      "        4    0.000    0.000    0.000    0.000 {method 'mean' of 'numpy.ndarray' objects}\n",
      "        2    0.000    0.000    0.000    0.000 {built-in method numpy.fft.fftpack_lite.rfftf}\n",
      "        5    0.000    0.000    0.000    0.000 {method 'sum' of 'numpy.ndarray' objects}\n",
      "       25    0.000    0.000    0.000    0.000 function_base.py:1684(place)\n",
      "        4    0.000    0.000    0.000    0.000 _methods.py:58(_mean)\n",
      "       55    0.000    0.000    0.000    0.000 {built-in method builtins.sum}\n",
      "        5    0.000    0.000    0.000    0.000 _methods.py:34(_sum)\n",
      "       24    0.000    0.000    0.000    0.000 {built-in method builtins.pow}\n",
      "        1    0.000    0.000    0.000    0.000 {cutils.grid_is_sorted}\n",
      "       19    0.000    0.000    0.000    0.000 {built-in method numpy.zeros}\n",
      "       23    0.000    0.000    0.000    0.000 abc.py:180(__instancecheck__)\n",
      "        1    0.000    0.000    0.000    0.000 _distn_infrastructure.py:522(argsreduce)\n",
      "        1    0.000    0.000    0.000    0.000 {built-in method numpy.fft.fftpack_lite.rfftb}\n",
      "       26    0.000    0.000    0.000    0.000 fromnumeric.py:1694(nonzero)\n",
      "        1    0.000    0.000    0.000    0.000 utils.py:10(cartesian)\n",
      "        2    0.000    0.000    0.000    0.000 BaseKDE.py:179(_process_sequence)\n",
      "        1    0.000    0.000    0.000    0.000 stride_tricks.py:208(broadcast_arrays)\n",
      "        1    0.000    0.000    0.000    0.000 {built-in method numpy.fft.fftpack_lite.cfftb}\n",
      "       12    0.000    0.000    0.000    0.000 kernel_funcs.py:130(volume_unit_ball)\n",
      "        5    0.000    0.000    0.000    0.000 {method 'any' of 'numpy.generic' objects}\n",
      "       26    0.000    0.000    0.000    0.000 {method 'take' of 'numpy.ndarray' objects}\n",
      "        1    0.000    0.000    0.000    0.000 FFTKDE.py:70(__init__)\n",
      "        3    0.000    0.000    0.000    0.000 {method 'min' of 'numpy.ndarray' objects}\n",
      "        1    0.000    0.000    0.000    0.000 numeric.py:2508(within_tol)\n",
      "        3    0.000    0.000    0.000    0.000 _methods.py:30(_amin)\n",
      "        1    0.000    0.000    0.000    0.000 _distn_infrastructure.py:547(<listcomp>)\n",
      "        1    0.000    0.000    0.000    0.000 BaseKDE.py:128(evaluate)\n",
      "        4    0.000    0.000    0.000    0.000 fromnumeric.py:2171(all)\n",
      "       28    0.000    0.000    0.000    0.000 {method 'reshape' of 'numpy.ndarray' objects}\n",
      "        1    0.000    0.000    0.000    0.000 BaseKDE.py:33(__init__)\n",
      "        1    0.000    0.000    0.000    0.000 signaltools.py:572(choose_conv_method)\n",
      "        6    0.000    0.000    0.000    0.000 _methods.py:42(_any)\n",
      "        1    0.000    0.000    0.000    0.000 signaltools.py:272(_centered)\n",
      "       67    0.000    0.000    0.000    0.000 {method 'ravel' of 'numpy.ndarray' objects}\n",
      "        3    0.000    0.000    0.000    0.000 fromnumeric.py:2512(amin)\n",
      "        2    0.000    0.000    0.000    0.000 stats.py:5810(_sum_of_squares)\n",
      "        6    0.000    0.000    0.000    0.000 helper.py:285(pop_twiddle_factors)\n",
      "       25    0.000    0.000    0.000    0.000 {built-in method numpy.core._multiarray_umath._insert}\n",
      "        1    0.000    0.000    0.000    0.000 FFTKDE.py:75(fit)\n",
      "        1    0.000    0.000    0.000    0.000 BaseKDE.py:83(fit)\n",
      "        1    0.000    0.000    0.000    0.000 stride_tricks.py:267(<listcomp>)\n",
      "        3    0.000    0.000    0.000    0.000 fromnumeric.py:1966(sum)\n",
      "        2    0.000    0.000    0.000    0.000 _kernel_base.py:436(_adjust_shape)\n",
      "        2    0.000    0.000    0.000    0.000 stride_tricks.py:116(_broadcast_to)\n",
      "        1    0.000    0.000    0.000    0.000 numeric.py:1902(indices)\n",
      "        6    0.000    0.000    0.000    0.000 fromnumeric.py:541(swapaxes)\n",
      "        1    0.000    0.000    0.000    0.000 {cutils.iterate_data_2D}\n",
      "        3    0.000    0.000    0.000    0.000 {method 'max' of 'numpy.ndarray' objects}\n",
      "        1    0.000    0.000    0.000    0.000 numerictypes.py:602(find_common_type)\n",
      "        1    0.000    0.000    0.000    0.000 kernel_funcs.py:82(p_norm)\n",
      "       96    0.000    0.000    0.000    0.000 helper.py:320(<genexpr>)\n",
      "        3    0.000    0.000    0.000    0.000 fromnumeric.py:2397(amax)\n",
      "        1    0.000    0.000    0.000    0.000 BaseKDE.py:209(_evalate_return_logic)\n",
      "        3    0.000    0.000    0.000    0.000 {method 'copy' of 'numpy.ndarray' objects}\n",
      "        7    0.000    0.000    0.000    0.000 {built-in method numpy.arange}\n",
      "        3    0.000    0.000    0.000    0.000 _methods.py:26(_amax)\n",
      "        7    0.000    0.000    0.000    0.000 {method 'astype' of 'numpy.ndarray' objects}\n",
      "        7    0.000    0.000    0.000    0.000 {method 'flatten' of 'numpy.ndarray' objects}\n",
      "       29    0.000    0.000    0.000    0.000 _weakrefset.py:70(__contains__)\n",
      "        1    0.000    0.000    0.000    0.000 kernel_funcs.py:102(euclidean_norm)\n",
      "       26    0.000    0.000    0.000    0.000 {method 'nonzero' of 'numpy.ndarray' objects}\n",
      "        8    0.000    0.000    0.000    0.000 {built-in method numpy.empty}\n",
      "        4    0.000    0.000    0.000    0.000 numerictypes.py:365(issubdtype)\n",
      "        2    0.000    0.000    0.000    0.000 numerictypes.py:578(_can_coerce_all)\n",
      "        8    0.000    0.000    0.000    0.000 _methods.py:48(_count_reduce_items)\n",
      "        5    0.000    0.000    0.000    0.000 numeric.py:2035(isscalar)\n",
      "        1    0.000    0.000    0.000    0.000 signaltools.py:475(_fftconv_faster)\n",
      "        2    0.000    0.000    0.000    0.000 numeric.py:2656(seterr)\n",
      "        1    0.000    0.000    0.000    0.000 warnings.py:143(simplefilter)\n",
      "        1    0.000    0.000    0.000    0.000 signaltools.py:407(<listcomp>)\n",
      "        3    0.000    0.000    0.000    0.000 {method 'all' of 'numpy.generic' objects}\n",
      "       85    0.000    0.000    0.000    0.000 {built-in method builtins.len}\n",
      "        1    0.000    0.000    0.000    0.000 numeric.py:3058(__enter__)\n",
      "       18    0.000    0.000    0.000    0.000 {built-in method builtins.max}\n",
      "        1    0.000    0.000    0.000    0.000 warnings.py:159(_add_filter)\n",
      "        1    0.000    0.000    0.000    0.000 function_base.py:4211(<listcomp>)\n",
      "        8    0.000    0.000    0.000    0.000 numerictypes.py:293(issubclass_)\n",
      "       28    0.000    0.000    0.000    0.000 {built-in method builtins.issubclass}\n",
      "        1    0.000    0.000    0.000    0.000 _continuous_distns.py:219(_pdf)\n",
      "        1    0.000    0.000    0.000    0.000 shape_base.py:25(atleast_1d)\n",
      "        2    0.000    0.000    0.000    0.000 fromnumeric.py:197(reshape)\n",
      "       68    0.000    0.000    0.000    0.000 {built-in method builtins.getattr}\n",
      "        1    0.000    0.000    0.000    0.000 _continuous_distns.py:161(_norm_pdf)\n",
      "        1    0.000    0.000    0.000    0.000 {method 'clip' of 'numpy.ndarray' objects}\n",
      "        7    0.000    0.000    0.000    0.000 arraysetops.py:138(_unpack_tuple)\n",
      "        6    0.000    0.000    0.000    0.000 {method 'swapaxes' of 'numpy.ndarray' objects}\n",
      "        1    0.000    0.000    0.000    0.000 warnings.py:449(__enter__)\n",
      "        3    0.000    0.000    0.000    0.000 fftpack.py:633(_cook_nd_args)\n",
      "        2    0.000    0.000    0.000    0.000 helper.py:54(next_fast_len)\n",
      "        2    0.000    0.000    0.000    0.000 {built-in method numpy.where}\n",
      "        4    0.000    0.000    0.000    0.000 function_base.py:20(_index_deprecate)\n",
      "       12    0.000    0.000    0.000    0.000 {method 'pop' of 'collections.OrderedDict' objects}\n",
      "        6    0.000    0.000    0.000    0.000 {method 'pop' of 'list' objects}\n",
      "        1    0.000    0.000    0.000    0.000 FFTKDE.py:194(<listcomp>)\n",
      "        6    0.000    0.000    0.000    0.000 {built-in method numpy.result_type}\n",
      "        1    0.000    0.000    0.000    0.000 function_base.py:4198(<listcomp>)\n",
      "        1    0.000    0.000    0.000    0.000 getlimits.py:365(__new__)\n",
      "        1    0.000    0.000    0.000    0.000 _distn_infrastructure.py:873(_support_mask)\n",
      "        7    0.000    0.000    0.000    0.000 signaltools.py:507(<genexpr>)\n",
      "        1    0.000    0.000    0.000    0.000 {method 'any' of 'numpy.ndarray' objects}\n",
      "        2    0.000    0.000    0.000    0.000 numeric.py:2758(geterr)\n",
      "        1    0.000    0.000    0.000    0.000 numeric.py:3063(__exit__)\n",
      "       18    0.000    0.000    0.000    0.000 fromnumeric.py:70(<dictcomp>)\n",
      "        1    0.000    0.000    0.000    0.000 warnings.py:468(__exit__)\n",
      "        1    0.000    0.000    0.000    0.000 {method 'format' of 'str' objects}\n",
      "        1    0.000    0.000    0.000    0.000 {method 'remove' of 'list' objects}\n",
      "        1    0.000    0.000    0.000    0.000 stride_tricks.py:185(_broadcast_shape)\n",
      "       10    0.000    0.000    0.000    0.000 {built-in method builtins.hasattr}\n",
      "        2    0.000    0.000    0.000    0.000 _kernel_base.py:238(_set_defaults)\n",
      "        2    0.000    0.000    0.000    0.000 stats.py:199(_chk_asarray)\n",
      "        1    0.000    0.000    0.000    0.000 signaltools.py:682(<listcomp>)\n",
      "        1    0.000    0.000    0.000    0.000 signaltools.py:278(<listcomp>)\n",
      "        1    0.000    0.000    0.000    0.000 utils.py:46(<listcomp>)\n",
      "        1    0.000    0.000    0.000    0.000 numeric.py:3054(__init__)\n",
      "        1    0.000    0.000    0.000    0.000 warnings.py:428(__init__)\n",
      "        4    0.000    0.000    0.000    0.000 {built-in method builtins.abs}\n",
      "        3    0.000    0.000    0.000    0.000 {built-in method builtins.any}\n",
      "        1    0.000    0.000    0.000    0.000 {built-in method builtins.sorted}\n",
      "        8    0.000    0.000    0.000    0.000 {method 'append' of 'list' objects}\n",
      "        1    0.000    0.000    0.000    0.000 signaltools.py:408(<listcomp>)\n",
      "        4    0.000    0.000    0.000    0.000 signaltools.py:443(_numeric_arrays)\n",
      "        3    0.000    0.000    0.000    0.000 make_mesh_grid_point_x_dimension.py:8(<genexpr>)\n",
      "        1    0.000    0.000    0.000    0.000 {built-in method numpy.putmask}\n",
      "        6    0.000    0.000    0.000    0.000 {built-in method numpy.core._multiarray_umath.normalize_axis_index}\n",
      "        2    0.000    0.000    0.000    0.000 function_base.py:258(iterable)\n",
      "        1    0.000    0.000    0.000    0.000 {built-in method builtins.min}\n",
      "        3    0.000    0.000    0.000    0.000 {built-in method _warnings._filters_mutated}\n",
      "        5    0.000    0.000    0.000    0.000 {method 'pop' of 'dict' objects}\n",
      "       18    0.000    0.000    0.000    0.000 {method 'items' of 'dict' objects}\n",
      "        6    0.000    0.000    0.000    0.000 fftpack.py:104(_unitary)\n",
      "        3    0.000    0.000    0.000    0.000 utils.py:47(<genexpr>)\n",
      "        1    0.000    0.000    0.000    0.000 {built-in method numpy.empty_like}\n",
      "        2    0.000    0.000    0.000    0.000 {built-in method numpy.seterrobj}\n",
      "        6    0.000    0.000    0.000    0.000 stride_tricks.py:121(<genexpr>)\n",
      "        1    0.000    0.000    0.000    0.000 stride_tricks.py:257(<listcomp>)\n",
      "        3    0.000    0.000    0.000    0.000 fromnumeric.py:1785(shape)\n",
      "       14    0.000    0.000    0.000    0.000 numerictypes.py:587(<listcomp>)\n",
      "        1    0.000    0.000    0.000    0.000 numerictypes.py:654(<listcomp>)\n",
      "        6    0.000    0.000    0.000    0.000 {built-in method math.log}\n",
      "        1    0.000    0.000    0.000    0.000 {built-in method builtins.all}\n",
      "        1    0.000    0.000    0.000    0.000 {method 'lower' of 'str' objects}\n",
      "        1    0.000    0.000    0.000    0.000 {method 'strip' of 'str' objects}\n",
      "        1    0.000    0.000    0.000    0.000 {method 'get' of 'dict' objects}\n",
      "        1    0.000    0.000    0.000    0.000 {method 'insert' of 'list' objects}\n",
      "        1    0.000    0.000    0.000    0.000 _distn_infrastructure.py:861(_argcheck)\n",
      "        2    0.000    0.000    0.000    0.000 signaltools.py:74(_inputs_swap_needed)\n",
      "        3    0.000    0.000    0.000    0.000 binning.py:341(<genexpr>)\n",
      "        4    0.000    0.000    0.000    0.000 {built-in method numpy.geterrobj}\n",
      "        2    0.000    0.000    0.000    0.000 stride_tricks.py:26(_maybe_view_as_subclass)\n",
      "        2    0.000    0.000    0.000    0.000 stride_tricks.py:261(<genexpr>)\n",
      "        2    0.000    0.000    0.000    0.000 {built-in method _bisect.bisect_left}\n",
      "        6    0.000    0.000    0.000    0.000 {method 'values' of 'collections.OrderedDict' objects}\n",
      "        4    0.000    0.000    0.000    0.000 {built-in method _operator.index}\n",
      "        2    0.000    0.000    0.000    0.000 {built-in method builtins.callable}\n",
      "        2    0.000    0.000    0.000    0.000 {built-in method builtins.iter}\n",
      "        1    0.000    0.000    0.000    0.000 {method 'keys' of 'dict' objects}\n",
      "        1    0.000    0.000    0.000    0.000 <string>:2(_parse_args)\n",
      "        1    0.000    0.000    0.000    0.000 zeros.py:65(results_c)\n",
      "        1    0.000    0.000    0.000    0.000 signaltools.py:464(_prod)\n",
      "        1    0.000    0.000    0.000    0.000 numerictypes.py:655(<listcomp>)\n",
      "        1    0.000    0.000    0.000    0.000 {method 'disable' of '_lsprof.Profiler' objects}\n",
      "\n",
      "\n"
     ]
    }
   ],
   "source": [
    "cProfile.run(\n",
    "    \"kraft.compute_information_coefficient_between_2_1d_arrays(_1d_array_0, _1d_array_1)\",\n",
    "    sort=\"cumtime\",\n",
    ")"
   ]
  }
 ],
 "metadata": {
  "kernelspec": {
   "display_name": "Python 3",
   "language": "python",
   "name": "python3"
  },
  "language_info": {
   "codemirror_mode": {
    "name": "ipython",
    "version": 3
   },
   "file_extension": ".py",
   "mimetype": "text/x-python",
   "name": "python",
   "nbconvert_exporter": "python",
   "pygments_lexer": "ipython3",
   "version": "3.6.7"
  }
 },
 "nbformat": 4,
 "nbformat_minor": 2
}
