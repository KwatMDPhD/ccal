{
 "cells": [
  {
   "cell_type": "code",
   "execution_count": 1,
   "metadata": {},
   "outputs": [],
   "source": [
    "%load_ext autoreload\n",
    "%autoreload 2"
   ]
  },
  {
   "cell_type": "code",
   "execution_count": 2,
   "metadata": {},
   "outputs": [],
   "source": [
    "import numpy as np"
   ]
  },
  {
   "cell_type": "code",
   "execution_count": 3,
   "metadata": {},
   "outputs": [],
   "source": [
    "import kraft"
   ]
  },
  {
   "cell_type": "code",
   "execution_count": 4,
   "metadata": {},
   "outputs": [],
   "source": [
    "np.random.seed(seed=kraft.RANDOM_SEED)"
   ]
  },
  {
   "cell_type": "code",
   "execution_count": 5,
   "metadata": {},
   "outputs": [
    {
     "name": "stdout",
     "output_type": "stream",
     "text": [
      "-0.0 (1 random)\n",
      "-0.0 (1 1)\n",
      "-0.0 (1 2)\n",
      "-0.0 (1 8)\n",
      "0.6462596793146722 (2 random)\n",
      "0.6931471805599453 (2 1)\n",
      "0.6931471805599453 (2 2)\n",
      "0.6931471805599453 (2 8)\n",
      "1.1187020415455604 (4 random)\n",
      "1.3862943611198906 (4 1)\n",
      "1.3862943611198906 (4 2)\n",
      "1.3862943611198906 (4 8)\n",
      "1.9469474216073919 (8 random)\n",
      "2.0794415416798357 (8 1)\n",
      "2.0794415416798357 (8 2)\n",
      "2.0794415416798357 (8 8)\n",
      "2.5351989204983 (16 random)\n",
      "2.772588722239781 (16 1)\n",
      "2.772588722239781 (16 2)\n",
      "2.772588722239781 (16 8)\n",
      "3.305259305271915 (32 random)\n",
      "3.4657359027997265 (32 1)\n",
      "3.4657359027997265 (32 2)\n",
      "3.4657359027997265 (32 8)\n",
      "4.005490084024379 (64 random)\n",
      "4.1588830833596715 (64 1)\n",
      "4.1588830833596715 (64 2)\n",
      "4.1588830833596715 (64 8)\n",
      "4.652365079229237 (128 random)\n",
      "4.852030263919617 (128 1)\n",
      "4.852030263919617 (128 2)\n",
      "4.852030263919617 (128 8)\n",
      "5.363952518752676 (256 random)\n",
      "5.545177444479562 (256 1)\n",
      "5.545177444479562 (256 2)\n",
      "5.545177444479562 (256 8)\n"
     ]
    }
   ],
   "source": [
    "for power in range(9):\n",
    "    \n",
    "    n = 2**power\n",
    "    \n",
    "    print(f'{kraft.compute_1d_array_entropy(np.random.random_sample(size=n))} ({n} random)')\n",
    "    \n",
    "    for value in (1, 2, 8):\n",
    "\n",
    "        print(f'{kraft.compute_1d_array_entropy(np.full(n, value))} ({n} {value})')"
   ]
  },
  {
   "cell_type": "code",
   "execution_count": 10,
   "metadata": {
    "ExecuteTime": {
     "end_time": "2018-05-15T09:32:32.232401Z",
     "start_time": "2018-05-15T09:32:27.690390Z"
    },
    "scrolled": false
   },
   "outputs": [
    {
     "name": "stdout",
     "output_type": "stream",
     "text": [
      "[0 0 0 0 0 0 0 0]\n",
      "[0 0 0 0 0 0 0 0]\n",
      "nan\n",
      "nan\n",
      "\n",
      "[1 1 1 1 1 1 1 1]\n",
      "[1 1 1 1 1 1 1 1]\n",
      "nan\n",
      "nan\n",
      "\n",
      "[0 1 2 3 4 5 6 7]\n",
      "[7 6 5 4 3 2 1 0]\n",
      "-0.6721132117505169\n",
      "0.8360566058752584\n",
      "\n",
      "[0 1 2 3 4 5 6 7 8 7 6 5 4 3 2 1 0]\n",
      "[0 1 2 3 4 5 6 7 8 7 6 5 4 3 2 1 0]\n",
      "0.7311612530442776\n",
      "0.1344193734778612\n",
      "\n",
      "[8 7 6 5 4 3 2 1 0 1 2 3 4 5 6 7 8]\n",
      "[8 7 6 5 4 3 2 1 0 1 2 3 4 5 6 7 8]\n",
      "0.7311612530442773\n",
      "0.13441937347786137\n",
      "\n",
      "[0 1 0 1 0 1 0 1 0 1 0 1 0 1 0 1]\n",
      "[0 1 0 1 0 1 0 1 0 1 0 1 0 1 0 1]\n",
      "0.7730192764982813\n",
      "0.11349036175085936\n",
      "\n",
      "[0 1 0 1 0 1 0 1 0 1 0 1 0 1 0 1]\n",
      "[1 0 1 0 1 0 1 0 1 0 1 0 1 0 1 0]\n",
      "-0.7730192764982815\n",
      "0.8865096382491408\n",
      "\n"
     ]
    },
    {
     "name": "stderr",
     "output_type": "stream",
     "text": [
      "/home/kwat/miniconda3/lib/python3.6/site-packages/scipy/stats/stats.py:3038: RuntimeWarning:\n",
      "\n",
      "invalid value encountered in double_scalars\n",
      "\n"
     ]
    }
   ],
   "source": [
    "for _1d_array_0, _1d_array_1 in (\n",
    "    (np.asarray((0,) * 8),) * 2,\n",
    "    (np.asarray((1,) * 8),) * 2,\n",
    "    (np.asarray(range(8)), np.asarray(range(8))[::-1]),\n",
    "    (np.asarray((0, 1, 2, 3, 4, 5, 6, 7, 8, 7, 6, 5, 4, 3, 2, 1, 0)),) * 2,\n",
    "    (np.asarray((8, 7, 6, 5, 4, 3, 2, 1, 0, 1, 2, 3, 4, 5, 6, 7, 8)),) * 2,\n",
    "    (\n",
    "        np.asarray((0, 1) * 8),\n",
    "        np.asarray((0, 1) * 8),\n",
    "    ),\n",
    "    (\n",
    "        np.asarray((0, 1) * 8),\n",
    "        np.asarray((1, 0) * 8),\n",
    "    ),\n",
    "):\n",
    "\n",
    "    print(_1d_array_0)\n",
    "\n",
    "    print(_1d_array_1)\n",
    "    \n",
    "    print(kraft.compute_information_coefficient_between_2_1d_arrays(\n",
    "            _1d_array_0,\n",
    "            _1d_array_1,\n",
    "        ))\n",
    "    \n",
    "    print(kraft.compute_information_distance_between_2_1d_arrays(\n",
    "            _1d_array_0,\n",
    "            _1d_array_1,\n",
    "        ))\n",
    "    \n",
    "    print()"
   ]
  },
  {
   "cell_type": "code",
   "execution_count": 11,
   "metadata": {
    "scrolled": false
   },
   "outputs": [
    {
     "name": "stdout",
     "output_type": "stream",
     "text": [
      "nan (n=1)\n",
      "0.048450881732938225 (n=2)\n",
      "-0.3979217611366719 (n=4)\n",
      "-0.2360437154409888 (n=8)\n",
      "0.2741467632107411 (n=16)\n",
      "0.21626534476515238 (n=32)\n",
      "0.23293932855255287 (n=64)\n",
      "0.24536655608097133 (n=128)\n",
      "0.2185710429001611 (n=256)\n",
      "0.17150654762885686 (n=512)\n",
      "0.20002763210553373 (n=1024)\n",
      "-0.14148816481636892 (n=2048)\n",
      "0.11725846147406889 (n=4096)\n",
      "-0.09857564253654555 (n=8192)\n",
      "-0.08034330581015345 (n=16384)\n",
      "-0.06927643981048637 (n=32768)\n",
      "0.05712052276104869 (n=65536)\n"
     ]
    },
    {
     "name": "stderr",
     "output_type": "stream",
     "text": [
      "/home/kwat/miniconda3/lib/python3.6/site-packages/scipy/stats/stats.py:3038: RuntimeWarning:\n",
      "\n",
      "invalid value encountered in double_scalars\n",
      "\n"
     ]
    }
   ],
   "source": [
    "for power in range(17):\n",
    "    \n",
    "    n = 2**power\n",
    "    \n",
    "    _1d_array_0 = np.random.normal(size=n)\n",
    "\n",
    "    _1d_array_1 = np.random.normal(size=n)\n",
    "    \n",
    "    print(f'{kraft.compute_information_coefficient_between_2_1d_arrays(_1d_array_0, _1d_array_1)} (n={n})')"
   ]
  },
  {
   "cell_type": "code",
   "execution_count": 12,
   "metadata": {
    "scrolled": false
   },
   "outputs": [
    {
     "name": "stdout",
     "output_type": "stream",
     "text": [
      "[0 0 1 1 2 2]\n",
      "[0 0 1 1 2 2]\n",
      "0.6555793297646126\n",
      "\n",
      "[0 0 1 1 2 2]\n",
      "[0 0 2 2 4 4]\n",
      "0.4584654504662818\n",
      "\n",
      "[0 0 1 1 2 2]\n",
      "[0.  0.  0.5 0.5 1.  1. ]\n",
      "0.4576871348202127\n",
      "\n",
      "[0 0 1 1 2 2]\n",
      "[ 0  0 10 10 20 20]\n",
      "0.11025793806583387\n",
      "\n",
      "[0 0 1 1 2 2]\n",
      "[0.  0.  0.1 0.1 0.2 0.2]\n",
      "0.10915493647151904\n",
      "\n"
     ]
    }
   ],
   "source": [
    "n = 2\n",
    "\n",
    "_1d_array_0 = np.asarray((0,) * n + (1,) * n + (2,) * n)\n",
    "\n",
    "for factor in (1, 2, 1/2, 10, 1/10):\n",
    "\n",
    "    _1d_array_1 = _1d_array_0 * factor\n",
    "    \n",
    "    print(_1d_array_0)\n",
    "\n",
    "    print(_1d_array_1)\n",
    "    \n",
    "    print(f'{kraft.compute_information_coefficient_between_2_1d_arrays(_1d_array_0, _1d_array_1)}')\n",
    "    \n",
    "    print()"
   ]
  },
  {
   "cell_type": "code",
   "execution_count": 13,
   "metadata": {},
   "outputs": [],
   "source": [
    "n = 200\n",
    "\n",
    "_1d_array_0 = np.random.normal(size=n)\n",
    "\n",
    "_1d_array_1 = np.random.normal(size=n)"
   ]
  },
  {
   "cell_type": "code",
   "execution_count": 17,
   "metadata": {},
   "outputs": [
    {
     "name": "stdout",
     "output_type": "stream",
     "text": [
      "2.85 ms ± 134 µs per loop (mean ± std. dev. of 7 runs, 100 loops each)\n"
     ]
    }
   ],
   "source": [
    "%%timeit\n",
    "\n",
    "kraft.compute_information_coefficient_between_2_1d_arrays(\n",
    "    _1d_array_0,\n",
    "    _1d_array_1,\n",
    ")"
   ]
  }
 ],
 "metadata": {
  "kernelspec": {
   "display_name": "Python 3",
   "language": "python",
   "name": "python3"
  },
  "language_info": {
   "codemirror_mode": {
    "name": "ipython",
    "version": 3
   },
   "file_extension": ".py",
   "mimetype": "text/x-python",
   "name": "python",
   "nbconvert_exporter": "python",
   "pygments_lexer": "ipython3",
   "version": "3.6.7"
  }
 },
 "nbformat": 4,
 "nbformat_minor": 2
}
