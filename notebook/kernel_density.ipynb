{
 "cells": [
  {
   "cell_type": "code",
   "execution_count": null,
   "metadata": {
    "ExecuteTime": {
     "end_time": "2018-05-15T09:32:46.327484Z",
     "start_time": "2018-05-15T09:32:46.225291Z"
    }
   },
   "outputs": [],
   "source": [
    "%load_ext autoreload\n",
    "%autoreload 2"
   ]
  },
  {
   "cell_type": "code",
   "execution_count": null,
   "metadata": {},
   "outputs": [],
   "source": [
    "import os\n",
    "import sys\n",
    "\n",
    "import numpy as np\n",
    "import pandas as pd"
   ]
  },
  {
   "cell_type": "code",
   "execution_count": null,
   "metadata": {},
   "outputs": [],
   "source": [
    "import numpy as np"
   ]
  },
  {
   "cell_type": "code",
   "execution_count": null,
   "metadata": {},
   "outputs": [],
   "source": [
    "import kraft"
   ]
  },
  {
   "cell_type": "code",
   "execution_count": null,
   "metadata": {
    "ExecuteTime": {
     "end_time": "2018-05-15T09:32:46.759587Z",
     "start_time": "2018-05-15T09:32:46.332615Z"
    }
   },
   "outputs": [],
   "source": [
    "np.random.seed(kraft.RANDOM_SEED)"
   ]
  },
  {
   "cell_type": "code",
   "execution_count": null,
   "metadata": {},
   "outputs": [],
   "source": [
    "import plotly as pl"
   ]
  },
  {
   "cell_type": "code",
   "execution_count": null,
   "metadata": {
    "ExecuteTime": {
     "end_time": "2018-05-15T09:32:46.759587Z",
     "start_time": "2018-05-15T09:32:46.332615Z"
    }
   },
   "outputs": [],
   "source": [
    "pl.offline.init_notebook_mode(connected=True)"
   ]
  },
  {
   "cell_type": "code",
   "execution_count": null,
   "metadata": {
    "ExecuteTime": {
     "end_time": "2018-05-15T09:32:59.784783Z",
     "start_time": "2018-05-15T09:32:46.796195Z"
    }
   },
   "outputs": [],
   "source": [
    "coordiante_1d = np.asarray(range(16))\n",
    "\n",
    "kraft.compute_1d_array_bandwidth(coordiante_1d)"
   ]
  },
  {
   "cell_type": "code",
   "execution_count": null,
   "metadata": {},
   "outputs": [],
   "source": [
    "import pandas as pd"
   ]
  },
  {
   "cell_type": "code",
   "execution_count": null,
   "metadata": {
    "ExecuteTime": {
     "end_time": "2018-05-15T09:33:18.619153Z",
     "start_time": "2018-05-15T09:32:59.802493Z"
    }
   },
   "outputs": [],
   "source": [
    "for i, j in (\n",
    "    (np.arange(8), np.arange(8)),\n",
    "    (np.asarray((0, 1, 2, 3)), np.asarray((1, 1, 0, 0))),\n",
    "    (np.asarray((0, 1, 2, 3)), np.asarray((0, 0, 1, 1))),\n",
    "    (np.asarray((1, 1, 0, 0)), np.asarray((0, 1, 2, 3))),\n",
    "    (np.asarray((0, 0, 1, 1)), np.asarray((0, 1, 2, 3))),\n",
    "):\n",
    "\n",
    "    print(i)\n",
    "\n",
    "    print(j)\n",
    "\n",
    "    mesh_grid_point_x_dimension, mesh_grid_point_x_value = kraft.estimate_kernel_density(\n",
    "        (i, j)\n",
    "    )\n",
    "\n",
    "    kraft.plot_heat_map(pd.DataFrame())"
   ]
  },
  {
   "cell_type": "code",
   "execution_count": null,
   "metadata": {
    "ExecuteTime": {
     "end_time": "2018-05-15T09:33:53.505903Z",
     "start_time": "2018-05-15T09:33:18.641074Z"
    }
   },
   "outputs": [],
   "source": [
    "coordiante_1d = np.arange(8)\n",
    "\n",
    "for n_dimension in (3, 4):\n",
    "\n",
    "    mesh_grid_point_x_dimension, mesh_grid_point_x_value = kraft.estimate_kernel_density(\n",
    "        (coordiante_1d,) * n_dimension\n",
    "    )"
   ]
  }
 ],
 "metadata": {
  "kernelspec": {
   "display_name": "Python 3",
   "language": "python",
   "name": "python3"
  },
  "language_info": {
   "codemirror_mode": {
    "name": "ipython",
    "version": 3
   },
   "file_extension": ".py",
   "mimetype": "text/x-python",
   "name": "python",
   "nbconvert_exporter": "python",
   "pygments_lexer": "ipython3",
   "version": "3.6.7"
  }
 },
 "nbformat": 4,
 "nbformat_minor": 2
}
