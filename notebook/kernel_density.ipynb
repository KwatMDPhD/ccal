{
 "cells": [
  {
   "cell_type": "code",
   "execution_count": null,
   "metadata": {
    "execution": {
     "iopub.execute_input": "2021-05-30T23:48:53.448223Z",
     "iopub.status.busy": "2021-05-30T23:48:53.447258Z",
     "iopub.status.idle": "2021-05-30T23:48:53.462150Z",
     "shell.execute_reply": "2021-05-30T23:48:53.462694Z"
    }
   },
   "outputs": [],
   "source": [
    "%load_ext autoreload\n",
    "%autoreload 2"
   ]
  },
  {
   "cell_type": "code",
   "execution_count": null,
   "metadata": {
    "execution": {
     "iopub.execute_input": "2021-05-30T23:48:53.466401Z",
     "iopub.status.busy": "2021-05-30T23:48:53.465791Z",
     "iopub.status.idle": "2021-05-30T23:48:54.003466Z",
     "shell.execute_reply": "2021-05-30T23:48:54.003829Z"
    }
   },
   "outputs": [],
   "source": [
    "import kraft"
   ]
  },
  {
   "cell_type": "markdown",
   "metadata": {},
   "source": [
    "## get_bandwidth"
   ]
  },
  {
   "cell_type": "code",
   "execution_count": null,
   "metadata": {
    "execution": {
     "iopub.execute_input": "2021-05-30T23:48:54.006954Z",
     "iopub.status.busy": "2021-05-30T23:48:54.006458Z",
     "iopub.status.idle": "2021-05-30T23:48:54.023454Z",
     "shell.execute_reply": "2021-05-30T23:48:54.023817Z"
    }
   },
   "outputs": [],
   "source": [
    "import numpy as np"
   ]
  },
  {
   "cell_type": "code",
   "execution_count": null,
   "metadata": {
    "execution": {
     "iopub.execute_input": "2021-05-30T23:48:54.027040Z",
     "iopub.status.busy": "2021-05-30T23:48:54.026512Z",
     "iopub.status.idle": "2021-05-30T23:48:54.043917Z",
     "shell.execute_reply": "2021-05-30T23:48:54.044464Z"
    }
   },
   "outputs": [],
   "source": [
    "for nu_ in [np.random.normal(size=2), np.random.normal(size=100)]:\n",
    "\n",
    "    print(kraft.kernel_density.get_bandwidth(nu_))"
   ]
  },
  {
   "cell_type": "markdown",
   "metadata": {},
   "source": [
    "## get_density"
   ]
  },
  {
   "cell_type": "code",
   "execution_count": null,
   "metadata": {
    "execution": {
     "iopub.execute_input": "2021-05-30T23:48:54.048922Z",
     "iopub.status.busy": "2021-05-30T23:48:54.048396Z",
     "iopub.status.idle": "2021-05-30T23:48:54.343830Z",
     "shell.execute_reply": "2021-05-30T23:48:54.344249Z"
    }
   },
   "outputs": [],
   "source": [
    "for nu_di_po in [\n",
    "    [[-1], [0], [2]],\n",
    "    [[-1, -1], [0, 0], [2, 2]],\n",
    "    [[9, 0], [5, 0], [0, 9], [3, 2], [9, 9]],\n",
    "    [[-1, -1, -1], [0, 0, 0], [2, 2, 2]],\n",
    "]:\n",
    "\n",
    "    kraft.kernel_density.get_density(np.asarray(nu_di_po))"
   ]
  }
 ],
 "metadata": {
  "kernelspec": {
   "display_name": "Python 3",
   "language": "python",
   "name": "python3"
  },
  "language_info": {
   "codemirror_mode": {
    "name": "ipython",
    "version": 3
   },
   "file_extension": ".py",
   "mimetype": "text/x-python",
   "name": "python",
   "nbconvert_exporter": "python",
   "pygments_lexer": "ipython3",
   "version": "3.8.9"
  }
 },
 "nbformat": 4,
 "nbformat_minor": 4
}
