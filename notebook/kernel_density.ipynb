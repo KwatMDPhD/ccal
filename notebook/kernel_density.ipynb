{
 "cells": [
  {
   "cell_type": "code",
   "execution_count": null,
   "metadata": {
    "execution": {
     "iopub.execute_input": "2021-05-31T06:00:09.312197Z",
     "iopub.status.busy": "2021-05-31T06:00:09.311268Z",
     "iopub.status.idle": "2021-05-31T06:00:09.326419Z",
     "shell.execute_reply": "2021-05-31T06:00:09.326892Z"
    }
   },
   "outputs": [],
   "source": [
    "%load_ext autoreload\n",
    "%autoreload 2"
   ]
  },
  {
   "cell_type": "code",
   "execution_count": null,
   "metadata": {
    "execution": {
     "iopub.execute_input": "2021-05-31T06:00:09.330361Z",
     "iopub.status.busy": "2021-05-31T06:00:09.329767Z",
     "iopub.status.idle": "2021-05-31T06:00:09.873034Z",
     "shell.execute_reply": "2021-05-31T06:00:09.872678Z"
    }
   },
   "outputs": [],
   "source": [
    "import kraft"
   ]
  },
  {
   "cell_type": "markdown",
   "metadata": {},
   "source": [
    "## get_bandwidth"
   ]
  },
  {
   "cell_type": "code",
   "execution_count": null,
   "metadata": {
    "execution": {
     "iopub.execute_input": "2021-05-31T06:00:09.876148Z",
     "iopub.status.busy": "2021-05-31T06:00:09.875651Z",
     "iopub.status.idle": "2021-05-31T06:00:09.892858Z",
     "shell.execute_reply": "2021-05-31T06:00:09.893238Z"
    }
   },
   "outputs": [],
   "source": [
    "import numpy as np"
   ]
  },
  {
   "cell_type": "code",
   "execution_count": null,
   "metadata": {
    "execution": {
     "iopub.execute_input": "2021-05-31T06:00:09.896723Z",
     "iopub.status.busy": "2021-05-31T06:00:09.896130Z",
     "iopub.status.idle": "2021-05-31T06:00:09.916154Z",
     "shell.execute_reply": "2021-05-31T06:00:09.916567Z"
    }
   },
   "outputs": [],
   "source": [
    "for nu_ in [np.random.normal(size=2), np.random.normal(size=100)]:\n",
    "\n",
    "    print(kraft.kernel_density.get_bandwidth(nu_))"
   ]
  },
  {
   "cell_type": "markdown",
   "metadata": {},
   "source": [
    "## get_density"
   ]
  },
  {
   "cell_type": "code",
   "execution_count": null,
   "metadata": {
    "execution": {
     "iopub.execute_input": "2021-05-31T06:00:09.920788Z",
     "iopub.status.busy": "2021-05-31T06:00:09.920229Z",
     "iopub.status.idle": "2021-05-31T06:00:10.220526Z",
     "shell.execute_reply": "2021-05-31T06:00:10.220884Z"
    }
   },
   "outputs": [],
   "source": [
    "for nu_di_po in [\n",
    "    [[-1], [0], [2]],\n",
    "    [[-1, -1], [0, 0], [2, 2]],\n",
    "    [[9, 0], [5, 0], [0, 9], [3, 2], [9, 9]],\n",
    "    [[-1, -1, -1], [0, 0, 0], [2, 2, 2]],\n",
    "]:\n",
    "\n",
    "    kraft.kernel_density.get_density(np.asarray(nu_di_po))"
   ]
  }
 ],
 "metadata": {
  "kernelspec": {
   "display_name": "Python 3",
   "language": "python",
   "name": "python3"
  },
  "language_info": {
   "codemirror_mode": {
    "name": "ipython",
    "version": 3
   },
   "file_extension": ".py",
   "mimetype": "text/x-python",
   "name": "python",
   "nbconvert_exporter": "python",
   "pygments_lexer": "ipython3",
   "version": "3.8.9"
  }
 },
 "nbformat": 4,
 "nbformat_minor": 4
}
