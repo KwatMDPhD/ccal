{
 "cells": [
  {
   "cell_type": "code",
   "execution_count": null,
   "metadata": {
    "ExecuteTime": {
     "end_time": "2018-05-15T09:32:46.327484Z",
     "start_time": "2018-05-15T09:32:46.225291Z"
    }
   },
   "outputs": [],
   "source": [
    "%load_ext autoreload\n",
    "%autoreload 2"
   ]
  },
  {
   "cell_type": "code",
   "execution_count": null,
   "metadata": {},
   "outputs": [],
   "source": [
    "import os\n",
    "import sys\n",
    "\n",
    "import numpy as np\n",
    "import pandas as pd\n",
    "import plotly as pl"
   ]
  },
  {
   "cell_type": "code",
   "execution_count": null,
   "metadata": {
    "ExecuteTime": {
     "end_time": "2018-05-15T09:32:46.759587Z",
     "start_time": "2018-05-15T09:32:46.332615Z"
    }
   },
   "outputs": [],
   "source": [
    "sys.path.insert(0, \"..\")\n",
    "\n",
    "np.random.random(20121020)\n",
    "\n",
    "pl.offline.init_notebook_mode(connected=True)"
   ]
  },
  {
   "cell_type": "code",
   "execution_count": null,
   "metadata": {
    "ExecuteTime": {
     "end_time": "2018-05-15T09:32:59.784783Z",
     "start_time": "2018-05-15T09:32:46.796195Z"
    }
   },
   "outputs": [],
   "source": [
    "from kernel_density.compute_bandwidths import compute_bandwidths\n",
    "\n",
    "coordiante_1d = np.asarray(range(16))\n",
    "\n",
    "for n_dimension in (1, 2, 8):\n",
    "\n",
    "    bandwidths = compute_bandwidths(\n",
    "        (coordiante_1d,) * n_dimension, (\"c\",) * n_dimension\n",
    "    )\n",
    "\n",
    "    print(bandwidths)"
   ]
  },
  {
   "cell_type": "code",
   "execution_count": null,
   "metadata": {
    "ExecuteTime": {
     "end_time": "2018-05-15T09:33:18.619153Z",
     "start_time": "2018-05-15T09:32:59.802493Z"
    }
   },
   "outputs": [],
   "source": [
    "from kernel_density.estimate_kernel_density import estimate_kernel_density\n",
    "\n",
    "for i, j in (\n",
    "    (np.asarray(range(8)), np.asarray(range(8))),\n",
    "    (np.asarray((0, 1, 2, 3)), np.asarray((1, 1, 0, 0))),\n",
    "    (np.asarray((0, 1, 2, 3)), np.asarray((0, 0, 1, 1))),\n",
    "    (np.asarray((1, 1, 0, 0)), np.asarray((0, 1, 2, 3))),\n",
    "    (np.asarray((0, 0, 1, 1)), np.asarray((0, 1, 2, 3))),\n",
    "):\n",
    "\n",
    "    ij = estimate_kernel_density((i, j))\n",
    "\n",
    "    pl.offline.iplot(\n",
    "        dict(\n",
    "            layout=dict(\n",
    "                width=400, height=400, xaxis=dict(title=\"j\"), yaxis=dict(title=\"i\")\n",
    "            ),\n",
    "            data=[dict(type=\"heatmap\", z=ij[::-1])],\n",
    "        )\n",
    "    )"
   ]
  },
  {
   "cell_type": "code",
   "execution_count": null,
   "metadata": {
    "ExecuteTime": {
     "end_time": "2018-05-15T09:33:53.505903Z",
     "start_time": "2018-05-15T09:33:18.641074Z"
    }
   },
   "outputs": [],
   "source": [
    "coordiante_1d = np.asarray(range(8))\n",
    "\n",
    "n_dimension = 3\n",
    "\n",
    "ijk = estimate_kernel_density((coordiante_1d,) * n_dimension)\n",
    "\n",
    "ijk"
   ]
  }
 ],
 "metadata": {
  "kernelspec": {
   "display_name": "Python 3",
   "language": "python",
   "name": "python3"
  },
  "language_info": {
   "codemirror_mode": {
    "name": "ipython",
    "version": 3
   },
   "file_extension": ".py",
   "mimetype": "text/x-python",
   "name": "python",
   "nbconvert_exporter": "python",
   "pygments_lexer": "ipython3",
   "version": "3.6.6"
  }
 },
 "nbformat": 4,
 "nbformat_minor": 2
}
