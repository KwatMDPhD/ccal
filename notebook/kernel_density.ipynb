{
 "cells": [
  {
   "cell_type": "code",
   "execution_count": null,
   "metadata": {},
   "outputs": [],
   "source": [
    "%load_ext autoreload\n",
    "%autoreload 2"
   ]
  },
  {
   "cell_type": "code",
   "execution_count": null,
   "metadata": {},
   "outputs": [],
   "source": [
    "import kraft\n",
    "import numpy as np"
   ]
  },
  {
   "cell_type": "markdown",
   "metadata": {},
   "source": [
    "## get_bandwidth"
   ]
  },
  {
   "cell_type": "code",
   "execution_count": null,
   "metadata": {},
   "outputs": [],
   "source": [
    "for power in range(1, 8):\n",
    "\n",
    "    print(\"=\" * 80)\n",
    "\n",
    "    size = 2 ** power\n",
    "\n",
    "    print(size)\n",
    "\n",
    "    print(kraft.kernel_density.get_bandwidth(np.random.normal(size=size)))"
   ]
  },
  {
   "cell_type": "markdown",
   "metadata": {},
   "source": [
    "## get_density"
   ]
  },
  {
   "cell_type": "code",
   "execution_count": null,
   "metadata": {},
   "outputs": [],
   "source": [
    "for point_x_dimension in (\n",
    "    ((-1,), (0,), (2,)),\n",
    "    ((-1, -1), (0, 0), (2, 2)),\n",
    "    ((-1, -1, -1), (0, 0, 0), (2, 2, 2)),\n",
    "):\n",
    "\n",
    "    print(\"=\" * 80)\n",
    "\n",
    "    point_x_dimension = np.asarray(point_x_dimension)\n",
    "\n",
    "    print(point_x_dimension)\n",
    "\n",
    "    grid_nd, grid_nd_densities = kraft.kernel_density.get_density(point_x_dimension)\n",
    "\n",
    "    print(grid_nd.shape)\n",
    "\n",
    "    print(grid_nd_densities.shape)"
   ]
  }
 ],
 "metadata": {
  "kernelspec": {
   "display_name": "Python 3",
   "language": "python",
   "name": "python3"
  },
  "language_info": {
   "codemirror_mode": {
    "name": "ipython",
    "version": 3
   },
   "file_extension": ".py",
   "mimetype": "text/x-python",
   "name": "python",
   "nbconvert_exporter": "python",
   "pygments_lexer": "ipython3",
   "version": "3.7.8"
  }
 },
 "nbformat": 4,
 "nbformat_minor": 4
}
