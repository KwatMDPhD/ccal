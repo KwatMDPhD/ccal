{
 "cells": [
  {
   "cell_type": "code",
   "execution_count": null,
   "metadata": {
    "ExecuteTime": {
     "end_time": "2018-05-15T09:32:46.327484Z",
     "start_time": "2018-05-15T09:32:46.225291Z"
    }
   },
   "outputs": [],
   "source": [
    "%load_ext autoreload\n",
    "%autoreload 2"
   ]
  },
  {
   "cell_type": "code",
   "execution_count": null,
   "metadata": {},
   "outputs": [],
   "source": [
    "import os\n",
    "import sys\n",
    "\n",
    "import numpy as np\n",
    "import pandas as pd"
   ]
  },
  {
   "cell_type": "code",
   "execution_count": null,
   "metadata": {},
   "outputs": [],
   "source": [
    "import numpy as np"
   ]
  },
  {
   "cell_type": "code",
   "execution_count": null,
   "metadata": {},
   "outputs": [],
   "source": [
    "import kraft"
   ]
  },
  {
   "cell_type": "code",
   "execution_count": null,
   "metadata": {
    "ExecuteTime": {
     "end_time": "2018-05-15T09:32:46.759587Z",
     "start_time": "2018-05-15T09:32:46.332615Z"
    }
   },
   "outputs": [],
   "source": [
    "np.random.seed(kraft.RANDOM_SEED)"
   ]
  },
  {
   "cell_type": "code",
   "execution_count": null,
   "metadata": {},
   "outputs": [],
   "source": [
    "import plotly as pl"
   ]
  },
  {
   "cell_type": "code",
   "execution_count": null,
   "metadata": {
    "ExecuteTime": {
     "end_time": "2018-05-15T09:32:46.759587Z",
     "start_time": "2018-05-15T09:32:46.332615Z"
    }
   },
   "outputs": [],
   "source": [
    "pl.offline.init_notebook_mode(connected=True)"
   ]
  },
  {
   "cell_type": "code",
   "execution_count": null,
   "metadata": {
    "ExecuteTime": {
     "end_time": "2018-05-15T09:32:59.784783Z",
     "start_time": "2018-05-15T09:32:46.796195Z"
    }
   },
   "outputs": [],
   "source": [
    "_1d_array = np.asarray(range(16))\n",
    "\n",
    "kraft.compute_1d_array_bandwidth(_1d_array)"
   ]
  },
  {
   "cell_type": "code",
   "execution_count": null,
   "metadata": {},
   "outputs": [],
   "source": [
    "import pandas as pd"
   ]
  },
  {
   "cell_type": "code",
   "execution_count": null,
   "metadata": {
    "ExecuteTime": {
     "end_time": "2018-05-15T09:33:18.619153Z",
     "start_time": "2018-05-15T09:32:59.802493Z"
    }
   },
   "outputs": [],
   "source": [
    "n_grid = 16"
   ]
  },
  {
   "cell_type": "code",
   "execution_count": null,
   "metadata": {
    "ExecuteTime": {
     "end_time": "2018-05-15T09:33:18.619153Z",
     "start_time": "2018-05-15T09:32:59.802493Z"
    },
    "scrolled": false
   },
   "outputs": [],
   "source": [
    "for point_dimension_0_value, point_dimension_1_value in (\n",
    "    (np.arange(8), np.arange(8)),\n",
    "    (np.asarray((0, 1, 2, 3)), np.asarray((1, 1, 0, 0))),\n",
    "    (np.asarray((0, 1, 2, 3)), np.asarray((0, 0, 1, 1))),\n",
    "    (np.asarray((1, 1, 0, 0)), np.asarray((0, 1, 2, 3))),\n",
    "    (np.asarray((0, 0, 1, 1)), np.asarray((0, 1, 2, 3))),\n",
    "):\n",
    "\n",
    "    print(point_dimension_0_value)\n",
    "\n",
    "    print(point_dimension_1_value)\n",
    "\n",
    "    mesh_grid_point_x_dimension, mesh_grid_point_density = kraft.estimate_kernel_density(\n",
    "        np.asarray((point_dimension_0_value, point_dimension_1_value)).T, n_grid=n_grid\n",
    "    )\n",
    "       \n",
    "    kraft.plot_heat_map(pd.DataFrame(mesh_grid_point_density.reshape(n_grid, n_grid),\n",
    "                                     index=(f'*{i:.2f}' for i in np.unique(mesh_grid_point_x_dimension[:, 0])),\n",
    "                                     columns=(f'*{i:.2f}' for i in np.unique(mesh_grid_point_x_dimension[:, 1])),\n",
    "                                    ))"
   ]
  },
  {
   "cell_type": "code",
   "execution_count": null,
   "metadata": {
    "ExecuteTime": {
     "end_time": "2018-05-15T09:33:53.505903Z",
     "start_time": "2018-05-15T09:33:18.641074Z"
    }
   },
   "outputs": [],
   "source": [
    "point_dimension_i_value = np.arange(8)\n",
    "\n",
    "for n_dimension in (3, 4):\n",
    "\n",
    "    mesh_grid_point_x_dimension, mesh_grid_point_density = kraft.estimate_kernel_density(\n",
    "        np.asarray((point_dimension_i_value, ) * n_dimension).T, n_grid=n_grid\n",
    "    )\n",
    "    \n",
    "    print(mesh_grid_point_x_dimension.shape, mesh_grid_point_density.shape)"
   ]
  }
 ],
 "metadata": {
  "kernelspec": {
   "display_name": "Python 3",
   "language": "python",
   "name": "python3"
  },
  "language_info": {
   "codemirror_mode": {
    "name": "ipython",
    "version": 3
   },
   "file_extension": ".py",
   "mimetype": "text/x-python",
   "name": "python",
   "nbconvert_exporter": "python",
   "pygments_lexer": "ipython3",
   "version": "3.6.7"
  }
 },
 "nbformat": 4,
 "nbformat_minor": 2
}
