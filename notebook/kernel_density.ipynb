{
 "cells": [
  {
   "cell_type": "code",
   "execution_count": null,
   "metadata": {
    "execution": {
     "iopub.execute_input": "2021-05-30T07:00:33.383154Z",
     "iopub.status.busy": "2021-05-30T07:00:33.382342Z",
     "iopub.status.idle": "2021-05-30T07:00:33.397009Z",
     "shell.execute_reply": "2021-05-30T07:00:33.397462Z"
    }
   },
   "outputs": [],
   "source": [
    "%load_ext autoreload\n",
    "%autoreload 2"
   ]
  },
  {
   "cell_type": "code",
   "execution_count": null,
   "metadata": {
    "execution": {
     "iopub.execute_input": "2021-05-30T07:00:33.400952Z",
     "iopub.status.busy": "2021-05-30T07:00:33.400369Z",
     "iopub.status.idle": "2021-05-30T07:00:33.947531Z",
     "shell.execute_reply": "2021-05-30T07:00:33.947906Z"
    }
   },
   "outputs": [],
   "source": [
    "import kraft"
   ]
  },
  {
   "cell_type": "markdown",
   "metadata": {},
   "source": [
    "## get_bandwidth"
   ]
  },
  {
   "cell_type": "code",
   "execution_count": null,
   "metadata": {
    "execution": {
     "iopub.execute_input": "2021-05-30T07:00:33.951062Z",
     "iopub.status.busy": "2021-05-30T07:00:33.950512Z",
     "iopub.status.idle": "2021-05-30T07:00:33.968587Z",
     "shell.execute_reply": "2021-05-30T07:00:33.968986Z"
    }
   },
   "outputs": [],
   "source": [
    "import numpy as np"
   ]
  },
  {
   "cell_type": "code",
   "execution_count": null,
   "metadata": {
    "execution": {
     "iopub.execute_input": "2021-05-30T07:00:33.972565Z",
     "iopub.status.busy": "2021-05-30T07:00:33.971961Z",
     "iopub.status.idle": "2021-05-30T07:00:33.991390Z",
     "shell.execute_reply": "2021-05-30T07:00:33.991866Z"
    }
   },
   "outputs": [],
   "source": [
    "for nu_ in [\n",
    "    np.random.normal(size=2),\n",
    "    np.random.normal(size=100),\n",
    "]:\n",
    "\n",
    "    print(kraft.kernel_density.get_bandwidth(nu_))"
   ]
  },
  {
   "cell_type": "markdown",
   "metadata": {},
   "source": [
    "## get_density"
   ]
  },
  {
   "cell_type": "code",
   "execution_count": null,
   "metadata": {
    "execution": {
     "iopub.execute_input": "2021-05-30T07:00:33.996935Z",
     "iopub.status.busy": "2021-05-30T07:00:33.996335Z",
     "iopub.status.idle": "2021-05-30T07:00:34.303269Z",
     "shell.execute_reply": "2021-05-30T07:00:34.303625Z"
    }
   },
   "outputs": [],
   "source": [
    "for nu_di_po in [\n",
    "    [\n",
    "        [-1],\n",
    "        [0],\n",
    "        [2],\n",
    "    ],\n",
    "    [\n",
    "        [\n",
    "            -1,\n",
    "            -1,\n",
    "        ],\n",
    "        [\n",
    "            0,\n",
    "            0,\n",
    "        ],\n",
    "        [\n",
    "            2,\n",
    "            2,\n",
    "        ],\n",
    "    ],\n",
    "    [\n",
    "        [\n",
    "            9,\n",
    "            0,\n",
    "        ],\n",
    "        [\n",
    "            5,\n",
    "            0,\n",
    "        ],\n",
    "        [\n",
    "            0,\n",
    "            9,\n",
    "        ],\n",
    "        [\n",
    "            3,\n",
    "            2,\n",
    "        ],\n",
    "        [\n",
    "            9,\n",
    "            9,\n",
    "        ],\n",
    "    ],\n",
    "    [\n",
    "        [\n",
    "            -1,\n",
    "            -1,\n",
    "            -1,\n",
    "        ],\n",
    "        [\n",
    "            0,\n",
    "            0,\n",
    "            0,\n",
    "        ],\n",
    "        [\n",
    "            2,\n",
    "            2,\n",
    "            2,\n",
    "        ],\n",
    "    ],\n",
    "]:\n",
    "\n",
    "    kraft.kernel_density.get_density(np.asarray(nu_di_po))"
   ]
  }
 ],
 "metadata": {
  "kernelspec": {
   "display_name": "Python 3",
   "language": "python",
   "name": "python3"
  },
  "language_info": {
   "codemirror_mode": {
    "name": "ipython",
    "version": 3
   },
   "file_extension": ".py",
   "mimetype": "text/x-python",
   "name": "python",
   "nbconvert_exporter": "python",
   "pygments_lexer": "ipython3",
   "version": "3.8.9"
  }
 },
 "nbformat": 4,
 "nbformat_minor": 4
}
