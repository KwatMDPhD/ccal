{
 "cells": [
  {
   "cell_type": "code",
   "execution_count": null,
   "metadata": {
    "execution": {
     "iopub.execute_input": "2021-05-29T23:05:45.414653Z",
     "iopub.status.busy": "2021-05-29T23:05:45.413880Z",
     "iopub.status.idle": "2021-05-29T23:05:45.428758Z",
     "shell.execute_reply": "2021-05-29T23:05:45.429162Z"
    }
   },
   "outputs": [],
   "source": [
    "%load_ext autoreload\n",
    "%autoreload 2"
   ]
  },
  {
   "cell_type": "code",
   "execution_count": null,
   "metadata": {
    "execution": {
     "iopub.execute_input": "2021-05-29T23:05:45.432701Z",
     "iopub.status.busy": "2021-05-29T23:05:45.432110Z",
     "iopub.status.idle": "2021-05-29T23:05:45.981041Z",
     "shell.execute_reply": "2021-05-29T23:05:45.981495Z"
    }
   },
   "outputs": [],
   "source": [
    "import kraft"
   ]
  },
  {
   "cell_type": "markdown",
   "metadata": {},
   "source": [
    "## get_bandwidth"
   ]
  },
  {
   "cell_type": "code",
   "execution_count": null,
   "metadata": {
    "execution": {
     "iopub.execute_input": "2021-05-29T23:05:45.984620Z",
     "iopub.status.busy": "2021-05-29T23:05:45.984048Z",
     "iopub.status.idle": "2021-05-29T23:05:46.003074Z",
     "shell.execute_reply": "2021-05-29T23:05:46.003501Z"
    }
   },
   "outputs": [],
   "source": [
    "import numpy as np"
   ]
  },
  {
   "cell_type": "code",
   "execution_count": null,
   "metadata": {
    "execution": {
     "iopub.execute_input": "2021-05-29T23:05:46.007275Z",
     "iopub.status.busy": "2021-05-29T23:05:46.006677Z",
     "iopub.status.idle": "2021-05-29T23:05:46.026473Z",
     "shell.execute_reply": "2021-05-29T23:05:46.026031Z"
    }
   },
   "outputs": [],
   "source": [
    "for nu_ in [\n",
    "    np.random.normal(size=2),\n",
    "    np.random.normal(size=100),\n",
    "]:\n",
    "\n",
    "    print(kraft.kernel_density.get_bandwidth(nu_))"
   ]
  },
  {
   "cell_type": "markdown",
   "metadata": {},
   "source": [
    "## get_density"
   ]
  },
  {
   "cell_type": "code",
   "execution_count": null,
   "metadata": {
    "execution": {
     "iopub.execute_input": "2021-05-29T23:05:46.031603Z",
     "iopub.status.busy": "2021-05-29T23:05:46.031005Z",
     "iopub.status.idle": "2021-05-29T23:05:46.343825Z",
     "shell.execute_reply": "2021-05-29T23:05:46.344209Z"
    }
   },
   "outputs": [],
   "source": [
    "for nu_di_po in [\n",
    "    [\n",
    "        [-1],\n",
    "        [0],\n",
    "        [2],\n",
    "    ],\n",
    "    [\n",
    "        [\n",
    "            -1,\n",
    "            -1,\n",
    "        ],\n",
    "        [\n",
    "            0,\n",
    "            0,\n",
    "        ],\n",
    "        [\n",
    "            2,\n",
    "            2,\n",
    "        ],\n",
    "    ],\n",
    "    [\n",
    "        [\n",
    "            9,\n",
    "            0,\n",
    "        ],\n",
    "        [\n",
    "            5,\n",
    "            0,\n",
    "        ],\n",
    "        [\n",
    "            0,\n",
    "            9,\n",
    "        ],\n",
    "        [\n",
    "            3,\n",
    "            2,\n",
    "        ],\n",
    "        [\n",
    "            9,\n",
    "            9,\n",
    "        ],\n",
    "    ],\n",
    "    [\n",
    "        [\n",
    "            -1,\n",
    "            -1,\n",
    "            -1,\n",
    "        ],\n",
    "        [\n",
    "            0,\n",
    "            0,\n",
    "            0,\n",
    "        ],\n",
    "        [\n",
    "            2,\n",
    "            2,\n",
    "            2,\n",
    "        ],\n",
    "    ],\n",
    "]:\n",
    "\n",
    "    kraft.kernel_density.get_density(np.asarray(nu_di_po))"
   ]
  }
 ],
 "metadata": {
  "kernelspec": {
   "display_name": "Python 3",
   "language": "python",
   "name": "python3"
  },
  "language_info": {
   "codemirror_mode": {
    "name": "ipython",
    "version": 3
   },
   "file_extension": ".py",
   "mimetype": "text/x-python",
   "name": "python",
   "nbconvert_exporter": "python",
   "pygments_lexer": "ipython3",
   "version": "3.8.9"
  }
 },
 "nbformat": 4,
 "nbformat_minor": 4
}
