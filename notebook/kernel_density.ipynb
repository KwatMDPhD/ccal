{
 "cells": [
  {
   "cell_type": "code",
   "execution_count": null,
   "metadata": {
    "ExecuteTime": {
     "end_time": "2018-05-15T09:32:46.327484Z",
     "start_time": "2018-05-15T09:32:46.225291Z"
    }
   },
   "outputs": [],
   "source": [
    "%load_ext autoreload\n",
    "%autoreload 2"
   ]
  },
  {
   "cell_type": "code",
   "execution_count": null,
   "metadata": {},
   "outputs": [],
   "source": [
    "import numpy as np"
   ]
  },
  {
   "cell_type": "code",
   "execution_count": null,
   "metadata": {},
   "outputs": [],
   "source": [
    "import kraft"
   ]
  },
  {
   "cell_type": "code",
   "execution_count": null,
   "metadata": {
    "ExecuteTime": {
     "end_time": "2018-05-15T09:32:46.759587Z",
     "start_time": "2018-05-15T09:32:46.332615Z"
    }
   },
   "outputs": [],
   "source": [
    "np.random.seed(kraft.RANDOM_SEED)"
   ]
  },
  {
   "cell_type": "code",
   "execution_count": null,
   "metadata": {},
   "outputs": [],
   "source": [
    "import plotly as pl"
   ]
  },
  {
   "cell_type": "code",
   "execution_count": null,
   "metadata": {
    "ExecuteTime": {
     "end_time": "2018-05-15T09:32:46.759587Z",
     "start_time": "2018-05-15T09:32:46.332615Z"
    }
   },
   "outputs": [],
   "source": [
    "pl.offline.init_notebook_mode(connected=True)"
   ]
  },
  {
   "cell_type": "code",
   "execution_count": null,
   "metadata": {
    "ExecuteTime": {
     "end_time": "2018-05-15T09:32:59.784783Z",
     "start_time": "2018-05-15T09:32:46.796195Z"
    }
   },
   "outputs": [],
   "source": [
    "_1d_array = np.random.normal(size=1000)\n",
    "\n",
    "kraft.compute_1d_array_bandwidth(_1d_array)"
   ]
  },
  {
   "cell_type": "code",
   "execution_count": null,
   "metadata": {},
   "outputs": [],
   "source": [
    "mesh_grid_point_x_dimension, mesh_grid_point_density = kraft.estimate_kernel_density(_1d_array.reshape((-1, 1)))\n",
    "\n",
    "print(mesh_grid_point_x_dimension.shape, mesh_grid_point_density.shape)\n",
    "\n",
    "axis_grids, density = kraft.unmesh(mesh_grid_point_x_dimension, mesh_grid_point_density)\n",
    "\n",
    "print(len(axis_grids), density.shape)"
   ]
  },
  {
   "cell_type": "code",
   "execution_count": null,
   "metadata": {},
   "outputs": [],
   "source": [
    "import pandas as pd"
   ]
  },
  {
   "cell_type": "code",
   "execution_count": null,
   "metadata": {
    "ExecuteTime": {
     "end_time": "2018-05-15T09:33:18.619153Z",
     "start_time": "2018-05-15T09:32:59.802493Z"
    },
    "scrolled": false
   },
   "outputs": [],
   "source": [
    "for dimension_0_values, dimension_1_values in (\n",
    "#     (np.arange(8), np.arange(8)),\n",
    "    (np.arange(8), np.asarray((1,)*4 + (0,)*4)),\n",
    "#     (np.arange(8), np.asarray((0,)*4 + (1,)*4)),\n",
    "):\n",
    "\n",
    "    observation_x_dimension = np.asarray((dimension_0_values, dimension_1_values)).T\n",
    "    \n",
    "    break\n",
    "    \n",
    "    print(observation_x_dimension)\n",
    "\n",
    "    for estimate_kernel_density_keyword_arguments in (\n",
    "        {},\n",
    "        {\n",
    "            'fraction_grid_extensions': (1/1000,)*2\n",
    "        },\n",
    "        {\n",
    "            'n_grids': (512,)*2\n",
    "        },\n",
    "        {\n",
    "            'grid_mins': (0, )* 2,\n",
    "            'grid_maxs': (10, )* 2,\n",
    "            'fraction_grid_extensions': (1/1000,)*2\n",
    "        },\n",
    "    ):\n",
    "        \n",
    "        print(estimate_kernel_density_keyword_arguments)\n",
    "        \n",
    "        kraft.estimate_kernel_density(\n",
    "            observation_x_dimension,\n",
    "            **estimate_kernel_density_keyword_arguments,\n",
    "        )"
   ]
  },
  {
   "cell_type": "code",
   "execution_count": null,
   "metadata": {
    "ExecuteTime": {
     "end_time": "2018-05-15T09:33:53.505903Z",
     "start_time": "2018-05-15T09:33:18.641074Z"
    }
   },
   "outputs": [],
   "source": [
    "point_dimension_i_value = np.arange(8)\n",
    "\n",
    "for n_dimension in (3, 4):\n",
    "\n",
    "    observation_x_dimension = np.asarray((point_dimension_i_value, ) * n_dimension).T\n",
    "    \n",
    "    print(observation_x_dimension)\n",
    "\n",
    "    mesh_grid_point_x_dimension, mesh_grid_point_density = kraft.estimate_kernel_density(\n",
    "        observation_x_dimension\n",
    "    )\n",
    "    \n",
    "    axis_grids, density = kraft.unmesh(mesh_grid_point_x_dimension, mesh_grid_point_density)\n",
    "    \n",
    "    print(axis_grids)\n",
    "    \n",
    "    print(density.shape)"
   ]
  }
 ],
 "metadata": {
  "kernelspec": {
   "display_name": "Python 3",
   "language": "python",
   "name": "python3"
  },
  "language_info": {
   "codemirror_mode": {
    "name": "ipython",
    "version": 3
   },
   "file_extension": ".py",
   "mimetype": "text/x-python",
   "name": "python",
   "nbconvert_exporter": "python",
   "pygments_lexer": "ipython3",
   "version": "3.6.7"
  }
 },
 "nbformat": 4,
 "nbformat_minor": 2
}
