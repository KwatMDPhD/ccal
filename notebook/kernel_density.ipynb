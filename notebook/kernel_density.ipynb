{
 "cells": [
  {
   "cell_type": "code",
   "execution_count": null,
   "metadata": {
    "execution": {
     "iopub.execute_input": "2021-05-31T22:29:39.209441Z",
     "iopub.status.busy": "2021-05-31T22:29:39.208653Z",
     "iopub.status.idle": "2021-05-31T22:29:39.222980Z",
     "shell.execute_reply": "2021-05-31T22:29:39.223420Z"
    },
    "tags": []
   },
   "outputs": [],
   "source": [
    "%load_ext autoreload\n",
    "%autoreload 2"
   ]
  },
  {
   "cell_type": "code",
   "execution_count": null,
   "metadata": {
    "execution": {
     "iopub.execute_input": "2021-05-31T22:29:39.227048Z",
     "iopub.status.busy": "2021-05-31T22:29:39.226463Z",
     "iopub.status.idle": "2021-05-31T22:29:39.754665Z",
     "shell.execute_reply": "2021-05-31T22:29:39.755065Z"
    },
    "tags": []
   },
   "outputs": [],
   "source": [
    "import kraft"
   ]
  },
  {
   "cell_type": "markdown",
   "metadata": {},
   "source": [
    "## get_bandwidth"
   ]
  },
  {
   "cell_type": "code",
   "execution_count": null,
   "metadata": {
    "execution": {
     "iopub.execute_input": "2021-05-31T22:29:39.758436Z",
     "iopub.status.busy": "2021-05-31T22:29:39.757832Z",
     "iopub.status.idle": "2021-05-31T22:29:39.778219Z",
     "shell.execute_reply": "2021-05-31T22:29:39.778985Z"
    },
    "tags": []
   },
   "outputs": [],
   "source": [
    "import numpy as np"
   ]
  },
  {
   "cell_type": "code",
   "execution_count": null,
   "metadata": {
    "execution": {
     "iopub.execute_input": "2021-05-31T22:29:39.782948Z",
     "iopub.status.busy": "2021-05-31T22:29:39.782336Z",
     "iopub.status.idle": "2021-05-31T22:29:39.806806Z",
     "shell.execute_reply": "2021-05-31T22:29:39.807284Z"
    },
    "tags": []
   },
   "outputs": [],
   "source": [
    "for nu_ in [np.random.normal(size=2), np.random.normal(size=100)]:\n",
    "\n",
    "    print(kraft.kernel_density.get_bandwidth(nu_))"
   ]
  },
  {
   "cell_type": "markdown",
   "metadata": {},
   "source": [
    "## get_density"
   ]
  },
  {
   "cell_type": "code",
   "execution_count": null,
   "metadata": {
    "execution": {
     "iopub.execute_input": "2021-05-31T22:29:39.812184Z",
     "iopub.status.busy": "2021-05-31T22:29:39.811578Z",
     "iopub.status.idle": "2021-05-31T22:29:40.115226Z",
     "shell.execute_reply": "2021-05-31T22:29:40.115584Z"
    },
    "tags": []
   },
   "outputs": [],
   "source": [
    "for nu_po_di in [\n",
    "    [[-1], [0], [2]],\n",
    "    [[-1, -1], [0, 0], [2, 2]],\n",
    "    [[9, 0], [5, 0], [0, 9], [3, 2], [9, 9]],\n",
    "    [[-1, -1, -1], [0, 0, 0], [2, 2, 2]],\n",
    "]:\n",
    "\n",
    "    kraft.kernel_density.get_density(np.asarray(nu_po_di))"
   ]
  }
 ],
 "metadata": {
  "kernelspec": {
   "display_name": "Python 3",
   "language": "python",
   "name": "python3"
  },
  "language_info": {
   "codemirror_mode": {
    "name": "ipython",
    "version": 3
   },
   "file_extension": ".py",
   "mimetype": "text/x-python",
   "name": "python",
   "nbconvert_exporter": "python",
   "pygments_lexer": "ipython3",
   "version": "3.8.9"
  }
 },
 "nbformat": 4,
 "nbformat_minor": 4
}
