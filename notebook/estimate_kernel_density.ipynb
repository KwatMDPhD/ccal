{
 "cells": [
  {
   "cell_type": "code",
   "execution_count": null,
   "metadata": {},
   "outputs": [],
   "source": [
    "import plotly"
   ]
  },
  {
   "cell_type": "code",
   "execution_count": null,
   "metadata": {},
   "outputs": [],
   "source": [
    "plotly.offline.init_notebook_mode(connected=True)"
   ]
  },
  {
   "cell_type": "code",
   "execution_count": null,
   "metadata": {},
   "outputs": [],
   "source": [
    "import numpy as np"
   ]
  },
  {
   "cell_type": "code",
   "execution_count": null,
   "metadata": {
    "ExecuteTime": {
     "end_time": "2018-05-15T09:32:46.759587Z",
     "start_time": "2018-05-15T09:32:46.332615Z"
    }
   },
   "outputs": [],
   "source": [
    "import ccal"
   ]
  },
  {
   "cell_type": "code",
   "execution_count": null,
   "metadata": {
    "ExecuteTime": {
     "end_time": "2018-05-15T09:32:46.759587Z",
     "start_time": "2018-05-15T09:32:46.332615Z"
    }
   },
   "outputs": [],
   "source": [
    "np.random.seed(seed=ccal.RANDOM_SEED)"
   ]
  },
  {
   "cell_type": "code",
   "execution_count": null,
   "metadata": {
    "ExecuteTime": {
     "end_time": "2018-05-15T09:32:59.784783Z",
     "start_time": "2018-05-15T09:32:46.796195Z"
    }
   },
   "outputs": [],
   "source": [
    "_1d_coordiante = np.asarray(range(16))\n",
    "\n",
    "for n_dimension in (1, 2, 8):\n",
    "\n",
    "    print(ccal.compute_bandwidths((_1d_coordiante,) * n_dimension))"
   ]
  },
  {
   "cell_type": "code",
   "execution_count": null,
   "metadata": {},
   "outputs": [],
   "source": [
    "import pandas as pd"
   ]
  },
  {
   "cell_type": "code",
   "execution_count": null,
   "metadata": {
    "ExecuteTime": {
     "end_time": "2018-05-15T09:33:18.619153Z",
     "start_time": "2018-05-15T09:32:59.802493Z"
    }
   },
   "outputs": [],
   "source": [
    "for i, j in (\n",
    "    (np.asarray(range(8)), np.asarray(range(8))),\n",
    "    (np.asarray((0, 1, 2, 3)), np.asarray((1, 1, 0, 0))),\n",
    "    (np.asarray((0, 1, 2, 3)), np.asarray((0, 0, 1, 1))),\n",
    "    (np.asarray((1, 1, 0, 0)), np.asarray((0, 1, 2, 3))),\n",
    "    (np.asarray((0, 0, 1, 1)), np.asarray((0, 1, 2, 3))),\n",
    "):\n",
    "\n",
    "    ij = ccal.estimate_kernel_density((i, j))\n",
    "\n",
    "    ccal.plot_heat_map(pd.DataFrame(ij), title=\"KDE\", xaxis_title=\"j\", yaxis_title=\"i\")"
   ]
  },
  {
   "cell_type": "code",
   "execution_count": null,
   "metadata": {
    "ExecuteTime": {
     "end_time": "2018-05-15T09:33:53.505903Z",
     "start_time": "2018-05-15T09:33:18.641074Z"
    }
   },
   "outputs": [],
   "source": [
    "_1d_coordiante = np.asarray(range(8))\n",
    "\n",
    "n_dimension = 3\n",
    "\n",
    "ccal.estimate_kernel_density((_1d_coordiante,) * n_dimension)"
   ]
  }
 ],
 "metadata": {
  "kernelspec": {
   "display_name": "Python 3",
   "language": "python",
   "name": "python3"
  },
  "language_info": {
   "codemirror_mode": {
    "name": "ipython",
    "version": 3
   },
   "file_extension": ".py",
   "mimetype": "text/x-python",
   "name": "python",
   "nbconvert_exporter": "python",
   "pygments_lexer": "ipython3",
   "version": "3.6.7"
  }
 },
 "nbformat": 4,
 "nbformat_minor": 2
}
