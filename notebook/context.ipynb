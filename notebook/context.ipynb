{
 "cells": [
  {
   "cell_type": "code",
   "execution_count": null,
   "metadata": {
    "ExecuteTime": {
     "end_time": "2018-05-15T10:16:34.233120Z",
     "start_time": "2018-05-15T10:16:34.198714Z"
    }
   },
   "outputs": [],
   "source": [
    "%load_ext autoreload\n",
    "%autoreload 2"
   ]
  },
  {
   "cell_type": "code",
   "execution_count": null,
   "metadata": {},
   "outputs": [],
   "source": [
    "import os\n",
    "import sys\n",
    "\n",
    "import numpy as np\n",
    "import pandas as pd\n",
    "import plotly as pl"
   ]
  },
  {
   "cell_type": "code",
   "execution_count": null,
   "metadata": {
    "ExecuteTime": {
     "end_time": "2018-05-15T10:16:34.956452Z",
     "start_time": "2018-05-15T10:16:34.236354Z"
    }
   },
   "outputs": [],
   "source": [
    "sys.path.insert(0, \"..\")\n",
    "\n",
    "import ccal\n",
    "\n",
    "np.random.random(20121020)\n",
    "\n",
    "pl.offline.init_notebook_mode(connected=True)"
   ]
  },
  {
   "cell_type": "code",
   "execution_count": null,
   "metadata": {
    "ExecuteTime": {
     "end_time": "2018-05-15T10:16:34.956452Z",
     "start_time": "2018-05-15T10:16:34.236354Z"
    }
   },
   "outputs": [],
   "source": [
    "feature_x_sample = pd.read_table(\"feature_x_sample.tsv\", index_col=0).iloc[:16]\n",
    "\n",
    "feature_x_sample"
   ]
  },
  {
   "cell_type": "code",
   "execution_count": null,
   "metadata": {
    "ExecuteTime": {
     "end_time": "2018-05-15T10:16:41.604640Z",
     "start_time": "2018-05-15T10:16:35.154166Z"
    }
   },
   "outputs": [],
   "source": [
    "global_n, global_location, global_scale, global_degree_of_freedom, global_shape = ccal.fit_skew_t_pdf(\n",
    "    feature_x_sample.unstack().values\n",
    ")\n",
    "\n",
    "template = (\n",
    "    \"N={}\\tLocation={:.3f}\\tScale={:.3f}\\tDegree of Freeedom={:.3f}\\tShape={:.3f}\"\n",
    ")\n",
    "\n",
    "print(\n",
    "    template.format(\n",
    "        global_n, global_location, global_scale, global_degree_of_freedom, global_shape\n",
    "    )\n",
    ")\n",
    "\n",
    "_1d_array = feature_x_sample.iloc[0]\n",
    "\n",
    "n, location, scale, degree_of_freedom, shape = ccal.fit_skew_t_pdf(_1d_array.values)\n",
    "\n",
    "print(template.format(n, location, scale, degree_of_freedom, shape))\n",
    "\n",
    "n, location, scale, degree_of_freedom, shape = ccal.fit_skew_t_pdf(\n",
    "    _1d_array.values, fit_fixed_location=10, fit_fixed_scale=10\n",
    ")\n",
    "\n",
    "print(template.format(n, location, scale, degree_of_freedom, shape))"
   ]
  },
  {
   "cell_type": "code",
   "execution_count": null,
   "metadata": {
    "ExecuteTime": {
     "end_time": "2018-05-15T10:16:43.463632Z",
     "start_time": "2018-05-15T10:16:41.615078Z"
    }
   },
   "outputs": [],
   "source": [
    "_1d_array = feature_x_sample.iloc[0].values\n",
    "\n",
    "context_dict = ccal.compute_context(_1d_array)\n",
    "\n",
    "context_dict.keys()"
   ]
  },
  {
   "cell_type": "code",
   "execution_count": null,
   "metadata": {
    "ExecuteTime": {
     "end_time": "2018-05-15T10:16:43.552076Z",
     "start_time": "2018-05-15T10:16:43.471089Z"
    }
   },
   "outputs": [],
   "source": [
    "context_dict[\"fit\"]"
   ]
  },
  {
   "cell_type": "code",
   "execution_count": null,
   "metadata": {
    "ExecuteTime": {
     "end_time": "2018-05-15T10:16:43.661966Z",
     "start_time": "2018-05-15T10:16:43.559680Z"
    }
   },
   "outputs": [],
   "source": [
    "context_dict[\"grid\"]"
   ]
  },
  {
   "cell_type": "code",
   "execution_count": null,
   "metadata": {
    "ExecuteTime": {
     "end_time": "2018-05-15T10:16:43.856578Z",
     "start_time": "2018-05-15T10:16:43.681186Z"
    }
   },
   "outputs": [],
   "source": [
    "context_dict[\"pdf\"]"
   ]
  },
  {
   "cell_type": "code",
   "execution_count": null,
   "metadata": {
    "ExecuteTime": {
     "end_time": "2018-05-15T10:16:44.046296Z",
     "start_time": "2018-05-15T10:16:43.864102Z"
    }
   },
   "outputs": [],
   "source": [
    "context_dict[\"shape_pdf_reference\"]"
   ]
  },
  {
   "cell_type": "code",
   "execution_count": null,
   "metadata": {
    "ExecuteTime": {
     "end_time": "2018-05-15T10:16:44.340597Z",
     "start_time": "2018-05-15T10:16:44.050346Z"
    }
   },
   "outputs": [],
   "source": [
    "context_dict[\"shape_context_indices\"]"
   ]
  },
  {
   "cell_type": "code",
   "execution_count": null,
   "metadata": {
    "ExecuteTime": {
     "end_time": "2018-05-15T10:16:44.488485Z",
     "start_time": "2018-05-15T10:16:44.369676Z"
    }
   },
   "outputs": [],
   "source": [
    "context_dict[\"location_pdf_reference\"]"
   ]
  },
  {
   "cell_type": "code",
   "execution_count": null,
   "metadata": {
    "ExecuteTime": {
     "end_time": "2018-05-15T10:16:44.597583Z",
     "start_time": "2018-05-15T10:16:44.502390Z"
    }
   },
   "outputs": [],
   "source": [
    "context_dict[\"location_context_indices\"]"
   ]
  },
  {
   "cell_type": "code",
   "execution_count": null,
   "metadata": {
    "ExecuteTime": {
     "end_time": "2018-05-15T10:16:44.839707Z",
     "start_time": "2018-05-15T10:16:44.605066Z"
    }
   },
   "outputs": [],
   "source": [
    "context_dict[\"context_indices\"]"
   ]
  },
  {
   "cell_type": "code",
   "execution_count": null,
   "metadata": {
    "ExecuteTime": {
     "end_time": "2018-05-15T10:16:44.928851Z",
     "start_time": "2018-05-15T10:16:44.849128Z"
    }
   },
   "outputs": [],
   "source": [
    "context_dict[\"context_indices_like_array\"]"
   ]
  },
  {
   "cell_type": "code",
   "execution_count": null,
   "metadata": {
    "ExecuteTime": {
     "end_time": "2018-05-15T10:18:36.106877Z",
     "start_time": "2018-05-15T10:16:44.933402Z"
    }
   },
   "outputs": [],
   "source": [
    "for feature, _1d_array in feature_x_sample.iloc[:8].iterrows():\n",
    "\n",
    "    ccal.plot_context(_1d_array, title=feature)\n",
    "\n",
    "    ccal.plot_context(\n",
    "        _1d_array,\n",
    "        global_location=global_location,\n",
    "        global_scale=global_scale,\n",
    "        global_degree_of_freedom=global_degree_of_freedom,\n",
    "        global_shape=global_shape,\n",
    "        title=feature,\n",
    "    )"
   ]
  },
  {
   "cell_type": "code",
   "execution_count": null,
   "metadata": {
    "ExecuteTime": {
     "end_time": "2018-05-15T10:18:51.058631Z",
     "start_time": "2018-05-15T10:18:36.114419Z"
    }
   },
   "outputs": [],
   "source": [
    "feature_skew_t_pdf_fit_parameter = ccal.fit_skew_t_pdfs(feature_x_sample)\n",
    "\n",
    "feature_skew_t_pdf_fit_parameter"
   ]
  },
  {
   "cell_type": "code",
   "execution_count": null,
   "metadata": {
    "ExecuteTime": {
     "end_time": "2018-05-15T10:19:03.432815Z",
     "start_time": "2018-05-15T10:18:51.064534Z"
    }
   },
   "outputs": [],
   "source": [
    "feature_context_matrix = ccal.make_context_matrix(\n",
    "    feature_x_sample, skew_t_pdf_fit_parameter=feature_skew_t_pdf_fit_parameter\n",
    ")\n",
    "\n",
    "feature_context_matrix"
   ]
  }
 ],
 "metadata": {
  "kernelspec": {
   "display_name": "Python 3",
   "language": "python",
   "name": "python3"
  },
  "language_info": {
   "codemirror_mode": {
    "name": "ipython",
    "version": 3
   },
   "file_extension": ".py",
   "mimetype": "text/x-python",
   "name": "python",
   "nbconvert_exporter": "python",
   "pygments_lexer": "ipython3",
   "version": "3.6.7"
  }
 },
 "nbformat": 4,
 "nbformat_minor": 2
}
