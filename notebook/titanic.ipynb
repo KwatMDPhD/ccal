{
 "cells": [
  {
   "cell_type": "code",
   "execution_count": null,
   "metadata": {},
   "outputs": [],
   "source": [
    "%load_ext autoreload\n",
    "%autoreload 2"
   ]
  },
  {
   "cell_type": "code",
   "execution_count": null,
   "metadata": {},
   "outputs": [],
   "source": [
    "import kraft\n",
    "import numpy as np\n",
    "import pandas as pd\n",
    "import sklearn as skl"
   ]
  },
  {
   "cell_type": "code",
   "execution_count": null,
   "metadata": {
    "ExecuteTime": {
     "end_time": "2018-05-15T09:36:28.226979Z",
     "start_time": "2018-05-15T09:36:27.718823Z"
    }
   },
   "outputs": [],
   "source": [
    "df = pd.read_csv(\n",
    "    \"data/titanic.tsv\", sep=\"\\t\", usecols=[\"sex\", \"age\", \"fare\", \"survived\"]\n",
    ").dropna()\n",
    "\n",
    "df"
   ]
  },
  {
   "cell_type": "code",
   "execution_count": null,
   "metadata": {
    "ExecuteTime": {
     "end_time": "2018-05-15T09:36:32.320959Z",
     "start_time": "2018-05-15T09:36:28.241752Z"
    }
   },
   "outputs": [],
   "source": [
    "s0 = (df[\"sex\"] == \"male\").astype(int)\n",
    "\n",
    "s0.name = \"Sex\""
   ]
  },
  {
   "cell_type": "code",
   "execution_count": null,
   "metadata": {
    "ExecuteTime": {
     "end_time": "2018-05-15T09:36:32.320959Z",
     "start_time": "2018-05-15T09:36:28.241752Z"
    }
   },
   "outputs": [],
   "source": [
    "s1 = df[\"age\"]\n",
    "\n",
    "s1.name = \"Age\""
   ]
  },
  {
   "cell_type": "code",
   "execution_count": null,
   "metadata": {
    "ExecuteTime": {
     "end_time": "2018-05-15T09:36:32.320959Z",
     "start_time": "2018-05-15T09:36:28.241752Z"
    }
   },
   "outputs": [],
   "source": [
    "s2 = pd.Series(kraft.array.log(df[\"fare\"].to_numpy() + 1), index=df.index)\n",
    "\n",
    "s2.name = \"Fare\""
   ]
  },
  {
   "cell_type": "code",
   "execution_count": null,
   "metadata": {
    "ExecuteTime": {
     "end_time": "2018-05-15T09:36:32.320959Z",
     "start_time": "2018-05-15T09:36:28.241752Z"
    }
   },
   "outputs": [],
   "source": [
    "st = df[\"survived\"]\n",
    "\n",
    "st.name = \"Survival\""
   ]
  },
  {
   "cell_type": "code",
   "execution_count": null,
   "metadata": {},
   "outputs": [],
   "source": [
    "def package(s_):\n",
    "\n",
    "    n_ = [s.name for s in s_]\n",
    "\n",
    "    gn0, v0 = kraft.probability.get_posterior_probability(\n",
    "        np.asarray(s_).T,\n",
    "        target=0,\n",
    "        plot=False,\n",
    "        dimension_name_=n_,\n",
    "        g1_=[kraft.grid.make_g1(s.min(), s.max(), 1 / 8, 8) for s in s_],\n",
    "    )\n",
    "\n",
    "    gn, v = kraft.probability.get_posterior_probability(\n",
    "        np.asarray(s_).T,\n",
    "        target=1,\n",
    "        plot=True,\n",
    "        dimension_name_=n_,\n",
    "        g1_=[kraft.grid.make_g1(s.min(), s.max(), 1 / 8, 8) for s in s_],\n",
    "    )\n",
    "\n",
    "    return s_, gn0, v0, gn, v"
   ]
  },
  {
   "cell_type": "code",
   "execution_count": null,
   "metadata": {},
   "outputs": [],
   "source": [
    "math = {}\n",
    "\n",
    "for s_ in [\n",
    "    [s0],\n",
    "    [s1],\n",
    "    [s2],\n",
    "    [\n",
    "        s0,\n",
    "        s1,\n",
    "    ],\n",
    "    [\n",
    "        s0,\n",
    "        s2,\n",
    "    ],\n",
    "    [\n",
    "        s1,\n",
    "        s2,\n",
    "    ],\n",
    "]:\n",
    "\n",
    "    math[\", \".join(s.name for s in s_)] = package(s_ + [st])"
   ]
  },
  {
   "cell_type": "code",
   "execution_count": null,
   "metadata": {
    "ExecuteTime": {
     "end_time": "2018-05-15T09:37:20.370751Z",
     "start_time": "2018-05-15T09:37:04.477354Z"
    }
   },
   "outputs": [],
   "source": [
    "roc = {}\n",
    "\n",
    "for n, (s_, _, _, gn, v) in math.items():\n",
    "\n",
    "    g1_ = kraft.grid.get_g1_(gn)\n",
    "\n",
    "    v = v.reshape([g1.size for g1 in g1_])\n",
    "\n",
    "    vt = np.full(st.size, np.nan)\n",
    "\n",
    "    for i in range(vt.size):\n",
    "\n",
    "        vt[i] = v[\n",
    "            tuple(\n",
    "                np.argmin(np.absolute(g1 - s.to_numpy()[i])) for g1, s in zip(g1_, s_)\n",
    "            )\n",
    "        ]\n",
    "\n",
    "    fpr, tpr, t = skl.metrics.roc_curve(st.to_numpy(), kraft.array.normalize(vt, \"0-1\"))\n",
    "\n",
    "    roc[n] = {\n",
    "        \"fpr\": fpr,\n",
    "        \"tpr\": tpr,\n",
    "        \"auc\": skl.metrics.auc(fpr, tpr),\n",
    "    }"
   ]
  },
  {
   "cell_type": "code",
   "execution_count": null,
   "metadata": {
    "ExecuteTime": {
     "end_time": "2018-05-15T09:37:20.370751Z",
     "start_time": "2018-05-15T09:37:04.477354Z"
    }
   },
   "outputs": [],
   "source": [
    "kraft.plot.plot_plotly(\n",
    "    {\n",
    "        \"layout\": {\n",
    "            \"height\": 640,\n",
    "            \"width\": 800,\n",
    "            \"title\": {\"text\": \"Receiver Operating Characteristic\"},\n",
    "            \"xaxis\": {\"title\": \"False Positive Rate\"},\n",
    "            \"yaxis\": {\"title\": \"True Positive Rate\"},\n",
    "        },\n",
    "        \"data\": [\n",
    "            {\n",
    "                \"name\": \"Random = 0.50\",\n",
    "                \"x\": (0, 1),\n",
    "                \"y\": (0, 1),\n",
    "                \"mode\": \"lines\",\n",
    "                \"marker\": {\"color\": \"#d8d8d8\"},\n",
    "            },\n",
    "            *(\n",
    "                {\n",
    "                    \"name\": \"{} = {:.2f}\".format(name, roc[name][\"auc\"]),\n",
    "                    \"x\": roc[name][\"fpr\"],\n",
    "                    \"y\": roc[name][\"tpr\"],\n",
    "                    \"mode\": \"lines\",\n",
    "                }\n",
    "                for name in roc\n",
    "            ),\n",
    "        ],\n",
    "    }\n",
    ")"
   ]
  },
  {
   "cell_type": "code",
   "execution_count": null,
   "metadata": {
    "ExecuteTime": {
     "end_time": "2018-05-15T09:37:20.971630Z",
     "start_time": "2018-05-15T09:37:20.665810Z"
    }
   },
   "outputs": [],
   "source": [
    "kraft.probability.plot_nomogram(\n",
    "    (st == 0).sum() / st.size,\n",
    "    (st == 1).sum() / st.size,\n",
    "    math.keys(),\n",
    "    [t[2] for t in math.values()],\n",
    "    [t[4] for t in math.values()],\n",
    ")"
   ]
  }
 ],
 "metadata": {
  "kernelspec": {
   "display_name": "Python 3",
   "language": "python",
   "name": "python3"
  },
  "language_info": {
   "codemirror_mode": {
    "name": "ipython",
    "version": 3
   },
   "file_extension": ".py",
   "mimetype": "text/x-python",
   "name": "python",
   "nbconvert_exporter": "python",
   "pygments_lexer": "ipython3",
   "version": "3.8.9"
  }
 },
 "nbformat": 4,
 "nbformat_minor": 4
}
