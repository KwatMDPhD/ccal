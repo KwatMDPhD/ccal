{
 "cells": [
  {
   "cell_type": "code",
   "execution_count": null,
   "metadata": {
    "execution": {
     "iopub.execute_input": "2021-05-31T22:30:25.315462Z",
     "iopub.status.busy": "2021-05-31T22:30:25.314486Z",
     "iopub.status.idle": "2021-05-31T22:30:25.329599Z",
     "shell.execute_reply": "2021-05-31T22:30:25.330008Z"
    },
    "tags": []
   },
   "outputs": [],
   "source": [
    "%load_ext autoreload\n",
    "%autoreload 2"
   ]
  },
  {
   "cell_type": "code",
   "execution_count": null,
   "metadata": {
    "execution": {
     "iopub.execute_input": "2021-05-31T22:30:25.333641Z",
     "iopub.status.busy": "2021-05-31T22:30:25.333036Z",
     "iopub.status.idle": "2021-05-31T22:30:25.546468Z",
     "shell.execute_reply": "2021-05-31T22:30:25.546851Z"
    },
    "tags": []
   },
   "outputs": [],
   "source": [
    "import pandas as pd"
   ]
  },
  {
   "cell_type": "code",
   "execution_count": null,
   "metadata": {
    "ExecuteTime": {
     "end_time": "2018-05-15T09:36:28.226979Z",
     "start_time": "2018-05-15T09:36:27.718823Z"
    },
    "execution": {
     "iopub.execute_input": "2021-05-31T22:30:25.550454Z",
     "iopub.status.busy": "2021-05-31T22:30:25.549903Z",
     "iopub.status.idle": "2021-05-31T22:30:25.578961Z",
     "shell.execute_reply": "2021-05-31T22:30:25.579312Z"
    },
    "tags": []
   },
   "outputs": [],
   "source": [
    "an_pa_in = pd.read_csv(\n",
    "    \"data/titanic.tsv\", \"\\t\", usecols=[\"sex\", \"age\", \"fare\", \"survived\"]\n",
    ").dropna()\n",
    "\n",
    "an_pa_in.index = [\"Passenger {}\".format(la + 1) for la in an_pa_in.index]\n",
    "\n",
    "an_pa_in"
   ]
  },
  {
   "cell_type": "code",
   "execution_count": null,
   "metadata": {
    "ExecuteTime": {
     "end_time": "2018-05-15T09:36:32.320959Z",
     "start_time": "2018-05-15T09:36:28.241752Z"
    },
    "execution": {
     "iopub.execute_input": "2021-05-31T22:30:25.582215Z",
     "iopub.status.busy": "2021-05-31T22:30:25.581682Z",
     "iopub.status.idle": "2021-05-31T22:30:25.595121Z",
     "shell.execute_reply": "2021-05-31T22:30:25.595540Z"
    }
   },
   "outputs": [],
   "source": [
    "ge_ = (an_pa_in[\"sex\"] == \"male\").astype(int)\n",
    "\n",
    "ge_.name = \"Gender\"\n",
    "\n",
    "ge_.sort_values()"
   ]
  },
  {
   "cell_type": "code",
   "execution_count": null,
   "metadata": {
    "ExecuteTime": {
     "end_time": "2018-05-15T09:36:32.320959Z",
     "start_time": "2018-05-15T09:36:28.241752Z"
    },
    "execution": {
     "iopub.execute_input": "2021-05-31T22:30:25.598345Z",
     "iopub.status.busy": "2021-05-31T22:30:25.597842Z",
     "iopub.status.idle": "2021-05-31T22:30:25.610466Z",
     "shell.execute_reply": "2021-05-31T22:30:25.610886Z"
    }
   },
   "outputs": [],
   "source": [
    "ag_ = an_pa_in[\"age\"]\n",
    "\n",
    "ag_.name = \"Age\"\n",
    "\n",
    "ag_.sort_values()"
   ]
  },
  {
   "cell_type": "code",
   "execution_count": null,
   "metadata": {
    "execution": {
     "iopub.execute_input": "2021-05-31T22:30:25.613718Z",
     "iopub.status.busy": "2021-05-31T22:30:25.613212Z",
     "iopub.status.idle": "2021-05-31T22:30:25.934797Z",
     "shell.execute_reply": "2021-05-31T22:30:25.934398Z"
    }
   },
   "outputs": [],
   "source": [
    "import kraft"
   ]
  },
  {
   "cell_type": "code",
   "execution_count": null,
   "metadata": {
    "ExecuteTime": {
     "end_time": "2018-05-15T09:36:32.320959Z",
     "start_time": "2018-05-15T09:36:28.241752Z"
    },
    "execution": {
     "iopub.execute_input": "2021-05-31T22:30:25.938178Z",
     "iopub.status.busy": "2021-05-31T22:30:25.937630Z",
     "iopub.status.idle": "2021-05-31T22:30:25.956795Z",
     "shell.execute_reply": "2021-05-31T22:30:25.957294Z"
    }
   },
   "outputs": [],
   "source": [
    "fa_ = kraft.number___.log(an_pa_in[\"fare\"] + 1)\n",
    "\n",
    "fa_.name = \"Fare\"\n",
    "\n",
    "fa_.sort_values()"
   ]
  },
  {
   "cell_type": "code",
   "execution_count": null,
   "metadata": {
    "ExecuteTime": {
     "end_time": "2018-05-15T09:36:32.320959Z",
     "start_time": "2018-05-15T09:36:28.241752Z"
    },
    "execution": {
     "iopub.execute_input": "2021-05-31T22:30:25.960015Z",
     "iopub.status.busy": "2021-05-31T22:30:25.959512Z",
     "iopub.status.idle": "2021-05-31T22:30:25.977409Z",
     "shell.execute_reply": "2021-05-31T22:30:25.976979Z"
    }
   },
   "outputs": [],
   "source": [
    "su_ = an_pa_in[\"survived\"]\n",
    "\n",
    "su_.name = \"Survival\"\n",
    "\n",
    "su_.sort_values()"
   ]
  },
  {
   "cell_type": "code",
   "execution_count": null,
   "metadata": {
    "execution": {
     "iopub.execute_input": "2021-05-31T22:30:25.980133Z",
     "iopub.status.busy": "2021-05-31T22:30:25.979628Z",
     "iopub.status.idle": "2021-05-31T22:30:25.995137Z",
     "shell.execute_reply": "2021-05-31T22:30:25.995973Z"
    }
   },
   "outputs": [],
   "source": [
    "import numpy as np"
   ]
  },
  {
   "cell_type": "code",
   "execution_count": null,
   "metadata": {
    "execution": {
     "iopub.execute_input": "2021-05-31T22:30:26.001273Z",
     "iopub.status.busy": "2021-05-31T22:30:26.000653Z",
     "iopub.status.idle": "2021-05-31T22:30:26.019376Z",
     "shell.execute_reply": "2021-05-31T22:30:26.019747Z"
    }
   },
   "outputs": [],
   "source": [
    "def package(se_):\n",
    "\n",
    "    di_ = [se.name for se in se_]\n",
    "\n",
    "    return (\n",
    "        se_,\n",
    "        kraft.probability.get_posterior_probability(\n",
    "            np.array(se_).T,\n",
    "            ta=0,\n",
    "            co__=[kraft.grid.make_1d_grid(se.min(), se.max(), 1 / 8, 8) for se in se_],\n",
    "            pl=False,\n",
    "            di_=di_,\n",
    "        ),\n",
    "        kraft.probability.get_posterior_probability(\n",
    "            np.array(se_).T,\n",
    "            ta=1,\n",
    "            co__=[kraft.grid.make_1d_grid(se.min(), se.max(), 1 / 8, 8) for se in se_],\n",
    "            pl=True,\n",
    "            di_=di_,\n",
    "        ),\n",
    "    )"
   ]
  },
  {
   "cell_type": "code",
   "execution_count": null,
   "metadata": {
    "execution": {
     "iopub.execute_input": "2021-05-31T22:30:26.023204Z",
     "iopub.status.busy": "2021-05-31T22:30:26.022667Z",
     "iopub.status.idle": "2021-05-31T22:30:26.571604Z",
     "shell.execute_reply": "2021-05-31T22:30:26.572036Z"
    }
   },
   "outputs": [],
   "source": [
    "ma_pa = {}\n",
    "\n",
    "for se_ in [[ge_], [ag_], [fa_], [ge_, ag_], [ge_, fa_], [ag_, fa_]]:\n",
    "\n",
    "    ma_pa[\", \".join(se.name for se in se_)] = package(se_ + [su_])"
   ]
  },
  {
   "cell_type": "code",
   "execution_count": null,
   "metadata": {
    "ExecuteTime": {
     "end_time": "2018-05-15T09:37:20.971630Z",
     "start_time": "2018-05-15T09:37:20.665810Z"
    },
    "execution": {
     "iopub.execute_input": "2021-05-31T22:30:26.575632Z",
     "iopub.status.busy": "2021-05-31T22:30:26.575033Z",
     "iopub.status.idle": "2021-05-31T22:30:26.704056Z",
     "shell.execute_reply": "2021-05-31T22:30:26.704399Z"
    }
   },
   "outputs": [],
   "source": [
    "kraft.probability.plot_nomogram(\n",
    "    (su_ == 0).sum() / su_.size,\n",
    "    (su_ == 1).sum() / su_.size,\n",
    "    list(ma_pa.keys()),\n",
    "    [t[1][1] for t in ma_pa.values()],\n",
    "    [t[2][1] for t in ma_pa.values()],\n",
    ")"
   ]
  },
  {
   "cell_type": "code",
   "execution_count": null,
   "metadata": {
    "execution": {
     "iopub.execute_input": "2021-05-31T22:30:26.707186Z",
     "iopub.status.busy": "2021-05-31T22:30:26.706684Z",
     "iopub.status.idle": "2021-05-31T22:30:26.864507Z",
     "shell.execute_reply": "2021-05-31T22:30:26.864986Z"
    }
   },
   "outputs": [],
   "source": [
    "from sklearn import metrics"
   ]
  },
  {
   "cell_type": "code",
   "execution_count": null,
   "metadata": {
    "ExecuteTime": {
     "end_time": "2018-05-15T09:37:20.370751Z",
     "start_time": "2018-05-15T09:37:04.477354Z"
    },
    "execution": {
     "iopub.execute_input": "2021-05-31T22:30:26.870306Z",
     "iopub.status.busy": "2021-05-31T22:30:26.869676Z",
     "iopub.status.idle": "2021-05-31T22:30:26.976178Z",
     "shell.execute_reply": "2021-05-31T22:30:26.976543Z"
    }
   },
   "outputs": [],
   "source": [
    "ma_ro = {}\n",
    "\n",
    "for ma, (se_, _, (co_po_dino, pono_)) in ma_pa.items():\n",
    "\n",
    "    co__ = kraft.grid.get_1d_grid(co_po_dino)\n",
    "\n",
    "    po_po_di = pono_.reshape([co_.size for co_ in co__])\n",
    "\n",
    "    xxx = np.full(su_.size, np.nan)\n",
    "\n",
    "    for ie in range(xxx.size):\n",
    "\n",
    "        xxx[ie] = po_po_di[\n",
    "            tuple(np.argmin(np.absolute(co_ - se[ie])) for co_, se in zip(co__, se_))\n",
    "        ]\n",
    "\n",
    "    fpr, tpr = metrics.roc_curve(su_, kraft.number___.normalize(xxx, \"0-1\"))[:2]\n",
    "\n",
    "    ma_ro[ma] = {\n",
    "        \"fpr\": fpr,\n",
    "        \"tpr\": tpr,\n",
    "        \"auc\": metrics.auc(fpr, tpr),\n",
    "    }"
   ]
  },
  {
   "cell_type": "code",
   "execution_count": null,
   "metadata": {
    "ExecuteTime": {
     "end_time": "2018-05-15T09:37:20.370751Z",
     "start_time": "2018-05-15T09:37:04.477354Z"
    },
    "execution": {
     "iopub.execute_input": "2021-05-31T22:30:26.980621Z",
     "iopub.status.busy": "2021-05-31T22:30:26.980112Z",
     "iopub.status.idle": "2021-05-31T22:30:27.020623Z",
     "shell.execute_reply": "2021-05-31T22:30:27.021001Z"
    },
    "tags": []
   },
   "outputs": [],
   "source": [
    "kraft.plot.plot_plotly(\n",
    "    {\n",
    "        \"data\": [\n",
    "            {\n",
    "                \"name\": \"Random = 0.50\",\n",
    "                \"x\": [0, 1],\n",
    "                \"y\": [0, 1],\n",
    "                \"mode\": \"lines\",\n",
    "                \"marker\": {\n",
    "                    \"color\": \"#d8d8d8\",\n",
    "                },\n",
    "            },\n",
    "            *(\n",
    "                {\n",
    "                    \"name\": \"{} = {:.2f}\".format(ma, ro[\"auc\"]),\n",
    "                    \"x\": ro[\"fpr\"],\n",
    "                    \"y\": ro[\"tpr\"],\n",
    "                    \"mode\": \"lines\",\n",
    "                }\n",
    "                for ma, ro in ma_ro.items()\n",
    "            ),\n",
    "        ],\n",
    "        \"layout\": {\n",
    "            \"height\": 640,\n",
    "            \"width\": 800,\n",
    "            \"title\": {\n",
    "                \"text\": \"Receiver Operating Characteristic\",\n",
    "            },\n",
    "            \"xaxis\": {\n",
    "                \"title\": \"False Positive Rate\",\n",
    "            },\n",
    "            \"yaxis\": {\n",
    "                \"title\": \"True Positive Rate\",\n",
    "            },\n",
    "        },\n",
    "    }\n",
    ")"
   ]
  }
 ],
 "metadata": {
  "kernelspec": {
   "display_name": "Python 3",
   "language": "python",
   "name": "python3"
  },
  "language_info": {
   "codemirror_mode": {
    "name": "ipython",
    "version": 3
   },
   "file_extension": ".py",
   "mimetype": "text/x-python",
   "name": "python",
   "nbconvert_exporter": "python",
   "pygments_lexer": "ipython3",
   "version": "3.8.9"
  }
 },
 "nbformat": 4,
 "nbformat_minor": 4
}
