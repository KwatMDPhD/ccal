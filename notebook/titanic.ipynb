{
 "cells": [
  {
   "cell_type": "code",
   "execution_count": null,
   "metadata": {},
   "outputs": [],
   "source": [
    "%load_ext autoreload\n",
    "%autoreload 2"
   ]
  },
  {
   "cell_type": "code",
   "execution_count": null,
   "metadata": {},
   "outputs": [],
   "source": [
    "import kraft\n",
    "import numpy as np\n",
    "import pandas as pd\n",
    "import sklearn as skl"
   ]
  },
  {
   "cell_type": "code",
   "execution_count": null,
   "metadata": {
    "ExecuteTime": {
     "end_time": "2018-05-15T09:36:28.226979Z",
     "start_time": "2018-05-15T09:36:27.718823Z"
    }
   },
   "outputs": [],
   "source": [
    "dataframe = pd.read_csv(\n",
    "    \"data/titanic.tsv\", sep=\"\t\", usecols=(\"sex\", \"age\", \"fare\", \"survived\")\n",
    ").dropna()"
   ]
  },
  {
   "cell_type": "code",
   "execution_count": null,
   "metadata": {
    "ExecuteTime": {
     "end_time": "2018-05-15T09:36:32.320959Z",
     "start_time": "2018-05-15T09:36:28.241752Z"
    }
   },
   "outputs": [],
   "source": [
    "series_0 = dataframe[\"age\"]\n",
    "\n",
    "series_0.name = \"Age\""
   ]
  },
  {
   "cell_type": "code",
   "execution_count": null,
   "metadata": {
    "ExecuteTime": {
     "end_time": "2018-05-15T09:36:32.320959Z",
     "start_time": "2018-05-15T09:36:28.241752Z"
    }
   },
   "outputs": [],
   "source": [
    "series_target = dataframe[\"survived\"]\n",
    "\n",
    "series_target.name = \"Survival\""
   ]
  },
  {
   "cell_type": "code",
   "execution_count": null,
   "metadata": {},
   "outputs": [],
   "source": [
    "plot = True\n",
    "\n",
    "\n",
    "def package(serieses):\n",
    "\n",
    "    dimension_names = tuple(series.name for series in serieses)\n",
    "\n",
    "    grid_nd, grid_nd_posterior_probability = kraft.get_posterior_probability(\n",
    "        np.asarray(serieses).T,\n",
    "        plot=plot,\n",
    "        dimension_names=dimension_names,\n",
    "        grid_1ds=tuple(\n",
    "            kraft.make_grid_1d(series.min(), series.max(), 1 / 8, 8)\n",
    "            for series in serieses\n",
    "        ),\n",
    "    )\n",
    "\n",
    "    def target_posterior_probability_template(target_dimension_number):\n",
    "\n",
    "        return kraft.target_posterior_probability(\n",
    "            grid_nd,\n",
    "            grid_nd_posterior_probability,\n",
    "            target_dimension_number,\n",
    "            plot=plot,\n",
    "            dimension_names=dimension_names,\n",
    "        )\n",
    "\n",
    "    grid_nd_0, grid_nd_posterior_probability_0 = target_posterior_probability_template(\n",
    "        0\n",
    "    )\n",
    "\n",
    "    grid_nd_1, grid_nd_posterior_probability_1 = target_posterior_probability_template(\n",
    "        1\n",
    "    )\n",
    "\n",
    "    return (\n",
    "        serieses,\n",
    "        (grid_nd, grid_nd_posterior_probability),\n",
    "        (grid_nd_0, grid_nd_posterior_probability_0),\n",
    "        (grid_nd_1, grid_nd_posterior_probability_1),\n",
    "    )"
   ]
  },
  {
   "cell_type": "code",
   "execution_count": null,
   "metadata": {},
   "outputs": [],
   "source": [
    "math = {}\n",
    "\n",
    "for serieses in (\n",
    "    (series_0,),\n",
    "    (series_1,),\n",
    "    (series_2,),\n",
    "    (\n",
    "        series_0,\n",
    "        series_1,\n",
    "    ),\n",
    "    (\n",
    "        series_0,\n",
    "        series_2,\n",
    "    ),\n",
    "    (\n",
    "        series_1,\n",
    "        series_2,\n",
    "    ),\n",
    "):\n",
    "\n",
    "    math[\", \".join(series.name for series in serieses)] = package(\n",
    "        serieses + (series_target,)\n",
    "    )"
   ]
  },
  {
   "cell_type": "code",
   "execution_count": null,
   "metadata": {
    "ExecuteTime": {
     "end_time": "2018-05-15T09:37:20.370751Z",
     "start_time": "2018-05-15T09:37:04.477354Z"
    }
   },
   "outputs": [],
   "source": [
    "roc = {}\n",
    "\n",
    "for name, (serieses, p_s__, p_s0__, p_s1__) in math.items():\n",
    "\n",
    "    grid_1ds = kraft.get_grid_1ds(p_s1__[0])\n",
    "\n",
    "    grid_nd_posterior_probabilities = kraft.shape(p_s1__[1], grid_1ds)\n",
    "\n",
    "    vector_target = np.full(series_target.size, np.nan)\n",
    "\n",
    "    for i in range(vector_target.size):\n",
    "\n",
    "        vector_target[i] = grid_nd_posterior_probabilities[\n",
    "            tuple(\n",
    "                np.argmin(np.absolute(grid_1d - series.values[i]))\n",
    "                for grid_1d, series in zip(grid_1ds, serieses)\n",
    "            )\n",
    "        ]\n",
    "\n",
    "    fpr, tpr, t = skl.metrics.roc_curve(\n",
    "        series_target.values, kraft.normalize(vector_target, \"0-1\")\n",
    "    )\n",
    "\n",
    "    roc[name] = {\n",
    "        \"fpr\": fpr,\n",
    "        \"tpr\": tpr,\n",
    "        \"auc\": skl.metrics.auc(fpr, tpr),\n",
    "    }"
   ]
  },
  {
   "cell_type": "code",
   "execution_count": null,
   "metadata": {
    "ExecuteTime": {
     "end_time": "2018-05-15T09:37:20.370751Z",
     "start_time": "2018-05-15T09:37:04.477354Z"
    }
   },
   "outputs": [],
   "source": [
    "kraft.plot_plotly(\n",
    "    {\n",
    "        \"layout\": {\n",
    "            \"height\": 640,\n",
    "            \"width\": 800,\n",
    "            \"title\": {\"text\": \"Receiver Operating Characteristic\"},\n",
    "            \"xaxis\": {\"title\": \"False Positive Rate\"},\n",
    "            \"yaxis\": {\"title\": \"True Positive Rate\"},\n",
    "        },\n",
    "        \"data\": [\n",
    "            {\n",
    "                \"name\": \"Random = 0.50\",\n",
    "                \"x\": (0, 1),\n",
    "                \"y\": (0, 1),\n",
    "                \"mode\": \"lines\",\n",
    "                \"marker\": {\"color\": \"#d8d8d8\"},\n",
    "            },\n",
    "            *(\n",
    "                {\n",
    "                    \"name\": \"{} = {:.2f}\".format(name, roc[name][\"auc\"]),\n",
    "                    \"x\": roc[name][\"fpr\"],\n",
    "                    \"y\": roc[name][\"tpr\"],\n",
    "                    \"mode\": \"lines\",\n",
    "                }\n",
    "                for name in roc\n",
    "            ),\n",
    "        ],\n",
    "    }\n",
    ")"
   ]
  },
  {
   "cell_type": "code",
   "execution_count": null,
   "metadata": {
    "ExecuteTime": {
     "end_time": "2018-05-15T09:37:20.971630Z",
     "start_time": "2018-05-15T09:37:20.665810Z"
    }
   },
   "outputs": [],
   "source": [
    "kraft.plot_nomogram(\n",
    "    (series_target == 0).sum() / series_target.size,\n",
    "    (series_target == 1).sum() / series_target.size,\n",
    "    tuple(math.keys()),\n",
    "    tuple(tuple_[2][1] for tuple_ in math.values()),\n",
    "    tuple(tuple_[3][1] for tuple_ in math.values()),\n",
    ")"
   ]
  }
 ],
 "metadata": {
  "kernelspec": {
   "display_name": "Python 3",
   "language": "python",
   "name": "python3"
  },
  "language_info": {
   "codemirror_mode": {
    "name": "ipython",
    "version": 3
   },
   "file_extension": ".py",
   "mimetype": "text/x-python",
   "name": "python",
   "nbconvert_exporter": "python",
   "pygments_lexer": "ipython3",
   "version": "3.7.6"
  }
 },
 "nbformat": 4,
 "nbformat_minor": 4
}
