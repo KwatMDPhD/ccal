{
 "cells": [
  {
   "cell_type": "code",
   "execution_count": null,
   "metadata": {},
   "outputs": [],
   "source": [
    "%load_ext autoreload\n",
    "%autoreload 2"
   ]
  },
  {
   "cell_type": "code",
   "execution_count": null,
   "metadata": {},
   "outputs": [],
   "source": [
    "import numpy as np\n",
    "import pandas as pd\n",
    "import sklearn as skl\n",
    "\n",
    "import kraft"
   ]
  },
  {
   "cell_type": "code",
   "execution_count": null,
   "metadata": {
    "ExecuteTime": {
     "end_time": "2018-05-15T09:36:28.226979Z",
     "start_time": "2018-05-15T09:36:27.718823Z"
    }
   },
   "outputs": [],
   "source": [
    "dataframe = pd.read_csv(\n",
    "    \"data/titanic.tsv\", sep=\"\\t\", usecols=(\"sex\", \"age\", \"fare\", \"survived\")\n",
    ").dropna()\n",
    "\n",
    "dataframe"
   ]
  },
  {
   "cell_type": "code",
   "execution_count": null,
   "metadata": {
    "ExecuteTime": {
     "end_time": "2018-05-15T09:36:32.320959Z",
     "start_time": "2018-05-15T09:36:28.241752Z"
    }
   },
   "outputs": [],
   "source": [
    "g = (dataframe[\"sex\"] == \"male\").astype(int)\n",
    "\n",
    "g.name = \"Gender\""
   ]
  },
  {
   "cell_type": "code",
   "execution_count": null,
   "metadata": {
    "ExecuteTime": {
     "end_time": "2018-05-15T09:36:32.320959Z",
     "start_time": "2018-05-15T09:36:28.241752Z"
    }
   },
   "outputs": [],
   "source": [
    "a = dataframe[\"age\"]\n",
    "\n",
    "a.name = \"Age\""
   ]
  },
  {
   "cell_type": "code",
   "execution_count": null,
   "metadata": {
    "ExecuteTime": {
     "end_time": "2018-05-15T09:36:32.320959Z",
     "start_time": "2018-05-15T09:36:28.241752Z"
    }
   },
   "outputs": [],
   "source": [
    "f = pd.Series(kraft.log(dataframe[\"fare\"].values + 1), index=dataframe.index)\n",
    "\n",
    "f.name = \"Fare\""
   ]
  },
  {
   "cell_type": "code",
   "execution_count": null,
   "metadata": {
    "ExecuteTime": {
     "end_time": "2018-05-15T09:36:32.320959Z",
     "start_time": "2018-05-15T09:36:28.241752Z"
    }
   },
   "outputs": [],
   "source": [
    "s = dataframe[\"survived\"]\n",
    "\n",
    "s.name = \"Survival\"\n",
    "\n",
    "target_1 = 1\n",
    "\n",
    "target_0 = 0"
   ]
  },
  {
   "cell_type": "code",
   "execution_count": null,
   "metadata": {},
   "outputs": [],
   "source": [
    "plot = True\n",
    "\n",
    "\n",
    "def package(serieses):\n",
    "\n",
    "    dimension_names = tuple(series.name for series in serieses)\n",
    "\n",
    "    p_t__ = kraft.get_posterior_probability(\n",
    "        np.asarray(serieses).T,\n",
    "        plot=plot,\n",
    "        dimension_names=dimension_names,\n",
    "        grid_1ds=tuple(\n",
    "            kraft.make_grid_1d(series.min(), series.max(), 1 / 8, 8)\n",
    "            for series in serieses\n",
    "        ),\n",
    "    )\n",
    "\n",
    "    def function_tempalte(target_dimensio_number):\n",
    "\n",
    "        return kraft.target_posterior_probability(\n",
    "            *p_t__, target_dimensio_number, plot=plot, dimension_names=dimension_names\n",
    "        )\n",
    "\n",
    "    p_t1__ = function_tempalte(target_1)\n",
    "\n",
    "    p_t0__ = function_tempalte(target_0)\n",
    "\n",
    "    return serieses, p_t__, p_t1__, p_t0__"
   ]
  },
  {
   "cell_type": "code",
   "execution_count": null,
   "metadata": {},
   "outputs": [],
   "source": [
    "math = {}\n",
    "\n",
    "for serieses in (\n",
    "    (g, s),\n",
    "    (a, s),\n",
    "    (f, s),\n",
    "    (g, a, s),\n",
    "    (g, f, s),\n",
    "    (a, f, s),\n",
    "):\n",
    "\n",
    "    math[\", \".join(series.name for series in serieses[:-1])] = package(serieses)"
   ]
  },
  {
   "cell_type": "code",
   "execution_count": null,
   "metadata": {
    "ExecuteTime": {
     "end_time": "2018-05-15T09:37:20.370751Z",
     "start_time": "2018-05-15T09:37:04.477354Z"
    }
   },
   "outputs": [],
   "source": [
    "roc = {}\n",
    "\n",
    "for name, (vs, p_s__, p_s1__, p_s0__) in math.items():\n",
    "\n",
    "    grid_1ds = kraft.get_grid_1ds(p_s1__[0])\n",
    "\n",
    "    values = kraft.shape(p_s1__[1], grid_1ds)\n",
    "\n",
    "    s_ = np.full(s.size, np.nan)\n",
    "\n",
    "    for i in range(s_.size):\n",
    "\n",
    "        s_[i] = values[\n",
    "            tuple(\n",
    "                np.argmin(np.absolute(grid_1d - v.values[i]))\n",
    "                for grid_1d, v in zip(grid_1ds, vs)\n",
    "            )\n",
    "        ]\n",
    "\n",
    "    fpr, tpr, t = skl.metrics.roc_curve(s, kraft.normalize(s_, \"0-1\"))\n",
    "\n",
    "    roc[name] = {\n",
    "        \"fpr\": fpr,\n",
    "        \"tpr\": tpr,\n",
    "        \"auc\": skl.metrics.auc(fpr, tpr),\n",
    "    }"
   ]
  },
  {
   "cell_type": "code",
   "execution_count": null,
   "metadata": {
    "ExecuteTime": {
     "end_time": "2018-05-15T09:37:20.370751Z",
     "start_time": "2018-05-15T09:37:04.477354Z"
    }
   },
   "outputs": [],
   "source": [
    "kraft.plot_plotly(\n",
    "    {\n",
    "        \"layout\": {\n",
    "            \"height\": 640,\n",
    "            \"width\": 800,\n",
    "            \"title\": {\"text\": \"Receiver Operating Characteristic\"},\n",
    "            \"xaxis\": {\"title\": \"False Positive Rate\"},\n",
    "            \"yaxis\": {\"title\": \"True Positive Rate\"},\n",
    "        },\n",
    "        \"data\": [\n",
    "            {\n",
    "                \"name\": \"Random = 0.50\",\n",
    "                \"x\": (0, 1),\n",
    "                \"y\": (0, 1),\n",
    "                \"mode\": \"lines\",\n",
    "                \"marker\": {\"color\": \"#d8d8d8\"},\n",
    "            },\n",
    "            *(\n",
    "                {\n",
    "                    \"name\": \"{} = {:.2f}\".format(name, roc[name][\"auc\"]),\n",
    "                    \"x\": roc[name][\"fpr\"],\n",
    "                    \"y\": roc[name][\"tpr\"],\n",
    "                    \"mode\": \"lines\",\n",
    "                }\n",
    "                for name in roc\n",
    "            ),\n",
    "        ],\n",
    "    }\n",
    ")"
   ]
  },
  {
   "cell_type": "code",
   "execution_count": null,
   "metadata": {
    "ExecuteTime": {
     "end_time": "2018-05-15T09:37:20.971630Z",
     "start_time": "2018-05-15T09:37:20.665810Z"
    }
   },
   "outputs": [],
   "source": [
    "kraft.plot_nomogram(\n",
    "    (s == target_1).sum() / s.size,\n",
    "    (s == target_0).sum() / s.size,\n",
    "    tuple(math.keys()),\n",
    "    tuple((v[2][1], v[3][1]) for v in math.values()),\n",
    ")"
   ]
  }
 ],
 "metadata": {
  "kernelspec": {
   "display_name": "Python 3",
   "language": "python",
   "name": "python3"
  },
  "language_info": {
   "codemirror_mode": {
    "name": "ipython",
    "version": 3
   },
   "file_extension": ".py",
   "mimetype": "text/x-python",
   "name": "python",
   "nbconvert_exporter": "python",
   "pygments_lexer": "ipython3",
   "version": "3.7.6"
  }
 },
 "nbformat": 4,
 "nbformat_minor": 4
}
