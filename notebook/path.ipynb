{
 "cells": [
  {
   "cell_type": "code",
   "execution_count": null,
   "metadata": {
    "execution": {
     "iopub.execute_input": "2021-05-31T22:29:59.338846Z",
     "iopub.status.busy": "2021-05-31T22:29:59.338168Z",
     "iopub.status.idle": "2021-05-31T22:29:59.350397Z",
     "shell.execute_reply": "2021-05-31T22:29:59.350760Z"
    },
    "tags": []
   },
   "outputs": [],
   "source": [
    "%load_ext autoreload\n",
    "%autoreload 2"
   ]
  },
  {
   "cell_type": "code",
   "execution_count": null,
   "metadata": {
    "execution": {
     "iopub.execute_input": "2021-05-31T22:29:59.354014Z",
     "iopub.status.busy": "2021-05-31T22:29:59.353402Z",
     "iopub.status.idle": "2021-05-31T22:29:59.931788Z",
     "shell.execute_reply": "2021-05-31T22:29:59.932739Z"
    },
    "tags": []
   },
   "outputs": [],
   "source": [
    "import kraft"
   ]
  },
  {
   "cell_type": "markdown",
   "metadata": {},
   "source": [
    "## clean"
   ]
  },
  {
   "cell_type": "code",
   "execution_count": null,
   "metadata": {
    "execution": {
     "iopub.execute_input": "2021-05-31T22:29:59.936408Z",
     "iopub.status.busy": "2021-05-31T22:29:59.935741Z",
     "iopub.status.idle": "2021-05-31T22:29:59.952815Z",
     "shell.execute_reply": "2021-05-31T22:29:59.953240Z"
    },
    "tags": []
   },
   "outputs": [],
   "source": [
    "for na in [\"a\", \"A\", \"a bc\", \"a Bc\", \"a/b\", \"a$b\", \"a'b\"]:\n",
    "\n",
    "    kraft.path.clean(na)"
   ]
  },
  {
   "cell_type": "markdown",
   "metadata": {},
   "source": [
    "## get_absolute"
   ]
  },
  {
   "cell_type": "code",
   "execution_count": null,
   "metadata": {
    "execution": {
     "iopub.execute_input": "2021-05-31T22:29:59.956038Z",
     "iopub.status.busy": "2021-05-31T22:29:59.955533Z",
     "iopub.status.idle": "2021-05-31T22:29:59.978223Z",
     "shell.execute_reply": "2021-05-31T22:29:59.978637Z"
    },
    "tags": []
   },
   "outputs": [],
   "source": [
    "pa = \"~/Downloads/\"\n",
    "\n",
    "pa = kraft.path.get_absolute(pa)\n",
    "\n",
    "pa"
   ]
  },
  {
   "cell_type": "markdown",
   "metadata": {},
   "source": [
    "## list"
   ]
  },
  {
   "cell_type": "code",
   "execution_count": null,
   "metadata": {
    "execution": {
     "iopub.execute_input": "2021-05-31T22:29:59.981750Z",
     "iopub.status.busy": "2021-05-31T22:29:59.981216Z",
     "iopub.status.idle": "2021-05-31T22:30:00.000818Z",
     "shell.execute_reply": "2021-05-31T22:30:00.000434Z"
    },
    "tags": []
   },
   "outputs": [],
   "source": [
    "kraft.path.list(pa)"
   ]
  },
  {
   "cell_type": "markdown",
   "metadata": {},
   "source": [
    "## make"
   ]
  },
  {
   "cell_type": "code",
   "execution_count": null,
   "metadata": {
    "execution": {
     "iopub.execute_input": "2021-05-31T22:30:00.004314Z",
     "iopub.status.busy": "2021-05-31T22:30:00.003740Z",
     "iopub.status.idle": "2021-05-31T22:30:00.023018Z",
     "shell.execute_reply": "2021-05-31T22:30:00.023642Z"
    },
    "tags": []
   },
   "outputs": [],
   "source": [
    "kraft.path.make(\"{}/path/a/c/d\".format(pa))"
   ]
  },
  {
   "cell_type": "markdown",
   "metadata": {},
   "source": [
    "## get_child"
   ]
  },
  {
   "cell_type": "code",
   "execution_count": null,
   "metadata": {
    "execution": {
     "iopub.execute_input": "2021-05-31T22:30:00.026727Z",
     "iopub.status.busy": "2021-05-31T22:30:00.026202Z",
     "iopub.status.idle": "2021-05-31T22:30:00.046719Z",
     "shell.execute_reply": "2021-05-31T22:30:00.047121Z"
    },
    "tags": []
   },
   "outputs": [],
   "source": [
    "kraft.path.get_child(\"{}/path\".format(pa))"
   ]
  }
 ],
 "metadata": {
  "kernelspec": {
   "display_name": "Python 3",
   "language": "python",
   "name": "python3"
  },
  "language_info": {
   "codemirror_mode": {
    "name": "ipython",
    "version": 3
   },
   "file_extension": ".py",
   "mimetype": "text/x-python",
   "name": "python",
   "nbconvert_exporter": "python",
   "pygments_lexer": "ipython3",
   "version": "3.8.9"
  }
 },
 "nbformat": 4,
 "nbformat_minor": 4
}
