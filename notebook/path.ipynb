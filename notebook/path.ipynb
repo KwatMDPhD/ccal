{
 "cells": [
  {
   "cell_type": "code",
   "execution_count": null,
   "metadata": {
    "execution": {
     "iopub.execute_input": "2021-05-30T07:00:42.921497Z",
     "iopub.status.busy": "2021-05-30T07:00:42.920640Z",
     "iopub.status.idle": "2021-05-30T07:00:42.936008Z",
     "shell.execute_reply": "2021-05-30T07:00:42.936517Z"
    }
   },
   "outputs": [],
   "source": [
    "%load_ext autoreload\n",
    "%autoreload 2"
   ]
  },
  {
   "cell_type": "code",
   "execution_count": null,
   "metadata": {
    "execution": {
     "iopub.execute_input": "2021-05-30T07:00:42.940043Z",
     "iopub.status.busy": "2021-05-30T07:00:42.939450Z",
     "iopub.status.idle": "2021-05-30T07:00:43.477502Z",
     "shell.execute_reply": "2021-05-30T07:00:43.477919Z"
    }
   },
   "outputs": [],
   "source": [
    "import kraft"
   ]
  },
  {
   "cell_type": "markdown",
   "metadata": {},
   "source": [
    "## clean"
   ]
  },
  {
   "cell_type": "code",
   "execution_count": null,
   "metadata": {
    "execution": {
     "iopub.execute_input": "2021-05-30T07:00:43.481957Z",
     "iopub.status.busy": "2021-05-30T07:00:43.481386Z",
     "iopub.status.idle": "2021-05-30T07:00:43.500325Z",
     "shell.execute_reply": "2021-05-30T07:00:43.500679Z"
    }
   },
   "outputs": [],
   "source": [
    "for na in [\n",
    "    \"a\",\n",
    "    \"A\",\n",
    "    \"a bc\",\n",
    "    \"a Bc\",\n",
    "    \"a/b\",\n",
    "    \"a$b\",\n",
    "    \"a'b\",\n",
    "]:\n",
    "\n",
    "    kraft.path.clean(na)"
   ]
  },
  {
   "cell_type": "markdown",
   "metadata": {},
   "source": [
    "## get_absolute"
   ]
  },
  {
   "cell_type": "code",
   "execution_count": null,
   "metadata": {
    "execution": {
     "iopub.execute_input": "2021-05-30T07:00:43.503794Z",
     "iopub.status.busy": "2021-05-30T07:00:43.503284Z",
     "iopub.status.idle": "2021-05-30T07:00:43.523854Z",
     "shell.execute_reply": "2021-05-30T07:00:43.524276Z"
    }
   },
   "outputs": [],
   "source": [
    "di = \"~/Downloads/\"\n",
    "\n",
    "di = kraft.path.get_absolute(di)\n",
    "\n",
    "di"
   ]
  },
  {
   "cell_type": "markdown",
   "metadata": {},
   "source": [
    "## list"
   ]
  },
  {
   "cell_type": "code",
   "execution_count": null,
   "metadata": {
    "execution": {
     "iopub.execute_input": "2021-05-30T07:00:43.527186Z",
     "iopub.status.busy": "2021-05-30T07:00:43.526695Z",
     "iopub.status.idle": "2021-05-30T07:00:43.546019Z",
     "shell.execute_reply": "2021-05-30T07:00:43.546462Z"
    }
   },
   "outputs": [],
   "source": [
    "kraft.path.list(di)"
   ]
  },
  {
   "cell_type": "markdown",
   "metadata": {},
   "source": [
    "## make"
   ]
  },
  {
   "cell_type": "code",
   "execution_count": null,
   "metadata": {
    "execution": {
     "iopub.execute_input": "2021-05-30T07:00:43.549644Z",
     "iopub.status.busy": "2021-05-30T07:00:43.549066Z",
     "iopub.status.idle": "2021-05-30T07:00:43.568190Z",
     "shell.execute_reply": "2021-05-30T07:00:43.568687Z"
    }
   },
   "outputs": [],
   "source": [
    "kraft.path.make(\"{}/path/a/c/d\".format(di))"
   ]
  },
  {
   "cell_type": "markdown",
   "metadata": {},
   "source": [
    "## get_child"
   ]
  },
  {
   "cell_type": "code",
   "execution_count": null,
   "metadata": {
    "execution": {
     "iopub.execute_input": "2021-05-30T07:00:43.571929Z",
     "iopub.status.busy": "2021-05-30T07:00:43.571360Z",
     "iopub.status.idle": "2021-05-30T07:00:43.591028Z",
     "shell.execute_reply": "2021-05-30T07:00:43.591444Z"
    }
   },
   "outputs": [],
   "source": [
    "kraft.path.get_child(\"{}/path\".format(di))"
   ]
  }
 ],
 "metadata": {
  "kernelspec": {
   "display_name": "Python 3",
   "language": "python",
   "name": "python3"
  },
  "language_info": {
   "codemirror_mode": {
    "name": "ipython",
    "version": 3
   },
   "file_extension": ".py",
   "mimetype": "text/x-python",
   "name": "python",
   "nbconvert_exporter": "python",
   "pygments_lexer": "ipython3",
   "version": "3.8.9"
  }
 },
 "nbformat": 4,
 "nbformat_minor": 4
}
