{
 "cells": [
  {
   "cell_type": "code",
   "execution_count": null,
   "metadata": {
    "execution": {
     "iopub.execute_input": "2021-05-29T23:05:54.571064Z",
     "iopub.status.busy": "2021-05-29T23:05:54.570262Z",
     "iopub.status.idle": "2021-05-29T23:05:54.585873Z",
     "shell.execute_reply": "2021-05-29T23:05:54.586393Z"
    }
   },
   "outputs": [],
   "source": [
    "%load_ext autoreload\n",
    "%autoreload 2"
   ]
  },
  {
   "cell_type": "code",
   "execution_count": null,
   "metadata": {
    "execution": {
     "iopub.execute_input": "2021-05-29T23:05:54.590003Z",
     "iopub.status.busy": "2021-05-29T23:05:54.589408Z",
     "iopub.status.idle": "2021-05-29T23:05:55.144628Z",
     "shell.execute_reply": "2021-05-29T23:05:55.145023Z"
    }
   },
   "outputs": [],
   "source": [
    "import kraft"
   ]
  },
  {
   "cell_type": "markdown",
   "metadata": {},
   "source": [
    "## clean"
   ]
  },
  {
   "cell_type": "code",
   "execution_count": null,
   "metadata": {
    "execution": {
     "iopub.execute_input": "2021-05-29T23:05:55.148529Z",
     "iopub.status.busy": "2021-05-29T23:05:55.147964Z",
     "iopub.status.idle": "2021-05-29T23:05:55.166523Z",
     "shell.execute_reply": "2021-05-29T23:05:55.166883Z"
    }
   },
   "outputs": [],
   "source": [
    "for na in [\n",
    "    \"a\",\n",
    "    \"A\",\n",
    "    \"a bc\",\n",
    "    \"a Bc\",\n",
    "    \"a/b\",\n",
    "    \"a$b\",\n",
    "    \"a'b\",\n",
    "]:\n",
    "\n",
    "    kraft.path.clean(na)"
   ]
  },
  {
   "cell_type": "markdown",
   "metadata": {},
   "source": [
    "## get_absolute"
   ]
  },
  {
   "cell_type": "code",
   "execution_count": null,
   "metadata": {
    "execution": {
     "iopub.execute_input": "2021-05-29T23:05:55.169900Z",
     "iopub.status.busy": "2021-05-29T23:05:55.169396Z",
     "iopub.status.idle": "2021-05-29T23:05:55.190577Z",
     "shell.execute_reply": "2021-05-29T23:05:55.190980Z"
    }
   },
   "outputs": [],
   "source": [
    "di = \"~/Downloads/\"\n",
    "\n",
    "di = kraft.path.get_absolute(di)\n",
    "\n",
    "di"
   ]
  },
  {
   "cell_type": "markdown",
   "metadata": {},
   "source": [
    "## list"
   ]
  },
  {
   "cell_type": "code",
   "execution_count": null,
   "metadata": {
    "execution": {
     "iopub.execute_input": "2021-05-29T23:05:55.193954Z",
     "iopub.status.busy": "2021-05-29T23:05:55.193442Z",
     "iopub.status.idle": "2021-05-29T23:05:55.210112Z",
     "shell.execute_reply": "2021-05-29T23:05:55.210499Z"
    }
   },
   "outputs": [],
   "source": [
    "kraft.path.list(di)"
   ]
  },
  {
   "cell_type": "markdown",
   "metadata": {},
   "source": [
    "## make"
   ]
  },
  {
   "cell_type": "code",
   "execution_count": null,
   "metadata": {
    "execution": {
     "iopub.execute_input": "2021-05-29T23:05:55.213531Z",
     "iopub.status.busy": "2021-05-29T23:05:55.213009Z",
     "iopub.status.idle": "2021-05-29T23:05:55.229507Z",
     "shell.execute_reply": "2021-05-29T23:05:55.229103Z"
    }
   },
   "outputs": [],
   "source": [
    "kraft.path.make(\"{}/path/a/c/d\".format(di))"
   ]
  },
  {
   "cell_type": "markdown",
   "metadata": {},
   "source": [
    "## get_child"
   ]
  },
  {
   "cell_type": "code",
   "execution_count": null,
   "metadata": {
    "execution": {
     "iopub.execute_input": "2021-05-29T23:05:55.232591Z",
     "iopub.status.busy": "2021-05-29T23:05:55.232069Z",
     "iopub.status.idle": "2021-05-29T23:05:55.249896Z",
     "shell.execute_reply": "2021-05-29T23:05:55.250250Z"
    }
   },
   "outputs": [],
   "source": [
    "kraft.path.get_child(\"{}/path\".format(di))"
   ]
  }
 ],
 "metadata": {
  "kernelspec": {
   "display_name": "Python 3",
   "language": "python",
   "name": "python3"
  },
  "language_info": {
   "codemirror_mode": {
    "name": "ipython",
    "version": 3
   },
   "file_extension": ".py",
   "mimetype": "text/x-python",
   "name": "python",
   "nbconvert_exporter": "python",
   "pygments_lexer": "ipython3",
   "version": "3.8.9"
  }
 },
 "nbformat": 4,
 "nbformat_minor": 4
}
