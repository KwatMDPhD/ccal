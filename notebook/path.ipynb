{
 "cells": [
  {
   "cell_type": "code",
   "execution_count": null,
   "metadata": {
    "execution": {
     "iopub.execute_input": "2021-05-29T18:49:25.401551Z",
     "iopub.status.busy": "2021-05-29T18:49:25.400620Z",
     "iopub.status.idle": "2021-05-29T18:49:25.414545Z",
     "shell.execute_reply": "2021-05-29T18:49:25.415042Z"
    }
   },
   "outputs": [],
   "source": [
    "%load_ext autoreload\n",
    "%autoreload 2"
   ]
  },
  {
   "cell_type": "code",
   "execution_count": null,
   "metadata": {
    "execution": {
     "iopub.execute_input": "2021-05-29T18:49:25.418680Z",
     "iopub.status.busy": "2021-05-29T18:49:25.418102Z",
     "iopub.status.idle": "2021-05-29T18:49:25.706404Z",
     "shell.execute_reply": "2021-05-29T18:49:25.706760Z"
    }
   },
   "outputs": [],
   "source": [
    "import kraft"
   ]
  },
  {
   "cell_type": "markdown",
   "metadata": {},
   "source": [
    "## clean"
   ]
  },
  {
   "cell_type": "code",
   "execution_count": null,
   "metadata": {
    "execution": {
     "iopub.execute_input": "2021-05-29T18:49:25.709865Z",
     "iopub.status.busy": "2021-05-29T18:49:25.709365Z",
     "iopub.status.idle": "2021-05-29T18:49:25.722259Z",
     "shell.execute_reply": "2021-05-29T18:49:25.722694Z"
    }
   },
   "outputs": [],
   "source": [
    "for na in [\n",
    "    \"a\",\n",
    "    \"A\",\n",
    "    \"a bc\",\n",
    "    \"a Bc\",\n",
    "    \"a/b\",\n",
    "    \"a$b\",\n",
    "    \"a'b\",\n",
    "]:\n",
    "\n",
    "    kraft.path.clean(na)"
   ]
  },
  {
   "cell_type": "markdown",
   "metadata": {},
   "source": [
    "## get_absolute"
   ]
  },
  {
   "cell_type": "code",
   "execution_count": null,
   "metadata": {
    "execution": {
     "iopub.execute_input": "2021-05-29T18:49:25.725507Z",
     "iopub.status.busy": "2021-05-29T18:49:25.724939Z",
     "iopub.status.idle": "2021-05-29T18:49:25.741246Z",
     "shell.execute_reply": "2021-05-29T18:49:25.741675Z"
    }
   },
   "outputs": [],
   "source": [
    "di = \"~/Downloads/\"\n",
    "\n",
    "di = kraft.path.get_absolute(di)\n",
    "\n",
    "di"
   ]
  },
  {
   "cell_type": "markdown",
   "metadata": {},
   "source": [
    "## list"
   ]
  },
  {
   "cell_type": "code",
   "execution_count": null,
   "metadata": {
    "execution": {
     "iopub.execute_input": "2021-05-29T18:49:25.744400Z",
     "iopub.status.busy": "2021-05-29T18:49:25.743913Z",
     "iopub.status.idle": "2021-05-29T18:49:25.756811Z",
     "shell.execute_reply": "2021-05-29T18:49:25.756438Z"
    }
   },
   "outputs": [],
   "source": [
    "kraft.path.list(di)"
   ]
  },
  {
   "cell_type": "markdown",
   "metadata": {},
   "source": [
    "## make"
   ]
  },
  {
   "cell_type": "code",
   "execution_count": null,
   "metadata": {
    "execution": {
     "iopub.execute_input": "2021-05-29T18:49:25.759832Z",
     "iopub.status.busy": "2021-05-29T18:49:25.759328Z",
     "iopub.status.idle": "2021-05-29T18:49:25.771532Z",
     "shell.execute_reply": "2021-05-29T18:49:25.771951Z"
    }
   },
   "outputs": [],
   "source": [
    "kraft.path.make(\"{}/path/a/c/d\".format(di))"
   ]
  },
  {
   "cell_type": "markdown",
   "metadata": {},
   "source": [
    "## get_child"
   ]
  },
  {
   "cell_type": "code",
   "execution_count": null,
   "metadata": {
    "execution": {
     "iopub.execute_input": "2021-05-29T18:49:25.775385Z",
     "iopub.status.busy": "2021-05-29T18:49:25.774803Z",
     "iopub.status.idle": "2021-05-29T18:49:25.789260Z",
     "shell.execute_reply": "2021-05-29T18:49:25.789814Z"
    }
   },
   "outputs": [],
   "source": [
    "kraft.path.get_child(\"{}/path\".format(di))"
   ]
  }
 ],
 "metadata": {
  "kernelspec": {
   "display_name": "Python 3",
   "language": "python",
   "name": "python3"
  },
  "language_info": {
   "codemirror_mode": {
    "name": "ipython",
    "version": 3
   },
   "file_extension": ".py",
   "mimetype": "text/x-python",
   "name": "python",
   "nbconvert_exporter": "python",
   "pygments_lexer": "ipython3",
   "version": "3.8.9"
  }
 },
 "nbformat": 4,
 "nbformat_minor": 4
}
