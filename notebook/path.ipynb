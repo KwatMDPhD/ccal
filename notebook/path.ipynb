{
 "cells": [
  {
   "cell_type": "code",
   "execution_count": 1,
   "metadata": {},
   "outputs": [],
   "source": [
    "%load_ext autoreload\n",
    "%autoreload 2"
   ]
  },
  {
   "cell_type": "code",
   "execution_count": 2,
   "metadata": {},
   "outputs": [],
   "source": [
    "import os\n",
    "\n",
    "import kraft"
   ]
  },
  {
   "cell_type": "code",
   "execution_count": 3,
   "metadata": {},
   "outputs": [],
   "source": [
    "directory_path = os.path.expanduser(\"~/Downloads/\")"
   ]
  },
  {
   "cell_type": "markdown",
   "metadata": {},
   "source": [
    "## path"
   ]
  },
  {
   "cell_type": "code",
   "execution_count": 4,
   "metadata": {},
   "outputs": [],
   "source": [
    "kraft.path.path(\"{}/path\".format(directory_path))"
   ]
  },
  {
   "cell_type": "code",
   "execution_count": 5,
   "metadata": {},
   "outputs": [],
   "source": [
    "kraft.path.path(\"{}/path/\".format(directory_path))"
   ]
  },
  {
   "cell_type": "code",
   "execution_count": 6,
   "metadata": {},
   "outputs": [],
   "source": [
    "kraft.path.path(\"{}/path/a/b/\".format(directory_path))"
   ]
  },
  {
   "cell_type": "code",
   "execution_count": 7,
   "metadata": {},
   "outputs": [],
   "source": [
    "kraft.path.path(\"{}/path/a/c/d\".format(directory_path))"
   ]
  },
  {
   "cell_type": "markdown",
   "metadata": {},
   "source": [
    "## get_child_paths"
   ]
  },
  {
   "cell_type": "code",
   "execution_count": 8,
   "metadata": {},
   "outputs": [
    {
     "name": "stdout",
     "output_type": "stream",
     "text": [
      "================================================================================\n",
      "False\n",
      "('a/', 'a/c/', 'a/b/')\n",
      "================================================================================\n",
      "True\n",
      "('/home/kwat/Downloads//path/a/', '/home/kwat/Downloads//path/a/c/', '/home/kwat/Downloads//path/a/b/')\n"
     ]
    }
   ],
   "source": [
    "root_directory_path = \"{}/path\".format(directory_path)\n",
    "\n",
    "for absolute in (False, True):\n",
    "\n",
    "    print(\"=\" * 80)\n",
    "\n",
    "    print(absolute)\n",
    "\n",
    "    print(kraft.path.get_child_paths(root_directory_path, absolute=absolute))"
   ]
  },
  {
   "cell_type": "markdown",
   "metadata": {},
   "source": [
    "## clean"
   ]
  },
  {
   "cell_type": "code",
   "execution_count": 9,
   "metadata": {},
   "outputs": [
    {
     "name": "stdout",
     "output_type": "stream",
     "text": [
      "a ==> a\n",
      "A ==> a\n",
      "a bc ==> a_bc\n",
      "a Bc ==> a_bc\n",
      "a/b ==> a_b\n",
      "a$b ==> a_b\n"
     ]
    }
   ],
   "source": [
    "for name in (\n",
    "    \"a\",\n",
    "    \"A\",\n",
    "    \"a bc\",\n",
    "    \"a Bc\",\n",
    "    \"a/b\",\n",
    "    \"a$b\",\n",
    "):\n",
    "\n",
    "    kraft.path.clean(name)"
   ]
  }
 ],
 "metadata": {
  "kernelspec": {
   "display_name": "Python 3",
   "language": "python",
   "name": "python3"
  },
  "language_info": {
   "codemirror_mode": {
    "name": "ipython",
    "version": 3
   },
   "file_extension": ".py",
   "mimetype": "text/x-python",
   "name": "python",
   "nbconvert_exporter": "python",
   "pygments_lexer": "ipython3",
   "version": "3.7.8"
  }
 },
 "nbformat": 4,
 "nbformat_minor": 4
}
