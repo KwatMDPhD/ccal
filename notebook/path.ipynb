{
 "cells": [
  {
   "cell_type": "code",
   "execution_count": null,
   "metadata": {
    "execution": {
     "iopub.execute_input": "2021-05-31T06:00:20.446747Z",
     "iopub.status.busy": "2021-05-31T06:00:20.445978Z",
     "iopub.status.idle": "2021-05-31T06:00:20.460530Z",
     "shell.execute_reply": "2021-05-31T06:00:20.460965Z"
    }
   },
   "outputs": [],
   "source": [
    "%load_ext autoreload\n",
    "%autoreload 2"
   ]
  },
  {
   "cell_type": "code",
   "execution_count": null,
   "metadata": {
    "execution": {
     "iopub.execute_input": "2021-05-31T06:00:20.464445Z",
     "iopub.status.busy": "2021-05-31T06:00:20.463862Z",
     "iopub.status.idle": "2021-05-31T06:00:21.005682Z",
     "shell.execute_reply": "2021-05-31T06:00:21.006224Z"
    }
   },
   "outputs": [],
   "source": [
    "import kraft"
   ]
  },
  {
   "cell_type": "markdown",
   "metadata": {},
   "source": [
    "## clean"
   ]
  },
  {
   "cell_type": "code",
   "execution_count": null,
   "metadata": {
    "execution": {
     "iopub.execute_input": "2021-05-31T06:00:21.010011Z",
     "iopub.status.busy": "2021-05-31T06:00:21.009479Z",
     "iopub.status.idle": "2021-05-31T06:00:21.026744Z",
     "shell.execute_reply": "2021-05-31T06:00:21.027142Z"
    }
   },
   "outputs": [],
   "source": [
    "for na in [\"a\", \"A\", \"a bc\", \"a Bc\", \"a/b\", \"a$b\", \"a'b\"]:\n",
    "\n",
    "    kraft.path.clean(na)"
   ]
  },
  {
   "cell_type": "markdown",
   "metadata": {},
   "source": [
    "## get_absolute"
   ]
  },
  {
   "cell_type": "code",
   "execution_count": null,
   "metadata": {
    "execution": {
     "iopub.execute_input": "2021-05-31T06:00:21.030021Z",
     "iopub.status.busy": "2021-05-31T06:00:21.029501Z",
     "iopub.status.idle": "2021-05-31T06:00:21.051007Z",
     "shell.execute_reply": "2021-05-31T06:00:21.051357Z"
    }
   },
   "outputs": [],
   "source": [
    "di = \"~/Downloads/\"\n",
    "\n",
    "di = kraft.path.get_absolute(di)\n",
    "\n",
    "di"
   ]
  },
  {
   "cell_type": "markdown",
   "metadata": {},
   "source": [
    "## list"
   ]
  },
  {
   "cell_type": "code",
   "execution_count": null,
   "metadata": {
    "execution": {
     "iopub.execute_input": "2021-05-31T06:00:21.054201Z",
     "iopub.status.busy": "2021-05-31T06:00:21.053708Z",
     "iopub.status.idle": "2021-05-31T06:00:21.071077Z",
     "shell.execute_reply": "2021-05-31T06:00:21.070676Z"
    }
   },
   "outputs": [],
   "source": [
    "kraft.path.list(di)"
   ]
  },
  {
   "cell_type": "markdown",
   "metadata": {},
   "source": [
    "## make"
   ]
  },
  {
   "cell_type": "code",
   "execution_count": null,
   "metadata": {
    "execution": {
     "iopub.execute_input": "2021-05-31T06:00:21.074012Z",
     "iopub.status.busy": "2021-05-31T06:00:21.073510Z",
     "iopub.status.idle": "2021-05-31T06:00:21.090466Z",
     "shell.execute_reply": "2021-05-31T06:00:21.091063Z"
    }
   },
   "outputs": [],
   "source": [
    "kraft.path.make(\"{}/path/a/c/d\".format(di))"
   ]
  },
  {
   "cell_type": "markdown",
   "metadata": {},
   "source": [
    "## get_child"
   ]
  },
  {
   "cell_type": "code",
   "execution_count": null,
   "metadata": {
    "execution": {
     "iopub.execute_input": "2021-05-31T06:00:21.094117Z",
     "iopub.status.busy": "2021-05-31T06:00:21.093607Z",
     "iopub.status.idle": "2021-05-31T06:00:21.114080Z",
     "shell.execute_reply": "2021-05-31T06:00:21.114413Z"
    }
   },
   "outputs": [],
   "source": [
    "kraft.path.get_child(\"{}/path\".format(di))"
   ]
  }
 ],
 "metadata": {
  "kernelspec": {
   "display_name": "Python 3",
   "language": "python",
   "name": "python3"
  },
  "language_info": {
   "codemirror_mode": {
    "name": "ipython",
    "version": 3
   },
   "file_extension": ".py",
   "mimetype": "text/x-python",
   "name": "python",
   "nbconvert_exporter": "python",
   "pygments_lexer": "ipython3",
   "version": "3.8.9"
  }
 },
 "nbformat": 4,
 "nbformat_minor": 4
}
