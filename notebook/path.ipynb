{
 "cells": [
  {
   "cell_type": "code",
   "execution_count": null,
   "metadata": {
    "execution": {
     "iopub.execute_input": "2021-05-30T23:49:02.698000Z",
     "iopub.status.busy": "2021-05-30T23:49:02.697234Z",
     "iopub.status.idle": "2021-05-30T23:49:02.712456Z",
     "shell.execute_reply": "2021-05-30T23:49:02.712878Z"
    }
   },
   "outputs": [],
   "source": [
    "%load_ext autoreload\n",
    "%autoreload 2"
   ]
  },
  {
   "cell_type": "code",
   "execution_count": null,
   "metadata": {
    "execution": {
     "iopub.execute_input": "2021-05-30T23:49:02.716392Z",
     "iopub.status.busy": "2021-05-30T23:49:02.715797Z",
     "iopub.status.idle": "2021-05-30T23:49:03.260188Z",
     "shell.execute_reply": "2021-05-30T23:49:03.260567Z"
    }
   },
   "outputs": [],
   "source": [
    "import kraft"
   ]
  },
  {
   "cell_type": "markdown",
   "metadata": {},
   "source": [
    "## clean"
   ]
  },
  {
   "cell_type": "code",
   "execution_count": null,
   "metadata": {
    "execution": {
     "iopub.execute_input": "2021-05-30T23:49:03.264075Z",
     "iopub.status.busy": "2021-05-30T23:49:03.263557Z",
     "iopub.status.idle": "2021-05-30T23:49:03.280534Z",
     "shell.execute_reply": "2021-05-30T23:49:03.280886Z"
    }
   },
   "outputs": [],
   "source": [
    "for na in [\"a\", \"A\", \"a bc\", \"a Bc\", \"a/b\", \"a$b\", \"a'b\"]:\n",
    "\n",
    "    kraft.path.clean(na)"
   ]
  },
  {
   "cell_type": "markdown",
   "metadata": {},
   "source": [
    "## get_absolute"
   ]
  },
  {
   "cell_type": "code",
   "execution_count": null,
   "metadata": {
    "execution": {
     "iopub.execute_input": "2021-05-30T23:49:03.283965Z",
     "iopub.status.busy": "2021-05-30T23:49:03.283453Z",
     "iopub.status.idle": "2021-05-30T23:49:03.304484Z",
     "shell.execute_reply": "2021-05-30T23:49:03.304149Z"
    }
   },
   "outputs": [],
   "source": [
    "di = \"~/Downloads/\"\n",
    "\n",
    "di = kraft.path.get_absolute(di)\n",
    "\n",
    "di"
   ]
  },
  {
   "cell_type": "markdown",
   "metadata": {},
   "source": [
    "## list"
   ]
  },
  {
   "cell_type": "code",
   "execution_count": null,
   "metadata": {
    "execution": {
     "iopub.execute_input": "2021-05-30T23:49:03.307170Z",
     "iopub.status.busy": "2021-05-30T23:49:03.306663Z",
     "iopub.status.idle": "2021-05-30T23:49:03.323565Z",
     "shell.execute_reply": "2021-05-30T23:49:03.323192Z"
    }
   },
   "outputs": [],
   "source": [
    "kraft.path.list(di)"
   ]
  },
  {
   "cell_type": "markdown",
   "metadata": {},
   "source": [
    "## make"
   ]
  },
  {
   "cell_type": "code",
   "execution_count": null,
   "metadata": {
    "execution": {
     "iopub.execute_input": "2021-05-30T23:49:03.326480Z",
     "iopub.status.busy": "2021-05-30T23:49:03.325984Z",
     "iopub.status.idle": "2021-05-30T23:49:03.342702Z",
     "shell.execute_reply": "2021-05-30T23:49:03.343054Z"
    }
   },
   "outputs": [],
   "source": [
    "kraft.path.make(\"{}/path/a/c/d\".format(di))"
   ]
  },
  {
   "cell_type": "markdown",
   "metadata": {},
   "source": [
    "## get_child"
   ]
  },
  {
   "cell_type": "code",
   "execution_count": null,
   "metadata": {
    "execution": {
     "iopub.execute_input": "2021-05-30T23:49:03.345999Z",
     "iopub.status.busy": "2021-05-30T23:49:03.345485Z",
     "iopub.status.idle": "2021-05-30T23:49:03.363782Z",
     "shell.execute_reply": "2021-05-30T23:49:03.364148Z"
    }
   },
   "outputs": [],
   "source": [
    "kraft.path.get_child(\"{}/path\".format(di))"
   ]
  }
 ],
 "metadata": {
  "kernelspec": {
   "display_name": "Python 3",
   "language": "python",
   "name": "python3"
  },
  "language_info": {
   "codemirror_mode": {
    "name": "ipython",
    "version": 3
   },
   "file_extension": ".py",
   "mimetype": "text/x-python",
   "name": "python",
   "nbconvert_exporter": "python",
   "pygments_lexer": "ipython3",
   "version": "3.8.9"
  }
 },
 "nbformat": 4,
 "nbformat_minor": 4
}
