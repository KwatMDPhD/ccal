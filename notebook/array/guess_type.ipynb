{
 "cells": [
  {
   "cell_type": "code",
   "execution_count": 1,
   "metadata": {},
   "outputs": [],
   "source": [
    "%load_ext autoreload\n",
    "%autoreload 2"
   ]
  },
  {
   "cell_type": "code",
   "execution_count": 2,
   "metadata": {},
   "outputs": [],
   "source": [
    "import numpy as np\n",
    "\n",
    "import kraft"
   ]
  },
  {
   "cell_type": "code",
   "execution_count": 3,
   "metadata": {},
   "outputs": [
    {
     "name": "stdout",
     "output_type": "stream",
     "text": [
      "[0]\n",
      "binary\n",
      "\n",
      "[0. 0.]\n",
      "binary\n",
      "\n",
      "[0 1]\n",
      "binary\n",
      "\n",
      "[0. 1. 0. 1.]\n",
      "binary\n",
      "\n",
      "[[1 0 0 0]\n",
      " [1 1 0 0]]\n",
      "binary\n",
      "\n",
      "[0 1 2]\n",
      "categorical\n",
      "\n",
      "[ 0  1  2  3  4  5  6  7  8  9 10 11 12 13 14 15]\n",
      "categorical\n",
      "\n",
      "[[2 1 2 2]\n",
      " [0 1 0 2]]\n",
      "categorical\n",
      "\n",
      "[0.1]\n",
      "continuous\n",
      "\n",
      "[ 0  1  2  3  4  5  6  7  8  9 10 11 12 13 14 15 16]\n",
      "continuous\n",
      "\n",
      "[[0.26189331 0.37729832 0.65899479 0.92656085]\n",
      " [0.82067938 0.25064427 0.72921558 0.75936668]]\n",
      "continuous\n",
      "\n"
     ]
    }
   ],
   "source": [
    "for numbers in (\n",
    "    (0,),\n",
    "    (0, 0.0),\n",
    "    (0, 1),\n",
    "    (0, 1, 0.0, 1.0),\n",
    "    np.random.randint(2, size=(2, 4)),\n",
    "    (0, 1, 2),\n",
    "    tuple(range(16)),\n",
    "    np.random.randint(3, size=(2, 4)),\n",
    "    (0.1,),\n",
    "    tuple(range(17)),\n",
    "    np.random.random_sample(size=(2, 4)),\n",
    "):\n",
    "\n",
    "    numbers = np.asarray(numbers)\n",
    "\n",
    "    print(numbers)\n",
    "\n",
    "    print(kraft.guess_type(numbers))\n",
    "\n",
    "    print()"
   ]
  }
 ],
 "metadata": {
  "kernelspec": {
   "display_name": "Python 3",
   "language": "python",
   "name": "python3"
  },
  "language_info": {
   "codemirror_mode": {
    "name": "ipython",
    "version": 3
   },
   "file_extension": ".py",
   "mimetype": "text/x-python",
   "name": "python",
   "nbconvert_exporter": "python",
   "pygments_lexer": "ipython3",
   "version": "3.7.6"
  }
 },
 "nbformat": 4,
 "nbformat_minor": 4
}
