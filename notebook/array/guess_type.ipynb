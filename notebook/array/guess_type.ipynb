{
 "cells": [
  {
   "cell_type": "code",
   "execution_count": 1,
   "metadata": {},
   "outputs": [],
   "source": [
    "%load_ext autoreload\n",
    "%autoreload 2"
   ]
  },
  {
   "cell_type": "code",
   "execution_count": 2,
   "metadata": {},
   "outputs": [],
   "source": [
    "import numpy as np\n",
    "\n",
    "import kraft"
   ]
  },
  {
   "cell_type": "code",
   "execution_count": 3,
   "metadata": {},
   "outputs": [
    {
     "name": "stdout",
     "output_type": "stream",
     "text": [
      "[0]\n",
      "binary\n",
      "\n",
      "[0. 0.]\n",
      "binary\n",
      "\n",
      "[ 0.  0. nan]\n",
      "binary\n",
      "\n",
      "[0 1]\n",
      "binary\n",
      "\n",
      "[0. 1. 0. 1.]\n",
      "binary\n",
      "\n",
      "[nan  0.  1.  0.  1.]\n",
      "binary\n",
      "\n",
      "[0 1 2]\n",
      "categorical\n",
      "\n",
      "[ 0.  1.  2.  0.  1.  2. nan]\n",
      "categorical\n",
      "\n",
      "[ 0  1  2  3  4  5  6  7  8  9 10 11 12 13 14 15]\n",
      "categorical\n",
      "\n",
      "[nan  0.  1.  2.  3.  4.  5.  6.  7.  8.  9. 10. 11. 12. 13. 14. 15.]\n",
      "categorical\n",
      "\n",
      "[ 0.  1.  2.  3.  4.  5.  6.  7.  8.  9. 10. 11. 12. 13. 14. 15. 16. 17.\n",
      " 18. 19. 20. 21. 22. 23. nan]\n",
      "continuous\n",
      "\n",
      "[0.1]\n",
      "continuous\n",
      "\n",
      "[[0.62781813 0.36846674 0.75851689 0.48971843]\n",
      " [0.28819915 0.35317804 0.69247078 0.26689165]]\n",
      "continuous\n",
      "\n",
      "[[1 0 1 0]\n",
      " [0 0 1 0]]\n",
      "binary\n",
      "\n",
      "[[0 0 2 2]\n",
      " [2 1 0 0]]\n",
      "categorical\n",
      "\n"
     ]
    }
   ],
   "source": [
    "for numbers in (\n",
    "    (0,),\n",
    "    (0, 0.0),\n",
    "    (0, 0.0, np.nan),\n",
    "    (0, 1),\n",
    "    (0, 1, 0.0, 1.0),\n",
    "    (np.nan, 0, 1, 0.0, 1.0),\n",
    "    (0, 1, 2),\n",
    "    (0, 1, 2, 0.0, 1.0, 2.0, np.nan),\n",
    "    tuple(range(16)),\n",
    "    (np.nan,) + tuple(range(16)),\n",
    "    tuple(range(24)) + (np.nan,),\n",
    "    (0.1,),\n",
    "    np.random.random_sample(size=(2, 4)),\n",
    "    np.random.randint(2, size=(2, 4)),\n",
    "    np.random.randint(3, size=(2, 4)),\n",
    "):\n",
    "    \n",
    "    numbers = np.asarray(numbers)\n",
    "\n",
    "    print(numbers)\n",
    "\n",
    "    print(kraft.guess_type(numbers))\n",
    "\n",
    "    print()"
   ]
  },
  {
   "cell_type": "code",
   "execution_count": null,
   "metadata": {},
   "outputs": [],
   "source": []
  }
 ],
 "metadata": {
  "kernelspec": {
   "display_name": "Python 3",
   "language": "python",
   "name": "python3"
  },
  "language_info": {
   "codemirror_mode": {
    "name": "ipython",
    "version": 3
   },
   "file_extension": ".py",
   "mimetype": "text/x-python",
   "name": "python",
   "nbconvert_exporter": "python",
   "pygments_lexer": "ipython3",
   "version": "3.7.6"
  }
 },
 "nbformat": 4,
 "nbformat_minor": 4
}
