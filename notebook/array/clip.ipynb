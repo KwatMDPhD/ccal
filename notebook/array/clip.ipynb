{
 "cells": [
  {
   "cell_type": "code",
   "execution_count": 1,
   "metadata": {},
   "outputs": [],
   "source": [
    "%load_ext autoreload\n",
    "%autoreload 2"
   ]
  },
  {
   "cell_type": "code",
   "execution_count": 2,
   "metadata": {},
   "outputs": [],
   "source": [
    "import numpy as np\n",
    "\n",
    "import kraft"
   ]
  },
  {
   "cell_type": "code",
   "execution_count": 3,
   "metadata": {},
   "outputs": [
    {
     "data": {
      "text/plain": [
       "array([-2, -1,  0,  1,  2,  3])"
      ]
     },
     "execution_count": 3,
     "metadata": {},
     "output_type": "execute_result"
    }
   ],
   "source": [
    "array = np.arange(-2, 4)\n",
    "\n",
    "array"
   ]
  },
  {
   "cell_type": "code",
   "execution_count": 5,
   "metadata": {},
   "outputs": [
    {
     "name": "stdout",
     "output_type": "stream",
     "text": [
      "-1\n",
      "[-1.20782513 -1.20782513 -1.20782513 -1.20782513 -1.20782513 -1.20782513]\n",
      "\n",
      "0\n",
      "[0.5 0.5 0.5 0.5 0.5 0.5]\n",
      "\n",
      "1\n",
      "[-1.20782513 -1.          0.          1.          2.          2.20782513]\n",
      "\n",
      "2\n",
      "[-2. -1.  0.  1.  2.  3.]\n",
      "\n"
     ]
    }
   ],
   "source": [
    "for standard_deviation in (-1, 0, 1, 2):\n",
    "    \n",
    "    print(standard_deviation)\n",
    "\n",
    "    print(kraft.clip(array, standard_deviation))\n",
    "    \n",
    "    print()"
   ]
  }
 ],
 "metadata": {
  "kernelspec": {
   "display_name": "Python 3",
   "language": "python",
   "name": "python3"
  },
  "language_info": {
   "codemirror_mode": {
    "name": "ipython",
    "version": 3
   },
   "file_extension": ".py",
   "mimetype": "text/x-python",
   "name": "python",
   "nbconvert_exporter": "python",
   "pygments_lexer": "ipython3",
   "version": "3.7.6"
  }
 },
 "nbformat": 4,
 "nbformat_minor": 4
}
