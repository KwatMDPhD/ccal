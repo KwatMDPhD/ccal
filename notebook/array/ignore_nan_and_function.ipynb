{
 "cells": [
  {
   "cell_type": "code",
   "execution_count": null,
   "metadata": {},
   "outputs": [],
   "source": [
    "%load_ext autoreload\n",
    "%autoreload 2"
   ]
  },
  {
   "cell_type": "code",
   "execution_count": null,
   "metadata": {},
   "outputs": [],
   "source": [
    "import numpy as np\n",
    "import pandas as pd\n",
    "\n",
    "import kraft"
   ]
  },
  {
   "cell_type": "code",
   "execution_count": null,
   "metadata": {},
   "outputs": [],
   "source": [
    "array = np.asarray((np.nan, 0, 1, 2, np.nan))\n",
    "\n",
    "array"
   ]
  },
  {
   "cell_type": "code",
   "execution_count": null,
   "metadata": {},
   "outputs": [],
   "source": [
    "print(np.sum(array))\n",
    "\n",
    "output = kraft.ignore_nan_and_function_1(array, np.sum)\n",
    "\n",
    "assert output is not array\n",
    "\n",
    "print(output)"
   ]
  },
  {
   "cell_type": "code",
   "execution_count": null,
   "metadata": {},
   "outputs": [],
   "source": [
    "print(np.cumsum(array))\n",
    "\n",
    "output = kraft.ignore_nan_and_function_1(array, np.cumsum, update=True)\n",
    "\n",
    "assert output is not array\n",
    "\n",
    "print(output)"
   ]
  },
  {
   "cell_type": "code",
   "execution_count": null,
   "metadata": {},
   "outputs": [],
   "source": [
    "array_0 = np.asarray((np.nan, 0, 1, np.nan, 2))\n",
    "\n",
    "print(array_0)\n",
    "\n",
    "array_1 = np.asarray((np.nan, 0, 1, 2, np.nan))\n",
    "\n",
    "print(array_1)\n",
    "\n",
    "print(np.add(array_0, array_1))\n",
    "\n",
    "print(kraft.ignore_nan_and_function_2(array_0, array_1, np.add))"
   ]
  }
 ],
 "metadata": {
  "kernelspec": {
   "display_name": "Python 3",
   "language": "python",
   "name": "python3"
  },
  "language_info": {
   "codemirror_mode": {
    "name": "ipython",
    "version": 3
   },
   "file_extension": ".py",
   "mimetype": "text/x-python",
   "name": "python",
   "nbconvert_exporter": "python",
   "pygments_lexer": "ipython3",
   "version": "3.7.6"
  }
 },
 "nbformat": 4,
 "nbformat_minor": 4
}
