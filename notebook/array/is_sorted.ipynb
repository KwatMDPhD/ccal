{
 "cells": [
  {
   "cell_type": "code",
   "execution_count": 1,
   "metadata": {},
   "outputs": [],
   "source": [
    "%load_ext autoreload\n",
    "%autoreload 2"
   ]
  },
  {
   "cell_type": "code",
   "execution_count": 2,
   "metadata": {},
   "outputs": [],
   "source": [
    "import numpy as np\n",
    "\n",
    "import kraft"
   ]
  },
  {
   "cell_type": "code",
   "execution_count": 7,
   "metadata": {},
   "outputs": [
    {
     "name": "stdout",
     "output_type": "stream",
     "text": [
      "[0]\n",
      "True\n",
      "\n",
      "[0. 0.]\n",
      "True\n",
      "\n",
      "[0 1]\n",
      "True\n",
      "\n",
      "[1 0]\n",
      "True\n",
      "\n",
      "[0 1 0]\n",
      "False\n",
      "\n",
      "[1 0 1]\n",
      "False\n",
      "\n"
     ]
    }
   ],
   "source": [
    "for numbers in (\n",
    "    (0,),\n",
    "    (0, 0.0),\n",
    "    (0, 1),\n",
    "    (1, 0),\n",
    "    (0, 1, 0),\n",
    "    (1, 0, 1),\n",
    "):\n",
    "\n",
    "    numbers = np.asarray(numbers)\n",
    "\n",
    "    print(numbers)\n",
    "\n",
    "    print(kraft.is_sorted(numbers))\n",
    "\n",
    "    print()"
   ]
  },
  {
   "cell_type": "code",
   "execution_count": null,
   "metadata": {},
   "outputs": [],
   "source": []
  }
 ],
 "metadata": {
  "kernelspec": {
   "display_name": "Python 3",
   "language": "python",
   "name": "python3"
  },
  "language_info": {
   "codemirror_mode": {
    "name": "ipython",
    "version": 3
   },
   "file_extension": ".py",
   "mimetype": "text/x-python",
   "name": "python",
   "nbconvert_exporter": "python",
   "pygments_lexer": "ipython3",
   "version": "3.7.6"
  }
 },
 "nbformat": 4,
 "nbformat_minor": 4
}
