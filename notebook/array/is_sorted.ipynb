{
 "cells": [
  {
   "cell_type": "code",
   "execution_count": 1,
   "metadata": {},
   "outputs": [],
   "source": [
    "%load_ext autoreload\n",
    "%autoreload 2"
   ]
  },
  {
   "cell_type": "code",
   "execution_count": 2,
   "metadata": {},
   "outputs": [],
   "source": [
    "import numpy as np\n",
    "\n",
    "import kraft"
   ]
  },
  {
   "cell_type": "code",
   "execution_count": 3,
   "metadata": {},
   "outputs": [
    {
     "name": "stdout",
     "output_type": "stream",
     "text": [
      "[0]\n",
      "True\n",
      "\n",
      "[0. 0. 0.]\n",
      "True\n",
      "\n",
      "[ 0.  0. nan]\n",
      "False\n",
      "\n",
      "[nan  0.  0.]\n",
      "False\n",
      "\n",
      "[0 1]\n",
      "True\n",
      "\n",
      "[1 0]\n",
      "True\n",
      "\n"
     ]
    },
    {
     "name": "stderr",
     "output_type": "stream",
     "text": [
      "/home/kwat/github/kraft/kraft/array/is_sorted.py:8: RuntimeWarning: invalid value encountered in less_equal\n",
      "  return (diff_ <= 0).all() or (0 <= diff_).all()\n",
      "/home/kwat/github/kraft/kraft/array/is_sorted.py:8: RuntimeWarning: invalid value encountered in greater_equal\n",
      "  return (diff_ <= 0).all() or (0 <= diff_).all()\n"
     ]
    }
   ],
   "source": [
    "for numbers in (\n",
    "    (0,),\n",
    "    (0, 0.0, 0),\n",
    "    (0, 0.0, np.nan),\n",
    "    (np.nan, 0, 0.0),\n",
    "    (0, 1),\n",
    "    (1, 0),\n",
    "):\n",
    "    \n",
    "    numbers = np.asarray(numbers)\n",
    "    \n",
    "    print(numbers)\n",
    "\n",
    "    print(kraft.is_sorted(numbers))\n",
    "\n",
    "    print()"
   ]
  },
  {
   "cell_type": "code",
   "execution_count": null,
   "metadata": {},
   "outputs": [],
   "source": []
  }
 ],
 "metadata": {
  "kernelspec": {
   "display_name": "Python 3",
   "language": "python",
   "name": "python3"
  },
  "language_info": {
   "codemirror_mode": {
    "name": "ipython",
    "version": 3
   },
   "file_extension": ".py",
   "mimetype": "text/x-python",
   "name": "python",
   "nbconvert_exporter": "python",
   "pygments_lexer": "ipython3",
   "version": "3.7.6"
  }
 },
 "nbformat": 4,
 "nbformat_minor": 4
}
