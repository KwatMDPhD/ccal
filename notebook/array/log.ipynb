{
 "cells": [
  {
   "cell_type": "code",
   "execution_count": 1,
   "metadata": {},
   "outputs": [],
   "source": [
    "%load_ext autoreload\n",
    "%autoreload 2"
   ]
  },
  {
   "cell_type": "code",
   "execution_count": 2,
   "metadata": {},
   "outputs": [],
   "source": [
    "import numpy as np\n",
    "\n",
    "import kraft"
   ]
  },
  {
   "cell_type": "code",
   "execution_count": 26,
   "metadata": {},
   "outputs": [
    {
     "name": "stdout",
     "output_type": "stream",
     "text": [
      "\n",
      "[  1.   2.  nan -inf  inf]\n",
      "min_before_logging = None\n",
      "log_base = 2\n",
      "[ 0.  1. nan nan inf]\n",
      "\n",
      "[  1.   2.  nan -inf  inf]\n",
      "min_before_logging = 0\n",
      "log_base = 2\n",
      "[inf inf nan nan inf]\n",
      "\n",
      "[  1.   2.  nan -inf  inf]\n",
      "min_before_logging = 1\n",
      "log_base = 2\n",
      "[inf inf nan nan inf]\n",
      "\n",
      "[  1.   2.  nan -inf  inf]\n",
      "min_before_logging = 0<\n",
      "log_base = 2\n",
      "[inf inf nan nan inf]\n",
      "\n",
      "[  0.   1.   2.  nan -inf  inf]\n",
      "min_before_logging = None\n",
      "log_base = 2\n",
      "[-inf   0.   1.  nan  nan  inf]\n",
      "\n",
      "[  0.   1.   2.  nan -inf  inf]\n",
      "min_before_logging = 0\n",
      "log_base = 2\n",
      "[inf inf inf nan nan inf]\n",
      "\n",
      "[  0.   1.   2.  nan -inf  inf]\n",
      "min_before_logging = 1\n",
      "log_base = 2\n",
      "[inf inf inf nan nan inf]\n",
      "\n",
      "[  0.   1.   2.  nan -inf  inf]\n",
      "min_before_logging = 0<\n",
      "log_base = 2\n",
      "[inf inf inf nan nan inf]\n",
      "\n",
      "[ -1.   0.   1.   2.  nan -inf  inf]\n",
      "min_before_logging = None\n",
      "log_base = 2\n",
      "[ nan -inf   0.   1.  nan  nan  inf]\n",
      "\n",
      "[ -1.   0.   1.   2.  nan -inf  inf]\n",
      "min_before_logging = 0\n",
      "log_base = 2\n",
      "[inf inf inf inf nan nan inf]\n",
      "\n",
      "[ -1.   0.   1.   2.  nan -inf  inf]\n",
      "min_before_logging = 1\n",
      "log_base = 2\n",
      "[inf inf inf inf nan nan inf]\n",
      "\n",
      "[ -1.   0.   1.   2.  nan -inf  inf]\n",
      "min_before_logging = 0<\n",
      "log_base = 2\n",
      "[inf inf inf inf nan nan inf]\n"
     ]
    },
    {
     "name": "stderr",
     "output_type": "stream",
     "text": [
      "/home/kwat/github/kraft/kraft/array/log.py:28: RuntimeWarning: invalid value encountered in log2\n",
      "  log_ = log10\n",
      "/home/kwat/github/kraft/kraft/array/log.py:14: RuntimeWarning: invalid value encountered in add\n",
      "  print(array.nanmin())\n",
      "/home/kwat/github/kraft/kraft/array/log.py:12: RuntimeWarning: invalid value encountered in greater\n",
      "  min_before_logging = array[0 < array].min()\n",
      "/home/kwat/github/kraft/kraft/array/log.py:28: RuntimeWarning: divide by zero encountered in log2\n",
      "  log_ = log10\n"
     ]
    }
   ],
   "source": [
    "for array in (\n",
    "    np.asarray((1, 2, np.nan, -np.inf, np.inf)),\n",
    "    np.asarray((0, 1, 2, np.nan, -np.inf, np.inf)),\n",
    "    np.asarray((-1, 0, 1, 2, np.nan, -np.inf, np.inf)),\n",
    "):\n",
    "\n",
    "    for min_before_logging in (None, 0, 1, \"0<\"):\n",
    "        \n",
    "        for log_base in (\n",
    "            \"2\",\n",
    "            #\"e\",\n",
    "            #\"10\",\n",
    "        ):\n",
    "            \n",
    "            print()\n",
    "            \n",
    "            print(array)\n",
    "            \n",
    "            print(\"min_before_logging = {}\".format(min_before_logging))\n",
    "            \n",
    "            print(\"log_base = {}\".format(log_base))\n",
    "\n",
    "            print(kraft.log(\n",
    "                array,\n",
    "                min_before_logging=min_before_logging,\n",
    "                log_base=log_base,\n",
    "            ))"
   ]
  }
 ],
 "metadata": {
  "kernelspec": {
   "display_name": "Python 3",
   "language": "python",
   "name": "python3"
  },
  "language_info": {
   "codemirror_mode": {
    "name": "ipython",
    "version": 3
   },
   "file_extension": ".py",
   "mimetype": "text/x-python",
   "name": "python",
   "nbconvert_exporter": "python",
   "pygments_lexer": "ipython3",
   "version": "3.7.6"
  }
 },
 "nbformat": 4,
 "nbformat_minor": 4
}
