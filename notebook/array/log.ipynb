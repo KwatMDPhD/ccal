{
 "cells": [
  {
   "cell_type": "code",
   "execution_count": null,
   "metadata": {},
   "outputs": [],
   "source": [
    "%load_ext autoreload\n",
    "%autoreload 2"
   ]
  },
  {
   "cell_type": "code",
   "execution_count": null,
   "metadata": {},
   "outputs": [],
   "source": [
    "import numpy as np\n",
    "\n",
    "import kraft"
   ]
  },
  {
   "cell_type": "code",
   "execution_count": null,
   "metadata": {},
   "outputs": [],
   "source": [
    "for array in (\n",
    "    np.asarray((1, 2, np.inf)),\n",
    "    np.asarray((0, 1, 2, np.inf)),\n",
    "    np.asarray((-1, 0, 1, 2, np.inf)),\n",
    "):\n",
    "\n",
    "    for min_before_logging in (None, 0, 1, \"0<\"):\n",
    "\n",
    "        for log_base in (\n",
    "            \"2\",\n",
    "            # \"e\",\n",
    "            # \"10\",\n",
    "        ):\n",
    "\n",
    "            print(array)\n",
    "\n",
    "            print(\"min_before_logging = {}\".format(min_before_logging))\n",
    "\n",
    "            print(\"log_base = {}\".format(log_base))\n",
    "\n",
    "            print(\n",
    "                kraft.log(\n",
    "                    array, min_before_logging=min_before_logging, log_base=log_base,\n",
    "                )\n",
    "            )\n",
    "\n",
    "            print()"
   ]
  }
 ],
 "metadata": {
  "kernelspec": {
   "display_name": "Python 3",
   "language": "python",
   "name": "python3"
  },
  "language_info": {
   "codemirror_mode": {
    "name": "ipython",
    "version": 3
   },
   "file_extension": ".py",
   "mimetype": "text/x-python",
   "name": "python",
   "nbconvert_exporter": "python",
   "pygments_lexer": "ipython3",
   "version": "3.7.6"
  }
 },
 "nbformat": 4,
 "nbformat_minor": 4
}
