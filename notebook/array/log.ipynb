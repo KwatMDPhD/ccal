{
 "cells": [
  {
   "cell_type": "code",
   "execution_count": 1,
   "metadata": {},
   "outputs": [],
   "source": [
    "%load_ext autoreload\n",
    "%autoreload 2"
   ]
  },
  {
   "cell_type": "code",
   "execution_count": 2,
   "metadata": {},
   "outputs": [],
   "source": [
    "import numpy as np\n",
    "\n",
    "import kraft"
   ]
  },
  {
   "cell_type": "code",
   "execution_count": 4,
   "metadata": {},
   "outputs": [
    {
     "name": "stdout",
     "output_type": "stream",
     "text": [
      "[ 1.  2. inf]\n",
      "min_before_logging = None\n",
      "log_base = 2\n",
      "[ 0.  1. inf]\n",
      "\n",
      "[ 1.  2. inf]\n",
      "min_before_logging = 0\n",
      "log_base = 2\n",
      "[-inf   0.  inf]\n",
      "\n",
      "[ 1.  2. inf]\n",
      "min_before_logging = 1\n",
      "log_base = 2\n",
      "[ 0.  1. inf]\n",
      "\n",
      "[ 1.  2. inf]\n",
      "min_before_logging = 0<\n",
      "log_base = 2\n",
      "[ 0.  1. inf]\n",
      "\n",
      "[ 0.  1.  2. inf]\n",
      "min_before_logging = None\n",
      "log_base = 2\n"
     ]
    },
    {
     "name": "stderr",
     "output_type": "stream",
     "text": [
      "/home/kwat/github/kraft/kraft/array/log.py:34: RuntimeWarning: divide by zero encountered in log2\n",
      "  return log_(array)\n"
     ]
    },
    {
     "ename": "AssertionError",
     "evalue": "",
     "output_type": "error",
     "traceback": [
      "\u001b[0;31m---------------------------------------------------------------------------\u001b[0m",
      "\u001b[0;31mAssertionError\u001b[0m                            Traceback (most recent call last)",
      "\u001b[0;32m<ipython-input-4-ba83725e4122>\u001b[0m in \u001b[0;36m<module>\u001b[0;34m\u001b[0m\n\u001b[1;32m     21\u001b[0m             print(\n\u001b[1;32m     22\u001b[0m                 kraft.log(\n\u001b[0;32m---> 23\u001b[0;31m                     \u001b[0marray\u001b[0m\u001b[0;34m,\u001b[0m \u001b[0mmin_before_logging\u001b[0m\u001b[0;34m=\u001b[0m\u001b[0mmin_before_logging\u001b[0m\u001b[0;34m,\u001b[0m \u001b[0mlog_base\u001b[0m\u001b[0;34m=\u001b[0m\u001b[0mlog_base\u001b[0m\u001b[0;34m,\u001b[0m\u001b[0;34m\u001b[0m\u001b[0;34m\u001b[0m\u001b[0m\n\u001b[0m\u001b[1;32m     24\u001b[0m                 )\n\u001b[1;32m     25\u001b[0m             )\n",
      "\u001b[0;32m~/github/kraft/kraft/array/log.py\u001b[0m in \u001b[0;36mlog\u001b[0;34m(array, min_before_logging, log_base)\u001b[0m\n\u001b[1;32m      8\u001b[0m     \u001b[0merror_nan\u001b[0m\u001b[0;34m(\u001b[0m\u001b[0marray\u001b[0m\u001b[0;34m)\u001b[0m\u001b[0;34m\u001b[0m\u001b[0;34m\u001b[0m\u001b[0m\n\u001b[1;32m      9\u001b[0m \u001b[0;34m\u001b[0m\u001b[0m\n\u001b[0;32m---> 10\u001b[0;31m     \u001b[0;32massert\u001b[0m \u001b[0;34m(\u001b[0m\u001b[0;36m0\u001b[0m \u001b[0;34m<\u001b[0m \u001b[0marray\u001b[0m\u001b[0;34m)\u001b[0m\u001b[0;34m.\u001b[0m\u001b[0mall\u001b[0m\u001b[0;34m(\u001b[0m\u001b[0;34m)\u001b[0m\u001b[0;34m\u001b[0m\u001b[0;34m\u001b[0m\u001b[0m\n\u001b[0m\u001b[1;32m     11\u001b[0m \u001b[0;34m\u001b[0m\u001b[0m\n\u001b[1;32m     12\u001b[0m     \u001b[0marray\u001b[0m \u001b[0;34m=\u001b[0m \u001b[0marray\u001b[0m\u001b[0;34m.\u001b[0m\u001b[0mcopy\u001b[0m\u001b[0;34m(\u001b[0m\u001b[0;34m)\u001b[0m\u001b[0;34m\u001b[0m\u001b[0;34m\u001b[0m\u001b[0m\n",
      "\u001b[0;31mAssertionError\u001b[0m: "
     ]
    }
   ],
   "source": [
    "for array in (\n",
    "    np.asarray((1, 2, np.inf)),\n",
    "    np.asarray((0, 1, 2, np.inf)),\n",
    "    np.asarray((-1, 0, 1, 2, np.inf)),\n",
    "):\n",
    "\n",
    "    for min_before_logging in (None, 0, 1, \"0<\"):\n",
    "\n",
    "        for log_base in (\n",
    "            \"2\",\n",
    "            # \"e\",\n",
    "            # \"10\",\n",
    "        ):\n",
    "\n",
    "            print(array)\n",
    "\n",
    "            print(\"min_before_logging = {}\".format(min_before_logging))\n",
    "\n",
    "            print(\"log_base = {}\".format(log_base))\n",
    "\n",
    "            print(\n",
    "                kraft.log(\n",
    "                    array, min_before_logging=min_before_logging, log_base=log_base,\n",
    "                )\n",
    "            )\n",
    "            \n",
    "            print()"
   ]
  }
 ],
 "metadata": {
  "kernelspec": {
   "display_name": "Python 3",
   "language": "python",
   "name": "python3"
  },
  "language_info": {
   "codemirror_mode": {
    "name": "ipython",
    "version": 3
   },
   "file_extension": ".py",
   "mimetype": "text/x-python",
   "name": "python",
   "nbconvert_exporter": "python",
   "pygments_lexer": "ipython3",
   "version": "3.7.6"
  }
 },
 "nbformat": 4,
 "nbformat_minor": 4
}
