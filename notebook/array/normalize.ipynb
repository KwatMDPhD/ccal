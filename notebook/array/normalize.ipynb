{
 "cells": [
  {
   "cell_type": "code",
   "execution_count": null,
   "metadata": {},
   "outputs": [],
   "source": [
    "%load_ext autoreload\n",
    "%autoreload 2"
   ]
  },
  {
   "cell_type": "code",
   "execution_count": null,
   "metadata": {},
   "outputs": [],
   "source": [
    "import numpy as np\n",
    "\n",
    "import kraft"
   ]
  },
  {
   "cell_type": "code",
   "execution_count": null,
   "metadata": {},
   "outputs": [],
   "source": [
    "for _1d_array in (\n",
    "    np.asarray((-1, 0, 1)),\n",
    "    np.asarray((-1, -np.inf, 0, np.nan, 1, np.inf)),\n",
    "    np.asarray((0, 0)),\n",
    "    np.asarray((1, 1)),\n",
    "    np.asarray((2,)),\n",
    "):\n",
    "\n",
    "    print()\n",
    "\n",
    "    print(_1d_array)\n",
    "\n",
    "    for method in (\"-0-\", \"0-1\", \"sum\", \"rank\"):\n",
    "\n",
    "        print()\n",
    "\n",
    "        print(method)\n",
    "\n",
    "        try:\n",
    "\n",
    "            normalized_1d_array = ccal.normalize_nd_array(\n",
    "                _1d_array, None, method, raise_for_bad=False\n",
    "            )\n",
    "\n",
    "            print(normalized_1d_array)\n",
    "\n",
    "        except ValueError as exception:\n",
    "\n",
    "            print(exception)"
   ]
  },
  {
   "cell_type": "code",
   "execution_count": null,
   "metadata": {},
   "outputs": [],
   "source": [
    "for _2d_array in (\n",
    "    np.asarray(((0, 1, 2), (3, 4, 5), (6, 7, 8)), dtype=float),\n",
    "    np.asarray(((np.nan, 0, 1, 2), (3, np.inf, 4, 5), (6, 7, -np.inf, 8))),\n",
    "):\n",
    "\n",
    "    print()\n",
    "\n",
    "    print(_2d_array)\n",
    "\n",
    "    for axis in (None, 0, 1):\n",
    "\n",
    "        for method in (\"-0-\", \"0-1\", \"sum\", \"rank\"):\n",
    "\n",
    "            print()\n",
    "\n",
    "            print(axis, method)\n",
    "\n",
    "            normalized_2d_array = ccal.normalize_nd_array(\n",
    "                _2d_array, axis, method, raise_for_bad=False\n",
    "            )\n",
    "\n",
    "            print(normalized_2d_array)"
   ]
  }
 ],
 "metadata": {
  "kernelspec": {
   "display_name": "Python 3",
   "language": "python",
   "name": "python3"
  },
  "language_info": {
   "codemirror_mode": {
    "name": "ipython",
    "version": 3
   },
   "file_extension": ".py",
   "mimetype": "text/x-python",
   "name": "python",
   "nbconvert_exporter": "python",
   "pygments_lexer": "ipython3",
   "version": "3.7.6"
  }
 },
 "nbformat": 4,
 "nbformat_minor": 4
}
