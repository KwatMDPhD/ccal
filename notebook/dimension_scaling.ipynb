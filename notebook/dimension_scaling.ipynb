{
 "cells": [
  {
   "cell_type": "code",
   "execution_count": null,
   "metadata": {
    "ExecuteTime": {
     "end_time": "2018-05-15T09:13:59.338832Z",
     "start_time": "2018-05-15T09:13:59.294778Z"
    }
   },
   "outputs": [],
   "source": [
    "%load_ext autoreload\n",
    "%autoreload 2"
   ]
  },
  {
   "cell_type": "code",
   "execution_count": null,
   "metadata": {},
   "outputs": [],
   "source": [
    "import os\n",
    "import sys\n",
    "\n",
    "import numpy as np\n",
    "import pandas as pd\n",
    "import plotly as pl"
   ]
  },
  {
   "cell_type": "code",
   "execution_count": null,
   "metadata": {
    "ExecuteTime": {
     "end_time": "2018-05-15T09:14:00.348076Z",
     "start_time": "2018-05-15T09:13:59.344329Z"
    }
   },
   "outputs": [],
   "source": [
    "sys.path.insert(0, \"..\")\n",
    "\n",
    "np.random.random(20121020)\n",
    "\n",
    "pl.offline.init_notebook_mode(connected=True)"
   ]
  },
  {
   "cell_type": "code",
   "execution_count": null,
   "metadata": {
    "ExecuteTime": {
     "end_time": "2018-05-15T09:14:00.460437Z",
     "start_time": "2018-05-15T09:14:00.357790Z"
    }
   },
   "outputs": [],
   "source": [
    "point_x_dimension = np.asarray(\n",
    "    (\n",
    "        (-8, -8, -8),\n",
    "        (-1, -1, -1),\n",
    "        (0, 0, 0),\n",
    "        (1, 1, 1),\n",
    "        (8, 8, 8),\n",
    "        (10, 10, 10),\n",
    "        (16, 16, 16),\n",
    "        (88, 88, 88),\n",
    "    )\n",
    ")\n",
    "\n",
    "point_x_dimension"
   ]
  },
  {
   "cell_type": "code",
   "execution_count": null,
   "metadata": {
    "ExecuteTime": {
     "end_time": "2018-05-15T09:14:33.888902Z",
     "start_time": "2018-05-15T09:14:00.481494Z"
    }
   },
   "outputs": [],
   "source": [
    "from dimension_scaling.mds import mds\n",
    "\n",
    "for n_target_dimension in (1, 2, 3):\n",
    "\n",
    "    print(\"MDS n_target_dimension={}:\".format(n_target_dimension))\n",
    "\n",
    "    point_x_target_dimension = mds(\n",
    "        n_target_dimension, point_x_dimension=point_x_dimension\n",
    "    )\n",
    "\n",
    "    print(point_x_target_dimension)"
   ]
  },
  {
   "cell_type": "code",
   "execution_count": null,
   "metadata": {
    "ExecuteTime": {
     "end_time": "2018-05-15T09:14:42.523290Z",
     "start_time": "2018-05-15T09:14:33.910795Z"
    }
   },
   "outputs": [],
   "source": [
    "from scipy.spatial.distance import chebyshev\n",
    "\n",
    "point_x_target_dimension = mds(\n",
    "    2, point_x_dimension=point_x_dimension, distance_function=chebyshev\n",
    ")\n",
    "\n",
    "point_x_target_dimension"
   ]
  },
  {
   "cell_type": "code",
   "execution_count": null,
   "metadata": {
    "ExecuteTime": {
     "end_time": "2018-05-15T09:14:51.890212Z",
     "start_time": "2018-05-15T09:14:42.528891Z"
    }
   },
   "outputs": [],
   "source": [
    "from scipy.spatial.distance import euclidean, pdist, squareform\n",
    "\n",
    "point_x_target_dimension = mds(\n",
    "    2, distance__point_x_point=squareform(pdist(point_x_dimension))\n",
    ")\n",
    "\n",
    "point_x_target_dimension"
   ]
  }
 ],
 "metadata": {
  "kernelspec": {
   "display_name": "Python 3",
   "language": "python",
   "name": "python3"
  },
  "language_info": {
   "codemirror_mode": {
    "name": "ipython",
    "version": 3
   },
   "file_extension": ".py",
   "mimetype": "text/x-python",
   "name": "python",
   "nbconvert_exporter": "python",
   "pygments_lexer": "ipython3",
   "version": "3.6.6"
  }
 },
 "nbformat": 4,
 "nbformat_minor": 2
}
