{
 "cells": [
  {
   "cell_type": "code",
   "execution_count": 1,
   "metadata": {},
   "outputs": [],
   "source": [
    "import numpy as np"
   ]
  },
  {
   "cell_type": "code",
   "execution_count": 2,
   "metadata": {
    "ExecuteTime": {
     "end_time": "2018-05-15T09:14:00.460437Z",
     "start_time": "2018-05-15T09:14:00.357790Z"
    }
   },
   "outputs": [
    {
     "data": {
      "text/plain": [
       "array([[-8, -8, -8],\n",
       "       [-1, -1, -1],\n",
       "       [ 0,  0,  0],\n",
       "       [ 1,  1,  1],\n",
       "       [ 8,  8,  8],\n",
       "       [10, 10, 10],\n",
       "       [16, 16, 16],\n",
       "       [88, 88, 88]])"
      ]
     },
     "execution_count": 2,
     "metadata": {},
     "output_type": "execute_result"
    }
   ],
   "source": [
    "point_x_dimension = np.asarray(\n",
    "    (\n",
    "        (-8, -8, -8),\n",
    "        (-1, -1, -1),\n",
    "        (0, 0, 0),\n",
    "        (1, 1, 1),\n",
    "        (8, 8, 8),\n",
    "        (10, 10, 10),\n",
    "        (16, 16, 16),\n",
    "        (88, 88, 88),\n",
    "    )\n",
    ")\n",
    "\n",
    "point_x_dimension"
   ]
  },
  {
   "cell_type": "code",
   "execution_count": 3,
   "metadata": {},
   "outputs": [
    {
     "name": "stdout",
     "output_type": "stream",
     "text": [
      "CCAL version 1.1.0 @ /home/kwatme/github/ccal/ccal/__init__.py\n"
     ]
    }
   ],
   "source": [
    "import ccal"
   ]
  },
  {
   "cell_type": "code",
   "execution_count": 4,
   "metadata": {
    "ExecuteTime": {
     "end_time": "2018-05-15T09:14:33.888902Z",
     "start_time": "2018-05-15T09:14:00.481494Z"
    }
   },
   "outputs": [
    {
     "name": "stdout",
     "output_type": "stream",
     "text": [
      "[[-38.53813047]\n",
      " [-26.41377482]\n",
      " [-24.68172401]\n",
      " [-22.9496732 ]\n",
      " [-10.82531755]\n",
      " [ -7.36121593]\n",
      " [  3.03108891]\n",
      " [127.73874706]]\n",
      "[[-37.16138481  10.07914878]\n",
      " [-24.89586118   8.64380848]\n",
      " [-23.72719213   6.91473932]\n",
      " [-21.93965209   6.75562243]\n",
      " [-10.60652988   2.09955483]\n",
      " [ -6.7105509    3.48445453]\n",
      " [  2.36787808  -2.3761323 ]\n",
      " [122.67329289 -35.60119607]]\n",
      "[[ 29.3743597  -13.61542726  20.71392418]\n",
      " [ 19.86793334  -8.13315874  15.26902353]\n",
      " [ 18.08441826  -7.5667965   14.97990683]\n",
      " [ 17.21633654  -6.71179579  13.55363956]\n",
      " [  6.99995428  -5.57658701   6.51149495]\n",
      " [  4.38251287  -4.11732545   4.62896541]\n",
      " [ -0.75517955   3.72556136  -1.54138023]\n",
      " [-95.17033543  41.99552939 -74.11557423]]\n"
     ]
    }
   ],
   "source": [
    "for n_target_dimension in (1, 2, 3):\n",
    "\n",
    "    point_x_target_dimension = ccal.reduce_point_x_dimension_dimension(\n",
    "        n_target_dimension, point_x_dimension=point_x_dimension\n",
    "    )\n",
    "\n",
    "    print(point_x_target_dimension)"
   ]
  },
  {
   "cell_type": "code",
   "execution_count": 5,
   "metadata": {
    "ExecuteTime": {
     "end_time": "2018-05-15T09:14:51.890212Z",
     "start_time": "2018-05-15T09:14:42.528891Z"
    }
   },
   "outputs": [
    {
     "data": {
      "text/plain": [
       "array([[-37.16138481,  10.07914878],\n",
       "       [-24.89586118,   8.64380848],\n",
       "       [-23.72719213,   6.91473932],\n",
       "       [-21.93965209,   6.75562243],\n",
       "       [-10.60652988,   2.09955483],\n",
       "       [ -6.7105509 ,   3.48445453],\n",
       "       [  2.36787808,  -2.3761323 ],\n",
       "       [122.67329289, -35.60119607]])"
      ]
     },
     "execution_count": 5,
     "metadata": {},
     "output_type": "execute_result"
    }
   ],
   "source": [
    "from scipy.spatial.distance import euclidean, pdist, squareform\n",
    "\n",
    "point_x_target_dimension = ccal.reduce_point_x_dimension_dimension(\n",
    "    2, distance__point_x_point=squareform(pdist(point_x_dimension))\n",
    ")\n",
    "\n",
    "point_x_target_dimension"
   ]
  },
  {
   "cell_type": "code",
   "execution_count": 6,
   "metadata": {
    "ExecuteTime": {
     "end_time": "2018-05-15T09:14:42.523290Z",
     "start_time": "2018-05-15T09:14:33.910795Z"
    }
   },
   "outputs": [
    {
     "data": {
      "text/plain": [
       "array([[-21.45484876,   5.81628845],\n",
       "       [-14.36193515,   5.01216155],\n",
       "       [-13.70565991,   3.97343166],\n",
       "       [-12.6670303 ,   3.9016519 ],\n",
       "       [ -6.13143518,   1.17667778],\n",
       "       [ -3.86704416,   2.05324826],\n",
       "       [  1.36262962,  -1.37920858],\n",
       "       [ 70.82532385, -20.55425102]])"
      ]
     },
     "execution_count": 6,
     "metadata": {},
     "output_type": "execute_result"
    }
   ],
   "source": [
    "from scipy.spatial.distance import chebyshev\n",
    "\n",
    "point_x_target_dimension = ccal.reduce_point_x_dimension_dimension(\n",
    "    2, point_x_dimension=point_x_dimension, distance_function=chebyshev\n",
    ")\n",
    "\n",
    "point_x_target_dimension"
   ]
  }
 ],
 "metadata": {
  "kernelspec": {
   "display_name": "Python 3",
   "language": "python",
   "name": "python3"
  },
  "language_info": {
   "codemirror_mode": {
    "name": "ipython",
    "version": 3
   },
   "file_extension": ".py",
   "mimetype": "text/x-python",
   "name": "python",
   "nbconvert_exporter": "python",
   "pygments_lexer": "ipython3",
   "version": "3.6.7"
  }
 },
 "nbformat": 4,
 "nbformat_minor": 2
}
