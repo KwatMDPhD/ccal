{
 "cells": [
  {
   "cell_type": "code",
   "execution_count": null,
   "metadata": {},
   "outputs": [],
   "source": [
    "%load_ext autoreload\n",
    "%autoreload 2"
   ]
  },
  {
   "cell_type": "code",
   "execution_count": null,
   "metadata": {},
   "outputs": [],
   "source": [
    "import numpy as np\n",
    "import pandas as pd\n",
    "\n",
    "import kraft"
   ]
  },
  {
   "cell_type": "code",
   "execution_count": null,
   "metadata": {},
   "outputs": [],
   "source": [
    "samples = pd.Index(\"Sample{}\".format(i) for i in range(6))\n",
    "\n",
    "samples"
   ]
  },
  {
   "cell_type": "code",
   "execution_count": null,
   "metadata": {},
   "outputs": [],
   "source": [
    "phenotype = pd.Series([0, 0, 0, 1, 1, 1], index=samples)\n",
    "\n",
    "phenotype"
   ]
  },
  {
   "cell_type": "code",
   "execution_count": null,
   "metadata": {},
   "outputs": [],
   "source": [
    "n_gene = 16\n",
    "\n",
    "gene_x_sample = pd.DataFrame(\n",
    "    np.random.normal(size=(n_gene, np.size(samples))),\n",
    "    index=(\"Gene{}\".format(i) for i in range(n_gene)),\n",
    "    columns=samples,\n",
    ")\n",
    "\n",
    "gene_x_sample"
   ]
  },
  {
   "cell_type": "code",
   "execution_count": null,
   "metadata": {},
   "outputs": [],
   "source": [
    "gene_set_genes = {\n",
    "    \"GeneSet0\": [\"Gene0\", \"Gene1\"],\n",
    "    \"GeneSet1\": [\"Gene2\", \"Gene4\", \"Gene8\"],\n",
    "}"
   ]
  },
  {
   "cell_type": "markdown",
   "metadata": {},
   "source": [
    "## Score and enrich"
   ],
   "execution_count": null,
   "outputs": []
  },
  {
   "cell_type": "code",
   "execution_count": null,
   "metadata": {},
   "outputs": [],
   "source": [
    "def compare_target_and_data_row(data_row, target):\n",
    "\n",
    "    return np.mean(data_row[target == 1]) - np.mean(data_row[target == 0])\n",
    "\n",
    "\n",
    "compare_target_and_data_row(\n",
    "    np.asarray([2, 2, 2, 4, 4, 4]), np.asarray([0, 0, 0, 1, 1, 1]),\n",
    ")"
   ]
  },
  {
   "cell_type": "code",
   "execution_count": null,
   "metadata": {},
   "outputs": [],
   "source": [
    "gene_x_statistic = kraft.make_match_panel(\n",
    "    phenotype, gene_x_sample, match_function=compare_target_and_data_row,\n",
    ")\n",
    "\n",
    "gene_x_statistic"
   ]
  },
  {
   "cell_type": "code",
   "execution_count": null,
   "metadata": {},
   "outputs": [],
   "source": [
    "gene_score = gene_x_statistic[\"Score\"]\n",
    "\n",
    "gene_score"
   ]
  },
  {
   "cell_type": "code",
   "execution_count": null,
   "metadata": {},
   "outputs": [],
   "source": [
    "for gene_set in gene_set_genes:\n",
    "\n",
    "    kraft.compute_set_enrichment(\n",
    "        gene_score, gene_set_genes[gene_set], title=gene_set,\n",
    "    )"
   ]
  },
  {
   "cell_type": "code",
   "execution_count": null,
   "metadata": {},
   "outputs": [],
   "source": [
    "kraft.compute_set_enrichment(\n",
    "    gene_score, gene_set_genes[\"GeneSet1\"],\n",
    ")"
   ]
  },
  {
   "cell_type": "markdown",
   "metadata": {},
   "source": [
    "## Enrich and score"
   ],
   "execution_count": null,
   "outputs": []
  },
  {
   "cell_type": "code",
   "execution_count": null,
   "metadata": {},
   "outputs": [],
   "source": [
    "gene_set_x_sample = pd.DataFrame(\n",
    "    index=gene_set_genes.keys(), columns=gene_x_sample.columns, dtype=float\n",
    ")\n",
    "\n",
    "gene_set_x_sample"
   ]
  },
  {
   "cell_type": "code",
   "execution_count": null,
   "metadata": {},
   "outputs": [],
   "source": [
    "for sample in gene_x_sample:\n",
    "\n",
    "    print(sample)\n",
    "\n",
    "    gene_score = gene_x_sample[sample]\n",
    "\n",
    "    for gene_set, gene_set_genes_ in gene_set_genes.items():\n",
    "\n",
    "        print(gene_set)\n",
    "\n",
    "        gene_set_x_sample.loc[gene_set, sample] = kraft.compute_set_enrichment(\n",
    "            gene_score, gene_set_genes_, title=\"{} {}\".format(sample, gene_set)\n",
    "        )\n",
    "\n",
    "gene_set_x_sample"
   ]
  },
  {
   "cell_type": "code",
   "execution_count": null,
   "metadata": {},
   "outputs": [],
   "source": [
    "gene_set_x_statistic = kraft.make_match_panel(\n",
    "    phenotype, gene_set_x_sample, match_function=compare_target_and_data_row,\n",
    ")\n",
    "\n",
    "gene_set_x_statistic"
   ]
  }
 ],
 "metadata": {
  "kernelspec": {
   "display_name": "Python 3",
   "language": "python",
   "name": "python3"
  },
  "language_info": {
   "codemirror_mode": {
    "name": "ipython",
    "version": 3
   },
   "file_extension": ".py",
   "mimetype": "text/x-python",
   "name": "python",
   "nbconvert_exporter": "python",
   "pygments_lexer": "ipython3",
   "version": "3.7.3"
  }
 },
 "nbformat": 4,
 "nbformat_minor": 4
}
