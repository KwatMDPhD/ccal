{
 "cells": [
  {
   "cell_type": "code",
   "execution_count": null,
   "metadata": {
    "execution": {
     "iopub.execute_input": "2021-05-31T06:00:26.563839Z",
     "iopub.status.busy": "2021-05-31T06:00:26.562921Z",
     "iopub.status.idle": "2021-05-31T06:00:26.576535Z",
     "shell.execute_reply": "2021-05-31T06:00:26.576983Z"
    }
   },
   "outputs": [],
   "source": [
    "%load_ext autoreload\n",
    "%autoreload 2"
   ]
  },
  {
   "cell_type": "code",
   "execution_count": null,
   "metadata": {
    "execution": {
     "iopub.execute_input": "2021-05-31T06:00:26.580367Z",
     "iopub.status.busy": "2021-05-31T06:00:26.579773Z",
     "iopub.status.idle": "2021-05-31T06:00:27.128950Z",
     "shell.execute_reply": "2021-05-31T06:00:27.129344Z"
    }
   },
   "outputs": [],
   "source": [
    "import kraft"
   ]
  },
  {
   "cell_type": "code",
   "execution_count": null,
   "metadata": {
    "execution": {
     "iopub.execute_input": "2021-05-31T06:00:27.132679Z",
     "iopub.status.busy": "2021-05-31T06:00:27.132117Z",
     "iopub.status.idle": "2021-05-31T06:00:27.151287Z",
     "shell.execute_reply": "2021-05-31T06:00:27.151681Z"
    }
   },
   "outputs": [],
   "source": [
    "import numpy as np"
   ]
  },
  {
   "cell_type": "code",
   "execution_count": null,
   "metadata": {
    "execution": {
     "iopub.execute_input": "2021-05-31T06:00:27.156184Z",
     "iopub.status.busy": "2021-05-31T06:00:27.155601Z",
     "iopub.status.idle": "2021-05-31T06:00:27.175158Z",
     "shell.execute_reply": "2021-05-31T06:00:27.175582Z"
    }
   },
   "outputs": [],
   "source": [
    "nu_po_di_ = [\n",
    "    [[-1], [0], [2]],\n",
    "    [[-1, -1], [0, 0], [2, 2]],\n",
    "    [[9, 0], [5, 0], [0, 9], [3, 2], [9, 9]],\n",
    "    [[0, -1, 8], [1, 0, 16], [2, 4, 24]],\n",
    "]\n",
    "\n",
    "nu_po_di_ = [np.asarray(nu_po_di) for nu_po_di in nu_po_di_]"
   ]
  },
  {
   "cell_type": "markdown",
   "metadata": {},
   "source": [
    "## get_probability"
   ]
  },
  {
   "cell_type": "code",
   "execution_count": null,
   "metadata": {
    "execution": {
     "iopub.execute_input": "2021-05-31T06:00:27.178901Z",
     "iopub.status.busy": "2021-05-31T06:00:27.178317Z",
     "iopub.status.idle": "2021-05-31T06:00:27.546939Z",
     "shell.execute_reply": "2021-05-31T06:00:27.547366Z"
    }
   },
   "outputs": [],
   "source": [
    "for nu_po_di in nu_po_di_:\n",
    "\n",
    "    kraft.probability.get_probability(nu_po_di)"
   ]
  },
  {
   "cell_type": "markdown",
   "metadata": {},
   "source": [
    "## get_posterior_probability"
   ]
  },
  {
   "cell_type": "code",
   "execution_count": null,
   "metadata": {
    "execution": {
     "iopub.execute_input": "2021-05-31T06:00:27.550684Z",
     "iopub.status.busy": "2021-05-31T06:00:27.550181Z",
     "iopub.status.idle": "2021-05-31T06:00:27.743097Z",
     "shell.execute_reply": "2021-05-31T06:00:27.743623Z"
    }
   },
   "outputs": [],
   "source": [
    "for nu_po_di in nu_po_di_:\n",
    "\n",
    "    kraft.probability.get_posterior_probability(nu_po_di)"
   ]
  },
  {
   "cell_type": "markdown",
   "metadata": {},
   "source": [
    "## plot_nomogram"
   ]
  }
 ],
 "metadata": {
  "kernelspec": {
   "display_name": "Python 3",
   "language": "python",
   "name": "python3"
  },
  "language_info": {
   "codemirror_mode": {
    "name": "ipython",
    "version": 3
   },
   "file_extension": ".py",
   "mimetype": "text/x-python",
   "name": "python",
   "nbconvert_exporter": "python",
   "pygments_lexer": "ipython3",
   "version": "3.8.9"
  }
 },
 "nbformat": 4,
 "nbformat_minor": 4
}
