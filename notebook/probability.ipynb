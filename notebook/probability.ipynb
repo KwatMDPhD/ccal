{
 "cells": [
  {
   "cell_type": "code",
   "execution_count": null,
   "metadata": {
    "execution": {
     "iopub.execute_input": "2021-05-29T23:05:57.511627Z",
     "iopub.status.busy": "2021-05-29T23:05:57.510846Z",
     "iopub.status.idle": "2021-05-29T23:05:57.525685Z",
     "shell.execute_reply": "2021-05-29T23:05:57.526133Z"
    }
   },
   "outputs": [],
   "source": [
    "%load_ext autoreload\n",
    "%autoreload 2"
   ]
  },
  {
   "cell_type": "code",
   "execution_count": null,
   "metadata": {
    "execution": {
     "iopub.execute_input": "2021-05-29T23:05:57.529689Z",
     "iopub.status.busy": "2021-05-29T23:05:57.529093Z",
     "iopub.status.idle": "2021-05-29T23:05:58.094754Z",
     "shell.execute_reply": "2021-05-29T23:05:58.095147Z"
    }
   },
   "outputs": [],
   "source": [
    "import kraft"
   ]
  },
  {
   "cell_type": "code",
   "execution_count": null,
   "metadata": {
    "execution": {
     "iopub.execute_input": "2021-05-29T23:05:58.098571Z",
     "iopub.status.busy": "2021-05-29T23:05:58.097913Z",
     "iopub.status.idle": "2021-05-29T23:05:58.114740Z",
     "shell.execute_reply": "2021-05-29T23:05:58.115291Z"
    }
   },
   "outputs": [],
   "source": [
    "import numpy as np"
   ]
  },
  {
   "cell_type": "code",
   "execution_count": null,
   "metadata": {
    "execution": {
     "iopub.execute_input": "2021-05-29T23:05:58.120258Z",
     "iopub.status.busy": "2021-05-29T23:05:58.119633Z",
     "iopub.status.idle": "2021-05-29T23:05:58.137252Z",
     "shell.execute_reply": "2021-05-29T23:05:58.137614Z"
    }
   },
   "outputs": [],
   "source": [
    "nu_po_di_ = [\n",
    "    [\n",
    "        [-1],\n",
    "        [0],\n",
    "        [2],\n",
    "    ],\n",
    "    [\n",
    "        [\n",
    "            -1,\n",
    "            -1,\n",
    "        ],\n",
    "        [\n",
    "            0,\n",
    "            0,\n",
    "        ],\n",
    "        [\n",
    "            2,\n",
    "            2,\n",
    "        ],\n",
    "    ],\n",
    "    [\n",
    "        [\n",
    "            9,\n",
    "            0,\n",
    "        ],\n",
    "        [\n",
    "            5,\n",
    "            0,\n",
    "        ],\n",
    "        [\n",
    "            0,\n",
    "            9,\n",
    "        ],\n",
    "        [\n",
    "            3,\n",
    "            2,\n",
    "        ],\n",
    "        [\n",
    "            9,\n",
    "            9,\n",
    "        ],\n",
    "    ],\n",
    "    [\n",
    "        [\n",
    "            0,\n",
    "            -1,\n",
    "            8,\n",
    "        ],\n",
    "        [\n",
    "            1,\n",
    "            0,\n",
    "            16,\n",
    "        ],\n",
    "        [\n",
    "            2,\n",
    "            4,\n",
    "            24,\n",
    "        ],\n",
    "    ],\n",
    "]\n",
    "\n",
    "nu_po_di_ = [np.asarray(nu_po_di) for nu_po_di in nu_po_di_]"
   ]
  },
  {
   "cell_type": "markdown",
   "metadata": {},
   "source": [
    "## get_probability"
   ]
  },
  {
   "cell_type": "code",
   "execution_count": null,
   "metadata": {
    "execution": {
     "iopub.execute_input": "2021-05-29T23:05:58.140952Z",
     "iopub.status.busy": "2021-05-29T23:05:58.140425Z",
     "iopub.status.idle": "2021-05-29T23:05:58.511505Z",
     "shell.execute_reply": "2021-05-29T23:05:58.511870Z"
    }
   },
   "outputs": [],
   "source": [
    "for nu_po_di in nu_po_di_:\n",
    "\n",
    "    kraft.probability.get_probability(nu_po_di)"
   ]
  },
  {
   "cell_type": "markdown",
   "metadata": {},
   "source": [
    "## get_posterior_probability"
   ]
  },
  {
   "cell_type": "code",
   "execution_count": null,
   "metadata": {
    "execution": {
     "iopub.execute_input": "2021-05-29T23:05:58.515123Z",
     "iopub.status.busy": "2021-05-29T23:05:58.514610Z",
     "iopub.status.idle": "2021-05-29T23:05:58.707666Z",
     "shell.execute_reply": "2021-05-29T23:05:58.708120Z"
    }
   },
   "outputs": [],
   "source": [
    "for nu_po_di in nu_po_di_:\n",
    "\n",
    "    kraft.probability.get_posterior_probability(nu_po_di)"
   ]
  },
  {
   "cell_type": "markdown",
   "metadata": {},
   "source": [
    "## plot_nomogram"
   ]
  }
 ],
 "metadata": {
  "kernelspec": {
   "display_name": "Python 3",
   "language": "python",
   "name": "python3"
  },
  "language_info": {
   "codemirror_mode": {
    "name": "ipython",
    "version": 3
   },
   "file_extension": ".py",
   "mimetype": "text/x-python",
   "name": "python",
   "nbconvert_exporter": "python",
   "pygments_lexer": "ipython3",
   "version": "3.8.9"
  }
 },
 "nbformat": 4,
 "nbformat_minor": 4
}
