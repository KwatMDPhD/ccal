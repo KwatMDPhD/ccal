{
 "cells": [
  {
   "cell_type": "code",
   "execution_count": null,
   "metadata": {},
   "outputs": [],
   "source": [
    "%load_ext autoreload\n",
    "%autoreload 2"
   ]
  },
  {
   "cell_type": "code",
   "execution_count": null,
   "metadata": {},
   "outputs": [],
   "source": [
    "import kraft\n",
    "import numpy as np"
   ]
  },
  {
   "cell_type": "code",
   "execution_count": null,
   "metadata": {},
   "outputs": [],
   "source": [
    "point_x_dimensions = (\n",
    "    np.asarray(((0,), (1,), (2,))),\n",
    "    np.asarray(((0, -1), (1, 0), (2, 4))),\n",
    "    np.asarray(((0, -1, 8), (1, 0, 16), (2, 4, 24))),\n",
    ")"
   ]
  },
  {
   "cell_type": "markdown",
   "metadata": {},
   "source": [
    "## get_probability"
   ]
  },
  {
   "cell_type": "code",
   "execution_count": null,
   "metadata": {},
   "outputs": [],
   "source": [
    "for point_x_dimension in point_x_dimensions:\n",
    "\n",
    "    print(\"=\" * 80)\n",
    "\n",
    "    print(point_x_dimension)\n",
    "\n",
    "    grid_nd, grid_nd_probabilities = kraft.probability.get_probability(\n",
    "        point_x_dimension\n",
    "    )\n",
    "\n",
    "    print(grid_nd.shape)\n",
    "\n",
    "    print(grid_nd_probabilities.shape)"
   ]
  },
  {
   "cell_type": "markdown",
   "metadata": {},
   "source": [
    "## get_posterior_probability"
   ]
  },
  {
   "cell_type": "code",
   "execution_count": null,
   "metadata": {},
   "outputs": [],
   "source": [
    "for point_x_dimension in point_x_dimensions:\n",
    "\n",
    "    print(\"=\" * 80)\n",
    "\n",
    "    print(point_x_dimension)\n",
    "\n",
    "    (\n",
    "        grid_nd,\n",
    "        grid_nd_posterior_probabilities,\n",
    "    ) = kraft.probability.get_posterior_probability(point_x_dimension)\n",
    "\n",
    "    print(grid_nd.shape)\n",
    "\n",
    "    print(grid_nd_posterior_probabilities.shape)"
   ]
  },
  {
   "cell_type": "code",
   "execution_count": null,
   "metadata": {},
   "outputs": [],
   "source": [
    "for point_x_dimension in point_x_dimensions[1:]:\n",
    "\n",
    "    print(\"=\" * 80)\n",
    "\n",
    "    print(point_x_dimension)\n",
    "\n",
    "    (\n",
    "        grid_nd,\n",
    "        grid_nd_posterior_probabilities,\n",
    "    ) = kraft.probability.get_posterior_probability(\n",
    "        point_x_dimension, target_dimension_number=2.02\n",
    "    )\n",
    "\n",
    "    print(grid_nd.shape)\n",
    "\n",
    "    print(grid_nd_posterior_probabilities.shape)"
   ]
  },
  {
   "cell_type": "markdown",
   "metadata": {},
   "source": [
    "## plot_nomogram"
   ]
  }
 ],
 "metadata": {
  "kernelspec": {
   "display_name": "Python 3",
   "language": "python",
   "name": "python3"
  },
  "language_info": {
   "codemirror_mode": {
    "name": "ipython",
    "version": 3
   },
   "file_extension": ".py",
   "mimetype": "text/x-python",
   "name": "python",
   "nbconvert_exporter": "python",
   "pygments_lexer": "ipython3",
   "version": "3.7.8"
  }
 },
 "nbformat": 4,
 "nbformat_minor": 4
}
