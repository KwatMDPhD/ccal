{
 "cells": [
  {
   "cell_type": "code",
   "execution_count": null,
   "metadata": {
    "execution": {
     "iopub.execute_input": "2021-06-02T09:06:03.715638Z",
     "iopub.status.busy": "2021-06-02T09:06:03.714880Z",
     "iopub.status.idle": "2021-06-02T09:06:03.728509Z",
     "shell.execute_reply": "2021-06-02T09:06:03.728972Z"
    },
    "tags": []
   },
   "outputs": [],
   "source": [
    "%load_ext autoreload\n",
    "%autoreload 2"
   ]
  },
  {
   "cell_type": "code",
   "execution_count": null,
   "metadata": {
    "execution": {
     "iopub.execute_input": "2021-06-02T09:06:03.732352Z",
     "iopub.status.busy": "2021-06-02T09:06:03.731744Z",
     "iopub.status.idle": "2021-06-02T09:06:04.338102Z",
     "shell.execute_reply": "2021-06-02T09:06:04.338503Z"
    },
    "tags": []
   },
   "outputs": [],
   "source": [
    "import kraft"
   ]
  },
  {
   "cell_type": "code",
   "execution_count": null,
   "metadata": {
    "execution": {
     "iopub.execute_input": "2021-06-02T09:06:04.341990Z",
     "iopub.status.busy": "2021-06-02T09:06:04.341289Z",
     "iopub.status.idle": "2021-06-02T09:06:04.360119Z",
     "shell.execute_reply": "2021-06-02T09:06:04.360540Z"
    },
    "tags": []
   },
   "outputs": [],
   "source": [
    "import numpy as np"
   ]
  },
  {
   "cell_type": "code",
   "execution_count": null,
   "metadata": {
    "execution": {
     "iopub.execute_input": "2021-06-02T09:06:04.364874Z",
     "iopub.status.busy": "2021-06-02T09:06:04.364266Z",
     "iopub.status.idle": "2021-06-02T09:06:04.383041Z",
     "shell.execute_reply": "2021-06-02T09:06:04.383458Z"
    },
    "tags": []
   },
   "outputs": [],
   "source": [
    "nu_po_di_ = [\n",
    "    [[-1], [0], [2]],\n",
    "    [[-1, -1], [0, 0], [2, 2]],\n",
    "    [[9, 0], [5, 0], [0, 9], [3, 2], [9, 9]],\n",
    "    [[0, -1, 8], [1, 0, 16], [2, 4, 24]],\n",
    "]\n",
    "\n",
    "nu_po_di_ = [np.array(nu_po_di) for nu_po_di in nu_po_di_]"
   ]
  },
  {
   "cell_type": "markdown",
   "metadata": {},
   "source": [
    "## get_probability"
   ]
  },
  {
   "cell_type": "code",
   "execution_count": null,
   "metadata": {
    "execution": {
     "iopub.execute_input": "2021-06-02T09:06:04.386731Z",
     "iopub.status.busy": "2021-06-02T09:06:04.386064Z",
     "iopub.status.idle": "2021-06-02T09:06:04.778654Z",
     "shell.execute_reply": "2021-06-02T09:06:04.779011Z"
    },
    "tags": []
   },
   "outputs": [],
   "source": [
    "for nu_po_di in nu_po_di_:\n",
    "\n",
    "    kraft.probability.get_probability(nu_po_di)"
   ]
  },
  {
   "cell_type": "markdown",
   "metadata": {},
   "source": [
    "## get_posterior_probability"
   ]
  },
  {
   "cell_type": "code",
   "execution_count": null,
   "metadata": {
    "execution": {
     "iopub.execute_input": "2021-06-02T09:06:04.782400Z",
     "iopub.status.busy": "2021-06-02T09:06:04.781893Z",
     "iopub.status.idle": "2021-06-02T09:06:05.025236Z",
     "shell.execute_reply": "2021-06-02T09:06:05.025653Z"
    },
    "tags": []
   },
   "outputs": [],
   "source": [
    "for nu_po_di in nu_po_di_:\n",
    "\n",
    "    kraft.probability.get_posterior_probability(nu_po_di)"
   ]
  },
  {
   "cell_type": "markdown",
   "metadata": {},
   "source": [
    "## plot_nomogram"
   ]
  }
 ],
 "metadata": {
  "kernelspec": {
   "display_name": "Python 3",
   "language": "python",
   "name": "python3"
  },
  "language_info": {
   "codemirror_mode": {
    "name": "ipython",
    "version": 3
   },
   "file_extension": ".py",
   "mimetype": "text/x-python",
   "name": "python",
   "nbconvert_exporter": "python",
   "pygments_lexer": "ipython3",
   "version": "3.8.9"
  }
 },
 "nbformat": 4,
 "nbformat_minor": 4
}
