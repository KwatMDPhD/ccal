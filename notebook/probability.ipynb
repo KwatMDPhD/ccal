{
 "cells": [
  {
   "cell_type": "code",
   "execution_count": null,
   "metadata": {
    "execution": {
     "iopub.execute_input": "2021-05-31T22:30:05.470739Z",
     "iopub.status.busy": "2021-05-31T22:30:05.469971Z",
     "iopub.status.idle": "2021-05-31T22:30:05.485279Z",
     "shell.execute_reply": "2021-05-31T22:30:05.485807Z"
    },
    "tags": []
   },
   "outputs": [],
   "source": [
    "%load_ext autoreload\n",
    "%autoreload 2"
   ]
  },
  {
   "cell_type": "code",
   "execution_count": null,
   "metadata": {
    "execution": {
     "iopub.execute_input": "2021-05-31T22:30:05.489256Z",
     "iopub.status.busy": "2021-05-31T22:30:05.488662Z",
     "iopub.status.idle": "2021-05-31T22:30:06.017191Z",
     "shell.execute_reply": "2021-05-31T22:30:06.017546Z"
    },
    "tags": []
   },
   "outputs": [],
   "source": [
    "import kraft"
   ]
  },
  {
   "cell_type": "code",
   "execution_count": null,
   "metadata": {
    "execution": {
     "iopub.execute_input": "2021-05-31T22:30:06.020494Z",
     "iopub.status.busy": "2021-05-31T22:30:06.019997Z",
     "iopub.status.idle": "2021-05-31T22:30:06.037261Z",
     "shell.execute_reply": "2021-05-31T22:30:06.037647Z"
    },
    "tags": []
   },
   "outputs": [],
   "source": [
    "import numpy as np"
   ]
  },
  {
   "cell_type": "code",
   "execution_count": null,
   "metadata": {
    "execution": {
     "iopub.execute_input": "2021-05-31T22:30:06.042131Z",
     "iopub.status.busy": "2021-05-31T22:30:06.041547Z",
     "iopub.status.idle": "2021-05-31T22:30:06.060728Z",
     "shell.execute_reply": "2021-05-31T22:30:06.061146Z"
    },
    "tags": []
   },
   "outputs": [],
   "source": [
    "nu_po_di_ = [\n",
    "    [[-1], [0], [2]],\n",
    "    [[-1, -1], [0, 0], [2, 2]],\n",
    "    [[9, 0], [5, 0], [0, 9], [3, 2], [9, 9]],\n",
    "    [[0, -1, 8], [1, 0, 16], [2, 4, 24]],\n",
    "]\n",
    "\n",
    "nu_po_di_ = [np.asarray(nu_po_di) for nu_po_di in nu_po_di_]"
   ]
  },
  {
   "cell_type": "markdown",
   "metadata": {},
   "source": [
    "## get_probability"
   ]
  },
  {
   "cell_type": "code",
   "execution_count": null,
   "metadata": {
    "execution": {
     "iopub.execute_input": "2021-05-31T22:30:06.064572Z",
     "iopub.status.busy": "2021-05-31T22:30:06.063958Z",
     "iopub.status.idle": "2021-05-31T22:30:06.422842Z",
     "shell.execute_reply": "2021-05-31T22:30:06.423211Z"
    },
    "tags": []
   },
   "outputs": [],
   "source": [
    "for nu_po_di in nu_po_di_:\n",
    "\n",
    "    kraft.probability.get_probability(nu_po_di)"
   ]
  },
  {
   "cell_type": "markdown",
   "metadata": {},
   "source": [
    "## get_posterior_probability"
   ]
  },
  {
   "cell_type": "code",
   "execution_count": null,
   "metadata": {
    "execution": {
     "iopub.execute_input": "2021-05-31T22:30:06.426498Z",
     "iopub.status.busy": "2021-05-31T22:30:06.425940Z",
     "iopub.status.idle": "2021-05-31T22:30:06.615106Z",
     "shell.execute_reply": "2021-05-31T22:30:06.615462Z"
    },
    "tags": []
   },
   "outputs": [],
   "source": [
    "for nu_po_di in nu_po_di_:\n",
    "\n",
    "    kraft.probability.get_posterior_probability(nu_po_di)"
   ]
  },
  {
   "cell_type": "markdown",
   "metadata": {},
   "source": [
    "## plot_nomogram"
   ]
  }
 ],
 "metadata": {
  "kernelspec": {
   "display_name": "Python 3",
   "language": "python",
   "name": "python3"
  },
  "language_info": {
   "codemirror_mode": {
    "name": "ipython",
    "version": 3
   },
   "file_extension": ".py",
   "mimetype": "text/x-python",
   "name": "python",
   "nbconvert_exporter": "python",
   "pygments_lexer": "ipython3",
   "version": "3.8.9"
  }
 },
 "nbformat": 4,
 "nbformat_minor": 4
}
