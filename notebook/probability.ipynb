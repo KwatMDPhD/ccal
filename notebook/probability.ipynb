{
 "cells": [
  {
   "cell_type": "code",
   "execution_count": null,
   "metadata": {
    "execution": {
     "iopub.execute_input": "2021-05-30T23:49:08.915279Z",
     "iopub.status.busy": "2021-05-30T23:49:08.914331Z",
     "iopub.status.idle": "2021-05-30T23:49:08.928883Z",
     "shell.execute_reply": "2021-05-30T23:49:08.929323Z"
    }
   },
   "outputs": [],
   "source": [
    "%load_ext autoreload\n",
    "%autoreload 2"
   ]
  },
  {
   "cell_type": "code",
   "execution_count": null,
   "metadata": {
    "execution": {
     "iopub.execute_input": "2021-05-30T23:49:08.932753Z",
     "iopub.status.busy": "2021-05-30T23:49:08.932161Z",
     "iopub.status.idle": "2021-05-30T23:49:09.472782Z",
     "shell.execute_reply": "2021-05-30T23:49:09.473156Z"
    }
   },
   "outputs": [],
   "source": [
    "import kraft"
   ]
  },
  {
   "cell_type": "code",
   "execution_count": null,
   "metadata": {
    "execution": {
     "iopub.execute_input": "2021-05-30T23:49:09.476174Z",
     "iopub.status.busy": "2021-05-30T23:49:09.475644Z",
     "iopub.status.idle": "2021-05-30T23:49:09.492555Z",
     "shell.execute_reply": "2021-05-30T23:49:09.492929Z"
    }
   },
   "outputs": [],
   "source": [
    "import numpy as np"
   ]
  },
  {
   "cell_type": "code",
   "execution_count": null,
   "metadata": {
    "execution": {
     "iopub.execute_input": "2021-05-30T23:49:09.498494Z",
     "iopub.status.busy": "2021-05-30T23:49:09.497875Z",
     "iopub.status.idle": "2021-05-30T23:49:09.516739Z",
     "shell.execute_reply": "2021-05-30T23:49:09.517159Z"
    }
   },
   "outputs": [],
   "source": [
    "nu_po_di_ = [\n",
    "    [[-1], [0], [2]],\n",
    "    [[-1, -1], [0, 0], [2, 2]],\n",
    "    [[9, 0], [5, 0], [0, 9], [3, 2], [9, 9]],\n",
    "    [[0, -1, 8], [1, 0, 16], [2, 4, 24]],\n",
    "]\n",
    "\n",
    "nu_po_di_ = [np.asarray(nu_po_di) for nu_po_di in nu_po_di_]"
   ]
  },
  {
   "cell_type": "markdown",
   "metadata": {},
   "source": [
    "## get_probability"
   ]
  },
  {
   "cell_type": "code",
   "execution_count": null,
   "metadata": {
    "execution": {
     "iopub.execute_input": "2021-05-30T23:49:09.520486Z",
     "iopub.status.busy": "2021-05-30T23:49:09.519913Z",
     "iopub.status.idle": "2021-05-30T23:49:09.882204Z",
     "shell.execute_reply": "2021-05-30T23:49:09.881823Z"
    }
   },
   "outputs": [],
   "source": [
    "for nu_po_di in nu_po_di_:\n",
    "\n",
    "    kraft.probability.get_probability(nu_po_di)"
   ]
  },
  {
   "cell_type": "markdown",
   "metadata": {},
   "source": [
    "## get_posterior_probability"
   ]
  },
  {
   "cell_type": "code",
   "execution_count": null,
   "metadata": {
    "execution": {
     "iopub.execute_input": "2021-05-30T23:49:09.885428Z",
     "iopub.status.busy": "2021-05-30T23:49:09.884932Z",
     "iopub.status.idle": "2021-05-30T23:49:10.086562Z",
     "shell.execute_reply": "2021-05-30T23:49:10.086963Z"
    }
   },
   "outputs": [],
   "source": [
    "for nu_po_di in nu_po_di_:\n",
    "\n",
    "    kraft.probability.get_posterior_probability(nu_po_di)"
   ]
  },
  {
   "cell_type": "markdown",
   "metadata": {},
   "source": [
    "## plot_nomogram"
   ]
  }
 ],
 "metadata": {
  "kernelspec": {
   "display_name": "Python 3",
   "language": "python",
   "name": "python3"
  },
  "language_info": {
   "codemirror_mode": {
    "name": "ipython",
    "version": 3
   },
   "file_extension": ".py",
   "mimetype": "text/x-python",
   "name": "python",
   "nbconvert_exporter": "python",
   "pygments_lexer": "ipython3",
   "version": "3.8.9"
  }
 },
 "nbformat": 4,
 "nbformat_minor": 4
}
