{
 "cells": [
  {
   "cell_type": "code",
   "execution_count": null,
   "metadata": {
    "ExecuteTime": {
     "end_time": "2018-05-15T09:36:25.109134Z",
     "start_time": "2018-05-15T09:36:24.984187Z"
    }
   },
   "outputs": [],
   "source": [
    "%load_ext autoreload\n",
    "%autoreload 2"
   ]
  },
  {
   "cell_type": "code",
   "execution_count": null,
   "metadata": {},
   "outputs": [],
   "source": [
    "import os\n",
    "import sys\n",
    "\n",
    "import numpy as np\n",
    "import pandas as pd\n",
    "import plotly as pl"
   ]
  },
  {
   "cell_type": "code",
   "execution_count": null,
   "metadata": {},
   "outputs": [],
   "source": [
    "sys.path.insert(0, \"..\")\n",
    "\n",
    "import ccal\n",
    "\n",
    "np.random.random(20121020)\n",
    "\n",
    "pl.offline.init_notebook_mode(connected=True)"
   ]
  },
  {
   "cell_type": "code",
   "execution_count": null,
   "metadata": {
    "ExecuteTime": {
     "end_time": "2018-05-15T09:36:28.226979Z",
     "start_time": "2018-05-15T09:36:27.718823Z"
    }
   },
   "outputs": [],
   "source": [
    "df = pd.read_table(\"titanic.tsv\", index_col=0)\n",
    "\n",
    "df = df[[\"sex\", \"age\", \"fare\", \"survived\"]].dropna()\n",
    "\n",
    "df"
   ]
  },
  {
   "cell_type": "code",
   "execution_count": null,
   "metadata": {
    "ExecuteTime": {
     "end_time": "2018-05-15T09:36:32.320959Z",
     "start_time": "2018-05-15T09:36:28.241752Z"
    }
   },
   "outputs": [],
   "source": [
    "sys.path.insert(0, \"../../nd_array\")\n",
    "\n",
    "g = np.asarray(df[\"sex\"] == \"male\", dtype=int)\n",
    "\n",
    "g_name = \"Gender\"\n",
    "\n",
    "a = np.asarray(df[\"age\"])\n",
    "\n",
    "a_name = \"Age\"\n",
    "\n",
    "f = ccal.log_nd_array(\n",
    "    df[\"fare\"].values, shift_as_necessary_to_achieve_min_before_logging=\"0<\"\n",
    ")\n",
    "\n",
    "f_name = \"Fare\"\n",
    "\n",
    "s = np.asarray(df[\"survived\"])\n",
    "\n",
    "s_name = \"Survival\"\n",
    "\n",
    "ccal.plot_histogram(\n",
    "    (g, a, f, s),\n",
    "    names=(g_name, a_name, f_name, s_name),\n",
    "    title=\"Variable Distributions\",\n",
    "    xaxis_title=\"Variable Value\",\n",
    ")"
   ]
  },
  {
   "cell_type": "code",
   "execution_count": null,
   "metadata": {
    "ExecuteTime": {
     "end_time": "2018-05-15T09:36:32.555517Z",
     "start_time": "2018-05-15T09:36:32.355179Z"
    }
   },
   "outputs": [],
   "source": [
    "p_s1 = (s == 1).sum() / s.size\n",
    "\n",
    "p_s1"
   ]
  },
  {
   "cell_type": "code",
   "execution_count": null,
   "metadata": {
    "ExecuteTime": {
     "end_time": "2018-05-15T09:36:32.794005Z",
     "start_time": "2018-05-15T09:36:32.570037Z"
    }
   },
   "outputs": [],
   "source": [
    "grid_size = 32"
   ]
  },
  {
   "cell_type": "code",
   "execution_count": null,
   "metadata": {
    "ExecuteTime": {
     "end_time": "2018-05-15T09:36:36.773395Z",
     "start_time": "2018-05-15T09:36:33.177534Z"
    }
   },
   "outputs": [],
   "source": [
    "p_s__g, p_s1__g = ccal.infer(\n",
    "    (g, s), grid_size=grid_size, target=1, names=(g_name, s_name)\n",
    ")\n",
    "\n",
    "p_s__a, p_s1__a = ccal.infer(\n",
    "    (a, s), grid_size=grid_size, target=1, names=(a_name, s_name)\n",
    ")\n",
    "\n",
    "p_s__f, p_s1__f = ccal.infer(\n",
    "    (f, s), grid_size=grid_size, target=1, names=(f_name, s_name)\n",
    ")"
   ]
  },
  {
   "cell_type": "code",
   "execution_count": null,
   "metadata": {
    "ExecuteTime": {
     "end_time": "2018-05-15T09:37:04.471741Z",
     "start_time": "2018-05-15T09:36:36.797632Z"
    }
   },
   "outputs": [],
   "source": [
    "p_s__a_f, p_s1__a_f = ccal.infer(\n",
    "    (a, f, s), grid_size=grid_size, target=1, names=(a_name, f_name, s_name)\n",
    ")\n",
    "\n",
    "p_s__a_f_naive, p_s1__a_f_naive = ccal.infer_assuming_independence(\n",
    "    (a, f, s), grid_size=grid_size, target=1, names=(a_name, f_name, s_name)\n",
    ")"
   ]
  },
  {
   "cell_type": "code",
   "execution_count": null,
   "metadata": {
    "ExecuteTime": {
     "end_time": "2018-05-15T09:37:20.370751Z",
     "start_time": "2018-05-15T09:37:04.477354Z"
    }
   },
   "outputs": [],
   "source": [
    "from sklearn.metrics import auc, roc_curve\n",
    "\n",
    "maths = (\n",
    "    \"P(S = 1 | G)\",\n",
    "    \"P(S = 1 | A)\",\n",
    "    \"P(S = 1 | F)\",\n",
    "    \"P(S = 1 | A, F)\",\n",
    "    \"P(S = 1 | A, F) (naive)\",\n",
    ")\n",
    "\n",
    "math_roc = {math: {} for math in maths}\n",
    "\n",
    "for math, p_s1__v, vs in zip(\n",
    "    maths,\n",
    "    (p_s1__g, p_s1__a, p_s1__f, p_s1__a_f, p_s1__a_f_naive),\n",
    "    ((g,), (a,), (f,), (a, f), (a, f)),\n",
    "):\n",
    "\n",
    "    p_s1__vv = np.full(s.size, np.nan)\n",
    "\n",
    "    for i in range(s.size):\n",
    "\n",
    "        coordinate = [\n",
    "            [np.argmin(abs(np.linspace(v.min(), v.max(), grid_size) - v[i]))]\n",
    "            for v in vs\n",
    "        ]\n",
    "\n",
    "        p_s1__vv[i] = p_s1__v[coordinate]\n",
    "\n",
    "    fpr, tpr, t = roc_curve(s, ccal.normalize_nd_array(p_s1__vv, None, \"0-1\"))\n",
    "\n",
    "    math_roc[math][\"fpr\"] = fpr\n",
    "\n",
    "    math_roc[math][\"tpr\"] = tpr\n",
    "\n",
    "    auc_ = auc(fpr, tpr)\n",
    "\n",
    "    math_roc[math][\"auc\"] = auc_\n",
    "\n",
    "    n_permutation_for_roc = 1000\n",
    "\n",
    "    permuting_aucs = np.full(n_permutation_for_roc, np.nan)\n",
    "\n",
    "    permuting_s = s.copy()\n",
    "\n",
    "    for i in range(n_permutation_for_roc):\n",
    "\n",
    "        np.random.shuffle(permuting_s)\n",
    "\n",
    "        permuting_fpr, permuting_tpr, permuting_t = roc_curve(permuting_s, p_s1__vv)\n",
    "\n",
    "        permuting_aucs[i] = auc(permuting_fpr, permuting_tpr)\n",
    "\n",
    "    math_roc[math][\"p-value\"] = ccal.compute_empirical_p_value(\n",
    "        auc_, permuting_aucs, \"great\"\n",
    "    )"
   ]
  },
  {
   "cell_type": "code",
   "execution_count": null,
   "metadata": {
    "ExecuteTime": {
     "end_time": "2018-05-15T09:37:20.971630Z",
     "start_time": "2018-05-15T09:37:20.665810Z"
    }
   },
   "outputs": [],
   "source": [
    "ccal.plot_bayesian_nomogram(\n",
    "    s, 1, 0, grid_size, (p_s__g, p_s__a, p_s__f), (g_name, a_name, f_name)\n",
    ")"
   ]
  },
  {
   "cell_type": "code",
   "execution_count": null,
   "metadata": {
    "ExecuteTime": {
     "end_time": "2018-05-15T09:37:20.654097Z",
     "start_time": "2018-05-15T09:37:20.375521Z"
    }
   },
   "outputs": [],
   "source": [
    "random_roc = np.linspace(0, 1, 16)\n",
    "\n",
    "ccal.plot_points(\n",
    "    (random_roc,) + tuple(math_roc[math][\"fpr\"] for math in maths),\n",
    "    (random_roc,) + tuple(math_roc[math][\"tpr\"] for math in maths),\n",
    "    names=(\"Random ROC\",)\n",
    "    + tuple(\n",
    "        \"{} | {:0.3f} | {:0.1e}\".format(\n",
    "            math, math_roc[math][\"auc\"], math_roc[math][\"p-value\"]\n",
    "        )\n",
    "        for math in maths\n",
    "    ),\n",
    "    modes=(\"markers\",) + (\"markers + lines\",) * len(maths),\n",
    "    title=\"ROC: G={}, A={}, F={}\".format(g_name, a_name, f_name),\n",
    "    xaxis_title=\"False Positive Rate\",\n",
    "    yaxis_title=\"True Positive Rate\",\n",
    "    legend_orientation=\"h\",\n",
    ")"
   ]
  }
 ],
 "metadata": {
  "kernelspec": {
   "display_name": "Python 3",
   "language": "python",
   "name": "python3"
  },
  "language_info": {
   "codemirror_mode": {
    "name": "ipython",
    "version": 3
   },
   "file_extension": ".py",
   "mimetype": "text/x-python",
   "name": "python",
   "nbconvert_exporter": "python",
   "pygments_lexer": "ipython3",
   "version": "3.6.7"
  }
 },
 "nbformat": 4,
 "nbformat_minor": 2
}
