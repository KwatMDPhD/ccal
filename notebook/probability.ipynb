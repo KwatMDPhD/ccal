{
 "cells": [
  {
   "cell_type": "code",
   "execution_count": null,
   "metadata": {
    "execution": {
     "iopub.execute_input": "2021-05-30T07:00:49.287708Z",
     "iopub.status.busy": "2021-05-30T07:00:49.286992Z",
     "iopub.status.idle": "2021-05-30T07:00:49.299953Z",
     "shell.execute_reply": "2021-05-30T07:00:49.300492Z"
    }
   },
   "outputs": [],
   "source": [
    "%load_ext autoreload\n",
    "%autoreload 2"
   ]
  },
  {
   "cell_type": "code",
   "execution_count": null,
   "metadata": {
    "execution": {
     "iopub.execute_input": "2021-05-30T07:00:49.303873Z",
     "iopub.status.busy": "2021-05-30T07:00:49.303279Z",
     "iopub.status.idle": "2021-05-30T07:00:49.850143Z",
     "shell.execute_reply": "2021-05-30T07:00:49.850507Z"
    }
   },
   "outputs": [],
   "source": [
    "import kraft"
   ]
  },
  {
   "cell_type": "code",
   "execution_count": null,
   "metadata": {
    "execution": {
     "iopub.execute_input": "2021-05-30T07:00:49.853614Z",
     "iopub.status.busy": "2021-05-30T07:00:49.853053Z",
     "iopub.status.idle": "2021-05-30T07:00:49.871937Z",
     "shell.execute_reply": "2021-05-30T07:00:49.871471Z"
    }
   },
   "outputs": [],
   "source": [
    "import numpy as np"
   ]
  },
  {
   "cell_type": "code",
   "execution_count": null,
   "metadata": {
    "execution": {
     "iopub.execute_input": "2021-05-30T07:00:49.877127Z",
     "iopub.status.busy": "2021-05-30T07:00:49.876526Z",
     "iopub.status.idle": "2021-05-30T07:00:49.895249Z",
     "shell.execute_reply": "2021-05-30T07:00:49.895736Z"
    }
   },
   "outputs": [],
   "source": [
    "nu_po_di_ = [\n",
    "    [\n",
    "        [-1],\n",
    "        [0],\n",
    "        [2],\n",
    "    ],\n",
    "    [\n",
    "        [\n",
    "            -1,\n",
    "            -1,\n",
    "        ],\n",
    "        [\n",
    "            0,\n",
    "            0,\n",
    "        ],\n",
    "        [\n",
    "            2,\n",
    "            2,\n",
    "        ],\n",
    "    ],\n",
    "    [\n",
    "        [\n",
    "            9,\n",
    "            0,\n",
    "        ],\n",
    "        [\n",
    "            5,\n",
    "            0,\n",
    "        ],\n",
    "        [\n",
    "            0,\n",
    "            9,\n",
    "        ],\n",
    "        [\n",
    "            3,\n",
    "            2,\n",
    "        ],\n",
    "        [\n",
    "            9,\n",
    "            9,\n",
    "        ],\n",
    "    ],\n",
    "    [\n",
    "        [\n",
    "            0,\n",
    "            -1,\n",
    "            8,\n",
    "        ],\n",
    "        [\n",
    "            1,\n",
    "            0,\n",
    "            16,\n",
    "        ],\n",
    "        [\n",
    "            2,\n",
    "            4,\n",
    "            24,\n",
    "        ],\n",
    "    ],\n",
    "]\n",
    "\n",
    "nu_po_di_ = [np.asarray(nu_po_di) for nu_po_di in nu_po_di_]"
   ]
  },
  {
   "cell_type": "markdown",
   "metadata": {},
   "source": [
    "## get_probability"
   ]
  },
  {
   "cell_type": "code",
   "execution_count": null,
   "metadata": {
    "execution": {
     "iopub.execute_input": "2021-05-30T07:00:49.898991Z",
     "iopub.status.busy": "2021-05-30T07:00:49.898404Z",
     "iopub.status.idle": "2021-05-30T07:00:50.279194Z",
     "shell.execute_reply": "2021-05-30T07:00:50.279553Z"
    }
   },
   "outputs": [],
   "source": [
    "for nu_po_di in nu_po_di_:\n",
    "\n",
    "    kraft.probability.get_probability(nu_po_di)"
   ]
  },
  {
   "cell_type": "markdown",
   "metadata": {},
   "source": [
    "## get_posterior_probability"
   ]
  },
  {
   "cell_type": "code",
   "execution_count": null,
   "metadata": {
    "execution": {
     "iopub.execute_input": "2021-05-30T07:00:50.282543Z",
     "iopub.status.busy": "2021-05-30T07:00:50.282041Z",
     "iopub.status.idle": "2021-05-30T07:00:50.474496Z",
     "shell.execute_reply": "2021-05-30T07:00:50.474846Z"
    }
   },
   "outputs": [],
   "source": [
    "for nu_po_di in nu_po_di_:\n",
    "\n",
    "    kraft.probability.get_posterior_probability(nu_po_di)"
   ]
  },
  {
   "cell_type": "markdown",
   "metadata": {},
   "source": [
    "## plot_nomogram"
   ]
  }
 ],
 "metadata": {
  "kernelspec": {
   "display_name": "Python 3",
   "language": "python",
   "name": "python3"
  },
  "language_info": {
   "codemirror_mode": {
    "name": "ipython",
    "version": 3
   },
   "file_extension": ".py",
   "mimetype": "text/x-python",
   "name": "python",
   "nbconvert_exporter": "python",
   "pygments_lexer": "ipython3",
   "version": "3.8.9"
  }
 },
 "nbformat": 4,
 "nbformat_minor": 4
}
