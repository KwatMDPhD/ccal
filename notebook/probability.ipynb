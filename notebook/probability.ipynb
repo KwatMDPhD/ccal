{
 "cells": [
  {
   "cell_type": "code",
   "execution_count": null,
   "metadata": {
    "ExecuteTime": {
     "end_time": "2018-05-15T09:32:46.327484Z",
     "start_time": "2018-05-15T09:32:46.225291Z"
    }
   },
   "outputs": [],
   "source": [
    "%load_ext autoreload\n",
    "%autoreload 2"
   ]
  },
  {
   "cell_type": "code",
   "execution_count": null,
   "metadata": {},
   "outputs": [],
   "source": [
    "import plotly as pl"
   ]
  },
  {
   "cell_type": "code",
   "execution_count": null,
   "metadata": {
    "ExecuteTime": {
     "end_time": "2018-05-15T09:32:46.759587Z",
     "start_time": "2018-05-15T09:32:46.332615Z"
    }
   },
   "outputs": [],
   "source": [
    "pl.offline.init_notebook_mode(connected=True)"
   ]
  },
  {
   "cell_type": "code",
   "execution_count": null,
   "metadata": {},
   "outputs": [],
   "source": [
    "import numpy as np"
   ]
  },
  {
   "cell_type": "code",
   "execution_count": null,
   "metadata": {},
   "outputs": [],
   "source": [
    "import kraft"
   ]
  },
  {
   "cell_type": "code",
   "execution_count": null,
   "metadata": {},
   "outputs": [],
   "source": [
    "observation_x_dimension = np.random.normal(size=(100, 1))\n",
    "\n",
    "n_dimension = observation_x_dimension.shape[1]\n",
    "\n",
    "for estimate_kernel_density_keyword_arguments in (\n",
    "    {},\n",
    "    {\"dimension_n_grids\": (8,) * n_dimension},\n",
    "    {\"dimension_n_grids\": (512,) * n_dimension},\n",
    "    {\n",
    "        \"dimension_grid_maxs\": tuple(\n",
    "            observation_x_dimension[:, i].max() * 3 for i in range(n_dimension)\n",
    "        ),\n",
    "        \"dimension_fraction_grid_extensions\": (1 / 1000,) * n_dimension,\n",
    "    },\n",
    "):\n",
    "\n",
    "    print(estimate_kernel_density_keyword_arguments)\n",
    "\n",
    "    kraft.compute_joint_probability(\n",
    "        observation_x_dimension, **estimate_kernel_density_keyword_arguments\n",
    "    )\n",
    "\n",
    "    kraft.compute_element_x_dimension_posterior_probability(\n",
    "        observation_x_dimension, **estimate_kernel_density_keyword_arguments\n",
    "    )"
   ]
  },
  {
   "cell_type": "code",
   "execution_count": null,
   "metadata": {
    "ExecuteTime": {
     "end_time": "2018-05-15T09:33:18.619153Z",
     "start_time": "2018-05-15T09:32:59.802493Z"
    }
   },
   "outputs": [],
   "source": [
    "observation_x_dimension = np.asarray((np.arange(8), np.arange(2, 18, 2))).T\n",
    "\n",
    "n_dimension = observation_x_dimension.shape[1]\n",
    "\n",
    "for estimate_kernel_density_keyword_arguments in (\n",
    "    {},\n",
    "    {\"dimension_n_grids\": (8,) * n_dimension},\n",
    "    {\"dimension_n_grids\": (512,) * n_dimension},\n",
    "    {\n",
    "        \"dimension_grid_maxs\": tuple(\n",
    "            observation_x_dimension[:, i].max() * 3 for i in range(n_dimension)\n",
    "        ),\n",
    "        \"dimension_fraction_grid_extensions\": (1 / 1000,) * n_dimension,\n",
    "    },\n",
    "):\n",
    "\n",
    "    print(estimate_kernel_density_keyword_arguments)\n",
    "\n",
    "    kraft.compute_joint_probability(\n",
    "        observation_x_dimension, **estimate_kernel_density_keyword_arguments\n",
    "    )\n",
    "\n",
    "    kraft.compute_element_x_dimension_posterior_probability(\n",
    "        observation_x_dimension, **estimate_kernel_density_keyword_arguments\n",
    "    )"
   ]
  },
  {
   "cell_type": "code",
   "execution_count": null,
   "metadata": {},
   "outputs": [],
   "source": [
    "n_dimension = 3\n",
    "\n",
    "observation_x_dimension = np.random.normal(size=(100, n_dimension))\n",
    "\n",
    "for estimate_kernel_density_keyword_arguments in (\n",
    "    {},\n",
    "    {\"dimension_n_grids\": (8,) * n_dimension},\n",
    "    # {\"dimension_n_grids\": (512,) * n_dimension},\n",
    "    {\n",
    "        \"dimension_grid_maxs\": tuple(\n",
    "            observation_x_dimension[:, i].max() * 3 for i in range(n_dimension)\n",
    "        ),\n",
    "        \"dimension_fraction_grid_extensions\": (1 / 1000,) * n_dimension,\n",
    "    },\n",
    "):\n",
    "\n",
    "    print(estimate_kernel_density_keyword_arguments)\n",
    "\n",
    "    kraft.compute_joint_probability(\n",
    "        observation_x_dimension, **estimate_kernel_density_keyword_arguments\n",
    "    )\n",
    "\n",
    "    kraft.compute_element_x_dimension_posterior_probability(\n",
    "        observation_x_dimension, **estimate_kernel_density_keyword_arguments\n",
    "    )"
   ]
  }
 ],
 "metadata": {
  "@webio": {
   "lastCommId": null,
   "lastKernelId": null
  },
  "kernelspec": {
   "display_name": "Python 3",
   "language": "python",
   "name": "python3"
  },
  "language_info": {
   "codemirror_mode": {
    "name": "ipython",
    "version": 3
   },
   "file_extension": ".py",
   "mimetype": "text/x-python",
   "name": "python",
   "nbconvert_exporter": "python",
   "pygments_lexer": "ipython3",
   "version": "3.7.3"
  }
 },
 "nbformat": 4,
 "nbformat_minor": 2
}
