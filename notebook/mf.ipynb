{
 "cells": [
  {
   "cell_type": "code",
   "execution_count": null,
   "metadata": {},
   "outputs": [],
   "source": [
    "%load_ext autoreload\n",
    "%autoreload 2"
   ]
  },
  {
   "cell_type": "code",
   "execution_count": null,
   "metadata": {},
   "outputs": [],
   "source": [
    "import numpy as np\n",
    "import pandas as pd\n",
    "\n",
    "import kraft"
   ]
  },
  {
   "cell_type": "code",
   "execution_count": null,
   "metadata": {},
   "outputs": [],
   "source": [
    "m = 100\n",
    "\n",
    "n = 200\n",
    "\n",
    "v = kraft.simulate_array((m, n), \"normal\")\n",
    "\n",
    "v += abs(v.min())\n",
    "\n",
    "vs = (v, v * 10, v * 100)\n",
    "\n",
    "for v in vs:\n",
    "\n",
    "    print(v.shape)"
   ]
  },
  {
   "cell_type": "code",
   "execution_count": null,
   "metadata": {},
   "outputs": [],
   "source": [
    "k = 5\n",
    "\n",
    "n_iteration = 100"
   ]
  },
  {
   "cell_type": "code",
   "execution_count": null,
   "metadata": {},
   "outputs": [],
   "source": [
    "rs = []\n",
    "\n",
    "for v in vs:\n",
    "\n",
    "    w, h, r = kraft.mf_with_multiplicative_update(v, k, n_iteration=n_iteration)\n",
    "\n",
    "    kraft.plot_mf((w,), (h,), \"output\")\n",
    "\n",
    "    rs.append(r)\n",
    "\n",
    "kraft.plot_errors(rs, layout={\"title\": {\"text\": \"mf_with_multiplicative_update\"}})"
   ]
  },
  {
   "cell_type": "code",
   "execution_count": null,
   "metadata": {},
   "outputs": [],
   "source": [
    "rs = []\n",
    "\n",
    "for v in vs:\n",
    "\n",
    "    w, h, r = kraft.nmf_with_sklearn(v, k, n_iteration=n_iteration)\n",
    "\n",
    "    kraft.plot_mf((w,), (h,), \"output\")\n",
    "\n",
    "    rs.append(r)\n",
    "\n",
    "print(\"nmf_with_sklearn: {}\".format(rs))"
   ]
  },
  {
   "cell_type": "code",
   "execution_count": null,
   "metadata": {},
   "outputs": [],
   "source": [
    "w, hs, rs = kraft.mf_vs_w_hs(vs, k, n_iteration=n_iteration)\n",
    "\n",
    "kraft.plot_mf((w,), hs, \"output\")\n",
    "\n",
    "kraft.plot_errors(rs, layout={\"title\": {\"text\": \"mf_vs_w_hs\"}})"
   ]
  },
  {
   "cell_type": "code",
   "execution_count": null,
   "metadata": {},
   "outputs": [],
   "source": [
    "ws, h, rs = kraft.mf_vs_ws_h(vs, k, n_iteration=n_iteration)\n",
    "\n",
    "kraft.plot_mf(ws, (h,), \"output\")\n",
    "\n",
    "kraft.plot_errors(rs, layout={\"title\": {\"text\": \"mf_vs_ws_h\"}})"
   ]
  }
 ],
 "metadata": {
  "kernelspec": {
   "display_name": "Python 3",
   "language": "python",
   "name": "python3"
  },
  "language_info": {
   "codemirror_mode": {
    "name": "ipython",
    "version": 3
   },
   "file_extension": ".py",
   "mimetype": "text/x-python",
   "name": "python",
   "nbconvert_exporter": "python",
   "pygments_lexer": "ipython3",
   "version": "3.7.3"
  }
 },
 "nbformat": 4,
 "nbformat_minor": 4
}
