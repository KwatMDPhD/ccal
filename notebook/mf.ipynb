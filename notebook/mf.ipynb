{
 "cells": [
  {
   "cell_type": "code",
   "execution_count": null,
   "metadata": {},
   "outputs": [],
   "source": [
    "%load_ext autoreload\n",
    "%autoreload 2"
   ]
  },
  {
   "cell_type": "code",
   "execution_count": null,
   "metadata": {},
   "outputs": [],
   "source": [
    "import numpy as np\n",
    "import pandas as pd\n",
    "\n",
    "import kraft"
   ]
  },
  {
   "cell_type": "code",
   "execution_count": null,
   "metadata": {},
   "outputs": [],
   "source": [
    "def plot_ws_and_hs(ws, hs):\n",
    "\n",
    "    for i, w in enumerate(ws):\n",
    "\n",
    "        kraft.plot_heat_map(\n",
    "            pd.DataFrame(w).iloc[\n",
    "                kraft.cluster_matrix(w, 0), kraft.cluster_matrix(w, 1)\n",
    "            ],\n",
    "            layout={\n",
    "                \"title\": {\"text\": \"({}) W\".format(i)},\n",
    "            },\n",
    "        )\n",
    "\n",
    "    for i, h in enumerate(hs):\n",
    "\n",
    "        kraft.plot_heat_map(\n",
    "            pd.DataFrame(h).iloc[\n",
    "                kraft.cluster_matrix(h, 0), kraft.cluster_matrix(h, 1)\n",
    "            ],\n",
    "            layout={\n",
    "                \"title\": {\"text\": \"({}) H \".format(i)},\n",
    "            },\n",
    "        )"
   ]
  },
  {
   "cell_type": "code",
   "execution_count": null,
   "metadata": {},
   "outputs": [],
   "source": [
    "m = 50\n",
    "\n",
    "n = 100\n",
    "\n",
    "v = kraft.simulate_array((m, n), \"uniform\")\n",
    "\n",
    "v += abs(v.min())\n",
    "\n",
    "vs = (v, v * 10, v * 100)\n",
    "\n",
    "for v in vs:\n",
    "\n",
    "    print(v.shape)"
   ]
  },
  {
   "cell_type": "code",
   "execution_count": null,
   "metadata": {},
   "outputs": [],
   "source": [
    "k = 2\n",
    "\n",
    "n_iteration = 100"
   ]
  },
  {
   "cell_type": "code",
   "execution_count": null,
   "metadata": {},
   "outputs": [],
   "source": [
    "def plot_rs(rs, title):\n",
    "\n",
    "    kraft.plot_plotly_figure(\n",
    "        {\n",
    "            \"layout\": {\n",
    "                \"title\": {\"text\": title},\n",
    "                \"xaxis\": {\"title\": \"Iteration\"},\n",
    "                \"yaxis\": {\"title\": \"Residual Matrix Norm\"},\n",
    "                \"annotations\": [\n",
    "                    {\"x\": r.size, \"y\": r[-1], \"text\": \"{:.2e}\".format(r[-1])}\n",
    "                    for i, r in enumerate(rs)\n",
    "                ],\n",
    "            },\n",
    "            \"data\": [\n",
    "                {\"type\": \"scatter\", \"name\": i, \"x\": np.arange(r.size), \"y\": r}\n",
    "                for i, r in enumerate(rs)\n",
    "            ],\n",
    "        },\n",
    "        None,\n",
    "    )"
   ]
  },
  {
   "cell_type": "code",
   "execution_count": null,
   "metadata": {},
   "outputs": [],
   "source": [
    "rs = []\n",
    "\n",
    "for v in vs:\n",
    "\n",
    "    w, h, r = kraft.mf_with_multiplicative_update(v, k, n_iteration=n_iteration)\n",
    "\n",
    "    plot_ws_and_hs((w,), (h,))\n",
    "\n",
    "    rs.append(r)\n",
    "\n",
    "plot_rs(rs, \"MF Independently\")"
   ]
  },
  {
   "cell_type": "code",
   "execution_count": null,
   "metadata": {},
   "outputs": [],
   "source": [
    "rs = []\n",
    "\n",
    "for v in vs:\n",
    "\n",
    "    w, h, r = kraft.nmf_with_sklearn(v, k, n_iteration=n_iteration)\n",
    "\n",
    "    plot_ws_and_hs((w,), (h,))\n",
    "\n",
    "    rs.append(r)\n",
    "\n",
    "print(rs)"
   ]
  },
  {
   "cell_type": "code",
   "execution_count": null,
   "metadata": {},
   "outputs": [],
   "source": [
    "w, hs, rs = kraft.mf_with_vs_and_hs(vs, k, n_iteration=n_iteration)\n",
    "\n",
    "plot_ws_and_hs((w,), hs)\n",
    "\n",
    "plot_rs(rs, \"MF Together\")"
   ]
  }
 ],
 "metadata": {
  "kernelspec": {
   "display_name": "Python 3",
   "language": "python",
   "name": "python3"
  },
  "language_info": {
   "codemirror_mode": {
    "name": "ipython",
    "version": 3
   },
   "file_extension": ".py",
   "mimetype": "text/x-python",
   "name": "python",
   "nbconvert_exporter": "python",
   "pygments_lexer": "ipython3",
   "version": "3.7.3"
  }
 },
 "nbformat": 4,
 "nbformat_minor": 4
}
