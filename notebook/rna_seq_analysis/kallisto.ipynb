{
 "cells": [
  {
   "cell_type": "code",
   "execution_count": null,
   "metadata": {
    "ExecuteTime": {
     "end_time": "2018-01-23T05:43:04.935381Z",
     "start_time": "2018-01-23T05:43:04.661343Z"
    }
   },
   "outputs": [],
   "source": [
    "%load_ext autoreload\n",
    "%autoreload 2\n",
    "%matplotlib inline"
   ]
  },
  {
   "cell_type": "code",
   "execution_count": null,
   "metadata": {
    "ExecuteTime": {
     "end_time": "2018-01-23T05:43:05.336955Z",
     "start_time": "2018-01-23T05:43:04.937709Z"
    }
   },
   "outputs": [],
   "source": [
    "import os\n",
    "from pprint import pprint\n",
    "import sys\n",
    "\n",
    "import numpy as np\n",
    "import pandas as pd\n",
    "import matplotlib as mpl\n",
    "\n",
    "sys.path.insert(0, os.path.expanduser('~/Jumis/github_kwatme'))\n",
    "from sequencing_process.sequencing_process.process_fastq_gz import count_transcripts_using_kallisto_quant\n",
    "from plot.plot.plot_distribution import plot_distribution"
   ]
  },
  {
   "cell_type": "code",
   "execution_count": null,
   "metadata": {
    "ExecuteTime": {
     "end_time": "2018-01-23T05:43:05.358469Z",
     "start_time": "2018-01-23T05:43:05.340005Z"
    }
   },
   "outputs": [],
   "source": [
    "n_job = 16"
   ]
  },
  {
   "cell_type": "code",
   "execution_count": null,
   "metadata": {
    "ExecuteTime": {
     "end_time": "2018-01-23T05:43:05.385256Z",
     "start_time": "2018-01-23T05:43:05.360071Z"
    }
   },
   "outputs": [],
   "source": [
    "paired_fastq_gz_file_paths = [(\n",
    "    '../data/{}_1.fq.gz'.format(sample_id),\n",
    "    '../data/{}_2.fq.gz'.format(sample_id), )\n",
    "                              for sample_id in (\n",
    "                                  'C_1',\n",
    "                                  'C_2',\n",
    "                                  'C_3',\n",
    "                                  'VS_1',\n",
    "                                  'VS_2',\n",
    "                                  'VS_3', )]\n",
    "\n",
    "pprint(paired_fastq_gz_file_paths)\n",
    "\n",
    "for fastq_gz_file_path_0, fastq_gz_file_path_1 in paired_fastq_gz_file_paths:\n",
    "\n",
    "    assert os.path.isfile(fastq_gz_file_path_0), fastq_gz_file_path_0\n",
    "    assert os.path.isfile(fastq_gz_file_path_1), fastq_gz_file_path_1"
   ]
  },
  {
   "cell_type": "code",
   "execution_count": null,
   "metadata": {
    "ExecuteTime": {
     "end_time": "2018-01-23T05:43:05.406227Z",
     "start_time": "2018-01-23T05:43:05.388378Z"
    }
   },
   "outputs": [],
   "source": [
    "cdna_fasta_gz_file_path = '../../../data/grch/Homo_sapiens.GRCh38.cdna.all.fa.gz'\n",
    "assert os.path.isfile(cdna_fasta_gz_file_path), cdna_fasta_gz_file_path"
   ]
  },
  {
   "cell_type": "code",
   "execution_count": null,
   "metadata": {
    "ExecuteTime": {
     "end_time": "2018-01-23T05:43:05.907100Z",
     "start_time": "2018-01-23T05:43:05.408054Z"
    },
    "scrolled": false
   },
   "outputs": [],
   "source": [
    "enst = pd.read_table('../../../data/enst.tsv', index_col=1)\n",
    "\n",
    "pprint(enst.head())\n",
    "\n",
    "enst_gene_name = enst['Gene name'].to_dict()\n",
    "\n",
    "len(enst_gene_name)"
   ]
  },
  {
   "cell_type": "code",
   "execution_count": null,
   "metadata": {
    "ExecuteTime": {
     "end_time": "2018-01-23T05:43:11.220077Z",
     "start_time": "2018-01-23T05:43:05.909294Z"
    },
    "scrolled": false
   },
   "outputs": [],
   "source": [
    "tpms = []\n",
    "\n",
    "for paired_fastq_gz_file_path_0, paired_fastq_gz_file_path_1 in paired_fastq_gz_file_paths:\n",
    "\n",
    "    sample_id = os.path.commonprefix((\n",
    "        paired_fastq_gz_file_path_0.split('/')[-1],\n",
    "        paired_fastq_gz_file_path_1.split('/')[-1], )).strip('_.')\n",
    "    print(sample_id)\n",
    "\n",
    "    try:\n",
    "        count_transcripts_using_kallisto_quant(\n",
    "            (\n",
    "                paired_fastq_gz_file_path_0,\n",
    "                paired_fastq_gz_file_path_1, ),\n",
    "            cdna_fasta_gz_file_path,\n",
    "            '../output/kallisto/{}'.format(sample_id),\n",
    "            n_job=n_job)\n",
    "\n",
    "    except FileExistsError:\n",
    "        pass\n",
    "\n",
    "    tpm = pd.read_table(\n",
    "        '../output/kallisto/{}/abundance.tsv'.format(sample_id),\n",
    "        index_col=0)['tpm']\n",
    "    tpm.name = '{}_tpm'.format(sample_id)\n",
    "\n",
    "    tpms.append(tpm)\n",
    "\n",
    "    print(tpm.describe())\n",
    "\n",
    "    plot_distribution(\n",
    "        np.log(np.where(0 < tpm, tpm, sorted(set(tpm))[1])),\n",
    "        decorate_ax_kwargs={\n",
    "            'title':\n",
    "            'Distribution of log(TPM with 0 Replaced with Non-0 Min])',\n",
    "        })\n",
    "\n",
    "    plot_distribution(\n",
    "        np.log(tpm[tpm != 0]),\n",
    "        decorate_ax_kwargs={\n",
    "            'title': 'Distribution of log(TPM with 0 Removed)',\n",
    "        })\n",
    "\n",
    "    mpl.pyplot.show()\n",
    "\n",
    "enst_x_sample = pd.concat(tpms, axis=1)\n",
    "\n",
    "enst_x_sample"
   ]
  },
  {
   "cell_type": "code",
   "execution_count": null,
   "metadata": {
    "ExecuteTime": {
     "end_time": "2018-01-23T05:43:11.343202Z",
     "start_time": "2018-01-23T05:43:11.223007Z"
    },
    "scrolled": false
   },
   "outputs": [],
   "source": [
    "gene_x_sample = enst_x_sample.copy()\n",
    "gene_x_sample.index = enst_x_sample.index.map(enst_gene_name.get)\n",
    "print(gene_x_sample.shape)\n",
    "\n",
    "gene_x_sample = gene_x_sample.loc[~gene_x_sample.index.isnull()]\n",
    "print(gene_x_sample.shape)\n",
    "\n",
    "print(gene_x_sample.index.unique().size)\n",
    "\n",
    "gene_x_sample"
   ]
  },
  {
   "cell_type": "code",
   "execution_count": null,
   "metadata": {
    "ExecuteTime": {
     "end_time": "2018-01-23T05:43:11.983344Z",
     "start_time": "2018-01-23T05:43:11.345090Z"
    },
    "scrolled": false
   },
   "outputs": [],
   "source": [
    "max_tpm__gene_x_sample = gene_x_sample.groupby(level=0).max()\n",
    "print(max_tpm__gene_x_sample.shape)\n",
    "\n",
    "max_tpm__gene_x_sample = max_tpm__gene_x_sample.sort_index()\n",
    "\n",
    "max_tpm__gene_x_sample.index.name = None\n",
    "max_tpm__gene_x_sample.columns.nAme = None\n",
    "\n",
    "max_tpm__gene_x_sample.to_csv('../output/max_tpm__gene_x_sample.tsv', sep='\\t')\n",
    "\n",
    "plot_distribution(\n",
    "    max_tpm__gene_x_sample.values.flatten(),\n",
    "    decorate_ax_kwargs={\n",
    "        'title': 'Maximum TPM',\n",
    "    })\n",
    "\n",
    "max_tpm__gene_x_sample"
   ]
  },
  {
   "cell_type": "code",
   "execution_count": null,
   "metadata": {
    "ExecuteTime": {
     "end_time": "2018-01-23T05:43:12.825594Z",
     "start_time": "2018-01-23T05:43:11.985221Z"
    },
    "scrolled": false
   },
   "outputs": [],
   "source": [
    "max_tpm_log__gene_x_sample = np.log(\n",
    "    max_tpm__gene_x_sample.replace(\n",
    "        0, sorted(set(max_tpm__gene_x_sample.values.flatten()))[1]))\n",
    "\n",
    "max_tpm_log__gene_x_sample.to_csv(\n",
    "    '../output/max_tpm_log__gene_x_sample.tsv', sep='\\t')\n",
    "\n",
    "plot_distribution(\n",
    "    max_tpm_log__gene_x_sample.values.flatten(),\n",
    "    decorate_ax_kwargs={\n",
    "        'title': 'log(Maximum TPM with 0 Replaced with Non-0 Min)'\n",
    "    })\n",
    "\n",
    "max_tpm_log__gene_x_sample"
   ]
  }
 ],
 "metadata": {
  "kernelspec": {
   "display_name": "Python [conda root]",
   "language": "python",
   "name": "conda-root-py"
  },
  "language_info": {
   "codemirror_mode": {
    "name": "ipython",
    "version": 3
   },
   "file_extension": ".py",
   "mimetype": "text/x-python",
   "name": "python",
   "nbconvert_exporter": "python",
   "pygments_lexer": "ipython3",
   "version": "3.6.3"
  }
 },
 "nbformat": 4,
 "nbformat_minor": 2
}
