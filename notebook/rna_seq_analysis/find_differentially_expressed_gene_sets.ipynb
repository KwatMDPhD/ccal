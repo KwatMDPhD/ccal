{
 "cells": [
  {
   "cell_type": "code",
   "execution_count": null,
   "metadata": {
    "ExecuteTime": {
     "end_time": "2018-01-23T05:44:15.860026Z",
     "start_time": "2018-01-23T05:44:15.528336Z"
    }
   },
   "outputs": [],
   "source": [
    "%load_ext autoreload\n",
    "%autoreload 2\n",
    "%matplotlib inline"
   ]
  },
  {
   "cell_type": "code",
   "execution_count": null,
   "metadata": {
    "ExecuteTime": {
     "end_time": "2018-01-23T05:44:17.034543Z",
     "start_time": "2018-01-23T05:44:15.861999Z"
    }
   },
   "outputs": [],
   "source": [
    "import os\n",
    "from pprint import pprint\n",
    "import sys\n",
    "\n",
    "import numpy as np\n",
    "import pandas as pd\n",
    "import matplotlib as mpl\n",
    "\n",
    "sys.path.insert(0, os.path.expanduser('~/Jumis/github_kwatme'))\n",
    "from match.match.make_match_panel import make_match_panel\n",
    "from file.file.access_gmt import read_gmts\n",
    "from gsea.gsea.single_sample_gseas import single_sample_gseas\n",
    "from gsea.gsea.gsea import gsea\n",
    "from support.support.path import clean_name\n",
    "from plot.plot.plot_violin_box_or_bar import plot_violin_box_or_bar\n",
    "from plot.plot.plot_distribution import plot_distribution\n",
    "from information.information.compute_information_coefficient import compute_information_coefficient\n",
    "from linear_model.linear_model.correlate import correlate\n",
    "from nd_array.nd_array.normalize_2d_array import normalize_2d_array"
   ]
  },
  {
   "cell_type": "code",
   "execution_count": null,
   "metadata": {
    "ExecuteTime": {
     "end_time": "2018-01-23T05:44:17.066152Z",
     "start_time": "2018-01-23T05:44:17.041235Z"
    }
   },
   "outputs": [],
   "source": [
    "n_job = 16"
   ]
  },
  {
   "cell_type": "code",
   "execution_count": null,
   "metadata": {
    "ExecuteTime": {
     "end_time": "2018-01-23T05:44:17.193471Z",
     "start_time": "2018-01-23T05:44:17.068544Z"
    },
    "scrolled": false
   },
   "outputs": [],
   "source": [
    "max_tpm_log__gene_x_sample = pd.read_table(\n",
    "    '../output/max_tpm_log__gene_x_sample.tsv', index_col=0)\n",
    "print(max_tpm_log__gene_x_sample.shape)\n",
    "\n",
    "max_tpm_log__gene_x_sample"
   ]
  },
  {
   "cell_type": "code",
   "execution_count": null,
   "metadata": {
    "ExecuteTime": {
     "end_time": "2018-01-23T05:44:53.029094Z",
     "start_time": "2018-01-23T05:44:17.196159Z"
    }
   },
   "outputs": [],
   "source": [
    "gmt_file_paths = []\n",
    "\n",
    "directory_path = '../../../data/gene_set/msigdb_v6.0'\n",
    "gmt_file_paths += [\n",
    "    os.path.join(directory_path, name) for name in os.listdir(directory_path)\n",
    "]\n",
    "\n",
    "gmt_file_paths.append('../../../data/gene_set/affymetrix.gmt')\n",
    "gmt_file_paths.append('../../../data/gene_set/ipa_regulator.gmt')\n",
    "gmt_file_paths.append('../../../data/gene_set/isogenic_signature.gmt')\n",
    "gmt_file_paths.append('../../../data/gene_set/not_in_msigdb_yet.gmt')\n",
    "gmt_file_paths.append('../../../data/gene_set/yap_signature.gmt')\n",
    "\n",
    "pprint(gmt_file_paths)\n",
    "\n",
    "gmt = read_gmts(gmt_file_paths)\n",
    "print(gmt.shape)\n",
    "\n",
    "gmt = gmt.loc[~gmt.index.duplicated()]\n",
    "print(gmt.shape)\n",
    "\n",
    "gmt = gmt.loc[5 <= gmt.apply(lambda genes: genes.dropna().size, axis=1)]\n",
    "print(gmt.shape)"
   ]
  },
  {
   "cell_type": "code",
   "execution_count": null,
   "metadata": {
    "ExecuteTime": {
     "end_time": "2018-01-23T05:44:53.051652Z",
     "start_time": "2018-01-23T05:44:53.031400Z"
    }
   },
   "outputs": [],
   "source": [
    "statistic = 'auc'"
   ]
  },
  {
   "cell_type": "code",
   "execution_count": null,
   "metadata": {
    "ExecuteTime": {
     "end_time": "2018-01-23T06:29:11.307758Z",
     "start_time": "2018-01-23T05:44:53.053147Z"
    },
    "scrolled": false
   },
   "outputs": [],
   "source": [
    "gene_set_x_sample_file_path = '../output/gene_set/gene_set_x_sample.tsv'\n",
    "\n",
    "if os.path.isfile(gene_set_x_sample_file_path):\n",
    "    gene_set_x_sample = pd.read_table(gene_set_x_sample_file_path, index_col=0)\n",
    "else:\n",
    "    gene_set_x_sample = single_sample_gseas(\n",
    "        max_tpm_log__gene_x_sample,\n",
    "        gmt,\n",
    "        normalization_method='0-1',\n",
    "        statistic=statistic,\n",
    "        file_path=gene_set_x_sample_file_path)\n",
    "print(gene_set_x_sample.shape)\n",
    "\n",
    "gene_set_x_sample"
   ]
  },
  {
   "cell_type": "code",
   "execution_count": null,
   "metadata": {
    "ExecuteTime": {
     "end_time": "2018-01-23T06:29:11.340427Z",
     "start_time": "2018-01-23T06:29:11.310400Z"
    }
   },
   "outputs": [],
   "source": [
    "target = pd.Series((0, ) * 3 + (1, ) * 3, index=gene_set_x_sample.columns)\n",
    "\n",
    "target_int_to_str = {\n",
    "    0: 'C',\n",
    "    1: 'VS',\n",
    "}"
   ]
  },
  {
   "cell_type": "code",
   "execution_count": null,
   "metadata": {
    "ExecuteTime": {
     "end_time": "2018-01-23T06:30:52.457762Z",
     "start_time": "2018-01-23T06:29:11.342934Z"
    },
    "scrolled": false
   },
   "outputs": [],
   "source": [
    "feature_score_moe_p_value_fdr = make_match_panel(\n",
    "    target,\n",
    "    gene_set_x_sample,\n",
    "    target_ascending=True,\n",
    "    n_job=n_job,\n",
    "    n_top_feature=0.98,\n",
    "    max_n_feature=None,\n",
    "    title='Gene Set Expression',\n",
    "    target_type='binary',\n",
    "    target_int_to_str=target_int_to_str,\n",
    "    plot_column_names=True,\n",
    "    file_path_prefix=\n",
    "    '../output/gene_set/find_differentially_expressed_gene_sets')\n",
    "\n",
    "feature_score_moe_p_value_fdr"
   ]
  },
  {
   "cell_type": "code",
   "execution_count": null,
   "metadata": {
    "ExecuteTime": {
     "end_time": "2018-01-23T06:30:52.507798Z",
     "start_time": "2018-01-23T06:30:52.460139Z"
    }
   },
   "outputs": [],
   "source": [
    "selected_gene_sets = gmt.index[gmt.index.str.lower().str.contains('yap')]\n",
    "\n",
    "selected_gene_sets"
   ]
  },
  {
   "cell_type": "code",
   "execution_count": null,
   "metadata": {
    "ExecuteTime": {
     "end_time": "2018-01-23T06:30:57.178694Z",
     "start_time": "2018-01-23T06:30:52.509765Z"
    },
    "scrolled": false
   },
   "outputs": [],
   "source": [
    "feature_score_moe_p_value_fdr = make_match_panel(\n",
    "    target,\n",
    "    gene_set_x_sample.loc[selected_gene_sets],\n",
    "    target_ascending=True,\n",
    "    n_job=n_job,\n",
    "    n_top_feature=0.5,\n",
    "    max_n_feature=None,\n",
    "    title='Gene Set Expression',\n",
    "    target_type='binary',\n",
    "    target_int_to_str=target_int_to_str,\n",
    "    plot_column_names=True,\n",
    "    file_path_prefix=\n",
    "    '../output/gene_set/selected_gene_sets/find_differentially_expressed_gene_sets'\n",
    ")\n",
    "\n",
    "feature_score_moe_p_value_fdr"
   ]
  },
  {
   "cell_type": "code",
   "execution_count": null,
   "metadata": {
    "ExecuteTime": {
     "end_time": "2018-01-23T06:33:44.440684Z",
     "start_time": "2018-01-23T06:30:57.180785Z"
    },
    "scrolled": false
   },
   "outputs": [],
   "source": [
    "gene_set_score_p_value_fdr = gsea(\n",
    "    max_tpm_log__gene_x_sample,\n",
    "    target,\n",
    "    gmt.loc[selected_gene_sets],\n",
    "    method='ic',\n",
    "    normalization_method=None,\n",
    "    statistic=statistic,\n",
    "    directory_path='../output/gene_set/selected_gene_sets/gsea')\n",
    "\n",
    "gene_set_score_p_value_fdr"
   ]
  },
  {
   "cell_type": "code",
   "execution_count": null,
   "metadata": {
    "ExecuteTime": {
     "end_time": "2018-01-23T06:33:44.782196Z",
     "start_time": "2018-01-23T06:33:44.443256Z"
    },
    "scrolled": false
   },
   "outputs": [],
   "source": [
    "x = feature_score_moe_p_value_fdr['Score'].sort_values()\n",
    "y = gene_set_score_p_value_fdr['Score'].loc[x.index]\n",
    "\n",
    "print(compute_information_coefficient(x, y))\n",
    "\n",
    "print(compute_information_coefficient(np.sign(x), np.sign(y)))\n",
    "\n",
    "correlate(x, y, xlabel='Match IC', ylabel='GSEA Score', n_permutation=10)"
   ]
  },
  {
   "cell_type": "code",
   "execution_count": null,
   "metadata": {
    "ExecuteTime": {
     "end_time": "2018-01-23T06:43:43.834637Z",
     "start_time": "2018-01-23T06:38:26.597135Z"
    },
    "scrolled": false
   },
   "outputs": [],
   "source": [
    "for gene_set in selected_gene_sets:\n",
    "\n",
    "    gene_set_clean = clean_name(gene_set)\n",
    "\n",
    "    sample_gene_set_expression = gene_set_x_sample.loc[gene_set]\n",
    "\n",
    "    make_match_panel(\n",
    "        target,\n",
    "        max_tpm_log__gene_x_sample.loc[gmt.loc[\n",
    "            gene_set].dropna()].dropna().append(sample_gene_set_expression),\n",
    "        target_ascending=True,\n",
    "        n_job=n_job,\n",
    "        n_top_feature=0.5,\n",
    "        max_n_feature=None,\n",
    "        title='Expression of Gene Set and its Genes',\n",
    "        target_type='binary',\n",
    "        target_int_to_str=target_int_to_str,\n",
    "        plot_column_names=True,\n",
    "        file_path_prefix=\n",
    "        '../output/gene_set/selected_gene_sets/gene_set_and_its_genes/{}'.\n",
    "        format(gene_set_clean))\n",
    "\n",
    "    plot_violin_box_or_bar(\n",
    "        target,\n",
    "        sample_gene_set_expression,\n",
    "        violin_box_bar_or_swarm_kwargs={\n",
    "            'palette': (\n",
    "                '#20D9BA',\n",
    "                '#9017E6', ),\n",
    "        },\n",
    "        decorate_ax_kwargs={\n",
    "            'title': gene_set,\n",
    "        },\n",
    "        file_path='../output/gene_set/selected_gene_sets/violin_plot/{}.png'.\n",
    "        format(gene_set_clean))\n",
    "\n",
    "    mpl.pyplot.show()"
   ]
  }
 ],
 "metadata": {
  "kernelspec": {
   "display_name": "Python [conda root]",
   "language": "python",
   "name": "conda-root-py"
  },
  "language_info": {
   "codemirror_mode": {
    "name": "ipython",
    "version": 3
   },
   "file_extension": ".py",
   "mimetype": "text/x-python",
   "name": "python",
   "nbconvert_exporter": "python",
   "pygments_lexer": "ipython3",
   "version": "3.6.3"
  }
 },
 "nbformat": 4,
 "nbformat_minor": 2
}
