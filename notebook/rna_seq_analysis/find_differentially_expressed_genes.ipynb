{
 "cells": [
  {
   "cell_type": "code",
   "execution_count": null,
   "metadata": {
    "ExecuteTime": {
     "end_time": "2018-01-23T05:43:26.768029Z",
     "start_time": "2018-01-23T05:43:26.438468Z"
    }
   },
   "outputs": [],
   "source": [
    "%load_ext autoreload\n",
    "%autoreload 2\n",
    "%matplotlib inline"
   ]
  },
  {
   "cell_type": "code",
   "execution_count": null,
   "metadata": {
    "ExecuteTime": {
     "end_time": "2018-01-23T05:43:27.604487Z",
     "start_time": "2018-01-23T05:43:26.769720Z"
    }
   },
   "outputs": [],
   "source": [
    "import os\n",
    "import sys\n",
    "\n",
    "import pandas as pd\n",
    "import matplotlib as mpl\n",
    "\n",
    "sys.path.insert(0, os.path.expanduser('~/Jumis/github_kwatme'))\n",
    "from match.match.make_match_panel import make_match_panel\n",
    "from plot.plot.plot_violin_box_or_bar import plot_violin_box_or_bar"
   ]
  },
  {
   "cell_type": "code",
   "execution_count": null,
   "metadata": {
    "ExecuteTime": {
     "end_time": "2018-01-23T05:43:27.619669Z",
     "start_time": "2018-01-23T05:43:27.606250Z"
    }
   },
   "outputs": [],
   "source": [
    "n_job = 16"
   ]
  },
  {
   "cell_type": "code",
   "execution_count": null,
   "metadata": {
    "ExecuteTime": {
     "end_time": "2018-01-23T05:43:27.734789Z",
     "start_time": "2018-01-23T05:43:27.620916Z"
    },
    "scrolled": false
   },
   "outputs": [],
   "source": [
    "max_tpm_log__gene_x_sample = pd.read_table(\n",
    "    '../output/max_tpm_log__gene_x_sample.tsv', index_col=0)\n",
    "print(max_tpm_log__gene_x_sample.shape)\n",
    "\n",
    "max_tpm_log__gene_x_sample"
   ]
  },
  {
   "cell_type": "code",
   "execution_count": null,
   "metadata": {
    "ExecuteTime": {
     "end_time": "2018-01-23T05:43:27.751825Z",
     "start_time": "2018-01-23T05:43:27.736652Z"
    }
   },
   "outputs": [],
   "source": [
    "target = pd.Series(\n",
    "    (0, ) * 3 + (1, ) * 3, index=max_tpm_log__gene_x_sample.columns)\n",
    "\n",
    "target_int_to_str = {\n",
    "    0: 'C',\n",
    "    1: 'VS',\n",
    "}"
   ]
  },
  {
   "cell_type": "code",
   "execution_count": null,
   "metadata": {
    "ExecuteTime": {
     "end_time": "2018-01-23T05:45:14.996326Z",
     "start_time": "2018-01-23T05:43:27.753408Z"
    },
    "scrolled": false
   },
   "outputs": [],
   "source": [
    "gene_x_score = make_match_panel(\n",
    "    target,\n",
    "    max_tpm_log__gene_x_sample,\n",
    "    target_ascending=True,\n",
    "    n_job=n_job,\n",
    "    n_top_feature=0.98,\n",
    "    max_n_feature=None,\n",
    "    title='Gene Expression',\n",
    "    target_type='binary',\n",
    "    target_int_to_str=target_int_to_str,\n",
    "    plot_column_names=True,\n",
    "    file_path_prefix='../output/find_differentially_expressed_genes')\n",
    "\n",
    "gene_x_score"
   ]
  },
  {
   "cell_type": "code",
   "execution_count": null,
   "metadata": {
    "ExecuteTime": {
     "end_time": "2018-01-23T05:45:15.027962Z",
     "start_time": "2018-01-23T05:45:14.999502Z"
    }
   },
   "outputs": [],
   "source": [
    "selected_genes = (\n",
    "    'CCND1',\n",
    "    'CTGF',\n",
    "    'CYR61',\n",
    "    'DUSP6',\n",
    "    'TRIB3',\n",
    "    'AMOT',\n",
    "    'AMOTL1',\n",
    "    'AMOTL2',\n",
    "    'DCHS1',\n",
    "    'DCHS2',\n",
    "    'FAT1',\n",
    "    'FAT2',\n",
    "    'FAT3',\n",
    "    'FAT4',\n",
    "    'FRMD6',\n",
    "    'LATS1',\n",
    "    'LATS2',\n",
    "    'NF2',\n",
    "    'SAV1',\n",
    "    'STK3',\n",
    "    'STK4',\n",
    "    'TEAD1',\n",
    "    'TEAD2',\n",
    "    'TEAD3',\n",
    "    'TEAD4',\n",
    "    'WWC1',\n",
    "    'WWTR1',\n",
    "    'YAP1', )"
   ]
  },
  {
   "cell_type": "code",
   "execution_count": null,
   "metadata": {
    "ExecuteTime": {
     "end_time": "2018-01-23T05:45:17.825923Z",
     "start_time": "2018-01-23T05:45:15.029839Z"
    },
    "scrolled": false
   },
   "outputs": [],
   "source": [
    "make_match_panel(\n",
    "    target,\n",
    "    max_tpm_log__gene_x_sample.loc[list(selected_genes)],\n",
    "    target_ascending=True,\n",
    "    n_job=n_job,\n",
    "    n_top_feature=0.5,\n",
    "    max_n_feature=None,\n",
    "    title='Gene Expression',\n",
    "    target_type='binary',\n",
    "    target_int_to_str=target_int_to_str,\n",
    "    plot_column_names=True,\n",
    "    file_path_prefix=\n",
    "    '../output/selected_genes/find_differentially_expressed_genes')"
   ]
  },
  {
   "cell_type": "code",
   "execution_count": null,
   "metadata": {
    "ExecuteTime": {
     "end_time": "2018-01-23T05:45:35.374289Z",
     "start_time": "2018-01-23T05:45:17.827981Z"
    },
    "scrolled": false
   },
   "outputs": [],
   "source": [
    "for gene in selected_genes:\n",
    "\n",
    "    plot_violin_box_or_bar(\n",
    "        target,\n",
    "        max_tpm_log__gene_x_sample.loc[gene],\n",
    "        violin_box_bar_or_swarm_kwargs={\n",
    "            'palette': (\n",
    "                '#20D9BA',\n",
    "                '#9017E6', ),\n",
    "        },\n",
    "        decorate_ax_kwargs={\n",
    "            'title': gene,\n",
    "        },\n",
    "        file_path='../output/selected_genes/violin_plot/{}.png'.format(gene))\n",
    "\n",
    "    mpl.pyplot.show()"
   ]
  }
 ],
 "metadata": {
  "kernelspec": {
   "display_name": "Python [conda root]",
   "language": "python",
   "name": "conda-root-py"
  },
  "language_info": {
   "codemirror_mode": {
    "name": "ipython",
    "version": 3
   },
   "file_extension": ".py",
   "mimetype": "text/x-python",
   "name": "python",
   "nbconvert_exporter": "python",
   "pygments_lexer": "ipython3",
   "version": "3.6.3"
  }
 },
 "nbformat": 4,
 "nbformat_minor": 2
}
