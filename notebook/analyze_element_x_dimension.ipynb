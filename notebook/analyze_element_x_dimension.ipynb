{
 "cells": [
  {
   "cell_type": "code",
   "execution_count": null,
   "metadata": {},
   "outputs": [],
   "source": [
    "%load_ext autoreload\n",
    "%autoreload 2"
   ]
  },
  {
   "cell_type": "code",
   "execution_count": null,
   "metadata": {},
   "outputs": [],
   "source": [
    "import numpy as np\n",
    "\n",
    "import kraft"
   ]
  },
  {
   "cell_type": "code",
   "execution_count": null,
   "metadata": {},
   "outputs": [],
   "source": [
    "for element_x_dimension in (\n",
    "    np.random.normal(size=(32, 1)),\n",
    "    np.asarray((np.arange(8), np.arange(2, 18, 2))).T,\n",
    "    np.random.normal(size=(100, 3)),\n",
    "):\n",
    "\n",
    "    print(element_x_dimension)\n",
    "\n",
    "    n_dimension = element_x_dimension.shape[1]\n",
    "\n",
    "    for estimate_element_x_dimension_kernel_density_keyword_arguments in (\n",
    "        {},\n",
    "        {\"dimension_n_grids\": (8,) * n_dimension},\n",
    "        {\"dimension_n_grids\": (256,) * n_dimension},\n",
    "        {\"dimension_bandwidth_factors\": (1 / 3,) * n_dimension},\n",
    "        {\"dimension_fraction_grid_extensions\": (1 / 1000,) * n_dimension},\n",
    "        {\n",
    "            \"dimension_grid_maxs\": tuple(\n",
    "                int(element_x_dimension[:, i].max() * 3) for i in range(n_dimension)\n",
    "            ),\n",
    "            \"dimension_fraction_grid_extensions\": (1 / 1000,) * n_dimension,\n",
    "        },\n",
    "    ):\n",
    "\n",
    "        print(estimate_element_x_dimension_kernel_density_keyword_arguments)\n",
    "\n",
    "        for function in (\n",
    "            kraft.estimate_element_x_dimension_kernel_density,\n",
    "            kraft.compute_element_x_dimension_joint_probability,\n",
    "            kraft.compute_element_x_dimension_posterior_probability,\n",
    "        ):\n",
    "\n",
    "            function(\n",
    "                element_x_dimension,\n",
    "                **estimate_element_x_dimension_kernel_density_keyword_arguments\n",
    "            )"
   ]
  }
 ],
 "metadata": {
  "kernelspec": {
   "display_name": "Python 3",
   "language": "python",
   "name": "python3"
  },
  "language_info": {
   "codemirror_mode": {
    "name": "ipython",
    "version": 3
   },
   "file_extension": ".py",
   "mimetype": "text/x-python",
   "name": "python",
   "nbconvert_exporter": "python",
   "pygments_lexer": "ipython3",
   "version": "3.7.3"
  }
 },
 "nbformat": 4,
 "nbformat_minor": 4
}
