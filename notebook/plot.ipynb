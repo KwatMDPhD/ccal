{
 "cells": [
  {
   "cell_type": "code",
   "execution_count": null,
   "metadata": {},
   "outputs": [],
   "source": [
    "%load_ext autoreload\n",
    "%autoreload 2"
   ]
  },
  {
   "cell_type": "code",
   "execution_count": null,
   "metadata": {
    "ExecuteTime": {
     "end_time": "2018-05-15T09:28:55.668422Z",
     "start_time": "2018-05-15T09:28:55.428950Z"
    }
   },
   "outputs": [],
   "source": [
    "import numpy as np\n",
    "import pandas as pd\n",
    "import plotly as pl\n",
    "\n",
    "import kraft"
   ]
  },
  {
   "cell_type": "markdown",
   "metadata": {},
   "source": [
    "## plot_plotly"
   ]
  },
  {
   "cell_type": "code",
   "execution_count": null,
   "metadata": {},
   "outputs": [],
   "source": [
    "figure = {\"layout\": {\"title\": \"Title\"}}\n",
    "\n",
    "pl.io.show(figure)\n",
    "\n",
    "kraft.plot.plot_plotly(figure)"
   ]
  },
  {
   "cell_type": "markdown",
   "metadata": {},
   "source": [
    "## get_color"
   ]
  },
  {
   "cell_type": "code",
   "execution_count": null,
   "metadata": {},
   "outputs": [],
   "source": [
    "colorscale = pl.colors.make_colorscale(pl.colors.qualitative.Plotly)\n",
    "\n",
    "scatter_template = {\n",
    "    \"showlegend\": False,\n",
    "    \"mode\": \"markers\",\n",
    "    \"marker\": {\"size\": 32},\n",
    "}\n",
    "\n",
    "for values, n in (\n",
    "    (np.arange(10), 10),\n",
    "    (np.linspace(0, 1, num=10), None),\n",
    "    ((0.5,), None),\n",
    "    ((0,), None),\n",
    "    ((1,), None),\n",
    "):\n",
    "\n",
    "    data = [\n",
    "        kraft.dict_.merge(\n",
    "            scatter_template,\n",
    "            {\"x\": values, \"y\": (0,) * len(values), \"marker\": {\"color\": values}},\n",
    "        ),\n",
    "        kraft.dict_.merge(\n",
    "            scatter_template,\n",
    "            {\n",
    "                \"x\": values,\n",
    "                \"y\": (1,) * len(values),\n",
    "                \"marker\": {\"color\": values, \"colorscale\": colorscale},\n",
    "            },\n",
    "        ),\n",
    "    ] + [\n",
    "        kraft.dict_.merge(\n",
    "            scatter_template,\n",
    "            {\n",
    "                \"x\": (value,),\n",
    "                \"y\": (2,),\n",
    "                \"marker\": {\"color\": kraft.plot.get_color(colorscale, value, n=n)},\n",
    "            },\n",
    "        )\n",
    "        for i, value in enumerate(values)\n",
    "    ]\n",
    "\n",
    "    pl.io.show(\n",
    "        {\n",
    "            \"layout\": {\n",
    "                \"xaxis\": {\"tickmode\": \"array\", \"tickvals\": values},\n",
    "                \"yaxis\": {\n",
    "                    \"tickmode\": \"array\",\n",
    "                    \"tickvals\": (0, 1, 2),\n",
    "                    \"ticktext\": (\"Default\", \"Given colorscale\", \"Set color\"),\n",
    "                },\n",
    "            },\n",
    "            \"data\": data,\n",
    "        }\n",
    "    )"
   ]
  },
  {
   "cell_type": "markdown",
   "metadata": {},
   "source": [
    "## plot_heat_map"
   ]
  },
  {
   "cell_type": "code",
   "execution_count": null,
   "metadata": {},
   "outputs": [],
   "source": [
    "matrix = np.arange(32).reshape(4, 8)\n",
    "\n",
    "kraft.plot.plot_heat_map(matrix)"
   ]
  },
  {
   "cell_type": "code",
   "execution_count": null,
   "metadata": {},
   "outputs": [],
   "source": [
    "dataframe = pd.DataFrame(matrix)\n",
    "\n",
    "dataframe.index = pd.Index(\n",
    "    (\"Index {}\".format(i) for i in dataframe.index), name=\"Index\"\n",
    ")\n",
    "\n",
    "dataframe.columns = pd.Index(\n",
    "    (\"Column {}\".format(i) for i in dataframe.columns), name=\"Column\"\n",
    ")\n",
    "\n",
    "dataframe"
   ]
  },
  {
   "cell_type": "code",
   "execution_count": null,
   "metadata": {},
   "outputs": [],
   "source": [
    "row_annotations = np.random.randint(0, high=2, size=dataframe.shape[0])\n",
    "\n",
    "column_annotations = np.random.randint(0, high=4, size=dataframe.shape[1])\n",
    "\n",
    "kraft.plot.plot_heat_map(\n",
    "    dataframe,\n",
    "    colorscale=pl.colors.make_colorscale((\"#0000ff\", \"#ffffff\", \"#ff0000\")),\n",
    "    row_annotations=row_annotations,\n",
    "    row_annotation_colorscale=\"earth\",\n",
    "    row_annotation_str={\n",
    "        i: \"Row Group {}\".format(i) for i in np.unique(row_annotations)\n",
    "    },\n",
    "    column_annotations=column_annotations,\n",
    "    column_annotation_colorscale=\"sunset\",\n",
    "    column_annotation_str={\n",
    "        i: \"Column Group {}\".format(i) for i in np.unique(column_annotations)\n",
    "    },\n",
    ")"
   ]
  },
  {
   "cell_type": "markdown",
   "metadata": {},
   "source": [
    "## plot_bubble_map"
   ]
  },
  {
   "cell_type": "code",
   "execution_count": null,
   "metadata": {},
   "outputs": [],
   "source": [
    "kraft.plot.plot_bubble_map(dataframe)"
   ]
  },
  {
   "cell_type": "markdown",
   "metadata": {},
   "source": [
    "## plot_histogram"
   ]
  },
  {
   "cell_type": "code",
   "execution_count": null,
   "metadata": {},
   "outputs": [],
   "source": [
    "kraft.plot.plot_histogram(\n",
    "    (\n",
    "        np.random.random_sample(size=100),\n",
    "        pd.Series(\n",
    "            np.random.normal(size=100),\n",
    "            name=\"Normal\",\n",
    "            index=(\"Normal{}\".format(i) for i in range(100)),\n",
    "        ),\n",
    "        np.random.randint(0, 8, size=100),\n",
    "        np.random.randint(0, 16, size=100),\n",
    "    ),\n",
    "    layout={\"title\": {\"text\": \"Title\"}},\n",
    ")"
   ]
  }
 ],
 "metadata": {
  "kernelspec": {
   "display_name": "Python 3",
   "language": "python",
   "name": "python3"
  },
  "language_info": {
   "codemirror_mode": {
    "name": "ipython",
    "version": 3
   },
   "file_extension": ".py",
   "mimetype": "text/x-python",
   "name": "python",
   "nbconvert_exporter": "python",
   "pygments_lexer": "ipython3",
   "version": "3.7.6"
  }
 },
 "nbformat": 4,
 "nbformat_minor": 4
}
