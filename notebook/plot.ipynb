{
 "cells": [
  {
   "cell_type": "code",
   "execution_count": null,
   "metadata": {
    "ExecuteTime": {
     "end_time": "2018-05-07T09:20:35.534246Z",
     "start_time": "2018-05-07T09:20:35.501885Z"
    }
   },
   "outputs": [],
   "source": [
    "%load_ext autoreload\n",
    "%autoreload 2"
   ]
  },
  {
   "cell_type": "code",
   "execution_count": null,
   "metadata": {
    "ExecuteTime": {
     "end_time": "2018-05-07T09:20:35.926851Z",
     "start_time": "2018-05-07T09:20:35.538033Z"
    }
   },
   "outputs": [],
   "source": [
    "import os\n",
    "import sys\n",
    "\n",
    "import numpy as np\n",
    "import pandas as pd\n",
    "import plotly as pl"
   ]
  },
  {
   "cell_type": "code",
   "execution_count": null,
   "metadata": {},
   "outputs": [],
   "source": [
    "sys.path.insert(0, \"..\")\n",
    "\n",
    "import ccal\n",
    "\n",
    "np.random.random(20121020)\n",
    "\n",
    "pl.offline.init_notebook_mode(connected=True)"
   ]
  },
  {
   "cell_type": "code",
   "execution_count": null,
   "metadata": {
    "ExecuteTime": {
     "end_time": "2018-05-07T09:20:36.644901Z",
     "start_time": "2018-05-07T09:20:35.962000Z"
    }
   },
   "outputs": [],
   "source": [
    "for colors in (ccal.COLOR_CATEGORICAL, ccal.COLOR_WHITE_BLACK, ccal.COLOR_RUBY_EMERALD):\n",
    "\n",
    "    colorscale = ccal.make_colorscale(colors=colors)\n",
    "\n",
    "colorscale = ccal.make_colorscale(colormap=\"ocean\")\n",
    "\n",
    "colorscale = ccal.make_colorscale(n_category=8)"
   ]
  },
  {
   "cell_type": "code",
   "execution_count": null,
   "metadata": {
    "ExecuteTime": {
     "end_time": "2018-05-07T09:20:36.788779Z",
     "start_time": "2018-05-07T09:20:36.700852Z"
    }
   },
   "outputs": [],
   "source": [
    "ccal.make_random_color(\"hex\")"
   ]
  },
  {
   "cell_type": "code",
   "execution_count": null,
   "metadata": {
    "ExecuteTime": {
     "end_time": "2018-05-07T09:20:36.920184Z",
     "start_time": "2018-05-07T09:20:36.803616Z"
    }
   },
   "outputs": [],
   "source": [
    "positions = ((\"Position 0\",), (\"Position 1\",), (\"Position 2\",))\n",
    "\n",
    "heights = ((2,), (4,), (8,))\n",
    "\n",
    "colors = (\"Red\", \"Green\", \"Blue\")\n",
    "\n",
    "for orientation, xs, ys in ((\"v\", positions, heights), (\"h\", heights, positions)):\n",
    "\n",
    "    ccal.plot_bar(\n",
    "        xs,\n",
    "        ys,\n",
    "        names=colors,\n",
    "        colors=colors,\n",
    "        position_labels=colors,\n",
    "        position_label_colors=colors,\n",
    "        orientation=orientation,\n",
    "        xaxis_dtick=2,\n",
    "        yaxis_dtick=2,\n",
    "    )"
   ]
  },
  {
   "cell_type": "code",
   "execution_count": null,
   "metadata": {
    "ExecuteTime": {
     "end_time": "2018-05-07T09:20:37.216100Z",
     "start_time": "2018-05-07T09:20:37.013576Z"
    }
   },
   "outputs": [],
   "source": [
    "n_row = 8\n",
    "\n",
    "n_column = 16\n",
    "\n",
    "df = pd.DataFrame(\n",
    "    np.random.random_sample(size=(n_row, n_column)),\n",
    "    index=tuple(\"Index {}\".format(i) for i in range(n_row)),\n",
    "    columns=tuple(\"Column {}\".format(j) for j in range(n_column)),\n",
    ")\n",
    "\n",
    "df.iloc[0, 1] = 1.6\n",
    "\n",
    "print(df)\n",
    "\n",
    "ccal.plot_bubble_map(df)"
   ]
  },
  {
   "cell_type": "code",
   "execution_count": null,
   "metadata": {},
   "outputs": [],
   "source": [
    "ccal.plot_color_text((\"#ff0000\", \"#0000ff\"), (\"Red\", \"Blue\"))"
   ]
  },
  {
   "cell_type": "code",
   "execution_count": null,
   "metadata": {
    "ExecuteTime": {
     "end_time": "2018-05-07T09:20:37.296650Z",
     "start_time": "2018-05-07T09:20:37.220445Z"
    }
   },
   "outputs": [],
   "source": [
    "x = np.random.random_sample(size=80)\n",
    "\n",
    "ccal.plot_distributions((x, x * 2))"
   ]
  },
  {
   "cell_type": "code",
   "execution_count": null,
   "metadata": {
    "ExecuteTime": {
     "end_time": "2018-05-07T09:20:37.817873Z",
     "start_time": "2018-05-07T09:20:37.300120Z"
    }
   },
   "outputs": [],
   "source": [
    "df = pd.DataFrame([(0, 3), (2, 1)], index=(\"0\", \"1\"))\n",
    "\n",
    "ccal.plot_heat_map(df)\n",
    "\n",
    "ccal.plot_heat_map(df.values)\n",
    "\n",
    "df.index = (\"_0\", \"_1\")\n",
    "\n",
    "ccal.plot_heat_map(df)\n",
    "\n",
    "ccal.plot_heat_map(df.values)\n",
    "\n",
    "df = pd.DataFrame(np.random.random_sample(size=(8, 16)))\n",
    "\n",
    "indices = [0, 1]\n",
    "\n",
    "df.iloc[indices, indices] = np.nan\n",
    "\n",
    "df.index = (\"Index {}\".format(i) for i in range(df.shape[0]))\n",
    "\n",
    "df.columns = (\"Column {}\".format(i) for i in range(df.shape[1]))\n",
    "\n",
    "column_annotation = np.random.randint(0, high=df.shape[1] // 2, size=df.shape[1])\n",
    "\n",
    "row_annotation = np.random.randint(0, high=df.shape[0] // 2, size=df.shape[0])\n",
    "\n",
    "ccal.plot_heat_map(\n",
    "    df,\n",
    "    column_annotation=column_annotation,\n",
    "    column_annotation_str={\n",
    "        a: \"Column Group {}\".format(a) for a in set(column_annotation)\n",
    "    },\n",
    "    column_annotation_kwargs={\"textangle\": -90, \"yshift\": 88},\n",
    "    row_annotation=row_annotation,\n",
    "    row_annotation_str={a: \"Row Group {}\".format(a) for a in set(row_annotation)},\n",
    "    row_annotation_kwargs={\"xshift\": 80},\n",
    "    colorbar_x=1.16,\n",
    ")"
   ]
  },
  {
   "cell_type": "code",
   "execution_count": null,
   "metadata": {
    "ExecuteTime": {
     "end_time": "2018-05-07T09:20:38.344979Z",
     "start_time": "2018-05-07T09:20:38.249945Z"
    }
   },
   "outputs": [],
   "source": [
    "n = 8\n",
    "\n",
    "values = np.random.randint(0, 10, size=n)\n",
    "\n",
    "labels = tuple(\"Label {}\".format(i) for i in range(n))\n",
    "\n",
    "annotation_color = {\"A\" * (i + 1): ccal.make_random_color(\"hex\") for i in range(n)}\n",
    "\n",
    "ccal.plot_pie(values, labels)"
   ]
  },
  {
   "cell_type": "code",
   "execution_count": null,
   "metadata": {
    "ExecuteTime": {
     "end_time": "2018-05-07T09:20:38.428023Z",
     "start_time": "2018-05-07T09:20:38.348292Z"
    }
   },
   "outputs": [],
   "source": [
    "x = np.linspace(-8, 8, 80)\n",
    "\n",
    "y = np.linspace(-16, 16, 80)\n",
    "\n",
    "ccal.plot_points((x, x), (y, y * 2))"
   ]
  },
  {
   "cell_type": "code",
   "execution_count": null,
   "metadata": {
    "ExecuteTime": {
     "end_time": "2018-05-07T09:20:38.640144Z",
     "start_time": "2018-05-07T09:20:38.432162Z"
    }
   },
   "outputs": [],
   "source": [
    "df = pd.DataFrame(np.random.randint(0, 1, size=(16, 8)))\n",
    "\n",
    "df.index = (\"Index {}\".format(i) for i in range(df.shape[0]))\n",
    "\n",
    "df.columns = (\"Column {}\".format(i) for i in range(df.shape[1]))\n",
    "\n",
    "ccal.plot_table(df)"
   ]
  },
  {
   "cell_type": "code",
   "execution_count": null,
   "metadata": {},
   "outputs": [],
   "source": [
    "n = 80\n",
    "\n",
    "y = np.random.random_sample(size=n)\n",
    "\n",
    "ys = (y, y * 2)\n",
    "\n",
    "for violin_or_box in (\"violin\", \"box\"):\n",
    "\n",
    "    ccal.plot_violin_or_box(ys, violin_or_box=violin_or_box)"
   ]
  }
 ],
 "metadata": {
  "kernelspec": {
   "display_name": "Python 3",
   "language": "python",
   "name": "python3"
  },
  "language_info": {
   "codemirror_mode": {
    "name": "ipython",
    "version": 3
   },
   "file_extension": ".py",
   "mimetype": "text/x-python",
   "name": "python",
   "nbconvert_exporter": "python",
   "pygments_lexer": "ipython3",
   "version": "3.6.7"
  }
 },
 "nbformat": 4,
 "nbformat_minor": 2
}
