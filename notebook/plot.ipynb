{
 "cells": [
  {
   "cell_type": "code",
   "execution_count": null,
   "metadata": {},
   "outputs": [],
   "source": [
    "%load_ext autoreload\n",
    "%autoreload 2"
   ]
  },
  {
   "cell_type": "code",
   "execution_count": null,
   "metadata": {
    "ExecuteTime": {
     "end_time": "2018-05-15T09:28:55.668422Z",
     "start_time": "2018-05-15T09:28:55.428950Z"
    }
   },
   "outputs": [],
   "source": [
    "import numpy as np\n",
    "import pandas as pd\n",
    "import plotly as pl\n",
    "\n",
    "import kraft"
   ]
  },
  {
   "cell_type": "code",
   "execution_count": null,
   "metadata": {},
   "outputs": [],
   "source": [
    "n_row = 10\n",
    "\n",
    "n_column = 21\n",
    "\n",
    "dataframe = pd.DataFrame(\n",
    "    np.arange(n_row * n_column).reshape((n_row, n_column)),\n",
    "    index=pd.Index((\"Row {}\".format(i) for i in range(n_row)), name=\"Row\"),\n",
    "    columns=pd.Index((\"Column {}\".format(i) for i in range(n_column)), name=\"Column\"),\n",
    ")\n",
    "\n",
    "dataframe"
   ]
  },
  {
   "cell_type": "code",
   "execution_count": null,
   "metadata": {},
   "outputs": [],
   "source": [
    "kraft.plot_bubble_map(\n",
    "    dataframe, colorscale=pl.colors.make_colorscale((\"#0000ff\", \"#ffffff\", \"#ff0000\"))\n",
    ")"
   ]
  },
  {
   "cell_type": "code",
   "execution_count": null,
   "metadata": {},
   "outputs": [],
   "source": [
    "def make_consecutive_group_labels(n, n_group):\n",
    "\n",
    "    n_per_group = n // n_group\n",
    "\n",
    "    labels = kraft.flatten_nested_iterable(((i,) * n_per_group for i in range(n_group)))\n",
    "\n",
    "    if len(labels) < n:\n",
    "\n",
    "        labels += labels[-1:]\n",
    "\n",
    "    return labels"
   ]
  },
  {
   "cell_type": "code",
   "execution_count": null,
   "metadata": {},
   "outputs": [],
   "source": [
    "kraft.plot_heat_map(\n",
    "    dataframe,\n",
    "    colorscale=pl.colors.make_colorscale((\"#0000ff\", \"#ffffff\", \"#ff0000\")),\n",
    "    row_annotations=make_consecutive_group_labels(dataframe.shape[0], 2),\n",
    "    row_annotation_colorscale=pl.colors.make_colorscale((\"pink\", \"violet\")),\n",
    "    row_annotation_str={i: \"Row {}\".format(i) for i in range(dataframe.shape[0] // 2)},\n",
    "    column_annotations=make_consecutive_group_labels(dataframe.shape[1], 3),\n",
    "    column_annotation_colorscale=pl.colors.make_colorscale(\n",
    "        (\"yellow\", \"gold\", \"orange\")\n",
    "    ),\n",
    "    column_annotation_str={\n",
    "        i: \"Column {}\".format(i) for i in range(dataframe.shape[1] // 2)\n",
    "    },\n",
    ")"
   ]
  }
 ],
 "metadata": {
  "kernelspec": {
   "display_name": "Python 3",
   "language": "python",
   "name": "python3"
  },
  "language_info": {
   "codemirror_mode": {
    "name": "ipython",
    "version": 3
   },
   "file_extension": ".py",
   "mimetype": "text/x-python",
   "name": "python",
   "nbconvert_exporter": "python",
   "pygments_lexer": "ipython3",
   "version": "3.7.3"
  }
 },
 "nbformat": 4,
 "nbformat_minor": 4
}
