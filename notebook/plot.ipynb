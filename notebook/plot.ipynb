{
 "cells": [
  {
   "cell_type": "code",
   "execution_count": null,
   "metadata": {},
   "outputs": [],
   "source": [
    "%load_ext autoreload\n",
    "%autoreload 2"
   ]
  },
  {
   "cell_type": "code",
   "execution_count": null,
   "metadata": {
    "ExecuteTime": {
     "end_time": "2018-05-15T09:28:55.668422Z",
     "start_time": "2018-05-15T09:28:55.428950Z"
    }
   },
   "outputs": [],
   "source": [
    "import os\n",
    "\n",
    "import numpy as np\n",
    "import pandas as pd\n",
    "import plotly as pl\n",
    "\n",
    "import kraft"
   ]
  },
  {
   "cell_type": "code",
   "execution_count": null,
   "metadata": {},
   "outputs": [],
   "source": [
    "directory_path = os.path.expanduser(\"~/Downloads/\")"
   ]
  },
  {
   "cell_type": "markdown",
   "metadata": {},
   "source": [
    "## DATA_TYPE_TO_COLORSCALE"
   ]
  },
  {
   "cell_type": "code",
   "execution_count": null,
   "metadata": {},
   "outputs": [],
   "source": [
    "for data_type, colorscale in kraft.plot.DATA_TYPE_TO_COLORSCALE.items():\n",
    "\n",
    "    for vector in (\n",
    "        np.arange(11),\n",
    "        np.arange(0, 1.1, 0.1),\n",
    "    ):\n",
    "\n",
    "        kraft.plot.plot_plotly(\n",
    "            {\n",
    "                \"layout\": {\"height\": 240, \"title\": {\"text\": data_type}},\n",
    "                \"data\": [\n",
    "                    {\n",
    "                        \"type\": \"heatmap\",\n",
    "                        \"z\": vector,\n",
    "                        \"x\": vector,\n",
    "                        \"y\": (0,) * len(vector),\n",
    "                        \"colorscale\": colorscale,\n",
    "                        \"showscale\": False,\n",
    "                    }\n",
    "                ],\n",
    "            }\n",
    "        )"
   ]
  },
  {
   "cell_type": "markdown",
   "metadata": {},
   "source": [
    "## plot_plotly"
   ]
  },
  {
   "cell_type": "code",
   "execution_count": null,
   "metadata": {},
   "outputs": [],
   "source": [
    "figure = {\"layout\": {\"title\": \"Title\"}}\n",
    "\n",
    "kraft.plot.plot_plotly(figure, file_path=\"{}/plot.html\".format(directory_path))"
   ]
  },
  {
   "cell_type": "markdown",
   "metadata": {},
   "source": [
    "## get_color"
   ]
  },
  {
   "cell_type": "code",
   "execution_count": null,
   "metadata": {},
   "outputs": [],
   "source": [
    "colorscale = pl.colors.make_colorscale(pl.colors.qualitative.Plotly)\n",
    "\n",
    "scatter_base = {\n",
    "    \"showlegend\": False,\n",
    "    \"mode\": \"markers\",\n",
    "    \"marker\": {\"size\": 32},\n",
    "}\n",
    "\n",
    "for number_, maximum_number in (\n",
    "    (np.arange(10), 10),\n",
    "    (np.linspace(0, 1, num=10), None),\n",
    "    ((0.5,), None),\n",
    "    ((1,), None),\n",
    "    ((1,), 3),\n",
    "    ((0,), None),\n",
    "):\n",
    "\n",
    "    data = [\n",
    "        kraft.dictionary.merge(\n",
    "            scatter_base,\n",
    "            {\"x\": number_, \"y\": (0,) * len(number_), \"marker\": {\"color\": number_}},\n",
    "        ),\n",
    "        kraft.dictionary.merge(\n",
    "            scatter_base,\n",
    "            {\n",
    "                \"x\": number_,\n",
    "                \"y\": (1,) * len(number_),\n",
    "                \"marker\": {\"color\": number_, \"colorscale\": colorscale},\n",
    "            },\n",
    "        ),\n",
    "    ] + [\n",
    "        kraft.dictionary.merge(\n",
    "            scatter_base,\n",
    "            {\n",
    "                \"x\": (number,),\n",
    "                \"y\": (2,),\n",
    "                \"marker\": {\n",
    "                    \"color\": kraft.plot.get_color(\n",
    "                        colorscale, number, maximum_number=maximum_number\n",
    "                    )\n",
    "                },\n",
    "            },\n",
    "        )\n",
    "        for number in number_\n",
    "    ]\n",
    "\n",
    "    kraft.plot.plot_plotly(\n",
    "        {\n",
    "            \"data\": data,\n",
    "            \"layout\": {\n",
    "                \"xaxis\": {\"tickmode\": \"array\", \"tickvals\": number_},\n",
    "                \"yaxis\": {\n",
    "                    \"tickmode\": \"array\",\n",
    "                    \"tickvals\": (0, 1, 2),\n",
    "                    \"ticktext\": (\"Default\", \"Colorscale\", \"Color\"),\n",
    "                },\n",
    "            },\n",
    "        }\n",
    "    )"
   ]
  },
  {
   "cell_type": "markdown",
   "metadata": {},
   "source": [
    "## plot_heat_map"
   ]
  },
  {
   "cell_type": "code",
   "execution_count": null,
   "metadata": {},
   "outputs": [],
   "source": [
    "axis_0_size = 4\n",
    "\n",
    "axis_1_size = 8\n",
    "\n",
    "matrix = (\n",
    "    np.arange(axis_0_size * axis_1_size)\n",
    "    .reshape((axis_0_size, axis_1_size))\n",
    "    .astype(float)\n",
    ")\n",
    "\n",
    "matrix[:2, :2] = np.nan\n",
    "\n",
    "axis_0_label_ = np.asarray(\n",
    "    tuple(\"Label {}\".format(index) for index in range(axis_0_size))\n",
    ")\n",
    "\n",
    "axis_1_label_ = np.asarray(\n",
    "    tuple(\"Label {}\".format(index) for index in range(axis_1_size))\n",
    ")\n",
    "\n",
    "axis_0_name = \"Axis 0\"\n",
    "\n",
    "axis_1_name = \"Axis 1\"\n",
    "\n",
    "group_to_name = {index: \"Group {}\".format(index) for index in range(10)}\n",
    "\n",
    "kraft.plot.plot_heat_map(\n",
    "    matrix,\n",
    "    axis_0_label_,\n",
    "    axis_1_label_,\n",
    "    axis_0_name,\n",
    "    axis_1_name,\n",
    "    axis_0_group_=np.random.randint(0, high=2, size=axis_0_size),\n",
    "    axis_0_group_colorscale=\"teal\",\n",
    "    axis_0_group_to_name=group_to_name,\n",
    "    axis_1_group_=np.random.randint(0, high=4, size=axis_1_size),\n",
    "    axis_1_group_colorscale=\"purp\",\n",
    "    axis_1_group_to_name=group_to_name,\n",
    "    layout={\"title\": {\"text\": \"Heat Map\"}},\n",
    ")"
   ]
  },
  {
   "cell_type": "markdown",
   "metadata": {},
   "source": [
    "## plot_bubble_map"
   ]
  },
  {
   "cell_type": "code",
   "execution_count": null,
   "metadata": {},
   "outputs": [],
   "source": [
    "axis_0_size = 4\n",
    "\n",
    "axis_1_size = 8\n",
    "\n",
    "matrix = (\n",
    "    np.arange(axis_0_size * axis_1_size)\n",
    "    .reshape((axis_0_size, axis_1_size))\n",
    "    .astype(float)\n",
    ")\n",
    "\n",
    "# matrix[:2, :2] = np.nan\n",
    "\n",
    "axis_0_label_ = np.asarray(\n",
    "    tuple(\"Label {}\".format(index) for index in range(axis_0_size))\n",
    ")\n",
    "\n",
    "axis_1_label_ = np.asarray(\n",
    "    tuple(\"Label {}\".format(index) for index in range(axis_1_size))\n",
    ")\n",
    "\n",
    "axis_0_name = \"Axis 0\"\n",
    "\n",
    "axis_1_name = \"Axis 1\"\n",
    "\n",
    "kraft.plot.plot_bubble_map(\n",
    "    matrix,\n",
    "    axis_0_label_,\n",
    "    axis_1_label_,\n",
    "    axis_0_name,\n",
    "    axis_1_name,\n",
    "    color_matrix=-matrix,\n",
    "    max_size=64,\n",
    "    layout={\"title\": {\"text\": \"Bubble Map\"}},\n",
    ")"
   ]
  },
  {
   "cell_type": "markdown",
   "metadata": {},
   "source": [
    "## plot_histogram"
   ]
  },
  {
   "cell_type": "code",
   "execution_count": null,
   "metadata": {},
   "outputs": [],
   "source": [
    "point_number = 32\n",
    "\n",
    "kraft.plot.plot_histogram(\n",
    "    (\n",
    "        np.random.random_sample(size=point_number),\n",
    "        np.random.normal(size=point_number),\n",
    "        np.random.randint(0, 8, size=point_number),\n",
    "        np.random.randint(0, 16, size=point_number),\n",
    "    ),\n",
    "    (\n",
    "        np.asarray(tuple(\"Label {}\".format(index) for index in range(point_number))),\n",
    "        np.asarray(tuple(\"Label {}\".format(index) for index in range(point_number))),\n",
    "        np.asarray(tuple(\"Label {}\".format(index) for index in range(point_number))),\n",
    "        np.asarray(tuple(\"Label {}\".format(index) for index in range(point_number))),\n",
    "    ),\n",
    "    (\"Uniform\", \"Normal\", \"8 Category\", \"16 Category\",),\n",
    "    layout={\"title\": {\"text\": \"Histogram\"}, \"xaxis\": {\"title\": {\"text\": \"Number\"}}},\n",
    ")"
   ]
  }
 ],
 "metadata": {
  "kernelspec": {
   "display_name": "Python 3",
   "language": "python",
   "name": "python3"
  },
  "language_info": {
   "codemirror_mode": {
    "name": "ipython",
    "version": 3
   },
   "file_extension": ".py",
   "mimetype": "text/x-python",
   "name": "python",
   "nbconvert_exporter": "python",
   "pygments_lexer": "ipython3",
   "version": "3.7.8"
  }
 },
 "nbformat": 4,
 "nbformat_minor": 4
}
