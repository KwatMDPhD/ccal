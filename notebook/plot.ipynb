{
 "cells": [
  {
   "cell_type": "code",
   "execution_count": null,
   "metadata": {},
   "outputs": [],
   "source": [
    "%load_ext autoreload\n",
    "%autoreload 2"
   ]
  },
  {
   "cell_type": "code",
   "execution_count": null,
   "metadata": {
    "ExecuteTime": {
     "end_time": "2018-05-15T09:28:55.668422Z",
     "start_time": "2018-05-15T09:28:55.428950Z"
    }
   },
   "outputs": [],
   "source": [
    "import numpy as np\n",
    "import plotly as pl\n",
    "\n",
    "import kraft"
   ]
  },
  {
   "cell_type": "code",
   "execution_count": null,
   "metadata": {},
   "outputs": [],
   "source": [
    "kraft.plot_histogram(\n",
    "    tuple(\n",
    "        kraft.simulate_series_or_dataframe(\"Index \", how, (100,), how)\n",
    "        for how in (\"uniform\", \"normal\", 3)\n",
    "    )\n",
    ")"
   ]
  },
  {
   "cell_type": "code",
   "execution_count": null,
   "metadata": {},
   "outputs": [],
   "source": [
    "dataframe = kraft.simulate_series_or_dataframe(\"Row\", \"Column\", (5, 10), \"range\")\n",
    "\n",
    "dataframe"
   ]
  },
  {
   "cell_type": "code",
   "execution_count": null,
   "metadata": {},
   "outputs": [],
   "source": [
    "kraft.plot_bubble_map(dataframe)"
   ]
  },
  {
   "cell_type": "code",
   "execution_count": null,
   "metadata": {},
   "outputs": [],
   "source": [
    "row_annotations = tuple(np.random.choice((0, 1)) for i in range(dataframe.shape[0]))\n",
    "\n",
    "column_annotations = tuple(\n",
    "    np.random.choice((0, 1, 2)) for i in range(dataframe.shape[1])\n",
    ")\n",
    "\n",
    "kraft.plot_heat_map(\n",
    "    dataframe,\n",
    "    colorscale=pl.colors.make_colorscale((\"#0000ff\", \"#ffffff\", \"#ff0000\")),\n",
    "    row_annotations=row_annotations,\n",
    "    row_annotation_colorscale=pl.colors.make_colorscale((\"pink\", \"violet\")),\n",
    "    row_annotation_str={\n",
    "        i: \"Row Group {}\".format(i) for i in sorted(set(row_annotations))\n",
    "    },\n",
    "    column_annotations=column_annotations,\n",
    "    column_annotation_colorscale=pl.colors.make_colorscale(\n",
    "        (\"yellow\", \"gold\", \"orange\")\n",
    "    ),\n",
    "    column_annotation_str={\n",
    "        i: \"Column Group {}\".format(i) for i in sorted(set(column_annotations))\n",
    "    },\n",
    ")"
   ]
  }
 ],
 "metadata": {
  "kernelspec": {
   "display_name": "Python 3",
   "language": "python",
   "name": "python3"
  },
  "language_info": {
   "codemirror_mode": {
    "name": "ipython",
    "version": 3
   },
   "file_extension": ".py",
   "mimetype": "text/x-python",
   "name": "python",
   "nbconvert_exporter": "python",
   "pygments_lexer": "ipython3",
   "version": "3.7.3"
  }
 },
 "nbformat": 4,
 "nbformat_minor": 4
}
