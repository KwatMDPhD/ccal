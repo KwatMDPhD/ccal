{
 "cells": [
  {
   "cell_type": "code",
   "execution_count": null,
   "metadata": {
    "execution": {
     "iopub.execute_input": "2021-06-02T09:05:59.503082Z",
     "iopub.status.busy": "2021-06-02T09:05:59.502393Z",
     "iopub.status.idle": "2021-06-02T09:05:59.515244Z",
     "shell.execute_reply": "2021-06-02T09:05:59.515852Z"
    },
    "tags": []
   },
   "outputs": [],
   "source": [
    "%load_ext autoreload\n",
    "%autoreload 2"
   ]
  },
  {
   "cell_type": "code",
   "execution_count": null,
   "metadata": {
    "ExecuteTime": {
     "end_time": "2018-05-15T09:28:55.668422Z",
     "start_time": "2018-05-15T09:28:55.428950Z"
    },
    "execution": {
     "iopub.execute_input": "2021-06-02T09:05:59.519515Z",
     "iopub.status.busy": "2021-06-02T09:05:59.518847Z",
     "iopub.status.idle": "2021-06-02T09:06:00.131057Z",
     "shell.execute_reply": "2021-06-02T09:06:00.131641Z"
    },
    "tags": []
   },
   "outputs": [],
   "source": [
    "import kraft"
   ]
  },
  {
   "cell_type": "code",
   "execution_count": null,
   "metadata": {
    "execution": {
     "iopub.execute_input": "2021-06-02T09:06:00.135137Z",
     "iopub.status.busy": "2021-06-02T09:06:00.134530Z",
     "iopub.status.idle": "2021-06-02T09:06:00.157430Z",
     "shell.execute_reply": "2021-06-02T09:06:00.157901Z"
    },
    "tags": []
   },
   "outputs": [],
   "source": [
    "pa = kraft.path.get_absolute(\"~/Downloads/\")"
   ]
  },
  {
   "cell_type": "markdown",
   "metadata": {},
   "source": [
    "## plot_plotly"
   ]
  },
  {
   "cell_type": "code",
   "execution_count": null,
   "metadata": {
    "execution": {
     "iopub.execute_input": "2021-06-02T09:06:00.162910Z",
     "iopub.status.busy": "2021-06-02T09:06:00.161943Z",
     "iopub.status.idle": "2021-06-02T09:06:00.513875Z",
     "shell.execute_reply": "2021-06-02T09:06:00.513391Z"
    },
    "tags": []
   },
   "outputs": [],
   "source": [
    "figure = {\n",
    "    \"layout\": {\n",
    "        \"title\": \"Title\",\n",
    "    },\n",
    "}\n",
    "\n",
    "kraft.plot.plot_plotly(figure, pa=\"{}plot.html\".format(pa))"
   ]
  },
  {
   "cell_type": "markdown",
   "metadata": {},
   "source": [
    "## *_COLORSCALE"
   ]
  },
  {
   "cell_type": "code",
   "execution_count": null,
   "metadata": {
    "execution": {
     "iopub.execute_input": "2021-06-02T09:06:00.517548Z",
     "iopub.status.busy": "2021-06-02T09:06:00.516892Z",
     "iopub.status.idle": "2021-06-02T09:06:00.541745Z",
     "shell.execute_reply": "2021-06-02T09:06:00.542158Z"
    },
    "tags": []
   },
   "outputs": [],
   "source": [
    "import numpy as np"
   ]
  },
  {
   "cell_type": "code",
   "execution_count": null,
   "metadata": {
    "execution": {
     "iopub.execute_input": "2021-06-02T09:06:00.546768Z",
     "iopub.status.busy": "2021-06-02T09:06:00.546095Z",
     "iopub.status.idle": "2021-06-02T09:06:00.686511Z",
     "shell.execute_reply": "2021-06-02T09:06:00.687202Z"
    },
    "tags": []
   },
   "outputs": [],
   "source": [
    "for colorscale in (\n",
    "    kraft.plot.CONTINUOUS_COLORSCALE,\n",
    "    kraft.plot.CATEGORICAL_COLORSCALE,\n",
    "    kraft.plot.BINARY_COLORSCALE,\n",
    "):\n",
    "\n",
    "    for nu_ in [np.arange(11), np.arange(0, 1.1, 0.1)]:\n",
    "\n",
    "        kraft.plot.plot_plotly(\n",
    "            {\n",
    "                \"data\": [\n",
    "                    {\n",
    "                        \"type\": \"heatmap\",\n",
    "                        \"z\": nu_,\n",
    "                        \"y\": [0] * len(nu_),\n",
    "                        \"x\": nu_,\n",
    "                        \"colorscale\": colorscale,\n",
    "                        \"showscale\": False,\n",
    "                    }\n",
    "                ],\n",
    "                \"layout\": {\n",
    "                    \"height\": 240,\n",
    "                },\n",
    "            }\n",
    "        )"
   ]
  },
  {
   "cell_type": "markdown",
   "metadata": {},
   "source": [
    "## get_color"
   ]
  },
  {
   "cell_type": "code",
   "execution_count": null,
   "metadata": {
    "execution": {
     "iopub.execute_input": "2021-06-02T09:06:00.690549Z",
     "iopub.status.busy": "2021-06-02T09:06:00.690020Z",
     "iopub.status.idle": "2021-06-02T09:06:00.714960Z",
     "shell.execute_reply": "2021-06-02T09:06:00.715411Z"
    },
    "tags": []
   },
   "outputs": [],
   "source": [
    "for fr in np.linspace(0, 1, 5):\n",
    "\n",
    "    print(kraft.plot.get_color([[0, \"#ff0000\"], [0.5, \"#00ff00\"], [1, \"#0000ff\"]], fr))"
   ]
  },
  {
   "cell_type": "code",
   "execution_count": null,
   "metadata": {
    "execution": {
     "iopub.execute_input": "2021-06-02T09:06:00.721817Z",
     "iopub.status.busy": "2021-06-02T09:06:00.721191Z",
     "iopub.status.idle": "2021-06-02T09:06:00.865679Z",
     "shell.execute_reply": "2021-06-02T09:06:00.866375Z"
    },
    "tags": []
   },
   "outputs": [],
   "source": [
    "colorscale = kraft.plot.CATEGORICAL_COLORSCALE\n",
    "\n",
    "for (nu_, n_co) in [\n",
    "    [np.linspace(0, 1, 10), None],\n",
    "    [np.arange(10), 10],\n",
    "    [[0.5], None],\n",
    "    [[1], None],\n",
    "    [[0], None],\n",
    "    [[1], 3],\n",
    "]:\n",
    "\n",
    "    print(nu_)\n",
    "\n",
    "    print(n_co)\n",
    "\n",
    "    if n_co is not None:\n",
    "\n",
    "        nu_ = [nu / (n_co - 1) for nu in nu_]\n",
    "\n",
    "    nu_ = np.array(nu_)\n",
    "\n",
    "    data = [\n",
    "        {\n",
    "            \"y\": [0] * nu_.size,\n",
    "            \"x\": nu_,\n",
    "            \"mode\": \"markers\",\n",
    "            \"marker\": {\n",
    "                \"size\": 32,\n",
    "                \"color\": nu_,\n",
    "                \"colorscale\": colorscale,\n",
    "            },\n",
    "            \"showlegend\": False,\n",
    "        }\n",
    "    ]\n",
    "\n",
    "    for nu in nu_:\n",
    "\n",
    "        data.append(\n",
    "            {\n",
    "                \"y\": [1],\n",
    "                \"x\": [nu],\n",
    "                \"marker\": {\n",
    "                    \"size\": 32,\n",
    "                    \"color\": kraft.plot.get_color(colorscale, nu),\n",
    "                },\n",
    "                \"showlegend\": False,\n",
    "            }\n",
    "        )\n",
    "\n",
    "    kraft.plot.plot_plotly(\n",
    "        {\n",
    "            \"data\": data,\n",
    "            \"layout\": {\n",
    "                \"yaxis\": {\n",
    "                    \"tickmode\": \"array\",\n",
    "                    \"tickvals\": [0, 1],\n",
    "                    \"ticktext\": [\"Colorscale\", \"Color\"],\n",
    "                },\n",
    "            },\n",
    "        }\n",
    "    )"
   ]
  },
  {
   "cell_type": "markdown",
   "metadata": {},
   "source": [
    "## plot_point"
   ]
  },
  {
   "cell_type": "code",
   "execution_count": null,
   "metadata": {
    "execution": {
     "iopub.execute_input": "2021-06-02T09:06:00.869712Z",
     "iopub.status.busy": "2021-06-02T09:06:00.869195Z",
     "iopub.status.idle": "2021-06-02T09:06:00.891446Z",
     "shell.execute_reply": "2021-06-02T09:06:00.891045Z"
    },
    "tags": []
   },
   "outputs": [],
   "source": [
    "import pandas as pd"
   ]
  },
  {
   "cell_type": "code",
   "execution_count": null,
   "metadata": {
    "execution": {
     "iopub.execute_input": "2021-06-02T09:06:00.896196Z",
     "iopub.status.busy": "2021-06-02T09:06:00.895635Z",
     "iopub.status.idle": "2021-06-02T09:06:00.961855Z",
     "shell.execute_reply": "2021-06-02T09:06:00.962213Z"
    },
    "tags": []
   },
   "outputs": [],
   "source": [
    "an_po_pa = pd.DataFrame(\n",
    "    [[-1, -2], [0, 0], [1, 2], [2, 4], [4, 8]],\n",
    "    index=[\"A\", \"B\", \"C\", \"D\", \"E\"],\n",
    "    columns=[\"Dimension 1\", \"Dimension 2\"],\n",
    ")\n",
    "\n",
    "n_po = an_po_pa.shape[0]\n",
    "\n",
    "an_po_pa[\"Size\"] = np.arange(10, 10 + n_po) ** 1.6\n",
    "\n",
    "an_po_pa[\"Color\"] = \"#20d9ba\"\n",
    "\n",
    "an_po_pa[\"Opacity\"] = np.linspace(0.2, 1, n_po)\n",
    "\n",
    "bo_ = np.random.randint(0, 2, n_po, dtype=bool)\n",
    "\n",
    "an_po_pa[\"Annotate\"] = bo_\n",
    "\n",
    "an_po_pa.loc[bo_, [\"Size\", \"Color\", \"Opacity\"]] = [48, \"#9017e6\", 0.8]\n",
    "\n",
    "kraft.plot.plot_point(an_po_pa)\n",
    "\n",
    "an_po_pa"
   ]
  },
  {
   "cell_type": "markdown",
   "metadata": {},
   "source": [
    "## plot_heat_map"
   ]
  },
  {
   "cell_type": "code",
   "execution_count": null,
   "metadata": {
    "execution": {
     "iopub.execute_input": "2021-06-02T09:06:00.967107Z",
     "iopub.status.busy": "2021-06-02T09:06:00.966537Z",
     "iopub.status.idle": "2021-06-02T09:06:01.025733Z",
     "shell.execute_reply": "2021-06-02T09:06:01.026150Z"
    },
    "tags": []
   },
   "outputs": [],
   "source": [
    "si1 = 4\n",
    "\n",
    "si2 = 8\n",
    "\n",
    "nu_an_an = pd.DataFrame(\n",
    "    (np.arange(si1 * si2).reshape([si1, si2]).astype(float)),\n",
    "    pd.Index([\"Y{}\".format(ie) for ie in range(si1)], name=\"Dimension 1\"),\n",
    "    columns=pd.Index([\"X{}\".format(ie) for ie in range(si2)], name=\"Dimension 2\"),\n",
    ")\n",
    "\n",
    "nu_an_an.iloc[:2, :2] = np.nan\n",
    "\n",
    "gr1_la = {gr: \"Organ 1 {}\".format(gr) for gr in range(10)}\n",
    "\n",
    "gr2_la = {gr: \"Physiology 2 {}\".format(gr) for gr in range(10)}\n",
    "\n",
    "kraft.plot.plot_heat_map(\n",
    "    nu_an_an,\n",
    "    #     gr1_=np.random.randint(0, 2, si1),\n",
    "    #     colorscale1=\"teal\",\n",
    "    #     gr1_la=gr1_la,\n",
    "    #     gr2_=np.random.randint(0, 4, si2),\n",
    "    #     colorscale2=\"purp\",\n",
    "    #     gr2_la=gr2_la,\n",
    "    layout={\n",
    "        \"title\": {\n",
    "            \"text\": \"Heat Map\",\n",
    "        },\n",
    "    },\n",
    ")\n",
    "\n",
    "nu_an_an"
   ]
  },
  {
   "cell_type": "markdown",
   "metadata": {},
   "source": [
    "## plot_bubble_map"
   ]
  },
  {
   "cell_type": "code",
   "execution_count": null,
   "metadata": {
    "execution": {
     "iopub.execute_input": "2021-06-02T09:06:01.030805Z",
     "iopub.status.busy": "2021-06-02T09:06:01.030202Z",
     "iopub.status.idle": "2021-06-02T09:06:01.088842Z",
     "shell.execute_reply": "2021-06-02T09:06:01.089251Z"
    },
    "tags": []
   },
   "outputs": [],
   "source": [
    "si1 = 4\n",
    "\n",
    "si2 = 8\n",
    "\n",
    "si_an_an = pd.DataFrame(\n",
    "    (np.arange(si1 * si2).reshape([si1, si2]).astype(float)),\n",
    "    pd.Index([\"Y{}\".format(ie) for ie in range(si1)], name=\"Dimension 1\"),\n",
    "    columns=pd.Index([\"X{}\".format(ie) for ie in range(si2)], name=\"Dimension 2\"),\n",
    ")\n",
    "\n",
    "si_an_an.iloc[:2, :2] = np.nan\n",
    "\n",
    "kraft.plot.plot_bubble_map(\n",
    "    si_an_an,\n",
    "    co_an_an=-si_an_an.values,\n",
    "    layout={\n",
    "        \"title\": {\n",
    "            \"text\": \"Bubble Map\",\n",
    "        },\n",
    "    },\n",
    ")\n",
    "\n",
    "si_an_an"
   ]
  },
  {
   "cell_type": "markdown",
   "metadata": {},
   "source": [
    "## plot_histogram"
   ]
  },
  {
   "cell_type": "code",
   "execution_count": null,
   "metadata": {
    "execution": {
     "iopub.execute_input": "2021-06-02T09:06:01.095026Z",
     "iopub.status.busy": "2021-06-02T09:06:01.094426Z",
     "iopub.status.idle": "2021-06-02T09:06:01.149772Z",
     "shell.execute_reply": "2021-06-02T09:06:01.149339Z"
    },
    "tags": []
   },
   "outputs": [],
   "source": [
    "n_po = 32\n",
    "\n",
    "kraft.plot.plot_histogram(\n",
    "    [\n",
    "        pd.Series(\n",
    "            np.random.random_sample(n_po),\n",
    "            (\"A{}\".format(ie) for ie in range(n_po)),\n",
    "            name=\"Uniform\",\n",
    "        ),\n",
    "        pd.Series(\n",
    "            np.random.normal(size=n_po),\n",
    "            (\"B{}\".format(ie) for ie in range(n_po)),\n",
    "            name=\"Normal\",\n",
    "        ),\n",
    "        pd.Series(\n",
    "            np.random.randint(0, 8, n_po),\n",
    "            (\"C{}\".format(ie) for ie in range(n_po)),\n",
    "            name=\"8 Category\",\n",
    "        ),\n",
    "        pd.Series(\n",
    "            np.random.randint(0, 16, n_po),\n",
    "            (\"D{}\".format(ie) for ie in range(n_po)),\n",
    "            name=\"16 Category\",\n",
    "        ),\n",
    "    ],\n",
    "    layout={\n",
    "        \"title\": {\n",
    "            \"text\": \"Histogram\",\n",
    "        },\n",
    "        \"xaxis\": {\n",
    "            \"title\": {\n",
    "                \"text\": \"Number\",\n",
    "            },\n",
    "        },\n",
    "    },\n",
    ")"
   ]
  }
 ],
 "metadata": {
  "kernelspec": {
   "display_name": "Python 3",
   "language": "python",
   "name": "python3"
  },
  "language_info": {
   "codemirror_mode": {
    "name": "ipython",
    "version": 3
   },
   "file_extension": ".py",
   "mimetype": "text/x-python",
   "name": "python",
   "nbconvert_exporter": "python",
   "pygments_lexer": "ipython3",
   "version": "3.8.9"
  }
 },
 "nbformat": 4,
 "nbformat_minor": 4
}
