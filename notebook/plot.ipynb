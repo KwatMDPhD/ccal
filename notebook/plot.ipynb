{
 "cells": [
  {
   "cell_type": "code",
   "execution_count": null,
   "metadata": {
    "execution": {
     "iopub.execute_input": "2021-05-30T07:00:45.647985Z",
     "iopub.status.busy": "2021-05-30T07:00:45.647175Z",
     "iopub.status.idle": "2021-05-30T07:00:45.662764Z",
     "shell.execute_reply": "2021-05-30T07:00:45.663268Z"
    }
   },
   "outputs": [],
   "source": [
    "%load_ext autoreload\n",
    "%autoreload 2"
   ]
  },
  {
   "cell_type": "code",
   "execution_count": null,
   "metadata": {
    "ExecuteTime": {
     "end_time": "2018-05-15T09:28:55.668422Z",
     "start_time": "2018-05-15T09:28:55.428950Z"
    },
    "execution": {
     "iopub.execute_input": "2021-05-30T07:00:45.667196Z",
     "iopub.status.busy": "2021-05-30T07:00:45.666604Z",
     "iopub.status.idle": "2021-05-30T07:00:46.212659Z",
     "shell.execute_reply": "2021-05-30T07:00:46.213039Z"
    }
   },
   "outputs": [],
   "source": [
    "import kraft"
   ]
  },
  {
   "cell_type": "code",
   "execution_count": null,
   "metadata": {
    "execution": {
     "iopub.execute_input": "2021-05-30T07:00:46.216333Z",
     "iopub.status.busy": "2021-05-30T07:00:46.215791Z",
     "iopub.status.idle": "2021-05-30T07:00:46.232849Z",
     "shell.execute_reply": "2021-05-30T07:00:46.233232Z"
    }
   },
   "outputs": [],
   "source": [
    "pa = kraft.path.get_absolute(\"~/Downloads/\")"
   ]
  },
  {
   "cell_type": "markdown",
   "metadata": {},
   "source": [
    "## plot_plotly"
   ]
  },
  {
   "cell_type": "code",
   "execution_count": null,
   "metadata": {
    "execution": {
     "iopub.execute_input": "2021-05-30T07:00:46.236741Z",
     "iopub.status.busy": "2021-05-30T07:00:46.236159Z",
     "iopub.status.idle": "2021-05-30T07:00:46.535132Z",
     "shell.execute_reply": "2021-05-30T07:00:46.534601Z"
    }
   },
   "outputs": [],
   "source": [
    "figure = {\"layout\": {\"title\": \"Title\"}}\n",
    "\n",
    "kraft.plot.plot_plotly(\n",
    "    figure,\n",
    "    pa=\"{}plot.html\".format(pa),\n",
    ")"
   ]
  },
  {
   "cell_type": "markdown",
   "metadata": {},
   "source": [
    "## *_COLORSCALE"
   ]
  },
  {
   "cell_type": "code",
   "execution_count": null,
   "metadata": {
    "execution": {
     "iopub.execute_input": "2021-05-30T07:00:46.538902Z",
     "iopub.status.busy": "2021-05-30T07:00:46.538290Z",
     "iopub.status.idle": "2021-05-30T07:00:46.563443Z",
     "shell.execute_reply": "2021-05-30T07:00:46.563830Z"
    }
   },
   "outputs": [],
   "source": [
    "import numpy as np"
   ]
  },
  {
   "cell_type": "code",
   "execution_count": null,
   "metadata": {
    "execution": {
     "iopub.execute_input": "2021-05-30T07:00:46.568386Z",
     "iopub.status.busy": "2021-05-30T07:00:46.567796Z",
     "iopub.status.idle": "2021-05-30T07:00:46.685401Z",
     "shell.execute_reply": "2021-05-30T07:00:46.685749Z"
    }
   },
   "outputs": [],
   "source": [
    "for colorscale in (\n",
    "    kraft.plot.CONTINUOUS_COLORSCALE,\n",
    "    kraft.plot.CATEGORICAL_COLORSCALE,\n",
    "    kraft.plot.BINARY_COLORSCALE,\n",
    "):\n",
    "\n",
    "    for nu_ in [\n",
    "        np.arange(11),\n",
    "        np.arange(\n",
    "            0,\n",
    "            1.1,\n",
    "            0.1,\n",
    "        ),\n",
    "    ]:\n",
    "\n",
    "        kraft.plot.plot_plotly(\n",
    "            {\n",
    "                \"data\": [\n",
    "                    {\n",
    "                        \"type\": \"heatmap\",\n",
    "                        \"z\": nu_,\n",
    "                        \"y\": [0] * len(nu_),\n",
    "                        \"x\": nu_,\n",
    "                        \"colorscale\": colorscale,\n",
    "                        \"showscale\": False,\n",
    "                    }\n",
    "                ],\n",
    "                \"layout\": {\"height\": 240},\n",
    "            }\n",
    "        )"
   ]
  },
  {
   "cell_type": "markdown",
   "metadata": {},
   "source": [
    "## get_color"
   ]
  },
  {
   "cell_type": "code",
   "execution_count": null,
   "metadata": {
    "execution": {
     "iopub.execute_input": "2021-05-30T07:00:46.689380Z",
     "iopub.status.busy": "2021-05-30T07:00:46.688807Z",
     "iopub.status.idle": "2021-05-30T07:00:46.710556Z",
     "shell.execute_reply": "2021-05-30T07:00:46.710915Z"
    }
   },
   "outputs": [],
   "source": [
    "for fr in np.linspace(\n",
    "    0,\n",
    "    1,\n",
    "    5,\n",
    "):\n",
    "\n",
    "    print(\n",
    "        kraft.plot.get_color(\n",
    "            [\n",
    "                [\n",
    "                    0,\n",
    "                    \"#ff0000\",\n",
    "                ],\n",
    "                [\n",
    "                    0.5,\n",
    "                    \"#00ff00\",\n",
    "                ],\n",
    "                [\n",
    "                    1,\n",
    "                    \"#0000ff\",\n",
    "                ],\n",
    "            ],\n",
    "            fr,\n",
    "        )\n",
    "    )"
   ]
  },
  {
   "cell_type": "code",
   "execution_count": null,
   "metadata": {
    "execution": {
     "iopub.execute_input": "2021-05-30T07:00:46.716732Z",
     "iopub.status.busy": "2021-05-30T07:00:46.716210Z",
     "iopub.status.idle": "2021-05-30T07:00:46.840744Z",
     "shell.execute_reply": "2021-05-30T07:00:46.841161Z"
    }
   },
   "outputs": [],
   "source": [
    "colorscale = kraft.plot.CATEGORICAL_COLORSCALE\n",
    "\n",
    "for (nu_, n_co,) in [\n",
    "    [\n",
    "        np.linspace(\n",
    "            0,\n",
    "            1,\n",
    "            10,\n",
    "        ),\n",
    "        None,\n",
    "    ],\n",
    "    [\n",
    "        np.arange(10),\n",
    "        10,\n",
    "    ],\n",
    "    [\n",
    "        [0.5],\n",
    "        None,\n",
    "    ],\n",
    "    [\n",
    "        [1],\n",
    "        None,\n",
    "    ],\n",
    "    [\n",
    "        [0],\n",
    "        None,\n",
    "    ],\n",
    "    [\n",
    "        [1],\n",
    "        3,\n",
    "    ],\n",
    "]:\n",
    "\n",
    "    print(nu_)\n",
    "\n",
    "    print(n_co)\n",
    "\n",
    "    if n_co is not None:\n",
    "\n",
    "        nu_ = [nu / (n_co - 1) for nu in nu_]\n",
    "\n",
    "    nu_ = np.asarray(nu_)\n",
    "\n",
    "    data = [\n",
    "        {\n",
    "            \"y\": [0] * nu_.size,\n",
    "            \"x\": nu_,\n",
    "            \"mode\": \"markers\",\n",
    "            \"marker\": {\n",
    "                \"size\": 32,\n",
    "                \"color\": nu_,\n",
    "                \"colorscale\": colorscale,\n",
    "            },\n",
    "            \"showlegend\": False,\n",
    "        },\n",
    "    ]\n",
    "\n",
    "    for nu in nu_:\n",
    "\n",
    "        data.append(\n",
    "            {\n",
    "                \"y\": [1],\n",
    "                \"x\": [nu],\n",
    "                \"marker\": {\n",
    "                    \"size\": 32,\n",
    "                    \"color\": kraft.plot.get_color(\n",
    "                        colorscale,\n",
    "                        nu,\n",
    "                    ),\n",
    "                },\n",
    "                \"showlegend\": False,\n",
    "            }\n",
    "        )\n",
    "\n",
    "    kraft.plot.plot_plotly(\n",
    "        {\n",
    "            \"data\": data,\n",
    "            \"layout\": {\n",
    "                \"yaxis\": {\n",
    "                    \"tickmode\": \"array\",\n",
    "                    \"tickvals\": [\n",
    "                        0,\n",
    "                        1,\n",
    "                    ],\n",
    "                    \"ticktext\": [\n",
    "                        \"Colorscale\",\n",
    "                        \"Color\",\n",
    "                    ],\n",
    "                },\n",
    "            },\n",
    "        }\n",
    "    )"
   ]
  },
  {
   "cell_type": "markdown",
   "metadata": {},
   "source": [
    "## plot_point"
   ]
  },
  {
   "cell_type": "code",
   "execution_count": null,
   "metadata": {
    "execution": {
     "iopub.execute_input": "2021-05-30T07:00:46.844477Z",
     "iopub.status.busy": "2021-05-30T07:00:46.843853Z",
     "iopub.status.idle": "2021-05-30T07:00:46.866071Z",
     "shell.execute_reply": "2021-05-30T07:00:46.866494Z"
    }
   },
   "outputs": [],
   "source": [
    "import pandas as pd"
   ]
  },
  {
   "cell_type": "code",
   "execution_count": null,
   "metadata": {
    "execution": {
     "iopub.execute_input": "2021-05-30T07:00:46.871425Z",
     "iopub.status.busy": "2021-05-30T07:00:46.870908Z",
     "iopub.status.idle": "2021-05-30T07:00:46.927273Z",
     "shell.execute_reply": "2021-05-30T07:00:46.927629Z"
    }
   },
   "outputs": [],
   "source": [
    "an_po_pa = pd.DataFrame(\n",
    "    [\n",
    "        [\n",
    "            -1,\n",
    "            -2,\n",
    "        ],\n",
    "        [\n",
    "            0,\n",
    "            0,\n",
    "        ],\n",
    "        [\n",
    "            1,\n",
    "            2,\n",
    "        ],\n",
    "        [\n",
    "            2,\n",
    "            4,\n",
    "        ],\n",
    "        [\n",
    "            4,\n",
    "            8,\n",
    "        ],\n",
    "    ],\n",
    "    index=[\n",
    "        \"A\",\n",
    "        \"B\",\n",
    "        \"C\",\n",
    "        \"D\",\n",
    "        \"E\",\n",
    "    ],\n",
    "    columns=[\n",
    "        \"Dimension 1\",\n",
    "        \"Dimension 2\",\n",
    "    ],\n",
    ")\n",
    "\n",
    "n_po = an_po_pa.shape[0]\n",
    "\n",
    "an_po_pa[\"Size\"] = (\n",
    "    np.arange(\n",
    "        10,\n",
    "        10 + n_po,\n",
    "    )\n",
    "    ** 1.6\n",
    ")\n",
    "\n",
    "an_po_pa[\"Color\"] = \"#20d9ba\"\n",
    "\n",
    "an_po_pa[\"Opacity\"] = np.linspace(\n",
    "    0.2,\n",
    "    1,\n",
    "    n_po,\n",
    ")\n",
    "\n",
    "bo_ = np.random.randint(\n",
    "    0,\n",
    "    2,\n",
    "    n_po,\n",
    "    dtype=bool,\n",
    ")\n",
    "\n",
    "an_po_pa[\"Annotate\"] = bo_\n",
    "\n",
    "an_po_pa.loc[bo_, [\"Size\", \"Color\", \"Opacity\",],] = [\n",
    "    48,\n",
    "    \"#9017e6\",\n",
    "    0.8,\n",
    "]\n",
    "\n",
    "kraft.plot.plot_point(an_po_pa)\n",
    "\n",
    "an_po_pa"
   ]
  },
  {
   "cell_type": "markdown",
   "metadata": {},
   "source": [
    "## plot_heat_map"
   ]
  },
  {
   "cell_type": "code",
   "execution_count": null,
   "metadata": {
    "execution": {
     "iopub.execute_input": "2021-05-30T07:00:46.932212Z",
     "iopub.status.busy": "2021-05-30T07:00:46.931706Z",
     "iopub.status.idle": "2021-05-30T07:00:46.987682Z",
     "shell.execute_reply": "2021-05-30T07:00:46.988107Z"
    }
   },
   "outputs": [],
   "source": [
    "si1 = 4\n",
    "\n",
    "si2 = 8\n",
    "\n",
    "nu_an_an = pd.DataFrame(\n",
    "    (\n",
    "        np.arange(si1 * si2)\n",
    "        .reshape(\n",
    "            [\n",
    "                si1,\n",
    "                si2,\n",
    "            ]\n",
    "        )\n",
    "        .astype(float)\n",
    "    ),\n",
    "    index=pd.Index(\n",
    "        [\"Y{}\".format(ie) for ie in range(si1)],\n",
    "        name=\"Dimension 1\",\n",
    "    ),\n",
    "    columns=pd.Index(\n",
    "        [\"X{}\".format(ie) for ie in range(si2)],\n",
    "        name=\"Dimension 2\",\n",
    "    ),\n",
    ")\n",
    "\n",
    "nu_an_an.iloc[\n",
    "    :2,\n",
    "    :2,\n",
    "] = np.nan\n",
    "\n",
    "gr1_la = {gr: \"Organ 1 {}\".format(gr) for gr in range(10)}\n",
    "\n",
    "gr2_la = {gr: \"Physiology 2 {}\".format(gr) for gr in range(10)}\n",
    "\n",
    "kraft.plot.plot_heat_map(\n",
    "    nu_an_an,\n",
    "    # gr1_=np.random.randint(\n",
    "    #    0,\n",
    "    #    2,\n",
    "    #    si1,\n",
    "    # ),\n",
    "    # colorscale1=\"teal\",\n",
    "    # gr1_la=gr1_la,\n",
    "    # gr2_=np.random.randint(\n",
    "    #    0,\n",
    "    #    4,\n",
    "    #    si2,\n",
    "    # ),\n",
    "    # colorscale2=\"purp\",\n",
    "    # gr2_la=gr2_la,\n",
    "    layout={\"title\": {\"text\": \"Heat Map\"}},\n",
    ")\n",
    "\n",
    "nu_an_an"
   ]
  },
  {
   "cell_type": "markdown",
   "metadata": {},
   "source": [
    "## plot_bubble_map"
   ]
  },
  {
   "cell_type": "code",
   "execution_count": null,
   "metadata": {
    "execution": {
     "iopub.execute_input": "2021-05-30T07:00:46.992423Z",
     "iopub.status.busy": "2021-05-30T07:00:46.991917Z",
     "iopub.status.idle": "2021-05-30T07:00:47.041783Z",
     "shell.execute_reply": "2021-05-30T07:00:47.042200Z"
    }
   },
   "outputs": [],
   "source": [
    "si1 = 4\n",
    "\n",
    "si2 = 8\n",
    "\n",
    "si_an_an = pd.DataFrame(\n",
    "    (\n",
    "        np.arange(si1 * si2)\n",
    "        .reshape(\n",
    "            [\n",
    "                si1,\n",
    "                si2,\n",
    "            ]\n",
    "        )\n",
    "        .astype(float)\n",
    "    ),\n",
    "    index=pd.Index(\n",
    "        [\"Y{}\".format(ie) for ie in range(si1)],\n",
    "        name=\"Dimension 1\",\n",
    "    ),\n",
    "    columns=pd.Index(\n",
    "        [\"X{}\".format(ie) for ie in range(si2)],\n",
    "        name=\"Dimension 2\",\n",
    "    ),\n",
    ")\n",
    "\n",
    "si_an_an.iloc[\n",
    "    :2,\n",
    "    :2,\n",
    "] = np.nan\n",
    "\n",
    "kraft.plot.plot_bubble_map(\n",
    "    si_an_an,\n",
    "    co_an_an=-si_an_an.to_numpy(),\n",
    "    layout={\"title\": {\"text\": \"Bubble Map\"}},\n",
    ")\n",
    "\n",
    "si_an_an"
   ]
  },
  {
   "cell_type": "markdown",
   "metadata": {},
   "source": [
    "## plot_histogram"
   ]
  },
  {
   "cell_type": "code",
   "execution_count": null,
   "metadata": {
    "execution": {
     "iopub.execute_input": "2021-05-30T07:00:47.047024Z",
     "iopub.status.busy": "2021-05-30T07:00:47.046521Z",
     "iopub.status.idle": "2021-05-30T07:00:47.092636Z",
     "shell.execute_reply": "2021-05-30T07:00:47.092998Z"
    }
   },
   "outputs": [],
   "source": [
    "n_po = 32\n",
    "\n",
    "kraft.plot.plot_histogram(\n",
    "    [\n",
    "        pd.Series(\n",
    "            np.random.random_sample(n_po),\n",
    "            index=(\"A{}\".format(ie) for ie in range(n_po)),\n",
    "            name=\"Uniform\",\n",
    "        ),\n",
    "        pd.Series(\n",
    "            np.random.normal(size=n_po),\n",
    "            index=(\"B{}\".format(ie) for ie in range(n_po)),\n",
    "            name=\"Normal\",\n",
    "        ),\n",
    "        pd.Series(\n",
    "            np.random.randint(\n",
    "                0,\n",
    "                8,\n",
    "                n_po,\n",
    "            ),\n",
    "            index=(\"C{}\".format(ie) for ie in range(n_po)),\n",
    "            name=\"8 Category\",\n",
    "        ),\n",
    "        pd.Series(\n",
    "            np.random.randint(\n",
    "                0,\n",
    "                16,\n",
    "                n_po,\n",
    "            ),\n",
    "            index=(\"D{}\".format(ie) for ie in range(n_po)),\n",
    "            name=\"16 Category\",\n",
    "        ),\n",
    "    ],\n",
    "    layout={\n",
    "        \"title\": {\"text\": \"Histogram\"},\n",
    "        \"xaxis\": {\"title\": {\"text\": \"Number\"}},\n",
    "    },\n",
    ")"
   ]
  }
 ],
 "metadata": {
  "kernelspec": {
   "display_name": "Python 3",
   "language": "python",
   "name": "python3"
  },
  "language_info": {
   "codemirror_mode": {
    "name": "ipython",
    "version": 3
   },
   "file_extension": ".py",
   "mimetype": "text/x-python",
   "name": "python",
   "nbconvert_exporter": "python",
   "pygments_lexer": "ipython3",
   "version": "3.8.9"
  }
 },
 "nbformat": 4,
 "nbformat_minor": 4
}
