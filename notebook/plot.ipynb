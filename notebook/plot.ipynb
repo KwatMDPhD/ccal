{
 "cells": [
  {
   "cell_type": "code",
   "execution_count": null,
   "metadata": {},
   "outputs": [],
   "source": [
    "import pandas as pd"
   ]
  },
  {
   "cell_type": "code",
   "execution_count": null,
   "metadata": {},
   "outputs": [],
   "source": [
    "import numpy as np"
   ]
  },
  {
   "cell_type": "code",
   "execution_count": null,
   "metadata": {},
   "outputs": [],
   "source": [
    "dataframe = pd.DataFrame(np.zeros((10, 16000)))\n",
    "\n",
    "dataframe.iloc[:, 1] = 1\n",
    "\n",
    "dataframe.iloc[:, 103:105] = 1\n",
    "\n",
    "dataframe.iloc[:, 205:208] = 1\n",
    "\n",
    "dataframe.iloc[:, 308:312] = 1\n",
    "\n",
    "dataframe.iloc[:, 412:417] = 1\n",
    "\n",
    "dataframe.iloc[:, 517:523] = 1\n",
    "\n",
    "dataframe.iloc[:, 623:630] = 1\n",
    "\n",
    "dataframe.iloc[:, 730:738] = 1"
   ]
  },
  {
   "cell_type": "code",
   "execution_count": null,
   "metadata": {},
   "outputs": [],
   "source": [
    "import kraft"
   ]
  },
  {
   "cell_type": "code",
   "execution_count": null,
   "metadata": {},
   "outputs": [],
   "source": [
    "import os"
   ]
  },
  {
   "cell_type": "code",
   "execution_count": null,
   "metadata": {},
   "outputs": [],
   "source": [
    "kraft.plot_heat_map(\n",
    "    dataframe, html_file_path=os.path.join(kraft.normalize_path(\"~\"), \"dataframe.html\")\n",
    ")"
   ]
  }
 ],
 "metadata": {
  "@webio": {
   "lastCommId": null,
   "lastKernelId": null
  },
  "kernelspec": {
   "display_name": "Python 3",
   "language": "python",
   "name": "python3"
  },
  "language_info": {
   "codemirror_mode": {
    "name": "ipython",
    "version": 3
   },
   "file_extension": ".py",
   "mimetype": "text/x-python",
   "name": "python",
   "nbconvert_exporter": "python",
   "pygments_lexer": "ipython3",
   "version": "3.7.3"
  }
 },
 "nbformat": 4,
 "nbformat_minor": 4
}
