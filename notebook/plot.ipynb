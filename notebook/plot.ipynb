{
 "cells": [
  {
   "cell_type": "code",
   "execution_count": null,
   "metadata": {},
   "outputs": [],
   "source": [
    "%load_ext autoreload\n",
    "%autoreload 2"
   ]
  },
  {
   "cell_type": "code",
   "execution_count": null,
   "metadata": {
    "ExecuteTime": {
     "end_time": "2018-05-15T09:28:55.668422Z",
     "start_time": "2018-05-15T09:28:55.428950Z"
    }
   },
   "outputs": [],
   "source": [
    "import os\n",
    "\n",
    "import numpy as np\n",
    "import pandas as pd\n",
    "import plotly as pl\n",
    "\n",
    "import kraft"
   ]
  },
  {
   "cell_type": "markdown",
   "metadata": {},
   "source": [
    "## plot_plotly"
   ]
  },
  {
   "cell_type": "code",
   "execution_count": null,
   "metadata": {},
   "outputs": [],
   "source": [
    "figure = {\"layout\": {\"title\": \"Title\"}}\n",
    "\n",
    "pl.io.show(figure)\n",
    "\n",
    "kraft.plot.plot_plotly(figure, html_file_path=\"plot.html\")\n",
    "\n",
    "os.remove(\"plot.html\")"
   ]
  },
  {
   "cell_type": "markdown",
   "metadata": {},
   "source": [
    "## get_color"
   ]
  },
  {
   "cell_type": "code",
   "execution_count": null,
   "metadata": {},
   "outputs": [],
   "source": [
    "colorscale = pl.colors.make_colorscale(pl.colors.qualitative.Plotly)\n",
    "\n",
    "scatter_base = {\n",
    "    \"showlegend\": False,\n",
    "    \"mode\": \"markers\",\n",
    "    \"marker\": {\"size\": 32},\n",
    "}\n",
    "\n",
    "for numbers, n in (\n",
    "    (np.arange(10), 10),\n",
    "    (np.linspace(0, 1, num=10), None),\n",
    "    ((0.5,), None),\n",
    "    ((0,), None),\n",
    "    ((1,), None),\n",
    "):\n",
    "\n",
    "    data = [\n",
    "        kraft.dict_.merge(\n",
    "            scatter_base,\n",
    "            {\"x\": numbers, \"y\": (0,) * len(numbers), \"marker\": {\"color\": numbers}},\n",
    "        ),\n",
    "        kraft.dict_.merge(\n",
    "            scatter_base,\n",
    "            {\n",
    "                \"x\": numbers,\n",
    "                \"y\": (1,) * len(numbers),\n",
    "                \"marker\": {\"color\": numbers, \"colorscale\": colorscale},\n",
    "            },\n",
    "        ),\n",
    "    ] + [\n",
    "        kraft.dict_.merge(\n",
    "            scatter_base,\n",
    "            {\n",
    "                \"x\": (number,),\n",
    "                \"y\": (2,),\n",
    "                \"marker\": {\"color\": kraft.plot.get_color(colorscale, number, n=n)},\n",
    "            },\n",
    "        )\n",
    "        for i, number in enumerate(numbers)\n",
    "    ]\n",
    "\n",
    "    kraft.plot.plot_plotly(\n",
    "        {\n",
    "            \"layout\": {\n",
    "                \"xaxis\": {\"tickmode\": \"array\", \"tickvals\": numbers},\n",
    "                \"yaxis\": {\n",
    "                    \"tickmode\": \"array\",\n",
    "                    \"tickvals\": (0, 1, 2),\n",
    "                    \"ticktext\": (\"Default\", \"Given colorscale\", \"Set color\"),\n",
    "                },\n",
    "            },\n",
    "            \"data\": data,\n",
    "        }\n",
    "    )"
   ]
  },
  {
   "cell_type": "markdown",
   "metadata": {},
   "source": [
    "## plot_heat_map"
   ]
  },
  {
   "cell_type": "code",
   "execution_count": null,
   "metadata": {},
   "outputs": [],
   "source": [
    "dataframe = pd.DataFrame(np.arange(32).reshape(4, 8))\n",
    "\n",
    "kraft.plot.plot_heat_map(dataframe)"
   ]
  },
  {
   "cell_type": "code",
   "execution_count": null,
   "metadata": {},
   "outputs": [],
   "source": [
    "matrix = np.arange(32).reshape(4, 8)\n",
    "\n",
    "dataframe = pd.DataFrame(\n",
    "    matrix,\n",
    "    index=(\"Label {}\".format(i) for i in range(matrix.shape[0])),\n",
    "    columns=(\"Label {}\".format(i) for i in range(matrix.shape[1])),\n",
    ")\n",
    "\n",
    "dataframe.index.name = \"Axis 0\"\n",
    "\n",
    "dataframe.columns.name = \"Axis 1\"\n",
    "\n",
    "kraft.plot.plot_heat_map(\n",
    "    dataframe,\n",
    "    colorscale=pl.colors.make_colorscale((\"#0000ff\", \"#ffffff\", \"#ff0000\")),\n",
    "    axis_0_groups=np.random.randint(0, high=2, size=dataframe.shape[0]),\n",
    "    axis_0_group_colorscale=\"earth\",\n",
    "    axis_0_group_to_name={0: \"a\", 1: \"b\"},\n",
    "    axis_1_groups=np.random.randint(0, high=4, size=dataframe.shape[1]),\n",
    "    axis_1_group_colorscale=\"sunset\",\n",
    "    axis_1_group_to_name={0: \"a\", 1: \"b\", 2: \"c\", 3: \"d\"},\n",
    ")"
   ]
  },
  {
   "cell_type": "markdown",
   "metadata": {},
   "source": [
    "## plot_bubble_map"
   ]
  },
  {
   "cell_type": "code",
   "execution_count": null,
   "metadata": {},
   "outputs": [],
   "source": [
    "dataframe = pd.DataFrame(np.arange(32).reshape((4, 8)))\n",
    "\n",
    "kraft.plot.plot_bubble_map(dataframe)"
   ]
  },
  {
   "cell_type": "markdown",
   "metadata": {},
   "source": [
    "## plot_histogram"
   ]
  },
  {
   "cell_type": "code",
   "execution_count": null,
   "metadata": {},
   "outputs": [],
   "source": [
    "n = 100\n",
    "\n",
    "kraft.plot.plot_histogram(\n",
    "    (\n",
    "        pd.Series(\n",
    "            np.random.random_sample(size=n),\n",
    "            name=\"Uniform\",\n",
    "            index=(\"Label {}\".format(i) for i in range(n)),\n",
    "        ),\n",
    "        pd.Series(\n",
    "            np.random.normal(size=n),\n",
    "            name=\"Normal\",\n",
    "            index=(\"Label {}\".format(i) for i in range(n)),\n",
    "        ),\n",
    "        pd.Series(\n",
    "            np.random.randint(0, 8, size=n),\n",
    "            name=\"8 Category\",\n",
    "            index=(\"Label {}\".format(i) for i in range(n)),\n",
    "        ),\n",
    "        pd.Series(\n",
    "            np.random.randint(0, 16, size=n),\n",
    "            name=\"16 Category\",\n",
    "            index=(\"Label {}\".format(i) for i in range(n)),\n",
    "        ),\n",
    "    ),\n",
    "    layout={\"title\": {\"text\": \"Title\"}, \"xaxis\": {\"title\": {\"text\": \"Number\"}}},\n",
    ")"
   ]
  }
 ],
 "metadata": {
  "kernelspec": {
   "display_name": "Python 3",
   "language": "python",
   "name": "python3"
  },
  "language_info": {
   "codemirror_mode": {
    "name": "ipython",
    "version": 3
   },
   "file_extension": ".py",
   "mimetype": "text/x-python",
   "name": "python",
   "nbconvert_exporter": "python",
   "pygments_lexer": "ipython3",
   "version": "3.7.6"
  }
 },
 "nbformat": 4,
 "nbformat_minor": 4
}
