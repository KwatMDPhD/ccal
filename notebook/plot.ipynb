{
 "cells": [
  {
   "cell_type": "code",
   "execution_count": null,
   "metadata": {},
   "outputs": [],
   "source": [
    "%load_ext autoreload\n",
    "%autoreload 2"
   ]
  },
  {
   "cell_type": "code",
   "execution_count": null,
   "metadata": {
    "ExecuteTime": {
     "end_time": "2018-05-15T09:28:55.668422Z",
     "start_time": "2018-05-15T09:28:55.428950Z"
    }
   },
   "outputs": [],
   "source": [
    "import numpy as np\n",
    "import pandas as pd\n",
    "import plotly as pl\n",
    "\n",
    "import kraft"
   ]
  },
  {
   "cell_type": "code",
   "execution_count": null,
   "metadata": {},
   "outputs": [],
   "source": [
    "dataframe = pd.DataFrame(np.arange(50).reshape(5, 10),)\n",
    "\n",
    "dataframe.index = pd.Index((\"Index{}\".format(i) for i in dataframe.index), name=\"Index\")\n",
    "\n",
    "dataframe.columns = pd.Index(\n",
    "    (\"Column{}\".format(i) for i in dataframe.columns), name=\"Column\"\n",
    ")\n",
    "\n",
    "dataframe"
   ]
  },
  {
   "cell_type": "code",
   "execution_count": null,
   "metadata": {},
   "outputs": [],
   "source": [
    "row_annotations = np.random.randint(0, high=2, size=dataframe.shape[0])\n",
    "\n",
    "column_annotations = np.random.randint(0, high=4, size=dataframe.shape[1])\n",
    "\n",
    "kraft.plot_heat_map(\n",
    "    dataframe,\n",
    "    colorscale=pl.colors.make_colorscale((\"#0000ff\", \"#ffffff\", \"#ff0000\")),\n",
    "    row_annotations=row_annotations,\n",
    "    row_annotation_colorscale=\"sunset\",\n",
    "    row_annotation_str={\n",
    "        i: \"Row Group {}\".format(i) for i in np.unique(row_annotations)\n",
    "    },\n",
    "    column_annotations=column_annotations,\n",
    "    column_annotation_colorscale=\"portland\",\n",
    "    column_annotation_str={\n",
    "        i: \"Column Group {}\".format(i) for i in np.unique(column_annotations)\n",
    "    },\n",
    ")"
   ]
  },
  {
   "cell_type": "code",
   "execution_count": null,
   "metadata": {},
   "outputs": [],
   "source": [
    "kraft.plot_bubble_map(dataframe)"
   ]
  },
  {
   "cell_type": "code",
   "execution_count": null,
   "metadata": {},
   "outputs": [],
   "source": [
    "kraft.plot_histogram(\n",
    "    (\n",
    "        np.random.random_sample(size=100),\n",
    "        pd.Series(\n",
    "            np.random.normal(size=100),\n",
    "            name=\"Normal\",\n",
    "            index=(\"Normal{}\".format(i) for i in range(100)),\n",
    "        ),\n",
    "        np.random.randint(0, 8, size=100),\n",
    "        np.random.randint(0, 16, size=100),\n",
    "    ),\n",
    "    layout={\"title\": {\"text\": \"Title\"}},\n",
    ")"
   ]
  }
 ],
 "metadata": {
  "kernelspec": {
   "display_name": "Python 3",
   "language": "python",
   "name": "python3"
  },
  "language_info": {
   "codemirror_mode": {
    "name": "ipython",
    "version": 3
   },
   "file_extension": ".py",
   "mimetype": "text/x-python",
   "name": "python",
   "nbconvert_exporter": "python",
   "pygments_lexer": "ipython3",
   "version": "3.7.6"
  }
 },
 "nbformat": 4,
 "nbformat_minor": 4
}
