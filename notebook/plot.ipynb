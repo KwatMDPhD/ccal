{
 "cells": [
  {
   "cell_type": "code",
   "execution_count": null,
   "metadata": {},
   "outputs": [],
   "source": [
    "%load_ext autoreload\n",
    "%autoreload 2"
   ]
  },
  {
   "cell_type": "code",
   "execution_count": null,
   "metadata": {
    "ExecuteTime": {
     "end_time": "2018-05-15T09:28:55.668422Z",
     "start_time": "2018-05-15T09:28:55.428950Z"
    }
   },
   "outputs": [],
   "source": [
    "import plotly as pl\n",
    "\n",
    "import kraft"
   ]
  },
  {
   "cell_type": "code",
   "execution_count": null,
   "metadata": {},
   "outputs": [],
   "source": [
    "dataframe = kraft.simulate_series_or_dataframe(\"Row\", \"Column\", (5, 10), \"range\")\n",
    "\n",
    "dataframe"
   ]
  },
  {
   "cell_type": "code",
   "execution_count": null,
   "metadata": {},
   "outputs": [],
   "source": [
    "kraft.plot_bubble_map(dataframe)"
   ]
  },
  {
   "cell_type": "code",
   "execution_count": null,
   "metadata": {},
   "outputs": [],
   "source": [
    "kraft.plot_heat_map(\n",
    "    dataframe,\n",
    "    colorscale=pl.colors.make_colorscale((\"#0000ff\", \"#ffffff\", \"#ff0000\")),\n",
    "    row_annotations=kraft.make_consecutive_group_labels(dataframe.shape[0], 2),\n",
    "    row_annotation_colorscale=pl.colors.make_colorscale((\"pink\", \"violet\")),\n",
    "    row_annotation_str={i: \"Row Group {}\".format(i) for i in range(2)},\n",
    "    column_annotations=kraft.make_consecutive_group_labels(dataframe.shape[1], 3),\n",
    "    column_annotation_colorscale=pl.colors.make_colorscale(\n",
    "        (\"yellow\", \"gold\", \"orange\")\n",
    "    ),\n",
    "    column_annotation_str={i: \"Column Group {}\".format(i) for i in range(3)},\n",
    ")"
   ]
  }
 ],
 "metadata": {
  "kernelspec": {
   "display_name": "Python 3",
   "language": "python",
   "name": "python3"
  },
  "language_info": {
   "codemirror_mode": {
    "name": "ipython",
    "version": 3
   },
   "file_extension": ".py",
   "mimetype": "text/x-python",
   "name": "python",
   "nbconvert_exporter": "python",
   "pygments_lexer": "ipython3",
   "version": "3.7.3"
  }
 },
 "nbformat": 4,
 "nbformat_minor": 4
}
