{
 "cells": [
  {
   "cell_type": "code",
   "execution_count": 1,
   "metadata": {},
   "outputs": [],
   "source": [
    "%load_ext autoreload\n",
    "%autoreload 2"
   ]
  },
  {
   "cell_type": "code",
   "execution_count": 2,
   "metadata": {},
   "outputs": [],
   "source": [
    "import numpy as np\n",
    "\n",
    "import kraft"
   ]
  },
  {
   "cell_type": "code",
   "execution_count": 3,
   "metadata": {
    "ExecuteTime": {
     "end_time": "2018-05-15T09:32:32.232401Z",
     "start_time": "2018-05-15T09:32:27.690390Z"
    }
   },
   "outputs": [
    {
     "name": "stdout",
     "output_type": "stream",
     "text": [
      "[0 0 0 0 0 0 0 0]\n",
      "[0 0 0 0 0 0 0 0]\n",
      "nan\n",
      "[1 1 1 1 1 1 1 1]\n",
      "[1 1 1 1 1 1 1 1]\n",
      "nan\n",
      "[0 1 2 3 4 5 6 7]\n",
      "[7 6 5 4 3 2 1 0]\n",
      "-0.9358607364141003\n",
      "[0 1 2 3 4 5 6 7 8 7 6 5 4 3 2 1 0]\n",
      "[0 1 2 3 4 5 6 7 8 7 6 5 4 3 2 1 0]\n",
      "0.9509464952026275\n",
      "[8 7 6 5 4 3 2 1 0 1 2 3 4 5 6 7 8]\n",
      "[8 7 6 5 4 3 2 1 0 1 2 3 4 5 6 7 8]\n",
      "0.9509464952026275\n",
      "[0 1 0 1 0 1 0 1 0 1 0 1 0 1 0 1]\n",
      "[0 1 0 1 0 1 0 1 0 1 0 1 0 1 0 1]\n",
      "0.8660254037844094\n",
      "[0 1 0 1 0 1 0 1 0 1 0 1 0 1 0 1]\n",
      "[1 0 1 0 1 0 1 0 1 0 1 0 1 0 1 0]\n",
      "-0.8660254037844094\n"
     ]
    }
   ],
   "source": [
    "for vector_0, vector_1 in (\n",
    "    (np.asarray((0,) * 8),) * 2,\n",
    "    (np.asarray((1,) * 8),) * 2,\n",
    "    (np.arange(8), np.arange(8)[::-1]),\n",
    "    (np.asarray((0, 1, 2, 3, 4, 5, 6, 7, 8, 7, 6, 5, 4, 3, 2, 1, 0)),) * 2,\n",
    "    (np.asarray((8, 7, 6, 5, 4, 3, 2, 1, 0, 1, 2, 3, 4, 5, 6, 7, 8)),) * 2,\n",
    "    (np.asarray((0, 1) * 8), np.asarray((0, 1) * 8)),\n",
    "    (np.asarray((0, 1) * 8), np.asarray((1, 0) * 8)),\n",
    "):\n",
    "\n",
    "    print(vector_0)\n",
    "\n",
    "    print(vector_1)\n",
    "\n",
    "    print(kraft.get_ic(vector_0, vector_1))"
   ]
  },
  {
   "cell_type": "code",
   "execution_count": 4,
   "metadata": {},
   "outputs": [
    {
     "name": "stdout",
     "output_type": "stream",
     "text": [
      "1\n",
      "nan\n",
      "2\n",
      "0.8648371747066395\n",
      "4\n",
      "0.6787973273928825\n",
      "8\n",
      "0.37967135595456636\n",
      "16\n",
      "0.3901979901173882\n",
      "32\n",
      "-0.3648491033958157\n",
      "64\n",
      "-0.35568212185116727\n",
      "128\n",
      "0.32642383665311503\n",
      "256\n",
      "0.2667980855087445\n"
     ]
    }
   ],
   "source": [
    "for power in range(9):\n",
    "\n",
    "    n = 2 ** power\n",
    "\n",
    "    print(n)\n",
    "\n",
    "    vector_0 = np.random.normal(size=n)\n",
    "\n",
    "    vector_1 = np.random.normal(size=n)\n",
    "\n",
    "    print(kraft.get_ic(vector_0, vector_1))"
   ]
  },
  {
   "cell_type": "code",
   "execution_count": 5,
   "metadata": {},
   "outputs": [
    {
     "name": "stdout",
     "output_type": "stream",
     "text": [
      "[0 0 1 1 2 2]\n",
      "0.9346545226262682\n",
      "[0 0 2 2 4 4]\n",
      "0.9346545226262682\n",
      "[0.  0.  0.5 0.5 1.  1. ]\n",
      "0.9346545226262682\n",
      "[ 0  0 10 10 20 20]\n",
      "0.9346545226262682\n",
      "[0.  0.  0.1 0.1 0.2 0.2]\n",
      "0.9346545226262682\n"
     ]
    }
   ],
   "source": [
    "n = 2\n",
    "\n",
    "vector_0 = np.asarray((0,) * n + (1,) * n + (2,) * n)\n",
    "\n",
    "for factor in (1, 2, 1 / 2, 10, 1 / 10):\n",
    "\n",
    "    vector_1 = vector_0 * factor\n",
    "\n",
    "    print(vector_1)\n",
    "\n",
    "    print(kraft.get_ic(vector_0, vector_1))"
   ]
  },
  {
   "cell_type": "code",
   "execution_count": 6,
   "metadata": {},
   "outputs": [
    {
     "name": "stdout",
     "output_type": "stream",
     "text": [
      "random_sample\n",
      "-0.16181280749021645\n",
      "normal\n",
      "-0.3297065246933263\n"
     ]
    }
   ],
   "source": [
    "n = 100\n",
    "\n",
    "for function in (np.random.random_sample, np.random.normal):\n",
    "\n",
    "    print(function.__name__)\n",
    "\n",
    "    vector_0 = function(size=n)\n",
    "\n",
    "    vector_1 = function(size=n)\n",
    "\n",
    "    print(kraft.get_ic(vector_0, vector_1))"
   ]
  },
  {
   "cell_type": "code",
   "execution_count": 7,
   "metadata": {},
   "outputs": [
    {
     "name": "stdout",
     "output_type": "stream",
     "text": [
      "3.64 ms ± 113 µs per loop (mean ± std. dev. of 7 runs, 100 loops each)\n"
     ]
    }
   ],
   "source": [
    "%%timeit\n",
    "\n",
    "kraft.get_ic(vector_0, vector_1)"
   ]
  }
 ],
 "metadata": {
  "kernelspec": {
   "display_name": "Python 3",
   "language": "python",
   "name": "python3"
  },
  "language_info": {
   "codemirror_mode": {
    "name": "ipython",
    "version": 3
   },
   "file_extension": ".py",
   "mimetype": "text/x-python",
   "name": "python",
   "nbconvert_exporter": "python",
   "pygments_lexer": "ipython3",
   "version": "3.7.6"
  }
 },
 "nbformat": 4,
 "nbformat_minor": 4
}
