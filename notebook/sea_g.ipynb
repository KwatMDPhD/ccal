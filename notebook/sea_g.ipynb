{
 "cells": [
  {
   "cell_type": "code",
   "execution_count": null,
   "metadata": {},
   "outputs": [],
   "source": [
    "%load_ext autoreload\n",
    "%autoreload 2"
   ]
  },
  {
   "cell_type": "code",
   "execution_count": null,
   "metadata": {},
   "outputs": [],
   "source": [
    "import numpy as np\n",
    "import pandas as pd\n",
    "\n",
    "import kraft"
   ]
  },
  {
   "cell_type": "code",
   "execution_count": null,
   "metadata": {},
   "outputs": [],
   "source": [
    "n_gene = 10\n",
    "\n",
    "genes = pd.Index((\"Gene{}\".format(i) for i in range(n_gene)), name=\"Gene\")\n",
    "\n",
    "genes"
   ]
  },
  {
   "cell_type": "code",
   "execution_count": null,
   "metadata": {},
   "outputs": [],
   "source": [
    "n_sample = 8\n",
    "\n",
    "samples = pd.Index((\"Sample{}\".format(i) for i in range(n_sample)), name=\"Sample\")\n",
    "\n",
    "samples"
   ]
  },
  {
   "cell_type": "code",
   "execution_count": null,
   "metadata": {},
   "outputs": [],
   "source": [
    "gene_x_sample = pd.DataFrame(\n",
    "    np.random.normal(size=(genes.size, samples.size)), index=genes, columns=samples\n",
    ")\n",
    "\n",
    "gene_x_sample"
   ]
  },
  {
   "cell_type": "code",
   "execution_count": null,
   "metadata": {},
   "outputs": [],
   "source": [
    "n_category_sample = gene_x_sample.columns.size // 2\n",
    "\n",
    "phenotype = pd.Series(\n",
    "    (0,) * n_category_sample + (1,) * n_category_sample,\n",
    "    index=gene_x_sample.columns,\n",
    "    name=\"Phenotype\",\n",
    ")\n",
    "\n",
    "phenotype"
   ]
  },
  {
   "cell_type": "code",
   "execution_count": null,
   "metadata": {},
   "outputs": [],
   "source": [
    "gene_set_genes = {\n",
    "    # \"GeneSet0\": [\"Gene0\"],\n",
    "    \"GeneSet1\": [\"Gene1\", \"Gene2\"],\n",
    "    \"GeneSet2\": [\"Gene3\", \"Gene4\", \"Gene5\"],\n",
    "    \"GeneSet3\": [\"Gene6\", \"Gene7\", \"Gene8\", \"Gene9\"],\n",
    "    \"GeneSet4\": [\"Gene10\", \"Gene11\", \"Gene12\", \"Gene13\", \"Gene14\"],\n",
    "}"
   ]
  },
  {
   "cell_type": "code",
   "execution_count": null,
   "metadata": {},
   "outputs": [],
   "source": [
    "method = (\"rank\", \"cdf\", \"s0\", \"supreme\")"
   ]
  },
  {
   "cell_type": "markdown",
   "metadata": {},
   "source": [
    "## Rank and score"
   ]
  },
  {
   "cell_type": "code",
   "execution_count": null,
   "metadata": {},
   "outputs": [],
   "source": [
    "def function(phenotype, expression):\n",
    "\n",
    "    return expression[phenotype == 1].mean() - expression[phenotype == 0].mean()"
   ]
  },
  {
   "cell_type": "code",
   "execution_count": null,
   "metadata": {},
   "outputs": [],
   "source": [
    "gene_x_statistic = kraft.function_heat_map(\n",
    "    phenotype,\n",
    "    gene_x_sample,\n",
    "    function,\n",
    "    n_sampling=0,\n",
    "    n_permutation=0,\n",
    "    vector_data_type=\"binary\",\n",
    ")"
   ]
  },
  {
   "cell_type": "code",
   "execution_count": null,
   "metadata": {},
   "outputs": [],
   "source": [
    "gene_score = gene_x_statistic[\"Score\"]\n",
    "\n",
    "gene_score"
   ]
  },
  {
   "cell_type": "code",
   "execution_count": null,
   "metadata": {},
   "outputs": [],
   "source": [
    "for gene_set in gene_set_genes:\n",
    "\n",
    "    kraft.score_set(\n",
    "        gene_score,\n",
    "        gene_set_genes[gene_set],\n",
    "        method=method,\n",
    "        title=gene_set,\n",
    "    )"
   ]
  },
  {
   "cell_type": "markdown",
   "metadata": {},
   "source": [
    "## Score and rank"
   ]
  },
  {
   "cell_type": "code",
   "execution_count": null,
   "metadata": {},
   "outputs": [],
   "source": [
    "gene_set_x_sample = np.full((len(gene_set_genes), len(gene_x_sample.columns)), np.nan)\n",
    "\n",
    "for row_i, (gene_set, gene_set_genes_) in enumerate(gene_set_genes.items()):\n",
    "\n",
    "    print(gene_set)\n",
    "\n",
    "    for column_i, (sample, gene_score) in enumerate(gene_x_sample.items()):\n",
    "\n",
    "        print(sample)\n",
    "\n",
    "        gene_set_x_sample[row_i, column_i] = kraft.score_set(\n",
    "            gene_score, gene_set_genes_, method=method, plot=False\n",
    "        )\n",
    "\n",
    "gene_set_x_sample = pd.DataFrame(\n",
    "    gene_set_x_sample, index=gene_set_genes.keys(), columns=gene_x_sample.columns\n",
    ")\n",
    "\n",
    "gene_set_x_sample"
   ]
  },
  {
   "cell_type": "code",
   "execution_count": null,
   "metadata": {},
   "outputs": [],
   "source": [
    "gene_set_x_statistic = kraft.function_heat_map(\n",
    "    phenotype, gene_set_x_sample, function, vector_data_type=\"binary\"\n",
    ")\n",
    "\n",
    "gene_set_x_statistic"
   ]
  }
 ],
 "metadata": {
  "kernelspec": {
   "display_name": "Python 3",
   "language": "python",
   "name": "python3"
  },
  "language_info": {
   "codemirror_mode": {
    "name": "ipython",
    "version": 3
   },
   "file_extension": ".py",
   "mimetype": "text/x-python",
   "name": "python",
   "nbconvert_exporter": "python",
   "pygments_lexer": "ipython3",
   "version": "3.7.6"
  }
 },
 "nbformat": 4,
 "nbformat_minor": 4
}
