{
 "cells": [
  {
   "cell_type": "code",
   "execution_count": null,
   "metadata": {
    "ExecuteTime": {
     "end_time": "2018-05-15T09:16:55.441978Z",
     "start_time": "2018-05-15T09:16:55.394993Z"
    }
   },
   "outputs": [],
   "source": [
    "%load_ext autoreload\n",
    "%autoreload 2"
   ]
  },
  {
   "cell_type": "code",
   "execution_count": null,
   "metadata": {},
   "outputs": [],
   "source": [
    "import os\n",
    "import sys\n",
    "\n",
    "import numpy as np\n",
    "import pandas as pd\n",
    "import plotly as pl"
   ]
  },
  {
   "cell_type": "code",
   "execution_count": null,
   "metadata": {
    "ExecuteTime": {
     "end_time": "2018-05-15T09:16:55.468918Z",
     "start_time": "2018-05-15T09:16:55.447148Z"
    }
   },
   "outputs": [],
   "source": [
    "sys.path.insert(0, \"..\")\n",
    "\n",
    "import ccal\n",
    "\n",
    "np.random.random(20121020)\n",
    "\n",
    "pl.offline.init_notebook_mode(connected=True)"
   ]
  },
  {
   "cell_type": "code",
   "execution_count": null,
   "metadata": {
    "ExecuteTime": {
     "end_time": "2018-05-15T09:16:56.372497Z",
     "start_time": "2018-05-15T09:16:55.473400Z"
    }
   },
   "outputs": [],
   "source": [
    "df = ccal.read_gct(\"input.gct\")\n",
    "\n",
    "df"
   ]
  },
  {
   "cell_type": "code",
   "execution_count": null,
   "metadata": {
    "ExecuteTime": {
     "end_time": "2018-05-15T09:16:56.451432Z",
     "start_time": "2018-05-15T09:16:56.376558Z"
    }
   },
   "outputs": [],
   "source": [
    "ccal.write_gct(df, \"_output.gct\")\n",
    "\n",
    "os.remove(\"_output.gct\")"
   ]
  },
  {
   "cell_type": "code",
   "execution_count": null,
   "metadata": {},
   "outputs": [],
   "source": [
    "df = ccal.read_gmt(\"c1.all.v6.1.symbols.gmt\")\n",
    "\n",
    "df"
   ]
  },
  {
   "cell_type": "code",
   "execution_count": null,
   "metadata": {
    "ExecuteTime": {
     "end_time": "2018-05-15T09:16:57.338204Z",
     "start_time": "2018-05-15T09:16:56.457290Z"
    }
   },
   "outputs": [],
   "source": [
    "df = ccal.read_gmts((\"c1.all.v6.1.symbols.gmt\", \"h.all.v6.1.symbols.gmt\"))\n",
    "\n",
    "df"
   ]
  },
  {
   "cell_type": "code",
   "execution_count": null,
   "metadata": {
    "ExecuteTime": {
     "end_time": "2018-05-15T09:16:57.515691Z",
     "start_time": "2018-05-15T09:16:57.345103Z"
    }
   },
   "outputs": [],
   "source": [
    "ccal.write_gmt(df, \"_output.gmt\")\n",
    "\n",
    "os.remove(\"_output.gmt\")"
   ]
  }
 ],
 "metadata": {
  "kernelspec": {
   "display_name": "Python 3",
   "language": "python",
   "name": "python3"
  },
  "language_info": {
   "codemirror_mode": {
    "name": "ipython",
    "version": 3
   },
   "file_extension": ".py",
   "mimetype": "text/x-python",
   "name": "python",
   "nbconvert_exporter": "python",
   "pygments_lexer": "ipython3",
   "version": "3.6.7"
  }
 },
 "nbformat": 4,
 "nbformat_minor": 2
}
