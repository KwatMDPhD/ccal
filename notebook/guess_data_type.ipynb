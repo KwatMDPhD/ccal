{
 "cells": [
  {
   "cell_type": "code",
   "execution_count": null,
   "metadata": {},
   "outputs": [],
   "source": [
    "%load_ext autoreload\n",
    "%autoreload 2"
   ]
  },
  {
   "cell_type": "code",
   "execution_count": null,
   "metadata": {},
   "outputs": [],
   "source": [
    "import numpy as np\n",
    "\n",
    "import kraft"
   ]
  },
  {
   "cell_type": "code",
   "execution_count": null,
   "metadata": {},
   "outputs": [],
   "source": [
    "for numbers in (\n",
    "    (0,),\n",
    "    (0, 0.0),\n",
    "    (0, 0.0, np.nan),\n",
    "    (0, 1),\n",
    "    (0, 1, 0.0, 1.0),\n",
    "    (np.nan, 0, 1, 0.0, 1.0),\n",
    "    (0, 1, 2),\n",
    "    (0, 1, 2, 0.0, 1.0, 2.0, np.nan),\n",
    "    tuple(range(16)),\n",
    "    (np.nan,) + tuple(range(16)),\n",
    "    tuple(range(24)) + (np.nan,),\n",
    "    np.random.random_sample(size=(2, 4)),\n",
    "    np.random.randint(2, size=(2, 4)),\n",
    "    np.random.randint(3, size=(2, 4)),\n",
    "):\n",
    "\n",
    "    print(numbers)\n",
    "\n",
    "    print(kraft.guess_data_type(numbers))\n",
    "\n",
    "    print()"
   ]
  }
 ],
 "metadata": {
  "kernelspec": {
   "display_name": "Python 3",
   "language": "python",
   "name": "python3"
  },
  "language_info": {
   "codemirror_mode": {
    "name": "ipython",
    "version": 3
   },
   "file_extension": ".py",
   "mimetype": "text/x-python",
   "name": "python",
   "nbconvert_exporter": "python",
   "pygments_lexer": "ipython3",
   "version": "3.7.6"
  }
 },
 "nbformat": 4,
 "nbformat_minor": 4
}
