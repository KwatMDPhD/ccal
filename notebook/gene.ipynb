{
 "cells": [
  {
   "cell_type": "code",
   "execution_count": null,
   "metadata": {
    "execution": {
     "iopub.execute_input": "2021-06-02T09:04:48.139712Z",
     "iopub.status.busy": "2021-06-02T09:04:48.139054Z",
     "iopub.status.idle": "2021-06-02T09:04:48.151789Z",
     "shell.execute_reply": "2021-06-02T09:04:48.152296Z"
    },
    "tags": []
   },
   "outputs": [],
   "source": [
    "%load_ext autoreload\n",
    "%autoreload 2"
   ]
  },
  {
   "cell_type": "code",
   "execution_count": null,
   "metadata": {
    "ExecuteTime": {
     "end_time": "2018-05-15T09:28:55.668422Z",
     "start_time": "2018-05-15T09:28:55.428950Z"
    },
    "execution": {
     "iopub.execute_input": "2021-06-02T09:04:48.155811Z",
     "iopub.status.busy": "2021-06-02T09:04:48.155195Z",
     "iopub.status.idle": "2021-06-02T09:04:48.668140Z",
     "shell.execute_reply": "2021-06-02T09:04:48.668509Z"
    },
    "tags": []
   },
   "outputs": [],
   "source": [
    "import kraft"
   ]
  },
  {
   "cell_type": "markdown",
   "metadata": {},
   "source": [
    "## _map_hgnc"
   ]
  },
  {
   "cell_type": "code",
   "execution_count": null,
   "metadata": {
    "execution": {
     "iopub.execute_input": "2021-06-02T09:04:48.671823Z",
     "iopub.status.busy": "2021-06-02T09:04:48.671301Z",
     "iopub.status.idle": "2021-06-02T09:04:49.708150Z",
     "shell.execute_reply": "2021-06-02T09:04:49.708566Z"
    },
    "tags": []
   },
   "outputs": [],
   "source": [
    "hg_ge = kraft.gene._map_hgnc()\n",
    "\n",
    "kraft.dictionary.summarize(hg_ge)"
   ]
  },
  {
   "cell_type": "markdown",
   "metadata": {},
   "source": [
    "## _map_ens"
   ]
  },
  {
   "cell_type": "code",
   "execution_count": null,
   "metadata": {
    "execution": {
     "iopub.execute_input": "2021-06-02T09:04:49.712420Z",
     "iopub.status.busy": "2021-06-02T09:04:49.711830Z",
     "iopub.status.idle": "2021-06-02T09:04:59.620257Z",
     "shell.execute_reply": "2021-06-02T09:04:59.619807Z"
    },
    "tags": []
   },
   "outputs": [],
   "source": [
    "en_ge = kraft.gene._map_ens()\n",
    "\n",
    "kraft.dictionary.summarize(en_ge)"
   ]
  },
  {
   "cell_type": "markdown",
   "metadata": {},
   "source": [
    "## _map_cg"
   ]
  },
  {
   "cell_type": "code",
   "execution_count": null,
   "metadata": {
    "execution": {
     "iopub.execute_input": "2021-06-02T09:04:59.623451Z",
     "iopub.status.busy": "2021-06-02T09:04:59.622868Z",
     "iopub.status.idle": "2021-06-02T09:05:15.330038Z",
     "shell.execute_reply": "2021-06-02T09:05:15.330469Z"
    },
    "tags": []
   },
   "outputs": [],
   "source": [
    "cg_ge = kraft.gene._map_cg()\n",
    "\n",
    "kraft.dictionary.summarize(cg_ge)"
   ]
  },
  {
   "cell_type": "markdown",
   "metadata": {},
   "source": [
    "## rename"
   ]
  },
  {
   "cell_type": "code",
   "execution_count": null,
   "metadata": {
    "execution": {
     "iopub.execute_input": "2021-06-02T09:05:15.334248Z",
     "iopub.status.busy": "2021-06-02T09:05:15.333646Z",
     "iopub.status.idle": "2021-06-02T09:05:44.789167Z",
     "shell.execute_reply": "2021-06-02T09:05:44.789596Z"
    },
    "tags": []
   },
   "outputs": [],
   "source": [
    "kraft.gene.rename([\"11998\", \"7157\", \"ENSG00000141510\", \"P04637\"])"
   ]
  },
  {
   "cell_type": "markdown",
   "metadata": {},
   "source": [
    "## select"
   ]
  },
  {
   "cell_type": "code",
   "execution_count": null,
   "metadata": {
    "execution": {
     "iopub.execute_input": "2021-06-02T09:05:44.795450Z",
     "iopub.status.busy": "2021-06-02T09:05:44.794748Z",
     "iopub.status.idle": "2021-06-02T09:05:46.367330Z",
     "shell.execute_reply": "2021-06-02T09:05:46.367956Z"
    },
    "tags": []
   },
   "outputs": [],
   "source": [
    "for co_se in [\n",
    "    None,\n",
    "    {\n",
    "        \"locus_type\": [\"transposable element\"],\n",
    "    },\n",
    "    {\n",
    "        \"locus_group\": [\"protein-coding gene\"],\n",
    "        \"locus_type\": [\"immunoglobulin gene\", \"immunoglobulin psudogene\"],\n",
    "    },\n",
    "]:\n",
    "\n",
    "    print()\n",
    "\n",
    "    print(co_se)\n",
    "\n",
    "    print(kraft.gene.select(co_se))"
   ]
  }
 ],
 "metadata": {
  "kernelspec": {
   "display_name": "Python 3",
   "language": "python",
   "name": "python3"
  },
  "language_info": {
   "codemirror_mode": {
    "name": "ipython",
    "version": 3
   },
   "file_extension": ".py",
   "mimetype": "text/x-python",
   "name": "python",
   "nbconvert_exporter": "python",
   "pygments_lexer": "ipython3",
   "version": "3.8.9"
  }
 },
 "nbformat": 4,
 "nbformat_minor": 4
}
