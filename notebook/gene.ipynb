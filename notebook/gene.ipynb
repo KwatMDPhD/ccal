{
 "cells": [
  {
   "cell_type": "code",
   "execution_count": null,
   "metadata": {
    "execution": {
     "iopub.execute_input": "2021-05-31T22:28:27.936181Z",
     "iopub.status.busy": "2021-05-31T22:28:27.935399Z",
     "iopub.status.idle": "2021-05-31T22:28:27.949265Z",
     "shell.execute_reply": "2021-05-31T22:28:27.949673Z"
    },
    "tags": []
   },
   "outputs": [],
   "source": [
    "%load_ext autoreload\n",
    "%autoreload 2"
   ]
  },
  {
   "cell_type": "code",
   "execution_count": null,
   "metadata": {
    "ExecuteTime": {
     "end_time": "2018-05-15T09:28:55.668422Z",
     "start_time": "2018-05-15T09:28:55.428950Z"
    },
    "execution": {
     "iopub.execute_input": "2021-05-31T22:28:27.953172Z",
     "iopub.status.busy": "2021-05-31T22:28:27.952583Z",
     "iopub.status.idle": "2021-05-31T22:28:28.488009Z",
     "shell.execute_reply": "2021-05-31T22:28:28.488398Z"
    },
    "tags": []
   },
   "outputs": [],
   "source": [
    "import kraft"
   ]
  },
  {
   "cell_type": "markdown",
   "metadata": {},
   "source": [
    "## _map_hgnc"
   ]
  },
  {
   "cell_type": "code",
   "execution_count": null,
   "metadata": {
    "execution": {
     "iopub.execute_input": "2021-05-31T22:28:28.491545Z",
     "iopub.status.busy": "2021-05-31T22:28:28.490984Z",
     "iopub.status.idle": "2021-05-31T22:28:29.525385Z",
     "shell.execute_reply": "2021-05-31T22:28:29.525811Z"
    },
    "tags": []
   },
   "outputs": [],
   "source": [
    "hg_ge = kraft.gene._map_hgnc()\n",
    "\n",
    "kraft.dictionary.summarize(hg_ge)"
   ]
  },
  {
   "cell_type": "markdown",
   "metadata": {},
   "source": [
    "## _map_ens"
   ]
  },
  {
   "cell_type": "code",
   "execution_count": null,
   "metadata": {
    "execution": {
     "iopub.execute_input": "2021-05-31T22:28:29.529202Z",
     "iopub.status.busy": "2021-05-31T22:28:29.528594Z",
     "iopub.status.idle": "2021-05-31T22:28:40.043698Z",
     "shell.execute_reply": "2021-05-31T22:28:40.044117Z"
    },
    "tags": []
   },
   "outputs": [],
   "source": [
    "en_ge = kraft.gene._map_ens()\n",
    "\n",
    "kraft.dictionary.summarize(en_ge)"
   ]
  },
  {
   "cell_type": "markdown",
   "metadata": {},
   "source": [
    "## _map_cg"
   ]
  },
  {
   "cell_type": "code",
   "execution_count": null,
   "metadata": {
    "execution": {
     "iopub.execute_input": "2021-05-31T22:28:40.048981Z",
     "iopub.status.busy": "2021-05-31T22:28:40.048381Z",
     "iopub.status.idle": "2021-05-31T22:28:55.358233Z",
     "shell.execute_reply": "2021-05-31T22:28:55.358866Z"
    },
    "tags": []
   },
   "outputs": [],
   "source": [
    "cg_ge = kraft.gene._map_cg()\n",
    "\n",
    "kraft.dictionary.summarize(cg_ge)"
   ]
  },
  {
   "cell_type": "markdown",
   "metadata": {},
   "source": [
    "## rename"
   ]
  },
  {
   "cell_type": "code",
   "execution_count": null,
   "metadata": {
    "execution": {
     "iopub.execute_input": "2021-05-31T22:28:55.363361Z",
     "iopub.status.busy": "2021-05-31T22:28:55.362763Z",
     "iopub.status.idle": "2021-05-31T22:29:22.580705Z",
     "shell.execute_reply": "2021-05-31T22:29:22.581423Z"
    },
    "tags": []
   },
   "outputs": [],
   "source": [
    "kraft.gene.rename([\"11998\", \"7157\", \"ENSG00000141510\", \"P04637\"])"
   ]
  },
  {
   "cell_type": "markdown",
   "metadata": {},
   "source": [
    "## select"
   ]
  },
  {
   "cell_type": "code",
   "execution_count": null,
   "metadata": {
    "execution": {
     "iopub.execute_input": "2021-05-31T22:29:22.588661Z",
     "iopub.status.busy": "2021-05-31T22:29:22.587934Z",
     "iopub.status.idle": "2021-05-31T22:29:23.903980Z",
     "shell.execute_reply": "2021-05-31T22:29:23.904440Z"
    },
    "tags": []
   },
   "outputs": [],
   "source": [
    "for co_se in [\n",
    "    None,\n",
    "    {\n",
    "        \"locus_type\": [\"transposable element\"],\n",
    "    },\n",
    "    {\n",
    "        \"locus_group\": [\"protein-coding gene\"],\n",
    "        \"locus_type\": [\"immunoglobulin gene\", \"immunoglobulin psudogene\"],\n",
    "    },\n",
    "]:\n",
    "\n",
    "    print()\n",
    "\n",
    "    print(co_se)\n",
    "\n",
    "    print(kraft.gene.select(co_se))"
   ]
  }
 ],
 "metadata": {
  "kernelspec": {
   "display_name": "Python 3",
   "language": "python",
   "name": "python3"
  },
  "language_info": {
   "codemirror_mode": {
    "name": "ipython",
    "version": 3
   },
   "file_extension": ".py",
   "mimetype": "text/x-python",
   "name": "python",
   "nbconvert_exporter": "python",
   "pygments_lexer": "ipython3",
   "version": "3.8.9"
  }
 },
 "nbformat": 4,
 "nbformat_minor": 4
}
