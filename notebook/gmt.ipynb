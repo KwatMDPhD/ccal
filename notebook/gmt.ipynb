{
 "cells": [
  {
   "cell_type": "code",
   "execution_count": null,
   "id": "cd758eba-c8b6-49eb-958b-4f8415eb2bbb",
   "metadata": {
    "execution": {
     "iopub.execute_input": "2021-05-30T07:00:24.047902Z",
     "iopub.status.busy": "2021-05-30T07:00:24.047209Z",
     "iopub.status.idle": "2021-05-30T07:00:24.060388Z",
     "shell.execute_reply": "2021-05-30T07:00:24.060836Z"
    }
   },
   "outputs": [],
   "source": [
    "%load_ext autoreload\n",
    "%autoreload 2"
   ]
  },
  {
   "cell_type": "code",
   "execution_count": null,
   "id": "2690ab49-eabd-4718-81b8-ee69863f5c11",
   "metadata": {
    "execution": {
     "iopub.execute_input": "2021-05-30T07:00:24.064317Z",
     "iopub.status.busy": "2021-05-30T07:00:24.063724Z",
     "iopub.status.idle": "2021-05-30T07:00:24.608577Z",
     "shell.execute_reply": "2021-05-30T07:00:24.608937Z"
    }
   },
   "outputs": [],
   "source": [
    "import kraft"
   ]
  },
  {
   "cell_type": "markdown",
   "id": "82cc10e7-7608-4bf7-a6bc-3d52eeb01f48",
   "metadata": {},
   "source": [
    "## read"
   ]
  },
  {
   "cell_type": "code",
   "execution_count": null,
   "id": "9b6e586e-c076-48c6-b2df-f4723ae825b3",
   "metadata": {
    "execution": {
     "iopub.execute_input": "2021-05-30T07:00:24.612162Z",
     "iopub.status.busy": "2021-05-30T07:00:24.611666Z",
     "iopub.status.idle": "2021-05-30T07:00:25.337116Z",
     "shell.execute_reply": "2021-05-30T07:00:25.337465Z"
    }
   },
   "outputs": [],
   "source": [
    "kraft.gmt.read(\n",
    "    [\n",
    "        \"data/a.gmt\",\n",
    "        \"data/b.gmt\",\n",
    "    ]\n",
    ")"
   ]
  }
 ],
 "metadata": {
  "kernelspec": {
   "display_name": "Python 3",
   "language": "python",
   "name": "python3"
  },
  "language_info": {
   "codemirror_mode": {
    "name": "ipython",
    "version": 3
   },
   "file_extension": ".py",
   "mimetype": "text/x-python",
   "name": "python",
   "nbconvert_exporter": "python",
   "pygments_lexer": "ipython3",
   "version": "3.8.9"
  }
 },
 "nbformat": 4,
 "nbformat_minor": 5
}
