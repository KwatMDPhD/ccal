{
 "cells": [
  {
   "cell_type": "code",
   "execution_count": null,
   "id": "cd758eba-c8b6-49eb-958b-4f8415eb2bbb",
   "metadata": {
    "execution": {
     "iopub.execute_input": "2021-05-31T05:59:54.906440Z",
     "iopub.status.busy": "2021-05-31T05:59:54.905652Z",
     "iopub.status.idle": "2021-05-31T05:59:54.920559Z",
     "shell.execute_reply": "2021-05-31T05:59:54.921067Z"
    }
   },
   "outputs": [],
   "source": [
    "%load_ext autoreload\n",
    "%autoreload 2"
   ]
  },
  {
   "cell_type": "code",
   "execution_count": null,
   "id": "2690ab49-eabd-4718-81b8-ee69863f5c11",
   "metadata": {
    "execution": {
     "iopub.execute_input": "2021-05-31T05:59:54.924595Z",
     "iopub.status.busy": "2021-05-31T05:59:54.924000Z",
     "iopub.status.idle": "2021-05-31T05:59:55.461294Z",
     "shell.execute_reply": "2021-05-31T05:59:55.461761Z"
    }
   },
   "outputs": [],
   "source": [
    "import kraft"
   ]
  },
  {
   "cell_type": "markdown",
   "id": "82cc10e7-7608-4bf7-a6bc-3d52eeb01f48",
   "metadata": {},
   "source": [
    "## read"
   ]
  },
  {
   "cell_type": "code",
   "execution_count": null,
   "id": "9b6e586e-c076-48c6-b2df-f4723ae825b3",
   "metadata": {
    "execution": {
     "iopub.execute_input": "2021-05-31T05:59:55.465052Z",
     "iopub.status.busy": "2021-05-31T05:59:55.464531Z",
     "iopub.status.idle": "2021-05-31T05:59:56.173165Z",
     "shell.execute_reply": "2021-05-31T05:59:56.173528Z"
    }
   },
   "outputs": [],
   "source": [
    "kraft.gmt.read([\"data/a.gmt\", \"data/b.gmt\"])"
   ]
  }
 ],
 "metadata": {
  "kernelspec": {
   "display_name": "Python 3",
   "language": "python",
   "name": "python3"
  },
  "language_info": {
   "codemirror_mode": {
    "name": "ipython",
    "version": 3
   },
   "file_extension": ".py",
   "mimetype": "text/x-python",
   "name": "python",
   "nbconvert_exporter": "python",
   "pygments_lexer": "ipython3",
   "version": "3.8.9"
  }
 },
 "nbformat": 4,
 "nbformat_minor": 5
}
