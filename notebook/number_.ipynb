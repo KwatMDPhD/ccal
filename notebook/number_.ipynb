{
 "cells": [
  {
   "cell_type": "code",
   "execution_count": null,
   "id": "a5c9c44f-1b4b-43ac-ae10-695eda1f668a",
   "metadata": {
    "execution": {
     "iopub.execute_input": "2021-05-29T18:49:20.307006Z",
     "iopub.status.busy": "2021-05-29T18:49:20.306340Z",
     "iopub.status.idle": "2021-05-29T18:49:20.319203Z",
     "shell.execute_reply": "2021-05-29T18:49:20.319645Z"
    }
   },
   "outputs": [],
   "source": [
    "%load_ext autoreload\n",
    "%autoreload 2"
   ]
  },
  {
   "cell_type": "code",
   "execution_count": null,
   "id": "83a2d944-4159-4588-a66c-baea3f555a68",
   "metadata": {
    "execution": {
     "iopub.execute_input": "2021-05-29T18:49:20.323135Z",
     "iopub.status.busy": "2021-05-29T18:49:20.322479Z",
     "iopub.status.idle": "2021-05-29T18:49:20.626179Z",
     "shell.execute_reply": "2021-05-29T18:49:20.625734Z"
    }
   },
   "outputs": [],
   "source": [
    "import kraft"
   ]
  },
  {
   "cell_type": "markdown",
   "id": "9ab815e2-f4c2-4f7d-8ee0-34cd76eeb373",
   "metadata": {},
   "source": [
    "## check_is_sorted"
   ]
  },
  {
   "cell_type": "code",
   "execution_count": null,
   "id": "fc1afb9f-ceb2-4542-bc7c-f708078cd64a",
   "metadata": {
    "execution": {
     "iopub.execute_input": "2021-05-29T18:49:20.630699Z",
     "iopub.status.busy": "2021-05-29T18:49:20.630100Z",
     "iopub.status.idle": "2021-05-29T18:49:20.643911Z",
     "shell.execute_reply": "2021-05-29T18:49:20.644270Z"
    }
   },
   "outputs": [],
   "source": [
    "for nu_ in [\n",
    "    [\n",
    "        1,\n",
    "        2,\n",
    "        3,\n",
    "    ],\n",
    "    [\n",
    "        3,\n",
    "        2,\n",
    "        1,\n",
    "    ],\n",
    "    [\n",
    "        -1,\n",
    "        0,\n",
    "        1,\n",
    "    ],\n",
    "    [\n",
    "        0,\n",
    "        1,\n",
    "        -1,\n",
    "    ],\n",
    "    [\n",
    "        0,\n",
    "        0,\n",
    "    ],\n",
    "    [\n",
    "        True,\n",
    "        False,\n",
    "    ],\n",
    "    [\n",
    "        False,\n",
    "        True,\n",
    "    ],\n",
    "    [\n",
    "        True,\n",
    "        False,\n",
    "        True,\n",
    "    ],\n",
    "]:\n",
    "\n",
    "    print(kraft.number_.check_is_sorted(nu_))"
   ]
  }
 ],
 "metadata": {
  "kernelspec": {
   "display_name": "Python 3",
   "language": "python",
   "name": "python3"
  },
  "language_info": {
   "codemirror_mode": {
    "name": "ipython",
    "version": 3
   },
   "file_extension": ".py",
   "mimetype": "text/x-python",
   "name": "python",
   "nbconvert_exporter": "python",
   "pygments_lexer": "ipython3",
   "version": "3.8.9"
  }
 },
 "nbformat": 4,
 "nbformat_minor": 5
}
