{
 "cells": [
  {
   "cell_type": "code",
   "execution_count": null,
   "id": "a5c9c44f-1b4b-43ac-ae10-695eda1f668a",
   "metadata": {
    "execution": {
     "iopub.execute_input": "2021-05-30T07:00:36.230968Z",
     "iopub.status.busy": "2021-05-30T07:00:36.230201Z",
     "iopub.status.idle": "2021-05-30T07:00:36.244304Z",
     "shell.execute_reply": "2021-05-30T07:00:36.244816Z"
    }
   },
   "outputs": [],
   "source": [
    "%load_ext autoreload\n",
    "%autoreload 2"
   ]
  },
  {
   "cell_type": "code",
   "execution_count": null,
   "id": "83a2d944-4159-4588-a66c-baea3f555a68",
   "metadata": {
    "execution": {
     "iopub.execute_input": "2021-05-30T07:00:36.248398Z",
     "iopub.status.busy": "2021-05-30T07:00:36.247807Z",
     "iopub.status.idle": "2021-05-30T07:00:36.800477Z",
     "shell.execute_reply": "2021-05-30T07:00:36.800834Z"
    }
   },
   "outputs": [],
   "source": [
    "import kraft"
   ]
  },
  {
   "cell_type": "markdown",
   "id": "9ab815e2-f4c2-4f7d-8ee0-34cd76eeb373",
   "metadata": {},
   "source": [
    "## check_is_sorted"
   ]
  },
  {
   "cell_type": "code",
   "execution_count": null,
   "id": "fc1afb9f-ceb2-4542-bc7c-f708078cd64a",
   "metadata": {
    "execution": {
     "iopub.execute_input": "2021-05-30T07:00:36.805861Z",
     "iopub.status.busy": "2021-05-30T07:00:36.804776Z",
     "iopub.status.idle": "2021-05-30T07:00:36.826263Z",
     "shell.execute_reply": "2021-05-30T07:00:36.826674Z"
    }
   },
   "outputs": [],
   "source": [
    "for nu_ in [\n",
    "    [\n",
    "        1,\n",
    "        2,\n",
    "        3,\n",
    "    ],\n",
    "    [\n",
    "        3,\n",
    "        2,\n",
    "        1,\n",
    "    ],\n",
    "    [\n",
    "        -1,\n",
    "        0,\n",
    "        1,\n",
    "    ],\n",
    "    [\n",
    "        0,\n",
    "        1,\n",
    "        -1,\n",
    "    ],\n",
    "    [\n",
    "        0,\n",
    "        0,\n",
    "    ],\n",
    "    [\n",
    "        True,\n",
    "        False,\n",
    "    ],\n",
    "    [\n",
    "        False,\n",
    "        True,\n",
    "    ],\n",
    "    [\n",
    "        True,\n",
    "        False,\n",
    "        True,\n",
    "    ],\n",
    "]:\n",
    "\n",
    "    print(kraft.number_.check_is_sorted(nu_))"
   ]
  }
 ],
 "metadata": {
  "kernelspec": {
   "display_name": "Python 3",
   "language": "python",
   "name": "python3"
  },
  "language_info": {
   "codemirror_mode": {
    "name": "ipython",
    "version": 3
   },
   "file_extension": ".py",
   "mimetype": "text/x-python",
   "name": "python",
   "nbconvert_exporter": "python",
   "pygments_lexer": "ipython3",
   "version": "3.8.9"
  }
 },
 "nbformat": 4,
 "nbformat_minor": 5
}
