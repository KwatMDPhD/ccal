{
 "cells": [
  {
   "cell_type": "code",
   "execution_count": 1,
   "metadata": {
    "ExecuteTime": {
     "end_time": "2018-05-15T09:28:54.601864Z",
     "start_time": "2018-05-15T09:28:54.554930Z"
    }
   },
   "outputs": [],
   "source": [
    "%load_ext autoreload\n",
    "%autoreload 2"
   ]
  },
  {
   "cell_type": "code",
   "execution_count": 2,
   "metadata": {},
   "outputs": [],
   "source": [
    "import os\n",
    "import subprocess\n",
    "import sys"
   ]
  },
  {
   "cell_type": "code",
   "execution_count": 3,
   "metadata": {},
   "outputs": [],
   "source": [
    "version = \"0.9.0\""
   ]
  },
  {
   "cell_type": "code",
   "execution_count": 4,
   "metadata": {},
   "outputs": [],
   "source": [
    "def get_importable_names_from_py_file_path(py_file_path):\n",
    "\n",
    "    importable_names = []\n",
    "\n",
    "    with open(py_file_path) as py_file:\n",
    "\n",
    "        for line in py_file.readlines():\n",
    "\n",
    "            for prefix, separator in ((\"def \", \"(\"), (\"class \", \":\")):\n",
    "\n",
    "                if line.startswith(prefix):\n",
    "\n",
    "                    importable_name = line.strip().split(separator)[0][len(prefix) :]\n",
    "\n",
    "                    if not importable_name.startswith(\"_\"):\n",
    "\n",
    "                        importable_names.append(importable_name)\n",
    "\n",
    "    return importable_names"
   ]
  },
  {
   "cell_type": "code",
   "execution_count": 5,
   "metadata": {
    "scrolled": false
   },
   "outputs": [
    {
     "name": "stdout",
     "output_type": "stream",
     "text": [
      "================================================================================\n",
      "plot_bar.py\n",
      "\tplot_bar\n",
      "\n",
      "================================================================================\n",
      "dict_.py\n",
      "\tmerge_dicts_with_callable\n",
      "\twrite_dict\n"
     ]
    },
    {
     "ename": "ValueError",
     "evalue": "1 < n importable names (2): dict_.py",
     "output_type": "error",
     "traceback": [
      "\u001b[0;31m---------------------------------------------------------------------------\u001b[0m",
      "\u001b[0;31mValueError\u001b[0m                                Traceback (most recent call last)",
      "\u001b[0;32m<ipython-input-5-7d77e7cc89af>\u001b[0m in \u001b[0;36m<module>\u001b[0;34m\u001b[0m\n\u001b[1;32m     23\u001b[0m             raise ValueError(\n\u001b[1;32m     24\u001b[0m                 \"1 < n importable names ({}): {}\".format(\n\u001b[0;32m---> 25\u001b[0;31m                     \u001b[0mlen\u001b[0m\u001b[0;34m(\u001b[0m\u001b[0mimportable_names\u001b[0m\u001b[0;34m)\u001b[0m\u001b[0;34m,\u001b[0m \u001b[0mpy_file_name\u001b[0m\u001b[0;34m\u001b[0m\u001b[0;34m\u001b[0m\u001b[0m\n\u001b[0m\u001b[1;32m     26\u001b[0m                 )\n\u001b[1;32m     27\u001b[0m             )\n",
      "\u001b[0;31mValueError\u001b[0m: 1 < n importable names (2): dict_.py"
     ]
    }
   ],
   "source": [
    "import_lines = []\n",
    "\n",
    "for py_file_name in os.listdir(\"../ccal\"):\n",
    "\n",
    "    print(\"=\" * 80)\n",
    "\n",
    "    print(py_file_name)\n",
    "\n",
    "    if py_file_name.startswith(\"_\") or not py_file_name.endswith(\".py\"):\n",
    "\n",
    "        print(\"\\tSkip.\")\n",
    "\n",
    "    else:\n",
    "\n",
    "        py_file_path = \"../ccal/{}\".format(py_file_name)\n",
    "\n",
    "        importable_names = get_importable_names_from_py_file_path(py_file_path)\n",
    "\n",
    "        print(\"\\t{}\".format(\"\\n\\t\".join(importable_names)))\n",
    "\n",
    "        if 1 < len(importable_names):\n",
    "\n",
    "            raise ValueError(\n",
    "                \"1 < n importable names ({}): {}\".format(\n",
    "                    len(importable_names), py_file_name\n",
    "                )\n",
    "            )\n",
    "\n",
    "        import_lines.extend(\n",
    "            [\n",
    "                \"from .{} import {}\".format(\n",
    "                    py_file_name[: -len(\".py\")], importable_name\n",
    "                )\n",
    "                for importable_name in importable_names\n",
    "            ]\n",
    "        )\n",
    "\n",
    "    print()"
   ]
  },
  {
   "cell_type": "code",
   "execution_count": null,
   "metadata": {},
   "outputs": [],
   "source": [
    "with open(\"../ccal/__init__.py\", mode=\"w\") as init_file:\n",
    "\n",
    "    separator = \"\\n\\n\"\n",
    "\n",
    "    init_file.write(\n",
    "        separator.join(\n",
    "            (\n",
    "                \"from os.path import abspath, dirname\",\n",
    "                'VERSION = \"{}\"'.format(version),\n",
    "                'print(\"CCAL version {} @ {}\".format(VERSION, abspath(__file__)))',\n",
    "                'DATA_DIRECTORY_PATH = \"{}/../data\".format(dirname(__file__))',\n",
    "            )\n",
    "        )\n",
    "    )\n",
    "\n",
    "    init_file.write(separator)\n",
    "\n",
    "    init_file.writelines(\"\\n\".join(import_lines))"
   ]
  },
  {
   "cell_type": "code",
   "execution_count": null,
   "metadata": {},
   "outputs": [],
   "source": [
    "subprocess.run(\"isort ../ccal/__init__.py\", shell=True, check=True)\n",
    "\n",
    "subprocess.run(\"black ../ccal/__init__.py\", shell=True, check=True)"
   ]
  },
  {
   "cell_type": "code",
   "execution_count": null,
   "metadata": {},
   "outputs": [],
   "source": [
    "sys.path.insert(0, \"..\")\n",
    "\n",
    "import ccal"
   ]
  },
  {
   "cell_type": "code",
   "execution_count": null,
   "metadata": {
    "scrolled": false
   },
   "outputs": [],
   "source": [
    "print(len(dir(ccal)))\n",
    "\n",
    "dir(ccal)"
   ]
  }
 ],
 "metadata": {
  "kernelspec": {
   "display_name": "Python 3",
   "language": "python",
   "name": "python3"
  },
  "language_info": {
   "codemirror_mode": {
    "name": "ipython",
    "version": 3
   },
   "file_extension": ".py",
   "mimetype": "text/x-python",
   "name": "python",
   "nbconvert_exporter": "python",
   "pygments_lexer": "ipython3",
   "version": "3.6.7"
  }
 },
 "nbformat": 4,
 "nbformat_minor": 2
}
