{
 "cells": [
  {
   "cell_type": "code",
   "execution_count": null,
   "metadata": {
    "ExecuteTime": {
     "end_time": "2018-05-07T08:57:58.200840Z",
     "start_time": "2018-05-07T08:57:58.167958Z"
    }
   },
   "outputs": [],
   "source": [
    "%load_ext autoreload\n",
    "%autoreload 2"
   ]
  },
  {
   "cell_type": "code",
   "execution_count": null,
   "metadata": {},
   "outputs": [],
   "source": [
    "import os\n",
    "import sys\n",
    "\n",
    "import numpy as np\n",
    "import pandas as pd\n",
    "import plotly as pl"
   ]
  },
  {
   "cell_type": "code",
   "execution_count": null,
   "metadata": {
    "ExecuteTime": {
     "end_time": "2018-05-07T08:57:58.227713Z",
     "start_time": "2018-05-07T08:57:58.203692Z"
    }
   },
   "outputs": [],
   "source": [
    "sys.path.insert(0, \"..\")\n",
    "\n",
    "np.random.random(20121020)\n",
    "\n",
    "pl.offline.init_notebook_mode(connected=True)"
   ]
  },
  {
   "cell_type": "code",
   "execution_count": null,
   "metadata": {
    "ExecuteTime": {
     "end_time": "2018-05-07T08:57:58.227713Z",
     "start_time": "2018-05-07T08:57:58.203692Z"
    }
   },
   "outputs": [],
   "source": [
    "grch_directory_path = os.path.expanduser(\"~/grch\")\n",
    "\n",
    "people_directory_path = os.path.expanduser(\"~/people\")\n",
    "\n",
    "reference_fasta_gz_file_path = \"{}/Homo_sapiens.GRCh38.dna.primary_assembly.fa.gz\".format(\n",
    "    grch_directory_path\n",
    ")\n",
    "\n",
    "assert os.path.isfile(reference_fasta_gz_file_path)\n",
    "\n",
    "reference_gff3_gz_file_path = os.path.abspath(\n",
    "    \"{}/Homo_sapiens.GRCh38.93.chr.gff3.gz\".format(grch_directory_path)\n",
    ")\n",
    "\n",
    "assert os.path.isfile(reference_gff3_gz_file_path)\n",
    "\n",
    "vcf_gz_file_path = os.path.abspath(\"{}/0/genome.vcf.gz\".format(people_directory_path))\n",
    "\n",
    "assert os.path.isfile(vcf_gz_file_path)"
   ]
  },
  {
   "cell_type": "code",
   "execution_count": null,
   "metadata": {
    "ExecuteTime": {
     "end_time": "2018-05-07T08:58:01.703093Z",
     "start_time": "2018-05-07T08:57:58.259561Z"
    }
   },
   "outputs": [],
   "source": [
    "from genome.Genome import is_valid_vcf_gz\n",
    "\n",
    "is_valid_vcf_gz(vcf_gz_file_path)"
   ]
  },
  {
   "cell_type": "code",
   "execution_count": null,
   "metadata": {
    "ExecuteTime": {
     "end_time": "2018-05-07T08:59:55.668047Z",
     "start_time": "2018-05-07T08:58:01.706669Z"
    }
   },
   "outputs": [],
   "source": [
    "from genome.Genome import Genome\n",
    "\n",
    "genome = Genome(\n",
    "    reference_fasta_gz_file_path,\n",
    "    reference_gff3_gz_file_path,\n",
    "    vcf_gz_file_path,\n",
    "    reset=True,\n",
    ")\n",
    "\n",
    "genome"
   ]
  },
  {
   "cell_type": "code",
   "execution_count": null,
   "metadata": {
    "ExecuteTime": {
     "end_time": "2018-05-07T08:59:56.028955Z",
     "start_time": "2018-05-07T08:59:55.678928Z"
    }
   },
   "outputs": [],
   "source": [
    "genome_dict = genome.explore_genome_by_variant(\"rs235\")\n",
    "\n",
    "genome_dict"
   ]
  },
  {
   "cell_type": "code",
   "execution_count": null,
   "metadata": {
    "ExecuteTime": {
     "end_time": "2018-05-07T08:59:56.117166Z",
     "start_time": "2018-05-07T08:59:56.034203Z"
    }
   },
   "outputs": [],
   "source": [
    "genome_dict = genome.explore_genome_by_variant(\"rs88888888\")\n",
    "\n",
    "genome_dict"
   ]
  },
  {
   "cell_type": "code",
   "execution_count": null,
   "metadata": {
    "ExecuteTime": {
     "end_time": "2018-05-07T08:59:56.575120Z",
     "start_time": "2018-05-07T08:59:56.123444Z"
    }
   },
   "outputs": [],
   "source": [
    "genome_dict = genome.explore_genome_by_gene(\"KRAS\")\n",
    "\n",
    "genome_dict"
   ]
  },
  {
   "cell_type": "code",
   "execution_count": null,
   "metadata": {
    "ExecuteTime": {
     "end_time": "2018-05-07T08:59:56.684187Z",
     "start_time": "2018-05-07T08:59:56.582947Z"
    }
   },
   "outputs": [],
   "source": [
    "genome_dict = genome.explore_genome_by_gene(\"Kwat\")\n",
    "\n",
    "genome_dict"
   ]
  },
  {
   "cell_type": "code",
   "execution_count": null,
   "metadata": {
    "ExecuteTime": {
     "end_time": "2018-05-07T08:59:57.302809Z",
     "start_time": "2018-05-07T08:59:56.692544Z"
    }
   },
   "outputs": [],
   "source": [
    "genome_dict = genome.explore_genome_by_region(\"8\", 0, 800000)\n",
    "\n",
    "genome_dict"
   ]
  },
  {
   "cell_type": "code",
   "execution_count": null,
   "metadata": {
    "ExecuteTime": {
     "end_time": "2018-05-07T08:59:57.409356Z",
     "start_time": "2018-05-07T08:59:57.305398Z"
    }
   },
   "outputs": [],
   "source": [
    "genome_dict = genome.explore_genome_by_region(\"88888888\", 0, 800000)\n",
    "\n",
    "genome_dict"
   ]
  }
 ],
 "metadata": {
  "kernelspec": {
   "display_name": "Python 3",
   "language": "python",
   "name": "python3"
  },
  "language_info": {
   "codemirror_mode": {
    "name": "ipython",
    "version": 3
   },
   "file_extension": ".py",
   "mimetype": "text/x-python",
   "name": "python",
   "nbconvert_exporter": "python",
   "pygments_lexer": "ipython3",
   "version": "3.6.6"
  }
 },
 "nbformat": 4,
 "nbformat_minor": 2
}
