{
 "cells": [
  {
   "cell_type": "code",
   "execution_count": null,
   "metadata": {
    "ExecuteTime": {
     "end_time": "2018-05-07T08:57:58.200840Z",
     "start_time": "2018-05-07T08:57:58.167958Z"
    }
   },
   "outputs": [],
   "source": [
    "import os"
   ]
  },
  {
   "cell_type": "code",
   "execution_count": null,
   "metadata": {
    "ExecuteTime": {
     "end_time": "2018-05-07T08:57:58.227713Z",
     "start_time": "2018-05-07T08:57:58.203692Z"
    }
   },
   "outputs": [],
   "source": [
    "import ccal"
   ]
  },
  {
   "cell_type": "code",
   "execution_count": null,
   "metadata": {
    "ExecuteTime": {
     "end_time": "2018-05-07T08:57:58.227713Z",
     "start_time": "2018-05-07T08:57:58.203692Z"
    }
   },
   "outputs": [],
   "source": [
    "reference_fasta_gz_file_path = os.path.join(\n",
    "    ccal.DATA_DIRECTORY_PATH, \"Homo_sapiens.GRCh38.dna.primary_assembly.fa.gz\"\n",
    ")\n",
    "\n",
    "reference_gff3_gz_file_path = os.path.join(\n",
    "    ccal.DATA_DIRECTORY_PATH, \"Homo_sapiens.GRCh38.90.chr.gff3.gz\"\n",
    ")\n",
    "\n",
    "vcf_gz_file_path = os.path.join(ccal.DATA_DIRECTORY_PATH, \"genome.vcf.gz\")"
   ]
  },
  {
   "cell_type": "code",
   "execution_count": null,
   "metadata": {
    "ExecuteTime": {
     "end_time": "2018-05-07T08:59:55.668047Z",
     "start_time": "2018-05-07T08:58:01.706669Z"
    }
   },
   "outputs": [],
   "source": [
    "genome = ccal.Genome(\n",
    "    reference_fasta_gz_file_path, reference_gff3_gz_file_path, vcf_gz_file_path\n",
    ")\n",
    "\n",
    "genome"
   ]
  },
  {
   "cell_type": "code",
   "execution_count": null,
   "metadata": {
    "ExecuteTime": {
     "end_time": "2018-05-07T08:59:56.028955Z",
     "start_time": "2018-05-07T08:59:55.678928Z"
    }
   },
   "outputs": [],
   "source": [
    "genome_dict = genome.explore_genome_by_variant(\"rs235\")\n",
    "\n",
    "genome_dict"
   ]
  },
  {
   "cell_type": "code",
   "execution_count": null,
   "metadata": {
    "ExecuteTime": {
     "end_time": "2018-05-07T08:59:56.117166Z",
     "start_time": "2018-05-07T08:59:56.034203Z"
    }
   },
   "outputs": [],
   "source": [
    "genome_dict = genome.explore_genome_by_variant(\"rs88888888\")\n",
    "\n",
    "genome_dict"
   ]
  },
  {
   "cell_type": "code",
   "execution_count": null,
   "metadata": {
    "ExecuteTime": {
     "end_time": "2018-05-07T08:59:56.575120Z",
     "start_time": "2018-05-07T08:59:56.123444Z"
    }
   },
   "outputs": [],
   "source": [
    "genome_dict = genome.explore_genome_by_gene(\"KRAS\")\n",
    "\n",
    "genome_dict"
   ]
  },
  {
   "cell_type": "code",
   "execution_count": null,
   "metadata": {
    "ExecuteTime": {
     "end_time": "2018-05-07T08:59:56.684187Z",
     "start_time": "2018-05-07T08:59:56.582947Z"
    }
   },
   "outputs": [],
   "source": [
    "genome_dict = genome.explore_genome_by_gene(\"Kwat\")\n",
    "\n",
    "genome_dict"
   ]
  },
  {
   "cell_type": "code",
   "execution_count": null,
   "metadata": {
    "ExecuteTime": {
     "end_time": "2018-05-07T08:59:57.302809Z",
     "start_time": "2018-05-07T08:59:56.692544Z"
    }
   },
   "outputs": [],
   "source": [
    "genome_dict = genome.explore_genome_by_region(\"8\", 0, 800000)\n",
    "\n",
    "genome_dict"
   ]
  },
  {
   "cell_type": "code",
   "execution_count": null,
   "metadata": {
    "ExecuteTime": {
     "end_time": "2018-05-07T08:59:57.409356Z",
     "start_time": "2018-05-07T08:59:57.305398Z"
    }
   },
   "outputs": [],
   "source": [
    "genome_dict = genome.explore_genome_by_region(\"88888888\", 0, 800000)\n",
    "\n",
    "genome_dict"
   ]
  }
 ],
 "metadata": {
  "kernelspec": {
   "display_name": "Python 3",
   "language": "python",
   "name": "python3"
  },
  "language_info": {
   "codemirror_mode": {
    "name": "ipython",
    "version": 3
   },
   "file_extension": ".py",
   "mimetype": "text/x-python",
   "name": "python",
   "nbconvert_exporter": "python",
   "pygments_lexer": "ipython3",
   "version": "3.6.7"
  }
 },
 "nbformat": 4,
 "nbformat_minor": 2
}
