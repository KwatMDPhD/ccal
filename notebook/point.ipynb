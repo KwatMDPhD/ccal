{
 "cells": [
  {
   "cell_type": "code",
   "execution_count": null,
   "metadata": {},
   "outputs": [],
   "source": [
    "%load_ext autoreload\n",
    "%autoreload 2"
   ]
  },
  {
   "cell_type": "code",
   "execution_count": null,
   "metadata": {
    "ExecuteTime": {
     "end_time": "2018-05-07T09:08:44.839057Z",
     "start_time": "2018-05-07T09:08:44.223504Z"
    }
   },
   "outputs": [],
   "source": [
    "import kraft\n",
    "import numpy as np"
   ]
  },
  {
   "cell_type": "code",
   "execution_count": null,
   "metadata": {},
   "outputs": [],
   "source": [
    "def plot_point(node_xs, node_ys, point_xs, point_ys):\n",
    "\n",
    "    layouts_size = 640\n",
    "\n",
    "    kraft.plot_plotly(\n",
    "        {\n",
    "            \"layout\": {\"height\": layouts_size, \"width\": layouts_size},\n",
    "            \"data\": [\n",
    "                {\n",
    "                    \"name\": \"Node\",\n",
    "                    \"x\": node_xs,\n",
    "                    \"y\": node_ys,\n",
    "                    \"mode\": \"markers\",\n",
    "                    \"marker\": {\"size\": 24, \"opacity\": 0.8},\n",
    "                },\n",
    "            ]\n",
    "            + [\n",
    "                {\n",
    "                    \"showlegend\": False,\n",
    "                    \"x\": (point_x,),\n",
    "                    \"y\": (point_y,),\n",
    "                    \"mode\": \"markers+text\",\n",
    "                    \"marker\": {\"size\": 16, \"opacity\": 0.8},\n",
    "                    \"text\": point_index,\n",
    "                    \"textfont\": {\"size\": 16},\n",
    "                }\n",
    "                for point_index, (point_x, point_y) in enumerate(\n",
    "                    zip(point_xs, point_ys)\n",
    "                )\n",
    "            ],\n",
    "        }\n",
    "    )"
   ]
  },
  {
   "cell_type": "markdown",
   "metadata": {},
   "source": [
    "## pull_point"
   ]
  },
  {
   "cell_type": "code",
   "execution_count": null,
   "metadata": {},
   "outputs": [],
   "source": [
    "node_x_dimension = np.asarray(\n",
    "    (\n",
    "        (0, 0),\n",
    "        (1, 0),\n",
    "        (0, 1),\n",
    "        (1, 1),\n",
    "    )\n",
    ")\n",
    "\n",
    "point_x_node = np.asarray(\n",
    "    (\n",
    "        (1, 0, 0, 0),\n",
    "        (1, 1, 0, 0),\n",
    "        (1, 1, 1, 0),\n",
    "        (1, 1, 1, 1),\n",
    "    )\n",
    ")\n",
    "\n",
    "point_x_dimension = kraft.pull_point(node_x_dimension, point_x_node)\n",
    "\n",
    "plot_point(*node_x_dimension.T, *point_x_dimension.T)"
   ]
  },
  {
   "cell_type": "markdown",
   "metadata": {},
   "source": [
    "## map_point"
   ]
  },
  {
   "cell_type": "code",
   "execution_count": null,
   "metadata": {},
   "outputs": [],
   "source": [
    "point_x_point_distance = np.asarray(\n",
    "    (\n",
    "        (0.0, 0.5, 1.0, 2.0),\n",
    "        (0.5, 0.0, 0.5, 0.0),\n",
    "        (1.0, 0.5, 0.0, 0.5),\n",
    "        (2.0, 0.0, 0.5, 0.0),\n",
    "    )\n",
    ")\n",
    "\n",
    "point_x_dimension = kraft.map_point(point_x_point_distance, 2)\n",
    "\n",
    "plot_point(None, None, *point_x_dimension.T)"
   ]
  },
  {
   "cell_type": "code",
   "execution_count": null,
   "metadata": {},
   "outputs": [],
   "source": [
    "%load_ext autoreload\n",
    "%autoreload 2"
   ]
  },
  {
   "cell_type": "code",
   "execution_count": null,
   "metadata": {},
   "outputs": [],
   "source": [
    "import kraft\n",
    "import numpy as np"
   ]
  },
  {
   "cell_type": "code",
   "execution_count": null,
   "metadata": {},
   "outputs": [],
   "source": [
    "point_x_dimension = np.asarray(\n",
    "    [\n",
    "        [-8, -8, -8],\n",
    "        [0, 0, 0],\n",
    "        [2, 2, 2],\n",
    "        [4, 4, 4],\n",
    "        [8, 8, 8],\n",
    "    ]\n",
    ")\n",
    "\n",
    "point_x_dimension"
   ]
  },
  {
   "cell_type": "code",
   "execution_count": null,
   "metadata": {},
   "outputs": [],
   "source": [
    "for n_dimension in (1, 2):\n",
    "\n",
    "    print(\n",
    "        kraft.scale_dimension(\n",
    "            n_dimension,\n",
    "            point_x_dimension=point_x_dimension,\n",
    "        )\n",
    "    )"
   ]
  },
  {
   "cell_type": "code",
   "execution_count": null,
   "metadata": {},
   "outputs": [],
   "source": [
    "from scipy.spatial.distance import pdist, squareform\n",
    "\n",
    "point_x_point_distance = squareform(pdist(point_x_dimension))\n",
    "\n",
    "for n_dimension in (1, 2):\n",
    "\n",
    "    print(\n",
    "        kraft.scale_dimension(\n",
    "            n_dimension,\n",
    "            point_x_point_distance=point_x_point_distance,\n",
    "        )\n",
    "    )"
   ]
  }
 ],
 "metadata": {
  "kernelspec": {
   "display_name": "Python 3",
   "language": "python",
   "name": "python3"
  },
  "language_info": {
   "codemirror_mode": {
    "name": "ipython",
    "version": 3
   },
   "file_extension": ".py",
   "mimetype": "text/x-python",
   "name": "python",
   "nbconvert_exporter": "python",
   "pygments_lexer": "ipython3",
   "version": "3.8.9"
  }
 },
 "nbformat": 4,
 "nbformat_minor": 4
}
