{
 "cells": [
  {
   "cell_type": "code",
   "execution_count": null,
   "id": "cd758eba-c8b6-49eb-958b-4f8415eb2bbb",
   "metadata": {
    "execution": {
     "iopub.execute_input": "2021-05-29T23:05:32.210354Z",
     "iopub.status.busy": "2021-05-29T23:05:32.209544Z",
     "iopub.status.idle": "2021-05-29T23:05:32.225499Z",
     "shell.execute_reply": "2021-05-29T23:05:32.225954Z"
    }
   },
   "outputs": [],
   "source": [
    "%load_ext autoreload\n",
    "%autoreload 2"
   ]
  },
  {
   "cell_type": "code",
   "execution_count": null,
   "id": "2690ab49-eabd-4718-81b8-ee69863f5c11",
   "metadata": {
    "execution": {
     "iopub.execute_input": "2021-05-29T23:05:32.229483Z",
     "iopub.status.busy": "2021-05-29T23:05:32.228814Z",
     "iopub.status.idle": "2021-05-29T23:05:32.798416Z",
     "shell.execute_reply": "2021-05-29T23:05:32.798799Z"
    }
   },
   "outputs": [],
   "source": [
    "import kraft"
   ]
  },
  {
   "cell_type": "markdown",
   "id": "82cc10e7-7608-4bf7-a6bc-3d52eeb01f48",
   "metadata": {},
   "source": [
    "## read"
   ]
  },
  {
   "cell_type": "code",
   "execution_count": null,
   "id": "9b6e586e-c076-48c6-b2df-f4723ae825b3",
   "metadata": {
    "execution": {
     "iopub.execute_input": "2021-05-29T23:05:32.802307Z",
     "iopub.status.busy": "2021-05-29T23:05:32.801736Z",
     "iopub.status.idle": "2021-05-29T23:05:33.180623Z",
     "shell.execute_reply": "2021-05-29T23:05:33.181038Z"
    }
   },
   "outputs": [],
   "source": [
    "kraft.gct.read(\"data/a.gct\")"
   ]
  }
 ],
 "metadata": {
  "kernelspec": {
   "display_name": "Python 3",
   "language": "python",
   "name": "python3"
  },
  "language_info": {
   "codemirror_mode": {
    "name": "ipython",
    "version": 3
   },
   "file_extension": ".py",
   "mimetype": "text/x-python",
   "name": "python",
   "nbconvert_exporter": "python",
   "pygments_lexer": "ipython3",
   "version": "3.8.9"
  }
 },
 "nbformat": 4,
 "nbformat_minor": 5
}
