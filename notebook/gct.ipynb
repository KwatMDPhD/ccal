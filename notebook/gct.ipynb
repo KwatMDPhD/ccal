{
 "cells": [
  {
   "cell_type": "code",
   "execution_count": null,
   "id": "cd758eba-c8b6-49eb-958b-4f8415eb2bbb",
   "metadata": {
    "execution": {
     "iopub.execute_input": "2021-05-30T07:00:20.065545Z",
     "iopub.status.busy": "2021-05-30T07:00:20.064885Z",
     "iopub.status.idle": "2021-05-30T07:00:20.077740Z",
     "shell.execute_reply": "2021-05-30T07:00:20.078185Z"
    }
   },
   "outputs": [],
   "source": [
    "%load_ext autoreload\n",
    "%autoreload 2"
   ]
  },
  {
   "cell_type": "code",
   "execution_count": null,
   "id": "2690ab49-eabd-4718-81b8-ee69863f5c11",
   "metadata": {
    "execution": {
     "iopub.execute_input": "2021-05-30T07:00:20.081839Z",
     "iopub.status.busy": "2021-05-30T07:00:20.081245Z",
     "iopub.status.idle": "2021-05-30T07:00:20.633673Z",
     "shell.execute_reply": "2021-05-30T07:00:20.634064Z"
    }
   },
   "outputs": [],
   "source": [
    "import kraft"
   ]
  },
  {
   "cell_type": "markdown",
   "id": "82cc10e7-7608-4bf7-a6bc-3d52eeb01f48",
   "metadata": {},
   "source": [
    "## read"
   ]
  },
  {
   "cell_type": "code",
   "execution_count": null,
   "id": "9b6e586e-c076-48c6-b2df-f4723ae825b3",
   "metadata": {
    "execution": {
     "iopub.execute_input": "2021-05-30T07:00:20.637407Z",
     "iopub.status.busy": "2021-05-30T07:00:20.636899Z",
     "iopub.status.idle": "2021-05-30T07:00:20.988503Z",
     "shell.execute_reply": "2021-05-30T07:00:20.988920Z"
    }
   },
   "outputs": [],
   "source": [
    "kraft.gct.read(\"data/a.gct\")"
   ]
  }
 ],
 "metadata": {
  "kernelspec": {
   "display_name": "Python 3",
   "language": "python",
   "name": "python3"
  },
  "language_info": {
   "codemirror_mode": {
    "name": "ipython",
    "version": 3
   },
   "file_extension": ".py",
   "mimetype": "text/x-python",
   "name": "python",
   "nbconvert_exporter": "python",
   "pygments_lexer": "ipython3",
   "version": "3.8.9"
  }
 },
 "nbformat": 4,
 "nbformat_minor": 5
}
