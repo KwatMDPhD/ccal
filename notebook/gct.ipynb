{
 "cells": [
  {
   "cell_type": "code",
   "execution_count": null,
   "id": "cd758eba-c8b6-49eb-958b-4f8415eb2bbb",
   "metadata": {
    "execution": {
     "iopub.execute_input": "2021-05-31T22:28:25.102326Z",
     "iopub.status.busy": "2021-05-31T22:28:25.101477Z",
     "iopub.status.idle": "2021-05-31T22:28:25.115630Z",
     "shell.execute_reply": "2021-05-31T22:28:25.115105Z"
    }
   },
   "outputs": [],
   "source": [
    "%load_ext autoreload\n",
    "%autoreload 2"
   ]
  },
  {
   "cell_type": "code",
   "execution_count": null,
   "id": "2690ab49-eabd-4718-81b8-ee69863f5c11",
   "metadata": {
    "execution": {
     "iopub.execute_input": "2021-05-31T22:28:25.119077Z",
     "iopub.status.busy": "2021-05-31T22:28:25.118482Z",
     "iopub.status.idle": "2021-05-31T22:28:25.646288Z",
     "shell.execute_reply": "2021-05-31T22:28:25.645840Z"
    }
   },
   "outputs": [],
   "source": [
    "import kraft"
   ]
  },
  {
   "cell_type": "markdown",
   "id": "82cc10e7-7608-4bf7-a6bc-3d52eeb01f48",
   "metadata": {},
   "source": [
    "## read"
   ]
  },
  {
   "cell_type": "code",
   "execution_count": null,
   "id": "9b6e586e-c076-48c6-b2df-f4723ae825b3",
   "metadata": {
    "execution": {
     "iopub.execute_input": "2021-05-31T22:28:25.649608Z",
     "iopub.status.busy": "2021-05-31T22:28:25.649019Z",
     "iopub.status.idle": "2021-05-31T22:28:26.002581Z",
     "shell.execute_reply": "2021-05-31T22:28:26.003334Z"
    }
   },
   "outputs": [],
   "source": [
    "kraft.gct.read(\"data/a.gct\")"
   ]
  }
 ],
 "metadata": {
  "kernelspec": {
   "display_name": "Python 3",
   "language": "python",
   "name": "python3"
  },
  "language_info": {
   "codemirror_mode": {
    "name": "ipython",
    "version": 3
   },
   "file_extension": ".py",
   "mimetype": "text/x-python",
   "name": "python",
   "nbconvert_exporter": "python",
   "pygments_lexer": "ipython3",
   "version": "3.8.9"
  }
 },
 "nbformat": 4,
 "nbformat_minor": 5
}
