{
 "cells": [
  {
   "cell_type": "code",
   "execution_count": null,
   "id": "cd758eba-c8b6-49eb-958b-4f8415eb2bbb",
   "metadata": {
    "execution": {
     "iopub.execute_input": "2021-05-31T05:58:53.504832Z",
     "iopub.status.busy": "2021-05-31T05:58:53.504087Z",
     "iopub.status.idle": "2021-05-31T05:58:53.517463Z",
     "shell.execute_reply": "2021-05-31T05:58:53.517911Z"
    }
   },
   "outputs": [],
   "source": [
    "%load_ext autoreload\n",
    "%autoreload 2"
   ]
  },
  {
   "cell_type": "code",
   "execution_count": null,
   "id": "2690ab49-eabd-4718-81b8-ee69863f5c11",
   "metadata": {
    "execution": {
     "iopub.execute_input": "2021-05-31T05:58:53.521502Z",
     "iopub.status.busy": "2021-05-31T05:58:53.520910Z",
     "iopub.status.idle": "2021-05-31T05:58:54.080853Z",
     "shell.execute_reply": "2021-05-31T05:58:54.081258Z"
    }
   },
   "outputs": [],
   "source": [
    "import kraft"
   ]
  },
  {
   "cell_type": "markdown",
   "id": "82cc10e7-7608-4bf7-a6bc-3d52eeb01f48",
   "metadata": {},
   "source": [
    "## read"
   ]
  },
  {
   "cell_type": "code",
   "execution_count": null,
   "id": "9b6e586e-c076-48c6-b2df-f4723ae825b3",
   "metadata": {
    "execution": {
     "iopub.execute_input": "2021-05-31T05:58:54.084693Z",
     "iopub.status.busy": "2021-05-31T05:58:54.084111Z",
     "iopub.status.idle": "2021-05-31T05:58:54.460196Z",
     "shell.execute_reply": "2021-05-31T05:58:54.460784Z"
    }
   },
   "outputs": [],
   "source": [
    "kraft.gct.read(\"data/a.gct\")"
   ]
  }
 ],
 "metadata": {
  "kernelspec": {
   "display_name": "Python 3",
   "language": "python",
   "name": "python3"
  },
  "language_info": {
   "codemirror_mode": {
    "name": "ipython",
    "version": 3
   },
   "file_extension": ".py",
   "mimetype": "text/x-python",
   "name": "python",
   "nbconvert_exporter": "python",
   "pygments_lexer": "ipython3",
   "version": "3.8.9"
  }
 },
 "nbformat": 4,
 "nbformat_minor": 5
}
