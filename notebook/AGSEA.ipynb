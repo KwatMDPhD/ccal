{
 "cells": [
  {
   "cell_type": "code",
   "execution_count": null,
   "metadata": {},
   "outputs": [],
   "source": [
    "%load_ext autoreload\n",
    "%autoreload 2"
   ]
  },
  {
   "cell_type": "code",
   "execution_count": null,
   "metadata": {},
   "outputs": [],
   "source": [
    "import pandas as pd"
   ]
  },
  {
   "cell_type": "code",
   "execution_count": null,
   "metadata": {},
   "outputs": [],
   "source": [
    "import sys\n",
    "sys.path.insert(0, \"../\")"
   ]
  },
  {
   "cell_type": "code",
   "execution_count": null,
   "metadata": {},
   "outputs": [],
   "source": [
    "from scipy.stats import pearsonr\n",
    "\n",
    "from ccal.read_gmt import read_gmt\n",
    "\n",
    "from ccal.A_gsea import A_gsea\n",
    "from ccal.A_gsea_load_cls import A_gsea_load_cls\n",
    "from ccal.A_gsea_load_gct import A_gsea_load_gct"
   ]
  },
  {
   "cell_type": "code",
   "execution_count": null,
   "metadata": {},
   "outputs": [],
   "source": [
    "gene_x_sample = A_gsea_load_gct(\"../data/P53_collapsed_symbols.gct\")\n",
    "phenotypes = A_gsea_load_cls(\"../data/P53.cls\")\n",
    "gene_sets = read_gmt(\"../data/h.all.v6.2.symbols.gmt\")\n",
    "\n",
    "score, p_value = A_gsea(\n",
    "    gene_x_sample=gene_x_sample,\n",
    "    phenotypes=phenotypes,\n",
    "    gene_sets=gene_sets,\n",
    "    function=lambda x, y: pearsonr(x, y)[0]\n",
    ")"
   ]
  }
 ],
 "metadata": {
  "kernelspec": {
   "display_name": "Python 3",
   "language": "python",
   "name": "python3"
  },
  "language_info": {
   "codemirror_mode": {
    "name": "ipython",
    "version": 3
   },
   "file_extension": ".py",
   "mimetype": "text/x-python",
   "name": "python",
   "nbconvert_exporter": "python",
   "pygments_lexer": "ipython3",
   "version": "3.7.1"
  }
 },
 "nbformat": 4,
 "nbformat_minor": 2
}
