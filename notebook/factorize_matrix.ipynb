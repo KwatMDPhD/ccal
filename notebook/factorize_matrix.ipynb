{
 "cells": [
  {
   "cell_type": "code",
   "execution_count": null,
   "metadata": {},
   "outputs": [],
   "source": [
    "%load_ext autoreload\n",
    "%autoreload 2"
   ]
  },
  {
   "cell_type": "code",
   "execution_count": null,
   "metadata": {},
   "outputs": [],
   "source": [
    "import plotly"
   ]
  },
  {
   "cell_type": "code",
   "execution_count": null,
   "metadata": {},
   "outputs": [],
   "source": [
    "plotly.offline.init_notebook_mode(connected=True)"
   ]
  },
  {
   "cell_type": "code",
   "execution_count": null,
   "metadata": {},
   "outputs": [],
   "source": [
    "import kraft"
   ]
  },
  {
   "cell_type": "code",
   "execution_count": null,
   "metadata": {},
   "outputs": [],
   "source": [
    "from pandas import DataFrame\n",
    "\n",
    "\n",
    "def plot_Ws_and_Hs(Ws, Hs):\n",
    "\n",
    "    for i, W in enumerate(Ws):\n",
    "\n",
    "        kraft.plot_heat_map(\n",
    "            DataFrame(W).iloc[\n",
    "                kraft.cluster_2d_array(W, 0), kraft.cluster_2d_array(W, 1)\n",
    "            ],\n",
    "            title=\"W {}\".format(i),\n",
    "            xaxis_title=\"k\",\n",
    "            yaxis_title=\"m\",\n",
    "        )\n",
    "\n",
    "    for i, H in enumerate(Hs):\n",
    "\n",
    "        kraft.plot_heat_map(\n",
    "            DataFrame(H).iloc[\n",
    "                kraft.cluster_2d_array(H, 0), kraft.cluster_2d_array(H, 1)\n",
    "            ],\n",
    "            title=\"H {}\".format(i),\n",
    "            xaxis_title=\"n\",\n",
    "            yaxis_title=\"k\",\n",
    "        )"
   ]
  },
  {
   "cell_type": "code",
   "execution_count": null,
   "metadata": {},
   "outputs": [],
   "source": [
    "def plot_R_norms(R_norms, title=\"MF Convergence\"):\n",
    "\n",
    "    kraft.plot_plotly_figure(\n",
    "        {\n",
    "            \"layout\": {\n",
    "                \"title\": {\"text\": title},\n",
    "                \"xaxis\": {\"title\": \"Iteration\"},\n",
    "                \"yaxis\": {\"title\": \"Residual Matrix Norm\"},\n",
    "            },\n",
    "            \"data\": [\n",
    "                {\n",
    "                    \"type\": \"scatter\",\n",
    "                    \"name\": i,\n",
    "                    \"x\": np.arange(R_norms_.size),\n",
    "                    \"y\": R_norms_,\n",
    "                }\n",
    "                for i, R_norms_ in enumerate(R_norms)\n",
    "            ],\n",
    "        },\n",
    "        None,\n",
    "    )"
   ]
  },
  {
   "cell_type": "code",
   "execution_count": null,
   "metadata": {},
   "outputs": [],
   "source": [
    "import numpy as np"
   ]
  },
  {
   "cell_type": "code",
   "execution_count": null,
   "metadata": {},
   "outputs": [],
   "source": [
    "np.random.seed(seed=kraft.RANDOM_SEED)"
   ]
  },
  {
   "cell_type": "code",
   "execution_count": null,
   "metadata": {},
   "outputs": [],
   "source": [
    "m = 160\n",
    "\n",
    "n = 80\n",
    "\n",
    "V = np.random.random_sample(size=(m, n))\n",
    "\n",
    "V += abs(V.min())\n",
    "\n",
    "Vs = (V, V * 10)\n",
    "\n",
    "for V in Vs:\n",
    "\n",
    "    print(V.shape)"
   ]
  },
  {
   "cell_type": "code",
   "execution_count": null,
   "metadata": {},
   "outputs": [],
   "source": [
    "k = 2\n",
    "\n",
    "n_iteration = 100"
   ]
  },
  {
   "cell_type": "code",
   "execution_count": null,
   "metadata": {},
   "outputs": [],
   "source": [
    "individual_R_norms = []\n",
    "\n",
    "for V in Vs:\n",
    "\n",
    "    W, H, R_norms = kraft.mf_by_multiplicative_update(V, k, n_iteration=n_iteration)\n",
    "\n",
    "    plot_Ws_and_Hs((W,), (H,))\n",
    "\n",
    "    print(\"R norm (multiplicative_update): {:.2f}\".format(R_norms[-1]))\n",
    "\n",
    "    individual_R_norms.append(R_norms)\n",
    "\n",
    "    W_by_sklean, H_by_sklean, R_by_sklean = kraft.nmf_by_sklearn(\n",
    "        V, k, n_iteration=n_iteration\n",
    "    )\n",
    "\n",
    "    plot_Ws_and_Hs((W_by_sklean,), (H_by_sklean,))\n",
    "\n",
    "    print(\"R norm (sklean): {:.2f}\".format(R_by_sklean))\n",
    "\n",
    "plot_R_norms(individual_R_norms, title=\"MF Independently\")"
   ]
  },
  {
   "cell_type": "code",
   "execution_count": null,
   "metadata": {},
   "outputs": [],
   "source": [
    "W, Hs, R_norms = kraft.mf_by_multiple_V_and_H(Vs, k, n_iteration=n_iteration)\n",
    "\n",
    "plot_Ws_and_Hs((W,), Hs)\n",
    "\n",
    "print(\n",
    "    \"R norm (multiple_V_and_H): {}\".format(\n",
    "        \", \".join(\"{:.2f}\".format(float_) for float_ in R_norms[:, -1])\n",
    "    )\n",
    ")\n",
    "\n",
    "plot_R_norms(R_norms, title=\"MF Together\")"
   ]
  }
 ],
 "metadata": {
  "kernelspec": {
   "display_name": "Python 3",
   "language": "python",
   "name": "python3"
  },
  "language_info": {
   "codemirror_mode": {
    "name": "ipython",
    "version": 3
   },
   "file_extension": ".py",
   "mimetype": "text/x-python",
   "name": "python",
   "nbconvert_exporter": "python",
   "pygments_lexer": "ipython3",
   "version": "3.7.3"
  }
 },
 "nbformat": 4,
 "nbformat_minor": 2
}
