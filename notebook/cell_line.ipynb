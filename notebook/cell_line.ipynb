{
 "cells": [
  {
   "cell_type": "code",
   "execution_count": null,
   "metadata": {
    "execution": {
     "iopub.execute_input": "2021-05-31T05:57:13.438928Z",
     "iopub.status.busy": "2021-05-31T05:57:13.438027Z",
     "iopub.status.idle": "2021-05-31T05:57:13.452036Z",
     "shell.execute_reply": "2021-05-31T05:57:13.452535Z"
    }
   },
   "outputs": [],
   "source": [
    "%load_ext autoreload\n",
    "%autoreload 2"
   ]
  },
  {
   "cell_type": "code",
   "execution_count": null,
   "metadata": {
    "ExecuteTime": {
     "end_time": "2018-05-15T09:28:55.668422Z",
     "start_time": "2018-05-15T09:28:55.428950Z"
    },
    "execution": {
     "iopub.execute_input": "2021-05-31T05:57:13.456119Z",
     "iopub.status.busy": "2021-05-31T05:57:13.455529Z",
     "iopub.status.idle": "2021-05-31T05:57:14.020087Z",
     "shell.execute_reply": "2021-05-31T05:57:14.020513Z"
    }
   },
   "outputs": [],
   "source": [
    "import kraft"
   ]
  },
  {
   "cell_type": "markdown",
   "metadata": {},
   "source": [
    "## _map_broad"
   ]
  },
  {
   "cell_type": "code",
   "execution_count": null,
   "metadata": {
    "execution": {
     "iopub.execute_input": "2021-05-31T05:57:14.023544Z",
     "iopub.status.busy": "2021-05-31T05:57:14.023012Z",
     "iopub.status.idle": "2021-05-31T05:57:14.058288Z",
     "shell.execute_reply": "2021-05-31T05:57:14.058714Z"
    }
   },
   "outputs": [],
   "source": [
    "na_ce = kraft.cell_line._map_broad()\n",
    "\n",
    "kraft.dictionary.summarize(na_ce)"
   ]
  },
  {
   "cell_type": "markdown",
   "metadata": {},
   "source": [
    "## rename"
   ]
  },
  {
   "cell_type": "code",
   "execution_count": null,
   "metadata": {
    "execution": {
     "iopub.execute_input": "2021-05-31T05:57:14.062188Z",
     "iopub.status.busy": "2021-05-31T05:57:14.061600Z",
     "iopub.status.idle": "2021-05-31T05:57:14.100041Z",
     "shell.execute_reply": "2021-05-31T05:57:14.100404Z"
    }
   },
   "outputs": [],
   "source": [
    "kraft.cell_line.rename([\"Unknown\", \"HELA\", \"Hela\", \"Unknown\", \"\", \"\"])"
   ]
  }
 ],
 "metadata": {
  "kernelspec": {
   "display_name": "Python 3",
   "language": "python",
   "name": "python3"
  },
  "language_info": {
   "codemirror_mode": {
    "name": "ipython",
    "version": 3
   },
   "file_extension": ".py",
   "mimetype": "text/x-python",
   "name": "python",
   "nbconvert_exporter": "python",
   "pygments_lexer": "ipython3",
   "version": "3.8.9"
  }
 },
 "nbformat": 4,
 "nbformat_minor": 4
}
