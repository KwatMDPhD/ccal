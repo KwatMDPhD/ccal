{
 "cells": [
  {
   "cell_type": "code",
   "execution_count": null,
   "metadata": {
    "execution": {
     "iopub.execute_input": "2021-06-01T03:47:13.363804Z",
     "iopub.status.busy": "2021-06-01T03:47:13.362863Z",
     "iopub.status.idle": "2021-06-01T03:47:13.377695Z",
     "shell.execute_reply": "2021-06-01T03:47:13.377210Z"
    }
   },
   "outputs": [],
   "source": [
    "%load_ext autoreload\n",
    "%autoreload 2"
   ]
  },
  {
   "cell_type": "code",
   "execution_count": null,
   "metadata": {
    "ExecuteTime": {
     "end_time": "2018-05-15T09:28:55.668422Z",
     "start_time": "2018-05-15T09:28:55.428950Z"
    },
    "execution": {
     "iopub.execute_input": "2021-06-01T03:47:13.381225Z",
     "iopub.status.busy": "2021-06-01T03:47:13.380628Z",
     "iopub.status.idle": "2021-06-01T03:47:13.909245Z",
     "shell.execute_reply": "2021-06-01T03:47:13.909580Z"
    }
   },
   "outputs": [],
   "source": [
    "import kraft"
   ]
  },
  {
   "cell_type": "markdown",
   "metadata": {},
   "source": [
    "## _map_broad"
   ]
  },
  {
   "cell_type": "code",
   "execution_count": null,
   "metadata": {
    "execution": {
     "iopub.execute_input": "2021-06-01T03:47:13.914366Z",
     "iopub.status.busy": "2021-06-01T03:47:13.913350Z",
     "iopub.status.idle": "2021-06-01T03:47:13.950277Z",
     "shell.execute_reply": "2021-06-01T03:47:13.950604Z"
    }
   },
   "outputs": [],
   "source": [
    "na_ce = kraft.cell_line._map_broad()\n",
    "\n",
    "kraft.dictionary.summarize(na_ce)"
   ]
  },
  {
   "cell_type": "markdown",
   "metadata": {},
   "source": [
    "## rename"
   ]
  },
  {
   "cell_type": "code",
   "execution_count": null,
   "metadata": {
    "execution": {
     "iopub.execute_input": "2021-06-01T03:47:13.953938Z",
     "iopub.status.busy": "2021-06-01T03:47:13.953459Z",
     "iopub.status.idle": "2021-06-01T03:47:13.986114Z",
     "shell.execute_reply": "2021-06-01T03:47:13.986508Z"
    }
   },
   "outputs": [],
   "source": [
    "kraft.cell_line.rename([\"Unknown\", \"HELA\", \"Hela\", \"Unknown\", \"\", \"\"])"
   ]
  }
 ],
 "metadata": {
  "kernelspec": {
   "display_name": "Python 3",
   "language": "python",
   "name": "python3"
  },
  "language_info": {
   "codemirror_mode": {
    "name": "ipython",
    "version": 3
   },
   "file_extension": ".py",
   "mimetype": "text/x-python",
   "name": "python",
   "nbconvert_exporter": "python",
   "pygments_lexer": "ipython3",
   "version": "3.8.9"
  }
 },
 "nbformat": 4,
 "nbformat_minor": 4
}
