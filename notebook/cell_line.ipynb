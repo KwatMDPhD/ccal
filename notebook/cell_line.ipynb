{
 "cells": [
  {
   "cell_type": "code",
   "execution_count": null,
   "metadata": {
    "execution": {
     "iopub.execute_input": "2021-05-31T22:26:52.549392Z",
     "iopub.status.busy": "2021-05-31T22:26:52.548448Z",
     "iopub.status.idle": "2021-05-31T22:26:52.562340Z",
     "shell.execute_reply": "2021-05-31T22:26:52.562859Z"
    }
   },
   "outputs": [],
   "source": [
    "%load_ext autoreload\n",
    "%autoreload 2"
   ]
  },
  {
   "cell_type": "code",
   "execution_count": null,
   "metadata": {
    "ExecuteTime": {
     "end_time": "2018-05-15T09:28:55.668422Z",
     "start_time": "2018-05-15T09:28:55.428950Z"
    },
    "execution": {
     "iopub.execute_input": "2021-05-31T22:26:52.566496Z",
     "iopub.status.busy": "2021-05-31T22:26:52.565901Z",
     "iopub.status.idle": "2021-05-31T22:26:53.108359Z",
     "shell.execute_reply": "2021-05-31T22:26:53.108746Z"
    }
   },
   "outputs": [],
   "source": [
    "import kraft"
   ]
  },
  {
   "cell_type": "markdown",
   "metadata": {},
   "source": [
    "## _map_broad"
   ]
  },
  {
   "cell_type": "code",
   "execution_count": null,
   "metadata": {
    "execution": {
     "iopub.execute_input": "2021-05-31T22:26:53.112234Z",
     "iopub.status.busy": "2021-05-31T22:26:53.111552Z",
     "iopub.status.idle": "2021-05-31T22:26:53.143885Z",
     "shell.execute_reply": "2021-05-31T22:26:53.144292Z"
    }
   },
   "outputs": [],
   "source": [
    "na_ce = kraft.cell_line._map_broad()\n",
    "\n",
    "kraft.dictionary.summarize(na_ce)"
   ]
  },
  {
   "cell_type": "markdown",
   "metadata": {},
   "source": [
    "## rename"
   ]
  },
  {
   "cell_type": "code",
   "execution_count": null,
   "metadata": {
    "execution": {
     "iopub.execute_input": "2021-05-31T22:26:53.147705Z",
     "iopub.status.busy": "2021-05-31T22:26:53.147123Z",
     "iopub.status.idle": "2021-05-31T22:26:53.181909Z",
     "shell.execute_reply": "2021-05-31T22:26:53.182271Z"
    }
   },
   "outputs": [],
   "source": [
    "kraft.cell_line.rename([\"Unknown\", \"HELA\", \"Hela\", \"Unknown\", \"\", \"\"])"
   ]
  }
 ],
 "metadata": {
  "kernelspec": {
   "display_name": "Python 3",
   "language": "python",
   "name": "python3"
  },
  "language_info": {
   "codemirror_mode": {
    "name": "ipython",
    "version": 3
   },
   "file_extension": ".py",
   "mimetype": "text/x-python",
   "name": "python",
   "nbconvert_exporter": "python",
   "pygments_lexer": "ipython3",
   "version": "3.8.9"
  }
 },
 "nbformat": 4,
 "nbformat_minor": 4
}
