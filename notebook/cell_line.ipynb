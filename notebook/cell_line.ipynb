{
 "cells": [
  {
   "cell_type": "code",
   "execution_count": null,
   "metadata": {
    "execution": {
     "iopub.execute_input": "2021-06-01T00:27:39.593859Z",
     "iopub.status.busy": "2021-06-01T00:27:39.593058Z",
     "iopub.status.idle": "2021-06-01T00:27:39.605557Z",
     "shell.execute_reply": "2021-06-01T00:27:39.605983Z"
    }
   },
   "outputs": [],
   "source": [
    "%load_ext autoreload\n",
    "%autoreload 2"
   ]
  },
  {
   "cell_type": "code",
   "execution_count": null,
   "metadata": {
    "ExecuteTime": {
     "end_time": "2018-05-15T09:28:55.668422Z",
     "start_time": "2018-05-15T09:28:55.428950Z"
    },
    "execution": {
     "iopub.execute_input": "2021-06-01T00:27:39.609351Z",
     "iopub.status.busy": "2021-06-01T00:27:39.608771Z",
     "iopub.status.idle": "2021-06-01T00:27:40.195801Z",
     "shell.execute_reply": "2021-06-01T00:27:40.196237Z"
    }
   },
   "outputs": [],
   "source": [
    "import kraft"
   ]
  },
  {
   "cell_type": "markdown",
   "metadata": {},
   "source": [
    "## _map_broad"
   ]
  },
  {
   "cell_type": "code",
   "execution_count": null,
   "metadata": {
    "execution": {
     "iopub.execute_input": "2021-06-01T00:27:40.200314Z",
     "iopub.status.busy": "2021-06-01T00:27:40.199349Z",
     "iopub.status.idle": "2021-06-01T00:27:40.233125Z",
     "shell.execute_reply": "2021-06-01T00:27:40.233665Z"
    }
   },
   "outputs": [],
   "source": [
    "na_ce = kraft.cell_line._map_broad()\n",
    "\n",
    "kraft.dictionary.summarize(na_ce)"
   ]
  },
  {
   "cell_type": "markdown",
   "metadata": {},
   "source": [
    "## rename"
   ]
  },
  {
   "cell_type": "code",
   "execution_count": null,
   "metadata": {
    "execution": {
     "iopub.execute_input": "2021-06-01T00:27:40.237149Z",
     "iopub.status.busy": "2021-06-01T00:27:40.236561Z",
     "iopub.status.idle": "2021-06-01T00:27:40.275640Z",
     "shell.execute_reply": "2021-06-01T00:27:40.276132Z"
    }
   },
   "outputs": [],
   "source": [
    "kraft.cell_line.rename([\"Unknown\", \"HELA\", \"Hela\", \"Unknown\", \"\", \"\"])"
   ]
  }
 ],
 "metadata": {
  "kernelspec": {
   "display_name": "Python 3",
   "language": "python",
   "name": "python3"
  },
  "language_info": {
   "codemirror_mode": {
    "name": "ipython",
    "version": 3
   },
   "file_extension": ".py",
   "mimetype": "text/x-python",
   "name": "python",
   "nbconvert_exporter": "python",
   "pygments_lexer": "ipython3",
   "version": "3.8.9"
  }
 },
 "nbformat": 4,
 "nbformat_minor": 4
}
