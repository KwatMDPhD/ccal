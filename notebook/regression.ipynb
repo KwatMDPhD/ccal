{
 "cells": [
  {
   "cell_type": "code",
   "execution_count": null,
   "metadata": {},
   "outputs": [],
   "source": [
    "import numpy as np"
   ]
  },
  {
   "cell_type": "code",
   "execution_count": null,
   "metadata": {
    "ExecuteTime": {
     "end_time": "2018-05-15T09:36:21.162702Z",
     "start_time": "2018-05-15T09:36:21.076230Z"
    }
   },
   "outputs": [],
   "source": [
    "training_sample_x_feature = np.asarray(((0, 1),) * 8 + ((2, 3),) * 8)\n",
    "\n",
    "training_sample_x_feature"
   ]
  },
  {
   "cell_type": "code",
   "execution_count": null,
   "metadata": {
    "ExecuteTime": {
     "end_time": "2018-05-15T09:36:21.235721Z",
     "start_time": "2018-05-15T09:36:21.171772Z"
    }
   },
   "outputs": [],
   "source": [
    "training_sample_class = np.asarray((0,) * 8 + (1,) * 8)\n",
    "\n",
    "training_sample_class"
   ]
  },
  {
   "cell_type": "code",
   "execution_count": null,
   "metadata": {
    "ExecuteTime": {
     "end_time": "2018-05-15T09:36:21.306027Z",
     "start_time": "2018-05-15T09:36:21.242185Z"
    }
   },
   "outputs": [],
   "source": [
    "testing_sample_x_feature = training_sample_x_feature[::-1]\n",
    "\n",
    "testing_sample_x_feature"
   ]
  },
  {
   "cell_type": "code",
   "execution_count": null,
   "metadata": {},
   "outputs": [],
   "source": [
    "import ccal"
   ]
  },
  {
   "cell_type": "code",
   "execution_count": null,
   "metadata": {
    "ExecuteTime": {
     "end_time": "2018-05-15T09:36:22.865562Z",
     "start_time": "2018-05-15T09:36:21.315750Z"
    }
   },
   "outputs": [],
   "source": [
    "ccal.train_and_regress(\n",
    "    training_sample_x_feature, training_sample_class, testing_sample_x_feature\n",
    ")"
   ]
  }
 ],
 "metadata": {
  "kernelspec": {
   "display_name": "Python 3",
   "language": "python",
   "name": "python3"
  },
  "language_info": {
   "codemirror_mode": {
    "name": "ipython",
    "version": 3
   },
   "file_extension": ".py",
   "mimetype": "text/x-python",
   "name": "python",
   "nbconvert_exporter": "python",
   "pygments_lexer": "ipython3",
   "version": "3.6.7"
  }
 },
 "nbformat": 4,
 "nbformat_minor": 2
}
