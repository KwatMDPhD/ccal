{
 "cells": [
  {
   "cell_type": "code",
   "execution_count": null,
   "metadata": {},
   "outputs": [],
   "source": [
    "import plotly"
   ]
  },
  {
   "cell_type": "code",
   "execution_count": null,
   "metadata": {},
   "outputs": [],
   "source": [
    "plotly.offline.init_notebook_mode(connected=True)"
   ]
  },
  {
   "cell_type": "code",
   "execution_count": null,
   "metadata": {},
   "outputs": [],
   "source": [
    "import pandas as pd"
   ]
  },
  {
   "cell_type": "code",
   "execution_count": null,
   "metadata": {},
   "outputs": [],
   "source": [
    "import numpy as np"
   ]
  },
  {
   "cell_type": "code",
   "execution_count": null,
   "metadata": {},
   "outputs": [],
   "source": [
    "n_row = 24\n",
    "\n",
    "n_column = 16\n",
    "\n",
    "name_0 = \"DF 0\"\n",
    "\n",
    "# df_0 = pd.read_csv(\n",
    "#     \"/home/kwatme/model_and_infer.rna_medulloblastoma_cho_et_al/output/signal/context/mf/14/h.tsv\",\n",
    "#     sep=\"\\t\",\n",
    "#     index_col=0,\n",
    "# )\n",
    "\n",
    "df_0 = pd.DataFrame(\n",
    "    np.random.random_sample(size=(n_row, n_column)),\n",
    "    index=pd.Index((\"Row {}\".format(i) for i in range(n_row)), name=\"0 Row\"),\n",
    "    columns=pd.Index((\"Column {}\".format(i) for i in range(n_column)), name=\"0 Column\"),\n",
    ")\n",
    "\n",
    "\n",
    "name_1 = \"DF 1\"\n",
    "\n",
    "# df_1 = pd.read_csv(\n",
    "#     \"/home/kwatme/ex/CarrotCake/project/model_and_infer.cho_et_al_rna_medulloblastoma/output/signal/context/mf/10/h.tsv\",\n",
    "#     sep=\"\\t\",\n",
    "#     index_col=0,\n",
    "# )\n",
    "\n",
    "df_1 = pd.DataFrame(\n",
    "    np.random.random_sample(size=(n_row, n_column)),\n",
    "    index=pd.Index((\"Row {}\".format(i) for i in range(n_row)), name=\"1 Row\"),\n",
    "    columns=pd.Index((\"Column {}\".format(i) for i in range(n_column)), name=\"1 Column\"),\n",
    ")\n",
    "\n",
    "axis = 0"
   ]
  },
  {
   "cell_type": "code",
   "execution_count": null,
   "metadata": {},
   "outputs": [],
   "source": [
    "import ccal"
   ]
  },
  {
   "cell_type": "code",
   "execution_count": null,
   "metadata": {},
   "outputs": [],
   "source": [
    "if axis == 0:\n",
    "\n",
    "    common_indices = df_0.index & df_1.index\n",
    "\n",
    "    df_0_ = df_0.loc[common_indices]\n",
    "\n",
    "    df_1_ = df_1.loc[common_indices]\n",
    "\n",
    "\n",
    "elif axis == 1:\n",
    "\n",
    "    common_columns = df_0.columns & df_1.columns\n",
    "\n",
    "    df_0_ = df_0[common_columns]\n",
    "\n",
    "    df_1_ = df_1[common_columns]\n",
    "\n",
    "ccal.apply_function_on_2_dfs_slices(\n",
    "    df_0_, df_1_, axis, title=\"Comparison\", name_0=name_0, name_1=name_1\n",
    ")"
   ]
  }
 ],
 "metadata": {
  "kernelspec": {
   "display_name": "Python 3",
   "language": "python",
   "name": "python3"
  },
  "language_info": {
   "codemirror_mode": {
    "name": "ipython",
    "version": 3
   },
   "file_extension": ".py",
   "mimetype": "text/x-python",
   "name": "python",
   "nbconvert_exporter": "python",
   "pygments_lexer": "ipython3",
   "version": "3.6.7"
  }
 },
 "nbformat": 4,
 "nbformat_minor": 2
}
