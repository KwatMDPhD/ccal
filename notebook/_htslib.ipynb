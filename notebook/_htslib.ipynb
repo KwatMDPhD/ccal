{
 "cells": [
  {
   "cell_type": "code",
   "execution_count": 1,
   "metadata": {},
   "outputs": [],
   "source": [
    "%load_ext autoreload\n",
    "%autoreload 2"
   ]
  },
  {
   "cell_type": "code",
   "execution_count": 2,
   "metadata": {},
   "outputs": [],
   "source": [
    "import kraft"
   ]
  },
  {
   "cell_type": "code",
   "execution_count": 3,
   "metadata": {},
   "outputs": [
    {
     "name": "stdout",
     "output_type": "stream",
     "text": [
      "samtools faidx /home/kwat/Homo_sapiens.GRCh38.dna.primary_assembly.fa.bgz 1:0-0\n",
      "\n",
      "\n",
      "samtools faidx /home/kwat/Homo_sapiens.GRCh38.dna.primary_assembly.fa.bgz 1:1-1\n",
      "N\n",
      "\n",
      "samtools faidx /home/kwat/Homo_sapiens.GRCh38.dna.primary_assembly.fa.bgz 1:0-1\n",
      "N\n",
      "\n",
      "samtools faidx /home/kwat/Homo_sapiens.GRCh38.dna.primary_assembly.fa.bgz 1:10000-10000\n",
      "N\n",
      "\n",
      "samtools faidx /home/kwat/Homo_sapiens.GRCh38.dna.primary_assembly.fa.bgz 1:10001-10001\n",
      "T\n",
      "\n",
      "samtools faidx /home/kwat/Homo_sapiens.GRCh38.dna.primary_assembly.fa.bgz 1:10000-10001\n",
      "NT\n",
      "\n"
     ]
    }
   ],
   "source": [
    "for (\n",
    "    chromosome,\n",
    "    _1_indexed_inclusive_start_position,\n",
    "    _1_indexed_inclusive_end_position,\n",
    ") in (\n",
    "    (1, 0, 0),\n",
    "    (1, 1, 1),\n",
    "    (1, 0, 1),\n",
    "    (1, 10000, 10000),\n",
    "    (1, 10001, 10001),\n",
    "    (1, 10000, 10001),\n",
    "):\n",
    "\n",
    "    print(\n",
    "        kraft.get_sequence_from_fasta_or_fasta_gz(\n",
    "            \"/home/kwat/Homo_sapiens.GRCh38.dna.primary_assembly.fa.bgz\",\n",
    "            chromosome,\n",
    "            _1_indexed_inclusive_start_position,\n",
    "            _1_indexed_inclusive_end_position,\n",
    "        )\n",
    "    )\n",
    "\n",
    "    print()"
   ]
  },
  {
   "cell_type": "code",
   "execution_count": 4,
   "metadata": {},
   "outputs": [
    {
     "name": "stdout",
     "output_type": "stream",
     "text": [
      "tabix /home/kwat/samples/g0/genome.vcf.gz 1:10145-10145\n",
      "()\n",
      "\n",
      "tabix /home/kwat/samples/g0/genome.vcf.gz 1:10146-10146\n",
      "(('1', '10146', '.', 'AC', 'A', '324', 'PASS', 'CIGAR=1M1D;RU=C;REFREP=4;IDREP=3;MQ=17;ANN=A|TF_binding_site_variant|LOW|||Egr1|MA0341.1|||n.10147delG||||||,A|TF_binding_site_variant|LOW|||Egr1|MA0366.1|||n.10147delG||||||,A|upstream_gene_variant|MODIFIER|DDX11L1|ENSG00000223972|transcript|ENST00000456328.2|processed_transcript||n.-1722delC|||||1722|,A|upstream_gene_variant|MODIFIER|DDX11L1|ENSG00000223972|transcript|ENST00000450305.2|transcribed_unprocessed_pseudogene||n.-1863delC|||||1863|,A|downstream_gene_variant|MODIFIER|WASH7P|ENSG00000227232|transcript|ENST00000488147.1|unprocessed_pseudogene||n.*4257delG|||||4257|,A|intergenic_region|MODIFIER|CHR_START-DDX11L1|CHR_START-ENSG00000223972|intergenic_region|CHR_START-ENSG00000223972|||n.10147delC||||||', 'GT:GQ:GQX:DPI:AD:ADF:ADR:FT:PL', '0/1:309:6:64:20,25:17,17:3,8:PASS:359,0,306'),)\n",
      "\n",
      "tabix /home/kwat/samples/g0/genome.vcf.gz 1:10177-10177\n",
      "(('1', '10177', '.', 'A', 'AC', '135', 'PASS', 'CIGAR=1M1I;RU=C;REFREP=2;IDREP=3;MQ=19;ANN=AC|upstream_gene_variant|MODIFIER|DDX11L1|ENSG00000223972|transcript|ENST00000456328.2|processed_transcript||n.-1692_-1691insC|||||1691|,AC|upstream_gene_variant|MODIFIER|DDX11L1|ENSG00000223972|transcript|ENST00000450305.2|transcribed_unprocessed_pseudogene||n.-1833_-1832insC|||||1832|,AC|downstream_gene_variant|MODIFIER|WASH7P|ENSG00000227232|transcript|ENST00000488147.1|unprocessed_pseudogene||n.*4226_*4227insG|||||4226|,AC|intergenic_region|MODIFIER|CHR_START-DDX11L1|CHR_START-ENSG00000223972|intergenic_region|CHR_START-ENSG00000223972|||n.10177_10178insC||||||', 'GT:GQ:GQX:DPI:AD:ADF:ADR:FT:PL', '0/1:180:3:36:18,10:12,8:6,2:PASS:177,0,199'),)\n",
      "\n",
      "tabix /home/kwat/samples/g0/genome.vcf.gz 1:10146-10177\n",
      "(('1', '10146', '.', 'AC', 'A', '324', 'PASS', 'CIGAR=1M1D;RU=C;REFREP=4;IDREP=3;MQ=17;ANN=A|TF_binding_site_variant|LOW|||Egr1|MA0341.1|||n.10147delG||||||,A|TF_binding_site_variant|LOW|||Egr1|MA0366.1|||n.10147delG||||||,A|upstream_gene_variant|MODIFIER|DDX11L1|ENSG00000223972|transcript|ENST00000456328.2|processed_transcript||n.-1722delC|||||1722|,A|upstream_gene_variant|MODIFIER|DDX11L1|ENSG00000223972|transcript|ENST00000450305.2|transcribed_unprocessed_pseudogene||n.-1863delC|||||1863|,A|downstream_gene_variant|MODIFIER|WASH7P|ENSG00000227232|transcript|ENST00000488147.1|unprocessed_pseudogene||n.*4257delG|||||4257|,A|intergenic_region|MODIFIER|CHR_START-DDX11L1|CHR_START-ENSG00000223972|intergenic_region|CHR_START-ENSG00000223972|||n.10147delC||||||', 'GT:GQ:GQX:DPI:AD:ADF:ADR:FT:PL', '0/1:309:6:64:20,25:17,17:3,8:PASS:359,0,306'), ('1', '10177', '.', 'A', 'AC', '135', 'PASS', 'CIGAR=1M1I;RU=C;REFREP=2;IDREP=3;MQ=19;ANN=AC|upstream_gene_variant|MODIFIER|DDX11L1|ENSG00000223972|transcript|ENST00000456328.2|processed_transcript||n.-1692_-1691insC|||||1691|,AC|upstream_gene_variant|MODIFIER|DDX11L1|ENSG00000223972|transcript|ENST00000450305.2|transcribed_unprocessed_pseudogene||n.-1833_-1832insC|||||1832|,AC|downstream_gene_variant|MODIFIER|WASH7P|ENSG00000227232|transcript|ENST00000488147.1|unprocessed_pseudogene||n.*4226_*4227insG|||||4226|,AC|intergenic_region|MODIFIER|CHR_START-DDX11L1|CHR_START-ENSG00000223972|intergenic_region|CHR_START-ENSG00000223972|||n.10177_10178insC||||||', 'GT:GQ:GQX:DPI:AD:ADF:ADR:FT:PL', '0/1:180:3:36:18,10:12,8:6,2:PASS:177,0,199'))\n",
      "\n"
     ]
    }
   ],
   "source": [
    "for (\n",
    "    chromosome,\n",
    "    _1_indexed_inclusive_start_position,\n",
    "    _1_indexed_inclusive_end_position,\n",
    ") in ((1, 10145, 10145), (1, 10146, 10146), (1, 10177, 10177), (1, 10146, 10177)):\n",
    "\n",
    "    print(\n",
    "        kraft.get_variants_from_vcf_or_vcf_gz(\n",
    "            \"/home/kwat/samples/g0/genome.vcf.gz\",\n",
    "            chromosome,\n",
    "            _1_indexed_inclusive_start_position,\n",
    "            _1_indexed_inclusive_end_position,\n",
    "        )\n",
    "    )\n",
    "\n",
    "    print()"
   ]
  }
 ],
 "metadata": {
  "kernelspec": {
   "display_name": "Python 3",
   "language": "python",
   "name": "python3"
  },
  "language_info": {
   "codemirror_mode": {
    "name": "ipython",
    "version": 3
   },
   "file_extension": ".py",
   "mimetype": "text/x-python",
   "name": "python",
   "nbconvert_exporter": "python",
   "pygments_lexer": "ipython3",
   "version": "3.6.7"
  }
 },
 "nbformat": 4,
 "nbformat_minor": 2
}
