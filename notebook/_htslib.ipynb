{
 "cells": [
  {
   "cell_type": "code",
   "execution_count": null,
   "metadata": {},
   "outputs": [],
   "source": [
    "%load_ext autoreload\n",
    "%autoreload 2"
   ]
  },
  {
   "cell_type": "code",
   "execution_count": null,
   "metadata": {},
   "outputs": [],
   "source": [
    "import kraft"
   ]
  },
  {
   "cell_type": "code",
   "execution_count": null,
   "metadata": {},
   "outputs": [],
   "source": [
    "for (\n",
    "    chromosome,\n",
    "    _1_indexed_inclusive_start_position,\n",
    "    _1_indexed_inclusive_end_position,\n",
    ") in (\n",
    "    (\n",
    "        1,\n",
    "        0,\n",
    "        0,\n",
    "    ),\n",
    "    (\n",
    "        1,\n",
    "        1,\n",
    "        1,\n",
    "    ),\n",
    "    (\n",
    "        1,\n",
    "        0,\n",
    "        1,\n",
    "    ),\n",
    "    (\n",
    "        1,\n",
    "        10000,\n",
    "        10000,\n",
    "    ),\n",
    "    (\n",
    "        1,\n",
    "        10001,\n",
    "        10001,\n",
    "    ),\n",
    "    (\n",
    "        1,\n",
    "        10000,\n",
    "        10001,\n",
    "    ),\n",
    "):\n",
    "\n",
    "    print(\n",
    "        kraft.get_sequence_from_fasta_or_fasta_gz(\n",
    "            \"Homo_sapiens.GRCh38.dna.primary_assembly.fa.bgz\",\n",
    "            chromosome,\n",
    "            _1_indexed_inclusive_start_position,\n",
    "            _1_indexed_inclusive_end_position,\n",
    "        )\n",
    "    )"
   ]
  },
  {
   "cell_type": "code",
   "execution_count": null,
   "metadata": {},
   "outputs": [],
   "source": [
    "for (\n",
    "    chromosome,\n",
    "    _1_indexed_inclusive_start_position,\n",
    "    _1_indexed_inclusive_end_position,\n",
    ") in (\n",
    "    (\n",
    "        1,\n",
    "        10145,\n",
    "        10145,\n",
    "    ),\n",
    "    (\n",
    "        1,\n",
    "        10146,\n",
    "        10146,\n",
    "    ),\n",
    "    (\n",
    "        1,\n",
    "        10177,\n",
    "        10177,\n",
    "    ),\n",
    "    (\n",
    "        1,\n",
    "        10146,\n",
    "        10177,\n",
    "    ),\n",
    "):\n",
    "\n",
    "    print(\n",
    "        kraft.get_variants_from_vcf_or_vcf_gz(\n",
    "            \"genome.vcf.gz\",\n",
    "            chromosome,\n",
    "            _1_indexed_inclusive_start_position,\n",
    "            _1_indexed_inclusive_end_position,\n",
    "        )\n",
    "    )"
   ]
  }
 ],
 "metadata": {
  "kernelspec": {
   "display_name": "Python 3",
   "language": "python",
   "name": "python3"
  },
  "language_info": {
   "codemirror_mode": {
    "name": "ipython",
    "version": 3
   },
   "file_extension": ".py",
   "mimetype": "text/x-python",
   "name": "python",
   "nbconvert_exporter": "python",
   "pygments_lexer": "ipython3",
   "version": "3.7.3"
  }
 },
 "nbformat": 4,
 "nbformat_minor": 4
}
