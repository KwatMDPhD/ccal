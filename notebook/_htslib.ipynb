{
 "cells": [
  {
   "cell_type": "code",
   "execution_count": null,
   "metadata": {},
   "outputs": [],
   "source": [
    "# cleaning...%load_ext autoreload\n",
    "# cleaning...%autoreload 2"
   ]
  },
  {
   "cell_type": "code",
   "execution_count": null,
   "metadata": {},
   "outputs": [],
   "source": [
    "import kraft"
   ]
  },
  {
   "cell_type": "code",
   "execution_count": null,
   "metadata": {},
   "outputs": [],
   "source": [
    "for (\n",
    "    chromosome,\n",
    "    _1_indexed_inclusive_start_position,\n",
    "    _1_indexed_inclusive_end_position,\n",
    ") in (\n",
    "    (1, 0, 0),\n",
    "    (1, 1, 1),\n",
    "    (1, 0, 1),\n",
    "    (1, 10000, 10000),\n",
    "    (1, 10001, 10001),\n",
    "    (1, 10000, 10001),\n",
    "):\n",
    "\n",
    "    print(\n",
    "        kraft.get_sequence_from_fasta_or_fasta_gz(\n",
    "            \"Homo_sapiens.GRCh38.dna.primary_assembly.fa.bgz\",\n",
    "            chromosome,\n",
    "            _1_indexed_inclusive_start_position,\n",
    "            _1_indexed_inclusive_end_position,\n",
    "        )\n",
    "    )"
   ]
  },
  {
   "cell_type": "code",
   "execution_count": null,
   "metadata": {},
   "outputs": [],
   "source": [
    "for (\n",
    "    chromosome,\n",
    "    _1_indexed_inclusive_start_position,\n",
    "    _1_indexed_inclusive_end_position,\n",
    ") in ((1, 10145, 10145), (1, 10146, 10146), (1, 10177, 10177), (1, 10146, 10177)):\n",
    "\n",
    "    print(\n",
    "        kraft.get_variants_from_vcf_or_vcf_gz(\n",
    "            \"genome.vcf.gz\",\n",
    "            chromosome,\n",
    "            _1_indexed_inclusive_start_position,\n",
    "            _1_indexed_inclusive_end_position,\n",
    "        )\n",
    "    )"
   ]
  }
 ],
 "metadata": {
  "kernelspec": {
   "display_name": "Python 3",
   "language": "python",
   "name": "python3"
  },
  "language_info": {
   "codemirror_mode": {
    "name": "ipython",
    "version": 3
   },
   "file_extension": ".py",
   "mimetype": "text/x-python",
   "name": "python",
   "nbconvert_exporter": "python",
   "pygments_lexer": "ipython3",
   "version": "3.7.3"
  }
 },
 "nbformat": 4,
 "nbformat_minor": 4
}
