{
 "cells": [
  {
   "cell_type": "code",
   "execution_count": null,
   "metadata": {},
   "outputs": [],
   "source": [
    "%load_ext autoreload\n",
    "%autoreload 2"
   ]
  },
  {
   "cell_type": "code",
   "execution_count": null,
   "metadata": {},
   "outputs": [],
   "source": [
    "import kraft"
   ]
  },
  {
   "cell_type": "code",
   "execution_count": null,
   "metadata": {},
   "outputs": [],
   "source": [
    "for chromosome, _1_indexed_inclusive_start_position, _1_indexed_inclusive_end_position in (\n",
    "    (1, 0, 0),\n",
    "    (1, 1, 1),\n",
    "    (1, 0, 1),\n",
    "    (1, 10000, 10000),\n",
    "    (1, 10001, 10001),\n",
    "    (1, 10000, 10001),\n",
    "):\n",
    "    \n",
    "    print(kraft.get_sequence_from_fasta_or_fasta_gz(\n",
    "        \"/home/kwat/Homo_sapiens.GRCh38.dna.primary_assembly.fa.bgz\",\n",
    "        chromosome,\n",
    "        _1_indexed_inclusive_start_position,\n",
    "        _1_indexed_inclusive_end_position,\n",
    "    ))\n",
    "    \n",
    "    print()"
   ]
  },
  {
   "cell_type": "code",
   "execution_count": null,
   "metadata": {
    "scrolled": false
   },
   "outputs": [],
   "source": [
    "for chromosome, _1_indexed_inclusive_start_position, _1_indexed_inclusive_end_position in (\n",
    "    (1, 10146, 10146),\n",
    "    (1, 10177, 10177),\n",
    "    (1, 10146, 10177),\n",
    "):\n",
    "\n",
    "    print(kraft.get_variants_from_vcf_or_vcf_gz(\n",
    "        \"/home/kwat/samples/g0/genome.vcf.gz\",\n",
    "        chromosome,\n",
    "        _1_indexed_inclusive_start_position,\n",
    "        _1_indexed_inclusive_end_position,\n",
    "    ))\n",
    "    \n",
    "    print()"
   ]
  }
 ],
 "metadata": {
  "kernelspec": {
   "display_name": "Python 3",
   "language": "python",
   "name": "python3"
  },
  "language_info": {
   "codemirror_mode": {
    "name": "ipython",
    "version": 3
   },
   "file_extension": ".py",
   "mimetype": "text/x-python",
   "name": "python",
   "nbconvert_exporter": "python",
   "pygments_lexer": "ipython3",
   "version": "3.6.7"
  }
 },
 "nbformat": 4,
 "nbformat_minor": 2
}
