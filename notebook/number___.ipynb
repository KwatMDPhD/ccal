{
 "cells": [
  {
   "cell_type": "code",
   "execution_count": null,
   "metadata": {
    "execution": {
     "iopub.execute_input": "2021-05-30T23:48:58.739277Z",
     "iopub.status.busy": "2021-05-30T23:48:58.738510Z",
     "iopub.status.idle": "2021-05-30T23:48:58.752771Z",
     "shell.execute_reply": "2021-05-30T23:48:58.753180Z"
    }
   },
   "outputs": [],
   "source": [
    "%load_ext autoreload\n",
    "%autoreload 2"
   ]
  },
  {
   "cell_type": "code",
   "execution_count": null,
   "metadata": {
    "execution": {
     "iopub.execute_input": "2021-05-30T23:48:58.756712Z",
     "iopub.status.busy": "2021-05-30T23:48:58.756129Z",
     "iopub.status.idle": "2021-05-30T23:48:59.294978Z",
     "shell.execute_reply": "2021-05-30T23:48:59.295337Z"
    }
   },
   "outputs": [],
   "source": [
    "import kraft"
   ]
  },
  {
   "cell_type": "markdown",
   "metadata": {},
   "source": [
    "## check_is_not_nan"
   ]
  },
  {
   "cell_type": "code",
   "execution_count": null,
   "metadata": {
    "execution": {
     "iopub.execute_input": "2021-05-30T23:48:59.298622Z",
     "iopub.status.busy": "2021-05-30T23:48:59.298053Z",
     "iopub.status.idle": "2021-05-30T23:48:59.316458Z",
     "shell.execute_reply": "2021-05-30T23:48:59.316841Z"
    }
   },
   "outputs": [],
   "source": [
    "import numpy as np"
   ]
  },
  {
   "cell_type": "code",
   "execution_count": null,
   "metadata": {
    "execution": {
     "iopub.execute_input": "2021-05-30T23:48:59.321256Z",
     "iopub.status.busy": "2021-05-30T23:48:59.320595Z",
     "iopub.status.idle": "2021-05-30T23:48:59.347520Z",
     "shell.execute_reply": "2021-05-30T23:48:59.347922Z"
    }
   },
   "outputs": [],
   "source": [
    "kraft.number___.check_is_not_nan([np.nan, 0, 1.0, 2, False, True, np.nan])"
   ]
  },
  {
   "cell_type": "markdown",
   "metadata": {},
   "source": [
    "## get_not_nan_unique"
   ]
  },
  {
   "cell_type": "code",
   "execution_count": null,
   "metadata": {
    "execution": {
     "iopub.execute_input": "2021-05-30T23:48:59.351181Z",
     "iopub.status.busy": "2021-05-30T23:48:59.350626Z",
     "iopub.status.idle": "2021-05-30T23:48:59.367520Z",
     "shell.execute_reply": "2021-05-30T23:48:59.367882Z"
    }
   },
   "outputs": [],
   "source": [
    "kraft.number___.get_not_nan_unique(\n",
    "    np.asarray([np.nan, 0, 1.0, 2, 2, False, True, np.nan])\n",
    ")"
   ]
  },
  {
   "cell_type": "markdown",
   "metadata": {},
   "source": [
    "## clip"
   ]
  },
  {
   "cell_type": "code",
   "execution_count": null,
   "metadata": {
    "execution": {
     "iopub.execute_input": "2021-05-30T23:48:59.371077Z",
     "iopub.status.busy": "2021-05-30T23:48:59.370581Z",
     "iopub.status.idle": "2021-05-30T23:48:59.387142Z",
     "shell.execute_reply": "2021-05-30T23:48:59.387544Z"
    }
   },
   "outputs": [],
   "source": [
    "nu___ = np.arange(-2, 3)\n",
    "\n",
    "for st in [0, 1, 2]:\n",
    "\n",
    "    print(kraft.number___.clip(nu___, st))"
   ]
  },
  {
   "cell_type": "markdown",
   "metadata": {},
   "source": [
    "## normalize"
   ]
  },
  {
   "cell_type": "code",
   "execution_count": null,
   "metadata": {
    "execution": {
     "iopub.execute_input": "2021-05-30T23:48:59.391575Z",
     "iopub.status.busy": "2021-05-30T23:48:59.391019Z",
     "iopub.status.idle": "2021-05-30T23:48:59.408383Z",
     "shell.execute_reply": "2021-05-30T23:48:59.408747Z"
    }
   },
   "outputs": [],
   "source": [
    "for nu___ in [[0, 1], [[0, 1, 2], [0, 10, 20]]]:\n",
    "\n",
    "    nu___ = np.asarray(nu___)\n",
    "\n",
    "    print()\n",
    "\n",
    "    print(nu___)\n",
    "\n",
    "    for me in [\"-0-\", \"0-1\", \"sum\", \"rank\"]:\n",
    "\n",
    "        print(me)\n",
    "\n",
    "        print(kraft.number___.normalize(nu___, me))"
   ]
  },
  {
   "cell_type": "markdown",
   "metadata": {},
   "source": [
    "## shift_minimum"
   ]
  },
  {
   "cell_type": "code",
   "execution_count": null,
   "metadata": {
    "execution": {
     "iopub.execute_input": "2021-05-30T23:48:59.412180Z",
     "iopub.status.busy": "2021-05-30T23:48:59.411623Z",
     "iopub.status.idle": "2021-05-30T23:48:59.428916Z",
     "shell.execute_reply": "2021-05-30T23:48:59.429336Z"
    }
   },
   "outputs": [],
   "source": [
    "nu___ = np.asarray([-1, 0, 0.5, 2])\n",
    "\n",
    "for mi in [-1, 0, 1, \"0<\"]:\n",
    "\n",
    "    print(mi)\n",
    "\n",
    "    print(kraft.number___.shift_minimum(nu___, mi))"
   ]
  },
  {
   "cell_type": "markdown",
   "metadata": {},
   "source": [
    "## log"
   ]
  },
  {
   "cell_type": "code",
   "execution_count": null,
   "metadata": {
    "execution": {
     "iopub.execute_input": "2021-05-30T23:48:59.432769Z",
     "iopub.status.busy": "2021-05-30T23:48:59.432257Z",
     "iopub.status.idle": "2021-05-30T23:48:59.448062Z",
     "shell.execute_reply": "2021-05-30T23:48:59.448481Z"
    }
   },
   "outputs": [],
   "source": [
    "nu___ = np.asarray([1, 2, np.inf])\n",
    "\n",
    "for ba in [2, \"e\", 10]:\n",
    "\n",
    "    print(kraft.number___.log(nu___, ba=ba))"
   ]
  },
  {
   "cell_type": "markdown",
   "metadata": {},
   "source": [
    "## guess_type"
   ]
  },
  {
   "cell_type": "code",
   "execution_count": null,
   "metadata": {
    "execution": {
     "iopub.execute_input": "2021-05-30T23:48:59.452314Z",
     "iopub.status.busy": "2021-05-30T23:48:59.451796Z",
     "iopub.status.idle": "2021-05-30T23:48:59.467785Z",
     "shell.execute_reply": "2021-05-30T23:48:59.468131Z"
    }
   },
   "outputs": [],
   "source": [
    "for nu___ in [\n",
    "    [0],\n",
    "    [1],\n",
    "    [0, 1],\n",
    "    [0, 1, 2],\n",
    "    np.arange(16),\n",
    "    [0.0],\n",
    "    [0.1],\n",
    "    [1.0],\n",
    "    [0, 0.0],\n",
    "    [0, 0.0, 1, 1.0],\n",
    "    np.arange(17),\n",
    "    np.random.random_sample(4),\n",
    "]:\n",
    "\n",
    "    print(kraft.number___.guess_type(np.asarray(nu___)))"
   ]
  },
  {
   "cell_type": "markdown",
   "metadata": {},
   "source": [
    "## check_is_extreme"
   ]
  },
  {
   "cell_type": "code",
   "execution_count": null,
   "metadata": {
    "execution": {
     "iopub.execute_input": "2021-05-30T23:48:59.472346Z",
     "iopub.status.busy": "2021-05-30T23:48:59.471757Z",
     "iopub.status.idle": "2021-05-30T23:48:59.489367Z",
     "shell.execute_reply": "2021-05-30T23:48:59.489765Z"
    }
   },
   "outputs": [],
   "source": [
    "nu___ = np.arange(10)\n",
    "\n",
    "for di in [\"<\", \">\", \"<>\"]:\n",
    "\n",
    "    print()\n",
    "\n",
    "    print(di)\n",
    "\n",
    "    for ke_ in [{\"th_\": (2, np.nan)}, {\"th_\": (np.nan, 8)}, {\"n_ex\": 2}, {\"st\": 2}]:\n",
    "\n",
    "        print(ke_)\n",
    "\n",
    "        print(nu___[kraft.number___.check_is_extreme(nu___, di, **ke_)])"
   ]
  },
  {
   "cell_type": "markdown",
   "metadata": {},
   "source": [
    "## apply_on_1"
   ]
  },
  {
   "cell_type": "code",
   "execution_count": null,
   "metadata": {
    "execution": {
     "iopub.execute_input": "2021-05-30T23:48:59.493345Z",
     "iopub.status.busy": "2021-05-30T23:48:59.492749Z",
     "iopub.status.idle": "2021-05-30T23:48:59.511410Z",
     "shell.execute_reply": "2021-05-30T23:48:59.511770Z"
    }
   },
   "outputs": [],
   "source": [
    "nu___ = np.asarray([np.nan, 0, 1, 2, np.nan])"
   ]
  },
  {
   "cell_type": "code",
   "execution_count": null,
   "metadata": {
    "execution": {
     "iopub.execute_input": "2021-05-30T23:48:59.514887Z",
     "iopub.status.busy": "2021-05-30T23:48:59.514381Z",
     "iopub.status.idle": "2021-05-30T23:48:59.532459Z",
     "shell.execute_reply": "2021-05-30T23:48:59.532833Z"
    }
   },
   "outputs": [],
   "source": [
    "np.sum(nu___)"
   ]
  },
  {
   "cell_type": "code",
   "execution_count": null,
   "metadata": {
    "execution": {
     "iopub.execute_input": "2021-05-30T23:48:59.535657Z",
     "iopub.status.busy": "2021-05-30T23:48:59.535126Z",
     "iopub.status.idle": "2021-05-30T23:48:59.551293Z",
     "shell.execute_reply": "2021-05-30T23:48:59.551854Z"
    }
   },
   "outputs": [],
   "source": [
    "kraft.number___.apply_on_1(nu___, np.sum)"
   ]
  },
  {
   "cell_type": "code",
   "execution_count": null,
   "metadata": {
    "execution": {
     "iopub.execute_input": "2021-05-30T23:48:59.554577Z",
     "iopub.status.busy": "2021-05-30T23:48:59.554044Z",
     "iopub.status.idle": "2021-05-30T23:48:59.571124Z",
     "shell.execute_reply": "2021-05-30T23:48:59.571520Z"
    }
   },
   "outputs": [],
   "source": [
    "np.cumsum(nu___)"
   ]
  },
  {
   "cell_type": "code",
   "execution_count": null,
   "metadata": {
    "execution": {
     "iopub.execute_input": "2021-05-30T23:48:59.574331Z",
     "iopub.status.busy": "2021-05-30T23:48:59.573767Z",
     "iopub.status.idle": "2021-05-30T23:48:59.591762Z",
     "shell.execute_reply": "2021-05-30T23:48:59.591381Z"
    }
   },
   "outputs": [],
   "source": [
    "kraft.number___.apply_on_1(nu___, np.cumsum)"
   ]
  },
  {
   "cell_type": "code",
   "execution_count": null,
   "metadata": {
    "execution": {
     "iopub.execute_input": "2021-05-30T23:48:59.594526Z",
     "iopub.status.busy": "2021-05-30T23:48:59.594026Z",
     "iopub.status.idle": "2021-05-30T23:48:59.614014Z",
     "shell.execute_reply": "2021-05-30T23:48:59.614488Z"
    }
   },
   "outputs": [],
   "source": [
    "kraft.number___.apply_on_1(nu___, np.cumsum, up=True)"
   ]
  },
  {
   "cell_type": "markdown",
   "metadata": {},
   "source": [
    "## apply_on_2"
   ]
  },
  {
   "cell_type": "code",
   "execution_count": null,
   "metadata": {
    "execution": {
     "iopub.execute_input": "2021-05-30T23:48:59.618486Z",
     "iopub.status.busy": "2021-05-30T23:48:59.617903Z",
     "iopub.status.idle": "2021-05-30T23:48:59.636151Z",
     "shell.execute_reply": "2021-05-30T23:48:59.636559Z"
    }
   },
   "outputs": [],
   "source": [
    "nu1___ = np.asarray([np.nan, 0, 1, np.nan, 2])\n",
    "\n",
    "nu2___ = np.asarray([np.nan, 0, 1, 2, np.nan])"
   ]
  },
  {
   "cell_type": "code",
   "execution_count": null,
   "metadata": {
    "execution": {
     "iopub.execute_input": "2021-05-30T23:48:59.639764Z",
     "iopub.status.busy": "2021-05-30T23:48:59.639225Z",
     "iopub.status.idle": "2021-05-30T23:48:59.661478Z",
     "shell.execute_reply": "2021-05-30T23:48:59.661897Z"
    }
   },
   "outputs": [],
   "source": [
    "np.add(nu1___, nu2___)"
   ]
  },
  {
   "cell_type": "code",
   "execution_count": null,
   "metadata": {
    "execution": {
     "iopub.execute_input": "2021-05-30T23:48:59.665021Z",
     "iopub.status.busy": "2021-05-30T23:48:59.664439Z",
     "iopub.status.idle": "2021-05-30T23:48:59.682774Z",
     "shell.execute_reply": "2021-05-30T23:48:59.683158Z"
    }
   },
   "outputs": [],
   "source": [
    "kraft.number___.apply_on_2(nu1___, nu2___, np.add)"
   ]
  },
  {
   "cell_type": "markdown",
   "metadata": {},
   "source": [
    "## apply_along_on_2"
   ]
  },
  {
   "cell_type": "code",
   "execution_count": null,
   "metadata": {
    "execution": {
     "iopub.execute_input": "2021-05-30T23:48:59.686506Z",
     "iopub.status.busy": "2021-05-30T23:48:59.685964Z",
     "iopub.status.idle": "2021-05-30T23:48:59.701943Z",
     "shell.execute_reply": "2021-05-30T23:48:59.702335Z"
    }
   },
   "outputs": [],
   "source": [
    "nu1___ = np.asarray([np.nan, 0, 1, np.nan, 2])\n",
    "\n",
    "nu2___ = np.asarray([np.nan, 0, 1, 2, np.nan])"
   ]
  },
  {
   "cell_type": "code",
   "execution_count": null,
   "metadata": {
    "execution": {
     "iopub.execute_input": "2021-05-30T23:48:59.705467Z",
     "iopub.status.busy": "2021-05-30T23:48:59.704898Z",
     "iopub.status.idle": "2021-05-30T23:48:59.723230Z",
     "shell.execute_reply": "2021-05-30T23:48:59.723584Z"
    }
   },
   "outputs": [],
   "source": [
    "np.add(nu1___, nu2___)"
   ]
  },
  {
   "cell_type": "code",
   "execution_count": null,
   "metadata": {
    "execution": {
     "iopub.execute_input": "2021-05-30T23:48:59.726552Z",
     "iopub.status.busy": "2021-05-30T23:48:59.726042Z",
     "iopub.status.idle": "2021-05-30T23:48:59.742565Z",
     "shell.execute_reply": "2021-05-30T23:48:59.742959Z"
    }
   },
   "outputs": [],
   "source": [
    "kraft.number___.apply_along_on_2(nu1___, nu2___, np.add)"
   ]
  },
  {
   "cell_type": "code",
   "execution_count": null,
   "metadata": {
    "execution": {
     "iopub.execute_input": "2021-05-30T23:48:59.746355Z",
     "iopub.status.busy": "2021-05-30T23:48:59.745848Z",
     "iopub.status.idle": "2021-05-30T23:48:59.761664Z",
     "shell.execute_reply": "2021-05-30T23:48:59.762055Z"
    }
   },
   "outputs": [],
   "source": [
    "nu1___ = np.asarray([[0, 0], [0.1, 0.1], [1, 1], [10, 10]])\n",
    "\n",
    "nu2___ = np.asarray([[2, 2], [4, 4]])"
   ]
  },
  {
   "cell_type": "code",
   "execution_count": null,
   "metadata": {
    "execution": {
     "iopub.execute_input": "2021-05-30T23:48:59.765089Z",
     "iopub.status.busy": "2021-05-30T23:48:59.764545Z",
     "iopub.status.idle": "2021-05-30T23:48:59.781614Z",
     "shell.execute_reply": "2021-05-30T23:48:59.782030Z"
    }
   },
   "outputs": [],
   "source": [
    "np.dot(nu1___, nu2___)"
   ]
  },
  {
   "cell_type": "code",
   "execution_count": null,
   "metadata": {
    "execution": {
     "iopub.execute_input": "2021-05-30T23:48:59.784917Z",
     "iopub.status.busy": "2021-05-30T23:48:59.784405Z",
     "iopub.status.idle": "2021-05-30T23:48:59.800660Z",
     "shell.execute_reply": "2021-05-30T23:48:59.801014Z"
    }
   },
   "outputs": [],
   "source": [
    "kraft.number___.apply_along_on_2(nu1___, nu2___, np.dot)"
   ]
  }
 ],
 "metadata": {
  "kernelspec": {
   "display_name": "Python 3",
   "language": "python",
   "name": "python3"
  },
  "language_info": {
   "codemirror_mode": {
    "name": "ipython",
    "version": 3
   },
   "file_extension": ".py",
   "mimetype": "text/x-python",
   "name": "python",
   "nbconvert_exporter": "python",
   "pygments_lexer": "ipython3",
   "version": "3.8.9"
  }
 },
 "nbformat": 4,
 "nbformat_minor": 4
}
