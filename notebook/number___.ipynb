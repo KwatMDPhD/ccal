{
 "cells": [
  {
   "cell_type": "code",
   "execution_count": null,
   "metadata": {
    "execution": {
     "iopub.execute_input": "2021-05-30T07:00:38.768142Z",
     "iopub.status.busy": "2021-05-30T07:00:38.767356Z",
     "iopub.status.idle": "2021-05-30T07:00:38.781985Z",
     "shell.execute_reply": "2021-05-30T07:00:38.782502Z"
    }
   },
   "outputs": [],
   "source": [
    "%load_ext autoreload\n",
    "%autoreload 2"
   ]
  },
  {
   "cell_type": "code",
   "execution_count": null,
   "metadata": {
    "execution": {
     "iopub.execute_input": "2021-05-30T07:00:38.786056Z",
     "iopub.status.busy": "2021-05-30T07:00:38.785465Z",
     "iopub.status.idle": "2021-05-30T07:00:39.328084Z",
     "shell.execute_reply": "2021-05-30T07:00:39.328462Z"
    }
   },
   "outputs": [],
   "source": [
    "import kraft"
   ]
  },
  {
   "cell_type": "markdown",
   "metadata": {},
   "source": [
    "## check_is_not_nan"
   ]
  },
  {
   "cell_type": "code",
   "execution_count": null,
   "metadata": {
    "execution": {
     "iopub.execute_input": "2021-05-30T07:00:39.331574Z",
     "iopub.status.busy": "2021-05-30T07:00:39.331049Z",
     "iopub.status.idle": "2021-05-30T07:00:39.347776Z",
     "shell.execute_reply": "2021-05-30T07:00:39.348174Z"
    }
   },
   "outputs": [],
   "source": [
    "import numpy as np"
   ]
  },
  {
   "cell_type": "code",
   "execution_count": null,
   "metadata": {
    "execution": {
     "iopub.execute_input": "2021-05-30T07:00:39.351682Z",
     "iopub.status.busy": "2021-05-30T07:00:39.351097Z",
     "iopub.status.idle": "2021-05-30T07:00:39.374865Z",
     "shell.execute_reply": "2021-05-30T07:00:39.375311Z"
    }
   },
   "outputs": [],
   "source": [
    "kraft.number___.check_is_not_nan(\n",
    "    [\n",
    "        np.nan,\n",
    "        0,\n",
    "        1.0,\n",
    "        2,\n",
    "        False,\n",
    "        True,\n",
    "        np.nan,\n",
    "    ]\n",
    ")"
   ]
  },
  {
   "cell_type": "markdown",
   "metadata": {},
   "source": [
    "## get_not_nan_unique"
   ]
  },
  {
   "cell_type": "code",
   "execution_count": null,
   "metadata": {
    "execution": {
     "iopub.execute_input": "2021-05-30T07:00:39.378491Z",
     "iopub.status.busy": "2021-05-30T07:00:39.377989Z",
     "iopub.status.idle": "2021-05-30T07:00:39.393812Z",
     "shell.execute_reply": "2021-05-30T07:00:39.394173Z"
    }
   },
   "outputs": [],
   "source": [
    "kraft.number___.get_not_nan_unique(\n",
    "    np.asarray(\n",
    "        [\n",
    "            np.nan,\n",
    "            0,\n",
    "            1.0,\n",
    "            2,\n",
    "            2,\n",
    "            False,\n",
    "            True,\n",
    "            np.nan,\n",
    "        ]\n",
    "    )\n",
    ")"
   ]
  },
  {
   "cell_type": "markdown",
   "metadata": {},
   "source": [
    "## clip"
   ]
  },
  {
   "cell_type": "code",
   "execution_count": null,
   "metadata": {
    "execution": {
     "iopub.execute_input": "2021-05-30T07:00:39.397325Z",
     "iopub.status.busy": "2021-05-30T07:00:39.396795Z",
     "iopub.status.idle": "2021-05-30T07:00:39.413787Z",
     "shell.execute_reply": "2021-05-30T07:00:39.414171Z"
    }
   },
   "outputs": [],
   "source": [
    "nu___ = np.arange(\n",
    "    -2,\n",
    "    3,\n",
    ")\n",
    "\n",
    "for st in [\n",
    "    0,\n",
    "    1,\n",
    "    2,\n",
    "]:\n",
    "\n",
    "    print(\n",
    "        kraft.number___.clip(\n",
    "            nu___,\n",
    "            st,\n",
    "        )\n",
    "    )"
   ]
  },
  {
   "cell_type": "markdown",
   "metadata": {},
   "source": [
    "## normalize"
   ]
  },
  {
   "cell_type": "code",
   "execution_count": null,
   "metadata": {
    "execution": {
     "iopub.execute_input": "2021-05-30T07:00:39.418351Z",
     "iopub.status.busy": "2021-05-30T07:00:39.417768Z",
     "iopub.status.idle": "2021-05-30T07:00:39.435268Z",
     "shell.execute_reply": "2021-05-30T07:00:39.435627Z"
    }
   },
   "outputs": [],
   "source": [
    "for nu___ in [\n",
    "    [\n",
    "        0,\n",
    "        1,\n",
    "    ],\n",
    "    [\n",
    "        [\n",
    "            0,\n",
    "            1,\n",
    "            2,\n",
    "        ],\n",
    "        [\n",
    "            0,\n",
    "            10,\n",
    "            20,\n",
    "        ],\n",
    "    ],\n",
    "]:\n",
    "\n",
    "    nu___ = np.asarray(nu___)\n",
    "\n",
    "    print()\n",
    "\n",
    "    print(nu___)\n",
    "\n",
    "    for me in [\n",
    "        \"-0-\",\n",
    "        \"0-1\",\n",
    "        \"sum\",\n",
    "        \"rank\",\n",
    "    ]:\n",
    "\n",
    "        print(me)\n",
    "\n",
    "        print(\n",
    "            kraft.number___.normalize(\n",
    "                nu___,\n",
    "                me,\n",
    "            )\n",
    "        )"
   ]
  },
  {
   "cell_type": "markdown",
   "metadata": {},
   "source": [
    "## shift_minimum"
   ]
  },
  {
   "cell_type": "code",
   "execution_count": null,
   "metadata": {
    "execution": {
     "iopub.execute_input": "2021-05-30T07:00:39.439294Z",
     "iopub.status.busy": "2021-05-30T07:00:39.438691Z",
     "iopub.status.idle": "2021-05-30T07:00:39.455173Z",
     "shell.execute_reply": "2021-05-30T07:00:39.455518Z"
    }
   },
   "outputs": [],
   "source": [
    "nu___ = np.asarray(\n",
    "    [\n",
    "        -1,\n",
    "        0,\n",
    "        0.5,\n",
    "        2,\n",
    "    ]\n",
    ")\n",
    "\n",
    "for mi in [\n",
    "    -1,\n",
    "    0,\n",
    "    1,\n",
    "    \"0<\",\n",
    "]:\n",
    "\n",
    "    print(mi)\n",
    "\n",
    "    print(\n",
    "        kraft.number___.shift_minimum(\n",
    "            nu___,\n",
    "            mi,\n",
    "        )\n",
    "    )"
   ]
  },
  {
   "cell_type": "markdown",
   "metadata": {},
   "source": [
    "## log"
   ]
  },
  {
   "cell_type": "code",
   "execution_count": null,
   "metadata": {
    "execution": {
     "iopub.execute_input": "2021-05-30T07:00:39.458696Z",
     "iopub.status.busy": "2021-05-30T07:00:39.458206Z",
     "iopub.status.idle": "2021-05-30T07:00:39.473783Z",
     "shell.execute_reply": "2021-05-30T07:00:39.474276Z"
    }
   },
   "outputs": [],
   "source": [
    "nu___ = np.asarray(\n",
    "    [\n",
    "        1,\n",
    "        2,\n",
    "        np.inf,\n",
    "    ]\n",
    ")\n",
    "\n",
    "for ba in [\n",
    "    2,\n",
    "    \"e\",\n",
    "    10,\n",
    "]:\n",
    "\n",
    "    print(\n",
    "        kraft.number___.log(\n",
    "            nu___,\n",
    "            ba=ba,\n",
    "        )\n",
    "    )"
   ]
  },
  {
   "cell_type": "markdown",
   "metadata": {},
   "source": [
    "## guess_type"
   ]
  },
  {
   "cell_type": "code",
   "execution_count": null,
   "metadata": {
    "execution": {
     "iopub.execute_input": "2021-05-30T07:00:39.478704Z",
     "iopub.status.busy": "2021-05-30T07:00:39.477998Z",
     "iopub.status.idle": "2021-05-30T07:00:39.493178Z",
     "shell.execute_reply": "2021-05-30T07:00:39.493536Z"
    }
   },
   "outputs": [],
   "source": [
    "for nu___ in [\n",
    "    [0],\n",
    "    [1],\n",
    "    [\n",
    "        0,\n",
    "        1,\n",
    "    ],\n",
    "    [\n",
    "        0,\n",
    "        1,\n",
    "        2,\n",
    "    ],\n",
    "    np.arange(16),\n",
    "    [0.0],\n",
    "    [0.1],\n",
    "    [1.0],\n",
    "    [\n",
    "        0,\n",
    "        0.0,\n",
    "    ],\n",
    "    [\n",
    "        0,\n",
    "        0.0,\n",
    "        1,\n",
    "        1.0,\n",
    "    ],\n",
    "    np.arange(17),\n",
    "    np.random.random_sample(4),\n",
    "]:\n",
    "\n",
    "    print(kraft.number___.guess_type(np.asarray(nu___)))"
   ]
  },
  {
   "cell_type": "markdown",
   "metadata": {},
   "source": [
    "## check_is_extreme"
   ]
  },
  {
   "cell_type": "code",
   "execution_count": null,
   "metadata": {
    "execution": {
     "iopub.execute_input": "2021-05-30T07:00:39.497583Z",
     "iopub.status.busy": "2021-05-30T07:00:39.497081Z",
     "iopub.status.idle": "2021-05-30T07:00:39.514215Z",
     "shell.execute_reply": "2021-05-30T07:00:39.514823Z"
    }
   },
   "outputs": [],
   "source": [
    "nu___ = np.arange(10)\n",
    "\n",
    "for di in [\n",
    "    \"<\",\n",
    "    \">\",\n",
    "    \"<>\",\n",
    "]:\n",
    "\n",
    "    print()\n",
    "\n",
    "    print(di)\n",
    "\n",
    "    for ke_ in [\n",
    "        {\n",
    "            \"th_\": (\n",
    "                2,\n",
    "                np.nan,\n",
    "            )\n",
    "        },\n",
    "        {\n",
    "            \"th_\": (\n",
    "                np.nan,\n",
    "                8,\n",
    "            )\n",
    "        },\n",
    "        {\"n_ex\": 2},\n",
    "        {\"st\": 2},\n",
    "    ]:\n",
    "\n",
    "        print(ke_)\n",
    "\n",
    "        print(nu___[kraft.number___.check_is_extreme(nu___, di, **ke_)])"
   ]
  },
  {
   "cell_type": "markdown",
   "metadata": {},
   "source": [
    "## apply_on_1"
   ]
  },
  {
   "cell_type": "code",
   "execution_count": null,
   "metadata": {
    "execution": {
     "iopub.execute_input": "2021-05-30T07:00:39.517978Z",
     "iopub.status.busy": "2021-05-30T07:00:39.517380Z",
     "iopub.status.idle": "2021-05-30T07:00:39.535232Z",
     "shell.execute_reply": "2021-05-30T07:00:39.535587Z"
    }
   },
   "outputs": [],
   "source": [
    "nu___ = np.asarray(\n",
    "    [\n",
    "        np.nan,\n",
    "        0,\n",
    "        1,\n",
    "        2,\n",
    "        np.nan,\n",
    "    ]\n",
    ")"
   ]
  },
  {
   "cell_type": "code",
   "execution_count": null,
   "metadata": {
    "execution": {
     "iopub.execute_input": "2021-05-30T07:00:39.538666Z",
     "iopub.status.busy": "2021-05-30T07:00:39.538162Z",
     "iopub.status.idle": "2021-05-30T07:00:39.555666Z",
     "shell.execute_reply": "2021-05-30T07:00:39.556251Z"
    }
   },
   "outputs": [],
   "source": [
    "np.sum(nu___)"
   ]
  },
  {
   "cell_type": "code",
   "execution_count": null,
   "metadata": {
    "execution": {
     "iopub.execute_input": "2021-05-30T07:00:39.559233Z",
     "iopub.status.busy": "2021-05-30T07:00:39.558641Z",
     "iopub.status.idle": "2021-05-30T07:00:39.575781Z",
     "shell.execute_reply": "2021-05-30T07:00:39.576139Z"
    }
   },
   "outputs": [],
   "source": [
    "kraft.number___.apply_on_1(\n",
    "    nu___,\n",
    "    np.sum,\n",
    ")"
   ]
  },
  {
   "cell_type": "code",
   "execution_count": null,
   "metadata": {
    "execution": {
     "iopub.execute_input": "2021-05-30T07:00:39.579014Z",
     "iopub.status.busy": "2021-05-30T07:00:39.578508Z",
     "iopub.status.idle": "2021-05-30T07:00:39.594398Z",
     "shell.execute_reply": "2021-05-30T07:00:39.594769Z"
    }
   },
   "outputs": [],
   "source": [
    "np.cumsum(nu___)"
   ]
  },
  {
   "cell_type": "code",
   "execution_count": null,
   "metadata": {
    "execution": {
     "iopub.execute_input": "2021-05-30T07:00:39.597386Z",
     "iopub.status.busy": "2021-05-30T07:00:39.596888Z",
     "iopub.status.idle": "2021-05-30T07:00:39.612702Z",
     "shell.execute_reply": "2021-05-30T07:00:39.613055Z"
    }
   },
   "outputs": [],
   "source": [
    "kraft.number___.apply_on_1(\n",
    "    nu___,\n",
    "    np.cumsum,\n",
    ")"
   ]
  },
  {
   "cell_type": "code",
   "execution_count": null,
   "metadata": {
    "execution": {
     "iopub.execute_input": "2021-05-30T07:00:39.615873Z",
     "iopub.status.busy": "2021-05-30T07:00:39.615367Z",
     "iopub.status.idle": "2021-05-30T07:00:39.631490Z",
     "shell.execute_reply": "2021-05-30T07:00:39.631909Z"
    }
   },
   "outputs": [],
   "source": [
    "kraft.number___.apply_on_1(\n",
    "    nu___,\n",
    "    np.cumsum,\n",
    "    up=True,\n",
    ")"
   ]
  },
  {
   "cell_type": "markdown",
   "metadata": {},
   "source": [
    "## apply_on_2"
   ]
  },
  {
   "cell_type": "code",
   "execution_count": null,
   "metadata": {
    "execution": {
     "iopub.execute_input": "2021-05-30T07:00:39.635044Z",
     "iopub.status.busy": "2021-05-30T07:00:39.634554Z",
     "iopub.status.idle": "2021-05-30T07:00:39.650103Z",
     "shell.execute_reply": "2021-05-30T07:00:39.650498Z"
    }
   },
   "outputs": [],
   "source": [
    "nu1___ = np.asarray(\n",
    "    [\n",
    "        np.nan,\n",
    "        0,\n",
    "        1,\n",
    "        np.nan,\n",
    "        2,\n",
    "    ]\n",
    ")\n",
    "\n",
    "nu2___ = np.asarray(\n",
    "    [\n",
    "        np.nan,\n",
    "        0,\n",
    "        1,\n",
    "        2,\n",
    "        np.nan,\n",
    "    ]\n",
    ")"
   ]
  },
  {
   "cell_type": "code",
   "execution_count": null,
   "metadata": {
    "execution": {
     "iopub.execute_input": "2021-05-30T07:00:39.653532Z",
     "iopub.status.busy": "2021-05-30T07:00:39.653009Z",
     "iopub.status.idle": "2021-05-30T07:00:39.669939Z",
     "shell.execute_reply": "2021-05-30T07:00:39.670290Z"
    }
   },
   "outputs": [],
   "source": [
    "np.add(\n",
    "    nu1___,\n",
    "    nu2___,\n",
    ")"
   ]
  },
  {
   "cell_type": "code",
   "execution_count": null,
   "metadata": {
    "execution": {
     "iopub.execute_input": "2021-05-30T07:00:39.673034Z",
     "iopub.status.busy": "2021-05-30T07:00:39.672528Z",
     "iopub.status.idle": "2021-05-30T07:00:39.688502Z",
     "shell.execute_reply": "2021-05-30T07:00:39.688924Z"
    }
   },
   "outputs": [],
   "source": [
    "kraft.number___.apply_on_2(\n",
    "    nu1___,\n",
    "    nu2___,\n",
    "    np.add,\n",
    ")"
   ]
  },
  {
   "cell_type": "markdown",
   "metadata": {},
   "source": [
    "## apply_along_on_2"
   ]
  },
  {
   "cell_type": "code",
   "execution_count": null,
   "metadata": {
    "execution": {
     "iopub.execute_input": "2021-05-30T07:00:39.692046Z",
     "iopub.status.busy": "2021-05-30T07:00:39.691542Z",
     "iopub.status.idle": "2021-05-30T07:00:39.707174Z",
     "shell.execute_reply": "2021-05-30T07:00:39.707556Z"
    }
   },
   "outputs": [],
   "source": [
    "nu1___ = np.asarray(\n",
    "    [\n",
    "        np.nan,\n",
    "        0,\n",
    "        1,\n",
    "        np.nan,\n",
    "        2,\n",
    "    ]\n",
    ")\n",
    "\n",
    "nu2___ = np.asarray(\n",
    "    [\n",
    "        np.nan,\n",
    "        0,\n",
    "        1,\n",
    "        2,\n",
    "        np.nan,\n",
    "    ]\n",
    ")"
   ]
  },
  {
   "cell_type": "code",
   "execution_count": null,
   "metadata": {
    "execution": {
     "iopub.execute_input": "2021-05-30T07:00:39.710550Z",
     "iopub.status.busy": "2021-05-30T07:00:39.710023Z",
     "iopub.status.idle": "2021-05-30T07:00:39.727243Z",
     "shell.execute_reply": "2021-05-30T07:00:39.727664Z"
    }
   },
   "outputs": [],
   "source": [
    "np.add(\n",
    "    nu1___,\n",
    "    nu2___,\n",
    ")"
   ]
  },
  {
   "cell_type": "code",
   "execution_count": null,
   "metadata": {
    "execution": {
     "iopub.execute_input": "2021-05-30T07:00:39.730464Z",
     "iopub.status.busy": "2021-05-30T07:00:39.729958Z",
     "iopub.status.idle": "2021-05-30T07:00:39.746875Z",
     "shell.execute_reply": "2021-05-30T07:00:39.747230Z"
    }
   },
   "outputs": [],
   "source": [
    "kraft.number___.apply_along_on_2(\n",
    "    nu1___,\n",
    "    nu2___,\n",
    "    np.add,\n",
    ")"
   ]
  },
  {
   "cell_type": "code",
   "execution_count": null,
   "metadata": {
    "execution": {
     "iopub.execute_input": "2021-05-30T07:00:39.750620Z",
     "iopub.status.busy": "2021-05-30T07:00:39.750112Z",
     "iopub.status.idle": "2021-05-30T07:00:39.765851Z",
     "shell.execute_reply": "2021-05-30T07:00:39.766284Z"
    }
   },
   "outputs": [],
   "source": [
    "nu1___ = np.asarray(\n",
    "    [\n",
    "        [\n",
    "            0,\n",
    "            0,\n",
    "        ],\n",
    "        [\n",
    "            0.1,\n",
    "            0.1,\n",
    "        ],\n",
    "        [\n",
    "            1,\n",
    "            1,\n",
    "        ],\n",
    "        [\n",
    "            10,\n",
    "            10,\n",
    "        ],\n",
    "    ]\n",
    ")\n",
    "\n",
    "nu2___ = np.asarray(\n",
    "    [\n",
    "        [\n",
    "            2,\n",
    "            2,\n",
    "        ],\n",
    "        [\n",
    "            4,\n",
    "            4,\n",
    "        ],\n",
    "    ]\n",
    ")"
   ]
  },
  {
   "cell_type": "code",
   "execution_count": null,
   "metadata": {
    "execution": {
     "iopub.execute_input": "2021-05-30T07:00:39.769621Z",
     "iopub.status.busy": "2021-05-30T07:00:39.768895Z",
     "iopub.status.idle": "2021-05-30T07:00:39.787145Z",
     "shell.execute_reply": "2021-05-30T07:00:39.787505Z"
    }
   },
   "outputs": [],
   "source": [
    "np.dot(\n",
    "    nu1___,\n",
    "    nu2___,\n",
    ")"
   ]
  },
  {
   "cell_type": "code",
   "execution_count": null,
   "metadata": {
    "execution": {
     "iopub.execute_input": "2021-05-30T07:00:39.790359Z",
     "iopub.status.busy": "2021-05-30T07:00:39.789839Z",
     "iopub.status.idle": "2021-05-30T07:00:39.806093Z",
     "shell.execute_reply": "2021-05-30T07:00:39.806420Z"
    }
   },
   "outputs": [],
   "source": [
    "kraft.number___.apply_along_on_2(\n",
    "    nu1___,\n",
    "    nu2___,\n",
    "    np.dot,\n",
    ")"
   ]
  }
 ],
 "metadata": {
  "kernelspec": {
   "display_name": "Python 3",
   "language": "python",
   "name": "python3"
  },
  "language_info": {
   "codemirror_mode": {
    "name": "ipython",
    "version": 3
   },
   "file_extension": ".py",
   "mimetype": "text/x-python",
   "name": "python",
   "nbconvert_exporter": "python",
   "pygments_lexer": "ipython3",
   "version": "3.8.9"
  }
 },
 "nbformat": 4,
 "nbformat_minor": 4
}
