{
 "cells": [
  {
   "cell_type": "code",
   "execution_count": null,
   "metadata": {
    "execution": {
     "iopub.execute_input": "2021-05-31T06:00:16.501352Z",
     "iopub.status.busy": "2021-05-31T06:00:16.500608Z",
     "iopub.status.idle": "2021-05-31T06:00:16.514802Z",
     "shell.execute_reply": "2021-05-31T06:00:16.515247Z"
    }
   },
   "outputs": [],
   "source": [
    "%load_ext autoreload\n",
    "%autoreload 2"
   ]
  },
  {
   "cell_type": "code",
   "execution_count": null,
   "metadata": {
    "execution": {
     "iopub.execute_input": "2021-05-31T06:00:16.518781Z",
     "iopub.status.busy": "2021-05-31T06:00:16.518188Z",
     "iopub.status.idle": "2021-05-31T06:00:17.051616Z",
     "shell.execute_reply": "2021-05-31T06:00:17.051948Z"
    }
   },
   "outputs": [],
   "source": [
    "import kraft"
   ]
  },
  {
   "cell_type": "markdown",
   "metadata": {},
   "source": [
    "## check_is_not_nan"
   ]
  },
  {
   "cell_type": "code",
   "execution_count": null,
   "metadata": {
    "execution": {
     "iopub.execute_input": "2021-05-31T06:00:17.054807Z",
     "iopub.status.busy": "2021-05-31T06:00:17.054307Z",
     "iopub.status.idle": "2021-05-31T06:00:17.070699Z",
     "shell.execute_reply": "2021-05-31T06:00:17.071095Z"
    }
   },
   "outputs": [],
   "source": [
    "import numpy as np"
   ]
  },
  {
   "cell_type": "code",
   "execution_count": null,
   "metadata": {
    "execution": {
     "iopub.execute_input": "2021-05-31T06:00:17.074491Z",
     "iopub.status.busy": "2021-05-31T06:00:17.073951Z",
     "iopub.status.idle": "2021-05-31T06:00:17.096244Z",
     "shell.execute_reply": "2021-05-31T06:00:17.096620Z"
    }
   },
   "outputs": [],
   "source": [
    "kraft.number___.check_is_not_nan([np.nan, 0, 1.0, 2, False, True, np.nan])"
   ]
  },
  {
   "cell_type": "markdown",
   "metadata": {},
   "source": [
    "## get_not_nan_unique"
   ]
  },
  {
   "cell_type": "code",
   "execution_count": null,
   "metadata": {
    "execution": {
     "iopub.execute_input": "2021-05-31T06:00:17.099829Z",
     "iopub.status.busy": "2021-05-31T06:00:17.099319Z",
     "iopub.status.idle": "2021-05-31T06:00:17.116134Z",
     "shell.execute_reply": "2021-05-31T06:00:17.116517Z"
    }
   },
   "outputs": [],
   "source": [
    "kraft.number___.get_not_nan_unique(\n",
    "    np.asarray([np.nan, 0, 1.0, 2, 2, False, True, np.nan])\n",
    ")"
   ]
  },
  {
   "cell_type": "markdown",
   "metadata": {},
   "source": [
    "## clip"
   ]
  },
  {
   "cell_type": "code",
   "execution_count": null,
   "metadata": {
    "execution": {
     "iopub.execute_input": "2021-05-31T06:00:17.119756Z",
     "iopub.status.busy": "2021-05-31T06:00:17.119190Z",
     "iopub.status.idle": "2021-05-31T06:00:17.136961Z",
     "shell.execute_reply": "2021-05-31T06:00:17.137337Z"
    }
   },
   "outputs": [],
   "source": [
    "nu___ = np.arange(-2, 3)\n",
    "\n",
    "for st in [0, 1, 2]:\n",
    "\n",
    "    print(kraft.number___.clip(nu___, st))"
   ]
  },
  {
   "cell_type": "markdown",
   "metadata": {},
   "source": [
    "## normalize"
   ]
  },
  {
   "cell_type": "code",
   "execution_count": null,
   "metadata": {
    "execution": {
     "iopub.execute_input": "2021-05-31T06:00:17.141127Z",
     "iopub.status.busy": "2021-05-31T06:00:17.140570Z",
     "iopub.status.idle": "2021-05-31T06:00:17.159994Z",
     "shell.execute_reply": "2021-05-31T06:00:17.159626Z"
    }
   },
   "outputs": [],
   "source": [
    "for nu___ in [[0, 1], [[0, 1, 2], [0, 10, 20]]]:\n",
    "\n",
    "    nu___ = np.asarray(nu___)\n",
    "\n",
    "    print()\n",
    "\n",
    "    print(nu___)\n",
    "\n",
    "    for me in [\"-0-\", \"0-1\", \"sum\", \"rank\"]:\n",
    "\n",
    "        print(me)\n",
    "\n",
    "        print(kraft.number___.normalize(nu___, me))"
   ]
  },
  {
   "cell_type": "markdown",
   "metadata": {},
   "source": [
    "## shift_minimum"
   ]
  },
  {
   "cell_type": "code",
   "execution_count": null,
   "metadata": {
    "execution": {
     "iopub.execute_input": "2021-05-31T06:00:17.163793Z",
     "iopub.status.busy": "2021-05-31T06:00:17.163157Z",
     "iopub.status.idle": "2021-05-31T06:00:17.181191Z",
     "shell.execute_reply": "2021-05-31T06:00:17.181618Z"
    }
   },
   "outputs": [],
   "source": [
    "nu___ = np.asarray([-1, 0, 0.5, 2])\n",
    "\n",
    "for mi in [-1, 0, 1, \"0<\"]:\n",
    "\n",
    "    print(mi)\n",
    "\n",
    "    print(kraft.number___.shift_minimum(nu___, mi))"
   ]
  },
  {
   "cell_type": "markdown",
   "metadata": {},
   "source": [
    "## log"
   ]
  },
  {
   "cell_type": "code",
   "execution_count": null,
   "metadata": {
    "execution": {
     "iopub.execute_input": "2021-05-31T06:00:17.185170Z",
     "iopub.status.busy": "2021-05-31T06:00:17.184372Z",
     "iopub.status.idle": "2021-05-31T06:00:17.200663Z",
     "shell.execute_reply": "2021-05-31T06:00:17.200981Z"
    }
   },
   "outputs": [],
   "source": [
    "nu___ = np.asarray([1, 2, np.inf])\n",
    "\n",
    "for ba in [2, \"e\", 10]:\n",
    "\n",
    "    print(kraft.number___.log(nu___, ba=ba))"
   ]
  },
  {
   "cell_type": "markdown",
   "metadata": {},
   "source": [
    "## guess_type"
   ]
  },
  {
   "cell_type": "code",
   "execution_count": null,
   "metadata": {
    "execution": {
     "iopub.execute_input": "2021-05-31T06:00:17.204672Z",
     "iopub.status.busy": "2021-05-31T06:00:17.204188Z",
     "iopub.status.idle": "2021-05-31T06:00:17.220391Z",
     "shell.execute_reply": "2021-05-31T06:00:17.220817Z"
    }
   },
   "outputs": [],
   "source": [
    "for nu___ in [\n",
    "    [0],\n",
    "    [1],\n",
    "    [0, 1],\n",
    "    [0, 1, 2],\n",
    "    np.arange(16),\n",
    "    [0.0],\n",
    "    [0.1],\n",
    "    [1.0],\n",
    "    [0, 0.0],\n",
    "    [0, 0.0, 1, 1.0],\n",
    "    np.arange(17),\n",
    "    np.random.random_sample(4),\n",
    "]:\n",
    "\n",
    "    print(kraft.number___.guess_type(np.asarray(nu___)))"
   ]
  },
  {
   "cell_type": "markdown",
   "metadata": {},
   "source": [
    "## check_is_extreme"
   ]
  },
  {
   "cell_type": "code",
   "execution_count": null,
   "metadata": {
    "execution": {
     "iopub.execute_input": "2021-05-31T06:00:17.224815Z",
     "iopub.status.busy": "2021-05-31T06:00:17.224136Z",
     "iopub.status.idle": "2021-05-31T06:00:17.241253Z",
     "shell.execute_reply": "2021-05-31T06:00:17.241619Z"
    }
   },
   "outputs": [],
   "source": [
    "nu___ = np.arange(10)\n",
    "\n",
    "for di in [\"<\", \">\", \"<>\"]:\n",
    "\n",
    "    print()\n",
    "\n",
    "    print(di)\n",
    "\n",
    "    for ke_ in [{\"th_\": (2, np.nan)}, {\"th_\": (np.nan, 8)}, {\"n_ex\": 2}, {\"st\": 2}]:\n",
    "\n",
    "        print(ke_)\n",
    "\n",
    "        print(nu___[kraft.number___.check_is_extreme(nu___, di, **ke_)])"
   ]
  },
  {
   "cell_type": "markdown",
   "metadata": {},
   "source": [
    "## apply_on_1"
   ]
  },
  {
   "cell_type": "code",
   "execution_count": null,
   "metadata": {
    "execution": {
     "iopub.execute_input": "2021-05-31T06:00:17.244504Z",
     "iopub.status.busy": "2021-05-31T06:00:17.243971Z",
     "iopub.status.idle": "2021-05-31T06:00:17.262518Z",
     "shell.execute_reply": "2021-05-31T06:00:17.262903Z"
    }
   },
   "outputs": [],
   "source": [
    "nu___ = np.asarray([np.nan, 0, 1, 2, np.nan])"
   ]
  },
  {
   "cell_type": "code",
   "execution_count": null,
   "metadata": {
    "execution": {
     "iopub.execute_input": "2021-05-31T06:00:17.265902Z",
     "iopub.status.busy": "2021-05-31T06:00:17.265195Z",
     "iopub.status.idle": "2021-05-31T06:00:17.283234Z",
     "shell.execute_reply": "2021-05-31T06:00:17.283592Z"
    }
   },
   "outputs": [],
   "source": [
    "np.sum(nu___)"
   ]
  },
  {
   "cell_type": "code",
   "execution_count": null,
   "metadata": {
    "execution": {
     "iopub.execute_input": "2021-05-31T06:00:17.286543Z",
     "iopub.status.busy": "2021-05-31T06:00:17.285988Z",
     "iopub.status.idle": "2021-05-31T06:00:17.302977Z",
     "shell.execute_reply": "2021-05-31T06:00:17.303353Z"
    }
   },
   "outputs": [],
   "source": [
    "kraft.number___.apply_on_1(nu___, np.sum)"
   ]
  },
  {
   "cell_type": "code",
   "execution_count": null,
   "metadata": {
    "execution": {
     "iopub.execute_input": "2021-05-31T06:00:17.306208Z",
     "iopub.status.busy": "2021-05-31T06:00:17.305715Z",
     "iopub.status.idle": "2021-05-31T06:00:17.323453Z",
     "shell.execute_reply": "2021-05-31T06:00:17.323877Z"
    }
   },
   "outputs": [],
   "source": [
    "np.cumsum(nu___)"
   ]
  },
  {
   "cell_type": "code",
   "execution_count": null,
   "metadata": {
    "execution": {
     "iopub.execute_input": "2021-05-31T06:00:17.327078Z",
     "iopub.status.busy": "2021-05-31T06:00:17.326469Z",
     "iopub.status.idle": "2021-05-31T06:00:17.346339Z",
     "shell.execute_reply": "2021-05-31T06:00:17.346758Z"
    }
   },
   "outputs": [],
   "source": [
    "kraft.number___.apply_on_1(nu___, np.cumsum)"
   ]
  },
  {
   "cell_type": "code",
   "execution_count": null,
   "metadata": {
    "execution": {
     "iopub.execute_input": "2021-05-31T06:00:17.349958Z",
     "iopub.status.busy": "2021-05-31T06:00:17.349382Z",
     "iopub.status.idle": "2021-05-31T06:00:17.368848Z",
     "shell.execute_reply": "2021-05-31T06:00:17.368343Z"
    }
   },
   "outputs": [],
   "source": [
    "kraft.number___.apply_on_1(nu___, np.cumsum, up=True)"
   ]
  },
  {
   "cell_type": "markdown",
   "metadata": {},
   "source": [
    "## apply_on_2"
   ]
  },
  {
   "cell_type": "code",
   "execution_count": null,
   "metadata": {
    "execution": {
     "iopub.execute_input": "2021-05-31T06:00:17.372210Z",
     "iopub.status.busy": "2021-05-31T06:00:17.371636Z",
     "iopub.status.idle": "2021-05-31T06:00:17.388340Z",
     "shell.execute_reply": "2021-05-31T06:00:17.388714Z"
    }
   },
   "outputs": [],
   "source": [
    "nu1___ = np.asarray([np.nan, 0, 1, np.nan, 2])\n",
    "\n",
    "nu2___ = np.asarray([np.nan, 0, 1, 2, np.nan])"
   ]
  },
  {
   "cell_type": "code",
   "execution_count": null,
   "metadata": {
    "execution": {
     "iopub.execute_input": "2021-05-31T06:00:17.391995Z",
     "iopub.status.busy": "2021-05-31T06:00:17.391461Z",
     "iopub.status.idle": "2021-05-31T06:00:17.413521Z",
     "shell.execute_reply": "2021-05-31T06:00:17.414103Z"
    }
   },
   "outputs": [],
   "source": [
    "np.add(nu1___, nu2___)"
   ]
  },
  {
   "cell_type": "code",
   "execution_count": null,
   "metadata": {
    "execution": {
     "iopub.execute_input": "2021-05-31T06:00:17.417197Z",
     "iopub.status.busy": "2021-05-31T06:00:17.416616Z",
     "iopub.status.idle": "2021-05-31T06:00:17.435992Z",
     "shell.execute_reply": "2021-05-31T06:00:17.436413Z"
    }
   },
   "outputs": [],
   "source": [
    "kraft.number___.apply_on_2(nu1___, nu2___, np.add)"
   ]
  },
  {
   "cell_type": "markdown",
   "metadata": {},
   "source": [
    "## apply_along_on_2"
   ]
  },
  {
   "cell_type": "code",
   "execution_count": null,
   "metadata": {
    "execution": {
     "iopub.execute_input": "2021-05-31T06:00:17.439361Z",
     "iopub.status.busy": "2021-05-31T06:00:17.438833Z",
     "iopub.status.idle": "2021-05-31T06:00:17.458192Z",
     "shell.execute_reply": "2021-05-31T06:00:17.459680Z"
    }
   },
   "outputs": [],
   "source": [
    "nu1___ = np.asarray([np.nan, 0, 1, np.nan, 2])\n",
    "\n",
    "nu2___ = np.asarray([np.nan, 0, 1, 2, np.nan])"
   ]
  },
  {
   "cell_type": "code",
   "execution_count": null,
   "metadata": {
    "execution": {
     "iopub.execute_input": "2021-05-31T06:00:17.464814Z",
     "iopub.status.busy": "2021-05-31T06:00:17.464322Z",
     "iopub.status.idle": "2021-05-31T06:00:17.481744Z",
     "shell.execute_reply": "2021-05-31T06:00:17.482163Z"
    }
   },
   "outputs": [],
   "source": [
    "np.add(nu1___, nu2___)"
   ]
  },
  {
   "cell_type": "code",
   "execution_count": null,
   "metadata": {
    "execution": {
     "iopub.execute_input": "2021-05-31T06:00:17.485046Z",
     "iopub.status.busy": "2021-05-31T06:00:17.484522Z",
     "iopub.status.idle": "2021-05-31T06:00:17.502228Z",
     "shell.execute_reply": "2021-05-31T06:00:17.501854Z"
    }
   },
   "outputs": [],
   "source": [
    "kraft.number___.apply_along_on_2(nu1___, nu2___, np.add)"
   ]
  },
  {
   "cell_type": "code",
   "execution_count": null,
   "metadata": {
    "execution": {
     "iopub.execute_input": "2021-05-31T06:00:17.505612Z",
     "iopub.status.busy": "2021-05-31T06:00:17.505114Z",
     "iopub.status.idle": "2021-05-31T06:00:17.521114Z",
     "shell.execute_reply": "2021-05-31T06:00:17.521499Z"
    }
   },
   "outputs": [],
   "source": [
    "nu1___ = np.asarray([[0, 0], [0.1, 0.1], [1, 1], [10, 10]])\n",
    "\n",
    "nu2___ = np.asarray([[2, 2], [4, 4]])"
   ]
  },
  {
   "cell_type": "code",
   "execution_count": null,
   "metadata": {
    "execution": {
     "iopub.execute_input": "2021-05-31T06:00:17.524613Z",
     "iopub.status.busy": "2021-05-31T06:00:17.524086Z",
     "iopub.status.idle": "2021-05-31T06:00:17.541212Z",
     "shell.execute_reply": "2021-05-31T06:00:17.541565Z"
    }
   },
   "outputs": [],
   "source": [
    "np.dot(nu1___, nu2___)"
   ]
  },
  {
   "cell_type": "code",
   "execution_count": null,
   "metadata": {
    "execution": {
     "iopub.execute_input": "2021-05-31T06:00:17.544761Z",
     "iopub.status.busy": "2021-05-31T06:00:17.544256Z",
     "iopub.status.idle": "2021-05-31T06:00:17.560419Z",
     "shell.execute_reply": "2021-05-31T06:00:17.560934Z"
    }
   },
   "outputs": [],
   "source": [
    "kraft.number___.apply_along_on_2(nu1___, nu2___, np.dot)"
   ]
  }
 ],
 "metadata": {
  "kernelspec": {
   "display_name": "Python 3",
   "language": "python",
   "name": "python3"
  },
  "language_info": {
   "codemirror_mode": {
    "name": "ipython",
    "version": 3
   },
   "file_extension": ".py",
   "mimetype": "text/x-python",
   "name": "python",
   "nbconvert_exporter": "python",
   "pygments_lexer": "ipython3",
   "version": "3.8.9"
  }
 },
 "nbformat": 4,
 "nbformat_minor": 4
}
