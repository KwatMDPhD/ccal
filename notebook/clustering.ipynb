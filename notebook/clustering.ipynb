{
 "cells": [
  {
   "cell_type": "code",
   "execution_count": null,
   "metadata": {},
   "outputs": [],
   "source": [
    "%load_ext autoreload\n",
    "%autoreload 2"
   ]
  },
  {
   "cell_type": "code",
   "execution_count": null,
   "metadata": {},
   "outputs": [],
   "source": [
    "import numpy as np\n",
    "import pandas as pd\n",
    "\n",
    "import kraft"
   ]
  },
  {
   "cell_type": "markdown",
   "metadata": {},
   "source": [
    "## cluster"
   ]
  },
  {
   "cell_type": "code",
   "execution_count": null,
   "metadata": {},
   "outputs": [],
   "source": [
    "matrix = np.asarray(\n",
    "    ((9, 19, 9, 19, 9), (0, 10, 0, 10, 0), (1, 11, 1, 11, 1), (8, 18, 8, 18, 8))\n",
    ")\n",
    "\n",
    "print(matrix)\n",
    "\n",
    "print(kraft.cluster(matrix))\n",
    "\n",
    "print(kraft.cluster(matrix, n_cluster=3))"
   ]
  },
  {
   "cell_type": "markdown",
   "metadata": {},
   "source": [
    "## get_coclustering_distance"
   ]
  },
  {
   "cell_type": "code",
   "execution_count": null,
   "metadata": {},
   "outputs": [],
   "source": [
    "clustering_x_point = np.array(((1, 1, np.nan, np.nan), (0, 0, 1, 1), (1, 0, np.nan, 1)))\n",
    "\n",
    "print(clustering_x_point)\n",
    "\n",
    "print(kraft.get_coclustering_distance(clustering_x_point))"
   ]
  },
  {
   "cell_type": "markdown",
   "metadata": {},
   "source": [
    "## cluster_hierarchical_clusterings"
   ]
  },
  {
   "cell_type": "code",
   "execution_count": null,
   "metadata": {},
   "outputs": [],
   "source": [
    "def simulate(shape):\n",
    "\n",
    "    return pd.DataFrame(\n",
    "        np.random.random_sample(size=shape),\n",
    "        index=(\"Index {}\".format(i) for i in range(shape[0])),\n",
    "        columns=(\"Column {}\".format(i) for i in range(shape[1])),\n",
    "    )"
   ]
  },
  {
   "cell_type": "code",
   "execution_count": null,
   "metadata": {},
   "outputs": [],
   "source": [
    "point_x_dimension = simulate((80, 80))\n",
    "\n",
    "n = point_x_dimension.shape[0]\n",
    "\n",
    "point_x_dimension.iloc[:20:2] *= 1.5\n",
    "\n",
    "point_x_dimension.iloc[20::3] *= 3\n",
    "\n",
    "point_x_dimension.iloc[21::3] /= 3\n",
    "\n",
    "kraft.cluster_hierarchical_clusterings(point_x_dimension, 0, 3)"
   ]
  },
  {
   "cell_type": "code",
   "execution_count": null,
   "metadata": {},
   "outputs": [],
   "source": [
    "point_x_dimension = simulate((80, 80))\n",
    "\n",
    "n = point_x_dimension.shape[1]\n",
    "\n",
    "point_x_dimension.iloc[:, :20:2] *= 1.5\n",
    "\n",
    "point_x_dimension.iloc[:, 20::3] *= 3\n",
    "\n",
    "point_x_dimension.iloc[:, 21::3] /= 3\n",
    "\n",
    "kraft.cluster_hierarchical_clusterings(point_x_dimension, 1, 3)"
   ]
  }
 ],
 "metadata": {
  "kernelspec": {
   "display_name": "Python 3",
   "language": "python",
   "name": "python3"
  },
  "language_info": {
   "codemirror_mode": {
    "name": "ipython",
    "version": 3
   },
   "file_extension": ".py",
   "mimetype": "text/x-python",
   "name": "python",
   "nbconvert_exporter": "python",
   "pygments_lexer": "ipython3",
   "version": "3.7.6"
  }
 },
 "nbformat": 4,
 "nbformat_minor": 4
}
