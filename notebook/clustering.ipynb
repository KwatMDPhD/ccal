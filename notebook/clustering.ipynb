{
 "cells": [
  {
   "cell_type": "code",
   "execution_count": null,
   "metadata": {},
   "outputs": [],
   "source": [
    "%load_ext autoreload\n",
    "%autoreload 2"
   ]
  },
  {
   "cell_type": "code",
   "execution_count": null,
   "metadata": {},
   "outputs": [],
   "source": [
    "import numpy as np\n",
    "import pandas as pd\n",
    "\n",
    "import kraft"
   ]
  },
  {
   "cell_type": "code",
   "execution_count": null,
   "metadata": {},
   "outputs": [],
   "source": [
    "matrix = np.asarray(\n",
    "    [[9, 19, 9, 19, 9], [0, 10, 0, 10, 0], [1, 11, 1, 11, 1], [8, 18, 8, 18, 8],]\n",
    ")\n",
    "\n",
    "matrix"
   ]
  },
  {
   "cell_type": "code",
   "execution_count": null,
   "metadata": {},
   "outputs": [],
   "source": [
    "kraft.cluster(matrix)"
   ]
  },
  {
   "cell_type": "code",
   "execution_count": null,
   "metadata": {},
   "outputs": [],
   "source": [
    "kraft.cluster(matrix, n_cluster=3)"
   ]
  },
  {
   "cell_type": "code",
   "execution_count": null,
   "metadata": {},
   "outputs": [],
   "source": [
    "clustering_x_point = np.array(\n",
    "    [[1, 1, np.nan, np.nan], [0, 0, 1, np.nan], [1, 0, np.nan, 1],]\n",
    ")\n",
    "\n",
    "clustering_x_point"
   ]
  },
  {
   "cell_type": "code",
   "execution_count": null,
   "metadata": {},
   "outputs": [],
   "source": [
    "kraft.get_coclustering_distance(clustering_x_point)"
   ]
  },
  {
   "cell_type": "code",
   "execution_count": null,
   "metadata": {},
   "outputs": [],
   "source": [
    "point_x_dimension = np.random.random_sample(size=(100, 100))\n",
    "\n",
    "point_x_dimension = pd.DataFrame(\n",
    "    point_x_dimension,\n",
    "    index=(\"Index{}\".format(i) for i in range(point_x_dimension.shape[0])),\n",
    "    columns=(\"Column{}\".format(i) for i in range(point_x_dimension.shape[1])),\n",
    ")"
   ]
  },
  {
   "cell_type": "code",
   "execution_count": null,
   "metadata": {},
   "outputs": [],
   "source": [
    "point_x_dimension_ = point_x_dimension.copy()\n",
    "\n",
    "n = point_x_dimension_.shape[0]\n",
    "\n",
    "index = np.arange(n)\n",
    "\n",
    "point_x_dimension_.iloc[:20:2] *= 1.5\n",
    "\n",
    "point_x_dimension_.iloc[20::3] *= 3\n",
    "\n",
    "point_x_dimension_.iloc[21::3] /= 3\n",
    "\n",
    "kraft.cluster_hierarchical_clusterings(point_x_dimension_, 0, 3)"
   ]
  },
  {
   "cell_type": "code",
   "execution_count": null,
   "metadata": {},
   "outputs": [],
   "source": [
    "point_x_dimension_ = point_x_dimension.copy()\n",
    "\n",
    "n = point_x_dimension_.shape[1]\n",
    "\n",
    "index = np.arange(n)\n",
    "\n",
    "point_x_dimension_.iloc[:, :20:2] *= 1.5\n",
    "\n",
    "point_x_dimension_.iloc[:, 20::3] *= 3\n",
    "\n",
    "point_x_dimension_.iloc[:, 21::3] /= 3\n",
    "\n",
    "kraft.cluster_hierarchical_clusterings(point_x_dimension_, 1, 3)"
   ]
  }
 ],
 "metadata": {
  "kernelspec": {
   "display_name": "Python 3",
   "language": "python",
   "name": "python3"
  },
  "language_info": {
   "codemirror_mode": {
    "name": "ipython",
    "version": 3
   },
   "file_extension": ".py",
   "mimetype": "text/x-python",
   "name": "python",
   "nbconvert_exporter": "python",
   "pygments_lexer": "ipython3",
   "version": "3.7.6"
  }
 },
 "nbformat": 4,
 "nbformat_minor": 4
}
