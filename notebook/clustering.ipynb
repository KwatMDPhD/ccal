{
 "cells": [
  {
   "cell_type": "code",
   "execution_count": null,
   "metadata": {},
   "outputs": [],
   "source": [
    "%load_ext autoreload\n",
    "%autoreload 2"
   ]
  },
  {
   "cell_type": "code",
   "execution_count": null,
   "metadata": {},
   "outputs": [],
   "source": [
    "import numpy as np\n",
    "import pandas as pd\n",
    "\n",
    "import kraft"
   ]
  },
  {
   "cell_type": "markdown",
   "metadata": {},
   "source": [
    "## cluster"
   ]
  },
  {
   "cell_type": "code",
   "execution_count": null,
   "metadata": {},
   "outputs": [],
   "source": [
    "point_x_dimension = np.asarray(\n",
    "    ((9, 19, 9, 19, 9), (0, 10, 0, 10, 0), (1, 11, 1, 11, 1), (8, 18, 8, 18, 8))\n",
    ")\n",
    "\n",
    "print(point_x_dimension)\n",
    "\n",
    "for n_cluster in (None, 3):\n",
    "\n",
    "    print(\"=\" * 80)\n",
    "\n",
    "    print(n_cluster)\n",
    "\n",
    "    print(kraft.clustering.cluster(point_x_dimension, n_cluster=n_cluster))"
   ]
  },
  {
   "cell_type": "markdown",
   "metadata": {},
   "source": [
    "## get_coclustering_distance"
   ]
  },
  {
   "cell_type": "code",
   "execution_count": null,
   "metadata": {},
   "outputs": [],
   "source": [
    "point_x_clustering = np.array(\n",
    "    ((1, 1, np.nan, np.nan), (0, 0, 1, 1), (1, 0, np.nan, 1))\n",
    ").T\n",
    "\n",
    "print(point_x_clustering)\n",
    "\n",
    "for min_n_clustered in (0, 1):\n",
    "\n",
    "    print(\"=\" * 80)\n",
    "\n",
    "    print(min_n_clustered)\n",
    "\n",
    "    try:\n",
    "\n",
    "        print(\n",
    "            kraft.clustering.get_coclustering_distance(\n",
    "                point_x_clustering, min_n_clustered\n",
    "            )\n",
    "        )\n",
    "\n",
    "    except AssertionError as error:\n",
    "\n",
    "        print(error)"
   ]
  },
  {
   "cell_type": "markdown",
   "metadata": {},
   "source": [
    "## cluster_hierarchical_clusterings"
   ]
  },
  {
   "cell_type": "code",
   "execution_count": null,
   "metadata": {},
   "outputs": [],
   "source": [
    "point_x_dimension = np.random.random_sample(size=(80, 160))\n",
    "\n",
    "point_x_dimension[0::4, :] *= 1\n",
    "\n",
    "point_x_dimension[1::4, :] *= 2\n",
    "\n",
    "point_x_dimension[2::4, :] *= 3\n",
    "\n",
    "point_x_dimension[3::4, :] *= 4\n",
    "\n",
    "\n",
    "point_x_dimension = pd.DataFrame(\n",
    "    point_x_dimension,\n",
    "    index=pd.Index(\n",
    "        (\"Label {}\".format(i) for i in range(point_x_dimension.shape[0])), name=\"Axis 0\"\n",
    "    ),\n",
    "    columns=pd.Index(\n",
    "        (\"Lbael {}\".format(i) for i in range(point_x_dimension.shape[1])), name=\"Axis 1\"\n",
    "    ),\n",
    ")\n",
    "\n",
    "for n_cluster in (2, 3, 4):\n",
    "\n",
    "    for optimal_ordering in (False, True):\n",
    "\n",
    "        print(\"=\" * 80)\n",
    "\n",
    "        print(n_cluster, optimal_ordering)\n",
    "\n",
    "        kraft.clustering.cluster_hierarchical_clusterings(\n",
    "            point_x_dimension, n_cluster, optimal_ordering=optimal_ordering\n",
    "        )"
   ]
  }
 ],
 "metadata": {
  "kernelspec": {
   "display_name": "Python 3",
   "language": "python",
   "name": "python3"
  },
  "language_info": {
   "codemirror_mode": {
    "name": "ipython",
    "version": 3
   },
   "file_extension": ".py",
   "mimetype": "text/x-python",
   "name": "python",
   "nbconvert_exporter": "python",
   "pygments_lexer": "ipython3",
   "version": "3.7.8"
  }
 },
 "nbformat": 4,
 "nbformat_minor": 4
}
