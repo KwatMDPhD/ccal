{
 "cells": [
  {
   "cell_type": "code",
   "execution_count": null,
   "metadata": {
    "ExecuteTime": {
     "end_time": "2018-05-15T09:28:54.601864Z",
     "start_time": "2018-05-15T09:28:54.554930Z"
    }
   },
   "outputs": [],
   "source": [
    "%load_ext autoreload\n",
    "%autoreload 2"
   ]
  },
  {
   "cell_type": "code",
   "execution_count": null,
   "metadata": {},
   "outputs": [],
   "source": [
    "import os\n",
    "import shutil\n",
    "import sys\n",
    "\n",
    "import numpy as np\n",
    "import pandas as pd\n",
    "import plotly as pl"
   ]
  },
  {
   "cell_type": "code",
   "execution_count": null,
   "metadata": {
    "ExecuteTime": {
     "end_time": "2018-05-15T09:28:55.357235Z",
     "start_time": "2018-05-15T09:28:54.606560Z"
    }
   },
   "outputs": [],
   "source": [
    "sys.path.insert(0, \"..\")\n",
    "\n",
    "np.random.random(20121020)\n",
    "\n",
    "pl.offline.init_notebook_mode(connected=True)"
   ]
  },
  {
   "cell_type": "code",
   "execution_count": null,
   "metadata": {
    "ExecuteTime": {
     "end_time": "2018-05-15T09:28:55.668422Z",
     "start_time": "2018-05-15T09:28:55.428950Z"
    }
   },
   "outputs": [],
   "source": [
    "n_row = 32\n",
    "\n",
    "n_column = 64\n",
    "\n",
    "df = pd.DataFrame(\n",
    "    np.random.random_sample(size=(n_row, n_column)),\n",
    "    index=pd.Index((\"Index {}\".format(i) for i in range(n_row)), name=\"DF Row\"),\n",
    "    columns=pd.Index(\n",
    "        (\"Column {}\".format(i) for i in range(n_column)), name=\"DF Column\"\n",
    "    ),\n",
    ")\n",
    "\n",
    "df"
   ]
  },
  {
   "cell_type": "code",
   "execution_count": null,
   "metadata": {},
   "outputs": [],
   "source": [
    "ks = (2, 4, 8)\n",
    "\n",
    "k = \"K{}\".format(ks[0])"
   ]
  },
  {
   "cell_type": "code",
   "execution_count": null,
   "metadata": {},
   "outputs": [],
   "source": [
    "n_job = 3"
   ]
  },
  {
   "cell_type": "code",
   "execution_count": null,
   "metadata": {},
   "outputs": [],
   "source": [
    "from clustering.support.support.path import establish_path"
   ]
  },
  {
   "cell_type": "code",
   "execution_count": null,
   "metadata": {
    "ExecuteTime": {
     "end_time": "2018-05-15T09:28:57.731699Z",
     "start_time": "2018-05-15T09:28:55.737405Z"
    }
   },
   "outputs": [],
   "source": [
    "from clustering.hierarchical_consensus_cluster import hierarchical_consensus_cluster\n",
    "\n",
    "establish_path(hierarchical_consensus_cluster.__name__, \"directory\")\n",
    "\n",
    "column_cluster, column_cluster__ccc = hierarchical_consensus_cluster(\n",
    "    df, ks[0], directory_path=hierarchical_consensus_cluster.__name__\n",
    ")"
   ]
  },
  {
   "cell_type": "code",
   "execution_count": null,
   "metadata": {},
   "outputs": [],
   "source": [
    "column_cluster"
   ]
  },
  {
   "cell_type": "code",
   "execution_count": null,
   "metadata": {},
   "outputs": [],
   "source": [
    "column_cluster__ccc"
   ]
  },
  {
   "cell_type": "code",
   "execution_count": null,
   "metadata": {
    "ExecuteTime": {
     "end_time": "2018-05-15T09:28:59.510877Z",
     "start_time": "2018-05-15T09:28:58.281886Z"
    }
   },
   "outputs": [],
   "source": [
    "from clustering.hierarchical_consensus_cluster_with_ks import (\n",
    "    hierarchical_consensus_cluster_with_ks,\n",
    ")\n",
    "\n",
    "establish_path(hierarchical_consensus_cluster_with_ks.__name__, \"directory\")\n",
    "\n",
    "k_return = hierarchical_consensus_cluster_with_ks(\n",
    "    df, ks, n_job=n_job, directory_path=hierarchical_consensus_cluster_with_ks.__name__\n",
    ")\n",
    "\n",
    "k_return[k].keys()"
   ]
  },
  {
   "cell_type": "code",
   "execution_count": null,
   "metadata": {},
   "outputs": [],
   "source": [
    "k_return[k][\"column_cluster\"]"
   ]
  },
  {
   "cell_type": "code",
   "execution_count": null,
   "metadata": {},
   "outputs": [],
   "source": [
    "k_return[k][\"column_cluster.ccc\"]"
   ]
  },
  {
   "cell_type": "code",
   "execution_count": null,
   "metadata": {
    "ExecuteTime": {
     "end_time": "2018-05-15T09:29:06.750210Z",
     "start_time": "2018-05-15T09:29:00.185608Z"
    }
   },
   "outputs": [],
   "source": [
    "from clustering.nmf_consensus_cluster import nmf_consensus_cluster\n",
    "\n",
    "establish_path(nmf_consensus_cluster.__name__, \"directory\")\n",
    "\n",
    "w, h, e, w_element_cluster, w_element_cluster__ccc, h_element_cluster, h_element_cluster__ccc = nmf_consensus_cluster(\n",
    "    df, ks[0], directory_path=nmf_consensus_cluster.__name__\n",
    ")"
   ]
  },
  {
   "cell_type": "code",
   "execution_count": null,
   "metadata": {
    "ExecuteTime": {
     "end_time": "2018-05-15T09:29:06.942006Z",
     "start_time": "2018-05-15T09:29:06.753031Z"
    }
   },
   "outputs": [],
   "source": [
    "w"
   ]
  },
  {
   "cell_type": "code",
   "execution_count": null,
   "metadata": {
    "ExecuteTime": {
     "end_time": "2018-05-15T09:29:07.086179Z",
     "start_time": "2018-05-15T09:29:06.947335Z"
    }
   },
   "outputs": [],
   "source": [
    "h"
   ]
  },
  {
   "cell_type": "code",
   "execution_count": null,
   "metadata": {
    "ExecuteTime": {
     "end_time": "2018-05-15T09:29:07.214197Z",
     "start_time": "2018-05-15T09:29:07.091699Z"
    }
   },
   "outputs": [],
   "source": [
    "e"
   ]
  },
  {
   "cell_type": "code",
   "execution_count": null,
   "metadata": {
    "ExecuteTime": {
     "end_time": "2018-05-15T09:29:07.314397Z",
     "start_time": "2018-05-15T09:29:07.220362Z"
    }
   },
   "outputs": [],
   "source": [
    "w_element_cluster"
   ]
  },
  {
   "cell_type": "code",
   "execution_count": null,
   "metadata": {
    "ExecuteTime": {
     "end_time": "2018-05-15T09:29:07.400898Z",
     "start_time": "2018-05-15T09:29:07.319282Z"
    }
   },
   "outputs": [],
   "source": [
    "w_element_cluster__ccc"
   ]
  },
  {
   "cell_type": "code",
   "execution_count": null,
   "metadata": {},
   "outputs": [],
   "source": [
    "h_element_cluster"
   ]
  },
  {
   "cell_type": "code",
   "execution_count": null,
   "metadata": {},
   "outputs": [],
   "source": [
    "h_element_cluster__ccc"
   ]
  },
  {
   "cell_type": "code",
   "execution_count": null,
   "metadata": {
    "ExecuteTime": {
     "end_time": "2018-05-15T09:29:23.043947Z",
     "start_time": "2018-05-15T09:29:07.406319Z"
    }
   },
   "outputs": [],
   "source": [
    "from clustering.nmf_consensus_cluster_with_ks import nmf_consensus_cluster_with_ks\n",
    "\n",
    "establish_path(nmf_consensus_cluster_with_ks.__name__, \"directory\")\n",
    "\n",
    "k_return = nmf_consensus_cluster_with_ks(\n",
    "    df, ks, n_job=n_job, directory_path=nmf_consensus_cluster_with_ks.__name__\n",
    ")\n",
    "\n",
    "k_return[k].keys()"
   ]
  },
  {
   "cell_type": "code",
   "execution_count": null,
   "metadata": {},
   "outputs": [],
   "source": [
    "k_return[k][\"w\"]"
   ]
  },
  {
   "cell_type": "code",
   "execution_count": null,
   "metadata": {},
   "outputs": [],
   "source": [
    "k_return[k][\"h\"]"
   ]
  },
  {
   "cell_type": "code",
   "execution_count": null,
   "metadata": {},
   "outputs": [],
   "source": [
    "k_return[k][\"e\"]"
   ]
  },
  {
   "cell_type": "code",
   "execution_count": null,
   "metadata": {},
   "outputs": [],
   "source": [
    "k_return[k][\"w_element_cluster\"]"
   ]
  },
  {
   "cell_type": "code",
   "execution_count": null,
   "metadata": {},
   "outputs": [],
   "source": [
    "k_return[k][\"w_element_cluster.ccc\"]"
   ]
  },
  {
   "cell_type": "code",
   "execution_count": null,
   "metadata": {},
   "outputs": [],
   "source": [
    "k_return[k][\"h_element_cluster\"]"
   ]
  },
  {
   "cell_type": "code",
   "execution_count": null,
   "metadata": {},
   "outputs": [],
   "source": [
    "k_return[k][\"h_element_cluster.ccc\"]"
   ]
  },
  {
   "cell_type": "code",
   "execution_count": null,
   "metadata": {},
   "outputs": [],
   "source": [
    "shutil.rmtree(hierarchical_consensus_cluster.__name__)\n",
    "\n",
    "shutil.rmtree(hierarchical_consensus_cluster_with_ks.__name__)\n",
    "\n",
    "shutil.rmtree(nmf_consensus_cluster.__name__)\n",
    "\n",
    "shutil.rmtree(nmf_consensus_cluster_with_ks.__name__)"
   ]
  }
 ],
 "metadata": {
  "kernelspec": {
   "display_name": "Python 3",
   "language": "python",
   "name": "python3"
  },
  "language_info": {
   "codemirror_mode": {
    "name": "ipython",
    "version": 3
   },
   "file_extension": ".py",
   "mimetype": "text/x-python",
   "name": "python",
   "nbconvert_exporter": "python",
   "pygments_lexer": "ipython3",
   "version": "3.6.7"
  }
 },
 "nbformat": 4,
 "nbformat_minor": 2
}
