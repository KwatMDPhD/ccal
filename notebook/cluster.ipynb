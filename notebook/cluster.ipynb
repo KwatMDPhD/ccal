{
 "cells": [
  {
   "cell_type": "code",
   "execution_count": null,
   "metadata": {
    "ExecuteTime": {
     "end_time": "2018-05-15T09:28:55.668422Z",
     "start_time": "2018-05-15T09:28:55.428950Z"
    }
   },
   "outputs": [],
   "source": [
    "import os\n",
    "\n",
    "import numpy as np\n",
    "import pandas as pd\n",
    "\n",
    "import kraft"
   ]
  },
  {
   "cell_type": "code",
   "execution_count": null,
   "metadata": {
    "ExecuteTime": {
     "end_time": "2018-05-15T09:28:55.668422Z",
     "start_time": "2018-05-15T09:28:55.428950Z"
    }
   },
   "outputs": [],
   "source": [
    "n_row = 50\n",
    "\n",
    "n_column = 100\n",
    "\n",
    "dataframe = pd.DataFrame(\n",
    "    np.random.random_sample(size=(n_row, n_column)),\n",
    "    index=pd.Index((\"Row {}\".format(i) for i in range(n_row)), name=\"Row\"),\n",
    "    columns=pd.Index((\"Column {}\".format(i) for i in range(n_column)), name=\"Column\"),\n",
    ")\n",
    "\n",
    "dataframe[dataframe.columns[::2]] *= 2\n",
    "\n",
    "dataframe.loc[dataframe.index[::2]] *= 2\n",
    "\n",
    "ks = (2, 3, 4)\n",
    "\n",
    "k = 3\n",
    "\n",
    "k_key = \"K{}\".format(k)\n",
    "\n",
    "n_job = 1"
   ]
  },
  {
   "cell_type": "code",
   "execution_count": null,
   "metadata": {
    "ExecuteTime": {
     "end_time": "2018-05-15T09:28:57.731699Z",
     "start_time": "2018-05-15T09:28:55.737405Z"
    }
   },
   "outputs": [],
   "source": [
    "directory_path = kraft.hierarchical_consensus_cluster_dataframe.__name__\n",
    "\n",
    "if not os.path.isdir(directory_path):\n",
    "\n",
    "    os.mkdir(directory_path)\n",
    "\n",
    "for axis in (0, 1):\n",
    "\n",
    "    element_cluster, element_cluster__ccc = kraft.hierarchical_consensus_cluster_dataframe(\n",
    "        dataframe, k, axis, directory_path=directory_path\n",
    "    )"
   ]
  },
  {
   "cell_type": "code",
   "execution_count": null,
   "metadata": {
    "ExecuteTime": {
     "end_time": "2018-05-15T09:28:57.731699Z",
     "start_time": "2018-05-15T09:28:55.737405Z"
    }
   },
   "outputs": [],
   "source": [
    "element_cluster"
   ]
  },
  {
   "cell_type": "code",
   "execution_count": null,
   "metadata": {
    "ExecuteTime": {
     "end_time": "2018-05-15T09:28:57.731699Z",
     "start_time": "2018-05-15T09:28:55.737405Z"
    }
   },
   "outputs": [],
   "source": [
    "element_cluster__ccc"
   ]
  },
  {
   "cell_type": "code",
   "execution_count": null,
   "metadata": {
    "ExecuteTime": {
     "end_time": "2018-05-15T09:28:59.510877Z",
     "start_time": "2018-05-15T09:28:58.281886Z"
    }
   },
   "outputs": [],
   "source": [
    "directory_path = kraft.hierarchical_consensus_cluster_dataframe_with_ks.__name__\n",
    "\n",
    "for axis in (1, 0):\n",
    "\n",
    "    k_return = kraft.hierarchical_consensus_cluster_dataframe_with_ks(\n",
    "        dataframe, ks, axis, n_job=n_job, directory_path=directory_path\n",
    "    )\n",
    "\n",
    "k_return[k_key].keys()"
   ]
  },
  {
   "cell_type": "code",
   "execution_count": null,
   "metadata": {},
   "outputs": [],
   "source": [
    "k_return[k_key][\"element_cluster\"]"
   ]
  },
  {
   "cell_type": "code",
   "execution_count": null,
   "metadata": {},
   "outputs": [],
   "source": [
    "k_return[k_key][\"element_cluster.ccc\"]"
   ]
  },
  {
   "cell_type": "code",
   "execution_count": null,
   "metadata": {
    "ExecuteTime": {
     "end_time": "2018-05-15T09:29:06.750210Z",
     "start_time": "2018-05-15T09:29:00.185608Z"
    }
   },
   "outputs": [],
   "source": [
    "directory_path = kraft.mf_consensus_cluster_dataframe.__name__\n",
    "\n",
    "if not os.path.isdir(directory_path):\n",
    "\n",
    "    os.mkdir(directory_path)\n",
    "\n",
    "w, h, e, w_element_cluster, w_element_cluster__ccc, h_element_cluster, h_element_cluster__ccc = kraft.mf_consensus_cluster_dataframe(\n",
    "    dataframe, k, directory_path=directory_path\n",
    ")"
   ]
  },
  {
   "cell_type": "code",
   "execution_count": null,
   "metadata": {
    "ExecuteTime": {
     "end_time": "2018-05-15T09:29:06.942006Z",
     "start_time": "2018-05-15T09:29:06.753031Z"
    }
   },
   "outputs": [],
   "source": [
    "w"
   ]
  },
  {
   "cell_type": "code",
   "execution_count": null,
   "metadata": {
    "ExecuteTime": {
     "end_time": "2018-05-15T09:29:07.086179Z",
     "start_time": "2018-05-15T09:29:06.947335Z"
    }
   },
   "outputs": [],
   "source": [
    "h"
   ]
  },
  {
   "cell_type": "code",
   "execution_count": null,
   "metadata": {
    "ExecuteTime": {
     "end_time": "2018-05-15T09:29:07.214197Z",
     "start_time": "2018-05-15T09:29:07.091699Z"
    }
   },
   "outputs": [],
   "source": [
    "e"
   ]
  },
  {
   "cell_type": "code",
   "execution_count": null,
   "metadata": {
    "ExecuteTime": {
     "end_time": "2018-05-15T09:29:07.314397Z",
     "start_time": "2018-05-15T09:29:07.220362Z"
    }
   },
   "outputs": [],
   "source": [
    "w_element_cluster"
   ]
  },
  {
   "cell_type": "code",
   "execution_count": null,
   "metadata": {
    "ExecuteTime": {
     "end_time": "2018-05-15T09:29:07.400898Z",
     "start_time": "2018-05-15T09:29:07.319282Z"
    }
   },
   "outputs": [],
   "source": [
    "w_element_cluster__ccc"
   ]
  },
  {
   "cell_type": "code",
   "execution_count": null,
   "metadata": {},
   "outputs": [],
   "source": [
    "h_element_cluster"
   ]
  },
  {
   "cell_type": "code",
   "execution_count": null,
   "metadata": {},
   "outputs": [],
   "source": [
    "h_element_cluster__ccc"
   ]
  },
  {
   "cell_type": "code",
   "execution_count": null,
   "metadata": {
    "ExecuteTime": {
     "end_time": "2018-05-15T09:29:23.043947Z",
     "start_time": "2018-05-15T09:29:07.406319Z"
    }
   },
   "outputs": [],
   "source": [
    "directory_path = kraft.mf_consensus_cluster_dataframe_with_ks.__name__\n",
    "\n",
    "k_return = kraft.mf_consensus_cluster_dataframe_with_ks(\n",
    "    dataframe, ks, n_job=n_job, directory_path=directory_path\n",
    ")\n",
    "\n",
    "k_return[k_key].keys()"
   ]
  },
  {
   "cell_type": "code",
   "execution_count": null,
   "metadata": {},
   "outputs": [],
   "source": [
    "k_return[k_key][\"w\"]"
   ]
  },
  {
   "cell_type": "code",
   "execution_count": null,
   "metadata": {},
   "outputs": [],
   "source": [
    "k_return[k_key][\"h\"]"
   ]
  },
  {
   "cell_type": "code",
   "execution_count": null,
   "metadata": {},
   "outputs": [],
   "source": [
    "k_return[k_key][\"e\"]"
   ]
  },
  {
   "cell_type": "code",
   "execution_count": null,
   "metadata": {},
   "outputs": [],
   "source": [
    "k_return[k_key][\"w_element_cluster\"]"
   ]
  },
  {
   "cell_type": "code",
   "execution_count": null,
   "metadata": {},
   "outputs": [],
   "source": [
    "k_return[k_key][\"w_element_cluster.ccc\"]"
   ]
  },
  {
   "cell_type": "code",
   "execution_count": null,
   "metadata": {},
   "outputs": [],
   "source": [
    "k_return[k_key][\"h_element_cluster\"]"
   ]
  },
  {
   "cell_type": "code",
   "execution_count": null,
   "metadata": {},
   "outputs": [],
   "source": [
    "k_return[k_key][\"h_element_cluster.ccc\"]"
   ]
  },
  {
   "cell_type": "code",
   "execution_count": 34,
   "metadata": {},
   "outputs": [
    {
     "name": "stdout",
     "output_type": "stream",
     "text": [
      "passed.\n",
      "passed.\n",
      "passed.\n"
     ]
    }
   ],
   "source": [
    "from unittest import TestCase\n",
    "from copy import deepcopy\n",
    "\n",
    "\n",
    "def dict_merge(dct, merge_dct, add_keys=True):\n",
    "    \n",
    "    dct = deepcopy(dct)\n",
    "    \n",
    "    if not add_keys:\n",
    "        \n",
    "        merge_dct = {\n",
    "            k: merge_dct[k]\n",
    "            for k in set(dct).intersection(set(merge_dct))\n",
    "        }\n",
    "        \n",
    "        \n",
    "    for k, v in merge_dct.items():\n",
    "        \n",
    "        if isinstance(dct.get(k), dict) and isinstance(v, dict):\n",
    "            \n",
    "            dct[k] = dict_merge(dct[k], v, add_keys=add_keys)\n",
    "            \n",
    "        else:\n",
    "            \n",
    "            dct[k] = v\n",
    "\n",
    "    return dct\n",
    "\n",
    "\n",
    "class DictMergeTestCase(TestCase):\n",
    "    \n",
    "    def test_merges_dicts(self):\n",
    "        a = {\n",
    "            'a': 1,\n",
    "            'b': {\n",
    "                'b1': 2,\n",
    "                'b2': 3,\n",
    "            },\n",
    "        }\n",
    "        b = {\n",
    "            'a': 1,\n",
    "            'b': {\n",
    "                'b1': 4,\n",
    "            },\n",
    "        }\n",
    "\n",
    "        assert dict_merge(a, b)['a'] == 1\n",
    "        assert dict_merge(a, b)['b']['b2'] == 3\n",
    "        assert dict_merge(a, b)['b']['b1'] == 4\n",
    "        print(\"passed.\")\n",
    "\n",
    "    def test_inserts_new_keys(self):\n",
    "        \"\"\"Will it insert new keys by default?\"\"\"\n",
    "        a = {\n",
    "            'a': 1,\n",
    "            'b': {\n",
    "                'b1': 2,\n",
    "                'b2': 3,\n",
    "            },\n",
    "        }\n",
    "        b = {\n",
    "            'a': 1,\n",
    "            'b': {\n",
    "                'b1': 4,\n",
    "                'b3': 5\n",
    "            },\n",
    "            'c': 6,\n",
    "        }\n",
    "\n",
    "        assert dict_merge(a, b)['a'] == 1\n",
    "        assert dict_merge(a, b)['b']['b2'] == 3\n",
    "        assert dict_merge(a, b)['b']['b1'] == 4\n",
    "        assert dict_merge(a, b)['b']['b3'] == 5\n",
    "        assert dict_merge(a, b)['c'] == 6\n",
    "        print(\"passed.\")\n",
    "\n",
    "    def test_does_not_insert_new_keys(self):\n",
    "        \"\"\"Will it avoid inserting new keys when required?\"\"\"\n",
    "        a = {\n",
    "            'a': 1,\n",
    "            'b': {\n",
    "                'b1': 2,\n",
    "                'b2': 3,\n",
    "            },\n",
    "        }\n",
    "        b = {\n",
    "            'a': 1,\n",
    "            'b': {\n",
    "                'b1': 4,\n",
    "                'b3': 5,\n",
    "            },\n",
    "            'c': 6,\n",
    "        }\n",
    "\n",
    "        assert dict_merge(a, b, add_keys=False)['a'] == 1\n",
    "        assert dict_merge(a, b, add_keys=False)['b']['b2'] == 3\n",
    "        assert dict_merge(a, b, add_keys=False)['b']['b1'] == 4\n",
    "        try:\n",
    "            assert dict_merge(a, b, add_keys=False)['b']['b3'] == 5\n",
    "        except KeyError:\n",
    "            pass\n",
    "        else:\n",
    "            raise Exception('New keys added when they should not be')\n",
    "\n",
    "        try:\n",
    "            assert dict_merge(a, b, add_keys=False)['b']['b3'] == 6\n",
    "        except KeyError:\n",
    "            pass\n",
    "        else:\n",
    "            raise Exception('New keys added when they should not be')\n",
    "        print(\"passed.\")\n",
    "\n",
    "a = DictMergeTestCase()\n",
    "a.test_merges_dicts()\n",
    "a.test_inserts_new_keys()\n",
    "a.test_does_not_insert_new_keys()"
   ]
  },
  {
   "cell_type": "code",
   "execution_count": null,
   "metadata": {},
   "outputs": [],
   "source": []
  }
 ],
 "metadata": {
  "kernelspec": {
   "display_name": "Python 3",
   "language": "python",
   "name": "python3"
  },
  "language_info": {
   "codemirror_mode": {
    "name": "ipython",
    "version": 3
   },
   "file_extension": ".py",
   "mimetype": "text/x-python",
   "name": "python",
   "nbconvert_exporter": "python",
   "pygments_lexer": "ipython3",
   "version": "3.7.3"
  }
 },
 "nbformat": 4,
 "nbformat_minor": 4
}
