{
 "cells": [
  {
   "cell_type": "code",
   "execution_count": null,
   "metadata": {},
   "outputs": [],
   "source": [
    "import plotly"
   ]
  },
  {
   "cell_type": "code",
   "execution_count": null,
   "metadata": {},
   "outputs": [],
   "source": [
    "plotly.offline.init_notebook_mode(connected=True)"
   ]
  },
  {
   "cell_type": "code",
   "execution_count": null,
   "metadata": {
    "ExecuteTime": {
     "end_time": "2018-05-15T09:28:55.357235Z",
     "start_time": "2018-05-15T09:28:54.606560Z"
    }
   },
   "outputs": [],
   "source": [
    "import numpy as np"
   ]
  },
  {
   "cell_type": "code",
   "execution_count": null,
   "metadata": {
    "ExecuteTime": {
     "end_time": "2018-05-15T09:28:55.357235Z",
     "start_time": "2018-05-15T09:28:54.606560Z"
    }
   },
   "outputs": [],
   "source": [
    "import ccal"
   ]
  },
  {
   "cell_type": "code",
   "execution_count": null,
   "metadata": {
    "ExecuteTime": {
     "end_time": "2018-05-15T09:28:55.357235Z",
     "start_time": "2018-05-15T09:28:54.606560Z"
    }
   },
   "outputs": [],
   "source": [
    "np.random.seed(seed=ccal.RANDOM_SEED)"
   ]
  },
  {
   "cell_type": "code",
   "execution_count": null,
   "metadata": {
    "ExecuteTime": {
     "end_time": "2018-05-15T09:28:55.668422Z",
     "start_time": "2018-05-15T09:28:55.428950Z"
    }
   },
   "outputs": [],
   "source": [
    "import pandas as pd"
   ]
  },
  {
   "cell_type": "code",
   "execution_count": null,
   "metadata": {
    "ExecuteTime": {
     "end_time": "2018-05-15T09:28:55.668422Z",
     "start_time": "2018-05-15T09:28:55.428950Z"
    }
   },
   "outputs": [],
   "source": [
    "n_row = 24\n",
    "\n",
    "n_column = 16\n",
    "\n",
    "df = pd.DataFrame(\n",
    "    np.random.random_sample(size=(n_row, n_column)),\n",
    "    index=pd.Index((\"Row {}\".format(i) for i in range(n_row)), name=\"Row\"),\n",
    "    columns=pd.Index((\"Column {}\".format(i) for i in range(n_column)), name=\"Column\"),\n",
    ")\n",
    "\n",
    "df[df.columns[::2]] *= 2\n",
    "\n",
    "df.loc[df.index[::2]] *= 2\n",
    "\n",
    "ks = (2, 3, 4)\n",
    "\n",
    "k = 3\n",
    "\n",
    "k_key = \"K{}\".format(k)\n",
    "\n",
    "n_job = 3"
   ]
  },
  {
   "cell_type": "code",
   "execution_count": null,
   "metadata": {},
   "outputs": [],
   "source": [
    "ks = (2, 3, 4)\n",
    "\n",
    "k = 3\n",
    "\n",
    "k_key = \"K{}\".format(k)\n",
    "\n",
    "n_job = 3"
   ]
  },
  {
   "cell_type": "code",
   "execution_count": null,
   "metadata": {
    "ExecuteTime": {
     "end_time": "2018-05-15T09:28:57.731699Z",
     "start_time": "2018-05-15T09:28:55.737405Z"
    }
   },
   "outputs": [],
   "source": [
    "import os"
   ]
  },
  {
   "cell_type": "code",
   "execution_count": null,
   "metadata": {
    "ExecuteTime": {
     "end_time": "2018-05-15T09:28:57.731699Z",
     "start_time": "2018-05-15T09:28:55.737405Z"
    }
   },
   "outputs": [],
   "source": [
    "directory_path = os.path.join(\n",
    "    ccal.normalize_path(\"~\"), ccal.hierarchical_consensus_cluster.__name__\n",
    ")\n",
    "\n",
    "if not os.path.isdir(directory_path):\n",
    "\n",
    "    os.mkdir(directory_path)\n",
    "\n",
    "for axis in (0, 1):\n",
    "\n",
    "    element_cluster, element_cluster__ccc = ccal.hierarchical_consensus_cluster(\n",
    "        df, k, axis, directory_path=directory_path\n",
    "    )"
   ]
  },
  {
   "cell_type": "code",
   "execution_count": null,
   "metadata": {
    "ExecuteTime": {
     "end_time": "2018-05-15T09:28:57.731699Z",
     "start_time": "2018-05-15T09:28:55.737405Z"
    }
   },
   "outputs": [],
   "source": [
    "element_cluster"
   ]
  },
  {
   "cell_type": "code",
   "execution_count": null,
   "metadata": {
    "ExecuteTime": {
     "end_time": "2018-05-15T09:28:57.731699Z",
     "start_time": "2018-05-15T09:28:55.737405Z"
    }
   },
   "outputs": [],
   "source": [
    "element_cluster__ccc"
   ]
  },
  {
   "cell_type": "code",
   "execution_count": null,
   "metadata": {
    "ExecuteTime": {
     "end_time": "2018-05-15T09:28:59.510877Z",
     "start_time": "2018-05-15T09:28:58.281886Z"
    }
   },
   "outputs": [],
   "source": [
    "directory_path = os.path.join(\n",
    "    ccal.normalize_path(\"~\"), ccal.hierarchical_consensus_cluster_with_ks.__name__\n",
    ")\n",
    "\n",
    "if not os.path.isdir(directory_path):\n",
    "\n",
    "    os.mkdir(directory_path)\n",
    "\n",
    "for axis in (1, 0):\n",
    "\n",
    "    k_return = ccal.hierarchical_consensus_cluster_with_ks(\n",
    "        df, ks, axis, n_job=n_job, directory_path=directory_path\n",
    "    )\n",
    "\n",
    "k_return[k_key].keys()"
   ]
  },
  {
   "cell_type": "code",
   "execution_count": null,
   "metadata": {},
   "outputs": [],
   "source": [
    "k_return[k_key][\"element_cluster\"]"
   ]
  },
  {
   "cell_type": "code",
   "execution_count": null,
   "metadata": {},
   "outputs": [],
   "source": [
    "k_return[k_key][\"element_cluster.ccc\"]"
   ]
  },
  {
   "cell_type": "code",
   "execution_count": null,
   "metadata": {
    "ExecuteTime": {
     "end_time": "2018-05-15T09:29:06.750210Z",
     "start_time": "2018-05-15T09:29:00.185608Z"
    }
   },
   "outputs": [],
   "source": [
    "directory_path = os.path.join(\n",
    "    ccal.normalize_path(\"~\"), ccal.mf_consensus_cluster.__name__\n",
    ")\n",
    "\n",
    "if not os.path.isdir(directory_path):\n",
    "\n",
    "    os.mkdir(directory_path)\n",
    "\n",
    "w, h, e, w_element_cluster, w_element_cluster__ccc, h_element_cluster, h_element_cluster__ccc = ccal.mf_consensus_cluster(\n",
    "    df, k, directory_path=directory_path\n",
    ")"
   ]
  },
  {
   "cell_type": "code",
   "execution_count": null,
   "metadata": {
    "ExecuteTime": {
     "end_time": "2018-05-15T09:29:06.942006Z",
     "start_time": "2018-05-15T09:29:06.753031Z"
    }
   },
   "outputs": [],
   "source": [
    "w"
   ]
  },
  {
   "cell_type": "code",
   "execution_count": null,
   "metadata": {
    "ExecuteTime": {
     "end_time": "2018-05-15T09:29:07.086179Z",
     "start_time": "2018-05-15T09:29:06.947335Z"
    }
   },
   "outputs": [],
   "source": [
    "h"
   ]
  },
  {
   "cell_type": "code",
   "execution_count": null,
   "metadata": {
    "ExecuteTime": {
     "end_time": "2018-05-15T09:29:07.214197Z",
     "start_time": "2018-05-15T09:29:07.091699Z"
    }
   },
   "outputs": [],
   "source": [
    "e"
   ]
  },
  {
   "cell_type": "code",
   "execution_count": null,
   "metadata": {
    "ExecuteTime": {
     "end_time": "2018-05-15T09:29:07.314397Z",
     "start_time": "2018-05-15T09:29:07.220362Z"
    }
   },
   "outputs": [],
   "source": [
    "w_element_cluster"
   ]
  },
  {
   "cell_type": "code",
   "execution_count": null,
   "metadata": {
    "ExecuteTime": {
     "end_time": "2018-05-15T09:29:07.400898Z",
     "start_time": "2018-05-15T09:29:07.319282Z"
    }
   },
   "outputs": [],
   "source": [
    "w_element_cluster__ccc"
   ]
  },
  {
   "cell_type": "code",
   "execution_count": null,
   "metadata": {},
   "outputs": [],
   "source": [
    "h_element_cluster"
   ]
  },
  {
   "cell_type": "code",
   "execution_count": null,
   "metadata": {},
   "outputs": [],
   "source": [
    "h_element_cluster__ccc"
   ]
  },
  {
   "cell_type": "code",
   "execution_count": null,
   "metadata": {
    "ExecuteTime": {
     "end_time": "2018-05-15T09:29:23.043947Z",
     "start_time": "2018-05-15T09:29:07.406319Z"
    }
   },
   "outputs": [],
   "source": [
    "directory_path = os.path.join(\n",
    "    ccal.normalize_path(\"~\"), ccal.mf_consensus_cluster_with_ks.__name__\n",
    ")\n",
    "\n",
    "if not os.path.isdir(directory_path):\n",
    "\n",
    "    os.mkdir(directory_path)\n",
    "\n",
    "k_return = ccal.mf_consensus_cluster_with_ks(\n",
    "    df, ks, n_job=n_job, directory_path=directory_path\n",
    ")\n",
    "\n",
    "k_return[k_key].keys()"
   ]
  },
  {
   "cell_type": "code",
   "execution_count": null,
   "metadata": {},
   "outputs": [],
   "source": [
    "k_return[k_key][\"w\"]"
   ]
  },
  {
   "cell_type": "code",
   "execution_count": null,
   "metadata": {},
   "outputs": [],
   "source": [
    "k_return[k_key][\"h\"]"
   ]
  },
  {
   "cell_type": "code",
   "execution_count": null,
   "metadata": {},
   "outputs": [],
   "source": [
    "k_return[k_key][\"e\"]"
   ]
  },
  {
   "cell_type": "code",
   "execution_count": null,
   "metadata": {},
   "outputs": [],
   "source": [
    "k_return[k_key][\"w_element_cluster\"]"
   ]
  },
  {
   "cell_type": "code",
   "execution_count": null,
   "metadata": {},
   "outputs": [],
   "source": [
    "k_return[k_key][\"w_element_cluster.ccc\"]"
   ]
  },
  {
   "cell_type": "code",
   "execution_count": null,
   "metadata": {},
   "outputs": [],
   "source": [
    "k_return[k_key][\"h_element_cluster\"]"
   ]
  },
  {
   "cell_type": "code",
   "execution_count": null,
   "metadata": {},
   "outputs": [],
   "source": [
    "k_return[k_key][\"h_element_cluster.ccc\"]"
   ]
  }
 ],
 "metadata": {
  "kernelspec": {
   "display_name": "Python 3",
   "language": "python",
   "name": "python3"
  },
  "language_info": {
   "codemirror_mode": {
    "name": "ipython",
    "version": 3
   },
   "file_extension": ".py",
   "mimetype": "text/x-python",
   "name": "python",
   "nbconvert_exporter": "python",
   "pygments_lexer": "ipython3",
   "version": "3.6.7"
  }
 },
 "nbformat": 4,
 "nbformat_minor": 2
}
