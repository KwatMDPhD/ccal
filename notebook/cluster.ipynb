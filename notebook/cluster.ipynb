{
 "cells": [
  {
   "cell_type": "code",
   "execution_count": null,
   "metadata": {
    "execution": {
     "iopub.execute_input": "2021-06-01T03:47:15.904268Z",
     "iopub.status.busy": "2021-06-01T03:47:15.903521Z",
     "iopub.status.idle": "2021-06-01T03:47:15.917504Z",
     "shell.execute_reply": "2021-06-01T03:47:15.917947Z"
    }
   },
   "outputs": [],
   "source": [
    "%load_ext autoreload\n",
    "%autoreload 2"
   ]
  },
  {
   "cell_type": "code",
   "execution_count": null,
   "metadata": {
    "execution": {
     "iopub.execute_input": "2021-06-01T03:47:15.921607Z",
     "iopub.status.busy": "2021-06-01T03:47:15.921005Z",
     "iopub.status.idle": "2021-06-01T03:47:16.444420Z",
     "shell.execute_reply": "2021-06-01T03:47:16.444782Z"
    }
   },
   "outputs": [],
   "source": [
    "import kraft"
   ]
  },
  {
   "cell_type": "markdown",
   "metadata": {},
   "source": [
    "## cluster"
   ]
  },
  {
   "cell_type": "code",
   "execution_count": null,
   "metadata": {
    "execution": {
     "iopub.execute_input": "2021-06-01T03:47:16.448120Z",
     "iopub.status.busy": "2021-06-01T03:47:16.447641Z",
     "iopub.status.idle": "2021-06-01T03:47:16.463936Z",
     "shell.execute_reply": "2021-06-01T03:47:16.464304Z"
    }
   },
   "outputs": [],
   "source": [
    "import numpy as np"
   ]
  },
  {
   "cell_type": "code",
   "execution_count": null,
   "metadata": {
    "execution": {
     "iopub.execute_input": "2021-06-01T03:47:16.468161Z",
     "iopub.status.busy": "2021-06-01T03:47:16.467609Z",
     "iopub.status.idle": "2021-06-01T03:47:16.485380Z",
     "shell.execute_reply": "2021-06-01T03:47:16.485759Z"
    },
    "tags": []
   },
   "outputs": [],
   "source": [
    "nu_po_di = np.asarray(\n",
    "    [\n",
    "        [9, 19, 9, 19, 9],\n",
    "        [0, 10, 0, 10, 0],\n",
    "        [1, 11, 1, 11, 1],\n",
    "        [8, 18, 8, 18, 8],\n",
    "    ]\n",
    ")\n",
    "\n",
    "for n_cl in [0, 1, 2, 1000]:\n",
    "\n",
    "    print(kraft.cluster.cluster(nu_po_di, n_cl=n_cl))"
   ]
  },
  {
   "cell_type": "markdown",
   "metadata": {},
   "source": [
    "## _get_coclustering_distance"
   ]
  },
  {
   "cell_type": "code",
   "execution_count": null,
   "metadata": {
    "execution": {
     "iopub.execute_input": "2021-06-01T03:47:16.489054Z",
     "iopub.status.busy": "2021-06-01T03:47:16.488474Z",
     "iopub.status.idle": "2021-06-01T03:47:16.510653Z",
     "shell.execute_reply": "2021-06-01T03:47:16.511011Z"
    },
    "tags": []
   },
   "outputs": [],
   "source": [
    "cl_po_tr = np.asarray(\n",
    "    [\n",
    "        [1, 0, 1],\n",
    "        [1, 0, 0],\n",
    "        [np.nan, 1, np.nan],\n",
    "        [np.nan, 1, 1],\n",
    "    ]\n",
    ")\n",
    "\n",
    "kraft.cluster._get_coclustering_distance(cl_po_tr)"
   ]
  },
  {
   "cell_type": "markdown",
   "metadata": {},
   "source": [
    "## cluster_consensus"
   ]
  },
  {
   "cell_type": "code",
   "execution_count": null,
   "metadata": {
    "execution": {
     "iopub.execute_input": "2021-06-01T03:47:16.513872Z",
     "iopub.status.busy": "2021-06-01T03:47:16.513362Z",
     "iopub.status.idle": "2021-06-01T03:47:16.529398Z",
     "shell.execute_reply": "2021-06-01T03:47:16.529805Z"
    },
    "tags": []
   },
   "outputs": [],
   "source": [
    "import pandas as pd"
   ]
  },
  {
   "cell_type": "code",
   "execution_count": null,
   "metadata": {
    "execution": {
     "iopub.execute_input": "2021-06-01T03:47:16.534953Z",
     "iopub.status.busy": "2021-06-01T03:47:16.534465Z",
     "iopub.status.idle": "2021-06-01T03:47:23.055337Z",
     "shell.execute_reply": "2021-06-01T03:47:23.055681Z"
    },
    "tags": []
   },
   "outputs": [],
   "source": [
    "nu_po_di = np.random.random_sample([80, 160])\n",
    "\n",
    "nu_po_di[0::4, :] *= 1\n",
    "\n",
    "nu_po_di[1::4, :] *= 2\n",
    "\n",
    "nu_po_di[2::4, :] *= 3\n",
    "\n",
    "nu_po_di[3::4, :] *= 4\n",
    "\n",
    "for n_cl in [2, 4, 8]:\n",
    "\n",
    "    for op in [False, True]:\n",
    "\n",
    "        ie_, cl_ = kraft.cluster.cluster_consensus(nu_po_di, n_cl, op=op)\n",
    "\n",
    "        la1_ = pd.Index(\n",
    "            (\"Ka{}\".format(ie) for ie in range(nu_po_di.shape[0])),\n",
    "            name=\"Dimension 1\",\n",
    "        )\n",
    "\n",
    "        kraft.plot.plot_heat_map(\n",
    "            pd.DataFrame(\n",
    "                nu_po_di,\n",
    "                la1_,\n",
    "                pd.Index(\n",
    "                    (\"Kw{}\".format(ie) for ie in range(nu_po_di.shape[1])),\n",
    "                    name=\"Dimension 2\",\n",
    "                ),\n",
    "            ).iloc[ie_],\n",
    "            layout={\n",
    "                \"title\": {\n",
    "                    \"text\": \"n_cl={}, op={}\".format(n_cl, op),\n",
    "                },\n",
    "            },\n",
    "        )"
   ]
  }
 ],
 "metadata": {
  "kernelspec": {
   "display_name": "Python 3",
   "language": "python",
   "name": "python3"
  },
  "language_info": {
   "codemirror_mode": {
    "name": "ipython",
    "version": 3
   },
   "file_extension": ".py",
   "mimetype": "text/x-python",
   "name": "python",
   "nbconvert_exporter": "python",
   "pygments_lexer": "ipython3",
   "version": "3.8.9"
  }
 },
 "nbformat": 4,
 "nbformat_minor": 4
}
