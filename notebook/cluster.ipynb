{
 "cells": [
  {
   "cell_type": "code",
   "execution_count": null,
   "metadata": {},
   "outputs": [],
   "source": [
    "%load_ext autoreload\n",
    "%autoreload 2"
   ]
  },
  {
   "cell_type": "code",
   "execution_count": null,
   "metadata": {
    "ExecuteTime": {
     "end_time": "2018-05-15T09:28:55.668422Z",
     "start_time": "2018-05-15T09:28:55.428950Z"
    }
   },
   "outputs": [],
   "source": [
    "import numpy as np\n",
    "import pandas as pd\n",
    "\n",
    "import kraft"
   ]
  },
  {
   "cell_type": "code",
   "execution_count": null,
   "metadata": {
    "ExecuteTime": {
     "end_time": "2018-05-15T09:28:55.668422Z",
     "start_time": "2018-05-15T09:28:55.428950Z"
    }
   },
   "outputs": [],
   "source": [
    "size = (20, 50)\n",
    "\n",
    "dataframe = kraft.simulate_series_or_dataframe(\"Row\", \"Column\", size, \"uniform\")\n",
    "\n",
    "dataframe[dataframe.columns[::2]] *= 2\n",
    "\n",
    "dataframe.loc[dataframe.index[::2]] *= 2\n",
    "\n",
    "rs = (2, 3, 4)\n",
    "\n",
    "r = 3\n",
    "\n",
    "r_key = \"r{}\".format(r)\n",
    "\n",
    "n_job = 1"
   ]
  },
  {
   "cell_type": "code",
   "execution_count": null,
   "metadata": {},
   "outputs": [],
   "source": [
    "directory_path = \"output\""
   ]
  },
  {
   "cell_type": "code",
   "execution_count": null,
   "metadata": {
    "ExecuteTime": {
     "end_time": "2018-05-15T09:28:57.731699Z",
     "start_time": "2018-05-15T09:28:55.737405Z"
    }
   },
   "outputs": [],
   "source": [
    "for axis in (0, 1):\n",
    "\n",
    "    element_cluster, element_cluster_ccc = kraft.hierarchical_consensus_cluster_dataframe(\n",
    "        dataframe, r, axis, directory_path\n",
    "    )"
   ]
  },
  {
   "cell_type": "code",
   "execution_count": null,
   "metadata": {
    "ExecuteTime": {
     "end_time": "2018-05-15T09:28:57.731699Z",
     "start_time": "2018-05-15T09:28:55.737405Z"
    }
   },
   "outputs": [],
   "source": [
    "element_cluster"
   ]
  },
  {
   "cell_type": "code",
   "execution_count": null,
   "metadata": {
    "ExecuteTime": {
     "end_time": "2018-05-15T09:28:57.731699Z",
     "start_time": "2018-05-15T09:28:55.737405Z"
    }
   },
   "outputs": [],
   "source": [
    "element_cluster_ccc"
   ]
  },
  {
   "cell_type": "code",
   "execution_count": null,
   "metadata": {
    "ExecuteTime": {
     "end_time": "2018-05-15T09:28:59.510877Z",
     "start_time": "2018-05-15T09:28:58.281886Z"
    }
   },
   "outputs": [],
   "source": [
    "for axis in (0, 1):\n",
    "\n",
    "    r_return = kraft.hierarchical_consensus_cluster_dataframe_with_rs(\n",
    "        dataframe, rs, axis, directory_path\n",
    "    )\n",
    "\n",
    "r_return[r_key].keys()"
   ]
  },
  {
   "cell_type": "code",
   "execution_count": null,
   "metadata": {},
   "outputs": [],
   "source": [
    "r_return[r_key][\"element_cluster\"]"
   ]
  },
  {
   "cell_type": "code",
   "execution_count": null,
   "metadata": {},
   "outputs": [],
   "source": [
    "r_return[r_key][\"element_cluster_ccc\"]"
   ]
  },
  {
   "cell_type": "code",
   "execution_count": null,
   "metadata": {
    "ExecuteTime": {
     "end_time": "2018-05-15T09:29:06.750210Z",
     "start_time": "2018-05-15T09:29:00.185608Z"
    }
   },
   "outputs": [],
   "source": [
    "w, h, e, w_element_cluster, w_element_cluster__ccc, h_element_cluster, h_element_cluster__ccc = kraft.mf_consensus_cluster_dataframe(\n",
    "    dataframe, r, directory_path\n",
    ")"
   ]
  },
  {
   "cell_type": "code",
   "execution_count": null,
   "metadata": {
    "ExecuteTime": {
     "end_time": "2018-05-15T09:29:06.942006Z",
     "start_time": "2018-05-15T09:29:06.753031Z"
    }
   },
   "outputs": [],
   "source": [
    "w"
   ]
  },
  {
   "cell_type": "code",
   "execution_count": null,
   "metadata": {
    "ExecuteTime": {
     "end_time": "2018-05-15T09:29:07.086179Z",
     "start_time": "2018-05-15T09:29:06.947335Z"
    }
   },
   "outputs": [],
   "source": [
    "h"
   ]
  },
  {
   "cell_type": "code",
   "execution_count": null,
   "metadata": {
    "ExecuteTime": {
     "end_time": "2018-05-15T09:29:07.214197Z",
     "start_time": "2018-05-15T09:29:07.091699Z"
    }
   },
   "outputs": [],
   "source": [
    "e"
   ]
  },
  {
   "cell_type": "code",
   "execution_count": null,
   "metadata": {
    "ExecuteTime": {
     "end_time": "2018-05-15T09:29:07.314397Z",
     "start_time": "2018-05-15T09:29:07.220362Z"
    }
   },
   "outputs": [],
   "source": [
    "w_element_cluster"
   ]
  },
  {
   "cell_type": "code",
   "execution_count": null,
   "metadata": {
    "ExecuteTime": {
     "end_time": "2018-05-15T09:29:07.400898Z",
     "start_time": "2018-05-15T09:29:07.319282Z"
    }
   },
   "outputs": [],
   "source": [
    "w_element_cluster__ccc"
   ]
  },
  {
   "cell_type": "code",
   "execution_count": null,
   "metadata": {},
   "outputs": [],
   "source": [
    "h_element_cluster"
   ]
  },
  {
   "cell_type": "code",
   "execution_count": null,
   "metadata": {},
   "outputs": [],
   "source": [
    "h_element_cluster__ccc"
   ]
  },
  {
   "cell_type": "code",
   "execution_count": null,
   "metadata": {
    "ExecuteTime": {
     "end_time": "2018-05-15T09:29:23.043947Z",
     "start_time": "2018-05-15T09:29:07.406319Z"
    }
   },
   "outputs": [],
   "source": [
    "r_return = kraft.mf_consensus_cluster_dataframe_with_rs(dataframe, rs, directory_path)\n",
    "\n",
    "r_return[r_key].keys()"
   ]
  },
  {
   "cell_type": "code",
   "execution_count": null,
   "metadata": {},
   "outputs": [],
   "source": [
    "r_return[r_key][\"w\"]"
   ]
  },
  {
   "cell_type": "code",
   "execution_count": null,
   "metadata": {},
   "outputs": [],
   "source": [
    "r_return[r_key][\"h\"]"
   ]
  },
  {
   "cell_type": "code",
   "execution_count": null,
   "metadata": {},
   "outputs": [],
   "source": [
    "r_return[r_key][\"e\"]"
   ]
  },
  {
   "cell_type": "code",
   "execution_count": null,
   "metadata": {},
   "outputs": [],
   "source": [
    "r_return[r_key][\"w_element_cluster\"]"
   ]
  },
  {
   "cell_type": "code",
   "execution_count": null,
   "metadata": {},
   "outputs": [],
   "source": [
    "r_return[r_key][\"w_element_cluster_ccc\"]"
   ]
  },
  {
   "cell_type": "code",
   "execution_count": null,
   "metadata": {},
   "outputs": [],
   "source": [
    "r_return[r_key][\"h_element_cluster\"]"
   ]
  },
  {
   "cell_type": "code",
   "execution_count": null,
   "metadata": {},
   "outputs": [],
   "source": [
    "r_return[r_key][\"h_element_cluster_ccc\"]"
   ]
  }
 ],
 "metadata": {
  "kernelspec": {
   "display_name": "Python 3",
   "language": "python",
   "name": "python3"
  },
  "language_info": {
   "codemirror_mode": {
    "name": "ipython",
    "version": 3
   },
   "file_extension": ".py",
   "mimetype": "text/x-python",
   "name": "python",
   "nbconvert_exporter": "python",
   "pygments_lexer": "ipython3",
   "version": "3.7.3"
  }
 },
 "nbformat": 4,
 "nbformat_minor": 4
}
