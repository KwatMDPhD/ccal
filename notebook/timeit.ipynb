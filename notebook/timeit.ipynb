{
 "cells": [
  {
   "cell_type": "code",
   "execution_count": null,
   "metadata": {},
   "outputs": [],
   "source": [
    "import numpy as np"
   ]
  },
  {
   "cell_type": "code",
   "execution_count": null,
   "metadata": {},
   "outputs": [],
   "source": [
    "size = 10000\n",
    "\n",
    "in_ = np.random.choice((0, 1), size, p=(0.9, 0.1))\n",
    "\n",
    "score = np.sort(np.random.normal(size=size))\n",
    "\n",
    "score_absolute = np.absolute(score)"
   ]
  },
  {
   "cell_type": "code",
   "execution_count": null,
   "metadata": {},
   "outputs": [],
   "source": [
    "in_"
   ]
  },
  {
   "cell_type": "code",
   "execution_count": null,
   "metadata": {},
   "outputs": [],
   "source": [
    "score"
   ]
  },
  {
   "cell_type": "code",
   "execution_count": null,
   "metadata": {},
   "outputs": [],
   "source": [
    "score_absolute"
   ]
  },
  {
   "cell_type": "code",
   "execution_count": null,
   "metadata": {},
   "outputs": [],
   "source": [
    "%%timeit\n",
    "\n",
    "up = score * in_\n",
    "\n",
    "down = 1.0 - in_\n",
    "\n",
    "up /= up.sum()\n",
    "\n",
    "down /= down.sum()\n",
    "\n",
    "m = up - down\n",
    "\n",
    "m"
   ]
  },
  {
   "cell_type": "code",
   "execution_count": null,
   "metadata": {},
   "outputs": [],
   "source": [
    "%%timeit\n",
    "\n",
    "up = np.full(score_absolute.size, 0.0)\n",
    "\n",
    "down = np.full(score_absolute.size, -1.0)\n",
    "\n",
    "for i in range(in_.size):\n",
    "    \n",
    "    in_i = in_[i]\n",
    "    \n",
    "    if in_i:\n",
    "        \n",
    "        up[i] = score_absolute[i]\n",
    "        \n",
    "        down[i] = 0\n",
    "        \n",
    "up /= up.sum()\n",
    "\n",
    "down /= down.sum()\n",
    "\n",
    "m = up - down\n",
    "\n",
    "m"
   ]
  },
  {
   "cell_type": "code",
   "execution_count": null,
   "metadata": {},
   "outputs": [],
   "source": [
    "%%timeit\n",
    "\n",
    "for i in range(in_.size):\n",
    "    \n",
    "    pass"
   ]
  }
 ],
 "metadata": {
  "kernelspec": {
   "display_name": "Python 3",
   "language": "python",
   "name": "python3"
  },
  "language_info": {
   "codemirror_mode": {
    "name": "ipython",
    "version": 3
   },
   "file_extension": ".py",
   "mimetype": "text/x-python",
   "name": "python",
   "nbconvert_exporter": "python",
   "pygments_lexer": "ipython3",
   "version": "3.6.7"
  }
 },
 "nbformat": 4,
 "nbformat_minor": 2
}
