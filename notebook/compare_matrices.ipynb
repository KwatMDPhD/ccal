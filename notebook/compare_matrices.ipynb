{
 "cells": [
  {
   "cell_type": "code",
   "execution_count": null,
   "metadata": {},
   "outputs": [],
   "source": [
    "%load_ext autoreload\n",
    "%autoreload 2"
   ]
  },
  {
   "cell_type": "code",
   "execution_count": null,
   "metadata": {},
   "outputs": [],
   "source": [
    "import pandas as pd\n",
    "import plotly as pl\n",
    "\n",
    "import ccal"
   ]
  },
  {
   "cell_type": "code",
   "execution_count": null,
   "metadata": {},
   "outputs": [],
   "source": [
    "pl.offline.init_notebook_mode(connected=True)"
   ]
  },
  {
   "cell_type": "code",
   "execution_count": null,
   "metadata": {},
   "outputs": [],
   "source": [
    "name_0 = \"Previous\"\n",
    "\n",
    "mf_k_0 = 14\n",
    "\n",
    "df_0 = pd.read_csv(\n",
    "    \"/home/kwatme/model_and_infer.rna_medulloblastoma_cho_et_al/output/signal/context/mf/{}/h.tsv\".format(\n",
    "        mf_k_0\n",
    "    ),\n",
    "    sep=\"\\t\",\n",
    "    index_col=0,\n",
    ")\n",
    "\n",
    "name_1 = \"Current\"\n",
    "\n",
    "for mf_k_1 in (10,):\n",
    "\n",
    "    df_1 = pd.read_csv(\n",
    "        \"/home/kwatme/ex/CarrotCake/project/model_and_infer.cho_et_al_rna_medulloblastoma/output/signal/context/mf/{}/h.tsv\".format(\n",
    "            mf_k_1\n",
    "        ),\n",
    "        sep=\"\\t\",\n",
    "        index_col=0,\n",
    "    )\n",
    "\n",
    "    common_columns = df_0.columns & df_1.columns\n",
    "\n",
    "    ccal.make_comparison_panel(\n",
    "        df_0[common_columns], df_1[common_columns], axis=1, name_0=name_0, name_1=name_1\n",
    "    )"
   ]
  }
 ],
 "metadata": {
  "kernelspec": {
   "display_name": "Python 3",
   "language": "python",
   "name": "python3"
  },
  "language_info": {
   "codemirror_mode": {
    "name": "ipython",
    "version": 3
   },
   "file_extension": ".py",
   "mimetype": "text/x-python",
   "name": "python",
   "nbconvert_exporter": "python",
   "pygments_lexer": "ipython3",
   "version": "3.6.7"
  }
 },
 "nbformat": 4,
 "nbformat_minor": 2
}
