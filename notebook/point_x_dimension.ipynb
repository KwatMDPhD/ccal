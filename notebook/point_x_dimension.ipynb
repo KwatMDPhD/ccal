{
 "cells": [
  {
   "cell_type": "code",
   "execution_count": null,
   "metadata": {},
   "outputs": [],
   "source": [
    "%load_ext autoreload\n",
    "%autoreload 2"
   ]
  },
  {
   "cell_type": "code",
   "execution_count": null,
   "metadata": {},
   "outputs": [],
   "source": [
    "import numpy as np\n",
    "\n",
    "import kraft"
   ]
  },
  {
   "cell_type": "markdown",
   "metadata": {},
   "source": [
    "## make_grid_1d"
   ]
  },
  {
   "cell_type": "code",
   "execution_count": null,
   "metadata": {},
   "outputs": [],
   "source": [
    "print(kraft.make_grid_1d(-1, 2, 0, 4))"
   ]
  },
  {
   "cell_type": "markdown",
   "metadata": {},
   "source": [
    "## make_grid_1d_for_reflecting"
   ]
  },
  {
   "cell_type": "code",
   "execution_count": null,
   "metadata": {},
   "outputs": [],
   "source": [
    "print(kraft.make_grid_1d_for_reflecting(np.asarray((-1, 0, 1, 2)), 0))"
   ]
  },
  {
   "cell_type": "markdown",
   "metadata": {},
   "source": [
    "## make_grid_nd"
   ]
  },
  {
   "cell_type": "code",
   "execution_count": null,
   "metadata": {},
   "outputs": [],
   "source": [
    "print(kraft.make_grid_nd(((-1, 0, 1), (-8, 2))))"
   ]
  },
  {
   "cell_type": "markdown",
   "metadata": {},
   "source": [
    "## get_grid_1ds"
   ]
  },
  {
   "cell_type": "code",
   "execution_count": null,
   "metadata": {},
   "outputs": [],
   "source": [
    "for point_x_dimension in (\n",
    "    ((-1,), (0,), (2,)),\n",
    "    ((0, -1), (0, 0), (0, 2)),\n",
    "    ((1, -1), (2, 0), (3, 2)),\n",
    "):\n",
    "\n",
    "    print(kraft.get_grid_1ds(np.asarray(point_x_dimension)))"
   ]
  },
  {
   "cell_type": "markdown",
   "metadata": {},
   "source": [
    "## shape"
   ]
  },
  {
   "cell_type": "code",
   "execution_count": null,
   "metadata": {},
   "outputs": [],
   "source": [
    "for grid_1ds in (\n",
    "    ((-1, 1), (-2, 2),),\n",
    "    ((1, -1), (2, -2),),\n",
    "    ((-1, 1), (-2, -1, 0, 1, 2),),\n",
    "    ((-1, -0.5, 0, 0.5, 1), (-2, 2),),\n",
    "    ((-1, -0.5, 0, 0.5, 1), (-2, -1, 0, 1, 2),),\n",
    "):\n",
    "\n",
    "    grid_1ds = tuple(np.asarray(grid_1d) for grid_1d in grid_1ds)\n",
    "\n",
    "    n_number = np.product(tuple(grid_1d.size for grid_1d in grid_1ds))\n",
    "\n",
    "    print(kraft.shape(np.arange(n_number), grid_1ds))"
   ]
  },
  {
   "cell_type": "markdown",
   "metadata": {},
   "source": [
    "## plot_grid_nd"
   ]
  },
  {
   "cell_type": "code",
   "execution_count": null,
   "metadata": {},
   "outputs": [],
   "source": [
    "kraft.plot_grid_nd(\n",
    "    np.asarray(((-1,), (0,), (1,))), np.asarray((-1, 0, 2)),\n",
    ")"
   ]
  },
  {
   "cell_type": "code",
   "execution_count": null,
   "metadata": {},
   "outputs": [],
   "source": [
    "kraft.plot_grid_nd(\n",
    "    np.asarray(((-1, 0), (0, 0), (1, 0))), np.asarray((-1, 0, 2)),\n",
    ")"
   ]
  },
  {
   "cell_type": "code",
   "execution_count": null,
   "metadata": {},
   "outputs": [],
   "source": [
    "kraft.plot_grid_nd(\n",
    "    np.asarray(((-1, 2), (0, 2), (1, 2), (-1, 4), (0, 4), (1, 4),)),\n",
    "    np.asarray((-1, 0, 2, 4, 8, 16)),\n",
    ")"
   ]
  },
  {
   "cell_type": "code",
   "execution_count": null,
   "metadata": {},
   "outputs": [],
   "source": [
    "kraft.plot_grid_nd(\n",
    "    np.asarray(\n",
    "        ((-1, 2), (0, 2), (1, 2), (-1, 4), (0, 4), (1, 4), (-1, 8), (0, 8), (1, 8),)\n",
    "    ),\n",
    "    np.asarray((-1, 0, 2, 4, 8, 16, 32, 64, 128)),\n",
    ")"
   ]
  },
  {
   "cell_type": "code",
   "execution_count": null,
   "metadata": {},
   "outputs": [],
   "source": [
    "kraft.plot_grid_nd(\n",
    "    np.asarray(\n",
    "        (\n",
    "            (0, 2, 4),\n",
    "            (1, 2, 4),\n",
    "            (0, 3, 4),\n",
    "            (1, 3, 4),\n",
    "            (0, 2, 5),\n",
    "            (1, 2, 5),\n",
    "            (0, 3, 5),\n",
    "            (1, 3, 5),\n",
    "        )\n",
    "    ),\n",
    "    np.arange(8),\n",
    ")"
   ]
  }
 ],
 "metadata": {
  "kernelspec": {
   "display_name": "Python 3",
   "language": "python",
   "name": "python3"
  },
  "language_info": {
   "codemirror_mode": {
    "name": "ipython",
    "version": 3
   },
   "file_extension": ".py",
   "mimetype": "text/x-python",
   "name": "python",
   "nbconvert_exporter": "python",
   "pygments_lexer": "ipython3",
   "version": "3.7.6"
  }
 },
 "nbformat": 4,
 "nbformat_minor": 4
}
