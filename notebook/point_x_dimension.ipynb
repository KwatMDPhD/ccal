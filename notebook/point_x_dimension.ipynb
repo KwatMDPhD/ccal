{
 "cells": [
  {
   "cell_type": "code",
   "execution_count": null,
   "metadata": {},
   "outputs": [],
   "source": [
    "%load_ext autoreload\n",
    "%autoreload 2"
   ]
  },
  {
   "cell_type": "code",
   "execution_count": null,
   "metadata": {},
   "outputs": [],
   "source": [
    "import numpy as np\n",
    "\n",
    "import kraft"
   ]
  },
  {
   "cell_type": "markdown",
   "metadata": {},
   "source": [
    "## grid"
   ]
  },
  {
   "cell_type": "code",
   "execution_count": null,
   "metadata": {},
   "outputs": [],
   "source": [
    "grid = kraft.grid(-1, 2, 0, 4)\n",
    "\n",
    "print(grid)"
   ]
  },
  {
   "cell_type": "markdown",
   "metadata": {},
   "source": [
    "## reflect_grid"
   ]
  },
  {
   "cell_type": "markdown",
   "metadata": {},
   "source": [
    "## make_grid_point_x_dimension"
   ]
  },
  {
   "cell_type": "code",
   "execution_count": null,
   "metadata": {},
   "outputs": [],
   "source": [
    "grid_point_x_dimension = kraft.make_grid_point_x_dimension((grid, (-8, 0, 4)))\n",
    "\n",
    "print(grid_point_x_dimension)"
   ]
  },
  {
   "cell_type": "markdown",
   "metadata": {},
   "source": [
    "## get_grids"
   ]
  },
  {
   "cell_type": "code",
   "execution_count": null,
   "metadata": {},
   "outputs": [],
   "source": [
    "for point_x_dimension in (\n",
    "    ((-1,), (0,), (2,)),\n",
    "    ((0, -1), (0, 0), (0, 2)),\n",
    "    ((1, -1), (2, 0), (3, 2)),\n",
    "):\n",
    "\n",
    "    print(kraft.get_grids(np.asarray(point_x_dimension)))"
   ]
  },
  {
   "cell_type": "code",
   "execution_count": null,
   "metadata": {},
   "outputs": [],
   "source": [
    "grids = kraft.get_grids(grid_point_x_dimension)\n",
    "\n",
    "print(grids)"
   ]
  },
  {
   "cell_type": "markdown",
   "metadata": {},
   "source": [
    "## plot_grid_point_x_dimension"
   ]
  },
  {
   "cell_type": "code",
   "execution_count": null,
   "metadata": {},
   "outputs": [],
   "source": [
    "kraft.plot_grid_point_x_dimension(\n",
    "    np.asarray(((-1,), (0,), (2,)),), np.arange(3),\n",
    ")"
   ]
  },
  {
   "cell_type": "code",
   "execution_count": null,
   "metadata": {},
   "outputs": [],
   "source": [
    "kraft.plot_grid_point_x_dimension(\n",
    "    grid_point_x_dimension, np.arange(np.product(tuple(grid.size for grid in grids))),\n",
    ")"
   ]
  },
  {
   "cell_type": "code",
   "execution_count": null,
   "metadata": {},
   "outputs": [],
   "source": [
    "n_grid_0 = 3\n",
    "\n",
    "n_grid_1 = 5\n",
    "\n",
    "n_grid_2 = 7\n",
    "\n",
    "kraft.plot_grid_point_x_dimension(\n",
    "    kraft.make_grid_point_x_dimension(\n",
    "        (kraft.grid(0, 1, 0, 3), kraft.grid(2, 4, 0, 5), kraft.grid(8, 16, 0, 7),)\n",
    "    ),\n",
    "    np.arange(n_grid_0 * n_grid_1 * n_grid_2),\n",
    ")"
   ]
  }
 ],
 "metadata": {
  "kernelspec": {
   "display_name": "Python 3",
   "language": "python",
   "name": "python3"
  },
  "language_info": {
   "codemirror_mode": {
    "name": "ipython",
    "version": 3
   },
   "file_extension": ".py",
   "mimetype": "text/x-python",
   "name": "python",
   "nbconvert_exporter": "python",
   "pygments_lexer": "ipython3",
   "version": "3.7.6"
  }
 },
 "nbformat": 4,
 "nbformat_minor": 4
}
