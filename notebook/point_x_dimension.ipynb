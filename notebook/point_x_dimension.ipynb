{
 "cells": [
  {
   "cell_type": "code",
   "execution_count": null,
   "metadata": {},
   "outputs": [],
   "source": [
    "%load_ext autoreload\n",
    "%autoreload 2"
   ]
  },
  {
   "cell_type": "code",
   "execution_count": null,
   "metadata": {},
   "outputs": [],
   "source": [
    "import numpy as np\n",
    "\n",
    "import kraft"
   ]
  },
  {
   "cell_type": "markdown",
   "metadata": {},
   "source": [
    "## make_grid"
   ]
  },
  {
   "cell_type": "code",
   "execution_count": null,
   "metadata": {},
   "outputs": [],
   "source": [
    "min_ = -2\n",
    "\n",
    "max_ = 2\n",
    "\n",
    "n_grid = 5\n",
    "\n",
    "for fraction_extension in (0, 0.1, 0.5):\n",
    "\n",
    "    print(kraft.make_grid(min_, max_, fraction_extension, n_grid))"
   ]
  },
  {
   "cell_type": "markdown",
   "metadata": {},
   "source": [
    "## mesh"
   ]
  },
  {
   "cell_type": "code",
   "execution_count": null,
   "metadata": {},
   "outputs": [],
   "source": [
    "grid_0 = (-1, 0, 2)\n",
    "\n",
    "grid_1 = (-10, 0, 20)\n",
    "\n",
    "print(kraft.mesh((grid_0, grid_1)))"
   ]
  },
  {
   "cell_type": "markdown",
   "metadata": {},
   "source": [
    "## plot_mesh"
   ]
  },
  {
   "cell_type": "code",
   "execution_count": null,
   "metadata": {},
   "outputs": [],
   "source": [
    "for point_x_dimension_index, point_x_dimension in enumerate(point_x_dimensions):\n",
    "\n",
    "    kraft.plot_mesh(\n",
    "        point_x_dimension,\n",
    "        np.full(\n",
    "            point_x_dimension.shape[0] ** point_x_dimension.shape[1],\n",
    "            point_x_dimension_index * 10,\n",
    "        ),\n",
    "    )"
   ]
  },
  {
   "cell_type": "markdown",
   "metadata": {},
   "source": [
    "## unmesh"
   ]
  },
  {
   "cell_type": "code",
   "execution_count": null,
   "metadata": {},
   "outputs": [],
   "source": [
    "for point_x_dimension in (\n",
    "    ((-1,), (0,), (2,)),\n",
    "    ((-1, 0), (0, 0), (2, 0)),\n",
    "    ((-1, -10), (0, 0), (2, 20)),\n",
    "):\n",
    "\n",
    "    print(kraft.unmesh(np.asarray(point_x_dimension)))"
   ]
  }
 ],
 "metadata": {
  "kernelspec": {
   "display_name": "Python 3",
   "language": "python",
   "name": "python3"
  },
  "language_info": {
   "codemirror_mode": {
    "name": "ipython",
    "version": 3
   },
   "file_extension": ".py",
   "mimetype": "text/x-python",
   "name": "python",
   "nbconvert_exporter": "python",
   "pygments_lexer": "ipython3",
   "version": "3.7.6"
  }
 },
 "nbformat": 4,
 "nbformat_minor": 4
}
