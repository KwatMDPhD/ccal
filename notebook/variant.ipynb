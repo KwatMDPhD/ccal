{
 "cells": [
  {
   "cell_type": "code",
   "execution_count": null,
   "metadata": {
    "ExecuteTime": {
     "end_time": "2018-05-07T08:50:23.972517Z",
     "start_time": "2018-05-07T08:50:23.929043Z"
    }
   },
   "outputs": [],
   "source": [
    "%load_ext autoreload\n",
    "%autoreload 2"
   ]
  },
  {
   "cell_type": "code",
   "execution_count": null,
   "metadata": {},
   "outputs": [],
   "source": [
    "import os\n",
    "import sys\n",
    "\n",
    "import numpy as np\n",
    "import pandas as pd\n",
    "import plotly as pl"
   ]
  },
  {
   "cell_type": "code",
   "execution_count": null,
   "metadata": {},
   "outputs": [],
   "source": [
    "sys.path.insert(0, \"..\")\n",
    "\n",
    "np.random.random(20121020)\n",
    "\n",
    "pl.offline.init_notebook_mode(connected=True)"
   ]
  },
  {
   "cell_type": "code",
   "execution_count": null,
   "metadata": {
    "ExecuteTime": {
     "end_time": "2018-05-07T08:50:24.456226Z",
     "start_time": "2018-05-07T08:50:23.976033Z"
    }
   },
   "outputs": [],
   "source": [
    "from warnings import warn\n",
    "\n",
    "from tables import NoSuchNodeError\n",
    "\n",
    "from variant.support.support.path import get_absolute_path"
   ]
  },
  {
   "cell_type": "code",
   "execution_count": null,
   "metadata": {
    "ExecuteTime": {
     "end_time": "2018-05-07T08:50:24.489203Z",
     "start_time": "2018-05-07T08:50:24.459430Z"
    }
   },
   "outputs": [],
   "source": [
    "vcf_gz_file_path = get_absolute_path(\"~/people/0/genome.vcf.gz\")\n",
    "\n",
    "assert os.path.isfile(vcf_gz_file_path)"
   ]
  },
  {
   "cell_type": "code",
   "execution_count": null,
   "metadata": {
    "ExecuteTime": {
     "end_time": "2018-05-07T08:51:09.209519Z",
     "start_time": "2018-05-07T08:50:24.492197Z"
    }
   },
   "outputs": [],
   "source": [
    "from variant.access_vcf_dict import read_vcf_gz_and_make_vcf_dict\n",
    "\n",
    "vcf_dict = read_vcf_gz_and_make_vcf_dict(vcf_gz_file_path)\n",
    "\n",
    "vcf_dict.keys()"
   ]
  },
  {
   "cell_type": "code",
   "execution_count": null,
   "metadata": {
    "ExecuteTime": {
     "end_time": "2018-05-07T08:51:09.450030Z",
     "start_time": "2018-05-07T08:51:09.296325Z"
    }
   },
   "outputs": [],
   "source": [
    "vcf_dict[\"meta_information\"]"
   ]
  },
  {
   "cell_type": "code",
   "execution_count": null,
   "metadata": {
    "ExecuteTime": {
     "end_time": "2018-05-07T08:51:09.554895Z",
     "start_time": "2018-05-07T08:51:09.454588Z"
    }
   },
   "outputs": [],
   "source": [
    "vcf_dict[\"vcf_df\"]"
   ]
  },
  {
   "cell_type": "code",
   "execution_count": null,
   "metadata": {
    "ExecuteTime": {
     "end_time": "2018-05-07T08:51:09.676221Z",
     "start_time": "2018-05-07T08:51:09.558661Z"
    }
   },
   "outputs": [],
   "source": [
    "vcf_dict[\"clean_vcf_df\"]"
   ]
  },
  {
   "cell_type": "code",
   "execution_count": null,
   "metadata": {
    "ExecuteTime": {
     "end_time": "2018-05-07T08:51:19.465918Z",
     "start_time": "2018-05-07T08:51:09.679655Z"
    }
   },
   "outputs": [],
   "source": [
    "from variant.access_vcf import count_vcf_gz_rows\n",
    "\n",
    "field_n = count_vcf_gz_rows(\n",
    "    vcf_gz_file_path,\n",
    "    info_fields_to_count=(\n",
    "        \"ANN\",\n",
    "        \"CAF\",\n",
    "        \"CLNDISDB\",\n",
    "        \"CLNDN\",\n",
    "        \"CLNSIG\",\n",
    "        \"CLNREVSTAT\",\n",
    "        \"CLNVI\",\n",
    "    ),\n",
    "    format_fields_to_count=(\"GT\", \"AD\", \"DP\"),\n",
    ")\n",
    "\n",
    "field_n"
   ]
  },
  {
   "cell_type": "code",
   "execution_count": null,
   "metadata": {
    "ExecuteTime": {
     "end_time": "2018-05-07T08:53:18.290946Z",
     "start_time": "2018-05-07T08:51:19.470204Z"
    }
   },
   "outputs": [],
   "source": [
    "from variant.VariantHDF5 import VariantHDF5\n",
    "\n",
    "variant_hdf5 = VariantHDF5(vcf_gz_file_path, reset=True)"
   ]
  },
  {
   "cell_type": "code",
   "execution_count": null,
   "metadata": {
    "ExecuteTime": {
     "end_time": "2018-05-07T08:53:18.833435Z",
     "start_time": "2018-05-07T08:53:18.302280Z"
    }
   },
   "outputs": [],
   "source": [
    "try:\n",
    "\n",
    "    variant_dict = variant_hdf5.get_variant_by_id(\"rs235\")\n",
    "\n",
    "    print(variant_dict)\n",
    "\n",
    "except KeyError as exception:\n",
    "\n",
    "    warn(\"(get_variant_by_id) KeyError: {}.\".format(exception))"
   ]
  },
  {
   "cell_type": "code",
   "execution_count": null,
   "metadata": {
    "ExecuteTime": {
     "end_time": "2018-05-07T08:53:18.905984Z",
     "start_time": "2018-05-07T08:53:18.844573Z"
    }
   },
   "outputs": [],
   "source": [
    "try:\n",
    "\n",
    "    variant_dict = variant_hdf5.get_variant_by_id(\"rs88888888\")\n",
    "\n",
    "    print(variant_dict)\n",
    "\n",
    "except KeyError as exception:\n",
    "\n",
    "    warn(\"(get_variant_by_id) KeyError: {}.\".format(exception))"
   ]
  },
  {
   "cell_type": "code",
   "execution_count": null,
   "metadata": {
    "ExecuteTime": {
     "end_time": "2018-05-07T08:53:18.970284Z",
     "start_time": "2018-05-07T08:53:18.911880Z"
    }
   },
   "outputs": [],
   "source": [
    "try:\n",
    "\n",
    "    variant_dict = variant_hdf5.get_variants_by_gene(\"KRAS\")\n",
    "\n",
    "    print(variant_dict)\n",
    "\n",
    "except KeyError as exception:\n",
    "\n",
    "    warn(\"(get_variants_by_gene) KeyError: {}.\".format(exception))"
   ]
  },
  {
   "cell_type": "code",
   "execution_count": null,
   "metadata": {
    "ExecuteTime": {
     "end_time": "2018-05-07T08:53:19.051008Z",
     "start_time": "2018-05-07T08:53:18.980550Z"
    }
   },
   "outputs": [],
   "source": [
    "try:\n",
    "\n",
    "    variant_dict = variant_hdf5.get_variants_by_gene(\"Kwat\")\n",
    "\n",
    "    print(variant_dict)\n",
    "\n",
    "except KeyError as exception:\n",
    "\n",
    "    warn(\"(get_variants_by_gene) KeyError: {}.\".format(exception))"
   ]
  },
  {
   "cell_type": "code",
   "execution_count": null,
   "metadata": {
    "ExecuteTime": {
     "end_time": "2018-05-07T08:53:19.158006Z",
     "start_time": "2018-05-07T08:53:19.057600Z"
    }
   },
   "outputs": [],
   "source": [
    "try:\n",
    "\n",
    "    variant_dict = variant_hdf5.get_variants_by_region(\"8\", 0, 80000)\n",
    "\n",
    "    print(variant_dict)\n",
    "\n",
    "except NoSuchNodeError as exception:\n",
    "\n",
    "    warn(\"(get_features_by_region) NoSuchNodeError: {}.\".format(exception))"
   ]
  },
  {
   "cell_type": "code",
   "execution_count": null,
   "metadata": {
    "ExecuteTime": {
     "end_time": "2018-05-07T08:53:19.254818Z",
     "start_time": "2018-05-07T08:53:19.176433Z"
    }
   },
   "outputs": [],
   "source": [
    "try:\n",
    "\n",
    "    variant_dict = variant_hdf5.get_variants_by_region(\"88888888\", 0, 80000)\n",
    "\n",
    "    print(variant_dict)\n",
    "\n",
    "except NoSuchNodeError as exception:\n",
    "\n",
    "    warn(\"(get_features_by_region) NoSuchNodeError: {}.\".format(exception))"
   ]
  },
  {
   "cell_type": "code",
   "execution_count": null,
   "metadata": {
    "ExecuteTime": {
     "end_time": "2018-05-07T08:53:19.385464Z",
     "start_time": "2018-05-07T08:53:19.261785Z"
    }
   },
   "outputs": [],
   "source": [
    "from variant.access_maf import make_maf_from_vcf\n",
    "\n",
    "make_maf_from_vcf(vcf_gz_file_path)"
   ]
  }
 ],
 "metadata": {
  "kernelspec": {
   "display_name": "Python 3",
   "language": "python",
   "name": "python3"
  },
  "language_info": {
   "codemirror_mode": {
    "name": "ipython",
    "version": 3
   },
   "file_extension": ".py",
   "mimetype": "text/x-python",
   "name": "python",
   "nbconvert_exporter": "python",
   "pygments_lexer": "ipython3",
   "version": "3.6.7"
  }
 },
 "nbformat": 4,
 "nbformat_minor": 2
}
