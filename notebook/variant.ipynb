{
 "cells": [
  {
   "cell_type": "code",
   "execution_count": null,
   "metadata": {},
   "outputs": [],
   "source": [
    "import ccal"
   ]
  },
  {
   "cell_type": "code",
   "execution_count": null,
   "metadata": {
    "ExecuteTime": {
     "end_time": "2018-05-07T08:50:24.489203Z",
     "start_time": "2018-05-07T08:50:24.459430Z"
    }
   },
   "outputs": [],
   "source": [
    "vcf_gz_file_path = \"test.vcf.gz\""
   ]
  },
  {
   "cell_type": "code",
   "execution_count": null,
   "metadata": {
    "ExecuteTime": {
     "end_time": "2018-05-07T08:53:18.290946Z",
     "start_time": "2018-05-07T08:51:19.470204Z"
    }
   },
   "outputs": [],
   "source": [
    "variant_hdf5 = ccal.VariantHDF5(vcf_gz_file_path)\n",
    "\n",
    "variant_hdf5"
   ]
  },
  {
   "cell_type": "code",
   "execution_count": null,
   "metadata": {
    "ExecuteTime": {
     "end_time": "2018-05-07T08:53:18.833435Z",
     "start_time": "2018-05-07T08:53:18.302280Z"
    }
   },
   "outputs": [],
   "source": [
    "variant_hdf5.get_variant_by_id(\"rs235\")"
   ]
  },
  {
   "cell_type": "code",
   "execution_count": null,
   "metadata": {
    "ExecuteTime": {
     "end_time": "2018-05-07T08:53:18.905984Z",
     "start_time": "2018-05-07T08:53:18.844573Z"
    }
   },
   "outputs": [],
   "source": [
    "try:\n",
    "\n",
    "    variant_hdf5.get_variant_by_id(\"rs88888888\")\n",
    "\n",
    "except KeyError as exception:\n",
    "\n",
    "    print(exception)"
   ]
  },
  {
   "cell_type": "code",
   "execution_count": null,
   "metadata": {
    "ExecuteTime": {
     "end_time": "2018-05-07T08:53:18.970284Z",
     "start_time": "2018-05-07T08:53:18.911880Z"
    }
   },
   "outputs": [],
   "source": [
    "print(variant_hdf5.get_variants_by_gene(\"KRAS\"))"
   ]
  },
  {
   "cell_type": "code",
   "execution_count": null,
   "metadata": {
    "ExecuteTime": {
     "end_time": "2018-05-07T08:53:19.051008Z",
     "start_time": "2018-05-07T08:53:18.980550Z"
    }
   },
   "outputs": [],
   "source": [
    "try:\n",
    "\n",
    "    variant_hdf5.get_variants_by_gene(\"Kwat\")\n",
    "\n",
    "except KeyError as exception:\n",
    "\n",
    "    print(exception)"
   ]
  },
  {
   "cell_type": "code",
   "execution_count": null,
   "metadata": {
    "ExecuteTime": {
     "end_time": "2018-05-07T08:53:19.158006Z",
     "start_time": "2018-05-07T08:53:19.057600Z"
    }
   },
   "outputs": [],
   "source": [
    "print(variant_hdf5.get_variants_by_region(\"8\", 0, 80000))"
   ]
  },
  {
   "cell_type": "code",
   "execution_count": null,
   "metadata": {},
   "outputs": [],
   "source": [
    "import tables"
   ]
  },
  {
   "cell_type": "code",
   "execution_count": null,
   "metadata": {
    "ExecuteTime": {
     "end_time": "2018-05-07T08:53:19.254818Z",
     "start_time": "2018-05-07T08:53:19.176433Z"
    }
   },
   "outputs": [],
   "source": [
    "try:\n",
    "\n",
    "    variant_hdf5.get_variants_by_region(\"88888888\", 0, 80000)\n",
    "\n",
    "except tables.NoSuchNodeError as exception:\n",
    "\n",
    "    print(exception)"
   ]
  }
 ],
 "metadata": {
  "kernelspec": {
   "display_name": "Python 3",
   "language": "python",
   "name": "python3"
  },
  "language_info": {
   "codemirror_mode": {
    "name": "ipython",
    "version": 3
   },
   "file_extension": ".py",
   "mimetype": "text/x-python",
   "name": "python",
   "nbconvert_exporter": "python",
   "pygments_lexer": "ipython3",
   "version": "3.6.7"
  }
 },
 "nbformat": 4,
 "nbformat_minor": 2
}
