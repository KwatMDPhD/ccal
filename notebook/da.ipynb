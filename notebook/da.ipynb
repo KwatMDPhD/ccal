{
 "cells": [
  {
   "cell_type": "code",
   "execution_count": 1,
   "id": "00d594ef-630f-4e79-87a0-8f1adf96399a",
   "metadata": {},
   "outputs": [],
   "source": [
    "%load_ext autoreload\n",
    "%autoreload 2"
   ]
  },
  {
   "cell_type": "code",
   "execution_count": 2,
   "id": "42c98d35-aefa-47f3-bc10-0f165a476ab6",
   "metadata": {},
   "outputs": [],
   "source": [
    "import kraft"
   ]
  },
  {
   "cell_type": "code",
   "execution_count": 5,
   "id": "138b4a49-9af2-4a66-87d8-bbde0a61701c",
   "metadata": {},
   "outputs": [],
   "source": [
    "import pandas as pd"
   ]
  },
  {
   "cell_type": "markdown",
   "id": "85e8d9e1-e8e1-42b1-adb9-f8459b6373a8",
   "metadata": {},
   "source": [
    "## map_to_column"
   ]
  },
  {
   "cell_type": "code",
   "execution_count": 16,
   "id": "4a019e84-7a7d-4418-86ca-caf45e853cee",
   "metadata": {},
   "outputs": [
    {
     "data": {
      "text/plain": [
       "{'Kw0': 'Ka0',\n",
       " 'Ay0': 'Ka0',\n",
       " 'Kw1': 'Ka1',\n",
       " 'Ay1': 'Ka1',\n",
       " 'Kw2': 'Ka2',\n",
       " 'Ay2': 'Ka2',\n",
       " 'Kw3': 'Ka3',\n",
       " 'Ay3': 'Ka3'}"
      ]
     },
     "execution_count": 16,
     "metadata": {},
     "output_type": "execute_result"
    }
   ],
   "source": [
    "n_ro = 4\n",
    "\n",
    "da = pd.DataFrame({\"Dad\": [\"Kw{}\".format(ie) for ie in range(n_ro)],\n",
    "                   \"Mo\": [\"Ka{}\".format(ie) for ie in range(n_ro)],\n",
    "                   \"Ch1\": [\"Ay{}\".format(ie) for ie in range(n_ro)],\n",
    "                  })\n",
    "\n",
    "kraft.da.map_to_column(da, \"Mo\")"
   ]
  },
  {
   "cell_type": "markdown",
   "id": "854e75b0-10b5-4c1e-9feb-6c622019a654",
   "metadata": {},
   "source": [
    "## error_axis"
   ]
  },
  {
   "cell_type": "code",
   "execution_count": 18,
   "id": "22f3e803-402a-47fd-8e23-1e01578503ed",
   "metadata": {},
   "outputs": [],
   "source": [
    "import numpy as np"
   ]
  },
  {
   "cell_type": "code",
   "execution_count": 33,
   "id": "4f5d3703-345e-4474-9ac2-ea4c04ba9592",
   "metadata": {},
   "outputs": [
    {
     "name": "stdout",
     "output_type": "stream",
     "text": [
      "================================================================================\n",
      "[1, 2]\n",
      "================================================================================\n",
      "[1, None]\n",
      "Has Na.\n",
      "================================================================================\n",
      "[1, nan]\n",
      "Has Na.\n",
      "================================================================================\n",
      "['a', 'b']\n",
      "================================================================================\n",
      "['a', None]\n",
      "Has Na.\n",
      "================================================================================\n",
      "['a', nan]\n",
      "Has Na.\n",
      "================================================================================\n",
      "['a', 'b', 'b']\n",
      "Duplicated.\n",
      "================================================================================\n",
      "['a', '', '']\n",
      "Duplicated.\n"
     ]
    }
   ],
   "source": [
    "for la_ in [\n",
    "    [1, 2],\n",
    "    [1, None],\n",
    "    [1, np.nan],\n",
    "    [\"a\", \"b\"],\n",
    "    [\"a\", None],\n",
    "    [\"a\", np.nan],\n",
    "    [\"a\", \"b\", \"b\"],\n",
    "    [\"a\", \"\", \"\"],\n",
    "]:\n",
    "\n",
    "    print(\"=\" * 80)\n",
    "    \n",
    "    print(la_)\n",
    "\n",
    "    try:\n",
    "\n",
    "        kraft.da.error_axis(pd.DataFrame(None, la_))\n",
    "\n",
    "    except AssertionError as er:\n",
    "\n",
    "        print(er)"
   ]
  },
  {
   "cell_type": "markdown",
   "id": "231a0f1f-f0c5-4430-b55e-e5eb5063a246",
   "metadata": {},
   "source": [
    "## count"
   ]
  },
  {
   "cell_type": "code",
   "execution_count": 51,
   "id": "99d1eb22-f8e9-433a-8502-fb0ed6e02722",
   "metadata": {},
   "outputs": [
    {
     "name": "stdout",
     "output_type": "stream",
     "text": [
      "   0  1\n",
      "0  C  C\n",
      "1  B  A\n",
      "2  B  A\n",
      "3  C  B\n",
      "4  B  A\n",
      "5  C  C\n",
      "6  C  C\n",
      "7  C  A\n",
      "--------------------------------------------------------------------------------\n",
      "0\n",
      "C    5\n",
      "B    3\n",
      "Name: 0, dtype: int64\n",
      "--------------------------------------------------------------------------------\n",
      "--------------------------------------------------------------------------------\n",
      "1\n",
      "A    4\n",
      "C    3\n",
      "B    1\n",
      "Name: 1, dtype: int64\n",
      "--------------------------------------------------------------------------------\n"
     ]
    }
   ],
   "source": [
    "da = pd.DataFrame(np.random.choice(list(\"ABC\"), [8, 2]))\n",
    "\n",
    "print(da)\n",
    "\n",
    "kraft.da.count(da)"
   ]
  }
 ],
 "metadata": {
  "kernelspec": {
   "display_name": "Python 3",
   "language": "python",
   "name": "python3"
  },
  "language_info": {
   "codemirror_mode": {
    "name": "ipython",
    "version": 3
   },
   "file_extension": ".py",
   "mimetype": "text/x-python",
   "name": "python",
   "nbconvert_exporter": "python",
   "pygments_lexer": "ipython3",
   "version": "3.8.9"
  }
 },
 "nbformat": 4,
 "nbformat_minor": 5
}
