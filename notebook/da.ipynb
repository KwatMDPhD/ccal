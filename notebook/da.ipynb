{
 "cells": [
  {
   "cell_type": "code",
   "execution_count": null,
   "id": "00d594ef-630f-4e79-87a0-8f1adf96399a",
   "metadata": {},
   "outputs": [],
   "source": [
    "%load_ext autoreload\n",
    "%autoreload 2"
   ]
  },
  {
   "cell_type": "code",
   "execution_count": null,
   "id": "42c98d35-aefa-47f3-bc10-0f165a476ab6",
   "metadata": {},
   "outputs": [],
   "source": [
    "import kraft"
   ]
  },
  {
   "cell_type": "markdown",
   "id": "0ae3ee4c-fd8b-4c41-98ef-42e72e99fe2e",
   "metadata": {},
   "source": [
    "## summarize"
   ]
  },
  {
   "cell_type": "code",
   "execution_count": null,
   "id": "9a8f5c08-a882-4447-801b-e3a84e34a3bc",
   "metadata": {},
   "outputs": [],
   "source": [
    "import numpy as np\n",
    "import pandas as pd"
   ]
  },
  {
   "cell_type": "code",
   "execution_count": null,
   "id": "24708a2e-6599-4b06-af5b-88e324763806",
   "metadata": {},
   "outputs": [],
   "source": [
    "for si in [[3, 3], [1000, 1000]]:\n",
    "\n",
    "    da = pd.DataFrame(\n",
    "        np.random.normal(size=si),\n",
    "        index=(\"Ka{}\".format(ie) for ie in range(si[0])),\n",
    "        columns=(\"Kw{}\".format(ie) for ie in range(si[1])),\n",
    "    )\n",
    "\n",
    "    da.index.name = \"Dimension 1\"\n",
    "\n",
    "    da.columns.name = \"Dimension 2\"\n",
    "\n",
    "    da.iloc[::2, ::4] = np.nan\n",
    "\n",
    "    kraft.da.summarize(da)"
   ]
  },
  {
   "cell_type": "markdown",
   "id": "40782965-6971-4c9b-ae02-dc9c3dc674b2",
   "metadata": {},
   "source": [
    "## separate_type"
   ]
  },
  {
   "cell_type": "code",
   "execution_count": null,
   "id": "000f1117-fad7-46af-aedd-43705cccd6c7",
   "metadata": {},
   "outputs": [],
   "source": [
    "n_row_per_type = 2\n",
    "\n",
    "n_column = 8\n",
    "\n",
    "continuous = pd.DataFrame(\n",
    "    data=np.random.normal(size=(n_row_per_type, n_column)),\n",
    "    index=pd.Index(\n",
    "        data=(\"Continuous {}\".format(i) for i in range(n_row_per_type)),\n",
    "        name=\"Continuous\",\n",
    "    ),\n",
    ")\n",
    "\n",
    "continuous.iloc[0, 0] = np.nan\n",
    "\n",
    "categorical = pd.DataFrame(\n",
    "    data=np.random.randint(3, size=(n_row_per_type, n_column)),\n",
    "    index=pd.Index(\n",
    "        data=(\"Categorical {}\".format(i) for i in range(n_row_per_type)),\n",
    "        name=\"Categorical\",\n",
    "    ),\n",
    ")\n",
    "\n",
    "categorical.iloc[0, 1] = np.nan\n",
    "\n",
    "binary = pd.DataFrame(\n",
    "    data=np.random.randint(2, size=(n_row_per_type, n_column)),\n",
    "    index=pd.Index(\n",
    "        data=(\"Binary {}\".format(i) for i in range(n_row_per_type)), name=\"Binary\"\n",
    "    ),\n",
    ")\n",
    "\n",
    "binary.iloc[0, 2] = np.nan\n",
    "\n",
    "dataframe = pd.concat((continuous, categorical, binary))\n",
    "\n",
    "dataframe.index.name = \"Index\"\n",
    "\n",
    "dataframe"
   ]
  },
  {
   "cell_type": "code",
   "execution_count": null,
   "id": "8f515263-a1c0-4ff8-8a1d-1e7be10ccd2a",
   "metadata": {},
   "outputs": [],
   "source": [
    "(continuous, binary) = kraft.pd.separate_type(dataframe)"
   ]
  },
  {
   "cell_type": "code",
   "execution_count": null,
   "id": "f831a6d4-796c-47a7-82b2-77e20fe990d4",
   "metadata": {},
   "outputs": [],
   "source": [
    "continuous"
   ]
  },
  {
   "cell_type": "code",
   "execution_count": null,
   "id": "08951230-14e3-4fb8-8651-3157592dfaad",
   "metadata": {},
   "outputs": [],
   "source": [
    "binary"
   ]
  }
 ],
 "metadata": {
  "kernelspec": {
   "display_name": "Python 3",
   "language": "python",
   "name": "python3"
  },
  "language_info": {
   "codemirror_mode": {
    "name": "ipython",
    "version": 3
   },
   "file_extension": ".py",
   "mimetype": "text/x-python",
   "name": "python",
   "nbconvert_exporter": "python",
   "pygments_lexer": "ipython3",
   "version": "3.8.9"
  }
 },
 "nbformat": 4,
 "nbformat_minor": 5
}
