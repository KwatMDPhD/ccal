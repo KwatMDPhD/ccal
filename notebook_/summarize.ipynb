{
 "cells": [
  {
   "cell_type": "code",
   "execution_count": null,
   "metadata": {},
   "outputs": [],
   "source": [
    "%load_ext autoreload\n",
    "%autoreload 2"
   ]
  },
  {
   "cell_type": "code",
   "execution_count": null,
   "metadata": {},
   "outputs": [],
   "source": [
    "import numpy as np\n",
    "import pandas as pd\n",
    "\n",
    "import kraft"
   ]
  },
  {
   "cell_type": "code",
   "execution_count": null,
   "metadata": {},
   "outputs": [],
   "source": [
    "for size in (\n",
    "    (10, 10),\n",
    "    (100, 100),\n",
    "    (1000, 1000),\n",
    "):\n",
    "\n",
    "    matrix = np.random.normal(size=size)\n",
    "\n",
    "    matrix[::8, ::8] = np.nan\n",
    "\n",
    "    dataframe = pd.DataFrame(\n",
    "        matrix,\n",
    "        index=pd.Index(\n",
    "            (\"Index{}\".format(i) for i in range(matrix.shape[0])), name=\"Index\",\n",
    "        ),\n",
    "        columns=pd.Index(\n",
    "            (\"Column{}\".format(i) for i in range(matrix.shape[1])), name=\"Column\",\n",
    "        ),\n",
    "    )\n",
    "\n",
    "    kraft.summarize(dataframe)"
   ]
  }
 ],
 "metadata": {
  "kernelspec": {
   "display_name": "Python 3",
   "language": "python",
   "name": "python3"
  },
  "language_info": {
   "codemirror_mode": {
    "name": "ipython",
    "version": 3
   },
   "file_extension": ".py",
   "mimetype": "text/x-python",
   "name": "python",
   "nbconvert_exporter": "python",
   "pygments_lexer": "ipython3",
   "version": "3.7.6"
  }
 },
 "nbformat": 4,
 "nbformat_minor": 4
}
