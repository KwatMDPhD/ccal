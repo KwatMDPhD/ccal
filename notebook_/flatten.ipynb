{
 "cells": [
  {
   "cell_type": "code",
   "execution_count": null,
   "metadata": {},
   "outputs": [],
   "source": [
    "%load_ext autoreload\n",
    "%autoreload 2"
   ]
  },
  {
   "cell_type": "code",
   "execution_count": null,
   "metadata": {},
   "outputs": [],
   "source": [
    "import kraft"
   ]
  },
  {
   "cell_type": "code",
   "execution_count": null,
   "metadata": {},
   "outputs": [],
   "source": [
    "iterable = (\n",
    "    (),\n",
    "    [],\n",
    "    set(),\n",
    "    (0,),\n",
    "    [(0, 1), [{2}, 3, 4],],\n",
    "    {(((5,), 6,), 7, ((8,), 9),)},\n",
    "    (),\n",
    "    [],\n",
    "    set(),\n",
    "    ((), [], set(),),\n",
    ")\n",
    "\n",
    "kraft.flatten(iterable)"
   ]
  }
 ],
 "metadata": {
  "kernelspec": {
   "display_name": "Python 3",
   "language": "python",
   "name": "python3"
  },
  "language_info": {
   "codemirror_mode": {
    "name": "ipython",
    "version": 3
   },
   "file_extension": ".py",
   "mimetype": "text/x-python",
   "name": "python",
   "nbconvert_exporter": "python",
   "pygments_lexer": "ipython3",
   "version": "3.7.6"
  }
 },
 "nbformat": 4,
 "nbformat_minor": 4
}
